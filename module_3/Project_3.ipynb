{
  "cells": [
    {
      "cell_type": "markdown",
      "source": [
        "# Restaurant Rating prediction project"
      ],
      "metadata": {
        "id": "RfLn3rjBD2YM"
      }
    },
    {
      "cell_type": "markdown",
      "metadata": {
        "id": "WA89eQe8Dm7T"
      },
      "source": [
        "## Import libraries and data"
      ]
    },
    {
      "cell_type": "code",
      "execution_count": 3,
      "metadata": {
        "id": "6l7YVJmYDm7V"
      },
      "outputs": [],
      "source": [
        "import matplotlib.pyplot as plt\n",
        "import seaborn as sns\n",
        "import statistics\n",
        "import re\n",
        "import datetime\n",
        "from datetime import datetime, timedelta\n",
        "import pandas as pd\n",
        "import numpy as np\n",
        "import warnings\n",
        "warnings.simplefilter('ignore')\n",
        "import collections\n",
        "from collections import Counter\n",
        "from sklearn.preprocessing import MinMaxScaler"
      ]
    },
    {
      "cell_type": "code",
      "execution_count": 4,
      "metadata": {
        "id": "a5vKdFBiDm7W",
        "outputId": "489a3dc5-6a78-49b3-f95c-8da81c424130",
        "colab": {
          "base_uri": "https://localhost:8080/",
          "height": 354
        }
      },
      "outputs": [
        {
          "output_type": "execute_result",
          "data": {
            "text/plain": [
              "  Restaurant_id       City                                      Cuisine Style  \\\n",
              "0       id_5569      Paris            ['European', 'French', 'International']   \n",
              "1       id_1535  Stockholm                                                NaN   \n",
              "2        id_352     London  ['Japanese', 'Sushi', 'Asian', 'Grill', 'Veget...   \n",
              "3       id_3456     Berlin                                                NaN   \n",
              "4        id_615     Munich  ['German', 'Central European', 'Vegetarian Fri...   \n",
              "\n",
              "   Ranking  Rating Price Range  Number of Reviews  \\\n",
              "0   5570.0     3.5    $$ - $$$              194.0   \n",
              "1   1537.0     4.0         NaN               10.0   \n",
              "2    353.0     4.5        $$$$              688.0   \n",
              "3   3458.0     5.0         NaN                3.0   \n",
              "4    621.0     4.0    $$ - $$$               84.0   \n",
              "\n",
              "                                             Reviews  \\\n",
              "0  [['Good food at your doorstep', 'A good hotel ...   \n",
              "1  [['Unique cuisine', 'Delicious Nepalese food']...   \n",
              "2  [['Catch up with friends', 'Not exceptional'],...   \n",
              "3                                           [[], []]   \n",
              "4  [['Best place to try a Bavarian food', 'Nice b...   \n",
              "\n",
              "                                              URL_TA     ID_TA  \n",
              "0  /Restaurant_Review-g187147-d1912643-Reviews-R_...  d1912643  \n",
              "1  /Restaurant_Review-g189852-d7992032-Reviews-Bu...  d7992032  \n",
              "2  /Restaurant_Review-g186338-d8632781-Reviews-RO...  d8632781  \n",
              "3  /Restaurant_Review-g187323-d1358776-Reviews-Es...  d1358776  \n",
              "4  /Restaurant_Review-g187309-d6864963-Reviews-Au...  d6864963  "
            ],
            "text/html": [
              "\n",
              "  <div id=\"df-8bf24b59-72a7-4610-ba9c-466145645c98\">\n",
              "    <div class=\"colab-df-container\">\n",
              "      <div>\n",
              "<style scoped>\n",
              "    .dataframe tbody tr th:only-of-type {\n",
              "        vertical-align: middle;\n",
              "    }\n",
              "\n",
              "    .dataframe tbody tr th {\n",
              "        vertical-align: top;\n",
              "    }\n",
              "\n",
              "    .dataframe thead th {\n",
              "        text-align: right;\n",
              "    }\n",
              "</style>\n",
              "<table border=\"1\" class=\"dataframe\">\n",
              "  <thead>\n",
              "    <tr style=\"text-align: right;\">\n",
              "      <th></th>\n",
              "      <th>Restaurant_id</th>\n",
              "      <th>City</th>\n",
              "      <th>Cuisine Style</th>\n",
              "      <th>Ranking</th>\n",
              "      <th>Rating</th>\n",
              "      <th>Price Range</th>\n",
              "      <th>Number of Reviews</th>\n",
              "      <th>Reviews</th>\n",
              "      <th>URL_TA</th>\n",
              "      <th>ID_TA</th>\n",
              "    </tr>\n",
              "  </thead>\n",
              "  <tbody>\n",
              "    <tr>\n",
              "      <th>0</th>\n",
              "      <td>id_5569</td>\n",
              "      <td>Paris</td>\n",
              "      <td>['European', 'French', 'International']</td>\n",
              "      <td>5570.0</td>\n",
              "      <td>3.5</td>\n",
              "      <td>$$ - $$$</td>\n",
              "      <td>194.0</td>\n",
              "      <td>[['Good food at your doorstep', 'A good hotel ...</td>\n",
              "      <td>/Restaurant_Review-g187147-d1912643-Reviews-R_...</td>\n",
              "      <td>d1912643</td>\n",
              "    </tr>\n",
              "    <tr>\n",
              "      <th>1</th>\n",
              "      <td>id_1535</td>\n",
              "      <td>Stockholm</td>\n",
              "      <td>NaN</td>\n",
              "      <td>1537.0</td>\n",
              "      <td>4.0</td>\n",
              "      <td>NaN</td>\n",
              "      <td>10.0</td>\n",
              "      <td>[['Unique cuisine', 'Delicious Nepalese food']...</td>\n",
              "      <td>/Restaurant_Review-g189852-d7992032-Reviews-Bu...</td>\n",
              "      <td>d7992032</td>\n",
              "    </tr>\n",
              "    <tr>\n",
              "      <th>2</th>\n",
              "      <td>id_352</td>\n",
              "      <td>London</td>\n",
              "      <td>['Japanese', 'Sushi', 'Asian', 'Grill', 'Veget...</td>\n",
              "      <td>353.0</td>\n",
              "      <td>4.5</td>\n",
              "      <td>$$$$</td>\n",
              "      <td>688.0</td>\n",
              "      <td>[['Catch up with friends', 'Not exceptional'],...</td>\n",
              "      <td>/Restaurant_Review-g186338-d8632781-Reviews-RO...</td>\n",
              "      <td>d8632781</td>\n",
              "    </tr>\n",
              "    <tr>\n",
              "      <th>3</th>\n",
              "      <td>id_3456</td>\n",
              "      <td>Berlin</td>\n",
              "      <td>NaN</td>\n",
              "      <td>3458.0</td>\n",
              "      <td>5.0</td>\n",
              "      <td>NaN</td>\n",
              "      <td>3.0</td>\n",
              "      <td>[[], []]</td>\n",
              "      <td>/Restaurant_Review-g187323-d1358776-Reviews-Es...</td>\n",
              "      <td>d1358776</td>\n",
              "    </tr>\n",
              "    <tr>\n",
              "      <th>4</th>\n",
              "      <td>id_615</td>\n",
              "      <td>Munich</td>\n",
              "      <td>['German', 'Central European', 'Vegetarian Fri...</td>\n",
              "      <td>621.0</td>\n",
              "      <td>4.0</td>\n",
              "      <td>$$ - $$$</td>\n",
              "      <td>84.0</td>\n",
              "      <td>[['Best place to try a Bavarian food', 'Nice b...</td>\n",
              "      <td>/Restaurant_Review-g187309-d6864963-Reviews-Au...</td>\n",
              "      <td>d6864963</td>\n",
              "    </tr>\n",
              "  </tbody>\n",
              "</table>\n",
              "</div>\n",
              "      <button class=\"colab-df-convert\" onclick=\"convertToInteractive('df-8bf24b59-72a7-4610-ba9c-466145645c98')\"\n",
              "              title=\"Convert this dataframe to an interactive table.\"\n",
              "              style=\"display:none;\">\n",
              "        \n",
              "  <svg xmlns=\"http://www.w3.org/2000/svg\" height=\"24px\"viewBox=\"0 0 24 24\"\n",
              "       width=\"24px\">\n",
              "    <path d=\"M0 0h24v24H0V0z\" fill=\"none\"/>\n",
              "    <path d=\"M18.56 5.44l.94 2.06.94-2.06 2.06-.94-2.06-.94-.94-2.06-.94 2.06-2.06.94zm-11 1L8.5 8.5l.94-2.06 2.06-.94-2.06-.94L8.5 2.5l-.94 2.06-2.06.94zm10 10l.94 2.06.94-2.06 2.06-.94-2.06-.94-.94-2.06-.94 2.06-2.06.94z\"/><path d=\"M17.41 7.96l-1.37-1.37c-.4-.4-.92-.59-1.43-.59-.52 0-1.04.2-1.43.59L10.3 9.45l-7.72 7.72c-.78.78-.78 2.05 0 2.83L4 21.41c.39.39.9.59 1.41.59.51 0 1.02-.2 1.41-.59l7.78-7.78 2.81-2.81c.8-.78.8-2.07 0-2.86zM5.41 20L4 18.59l7.72-7.72 1.47 1.35L5.41 20z\"/>\n",
              "  </svg>\n",
              "      </button>\n",
              "      \n",
              "  <style>\n",
              "    .colab-df-container {\n",
              "      display:flex;\n",
              "      flex-wrap:wrap;\n",
              "      gap: 12px;\n",
              "    }\n",
              "\n",
              "    .colab-df-convert {\n",
              "      background-color: #E8F0FE;\n",
              "      border: none;\n",
              "      border-radius: 50%;\n",
              "      cursor: pointer;\n",
              "      display: none;\n",
              "      fill: #1967D2;\n",
              "      height: 32px;\n",
              "      padding: 0 0 0 0;\n",
              "      width: 32px;\n",
              "    }\n",
              "\n",
              "    .colab-df-convert:hover {\n",
              "      background-color: #E2EBFA;\n",
              "      box-shadow: 0px 1px 2px rgba(60, 64, 67, 0.3), 0px 1px 3px 1px rgba(60, 64, 67, 0.15);\n",
              "      fill: #174EA6;\n",
              "    }\n",
              "\n",
              "    [theme=dark] .colab-df-convert {\n",
              "      background-color: #3B4455;\n",
              "      fill: #D2E3FC;\n",
              "    }\n",
              "\n",
              "    [theme=dark] .colab-df-convert:hover {\n",
              "      background-color: #434B5C;\n",
              "      box-shadow: 0px 1px 3px 1px rgba(0, 0, 0, 0.15);\n",
              "      filter: drop-shadow(0px 1px 2px rgba(0, 0, 0, 0.3));\n",
              "      fill: #FFFFFF;\n",
              "    }\n",
              "  </style>\n",
              "\n",
              "      <script>\n",
              "        const buttonEl =\n",
              "          document.querySelector('#df-8bf24b59-72a7-4610-ba9c-466145645c98 button.colab-df-convert');\n",
              "        buttonEl.style.display =\n",
              "          google.colab.kernel.accessAllowed ? 'block' : 'none';\n",
              "\n",
              "        async function convertToInteractive(key) {\n",
              "          const element = document.querySelector('#df-8bf24b59-72a7-4610-ba9c-466145645c98');\n",
              "          const dataTable =\n",
              "            await google.colab.kernel.invokeFunction('convertToInteractive',\n",
              "                                                     [key], {});\n",
              "          if (!dataTable) return;\n",
              "\n",
              "          const docLinkHtml = 'Like what you see? Visit the ' +\n",
              "            '<a target=\"_blank\" href=https://colab.research.google.com/notebooks/data_table.ipynb>data table notebook</a>'\n",
              "            + ' to learn more about interactive tables.';\n",
              "          element.innerHTML = '';\n",
              "          dataTable['output_type'] = 'display_data';\n",
              "          await google.colab.output.renderOutput(dataTable, element);\n",
              "          const docLink = document.createElement('div');\n",
              "          docLink.innerHTML = docLinkHtml;\n",
              "          element.appendChild(docLink);\n",
              "        }\n",
              "      </script>\n",
              "    </div>\n",
              "  </div>\n",
              "  "
            ]
          },
          "metadata": {},
          "execution_count": 4
        }
      ],
      "source": [
        "#loading data\n",
        "df = pd.read_csv('main_task.xls')\n",
        "df.head(5)"
      ]
    },
    {
      "cell_type": "code",
      "execution_count": 5,
      "metadata": {
        "id": "BDzaE3GvDm7W"
      },
      "outputs": [],
      "source": [
        "df.columns = ['Restaurant_id', 'City', 'Cuisine_style', 'Ranking', 'Rating', \n",
        "              'Price_range', 'Number_of_reviews', 'Reviews', 'URL_TA', 'ID_TA']"
      ]
    },
    {
      "cell_type": "code",
      "execution_count": 6,
      "metadata": {
        "id": "gUPB2CLtDm7X",
        "outputId": "9361d2e9-5995-46e4-9134-f2c02b4dbea2",
        "colab": {
          "base_uri": "https://localhost:8080/"
        }
      },
      "outputs": [
        {
          "output_type": "stream",
          "name": "stdout",
          "text": [
            "<class 'pandas.core.frame.DataFrame'>\n",
            "RangeIndex: 40000 entries, 0 to 39999\n",
            "Data columns (total 10 columns):\n",
            " #   Column             Non-Null Count  Dtype  \n",
            "---  ------             --------------  -----  \n",
            " 0   Restaurant_id      40000 non-null  object \n",
            " 1   City               40000 non-null  object \n",
            " 2   Cuisine_style      30717 non-null  object \n",
            " 3   Ranking            40000 non-null  float64\n",
            " 4   Rating             40000 non-null  float64\n",
            " 5   Price_range        26114 non-null  object \n",
            " 6   Number_of_reviews  37457 non-null  float64\n",
            " 7   Reviews            40000 non-null  object \n",
            " 8   URL_TA             40000 non-null  object \n",
            " 9   ID_TA              40000 non-null  object \n",
            "dtypes: float64(3), object(7)\n",
            "memory usage: 3.1+ MB\n"
          ]
        }
      ],
      "source": [
        "df.info()"
      ]
    },
    {
      "cell_type": "markdown",
      "source": [
        "## Exploration and Cleaning"
      ],
      "metadata": {
        "id": "abFKyfSEECiF"
      }
    },
    {
      "cell_type": "markdown",
      "metadata": {
        "id": "SjjREy-pDm7X"
      },
      "source": [
        "# City"
      ]
    },
    {
      "cell_type": "code",
      "execution_count": null,
      "metadata": {
        "id": "K9uhBqj0Dm7X",
        "outputId": "a1ea6ce7-7d1b-4a11-c829-3c77999bd9a6"
      },
      "outputs": [
        {
          "data": {
            "text/plain": [
              "31"
            ]
          },
          "execution_count": 4378,
          "metadata": {},
          "output_type": "execute_result"
        }
      ],
      "source": [
        "# number of cities represented in the dataset\n",
        "df['City'].value_counts().count()"
      ]
    },
    {
      "cell_type": "code",
      "execution_count": null,
      "metadata": {
        "id": "mobLEHelDm7X",
        "outputId": "cc743e3c-7394-4769-d8cd-4c62b6f5fc7a"
      },
      "outputs": [
        {
          "data": {
            "text/plain": [
              "<AxesSubplot:xlabel='City', ylabel='Rating'>"
            ]
          },
          "execution_count": 4379,
          "metadata": {},
          "output_type": "execute_result"
        },
        {
          "data": {
            "image/png": "[encoded data removed]",
            "text/plain": [
              "<Figure size 1800x720 with 1 Axes>"
            ]
          },
          "metadata": {
            "needs_background": "light"
          },
          "output_type": "display_data"
        }
      ],
      "source": [
        "fig = plt.figure(figsize=(25, 10))\n",
        "\n",
        "sns.boxplot(x=df['City'], y=df['Rating'])"
      ]
    },
    {
      "cell_type": "code",
      "execution_count": null,
      "metadata": {
        "id": "dNWERTnwDm7Y",
        "outputId": "c913ba88-172e-4c2a-b6cf-a94ce3f632a4"
      },
      "outputs": [
        {
          "data": {
            "text/plain": [
              "<AxesSubplot:>"
            ]
          },
          "execution_count": 4380,
          "metadata": {},
          "output_type": "execute_result"
        },
        {
          "data": {
            "image/png": "[encoded data removed]",
            "text/plain": [
              "<Figure size 360x360 with 1 Axes>"
            ]
          },
          "metadata": {
            "needs_background": "light"
          },
          "output_type": "display_data"
        }
      ],
      "source": [
        "# Cities distribution\n",
        "df['City'].value_counts(ascending=True).plot(kind='barh', figsize=(5, 5))"
      ]
    },
    {
      "cell_type": "code",
      "execution_count": null,
      "metadata": {
        "id": "LLTKjyqEDm7Y"
      },
      "outputs": [],
      "source": [
        "df = pd.get_dummies(df, columns=['City'])"
      ]
    },
    {
      "cell_type": "markdown",
      "metadata": {
        "id": "-f1sPmTmDm7Y"
      },
      "source": [
        "# Cuisine_style"
      ]
    },
    {
      "cell_type": "code",
      "execution_count": null,
      "metadata": {
        "id": "bNS6MOzrDm7Y",
        "outputId": "3696e9ed-dd99-4fb1-a6f9-5b78e9c142a0"
      },
      "outputs": [
        {
          "data": {
            "text/plain": [
              "125"
            ]
          },
          "execution_count": 4382,
          "metadata": {},
          "output_type": "execute_result"
        }
      ],
      "source": [
        "# let's find unique values of cuisines \n",
        "def to_list(x):\n",
        "    c_list = x.replace('[', '').replace(']', '').replace(\n",
        "        \"'\", '').replace(', ', ',').split(',')\n",
        "    return c_list\n",
        "\n",
        "\n",
        "list_of_lists = df[~df.Cuisine_style.isna()]['Cuisine_style'].apply(to_list)\n",
        "cuisine_list = []\n",
        "for i in list_of_lists:\n",
        "    cuisine_list.extend(i)\n",
        "cuisine_list_fin = set(cuisine_list)  # dropped duplicates\n",
        "len(cuisine_list_fin)"
      ]
    },
    {
      "cell_type": "code",
      "execution_count": null,
      "metadata": {
        "id": "smOX6Bq4Dm7Z",
        "outputId": "138d4649-e78f-4e8b-fa50-db45a2f34b32"
      },
      "outputs": [
        {
          "name": "stdout",
          "output_type": "stream",
          "text": [
            "[('Vegetarian Friendly', 11189), ('European', 10060), ('Mediterranean', 6277), ('Italian', 5964), ('Vegan Options', 4486), ('Gluten Free Options', 4113), ('Bar', 3297), ('French', 3190), ('Asian', 3011), ('Pizza', 2849)]\n"
          ]
        }
      ],
      "source": [
        "# Let's find the 10 most popular cuisines that are represented in the largest number of restaurants\n",
        "import collections\n",
        "from collections import Counter\n",
        "Dict = Counter(cuisine_list)\n",
        "print(Dict.most_common(10))"
      ]
    },
    {
      "cell_type": "code",
      "execution_count": null,
      "metadata": {
        "id": "H9ohYCLIDm7Z"
      },
      "outputs": [],
      "source": [
        "# generating a new feature based on the number of cuisines in each restaurant:\n",
        "\n",
        "def count_cuis(c_list):\n",
        "    count = 0\n",
        "    for row in c_list:\n",
        "        if row != 'none':\n",
        "            count += 1\n",
        "        else:\n",
        "            count = 1\n",
        "    return count\n",
        "\n",
        "\n",
        "df['Cuisine_style'] = df['Cuisine_style'].fillna('Vegetarian Friendly')#filling blanks with the most popular cuisine\n",
        "df['Cuisine_style'] = df['Cuisine_style'].apply(to_list)\n",
        "df['cuisine_count'] = df['Cuisine_style'].apply(count_cuis)"
      ]
    },
    {
      "cell_type": "code",
      "execution_count": null,
      "metadata": {
        "id": "0oFQwfWQDm7Z",
        "outputId": "394980f4-c45e-45f7-b1ca-e1d3f866c252"
      },
      "outputs": [
        {
          "data": {
            "text/plain": [
              "<AxesSubplot:>"
            ]
          },
          "execution_count": 4385,
          "metadata": {},
          "output_type": "execute_result"
        },
        {
          "data": {
            "image/png": "[encoded data removed]",
            "text/plain": [
              "<Figure size 1296x432 with 1 Axes>"
            ]
          },
          "metadata": {
            "needs_background": "light"
          },
          "output_type": "display_data"
        }
      ],
      "source": [
        "# checking the most popular cuisines\n",
        "plt.figure(figsize=(18, 6))\n",
        "df.explode('Cuisine_style')['Cuisine_style'].value_counts(ascending=False).plot(kind='bar')"
      ]
    },
    {
      "cell_type": "markdown",
      "metadata": {
        "id": "u4WtuVYkDm7Z"
      },
      "source": [
        "Let's take 10 most popular cuisines and define them in the dataset as 1, all the rest - 0"
      ]
    },
    {
      "cell_type": "code",
      "execution_count": null,
      "metadata": {
        "id": "84X18wk-Dm7Z"
      },
      "outputs": [],
      "source": [
        "pop_cuisines = ['Vegetarian Friendly', 'European', 'Mediterranean', 'Italian', 'Vegan Options', 'Gluten Free Options',\n",
        "                'Bar', 'French', 'Asian', 'Pizza']\n",
        "\n",
        "\n",
        "def count_cuisines(line):\n",
        "    for x in line:\n",
        "        if x in pop_cuisines:\n",
        "            return 1\n",
        "        else:\n",
        "            return 0\n",
        "\n",
        "\n",
        "df['Cuisine_style'] = df['Cuisine_style'].apply(count_cuisines)"
      ]
    },
    {
      "cell_type": "markdown",
      "metadata": {
        "id": "4sseO-u4Dm7a"
      },
      "source": [
        "# Reviews"
      ]
    },
    {
      "cell_type": "code",
      "execution_count": 7,
      "metadata": {
        "id": "NOmh5q3bDm7a",
        "outputId": "11dc8ea5-6134-441d-e4a3-71a33ba455b7",
        "colab": {
          "base_uri": "https://localhost:8080/"
        }
      },
      "outputs": [
        {
          "output_type": "execute_result",
          "data": {
            "text/plain": [
              "0    [12/31/2017, 11/20/2017]\n",
              "1    [07/06/2017, 06/19/2016]\n",
              "2    [01/08/2018, 01/06/2018]\n",
              "3                          []\n",
              "4    [11/18/2017, 02/19/2017]\n",
              "Name: reviews_date, dtype: object"
            ]
          },
          "metadata": {},
          "execution_count": 7
        }
      ],
      "source": [
        "# set a pattern for date search\n",
        "pattern = re.compile('\\d{2}\\/\\d{2}\\/\\d{4}')\n",
        "# Find all values that match the pattern\n",
        "df['reviews_date'] = df['Reviews'].apply(\n",
        "    lambda x: x == 'no_date' if x == [] else pattern.findall(x))\n",
        "df['reviews_date'].head(5)"
      ]
    },
    {
      "cell_type": "code",
      "execution_count": 8,
      "metadata": {
        "id": "HO-qovfRDm7a"
      },
      "outputs": [],
      "source": [
        "# Generate a new feature 'the year of the last review'\n",
        "len_rev = len(df['reviews_date'])\n",
        "years = []\n",
        "for i in range(0, len_rev):\n",
        "    one_list = df['reviews_date'][i]\n",
        "    if len(one_list) == 2:\n",
        "        date1 = pd.to_datetime(one_list[0], format='%m/%d/%Y')\n",
        "        year = date1.year\n",
        "    else:\n",
        "        year = 0  # gaps will be replaced by 0\n",
        "    years.append(year)\n",
        "\n",
        "df['year_of_last_review'] = years"
      ]
    },
    {
      "cell_type": "code",
      "execution_count": 9,
      "metadata": {
        "id": "CIOXFh8bDm7a",
        "outputId": "23c84ada-7077-4002-c6fc-b59a56d087f9",
        "colab": {
          "base_uri": "https://localhost:8080/"
        }
      },
      "outputs": [
        {
          "output_type": "execute_result",
          "data": {
            "text/plain": [
              "2017    20566\n",
              "0       11027\n",
              "2018     4130\n",
              "2016     2895\n",
              "2015      882\n",
              "2014      272\n",
              "2013      139\n",
              "2012       61\n",
              "2011       11\n",
              "2008        8\n",
              "2010        7\n",
              "2009        2\n",
              "Name: year_of_last_review, dtype: int64"
            ]
          },
          "metadata": {},
          "execution_count": 9
        }
      ],
      "source": [
        "df['year_of_last_review'].value_counts()"
      ]
    },
    {
      "cell_type": "markdown",
      "metadata": {
        "id": "MOb6KR9dDm7b"
      },
      "source": [
        "Our main distribution is in 2017, so we will replace 2017 with 0"
      ]
    },
    {
      "cell_type": "code",
      "execution_count": 10,
      "metadata": {
        "id": "-PlXgiB2Dm7b"
      },
      "outputs": [],
      "source": [
        "df.loc[df['year_of_last_review'] == 0, 'year_of_last_review'] = 2017"
      ]
    },
    {
      "cell_type": "code",
      "execution_count": null,
      "metadata": {
        "id": "cZFj6CxBDm7b",
        "outputId": "42cf60e8-f48b-4e56-8cf1-3e9b70d3bbcf"
      },
      "outputs": [
        {
          "data": {
            "text/plain": [
              "<AxesSubplot:ylabel='Frequency'>"
            ]
          },
          "execution_count": 4391,
          "metadata": {},
          "output_type": "execute_result"
        },
        {
          "data": {
            "image/png": "[encoded data removed]",
            "text/plain": [
              "<Figure size 720x360 with 1 Axes>"
            ]
          },
          "metadata": {
            "needs_background": "light"
          },
          "output_type": "display_data"
        }
      ],
      "source": [
        "df['year_of_last_review'].plot(kind='hist', grid=True, figsize=(10, 5))"
      ]
    },
    {
      "cell_type": "code",
      "execution_count": null,
      "metadata": {
        "id": "aoeU3uMBDm7b",
        "outputId": "26f7a78f-decf-4fde-ddd3-6924b60699c6"
      },
      "outputs": [
        {
          "data": {
            "text/plain": [
              "count    40000.000000\n",
              "mean      2016.939775\n",
              "std          0.673060\n",
              "min       2008.000000\n",
              "25%       2017.000000\n",
              "50%       2017.000000\n",
              "75%       2017.000000\n",
              "max       2018.000000\n",
              "Name: year_of_last_review, dtype: float64"
            ]
          },
          "execution_count": 4392,
          "metadata": {},
          "output_type": "execute_result"
        }
      ],
      "source": [
        "df['year_of_last_review'].describe()"
      ]
    },
    {
      "cell_type": "code",
      "execution_count": null,
      "metadata": {
        "id": "bJUPO3Y5Dm7b",
        "outputId": "c4e4cca3-ea24-4fef-96b3-22428cd5ccad"
      },
      "outputs": [
        {
          "data": {
            "text/plain": [
              "35723"
            ]
          },
          "execution_count": 4393,
          "metadata": {},
          "output_type": "execute_result"
        }
      ],
      "source": [
        "len(df[df['year_of_last_review'] > 2016])"
      ]
    },
    {
      "cell_type": "markdown",
      "metadata": {
        "id": "SteWTVXvDm7c"
      },
      "source": [
        "Fresh reviews have more weight than those written long ago. Relevance plays a big role: a large number of recent reviews will be rated higher than those that are several years old. Most of our reviews are from 2016-2018. Let's create a feature indicating how long ago the review was left"
      ]
    },
    {
      "cell_type": "code",
      "execution_count": 11,
      "metadata": {
        "id": "AhcGXJyxDm7c"
      },
      "outputs": [],
      "source": [
        "def change_years(x):\n",
        "    if x > 2016:\n",
        "        return 1\n",
        "    else:\n",
        "        return 0\n",
        "\n",
        "df['year_of_last_review'] = df['year_of_last_review'].apply(change_years)"
      ]
    },
    {
      "cell_type": "code",
      "execution_count": 12,
      "metadata": {
        "id": "7YAp7T8UDm7c",
        "outputId": "5f8a50ac-ebd1-45e2-9110-e6c241e837c2",
        "colab": {
          "base_uri": "https://localhost:8080/"
        }
      },
      "outputs": [
        {
          "output_type": "stream",
          "name": "stdout",
          "text": [
            "3207\n"
          ]
        }
      ],
      "source": [
        "# What is the maximum number of days between the publication dates of reviews posted on the restaurant website?\n",
        "len_rev = len(df['reviews_date'])\n",
        "diff = []\n",
        "for i in range(0, len_rev):\n",
        "    one_list = df['reviews_date'][i]\n",
        "    if len(one_list) == 2:\n",
        "        date1 = pd.to_datetime(one_list[0], format='%m/%d/%Y')\n",
        "        date2 = pd.to_datetime(one_list[1], format='%m/%d/%Y')\n",
        "        date = (date1-date2).days\n",
        "    else:\n",
        "        date = 0\n",
        "    diff.append(date)  # found the difference in days between reviews\n",
        "print(max(diff))"
      ]
    },
    {
      "cell_type": "code",
      "execution_count": 13,
      "metadata": {
        "id": "JDU25g2tDm7c",
        "outputId": "3a1d9551-3ea9-4c2f-a845-97e026b05a7a",
        "colab": {
          "base_uri": "https://localhost:8080/",
          "height": 326
        }
      },
      "outputs": [
        {
          "output_type": "execute_result",
          "data": {
            "text/plain": [
              "  Restaurant_id       City                                      Cuisine_style  \\\n",
              "0       id_5569      Paris            ['European', 'French', 'International']   \n",
              "1       id_1535  Stockholm                                                NaN   \n",
              "2        id_352     London  ['Japanese', 'Sushi', 'Asian', 'Grill', 'Veget...   \n",
              "\n",
              "   Ranking  Rating Price_range  Number_of_reviews  \\\n",
              "0   5570.0     3.5    $$ - $$$              194.0   \n",
              "1   1537.0     4.0         NaN               10.0   \n",
              "2    353.0     4.5        $$$$              688.0   \n",
              "\n",
              "                                             Reviews  \\\n",
              "0  [['Good food at your doorstep', 'A good hotel ...   \n",
              "1  [['Unique cuisine', 'Delicious Nepalese food']...   \n",
              "2  [['Catch up with friends', 'Not exceptional'],...   \n",
              "\n",
              "                                              URL_TA     ID_TA  \\\n",
              "0  /Restaurant_Review-g187147-d1912643-Reviews-R_...  d1912643   \n",
              "1  /Restaurant_Review-g189852-d7992032-Reviews-Bu...  d7992032   \n",
              "2  /Restaurant_Review-g186338-d8632781-Reviews-RO...  d8632781   \n",
              "\n",
              "               reviews_date  year_of_last_review  delta_days  \n",
              "0  [12/31/2017, 11/20/2017]                    1          41  \n",
              "1  [07/06/2017, 06/19/2016]                    1         382  \n",
              "2  [01/08/2018, 01/06/2018]                    1           2  "
            ],
            "text/html": [
              "\n",
              "  <div id=\"df-6f32346c-f0b1-4060-9351-ac89c4de6276\">\n",
              "    <div class=\"colab-df-container\">\n",
              "      <div>\n",
              "<style scoped>\n",
              "    .dataframe tbody tr th:only-of-type {\n",
              "        vertical-align: middle;\n",
              "    }\n",
              "\n",
              "    .dataframe tbody tr th {\n",
              "        vertical-align: top;\n",
              "    }\n",
              "\n",
              "    .dataframe thead th {\n",
              "        text-align: right;\n",
              "    }\n",
              "</style>\n",
              "<table border=\"1\" class=\"dataframe\">\n",
              "  <thead>\n",
              "    <tr style=\"text-align: right;\">\n",
              "      <th></th>\n",
              "      <th>Restaurant_id</th>\n",
              "      <th>City</th>\n",
              "      <th>Cuisine_style</th>\n",
              "      <th>Ranking</th>\n",
              "      <th>Rating</th>\n",
              "      <th>Price_range</th>\n",
              "      <th>Number_of_reviews</th>\n",
              "      <th>Reviews</th>\n",
              "      <th>URL_TA</th>\n",
              "      <th>ID_TA</th>\n",
              "      <th>reviews_date</th>\n",
              "      <th>year_of_last_review</th>\n",
              "      <th>delta_days</th>\n",
              "    </tr>\n",
              "  </thead>\n",
              "  <tbody>\n",
              "    <tr>\n",
              "      <th>0</th>\n",
              "      <td>id_5569</td>\n",
              "      <td>Paris</td>\n",
              "      <td>['European', 'French', 'International']</td>\n",
              "      <td>5570.0</td>\n",
              "      <td>3.5</td>\n",
              "      <td>$$ - $$$</td>\n",
              "      <td>194.0</td>\n",
              "      <td>[['Good food at your doorstep', 'A good hotel ...</td>\n",
              "      <td>/Restaurant_Review-g187147-d1912643-Reviews-R_...</td>\n",
              "      <td>d1912643</td>\n",
              "      <td>[12/31/2017, 11/20/2017]</td>\n",
              "      <td>1</td>\n",
              "      <td>41</td>\n",
              "    </tr>\n",
              "    <tr>\n",
              "      <th>1</th>\n",
              "      <td>id_1535</td>\n",
              "      <td>Stockholm</td>\n",
              "      <td>NaN</td>\n",
              "      <td>1537.0</td>\n",
              "      <td>4.0</td>\n",
              "      <td>NaN</td>\n",
              "      <td>10.0</td>\n",
              "      <td>[['Unique cuisine', 'Delicious Nepalese food']...</td>\n",
              "      <td>/Restaurant_Review-g189852-d7992032-Reviews-Bu...</td>\n",
              "      <td>d7992032</td>\n",
              "      <td>[07/06/2017, 06/19/2016]</td>\n",
              "      <td>1</td>\n",
              "      <td>382</td>\n",
              "    </tr>\n",
              "    <tr>\n",
              "      <th>2</th>\n",
              "      <td>id_352</td>\n",
              "      <td>London</td>\n",
              "      <td>['Japanese', 'Sushi', 'Asian', 'Grill', 'Veget...</td>\n",
              "      <td>353.0</td>\n",
              "      <td>4.5</td>\n",
              "      <td>$$$$</td>\n",
              "      <td>688.0</td>\n",
              "      <td>[['Catch up with friends', 'Not exceptional'],...</td>\n",
              "      <td>/Restaurant_Review-g186338-d8632781-Reviews-RO...</td>\n",
              "      <td>d8632781</td>\n",
              "      <td>[01/08/2018, 01/06/2018]</td>\n",
              "      <td>1</td>\n",
              "      <td>2</td>\n",
              "    </tr>\n",
              "  </tbody>\n",
              "</table>\n",
              "</div>\n",
              "      <button class=\"colab-df-convert\" onclick=\"convertToInteractive('df-6f32346c-f0b1-4060-9351-ac89c4de6276')\"\n",
              "              title=\"Convert this dataframe to an interactive table.\"\n",
              "              style=\"display:none;\">\n",
              "        \n",
              "  <svg xmlns=\"http://www.w3.org/2000/svg\" height=\"24px\"viewBox=\"0 0 24 24\"\n",
              "       width=\"24px\">\n",
              "    <path d=\"M0 0h24v24H0V0z\" fill=\"none\"/>\n",
              "    <path d=\"M18.56 5.44l.94 2.06.94-2.06 2.06-.94-2.06-.94-.94-2.06-.94 2.06-2.06.94zm-11 1L8.5 8.5l.94-2.06 2.06-.94-2.06-.94L8.5 2.5l-.94 2.06-2.06.94zm10 10l.94 2.06.94-2.06 2.06-.94-2.06-.94-.94-2.06-.94 2.06-2.06.94z\"/><path d=\"M17.41 7.96l-1.37-1.37c-.4-.4-.92-.59-1.43-.59-.52 0-1.04.2-1.43.59L10.3 9.45l-7.72 7.72c-.78.78-.78 2.05 0 2.83L4 21.41c.39.39.9.59 1.41.59.51 0 1.02-.2 1.41-.59l7.78-7.78 2.81-2.81c.8-.78.8-2.07 0-2.86zM5.41 20L4 18.59l7.72-7.72 1.47 1.35L5.41 20z\"/>\n",
              "  </svg>\n",
              "      </button>\n",
              "      \n",
              "  <style>\n",
              "    .colab-df-container {\n",
              "      display:flex;\n",
              "      flex-wrap:wrap;\n",
              "      gap: 12px;\n",
              "    }\n",
              "\n",
              "    .colab-df-convert {\n",
              "      background-color: #E8F0FE;\n",
              "      border: none;\n",
              "      border-radius: 50%;\n",
              "      cursor: pointer;\n",
              "      display: none;\n",
              "      fill: #1967D2;\n",
              "      height: 32px;\n",
              "      padding: 0 0 0 0;\n",
              "      width: 32px;\n",
              "    }\n",
              "\n",
              "    .colab-df-convert:hover {\n",
              "      background-color: #E2EBFA;\n",
              "      box-shadow: 0px 1px 2px rgba(60, 64, 67, 0.3), 0px 1px 3px 1px rgba(60, 64, 67, 0.15);\n",
              "      fill: #174EA6;\n",
              "    }\n",
              "\n",
              "    [theme=dark] .colab-df-convert {\n",
              "      background-color: #3B4455;\n",
              "      fill: #D2E3FC;\n",
              "    }\n",
              "\n",
              "    [theme=dark] .colab-df-convert:hover {\n",
              "      background-color: #434B5C;\n",
              "      box-shadow: 0px 1px 3px 1px rgba(0, 0, 0, 0.15);\n",
              "      filter: drop-shadow(0px 1px 2px rgba(0, 0, 0, 0.3));\n",
              "      fill: #FFFFFF;\n",
              "    }\n",
              "  </style>\n",
              "\n",
              "      <script>\n",
              "        const buttonEl =\n",
              "          document.querySelector('#df-6f32346c-f0b1-4060-9351-ac89c4de6276 button.colab-df-convert');\n",
              "        buttonEl.style.display =\n",
              "          google.colab.kernel.accessAllowed ? 'block' : 'none';\n",
              "\n",
              "        async function convertToInteractive(key) {\n",
              "          const element = document.querySelector('#df-6f32346c-f0b1-4060-9351-ac89c4de6276');\n",
              "          const dataTable =\n",
              "            await google.colab.kernel.invokeFunction('convertToInteractive',\n",
              "                                                     [key], {});\n",
              "          if (!dataTable) return;\n",
              "\n",
              "          const docLinkHtml = 'Like what you see? Visit the ' +\n",
              "            '<a target=\"_blank\" href=https://colab.research.google.com/notebooks/data_table.ipynb>data table notebook</a>'\n",
              "            + ' to learn more about interactive tables.';\n",
              "          element.innerHTML = '';\n",
              "          dataTable['output_type'] = 'display_data';\n",
              "          await google.colab.output.renderOutput(dataTable, element);\n",
              "          const docLink = document.createElement('div');\n",
              "          docLink.innerHTML = docLinkHtml;\n",
              "          element.appendChild(docLink);\n",
              "        }\n",
              "      </script>\n",
              "    </div>\n",
              "  </div>\n",
              "  "
            ]
          },
          "metadata": {},
          "execution_count": 13
        }
      ],
      "source": [
        "# Let's generate a new feature from the new information:\n",
        "df['delta_days'] = diff\n",
        "df.head(3)"
      ]
    },
    {
      "cell_type": "code",
      "execution_count": null,
      "metadata": {
        "id": "5ksHbrHwDm7c",
        "outputId": "6cf64e9b-c9cc-4541-c5f6-99d0dbe844a2"
      },
      "outputs": [
        {
          "data": {
            "text/plain": [
              "1946"
            ]
          },
          "execution_count": 4397,
          "metadata": {},
          "output_type": "execute_result"
        },
        {
          "data": {
            "image/png": "[encoded data removed]",
            "text/plain": [
              "<Figure size 360x360 with 1 Axes>"
            ]
          },
          "metadata": {
            "needs_background": "light"
          },
          "output_type": "display_data"
        }
      ],
      "source": [
        "# checking the distribution:\n",
        "df['delta_days'].hist(figsize=(5, 5))\n",
        "len(df[df['delta_days'] < 0])"
      ]
    },
    {
      "cell_type": "code",
      "execution_count": 14,
      "metadata": {
        "id": "MVdkDM1uDm7c"
      },
      "outputs": [],
      "source": [
        "# Let's generate a new feature from the new information. Looking at the feature distribution plot, \n",
        "# we can observe that we also have negative values, which logically should not be there. Let's replace them with 0:\n",
        "df.loc[df['delta_days'] < 0, 'delta_days'] = 0"
      ]
    },
    {
      "cell_type": "code",
      "execution_count": 15,
      "metadata": {
        "id": "wg_vGD7BDm7c",
        "outputId": "daa2f179-1856-44c7-91c8-05f17753c943",
        "colab": {
          "base_uri": "https://localhost:8080/"
        }
      },
      "outputs": [
        {
          "output_type": "stream",
          "name": "stdout",
          "text": [
            "25th percentile: 0.0, 75th percentile: 105.0, IQR: 105.0,  outliers borders: [-157.5, 262.5].\n"
          ]
        }
      ],
      "source": [
        "# look at the outliers borders\n",
        "IQR = df.delta_days.quantile(0.75) - df.delta_days.quantile(0.25)\n",
        "perc25 = df.delta_days.quantile(0.25)\n",
        "perc75 = df.delta_days.quantile(0.75)\n",
        "\n",
        "print(\n",
        "    '25th percentile: {},'.format(perc25),\n",
        "    '75th percentile: {},'.format(perc75),\n",
        "    \"IQR: {}, \".format(IQR),\n",
        "    \"outliers borders: [{f}, {l}].\".format(f=perc25 - 1.5*IQR, l=perc75 + 1.5*IQR))"
      ]
    },
    {
      "cell_type": "code",
      "execution_count": null,
      "metadata": {
        "id": "kBA_mOnbDm7d"
      },
      "outputs": [],
      "source": [
        "# smooth out outliers\n",
        "df.loc[df['delta_days'] > 1000, 'delta_days'] = 1000"
      ]
    },
    {
      "cell_type": "code",
      "execution_count": null,
      "metadata": {
        "id": "Bj9DUUM8Dm7d",
        "outputId": "c66b8829-3e86-4ca3-a5ec-490746d0f192"
      },
      "outputs": [
        {
          "data": {
            "text/plain": [
              "<AxesSubplot:>"
            ]
          },
          "execution_count": 4401,
          "metadata": {},
          "output_type": "execute_result"
        },
        {
          "data": {
            "image/png": "[encoded data removed]",
            "text/plain": [
              "<Figure size 360x360 with 1 Axes>"
            ]
          },
          "metadata": {
            "needs_background": "light"
          },
          "output_type": "display_data"
        }
      ],
      "source": [
        "df['delta_days'].hist(figsize=(5, 5))"
      ]
    },
    {
      "cell_type": "code",
      "execution_count": null,
      "metadata": {
        "id": "FU4LVROeDm7d",
        "outputId": "ec3ecb60-b0b9-4cd8-b6fb-f12fecfd8c5e"
      },
      "outputs": [
        {
          "data": {
            "text/plain": [
              "count    40000.000000\n",
              "mean        92.363000\n",
              "std        170.526054\n",
              "min          0.000000\n",
              "25%          0.000000\n",
              "50%         20.000000\n",
              "75%        105.000000\n",
              "max       1000.000000\n",
              "Name: delta_days, dtype: float64"
            ]
          },
          "execution_count": 4402,
          "metadata": {},
          "output_type": "execute_result"
        }
      ],
      "source": [
        "df['delta_days'].describe()"
      ]
    },
    {
      "cell_type": "markdown",
      "metadata": {
        "id": "te5jgzGqDm7d"
      },
      "source": [
        "Let's create a feature that counts \"good or bad\" reviews"
      ]
    },
    {
      "cell_type": "code",
      "execution_count": null,
      "metadata": {
        "id": "KQnT30alDm7d",
        "outputId": "a590fb96-e163-4576-c7df-ea57e22098fc"
      },
      "outputs": [
        {
          "data": {
            "text/html": [
              "<div>\n",
              "<style scoped>\n",
              "    .dataframe tbody tr th:only-of-type {\n",
              "        vertical-align: middle;\n",
              "    }\n",
              "\n",
              "    .dataframe tbody tr th {\n",
              "        vertical-align: top;\n",
              "    }\n",
              "\n",
              "    .dataframe thead th {\n",
              "        text-align: right;\n",
              "    }\n",
              "</style>\n",
              "<table border=\"1\" class=\"dataframe\">\n",
              "  <thead>\n",
              "    <tr style=\"text-align: right;\">\n",
              "      <th></th>\n",
              "      <th>Reviews</th>\n",
              "      <th>good_reviews</th>\n",
              "    </tr>\n",
              "  </thead>\n",
              "  <tbody>\n",
              "    <tr>\n",
              "      <th>0</th>\n",
              "      <td>[Good, food, at, your, doorstep, A, good, hote...</td>\n",
              "      <td>2</td>\n",
              "    </tr>\n",
              "    <tr>\n",
              "      <th>1</th>\n",
              "      <td>[Unique, cuisine, Delicious, Nepalese, food]</td>\n",
              "      <td>2</td>\n",
              "    </tr>\n",
              "    <tr>\n",
              "      <th>2</th>\n",
              "      <td>[Catch, up, with, friends, Not, exceptional]</td>\n",
              "      <td>-1</td>\n",
              "    </tr>\n",
              "    <tr>\n",
              "      <th>3</th>\n",
              "      <td>[]</td>\n",
              "      <td>0</td>\n",
              "    </tr>\n",
              "    <tr>\n",
              "      <th>4</th>\n",
              "      <td>[Best, place, to, try, a, Bavarian, food, Nice...</td>\n",
              "      <td>2</td>\n",
              "    </tr>\n",
              "    <tr>\n",
              "      <th>...</th>\n",
              "      <td>...</td>\n",
              "      <td>...</td>\n",
              "    </tr>\n",
              "    <tr>\n",
              "      <th>39995</th>\n",
              "      <td>[The, real, Italian, experience!, Wonderful, f...</td>\n",
              "      <td>2</td>\n",
              "    </tr>\n",
              "    <tr>\n",
              "      <th>39996</th>\n",
              "      <td>[Parisian, atmosphere, Bit, pricey, but, inter...</td>\n",
              "      <td>1</td>\n",
              "    </tr>\n",
              "    <tr>\n",
              "      <th>39997</th>\n",
              "      <td>[Good, by, swedish, standards, A, hidden, jewe...</td>\n",
              "      <td>1</td>\n",
              "    </tr>\n",
              "    <tr>\n",
              "      <th>39998</th>\n",
              "      <td>[Underground, restaurant, Oldest, Restaurant, ...</td>\n",
              "      <td>0</td>\n",
              "    </tr>\n",
              "    <tr>\n",
              "      <th>39999</th>\n",
              "      <td>[Average, Nice, an, informal]</td>\n",
              "      <td>0</td>\n",
              "    </tr>\n",
              "  </tbody>\n",
              "</table>\n",
              "<p>40000 rows × 2 columns</p>\n",
              "</div>"
            ],
            "text/plain": [
              "                                                 Reviews  good_reviews\n",
              "0      [Good, food, at, your, doorstep, A, good, hote...             2\n",
              "1           [Unique, cuisine, Delicious, Nepalese, food]             2\n",
              "2           [Catch, up, with, friends, Not, exceptional]            -1\n",
              "3                                                     []             0\n",
              "4      [Best, place, to, try, a, Bavarian, food, Nice...             2\n",
              "...                                                  ...           ...\n",
              "39995  [The, real, Italian, experience!, Wonderful, f...             2\n",
              "39996  [Parisian, atmosphere, Bit, pricey, but, inter...             1\n",
              "39997  [Good, by, swedish, standards, A, hidden, jewe...             1\n",
              "39998  [Underground, restaurant, Oldest, Restaurant, ...             0\n",
              "39999                      [Average, Nice, an, informal]             0\n",
              "\n",
              "[40000 rows x 2 columns]"
            ]
          },
          "execution_count": 4403,
          "metadata": {},
          "output_type": "execute_result"
        }
      ],
      "source": [
        "def get_list_rev(x):\n",
        "    x = x.replace('[', '').replace(']', '').replace(\n",
        "        \"'\", '').replace(', ', ',').split(',')[0:2]\n",
        "    list_words = []\n",
        "    for elem in x:\n",
        "        list_words.extend(elem.split())\n",
        "    return list_words\n",
        "\n",
        "\n",
        "word_r = {'good_r': ['good', 'best', 'wonderful', 'unique', 'nice', 'amazing', 'excellent ', 'great', 'lovely',\n",
        "                     'healthy', 'delicious', 'traditional', 'funny', 'historic', 'friendly', 'fresh', 'cheap', 'liked',\n",
        "                     'heavenly', 'fast', 'not bad', 'unusual', 'cool', 'outstanding', 'love', 'fantastic', 'tasty', 'cozy',\n",
        "                     'quiet', 'better', 'super', 'well', 'yummy', 'real', 'cute', 'atmosphere', 'fabulous', 'marvelous', 'decent',\n",
        "                     'generous', 'superb'],\n",
        "          'bad_r': ['not', 'cold', 'mediocre', 'unfriendly', 'dreadful', 'disappointed''terrible', 'average', 'rude', 'worst',\n",
        "                    'nothing', 'foo', 'bad', 'poor', 'stop', 'worst', 'disappointing', 'overpriced', 'horrible', 'worse', 'dirty',\n",
        "                    'waste', 'satisfying', 'disappointment']}\n",
        "\n",
        "\n",
        "def get_review(reviews):\n",
        "    count_good = 0\n",
        "    for review in reviews:\n",
        "        for elem in word_r['good_r']:\n",
        "            if elem == review.lower():\n",
        "                count_good += 1\n",
        "        for elem in word_r['bad_r']:\n",
        "            if elem == review.lower():\n",
        "                count_good -= 1\n",
        "\n",
        "    return(count_good)\n",
        "\n",
        "\n",
        "df['Reviews'] = df['Reviews'].apply(get_list_rev)\n",
        "df['good_reviews'] = df['Reviews'].apply(get_review)\n",
        "df[['Reviews', 'good_reviews']]"
      ]
    },
    {
      "cell_type": "markdown",
      "metadata": {
        "id": "0qoa_OU4Dm7d"
      },
      "source": [
        "# Restaurant_id"
      ]
    },
    {
      "cell_type": "code",
      "execution_count": null,
      "metadata": {
        "id": "icFL6sgpDm7d",
        "outputId": "38980eff-073e-46fe-962f-c59cb4d70e60"
      },
      "outputs": [
        {
          "data": {
            "text/plain": [
              "id_227      18\n",
              "id_871      18\n",
              "id_436      18\n",
              "id_633      18\n",
              "id_344      17\n",
              "            ..\n",
              "id_11037     1\n",
              "id_15485     1\n",
              "id_11358     1\n",
              "id_13037     1\n",
              "id_4857      1\n",
              "Name: Restaurant_id, Length: 11909, dtype: int64"
            ]
          },
          "execution_count": 4404,
          "metadata": {},
          "output_type": "execute_result"
        }
      ],
      "source": [
        "df['Restaurant_id'].value_counts()"
      ]
    },
    {
      "cell_type": "markdown",
      "metadata": {
        "id": "iWjsdW44Dm7e"
      },
      "source": [
        "Note that some restaurants are more common than others. This may indicate that there are chain restaurants in the dataset among all."
      ]
    },
    {
      "cell_type": "code",
      "execution_count": null,
      "metadata": {
        "id": "8uMRYDGoDm7e"
      },
      "outputs": [],
      "source": [
        "# creating a feature indicating restaurant's belonging to the chain (1-chain, 0-not)\n",
        "c_rests = list(df.Restaurant_id.value_counts()[\n",
        "               df.Restaurant_id.value_counts() > 1].index)\n",
        "df['c_rest'] = df[df.Restaurant_id.isin(\n",
        "    c_rests)].Restaurant_id.apply(lambda x: 1)\n",
        "df['c_rest'].fillna(0, inplace=True)\n",
        "df.c_rest = df.c_rest.astype(int)"
      ]
    },
    {
      "cell_type": "code",
      "execution_count": null,
      "metadata": {
        "id": "rcjh6PemDm7e",
        "outputId": "bbbfff4e-fccc-458f-f0bf-dbc4541453d8"
      },
      "outputs": [
        {
          "data": {
            "text/plain": [
              "1    35295\n",
              "0     4705\n",
              "Name: c_rest, dtype: int64"
            ]
          },
          "execution_count": 4406,
          "metadata": {},
          "output_type": "execute_result"
        }
      ],
      "source": [
        "df.c_rest.value_counts()"
      ]
    },
    {
      "cell_type": "markdown",
      "metadata": {
        "id": "mnrRHo2UDm7e"
      },
      "source": [
        "There are much more chain restaurants!"
      ]
    },
    {
      "cell_type": "markdown",
      "metadata": {
        "id": "z2Lbxmy5Dm7e"
      },
      "source": [
        "# Price_range"
      ]
    },
    {
      "cell_type": "code",
      "execution_count": null,
      "metadata": {
        "id": "3P2gQiyvDm7e"
      },
      "outputs": [],
      "source": [
        "# Fill missing values with the most common ones\n",
        "df['Price_range'].value_counts()\n",
        "df['Price_range'] = df['Price_range'].fillna('$$ - $$$')"
      ]
    },
    {
      "cell_type": "code",
      "execution_count": null,
      "metadata": {
        "id": "4hahZDobDm7e",
        "outputId": "5500a58d-e409-4085-9106-3913af6a5c65"
      },
      "outputs": [
        {
          "data": {
            "text/html": [
              "<div>\n",
              "<style scoped>\n",
              "    .dataframe tbody tr th:only-of-type {\n",
              "        vertical-align: middle;\n",
              "    }\n",
              "\n",
              "    .dataframe tbody tr th {\n",
              "        vertical-align: top;\n",
              "    }\n",
              "\n",
              "    .dataframe thead th {\n",
              "        text-align: right;\n",
              "    }\n",
              "</style>\n",
              "<table border=\"1\" class=\"dataframe\">\n",
              "  <thead>\n",
              "    <tr style=\"text-align: right;\">\n",
              "      <th></th>\n",
              "      <th>Restaurant_id</th>\n",
              "      <th>Cuisine_style</th>\n",
              "      <th>Ranking</th>\n",
              "      <th>Rating</th>\n",
              "      <th>Price_range</th>\n",
              "      <th>Number_of_reviews</th>\n",
              "      <th>Reviews</th>\n",
              "      <th>URL_TA</th>\n",
              "      <th>ID_TA</th>\n",
              "      <th>City_Amsterdam</th>\n",
              "      <th>...</th>\n",
              "      <th>City_Stockholm</th>\n",
              "      <th>City_Vienna</th>\n",
              "      <th>City_Warsaw</th>\n",
              "      <th>City_Zurich</th>\n",
              "      <th>cuisine_count</th>\n",
              "      <th>reviews_date</th>\n",
              "      <th>year_of_last_review</th>\n",
              "      <th>delta_days</th>\n",
              "      <th>good_reviews</th>\n",
              "      <th>c_rest</th>\n",
              "    </tr>\n",
              "  </thead>\n",
              "  <tbody>\n",
              "    <tr>\n",
              "      <th>4163</th>\n",
              "      <td>id_8892</td>\n",
              "      <td>0</td>\n",
              "      <td>8894.0</td>\n",
              "      <td>3.5</td>\n",
              "      <td>2</td>\n",
              "      <td>117.0</td>\n",
              "      <td>[Incredible, like, French, refined, cuisine, \"...</td>\n",
              "      <td>/Restaurant_Review-g187147-d1819766-Reviews-Sh...</td>\n",
              "      <td>d1819766</td>\n",
              "      <td>0</td>\n",
              "      <td>...</td>\n",
              "      <td>0</td>\n",
              "      <td>0</td>\n",
              "      <td>0</td>\n",
              "      <td>0</td>\n",
              "      <td>2</td>\n",
              "      <td>[03/17/2017, 10/12/2016]</td>\n",
              "      <td>1</td>\n",
              "      <td>156</td>\n",
              "      <td>-1</td>\n",
              "      <td>0</td>\n",
              "    </tr>\n",
              "    <tr>\n",
              "      <th>38603</th>\n",
              "      <td>id_8664</td>\n",
              "      <td>0</td>\n",
              "      <td>8673.0</td>\n",
              "      <td>4.0</td>\n",
              "      <td>1</td>\n",
              "      <td>9.0</td>\n",
              "      <td>[Lovely, little, place, Good, British, Breakfast]</td>\n",
              "      <td>/Restaurant_Review-g186338-d3863573-Reviews-Ca...</td>\n",
              "      <td>d3863573</td>\n",
              "      <td>0</td>\n",
              "      <td>...</td>\n",
              "      <td>0</td>\n",
              "      <td>0</td>\n",
              "      <td>0</td>\n",
              "      <td>0</td>\n",
              "      <td>1</td>\n",
              "      <td>[03/30/2017, 03/26/2017]</td>\n",
              "      <td>1</td>\n",
              "      <td>4</td>\n",
              "      <td>2</td>\n",
              "      <td>1</td>\n",
              "    </tr>\n",
              "    <tr>\n",
              "      <th>16701</th>\n",
              "      <td>id_2491</td>\n",
              "      <td>1</td>\n",
              "      <td>2496.0</td>\n",
              "      <td>3.0</td>\n",
              "      <td>2</td>\n",
              "      <td>3.0</td>\n",
              "      <td>[]</td>\n",
              "      <td>/Restaurant_Review-g187331-d12089363-Reviews-S...</td>\n",
              "      <td>d12089363</td>\n",
              "      <td>0</td>\n",
              "      <td>...</td>\n",
              "      <td>0</td>\n",
              "      <td>0</td>\n",
              "      <td>0</td>\n",
              "      <td>0</td>\n",
              "      <td>1</td>\n",
              "      <td>[]</td>\n",
              "      <td>1</td>\n",
              "      <td>0</td>\n",
              "      <td>0</td>\n",
              "      <td>1</td>\n",
              "    </tr>\n",
              "  </tbody>\n",
              "</table>\n",
              "<p>3 rows × 46 columns</p>\n",
              "</div>"
            ],
            "text/plain": [
              "      Restaurant_id  Cuisine_style  Ranking  Rating  Price_range  \\\n",
              "4163        id_8892              0   8894.0     3.5            2   \n",
              "38603       id_8664              0   8673.0     4.0            1   \n",
              "16701       id_2491              1   2496.0     3.0            2   \n",
              "\n",
              "       Number_of_reviews                                            Reviews  \\\n",
              "4163               117.0  [Incredible, like, French, refined, cuisine, \"...   \n",
              "38603                9.0  [Lovely, little, place, Good, British, Breakfast]   \n",
              "16701                3.0                                                 []   \n",
              "\n",
              "                                                  URL_TA      ID_TA  \\\n",
              "4163   /Restaurant_Review-g187147-d1819766-Reviews-Sh...   d1819766   \n",
              "38603  /Restaurant_Review-g186338-d3863573-Reviews-Ca...   d3863573   \n",
              "16701  /Restaurant_Review-g187331-d12089363-Reviews-S...  d12089363   \n",
              "\n",
              "       City_Amsterdam  ...  City_Stockholm  City_Vienna  City_Warsaw  \\\n",
              "4163                0  ...               0            0            0   \n",
              "38603               0  ...               0            0            0   \n",
              "16701               0  ...               0            0            0   \n",
              "\n",
              "       City_Zurich  cuisine_count              reviews_date  \\\n",
              "4163             0              2  [03/17/2017, 10/12/2016]   \n",
              "38603            0              1  [03/30/2017, 03/26/2017]   \n",
              "16701            0              1                        []   \n",
              "\n",
              "       year_of_last_review  delta_days  good_reviews  c_rest  \n",
              "4163                     1         156            -1       0  \n",
              "38603                    1           4             2       1  \n",
              "16701                    1           0             0       1  \n",
              "\n",
              "[3 rows x 46 columns]"
            ]
          },
          "execution_count": 4408,
          "metadata": {},
          "output_type": "execute_result"
        }
      ],
      "source": [
        "# Let's replace quantitative indicators with numerical ones\n",
        "dict_price = {'$': 1, '$$ - $$$': 2, '$$$$': 3}\n",
        "\n",
        "\n",
        "def change(x):\n",
        "    for key in dict_price:\n",
        "        if key == x:\n",
        "            return dict_price[key]\n",
        "\n",
        "\n",
        "df.Price_range = df.Price_range.apply(change)\n",
        "df.sample(3)"
      ]
    },
    {
      "cell_type": "markdown",
      "metadata": {
        "id": "gyUt3h6UDm7f"
      },
      "source": [
        "# Ranking"
      ]
    },
    {
      "cell_type": "code",
      "execution_count": null,
      "metadata": {
        "id": "sbT4q1clDm7f",
        "outputId": "e0bbc8f9-e759-4237-b6d1-80c73ca58b61"
      },
      "outputs": [
        {
          "data": {
            "text/plain": [
              "count    40000.000000\n",
              "mean      3676.028525\n",
              "std       3708.749567\n",
              "min          1.000000\n",
              "25%        973.000000\n",
              "50%       2285.000000\n",
              "75%       5260.000000\n",
              "max      16444.000000\n",
              "Name: Ranking, dtype: float64"
            ]
          },
          "execution_count": 4409,
          "metadata": {},
          "output_type": "execute_result"
        },
        {
          "data": {
            "image/png": "[encoded data removed]",
            "text/plain": [
              "<Figure size 720x360 with 1 Axes>"
            ]
          },
          "metadata": {
            "needs_background": "light"
          },
          "output_type": "display_data"
        }
      ],
      "source": [
        "df['Ranking'].hist(bins=100, figsize=(10, 5))\n",
        "df['Ranking'].describe()"
      ]
    },
    {
      "cell_type": "markdown",
      "metadata": {
        "id": "PLfuf4uWDm7f"
      },
      "source": [
        "Most of the restaurants are from 1-3000 place in their city. Let's look at the ranking"
      ]
    },
    {
      "cell_type": "code",
      "execution_count": null,
      "metadata": {
        "id": "VHO-myhqDm7f",
        "outputId": "2e952d3e-7143-4eff-c8f4-67e95cd2d2d6"
      },
      "outputs": [
        {
          "data": {
            "text/plain": [
              "<AxesSubplot:>"
            ]
          },
          "execution_count": 4410,
          "metadata": {},
          "output_type": "execute_result"
        },
        {
          "data": {
            "image/png": "[encoded data removed]",
            "text/plain": [
              "<Figure size 720x360 with 1 Axes>"
            ]
          },
          "metadata": {
            "needs_background": "light"
          },
          "output_type": "display_data"
        }
      ],
      "source": [
        "df['Ranking'][df['Rating'] > 3].hist(bins=100, figsize=(10, 5))"
      ]
    },
    {
      "cell_type": "markdown",
      "metadata": {
        "id": "02wx4lHPDm7f"
      },
      "source": [
        "We can observe that many restaurants with a rating of 4 or 5 have a good place in the rating in the city"
      ]
    },
    {
      "cell_type": "code",
      "execution_count": null,
      "metadata": {
        "id": "xdcXx0xODm7f",
        "outputId": "b15d6039-bb21-48aa-8ef7-9f26c569ab2b"
      },
      "outputs": [
        {
          "data": {
            "text/plain": [
              "0        0.338685\n",
              "1        0.093414\n",
              "2        0.021407\n",
              "3        0.210241\n",
              "4        0.037706\n",
              "           ...   \n",
              "39995    0.030347\n",
              "39996    0.385574\n",
              "39997    0.100407\n",
              "39998    0.038922\n",
              "39999    0.293499\n",
              "Name: Ranking, Length: 40000, dtype: float64"
            ]
          },
          "execution_count": 4411,
          "metadata": {},
          "output_type": "execute_result"
        }
      ],
      "source": [
        "#scale down the data using normalization\n",
        "scaler = MinMaxScaler()\n",
        "df.Ranking = scaler.fit_transform(np.array(df.Ranking).reshape(-1,1))#convert it to an array and make it two-dimensional.\n",
        "df.Ranking"
      ]
    },
    {
      "cell_type": "markdown",
      "metadata": {
        "id": "msRK71gnDm7f"
      },
      "source": [
        "# Number_of_reviews"
      ]
    },
    {
      "cell_type": "code",
      "execution_count": null,
      "metadata": {
        "id": "Bkr144czDm7f"
      },
      "outputs": [],
      "source": [
        "# Replace gaps with mean value of the column \"Number_of_reviews\"\n",
        "mean_numb = df['Number_of_reviews'].mean()\n",
        "df['Number_of_reviews'] = df['Number_of_reviews'].fillna(mean_numb).astype(int)"
      ]
    },
    {
      "cell_type": "code",
      "execution_count": null,
      "metadata": {
        "scrolled": true,
        "id": "zRrOjBLWDm7g",
        "outputId": "4b21a82d-cb8c-40c9-d197-6799958a6600"
      },
      "outputs": [
        {
          "data": {
            "text/plain": [
              "count    40000.000000\n",
              "mean       124.773000\n",
              "std        286.113363\n",
              "min          2.000000\n",
              "25%         10.000000\n",
              "50%         38.000000\n",
              "75%        124.000000\n",
              "max       9660.000000\n",
              "Name: Number_of_reviews, dtype: float64"
            ]
          },
          "execution_count": 4413,
          "metadata": {},
          "output_type": "execute_result"
        },
        {
          "data": {
            "image/png": "[encoded data removed]",
            "text/plain": [
              "<Figure size 720x360 with 1 Axes>"
            ]
          },
          "metadata": {
            "needs_background": "light"
          },
          "output_type": "display_data"
        }
      ],
      "source": [
        "df.Number_of_reviews.hist(bins=100, figsize=(10, 5))\n",
        "df.Number_of_reviews.describe()"
      ]
    },
    {
      "cell_type": "code",
      "execution_count": null,
      "metadata": {
        "id": "HqlzjOvkDm7g",
        "outputId": "b012d2e0-875e-4859-b741-be6a572245e5"
      },
      "outputs": [
        {
          "data": {
            "text/html": [
              "<div>\n",
              "<style scoped>\n",
              "    .dataframe tbody tr th:only-of-type {\n",
              "        vertical-align: middle;\n",
              "    }\n",
              "\n",
              "    .dataframe tbody tr th {\n",
              "        vertical-align: top;\n",
              "    }\n",
              "\n",
              "    .dataframe thead th {\n",
              "        text-align: right;\n",
              "    }\n",
              "</style>\n",
              "<table border=\"1\" class=\"dataframe\">\n",
              "  <thead>\n",
              "    <tr style=\"text-align: right;\">\n",
              "      <th></th>\n",
              "      <th>Restaurant_id</th>\n",
              "      <th>Cuisine_style</th>\n",
              "      <th>Ranking</th>\n",
              "      <th>Rating</th>\n",
              "      <th>Price_range</th>\n",
              "      <th>Number_of_reviews</th>\n",
              "      <th>Reviews</th>\n",
              "      <th>URL_TA</th>\n",
              "      <th>ID_TA</th>\n",
              "      <th>City_Amsterdam</th>\n",
              "      <th>...</th>\n",
              "      <th>City_Stockholm</th>\n",
              "      <th>City_Vienna</th>\n",
              "      <th>City_Warsaw</th>\n",
              "      <th>City_Zurich</th>\n",
              "      <th>cuisine_count</th>\n",
              "      <th>reviews_date</th>\n",
              "      <th>year_of_last_review</th>\n",
              "      <th>delta_days</th>\n",
              "      <th>good_reviews</th>\n",
              "      <th>c_rest</th>\n",
              "    </tr>\n",
              "  </thead>\n",
              "  <tbody>\n",
              "    <tr>\n",
              "      <th>0</th>\n",
              "      <td>id_5569</td>\n",
              "      <td>1</td>\n",
              "      <td>0.338685</td>\n",
              "      <td>3.5</td>\n",
              "      <td>2</td>\n",
              "      <td>194</td>\n",
              "      <td>[Good, food, at, your, doorstep, A, good, hote...</td>\n",
              "      <td>/Restaurant_Review-g187147-d1912643-Reviews-R_...</td>\n",
              "      <td>d1912643</td>\n",
              "      <td>0</td>\n",
              "      <td>...</td>\n",
              "      <td>0</td>\n",
              "      <td>0</td>\n",
              "      <td>0</td>\n",
              "      <td>0</td>\n",
              "      <td>3</td>\n",
              "      <td>[12/31/2017, 11/20/2017]</td>\n",
              "      <td>1</td>\n",
              "      <td>41</td>\n",
              "      <td>2</td>\n",
              "      <td>1</td>\n",
              "    </tr>\n",
              "    <tr>\n",
              "      <th>1</th>\n",
              "      <td>id_1535</td>\n",
              "      <td>1</td>\n",
              "      <td>0.093414</td>\n",
              "      <td>4.0</td>\n",
              "      <td>2</td>\n",
              "      <td>10</td>\n",
              "      <td>[Unique, cuisine, Delicious, Nepalese, food]</td>\n",
              "      <td>/Restaurant_Review-g189852-d7992032-Reviews-Bu...</td>\n",
              "      <td>d7992032</td>\n",
              "      <td>0</td>\n",
              "      <td>...</td>\n",
              "      <td>1</td>\n",
              "      <td>0</td>\n",
              "      <td>0</td>\n",
              "      <td>0</td>\n",
              "      <td>1</td>\n",
              "      <td>[07/06/2017, 06/19/2016]</td>\n",
              "      <td>1</td>\n",
              "      <td>382</td>\n",
              "      <td>2</td>\n",
              "      <td>1</td>\n",
              "    </tr>\n",
              "    <tr>\n",
              "      <th>2</th>\n",
              "      <td>id_352</td>\n",
              "      <td>0</td>\n",
              "      <td>0.021407</td>\n",
              "      <td>4.5</td>\n",
              "      <td>3</td>\n",
              "      <td>688</td>\n",
              "      <td>[Catch, up, with, friends, Not, exceptional]</td>\n",
              "      <td>/Restaurant_Review-g186338-d8632781-Reviews-RO...</td>\n",
              "      <td>d8632781</td>\n",
              "      <td>0</td>\n",
              "      <td>...</td>\n",
              "      <td>0</td>\n",
              "      <td>0</td>\n",
              "      <td>0</td>\n",
              "      <td>0</td>\n",
              "      <td>7</td>\n",
              "      <td>[01/08/2018, 01/06/2018]</td>\n",
              "      <td>1</td>\n",
              "      <td>2</td>\n",
              "      <td>-1</td>\n",
              "      <td>1</td>\n",
              "    </tr>\n",
              "  </tbody>\n",
              "</table>\n",
              "<p>3 rows × 46 columns</p>\n",
              "</div>"
            ],
            "text/plain": [
              "  Restaurant_id  Cuisine_style   Ranking  Rating  Price_range  \\\n",
              "0       id_5569              1  0.338685     3.5            2   \n",
              "1       id_1535              1  0.093414     4.0            2   \n",
              "2        id_352              0  0.021407     4.5            3   \n",
              "\n",
              "   Number_of_reviews                                            Reviews  \\\n",
              "0                194  [Good, food, at, your, doorstep, A, good, hote...   \n",
              "1                 10       [Unique, cuisine, Delicious, Nepalese, food]   \n",
              "2                688       [Catch, up, with, friends, Not, exceptional]   \n",
              "\n",
              "                                              URL_TA     ID_TA  \\\n",
              "0  /Restaurant_Review-g187147-d1912643-Reviews-R_...  d1912643   \n",
              "1  /Restaurant_Review-g189852-d7992032-Reviews-Bu...  d7992032   \n",
              "2  /Restaurant_Review-g186338-d8632781-Reviews-RO...  d8632781   \n",
              "\n",
              "   City_Amsterdam  ...  City_Stockholm  City_Vienna  City_Warsaw  City_Zurich  \\\n",
              "0               0  ...               0            0            0            0   \n",
              "1               0  ...               1            0            0            0   \n",
              "2               0  ...               0            0            0            0   \n",
              "\n",
              "   cuisine_count              reviews_date  year_of_last_review  delta_days  \\\n",
              "0              3  [12/31/2017, 11/20/2017]                    1          41   \n",
              "1              1  [07/06/2017, 06/19/2016]                    1         382   \n",
              "2              7  [01/08/2018, 01/06/2018]                    1           2   \n",
              "\n",
              "   good_reviews  c_rest  \n",
              "0             2       1  \n",
              "1             2       1  \n",
              "2            -1       1  \n",
              "\n",
              "[3 rows x 46 columns]"
            ]
          },
          "execution_count": 4414,
          "metadata": {},
          "output_type": "execute_result"
        }
      ],
      "source": [
        "df.head(3)"
      ]
    },
    {
      "cell_type": "code",
      "execution_count": null,
      "metadata": {
        "id": "xct6SkpIDm7g",
        "outputId": "6e2d56ea-5333-40a6-b85d-19b72818edfc"
      },
      "outputs": [
        {
          "data": {
            "text/plain": [
              "<AxesSubplot:>"
            ]
          },
          "execution_count": 4428,
          "metadata": {},
          "output_type": "execute_result"
        },
        {
          "data": {
            "image/png": "[encoded data removed]",
            "text/plain": [
              "<Figure size 1080x720 with 2 Axes>"
            ]
          },
          "metadata": {
            "needs_background": "light"
          },
          "output_type": "display_data"
        }
      ],
      "source": [
        "plt.rcParams['figure.figsize'] = (15,10)\n",
        "sns.heatmap(df.corr())"
      ]
    },
    {
      "cell_type": "markdown",
      "metadata": {
        "id": "8h-BnZ5nDm7g"
      },
      "source": [
        "## We split the dataframe into parts necessary for training and testing the model"
      ]
    },
    {
      "cell_type": "code",
      "execution_count": null,
      "metadata": {
        "id": "hY4cA438Dm7g"
      },
      "outputs": [],
      "source": [
        "# Х - restaurants info, у - target value (restaurant rating)\n",
        "X = df.drop(['Restaurant_id','Rating','Reviews', 'URL_TA', 'ID_TA','reviews_date'], axis=1)\n",
        "y = df['Rating']"
      ]
    },
    {
      "cell_type": "code",
      "execution_count": null,
      "metadata": {
        "id": "_eo7cqt0Dm7g"
      },
      "outputs": [],
      "source": [
        "# Download a special tool for splitting:\n",
        "from sklearn.model_selection import train_test_split"
      ]
    },
    {
      "cell_type": "code",
      "execution_count": null,
      "metadata": {
        "id": "GqsbF84ADm7g"
      },
      "outputs": [],
      "source": [
        "# Datasets labeled \"train\" will be used for training the model, \"test\" is for testing.\n",
        "# we will use 25% of the original dataset for testing,.\n",
        "X_train, X_test, y_train, y_test = train_test_split(X, y, test_size=0.25)"
      ]
    },
    {
      "cell_type": "markdown",
      "metadata": {
        "id": "SSlGT3bhDm7g"
      },
      "source": [
        "# Создаём, обучаем и тестируем модель"
      ]
    },
    {
      "cell_type": "code",
      "execution_count": null,
      "metadata": {
        "id": "XRet4M0nDm7h"
      },
      "outputs": [],
      "source": [
        "# Import the necessary libraries:\n",
        "# tool for creating and training a model\n",
        "from sklearn.ensemble import RandomForestRegressor\n",
        "from sklearn import metrics  # tools for evaluating model accuracy"
      ]
    },
    {
      "cell_type": "code",
      "execution_count": null,
      "metadata": {
        "id": "vDICnCguDm7h"
      },
      "outputs": [],
      "source": [
        "# creating a model\n",
        "regr = RandomForestRegressor(n_estimators=100)\n",
        "\n",
        "# Train the model on the test dataset\n",
        "regr.fit(X_train, y_train)\n",
        "\n",
        "# predicting:\n",
        "y_pred = regr.predict(X_test)"
      ]
    },
    {
      "cell_type": "code",
      "execution_count": null,
      "metadata": {
        "id": "Os0nTFDGDm7h",
        "outputId": "4f43c33e-16a5-47c6-f09c-82098a184714"
      },
      "outputs": [
        {
          "name": "stdout",
          "output_type": "stream",
          "text": [
            "MAE: 0.21392799999999998\n"
          ]
        }
      ],
      "source": [
        "# We compare the predicted values (y_pred) with the real ones (y_test), and see how they differ on average\n",
        "# Mean Absolute Error (MAE) shows the average deviation of the predicted values from the actual ones.\n",
        "print('MAE:', metrics.mean_absolute_error(y_test, y_pred))"
      ]
    },
    {
      "cell_type": "code",
      "execution_count": null,
      "metadata": {
        "id": "BK0sy3DRDm7h",
        "outputId": "c9091e0c-1e1c-4ec9-c60b-4045769fcaab"
      },
      "outputs": [
        {
          "data": {
            "text/plain": [
              "<AxesSubplot:>"
            ]
          },
          "execution_count": 4421,
          "metadata": {},
          "output_type": "execute_result"
        },
        {
          "data": {
            "image/png": "[encoded data removed]",
            "text/plain": [
              "<Figure size 720x360 with 1 Axes>"
            ]
          },
          "metadata": {
            "needs_background": "light"
          },
          "output_type": "display_data"
        }
      ],
      "source": [
        "# look at the most important features for the model\n",
        "plt.rcParams['figure.figsize'] = (10,5)\n",
        "feat_importances = pd.Series(regr.feature_importances_, index=X.columns)\n",
        "feat_importances.nlargest(10).plot(kind='barh')"
      ]
    },
    {
      "cell_type": "markdown",
      "metadata": {
        "id": "F9Mn1yE7Dm7h"
      },
      "source": [
        "According to the plot, we can see that the \"Ranking\" feature affects 'Rating' the most."
      ]
    },
    {
      "cell_type": "code",
      "execution_count": null,
      "metadata": {
        "id": "IXY8dBSYDm7h"
      },
      "outputs": [],
      "source": []
    }
  ],
  "metadata": {
    "kernelspec": {
      "display_name": "Python 3",
      "language": "python",
      "name": "python3"
    },
    "language_info": {
      "codemirror_mode": {
        "name": "ipython",
        "version": 3
      },
      "file_extension": ".py",
      "mimetype": "text/x-python",
      "name": "python",
      "nbconvert_exporter": "python",
      "pygments_lexer": "ipython3",
      "version": "3.8.5"
    },
    "colab": {
      "provenance": []
    }
  },
  "nbformat": 4,
  "nbformat_minor": 0
}