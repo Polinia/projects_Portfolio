{
 "cells": [
  {
   "cell_type": "markdown",
   "metadata": {
    "papermill": {
     "duration": 0.131843,
     "end_time": "2021-06-06T17:14:15.158111",
     "exception": false,
     "start_time": "2021-06-06T17:14:15.026268",
     "status": "completed"
    },
    "tags": []
   },
   "source": [
    "<img src=\"https://whatcar.vn/media/2018/09/car-lot-940x470.jpg\"/>\n",
    "\n",
    "## Прогнозирование стоимости автомобиля по характеристикам\n",
    "\n",
    "# Описание признаков в тестовом датасете:\n",
    "* bodyType - тип кузова\n",
    "* brand - марка автомобиля \n",
    "* car_url - адрес страницы с объявлением \n",
    "* color - цвет автомобиля\n",
    "* complectation_dict - словарь с параметрами комплектации авто\n",
    "* description - описание автомобиля \n",
    "* engineDisplacement - объем двигателя\n",
    "* enginePower - мощность двигателя\n",
    "* equipment_dict - словарь оснащения авто \n",
    "* fuelType - тип топлива \n",
    "* image - изображение \n",
    "* mileage - пробег \n",
    "* modelDate - дата выпуска модели\n",
    "* model_info - информация о модели\n",
    "* model_name - название модели\n",
    "* name - имя\n",
    "* numberOfDoors - кол-во дверей\n",
    "* parsing_unixtime - когда был произведен парсинг данных\n",
    "* priceCurrency - валюта\n",
    "* productionDate - год производства\n",
    "* sell_id\n",
    "* super_gen - словарь с дополинтельной информацией\n",
    "* vehicleConfiguration - конфигурация транспортного средства\n",
    "* vehicleTransmission - трансмиссия\n",
    "* vendor - страна-изготовитель\n",
    "* Владельцы - кол-во владельцев\n",
    "* Владение - период владения\n",
    "* ПТС\n",
    "* Привод\n",
    "* Руль\n",
    "* Состояние\n",
    "* Таможня"
   ]
  },
  {
   "cell_type": "code",
   "execution_count": 1,
   "metadata": {
    "_cell_guid": "b1076dfc-b9ad-4769-8c92-a6c4dae69d19",
    "_uuid": "8f2839f25d086af736a60e9eeb907d3b93b6e0e5",
    "execution": {
     "iopub.execute_input": "2021-06-06T17:14:15.425262Z",
     "iopub.status.busy": "2021-06-06T17:14:15.424332Z",
     "iopub.status.idle": "2021-06-06T17:14:17.795735Z",
     "shell.execute_reply": "2021-06-06T17:14:17.794507Z",
     "shell.execute_reply.started": "2021-06-06T16:22:21.538355Z"
    },
    "papermill": {
     "duration": 2.508831,
     "end_time": "2021-06-06T17:14:17.795852",
     "exception": false,
     "start_time": "2021-06-06T17:14:15.287021",
     "status": "completed"
    },
    "tags": []
   },
   "outputs": [],
   "source": [
    "import numpy as np \n",
    "import pandas as pd \n",
    "import sys\n",
    "import time\n",
    "import datetime\n",
    "import requests as r\n",
    "import json\n",
    "from bs4 import BeautifulSoup\n",
    "from sklearn.ensemble import RandomForestRegressor\n",
    "from sklearn.preprocessing import PolynomialFeatures\n",
    "from sklearn.model_selection import train_test_split\n",
    "from sklearn.model_selection import KFold\n",
    "from tqdm.notebook import tqdm\n",
    "from catboost import CatBoostRegressor\n",
    "from sklearn.preprocessing import LabelEncoder\n",
    "import pandas_profiling\n",
    "import warnings\n",
    "warnings.simplefilter('ignore')\n",
    "import matplotlib.pyplot as plt\n",
    "import seaborn as sns\n",
    "from pandas import Series\n",
    "from sklearn.feature_selection import f_classif, mutual_info_classif\n",
    "from sklearn.model_selection import GridSearchCV\n",
    "from sklearn.model_selection import train_test_split\n",
    "from sklearn.linear_model import LinearRegression\n",
    "from sklearn.ensemble import GradientBoostingRegressor  \n",
    "from sklearn.preprocessing import StandardScaler\n",
    "from sklearn.ensemble import ExtraTreesRegressor\n",
    "from sklearn.neighbors import KNeighborsRegressor\n",
    "from sklearn.base import clone"
   ]
  },
  {
   "cell_type": "code",
   "execution_count": 2,
   "metadata": {
    "_kg_hide-input": true,
    "execution": {
     "iopub.execute_input": "2021-06-06T17:14:18.063913Z",
     "iopub.status.busy": "2021-06-06T17:14:18.062829Z",
     "iopub.status.idle": "2021-06-06T17:14:18.067277Z",
     "shell.execute_reply": "2021-06-06T17:14:18.066754Z",
     "shell.execute_reply.started": "2021-06-06T16:22:24.355418Z"
    },
    "papermill": {
     "duration": 0.142769,
     "end_time": "2021-06-06T17:14:18.067399",
     "exception": false,
     "start_time": "2021-06-06T17:14:17.924630",
     "status": "completed"
    },
    "tags": []
   },
   "outputs": [
    {
     "name": "stdout",
     "output_type": "stream",
     "text": [
      "Python       : 3.8.5 (default, Sep  3 2020, 21:29:08) [MSC v.1916 64 bit (AMD64)]\n",
      "Numpy        : 1.19.2\n"
     ]
    }
   ],
   "source": [
    "print('Python       :', sys.version.split('\\n')[0])\n",
    "print('Numpy        :', np.__version__)"
   ]
  },
  {
   "cell_type": "code",
   "execution_count": 3,
   "metadata": {
    "_kg_hide-input": true,
    "execution": {
     "iopub.execute_input": "2021-06-06T17:14:18.332271Z",
     "iopub.status.busy": "2021-06-06T17:14:18.331685Z",
     "iopub.status.idle": "2021-06-06T17:14:21.122614Z",
     "shell.execute_reply": "2021-06-06T17:14:21.121854Z",
     "shell.execute_reply.started": "2021-06-06T16:22:24.367462Z"
    },
    "papermill": {
     "duration": 2.923793,
     "end_time": "2021-06-06T17:14:21.122731",
     "exception": false,
     "start_time": "2021-06-06T17:14:18.198938",
     "status": "completed"
    },
    "tags": []
   },
   "outputs": [],
   "source": [
    "# зафиксируем версию пакетов, чтобы эксперименты были воспроизводимы:\n",
    "!pip freeze > requirements.txt\n",
    "# всегда фиксируйте RANDOM_SEED, чтобы ваши эксперименты были воспроизводимы!\n",
    "RANDOM_SEED = 42"
   ]
  },
  {
   "cell_type": "code",
   "execution_count": 4,
   "metadata": {
    "_kg_hide-input": true,
    "execution": {
     "iopub.execute_input": "2021-06-06T17:14:21.387054Z",
     "iopub.status.busy": "2021-06-06T17:14:21.386388Z",
     "iopub.status.idle": "2021-06-06T17:14:21.388045Z",
     "shell.execute_reply": "2021-06-06T17:14:21.388613Z",
     "shell.execute_reply.started": "2021-06-06T16:22:27.1616Z"
    },
    "papermill": {
     "duration": 0.135892,
     "end_time": "2021-06-06T17:14:21.388751",
     "exception": false,
     "start_time": "2021-06-06T17:14:21.252859",
     "status": "completed"
    },
    "tags": []
   },
   "outputs": [],
   "source": [
    "#запишем функцию для вычисления итоговой метрики\n",
    "def mape(y_true, y_pred):\n",
    "    return np.mean(np.abs((y_pred-y_true)/y_true))"
   ]
  },
  {
   "cell_type": "markdown",
   "metadata": {
    "papermill": {
     "duration": 0.135239,
     "end_time": "2021-06-06T17:14:21.653305",
     "exception": false,
     "start_time": "2021-06-06T17:14:21.518066",
     "status": "completed"
    },
    "tags": []
   },
   "source": [
    "# Код парсинга"
   ]
  },
  {
   "cell_type": "markdown",
   "metadata": {
    "papermill": {
     "duration": 0.128291,
     "end_time": "2021-06-06T17:14:21.910167",
     "exception": false,
     "start_time": "2021-06-06T17:14:21.781876",
     "status": "completed"
    },
    "tags": []
   },
   "source": [
    "#в соответствии с условием задачи, нужны данные для Москвы:\n",
    "\n",
    "START_URL='https://auto.ru/moskva/cars/used/'\n",
    "\n",
    "pages_url_list=[]"
   ]
  },
  {
   "cell_type": "code",
   "execution_count": 5,
   "metadata": {
    "execution": {
     "iopub.execute_input": "2021-06-06T17:14:22.171043Z",
     "iopub.status.busy": "2021-06-06T17:14:22.170440Z",
     "iopub.status.idle": "2021-06-06T17:14:22.177312Z",
     "shell.execute_reply": "2021-06-06T17:14:22.177826Z",
     "shell.execute_reply.started": "2021-06-06T16:22:27.171012Z"
    },
    "papermill": {
     "duration": 0.139281,
     "end_time": "2021-06-06T17:14:22.177964",
     "exception": false,
     "start_time": "2021-06-06T17:14:22.038683",
     "status": "completed"
    },
    "tags": []
   },
   "outputs": [
    {
     "data": {
      "text/plain": [
       "'while len(pages_url_list)<5000: \\n    for i in range(1,99):   \\n        response = r.get( START_URL+\\'?page=%s\\'%i)\\n        page = BeautifulSoup(response.text, \\'html.parser\\')\\n        for link in page.findAll(\\'a\\',{\"class\": \"Link OfferThumb\"}):\\n            try:\\n                if link[\\'href\\'] not in pages_url_list: \\n                    pages_url_list.append(link[\\'href\\'])\\n            except:\\n                pass\\n    print(len(pages_url_list))   \\n    time.sleep(10)'"
      ]
     },
     "execution_count": 5,
     "metadata": {},
     "output_type": "execute_result"
    }
   ],
   "source": [
    "\"\"\"while len(pages_url_list)<5000: \n",
    "    for i in range(1,99):   \n",
    "        response = r.get( START_URL+'?page=%s'%i)\n",
    "        page = BeautifulSoup(response.text, 'html.parser')\n",
    "        for link in page.findAll('a',{\"class\": \"Link OfferThumb\"}):\n",
    "            try:\n",
    "                if link['href'] not in pages_url_list: \n",
    "                    pages_url_list.append(link['href'])\n",
    "            except:\n",
    "                pass\n",
    "    print(len(pages_url_list))   \n",
    "    time.sleep(10)\"\"\""
   ]
  },
  {
   "cell_type": "markdown",
   "metadata": {
    "papermill": {
     "duration": 0.12764,
     "end_time": "2021-06-06T17:14:22.434787",
     "exception": false,
     "start_time": "2021-06-06T17:14:22.307147",
     "status": "completed"
    },
    "tags": []
   },
   "source": [
    "Создаем датафрейм с учетом заранее проанализированных признаков, часть из них в test неинформативна, не будем тратить на них время. Используем библиотеку BeautifulSoup. Учитываем условие, что авто должны быть с ценой. Также добавили защиту от ошибок в виде функции try/except. В качестве защиты от капчи на сайте, прописали задержку после каждого цикла 0.1 сек."
   ]
  },
  {
   "cell_type": "code",
   "execution_count": 6,
   "metadata": {
    "execution": {
     "iopub.execute_input": "2021-06-06T17:14:22.696251Z",
     "iopub.status.busy": "2021-06-06T17:14:22.695587Z",
     "iopub.status.idle": "2021-06-06T17:14:22.702896Z",
     "shell.execute_reply": "2021-06-06T17:14:22.703523Z",
     "shell.execute_reply.started": "2021-06-06T16:22:27.186581Z"
    },
    "papermill": {
     "duration": 0.139846,
     "end_time": "2021-06-06T17:14:22.703665",
     "exception": false,
     "start_time": "2021-06-06T17:14:22.563819",
     "status": "completed"
    },
    "tags": []
   },
   "outputs": [
    {
     "data": {
      "text/plain": [
       "'cars_list = []\\nfor item in pages_url_list:\\n    response = r.get(item)\\n    response.encoding = \\'utf8\\'\\n    page = BeautifulSoup(response.text, \\'html.parser\\')\\n    if page.find(\\'div\\', class_=\\'CardSold\\') == None:\\n        try:\\n            json_data = json.loads(\\n                page.find(\\'script\\', type=\"application/ld+json\").string)\\n        except:\\n            print(item)\\n            pass\\n        cls_str = \\'CardInfoRow_\\'\\n        span_str = \\'CardInfoRow__cell\\'\\n        try:\\n            cars_list.append({\\n            \\'bodyType\\': json_data[\\'bodyType\\'],\\n            \\'brand\\': json_data[\\'brand\\'],\\n            \\'car_url\\': json_data[\\'offers\\'][\\'url\\'],\\n            \\'color\\': json_data[\\'color\\'],\\n            \\'description\\': json_data[\\'description\\'],\\n            \\'engineDisplacement\\': json_data[\\'vehicleEngine\\'][\\'engineDisplacement\\'],\\n            \\'enginePower\\': json_data[\\'vehicleEngine\\'][\\'enginePower\\'],\\n            \\'fuelType\\': json_data[\\'fuelType\\'],\\n            \\'image\\': json_data[\\'image\\'],\\n            \\'mileage\\': page.find(\\n                \\'li\\', class_=cls_str+\\'kmAge\\').find_all(\\'span\\')[1].text,\\n            \\'modelDate\\': json_data[\\'modelDate\\'],\\n            \\'model_name\\': json_data[\\'name\\'],\\n            \\'name\\': json_data[\\'vehicleEngine\\'][\\'name\\'],\\n            \\'numberOfDoors\\': json_data[\\'numberOfDoors\\'],\\n            \\'parsing_unixtime\\': int(time.time()),\\n            \\'priceCurrency\\': json_data[\\'offers\\'][\\'priceCurrency\\'],\\n            \\'productionDate\\': json_data[\\'productionDate\\'],\\n            \\'sell_id\\': page.find(\\n                \\'div\\', title=\\'Идентификатор объявления\\').text,\\n            \\'vehicleConfiguration\\': json_data[\\'vehicleConfiguration\\'],\\n            \\'vehicleTransmission\\': json_data[\\'vehicleTransmission\\'],\\n            \\'Владельцы\\': page.find(\\n                \\'li\\', class_=cls_str+\\'ownersCount\\').find_all(\\'span\\')[1].text,\\n            \\'ПТС\\': page.find(\\n                \\'li\\', class_=cls_str+\\'pts\\').find_all(\\'span\\')[1].text,\\n            \\'Привод\\': page.find(\\n                \\'li\\', class_=cls_str+\\'drive\\').find_all(\\'span\\')[1].text,\\n            \\'Руль\\': page.find(\\n                \\'li\\', class_=cls_str+\\'wheel\\').find_all(\\'span\\')[1].text,\\n            \\'Состояние\\': page.find(\\n                \\'li\\', class_=cls_str+\\'state\\').find_all(\\'span\\')[1].text,\\n            \\'Таможня\\': page.find(\\n                \\'li\\', class_=cls_str+\\'customs\\').find_all(\\'span\\')[1].text,\\n            \\'price\\': page.find(\\n                \\'span\\', class_=\\'OfferPriceCaption__price\\').text\\n            })\\n        except:\\n            print(item)\\n            pass\\n\\n   # else cars_list = []\\n\\n    #print(\\'Ожидаю 0.1 секунды...\\')\\n    time.sleep(0.1)'"
      ]
     },
     "execution_count": 6,
     "metadata": {},
     "output_type": "execute_result"
    }
   ],
   "source": [
    "\"\"\"cars_list = []\n",
    "for item in pages_url_list:\n",
    "    response = r.get(item)\n",
    "    response.encoding = 'utf8'\n",
    "    page = BeautifulSoup(response.text, 'html.parser')\n",
    "    if page.find('div', class_='CardSold') == None:\n",
    "        try:\n",
    "            json_data = json.loads(\n",
    "                page.find('script', type=\"application/ld+json\").string)\n",
    "        except:\n",
    "            print(item)\n",
    "            pass\n",
    "        cls_str = 'CardInfoRow_'\n",
    "        span_str = 'CardInfoRow__cell'\n",
    "        try:\n",
    "            cars_list.append({\n",
    "            'bodyType': json_data['bodyType'],\n",
    "            'brand': json_data['brand'],\n",
    "            'car_url': json_data['offers']['url'],\n",
    "            'color': json_data['color'],\n",
    "            'description': json_data['description'],\n",
    "            'engineDisplacement': json_data['vehicleEngine']['engineDisplacement'],\n",
    "            'enginePower': json_data['vehicleEngine']['enginePower'],\n",
    "            'fuelType': json_data['fuelType'],\n",
    "            'image': json_data['image'],\n",
    "            'mileage': page.find(\n",
    "                'li', class_=cls_str+'kmAge').find_all('span')[1].text,\n",
    "            'modelDate': json_data['modelDate'],\n",
    "            'model_name': json_data['name'],\n",
    "            'name': json_data['vehicleEngine']['name'],\n",
    "            'numberOfDoors': json_data['numberOfDoors'],\n",
    "            'parsing_unixtime': int(time.time()),\n",
    "            'priceCurrency': json_data['offers']['priceCurrency'],\n",
    "            'productionDate': json_data['productionDate'],\n",
    "            'sell_id': page.find(\n",
    "                'div', title='Идентификатор объявления').text,\n",
    "            'vehicleConfiguration': json_data['vehicleConfiguration'],\n",
    "            'vehicleTransmission': json_data['vehicleTransmission'],\n",
    "            'Владельцы': page.find(\n",
    "                'li', class_=cls_str+'ownersCount').find_all('span')[1].text,\n",
    "            'ПТС': page.find(\n",
    "                'li', class_=cls_str+'pts').find_all('span')[1].text,\n",
    "            'Привод': page.find(\n",
    "                'li', class_=cls_str+'drive').find_all('span')[1].text,\n",
    "            'Руль': page.find(\n",
    "                'li', class_=cls_str+'wheel').find_all('span')[1].text,\n",
    "            'Состояние': page.find(\n",
    "                'li', class_=cls_str+'state').find_all('span')[1].text,\n",
    "            'Таможня': page.find(\n",
    "                'li', class_=cls_str+'customs').find_all('span')[1].text,\n",
    "            'price': page.find(\n",
    "                'span', class_='OfferPriceCaption__price').text\n",
    "            })\n",
    "        except:\n",
    "            print(item)\n",
    "            pass\n",
    "\n",
    "   # else cars_list = []\n",
    "\n",
    "    #print('Ожидаю 0.1 секунды...')\n",
    "    time.sleep(0.1)\"\"\""
   ]
  },
  {
   "cell_type": "code",
   "execution_count": 7,
   "metadata": {
    "execution": {
     "iopub.execute_input": "2021-06-06T17:14:23.011421Z",
     "iopub.status.busy": "2021-06-06T17:14:23.010724Z",
     "iopub.status.idle": "2021-06-06T17:14:23.014193Z",
     "shell.execute_reply": "2021-06-06T17:14:23.014693Z",
     "shell.execute_reply.started": "2021-06-06T16:22:27.201551Z"
    },
    "papermill": {
     "duration": 0.136196,
     "end_time": "2021-06-06T17:14:23.014829",
     "exception": false,
     "start_time": "2021-06-06T17:14:22.878633",
     "status": "completed"
    },
    "tags": []
   },
   "outputs": [],
   "source": [
    "# переводим в удобный для нас вид\n",
    "#df = pd.DataFrame(cars_list)\n",
    "# проверяем на дубликаты, можно по двум признакам car_url или sell_id\n",
    "#df['sell_id'].duplicated().sum()\n",
    "# сохраняем в csv\n",
    "#df.to_csv('cars_df.csv', index=False)"
   ]
  },
  {
   "cell_type": "markdown",
   "metadata": {
    "papermill": {
     "duration": 0.12818,
     "end_time": "2021-06-06T17:14:23.272247",
     "exception": false,
     "start_time": "2021-06-06T17:14:23.144067",
     "status": "completed"
    },
    "tags": []
   },
   "source": [
    "# Setup"
   ]
  },
  {
   "cell_type": "code",
   "execution_count": 8,
   "metadata": {
    "execution": {
     "iopub.execute_input": "2021-06-06T17:14:23.534793Z",
     "iopub.status.busy": "2021-06-06T17:14:23.534121Z",
     "iopub.status.idle": "2021-06-06T17:14:23.538836Z",
     "shell.execute_reply": "2021-06-06T17:14:23.539393Z",
     "shell.execute_reply.started": "2021-06-06T16:22:27.214769Z"
    },
    "papermill": {
     "duration": 0.138328,
     "end_time": "2021-06-06T17:14:23.539538",
     "exception": false,
     "start_time": "2021-06-06T17:14:23.401210",
     "status": "completed"
    },
    "tags": []
   },
   "outputs": [],
   "source": [
    "VERSION    = 16\n",
    "VAL_SIZE   = 0.20   # 20%"
   ]
  },
  {
   "cell_type": "markdown",
   "metadata": {
    "papermill": {
     "duration": 0.12989,
     "end_time": "2021-06-06T17:14:23.800838",
     "exception": false,
     "start_time": "2021-06-06T17:14:23.670948",
     "status": "completed"
    },
    "tags": []
   },
   "source": [
    "# Data"
   ]
  },
  {
   "cell_type": "code",
   "execution_count": 9,
   "metadata": {
    "_cell_guid": "79c7e3d0-c299-4dcb-8224-4455121ee9b0",
    "_uuid": "d629ff2d2480ee46fbb7e2d37f6b5fab8052498a",
    "execution": {
     "iopub.execute_input": "2021-06-06T17:14:25.055698Z",
     "iopub.status.busy": "2021-06-06T17:14:25.055004Z",
     "iopub.status.idle": "2021-06-06T17:14:29.054916Z",
     "shell.execute_reply": "2021-06-06T17:14:29.054071Z",
     "shell.execute_reply.started": "2021-06-06T16:22:27.987286Z"
    },
    "papermill": {
     "duration": 4.144046,
     "end_time": "2021-06-06T17:14:29.055066",
     "exception": false,
     "start_time": "2021-06-06T17:14:24.911020",
     "status": "completed"
    },
    "tags": []
   },
   "outputs": [],
   "source": [
    "train = pd.read_csv('cars_df.csv') # датасет для обучения модели\n",
    "test = pd.read_csv('test_auto.csv')\n",
    "sample_submission = pd.read_csv('sample_submission_auto.csv')"
   ]
  },
  {
   "cell_type": "code",
   "execution_count": 10,
   "metadata": {
    "execution": {
     "iopub.execute_input": "2021-06-06T17:14:29.330270Z",
     "iopub.status.busy": "2021-06-06T17:14:29.329641Z",
     "iopub.status.idle": "2021-06-06T17:14:29.338511Z",
     "shell.execute_reply": "2021-06-06T17:14:29.337869Z",
     "shell.execute_reply.started": "2021-06-06T16:22:32.02845Z"
    },
    "papermill": {
     "duration": 0.14952,
     "end_time": "2021-06-06T17:14:29.338627",
     "exception": false,
     "start_time": "2021-06-06T17:14:29.189107",
     "status": "completed"
    },
    "tags": []
   },
   "outputs": [
    {
     "data": {
      "text/plain": [
       "False"
      ]
     },
     "execution_count": 10,
     "metadata": {},
     "output_type": "execute_result"
    }
   ],
   "source": [
    "train.price.isnull().values.any()"
   ]
  },
  {
   "cell_type": "code",
   "execution_count": 11,
   "metadata": {
    "execution": {
     "iopub.execute_input": "2021-06-06T17:14:29.619984Z",
     "iopub.status.busy": "2021-06-06T17:14:29.619301Z",
     "iopub.status.idle": "2021-06-06T17:14:29.633159Z",
     "shell.execute_reply": "2021-06-06T17:14:29.633641Z",
     "shell.execute_reply.started": "2021-06-06T16:22:32.042995Z"
    },
    "papermill": {
     "duration": 0.164724,
     "end_time": "2021-06-06T17:14:29.633788",
     "exception": false,
     "start_time": "2021-06-06T17:14:29.469064",
     "status": "completed"
    },
    "tags": []
   },
   "outputs": [
    {
     "data": {
      "text/html": [
       "<div>\n",
       "<style scoped>\n",
       "    .dataframe tbody tr th:only-of-type {\n",
       "        vertical-align: middle;\n",
       "    }\n",
       "\n",
       "    .dataframe tbody tr th {\n",
       "        vertical-align: top;\n",
       "    }\n",
       "\n",
       "    .dataframe thead th {\n",
       "        text-align: right;\n",
       "    }\n",
       "</style>\n",
       "<table border=\"1\" class=\"dataframe\">\n",
       "  <thead>\n",
       "    <tr style=\"text-align: right;\">\n",
       "      <th></th>\n",
       "      <th>bodyType</th>\n",
       "      <th>brand</th>\n",
       "      <th>car_url</th>\n",
       "      <th>color</th>\n",
       "      <th>description</th>\n",
       "      <th>engineDisplacement</th>\n",
       "      <th>enginePower</th>\n",
       "      <th>fuelType</th>\n",
       "      <th>image</th>\n",
       "      <th>mileage</th>\n",
       "      <th>...</th>\n",
       "      <th>productionDate</th>\n",
       "      <th>vehicleConfiguration</th>\n",
       "      <th>vehicleTransmission</th>\n",
       "      <th>Владельцы</th>\n",
       "      <th>ПТС</th>\n",
       "      <th>Привод</th>\n",
       "      <th>Руль</th>\n",
       "      <th>Состояние</th>\n",
       "      <th>Таможня</th>\n",
       "      <th>price</th>\n",
       "    </tr>\n",
       "  </thead>\n",
       "  <tbody>\n",
       "    <tr>\n",
       "      <th>0</th>\n",
       "      <td>седан</td>\n",
       "      <td>MERCEDES</td>\n",
       "      <td>https://auto.ru/cars/used/sale/mercedes/e_klas...</td>\n",
       "      <td>чёрный</td>\n",
       "      <td>Автомобиль в который вложена Душа не требует о...</td>\n",
       "      <td>3.2 LTR</td>\n",
       "      <td>220 N12</td>\n",
       "      <td>бензин</td>\n",
       "      <td>https://avatars.mds.yandex.net/get-autoru-vos/...</td>\n",
       "      <td>240 000 км</td>\n",
       "      <td>...</td>\n",
       "      <td>1994</td>\n",
       "      <td>SEDAN AUTOMATIC 3.2</td>\n",
       "      <td>автоматическая</td>\n",
       "      <td>3 или более</td>\n",
       "      <td>Оригинал</td>\n",
       "      <td>задний</td>\n",
       "      <td>Левый</td>\n",
       "      <td>Не требует ремонта</td>\n",
       "      <td>Растаможен</td>\n",
       "      <td>3 000 000 ₽</td>\n",
       "    </tr>\n",
       "    <tr>\n",
       "      <th>1</th>\n",
       "      <td>хэтчбек 5 дв.</td>\n",
       "      <td>CHEVROLET</td>\n",
       "      <td>https://auto.ru/cars/used/sale/chevrolet/aveo/...</td>\n",
       "      <td>белый</td>\n",
       "      <td>Я СОБСТВЕННИК!!! НЕ ПЕРЕКУП\\nМашина в основном...</td>\n",
       "      <td>1.6 LTR</td>\n",
       "      <td>115 N12</td>\n",
       "      <td>бензин</td>\n",
       "      <td>https://avatars.mds.yandex.net/get-autoru-vos/...</td>\n",
       "      <td>53 800 км</td>\n",
       "      <td>...</td>\n",
       "      <td>2013</td>\n",
       "      <td>HATCHBACK_5_DOORS AUTOMATIC 1.6</td>\n",
       "      <td>автоматическая</td>\n",
       "      <td>3 или более</td>\n",
       "      <td>Оригинал</td>\n",
       "      <td>передний</td>\n",
       "      <td>Левый</td>\n",
       "      <td>Не требует ремонта</td>\n",
       "      <td>Растаможен</td>\n",
       "      <td>638 000 ₽</td>\n",
       "    </tr>\n",
       "  </tbody>\n",
       "</table>\n",
       "<p>2 rows × 25 columns</p>\n",
       "</div>"
      ],
      "text/plain": [
       "        bodyType      brand  \\\n",
       "0          седан   MERCEDES   \n",
       "1  хэтчбек 5 дв.  CHEVROLET   \n",
       "\n",
       "                                             car_url   color  \\\n",
       "0  https://auto.ru/cars/used/sale/mercedes/e_klas...  чёрный   \n",
       "1  https://auto.ru/cars/used/sale/chevrolet/aveo/...   белый   \n",
       "\n",
       "                                         description engineDisplacement  \\\n",
       "0  Автомобиль в который вложена Душа не требует о...            3.2 LTR   \n",
       "1  Я СОБСТВЕННИК!!! НЕ ПЕРЕКУП\\nМашина в основном...            1.6 LTR   \n",
       "\n",
       "  enginePower fuelType                                              image  \\\n",
       "0     220 N12   бензин  https://avatars.mds.yandex.net/get-autoru-vos/...   \n",
       "1     115 N12   бензин  https://avatars.mds.yandex.net/get-autoru-vos/...   \n",
       "\n",
       "      mileage  ...  productionDate             vehicleConfiguration  \\\n",
       "0  240 000 км  ...            1994              SEDAN AUTOMATIC 3.2   \n",
       "1   53 800 км  ...            2013  HATCHBACK_5_DOORS AUTOMATIC 1.6   \n",
       "\n",
       "  vehicleTransmission    Владельцы       ПТС    Привод   Руль  \\\n",
       "0      автоматическая  3 или более  Оригинал    задний  Левый   \n",
       "1      автоматическая  3 или более  Оригинал  передний  Левый   \n",
       "\n",
       "            Состояние     Таможня        price  \n",
       "0  Не требует ремонта  Растаможен  3 000 000 ₽  \n",
       "1  Не требует ремонта  Растаможен    638 000 ₽  \n",
       "\n",
       "[2 rows x 25 columns]"
      ]
     },
     "execution_count": 11,
     "metadata": {},
     "output_type": "execute_result"
    }
   ],
   "source": [
    "train.head(2)"
   ]
  },
  {
   "cell_type": "code",
   "execution_count": 12,
   "metadata": {
    "execution": {
     "iopub.execute_input": "2021-06-06T17:14:29.899005Z",
     "iopub.status.busy": "2021-06-06T17:14:29.898380Z",
     "iopub.status.idle": "2021-06-06T17:14:30.059965Z",
     "shell.execute_reply": "2021-06-06T17:14:30.059170Z",
     "shell.execute_reply.started": "2021-06-06T16:22:32.087521Z"
    },
    "papermill": {
     "duration": 0.295387,
     "end_time": "2021-06-06T17:14:30.060084",
     "exception": false,
     "start_time": "2021-06-06T17:14:29.764697",
     "status": "completed"
    },
    "tags": []
   },
   "outputs": [
    {
     "name": "stdout",
     "output_type": "stream",
     "text": [
      "<class 'pandas.core.frame.DataFrame'>\n",
      "RangeIndex: 33531 entries, 0 to 33530\n",
      "Data columns (total 25 columns):\n",
      " #   Column                Non-Null Count  Dtype \n",
      "---  ------                --------------  ----- \n",
      " 0   bodyType              33531 non-null  object\n",
      " 1   brand                 33531 non-null  object\n",
      " 2   car_url               33531 non-null  object\n",
      " 3   color                 33531 non-null  object\n",
      " 4   description           33531 non-null  object\n",
      " 5   engineDisplacement    33531 non-null  object\n",
      " 6   enginePower           33531 non-null  object\n",
      " 7   fuelType              33531 non-null  object\n",
      " 8   image                 33531 non-null  object\n",
      " 9   mileage               33531 non-null  object\n",
      " 10  modelDate             33531 non-null  int64 \n",
      " 11  model_name            33531 non-null  object\n",
      " 12  name                  33531 non-null  object\n",
      " 13  numberOfDoors         33531 non-null  int64 \n",
      " 14  priceCurrency         33531 non-null  object\n",
      " 15  productionDate        33531 non-null  int64 \n",
      " 16  vehicleConfiguration  33531 non-null  object\n",
      " 17  vehicleTransmission   33531 non-null  object\n",
      " 18  Владельцы             33531 non-null  object\n",
      " 19  ПТС                   33531 non-null  object\n",
      " 20  Привод                33531 non-null  object\n",
      " 21  Руль                  33531 non-null  object\n",
      " 22  Состояние             33531 non-null  object\n",
      " 23  Таможня               33531 non-null  object\n",
      " 24  price                 33531 non-null  object\n",
      "dtypes: int64(3), object(22)\n",
      "memory usage: 6.4+ MB\n"
     ]
    },
    {
     "data": {
      "text/plain": [
       "bodyType                0\n",
       "brand                   0\n",
       "car_url                 0\n",
       "color                   0\n",
       "description             0\n",
       "engineDisplacement      0\n",
       "enginePower             0\n",
       "fuelType                0\n",
       "image                   0\n",
       "mileage                 0\n",
       "modelDate               0\n",
       "model_name              0\n",
       "name                    0\n",
       "numberOfDoors           0\n",
       "priceCurrency           0\n",
       "productionDate          0\n",
       "vehicleConfiguration    0\n",
       "vehicleTransmission     0\n",
       "Владельцы               0\n",
       "ПТС                     0\n",
       "Привод                  0\n",
       "Руль                    0\n",
       "Состояние               0\n",
       "Таможня                 0\n",
       "price                   0\n",
       "dtype: int64"
      ]
     },
     "execution_count": 12,
     "metadata": {},
     "output_type": "execute_result"
    }
   ],
   "source": [
    "train.info()\n",
    "train.isna().sum()"
   ]
  },
  {
   "cell_type": "code",
   "execution_count": 13,
   "metadata": {
    "execution": {
     "iopub.execute_input": "2021-06-06T17:14:30.370566Z",
     "iopub.status.busy": "2021-06-06T17:14:30.369490Z",
     "iopub.status.idle": "2021-06-06T17:14:30.375108Z",
     "shell.execute_reply": "2021-06-06T17:14:30.374574Z",
     "shell.execute_reply.started": "2021-06-06T16:22:32.181514Z"
    },
    "papermill": {
     "duration": 0.161059,
     "end_time": "2021-06-06T17:14:30.375213",
     "exception": false,
     "start_time": "2021-06-06T17:14:30.214154",
     "status": "completed"
    },
    "tags": []
   },
   "outputs": [
    {
     "data": {
      "text/html": [
       "<div>\n",
       "<style scoped>\n",
       "    .dataframe tbody tr th:only-of-type {\n",
       "        vertical-align: middle;\n",
       "    }\n",
       "\n",
       "    .dataframe tbody tr th {\n",
       "        vertical-align: top;\n",
       "    }\n",
       "\n",
       "    .dataframe thead th {\n",
       "        text-align: right;\n",
       "    }\n",
       "</style>\n",
       "<table border=\"1\" class=\"dataframe\">\n",
       "  <thead>\n",
       "    <tr style=\"text-align: right;\">\n",
       "      <th></th>\n",
       "      <th>bodyType</th>\n",
       "      <th>brand</th>\n",
       "      <th>car_url</th>\n",
       "      <th>color</th>\n",
       "      <th>complectation_dict</th>\n",
       "      <th>description</th>\n",
       "      <th>engineDisplacement</th>\n",
       "      <th>enginePower</th>\n",
       "      <th>equipment_dict</th>\n",
       "      <th>fuelType</th>\n",
       "      <th>...</th>\n",
       "      <th>vehicleConfiguration</th>\n",
       "      <th>vehicleTransmission</th>\n",
       "      <th>vendor</th>\n",
       "      <th>Владельцы</th>\n",
       "      <th>Владение</th>\n",
       "      <th>ПТС</th>\n",
       "      <th>Привод</th>\n",
       "      <th>Руль</th>\n",
       "      <th>Состояние</th>\n",
       "      <th>Таможня</th>\n",
       "    </tr>\n",
       "  </thead>\n",
       "  <tbody>\n",
       "    <tr>\n",
       "      <th>0</th>\n",
       "      <td>лифтбек</td>\n",
       "      <td>SKODA</td>\n",
       "      <td>https://auto.ru/cars/used/sale/skoda/octavia/1...</td>\n",
       "      <td>синий</td>\n",
       "      <td>NaN</td>\n",
       "      <td>Все автомобили, представленные в продаже, прох...</td>\n",
       "      <td>1.2 LTR</td>\n",
       "      <td>105 N12</td>\n",
       "      <td>{\"engine-proof\":true,\"tinted-glass\":true,\"airb...</td>\n",
       "      <td>бензин</td>\n",
       "      <td>...</td>\n",
       "      <td>LIFTBACK ROBOT 1.2</td>\n",
       "      <td>роботизированная</td>\n",
       "      <td>EUROPEAN</td>\n",
       "      <td>3 или более</td>\n",
       "      <td>NaN</td>\n",
       "      <td>Оригинал</td>\n",
       "      <td>передний</td>\n",
       "      <td>Левый</td>\n",
       "      <td>Не требует ремонта</td>\n",
       "      <td>Растаможен</td>\n",
       "    </tr>\n",
       "    <tr>\n",
       "      <th>1</th>\n",
       "      <td>лифтбек</td>\n",
       "      <td>SKODA</td>\n",
       "      <td>https://auto.ru/cars/used/sale/skoda/octavia/1...</td>\n",
       "      <td>чёрный</td>\n",
       "      <td>NaN</td>\n",
       "      <td>ЛОТ: 01217195\\nАвтопрага Север\\nДанный автомоб...</td>\n",
       "      <td>1.6 LTR</td>\n",
       "      <td>110 N12</td>\n",
       "      <td>{\"cruise-control\":true,\"asr\":true,\"esp\":true,\"...</td>\n",
       "      <td>бензин</td>\n",
       "      <td>...</td>\n",
       "      <td>LIFTBACK MECHANICAL 1.6</td>\n",
       "      <td>механическая</td>\n",
       "      <td>EUROPEAN</td>\n",
       "      <td>1 владелец</td>\n",
       "      <td>NaN</td>\n",
       "      <td>Оригинал</td>\n",
       "      <td>передний</td>\n",
       "      <td>Левый</td>\n",
       "      <td>Не требует ремонта</td>\n",
       "      <td>Растаможен</td>\n",
       "    </tr>\n",
       "  </tbody>\n",
       "</table>\n",
       "<p>2 rows × 32 columns</p>\n",
       "</div>"
      ],
      "text/plain": [
       "  bodyType  brand                                            car_url   color  \\\n",
       "0  лифтбек  SKODA  https://auto.ru/cars/used/sale/skoda/octavia/1...   синий   \n",
       "1  лифтбек  SKODA  https://auto.ru/cars/used/sale/skoda/octavia/1...  чёрный   \n",
       "\n",
       "  complectation_dict                                        description  \\\n",
       "0                NaN  Все автомобили, представленные в продаже, прох...   \n",
       "1                NaN  ЛОТ: 01217195\\nАвтопрага Север\\nДанный автомоб...   \n",
       "\n",
       "  engineDisplacement enginePower  \\\n",
       "0            1.2 LTR     105 N12   \n",
       "1            1.6 LTR     110 N12   \n",
       "\n",
       "                                      equipment_dict fuelType  ...  \\\n",
       "0  {\"engine-proof\":true,\"tinted-glass\":true,\"airb...   бензин  ...   \n",
       "1  {\"cruise-control\":true,\"asr\":true,\"esp\":true,\"...   бензин  ...   \n",
       "\n",
       "      vehicleConfiguration  vehicleTransmission    vendor    Владельцы  \\\n",
       "0       LIFTBACK ROBOT 1.2     роботизированная  EUROPEAN  3 или более   \n",
       "1  LIFTBACK MECHANICAL 1.6         механическая  EUROPEAN   1 владелец   \n",
       "\n",
       "  Владение       ПТС    Привод   Руль           Состояние     Таможня  \n",
       "0      NaN  Оригинал  передний  Левый  Не требует ремонта  Растаможен  \n",
       "1      NaN  Оригинал  передний  Левый  Не требует ремонта  Растаможен  \n",
       "\n",
       "[2 rows x 32 columns]"
      ]
     },
     "execution_count": 13,
     "metadata": {},
     "output_type": "execute_result"
    }
   ],
   "source": [
    "test.head(2)"
   ]
  },
  {
   "cell_type": "code",
   "execution_count": 14,
   "metadata": {
    "execution": {
     "iopub.execute_input": "2021-06-06T17:14:30.728289Z",
     "iopub.status.busy": "2021-06-06T17:14:30.727050Z",
     "iopub.status.idle": "2021-06-06T17:14:30.828643Z",
     "shell.execute_reply": "2021-06-06T17:14:30.829100Z",
     "shell.execute_reply.started": "2021-06-06T16:22:32.210454Z"
    },
    "papermill": {
     "duration": 0.322346,
     "end_time": "2021-06-06T17:14:30.829244",
     "exception": false,
     "start_time": "2021-06-06T17:14:30.506898",
     "status": "completed"
    },
    "tags": []
   },
   "outputs": [
    {
     "name": "stdout",
     "output_type": "stream",
     "text": [
      "<class 'pandas.core.frame.DataFrame'>\n",
      "RangeIndex: 34686 entries, 0 to 34685\n",
      "Data columns (total 32 columns):\n",
      " #   Column                Non-Null Count  Dtype \n",
      "---  ------                --------------  ----- \n",
      " 0   bodyType              34686 non-null  object\n",
      " 1   brand                 34686 non-null  object\n",
      " 2   car_url               34686 non-null  object\n",
      " 3   color                 34686 non-null  object\n",
      " 4   complectation_dict    6418 non-null   object\n",
      " 5   description           34686 non-null  object\n",
      " 6   engineDisplacement    34686 non-null  object\n",
      " 7   enginePower           34686 non-null  object\n",
      " 8   equipment_dict        24690 non-null  object\n",
      " 9   fuelType              34686 non-null  object\n",
      " 10  image                 34686 non-null  object\n",
      " 11  mileage               34686 non-null  int64 \n",
      " 12  modelDate             34686 non-null  int64 \n",
      " 13  model_info            34686 non-null  object\n",
      " 14  model_name            34686 non-null  object\n",
      " 15  name                  34686 non-null  object\n",
      " 16  numberOfDoors         34686 non-null  int64 \n",
      " 17  parsing_unixtime      34686 non-null  int64 \n",
      " 18  priceCurrency         34686 non-null  object\n",
      " 19  productionDate        34686 non-null  int64 \n",
      " 20  sell_id               34686 non-null  int64 \n",
      " 21  super_gen             34686 non-null  object\n",
      " 22  vehicleConfiguration  34686 non-null  object\n",
      " 23  vehicleTransmission   34686 non-null  object\n",
      " 24  vendor                34686 non-null  object\n",
      " 25  Владельцы             34686 non-null  object\n",
      " 26  Владение              11995 non-null  object\n",
      " 27  ПТС                   34685 non-null  object\n",
      " 28  Привод                34686 non-null  object\n",
      " 29  Руль                  34686 non-null  object\n",
      " 30  Состояние             34686 non-null  object\n",
      " 31  Таможня               34686 non-null  object\n",
      "dtypes: int64(6), object(26)\n",
      "memory usage: 8.5+ MB\n"
     ]
    },
    {
     "data": {
      "text/plain": [
       "bodyType                    0\n",
       "brand                       0\n",
       "car_url                     0\n",
       "color                       0\n",
       "complectation_dict      28268\n",
       "description                 0\n",
       "engineDisplacement          0\n",
       "enginePower                 0\n",
       "equipment_dict           9996\n",
       "fuelType                    0\n",
       "image                       0\n",
       "mileage                     0\n",
       "modelDate                   0\n",
       "model_info                  0\n",
       "model_name                  0\n",
       "name                        0\n",
       "numberOfDoors               0\n",
       "parsing_unixtime            0\n",
       "priceCurrency               0\n",
       "productionDate              0\n",
       "sell_id                     0\n",
       "super_gen                   0\n",
       "vehicleConfiguration        0\n",
       "vehicleTransmission         0\n",
       "vendor                      0\n",
       "Владельцы                   0\n",
       "Владение                22691\n",
       "ПТС                         1\n",
       "Привод                      0\n",
       "Руль                        0\n",
       "Состояние                   0\n",
       "Таможня                     0\n",
       "dtype: int64"
      ]
     },
     "execution_count": 14,
     "metadata": {},
     "output_type": "execute_result"
    }
   ],
   "source": [
    "test.info()\n",
    "test.isna().sum()"
   ]
  },
  {
   "cell_type": "code",
   "execution_count": 15,
   "metadata": {
    "execution": {
     "iopub.execute_input": "2021-06-06T17:14:31.128205Z",
     "iopub.status.busy": "2021-06-06T17:14:31.127148Z",
     "iopub.status.idle": "2021-06-06T17:14:31.164103Z",
     "shell.execute_reply": "2021-06-06T17:14:31.164596Z",
     "shell.execute_reply.started": "2021-06-06T16:22:32.330203Z"
    },
    "papermill": {
     "duration": 0.202076,
     "end_time": "2021-06-06T17:14:31.164754",
     "exception": false,
     "start_time": "2021-06-06T17:14:30.962678",
     "status": "completed"
    },
    "tags": []
   },
   "outputs": [
    {
     "name": "stdout",
     "output_type": "stream",
     "text": [
      "Размерность тренировочного датасета:  (33531, 25)\n"
     ]
    },
    {
     "data": {
      "text/html": [
       "<div>\n",
       "<style scoped>\n",
       "    .dataframe tbody tr th:only-of-type {\n",
       "        vertical-align: middle;\n",
       "    }\n",
       "\n",
       "    .dataframe tbody tr th {\n",
       "        vertical-align: top;\n",
       "    }\n",
       "\n",
       "    .dataframe thead th {\n",
       "        text-align: right;\n",
       "    }\n",
       "</style>\n",
       "<table border=\"1\" class=\"dataframe\">\n",
       "  <thead>\n",
       "    <tr style=\"text-align: right;\">\n",
       "      <th></th>\n",
       "      <th>bodyType</th>\n",
       "      <th>brand</th>\n",
       "      <th>car_url</th>\n",
       "      <th>color</th>\n",
       "      <th>description</th>\n",
       "      <th>engineDisplacement</th>\n",
       "      <th>enginePower</th>\n",
       "      <th>fuelType</th>\n",
       "      <th>image</th>\n",
       "      <th>mileage</th>\n",
       "      <th>modelDate</th>\n",
       "      <th>model_name</th>\n",
       "      <th>name</th>\n",
       "      <th>numberOfDoors</th>\n",
       "      <th>priceCurrency</th>\n",
       "      <th>productionDate</th>\n",
       "      <th>vehicleConfiguration</th>\n",
       "      <th>vehicleTransmission</th>\n",
       "      <th>Владельцы</th>\n",
       "      <th>ПТС</th>\n",
       "      <th>Привод</th>\n",
       "      <th>Руль</th>\n",
       "      <th>Состояние</th>\n",
       "      <th>Таможня</th>\n",
       "      <th>price</th>\n",
       "    </tr>\n",
       "  </thead>\n",
       "  <tbody>\n",
       "    <tr>\n",
       "      <th>0</th>\n",
       "      <td>седан</td>\n",
       "      <td>MERCEDES</td>\n",
       "      <td>https://auto.ru/cars/used/sale/mercedes/e_klas...</td>\n",
       "      <td>чёрный</td>\n",
       "      <td>Автомобиль в который вложена Душа не требует о...</td>\n",
       "      <td>3.2 LTR</td>\n",
       "      <td>220 N12</td>\n",
       "      <td>бензин</td>\n",
       "      <td>https://avatars.mds.yandex.net/get-autoru-vos/...</td>\n",
       "      <td>240 000 км</td>\n",
       "      <td>1992</td>\n",
       "      <td>Mercedes-Benz E-Класс  I (W124) 320</td>\n",
       "      <td>3.2 AT</td>\n",
       "      <td>4</td>\n",
       "      <td>RUB</td>\n",
       "      <td>1994</td>\n",
       "      <td>SEDAN AUTOMATIC 3.2</td>\n",
       "      <td>автоматическая</td>\n",
       "      <td>3 или более</td>\n",
       "      <td>Оригинал</td>\n",
       "      <td>задний</td>\n",
       "      <td>Левый</td>\n",
       "      <td>Не требует ремонта</td>\n",
       "      <td>Растаможен</td>\n",
       "      <td>3 000 000 ₽</td>\n",
       "    </tr>\n",
       "    <tr>\n",
       "      <th>1</th>\n",
       "      <td>хэтчбек 5 дв.</td>\n",
       "      <td>CHEVROLET</td>\n",
       "      <td>https://auto.ru/cars/used/sale/chevrolet/aveo/...</td>\n",
       "      <td>белый</td>\n",
       "      <td>Я СОБСТВЕННИК!!! НЕ ПЕРЕКУП\\nМашина в основном...</td>\n",
       "      <td>1.6 LTR</td>\n",
       "      <td>115 N12</td>\n",
       "      <td>бензин</td>\n",
       "      <td>https://avatars.mds.yandex.net/get-autoru-vos/...</td>\n",
       "      <td>53 800 км</td>\n",
       "      <td>2011</td>\n",
       "      <td>Chevrolet Aveo II</td>\n",
       "      <td>1.6 AT</td>\n",
       "      <td>5</td>\n",
       "      <td>RUB</td>\n",
       "      <td>2013</td>\n",
       "      <td>HATCHBACK_5_DOORS AUTOMATIC 1.6</td>\n",
       "      <td>автоматическая</td>\n",
       "      <td>3 или более</td>\n",
       "      <td>Оригинал</td>\n",
       "      <td>передний</td>\n",
       "      <td>Левый</td>\n",
       "      <td>Не требует ремонта</td>\n",
       "      <td>Растаможен</td>\n",
       "      <td>638 000 ₽</td>\n",
       "    </tr>\n",
       "    <tr>\n",
       "      <th>2</th>\n",
       "      <td>внедорожник 5 дв.</td>\n",
       "      <td>LAMBORGHINI</td>\n",
       "      <td>https://auto.ru/cars/used/sale/lamborghini/uru...</td>\n",
       "      <td>жёлтый</td>\n",
       "      <td>Год выпуска: 2019. Пробег: 40 100 км. Кузов: в...</td>\n",
       "      <td>4.0 LTR</td>\n",
       "      <td>650 N12</td>\n",
       "      <td>бензин</td>\n",
       "      <td>https://autoru.naydex.net/dVb17C804/f1af98yqCU...</td>\n",
       "      <td>40 100 км</td>\n",
       "      <td>2017</td>\n",
       "      <td>Lamborghini Urus I</td>\n",
       "      <td>4.0 AT</td>\n",
       "      <td>5</td>\n",
       "      <td>RUB</td>\n",
       "      <td>2019</td>\n",
       "      <td>ALLROAD_5_DOORS AUTOMATIC 4.0</td>\n",
       "      <td>автоматическая</td>\n",
       "      <td>1 владелец</td>\n",
       "      <td>Оригинал</td>\n",
       "      <td>полный</td>\n",
       "      <td>Левый</td>\n",
       "      <td>Не требует ремонта</td>\n",
       "      <td>Растаможен</td>\n",
       "      <td>22 000 000 ₽</td>\n",
       "    </tr>\n",
       "    <tr>\n",
       "      <th>3</th>\n",
       "      <td>седан</td>\n",
       "      <td>BMW</td>\n",
       "      <td>https://auto.ru/cars/used/sale/bmw/m3/11034070...</td>\n",
       "      <td>синий</td>\n",
       "      <td>M3 2016 Рестайлинг,Individual в цвете tanzanit...</td>\n",
       "      <td>3.0 LTR</td>\n",
       "      <td>431 N12</td>\n",
       "      <td>бензин</td>\n",
       "      <td>https://autoru.naydex.net/dVb17C804/f1af98yqCU...</td>\n",
       "      <td>50 000 км</td>\n",
       "      <td>2014</td>\n",
       "      <td>BMW M3 V (F80)</td>\n",
       "      <td>3.0 AMT</td>\n",
       "      <td>4</td>\n",
       "      <td>RUB</td>\n",
       "      <td>2016</td>\n",
       "      <td>SEDAN ROBOT 3.0</td>\n",
       "      <td>роботизированная</td>\n",
       "      <td>2 владельца</td>\n",
       "      <td>Оригинал</td>\n",
       "      <td>задний</td>\n",
       "      <td>Левый</td>\n",
       "      <td>Не требует ремонта</td>\n",
       "      <td>Растаможен</td>\n",
       "      <td>4 740 000 ₽</td>\n",
       "    </tr>\n",
       "    <tr>\n",
       "      <th>4</th>\n",
       "      <td>купе</td>\n",
       "      <td>MCLAREN</td>\n",
       "      <td>https://auto.ru/cars/used/sale/mclaren/720s/11...</td>\n",
       "      <td>чёрный</td>\n",
       "      <td>В продаже McLaren 720S Perfomance, в идеальном...</td>\n",
       "      <td>4.0 LTR</td>\n",
       "      <td>720 N12</td>\n",
       "      <td>бензин</td>\n",
       "      <td>https://avatars.mds.yandex.net/get-autoru-vos/...</td>\n",
       "      <td>4 500 км</td>\n",
       "      <td>2017</td>\n",
       "      <td>McLaren 720S</td>\n",
       "      <td>4.0 AMT</td>\n",
       "      <td>2</td>\n",
       "      <td>RUB</td>\n",
       "      <td>2018</td>\n",
       "      <td>COUPE ROBOT 4.0</td>\n",
       "      <td>роботизированная</td>\n",
       "      <td>1 владелец</td>\n",
       "      <td>Оригинал</td>\n",
       "      <td>задний</td>\n",
       "      <td>Левый</td>\n",
       "      <td>Не требует ремонта</td>\n",
       "      <td>Растаможен</td>\n",
       "      <td>22 500 000 ₽</td>\n",
       "    </tr>\n",
       "  </tbody>\n",
       "</table>\n",
       "</div>"
      ],
      "text/plain": [
       "            bodyType        brand  \\\n",
       "0              седан     MERCEDES   \n",
       "1      хэтчбек 5 дв.    CHEVROLET   \n",
       "2  внедорожник 5 дв.  LAMBORGHINI   \n",
       "3              седан          BMW   \n",
       "4               купе      MCLAREN   \n",
       "\n",
       "                                             car_url   color  \\\n",
       "0  https://auto.ru/cars/used/sale/mercedes/e_klas...  чёрный   \n",
       "1  https://auto.ru/cars/used/sale/chevrolet/aveo/...   белый   \n",
       "2  https://auto.ru/cars/used/sale/lamborghini/uru...  жёлтый   \n",
       "3  https://auto.ru/cars/used/sale/bmw/m3/11034070...   синий   \n",
       "4  https://auto.ru/cars/used/sale/mclaren/720s/11...  чёрный   \n",
       "\n",
       "                                         description engineDisplacement  \\\n",
       "0  Автомобиль в который вложена Душа не требует о...            3.2 LTR   \n",
       "1  Я СОБСТВЕННИК!!! НЕ ПЕРЕКУП\\nМашина в основном...            1.6 LTR   \n",
       "2  Год выпуска: 2019. Пробег: 40 100 км. Кузов: в...            4.0 LTR   \n",
       "3  M3 2016 Рестайлинг,Individual в цвете tanzanit...            3.0 LTR   \n",
       "4  В продаже McLaren 720S Perfomance, в идеальном...            4.0 LTR   \n",
       "\n",
       "  enginePower fuelType                                              image  \\\n",
       "0     220 N12   бензин  https://avatars.mds.yandex.net/get-autoru-vos/...   \n",
       "1     115 N12   бензин  https://avatars.mds.yandex.net/get-autoru-vos/...   \n",
       "2     650 N12   бензин  https://autoru.naydex.net/dVb17C804/f1af98yqCU...   \n",
       "3     431 N12   бензин  https://autoru.naydex.net/dVb17C804/f1af98yqCU...   \n",
       "4     720 N12   бензин  https://avatars.mds.yandex.net/get-autoru-vos/...   \n",
       "\n",
       "      mileage  modelDate                           model_name     name  \\\n",
       "0  240 000 км       1992  Mercedes-Benz E-Класс  I (W124) 320   3.2 AT   \n",
       "1   53 800 км       2011                    Chevrolet Aveo II   1.6 AT   \n",
       "2   40 100 км       2017                   Lamborghini Urus I   4.0 AT   \n",
       "3   50 000 км       2014                       BMW M3 V (F80)  3.0 AMT   \n",
       "4    4 500 км       2017                         McLaren 720S  4.0 AMT   \n",
       "\n",
       "   numberOfDoors priceCurrency  productionDate  \\\n",
       "0              4           RUB            1994   \n",
       "1              5           RUB            2013   \n",
       "2              5           RUB            2019   \n",
       "3              4           RUB            2016   \n",
       "4              2           RUB            2018   \n",
       "\n",
       "              vehicleConfiguration vehicleTransmission    Владельцы       ПТС  \\\n",
       "0              SEDAN AUTOMATIC 3.2      автоматическая  3 или более  Оригинал   \n",
       "1  HATCHBACK_5_DOORS AUTOMATIC 1.6      автоматическая  3 или более  Оригинал   \n",
       "2    ALLROAD_5_DOORS AUTOMATIC 4.0      автоматическая   1 владелец  Оригинал   \n",
       "3                  SEDAN ROBOT 3.0    роботизированная  2 владельца  Оригинал   \n",
       "4                  COUPE ROBOT 4.0    роботизированная   1 владелец  Оригинал   \n",
       "\n",
       "     Привод   Руль           Состояние     Таможня         price  \n",
       "0    задний  Левый  Не требует ремонта  Растаможен   3 000 000 ₽  \n",
       "1  передний  Левый  Не требует ремонта  Растаможен     638 000 ₽  \n",
       "2    полный  Левый  Не требует ремонта  Растаможен  22 000 000 ₽  \n",
       "3    задний  Левый  Не требует ремонта  Растаможен   4 740 000 ₽  \n",
       "4    задний  Левый  Не требует ремонта  Растаможен  22 500 000 ₽  "
      ]
     },
     "metadata": {},
     "output_type": "display_data"
    },
    {
     "name": "stdout",
     "output_type": "stream",
     "text": [
      "Размерность тестового датасета:  (34686, 32)\n"
     ]
    },
    {
     "data": {
      "text/html": [
       "<div>\n",
       "<style scoped>\n",
       "    .dataframe tbody tr th:only-of-type {\n",
       "        vertical-align: middle;\n",
       "    }\n",
       "\n",
       "    .dataframe tbody tr th {\n",
       "        vertical-align: top;\n",
       "    }\n",
       "\n",
       "    .dataframe thead th {\n",
       "        text-align: right;\n",
       "    }\n",
       "</style>\n",
       "<table border=\"1\" class=\"dataframe\">\n",
       "  <thead>\n",
       "    <tr style=\"text-align: right;\">\n",
       "      <th></th>\n",
       "      <th>bodyType</th>\n",
       "      <th>brand</th>\n",
       "      <th>car_url</th>\n",
       "      <th>color</th>\n",
       "      <th>complectation_dict</th>\n",
       "      <th>description</th>\n",
       "      <th>engineDisplacement</th>\n",
       "      <th>enginePower</th>\n",
       "      <th>equipment_dict</th>\n",
       "      <th>fuelType</th>\n",
       "      <th>image</th>\n",
       "      <th>mileage</th>\n",
       "      <th>modelDate</th>\n",
       "      <th>model_info</th>\n",
       "      <th>model_name</th>\n",
       "      <th>name</th>\n",
       "      <th>numberOfDoors</th>\n",
       "      <th>parsing_unixtime</th>\n",
       "      <th>priceCurrency</th>\n",
       "      <th>productionDate</th>\n",
       "      <th>sell_id</th>\n",
       "      <th>super_gen</th>\n",
       "      <th>vehicleConfiguration</th>\n",
       "      <th>vehicleTransmission</th>\n",
       "      <th>vendor</th>\n",
       "      <th>Владельцы</th>\n",
       "      <th>Владение</th>\n",
       "      <th>ПТС</th>\n",
       "      <th>Привод</th>\n",
       "      <th>Руль</th>\n",
       "      <th>Состояние</th>\n",
       "      <th>Таможня</th>\n",
       "    </tr>\n",
       "  </thead>\n",
       "  <tbody>\n",
       "    <tr>\n",
       "      <th>0</th>\n",
       "      <td>лифтбек</td>\n",
       "      <td>SKODA</td>\n",
       "      <td>https://auto.ru/cars/used/sale/skoda/octavia/1...</td>\n",
       "      <td>синий</td>\n",
       "      <td>NaN</td>\n",
       "      <td>Все автомобили, представленные в продаже, прох...</td>\n",
       "      <td>1.2 LTR</td>\n",
       "      <td>105 N12</td>\n",
       "      <td>{\"engine-proof\":true,\"tinted-glass\":true,\"airb...</td>\n",
       "      <td>бензин</td>\n",
       "      <td>https://autoru.naydex.net/o9DBXQ270/5ac010hAY0...</td>\n",
       "      <td>74000</td>\n",
       "      <td>2013</td>\n",
       "      <td>{\"code\":\"OCTAVIA\",\"name\":\"Octavia\",\"ru_name\":\"...</td>\n",
       "      <td>OCTAVIA</td>\n",
       "      <td>1.2 AMT (105 л.с.)</td>\n",
       "      <td>5</td>\n",
       "      <td>1603226273</td>\n",
       "      <td>RUB</td>\n",
       "      <td>2014</td>\n",
       "      <td>1100575026</td>\n",
       "      <td>{\"id\":\"10373605\",\"displacement\":1197,\"engine_t...</td>\n",
       "      <td>LIFTBACK ROBOT 1.2</td>\n",
       "      <td>роботизированная</td>\n",
       "      <td>EUROPEAN</td>\n",
       "      <td>3 или более</td>\n",
       "      <td>NaN</td>\n",
       "      <td>Оригинал</td>\n",
       "      <td>передний</td>\n",
       "      <td>Левый</td>\n",
       "      <td>Не требует ремонта</td>\n",
       "      <td>Растаможен</td>\n",
       "    </tr>\n",
       "    <tr>\n",
       "      <th>1</th>\n",
       "      <td>лифтбек</td>\n",
       "      <td>SKODA</td>\n",
       "      <td>https://auto.ru/cars/used/sale/skoda/octavia/1...</td>\n",
       "      <td>чёрный</td>\n",
       "      <td>NaN</td>\n",
       "      <td>ЛОТ: 01217195\\nАвтопрага Север\\nДанный автомоб...</td>\n",
       "      <td>1.6 LTR</td>\n",
       "      <td>110 N12</td>\n",
       "      <td>{\"cruise-control\":true,\"asr\":true,\"esp\":true,\"...</td>\n",
       "      <td>бензин</td>\n",
       "      <td>https://autoru.naydex.net/o9DBXQ270/5ac010hAY0...</td>\n",
       "      <td>60563</td>\n",
       "      <td>2017</td>\n",
       "      <td>{\"code\":\"OCTAVIA\",\"name\":\"Octavia\",\"ru_name\":\"...</td>\n",
       "      <td>OCTAVIA</td>\n",
       "      <td>1.6 MT (110 л.с.)</td>\n",
       "      <td>5</td>\n",
       "      <td>1603226277</td>\n",
       "      <td>RUB</td>\n",
       "      <td>2017</td>\n",
       "      <td>1100549428</td>\n",
       "      <td>{\"id\":\"20913311\",\"displacement\":1598,\"engine_t...</td>\n",
       "      <td>LIFTBACK MECHANICAL 1.6</td>\n",
       "      <td>механическая</td>\n",
       "      <td>EUROPEAN</td>\n",
       "      <td>1 владелец</td>\n",
       "      <td>NaN</td>\n",
       "      <td>Оригинал</td>\n",
       "      <td>передний</td>\n",
       "      <td>Левый</td>\n",
       "      <td>Не требует ремонта</td>\n",
       "      <td>Растаможен</td>\n",
       "    </tr>\n",
       "    <tr>\n",
       "      <th>2</th>\n",
       "      <td>лифтбек</td>\n",
       "      <td>SKODA</td>\n",
       "      <td>https://auto.ru/cars/used/sale/skoda/superb/11...</td>\n",
       "      <td>серый</td>\n",
       "      <td>{\"id\":\"20026336\",\"name\":\"Ambition\",\"available_...</td>\n",
       "      <td>Все автомобили, представленные в продаже, прох...</td>\n",
       "      <td>1.8 LTR</td>\n",
       "      <td>152 N12</td>\n",
       "      <td>{\"cruise-control\":true,\"tinted-glass\":true,\"es...</td>\n",
       "      <td>бензин</td>\n",
       "      <td>https://avatars.mds.yandex.net/get-autoru-vos/...</td>\n",
       "      <td>88000</td>\n",
       "      <td>2013</td>\n",
       "      <td>{\"code\":\"SUPERB\",\"name\":\"Superb\",\"ru_name\":\"Су...</td>\n",
       "      <td>SUPERB</td>\n",
       "      <td>DSG 1.8 AMT (152 л.с.)</td>\n",
       "      <td>5</td>\n",
       "      <td>1603226280</td>\n",
       "      <td>RUB</td>\n",
       "      <td>2014</td>\n",
       "      <td>1100658222</td>\n",
       "      <td>{\"id\":\"20026323\",\"nameplate\":\"DSG\",\"displaceme...</td>\n",
       "      <td>LIFTBACK ROBOT 1.8</td>\n",
       "      <td>роботизированная</td>\n",
       "      <td>EUROPEAN</td>\n",
       "      <td>1 владелец</td>\n",
       "      <td>NaN</td>\n",
       "      <td>Оригинал</td>\n",
       "      <td>передний</td>\n",
       "      <td>Левый</td>\n",
       "      <td>Не требует ремонта</td>\n",
       "      <td>Растаможен</td>\n",
       "    </tr>\n",
       "    <tr>\n",
       "      <th>3</th>\n",
       "      <td>лифтбек</td>\n",
       "      <td>SKODA</td>\n",
       "      <td>https://auto.ru/cars/used/sale/skoda/octavia/1...</td>\n",
       "      <td>коричневый</td>\n",
       "      <td>{\"id\":\"20803582\",\"name\":\"Ambition\",\"available_...</td>\n",
       "      <td>КОМПЛЕКТ ЗИМНЕЙ (ЛЕТНЕЙ) РЕЗИНЫ ПО СЕЗОНУ В ПО...</td>\n",
       "      <td>1.6 LTR</td>\n",
       "      <td>110 N12</td>\n",
       "      <td>{\"cruise-control\":true,\"roller-blind-for-rear-...</td>\n",
       "      <td>бензин</td>\n",
       "      <td>https://autoru.naydex.net/o9DBXQ270/5ac010hAY0...</td>\n",
       "      <td>95000</td>\n",
       "      <td>2013</td>\n",
       "      <td>{\"code\":\"OCTAVIA\",\"name\":\"Octavia\",\"ru_name\":\"...</td>\n",
       "      <td>OCTAVIA</td>\n",
       "      <td>1.6 AT (110 л.с.)</td>\n",
       "      <td>5</td>\n",
       "      <td>1603226284</td>\n",
       "      <td>RUB</td>\n",
       "      <td>2014</td>\n",
       "      <td>1100937408</td>\n",
       "      <td>{\"id\":\"20105521\",\"displacement\":1598,\"engine_t...</td>\n",
       "      <td>LIFTBACK AUTOMATIC 1.6</td>\n",
       "      <td>автоматическая</td>\n",
       "      <td>EUROPEAN</td>\n",
       "      <td>1 владелец</td>\n",
       "      <td>NaN</td>\n",
       "      <td>Оригинал</td>\n",
       "      <td>передний</td>\n",
       "      <td>Левый</td>\n",
       "      <td>Не требует ремонта</td>\n",
       "      <td>Растаможен</td>\n",
       "    </tr>\n",
       "    <tr>\n",
       "      <th>4</th>\n",
       "      <td>лифтбек</td>\n",
       "      <td>SKODA</td>\n",
       "      <td>https://auto.ru/cars/used/sale/skoda/octavia/1...</td>\n",
       "      <td>белый</td>\n",
       "      <td>NaN</td>\n",
       "      <td>ЛОТ: 01220889\\nАвтопрага Север\\n\\nВы можете по...</td>\n",
       "      <td>1.8 LTR</td>\n",
       "      <td>152 N12</td>\n",
       "      <td>{\"cruise-control\":true,\"asr\":true,\"esp\":true,\"...</td>\n",
       "      <td>бензин</td>\n",
       "      <td>https://autoru.naydex.net/o9DBXQ270/5ac010hAY0...</td>\n",
       "      <td>58536</td>\n",
       "      <td>2008</td>\n",
       "      <td>{\"code\":\"OCTAVIA\",\"name\":\"Octavia\",\"ru_name\":\"...</td>\n",
       "      <td>OCTAVIA</td>\n",
       "      <td>1.8 AT (152 л.с.)</td>\n",
       "      <td>5</td>\n",
       "      <td>1603226288</td>\n",
       "      <td>RUB</td>\n",
       "      <td>2012</td>\n",
       "      <td>1101037972</td>\n",
       "      <td>{\"id\":\"4561004\",\"displacement\":1798,\"engine_ty...</td>\n",
       "      <td>LIFTBACK AUTOMATIC 1.8</td>\n",
       "      <td>автоматическая</td>\n",
       "      <td>EUROPEAN</td>\n",
       "      <td>1 владелец</td>\n",
       "      <td>NaN</td>\n",
       "      <td>Оригинал</td>\n",
       "      <td>передний</td>\n",
       "      <td>Левый</td>\n",
       "      <td>Не требует ремонта</td>\n",
       "      <td>Растаможен</td>\n",
       "    </tr>\n",
       "  </tbody>\n",
       "</table>\n",
       "</div>"
      ],
      "text/plain": [
       "  bodyType  brand                                            car_url  \\\n",
       "0  лифтбек  SKODA  https://auto.ru/cars/used/sale/skoda/octavia/1...   \n",
       "1  лифтбек  SKODA  https://auto.ru/cars/used/sale/skoda/octavia/1...   \n",
       "2  лифтбек  SKODA  https://auto.ru/cars/used/sale/skoda/superb/11...   \n",
       "3  лифтбек  SKODA  https://auto.ru/cars/used/sale/skoda/octavia/1...   \n",
       "4  лифтбек  SKODA  https://auto.ru/cars/used/sale/skoda/octavia/1...   \n",
       "\n",
       "        color                                 complectation_dict  \\\n",
       "0       синий                                                NaN   \n",
       "1      чёрный                                                NaN   \n",
       "2       серый  {\"id\":\"20026336\",\"name\":\"Ambition\",\"available_...   \n",
       "3  коричневый  {\"id\":\"20803582\",\"name\":\"Ambition\",\"available_...   \n",
       "4       белый                                                NaN   \n",
       "\n",
       "                                         description engineDisplacement  \\\n",
       "0  Все автомобили, представленные в продаже, прох...            1.2 LTR   \n",
       "1  ЛОТ: 01217195\\nАвтопрага Север\\nДанный автомоб...            1.6 LTR   \n",
       "2  Все автомобили, представленные в продаже, прох...            1.8 LTR   \n",
       "3  КОМПЛЕКТ ЗИМНЕЙ (ЛЕТНЕЙ) РЕЗИНЫ ПО СЕЗОНУ В ПО...            1.6 LTR   \n",
       "4  ЛОТ: 01220889\\nАвтопрага Север\\n\\nВы можете по...            1.8 LTR   \n",
       "\n",
       "  enginePower                                     equipment_dict fuelType  \\\n",
       "0     105 N12  {\"engine-proof\":true,\"tinted-glass\":true,\"airb...   бензин   \n",
       "1     110 N12  {\"cruise-control\":true,\"asr\":true,\"esp\":true,\"...   бензин   \n",
       "2     152 N12  {\"cruise-control\":true,\"tinted-glass\":true,\"es...   бензин   \n",
       "3     110 N12  {\"cruise-control\":true,\"roller-blind-for-rear-...   бензин   \n",
       "4     152 N12  {\"cruise-control\":true,\"asr\":true,\"esp\":true,\"...   бензин   \n",
       "\n",
       "                                               image  mileage  modelDate  \\\n",
       "0  https://autoru.naydex.net/o9DBXQ270/5ac010hAY0...    74000       2013   \n",
       "1  https://autoru.naydex.net/o9DBXQ270/5ac010hAY0...    60563       2017   \n",
       "2  https://avatars.mds.yandex.net/get-autoru-vos/...    88000       2013   \n",
       "3  https://autoru.naydex.net/o9DBXQ270/5ac010hAY0...    95000       2013   \n",
       "4  https://autoru.naydex.net/o9DBXQ270/5ac010hAY0...    58536       2008   \n",
       "\n",
       "                                          model_info model_name  \\\n",
       "0  {\"code\":\"OCTAVIA\",\"name\":\"Octavia\",\"ru_name\":\"...    OCTAVIA   \n",
       "1  {\"code\":\"OCTAVIA\",\"name\":\"Octavia\",\"ru_name\":\"...    OCTAVIA   \n",
       "2  {\"code\":\"SUPERB\",\"name\":\"Superb\",\"ru_name\":\"Су...     SUPERB   \n",
       "3  {\"code\":\"OCTAVIA\",\"name\":\"Octavia\",\"ru_name\":\"...    OCTAVIA   \n",
       "4  {\"code\":\"OCTAVIA\",\"name\":\"Octavia\",\"ru_name\":\"...    OCTAVIA   \n",
       "\n",
       "                     name  numberOfDoors  parsing_unixtime priceCurrency  \\\n",
       "0      1.2 AMT (105 л.с.)              5        1603226273           RUB   \n",
       "1       1.6 MT (110 л.с.)              5        1603226277           RUB   \n",
       "2  DSG 1.8 AMT (152 л.с.)              5        1603226280           RUB   \n",
       "3       1.6 AT (110 л.с.)              5        1603226284           RUB   \n",
       "4       1.8 AT (152 л.с.)              5        1603226288           RUB   \n",
       "\n",
       "   productionDate     sell_id  \\\n",
       "0            2014  1100575026   \n",
       "1            2017  1100549428   \n",
       "2            2014  1100658222   \n",
       "3            2014  1100937408   \n",
       "4            2012  1101037972   \n",
       "\n",
       "                                           super_gen     vehicleConfiguration  \\\n",
       "0  {\"id\":\"10373605\",\"displacement\":1197,\"engine_t...       LIFTBACK ROBOT 1.2   \n",
       "1  {\"id\":\"20913311\",\"displacement\":1598,\"engine_t...  LIFTBACK MECHANICAL 1.6   \n",
       "2  {\"id\":\"20026323\",\"nameplate\":\"DSG\",\"displaceme...       LIFTBACK ROBOT 1.8   \n",
       "3  {\"id\":\"20105521\",\"displacement\":1598,\"engine_t...   LIFTBACK AUTOMATIC 1.6   \n",
       "4  {\"id\":\"4561004\",\"displacement\":1798,\"engine_ty...   LIFTBACK AUTOMATIC 1.8   \n",
       "\n",
       "  vehicleTransmission    vendor    Владельцы Владение       ПТС    Привод  \\\n",
       "0    роботизированная  EUROPEAN  3 или более      NaN  Оригинал  передний   \n",
       "1        механическая  EUROPEAN   1 владелец      NaN  Оригинал  передний   \n",
       "2    роботизированная  EUROPEAN   1 владелец      NaN  Оригинал  передний   \n",
       "3      автоматическая  EUROPEAN   1 владелец      NaN  Оригинал  передний   \n",
       "4      автоматическая  EUROPEAN   1 владелец      NaN  Оригинал  передний   \n",
       "\n",
       "    Руль           Состояние     Таможня  \n",
       "0  Левый  Не требует ремонта  Растаможен  \n",
       "1  Левый  Не требует ремонта  Растаможен  \n",
       "2  Левый  Не требует ремонта  Растаможен  \n",
       "3  Левый  Не требует ремонта  Растаможен  \n",
       "4  Левый  Не требует ремонта  Растаможен  "
      ]
     },
     "metadata": {},
     "output_type": "display_data"
    }
   ],
   "source": [
    "# первичный осмотр\n",
    "pd.set_option('display.max_columns', None)\n",
    "print('Размерность тренировочного датасета: ', train.shape)\n",
    "display(train.head(5))\n",
    "print('Размерность тестового датасета: ', test.shape)\n",
    "display(test.head(5))"
   ]
  },
  {
   "cell_type": "markdown",
   "metadata": {
    "papermill": {
     "duration": 0.135791,
     "end_time": "2021-06-06T17:14:31.437859",
     "exception": false,
     "start_time": "2021-06-06T17:14:31.302068",
     "status": "completed"
    },
    "tags": []
   },
   "source": [
    "## Data Preprocessing"
   ]
  },
  {
   "cell_type": "code",
   "execution_count": 16,
   "metadata": {
    "execution": {
     "iopub.execute_input": "2021-06-06T17:14:31.720903Z",
     "iopub.status.busy": "2021-06-06T17:14:31.720172Z",
     "iopub.status.idle": "2021-06-06T17:14:31.742174Z",
     "shell.execute_reply": "2021-06-06T17:14:31.741632Z",
     "shell.execute_reply.started": "2021-06-06T16:22:32.395594Z"
    },
    "papermill": {
     "duration": 0.166902,
     "end_time": "2021-06-06T17:14:31.742307",
     "exception": false,
     "start_time": "2021-06-06T17:14:31.575405",
     "status": "completed"
    },
    "tags": []
   },
   "outputs": [],
   "source": [
    "# удаляем дубликаты\n",
    "train = train.drop_duplicates(subset=['car_url'])"
   ]
  },
  {
   "cell_type": "code",
   "execution_count": 17,
   "metadata": {
    "execution": {
     "iopub.execute_input": "2021-06-06T17:14:32.028467Z",
     "iopub.status.busy": "2021-06-06T17:14:32.027429Z",
     "iopub.status.idle": "2021-06-06T17:14:32.034087Z",
     "shell.execute_reply": "2021-06-06T17:14:32.033593Z",
     "shell.execute_reply.started": "2021-06-06T16:22:32.424661Z"
    },
    "papermill": {
     "duration": 0.155186,
     "end_time": "2021-06-06T17:14:32.034206",
     "exception": false,
     "start_time": "2021-06-06T17:14:31.879020",
     "status": "completed"
    },
    "tags": []
   },
   "outputs": [
    {
     "data": {
      "text/plain": [
       "0"
      ]
     },
     "execution_count": 17,
     "metadata": {},
     "output_type": "execute_result"
    }
   ],
   "source": [
    "# проверим датасеты на дубликаты по уникальному идентификатору объявления\n",
    "train['car_url'].duplicated().sum()\n",
    "test['sell_id'].duplicated().sum()"
   ]
  },
  {
   "cell_type": "code",
   "execution_count": 18,
   "metadata": {
    "execution": {
     "iopub.execute_input": "2021-06-06T17:14:32.324678Z",
     "iopub.status.busy": "2021-06-06T17:14:32.323775Z",
     "iopub.status.idle": "2021-06-06T17:14:32.326712Z",
     "shell.execute_reply": "2021-06-06T17:14:32.326158Z",
     "shell.execute_reply.started": "2021-06-06T16:22:32.441878Z"
    },
    "papermill": {
     "duration": 0.153046,
     "end_time": "2021-06-06T17:14:32.326830",
     "exception": false,
     "start_time": "2021-06-06T17:14:32.173784",
     "status": "completed"
    },
    "tags": []
   },
   "outputs": [],
   "source": [
    "# нам удалось спарсить не все данные(либо в некоторых мы не увидели необходимости), содержащиеся в тестовом датафрейме\n",
    "# удалим из тестового датафрейма эти признаки (их не так много)\n",
    "test.drop(['complectation_dict', 'equipment_dict', 'model_info',\n",
    "           'super_gen', 'vendor', 'Владение'], axis=1, inplace=True)"
   ]
  },
  {
   "cell_type": "code",
   "execution_count": 19,
   "metadata": {
    "execution": {
     "iopub.execute_input": "2021-06-06T17:14:32.612169Z",
     "iopub.status.busy": "2021-06-06T17:14:32.608155Z",
     "iopub.status.idle": "2021-06-06T17:14:32.732050Z",
     "shell.execute_reply": "2021-06-06T17:14:32.731511Z",
     "shell.execute_reply.started": "2021-06-06T16:22:32.463189Z"
    },
    "papermill": {
     "duration": 0.267615,
     "end_time": "2021-06-06T17:14:32.732180",
     "exception": false,
     "start_time": "2021-06-06T17:14:32.464565",
     "status": "completed"
    },
    "tags": []
   },
   "outputs": [],
   "source": [
    "test['price'] = 0\n",
    "df_train = train\n",
    "df_test = test\n",
    "\n",
    "# удалим строки, где отсутствует цена\n",
    "df_train = df_train.dropna(axis=0, subset=['price'])\n",
    "\n",
    "# для корректной обработки признаков объединяем трейн и тест в один датасет\n",
    "df_train['sample'] = 1 # помечаем где у нас трейн\n",
    "df_test['sample'] = 0 # помечаем где у нас тест\n",
    "\n",
    "data = df_test.append(df_train, sort=False).reset_index(drop=True) # объединяем"
   ]
  },
  {
   "cell_type": "code",
   "execution_count": 20,
   "metadata": {
    "execution": {
     "iopub.execute_input": "2021-06-06T17:14:33.016332Z",
     "iopub.status.busy": "2021-06-06T17:14:33.015495Z",
     "iopub.status.idle": "2021-06-06T17:14:33.018820Z",
     "shell.execute_reply": "2021-06-06T17:14:33.019382Z",
     "shell.execute_reply.started": "2021-06-06T16:22:32.59327Z"
    },
    "papermill": {
     "duration": 0.151361,
     "end_time": "2021-06-06T17:14:33.019524",
     "exception": false,
     "start_time": "2021-06-06T17:14:32.868163",
     "status": "completed"
    },
    "tags": []
   },
   "outputs": [
    {
     "data": {
      "text/plain": [
       "False"
      ]
     },
     "execution_count": 20,
     "metadata": {},
     "output_type": "execute_result"
    }
   ],
   "source": [
    "data.price.isnull().values.any()"
   ]
  },
  {
   "cell_type": "code",
   "execution_count": 21,
   "metadata": {
    "execution": {
     "iopub.execute_input": "2021-06-06T17:14:33.295236Z",
     "iopub.status.busy": "2021-06-06T17:14:33.294264Z",
     "iopub.status.idle": "2021-06-06T17:14:33.378431Z",
     "shell.execute_reply": "2021-06-06T17:14:33.377794Z",
     "shell.execute_reply.started": "2021-06-06T16:22:32.604857Z"
    },
    "papermill": {
     "duration": 0.22235,
     "end_time": "2021-06-06T17:14:33.378561",
     "exception": false,
     "start_time": "2021-06-06T17:14:33.156211",
     "status": "completed"
    },
    "tags": []
   },
   "outputs": [
    {
     "data": {
      "text/html": [
       "<div>\n",
       "<style scoped>\n",
       "    .dataframe tbody tr th:only-of-type {\n",
       "        vertical-align: middle;\n",
       "    }\n",
       "\n",
       "    .dataframe tbody tr th {\n",
       "        vertical-align: top;\n",
       "    }\n",
       "\n",
       "    .dataframe thead th {\n",
       "        text-align: right;\n",
       "    }\n",
       "</style>\n",
       "<table border=\"1\" class=\"dataframe\">\n",
       "  <thead>\n",
       "    <tr style=\"text-align: right;\">\n",
       "      <th></th>\n",
       "      <th>bodyType</th>\n",
       "      <th>brand</th>\n",
       "      <th>car_url</th>\n",
       "      <th>color</th>\n",
       "      <th>description</th>\n",
       "      <th>engineDisplacement</th>\n",
       "      <th>enginePower</th>\n",
       "      <th>fuelType</th>\n",
       "      <th>image</th>\n",
       "      <th>mileage</th>\n",
       "      <th>modelDate</th>\n",
       "      <th>model_name</th>\n",
       "      <th>name</th>\n",
       "      <th>numberOfDoors</th>\n",
       "      <th>parsing_unixtime</th>\n",
       "      <th>priceCurrency</th>\n",
       "      <th>productionDate</th>\n",
       "      <th>sell_id</th>\n",
       "      <th>vehicleConfiguration</th>\n",
       "      <th>vehicleTransmission</th>\n",
       "      <th>Владельцы</th>\n",
       "      <th>ПТС</th>\n",
       "      <th>Привод</th>\n",
       "      <th>Руль</th>\n",
       "      <th>Состояние</th>\n",
       "      <th>Таможня</th>\n",
       "      <th>price</th>\n",
       "      <th>sample</th>\n",
       "    </tr>\n",
       "  </thead>\n",
       "  <tbody>\n",
       "    <tr>\n",
       "      <th>46434</th>\n",
       "      <td>седан</td>\n",
       "      <td>NISSAN</td>\n",
       "      <td>https://auto.ru/cars/used/sale/nissan/primera/...</td>\n",
       "      <td>зелёный</td>\n",
       "      <td>На полном ходу. Мотор и коробка в порядке. Док...</td>\n",
       "      <td>1.6 LTR</td>\n",
       "      <td>99 N12</td>\n",
       "      <td>бензин</td>\n",
       "      <td>https://avatars.mds.yandex.net/get-autoru-vos/...</td>\n",
       "      <td>306000</td>\n",
       "      <td>1998</td>\n",
       "      <td>PRIMERA</td>\n",
       "      <td>Nissan Primera  II (P11)</td>\n",
       "      <td>4</td>\n",
       "      <td>NaN</td>\n",
       "      <td>RUB</td>\n",
       "      <td>1998</td>\n",
       "      <td>NaN</td>\n",
       "      <td>SEDAN MECHANICAL 1.6</td>\n",
       "      <td>механическая</td>\n",
       "      <td>3 или более</td>\n",
       "      <td>Дубликат</td>\n",
       "      <td>передний</td>\n",
       "      <td>Левый</td>\n",
       "      <td>Не требует ремонта</td>\n",
       "      <td>Растаможен</td>\n",
       "      <td>105000</td>\n",
       "      <td>1</td>\n",
       "    </tr>\n",
       "    <tr>\n",
       "      <th>58912</th>\n",
       "      <td>седан</td>\n",
       "      <td>TOYOTA</td>\n",
       "      <td>https://auto.ru/cars/used/sale/toyota/prius/11...</td>\n",
       "      <td>серый</td>\n",
       "      <td>Авто в хорошем состоянии , элетропакет, высоко...</td>\n",
       "      <td>1.5 LTR</td>\n",
       "      <td>58 N12</td>\n",
       "      <td>гибрид</td>\n",
       "      <td>https://autoru.naydex.net/dPnj9f451/637517zlM/...</td>\n",
       "      <td>400000</td>\n",
       "      <td>1999</td>\n",
       "      <td>PRIUS</td>\n",
       "      <td>Toyota Prius  I (XW10)</td>\n",
       "      <td>4</td>\n",
       "      <td>NaN</td>\n",
       "      <td>RUB</td>\n",
       "      <td>1999</td>\n",
       "      <td>NaN</td>\n",
       "      <td>SEDAN AUTOMATIC 1.5</td>\n",
       "      <td>автоматическая</td>\n",
       "      <td>2 владельца</td>\n",
       "      <td>Оригинал</td>\n",
       "      <td>передний</td>\n",
       "      <td>Правый</td>\n",
       "      <td>Не требует ремонта</td>\n",
       "      <td>Растаможен</td>\n",
       "      <td>270000</td>\n",
       "      <td>1</td>\n",
       "    </tr>\n",
       "  </tbody>\n",
       "</table>\n",
       "</div>"
      ],
      "text/plain": [
       "      bodyType   brand                                            car_url  \\\n",
       "46434    седан  NISSAN  https://auto.ru/cars/used/sale/nissan/primera/...   \n",
       "58912    седан  TOYOTA  https://auto.ru/cars/used/sale/toyota/prius/11...   \n",
       "\n",
       "         color                                        description  \\\n",
       "46434  зелёный  На полном ходу. Мотор и коробка в порядке. Док...   \n",
       "58912    серый  Авто в хорошем состоянии , элетропакет, высоко...   \n",
       "\n",
       "      engineDisplacement enginePower fuelType  \\\n",
       "46434            1.6 LTR      99 N12   бензин   \n",
       "58912            1.5 LTR      58 N12   гибрид   \n",
       "\n",
       "                                                   image mileage  modelDate  \\\n",
       "46434  https://avatars.mds.yandex.net/get-autoru-vos/...  306000       1998   \n",
       "58912  https://autoru.naydex.net/dPnj9f451/637517zlM/...  400000       1999   \n",
       "\n",
       "      model_name                      name  numberOfDoors  parsing_unixtime  \\\n",
       "46434    PRIMERA  Nissan Primera  II (P11)              4               NaN   \n",
       "58912      PRIUS    Toyota Prius  I (XW10)              4               NaN   \n",
       "\n",
       "      priceCurrency  productionDate  sell_id  vehicleConfiguration  \\\n",
       "46434           RUB            1998      NaN  SEDAN MECHANICAL 1.6   \n",
       "58912           RUB            1999      NaN   SEDAN AUTOMATIC 1.5   \n",
       "\n",
       "      vehicleTransmission    Владельцы       ПТС    Привод    Руль  \\\n",
       "46434        механическая  3 или более  Дубликат  передний   Левый   \n",
       "58912      автоматическая  2 владельца  Оригинал  передний  Правый   \n",
       "\n",
       "                Состояние     Таможня   price  sample  \n",
       "46434  Не требует ремонта  Растаможен  105000       1  \n",
       "58912  Не требует ремонта  Растаможен  270000       1  "
      ]
     },
     "execution_count": 21,
     "metadata": {},
     "output_type": "execute_result"
    }
   ],
   "source": [
    "data.sample(2)"
   ]
  },
  {
   "cell_type": "code",
   "execution_count": 22,
   "metadata": {
    "execution": {
     "iopub.execute_input": "2021-06-06T17:14:33.684770Z",
     "iopub.status.busy": "2021-06-06T17:14:33.684079Z",
     "iopub.status.idle": "2021-06-06T17:14:33.764542Z",
     "shell.execute_reply": "2021-06-06T17:14:33.763985Z",
     "shell.execute_reply.started": "2021-06-06T16:22:32.691919Z"
    },
    "papermill": {
     "duration": 0.248593,
     "end_time": "2021-06-06T17:14:33.764667",
     "exception": false,
     "start_time": "2021-06-06T17:14:33.516074",
     "status": "completed"
    },
    "tags": []
   },
   "outputs": [],
   "source": [
    "# еще раз проверим на дубликаты\n",
    "# Для этого приведем их к одному виду int, т.к. формат в трейне и тесте отличается.\n",
    "data['car_url'].value_counts()\n",
    "data = data.drop_duplicates(subset=['car_url'])"
   ]
  },
  {
   "cell_type": "code",
   "execution_count": 23,
   "metadata": {
    "execution": {
     "iopub.execute_input": "2021-06-06T17:14:34.087921Z",
     "iopub.status.busy": "2021-06-06T17:14:34.067114Z",
     "iopub.status.idle": "2021-06-06T17:14:34.092730Z",
     "shell.execute_reply": "2021-06-06T17:14:34.093239Z",
     "shell.execute_reply.started": "2021-06-06T16:22:32.796491Z"
    },
    "papermill": {
     "duration": 0.189872,
     "end_time": "2021-06-06T17:14:34.093405",
     "exception": false,
     "start_time": "2021-06-06T17:14:33.903533",
     "status": "completed"
    },
    "tags": []
   },
   "outputs": [
    {
     "data": {
      "text/html": [
       "<div>\n",
       "<style scoped>\n",
       "    .dataframe tbody tr th:only-of-type {\n",
       "        vertical-align: middle;\n",
       "    }\n",
       "\n",
       "    .dataframe tbody tr th {\n",
       "        vertical-align: top;\n",
       "    }\n",
       "\n",
       "    .dataframe thead th {\n",
       "        text-align: right;\n",
       "    }\n",
       "</style>\n",
       "<table border=\"1\" class=\"dataframe\">\n",
       "  <thead>\n",
       "    <tr style=\"text-align: right;\">\n",
       "      <th></th>\n",
       "      <th>bodyType</th>\n",
       "      <th>brand</th>\n",
       "      <th>car_url</th>\n",
       "      <th>color</th>\n",
       "      <th>description</th>\n",
       "      <th>engineDisplacement</th>\n",
       "      <th>enginePower</th>\n",
       "      <th>fuelType</th>\n",
       "      <th>image</th>\n",
       "      <th>mileage</th>\n",
       "      <th>modelDate</th>\n",
       "      <th>model_name</th>\n",
       "      <th>name</th>\n",
       "      <th>numberOfDoors</th>\n",
       "      <th>parsing_unixtime</th>\n",
       "      <th>priceCurrency</th>\n",
       "      <th>productionDate</th>\n",
       "      <th>sell_id</th>\n",
       "      <th>vehicleConfiguration</th>\n",
       "      <th>vehicleTransmission</th>\n",
       "      <th>Владельцы</th>\n",
       "      <th>ПТС</th>\n",
       "      <th>Привод</th>\n",
       "      <th>Руль</th>\n",
       "      <th>Состояние</th>\n",
       "      <th>Таможня</th>\n",
       "      <th>price</th>\n",
       "      <th>sample</th>\n",
       "    </tr>\n",
       "  </thead>\n",
       "  <tbody>\n",
       "    <tr>\n",
       "      <th>0</th>\n",
       "      <td>лифтбек</td>\n",
       "      <td>SKODA</td>\n",
       "      <td>https://auto.ru/cars/used/sale/skoda/octavia/1...</td>\n",
       "      <td>синий</td>\n",
       "      <td>Все автомобили, представленные в продаже, прох...</td>\n",
       "      <td>1.2 LTR</td>\n",
       "      <td>105 N12</td>\n",
       "      <td>бензин</td>\n",
       "      <td>https://autoru.naydex.net/o9DBXQ270/5ac010hAY0...</td>\n",
       "      <td>74000</td>\n",
       "      <td>2013</td>\n",
       "      <td>OCTAVIA</td>\n",
       "      <td>1.2 AMT (105 л.с.)</td>\n",
       "      <td>5</td>\n",
       "      <td>1.603226e+09</td>\n",
       "      <td>RUB</td>\n",
       "      <td>2014</td>\n",
       "      <td>1.100575e+09</td>\n",
       "      <td>LIFTBACK ROBOT 1.2</td>\n",
       "      <td>роботизированная</td>\n",
       "      <td>3 или более</td>\n",
       "      <td>Оригинал</td>\n",
       "      <td>передний</td>\n",
       "      <td>Левый</td>\n",
       "      <td>Не требует ремонта</td>\n",
       "      <td>Растаможен</td>\n",
       "      <td>0</td>\n",
       "      <td>0</td>\n",
       "    </tr>\n",
       "    <tr>\n",
       "      <th>1</th>\n",
       "      <td>лифтбек</td>\n",
       "      <td>SKODA</td>\n",
       "      <td>https://auto.ru/cars/used/sale/skoda/octavia/1...</td>\n",
       "      <td>чёрный</td>\n",
       "      <td>ЛОТ: 01217195\\nАвтопрага Север\\nДанный автомоб...</td>\n",
       "      <td>1.6 LTR</td>\n",
       "      <td>110 N12</td>\n",
       "      <td>бензин</td>\n",
       "      <td>https://autoru.naydex.net/o9DBXQ270/5ac010hAY0...</td>\n",
       "      <td>60563</td>\n",
       "      <td>2017</td>\n",
       "      <td>OCTAVIA</td>\n",
       "      <td>1.6 MT (110 л.с.)</td>\n",
       "      <td>5</td>\n",
       "      <td>1.603226e+09</td>\n",
       "      <td>RUB</td>\n",
       "      <td>2017</td>\n",
       "      <td>1.100549e+09</td>\n",
       "      <td>LIFTBACK MECHANICAL 1.6</td>\n",
       "      <td>механическая</td>\n",
       "      <td>1 владелец</td>\n",
       "      <td>Оригинал</td>\n",
       "      <td>передний</td>\n",
       "      <td>Левый</td>\n",
       "      <td>Не требует ремонта</td>\n",
       "      <td>Растаможен</td>\n",
       "      <td>0</td>\n",
       "      <td>0</td>\n",
       "    </tr>\n",
       "    <tr>\n",
       "      <th>2</th>\n",
       "      <td>лифтбек</td>\n",
       "      <td>SKODA</td>\n",
       "      <td>https://auto.ru/cars/used/sale/skoda/superb/11...</td>\n",
       "      <td>серый</td>\n",
       "      <td>Все автомобили, представленные в продаже, прох...</td>\n",
       "      <td>1.8 LTR</td>\n",
       "      <td>152 N12</td>\n",
       "      <td>бензин</td>\n",
       "      <td>https://avatars.mds.yandex.net/get-autoru-vos/...</td>\n",
       "      <td>88000</td>\n",
       "      <td>2013</td>\n",
       "      <td>SUPERB</td>\n",
       "      <td>DSG 1.8 AMT (152 л.с.)</td>\n",
       "      <td>5</td>\n",
       "      <td>1.603226e+09</td>\n",
       "      <td>RUB</td>\n",
       "      <td>2014</td>\n",
       "      <td>1.100658e+09</td>\n",
       "      <td>LIFTBACK ROBOT 1.8</td>\n",
       "      <td>роботизированная</td>\n",
       "      <td>1 владелец</td>\n",
       "      <td>Оригинал</td>\n",
       "      <td>передний</td>\n",
       "      <td>Левый</td>\n",
       "      <td>Не требует ремонта</td>\n",
       "      <td>Растаможен</td>\n",
       "      <td>0</td>\n",
       "      <td>0</td>\n",
       "    </tr>\n",
       "    <tr>\n",
       "      <th>3</th>\n",
       "      <td>лифтбек</td>\n",
       "      <td>SKODA</td>\n",
       "      <td>https://auto.ru/cars/used/sale/skoda/octavia/1...</td>\n",
       "      <td>коричневый</td>\n",
       "      <td>КОМПЛЕКТ ЗИМНЕЙ (ЛЕТНЕЙ) РЕЗИНЫ ПО СЕЗОНУ В ПО...</td>\n",
       "      <td>1.6 LTR</td>\n",
       "      <td>110 N12</td>\n",
       "      <td>бензин</td>\n",
       "      <td>https://autoru.naydex.net/o9DBXQ270/5ac010hAY0...</td>\n",
       "      <td>95000</td>\n",
       "      <td>2013</td>\n",
       "      <td>OCTAVIA</td>\n",
       "      <td>1.6 AT (110 л.с.)</td>\n",
       "      <td>5</td>\n",
       "      <td>1.603226e+09</td>\n",
       "      <td>RUB</td>\n",
       "      <td>2014</td>\n",
       "      <td>1.100937e+09</td>\n",
       "      <td>LIFTBACK AUTOMATIC 1.6</td>\n",
       "      <td>автоматическая</td>\n",
       "      <td>1 владелец</td>\n",
       "      <td>Оригинал</td>\n",
       "      <td>передний</td>\n",
       "      <td>Левый</td>\n",
       "      <td>Не требует ремонта</td>\n",
       "      <td>Растаможен</td>\n",
       "      <td>0</td>\n",
       "      <td>0</td>\n",
       "    </tr>\n",
       "    <tr>\n",
       "      <th>4</th>\n",
       "      <td>лифтбек</td>\n",
       "      <td>SKODA</td>\n",
       "      <td>https://auto.ru/cars/used/sale/skoda/octavia/1...</td>\n",
       "      <td>белый</td>\n",
       "      <td>ЛОТ: 01220889\\nАвтопрага Север\\n\\nВы можете по...</td>\n",
       "      <td>1.8 LTR</td>\n",
       "      <td>152 N12</td>\n",
       "      <td>бензин</td>\n",
       "      <td>https://autoru.naydex.net/o9DBXQ270/5ac010hAY0...</td>\n",
       "      <td>58536</td>\n",
       "      <td>2008</td>\n",
       "      <td>OCTAVIA</td>\n",
       "      <td>1.8 AT (152 л.с.)</td>\n",
       "      <td>5</td>\n",
       "      <td>1.603226e+09</td>\n",
       "      <td>RUB</td>\n",
       "      <td>2012</td>\n",
       "      <td>1.101038e+09</td>\n",
       "      <td>LIFTBACK AUTOMATIC 1.8</td>\n",
       "      <td>автоматическая</td>\n",
       "      <td>1 владелец</td>\n",
       "      <td>Оригинал</td>\n",
       "      <td>передний</td>\n",
       "      <td>Левый</td>\n",
       "      <td>Не требует ремонта</td>\n",
       "      <td>Растаможен</td>\n",
       "      <td>0</td>\n",
       "      <td>0</td>\n",
       "    </tr>\n",
       "    <tr>\n",
       "      <th>...</th>\n",
       "      <td>...</td>\n",
       "      <td>...</td>\n",
       "      <td>...</td>\n",
       "      <td>...</td>\n",
       "      <td>...</td>\n",
       "      <td>...</td>\n",
       "      <td>...</td>\n",
       "      <td>...</td>\n",
       "      <td>...</td>\n",
       "      <td>...</td>\n",
       "      <td>...</td>\n",
       "      <td>...</td>\n",
       "      <td>...</td>\n",
       "      <td>...</td>\n",
       "      <td>...</td>\n",
       "      <td>...</td>\n",
       "      <td>...</td>\n",
       "      <td>...</td>\n",
       "      <td>...</td>\n",
       "      <td>...</td>\n",
       "      <td>...</td>\n",
       "      <td>...</td>\n",
       "      <td>...</td>\n",
       "      <td>...</td>\n",
       "      <td>...</td>\n",
       "      <td>...</td>\n",
       "      <td>...</td>\n",
       "      <td>...</td>\n",
       "    </tr>\n",
       "    <tr>\n",
       "      <th>68212</th>\n",
       "      <td>хэтчбек 5 дв.</td>\n",
       "      <td>HONDA</td>\n",
       "      <td>https://auto.ru/cars/used/sale/honda/civic/110...</td>\n",
       "      <td>красный</td>\n",
       "      <td>Машина в отличном состоянии, есть что передела...</td>\n",
       "      <td>1.5 LTR</td>\n",
       "      <td>115 N12</td>\n",
       "      <td>бензин</td>\n",
       "      <td>https://autoru.naydex.net/VyLm91f05/4c3ef9yM_4...</td>\n",
       "      <td>373317</td>\n",
       "      <td>1999</td>\n",
       "      <td>CIVIC</td>\n",
       "      <td>Honda Civic  VI</td>\n",
       "      <td>5</td>\n",
       "      <td>NaN</td>\n",
       "      <td>RUB</td>\n",
       "      <td>1999</td>\n",
       "      <td>NaN</td>\n",
       "      <td>HATCHBACK_5_DOORS MECHANICAL 1.5</td>\n",
       "      <td>механическая</td>\n",
       "      <td>3 или более</td>\n",
       "      <td>Дубликат</td>\n",
       "      <td>передний</td>\n",
       "      <td>Левый</td>\n",
       "      <td>Не требует ремонта</td>\n",
       "      <td>Растаможен</td>\n",
       "      <td>210000</td>\n",
       "      <td>1</td>\n",
       "    </tr>\n",
       "    <tr>\n",
       "      <th>68213</th>\n",
       "      <td>компактвэн</td>\n",
       "      <td>HONDA</td>\n",
       "      <td>https://auto.ru/cars/used/sale/honda/stream/11...</td>\n",
       "      <td>серебристый</td>\n",
       "      <td>Продам свою ласточку или поменяю на более деше...</td>\n",
       "      <td>1.7 LTR</td>\n",
       "      <td>130 N12</td>\n",
       "      <td>бензин</td>\n",
       "      <td>https://avatars.mds.yandex.net/get-autoru-vos/...</td>\n",
       "      <td>311000</td>\n",
       "      <td>2002</td>\n",
       "      <td>STREAM</td>\n",
       "      <td>Honda Stream  I</td>\n",
       "      <td>5</td>\n",
       "      <td>NaN</td>\n",
       "      <td>RUB</td>\n",
       "      <td>2002</td>\n",
       "      <td>NaN</td>\n",
       "      <td>COMPACTVAN AUTOMATIC 1.7</td>\n",
       "      <td>автоматическая</td>\n",
       "      <td>3 или более</td>\n",
       "      <td>Оригинал</td>\n",
       "      <td>передний</td>\n",
       "      <td>Правый</td>\n",
       "      <td>Не требует ремонта</td>\n",
       "      <td>Растаможен</td>\n",
       "      <td>330000</td>\n",
       "      <td>1</td>\n",
       "    </tr>\n",
       "    <tr>\n",
       "      <th>68214</th>\n",
       "      <td>седан</td>\n",
       "      <td>HONDA</td>\n",
       "      <td>https://auto.ru/cars/used/sale/honda/civic/110...</td>\n",
       "      <td>серый</td>\n",
       "      <td>Продаю личный автомобиль. Технически исправен,...</td>\n",
       "      <td>1.8 LTR</td>\n",
       "      <td>140 N12</td>\n",
       "      <td>бензин</td>\n",
       "      <td>https://avatars.mds.yandex.net/get-autoru-vos/...</td>\n",
       "      <td>196000</td>\n",
       "      <td>2008</td>\n",
       "      <td>CIVIC</td>\n",
       "      <td>Honda Civic  VIII Рестайлинг</td>\n",
       "      <td>4</td>\n",
       "      <td>NaN</td>\n",
       "      <td>RUB</td>\n",
       "      <td>2008</td>\n",
       "      <td>NaN</td>\n",
       "      <td>SEDAN MECHANICAL 1.8</td>\n",
       "      <td>механическая</td>\n",
       "      <td>3 или более</td>\n",
       "      <td>Дубликат</td>\n",
       "      <td>передний</td>\n",
       "      <td>Левый</td>\n",
       "      <td>Не требует ремонта</td>\n",
       "      <td>Растаможен</td>\n",
       "      <td>430000</td>\n",
       "      <td>1</td>\n",
       "    </tr>\n",
       "    <tr>\n",
       "      <th>68215</th>\n",
       "      <td>хэтчбек 5 дв.</td>\n",
       "      <td>HONDA</td>\n",
       "      <td>https://auto.ru/cars/used/sale/honda/civic/110...</td>\n",
       "      <td>синий</td>\n",
       "      <td>В нормальном состоянии, требует внимание кузов...</td>\n",
       "      <td>1.4 LTR</td>\n",
       "      <td>90 N12</td>\n",
       "      <td>бензин</td>\n",
       "      <td>https://autoru.naydex.net/VyLm91f05/4c3ef9yM_4...</td>\n",
       "      <td>350000</td>\n",
       "      <td>2000</td>\n",
       "      <td>CIVIC</td>\n",
       "      <td>Honda Civic  VI</td>\n",
       "      <td>5</td>\n",
       "      <td>NaN</td>\n",
       "      <td>RUB</td>\n",
       "      <td>2000</td>\n",
       "      <td>NaN</td>\n",
       "      <td>HATCHBACK_5_DOORS MECHANICAL 1.4</td>\n",
       "      <td>механическая</td>\n",
       "      <td>3 или более</td>\n",
       "      <td>Дубликат</td>\n",
       "      <td>передний</td>\n",
       "      <td>Левый</td>\n",
       "      <td>Не требует ремонта</td>\n",
       "      <td>Растаможен</td>\n",
       "      <td>135000</td>\n",
       "      <td>1</td>\n",
       "    </tr>\n",
       "    <tr>\n",
       "      <th>68216</th>\n",
       "      <td>седан</td>\n",
       "      <td>HONDA</td>\n",
       "      <td>https://auto.ru/cars/used/sale/honda/accord/11...</td>\n",
       "      <td>чёрный</td>\n",
       "      <td>На полном ходу есть жизненные котцки возможен ...</td>\n",
       "      <td>2.0 LTR</td>\n",
       "      <td>131 N12</td>\n",
       "      <td>бензин</td>\n",
       "      <td>https://autoru.naydex.net/VyLm91f05/4c3ef9yM_4...</td>\n",
       "      <td>90000</td>\n",
       "      <td>1995</td>\n",
       "      <td>ACCORD</td>\n",
       "      <td>Honda Accord  V</td>\n",
       "      <td>4</td>\n",
       "      <td>NaN</td>\n",
       "      <td>RUB</td>\n",
       "      <td>1995</td>\n",
       "      <td>NaN</td>\n",
       "      <td>SEDAN MECHANICAL 2.0</td>\n",
       "      <td>механическая</td>\n",
       "      <td>3 или более</td>\n",
       "      <td>Оригинал</td>\n",
       "      <td>передний</td>\n",
       "      <td>Левый</td>\n",
       "      <td>Не требует ремонта</td>\n",
       "      <td>Растаможен</td>\n",
       "      <td>210000</td>\n",
       "      <td>1</td>\n",
       "    </tr>\n",
       "  </tbody>\n",
       "</table>\n",
       "<p>65609 rows × 28 columns</p>\n",
       "</div>"
      ],
      "text/plain": [
       "            bodyType  brand  \\\n",
       "0            лифтбек  SKODA   \n",
       "1            лифтбек  SKODA   \n",
       "2            лифтбек  SKODA   \n",
       "3            лифтбек  SKODA   \n",
       "4            лифтбек  SKODA   \n",
       "...              ...    ...   \n",
       "68212  хэтчбек 5 дв.  HONDA   \n",
       "68213     компактвэн  HONDA   \n",
       "68214          седан  HONDA   \n",
       "68215  хэтчбек 5 дв.  HONDA   \n",
       "68216          седан  HONDA   \n",
       "\n",
       "                                                 car_url        color  \\\n",
       "0      https://auto.ru/cars/used/sale/skoda/octavia/1...        синий   \n",
       "1      https://auto.ru/cars/used/sale/skoda/octavia/1...       чёрный   \n",
       "2      https://auto.ru/cars/used/sale/skoda/superb/11...        серый   \n",
       "3      https://auto.ru/cars/used/sale/skoda/octavia/1...   коричневый   \n",
       "4      https://auto.ru/cars/used/sale/skoda/octavia/1...        белый   \n",
       "...                                                  ...          ...   \n",
       "68212  https://auto.ru/cars/used/sale/honda/civic/110...      красный   \n",
       "68213  https://auto.ru/cars/used/sale/honda/stream/11...  серебристый   \n",
       "68214  https://auto.ru/cars/used/sale/honda/civic/110...        серый   \n",
       "68215  https://auto.ru/cars/used/sale/honda/civic/110...        синий   \n",
       "68216  https://auto.ru/cars/used/sale/honda/accord/11...       чёрный   \n",
       "\n",
       "                                             description engineDisplacement  \\\n",
       "0      Все автомобили, представленные в продаже, прох...            1.2 LTR   \n",
       "1      ЛОТ: 01217195\\nАвтопрага Север\\nДанный автомоб...            1.6 LTR   \n",
       "2      Все автомобили, представленные в продаже, прох...            1.8 LTR   \n",
       "3      КОМПЛЕКТ ЗИМНЕЙ (ЛЕТНЕЙ) РЕЗИНЫ ПО СЕЗОНУ В ПО...            1.6 LTR   \n",
       "4      ЛОТ: 01220889\\nАвтопрага Север\\n\\nВы можете по...            1.8 LTR   \n",
       "...                                                  ...                ...   \n",
       "68212  Машина в отличном состоянии, есть что передела...            1.5 LTR   \n",
       "68213  Продам свою ласточку или поменяю на более деше...            1.7 LTR   \n",
       "68214  Продаю личный автомобиль. Технически исправен,...            1.8 LTR   \n",
       "68215  В нормальном состоянии, требует внимание кузов...            1.4 LTR   \n",
       "68216  На полном ходу есть жизненные котцки возможен ...            2.0 LTR   \n",
       "\n",
       "      enginePower fuelType                                              image  \\\n",
       "0         105 N12   бензин  https://autoru.naydex.net/o9DBXQ270/5ac010hAY0...   \n",
       "1         110 N12   бензин  https://autoru.naydex.net/o9DBXQ270/5ac010hAY0...   \n",
       "2         152 N12   бензин  https://avatars.mds.yandex.net/get-autoru-vos/...   \n",
       "3         110 N12   бензин  https://autoru.naydex.net/o9DBXQ270/5ac010hAY0...   \n",
       "4         152 N12   бензин  https://autoru.naydex.net/o9DBXQ270/5ac010hAY0...   \n",
       "...           ...      ...                                                ...   \n",
       "68212     115 N12   бензин  https://autoru.naydex.net/VyLm91f05/4c3ef9yM_4...   \n",
       "68213     130 N12   бензин  https://avatars.mds.yandex.net/get-autoru-vos/...   \n",
       "68214     140 N12   бензин  https://avatars.mds.yandex.net/get-autoru-vos/...   \n",
       "68215      90 N12   бензин  https://autoru.naydex.net/VyLm91f05/4c3ef9yM_4...   \n",
       "68216     131 N12   бензин  https://autoru.naydex.net/VyLm91f05/4c3ef9yM_4...   \n",
       "\n",
       "      mileage  modelDate model_name                          name  \\\n",
       "0       74000       2013    OCTAVIA            1.2 AMT (105 л.с.)   \n",
       "1       60563       2017    OCTAVIA             1.6 MT (110 л.с.)   \n",
       "2       88000       2013     SUPERB        DSG 1.8 AMT (152 л.с.)   \n",
       "3       95000       2013    OCTAVIA             1.6 AT (110 л.с.)   \n",
       "4       58536       2008    OCTAVIA             1.8 AT (152 л.с.)   \n",
       "...       ...        ...        ...                           ...   \n",
       "68212  373317       1999      CIVIC               Honda Civic  VI   \n",
       "68213  311000       2002     STREAM               Honda Stream  I   \n",
       "68214  196000       2008      CIVIC  Honda Civic  VIII Рестайлинг   \n",
       "68215  350000       2000      CIVIC               Honda Civic  VI   \n",
       "68216   90000       1995     ACCORD               Honda Accord  V   \n",
       "\n",
       "       numberOfDoors  parsing_unixtime priceCurrency  productionDate  \\\n",
       "0                  5      1.603226e+09           RUB            2014   \n",
       "1                  5      1.603226e+09           RUB            2017   \n",
       "2                  5      1.603226e+09           RUB            2014   \n",
       "3                  5      1.603226e+09           RUB            2014   \n",
       "4                  5      1.603226e+09           RUB            2012   \n",
       "...              ...               ...           ...             ...   \n",
       "68212              5               NaN           RUB            1999   \n",
       "68213              5               NaN           RUB            2002   \n",
       "68214              4               NaN           RUB            2008   \n",
       "68215              5               NaN           RUB            2000   \n",
       "68216              4               NaN           RUB            1995   \n",
       "\n",
       "            sell_id              vehicleConfiguration vehicleTransmission  \\\n",
       "0      1.100575e+09                LIFTBACK ROBOT 1.2    роботизированная   \n",
       "1      1.100549e+09           LIFTBACK MECHANICAL 1.6        механическая   \n",
       "2      1.100658e+09                LIFTBACK ROBOT 1.8    роботизированная   \n",
       "3      1.100937e+09            LIFTBACK AUTOMATIC 1.6      автоматическая   \n",
       "4      1.101038e+09            LIFTBACK AUTOMATIC 1.8      автоматическая   \n",
       "...             ...                               ...                 ...   \n",
       "68212           NaN  HATCHBACK_5_DOORS MECHANICAL 1.5        механическая   \n",
       "68213           NaN          COMPACTVAN AUTOMATIC 1.7      автоматическая   \n",
       "68214           NaN              SEDAN MECHANICAL 1.8        механическая   \n",
       "68215           NaN  HATCHBACK_5_DOORS MECHANICAL 1.4        механическая   \n",
       "68216           NaN              SEDAN MECHANICAL 2.0        механическая   \n",
       "\n",
       "         Владельцы       ПТС    Привод    Руль           Состояние  \\\n",
       "0      3 или более  Оригинал  передний   Левый  Не требует ремонта   \n",
       "1       1 владелец  Оригинал  передний   Левый  Не требует ремонта   \n",
       "2       1 владелец  Оригинал  передний   Левый  Не требует ремонта   \n",
       "3       1 владелец  Оригинал  передний   Левый  Не требует ремонта   \n",
       "4       1 владелец  Оригинал  передний   Левый  Не требует ремонта   \n",
       "...            ...       ...       ...     ...                 ...   \n",
       "68212  3 или более  Дубликат  передний   Левый  Не требует ремонта   \n",
       "68213  3 или более  Оригинал  передний  Правый  Не требует ремонта   \n",
       "68214  3 или более  Дубликат  передний   Левый  Не требует ремонта   \n",
       "68215  3 или более  Дубликат  передний   Левый  Не требует ремонта   \n",
       "68216  3 или более  Оригинал  передний   Левый  Не требует ремонта   \n",
       "\n",
       "          Таможня   price  sample  \n",
       "0      Растаможен       0       0  \n",
       "1      Растаможен       0       0  \n",
       "2      Растаможен       0       0  \n",
       "3      Растаможен       0       0  \n",
       "4      Растаможен       0       0  \n",
       "...           ...     ...     ...  \n",
       "68212  Растаможен  210000       1  \n",
       "68213  Растаможен  330000       1  \n",
       "68214  Растаможен  430000       1  \n",
       "68215  Растаможен  135000       1  \n",
       "68216  Растаможен  210000       1  \n",
       "\n",
       "[65609 rows x 28 columns]"
      ]
     },
     "execution_count": 23,
     "metadata": {},
     "output_type": "execute_result"
    }
   ],
   "source": [
    "data"
   ]
  },
  {
   "cell_type": "code",
   "execution_count": 24,
   "metadata": {
    "execution": {
     "iopub.execute_input": "2021-06-06T17:14:34.527062Z",
     "iopub.status.busy": "2021-06-06T17:14:34.526393Z",
     "iopub.status.idle": "2021-06-06T17:14:34.542137Z",
     "shell.execute_reply": "2021-06-06T17:14:34.542855Z",
     "shell.execute_reply.started": "2021-06-06T16:22:32.839189Z"
    },
    "papermill": {
     "duration": 0.311131,
     "end_time": "2021-06-06T17:14:34.543048",
     "exception": false,
     "start_time": "2021-06-06T17:14:34.231917",
     "status": "completed"
    },
    "tags": []
   },
   "outputs": [
    {
     "name": "stdout",
     "output_type": "stream",
     "text": [
      "<class 'pandas.core.frame.DataFrame'>\n",
      "Int64Index: 65609 entries, 0 to 68216\n",
      "Data columns (total 28 columns):\n",
      " #   Column                Non-Null Count  Dtype  \n",
      "---  ------                --------------  -----  \n",
      " 0   bodyType              65609 non-null  object \n",
      " 1   brand                 65609 non-null  object \n",
      " 2   car_url               65609 non-null  object \n",
      " 3   color                 65609 non-null  object \n",
      " 4   description           65609 non-null  object \n",
      " 5   engineDisplacement    65609 non-null  object \n",
      " 6   enginePower           65609 non-null  object \n",
      " 7   fuelType              65609 non-null  object \n",
      " 8   image                 65609 non-null  object \n",
      " 9   mileage               65609 non-null  object \n",
      " 10  modelDate             65609 non-null  int64  \n",
      " 11  model_name            65609 non-null  object \n",
      " 12  name                  65609 non-null  object \n",
      " 13  numberOfDoors         65609 non-null  int64  \n",
      " 14  parsing_unixtime      34686 non-null  float64\n",
      " 15  priceCurrency         65609 non-null  object \n",
      " 16  productionDate        65609 non-null  int64  \n",
      " 17  sell_id               34686 non-null  float64\n",
      " 18  vehicleConfiguration  65609 non-null  object \n",
      " 19  vehicleTransmission   65609 non-null  object \n",
      " 20  Владельцы             65609 non-null  object \n",
      " 21  ПТС                   65608 non-null  object \n",
      " 22  Привод                65609 non-null  object \n",
      " 23  Руль                  65609 non-null  object \n",
      " 24  Состояние             65609 non-null  object \n",
      " 25  Таможня               65609 non-null  object \n",
      " 26  price                 65609 non-null  object \n",
      " 27  sample                65609 non-null  int64  \n",
      "dtypes: float64(2), int64(4), object(22)\n",
      "memory usage: 14.5+ MB\n"
     ]
    }
   ],
   "source": [
    "data.info()"
   ]
  },
  {
   "cell_type": "code",
   "execution_count": 25,
   "metadata": {
    "execution": {
     "iopub.execute_input": "2021-06-06T17:14:34.981743Z",
     "iopub.status.busy": "2021-06-06T17:14:34.848924Z",
     "iopub.status.idle": "2021-06-06T17:14:34.991202Z",
     "shell.execute_reply": "2021-06-06T17:14:34.991715Z",
     "shell.execute_reply.started": "2021-06-06T16:22:32.929504Z"
    },
    "papermill": {
     "duration": 0.286695,
     "end_time": "2021-06-06T17:14:34.991850",
     "exception": false,
     "start_time": "2021-06-06T17:14:34.705155",
     "status": "completed"
    },
    "tags": []
   },
   "outputs": [
    {
     "data": {
      "text/plain": [
       "bodyType                    0\n",
       "brand                       0\n",
       "car_url                     0\n",
       "color                       0\n",
       "description                 0\n",
       "engineDisplacement          0\n",
       "enginePower                 0\n",
       "fuelType                    0\n",
       "image                       0\n",
       "mileage                     0\n",
       "modelDate                   0\n",
       "model_name                  0\n",
       "name                        0\n",
       "numberOfDoors               0\n",
       "parsing_unixtime        30923\n",
       "priceCurrency               0\n",
       "productionDate              0\n",
       "sell_id                 30923\n",
       "vehicleConfiguration        0\n",
       "vehicleTransmission         0\n",
       "Владельцы                   0\n",
       "ПТС                         1\n",
       "Привод                      0\n",
       "Руль                        0\n",
       "Состояние                   0\n",
       "Таможня                     0\n",
       "price                       0\n",
       "sample                      0\n",
       "dtype: int64"
      ]
     },
     "execution_count": 25,
     "metadata": {},
     "output_type": "execute_result"
    }
   ],
   "source": [
    "data.isna().sum()"
   ]
  },
  {
   "cell_type": "code",
   "execution_count": 26,
   "metadata": {
    "execution": {
     "iopub.execute_input": "2021-06-06T17:14:35.277021Z",
     "iopub.status.busy": "2021-06-06T17:14:35.275997Z",
     "iopub.status.idle": "2021-06-06T17:14:35.278471Z",
     "shell.execute_reply": "2021-06-06T17:14:35.279052Z",
     "shell.execute_reply.started": "2021-06-06T16:22:33.012293Z"
    },
    "papermill": {
     "duration": 0.145799,
     "end_time": "2021-06-06T17:14:35.279236",
     "exception": false,
     "start_time": "2021-06-06T17:14:35.133437",
     "status": "completed"
    },
    "tags": []
   },
   "outputs": [],
   "source": [
    "# используем модуль для быстрого первичного анализа данных\n",
    "#pandas_profiling.ProfileReport(data)"
   ]
  },
  {
   "cell_type": "markdown",
   "metadata": {
    "papermill": {
     "duration": 0.137926,
     "end_time": "2021-06-06T17:14:35.555128",
     "exception": false,
     "start_time": "2021-06-06T17:14:35.417202",
     "status": "completed"
    },
    "tags": []
   },
   "source": [
    "Краткий итог: в тренировочной выборке 33531 объявлений, в тестовой - 34686. Всего данных после удаления дубликатов - 65609 объявлений. Имеется 28 признаков. Из числовых признаков у нас: modelDate, numberOfDoors, productionDate,parsing_unixtime. Остальные - типа Object. Пропуски в признаках price,parsing_unixtime,sell_id появились исскуственно. Также добавился признак sample для обозначения принадлежности данных и последующего разделения."
   ]
  },
  {
   "cell_type": "markdown",
   "metadata": {
    "papermill": {
     "duration": 0.137377,
     "end_time": "2021-06-06T17:14:35.831537",
     "exception": false,
     "start_time": "2021-06-06T17:14:35.694160",
     "status": "completed"
    },
    "tags": []
   },
   "source": [
    "# Рассмотрим каждый признак"
   ]
  },
  {
   "cell_type": "code",
   "execution_count": 27,
   "metadata": {
    "execution": {
     "iopub.execute_input": "2021-06-06T17:14:36.118902Z",
     "iopub.status.busy": "2021-06-06T17:14:36.117891Z",
     "iopub.status.idle": "2021-06-06T17:14:36.122395Z",
     "shell.execute_reply": "2021-06-06T17:14:36.122890Z",
     "shell.execute_reply.started": "2021-06-06T16:22:33.0246Z"
    },
    "papermill": {
     "duration": 0.154313,
     "end_time": "2021-06-06T17:14:36.123023",
     "exception": false,
     "start_time": "2021-06-06T17:14:35.968710",
     "status": "completed"
    },
    "tags": []
   },
   "outputs": [],
   "source": [
    "#Будем добавлять признаки в определенный список:\n",
    "#числовые:\n",
    "num_cols = []\n",
    "\n",
    "# бинарные, количество уникальных значений которых равно двум\n",
    "bin_cols = []\n",
    "\n",
    "# категориальные\n",
    "cat_cols = []"
   ]
  },
  {
   "cell_type": "markdown",
   "metadata": {
    "papermill": {
     "duration": 0.137415,
     "end_time": "2021-06-06T17:14:36.400193",
     "exception": false,
     "start_time": "2021-06-06T17:14:36.262778",
     "status": "completed"
    },
    "tags": []
   },
   "source": [
    "**bodyType**"
   ]
  },
  {
   "cell_type": "code",
   "execution_count": 28,
   "metadata": {
    "execution": {
     "iopub.execute_input": "2021-06-06T17:14:36.679962Z",
     "iopub.status.busy": "2021-06-06T17:14:36.678940Z",
     "iopub.status.idle": "2021-06-06T17:14:36.702540Z",
     "shell.execute_reply": "2021-06-06T17:14:36.701974Z",
     "shell.execute_reply.started": "2021-06-06T16:22:33.045184Z"
    },
    "papermill": {
     "duration": 0.164582,
     "end_time": "2021-06-06T17:14:36.702652",
     "exception": false,
     "start_time": "2021-06-06T17:14:36.538070",
     "status": "completed"
    },
    "tags": []
   },
   "outputs": [
    {
     "data": {
      "text/plain": [
       "внедорожник 5 дв.          24589\n",
       "седан                      23849\n",
       "хэтчбек 5 дв.               4215\n",
       "лифтбек                     4159\n",
       "универсал 5 дв.             2319\n",
       "минивэн                     1710\n",
       "купе                        1499\n",
       "компактвэн                   900\n",
       "хэтчбек 3 дв.                829\n",
       "пикап двойная кабина         482\n",
       "купе-хардтоп                 285\n",
       "внедорожник 3 дв.            203\n",
       "фургон                       195\n",
       "родстер                      166\n",
       "кабриолет                    126\n",
       "седан-хардтоп                 29\n",
       "микровэн                      16\n",
       "пикап одинарная кабина         9\n",
       "пикап полуторная кабина        7\n",
       "седан 2 дв.                    6\n",
       "лимузин                        6\n",
       "внедорожник открытый           4\n",
       "фастбек                        2\n",
       "тарга                          2\n",
       "универсал 3 дв.                1\n",
       "хэтчбек 4 дв.                  1\n",
       "Name: bodyType, dtype: int64"
      ]
     },
     "execution_count": 28,
     "metadata": {},
     "output_type": "execute_result"
    }
   ],
   "source": [
    "data.bodyType.value_counts()"
   ]
  },
  {
   "cell_type": "code",
   "execution_count": 29,
   "metadata": {
    "execution": {
     "iopub.execute_input": "2021-06-06T17:14:37.001088Z",
     "iopub.status.busy": "2021-06-06T17:14:37.000474Z",
     "iopub.status.idle": "2021-06-06T17:14:37.074338Z",
     "shell.execute_reply": "2021-06-06T17:14:37.074838Z",
     "shell.execute_reply.started": "2021-06-06T16:22:33.073061Z"
    },
    "papermill": {
     "duration": 0.236,
     "end_time": "2021-06-06T17:14:37.074988",
     "exception": false,
     "start_time": "2021-06-06T17:14:36.838988",
     "status": "completed"
    },
    "tags": []
   },
   "outputs": [],
   "source": [
    "data['bodyType'] = data['bodyType'].astype(str).apply(lambda x: None if x.strip()=='' else x)\n",
    "data['bodyType'] = data.bodyType.apply(lambda x: x.split(' ')[0].lower())"
   ]
  },
  {
   "cell_type": "code",
   "execution_count": 30,
   "metadata": {
    "execution": {
     "iopub.execute_input": "2021-06-06T17:14:37.359329Z",
     "iopub.status.busy": "2021-06-06T17:14:37.358678Z",
     "iopub.status.idle": "2021-06-06T17:14:37.384844Z",
     "shell.execute_reply": "2021-06-06T17:14:37.384168Z",
     "shell.execute_reply.started": "2021-06-06T16:22:33.15069Z"
    },
    "papermill": {
     "duration": 0.165401,
     "end_time": "2021-06-06T17:14:37.384968",
     "exception": false,
     "start_time": "2021-06-06T17:14:37.219567",
     "status": "completed"
    },
    "tags": []
   },
   "outputs": [
    {
     "data": {
      "text/plain": [
       "внедорожник      24796\n",
       "седан            23855\n",
       "хэтчбек           5045\n",
       "лифтбек           4159\n",
       "универсал         2320\n",
       "минивэн           1710\n",
       "купе              1499\n",
       "компактвэн         900\n",
       "пикап              498\n",
       "купе-хардтоп       285\n",
       "фургон             195\n",
       "родстер            166\n",
       "кабриолет          126\n",
       "седан-хардтоп       29\n",
       "микровэн            16\n",
       "лимузин              6\n",
       "фастбек              2\n",
       "тарга                2\n",
       "Name: bodyType, dtype: int64"
      ]
     },
     "execution_count": 30,
     "metadata": {},
     "output_type": "execute_result"
    }
   ],
   "source": [
    "data.bodyType.value_counts()"
   ]
  },
  {
   "cell_type": "code",
   "execution_count": 31,
   "metadata": {
    "execution": {
     "iopub.execute_input": "2021-06-06T17:14:37.687246Z",
     "iopub.status.busy": "2021-06-06T17:14:37.683190Z",
     "iopub.status.idle": "2021-06-06T17:14:38.024940Z",
     "shell.execute_reply": "2021-06-06T17:14:38.024435Z",
     "shell.execute_reply.started": "2021-06-06T16:22:33.18232Z"
    },
    "papermill": {
     "duration": 0.500261,
     "end_time": "2021-06-06T17:14:38.025053",
     "exception": false,
     "start_time": "2021-06-06T17:14:37.524792",
     "status": "completed"
    },
    "tags": []
   },
   "outputs": [
    {
     "data": {
      "text/plain": [
       "<AxesSubplot:>"
      ]
     },
     "execution_count": 31,
     "metadata": {},
     "output_type": "execute_result"
    },
    {
     "data": {
      "image/png": "[encoded data removed]",
      "text/plain": [
       "<Figure size 432x288 with 1 Axes>"
      ]
     },
     "metadata": {
      "needs_background": "light"
     },
     "output_type": "display_data"
    }
   ],
   "source": [
    "#посмотрим на распределение\n",
    "data.bodyType.value_counts().plot.barh() "
   ]
  },
  {
   "cell_type": "code",
   "execution_count": 32,
   "metadata": {
    "execution": {
     "iopub.execute_input": "2021-06-06T17:14:38.307154Z",
     "iopub.status.busy": "2021-06-06T17:14:38.306579Z",
     "iopub.status.idle": "2021-06-06T17:14:38.309525Z",
     "shell.execute_reply": "2021-06-06T17:14:38.308989Z",
     "shell.execute_reply.started": "2021-06-06T16:22:33.518848Z"
    },
    "papermill": {
     "duration": 0.146399,
     "end_time": "2021-06-06T17:14:38.309634",
     "exception": false,
     "start_time": "2021-06-06T17:14:38.163235",
     "status": "completed"
    },
    "tags": []
   },
   "outputs": [],
   "source": [
    "cat_cols.append('bodyType')"
   ]
  },
  {
   "cell_type": "markdown",
   "metadata": {
    "papermill": {
     "duration": 0.140481,
     "end_time": "2021-06-06T17:14:38.588247",
     "exception": false,
     "start_time": "2021-06-06T17:14:38.447766",
     "status": "completed"
    },
    "tags": []
   },
   "source": [
    "**brand**"
   ]
  },
  {
   "cell_type": "code",
   "execution_count": 33,
   "metadata": {
    "execution": {
     "iopub.execute_input": "2021-06-06T17:14:38.890464Z",
     "iopub.status.busy": "2021-06-06T17:14:38.889803Z",
     "iopub.status.idle": "2021-06-06T17:14:38.893779Z",
     "shell.execute_reply": "2021-06-06T17:14:38.893159Z",
     "shell.execute_reply.started": "2021-06-06T16:22:33.525529Z"
    },
    "papermill": {
     "duration": 0.164509,
     "end_time": "2021-06-06T17:14:38.893884",
     "exception": false,
     "start_time": "2021-06-06T17:14:38.729375",
     "status": "completed"
    },
    "tags": []
   },
   "outputs": [
    {
     "data": {
      "text/plain": [
       "BMW            8137\n",
       "VOLKSWAGEN     8106\n",
       "NISSAN         7793\n",
       "MERCEDES       7781\n",
       "TOYOTA         7445\n",
       "               ... \n",
       "GAC               1\n",
       "DAIHATSU          1\n",
       "DW_HOWER          1\n",
       "IRAN_KHODRO       1\n",
       "MG                1\n",
       "Name: brand, Length: 70, dtype: int64"
      ]
     },
     "execution_count": 33,
     "metadata": {},
     "output_type": "execute_result"
    }
   ],
   "source": [
    "data.brand.value_counts()"
   ]
  },
  {
   "cell_type": "code",
   "execution_count": 34,
   "metadata": {
    "execution": {
     "iopub.execute_input": "2021-06-06T17:14:39.177992Z",
     "iopub.status.busy": "2021-06-06T17:14:39.177403Z",
     "iopub.status.idle": "2021-06-06T17:14:39.179413Z",
     "shell.execute_reply": "2021-06-06T17:14:39.179895Z",
     "shell.execute_reply.started": "2021-06-06T16:22:33.550498Z"
    },
    "papermill": {
     "duration": 0.146496,
     "end_time": "2021-06-06T17:14:39.180025",
     "exception": false,
     "start_time": "2021-06-06T17:14:39.033529",
     "status": "completed"
    },
    "tags": []
   },
   "outputs": [],
   "source": [
    "cat_cols.append('brand')"
   ]
  },
  {
   "cell_type": "markdown",
   "metadata": {
    "papermill": {
     "duration": 0.13867,
     "end_time": "2021-06-06T17:14:39.458496",
     "exception": false,
     "start_time": "2021-06-06T17:14:39.319826",
     "status": "completed"
    },
    "tags": []
   },
   "source": [
    "**color**"
   ]
  },
  {
   "cell_type": "code",
   "execution_count": 35,
   "metadata": {
    "execution": {
     "iopub.execute_input": "2021-06-06T17:14:39.740951Z",
     "iopub.status.busy": "2021-06-06T17:14:39.740321Z",
     "iopub.status.idle": "2021-06-06T17:14:39.763239Z",
     "shell.execute_reply": "2021-06-06T17:14:39.763777Z",
     "shell.execute_reply.started": "2021-06-06T16:22:33.56458Z"
    },
    "papermill": {
     "duration": 0.165823,
     "end_time": "2021-06-06T17:14:39.763917",
     "exception": false,
     "start_time": "2021-06-06T17:14:39.598094",
     "status": "completed"
    },
    "tags": []
   },
   "outputs": [
    {
     "data": {
      "text/plain": [
       "чёрный         20414\n",
       "белый          12474\n",
       "серый           8122\n",
       "серебристый     6977\n",
       "синий           6171\n",
       "коричневый      3012\n",
       "красный         2928\n",
       "зелёный         1605\n",
       "бежевый         1205\n",
       "голубой          830\n",
       "золотистый       448\n",
       "пурпурный        443\n",
       "фиолетовый       362\n",
       "жёлтый           341\n",
       "оранжевый        259\n",
       "розовый           18\n",
       "Name: color, dtype: int64"
      ]
     },
     "execution_count": 35,
     "metadata": {},
     "output_type": "execute_result"
    }
   ],
   "source": [
    "data.color.value_counts()"
   ]
  },
  {
   "cell_type": "code",
   "execution_count": 36,
   "metadata": {
    "execution": {
     "iopub.execute_input": "2021-06-06T17:14:40.065173Z",
     "iopub.status.busy": "2021-06-06T17:14:40.059436Z",
     "iopub.status.idle": "2021-06-06T17:14:40.372052Z",
     "shell.execute_reply": "2021-06-06T17:14:40.371420Z",
     "shell.execute_reply.started": "2021-06-06T16:22:33.591902Z"
    },
    "papermill": {
     "duration": 0.469246,
     "end_time": "2021-06-06T17:14:40.372164",
     "exception": false,
     "start_time": "2021-06-06T17:14:39.902918",
     "status": "completed"
    },
    "tags": []
   },
   "outputs": [
    {
     "data": {
      "text/plain": [
       "<AxesSubplot:>"
      ]
     },
     "execution_count": 36,
     "metadata": {},
     "output_type": "execute_result"
    },
    {
     "data": {
      "image/png": "[encoded data removed]",
      "text/plain": [
       "<Figure size 432x288 with 1 Axes>"
      ]
     },
     "metadata": {
      "needs_background": "light"
     },
     "output_type": "display_data"
    }
   ],
   "source": [
    "data.color.value_counts().plot.barh() "
   ]
  },
  {
   "cell_type": "markdown",
   "metadata": {
    "papermill": {
     "duration": 0.142625,
     "end_time": "2021-06-06T17:14:40.655867",
     "exception": false,
     "start_time": "2021-06-06T17:14:40.513242",
     "status": "completed"
    },
    "tags": []
   },
   "source": [
    "Дополнительной обработки признак не требует,пропусков нет,определяем его в \"категориальные\""
   ]
  },
  {
   "cell_type": "code",
   "execution_count": 37,
   "metadata": {
    "execution": {
     "iopub.execute_input": "2021-06-06T17:14:40.946775Z",
     "iopub.status.busy": "2021-06-06T17:14:40.946029Z",
     "iopub.status.idle": "2021-06-06T17:14:40.949191Z",
     "shell.execute_reply": "2021-06-06T17:14:40.948665Z",
     "shell.execute_reply.started": "2021-06-06T16:22:33.884603Z"
    },
    "papermill": {
     "duration": 0.149428,
     "end_time": "2021-06-06T17:14:40.949300",
     "exception": false,
     "start_time": "2021-06-06T17:14:40.799872",
     "status": "completed"
    },
    "tags": []
   },
   "outputs": [],
   "source": [
    "cat_cols.append('color')"
   ]
  },
  {
   "cell_type": "markdown",
   "metadata": {
    "papermill": {
     "duration": 0.164025,
     "end_time": "2021-06-06T17:14:41.255086",
     "exception": false,
     "start_time": "2021-06-06T17:14:41.091061",
     "status": "completed"
    },
    "tags": []
   },
   "source": [
    "**Description**"
   ]
  },
  {
   "cell_type": "code",
   "execution_count": 38,
   "metadata": {
    "execution": {
     "iopub.execute_input": "2021-06-06T17:14:41.583495Z",
     "iopub.status.busy": "2021-06-06T17:14:41.552521Z",
     "iopub.status.idle": "2021-06-06T17:14:41.614395Z",
     "shell.execute_reply": "2021-06-06T17:14:41.613728Z",
     "shell.execute_reply.started": "2021-06-06T16:22:33.89115Z"
    },
    "papermill": {
     "duration": 0.216575,
     "end_time": "2021-06-06T17:14:41.614507",
     "exception": false,
     "start_time": "2021-06-06T17:14:41.397932",
     "status": "completed"
    },
    "tags": []
   },
   "outputs": [],
   "source": [
    "# description - описание, комментарий продавца\n",
    "# сгенерируем числовой признак - количество символов в описании\n",
    "data['description_len'] = data.description.apply(lambda x: len(str(x)))\n",
    "# сам description удалим"
   ]
  },
  {
   "cell_type": "code",
   "execution_count": 39,
   "metadata": {
    "execution": {
     "iopub.execute_input": "2021-06-06T17:14:41.897301Z",
     "iopub.status.busy": "2021-06-06T17:14:41.896702Z",
     "iopub.status.idle": "2021-06-06T17:14:41.916640Z",
     "shell.execute_reply": "2021-06-06T17:14:41.916063Z",
     "shell.execute_reply.started": "2021-06-06T16:22:33.953484Z"
    },
    "papermill": {
     "duration": 0.160756,
     "end_time": "2021-06-06T17:14:41.916760",
     "exception": false,
     "start_time": "2021-06-06T17:14:41.756004",
     "status": "completed"
    },
    "tags": []
   },
   "outputs": [],
   "source": [
    "data = data.drop('description',axis=1)"
   ]
  },
  {
   "cell_type": "code",
   "execution_count": 40,
   "metadata": {
    "execution": {
     "iopub.execute_input": "2021-06-06T17:14:42.201785Z",
     "iopub.status.busy": "2021-06-06T17:14:42.200763Z",
     "iopub.status.idle": "2021-06-06T17:14:42.203652Z",
     "shell.execute_reply": "2021-06-06T17:14:42.203195Z",
     "shell.execute_reply.started": "2021-06-06T16:22:33.979578Z"
    },
    "papermill": {
     "duration": 0.147195,
     "end_time": "2021-06-06T17:14:42.203756",
     "exception": false,
     "start_time": "2021-06-06T17:14:42.056561",
     "status": "completed"
    },
    "tags": []
   },
   "outputs": [],
   "source": [
    "#Определим его как числовой признак\n",
    "num_cols.append('description_len')"
   ]
  },
  {
   "cell_type": "markdown",
   "metadata": {
    "papermill": {
     "duration": 0.140103,
     "end_time": "2021-06-06T17:14:42.483405",
     "exception": false,
     "start_time": "2021-06-06T17:14:42.343302",
     "status": "completed"
    },
    "tags": []
   },
   "source": [
    "**fuelType**"
   ]
  },
  {
   "cell_type": "code",
   "execution_count": 41,
   "metadata": {
    "execution": {
     "iopub.execute_input": "2021-06-06T17:14:42.791619Z",
     "iopub.status.busy": "2021-06-06T17:14:42.790972Z",
     "iopub.status.idle": "2021-06-06T17:14:42.795177Z",
     "shell.execute_reply": "2021-06-06T17:14:42.794625Z",
     "shell.execute_reply.started": "2021-06-06T16:22:33.984915Z"
    },
    "papermill": {
     "duration": 0.169786,
     "end_time": "2021-06-06T17:14:42.795288",
     "exception": false,
     "start_time": "2021-06-06T17:14:42.625502",
     "status": "completed"
    },
    "tags": []
   },
   "outputs": [
    {
     "data": {
      "text/plain": [
       "бензин     53453\n",
       "дизель     11599\n",
       "гибрид       407\n",
       "электро      137\n",
       "газ           13\n",
       "Name: fuelType, dtype: int64"
      ]
     },
     "execution_count": 41,
     "metadata": {},
     "output_type": "execute_result"
    }
   ],
   "source": [
    "data.fuelType.value_counts() #категориальный признак"
   ]
  },
  {
   "cell_type": "code",
   "execution_count": 42,
   "metadata": {
    "execution": {
     "iopub.execute_input": "2021-06-06T17:14:43.087210Z",
     "iopub.status.busy": "2021-06-06T17:14:43.086601Z",
     "iopub.status.idle": "2021-06-06T17:14:43.253488Z",
     "shell.execute_reply": "2021-06-06T17:14:43.252829Z",
     "shell.execute_reply.started": "2021-06-06T16:22:34.010848Z"
    },
    "papermill": {
     "duration": 0.31765,
     "end_time": "2021-06-06T17:14:43.253621",
     "exception": false,
     "start_time": "2021-06-06T17:14:42.935971",
     "status": "completed"
    },
    "tags": []
   },
   "outputs": [
    {
     "data": {
      "text/plain": [
       "<AxesSubplot:xlabel='fuelType', ylabel='count'>"
      ]
     },
     "execution_count": 42,
     "metadata": {},
     "output_type": "execute_result"
    },
    {
     "data": {
      "image/png": "[encoded data removed]",
      "text/plain": [
       "<Figure size 432x288 with 1 Axes>"
      ]
     },
     "metadata": {
      "needs_background": "light"
     },
     "output_type": "display_data"
    }
   ],
   "source": [
    "sns.countplot(x = 'fuelType', data = data)"
   ]
  },
  {
   "cell_type": "markdown",
   "metadata": {
    "papermill": {
     "duration": 0.142057,
     "end_time": "2021-06-06T17:14:43.537292",
     "exception": false,
     "start_time": "2021-06-06T17:14:43.395235",
     "status": "completed"
    },
    "tags": []
   },
   "source": [
    "пропусков нет,дополнительной обработки не требуется,добавим признак в категориальные"
   ]
  },
  {
   "cell_type": "code",
   "execution_count": 43,
   "metadata": {
    "execution": {
     "iopub.execute_input": "2021-06-06T17:14:43.829112Z",
     "iopub.status.busy": "2021-06-06T17:14:43.828246Z",
     "iopub.status.idle": "2021-06-06T17:14:43.831317Z",
     "shell.execute_reply": "2021-06-06T17:14:43.830796Z",
     "shell.execute_reply.started": "2021-06-06T16:22:34.170746Z"
    },
    "papermill": {
     "duration": 0.149867,
     "end_time": "2021-06-06T17:14:43.831432",
     "exception": false,
     "start_time": "2021-06-06T17:14:43.681565",
     "status": "completed"
    },
    "tags": []
   },
   "outputs": [],
   "source": [
    "cat_cols.append('fuelType')"
   ]
  },
  {
   "cell_type": "markdown",
   "metadata": {
    "papermill": {
     "duration": 0.146395,
     "end_time": "2021-06-06T17:14:44.120102",
     "exception": false,
     "start_time": "2021-06-06T17:14:43.973707",
     "status": "completed"
    },
    "tags": []
   },
   "source": [
    "**image**"
   ]
  },
  {
   "cell_type": "code",
   "execution_count": 44,
   "metadata": {
    "execution": {
     "iopub.execute_input": "2021-06-06T17:14:44.476861Z",
     "iopub.status.busy": "2021-06-06T17:14:44.452373Z",
     "iopub.status.idle": "2021-06-06T17:14:44.488287Z",
     "shell.execute_reply": "2021-06-06T17:14:44.487772Z",
     "shell.execute_reply.started": "2021-06-06T16:22:34.178249Z"
    },
    "papermill": {
     "duration": 0.223746,
     "end_time": "2021-06-06T17:14:44.488409",
     "exception": false,
     "start_time": "2021-06-06T17:14:44.264663",
     "status": "completed"
    },
    "tags": []
   },
   "outputs": [
    {
     "data": {
      "text/plain": [
       "https://avatars.mds.yandex.net/get-verba/216201/2a000001609d0005e0912c12a896bbda4ab1/wizardv3mr     20\n",
       "https://avatars.mds.yandex.net/get-verba/1030388/2a000001609cf6746b94cf8334836265daaf/wizardv3mr    13\n",
       "https://avatars.mds.yandex.net/get-verba/216201/2a000001609bda17487cc63d8b957ab4aab2/wizardv3mr     13\n",
       "https://avatars.mds.yandex.net/get-verba/216201/2a0000016098487a9e1ff58d5ae35f3de345/wizardv3mr     13\n",
       "https://avatars.mds.yandex.net/get-verba/216201/2a0000016099a4e6be992d7b50134fd908fd/wizardv3mr     12\n",
       "Name: image, dtype: int64"
      ]
     },
     "metadata": {},
     "output_type": "display_data"
    }
   ],
   "source": [
    "# image - фото автомобиля\n",
    "# проверим фото на уникальность\n",
    "count_photos = data.image.value_counts()\n",
    "display(count_photos.head(5))"
   ]
  },
  {
   "cell_type": "code",
   "execution_count": 45,
   "metadata": {
    "execution": {
     "iopub.execute_input": "2021-06-06T17:14:44.779653Z",
     "iopub.status.busy": "2021-06-06T17:14:44.778210Z",
     "iopub.status.idle": "2021-06-06T17:14:44.791139Z",
     "shell.execute_reply": "2021-06-06T17:14:44.790581Z",
     "shell.execute_reply.started": "2021-06-06T16:22:34.269202Z"
    },
    "papermill": {
     "duration": 0.160666,
     "end_time": "2021-06-06T17:14:44.791247",
     "exception": false,
     "start_time": "2021-06-06T17:14:44.630581",
     "status": "completed"
    },
    "tags": []
   },
   "outputs": [
    {
     "data": {
      "text/plain": [
       "https://avatars.mds.yandex.net/get-autoru-vos/1959786/f96725db2e0c15558c5c4cd1b8613418/320x240                                                                                                                                   1\n",
       "https://autoru.naydex.net/1xsMU7627/eea2057RFg_/grORHSh_s9quP1CgTz4Z75qpNmv9trfBOhCb2yAUp87j0iTXBvLeCTfOH-380YbfI1D4RkowSvRSjMPeLYDdu9BkA84-O7NLru_U5cyryP1d6aY-KGSiVi5Bh9UpGfwBbVutWknqG8-2Hhj9bUud2_EOfQyfpMN4hxxZn3MIA#DSD    1\n",
       "https://autoru.naydex.net/ESooa9149/468b9eoMemRk/qYMsjh4E8B__rflVJVfy7b1b-wUX9sx_4S5vynlzIYdgyUPy5qLsUgPJhqpjOZeDxTVMekWnLLNLNgUq6H5lBdkCnXsqYYRKm_yI5dVW1mk4L-5wY3OpuvVpbEg6JdJkwqsgoSCTnfJ3yEKeNa9GBrOQOYznp0qXTMAjiL2w#DSD    1\n",
       "https://avatars.mds.yandex.net/get-autoru-vos/1583891/89b987e3aebf3f79c8e71e323119db0b/320x240                                                                                                                                   1\n",
       "https://avatars.mds.yandex.net/get-autoru-vos/2103067/6c78f87ef9b6fa344539ea8595b1affd/320x240                                                                                                                                   1\n",
       "Name: image, dtype: int64"
      ]
     },
     "metadata": {},
     "output_type": "display_data"
    }
   ],
   "source": [
    "#получим уникальные фотографии\n",
    "display(count_photos.sort_values().head(5))"
   ]
  },
  {
   "cell_type": "code",
   "execution_count": 46,
   "metadata": {
    "execution": {
     "iopub.execute_input": "2021-06-06T17:14:45.119677Z",
     "iopub.status.busy": "2021-06-06T17:14:45.117480Z",
     "iopub.status.idle": "2021-06-06T17:14:45.128387Z",
     "shell.execute_reply": "2021-06-06T17:14:45.128798Z",
     "shell.execute_reply.started": "2021-06-06T16:22:34.288345Z"
    },
    "papermill": {
     "duration": 0.19372,
     "end_time": "2021-06-06T17:14:45.128931",
     "exception": false,
     "start_time": "2021-06-06T17:14:44.935211",
     "status": "completed"
    },
    "tags": []
   },
   "outputs": [
    {
     "data": {
      "text/plain": [
       "https://avatars.mds.yandex.net/get-verba/787013/2a000001609d5bb0770b7ce01e33f1a1dbad/wizardv3mr     1\n",
       "https://avatars.mds.yandex.net/get-verba/787013/2a000001609d59ca566f47b3959d1c77c72f/wizardv3mr     1\n",
       "https://avatars.mds.yandex.net/get-verba/787013/2a000001609cef9390faaa4cfa1eba152628/wizardv3mr     1\n",
       "https://avatars.mds.yandex.net/get-verba/1030388/2a000001609d36f8f97ed8164e4856220e46/wizardv3mr    1\n",
       "https://avatars.mds.yandex.net/get-verba/787013/2a000001609d10054ff81f13fae7d27a2ed2/wizardv3mr     1\n",
       "Name: image, dtype: int64"
      ]
     },
     "metadata": {},
     "output_type": "display_data"
    }
   ],
   "source": [
    "# можно сделать из этого бинарный признак по типу уникальности фото\n",
    "data['real_photo'] = data.image.apply(lambda x: x.find('get-verba') == -1)\n",
    "\n",
    "real = data[data['real_photo'] == False].image.value_counts()\n",
    "display(real.sort_values().head(5))\n",
    "# сам признак image удалим"
   ]
  },
  {
   "cell_type": "code",
   "execution_count": 47,
   "metadata": {
    "execution": {
     "iopub.execute_input": "2021-06-06T17:14:45.418975Z",
     "iopub.status.busy": "2021-06-06T17:14:45.418313Z",
     "iopub.status.idle": "2021-06-06T17:14:45.443194Z",
     "shell.execute_reply": "2021-06-06T17:14:45.442488Z",
     "shell.execute_reply.started": "2021-06-06T16:22:34.328371Z"
    },
    "papermill": {
     "duration": 0.17084,
     "end_time": "2021-06-06T17:14:45.443306",
     "exception": false,
     "start_time": "2021-06-06T17:14:45.272466",
     "status": "completed"
    },
    "tags": []
   },
   "outputs": [],
   "source": [
    "data = data.drop('image',axis=1)"
   ]
  },
  {
   "cell_type": "code",
   "execution_count": 48,
   "metadata": {
    "execution": {
     "iopub.execute_input": "2021-06-06T17:14:45.735290Z",
     "iopub.status.busy": "2021-06-06T17:14:45.734636Z",
     "iopub.status.idle": "2021-06-06T17:14:45.741807Z",
     "shell.execute_reply": "2021-06-06T17:14:45.742279Z",
     "shell.execute_reply.started": "2021-06-06T16:22:34.357925Z"
    },
    "papermill": {
     "duration": 0.156565,
     "end_time": "2021-06-06T17:14:45.742444",
     "exception": false,
     "start_time": "2021-06-06T17:14:45.585879",
     "status": "completed"
    },
    "tags": []
   },
   "outputs": [
    {
     "data": {
      "text/plain": [
       "True     65046\n",
       "False      563\n",
       "Name: real_photo, dtype: int64"
      ]
     },
     "execution_count": 48,
     "metadata": {},
     "output_type": "execute_result"
    }
   ],
   "source": [
    "data['real_photo'].value_counts()"
   ]
  },
  {
   "cell_type": "code",
   "execution_count": 49,
   "metadata": {
    "execution": {
     "iopub.execute_input": "2021-06-06T17:14:46.034983Z",
     "iopub.status.busy": "2021-06-06T17:14:46.034007Z",
     "iopub.status.idle": "2021-06-06T17:14:46.275860Z",
     "shell.execute_reply": "2021-06-06T17:14:46.276388Z",
     "shell.execute_reply.started": "2021-06-06T16:22:34.373849Z"
    },
    "papermill": {
     "duration": 0.389283,
     "end_time": "2021-06-06T17:14:46.276525",
     "exception": false,
     "start_time": "2021-06-06T17:14:45.887242",
     "status": "completed"
    },
    "tags": []
   },
   "outputs": [
    {
     "data": {
      "text/plain": [
       "<AxesSubplot:xlabel='real_photo', ylabel='count'>"
      ]
     },
     "execution_count": 49,
     "metadata": {},
     "output_type": "execute_result"
    },
    {
     "data": {
      "image/png": "[encoded data removed]",
      "text/plain": [
       "<Figure size 432x288 with 1 Axes>"
      ]
     },
     "metadata": {
      "needs_background": "light"
     },
     "output_type": "display_data"
    }
   ],
   "source": [
    "sns.countplot(x = 'real_photo', data = data)"
   ]
  },
  {
   "cell_type": "markdown",
   "metadata": {
    "papermill": {
     "duration": 0.145061,
     "end_time": "2021-06-06T17:14:46.566163",
     "exception": false,
     "start_time": "2021-06-06T17:14:46.421102",
     "status": "completed"
    },
    "tags": []
   },
   "source": [
    "Реальных фото оказалось большинство"
   ]
  },
  {
   "cell_type": "code",
   "execution_count": 50,
   "metadata": {
    "execution": {
     "iopub.execute_input": "2021-06-06T17:14:46.863991Z",
     "iopub.status.busy": "2021-06-06T17:14:46.863251Z",
     "iopub.status.idle": "2021-06-06T17:14:46.866219Z",
     "shell.execute_reply": "2021-06-06T17:14:46.865725Z",
     "shell.execute_reply.started": "2021-06-06T16:22:34.620177Z"
    },
    "papermill": {
     "duration": 0.15312,
     "end_time": "2021-06-06T17:14:46.866330",
     "exception": false,
     "start_time": "2021-06-06T17:14:46.713210",
     "status": "completed"
    },
    "tags": []
   },
   "outputs": [],
   "source": [
    "bin_cols.append('real_photo')"
   ]
  },
  {
   "cell_type": "markdown",
   "metadata": {
    "papermill": {
     "duration": 0.147356,
     "end_time": "2021-06-06T17:14:47.159805",
     "exception": false,
     "start_time": "2021-06-06T17:14:47.012449",
     "status": "completed"
    },
    "tags": []
   },
   "source": [
    "**engineDisplacement**"
   ]
  },
  {
   "cell_type": "code",
   "execution_count": 51,
   "metadata": {
    "execution": {
     "iopub.execute_input": "2021-06-06T17:14:47.456208Z",
     "iopub.status.busy": "2021-06-06T17:14:47.455581Z",
     "iopub.status.idle": "2021-06-06T17:14:47.461339Z",
     "shell.execute_reply": "2021-06-06T17:14:47.460836Z",
     "shell.execute_reply.started": "2021-06-06T16:22:34.628347Z"
    },
    "papermill": {
     "duration": 0.155836,
     "end_time": "2021-06-06T17:14:47.461457",
     "exception": false,
     "start_time": "2021-06-06T17:14:47.305621",
     "status": "completed"
    },
    "tags": []
   },
   "outputs": [
    {
     "data": {
      "text/plain": [
       "array(['1.2 LTR', '1.6 LTR', '1.8 LTR', '2.0 LTR', '1.4 LTR', '1.3 LTR',\n",
       "       '1.0 LTR', '3.6 LTR', '1.5 LTR', '1.9 LTR', '2.8 LTR', '1.1 LTR',\n",
       "       '2.5 LTR', '4.2 LTR', '3.0 LTR', '4.0 LTR', '5.9 LTR', '2.7 LTR',\n",
       "       '3.1 LTR', '2.4 LTR', '5.2 LTR', '3.2 LTR', '4.1 LTR', '6.3 LTR',\n",
       "       '2.3 LTR', '6.0 LTR', '2.2 LTR', '3.7 LTR', '2.9 LTR', '5.0 LTR',\n",
       "       '3.3 LTR', '2.1 LTR', '2.6 LTR', ' LTR', '3.5 LTR', '1.7 LTR',\n",
       "       '0.7 LTR', '4.4 LTR', '4.8 LTR', '5.4 LTR', '6.6 LTR', '4.9 LTR',\n",
       "       '3.8 LTR', '3.4 LTR', '3.9 LTR', '4.6 LTR', '5.6 LTR', '4.5 LTR',\n",
       "       '5.5 LTR', '6.2 LTR', '4.7 LTR', '4.3 LTR', '5.8 LTR', '5.3 LTR',\n",
       "       '5.7 LTR', '6.8 LTR', '0.8 LTR', '6.4 LTR', '6.5 LTR', '0.9 LTR',\n",
       "       '0.6 LTR'], dtype=object)"
      ]
     },
     "execution_count": 51,
     "metadata": {},
     "output_type": "execute_result"
    }
   ],
   "source": [
    "data.engineDisplacement.unique()"
   ]
  },
  {
   "cell_type": "code",
   "execution_count": 52,
   "metadata": {
    "execution": {
     "iopub.execute_input": "2021-06-06T17:14:47.777827Z",
     "iopub.status.busy": "2021-06-06T17:14:47.777166Z",
     "iopub.status.idle": "2021-06-06T17:14:47.779954Z",
     "shell.execute_reply": "2021-06-06T17:14:47.780501Z",
     "shell.execute_reply.started": "2021-06-06T16:22:34.651872Z"
    },
    "papermill": {
     "duration": 0.171959,
     "end_time": "2021-06-06T17:14:47.780641",
     "exception": false,
     "start_time": "2021-06-06T17:14:47.608682",
     "status": "completed"
    },
    "tags": []
   },
   "outputs": [
    {
     "data": {
      "text/plain": [
       "2.0 LTR    14515\n",
       "1.6 LTR     9973\n",
       "3.0 LTR     7514\n",
       "1.8 LTR     5805\n",
       "2.5 LTR     4606\n",
       "           ...  \n",
       "6.4 LTR        2\n",
       "0.6 LTR        1\n",
       "6.5 LTR        1\n",
       "3.9 LTR        1\n",
       "0.9 LTR        1\n",
       "Name: engineDisplacement, Length: 61, dtype: int64"
      ]
     },
     "execution_count": 52,
     "metadata": {},
     "output_type": "execute_result"
    }
   ],
   "source": [
    "data.engineDisplacement.value_counts()"
   ]
  },
  {
   "cell_type": "code",
   "execution_count": 53,
   "metadata": {
    "execution": {
     "iopub.execute_input": "2021-06-06T17:14:48.074562Z",
     "iopub.status.busy": "2021-06-06T17:14:48.073950Z",
     "iopub.status.idle": "2021-06-06T17:14:48.153629Z",
     "shell.execute_reply": "2021-06-06T17:14:48.154092Z",
     "shell.execute_reply.started": "2021-06-06T16:22:34.675299Z"
    },
    "papermill": {
     "duration": 0.226975,
     "end_time": "2021-06-06T17:14:48.154241",
     "exception": false,
     "start_time": "2021-06-06T17:14:47.927266",
     "status": "completed"
    },
    "tags": []
   },
   "outputs": [],
   "source": [
    "#оставим только численное значение \n",
    "data.engineDisplacement = data.engineDisplacement.apply(lambda x: x[:3])\n",
    "data.engineDisplacement = data.engineDisplacement.replace(' LT', '2.0')\n",
    "data.engineDisplacement = data.engineDisplacement.apply(lambda x: float(x))"
   ]
  },
  {
   "cell_type": "code",
   "execution_count": 54,
   "metadata": {
    "execution": {
     "iopub.execute_input": "2021-06-06T17:14:48.501676Z",
     "iopub.status.busy": "2021-06-06T17:14:48.451899Z",
     "iopub.status.idle": "2021-06-06T17:14:48.511488Z",
     "shell.execute_reply": "2021-06-06T17:14:48.510822Z",
     "shell.execute_reply.started": "2021-06-06T16:22:34.751028Z"
    },
    "papermill": {
     "duration": 0.21127,
     "end_time": "2021-06-06T17:14:48.511599",
     "exception": false,
     "start_time": "2021-06-06T17:14:48.300329",
     "status": "completed"
    },
    "tags": []
   },
   "outputs": [
    {
     "data": {
      "text/plain": [
       "2    25241\n",
       "1    22562\n",
       "3    12254\n",
       "4     5463\n",
       "0       89\n",
       "Name: engineDisplacement, dtype: int64"
      ]
     },
     "execution_count": 54,
     "metadata": {},
     "output_type": "execute_result"
    }
   ],
   "source": [
    "#разобьем по категориям\n",
    "data[\"engineDisplacement\"] = data[\"engineDisplacement\"].astype('float').apply(lambda x: 4 if x >= 4 else \n",
    "   3 if x >= 3 else(2 if x >= 2 else (1 if x >= 1 else 0)))\n",
    "data.engineDisplacement.value_counts()"
   ]
  },
  {
   "cell_type": "code",
   "execution_count": 55,
   "metadata": {
    "execution": {
     "iopub.execute_input": "2021-06-06T17:14:48.812164Z",
     "iopub.status.busy": "2021-06-06T17:14:48.811530Z",
     "iopub.status.idle": "2021-06-06T17:14:48.973837Z",
     "shell.execute_reply": "2021-06-06T17:14:48.973286Z",
     "shell.execute_reply.started": "2021-06-06T16:22:34.794554Z"
    },
    "papermill": {
     "duration": 0.314883,
     "end_time": "2021-06-06T17:14:48.973945",
     "exception": false,
     "start_time": "2021-06-06T17:14:48.659062",
     "status": "completed"
    },
    "tags": []
   },
   "outputs": [
    {
     "data": {
      "text/plain": [
       "<AxesSubplot:xlabel='engineDisplacement', ylabel='count'>"
      ]
     },
     "execution_count": 55,
     "metadata": {},
     "output_type": "execute_result"
    },
    {
     "data": {
      "image/png": "[encoded data removed]",
      "text/plain": [
       "<Figure size 432x288 with 1 Axes>"
      ]
     },
     "metadata": {
      "needs_background": "light"
     },
     "output_type": "display_data"
    }
   ],
   "source": [
    "sns.countplot(x = 'engineDisplacement', data = data)"
   ]
  },
  {
   "cell_type": "code",
   "execution_count": 56,
   "metadata": {
    "execution": {
     "iopub.execute_input": "2021-06-06T17:14:49.317270Z",
     "iopub.status.busy": "2021-06-06T17:14:49.316645Z",
     "iopub.status.idle": "2021-06-06T17:14:49.319527Z",
     "shell.execute_reply": "2021-06-06T17:14:49.319998Z",
     "shell.execute_reply.started": "2021-06-06T16:22:34.94261Z"
    },
    "papermill": {
     "duration": 0.1964,
     "end_time": "2021-06-06T17:14:49.320126",
     "exception": false,
     "start_time": "2021-06-06T17:14:49.123726",
     "status": "completed"
    },
    "tags": []
   },
   "outputs": [],
   "source": [
    "cat_cols.append('engineDisplacement')"
   ]
  },
  {
   "cell_type": "markdown",
   "metadata": {
    "papermill": {
     "duration": 0.148196,
     "end_time": "2021-06-06T17:14:49.612185",
     "exception": false,
     "start_time": "2021-06-06T17:14:49.463989",
     "status": "completed"
    },
    "tags": []
   },
   "source": [
    "**enginePower**"
   ]
  },
  {
   "cell_type": "code",
   "execution_count": 57,
   "metadata": {
    "execution": {
     "iopub.execute_input": "2021-06-06T17:14:49.914605Z",
     "iopub.status.busy": "2021-06-06T17:14:49.913924Z",
     "iopub.status.idle": "2021-06-06T17:14:49.921532Z",
     "shell.execute_reply": "2021-06-06T17:14:49.920899Z",
     "shell.execute_reply.started": "2021-06-06T16:22:34.949106Z"
    },
    "papermill": {
     "duration": 0.16235,
     "end_time": "2021-06-06T17:14:49.921640",
     "exception": false,
     "start_time": "2021-06-06T17:14:49.759290",
     "status": "completed"
    },
    "tags": []
   },
   "outputs": [
    {
     "data": {
      "text/plain": [
       "array(['105 N12', '110 N12', '152 N12', '200 N12', '102 N12', '150 N12',\n",
       "       '90 N12', '180 N12', '220 N12', '122 N12', '70 N12', '140 N12',\n",
       "       '125 N12', '54 N12', '86 N12', '75 N12', '64 N12', '95 N12',\n",
       "       '260 N12', '170 N12', '80 N12', '68 N12', '160 N12', '115 N12',\n",
       "       '280 N12', '53 N12', '60 N12', '143 N12', '42 N12', '101 N12',\n",
       "       '58 N12', '193 N12', '79 N12', '30 N12', '100 N12', '50 N12',\n",
       "       '163 N12', '225 N12', '420 N12', '211 N12', '245 N12', '560 N12',\n",
       "       '500 N12', '249 N12', '450 N12', '605 N12', '250 N12', '354 N12',\n",
       "       '120 N12', '290 N12', '230 N12', '350 N12', '204 N12', '255 N12',\n",
       "       '340 N12', '177 N12', '272 N12', '372 N12', '210 N12', '130 N12',\n",
       "       '300 N12', '190 N12', '239 N12', '435 N12', '333 N12', '271 N12',\n",
       "       '326 N12', '238 N12', '310 N12', '233 N12', '252 N12', '133 N12',\n",
       "       '460 N12', '520 N12', '400 N12', '525 N12', '367 N12', '265 N12',\n",
       "       '550 N12', '580 N12', '88 N12', '165 N12', '430 N12', '335 N12',\n",
       "       '174 N12', '224 N12', '136 N12', '256 N12', '338 N12', '112 N12',\n",
       "       '218 N12', '360 N12', '93 N12', '182 N12', '113 N12', '240 N12',\n",
       "       '270 N12', '137 N12', '155 N12', '61 N12', '254 N12', '116 N12',\n",
       "       '71 N12', '285 N12', '408 N12', '166 N12', '156 N12', '257 N12',\n",
       "       '201 N12', '162 N12', '194 N12', '142 N12', '154 N12', '147 N12',\n",
       "       '281 N12', '243 N12', '118 N12', '128 N12', '91 N12', '83 N12',\n",
       "       '205 N12', '247 N12', '188 N12', '295 N12', '275 N12', '78 N12',\n",
       "       '109 N12', '94 N12', '185 N12', '258 N12', '145 N12', '132 N12',\n",
       "       '135 N12', '52 N12', '66 N12', '124 N12', '98 N12', '215 N12',\n",
       "       '158 N12', '99 N12', '103 N12', '131 N12', '126 N12', '235 N12',\n",
       "       '181 N12', '315 N12', '203 N12', '231 N12', '82 N12', '304 N12',\n",
       "       '175 N12', '320 N12', '213 N12', '144 N12', '146 N12', '151 N12',\n",
       "       '111 N12', '286 N12', '306 N12', '107 N12', '184 N12', '313 N12',\n",
       "       '264 N12', '575 N12', '407 N12', '192 N12', '129 N12', '555 N12',\n",
       "       '625 N12', '329 N12', '370 N12', '381 N12', '269 N12', '600 N12',\n",
       "       '510 N12', '544 N12', '462 N12', '355 N12', '507 N12', '609 N12',\n",
       "       '431 N12', '530 N12', '387 N12', '610 N12', '197 N12', '343 N12',\n",
       "       '445 N12', '171 N12', '51 N12', '46 N12', '347 N12', '321 N12',\n",
       "       '167 N12', '141 N12', '169 N12', '405 N12', '117 N12', '114 N12',\n",
       "       '173 N12', '234 N12', '540 N12', '106 N12', '49 N12', '248 N12',\n",
       "       '317 N12', '309 N12', '97 N12', '121 N12', '268 N12', '149 N12',\n",
       "       '87 N12', '85 N12', '65 N12', '67 N12', '127 N12', '485 N12',\n",
       "       '186 N12', '222 N12', '307 N12', '262 N12', '302 N12', '284 N12',\n",
       "       '325 N12', '168 N12', '221 N12', '330 N12', '283 N12', '328 N12',\n",
       "       '303 N12', '278 N12', '388 N12', '571 N12', '585 N12', '612 N12',\n",
       "       '401 N12', '279 N12', '455 N12', '382 N12', '557 N12', '517 N12',\n",
       "       '394 N12', '422 N12', '292 N12', '469 N12', '522 N12', '296 N12',\n",
       "       '639 N12', '390 N12', '476 N12', '630 N12', '402 N12', '487 N12',\n",
       "       '558 N12', '421 N12', '316 N12', '514 N12', '457 N12', '626 N12',\n",
       "       '242 N12', '38 N12', '32 N12', '223 N12', '72 N12', '305 N12',\n",
       "       '183 N12', '273 N12', '159 N12', '76 N12', '148 N12', '179 N12',\n",
       "       '73 N12', '277 N12', '282 N12', '178 N12', '288 N12', '199 N12',\n",
       "       '266 N12', '92 N12', '74 N12', '324 N12', '232 N12', '157 N12',\n",
       "       '69 N12', '212 N12', '276 N12', '202 N12', '77 N12', '164 N12',\n",
       "       '96 N12', '84 N12', '228 N12', '108 N12', '208 N12', '263 N12',\n",
       "       '294 N12', '318 N12', '380 N12', '219 N12', '214 N12', '383 N12',\n",
       "       '241 N12', '57 N12', '55 N12', '104 N12', '48 N12', '40 N12',\n",
       "       '44 N12', '227 N12', '139 N12', '209 N12', '195 N12', '189 N12',\n",
       "       '480 N12', '591 N12', '301 N12', '650 N12', '720 N12', '287 N12',\n",
       "       '409 N12', '314 N12', '632 N12', '426 N12', '440 N12', '620 N12',\n",
       "       '385 N12', '608 N12', '449 N12', '123 N12', '635 N12', '351 N12',\n",
       "       '680 N12', '161 N12', '339 N12', '528 N12', '299 N12', '89 N12',\n",
       "       '81 N12', '334 N12', '345 N12', '762 N12', '468 N12', '800 N12',\n",
       "       '322 N12', '512 N12', '570 N12', '253 N12', '475 N12', '410 N12',\n",
       "       '702 N12', '396 N12', '490 N12', '565 N12', '389 N12', '564 N12',\n",
       "       '226 N12', '423 N12', '477 N12', '19 N12', '187 N12', '7 N12',\n",
       "       '236 N12', '45 N12'], dtype=object)"
      ]
     },
     "execution_count": 57,
     "metadata": {},
     "output_type": "execute_result"
    }
   ],
   "source": [
    "data.enginePower.unique()"
   ]
  },
  {
   "cell_type": "code",
   "execution_count": 58,
   "metadata": {
    "execution": {
     "iopub.execute_input": "2021-06-06T17:14:50.229720Z",
     "iopub.status.busy": "2021-06-06T17:14:50.224587Z",
     "iopub.status.idle": "2021-06-06T17:14:50.316277Z",
     "shell.execute_reply": "2021-06-06T17:14:50.315711Z",
     "shell.execute_reply.started": "2021-06-06T16:22:34.971282Z"
    },
    "papermill": {
     "duration": 0.244985,
     "end_time": "2021-06-06T17:14:50.316403",
     "exception": false,
     "start_time": "2021-06-06T17:14:50.071418",
     "status": "completed"
    },
    "tags": []
   },
   "outputs": [],
   "source": [
    "#преобразуем данные\n",
    "data['enginePower'] = data['enginePower'].apply(lambda x: x[:3])\n",
    "data['enginePower'] = data['enginePower'].replace('7 N','7')\n",
    "data['enginePower'] = data['enginePower'].apply(lambda x: int(x))"
   ]
  },
  {
   "cell_type": "code",
   "execution_count": 59,
   "metadata": {
    "execution": {
     "iopub.execute_input": "2021-06-06T17:14:50.616187Z",
     "iopub.status.busy": "2021-06-06T17:14:50.611874Z",
     "iopub.status.idle": "2021-06-06T17:14:50.899187Z",
     "shell.execute_reply": "2021-06-06T17:14:50.898521Z",
     "shell.execute_reply.started": "2021-06-06T16:22:35.050086Z"
    },
    "papermill": {
     "duration": 0.438535,
     "end_time": "2021-06-06T17:14:50.899322",
     "exception": false,
     "start_time": "2021-06-06T17:14:50.460787",
     "status": "completed"
    },
    "tags": []
   },
   "outputs": [
    {
     "data": {
      "text/plain": [
       "<bound method Axes.barh of <AxesSubplot:>>"
      ]
     },
     "execution_count": 59,
     "metadata": {},
     "output_type": "execute_result"
    },
    {
     "data": {
      "image/png": "[encoded data removed]",
      "text/plain": [
       "<Figure size 432x288 with 1 Axes>"
      ]
     },
     "metadata": {
      "needs_background": "light"
     },
     "output_type": "display_data"
    }
   ],
   "source": [
    "data.enginePower.hist().barh"
   ]
  },
  {
   "cell_type": "code",
   "execution_count": 60,
   "metadata": {
    "execution": {
     "iopub.execute_input": "2021-06-06T17:14:51.205101Z",
     "iopub.status.busy": "2021-06-06T17:14:51.204122Z",
     "iopub.status.idle": "2021-06-06T17:14:51.207403Z",
     "shell.execute_reply": "2021-06-06T17:14:51.206780Z",
     "shell.execute_reply.started": "2021-06-06T16:22:35.330998Z"
    },
    "papermill": {
     "duration": 0.159662,
     "end_time": "2021-06-06T17:14:51.207512",
     "exception": false,
     "start_time": "2021-06-06T17:14:51.047850",
     "status": "completed"
    },
    "tags": []
   },
   "outputs": [],
   "source": [
    "#добавим в категориальный признак\n",
    "num_cols.append('enginePower')"
   ]
  },
  {
   "cell_type": "markdown",
   "metadata": {
    "papermill": {
     "duration": 0.148634,
     "end_time": "2021-06-06T17:14:51.505152",
     "exception": false,
     "start_time": "2021-06-06T17:14:51.356518",
     "status": "completed"
    },
    "tags": []
   },
   "source": [
    "**mileage**"
   ]
  },
  {
   "cell_type": "code",
   "execution_count": 61,
   "metadata": {
    "execution": {
     "iopub.execute_input": "2021-06-06T17:14:51.836125Z",
     "iopub.status.busy": "2021-06-06T17:14:51.835465Z",
     "iopub.status.idle": "2021-06-06T17:14:51.850149Z",
     "shell.execute_reply": "2021-06-06T17:14:51.849660Z",
     "shell.execute_reply.started": "2021-06-06T16:22:35.336745Z"
    },
    "papermill": {
     "duration": 0.192853,
     "end_time": "2021-06-06T17:14:51.850259",
     "exception": false,
     "start_time": "2021-06-06T17:14:51.657406",
     "status": "completed"
    },
    "tags": []
   },
   "outputs": [
    {
     "data": {
      "text/plain": [
       "200000        448\n",
       "300000        392\n",
       "150000        389\n",
       "250000        364\n",
       "180000        353\n",
       "             ... \n",
       "108020          1\n",
       "147243          1\n",
       "28142           1\n",
       "134 062 км      1\n",
       "32217           1\n",
       "Name: mileage, Length: 25629, dtype: int64"
      ]
     },
     "execution_count": 61,
     "metadata": {},
     "output_type": "execute_result"
    }
   ],
   "source": [
    "data['mileage'].value_counts()"
   ]
  },
  {
   "cell_type": "code",
   "execution_count": 62,
   "metadata": {
    "execution": {
     "iopub.execute_input": "2021-06-06T17:14:52.188880Z",
     "iopub.status.busy": "2021-06-06T17:14:52.172297Z",
     "iopub.status.idle": "2021-06-06T17:14:52.224501Z",
     "shell.execute_reply": "2021-06-06T17:14:52.223924Z",
     "shell.execute_reply.started": "2021-06-06T16:22:35.383766Z"
    },
    "papermill": {
     "duration": 0.22467,
     "end_time": "2021-06-06T17:14:52.224615",
     "exception": false,
     "start_time": "2021-06-06T17:14:51.999945",
     "status": "completed"
    },
    "tags": []
   },
   "outputs": [],
   "source": [
    "#Почистим данные\n",
    "data['mileage'] = data['mileage'].apply(lambda x: str(x).replace('\\xa0км', ''))"
   ]
  },
  {
   "cell_type": "code",
   "execution_count": 63,
   "metadata": {
    "execution": {
     "iopub.execute_input": "2021-06-06T17:14:52.542785Z",
     "iopub.status.busy": "2021-06-06T17:14:52.532448Z",
     "iopub.status.idle": "2021-06-06T17:14:52.673882Z",
     "shell.execute_reply": "2021-06-06T17:14:52.673307Z",
     "shell.execute_reply.started": "2021-06-06T16:22:35.423283Z"
    },
    "papermill": {
     "duration": 0.297279,
     "end_time": "2021-06-06T17:14:52.674003",
     "exception": false,
     "start_time": "2021-06-06T17:14:52.376724",
     "status": "completed"
    },
    "tags": []
   },
   "outputs": [],
   "source": [
    "data['mileage'] = data.mileage.apply(\n",
    "    lambda x: int(\"\".join(filter(str.isdigit, x))))"
   ]
  },
  {
   "cell_type": "code",
   "execution_count": 64,
   "metadata": {
    "_kg_hide-input": true,
    "execution": {
     "iopub.execute_input": "2021-06-06T17:14:52.982668Z",
     "iopub.status.busy": "2021-06-06T17:14:52.981950Z",
     "iopub.status.idle": "2021-06-06T17:14:53.325298Z",
     "shell.execute_reply": "2021-06-06T17:14:53.324694Z",
     "shell.execute_reply.started": "2021-06-06T16:22:35.535634Z"
    },
    "papermill": {
     "duration": 0.500694,
     "end_time": "2021-06-06T17:14:53.325423",
     "exception": false,
     "start_time": "2021-06-06T17:14:52.824729",
     "status": "completed"
    },
    "tags": []
   },
   "outputs": [
    {
     "data": {
      "text/plain": [
       "count      65609.000000\n",
       "mean      152734.059931\n",
       "std        98234.485146\n",
       "min            1.000000\n",
       "25%        82450.000000\n",
       "50%       140000.000000\n",
       "75%       202667.000000\n",
       "max      1000000.000000\n",
       "Name: mileage, dtype: float64"
      ]
     },
     "execution_count": 64,
     "metadata": {},
     "output_type": "execute_result"
    },
    {
     "data": {
      "image/png": "[encoded data removed]",
      "text/plain": [
       "<Figure size 360x360 with 1 Axes>"
      ]
     },
     "metadata": {
      "needs_background": "light"
     },
     "output_type": "display_data"
    }
   ],
   "source": [
    "data['mileage'].hist(figsize=(5,5), bins=50)\n",
    "data.mileage.describe()"
   ]
  },
  {
   "cell_type": "code",
   "execution_count": 65,
   "metadata": {
    "execution": {
     "iopub.execute_input": "2021-06-06T17:14:53.635879Z",
     "iopub.status.busy": "2021-06-06T17:14:53.635151Z",
     "iopub.status.idle": "2021-06-06T17:14:53.681092Z",
     "shell.execute_reply": "2021-06-06T17:14:53.680402Z",
     "shell.execute_reply.started": "2021-06-06T16:22:35.848328Z"
    },
    "papermill": {
     "duration": 0.205647,
     "end_time": "2021-06-06T17:14:53.681214",
     "exception": false,
     "start_time": "2021-06-06T17:14:53.475567",
     "status": "completed"
    },
    "tags": []
   },
   "outputs": [],
   "source": [
    "#Создадим категориальный признак 'mileage_cat'  \n",
    "data[\"mileage_cat\"] = data[\"mileage\"].apply(lambda x: 4 if x>=40000 else(3 if x>=30000 else(2 if x>=20000 else (1 if x>=10000 else 0))))"
   ]
  },
  {
   "cell_type": "code",
   "execution_count": 66,
   "metadata": {
    "execution": {
     "iopub.execute_input": "2021-06-06T17:14:53.991676Z",
     "iopub.status.busy": "2021-06-06T17:14:53.991035Z",
     "iopub.status.idle": "2021-06-06T17:14:53.996497Z",
     "shell.execute_reply": "2021-06-06T17:14:53.996989Z",
     "shell.execute_reply.started": "2021-06-06T16:22:35.885106Z"
    },
    "papermill": {
     "duration": 0.163594,
     "end_time": "2021-06-06T17:14:53.997123",
     "exception": false,
     "start_time": "2021-06-06T17:14:53.833529",
     "status": "completed"
    },
    "tags": []
   },
   "outputs": [
    {
     "data": {
      "text/plain": [
       "4    58896\n",
       "3     1845\n",
       "2     1699\n",
       "1     1595\n",
       "0     1574\n",
       "Name: mileage_cat, dtype: int64"
      ]
     },
     "execution_count": 66,
     "metadata": {},
     "output_type": "execute_result"
    }
   ],
   "source": [
    "data.mileage_cat.value_counts()"
   ]
  },
  {
   "cell_type": "code",
   "execution_count": 67,
   "metadata": {
    "execution": {
     "iopub.execute_input": "2021-06-06T17:14:54.305565Z",
     "iopub.status.busy": "2021-06-06T17:14:54.304928Z",
     "iopub.status.idle": "2021-06-06T17:14:54.308845Z",
     "shell.execute_reply": "2021-06-06T17:14:54.309396Z",
     "shell.execute_reply.started": "2021-06-06T16:22:35.896225Z"
    },
    "papermill": {
     "duration": 0.159031,
     "end_time": "2021-06-06T17:14:54.309538",
     "exception": false,
     "start_time": "2021-06-06T17:14:54.150507",
     "status": "completed"
    },
    "tags": []
   },
   "outputs": [],
   "source": [
    "num_cols.append('mileage')\n",
    "cat_cols.append('mileage_cat')"
   ]
  },
  {
   "cell_type": "markdown",
   "metadata": {
    "papermill": {
     "duration": 0.150941,
     "end_time": "2021-06-06T17:14:54.610958",
     "exception": false,
     "start_time": "2021-06-06T17:14:54.460017",
     "status": "completed"
    },
    "tags": []
   },
   "source": [
    "**productionDate и modelDate**"
   ]
  },
  {
   "cell_type": "code",
   "execution_count": 68,
   "metadata": {
    "execution": {
     "iopub.execute_input": "2021-06-06T17:14:54.916559Z",
     "iopub.status.busy": "2021-06-06T17:14:54.915887Z",
     "iopub.status.idle": "2021-06-06T17:14:54.923562Z",
     "shell.execute_reply": "2021-06-06T17:14:54.924051Z",
     "shell.execute_reply.started": "2021-06-06T16:22:35.912009Z"
    },
    "papermill": {
     "duration": 0.161896,
     "end_time": "2021-06-06T17:14:54.924219",
     "exception": false,
     "start_time": "2021-06-06T17:14:54.762323",
     "status": "completed"
    },
    "tags": []
   },
   "outputs": [
    {
     "data": {
      "text/plain": [
       "2012    5382\n",
       "2013    4933\n",
       "2011    4772\n",
       "2014    4467\n",
       "2008    4410\n",
       "        ... \n",
       "1962       1\n",
       "1961       1\n",
       "1957       1\n",
       "1948       1\n",
       "1949       1\n",
       "Name: productionDate, Length: 74, dtype: int64"
      ]
     },
     "execution_count": 68,
     "metadata": {},
     "output_type": "execute_result"
    }
   ],
   "source": [
    "data.productionDate.value_counts()"
   ]
  },
  {
   "cell_type": "code",
   "execution_count": 69,
   "metadata": {
    "execution": {
     "iopub.execute_input": "2021-06-06T17:14:55.231842Z",
     "iopub.status.busy": "2021-06-06T17:14:55.231171Z",
     "iopub.status.idle": "2021-06-06T17:14:55.574567Z",
     "shell.execute_reply": "2021-06-06T17:14:55.574047Z",
     "shell.execute_reply.started": "2021-06-06T16:22:35.933618Z"
    },
    "papermill": {
     "duration": 0.497358,
     "end_time": "2021-06-06T17:14:55.574679",
     "exception": false,
     "start_time": "2021-06-06T17:14:55.077321",
     "status": "completed"
    },
    "tags": []
   },
   "outputs": [
    {
     "name": "stdout",
     "output_type": "stream",
     "text": [
      "AxesSubplot(0.125,0.125;0.775x0.755)\n"
     ]
    },
    {
     "data": {
      "image/png": "[encoded data removed]",
      "text/plain": [
       "<Figure size 360x360 with 1 Axes>"
      ]
     },
     "metadata": {
      "needs_background": "light"
     },
     "output_type": "display_data"
    }
   ],
   "source": [
    "print(data['productionDate'].hist(figsize=(5,5), bins=50))"
   ]
  },
  {
   "cell_type": "code",
   "execution_count": 70,
   "metadata": {
    "execution": {
     "iopub.execute_input": "2021-06-06T17:14:55.886394Z",
     "iopub.status.busy": "2021-06-06T17:14:55.885671Z",
     "iopub.status.idle": "2021-06-06T17:14:55.893016Z",
     "shell.execute_reply": "2021-06-06T17:14:55.892511Z",
     "shell.execute_reply.started": "2021-06-06T16:22:36.249741Z"
    },
    "papermill": {
     "duration": 0.165125,
     "end_time": "2021-06-06T17:14:55.893127",
     "exception": false,
     "start_time": "2021-06-06T17:14:55.728002",
     "status": "completed"
    },
    "tags": []
   },
   "outputs": [
    {
     "data": {
      "text/plain": [
       "2013    4646\n",
       "2012    4616\n",
       "2011    4340\n",
       "2014    4191\n",
       "2010    4056\n",
       "        ... \n",
       "1904       1\n",
       "1965       1\n",
       "1946       1\n",
       "1952       1\n",
       "1950       1\n",
       "Name: modelDate, Length: 73, dtype: int64"
      ]
     },
     "execution_count": 70,
     "metadata": {},
     "output_type": "execute_result"
    }
   ],
   "source": [
    "data.modelDate.value_counts()"
   ]
  },
  {
   "cell_type": "code",
   "execution_count": 71,
   "metadata": {
    "execution": {
     "iopub.execute_input": "2021-06-06T17:14:56.211948Z",
     "iopub.status.busy": "2021-06-06T17:14:56.206657Z",
     "iopub.status.idle": "2021-06-06T17:14:56.551852Z",
     "shell.execute_reply": "2021-06-06T17:14:56.551308Z",
     "shell.execute_reply.started": "2021-06-06T16:22:36.262803Z"
    },
    "papermill": {
     "duration": 0.504583,
     "end_time": "2021-06-06T17:14:56.551971",
     "exception": false,
     "start_time": "2021-06-06T17:14:56.047388",
     "status": "completed"
    },
    "tags": []
   },
   "outputs": [
    {
     "name": "stdout",
     "output_type": "stream",
     "text": [
      "AxesSubplot(0.125,0.125;0.775x0.755)\n"
     ]
    },
    {
     "data": {
      "image/png": "[encoded data removed]",
      "text/plain": [
       "<Figure size 360x360 with 1 Axes>"
      ]
     },
     "metadata": {
      "needs_background": "light"
     },
     "output_type": "display_data"
    }
   ],
   "source": [
    "print(data['modelDate'].hist(figsize=(5,5), bins=50))"
   ]
  },
  {
   "cell_type": "code",
   "execution_count": 72,
   "metadata": {
    "execution": {
     "iopub.execute_input": "2021-06-06T17:14:56.869529Z",
     "iopub.status.busy": "2021-06-06T17:14:56.868883Z",
     "iopub.status.idle": "2021-06-06T17:14:56.874177Z",
     "shell.execute_reply": "2021-06-06T17:14:56.874644Z",
     "shell.execute_reply.started": "2021-06-06T16:22:36.57025Z"
    },
    "papermill": {
     "duration": 0.16696,
     "end_time": "2021-06-06T17:14:56.874783",
     "exception": false,
     "start_time": "2021-06-06T17:14:56.707823",
     "status": "completed"
    },
    "tags": []
   },
   "outputs": [],
   "source": [
    "#создадим новые признаки на основе существующих: количество лет производства и возраст модели\n",
    "data['prod_age'] = 2021 - data.productionDate\n",
    "data['model_age'] = 2021 - data.modelDate"
   ]
  },
  {
   "cell_type": "code",
   "execution_count": 73,
   "metadata": {
    "execution": {
     "iopub.execute_input": "2021-06-06T17:14:57.192901Z",
     "iopub.status.busy": "2021-06-06T17:14:57.192193Z",
     "iopub.status.idle": "2021-06-06T17:14:57.194720Z",
     "shell.execute_reply": "2021-06-06T17:14:57.194055Z",
     "shell.execute_reply.started": "2021-06-06T16:22:36.579393Z"
    },
    "papermill": {
     "duration": 0.16445,
     "end_time": "2021-06-06T17:14:57.194834",
     "exception": false,
     "start_time": "2021-06-06T17:14:57.030384",
     "status": "completed"
    },
    "tags": []
   },
   "outputs": [],
   "source": [
    "#определим эти признаки в числовые данные\n",
    "num_cols.append('productionDate')\n",
    "num_cols.append('modelDate')\n",
    "num_cols.append('prod_age')\n",
    "num_cols.append('model_age')"
   ]
  },
  {
   "cell_type": "markdown",
   "metadata": {
    "papermill": {
     "duration": 0.153886,
     "end_time": "2021-06-06T17:14:57.502796",
     "exception": false,
     "start_time": "2021-06-06T17:14:57.348910",
     "status": "completed"
    },
    "tags": []
   },
   "source": [
    "**model_name**"
   ]
  },
  {
   "cell_type": "code",
   "execution_count": 74,
   "metadata": {
    "execution": {
     "iopub.execute_input": "2021-06-06T17:14:57.822052Z",
     "iopub.status.busy": "2021-06-06T17:14:57.821445Z",
     "iopub.status.idle": "2021-06-06T17:14:57.828103Z",
     "shell.execute_reply": "2021-06-06T17:14:57.827615Z",
     "shell.execute_reply.started": "2021-06-06T16:22:36.589467Z"
    },
    "papermill": {
     "duration": 0.169224,
     "end_time": "2021-06-06T17:14:57.828205",
     "exception": false,
     "start_time": "2021-06-06T17:14:57.658981",
     "status": "completed"
    },
    "tags": []
   },
   "outputs": [
    {
     "data": {
      "text/plain": [
       "array(['OCTAVIA', 'SUPERB', 'OCTAVIA_RS', ..., 'VAMOS', 'CAPA', 'MDX'],\n",
       "      dtype=object)"
      ]
     },
     "execution_count": 74,
     "metadata": {},
     "output_type": "execute_result"
    }
   ],
   "source": [
    "data.model_name.unique()"
   ]
  },
  {
   "cell_type": "code",
   "execution_count": 75,
   "metadata": {
    "execution": {
     "iopub.execute_input": "2021-06-06T17:14:58.141086Z",
     "iopub.status.busy": "2021-06-06T17:14:58.140471Z",
     "iopub.status.idle": "2021-06-06T17:14:58.143860Z",
     "shell.execute_reply": "2021-06-06T17:14:58.144434Z",
     "shell.execute_reply.started": "2021-06-06T16:22:36.61058Z"
    },
    "papermill": {
     "duration": 0.162051,
     "end_time": "2021-06-06T17:14:58.144566",
     "exception": false,
     "start_time": "2021-06-06T17:14:57.982515",
     "status": "completed"
    },
    "tags": []
   },
   "outputs": [],
   "source": [
    "cat_cols.append('model_name')"
   ]
  },
  {
   "cell_type": "markdown",
   "metadata": {
    "papermill": {
     "duration": 0.154075,
     "end_time": "2021-06-06T17:14:58.453791",
     "exception": false,
     "start_time": "2021-06-06T17:14:58.299716",
     "status": "completed"
    },
    "tags": []
   },
   "source": [
    "**numberOfDoors**"
   ]
  },
  {
   "cell_type": "code",
   "execution_count": 76,
   "metadata": {
    "execution": {
     "iopub.execute_input": "2021-06-06T17:14:58.769691Z",
     "iopub.status.busy": "2021-06-06T17:14:58.769018Z",
     "iopub.status.idle": "2021-06-06T17:14:58.775921Z",
     "shell.execute_reply": "2021-06-06T17:14:58.776535Z",
     "shell.execute_reply.started": "2021-06-06T16:22:36.616118Z"
    },
    "papermill": {
     "duration": 0.166379,
     "end_time": "2021-06-06T17:14:58.776674",
     "exception": false,
     "start_time": "2021-06-06T17:14:58.610295",
     "status": "completed"
    },
    "tags": []
   },
   "outputs": [
    {
     "data": {
      "text/plain": [
       "5    36866\n",
       "4    25512\n",
       "2     2129\n",
       "3     1101\n",
       "0        1\n",
       "Name: numberOfDoors, dtype: int64"
      ]
     },
     "execution_count": 76,
     "metadata": {},
     "output_type": "execute_result"
    }
   ],
   "source": [
    "data.numberOfDoors.value_counts() #категориальный признак,не требующий доп.обработки"
   ]
  },
  {
   "cell_type": "code",
   "execution_count": 77,
   "metadata": {
    "execution": {
     "iopub.execute_input": "2021-06-06T17:14:59.094287Z",
     "iopub.status.busy": "2021-06-06T17:14:59.093687Z",
     "iopub.status.idle": "2021-06-06T17:14:59.261726Z",
     "shell.execute_reply": "2021-06-06T17:14:59.262227Z",
     "shell.execute_reply.started": "2021-06-06T16:22:36.632637Z"
    },
    "papermill": {
     "duration": 0.329023,
     "end_time": "2021-06-06T17:14:59.262392",
     "exception": false,
     "start_time": "2021-06-06T17:14:58.933369",
     "status": "completed"
    },
    "tags": []
   },
   "outputs": [
    {
     "data": {
      "text/plain": [
       "<AxesSubplot:xlabel='numberOfDoors', ylabel='count'>"
      ]
     },
     "execution_count": 77,
     "metadata": {},
     "output_type": "execute_result"
    },
    {
     "data": {
      "image/png": "[encoded data removed]",
      "text/plain": [
       "<Figure size 432x288 with 1 Axes>"
      ]
     },
     "metadata": {
      "needs_background": "light"
     },
     "output_type": "display_data"
    }
   ],
   "source": [
    "sns.countplot(x = 'numberOfDoors', data = data)"
   ]
  },
  {
   "cell_type": "code",
   "execution_count": 78,
   "metadata": {
    "execution": {
     "iopub.execute_input": "2021-06-06T17:14:59.584427Z",
     "iopub.status.busy": "2021-06-06T17:14:59.583807Z",
     "iopub.status.idle": "2021-06-06T17:14:59.586481Z",
     "shell.execute_reply": "2021-06-06T17:14:59.585927Z",
     "shell.execute_reply.started": "2021-06-06T16:22:36.812755Z"
    },
    "papermill": {
     "duration": 0.165938,
     "end_time": "2021-06-06T17:14:59.586597",
     "exception": false,
     "start_time": "2021-06-06T17:14:59.420659",
     "status": "completed"
    },
    "tags": []
   },
   "outputs": [],
   "source": [
    "cat_cols.append('numberOfDoors')"
   ]
  },
  {
   "cell_type": "markdown",
   "metadata": {
    "papermill": {
     "duration": 0.161283,
     "end_time": "2021-06-06T17:14:59.906005",
     "exception": false,
     "start_time": "2021-06-06T17:14:59.744722",
     "status": "completed"
    },
    "tags": []
   },
   "source": [
    "**sell_id**"
   ]
  },
  {
   "cell_type": "code",
   "execution_count": 79,
   "metadata": {
    "execution": {
     "iopub.execute_input": "2021-06-06T17:15:00.229188Z",
     "iopub.status.busy": "2021-06-06T17:15:00.228185Z",
     "iopub.status.idle": "2021-06-06T17:15:00.232845Z",
     "shell.execute_reply": "2021-06-06T17:15:00.232256Z",
     "shell.execute_reply.started": "2021-06-06T16:22:36.819136Z"
    },
    "papermill": {
     "duration": 0.169292,
     "end_time": "2021-06-06T17:15:00.232967",
     "exception": false,
     "start_time": "2021-06-06T17:15:00.063675",
     "status": "completed"
    },
    "tags": []
   },
   "outputs": [
    {
     "data": {
      "text/plain": [
       "0"
      ]
     },
     "execution_count": 79,
     "metadata": {},
     "output_type": "execute_result"
    }
   ],
   "source": [
    "test.sell_id.isna().sum()"
   ]
  },
  {
   "cell_type": "markdown",
   "metadata": {
    "execution": {
     "iopub.execute_input": "2021-06-01T02:03:06.22253Z",
     "iopub.status.busy": "2021-06-01T02:03:06.222117Z",
     "iopub.status.idle": "2021-06-01T02:03:06.257053Z",
     "shell.execute_reply": "2021-06-01T02:03:06.256023Z",
     "shell.execute_reply.started": "2021-06-01T02:03:06.222485Z"
    },
    "papermill": {
     "duration": 0.154994,
     "end_time": "2021-06-06T17:15:00.542515",
     "exception": false,
     "start_time": "2021-06-06T17:15:00.387521",
     "status": "completed"
    },
    "tags": []
   },
   "source": [
    "sell_id - идентификатор объявления,который у нас есть в test-вборке. Из отчета видно, что данный признак уникален, пропусков не осталось. Признак является идентификатором объявления. Смысловой нагрузки не несет, для обучение не отбираем"
   ]
  },
  {
   "cell_type": "markdown",
   "metadata": {
    "papermill": {
     "duration": 0.157329,
     "end_time": "2021-06-06T17:15:00.856920",
     "exception": false,
     "start_time": "2021-06-06T17:15:00.699591",
     "status": "completed"
    },
    "tags": []
   },
   "source": [
    "**vehicleTransmission**"
   ]
  },
  {
   "cell_type": "code",
   "execution_count": 80,
   "metadata": {
    "execution": {
     "iopub.execute_input": "2021-06-06T17:15:01.196540Z",
     "iopub.status.busy": "2021-06-06T17:15:01.195673Z",
     "iopub.status.idle": "2021-06-06T17:15:01.198658Z",
     "shell.execute_reply": "2021-06-06T17:15:01.199161Z",
     "shell.execute_reply.started": "2021-06-06T16:22:36.842989Z"
    },
    "papermill": {
     "duration": 0.184547,
     "end_time": "2021-06-06T17:15:01.199303",
     "exception": false,
     "start_time": "2021-06-06T17:15:01.014756",
     "status": "completed"
    },
    "tags": []
   },
   "outputs": [
    {
     "data": {
      "text/plain": [
       "автоматическая      37639\n",
       "механическая        12662\n",
       "роботизированная     7798\n",
       "вариатор             7510\n",
       "Name: vehicleTransmission, dtype: int64"
      ]
     },
     "execution_count": 80,
     "metadata": {},
     "output_type": "execute_result"
    }
   ],
   "source": [
    "data.vehicleTransmission.value_counts()"
   ]
  },
  {
   "cell_type": "code",
   "execution_count": 81,
   "metadata": {
    "execution": {
     "iopub.execute_input": "2021-06-06T17:15:01.523777Z",
     "iopub.status.busy": "2021-06-06T17:15:01.523109Z",
     "iopub.status.idle": "2021-06-06T17:15:01.690974Z",
     "shell.execute_reply": "2021-06-06T17:15:01.690396Z",
     "shell.execute_reply.started": "2021-06-06T16:22:36.864846Z"
    },
    "papermill": {
     "duration": 0.333433,
     "end_time": "2021-06-06T17:15:01.691084",
     "exception": false,
     "start_time": "2021-06-06T17:15:01.357651",
     "status": "completed"
    },
    "tags": []
   },
   "outputs": [
    {
     "data": {
      "text/plain": [
       "<AxesSubplot:xlabel='vehicleTransmission', ylabel='count'>"
      ]
     },
     "execution_count": 81,
     "metadata": {},
     "output_type": "execute_result"
    },
    {
     "data": {
      "image/png": "[encoded data removed]",
      "text/plain": [
       "<Figure size 432x288 with 1 Axes>"
      ]
     },
     "metadata": {
      "needs_background": "light"
     },
     "output_type": "display_data"
    }
   ],
   "source": [
    "sns.countplot(x = 'vehicleTransmission', data = data)"
   ]
  },
  {
   "cell_type": "code",
   "execution_count": 82,
   "metadata": {
    "execution": {
     "iopub.execute_input": "2021-06-06T17:15:02.014674Z",
     "iopub.status.busy": "2021-06-06T17:15:02.013943Z",
     "iopub.status.idle": "2021-06-06T17:15:02.017037Z",
     "shell.execute_reply": "2021-06-06T17:15:02.016427Z",
     "shell.execute_reply.started": "2021-06-06T16:22:37.023481Z"
    },
    "papermill": {
     "duration": 0.166748,
     "end_time": "2021-06-06T17:15:02.017145",
     "exception": false,
     "start_time": "2021-06-06T17:15:01.850397",
     "status": "completed"
    },
    "tags": []
   },
   "outputs": [],
   "source": [
    "#определяем в категориальный признак\n",
    "cat_cols.append('vehicleTransmission')"
   ]
  },
  {
   "cell_type": "markdown",
   "metadata": {
    "papermill": {
     "duration": 0.16072,
     "end_time": "2021-06-06T17:15:02.339750",
     "exception": false,
     "start_time": "2021-06-06T17:15:02.179030",
     "status": "completed"
    },
    "tags": []
   },
   "source": [
    "**Владельцы**"
   ]
  },
  {
   "cell_type": "code",
   "execution_count": 83,
   "metadata": {
    "execution": {
     "iopub.execute_input": "2021-06-06T17:15:02.679272Z",
     "iopub.status.busy": "2021-06-06T17:15:02.678202Z",
     "iopub.status.idle": "2021-06-06T17:15:02.682640Z",
     "shell.execute_reply": "2021-06-06T17:15:02.682085Z",
     "shell.execute_reply.started": "2021-06-06T16:22:37.028978Z"
    },
    "papermill": {
     "duration": 0.184702,
     "end_time": "2021-06-06T17:15:02.682752",
     "exception": false,
     "start_time": "2021-06-06T17:15:02.498050",
     "status": "completed"
    },
    "tags": []
   },
   "outputs": [
    {
     "data": {
      "text/plain": [
       "3 или более    27688\n",
       "1 владелец     11879\n",
       "2 владельца    10713\n",
       "1 владелец      8517\n",
       "2 владельца     6812\n",
       "Name: Владельцы, dtype: int64"
      ]
     },
     "execution_count": 83,
     "metadata": {},
     "output_type": "execute_result"
    }
   ],
   "source": [
    "data['Владельцы'].value_counts()"
   ]
  },
  {
   "cell_type": "code",
   "execution_count": 84,
   "metadata": {
    "execution": {
     "iopub.execute_input": "2021-06-06T17:15:03.056972Z",
     "iopub.status.busy": "2021-06-06T17:15:03.016456Z",
     "iopub.status.idle": "2021-06-06T17:15:03.077861Z",
     "shell.execute_reply": "2021-06-06T17:15:03.077143Z",
     "shell.execute_reply.started": "2021-06-06T16:22:37.051629Z"
    },
    "papermill": {
     "duration": 0.236249,
     "end_time": "2021-06-06T17:15:03.077978",
     "exception": false,
     "start_time": "2021-06-06T17:15:02.841729",
     "status": "completed"
    },
    "tags": []
   },
   "outputs": [],
   "source": [
    "#почистим данные, оставим только количество владельцев\n",
    "data['Владельцы'] = data['Владельцы'].apply(lambda x: int(x[0])).astype('int32')"
   ]
  },
  {
   "cell_type": "code",
   "execution_count": 85,
   "metadata": {
    "execution": {
     "iopub.execute_input": "2021-06-06T17:15:03.428464Z",
     "iopub.status.busy": "2021-06-06T17:15:03.427424Z",
     "iopub.status.idle": "2021-06-06T17:15:03.434465Z",
     "shell.execute_reply": "2021-06-06T17:15:03.433891Z",
     "shell.execute_reply.started": "2021-06-06T16:22:37.113288Z"
    },
    "papermill": {
     "duration": 0.17103,
     "end_time": "2021-06-06T17:15:03.434577",
     "exception": false,
     "start_time": "2021-06-06T17:15:03.263547",
     "status": "completed"
    },
    "tags": []
   },
   "outputs": [
    {
     "data": {
      "text/plain": [
       "3    27688\n",
       "1    20396\n",
       "2    17525\n",
       "Name: Владельцы, dtype: int64"
      ]
     },
     "execution_count": 85,
     "metadata": {},
     "output_type": "execute_result"
    }
   ],
   "source": [
    "data.Владельцы.value_counts()"
   ]
  },
  {
   "cell_type": "code",
   "execution_count": 86,
   "metadata": {
    "execution": {
     "iopub.execute_input": "2021-06-06T17:15:03.757610Z",
     "iopub.status.busy": "2021-06-06T17:15:03.756987Z",
     "iopub.status.idle": "2021-06-06T17:15:03.893829Z",
     "shell.execute_reply": "2021-06-06T17:15:03.894357Z",
     "shell.execute_reply.started": "2021-06-06T16:22:37.122796Z"
    },
    "papermill": {
     "duration": 0.301339,
     "end_time": "2021-06-06T17:15:03.894521",
     "exception": false,
     "start_time": "2021-06-06T17:15:03.593182",
     "status": "completed"
    },
    "tags": []
   },
   "outputs": [
    {
     "data": {
      "text/plain": [
       "<AxesSubplot:xlabel='Владельцы', ylabel='count'>"
      ]
     },
     "execution_count": 86,
     "metadata": {},
     "output_type": "execute_result"
    },
    {
     "data": {
      "image/png": "[encoded data removed]",
      "text/plain": [
       "<Figure size 432x288 with 1 Axes>"
      ]
     },
     "metadata": {
      "needs_background": "light"
     },
     "output_type": "display_data"
    }
   ],
   "source": [
    "sns.countplot(x = 'Владельцы', data = data)"
   ]
  },
  {
   "cell_type": "code",
   "execution_count": 87,
   "metadata": {
    "execution": {
     "iopub.execute_input": "2021-06-06T17:15:04.218900Z",
     "iopub.status.busy": "2021-06-06T17:15:04.218291Z",
     "iopub.status.idle": "2021-06-06T17:15:04.221779Z",
     "shell.execute_reply": "2021-06-06T17:15:04.222367Z",
     "shell.execute_reply.started": "2021-06-06T16:22:37.259561Z"
    },
    "papermill": {
     "duration": 0.167311,
     "end_time": "2021-06-06T17:15:04.222500",
     "exception": false,
     "start_time": "2021-06-06T17:15:04.055189",
     "status": "completed"
    },
    "tags": []
   },
   "outputs": [],
   "source": [
    "cat_cols.append('Владельцы')"
   ]
  },
  {
   "cell_type": "markdown",
   "metadata": {
    "papermill": {
     "duration": 0.158208,
     "end_time": "2021-06-06T17:15:04.540884",
     "exception": false,
     "start_time": "2021-06-06T17:15:04.382676",
     "status": "completed"
    },
    "tags": []
   },
   "source": [
    "**ПТС**"
   ]
  },
  {
   "cell_type": "code",
   "execution_count": 88,
   "metadata": {
    "execution": {
     "iopub.execute_input": "2021-06-06T17:15:04.866599Z",
     "iopub.status.busy": "2021-06-06T17:15:04.865895Z",
     "iopub.status.idle": "2021-06-06T17:15:04.889723Z",
     "shell.execute_reply": "2021-06-06T17:15:04.890224Z",
     "shell.execute_reply.started": "2021-06-06T16:22:37.266914Z"
    },
    "papermill": {
     "duration": 0.188224,
     "end_time": "2021-06-06T17:15:04.890382",
     "exception": false,
     "start_time": "2021-06-06T17:15:04.702158",
     "status": "completed"
    },
    "tags": []
   },
   "outputs": [
    {
     "data": {
      "text/plain": [
       "Оригинал    57486\n",
       "Дубликат     8122\n",
       "Name: ПТС, dtype: int64"
      ]
     },
     "execution_count": 88,
     "metadata": {},
     "output_type": "execute_result"
    }
   ],
   "source": [
    "data.ПТС.value_counts()"
   ]
  },
  {
   "cell_type": "code",
   "execution_count": 89,
   "metadata": {
    "execution": {
     "iopub.execute_input": "2021-06-06T17:15:05.211739Z",
     "iopub.status.busy": "2021-06-06T17:15:05.211080Z",
     "iopub.status.idle": "2021-06-06T17:15:05.223596Z",
     "shell.execute_reply": "2021-06-06T17:15:05.223045Z",
     "shell.execute_reply.started": "2021-06-06T16:22:37.288598Z"
    },
    "papermill": {
     "duration": 0.174017,
     "end_time": "2021-06-06T17:15:05.223708",
     "exception": false,
     "start_time": "2021-06-06T17:15:05.049691",
     "status": "completed"
    },
    "tags": []
   },
   "outputs": [
    {
     "data": {
      "text/plain": [
       "1"
      ]
     },
     "execution_count": 89,
     "metadata": {},
     "output_type": "execute_result"
    }
   ],
   "source": [
    "data.ПТС.isna().sum()"
   ]
  },
  {
   "cell_type": "code",
   "execution_count": 90,
   "metadata": {
    "execution": {
     "iopub.execute_input": "2021-06-06T17:15:05.557681Z",
     "iopub.status.busy": "2021-06-06T17:15:05.557040Z",
     "iopub.status.idle": "2021-06-06T17:15:05.562653Z",
     "shell.execute_reply": "2021-06-06T17:15:05.562110Z",
     "shell.execute_reply.started": "2021-06-06T16:22:37.305761Z"
    },
    "papermill": {
     "duration": 0.177756,
     "end_time": "2021-06-06T17:15:05.562764",
     "exception": false,
     "start_time": "2021-06-06T17:15:05.385008",
     "status": "completed"
    },
    "tags": []
   },
   "outputs": [],
   "source": [
    "data.ПТС = data.ПТС.fillna('Оригинал')# заполним пропуск наиболее частым значением"
   ]
  },
  {
   "cell_type": "code",
   "execution_count": 91,
   "metadata": {
    "execution": {
     "iopub.execute_input": "2021-06-06T17:15:05.897663Z",
     "iopub.status.busy": "2021-06-06T17:15:05.892374Z",
     "iopub.status.idle": "2021-06-06T17:15:05.944695Z",
     "shell.execute_reply": "2021-06-06T17:15:05.944034Z",
     "shell.execute_reply.started": "2021-06-06T16:22:37.325333Z"
    },
    "papermill": {
     "duration": 0.219544,
     "end_time": "2021-06-06T17:15:05.944807",
     "exception": false,
     "start_time": "2021-06-06T17:15:05.725263",
     "status": "completed"
    },
    "tags": []
   },
   "outputs": [],
   "source": [
    "# Преобразуем значения в колонке ПТС\n",
    "data['ПТС'] = data['ПТС'].apply(lambda x: 1 if x == 'Оригинал' else 0).astype('int8')"
   ]
  },
  {
   "cell_type": "code",
   "execution_count": 92,
   "metadata": {
    "execution": {
     "iopub.execute_input": "2021-06-06T17:15:06.273325Z",
     "iopub.status.busy": "2021-06-06T17:15:06.272688Z",
     "iopub.status.idle": "2021-06-06T17:15:06.430112Z",
     "shell.execute_reply": "2021-06-06T17:15:06.431067Z",
     "shell.execute_reply.started": "2021-06-06T16:22:37.373502Z"
    },
    "papermill": {
     "duration": 0.324777,
     "end_time": "2021-06-06T17:15:06.431265",
     "exception": false,
     "start_time": "2021-06-06T17:15:06.106488",
     "status": "completed"
    },
    "tags": []
   },
   "outputs": [
    {
     "data": {
      "text/plain": [
       "<AxesSubplot:xlabel='ПТС', ylabel='count'>"
      ]
     },
     "execution_count": 92,
     "metadata": {},
     "output_type": "execute_result"
    },
    {
     "data": {
      "image/png": "[encoded data removed]",
      "text/plain": [
       "<Figure size 432x288 with 1 Axes>"
      ]
     },
     "metadata": {
      "needs_background": "light"
     },
     "output_type": "display_data"
    }
   ],
   "source": [
    "sns.countplot(x = 'ПТС', data = data)"
   ]
  },
  {
   "cell_type": "code",
   "execution_count": 93,
   "metadata": {
    "execution": {
     "iopub.execute_input": "2021-06-06T17:15:06.799085Z",
     "iopub.status.busy": "2021-06-06T17:15:06.798114Z",
     "iopub.status.idle": "2021-06-06T17:15:06.801516Z",
     "shell.execute_reply": "2021-06-06T17:15:06.800880Z",
     "shell.execute_reply.started": "2021-06-06T16:22:37.495115Z"
    },
    "papermill": {
     "duration": 0.170702,
     "end_time": "2021-06-06T17:15:06.801630",
     "exception": false,
     "start_time": "2021-06-06T17:15:06.630928",
     "status": "completed"
    },
    "tags": []
   },
   "outputs": [],
   "source": [
    "#определяем в бинарные признаки\n",
    "bin_cols.append('ПТС')"
   ]
  },
  {
   "cell_type": "markdown",
   "metadata": {
    "papermill": {
     "duration": 0.168063,
     "end_time": "2021-06-06T17:15:07.135163",
     "exception": false,
     "start_time": "2021-06-06T17:15:06.967100",
     "status": "completed"
    },
    "tags": []
   },
   "source": [
    "**Привод**"
   ]
  },
  {
   "cell_type": "code",
   "execution_count": 94,
   "metadata": {
    "execution": {
     "iopub.execute_input": "2021-06-06T17:15:07.464094Z",
     "iopub.status.busy": "2021-06-06T17:15:07.463066Z",
     "iopub.status.idle": "2021-06-06T17:15:07.485273Z",
     "shell.execute_reply": "2021-06-06T17:15:07.485825Z",
     "shell.execute_reply.started": "2021-06-06T16:22:37.499268Z"
    },
    "papermill": {
     "duration": 0.187342,
     "end_time": "2021-06-06T17:15:07.485959",
     "exception": false,
     "start_time": "2021-06-06T17:15:07.298617",
     "status": "completed"
    },
    "tags": []
   },
   "outputs": [
    {
     "data": {
      "text/plain": [
       "передний    29352\n",
       "полный      29242\n",
       "задний       7015\n",
       "Name: Привод, dtype: int64"
      ]
     },
     "execution_count": 94,
     "metadata": {},
     "output_type": "execute_result"
    }
   ],
   "source": [
    "data.Привод.value_counts()"
   ]
  },
  {
   "cell_type": "code",
   "execution_count": 95,
   "metadata": {
    "execution": {
     "iopub.execute_input": "2021-06-06T17:15:07.820565Z",
     "iopub.status.busy": "2021-06-06T17:15:07.819631Z",
     "iopub.status.idle": "2021-06-06T17:15:07.972107Z",
     "shell.execute_reply": "2021-06-06T17:15:07.971487Z",
     "shell.execute_reply.started": "2021-06-06T16:22:37.522302Z"
    },
    "papermill": {
     "duration": 0.320938,
     "end_time": "2021-06-06T17:15:07.972224",
     "exception": false,
     "start_time": "2021-06-06T17:15:07.651286",
     "status": "completed"
    },
    "tags": []
   },
   "outputs": [
    {
     "data": {
      "text/plain": [
       "<AxesSubplot:xlabel='Привод', ylabel='count'>"
      ]
     },
     "execution_count": 95,
     "metadata": {},
     "output_type": "execute_result"
    },
    {
     "data": {
      "image/png": "[encoded data removed]",
      "text/plain": [
       "<Figure size 432x288 with 1 Axes>"
      ]
     },
     "metadata": {
      "needs_background": "light"
     },
     "output_type": "display_data"
    }
   ],
   "source": [
    "#посмотрим на распределение\n",
    "sns.countplot(x = 'Привод', data = data)"
   ]
  },
  {
   "cell_type": "code",
   "execution_count": 96,
   "metadata": {
    "execution": {
     "iopub.execute_input": "2021-06-06T17:15:08.306512Z",
     "iopub.status.busy": "2021-06-06T17:15:08.305825Z",
     "iopub.status.idle": "2021-06-06T17:15:08.308769Z",
     "shell.execute_reply": "2021-06-06T17:15:08.308240Z",
     "shell.execute_reply.started": "2021-06-06T16:22:37.671267Z"
    },
    "papermill": {
     "duration": 0.172661,
     "end_time": "2021-06-06T17:15:08.308876",
     "exception": false,
     "start_time": "2021-06-06T17:15:08.136215",
     "status": "completed"
    },
    "tags": []
   },
   "outputs": [],
   "source": [
    "cat_cols.append('Привод')"
   ]
  },
  {
   "cell_type": "markdown",
   "metadata": {
    "papermill": {
     "duration": 0.164793,
     "end_time": "2021-06-06T17:15:08.637836",
     "exception": false,
     "start_time": "2021-06-06T17:15:08.473043",
     "status": "completed"
    },
    "tags": []
   },
   "source": [
    "**Руль**"
   ]
  },
  {
   "cell_type": "code",
   "execution_count": 97,
   "metadata": {
    "execution": {
     "iopub.execute_input": "2021-06-06T17:15:08.989198Z",
     "iopub.status.busy": "2021-06-06T17:15:08.988194Z",
     "iopub.status.idle": "2021-06-06T17:15:08.991866Z",
     "shell.execute_reply": "2021-06-06T17:15:08.992402Z",
     "shell.execute_reply.started": "2021-06-06T16:22:37.678107Z"
    },
    "papermill": {
     "duration": 0.190275,
     "end_time": "2021-06-06T17:15:08.992545",
     "exception": false,
     "start_time": "2021-06-06T17:15:08.802270",
     "status": "completed"
    },
    "tags": []
   },
   "outputs": [
    {
     "data": {
      "text/plain": [
       "Левый     63355\n",
       "Правый     2254\n",
       "Name: Руль, dtype: int64"
      ]
     },
     "execution_count": 97,
     "metadata": {},
     "output_type": "execute_result"
    }
   ],
   "source": [
    "data.Руль.value_counts()"
   ]
  },
  {
   "cell_type": "code",
   "execution_count": 98,
   "metadata": {
    "execution": {
     "iopub.execute_input": "2021-06-06T17:15:09.325644Z",
     "iopub.status.busy": "2021-06-06T17:15:09.324714Z",
     "iopub.status.idle": "2021-06-06T17:15:09.376846Z",
     "shell.execute_reply": "2021-06-06T17:15:09.377342Z",
     "shell.execute_reply.started": "2021-06-06T16:22:37.701171Z"
    },
    "papermill": {
     "duration": 0.219778,
     "end_time": "2021-06-06T17:15:09.377511",
     "exception": false,
     "start_time": "2021-06-06T17:15:09.157733",
     "status": "completed"
    },
    "tags": []
   },
   "outputs": [],
   "source": [
    "# Преобразуем значения в колонке Руль\n",
    "data['Руль'] = data['Руль'].apply(lambda x: 1 if x == 'Левый' else 0).astype('int8')"
   ]
  },
  {
   "cell_type": "code",
   "execution_count": 99,
   "metadata": {
    "execution": {
     "iopub.execute_input": "2021-06-06T17:15:09.708968Z",
     "iopub.status.busy": "2021-06-06T17:15:09.707947Z",
     "iopub.status.idle": "2021-06-06T17:15:09.836837Z",
     "shell.execute_reply": "2021-06-06T17:15:09.836240Z",
     "shell.execute_reply.started": "2021-06-06T16:22:37.746352Z"
    },
    "papermill": {
     "duration": 0.296092,
     "end_time": "2021-06-06T17:15:09.836948",
     "exception": false,
     "start_time": "2021-06-06T17:15:09.540856",
     "status": "completed"
    },
    "tags": []
   },
   "outputs": [
    {
     "data": {
      "text/plain": [
       "<AxesSubplot:xlabel='Руль', ylabel='count'>"
      ]
     },
     "execution_count": 99,
     "metadata": {},
     "output_type": "execute_result"
    },
    {
     "data": {
      "image/png": "[encoded data removed]",
      "text/plain": [
       "<Figure size 432x288 with 1 Axes>"
      ]
     },
     "metadata": {
      "needs_background": "light"
     },
     "output_type": "display_data"
    }
   ],
   "source": [
    "sns.countplot(x = 'Руль', data = data)"
   ]
  },
  {
   "cell_type": "code",
   "execution_count": 100,
   "metadata": {
    "execution": {
     "iopub.execute_input": "2021-06-06T17:15:10.212934Z",
     "iopub.status.busy": "2021-06-06T17:15:10.212277Z",
     "iopub.status.idle": "2021-06-06T17:15:10.214682Z",
     "shell.execute_reply": "2021-06-06T17:15:10.215190Z",
     "shell.execute_reply.started": "2021-06-06T16:22:37.870866Z"
    },
    "papermill": {
     "duration": 0.17323,
     "end_time": "2021-06-06T17:15:10.215325",
     "exception": false,
     "start_time": "2021-06-06T17:15:10.042095",
     "status": "completed"
    },
    "tags": []
   },
   "outputs": [],
   "source": [
    "bin_cols.append('Руль')"
   ]
  },
  {
   "cell_type": "markdown",
   "metadata": {
    "papermill": {
     "duration": 0.161164,
     "end_time": "2021-06-06T17:15:10.539605",
     "exception": false,
     "start_time": "2021-06-06T17:15:10.378441",
     "status": "completed"
    },
    "tags": []
   },
   "source": [
    "**Состояние**"
   ]
  },
  {
   "cell_type": "code",
   "execution_count": 101,
   "metadata": {
    "execution": {
     "iopub.execute_input": "2021-06-06T17:15:10.874087Z",
     "iopub.status.busy": "2021-06-06T17:15:10.873493Z",
     "iopub.status.idle": "2021-06-06T17:15:10.881035Z",
     "shell.execute_reply": "2021-06-06T17:15:10.880548Z",
     "shell.execute_reply.started": "2021-06-06T16:22:37.877842Z"
    },
    "papermill": {
     "duration": 0.177853,
     "end_time": "2021-06-06T17:15:10.881137",
     "exception": false,
     "start_time": "2021-06-06T17:15:10.703284",
     "status": "completed"
    },
    "tags": []
   },
   "outputs": [
    {
     "data": {
      "text/plain": [
       "array(['Не требует ремонта', 'Битый / не на ходу'], dtype=object)"
      ]
     },
     "execution_count": 101,
     "metadata": {},
     "output_type": "execute_result"
    }
   ],
   "source": [
    "data.Состояние.unique()"
   ]
  },
  {
   "cell_type": "code",
   "execution_count": 102,
   "metadata": {
    "execution": {
     "iopub.execute_input": "2021-06-06T17:15:11.215635Z",
     "iopub.status.busy": "2021-06-06T17:15:11.214937Z",
     "iopub.status.idle": "2021-06-06T17:15:11.267727Z",
     "shell.execute_reply": "2021-06-06T17:15:11.268300Z",
     "shell.execute_reply.started": "2021-06-06T16:22:37.898914Z"
    },
    "papermill": {
     "duration": 0.2233,
     "end_time": "2021-06-06T17:15:11.268476",
     "exception": false,
     "start_time": "2021-06-06T17:15:11.045176",
     "status": "completed"
    },
    "tags": []
   },
   "outputs": [],
   "source": [
    "# Преобразуем значения в колонке Состояние\n",
    "data['Состояние'] = data['Состояние'].apply(lambda x: 1 if x == 'Не требует ремонта' else 0).astype('int8')"
   ]
  },
  {
   "cell_type": "code",
   "execution_count": 103,
   "metadata": {
    "execution": {
     "iopub.execute_input": "2021-06-06T17:15:11.601810Z",
     "iopub.status.busy": "2021-06-06T17:15:11.601121Z",
     "iopub.status.idle": "2021-06-06T17:15:11.608418Z",
     "shell.execute_reply": "2021-06-06T17:15:11.609002Z",
     "shell.execute_reply.started": "2021-06-06T16:22:37.937294Z"
    },
    "papermill": {
     "duration": 0.177742,
     "end_time": "2021-06-06T17:15:11.609139",
     "exception": false,
     "start_time": "2021-06-06T17:15:11.431397",
     "status": "completed"
    },
    "tags": []
   },
   "outputs": [
    {
     "data": {
      "text/plain": [
       "1    65607\n",
       "0        2\n",
       "Name: Состояние, dtype: int64"
      ]
     },
     "execution_count": 103,
     "metadata": {},
     "output_type": "execute_result"
    }
   ],
   "source": [
    "data.Состояние.value_counts()"
   ]
  },
  {
   "cell_type": "code",
   "execution_count": 104,
   "metadata": {
    "execution": {
     "iopub.execute_input": "2021-06-06T17:15:11.941926Z",
     "iopub.status.busy": "2021-06-06T17:15:11.941201Z",
     "iopub.status.idle": "2021-06-06T17:15:11.945799Z",
     "shell.execute_reply": "2021-06-06T17:15:11.945195Z",
     "shell.execute_reply.started": "2021-06-06T16:22:37.951422Z"
    },
    "papermill": {
     "duration": 0.172037,
     "end_time": "2021-06-06T17:15:11.945915",
     "exception": false,
     "start_time": "2021-06-06T17:15:11.773878",
     "status": "completed"
    },
    "tags": []
   },
   "outputs": [],
   "source": [
    "bin_cols.append('Состояние')"
   ]
  },
  {
   "cell_type": "markdown",
   "metadata": {
    "papermill": {
     "duration": 0.163235,
     "end_time": "2021-06-06T17:15:12.273185",
     "exception": false,
     "start_time": "2021-06-06T17:15:12.109950",
     "status": "completed"
    },
    "tags": []
   },
   "source": [
    "**Посмотрим на распределение целевой переменной:**"
   ]
  },
  {
   "cell_type": "code",
   "execution_count": 105,
   "metadata": {
    "execution": {
     "iopub.execute_input": "2021-06-06T17:15:12.605149Z",
     "iopub.status.busy": "2021-06-06T17:15:12.604472Z",
     "iopub.status.idle": "2021-06-06T17:15:12.635974Z",
     "shell.execute_reply": "2021-06-06T17:15:12.636468Z",
     "shell.execute_reply.started": "2021-06-06T16:22:37.957542Z"
    },
    "papermill": {
     "duration": 0.200242,
     "end_time": "2021-06-06T17:15:12.636623",
     "exception": false,
     "start_time": "2021-06-06T17:15:12.436381",
     "status": "completed"
    },
    "tags": []
   },
   "outputs": [],
   "source": [
    "# приведем целевую переменную к числовому типу\n",
    "data['price'] = data['price'].apply(lambda x: str(x))"
   ]
  },
  {
   "cell_type": "code",
   "execution_count": 106,
   "metadata": {
    "execution": {
     "iopub.execute_input": "2021-06-06T17:15:12.971314Z",
     "iopub.status.busy": "2021-06-06T17:15:12.970705Z",
     "iopub.status.idle": "2021-06-06T17:15:13.061249Z",
     "shell.execute_reply": "2021-06-06T17:15:13.061744Z",
     "shell.execute_reply.started": "2021-06-06T16:22:37.990622Z"
    },
    "papermill": {
     "duration": 0.25959,
     "end_time": "2021-06-06T17:15:13.061889",
     "exception": false,
     "start_time": "2021-06-06T17:15:12.802299",
     "status": "completed"
    },
    "tags": []
   },
   "outputs": [],
   "source": [
    "# приведем целевую переменную к числовому типу\n",
    "data.price = data.price.apply(\n",
    "    lambda x: (\"\".join(filter(str.isdigit, x)))).astype('int')"
   ]
  },
  {
   "cell_type": "code",
   "execution_count": 107,
   "metadata": {
    "execution": {
     "iopub.execute_input": "2021-06-06T17:15:13.399845Z",
     "iopub.status.busy": "2021-06-06T17:15:13.399090Z",
     "iopub.status.idle": "2021-06-06T17:15:13.739447Z",
     "shell.execute_reply": "2021-06-06T17:15:13.739941Z",
     "shell.execute_reply.started": "2021-06-06T16:22:38.077477Z"
    },
    "papermill": {
     "duration": 0.507087,
     "end_time": "2021-06-06T17:15:13.740079",
     "exception": false,
     "start_time": "2021-06-06T17:15:13.232992",
     "status": "completed"
    },
    "tags": []
   },
   "outputs": [
    {
     "data": {
      "text/plain": [
       "<AxesSubplot:title={'center':'Распределение price'}, xlabel='price'>"
      ]
     },
     "execution_count": 107,
     "metadata": {},
     "output_type": "execute_result"
    },
    {
     "data": {
      "image/png": "[encoded data removed]",
      "text/plain": [
       "<Figure size 432x288 with 1 Axes>"
      ]
     },
     "metadata": {
      "needs_background": "light"
     },
     "output_type": "display_data"
    }
   ],
   "source": [
    "plt.figure()\n",
    "plt.title(f\"Распределение {'price'}\")\n",
    "sns.distplot(data.price, kde=False)"
   ]
  },
  {
   "cell_type": "markdown",
   "metadata": {
    "papermill": {
     "duration": 0.16759,
     "end_time": "2021-06-06T17:15:14.075064",
     "exception": false,
     "start_time": "2021-06-06T17:15:13.907474",
     "status": "completed"
    },
    "tags": []
   },
   "source": [
    "Посмотрим на распределение зависимости цены от марки авто:"
   ]
  },
  {
   "cell_type": "code",
   "execution_count": 108,
   "metadata": {
    "execution": {
     "iopub.execute_input": "2021-06-06T17:15:14.443460Z",
     "iopub.status.busy": "2021-06-06T17:15:14.442848Z",
     "iopub.status.idle": "2021-06-06T17:15:15.808921Z",
     "shell.execute_reply": "2021-06-06T17:15:15.808288Z",
     "shell.execute_reply.started": "2021-06-06T16:22:38.420287Z"
    },
    "papermill": {
     "duration": 1.535343,
     "end_time": "2021-06-06T17:15:15.809036",
     "exception": false,
     "start_time": "2021-06-06T17:15:14.273693",
     "status": "completed"
    },
    "tags": []
   },
   "outputs": [
    {
     "data": {
      "text/plain": [
       "<matplotlib.collections.PathCollection at 0x19f25cf3f40>"
      ]
     },
     "execution_count": 108,
     "metadata": {},
     "output_type": "execute_result"
    },
    {
     "data": {
      "image/png": "[encoded data removed]",
      "text/plain": [
       "<Figure size 720x1080 with 1 Axes>"
      ]
     },
     "metadata": {
      "needs_background": "light"
     },
     "output_type": "display_data"
    }
   ],
   "source": [
    "plt.figure(figsize=(10, 15))\n",
    "plt.scatter(np.log(data.price), data.brand)"
   ]
  },
  {
   "cell_type": "markdown",
   "metadata": {
    "papermill": {
     "duration": 0.168713,
     "end_time": "2021-06-06T17:15:16.146655",
     "exception": false,
     "start_time": "2021-06-06T17:15:15.977942",
     "status": "completed"
    },
    "tags": []
   },
   "source": [
    "Показывает что цены адекватны и зависят от марки авто"
   ]
  },
  {
   "cell_type": "code",
   "execution_count": 109,
   "metadata": {
    "execution": {
     "iopub.execute_input": "2021-06-06T17:15:16.489074Z",
     "iopub.status.busy": "2021-06-06T17:15:16.488397Z",
     "iopub.status.idle": "2021-06-06T17:15:16.857955Z",
     "shell.execute_reply": "2021-06-06T17:15:16.858480Z",
     "shell.execute_reply.started": "2021-06-06T16:22:39.562144Z"
    },
    "papermill": {
     "duration": 0.542859,
     "end_time": "2021-06-06T17:15:16.858624",
     "exception": false,
     "start_time": "2021-06-06T17:15:16.315765",
     "status": "completed"
    },
    "tags": []
   },
   "outputs": [
    {
     "data": {
      "text/plain": [
       "<matplotlib.collections.PathCollection at 0x19f2600a2b0>"
      ]
     },
     "execution_count": 109,
     "metadata": {},
     "output_type": "execute_result"
    },
    {
     "data": {
      "image/png": "[encoded data removed]",
      "text/plain": [
       "<Figure size 720x1080 with 1 Axes>"
      ]
     },
     "metadata": {
      "needs_background": "light"
     },
     "output_type": "display_data"
    }
   ],
   "source": [
    "#Посмотрим на распределение зависимости цены от километража\n",
    "plt.figure(figsize=(10, 15))\n",
    "plt.scatter(np.log(data.price), data.mileage)"
   ]
  },
  {
   "cell_type": "markdown",
   "metadata": {
    "papermill": {
     "duration": 0.176578,
     "end_time": "2021-06-06T17:15:17.211201",
     "exception": false,
     "start_time": "2021-06-06T17:15:17.034623",
     "status": "completed"
    },
    "tags": []
   },
   "source": [
    " Удалим признаки, которые на наш взгляд не несут никакой информативности,либо дублируют информацию:"
   ]
  },
  {
   "cell_type": "code",
   "execution_count": 110,
   "metadata": {
    "execution": {
     "iopub.execute_input": "2021-06-06T17:15:17.563971Z",
     "iopub.status.busy": "2021-06-06T17:15:17.563257Z",
     "iopub.status.idle": "2021-06-06T17:15:17.582573Z",
     "shell.execute_reply": "2021-06-06T17:15:17.581992Z",
     "shell.execute_reply.started": "2021-06-06T16:22:39.893622Z"
    },
    "papermill": {
     "duration": 0.198556,
     "end_time": "2021-06-06T17:15:17.582684",
     "exception": false,
     "start_time": "2021-06-06T17:15:17.384128",
     "status": "completed"
    },
    "tags": []
   },
   "outputs": [],
   "source": [
    "data = data.drop(columns = ['car_url','name','sell_id','parsing_unixtime','vehicleConfiguration','priceCurrency','Таможня'], axis=1)"
   ]
  },
  {
   "cell_type": "code",
   "execution_count": 111,
   "metadata": {
    "execution": {
     "iopub.execute_input": "2021-06-06T17:15:17.950919Z",
     "iopub.status.busy": "2021-06-06T17:15:17.949925Z",
     "iopub.status.idle": "2021-06-06T17:15:17.953922Z",
     "shell.execute_reply": "2021-06-06T17:15:17.953367Z",
     "shell.execute_reply.started": "2021-06-06T16:22:39.920477Z"
    },
    "papermill": {
     "duration": 0.197441,
     "end_time": "2021-06-06T17:15:17.954029",
     "exception": false,
     "start_time": "2021-06-06T17:15:17.756588",
     "status": "completed"
    },
    "tags": []
   },
   "outputs": [
    {
     "data": {
      "text/html": [
       "<div>\n",
       "<style scoped>\n",
       "    .dataframe tbody tr th:only-of-type {\n",
       "        vertical-align: middle;\n",
       "    }\n",
       "\n",
       "    .dataframe tbody tr th {\n",
       "        vertical-align: top;\n",
       "    }\n",
       "\n",
       "    .dataframe thead th {\n",
       "        text-align: right;\n",
       "    }\n",
       "</style>\n",
       "<table border=\"1\" class=\"dataframe\">\n",
       "  <thead>\n",
       "    <tr style=\"text-align: right;\">\n",
       "      <th></th>\n",
       "      <th>bodyType</th>\n",
       "      <th>brand</th>\n",
       "      <th>color</th>\n",
       "      <th>engineDisplacement</th>\n",
       "      <th>enginePower</th>\n",
       "      <th>fuelType</th>\n",
       "      <th>mileage</th>\n",
       "      <th>modelDate</th>\n",
       "      <th>model_name</th>\n",
       "      <th>numberOfDoors</th>\n",
       "      <th>productionDate</th>\n",
       "      <th>vehicleTransmission</th>\n",
       "      <th>Владельцы</th>\n",
       "      <th>ПТС</th>\n",
       "      <th>Привод</th>\n",
       "      <th>Руль</th>\n",
       "      <th>Состояние</th>\n",
       "      <th>price</th>\n",
       "      <th>sample</th>\n",
       "      <th>description_len</th>\n",
       "      <th>real_photo</th>\n",
       "      <th>mileage_cat</th>\n",
       "      <th>prod_age</th>\n",
       "      <th>model_age</th>\n",
       "    </tr>\n",
       "  </thead>\n",
       "  <tbody>\n",
       "    <tr>\n",
       "      <th>0</th>\n",
       "      <td>лифтбек</td>\n",
       "      <td>SKODA</td>\n",
       "      <td>синий</td>\n",
       "      <td>1</td>\n",
       "      <td>105</td>\n",
       "      <td>бензин</td>\n",
       "      <td>74000</td>\n",
       "      <td>2013</td>\n",
       "      <td>OCTAVIA</td>\n",
       "      <td>5</td>\n",
       "      <td>2014</td>\n",
       "      <td>роботизированная</td>\n",
       "      <td>3</td>\n",
       "      <td>1</td>\n",
       "      <td>передний</td>\n",
       "      <td>1</td>\n",
       "      <td>1</td>\n",
       "      <td>0</td>\n",
       "      <td>0</td>\n",
       "      <td>1001</td>\n",
       "      <td>True</td>\n",
       "      <td>4</td>\n",
       "      <td>7</td>\n",
       "      <td>8</td>\n",
       "    </tr>\n",
       "    <tr>\n",
       "      <th>1</th>\n",
       "      <td>лифтбек</td>\n",
       "      <td>SKODA</td>\n",
       "      <td>чёрный</td>\n",
       "      <td>1</td>\n",
       "      <td>110</td>\n",
       "      <td>бензин</td>\n",
       "      <td>60563</td>\n",
       "      <td>2017</td>\n",
       "      <td>OCTAVIA</td>\n",
       "      <td>5</td>\n",
       "      <td>2017</td>\n",
       "      <td>механическая</td>\n",
       "      <td>1</td>\n",
       "      <td>1</td>\n",
       "      <td>передний</td>\n",
       "      <td>1</td>\n",
       "      <td>1</td>\n",
       "      <td>0</td>\n",
       "      <td>0</td>\n",
       "      <td>2609</td>\n",
       "      <td>True</td>\n",
       "      <td>4</td>\n",
       "      <td>4</td>\n",
       "      <td>4</td>\n",
       "    </tr>\n",
       "  </tbody>\n",
       "</table>\n",
       "</div>"
      ],
      "text/plain": [
       "  bodyType  brand   color  engineDisplacement  enginePower fuelType  mileage  \\\n",
       "0  лифтбек  SKODA   синий                   1          105   бензин    74000   \n",
       "1  лифтбек  SKODA  чёрный                   1          110   бензин    60563   \n",
       "\n",
       "   modelDate model_name  numberOfDoors  productionDate vehicleTransmission  \\\n",
       "0       2013    OCTAVIA              5            2014    роботизированная   \n",
       "1       2017    OCTAVIA              5            2017        механическая   \n",
       "\n",
       "   Владельцы  ПТС    Привод  Руль  Состояние  price  sample  description_len  \\\n",
       "0          3    1  передний     1          1      0       0             1001   \n",
       "1          1    1  передний     1          1      0       0             2609   \n",
       "\n",
       "   real_photo  mileage_cat  prod_age  model_age  \n",
       "0        True            4         7          8  \n",
       "1        True            4         4          4  "
      ]
     },
     "execution_count": 111,
     "metadata": {},
     "output_type": "execute_result"
    }
   ],
   "source": [
    "data.head(2)"
   ]
  },
  {
   "cell_type": "markdown",
   "metadata": {
    "papermill": {
     "duration": 0.17364,
     "end_time": "2021-06-06T17:15:18.302038",
     "exception": false,
     "start_time": "2021-06-06T17:15:18.128398",
     "status": "completed"
    },
    "tags": []
   },
   "source": [
    "## Label Encoding"
   ]
  },
  {
   "cell_type": "code",
   "execution_count": 112,
   "metadata": {
    "execution": {
     "iopub.execute_input": "2021-06-06T17:15:18.662099Z",
     "iopub.status.busy": "2021-06-06T17:15:18.661461Z",
     "iopub.status.idle": "2021-06-06T17:15:18.716351Z",
     "shell.execute_reply": "2021-06-06T17:15:18.715741Z",
     "shell.execute_reply.started": "2021-06-06T16:22:39.941265Z"
    },
    "papermill": {
     "duration": 0.242277,
     "end_time": "2021-06-06T17:15:18.716477",
     "exception": false,
     "start_time": "2021-06-06T17:15:18.474200",
     "status": "completed"
    },
    "tags": []
   },
   "outputs": [],
   "source": [
    "for colum in ['bodyType','color','model_name','brand','fuelType', 'vehicleTransmission','Привод','real_photo']:\n",
    "    data[colum] = data[colum].astype('category').cat.codes"
   ]
  },
  {
   "cell_type": "code",
   "execution_count": 113,
   "metadata": {
    "execution": {
     "iopub.execute_input": "2021-06-06T17:15:19.066773Z",
     "iopub.status.busy": "2021-06-06T17:15:19.066034Z",
     "iopub.status.idle": "2021-06-06T17:15:19.084612Z",
     "shell.execute_reply": "2021-06-06T17:15:19.085099Z",
     "shell.execute_reply.started": "2021-06-06T16:22:40.012427Z"
    },
    "papermill": {
     "duration": 0.197685,
     "end_time": "2021-06-06T17:15:19.085244",
     "exception": false,
     "start_time": "2021-06-06T17:15:18.887559",
     "status": "completed"
    },
    "tags": []
   },
   "outputs": [
    {
     "data": {
      "text/html": [
       "<div>\n",
       "<style scoped>\n",
       "    .dataframe tbody tr th:only-of-type {\n",
       "        vertical-align: middle;\n",
       "    }\n",
       "\n",
       "    .dataframe tbody tr th {\n",
       "        vertical-align: top;\n",
       "    }\n",
       "\n",
       "    .dataframe thead th {\n",
       "        text-align: right;\n",
       "    }\n",
       "</style>\n",
       "<table border=\"1\" class=\"dataframe\">\n",
       "  <thead>\n",
       "    <tr style=\"text-align: right;\">\n",
       "      <th></th>\n",
       "      <th>bodyType</th>\n",
       "      <th>brand</th>\n",
       "      <th>color</th>\n",
       "      <th>engineDisplacement</th>\n",
       "      <th>enginePower</th>\n",
       "      <th>fuelType</th>\n",
       "      <th>mileage</th>\n",
       "      <th>modelDate</th>\n",
       "      <th>model_name</th>\n",
       "      <th>numberOfDoors</th>\n",
       "      <th>productionDate</th>\n",
       "      <th>vehicleTransmission</th>\n",
       "      <th>Владельцы</th>\n",
       "      <th>ПТС</th>\n",
       "      <th>Привод</th>\n",
       "      <th>Руль</th>\n",
       "      <th>Состояние</th>\n",
       "      <th>price</th>\n",
       "      <th>sample</th>\n",
       "      <th>description_len</th>\n",
       "      <th>real_photo</th>\n",
       "      <th>mileage_cat</th>\n",
       "      <th>prod_age</th>\n",
       "      <th>model_age</th>\n",
       "    </tr>\n",
       "  </thead>\n",
       "  <tbody>\n",
       "    <tr>\n",
       "      <th>59491</th>\n",
       "      <td>11</td>\n",
       "      <td>43</td>\n",
       "      <td>0</td>\n",
       "      <td>1</td>\n",
       "      <td>109</td>\n",
       "      <td>0</td>\n",
       "      <td>138000</td>\n",
       "      <td>2011</td>\n",
       "      <td>965</td>\n",
       "      <td>4</td>\n",
       "      <td>2011</td>\n",
       "      <td>0</td>\n",
       "      <td>1</td>\n",
       "      <td>1</td>\n",
       "      <td>1</td>\n",
       "      <td>1</td>\n",
       "      <td>1</td>\n",
       "      <td>550000</td>\n",
       "      <td>1</td>\n",
       "      <td>1553</td>\n",
       "      <td>1</td>\n",
       "      <td>4</td>\n",
       "      <td>10</td>\n",
       "      <td>10</td>\n",
       "    </tr>\n",
       "    <tr>\n",
       "      <th>47926</th>\n",
       "      <td>0</td>\n",
       "      <td>40</td>\n",
       "      <td>15</td>\n",
       "      <td>4</td>\n",
       "      <td>544</td>\n",
       "      <td>0</td>\n",
       "      <td>104000</td>\n",
       "      <td>2013</td>\n",
       "      <td>664</td>\n",
       "      <td>5</td>\n",
       "      <td>2013</td>\n",
       "      <td>0</td>\n",
       "      <td>2</td>\n",
       "      <td>1</td>\n",
       "      <td>2</td>\n",
       "      <td>1</td>\n",
       "      <td>1</td>\n",
       "      <td>4700000</td>\n",
       "      <td>1</td>\n",
       "      <td>105</td>\n",
       "      <td>1</td>\n",
       "      <td>4</td>\n",
       "      <td>8</td>\n",
       "      <td>8</td>\n",
       "    </tr>\n",
       "    <tr>\n",
       "      <th>51770</th>\n",
       "      <td>0</td>\n",
       "      <td>34</td>\n",
       "      <td>13</td>\n",
       "      <td>2</td>\n",
       "      <td>150</td>\n",
       "      <td>0</td>\n",
       "      <td>5000</td>\n",
       "      <td>2020</td>\n",
       "      <td>1417</td>\n",
       "      <td>5</td>\n",
       "      <td>2020</td>\n",
       "      <td>1</td>\n",
       "      <td>1</td>\n",
       "      <td>1</td>\n",
       "      <td>2</td>\n",
       "      <td>1</td>\n",
       "      <td>1</td>\n",
       "      <td>3300000</td>\n",
       "      <td>1</td>\n",
       "      <td>138</td>\n",
       "      <td>1</td>\n",
       "      <td>0</td>\n",
       "      <td>1</td>\n",
       "      <td>1</td>\n",
       "    </tr>\n",
       "    <tr>\n",
       "      <th>51072</th>\n",
       "      <td>0</td>\n",
       "      <td>40</td>\n",
       "      <td>1</td>\n",
       "      <td>3</td>\n",
       "      <td>333</td>\n",
       "      <td>0</td>\n",
       "      <td>139000</td>\n",
       "      <td>2014</td>\n",
       "      <td>648</td>\n",
       "      <td>5</td>\n",
       "      <td>2014</td>\n",
       "      <td>0</td>\n",
       "      <td>2</td>\n",
       "      <td>1</td>\n",
       "      <td>2</td>\n",
       "      <td>1</td>\n",
       "      <td>1</td>\n",
       "      <td>2350000</td>\n",
       "      <td>1</td>\n",
       "      <td>86</td>\n",
       "      <td>1</td>\n",
       "      <td>4</td>\n",
       "      <td>7</td>\n",
       "      <td>7</td>\n",
       "    </tr>\n",
       "    <tr>\n",
       "      <th>52984</th>\n",
       "      <td>0</td>\n",
       "      <td>4</td>\n",
       "      <td>1</td>\n",
       "      <td>3</td>\n",
       "      <td>306</td>\n",
       "      <td>0</td>\n",
       "      <td>70690</td>\n",
       "      <td>2013</td>\n",
       "      <td>2130</td>\n",
       "      <td>5</td>\n",
       "      <td>2013</td>\n",
       "      <td>0</td>\n",
       "      <td>1</td>\n",
       "      <td>1</td>\n",
       "      <td>2</td>\n",
       "      <td>1</td>\n",
       "      <td>1</td>\n",
       "      <td>2197000</td>\n",
       "      <td>1</td>\n",
       "      <td>1227</td>\n",
       "      <td>1</td>\n",
       "      <td>4</td>\n",
       "      <td>8</td>\n",
       "      <td>8</td>\n",
       "    </tr>\n",
       "  </tbody>\n",
       "</table>\n",
       "</div>"
      ],
      "text/plain": [
       "       bodyType  brand  color  engineDisplacement  enginePower  fuelType  \\\n",
       "59491        11     43      0                   1          109         0   \n",
       "47926         0     40     15                   4          544         0   \n",
       "51770         0     34     13                   2          150         0   \n",
       "51072         0     40      1                   3          333         0   \n",
       "52984         0      4      1                   3          306         0   \n",
       "\n",
       "       mileage  modelDate  model_name  numberOfDoors  productionDate  \\\n",
       "59491   138000       2011         965              4            2011   \n",
       "47926   104000       2013         664              5            2013   \n",
       "51770     5000       2020        1417              5            2020   \n",
       "51072   139000       2014         648              5            2014   \n",
       "52984    70690       2013        2130              5            2013   \n",
       "\n",
       "       vehicleTransmission  Владельцы  ПТС  Привод  Руль  Состояние    price  \\\n",
       "59491                    0          1    1       1     1          1   550000   \n",
       "47926                    0          2    1       2     1          1  4700000   \n",
       "51770                    1          1    1       2     1          1  3300000   \n",
       "51072                    0          2    1       2     1          1  2350000   \n",
       "52984                    0          1    1       2     1          1  2197000   \n",
       "\n",
       "       sample  description_len  real_photo  mileage_cat  prod_age  model_age  \n",
       "59491       1             1553           1            4        10         10  \n",
       "47926       1              105           1            4         8          8  \n",
       "51770       1              138           1            0         1          1  \n",
       "51072       1               86           1            4         7          7  \n",
       "52984       1             1227           1            4         8          8  "
      ]
     },
     "execution_count": 113,
     "metadata": {},
     "output_type": "execute_result"
    }
   ],
   "source": [
    "data.sample(5)"
   ]
  },
  {
   "cell_type": "code",
   "execution_count": 114,
   "metadata": {
    "execution": {
     "iopub.execute_input": "2021-06-06T17:15:19.431305Z",
     "iopub.status.busy": "2021-06-06T17:15:19.430676Z",
     "iopub.status.idle": "2021-06-06T17:15:19.434333Z",
     "shell.execute_reply": "2021-06-06T17:15:19.433742Z",
     "shell.execute_reply.started": "2021-06-06T16:22:40.034444Z"
    },
    "papermill": {
     "duration": 0.178747,
     "end_time": "2021-06-06T17:15:19.434449",
     "exception": false,
     "start_time": "2021-06-06T17:15:19.255702",
     "status": "completed"
    },
    "tags": []
   },
   "outputs": [
    {
     "name": "stdout",
     "output_type": "stream",
     "text": [
      "Категориальныe: ['bodyType', 'brand', 'color', 'fuelType', 'engineDisplacement', 'mileage_cat', 'model_name', 'numberOfDoors', 'vehicleTransmission', 'Владельцы', 'Привод'] \n",
      "Бинарные: ['real_photo', 'ПТС', 'Руль', 'Состояние']\n",
      "Числовые: ['description_len', 'enginePower', 'mileage', 'productionDate', 'modelDate', 'prod_age', 'model_age']\n"
     ]
    }
   ],
   "source": [
    "print('Категориальныe: {} \\nБинарные: {}\\nЧисловые: {}'.format(cat_cols, bin_cols,num_cols))"
   ]
  },
  {
   "cell_type": "markdown",
   "metadata": {
    "papermill": {
     "duration": 0.172334,
     "end_time": "2021-06-06T17:15:19.780371",
     "exception": false,
     "start_time": "2021-06-06T17:15:19.608037",
     "status": "completed"
    },
    "tags": []
   },
   "source": [
    "# Бинарные признаки"
   ]
  },
  {
   "cell_type": "code",
   "execution_count": 115,
   "metadata": {
    "execution": {
     "iopub.execute_input": "2021-06-06T17:15:20.130082Z",
     "iopub.status.busy": "2021-06-06T17:15:20.129493Z",
     "iopub.status.idle": "2021-06-06T17:15:20.142161Z",
     "shell.execute_reply": "2021-06-06T17:15:20.142698Z",
     "shell.execute_reply.started": "2021-06-06T16:22:40.04121Z"
    },
    "papermill": {
     "duration": 0.189734,
     "end_time": "2021-06-06T17:15:20.142832",
     "exception": false,
     "start_time": "2021-06-06T17:15:19.953098",
     "status": "completed"
    },
    "tags": []
   },
   "outputs": [
    {
     "data": {
      "text/plain": [
       "1    65046\n",
       "0      563\n",
       "Name: real_photo, dtype: int64"
      ]
     },
     "metadata": {},
     "output_type": "display_data"
    },
    {
     "data": {
      "text/plain": [
       "1    57487\n",
       "0     8122\n",
       "Name: ПТС, dtype: int64"
      ]
     },
     "metadata": {},
     "output_type": "display_data"
    },
    {
     "data": {
      "text/plain": [
       "1    63355\n",
       "0     2254\n",
       "Name: Руль, dtype: int64"
      ]
     },
     "metadata": {},
     "output_type": "display_data"
    },
    {
     "data": {
      "text/plain": [
       "1    65607\n",
       "0        2\n",
       "Name: Состояние, dtype: int64"
      ]
     },
     "metadata": {},
     "output_type": "display_data"
    }
   ],
   "source": [
    "for i in bin_cols:\n",
    "    display(data[i].value_counts())"
   ]
  },
  {
   "cell_type": "code",
   "execution_count": 116,
   "metadata": {
    "execution": {
     "iopub.execute_input": "2021-06-06T17:15:20.497591Z",
     "iopub.status.busy": "2021-06-06T17:15:20.496477Z",
     "iopub.status.idle": "2021-06-06T17:15:20.793843Z",
     "shell.execute_reply": "2021-06-06T17:15:20.794285Z",
     "shell.execute_reply.started": "2021-06-06T16:22:40.070958Z"
    },
    "papermill": {
     "duration": 0.476273,
     "end_time": "2021-06-06T17:15:20.794429",
     "exception": false,
     "start_time": "2021-06-06T17:15:20.318156",
     "status": "completed"
    },
    "tags": []
   },
   "outputs": [
    {
     "data": {
      "text/plain": [
       "<AxesSubplot:>"
      ]
     },
     "execution_count": 116,
     "metadata": {},
     "output_type": "execute_result"
    },
    {
     "data": {
      "image/png": "[encoded data removed]",
      "text/plain": [
       "<Figure size 432x288 with 1 Axes>"
      ]
     },
     "metadata": {
      "needs_background": "light"
     },
     "output_type": "display_data"
    }
   ],
   "source": [
    "#Проверим значимость бинарных переменных:\n",
    "df = data[data['sample'] == 0]\n",
    "imp_cat = Series(mutual_info_classif(data[bin_cols], data['price'],\n",
    "                                     discrete_features =True), index = bin_cols)\n",
    "imp_cat.sort_values(inplace = True)\n",
    "imp_cat.plot(kind = 'barh')"
   ]
  },
  {
   "cell_type": "markdown",
   "metadata": {
    "papermill": {
     "duration": 0.173631,
     "end_time": "2021-06-06T17:15:21.138858",
     "exception": false,
     "start_time": "2021-06-06T17:15:20.965227",
     "status": "completed"
    },
    "tags": []
   },
   "source": [
    "по графику видим,что сильно больше всего влияют признаки ПТС и Руль на цену"
   ]
  },
  {
   "cell_type": "code",
   "execution_count": 117,
   "metadata": {
    "execution": {
     "iopub.execute_input": "2021-06-06T17:15:21.491110Z",
     "iopub.status.busy": "2021-06-06T17:15:21.490446Z",
     "iopub.status.idle": "2021-06-06T17:15:21.978021Z",
     "shell.execute_reply": "2021-06-06T17:15:21.977546Z",
     "shell.execute_reply.started": "2021-06-06T16:22:40.3773Z"
    },
    "papermill": {
     "duration": 0.663311,
     "end_time": "2021-06-06T17:15:21.978130",
     "exception": false,
     "start_time": "2021-06-06T17:15:21.314819",
     "status": "completed"
    },
    "tags": []
   },
   "outputs": [
    {
     "data": {
      "text/plain": [
       "<AxesSubplot:>"
      ]
     },
     "execution_count": 117,
     "metadata": {},
     "output_type": "execute_result"
    },
    {
     "data": {
      "image/png": "[encoded data removed]",
      "text/plain": [
       "<Figure size 720x360 with 2 Axes>"
      ]
     },
     "metadata": {
      "needs_background": "light"
     },
     "output_type": "display_data"
    }
   ],
   "source": [
    "# построим матрицу корреляций для числовых признаков\n",
    "plt.figure(figsize=(10,5))\n",
    "sns.heatmap(data[num_cols+['price']].corr(), annot=True)"
   ]
  },
  {
   "cell_type": "markdown",
   "metadata": {
    "papermill": {
     "duration": 0.175997,
     "end_time": "2021-06-06T17:15:22.329497",
     "exception": false,
     "start_time": "2021-06-06T17:15:22.153500",
     "status": "completed"
    },
    "tags": []
   },
   "source": [
    "# Категориальные признаки"
   ]
  },
  {
   "cell_type": "code",
   "execution_count": 118,
   "metadata": {
    "execution": {
     "iopub.execute_input": "2021-06-06T17:15:22.687012Z",
     "iopub.status.busy": "2021-06-06T17:15:22.686403Z",
     "iopub.status.idle": "2021-06-06T17:15:23.099608Z",
     "shell.execute_reply": "2021-06-06T17:15:23.100107Z",
     "shell.execute_reply.started": "2021-06-06T16:22:40.85342Z"
    },
    "papermill": {
     "duration": 0.596803,
     "end_time": "2021-06-06T17:15:23.100258",
     "exception": false,
     "start_time": "2021-06-06T17:15:22.503455",
     "status": "completed"
    },
    "tags": []
   },
   "outputs": [
    {
     "data": {
      "text/plain": [
       "<AxesSubplot:>"
      ]
     },
     "execution_count": 118,
     "metadata": {},
     "output_type": "execute_result"
    },
    {
     "data": {
      "image/png": "[encoded data removed]",
      "text/plain": [
       "<Figure size 432x288 with 1 Axes>"
      ]
     },
     "metadata": {
      "needs_background": "light"
     },
     "output_type": "display_data"
    }
   ],
   "source": [
    "# Проверим значимость категориальных переменных:\n",
    "temp_df = data[data['sample']==1]\n",
    "imp_cat = Series(mutual_info_classif(data[cat_cols], data['price'],\n",
    "                                     discrete_features=True), index=cat_cols)\n",
    "imp_cat.sort_values(inplace=True)\n",
    "imp_cat.plot(kind='barh')"
   ]
  },
  {
   "cell_type": "markdown",
   "metadata": {
    "papermill": {
     "duration": 0.183417,
     "end_time": "2021-06-06T17:15:23.467113",
     "exception": false,
     "start_time": "2021-06-06T17:15:23.283696",
     "status": "completed"
    },
    "tags": []
   },
   "source": [
    "Логично,что цена будет зависеть от марки и модели машины"
   ]
  },
  {
   "cell_type": "markdown",
   "metadata": {
    "papermill": {
     "duration": 0.214179,
     "end_time": "2021-06-06T17:15:23.867410",
     "exception": false,
     "start_time": "2021-06-06T17:15:23.653231",
     "status": "completed"
    },
    "tags": []
   },
   "source": [
    "# Числовые признаки"
   ]
  },
  {
   "cell_type": "code",
   "execution_count": 119,
   "metadata": {
    "execution": {
     "iopub.execute_input": "2021-06-06T17:15:24.257646Z",
     "iopub.status.busy": "2021-06-06T17:15:24.256986Z",
     "iopub.status.idle": "2021-06-06T17:15:26.735848Z",
     "shell.execute_reply": "2021-06-06T17:15:26.736368Z",
     "shell.execute_reply.started": "2021-06-06T16:22:41.269587Z"
    },
    "papermill": {
     "duration": 2.672103,
     "end_time": "2021-06-06T17:15:26.736512",
     "exception": false,
     "start_time": "2021-06-06T17:15:24.064409",
     "status": "completed"
    },
    "tags": []
   },
   "outputs": [
    {
     "data": {
      "image/png": "[encoded data removed]",
      "text/plain": [
       "<Figure size 432x288 with 1 Axes>"
      ]
     },
     "metadata": {
      "needs_background": "light"
     },
     "output_type": "display_data"
    },
    {
     "data": {
      "image/png": "[encoded data removed]",
      "text/plain": [
       "<Figure size 432x288 with 1 Axes>"
      ]
     },
     "metadata": {
      "needs_background": "light"
     },
     "output_type": "display_data"
    },
    {
     "data": {
      "image/png": "[encoded data removed]",
      "text/plain": [
       "<Figure size 432x288 with 1 Axes>"
      ]
     },
     "metadata": {
      "needs_background": "light"
     },
     "output_type": "display_data"
    },
    {
     "data": {
      "image/png": "[encoded data removed]",
      "text/plain": [
       "<Figure size 432x288 with 1 Axes>"
      ]
     },
     "metadata": {
      "needs_background": "light"
     },
     "output_type": "display_data"
    },
    {
     "data": {
      "image/png": "[encoded data removed]",
      "text/plain": [
       "<Figure size 432x288 with 1 Axes>"
      ]
     },
     "metadata": {
      "needs_background": "light"
     },
     "output_type": "display_data"
    },
    {
     "data": {
      "image/png": "[encoded data removed]",
      "text/plain": [
       "<Figure size 432x288 with 1 Axes>"
      ]
     },
     "metadata": {
      "needs_background": "light"
     },
     "output_type": "display_data"
    },
    {
     "data": {
      "image/png": "[encoded data removed]",
      "text/plain": [
       "<Figure size 432x288 with 1 Axes>"
      ]
     },
     "metadata": {
      "needs_background": "light"
     },
     "output_type": "display_data"
    }
   ],
   "source": [
    "# анализ распределения числовых переменных с помощью визуализации\n",
    "for col in num_cols:\n",
    "    plt.figure()\n",
    "    plt.title(f\"Распределение {col}\")\n",
    "    sns.distplot(data[col], kde=False)"
   ]
  },
  {
   "cell_type": "code",
   "execution_count": 120,
   "metadata": {
    "execution": {
     "iopub.execute_input": "2021-06-06T17:15:27.117236Z",
     "iopub.status.busy": "2021-06-06T17:15:27.116425Z",
     "iopub.status.idle": "2021-06-06T17:15:28.116621Z",
     "shell.execute_reply": "2021-06-06T17:15:28.117146Z",
     "shell.execute_reply.started": "2021-06-06T16:22:43.450806Z"
    },
    "papermill": {
     "duration": 1.193745,
     "end_time": "2021-06-06T17:15:28.117291",
     "exception": false,
     "start_time": "2021-06-06T17:15:26.923546",
     "status": "completed"
    },
    "tags": []
   },
   "outputs": [
    {
     "data": {
      "text/plain": [
       "<AxesSubplot:>"
      ]
     },
     "execution_count": 120,
     "metadata": {},
     "output_type": "execute_result"
    },
    {
     "data": {
      "image/png": "[encoded data removed]",
      "text/plain": [
       "<Figure size 432x288 with 1 Axes>"
      ]
     },
     "metadata": {
      "needs_background": "light"
     },
     "output_type": "display_data"
    }
   ],
   "source": [
    "imp_num = Series(f_classif(data[num_cols][data['sample'] == 1], data[data['sample'] == 1]['price'])[0], \n",
    "                 index = num_cols)\n",
    "imp_num.sort_values(inplace = True)\n",
    "imp_num.plot(kind = 'barh')"
   ]
  },
  {
   "cell_type": "markdown",
   "metadata": {
    "papermill": {
     "duration": 0.18391,
     "end_time": "2021-06-06T17:15:28.487310",
     "exception": false,
     "start_time": "2021-06-06T17:15:28.303400",
     "status": "completed"
    },
    "tags": []
   },
   "source": [
    "Все признаки достаточно сильно влияют на цену"
   ]
  },
  {
   "cell_type": "code",
   "execution_count": 121,
   "metadata": {
    "execution": {
     "iopub.execute_input": "2021-06-06T17:15:28.863363Z",
     "iopub.status.busy": "2021-06-06T17:15:28.862718Z",
     "iopub.status.idle": "2021-06-06T17:15:30.989522Z",
     "shell.execute_reply": "2021-06-06T17:15:30.990014Z",
     "shell.execute_reply.started": "2021-06-06T16:22:44.19371Z"
    },
    "papermill": {
     "duration": 2.315604,
     "end_time": "2021-06-06T17:15:30.990172",
     "exception": false,
     "start_time": "2021-06-06T17:15:28.674568",
     "status": "completed"
    },
    "tags": []
   },
   "outputs": [
    {
     "data": {
      "image/png": "[encoded data removed]",
      "text/plain": [
       "<Figure size 1080x1080 with 2 Axes>"
      ]
     },
     "metadata": {
      "needs_background": "light"
     },
     "output_type": "display_data"
    }
   ],
   "source": [
    "# корреляция\n",
    "\n",
    "fig, ax = plt.subplots(1, 1, figsize=(15, 15))\n",
    "ax = sns.heatmap(data.corr(),fmt='.1g',\n",
    "                 annot=True, cmap='coolwarm')"
   ]
  },
  {
   "cell_type": "markdown",
   "metadata": {
    "papermill": {
     "duration": 0.19357,
     "end_time": "2021-06-06T17:15:31.377577",
     "exception": false,
     "start_time": "2021-06-06T17:15:31.184007",
     "status": "completed"
    },
    "tags": []
   },
   "source": [
    "Видна большая корреляция между признаками 'engineDisplacement' и 'enginePower',а так же искуственно созданными признаками. Удалять не будем,тк проведя эксперименты по машинному обучению,заметили, что результат метрики хуже."
   ]
  },
  {
   "cell_type": "markdown",
   "metadata": {
    "papermill": {
     "duration": 0.194167,
     "end_time": "2021-06-06T17:15:31.766931",
     "exception": false,
     "start_time": "2021-06-06T17:15:31.572764",
     "status": "completed"
    },
    "tags": []
   },
   "source": [
    "## Train Split"
   ]
  },
  {
   "cell_type": "code",
   "execution_count": 122,
   "metadata": {
    "execution": {
     "iopub.execute_input": "2021-06-06T17:15:32.179263Z",
     "iopub.status.busy": "2021-06-06T17:15:32.175007Z",
     "iopub.status.idle": "2021-06-06T17:15:32.203117Z",
     "shell.execute_reply": "2021-06-06T17:15:32.203618Z",
     "shell.execute_reply.started": "2021-06-06T16:37:18.837941Z"
    },
    "papermill": {
     "duration": 0.243289,
     "end_time": "2021-06-06T17:15:32.203778",
     "exception": false,
     "start_time": "2021-06-06T17:15:31.960489",
     "status": "completed"
    },
    "tags": []
   },
   "outputs": [],
   "source": [
    "train_data = data.query('sample == 1').drop(['sample'], axis=1)\n",
    "test_data = data.query('sample == 0').drop(['sample','price'], axis=1)\n",
    "X = train_data.drop(['price'], axis=1)\n",
    "y = train_data['price']\n",
    "X_train, X_test, y_train, y_test = train_test_split(X, y, test_size=0.2, shuffle=True, random_state=RANDOM_SEED)"
   ]
  },
  {
   "cell_type": "markdown",
   "metadata": {
    "papermill": {
     "duration": 0.192264,
     "end_time": "2021-06-06T17:15:32.588956",
     "exception": false,
     "start_time": "2021-06-06T17:15:32.396692",
     "status": "completed"
    },
    "tags": []
   },
   "source": [
    "# Model 1: Создадим \"наивную\" модель \n",
    "Эта модель будет предсказывать среднюю цену по модели двигателя (engineDisplacement). \n",
    "C ней будем сравнивать другие модели.\n",
    "\n",
    "\n"
   ]
  },
  {
   "cell_type": "code",
   "execution_count": 123,
   "metadata": {
    "execution": {
     "iopub.execute_input": "2021-06-06T17:15:32.974550Z",
     "iopub.status.busy": "2021-06-06T17:15:32.973849Z",
     "iopub.status.idle": "2021-06-06T17:15:32.979445Z",
     "shell.execute_reply": "2021-06-06T17:15:32.979897Z",
     "shell.execute_reply.started": "2021-06-06T16:22:46.370237Z"
    },
    "papermill": {
     "duration": 0.200257,
     "end_time": "2021-06-06T17:15:32.980039",
     "exception": false,
     "start_time": "2021-06-06T17:15:32.779782",
     "status": "completed"
    },
    "tags": []
   },
   "outputs": [],
   "source": [
    "tmp_train = X_train.copy()\n",
    "tmp_train['price'] = y_train"
   ]
  },
  {
   "cell_type": "code",
   "execution_count": 127,
   "metadata": {
    "execution": {
     "iopub.execute_input": "2021-06-06T17:15:33.372664Z",
     "iopub.status.busy": "2021-06-06T17:15:33.371527Z",
     "iopub.status.idle": "2021-06-06T17:15:33.379387Z",
     "shell.execute_reply": "2021-06-06T17:15:33.378802Z",
     "shell.execute_reply.started": "2021-06-06T16:22:46.37868Z"
    },
    "papermill": {
     "duration": 0.205868,
     "end_time": "2021-06-06T17:15:33.379499",
     "exception": false,
     "start_time": "2021-06-06T17:15:33.173631",
     "status": "completed"
    },
    "tags": []
   },
   "outputs": [
    {
     "name": "stdout",
     "output_type": "stream",
     "text": [
      "Точность наивной модели по метрике MAPE: 95.03%\n"
     ]
    }
   ],
   "source": [
    "# Находим median по экземплярам engineDisplacement в трейне и размечаем тест\n",
    "predict = X_test['engineDisplacement'].map(tmp_train.groupby('engineDisplacement')['price'].median())\n",
    "VERSION = 1\n",
    "#оцениваем точность\n",
    "print(f\"Точность наивной модели по метрике MAPE: {(mape(y_test, predict.values))*100:0.2f}%\")"
   ]
  },
  {
   "cell_type": "markdown",
   "metadata": {
    "papermill": {
     "duration": 0.192376,
     "end_time": "2021-06-06T17:15:33.764281",
     "exception": false,
     "start_time": "2021-06-06T17:15:33.571905",
     "status": "completed"
    },
    "tags": []
   },
   "source": [
    "# Простая модель линейной регрессии"
   ]
  },
  {
   "cell_type": "code",
   "execution_count": 126,
   "metadata": {
    "execution": {
     "iopub.execute_input": "2021-06-06T17:15:34.155864Z",
     "iopub.status.busy": "2021-06-06T17:15:34.155120Z",
     "iopub.status.idle": "2021-06-06T17:15:34.240392Z",
     "shell.execute_reply": "2021-06-06T17:15:34.241395Z",
     "shell.execute_reply.started": "2021-06-06T16:22:46.399554Z"
    },
    "papermill": {
     "duration": 0.284799,
     "end_time": "2021-06-06T17:15:34.241544",
     "exception": false,
     "start_time": "2021-06-06T17:15:33.956745",
     "status": "completed"
    },
    "tags": []
   },
   "outputs": [
    {
     "ename": "NameError",
     "evalue": "name 'predict_test' is not defined",
     "output_type": "error",
     "traceback": [
      "\u001b[0;31m---------------------------------------------------------------------------\u001b[0m",
      "\u001b[0;31mNameError\u001b[0m                                 Traceback (most recent call last)",
      "\u001b[0;32m<ipython-input-126-9f31f43f3d22>\u001b[0m in \u001b[0;36m<module>\u001b[0;34m\u001b[0m\n\u001b[1;32m      3\u001b[0m \u001b[0mVERSION\u001b[0m \u001b[0;34m=\u001b[0m \u001b[0;36m2\u001b[0m\u001b[0;34m\u001b[0m\u001b[0;34m\u001b[0m\u001b[0m\n\u001b[1;32m      4\u001b[0m \u001b[0;31m#predict_test = np.exp(linear_regr.predict(X_test))\u001b[0m\u001b[0;34m\u001b[0m\u001b[0;34m\u001b[0m\u001b[0;34m\u001b[0m\u001b[0m\n\u001b[0;32m----> 5\u001b[0;31m \u001b[0mprint\u001b[0m\u001b[0;34m(\u001b[0m\u001b[0;34mf\"Точность модели по метрике MAPE: {(mape(y_test, predict_test))*100:0.2f}%\"\u001b[0m\u001b[0;34m)\u001b[0m\u001b[0;34m\u001b[0m\u001b[0;34m\u001b[0m\u001b[0m\n\u001b[0m",
      "\u001b[0;31mNameError\u001b[0m: name 'predict_test' is not defined"
     ]
    }
   ],
   "source": [
    "from sklearn.linear_model import LinearRegression\n",
    "linear_regr = LinearRegression().fit(X_train, np.log(y_train+1))\n",
    "VERSION = 2\n",
    "#predict_test = np.exp(linear_regr.predict(X_test))\n",
    "print(f\"Точность модели по метрике MAPE: {(mape(y_test, predict_test))*100:0.2f}%\")"
   ]
  },
  {
   "cell_type": "markdown",
   "metadata": {
    "papermill": {
     "duration": 0.191016,
     "end_time": "2021-06-06T17:15:34.627634",
     "exception": false,
     "start_time": "2021-06-06T17:15:34.436618",
     "status": "completed"
    },
    "tags": []
   },
   "source": [
    "# CatBoost\n"
   ]
  },
  {
   "cell_type": "code",
   "execution_count": 127,
   "metadata": {
    "execution": {
     "iopub.execute_input": "2021-06-06T17:15:35.018086Z",
     "iopub.status.busy": "2021-06-06T17:15:35.017124Z",
     "iopub.status.idle": "2021-06-06T17:16:01.471495Z",
     "shell.execute_reply": "2021-06-06T17:16:01.472331Z"
    },
    "papermill": {
     "duration": 26.650522,
     "end_time": "2021-06-06T17:16:01.472564",
     "exception": false,
     "start_time": "2021-06-06T17:15:34.822042",
     "status": "completed"
    },
    "tags": []
   },
   "outputs": [],
   "source": [
    "model = CatBoostRegressor(iterations = 5000,\n",
    "                          random_seed = RANDOM_SEED,\n",
    "                          eval_metric='MAPE',\n",
    "                          custom_metric=['R2', 'MAE'],\n",
    "                          silent=True,\n",
    "                         )\n",
    "model.fit(X_train, y_train,\n",
    "         #cat_features=cat_features_ids,\n",
    "         eval_set=(X_test, y_test),\n",
    "         verbose_eval=0,\n",
    "         use_best_model=True,\n",
    "         #plot=True\n",
    "         )\n",
    "\n",
    "model.save_model('catboost_single_model_baseline.model')"
   ]
  },
  {
   "cell_type": "code",
   "execution_count": 128,
   "metadata": {
    "execution": {
     "iopub.execute_input": "2021-06-06T17:16:01.865013Z",
     "iopub.status.busy": "2021-06-06T17:16:01.863990Z",
     "iopub.status.idle": "2021-06-06T17:16:01.892572Z",
     "shell.execute_reply": "2021-06-06T17:16:01.893110Z"
    },
    "papermill": {
     "duration": 0.225579,
     "end_time": "2021-06-06T17:16:01.893255",
     "exception": false,
     "start_time": "2021-06-06T17:16:01.667676",
     "status": "completed"
    },
    "tags": []
   },
   "outputs": [
    {
     "name": "stdout",
     "output_type": "stream",
     "text": [
      "Точность модели по метрике MAPE: 14.96%\n"
     ]
    }
   ],
   "source": [
    "# оцениваем точность\n",
    "VERSION = 3\n",
    "predict = model.predict(X_test)\n",
    "print(f\"Точность модели по метрике MAPE: {(mape(y_test, predict))*100:0.2f}%\")"
   ]
  },
  {
   "cell_type": "markdown",
   "metadata": {
    "papermill": {
     "duration": 0.194316,
     "end_time": "2021-06-06T17:16:02.283899",
     "exception": false,
     "start_time": "2021-06-06T17:16:02.089583",
     "status": "completed"
    },
    "tags": []
   },
   "source": [
    "### Log Target\n",
    "Попробуем взять таргет в логорифм - это позволит уменьшить влияние выбросов на обучение модели (используем для этого np.log и np.exp).    "
   ]
  },
  {
   "cell_type": "code",
   "execution_count": 129,
   "metadata": {
    "execution": {
     "iopub.execute_input": "2021-06-06T17:16:02.685857Z",
     "iopub.status.busy": "2021-06-06T17:16:02.684794Z",
     "iopub.status.idle": "2021-06-06T17:16:29.071751Z",
     "shell.execute_reply": "2021-06-06T17:16:29.072273Z"
    },
    "papermill": {
     "duration": 26.595311,
     "end_time": "2021-06-06T17:16:29.072456",
     "exception": false,
     "start_time": "2021-06-06T17:16:02.477145",
     "status": "completed"
    },
    "tags": []
   },
   "outputs": [
    {
     "name": "stdout",
     "output_type": "stream",
     "text": [
      "Точность модели по метрике MAPE: 12.52%\n"
     ]
    }
   ],
   "source": [
    "model = CatBoostRegressor(iterations = 5000,\n",
    "                          random_seed = RANDOM_SEED,\n",
    "                          eval_metric='MAPE',\n",
    "                          custom_metric=['R2', 'MAE'],\n",
    "                          silent=True,\n",
    "                         )\n",
    "model.fit(X_train, np.log(y_train),\n",
    "         #cat_features=cat_features_ids,\n",
    "         eval_set=(X_test, np.log(y_test)),\n",
    "         verbose_eval=0,\n",
    "         use_best_model=True,\n",
    "         #plot=True\n",
    "         )\n",
    "\n",
    "model.save_model('catboost_single_model_2_baseline.model')\n",
    "predict_test = np.exp(model.predict(X_test))\n",
    "#predict_submission = np.exp(model.predict(test_data))\n",
    "VERSION = 4\n",
    "print(f\"Точность модели по метрике MAPE: {(mape(y_test, predict_test))*100:0.2f}%\")"
   ]
  },
  {
   "cell_type": "markdown",
   "metadata": {
    "papermill": {
     "duration": 0.192851,
     "end_time": "2021-06-06T17:16:29.460279",
     "exception": false,
     "start_time": "2021-06-06T17:16:29.267428",
     "status": "completed"
    },
    "tags": []
   },
   "source": [
    "# Random Forest"
   ]
  },
  {
   "cell_type": "code",
   "execution_count": 130,
   "metadata": {
    "execution": {
     "iopub.execute_input": "2021-06-06T17:16:29.850449Z",
     "iopub.status.busy": "2021-06-06T17:16:29.849785Z",
     "iopub.status.idle": "2021-06-06T17:16:35.536249Z",
     "shell.execute_reply": "2021-06-06T17:16:35.536989Z"
    },
    "papermill": {
     "duration": 5.886821,
     "end_time": "2021-06-06T17:16:35.537194",
     "exception": false,
     "start_time": "2021-06-06T17:16:29.650373",
     "status": "completed"
    },
    "tags": []
   },
   "outputs": [
    {
     "name": "stderr",
     "output_type": "stream",
     "text": [
      "[Parallel(n_jobs=-1)]: Using backend ThreadingBackend with 4 concurrent workers.\n",
      "[Parallel(n_jobs=-1)]: Done  42 tasks      | elapsed:    2.4s\n"
     ]
    },
    {
     "name": "stdout",
     "output_type": "stream",
     "text": [
      "Точность модели по метрике MAPE: 14.19%\n"
     ]
    },
    {
     "name": "stderr",
     "output_type": "stream",
     "text": [
      "[Parallel(n_jobs=-1)]: Done 100 out of 100 | elapsed:    5.5s finished\n",
      "[Parallel(n_jobs=4)]: Using backend ThreadingBackend with 4 concurrent workers.\n",
      "[Parallel(n_jobs=4)]: Done  42 tasks      | elapsed:    0.0s\n",
      "[Parallel(n_jobs=4)]: Done 100 out of 100 | elapsed:    0.1s finished\n"
     ]
    }
   ],
   "source": [
    "rf = RandomForestRegressor(random_state = RANDOM_SEED, n_jobs = -1, verbose = 1).fit(X_train, np.log(y_train+1))\n",
    "print(f\"Точность модели по метрике MAPE: {(mape(y_test, np.exp(rf.predict(X_test))))*100:0.2f}%\")\n",
    "VERSION = 5\n",
    "#predict_submission = np.exp(rf.predict(test_data))"
   ]
  },
  {
   "cell_type": "markdown",
   "metadata": {
    "papermill": {
     "duration": 0.196884,
     "end_time": "2021-06-06T17:16:35.930537",
     "exception": false,
     "start_time": "2021-06-06T17:16:35.733653",
     "status": "completed"
    },
    "tags": []
   },
   "source": [
    "**закомментируем, тк очень долго работает:**"
   ]
  },
  {
   "cell_type": "code",
   "execution_count": 131,
   "metadata": {
    "execution": {
     "iopub.execute_input": "2021-06-06T17:16:36.334621Z",
     "iopub.status.busy": "2021-06-06T17:16:36.333932Z",
     "iopub.status.idle": "2021-06-06T17:16:36.338811Z",
     "shell.execute_reply": "2021-06-06T17:16:36.338276Z"
    },
    "papermill": {
     "duration": 0.211004,
     "end_time": "2021-06-06T17:16:36.338931",
     "exception": false,
     "start_time": "2021-06-06T17:16:36.127927",
     "status": "completed"
    },
    "tags": []
   },
   "outputs": [],
   "source": [
    "#Зададим сетку гиперпараметров, которые будут перебираться:\n",
    "from sklearn.model_selection import RandomizedSearchCV\n",
    "n_estimators = [int(x) for x in np.linspace(start = 200, stop = 2000, num = 10)]\n",
    "max_features = ['auto', 'sqrt']\n",
    "max_depth = [int(x) for x in np.linspace(10, 110, num = 11)]\n",
    "max_depth.append(None)\n",
    "min_samples_split = [2, 5, 10]\n",
    "min_samples_leaf = [1, 2, 4]\n",
    "bootstrap = [True, False]\n",
    "random_grid = {'n_estimators': n_estimators,\n",
    "               'max_features': max_features,\n",
    "               'max_depth': max_depth,\n",
    "               'min_samples_split': min_samples_split,\n",
    "               'min_samples_leaf': min_samples_leaf,\n",
    "               'bootstrap': bootstrap}"
   ]
  },
  {
   "cell_type": "code",
   "execution_count": 132,
   "metadata": {
    "execution": {
     "iopub.execute_input": "2021-06-06T17:16:36.737525Z",
     "iopub.status.busy": "2021-06-06T17:16:36.736508Z",
     "iopub.status.idle": "2021-06-06T17:16:36.740069Z",
     "shell.execute_reply": "2021-06-06T17:16:36.739437Z"
    },
    "papermill": {
     "duration": 0.205223,
     "end_time": "2021-06-06T17:16:36.740187",
     "exception": false,
     "start_time": "2021-06-06T17:16:36.534964",
     "status": "completed"
    },
    "tags": []
   },
   "outputs": [],
   "source": [
    "#Обучим наш лес:\n",
    "#rf = RandomForestRegressor(random_state=42)\n",
    "#rf_rand = RandomizedSearchCV(estimator=rf, param_distributions=random_grid, n_iter=100, \n",
    "#                              cv=3, verbose=2, random_state=42, n_jobs=-1)\n",
    "#rf_random.fit(X_train, np.log(y_train+1))"
   ]
  },
  {
   "cell_type": "code",
   "execution_count": 133,
   "metadata": {
    "execution": {
     "iopub.execute_input": "2021-06-06T17:16:37.141536Z",
     "iopub.status.busy": "2021-06-06T17:16:37.140695Z",
     "iopub.status.idle": "2021-06-06T17:16:37.143720Z",
     "shell.execute_reply": "2021-06-06T17:16:37.143040Z"
    },
    "papermill": {
     "duration": 0.207391,
     "end_time": "2021-06-06T17:16:37.143837",
     "exception": false,
     "start_time": "2021-06-06T17:16:36.936446",
     "status": "completed"
    },
    "tags": []
   },
   "outputs": [],
   "source": [
    "#print(f\"Точность модели по метрике MAPE: {(mape(y_test, np.exp(rf.predict(X_test))))*100:0.2f}%\")\n",
    "VERSION = 6\n",
    "#predict_submission = np.exp(rf_random.predict(test_data))\n"
   ]
  },
  {
   "cell_type": "markdown",
   "metadata": {
    "papermill": {
     "duration": 0.196033,
     "end_time": "2021-06-06T17:16:37.535945",
     "exception": false,
     "start_time": "2021-06-06T17:16:37.339912",
     "status": "completed"
    },
    "tags": []
   },
   "source": [
    "# xgboost"
   ]
  },
  {
   "cell_type": "code",
   "execution_count": 134,
   "metadata": {
    "execution": {
     "iopub.execute_input": "2021-06-06T17:16:37.937889Z",
     "iopub.status.busy": "2021-06-06T17:16:37.937202Z",
     "iopub.status.idle": "2021-06-06T17:17:34.414216Z",
     "shell.execute_reply": "2021-06-06T17:17:34.413681Z",
     "shell.execute_reply.started": "2021-06-06T16:39:04.187946Z"
    },
    "papermill": {
     "duration": 56.681769,
     "end_time": "2021-06-06T17:17:34.414375",
     "exception": false,
     "start_time": "2021-06-06T17:16:37.732606",
     "status": "completed"
    },
    "tags": []
   },
   "outputs": [
    {
     "name": "stdout",
     "output_type": "stream",
     "text": [
      "Точность модели по метрике MAPE: 12.14%\n"
     ]
    }
   ],
   "source": [
    "# xgboost\n",
    "import xgboost as xgb\n",
    "xb = xgb.XGBRegressor(objective='reg:squarederror', colsample_bytree=0.5, learning_rate=0.03, \\\n",
    "                      max_depth=12, alpha=1, n_jobs=-1, n_estimators=1000)\n",
    "xb.fit(X_train, np.log(y_train+1))\n",
    "print(f\"Точность модели по метрике MAPE: {(mape(y_test, np.exp(xb.predict(X_test))))*100:0.2f}%\")\n",
    "VERSION = 7\n",
    "predict_test = np.exp(xb.predict(X_test))\n",
    "predict_submission = np.exp(xb.predict(test_data))"
   ]
  },
  {
   "cell_type": "markdown",
   "metadata": {
    "papermill": {
     "duration": 0.198026,
     "end_time": "2021-06-06T17:17:34.808277",
     "exception": false,
     "start_time": "2021-06-06T17:17:34.610251",
     "status": "completed"
    },
    "tags": []
   },
   "source": [
    "# GradientBoosting с подбором параметров"
   ]
  },
  {
   "cell_type": "code",
   "execution_count": 135,
   "metadata": {
    "execution": {
     "iopub.execute_input": "2021-06-06T17:17:35.212714Z",
     "iopub.status.busy": "2021-06-06T17:17:35.212020Z",
     "iopub.status.idle": "2021-06-06T17:17:35.214924Z",
     "shell.execute_reply": "2021-06-06T17:17:35.214284Z"
    },
    "papermill": {
     "duration": 0.210614,
     "end_time": "2021-06-06T17:17:35.215032",
     "exception": false,
     "start_time": "2021-06-06T17:17:35.004418",
     "status": "completed"
    },
    "tags": []
   },
   "outputs": [],
   "source": [
    "from sklearn.ensemble import GradientBoostingRegressor\n",
    "def regularise(X_train, y_train):\n",
    "    max_depth = [5, 10,15]\n",
    "    n_estimators = [100, 200,1000]\n",
    "    hyperparameters = dict(max_depth=max_depth, n_estimators=n_estimators)\n",
    "    model = GradientBoostingRegressor()\n",
    "    model.fit(X_train, y_train)\n",
    "\n",
    "    clf = GridSearchCV(model, hyperparameters)\n",
    "\n",
    "    best_model = clf.fit(X_train, y_train)\n",
    "\n",
    "    best_max_depth = best_model.best_estimator_.get_params()['max_depth']\n",
    "    best_n_estimators = best_model.best_estimator_.get_params()['n_estimators']\n",
    "\n",
    "    return best_max_depth, best_n_estimators"
   ]
  },
  {
   "cell_type": "code",
   "execution_count": 136,
   "metadata": {
    "execution": {
     "iopub.execute_input": "2021-06-06T17:17:35.612727Z",
     "iopub.status.busy": "2021-06-06T17:17:35.612098Z",
     "iopub.status.idle": "2021-06-06T17:17:35.615093Z",
     "shell.execute_reply": "2021-06-06T17:17:35.614472Z",
     "shell.execute_reply.started": "2021-06-03T02:43:52.587666Z"
    },
    "papermill": {
     "duration": 0.203582,
     "end_time": "2021-06-06T17:17:35.615198",
     "exception": false,
     "start_time": "2021-06-06T17:17:35.411616",
     "status": "completed"
    },
    "tags": []
   },
   "outputs": [],
   "source": [
    "#ОЧЕНЬ ДОЛГО РАБОТАЕТ,ЗАКОММЕНТИРУЕМ\n",
    "#best_max_depth, best_n_estimators = regularise(X_train, y_train)\n",
    "#best_max_depth, best_n_estimators"
   ]
  },
  {
   "cell_type": "markdown",
   "metadata": {
    "papermill": {
     "duration": 0.195369,
     "end_time": "2021-06-06T17:17:36.006185",
     "exception": false,
     "start_time": "2021-06-06T17:17:35.810816",
     "status": "completed"
    },
    "tags": []
   },
   "source": [
    "(5, 1000)"
   ]
  },
  {
   "cell_type": "code",
   "execution_count": 137,
   "metadata": {
    "execution": {
     "iopub.execute_input": "2021-06-06T17:17:36.413682Z",
     "iopub.status.busy": "2021-06-06T17:17:36.413009Z",
     "iopub.status.idle": "2021-06-06T17:18:45.873495Z",
     "shell.execute_reply": "2021-06-06T17:18:45.874294Z",
     "shell.execute_reply.started": "2021-06-06T16:40:18.158166Z"
    },
    "papermill": {
     "duration": 69.664824,
     "end_time": "2021-06-06T17:18:45.874530",
     "exception": false,
     "start_time": "2021-06-06T17:17:36.209706",
     "status": "completed"
    },
    "tags": []
   },
   "outputs": [
    {
     "name": "stdout",
     "output_type": "stream",
     "text": [
      "Точность модели по метрике MAPE: 13.81%\n"
     ]
    }
   ],
   "source": [
    "gb = GradientBoostingRegressor(min_samples_split=2, learning_rate=0.03, max_depth=5, n_estimators=1000)\n",
    "gb.fit(X_train, np.log(y_train+1))\n",
    "print(f\"Точность модели по метрике MAPE: {(mape(y_test, np.exp(gb.predict(X_test))))*100:0.2f}%\")\n",
    "VERSION = 8"
   ]
  },
  {
   "cell_type": "markdown",
   "metadata": {
    "papermill": {
     "duration": 0.199997,
     "end_time": "2021-06-06T17:18:46.274196",
     "exception": false,
     "start_time": "2021-06-06T17:18:46.074199",
     "status": "completed"
    },
    "tags": []
   },
   "source": [
    "# Stacking"
   ]
  },
  {
   "cell_type": "code",
   "execution_count": 138,
   "metadata": {
    "execution": {
     "iopub.execute_input": "2021-06-06T17:18:46.690244Z",
     "iopub.status.busy": "2021-06-06T17:18:46.686157Z",
     "iopub.status.idle": "2021-06-06T17:18:46.711250Z",
     "shell.execute_reply": "2021-06-06T17:18:46.710627Z",
     "shell.execute_reply.started": "2021-06-06T16:41:30.208377Z"
    },
    "papermill": {
     "duration": 0.237924,
     "end_time": "2021-06-06T17:18:46.711388",
     "exception": false,
     "start_time": "2021-06-06T17:18:46.473464",
     "status": "completed"
    },
    "tags": []
   },
   "outputs": [],
   "source": [
    "scaler = StandardScaler() \n",
    "X_train = scaler.fit_transform(X_train) \n",
    "X_test = scaler.transform(X_test) \n",
    "\n",
    "\n",
    "y_train = y_train \n",
    "y_test = y_test\n",
    "\n",
    "cv = KFold(n_splits=5, shuffle=True, random_state=RANDOM_SEED)\n",
    "\n",
    "def compute_meta_feature(regr, X_train, X_test, y_train, cv):\n",
    "    X_meta_train = np.zeros_like(y_train, dtype=np.float32)    \n",
    "    splits = cv.split(X_train)\n",
    "    for train_fold_index, predict_fold_index in splits:\n",
    "        X_fold_train, X_fold_predict = X_train[train_fold_index], X_train[predict_fold_index]\n",
    "        y_fold_train = y_train[train_fold_index]\n",
    "\n",
    "        folded_regr = clone(regr)\n",
    "        folded_regr.fit(X_fold_train, y_fold_train)\n",
    "\n",
    "        X_meta_train[predict_fold_index] = folded_regr.predict(X_fold_predict)\n",
    "\n",
    "    meta_regr = clone(regr)\n",
    "    meta_regr.fit(X_train, y_train)\n",
    "\n",
    "    X_meta_test = meta_regr.predict(X_test)\n",
    "\n",
    "\n",
    "    return X_meta_train, X_meta_test\n",
    "\n",
    "def generate_meta_features(regr, X_train, X_test, y_train, cv):\n",
    "    features = [compute_meta_feature(regr, X_train, X_test, y_train, cv) for regr in tqdm(regr)]    \n",
    "    stacked_features_train = np.vstack([features_train for features_train, features_test in features]).T\n",
    "    stacked_features_test = np.vstack([features_test for features_train, features_test in features]).T\n",
    "    return stacked_features_train, stacked_features_test\n",
    "\n",
    "X_train = np.where(np.isnan(X_train), 0, X_train)\n",
    "X_test = np.where(np.isnan(X_test), 0, X_test)\n",
    "y_train = np.where(np.isnan(y_train), 0, y_train)"
   ]
  },
  {
   "cell_type": "code",
   "execution_count": 139,
   "metadata": {
    "execution": {
     "iopub.execute_input": "2021-06-06T17:18:47.144946Z",
     "iopub.status.busy": "2021-06-06T17:18:47.121750Z",
     "iopub.status.idle": "2021-06-06T17:25:28.299073Z",
     "shell.execute_reply": "2021-06-06T17:25:28.295435Z",
     "shell.execute_reply.started": "2021-06-06T16:41:30.242421Z"
    },
    "papermill": {
     "duration": 401.388657,
     "end_time": "2021-06-06T17:25:28.299243",
     "exception": false,
     "start_time": "2021-06-06T17:18:46.910586",
     "status": "completed"
    },
    "tags": []
   },
   "outputs": [
    {
     "data": {
      "application/vnd.jupyter.widget-view+json": {
       "model_id": "118fd0c559ce40cc9c4a8bcfd49990bf",
       "version_major": 2,
       "version_minor": 0
      },
      "text/plain": [
       "HBox(children=(FloatProgress(value=0.0, max=6.0), HTML(value='')))"
      ]
     },
     "metadata": {},
     "output_type": "display_data"
    },
    {
     "name": "stderr",
     "output_type": "stream",
     "text": [
      "[Parallel(n_jobs=-1)]: Using backend ThreadingBackend with 4 concurrent workers.\n",
      "[Parallel(n_jobs=-1)]: Done  42 tasks      | elapsed:    0.6s\n",
      "[Parallel(n_jobs=-1)]: Done 192 tasks      | elapsed:    2.6s\n",
      "[Parallel(n_jobs=-1)]: Done 200 out of 200 | elapsed:    2.7s finished\n",
      "[Parallel(n_jobs=4)]: Using backend ThreadingBackend with 4 concurrent workers.\n",
      "[Parallel(n_jobs=4)]: Done  42 tasks      | elapsed:    0.0s\n",
      "[Parallel(n_jobs=4)]: Done 192 tasks      | elapsed:    0.0s\n",
      "[Parallel(n_jobs=4)]: Done 200 out of 200 | elapsed:    0.1s finished\n",
      "[Parallel(n_jobs=-1)]: Using backend ThreadingBackend with 4 concurrent workers.\n",
      "[Parallel(n_jobs=-1)]: Done  42 tasks      | elapsed:    0.6s\n",
      "[Parallel(n_jobs=-1)]: Done 192 tasks      | elapsed:    2.6s\n",
      "[Parallel(n_jobs=-1)]: Done 200 out of 200 | elapsed:    2.7s finished\n",
      "[Parallel(n_jobs=4)]: Using backend ThreadingBackend with 4 concurrent workers.\n",
      "[Parallel(n_jobs=4)]: Done  42 tasks      | elapsed:    0.0s\n",
      "[Parallel(n_jobs=4)]: Done 192 tasks      | elapsed:    0.0s\n",
      "[Parallel(n_jobs=4)]: Done 200 out of 200 | elapsed:    0.1s finished\n",
      "[Parallel(n_jobs=-1)]: Using backend ThreadingBackend with 4 concurrent workers.\n",
      "[Parallel(n_jobs=-1)]: Done  42 tasks      | elapsed:    0.6s\n",
      "[Parallel(n_jobs=-1)]: Done 192 tasks      | elapsed:    2.6s\n",
      "[Parallel(n_jobs=-1)]: Done 200 out of 200 | elapsed:    2.7s finished\n",
      "[Parallel(n_jobs=4)]: Using backend ThreadingBackend with 4 concurrent workers.\n",
      "[Parallel(n_jobs=4)]: Done  42 tasks      | elapsed:    0.0s\n",
      "[Parallel(n_jobs=4)]: Done 192 tasks      | elapsed:    0.0s\n",
      "[Parallel(n_jobs=4)]: Done 200 out of 200 | elapsed:    0.0s finished\n",
      "[Parallel(n_jobs=-1)]: Using backend ThreadingBackend with 4 concurrent workers.\n",
      "[Parallel(n_jobs=-1)]: Done  42 tasks      | elapsed:    0.6s\n",
      "[Parallel(n_jobs=-1)]: Done 192 tasks      | elapsed:    2.7s\n",
      "[Parallel(n_jobs=-1)]: Done 200 out of 200 | elapsed:    2.7s finished\n",
      "[Parallel(n_jobs=4)]: Using backend ThreadingBackend with 4 concurrent workers.\n",
      "[Parallel(n_jobs=4)]: Done  42 tasks      | elapsed:    0.0s\n",
      "[Parallel(n_jobs=4)]: Done 192 tasks      | elapsed:    0.0s\n",
      "[Parallel(n_jobs=4)]: Done 200 out of 200 | elapsed:    0.1s finished\n",
      "[Parallel(n_jobs=-1)]: Using backend ThreadingBackend with 4 concurrent workers.\n",
      "[Parallel(n_jobs=-1)]: Done  42 tasks      | elapsed:    0.6s\n",
      "[Parallel(n_jobs=-1)]: Done 192 tasks      | elapsed:    2.6s\n",
      "[Parallel(n_jobs=-1)]: Done 200 out of 200 | elapsed:    2.7s finished\n",
      "[Parallel(n_jobs=4)]: Using backend ThreadingBackend with 4 concurrent workers.\n",
      "[Parallel(n_jobs=4)]: Done  42 tasks      | elapsed:    0.0s\n",
      "[Parallel(n_jobs=4)]: Done 192 tasks      | elapsed:    0.0s\n",
      "[Parallel(n_jobs=4)]: Done 200 out of 200 | elapsed:    0.1s finished\n",
      "[Parallel(n_jobs=-1)]: Using backend ThreadingBackend with 4 concurrent workers.\n",
      "[Parallel(n_jobs=-1)]: Done  42 tasks      | elapsed:    0.7s\n",
      "[Parallel(n_jobs=-1)]: Done 192 tasks      | elapsed:    3.1s\n",
      "[Parallel(n_jobs=-1)]: Done 200 out of 200 | elapsed:    3.2s finished\n",
      "[Parallel(n_jobs=4)]: Using backend ThreadingBackend with 4 concurrent workers.\n",
      "[Parallel(n_jobs=4)]: Done  42 tasks      | elapsed:    0.0s\n",
      "[Parallel(n_jobs=4)]: Done 192 tasks      | elapsed:    0.1s\n",
      "[Parallel(n_jobs=4)]: Done 200 out of 200 | elapsed:    0.1s finished\n"
     ]
    },
    {
     "name": "stdout",
     "output_type": "stream",
     "text": [
      "\n"
     ]
    }
   ],
   "source": [
    "regr = RandomForestRegressor(n_estimators=300, min_samples_split=2, min_samples_leaf=1, \n",
    "                             max_features=3, max_depth=19, bootstrap=True, random_state=RANDOM_SEED)\n",
    "\n",
    "stacked_features_train, stacked_features_test = generate_meta_features([\n",
    "                            regr,\n",
    "                            GradientBoostingRegressor(min_samples_split=2, learning_rate=0.03, max_depth=10, n_estimators=300),\n",
    "                            KNeighborsRegressor(n_neighbors=2, algorithm = 'ball_tree', weights = 'distance', p=1),\n",
    "                            RandomForestRegressor(random_state = RANDOM_SEED, n_jobs = -1, verbose = 1, max_depth=5, n_estimators=200),\n",
    "                            ExtraTreesRegressor(random_state=RANDOM_SEED), \n",
    "                            RandomForestRegressor(random_state=RANDOM_SEED, max_depth=15) \\\n",
    "], X_train, X_test, y_train, cv)"
   ]
  },
  {
   "cell_type": "code",
   "execution_count": 140,
   "metadata": {
    "execution": {
     "iopub.execute_input": "2021-06-06T17:25:28.713783Z",
     "iopub.status.busy": "2021-06-06T17:25:28.712795Z",
     "iopub.status.idle": "2021-06-06T17:25:52.317996Z",
     "shell.execute_reply": "2021-06-06T17:25:52.316940Z",
     "shell.execute_reply.started": "2021-06-06T16:48:22.100296Z"
    },
    "papermill": {
     "duration": 23.815178,
     "end_time": "2021-06-06T17:25:52.318158",
     "exception": false,
     "start_time": "2021-06-06T17:25:28.502980",
     "status": "completed"
    },
    "tags": []
   },
   "outputs": [
    {
     "name": "stdout",
     "output_type": "stream",
     "text": [
      "Точность модели по метрике MAPE: 14.71%\n"
     ]
    }
   ],
   "source": [
    "def compute_metric(regr, X_train, y_train, X_test, y_test): \n",
    "    regr.fit(X_train, y_train) \n",
    "    y_test_pred = regr.predict(X_test) \n",
    "    return np.round(mape(y_test, y_test_pred)*100, 2)\n",
    "VERSION = 9\n",
    "print(f\"Точность модели по метрике MAPE: {compute_metric(regr, stacked_features_train, y_train, stacked_features_test, y_test)}%\")"
   ]
  },
  {
   "cell_type": "markdown",
   "metadata": {
    "papermill": {
     "duration": 0.204055,
     "end_time": "2021-06-06T17:25:52.725567",
     "exception": false,
     "start_time": "2021-06-06T17:25:52.521512",
     "status": "completed"
    },
    "tags": []
   },
   "source": [
    "Проведя ряд экспериментов можно сделать следующие выводы:\n",
    "* CatBoost и GradientBoosting отлично справляется и показывает хороший результат метрики, но лучший результат показал xgboost - 12.14.\n",
    "* Заметно улучшается результат после логарифмирования целевой переменной\n",
    "* так же удалось поэксперементировать со стекингом с различными мета-алгоритмами.\n",
    "\n",
    "Результаты можно улучшить спарсив больше данных и провести больше обработки над признаками,создав новые, но из-за нехватки времени этого не успели сделать."
   ]
  },
  {
   "cell_type": "markdown",
   "metadata": {
    "papermill": {
     "duration": 0.204641,
     "end_time": "2021-06-06T17:25:53.130588",
     "exception": false,
     "start_time": "2021-06-06T17:25:52.925947",
     "status": "completed"
    },
    "tags": []
   },
   "source": [
    "# Submission"
   ]
  },
  {
   "cell_type": "code",
   "execution_count": 141,
   "metadata": {
    "execution": {
     "iopub.execute_input": "2021-06-06T17:25:53.541491Z",
     "iopub.status.busy": "2021-06-06T17:25:53.540820Z",
     "iopub.status.idle": "2021-06-06T17:25:54.019244Z",
     "shell.execute_reply": "2021-06-06T17:25:54.018586Z",
     "shell.execute_reply.started": "2021-06-06T16:52:50.179277Z"
    },
    "papermill": {
     "duration": 0.685626,
     "end_time": "2021-06-06T17:25:54.019374",
     "exception": false,
     "start_time": "2021-06-06T17:25:53.333748",
     "status": "completed"
    },
    "tags": []
   },
   "outputs": [
    {
     "data": {
      "text/html": [
       "<div>\n",
       "<style scoped>\n",
       "    .dataframe tbody tr th:only-of-type {\n",
       "        vertical-align: middle;\n",
       "    }\n",
       "\n",
       "    .dataframe tbody tr th {\n",
       "        vertical-align: top;\n",
       "    }\n",
       "\n",
       "    .dataframe thead th {\n",
       "        text-align: right;\n",
       "    }\n",
       "</style>\n",
       "<table border=\"1\" class=\"dataframe\">\n",
       "  <thead>\n",
       "    <tr style=\"text-align: right;\">\n",
       "      <th></th>\n",
       "      <th>sell_id</th>\n",
       "      <th>price</th>\n",
       "    </tr>\n",
       "  </thead>\n",
       "  <tbody>\n",
       "    <tr>\n",
       "      <th>0</th>\n",
       "      <td>1100575026</td>\n",
       "      <td>6.697804e+05</td>\n",
       "    </tr>\n",
       "    <tr>\n",
       "      <th>1</th>\n",
       "      <td>1100549428</td>\n",
       "      <td>9.962137e+05</td>\n",
       "    </tr>\n",
       "    <tr>\n",
       "      <th>2</th>\n",
       "      <td>1100658222</td>\n",
       "      <td>9.239507e+05</td>\n",
       "    </tr>\n",
       "    <tr>\n",
       "      <th>3</th>\n",
       "      <td>1100937408</td>\n",
       "      <td>7.974400e+05</td>\n",
       "    </tr>\n",
       "    <tr>\n",
       "      <th>4</th>\n",
       "      <td>1101037972</td>\n",
       "      <td>7.523437e+05</td>\n",
       "    </tr>\n",
       "    <tr>\n",
       "      <th>5</th>\n",
       "      <td>1100912634</td>\n",
       "      <td>7.435708e+05</td>\n",
       "    </tr>\n",
       "    <tr>\n",
       "      <th>6</th>\n",
       "      <td>1101228730</td>\n",
       "      <td>6.611716e+05</td>\n",
       "    </tr>\n",
       "    <tr>\n",
       "      <th>7</th>\n",
       "      <td>1100165896</td>\n",
       "      <td>4.483103e+05</td>\n",
       "    </tr>\n",
       "    <tr>\n",
       "      <th>8</th>\n",
       "      <td>1100768262</td>\n",
       "      <td>2.138524e+06</td>\n",
       "    </tr>\n",
       "    <tr>\n",
       "      <th>9</th>\n",
       "      <td>1101218501</td>\n",
       "      <td>8.035688e+05</td>\n",
       "    </tr>\n",
       "  </tbody>\n",
       "</table>\n",
       "</div>"
      ],
      "text/plain": [
       "      sell_id         price\n",
       "0  1100575026  6.697804e+05\n",
       "1  1100549428  9.962137e+05\n",
       "2  1100658222  9.239507e+05\n",
       "3  1100937408  7.974400e+05\n",
       "4  1101037972  7.523437e+05\n",
       "5  1100912634  7.435708e+05\n",
       "6  1101228730  6.611716e+05\n",
       "7  1100165896  4.483103e+05\n",
       "8  1100768262  2.138524e+06\n",
       "9  1101218501  8.035688e+05"
      ]
     },
     "execution_count": 141,
     "metadata": {},
     "output_type": "execute_result"
    }
   ],
   "source": [
    "sample_submission['price'] = predict_submission\n",
    "sample_submission.to_csv(f'submission_2_v{VERSION}.csv', index=False)\n",
    "sample_submission.head(10)"
   ]
  },
  {
   "cell_type": "markdown",
   "metadata": {
    "papermill": {
     "duration": 0.205196,
     "end_time": "2021-06-06T17:25:54.430467",
     "exception": false,
     "start_time": "2021-06-06T17:25:54.225271",
     "status": "completed"
    },
    "tags": []
   },
   "source": [
    "# What's next?\n",
    "Или что еще можно сделать, чтоб улучшить результат:\n",
    "\n",
    "* Спарсить свежие данные \n",
    "* Посмотреть, что можно извлечь из признаков или как еще можно обработать признаки\n",
    "* Сгенерировать новые признаки\n",
    "* Попробовать подобрать параметры модели\n",
    "* Попробовать другие алгоритмы и библиотеки ML\n",
    "* Сделать Ансамбль моделей, Blending, Stacking"
   ]
  },
  {
   "cell_type": "markdown",
   "metadata": {
    "papermill": {
     "duration": 0.205054,
     "end_time": "2021-06-06T17:25:54.839758",
     "exception": false,
     "start_time": "2021-06-06T17:25:54.634704",
     "status": "completed"
    },
    "tags": []
   },
   "source": [
    "Подробный чек лист: https://docs.google.com/spreadsheets/d/1I_ErM3U0Cs7Rs1obyZbIEGtVn-H47pHNCi4xdDgUmXY/edit?usp=sharing"
   ]
  }
 ],
 "metadata": {
  "kernelspec": {
   "display_name": "Python 3 (ipykernel)",
   "language": "python",
   "name": "python3"
  },
  "language_info": {
   "codemirror_mode": {
    "name": "ipython",
    "version": 3
   },
   "file_extension": ".py",
   "mimetype": "text/x-python",
   "name": "python",
   "nbconvert_exporter": "python",
   "pygments_lexer": "ipython3",
   "version": "3.8.5"
  },
  "papermill": {
   "duration": 704.537898,
   "end_time": "2021-06-06T17:25:55.150241",
   "environment_variables": {},
   "exception": null,
   "input_path": "__notebook__.ipynb",
   "output_path": "__notebook__.ipynb",
   "parameters": {},
   "start_time": "2021-06-06T17:14:10.612343",
   "version": "2.1.0"
  },
  "widgets": {
   "application/vnd.jupyter.widget-state+json": {
    "state": {
     "118fd0c559ce40cc9c4a8bcfd49990bf": {
      "model_module": "@jupyter-widgets/controls",
      "model_module_version": "1.5.0",
      "model_name": "HBoxModel",
      "state": {
       "_dom_classes": [],
       "_model_module": "@jupyter-widgets/controls",
       "_model_module_version": "1.5.0",
       "_model_name": "HBoxModel",
       "_view_count": null,
       "_view_module": "@jupyter-widgets/controls",
       "_view_module_version": "1.5.0",
       "_view_name": "HBoxView",
       "box_style": "",
       "children": [
        "IPY_MODEL_217ca79482ba4c6086c52d0a5b85b76f",
        "IPY_MODEL_ed1031cef73244efbb84dee2493d014e"
       ],
       "layout": "IPY_MODEL_669d8fde02134593ad4d0ed36ede5e19"
      }
     },
     "217ca79482ba4c6086c52d0a5b85b76f": {
      "model_module": "@jupyter-widgets/controls",
      "model_module_version": "1.5.0",
      "model_name": "FloatProgressModel",
      "state": {
       "_dom_classes": [],
       "_model_module": "@jupyter-widgets/controls",
       "_model_module_version": "1.5.0",
       "_model_name": "FloatProgressModel",
       "_view_count": null,
       "_view_module": "@jupyter-widgets/controls",
       "_view_module_version": "1.5.0",
       "_view_name": "ProgressView",
       "bar_style": "success",
       "description": "100%",
       "description_tooltip": null,
       "layout": "IPY_MODEL_b2d96c82bd8a4e75a7c70f57a48b1f68",
       "max": 6,
       "min": 0,
       "orientation": "horizontal",
       "style": "IPY_MODEL_b33786dc6ffa4c73b29fe37d1b4dbb77",
       "value": 6
      }
     },
     "669d8fde02134593ad4d0ed36ede5e19": {
      "model_module": "@jupyter-widgets/base",
      "model_module_version": "1.2.0",
      "model_name": "LayoutModel",
      "state": {
       "_model_module": "@jupyter-widgets/base",
       "_model_module_version": "1.2.0",
       "_model_name": "LayoutModel",
       "_view_count": null,
       "_view_module": "@jupyter-widgets/base",
       "_view_module_version": "1.2.0",
       "_view_name": "LayoutView",
       "align_content": null,
       "align_items": null,
       "align_self": null,
       "border": null,
       "bottom": null,
       "display": null,
       "flex": null,
       "flex_flow": null,
       "grid_area": null,
       "grid_auto_columns": null,
       "grid_auto_flow": null,
       "grid_auto_rows": null,
       "grid_column": null,
       "grid_gap": null,
       "grid_row": null,
       "grid_template_areas": null,
       "grid_template_columns": null,
       "grid_template_rows": null,
       "height": null,
       "justify_content": null,
       "justify_items": null,
       "left": null,
       "margin": null,
       "max_height": null,
       "max_width": null,
       "min_height": null,
       "min_width": null,
       "object_fit": null,
       "object_position": null,
       "order": null,
       "overflow": null,
       "overflow_x": null,
       "overflow_y": null,
       "padding": null,
       "right": null,
       "top": null,
       "visibility": null,
       "width": null
      }
     },
     "7ba954132f2a4dd5acd1842e9812b6e1": {
      "model_module": "@jupyter-widgets/base",
      "model_module_version": "1.2.0",
      "model_name": "LayoutModel",
      "state": {
       "_model_module": "@jupyter-widgets/base",
       "_model_module_version": "1.2.0",
       "_model_name": "LayoutModel",
       "_view_count": null,
       "_view_module": "@jupyter-widgets/base",
       "_view_module_version": "1.2.0",
       "_view_name": "LayoutView",
       "align_content": null,
       "align_items": null,
       "align_self": null,
       "border": null,
       "bottom": null,
       "display": null,
       "flex": null,
       "flex_flow": null,
       "grid_area": null,
       "grid_auto_columns": null,
       "grid_auto_flow": null,
       "grid_auto_rows": null,
       "grid_column": null,
       "grid_gap": null,
       "grid_row": null,
       "grid_template_areas": null,
       "grid_template_columns": null,
       "grid_template_rows": null,
       "height": null,
       "justify_content": null,
       "justify_items": null,
       "left": null,
       "margin": null,
       "max_height": null,
       "max_width": null,
       "min_height": null,
       "min_width": null,
       "object_fit": null,
       "object_position": null,
       "order": null,
       "overflow": null,
       "overflow_x": null,
       "overflow_y": null,
       "padding": null,
       "right": null,
       "top": null,
       "visibility": null,
       "width": null
      }
     },
     "9b73ea5c56fb4c7b8fc65cae90edff03": {
      "model_module": "@jupyter-widgets/controls",
      "model_module_version": "1.5.0",
      "model_name": "DescriptionStyleModel",
      "state": {
       "_model_module": "@jupyter-widgets/controls",
       "_model_module_version": "1.5.0",
       "_model_name": "DescriptionStyleModel",
       "_view_count": null,
       "_view_module": "@jupyter-widgets/base",
       "_view_module_version": "1.2.0",
       "_view_name": "StyleView",
       "description_width": ""
      }
     },
     "b2d96c82bd8a4e75a7c70f57a48b1f68": {
      "model_module": "@jupyter-widgets/base",
      "model_module_version": "1.2.0",
      "model_name": "LayoutModel",
      "state": {
       "_model_module": "@jupyter-widgets/base",
       "_model_module_version": "1.2.0",
       "_model_name": "LayoutModel",
       "_view_count": null,
       "_view_module": "@jupyter-widgets/base",
       "_view_module_version": "1.2.0",
       "_view_name": "LayoutView",
       "align_content": null,
       "align_items": null,
       "align_self": null,
       "border": null,
       "bottom": null,
       "display": null,
       "flex": null,
       "flex_flow": null,
       "grid_area": null,
       "grid_auto_columns": null,
       "grid_auto_flow": null,
       "grid_auto_rows": null,
       "grid_column": null,
       "grid_gap": null,
       "grid_row": null,
       "grid_template_areas": null,
       "grid_template_columns": null,
       "grid_template_rows": null,
       "height": null,
       "justify_content": null,
       "justify_items": null,
       "left": null,
       "margin": null,
       "max_height": null,
       "max_width": null,
       "min_height": null,
       "min_width": null,
       "object_fit": null,
       "object_position": null,
       "order": null,
       "overflow": null,
       "overflow_x": null,
       "overflow_y": null,
       "padding": null,
       "right": null,
       "top": null,
       "visibility": null,
       "width": null
      }
     },
     "b33786dc6ffa4c73b29fe37d1b4dbb77": {
      "model_module": "@jupyter-widgets/controls",
      "model_module_version": "1.5.0",
      "model_name": "ProgressStyleModel",
      "state": {
       "_model_module": "@jupyter-widgets/controls",
       "_model_module_version": "1.5.0",
       "_model_name": "ProgressStyleModel",
       "_view_count": null,
       "_view_module": "@jupyter-widgets/base",
       "_view_module_version": "1.2.0",
       "_view_name": "StyleView",
       "bar_color": null,
       "description_width": "initial"
      }
     },
     "ed1031cef73244efbb84dee2493d014e": {
      "model_module": "@jupyter-widgets/controls",
      "model_module_version": "1.5.0",
      "model_name": "HTMLModel",
      "state": {
       "_dom_classes": [],
       "_model_module": "@jupyter-widgets/controls",
       "_model_module_version": "1.5.0",
       "_model_name": "HTMLModel",
       "_view_count": null,
       "_view_module": "@jupyter-widgets/controls",
       "_view_module_version": "1.5.0",
       "_view_name": "HTMLView",
       "description": "",
       "description_tooltip": null,
       "layout": "IPY_MODEL_7ba954132f2a4dd5acd1842e9812b6e1",
       "placeholder": "​",
       "style": "IPY_MODEL_9b73ea5c56fb4c7b8fc65cae90edff03",
       "value": " 6/6 [07:06&lt;00:00, 71.10s/it]"
      }
     }
    },
    "version_major": 2,
    "version_minor": 0
   }
  }
 },
 "nbformat": 4,
 "nbformat_minor": 4
}
