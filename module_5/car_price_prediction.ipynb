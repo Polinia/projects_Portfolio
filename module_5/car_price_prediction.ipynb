{
  "cells": [
    {
      "cell_type": "markdown",
      "metadata": {
        "id": "view-in-github",
        "colab_type": "text"
      },
      "source": [
        "<a href=\"https://colab.research.google.com/github/Polinia/skillfactory_rds/blob/main/module_5/car_price_prediction.ipynb\" target=\"_parent\"><img src=\"https://colab.research.google.com/assets/colab-badge.svg\" alt=\"Open In Colab\"/></a>"
      ]
    },
    {
      "cell_type": "markdown",
      "metadata": {
        "papermill": {
          "duration": 0.131843,
          "end_time": "2021-06-06T17:14:15.158111",
          "exception": false,
          "start_time": "2021-06-06T17:14:15.026268",
          "status": "completed"
        },
        "tags": [],
        "id": "8NJu9nLI1zqq"
      },
      "source": [
        "## Car classification & price prediction\n",
        "<img src=\"https://whatcar.vn/media/2018/09/car-lot-940x470.jpg\"/>\n",
        "\n",
        "\n",
        "\n"
      ]
    },
    {
      "cell_type": "markdown",
      "source": [
        "## Import Libraries"
      ],
      "metadata": {
        "id": "jW6Ddot12TIt"
      }
    },
    {
      "cell_type": "code",
      "execution_count": 96,
      "metadata": {
        "_cell_guid": "b1076dfc-b9ad-4769-8c92-a6c4dae69d19",
        "_uuid": "8f2839f25d086af736a60e9eeb907d3b93b6e0e5",
        "execution": {
          "iopub.execute_input": "2021-06-06T17:14:15.425262Z",
          "iopub.status.busy": "2021-06-06T17:14:15.424332Z",
          "iopub.status.idle": "2021-06-06T17:14:17.795735Z",
          "shell.execute_reply": "2021-06-06T17:14:17.794507Z",
          "shell.execute_reply.started": "2021-06-06T16:22:21.538355Z"
        },
        "papermill": {
          "duration": 2.508831,
          "end_time": "2021-06-06T17:14:17.795852",
          "exception": false,
          "start_time": "2021-06-06T17:14:15.287021",
          "status": "completed"
        },
        "tags": [],
        "id": "uxq574u81zqu"
      },
      "outputs": [],
      "source": [
        "import numpy as np \n",
        "import pandas as pd \n",
        "import sys\n",
        "import time\n",
        "import datetime\n",
        "import requests as r\n",
        "import json\n",
        "from bs4 import BeautifulSoup\n",
        "from sklearn.ensemble import RandomForestRegressor\n",
        "from sklearn.preprocessing import PolynomialFeatures\n",
        "from sklearn.model_selection import train_test_split\n",
        "from sklearn.model_selection import KFold\n",
        "from tqdm.notebook import tqdm\n",
        "!pip install catboost -q\n",
        "from catboost import CatBoostRegressor\n",
        "from sklearn.preprocessing import LabelEncoder\n",
        "import pandas_profiling\n",
        "import warnings\n",
        "warnings.simplefilter('ignore')\n",
        "import matplotlib.pyplot as plt\n",
        "%matplotlib inline\n",
        "import seaborn as sns\n",
        "from pandas import Series\n",
        "from sklearn.feature_selection import f_classif, mutual_info_classif\n",
        "from sklearn.model_selection import GridSearchCV\n",
        "from sklearn.model_selection import train_test_split\n",
        "from sklearn.linear_model import LinearRegression\n",
        "from sklearn.ensemble import GradientBoostingRegressor  \n",
        "from sklearn.preprocessing import StandardScaler\n",
        "from sklearn.ensemble import ExtraTreesRegressor\n",
        "from sklearn.neighbors import KNeighborsRegressor\n",
        "from sklearn.base import clone"
      ]
    },
    {
      "cell_type": "code",
      "execution_count": 97,
      "metadata": {
        "_kg_hide-input": true,
        "execution": {
          "iopub.execute_input": "2021-06-06T17:14:18.063913Z",
          "iopub.status.busy": "2021-06-06T17:14:18.062829Z",
          "iopub.status.idle": "2021-06-06T17:14:18.067277Z",
          "shell.execute_reply": "2021-06-06T17:14:18.066754Z",
          "shell.execute_reply.started": "2021-06-06T16:22:24.355418Z"
        },
        "papermill": {
          "duration": 0.142769,
          "end_time": "2021-06-06T17:14:18.067399",
          "exception": false,
          "start_time": "2021-06-06T17:14:17.924630",
          "status": "completed"
        },
        "tags": [],
        "colab": {
          "base_uri": "https://localhost:8080/"
        },
        "id": "qRjFhHoj1zqv",
        "outputId": "0eac41d8-b168-4bda-a6fe-255020ee6cc3"
      },
      "outputs": [
        {
          "output_type": "stream",
          "name": "stdout",
          "text": [
            "Python       : 3.8.15 (default, Oct 12 2022, 19:14:39) \n",
            "Numpy        : 1.21.6\n"
          ]
        }
      ],
      "source": [
        "print('Python       :', sys.version.split('\\n')[0])\n",
        "print('Numpy        :', np.__version__)"
      ]
    },
    {
      "cell_type": "code",
      "execution_count": 98,
      "metadata": {
        "_kg_hide-input": true,
        "execution": {
          "iopub.execute_input": "2021-06-06T17:14:18.332271Z",
          "iopub.status.busy": "2021-06-06T17:14:18.331685Z",
          "iopub.status.idle": "2021-06-06T17:14:21.122614Z",
          "shell.execute_reply": "2021-06-06T17:14:21.121854Z",
          "shell.execute_reply.started": "2021-06-06T16:22:24.367462Z"
        },
        "papermill": {
          "duration": 2.923793,
          "end_time": "2021-06-06T17:14:21.122731",
          "exception": false,
          "start_time": "2021-06-06T17:14:18.198938",
          "status": "completed"
        },
        "tags": [],
        "id": "GXkP4FLt1zqw"
      },
      "outputs": [],
      "source": [
        "# fix the version of the packages so that the experiments are reproducible:\n",
        "!pip freeze > requirements.txt\n",
        "# fixing RANDOM_SEED\n",
        "RANDOM_SEED = 42"
      ]
    },
    {
      "cell_type": "code",
      "execution_count": 99,
      "metadata": {
        "_kg_hide-input": true,
        "execution": {
          "iopub.execute_input": "2021-06-06T17:14:21.387054Z",
          "iopub.status.busy": "2021-06-06T17:14:21.386388Z",
          "iopub.status.idle": "2021-06-06T17:14:21.388045Z",
          "shell.execute_reply": "2021-06-06T17:14:21.388613Z",
          "shell.execute_reply.started": "2021-06-06T16:22:27.1616Z"
        },
        "papermill": {
          "duration": 0.135892,
          "end_time": "2021-06-06T17:14:21.388751",
          "exception": false,
          "start_time": "2021-06-06T17:14:21.252859",
          "status": "completed"
        },
        "tags": [],
        "id": "nwXZxoFA1zqw"
      },
      "outputs": [],
      "source": [
        "#function for metrics\n",
        "def mape(y_true, y_pred):\n",
        "    return np.mean(np.abs((y_pred-y_true)/y_true))"
      ]
    },
    {
      "cell_type": "markdown",
      "metadata": {
        "papermill": {
          "duration": 0.135239,
          "end_time": "2021-06-06T17:14:21.653305",
          "exception": false,
          "start_time": "2021-06-06T17:14:21.518066",
          "status": "completed"
        },
        "tags": [],
        "id": "PZMeKrEE1zqw"
      },
      "source": [
        "# Parsing code"
      ]
    },
    {
      "cell_type": "code",
      "source": [
        "# in accordance with the condition of the problem, we need data for Moscow:\n",
        "\n",
        "START_URL='https://auto.ru/moskva/cars/used/'\n",
        "\n",
        "pages_url_list=[]"
      ],
      "metadata": {
        "id": "oFM4ky4N4CpN"
      },
      "execution_count": 100,
      "outputs": []
    },
    {
      "cell_type": "code",
      "execution_count": 101,
      "metadata": {
        "execution": {
          "iopub.execute_input": "2021-06-06T17:14:22.171043Z",
          "iopub.status.busy": "2021-06-06T17:14:22.170440Z",
          "iopub.status.idle": "2021-06-06T17:14:22.177312Z",
          "shell.execute_reply": "2021-06-06T17:14:22.177826Z",
          "shell.execute_reply.started": "2021-06-06T16:22:27.171012Z"
        },
        "papermill": {
          "duration": 0.139281,
          "end_time": "2021-06-06T17:14:22.177964",
          "exception": false,
          "start_time": "2021-06-06T17:14:22.038683",
          "status": "completed"
        },
        "tags": [],
        "colab": {
          "base_uri": "https://localhost:8080/",
          "height": 70
        },
        "id": "3JKw6mRd1zqw",
        "outputId": "1a8e1dbb-1f0f-49c1-b708-45daed46a8a2"
      },
      "outputs": [
        {
          "output_type": "execute_result",
          "data": {
            "text/plain": [
              "'while len(pages_url_list)<5000: \\n    for i in range(1,99):   \\n        response = r.get( START_URL+\\'?page=%s\\'%i)\\n        page = BeautifulSoup(response.text, \\'html.parser\\')\\n        for link in page.findAll(\\'a\\',{\"class\": \"Link OfferThumb\"}):\\n            try:\\n                if link[\\'href\\'] not in pages_url_list: \\n                    pages_url_list.append(link[\\'href\\'])\\n            except:\\n                pass\\n    print(len(pages_url_list))   \\n    time.sleep(10)'"
            ],
            "application/vnd.google.colaboratory.intrinsic+json": {
              "type": "string"
            }
          },
          "metadata": {},
          "execution_count": 101
        }
      ],
      "source": [
        "\"\"\"while len(pages_url_list)<5000: \n",
        "    for i in range(1,99):   \n",
        "        response = r.get( START_URL+'?page=%s'%i)\n",
        "        page = BeautifulSoup(response.text, 'html.parser')\n",
        "        for link in page.findAll('a',{\"class\": \"Link OfferThumb\"}):\n",
        "            try:\n",
        "                if link['href'] not in pages_url_list: \n",
        "                    pages_url_list.append(link['href'])\n",
        "            except:\n",
        "                pass\n",
        "    print(len(pages_url_list))   \n",
        "    time.sleep(10)\"\"\""
      ]
    },
    {
      "cell_type": "markdown",
      "metadata": {
        "papermill": {
          "duration": 0.12764,
          "end_time": "2021-06-06T17:14:22.434787",
          "exception": false,
          "start_time": "2021-06-06T17:14:22.307147",
          "status": "completed"
        },
        "tags": [],
        "id": "LaddGrna1zqx"
      },
      "source": [
        "We create a dataframe with considering the previously analyzed features, some of them in the test are not informative, we will not waste time on them. We use the BeautifulSoup library. Subject to the condition that the car must be with a price. We also added error protection in the form of a try/except function. As a protection against captcha on the site, we have prescribed a delay after each cycle of 0.1 seconds"
      ]
    },
    {
      "cell_type": "code",
      "execution_count": 102,
      "metadata": {
        "execution": {
          "iopub.execute_input": "2021-06-06T17:14:22.696251Z",
          "iopub.status.busy": "2021-06-06T17:14:22.695587Z",
          "iopub.status.idle": "2021-06-06T17:14:22.702896Z",
          "shell.execute_reply": "2021-06-06T17:14:22.703523Z",
          "shell.execute_reply.started": "2021-06-06T16:22:27.186581Z"
        },
        "papermill": {
          "duration": 0.139846,
          "end_time": "2021-06-06T17:14:22.703665",
          "exception": false,
          "start_time": "2021-06-06T17:14:22.563819",
          "status": "completed"
        },
        "tags": [],
        "colab": {
          "base_uri": "https://localhost:8080/",
          "height": 123
        },
        "id": "JLFO1qOR1zqx",
        "outputId": "dc83dcf4-8203-421f-a234-a3a0dbdd83f1"
      },
      "outputs": [
        {
          "output_type": "execute_result",
          "data": {
            "text/plain": [
              "'cars_list = []\\nfor item in pages_url_list:\\n    response = r.get(item)\\n    response.encoding = \\'utf8\\'\\n    page = BeautifulSoup(response.text, \\'html.parser\\')\\n    if page.find(\\'div\\', class_=\\'CardSold\\') == None:\\n        try:\\n            json_data = json.loads(\\n                page.find(\\'script\\', type=\"application/ld+json\").string)\\n        except:\\n            print(item)\\n            pass\\n        cls_str = \\'CardInfoRow_\\'\\n        span_str = \\'CardInfoRow__cell\\'\\n        try:\\n            cars_list.append({\\n            \\'bodyType\\': json_data[\\'bodyType\\'],\\n            \\'brand\\': json_data[\\'brand\\'],\\n            \\'car_url\\': json_data[\\'offers\\'][\\'url\\'],\\n            \\'color\\': json_data[\\'color\\'],\\n            \\'description\\': json_data[\\'description\\'],\\n            \\'engineDisplacement\\': json_data[\\'vehicleEngine\\'][\\'engineDisplacement\\'],\\n            \\'enginePower\\': json_data[\\'vehicleEngine\\'][\\'enginePower\\'],\\n            \\'fuelType\\': json_data[\\'fuelType\\'],\\n            \\'image\\': json_data[\\'image\\'],\\n            \\'mileage\\': page.find(\\n                \\'li\\', class_=cls_str+\\'kmAge\\').find_all(\\'span\\')[1].text,\\n            \\'modelDate\\': json_data[\\'modelDate\\'],\\n            \\'model_name\\': json_data[\\'name\\'],\\n            \\'name\\': json_data[\\'vehicleEngine\\'][\\'name\\'],\\n            \\'numberOfDoors\\': json_data[\\'numberOfDoors\\'],\\n            \\'parsing_unixtime\\': int(time.time()),\\n            \\'priceCurrency\\': json_data[\\'offers\\'][\\'priceCurrency\\'],\\n            \\'productionDate\\': json_data[\\'productionDate\\'],\\n            \\'sell_id\\': page.find(\\n                \\'div\\', title=\\'Идентификатор объявления\\').text,\\n            \\'vehicleConfiguration\\': json_data[\\'vehicleConfiguration\\'],\\n            \\'vehicleTransmission\\': json_data[\\'vehicleTransmission\\'],\\n            \\'Владельцы\\': page.find(\\n                \\'li\\', class_=cls_str+\\'ownersCount\\').find_all(\\'span\\')[1].text,\\n            \\'ПТС\\': page.find(\\n                \\'li\\', class_=cls_str+\\'pts\\').find_all(\\'span\\')[1].text,\\n            \\'Привод\\': page.find(\\n                \\'li\\', class_=cls_str+\\'drive\\').find_all(\\'span\\')[1].text,\\n            \\'Руль\\': page.find(\\n                \\'li\\', class_=cls_str+\\'wheel\\').find_all(\\'span\\')[1].text,\\n            \\'Состояние\\': page.find(\\n                \\'li\\', class_=cls_str+\\'state\\').find_all(\\'span\\')[1].text,\\n            \\'Таможня\\': page.find(\\n                \\'li\\', class_=cls_str+\\'customs\\').find_all(\\'span\\')[1].text,\\n            \\'price\\': page.find(\\n                \\'span\\', class_=\\'OfferPriceCaption__price\\').text\\n            })\\n        except:\\n            print(item)\\n            pass\\n\\n   # else cars_list = []\\n\\n    #print(\\'Ожидаю 0.1 секунды...\\')\\n    time.sleep(0.1)'"
            ],
            "application/vnd.google.colaboratory.intrinsic+json": {
              "type": "string"
            }
          },
          "metadata": {},
          "execution_count": 102
        }
      ],
      "source": [
        "\"\"\"cars_list = []\n",
        "for item in pages_url_list:\n",
        "    response = r.get(item)\n",
        "    response.encoding = 'utf8'\n",
        "    page = BeautifulSoup(response.text, 'html.parser')\n",
        "    if page.find('div', class_='CardSold') == None:\n",
        "        try:\n",
        "            json_data = json.loads(\n",
        "                page.find('script', type=\"application/ld+json\").string)\n",
        "        except:\n",
        "            print(item)\n",
        "            pass\n",
        "        cls_str = 'CardInfoRow_'\n",
        "        span_str = 'CardInfoRow__cell'\n",
        "        try:\n",
        "            cars_list.append({\n",
        "            'bodyType': json_data['bodyType'],\n",
        "            'brand': json_data['brand'],\n",
        "            'car_url': json_data['offers']['url'],\n",
        "            'color': json_data['color'],\n",
        "            'description': json_data['description'],\n",
        "            'engineDisplacement': json_data['vehicleEngine']['engineDisplacement'],\n",
        "            'enginePower': json_data['vehicleEngine']['enginePower'],\n",
        "            'fuelType': json_data['fuelType'],\n",
        "            'image': json_data['image'],\n",
        "            'mileage': page.find(\n",
        "                'li', class_=cls_str+'kmAge').find_all('span')[1].text,\n",
        "            'modelDate': json_data['modelDate'],\n",
        "            'model_name': json_data['name'],\n",
        "            'name': json_data['vehicleEngine']['name'],\n",
        "            'numberOfDoors': json_data['numberOfDoors'],\n",
        "            'parsing_unixtime': int(time.time()),\n",
        "            'priceCurrency': json_data['offers']['priceCurrency'],\n",
        "            'productionDate': json_data['productionDate'],\n",
        "            'sell_id': page.find(\n",
        "                'div', title='Идентификатор объявления').text,\n",
        "            'vehicleConfiguration': json_data['vehicleConfiguration'],\n",
        "            'vehicleTransmission': json_data['vehicleTransmission'],\n",
        "            'Владельцы': page.find(\n",
        "                'li', class_=cls_str+'ownersCount').find_all('span')[1].text,\n",
        "            'ПТС': page.find(\n",
        "                'li', class_=cls_str+'pts').find_all('span')[1].text,\n",
        "            'Привод': page.find(\n",
        "                'li', class_=cls_str+'drive').find_all('span')[1].text,\n",
        "            'Руль': page.find(\n",
        "                'li', class_=cls_str+'wheel').find_all('span')[1].text,\n",
        "            'Состояние': page.find(\n",
        "                'li', class_=cls_str+'state').find_all('span')[1].text,\n",
        "            'Таможня': page.find(\n",
        "                'li', class_=cls_str+'customs').find_all('span')[1].text,\n",
        "            'price': page.find(\n",
        "                'span', class_='OfferPriceCaption__price').text\n",
        "            })\n",
        "        except:\n",
        "            print(item)\n",
        "            pass\n",
        "\n",
        "   # else cars_list = []\n",
        "\n",
        "    #print('Ожидаю 0.1 секунды...')\n",
        "    time.sleep(0.1)\"\"\""
      ]
    },
    {
      "cell_type": "code",
      "execution_count": 103,
      "metadata": {
        "execution": {
          "iopub.execute_input": "2021-06-06T17:14:23.011421Z",
          "iopub.status.busy": "2021-06-06T17:14:23.010724Z",
          "iopub.status.idle": "2021-06-06T17:14:23.014193Z",
          "shell.execute_reply": "2021-06-06T17:14:23.014693Z",
          "shell.execute_reply.started": "2021-06-06T16:22:27.201551Z"
        },
        "papermill": {
          "duration": 0.136196,
          "end_time": "2021-06-06T17:14:23.014829",
          "exception": false,
          "start_time": "2021-06-06T17:14:22.878633",
          "status": "completed"
        },
        "tags": [],
        "colab": {
          "base_uri": "https://localhost:8080/",
          "height": 36
        },
        "id": "NtjkXcUP1zqx",
        "outputId": "60d9d21d-c566-471f-877d-195884682707"
      },
      "outputs": [
        {
          "output_type": "execute_result",
          "data": {
            "text/plain": [
              "\"df = pd.DataFrame(cars_list)\\n# checking duplicates by 'car_url' or 'sell_id'\\ndf['sell_id'].duplicated().sum()\\n# saving into csv\\ndf.to_csv('cars_df.csv', index=False)\""
            ],
            "application/vnd.google.colaboratory.intrinsic+json": {
              "type": "string"
            }
          },
          "metadata": {},
          "execution_count": 103
        }
      ],
      "source": [
        "# we convert into a convenient form\n",
        "\"\"\"df = pd.DataFrame(cars_list)\n",
        "# checking duplicates by 'car_url' or 'sell_id'\n",
        "df['sell_id'].duplicated().sum()\n",
        "# saving into csv\n",
        "df.to_csv('cars_df.csv', index=False)\"\"\""
      ]
    },
    {
      "cell_type": "markdown",
      "metadata": {
        "papermill": {
          "duration": 0.12818,
          "end_time": "2021-06-06T17:14:23.272247",
          "exception": false,
          "start_time": "2021-06-06T17:14:23.144067",
          "status": "completed"
        },
        "tags": [],
        "id": "_DW9OnXz1zqy"
      },
      "source": [
        "# Setup"
      ]
    },
    {
      "cell_type": "code",
      "execution_count": 104,
      "metadata": {
        "execution": {
          "iopub.execute_input": "2021-06-06T17:14:23.534793Z",
          "iopub.status.busy": "2021-06-06T17:14:23.534121Z",
          "iopub.status.idle": "2021-06-06T17:14:23.538836Z",
          "shell.execute_reply": "2021-06-06T17:14:23.539393Z",
          "shell.execute_reply.started": "2021-06-06T16:22:27.214769Z"
        },
        "papermill": {
          "duration": 0.138328,
          "end_time": "2021-06-06T17:14:23.539538",
          "exception": false,
          "start_time": "2021-06-06T17:14:23.401210",
          "status": "completed"
        },
        "tags": [],
        "id": "GqhX-pIz1zqy"
      },
      "outputs": [],
      "source": [
        "VERSION    = 16\n",
        "VAL_SIZE   = 0.20   # 20%"
      ]
    },
    {
      "cell_type": "markdown",
      "metadata": {
        "papermill": {
          "duration": 0.12989,
          "end_time": "2021-06-06T17:14:23.800838",
          "exception": false,
          "start_time": "2021-06-06T17:14:23.670948",
          "status": "completed"
        },
        "tags": [],
        "id": "28hw2n5x1zqy"
      },
      "source": [
        "# Data"
      ]
    },
    {
      "cell_type": "code",
      "execution_count": 105,
      "metadata": {
        "_cell_guid": "79c7e3d0-c299-4dcb-8224-4455121ee9b0",
        "_uuid": "d629ff2d2480ee46fbb7e2d37f6b5fab8052498a",
        "execution": {
          "iopub.execute_input": "2021-06-06T17:14:25.055698Z",
          "iopub.status.busy": "2021-06-06T17:14:25.055004Z",
          "iopub.status.idle": "2021-06-06T17:14:29.054916Z",
          "shell.execute_reply": "2021-06-06T17:14:29.054071Z",
          "shell.execute_reply.started": "2021-06-06T16:22:27.987286Z"
        },
        "papermill": {
          "duration": 4.144046,
          "end_time": "2021-06-06T17:14:29.055066",
          "exception": false,
          "start_time": "2021-06-06T17:14:24.911020",
          "status": "completed"
        },
        "tags": [],
        "id": "_flnAYrB1zqy"
      },
      "outputs": [],
      "source": [
        "train = pd.read_csv('cars_df.csv') # dataset for training\n",
        "test = pd.read_csv('test_auto.csv')\n",
        "sample_submission = pd.read_csv('sample-submission_cars.csv')"
      ]
    },
    {
      "cell_type": "code",
      "execution_count": 106,
      "metadata": {
        "execution": {
          "iopub.execute_input": "2021-06-06T17:14:29.330270Z",
          "iopub.status.busy": "2021-06-06T17:14:29.329641Z",
          "iopub.status.idle": "2021-06-06T17:14:29.338511Z",
          "shell.execute_reply": "2021-06-06T17:14:29.337869Z",
          "shell.execute_reply.started": "2021-06-06T16:22:32.02845Z"
        },
        "papermill": {
          "duration": 0.14952,
          "end_time": "2021-06-06T17:14:29.338627",
          "exception": false,
          "start_time": "2021-06-06T17:14:29.189107",
          "status": "completed"
        },
        "tags": [],
        "colab": {
          "base_uri": "https://localhost:8080/"
        },
        "id": "apMddZNA1zqy",
        "outputId": "92d573a8-96c3-44a7-8b55-70d125064eec"
      },
      "outputs": [
        {
          "output_type": "execute_result",
          "data": {
            "text/plain": [
              "False"
            ]
          },
          "metadata": {},
          "execution_count": 106
        }
      ],
      "source": [
        "train.price.isnull().values.any()"
      ]
    },
    {
      "cell_type": "code",
      "execution_count": 107,
      "metadata": {
        "execution": {
          "iopub.execute_input": "2021-06-06T17:14:29.619984Z",
          "iopub.status.busy": "2021-06-06T17:14:29.619301Z",
          "iopub.status.idle": "2021-06-06T17:14:29.633159Z",
          "shell.execute_reply": "2021-06-06T17:14:29.633641Z",
          "shell.execute_reply.started": "2021-06-06T16:22:32.042995Z"
        },
        "papermill": {
          "duration": 0.164724,
          "end_time": "2021-06-06T17:14:29.633788",
          "exception": false,
          "start_time": "2021-06-06T17:14:29.469064",
          "status": "completed"
        },
        "tags": [],
        "colab": {
          "base_uri": "https://localhost:8080/",
          "height": 280
        },
        "id": "g2OCwjSw1zqy",
        "outputId": "e4f92be3-1ab5-4878-9ea5-accae6064ad3"
      },
      "outputs": [
        {
          "output_type": "execute_result",
          "data": {
            "text/plain": [
              "        bodyType      brand  \\\n",
              "0          седан   MERCEDES   \n",
              "1  хэтчбек 5 дв.  CHEVROLET   \n",
              "\n",
              "                                             car_url   color  \\\n",
              "0  https://auto.ru/cars/used/sale/mercedes/e_klas...  чёрный   \n",
              "1  https://auto.ru/cars/used/sale/chevrolet/aveo/...   белый   \n",
              "\n",
              "                                         description engineDisplacement  \\\n",
              "0  Автомобиль в который вложена Душа не требует о...            3.2 LTR   \n",
              "1  Я СОБСТВЕННИК!!! НЕ ПЕРЕКУП\\nМашина в основном...            1.6 LTR   \n",
              "\n",
              "  enginePower fuelType                                              image  \\\n",
              "0     220 N12   бензин  https://avatars.mds.yandex.net/get-autoru-vos/...   \n",
              "1     115 N12   бензин  https://avatars.mds.yandex.net/get-autoru-vos/...   \n",
              "\n",
              "      mileage  modelDate                           model_name    name  \\\n",
              "0  240 000 км       1992  Mercedes-Benz E-Класс  I (W124) 320  3.2 AT   \n",
              "1   53 800 км       2011                    Chevrolet Aveo II  1.6 AT   \n",
              "\n",
              "   numberOfDoors priceCurrency  productionDate  \\\n",
              "0              4           RUB            1994   \n",
              "1              5           RUB            2013   \n",
              "\n",
              "              vehicleConfiguration vehicleTransmission    Владельцы       ПТС  \\\n",
              "0              SEDAN AUTOMATIC 3.2      автоматическая  3 или более  Оригинал   \n",
              "1  HATCHBACK_5_DOORS AUTOMATIC 1.6      автоматическая  3 или более  Оригинал   \n",
              "\n",
              "     Привод   Руль           Состояние     Таможня        price  \n",
              "0    задний  Левый  Не требует ремонта  Растаможен  3 000 000 ₽  \n",
              "1  передний  Левый  Не требует ремонта  Растаможен    638 000 ₽  "
            ],
            "text/html": [
              "\n",
              "  <div id=\"df-08b69f4c-2f01-4010-ab5a-299129031426\">\n",
              "    <div class=\"colab-df-container\">\n",
              "      <div>\n",
              "<style scoped>\n",
              "    .dataframe tbody tr th:only-of-type {\n",
              "        vertical-align: middle;\n",
              "    }\n",
              "\n",
              "    .dataframe tbody tr th {\n",
              "        vertical-align: top;\n",
              "    }\n",
              "\n",
              "    .dataframe thead th {\n",
              "        text-align: right;\n",
              "    }\n",
              "</style>\n",
              "<table border=\"1\" class=\"dataframe\">\n",
              "  <thead>\n",
              "    <tr style=\"text-align: right;\">\n",
              "      <th></th>\n",
              "      <th>bodyType</th>\n",
              "      <th>brand</th>\n",
              "      <th>car_url</th>\n",
              "      <th>color</th>\n",
              "      <th>description</th>\n",
              "      <th>engineDisplacement</th>\n",
              "      <th>enginePower</th>\n",
              "      <th>fuelType</th>\n",
              "      <th>image</th>\n",
              "      <th>mileage</th>\n",
              "      <th>modelDate</th>\n",
              "      <th>model_name</th>\n",
              "      <th>name</th>\n",
              "      <th>numberOfDoors</th>\n",
              "      <th>priceCurrency</th>\n",
              "      <th>productionDate</th>\n",
              "      <th>vehicleConfiguration</th>\n",
              "      <th>vehicleTransmission</th>\n",
              "      <th>Владельцы</th>\n",
              "      <th>ПТС</th>\n",
              "      <th>Привод</th>\n",
              "      <th>Руль</th>\n",
              "      <th>Состояние</th>\n",
              "      <th>Таможня</th>\n",
              "      <th>price</th>\n",
              "    </tr>\n",
              "  </thead>\n",
              "  <tbody>\n",
              "    <tr>\n",
              "      <th>0</th>\n",
              "      <td>седан</td>\n",
              "      <td>MERCEDES</td>\n",
              "      <td>https://auto.ru/cars/used/sale/mercedes/e_klas...</td>\n",
              "      <td>чёрный</td>\n",
              "      <td>Автомобиль в который вложена Душа не требует о...</td>\n",
              "      <td>3.2 LTR</td>\n",
              "      <td>220 N12</td>\n",
              "      <td>бензин</td>\n",
              "      <td>https://avatars.mds.yandex.net/get-autoru-vos/...</td>\n",
              "      <td>240 000 км</td>\n",
              "      <td>1992</td>\n",
              "      <td>Mercedes-Benz E-Класс  I (W124) 320</td>\n",
              "      <td>3.2 AT</td>\n",
              "      <td>4</td>\n",
              "      <td>RUB</td>\n",
              "      <td>1994</td>\n",
              "      <td>SEDAN AUTOMATIC 3.2</td>\n",
              "      <td>автоматическая</td>\n",
              "      <td>3 или более</td>\n",
              "      <td>Оригинал</td>\n",
              "      <td>задний</td>\n",
              "      <td>Левый</td>\n",
              "      <td>Не требует ремонта</td>\n",
              "      <td>Растаможен</td>\n",
              "      <td>3 000 000 ₽</td>\n",
              "    </tr>\n",
              "    <tr>\n",
              "      <th>1</th>\n",
              "      <td>хэтчбек 5 дв.</td>\n",
              "      <td>CHEVROLET</td>\n",
              "      <td>https://auto.ru/cars/used/sale/chevrolet/aveo/...</td>\n",
              "      <td>белый</td>\n",
              "      <td>Я СОБСТВЕННИК!!! НЕ ПЕРЕКУП\\nМашина в основном...</td>\n",
              "      <td>1.6 LTR</td>\n",
              "      <td>115 N12</td>\n",
              "      <td>бензин</td>\n",
              "      <td>https://avatars.mds.yandex.net/get-autoru-vos/...</td>\n",
              "      <td>53 800 км</td>\n",
              "      <td>2011</td>\n",
              "      <td>Chevrolet Aveo II</td>\n",
              "      <td>1.6 AT</td>\n",
              "      <td>5</td>\n",
              "      <td>RUB</td>\n",
              "      <td>2013</td>\n",
              "      <td>HATCHBACK_5_DOORS AUTOMATIC 1.6</td>\n",
              "      <td>автоматическая</td>\n",
              "      <td>3 или более</td>\n",
              "      <td>Оригинал</td>\n",
              "      <td>передний</td>\n",
              "      <td>Левый</td>\n",
              "      <td>Не требует ремонта</td>\n",
              "      <td>Растаможен</td>\n",
              "      <td>638 000 ₽</td>\n",
              "    </tr>\n",
              "  </tbody>\n",
              "</table>\n",
              "</div>\n",
              "      <button class=\"colab-df-convert\" onclick=\"convertToInteractive('df-08b69f4c-2f01-4010-ab5a-299129031426')\"\n",
              "              title=\"Convert this dataframe to an interactive table.\"\n",
              "              style=\"display:none;\">\n",
              "        \n",
              "  <svg xmlns=\"http://www.w3.org/2000/svg\" height=\"24px\"viewBox=\"0 0 24 24\"\n",
              "       width=\"24px\">\n",
              "    <path d=\"M0 0h24v24H0V0z\" fill=\"none\"/>\n",
              "    <path d=\"M18.56 5.44l.94 2.06.94-2.06 2.06-.94-2.06-.94-.94-2.06-.94 2.06-2.06.94zm-11 1L8.5 8.5l.94-2.06 2.06-.94-2.06-.94L8.5 2.5l-.94 2.06-2.06.94zm10 10l.94 2.06.94-2.06 2.06-.94-2.06-.94-.94-2.06-.94 2.06-2.06.94z\"/><path d=\"M17.41 7.96l-1.37-1.37c-.4-.4-.92-.59-1.43-.59-.52 0-1.04.2-1.43.59L10.3 9.45l-7.72 7.72c-.78.78-.78 2.05 0 2.83L4 21.41c.39.39.9.59 1.41.59.51 0 1.02-.2 1.41-.59l7.78-7.78 2.81-2.81c.8-.78.8-2.07 0-2.86zM5.41 20L4 18.59l7.72-7.72 1.47 1.35L5.41 20z\"/>\n",
              "  </svg>\n",
              "      </button>\n",
              "      \n",
              "  <style>\n",
              "    .colab-df-container {\n",
              "      display:flex;\n",
              "      flex-wrap:wrap;\n",
              "      gap: 12px;\n",
              "    }\n",
              "\n",
              "    .colab-df-convert {\n",
              "      background-color: #E8F0FE;\n",
              "      border: none;\n",
              "      border-radius: 50%;\n",
              "      cursor: pointer;\n",
              "      display: none;\n",
              "      fill: #1967D2;\n",
              "      height: 32px;\n",
              "      padding: 0 0 0 0;\n",
              "      width: 32px;\n",
              "    }\n",
              "\n",
              "    .colab-df-convert:hover {\n",
              "      background-color: #E2EBFA;\n",
              "      box-shadow: 0px 1px 2px rgba(60, 64, 67, 0.3), 0px 1px 3px 1px rgba(60, 64, 67, 0.15);\n",
              "      fill: #174EA6;\n",
              "    }\n",
              "\n",
              "    [theme=dark] .colab-df-convert {\n",
              "      background-color: #3B4455;\n",
              "      fill: #D2E3FC;\n",
              "    }\n",
              "\n",
              "    [theme=dark] .colab-df-convert:hover {\n",
              "      background-color: #434B5C;\n",
              "      box-shadow: 0px 1px 3px 1px rgba(0, 0, 0, 0.15);\n",
              "      filter: drop-shadow(0px 1px 2px rgba(0, 0, 0, 0.3));\n",
              "      fill: #FFFFFF;\n",
              "    }\n",
              "  </style>\n",
              "\n",
              "      <script>\n",
              "        const buttonEl =\n",
              "          document.querySelector('#df-08b69f4c-2f01-4010-ab5a-299129031426 button.colab-df-convert');\n",
              "        buttonEl.style.display =\n",
              "          google.colab.kernel.accessAllowed ? 'block' : 'none';\n",
              "\n",
              "        async function convertToInteractive(key) {\n",
              "          const element = document.querySelector('#df-08b69f4c-2f01-4010-ab5a-299129031426');\n",
              "          const dataTable =\n",
              "            await google.colab.kernel.invokeFunction('convertToInteractive',\n",
              "                                                     [key], {});\n",
              "          if (!dataTable) return;\n",
              "\n",
              "          const docLinkHtml = 'Like what you see? Visit the ' +\n",
              "            '<a target=\"_blank\" href=https://colab.research.google.com/notebooks/data_table.ipynb>data table notebook</a>'\n",
              "            + ' to learn more about interactive tables.';\n",
              "          element.innerHTML = '';\n",
              "          dataTable['output_type'] = 'display_data';\n",
              "          await google.colab.output.renderOutput(dataTable, element);\n",
              "          const docLink = document.createElement('div');\n",
              "          docLink.innerHTML = docLinkHtml;\n",
              "          element.appendChild(docLink);\n",
              "        }\n",
              "      </script>\n",
              "    </div>\n",
              "  </div>\n",
              "  "
            ]
          },
          "metadata": {},
          "execution_count": 107
        }
      ],
      "source": [
        "train.head(2)"
      ]
    },
    {
      "cell_type": "code",
      "execution_count": 108,
      "metadata": {
        "execution": {
          "iopub.execute_input": "2021-06-06T17:14:29.899005Z",
          "iopub.status.busy": "2021-06-06T17:14:29.898380Z",
          "iopub.status.idle": "2021-06-06T17:14:30.059965Z",
          "shell.execute_reply": "2021-06-06T17:14:30.059170Z",
          "shell.execute_reply.started": "2021-06-06T16:22:32.087521Z"
        },
        "papermill": {
          "duration": 0.295387,
          "end_time": "2021-06-06T17:14:30.060084",
          "exception": false,
          "start_time": "2021-06-06T17:14:29.764697",
          "status": "completed"
        },
        "tags": [],
        "colab": {
          "base_uri": "https://localhost:8080/"
        },
        "id": "DG9933VM1zqz",
        "outputId": "c9894ddf-1515-470e-f724-35df13eabbc9"
      },
      "outputs": [
        {
          "output_type": "stream",
          "name": "stdout",
          "text": [
            "<class 'pandas.core.frame.DataFrame'>\n",
            "RangeIndex: 33531 entries, 0 to 33530\n",
            "Data columns (total 25 columns):\n",
            " #   Column                Non-Null Count  Dtype \n",
            "---  ------                --------------  ----- \n",
            " 0   bodyType              33531 non-null  object\n",
            " 1   brand                 33531 non-null  object\n",
            " 2   car_url               33531 non-null  object\n",
            " 3   color                 33531 non-null  object\n",
            " 4   description           33531 non-null  object\n",
            " 5   engineDisplacement    33531 non-null  object\n",
            " 6   enginePower           33531 non-null  object\n",
            " 7   fuelType              33531 non-null  object\n",
            " 8   image                 33531 non-null  object\n",
            " 9   mileage               33531 non-null  object\n",
            " 10  modelDate             33531 non-null  int64 \n",
            " 11  model_name            33531 non-null  object\n",
            " 12  name                  33531 non-null  object\n",
            " 13  numberOfDoors         33531 non-null  int64 \n",
            " 14  priceCurrency         33531 non-null  object\n",
            " 15  productionDate        33531 non-null  int64 \n",
            " 16  vehicleConfiguration  33531 non-null  object\n",
            " 17  vehicleTransmission   33531 non-null  object\n",
            " 18  Владельцы             33531 non-null  object\n",
            " 19  ПТС                   33531 non-null  object\n",
            " 20  Привод                33531 non-null  object\n",
            " 21  Руль                  33531 non-null  object\n",
            " 22  Состояние             33531 non-null  object\n",
            " 23  Таможня               33531 non-null  object\n",
            " 24  price                 33531 non-null  object\n",
            "dtypes: int64(3), object(22)\n",
            "memory usage: 6.4+ MB\n"
          ]
        },
        {
          "output_type": "execute_result",
          "data": {
            "text/plain": [
              "bodyType                0\n",
              "brand                   0\n",
              "car_url                 0\n",
              "color                   0\n",
              "description             0\n",
              "engineDisplacement      0\n",
              "enginePower             0\n",
              "fuelType                0\n",
              "image                   0\n",
              "mileage                 0\n",
              "modelDate               0\n",
              "model_name              0\n",
              "name                    0\n",
              "numberOfDoors           0\n",
              "priceCurrency           0\n",
              "productionDate          0\n",
              "vehicleConfiguration    0\n",
              "vehicleTransmission     0\n",
              "Владельцы               0\n",
              "ПТС                     0\n",
              "Привод                  0\n",
              "Руль                    0\n",
              "Состояние               0\n",
              "Таможня                 0\n",
              "price                   0\n",
              "dtype: int64"
            ]
          },
          "metadata": {},
          "execution_count": 108
        }
      ],
      "source": [
        "train.info()\n",
        "train.isna().sum()"
      ]
    },
    {
      "cell_type": "code",
      "execution_count": 109,
      "metadata": {
        "execution": {
          "iopub.execute_input": "2021-06-06T17:14:30.370566Z",
          "iopub.status.busy": "2021-06-06T17:14:30.369490Z",
          "iopub.status.idle": "2021-06-06T17:14:30.375108Z",
          "shell.execute_reply": "2021-06-06T17:14:30.374574Z",
          "shell.execute_reply.started": "2021-06-06T16:22:32.181514Z"
        },
        "papermill": {
          "duration": 0.161059,
          "end_time": "2021-06-06T17:14:30.375213",
          "exception": false,
          "start_time": "2021-06-06T17:14:30.214154",
          "status": "completed"
        },
        "tags": [],
        "colab": {
          "base_uri": "https://localhost:8080/",
          "height": 280
        },
        "id": "22aTE1iU1zqz",
        "outputId": "cd7b95dd-2d62-48af-ae6d-00ee545075ca"
      },
      "outputs": [
        {
          "output_type": "execute_result",
          "data": {
            "text/plain": [
              "  bodyType  brand                                            car_url   color  \\\n",
              "0  лифтбек  SKODA  https://auto.ru/cars/used/sale/skoda/octavia/1...   синий   \n",
              "1  лифтбек  SKODA  https://auto.ru/cars/used/sale/skoda/octavia/1...  чёрный   \n",
              "\n",
              "  complectation_dict                                        description  \\\n",
              "0                NaN  Все автомобили, представленные в продаже, прох...   \n",
              "1                NaN  ЛОТ: 01217195\\nАвтопрага Север\\nДанный автомоб...   \n",
              "\n",
              "  engineDisplacement enginePower  \\\n",
              "0            1.2 LTR     105 N12   \n",
              "1            1.6 LTR     110 N12   \n",
              "\n",
              "                                      equipment_dict fuelType  \\\n",
              "0  {\"engine-proof\":true,\"tinted-glass\":true,\"airb...   бензин   \n",
              "1  {\"cruise-control\":true,\"asr\":true,\"esp\":true,\"...   бензин   \n",
              "\n",
              "                                               image  mileage  modelDate  \\\n",
              "0  https://autoru.naydex.net/o9DBXQ270/5ac010hAY0...    74000       2013   \n",
              "1  https://autoru.naydex.net/o9DBXQ270/5ac010hAY0...    60563       2017   \n",
              "\n",
              "                                          model_info model_name  \\\n",
              "0  {\"code\":\"OCTAVIA\",\"name\":\"Octavia\",\"ru_name\":\"...    OCTAVIA   \n",
              "1  {\"code\":\"OCTAVIA\",\"name\":\"Octavia\",\"ru_name\":\"...    OCTAVIA   \n",
              "\n",
              "                 name  numberOfDoors  parsing_unixtime priceCurrency  \\\n",
              "0  1.2 AMT (105 л.с.)              5        1603226273           RUB   \n",
              "1   1.6 MT (110 л.с.)              5        1603226277           RUB   \n",
              "\n",
              "   productionDate     sell_id  \\\n",
              "0            2014  1100575026   \n",
              "1            2017  1100549428   \n",
              "\n",
              "                                           super_gen     vehicleConfiguration  \\\n",
              "0  {\"id\":\"10373605\",\"displacement\":1197,\"engine_t...       LIFTBACK ROBOT 1.2   \n",
              "1  {\"id\":\"20913311\",\"displacement\":1598,\"engine_t...  LIFTBACK MECHANICAL 1.6   \n",
              "\n",
              "  vehicleTransmission    vendor    Владельцы Владение       ПТС    Привод  \\\n",
              "0    роботизированная  EUROPEAN  3 или более      NaN  Оригинал  передний   \n",
              "1        механическая  EUROPEAN   1 владелец      NaN  Оригинал  передний   \n",
              "\n",
              "    Руль           Состояние     Таможня  \n",
              "0  Левый  Не требует ремонта  Растаможен  \n",
              "1  Левый  Не требует ремонта  Растаможен  "
            ],
            "text/html": [
              "\n",
              "  <div id=\"df-bbf168c6-a898-449a-b1ac-c8f5f5450999\">\n",
              "    <div class=\"colab-df-container\">\n",
              "      <div>\n",
              "<style scoped>\n",
              "    .dataframe tbody tr th:only-of-type {\n",
              "        vertical-align: middle;\n",
              "    }\n",
              "\n",
              "    .dataframe tbody tr th {\n",
              "        vertical-align: top;\n",
              "    }\n",
              "\n",
              "    .dataframe thead th {\n",
              "        text-align: right;\n",
              "    }\n",
              "</style>\n",
              "<table border=\"1\" class=\"dataframe\">\n",
              "  <thead>\n",
              "    <tr style=\"text-align: right;\">\n",
              "      <th></th>\n",
              "      <th>bodyType</th>\n",
              "      <th>brand</th>\n",
              "      <th>car_url</th>\n",
              "      <th>color</th>\n",
              "      <th>complectation_dict</th>\n",
              "      <th>description</th>\n",
              "      <th>engineDisplacement</th>\n",
              "      <th>enginePower</th>\n",
              "      <th>equipment_dict</th>\n",
              "      <th>fuelType</th>\n",
              "      <th>image</th>\n",
              "      <th>mileage</th>\n",
              "      <th>modelDate</th>\n",
              "      <th>model_info</th>\n",
              "      <th>model_name</th>\n",
              "      <th>name</th>\n",
              "      <th>numberOfDoors</th>\n",
              "      <th>parsing_unixtime</th>\n",
              "      <th>priceCurrency</th>\n",
              "      <th>productionDate</th>\n",
              "      <th>sell_id</th>\n",
              "      <th>super_gen</th>\n",
              "      <th>vehicleConfiguration</th>\n",
              "      <th>vehicleTransmission</th>\n",
              "      <th>vendor</th>\n",
              "      <th>Владельцы</th>\n",
              "      <th>Владение</th>\n",
              "      <th>ПТС</th>\n",
              "      <th>Привод</th>\n",
              "      <th>Руль</th>\n",
              "      <th>Состояние</th>\n",
              "      <th>Таможня</th>\n",
              "    </tr>\n",
              "  </thead>\n",
              "  <tbody>\n",
              "    <tr>\n",
              "      <th>0</th>\n",
              "      <td>лифтбек</td>\n",
              "      <td>SKODA</td>\n",
              "      <td>https://auto.ru/cars/used/sale/skoda/octavia/1...</td>\n",
              "      <td>синий</td>\n",
              "      <td>NaN</td>\n",
              "      <td>Все автомобили, представленные в продаже, прох...</td>\n",
              "      <td>1.2 LTR</td>\n",
              "      <td>105 N12</td>\n",
              "      <td>{\"engine-proof\":true,\"tinted-glass\":true,\"airb...</td>\n",
              "      <td>бензин</td>\n",
              "      <td>https://autoru.naydex.net/o9DBXQ270/5ac010hAY0...</td>\n",
              "      <td>74000</td>\n",
              "      <td>2013</td>\n",
              "      <td>{\"code\":\"OCTAVIA\",\"name\":\"Octavia\",\"ru_name\":\"...</td>\n",
              "      <td>OCTAVIA</td>\n",
              "      <td>1.2 AMT (105 л.с.)</td>\n",
              "      <td>5</td>\n",
              "      <td>1603226273</td>\n",
              "      <td>RUB</td>\n",
              "      <td>2014</td>\n",
              "      <td>1100575026</td>\n",
              "      <td>{\"id\":\"10373605\",\"displacement\":1197,\"engine_t...</td>\n",
              "      <td>LIFTBACK ROBOT 1.2</td>\n",
              "      <td>роботизированная</td>\n",
              "      <td>EUROPEAN</td>\n",
              "      <td>3 или более</td>\n",
              "      <td>NaN</td>\n",
              "      <td>Оригинал</td>\n",
              "      <td>передний</td>\n",
              "      <td>Левый</td>\n",
              "      <td>Не требует ремонта</td>\n",
              "      <td>Растаможен</td>\n",
              "    </tr>\n",
              "    <tr>\n",
              "      <th>1</th>\n",
              "      <td>лифтбек</td>\n",
              "      <td>SKODA</td>\n",
              "      <td>https://auto.ru/cars/used/sale/skoda/octavia/1...</td>\n",
              "      <td>чёрный</td>\n",
              "      <td>NaN</td>\n",
              "      <td>ЛОТ: 01217195\\nАвтопрага Север\\nДанный автомоб...</td>\n",
              "      <td>1.6 LTR</td>\n",
              "      <td>110 N12</td>\n",
              "      <td>{\"cruise-control\":true,\"asr\":true,\"esp\":true,\"...</td>\n",
              "      <td>бензин</td>\n",
              "      <td>https://autoru.naydex.net/o9DBXQ270/5ac010hAY0...</td>\n",
              "      <td>60563</td>\n",
              "      <td>2017</td>\n",
              "      <td>{\"code\":\"OCTAVIA\",\"name\":\"Octavia\",\"ru_name\":\"...</td>\n",
              "      <td>OCTAVIA</td>\n",
              "      <td>1.6 MT (110 л.с.)</td>\n",
              "      <td>5</td>\n",
              "      <td>1603226277</td>\n",
              "      <td>RUB</td>\n",
              "      <td>2017</td>\n",
              "      <td>1100549428</td>\n",
              "      <td>{\"id\":\"20913311\",\"displacement\":1598,\"engine_t...</td>\n",
              "      <td>LIFTBACK MECHANICAL 1.6</td>\n",
              "      <td>механическая</td>\n",
              "      <td>EUROPEAN</td>\n",
              "      <td>1 владелец</td>\n",
              "      <td>NaN</td>\n",
              "      <td>Оригинал</td>\n",
              "      <td>передний</td>\n",
              "      <td>Левый</td>\n",
              "      <td>Не требует ремонта</td>\n",
              "      <td>Растаможен</td>\n",
              "    </tr>\n",
              "  </tbody>\n",
              "</table>\n",
              "</div>\n",
              "      <button class=\"colab-df-convert\" onclick=\"convertToInteractive('df-bbf168c6-a898-449a-b1ac-c8f5f5450999')\"\n",
              "              title=\"Convert this dataframe to an interactive table.\"\n",
              "              style=\"display:none;\">\n",
              "        \n",
              "  <svg xmlns=\"http://www.w3.org/2000/svg\" height=\"24px\"viewBox=\"0 0 24 24\"\n",
              "       width=\"24px\">\n",
              "    <path d=\"M0 0h24v24H0V0z\" fill=\"none\"/>\n",
              "    <path d=\"M18.56 5.44l.94 2.06.94-2.06 2.06-.94-2.06-.94-.94-2.06-.94 2.06-2.06.94zm-11 1L8.5 8.5l.94-2.06 2.06-.94-2.06-.94L8.5 2.5l-.94 2.06-2.06.94zm10 10l.94 2.06.94-2.06 2.06-.94-2.06-.94-.94-2.06-.94 2.06-2.06.94z\"/><path d=\"M17.41 7.96l-1.37-1.37c-.4-.4-.92-.59-1.43-.59-.52 0-1.04.2-1.43.59L10.3 9.45l-7.72 7.72c-.78.78-.78 2.05 0 2.83L4 21.41c.39.39.9.59 1.41.59.51 0 1.02-.2 1.41-.59l7.78-7.78 2.81-2.81c.8-.78.8-2.07 0-2.86zM5.41 20L4 18.59l7.72-7.72 1.47 1.35L5.41 20z\"/>\n",
              "  </svg>\n",
              "      </button>\n",
              "      \n",
              "  <style>\n",
              "    .colab-df-container {\n",
              "      display:flex;\n",
              "      flex-wrap:wrap;\n",
              "      gap: 12px;\n",
              "    }\n",
              "\n",
              "    .colab-df-convert {\n",
              "      background-color: #E8F0FE;\n",
              "      border: none;\n",
              "      border-radius: 50%;\n",
              "      cursor: pointer;\n",
              "      display: none;\n",
              "      fill: #1967D2;\n",
              "      height: 32px;\n",
              "      padding: 0 0 0 0;\n",
              "      width: 32px;\n",
              "    }\n",
              "\n",
              "    .colab-df-convert:hover {\n",
              "      background-color: #E2EBFA;\n",
              "      box-shadow: 0px 1px 2px rgba(60, 64, 67, 0.3), 0px 1px 3px 1px rgba(60, 64, 67, 0.15);\n",
              "      fill: #174EA6;\n",
              "    }\n",
              "\n",
              "    [theme=dark] .colab-df-convert {\n",
              "      background-color: #3B4455;\n",
              "      fill: #D2E3FC;\n",
              "    }\n",
              "\n",
              "    [theme=dark] .colab-df-convert:hover {\n",
              "      background-color: #434B5C;\n",
              "      box-shadow: 0px 1px 3px 1px rgba(0, 0, 0, 0.15);\n",
              "      filter: drop-shadow(0px 1px 2px rgba(0, 0, 0, 0.3));\n",
              "      fill: #FFFFFF;\n",
              "    }\n",
              "  </style>\n",
              "\n",
              "      <script>\n",
              "        const buttonEl =\n",
              "          document.querySelector('#df-bbf168c6-a898-449a-b1ac-c8f5f5450999 button.colab-df-convert');\n",
              "        buttonEl.style.display =\n",
              "          google.colab.kernel.accessAllowed ? 'block' : 'none';\n",
              "\n",
              "        async function convertToInteractive(key) {\n",
              "          const element = document.querySelector('#df-bbf168c6-a898-449a-b1ac-c8f5f5450999');\n",
              "          const dataTable =\n",
              "            await google.colab.kernel.invokeFunction('convertToInteractive',\n",
              "                                                     [key], {});\n",
              "          if (!dataTable) return;\n",
              "\n",
              "          const docLinkHtml = 'Like what you see? Visit the ' +\n",
              "            '<a target=\"_blank\" href=https://colab.research.google.com/notebooks/data_table.ipynb>data table notebook</a>'\n",
              "            + ' to learn more about interactive tables.';\n",
              "          element.innerHTML = '';\n",
              "          dataTable['output_type'] = 'display_data';\n",
              "          await google.colab.output.renderOutput(dataTable, element);\n",
              "          const docLink = document.createElement('div');\n",
              "          docLink.innerHTML = docLinkHtml;\n",
              "          element.appendChild(docLink);\n",
              "        }\n",
              "      </script>\n",
              "    </div>\n",
              "  </div>\n",
              "  "
            ]
          },
          "metadata": {},
          "execution_count": 109
        }
      ],
      "source": [
        "test.head(2)"
      ]
    },
    {
      "cell_type": "code",
      "execution_count": 110,
      "metadata": {
        "execution": {
          "iopub.execute_input": "2021-06-06T17:14:30.728289Z",
          "iopub.status.busy": "2021-06-06T17:14:30.727050Z",
          "iopub.status.idle": "2021-06-06T17:14:30.828643Z",
          "shell.execute_reply": "2021-06-06T17:14:30.829100Z",
          "shell.execute_reply.started": "2021-06-06T16:22:32.210454Z"
        },
        "papermill": {
          "duration": 0.322346,
          "end_time": "2021-06-06T17:14:30.829244",
          "exception": false,
          "start_time": "2021-06-06T17:14:30.506898",
          "status": "completed"
        },
        "tags": [],
        "colab": {
          "base_uri": "https://localhost:8080/"
        },
        "id": "6QHl26Is1zqz",
        "outputId": "d04b00d1-2a50-490f-ac9f-50b8a53c403c"
      },
      "outputs": [
        {
          "output_type": "stream",
          "name": "stdout",
          "text": [
            "<class 'pandas.core.frame.DataFrame'>\n",
            "RangeIndex: 34686 entries, 0 to 34685\n",
            "Data columns (total 32 columns):\n",
            " #   Column                Non-Null Count  Dtype \n",
            "---  ------                --------------  ----- \n",
            " 0   bodyType              34686 non-null  object\n",
            " 1   brand                 34686 non-null  object\n",
            " 2   car_url               34686 non-null  object\n",
            " 3   color                 34686 non-null  object\n",
            " 4   complectation_dict    6418 non-null   object\n",
            " 5   description           34686 non-null  object\n",
            " 6   engineDisplacement    34686 non-null  object\n",
            " 7   enginePower           34686 non-null  object\n",
            " 8   equipment_dict        24690 non-null  object\n",
            " 9   fuelType              34686 non-null  object\n",
            " 10  image                 34686 non-null  object\n",
            " 11  mileage               34686 non-null  int64 \n",
            " 12  modelDate             34686 non-null  int64 \n",
            " 13  model_info            34686 non-null  object\n",
            " 14  model_name            34686 non-null  object\n",
            " 15  name                  34686 non-null  object\n",
            " 16  numberOfDoors         34686 non-null  int64 \n",
            " 17  parsing_unixtime      34686 non-null  int64 \n",
            " 18  priceCurrency         34686 non-null  object\n",
            " 19  productionDate        34686 non-null  int64 \n",
            " 20  sell_id               34686 non-null  int64 \n",
            " 21  super_gen             34686 non-null  object\n",
            " 22  vehicleConfiguration  34686 non-null  object\n",
            " 23  vehicleTransmission   34686 non-null  object\n",
            " 24  vendor                34686 non-null  object\n",
            " 25  Владельцы             34686 non-null  object\n",
            " 26  Владение              11995 non-null  object\n",
            " 27  ПТС                   34685 non-null  object\n",
            " 28  Привод                34686 non-null  object\n",
            " 29  Руль                  34686 non-null  object\n",
            " 30  Состояние             34686 non-null  object\n",
            " 31  Таможня               34686 non-null  object\n",
            "dtypes: int64(6), object(26)\n",
            "memory usage: 8.5+ MB\n"
          ]
        },
        {
          "output_type": "execute_result",
          "data": {
            "text/plain": [
              "bodyType                    0\n",
              "brand                       0\n",
              "car_url                     0\n",
              "color                       0\n",
              "complectation_dict      28268\n",
              "description                 0\n",
              "engineDisplacement          0\n",
              "enginePower                 0\n",
              "equipment_dict           9996\n",
              "fuelType                    0\n",
              "image                       0\n",
              "mileage                     0\n",
              "modelDate                   0\n",
              "model_info                  0\n",
              "model_name                  0\n",
              "name                        0\n",
              "numberOfDoors               0\n",
              "parsing_unixtime            0\n",
              "priceCurrency               0\n",
              "productionDate              0\n",
              "sell_id                     0\n",
              "super_gen                   0\n",
              "vehicleConfiguration        0\n",
              "vehicleTransmission         0\n",
              "vendor                      0\n",
              "Владельцы                   0\n",
              "Владение                22691\n",
              "ПТС                         1\n",
              "Привод                      0\n",
              "Руль                        0\n",
              "Состояние                   0\n",
              "Таможня                     0\n",
              "dtype: int64"
            ]
          },
          "metadata": {},
          "execution_count": 110
        }
      ],
      "source": [
        "test.info()\n",
        "test.isna().sum()"
      ]
    },
    {
      "cell_type": "code",
      "execution_count": 111,
      "metadata": {
        "execution": {
          "iopub.execute_input": "2021-06-06T17:14:31.128205Z",
          "iopub.status.busy": "2021-06-06T17:14:31.127148Z",
          "iopub.status.idle": "2021-06-06T17:14:31.164103Z",
          "shell.execute_reply": "2021-06-06T17:14:31.164596Z",
          "shell.execute_reply.started": "2021-06-06T16:22:32.330203Z"
        },
        "papermill": {
          "duration": 0.202076,
          "end_time": "2021-06-06T17:14:31.164754",
          "exception": false,
          "start_time": "2021-06-06T17:14:30.962678",
          "status": "completed"
        },
        "tags": [],
        "colab": {
          "base_uri": "https://localhost:8080/",
          "height": 980
        },
        "id": "TqZ3jfXE1zqz",
        "outputId": "94b61acb-e7af-4ef0-93b0-013f5451f092"
      },
      "outputs": [
        {
          "output_type": "stream",
          "name": "stdout",
          "text": [
            "Train set shape:  (33531, 25)\n"
          ]
        },
        {
          "output_type": "display_data",
          "data": {
            "text/plain": [
              "            bodyType        brand  \\\n",
              "0              седан     MERCEDES   \n",
              "1      хэтчбек 5 дв.    CHEVROLET   \n",
              "2  внедорожник 5 дв.  LAMBORGHINI   \n",
              "3              седан          BMW   \n",
              "4               купе      MCLAREN   \n",
              "\n",
              "                                             car_url   color  \\\n",
              "0  https://auto.ru/cars/used/sale/mercedes/e_klas...  чёрный   \n",
              "1  https://auto.ru/cars/used/sale/chevrolet/aveo/...   белый   \n",
              "2  https://auto.ru/cars/used/sale/lamborghini/uru...  жёлтый   \n",
              "3  https://auto.ru/cars/used/sale/bmw/m3/11034070...   синий   \n",
              "4  https://auto.ru/cars/used/sale/mclaren/720s/11...  чёрный   \n",
              "\n",
              "                                         description engineDisplacement  \\\n",
              "0  Автомобиль в который вложена Душа не требует о...            3.2 LTR   \n",
              "1  Я СОБСТВЕННИК!!! НЕ ПЕРЕКУП\\nМашина в основном...            1.6 LTR   \n",
              "2  Год выпуска: 2019. Пробег: 40 100 км. Кузов: в...            4.0 LTR   \n",
              "3  M3 2016 Рестайлинг,Individual в цвете tanzanit...            3.0 LTR   \n",
              "4  В продаже McLaren 720S Perfomance, в идеальном...            4.0 LTR   \n",
              "\n",
              "  enginePower fuelType                                              image  \\\n",
              "0     220 N12   бензин  https://avatars.mds.yandex.net/get-autoru-vos/...   \n",
              "1     115 N12   бензин  https://avatars.mds.yandex.net/get-autoru-vos/...   \n",
              "2     650 N12   бензин  https://autoru.naydex.net/dVb17C804/f1af98yqCU...   \n",
              "3     431 N12   бензин  https://autoru.naydex.net/dVb17C804/f1af98yqCU...   \n",
              "4     720 N12   бензин  https://avatars.mds.yandex.net/get-autoru-vos/...   \n",
              "\n",
              "      mileage  modelDate                           model_name     name  \\\n",
              "0  240 000 км       1992  Mercedes-Benz E-Класс  I (W124) 320   3.2 AT   \n",
              "1   53 800 км       2011                    Chevrolet Aveo II   1.6 AT   \n",
              "2   40 100 км       2017                   Lamborghini Urus I   4.0 AT   \n",
              "3   50 000 км       2014                       BMW M3 V (F80)  3.0 AMT   \n",
              "4    4 500 км       2017                         McLaren 720S  4.0 AMT   \n",
              "\n",
              "   numberOfDoors priceCurrency  productionDate  \\\n",
              "0              4           RUB            1994   \n",
              "1              5           RUB            2013   \n",
              "2              5           RUB            2019   \n",
              "3              4           RUB            2016   \n",
              "4              2           RUB            2018   \n",
              "\n",
              "              vehicleConfiguration vehicleTransmission    Владельцы       ПТС  \\\n",
              "0              SEDAN AUTOMATIC 3.2      автоматическая  3 или более  Оригинал   \n",
              "1  HATCHBACK_5_DOORS AUTOMATIC 1.6      автоматическая  3 или более  Оригинал   \n",
              "2    ALLROAD_5_DOORS AUTOMATIC 4.0      автоматическая   1 владелец  Оригинал   \n",
              "3                  SEDAN ROBOT 3.0    роботизированная  2 владельца  Оригинал   \n",
              "4                  COUPE ROBOT 4.0    роботизированная   1 владелец  Оригинал   \n",
              "\n",
              "     Привод   Руль           Состояние     Таможня         price  \n",
              "0    задний  Левый  Не требует ремонта  Растаможен   3 000 000 ₽  \n",
              "1  передний  Левый  Не требует ремонта  Растаможен     638 000 ₽  \n",
              "2    полный  Левый  Не требует ремонта  Растаможен  22 000 000 ₽  \n",
              "3    задний  Левый  Не требует ремонта  Растаможен   4 740 000 ₽  \n",
              "4    задний  Левый  Не требует ремонта  Растаможен  22 500 000 ₽  "
            ],
            "text/html": [
              "\n",
              "  <div id=\"df-4456354a-9d8c-464a-8420-4e20f2306bdb\">\n",
              "    <div class=\"colab-df-container\">\n",
              "      <div>\n",
              "<style scoped>\n",
              "    .dataframe tbody tr th:only-of-type {\n",
              "        vertical-align: middle;\n",
              "    }\n",
              "\n",
              "    .dataframe tbody tr th {\n",
              "        vertical-align: top;\n",
              "    }\n",
              "\n",
              "    .dataframe thead th {\n",
              "        text-align: right;\n",
              "    }\n",
              "</style>\n",
              "<table border=\"1\" class=\"dataframe\">\n",
              "  <thead>\n",
              "    <tr style=\"text-align: right;\">\n",
              "      <th></th>\n",
              "      <th>bodyType</th>\n",
              "      <th>brand</th>\n",
              "      <th>car_url</th>\n",
              "      <th>color</th>\n",
              "      <th>description</th>\n",
              "      <th>engineDisplacement</th>\n",
              "      <th>enginePower</th>\n",
              "      <th>fuelType</th>\n",
              "      <th>image</th>\n",
              "      <th>mileage</th>\n",
              "      <th>modelDate</th>\n",
              "      <th>model_name</th>\n",
              "      <th>name</th>\n",
              "      <th>numberOfDoors</th>\n",
              "      <th>priceCurrency</th>\n",
              "      <th>productionDate</th>\n",
              "      <th>vehicleConfiguration</th>\n",
              "      <th>vehicleTransmission</th>\n",
              "      <th>Владельцы</th>\n",
              "      <th>ПТС</th>\n",
              "      <th>Привод</th>\n",
              "      <th>Руль</th>\n",
              "      <th>Состояние</th>\n",
              "      <th>Таможня</th>\n",
              "      <th>price</th>\n",
              "    </tr>\n",
              "  </thead>\n",
              "  <tbody>\n",
              "    <tr>\n",
              "      <th>0</th>\n",
              "      <td>седан</td>\n",
              "      <td>MERCEDES</td>\n",
              "      <td>https://auto.ru/cars/used/sale/mercedes/e_klas...</td>\n",
              "      <td>чёрный</td>\n",
              "      <td>Автомобиль в который вложена Душа не требует о...</td>\n",
              "      <td>3.2 LTR</td>\n",
              "      <td>220 N12</td>\n",
              "      <td>бензин</td>\n",
              "      <td>https://avatars.mds.yandex.net/get-autoru-vos/...</td>\n",
              "      <td>240 000 км</td>\n",
              "      <td>1992</td>\n",
              "      <td>Mercedes-Benz E-Класс  I (W124) 320</td>\n",
              "      <td>3.2 AT</td>\n",
              "      <td>4</td>\n",
              "      <td>RUB</td>\n",
              "      <td>1994</td>\n",
              "      <td>SEDAN AUTOMATIC 3.2</td>\n",
              "      <td>автоматическая</td>\n",
              "      <td>3 или более</td>\n",
              "      <td>Оригинал</td>\n",
              "      <td>задний</td>\n",
              "      <td>Левый</td>\n",
              "      <td>Не требует ремонта</td>\n",
              "      <td>Растаможен</td>\n",
              "      <td>3 000 000 ₽</td>\n",
              "    </tr>\n",
              "    <tr>\n",
              "      <th>1</th>\n",
              "      <td>хэтчбек 5 дв.</td>\n",
              "      <td>CHEVROLET</td>\n",
              "      <td>https://auto.ru/cars/used/sale/chevrolet/aveo/...</td>\n",
              "      <td>белый</td>\n",
              "      <td>Я СОБСТВЕННИК!!! НЕ ПЕРЕКУП\\nМашина в основном...</td>\n",
              "      <td>1.6 LTR</td>\n",
              "      <td>115 N12</td>\n",
              "      <td>бензин</td>\n",
              "      <td>https://avatars.mds.yandex.net/get-autoru-vos/...</td>\n",
              "      <td>53 800 км</td>\n",
              "      <td>2011</td>\n",
              "      <td>Chevrolet Aveo II</td>\n",
              "      <td>1.6 AT</td>\n",
              "      <td>5</td>\n",
              "      <td>RUB</td>\n",
              "      <td>2013</td>\n",
              "      <td>HATCHBACK_5_DOORS AUTOMATIC 1.6</td>\n",
              "      <td>автоматическая</td>\n",
              "      <td>3 или более</td>\n",
              "      <td>Оригинал</td>\n",
              "      <td>передний</td>\n",
              "      <td>Левый</td>\n",
              "      <td>Не требует ремонта</td>\n",
              "      <td>Растаможен</td>\n",
              "      <td>638 000 ₽</td>\n",
              "    </tr>\n",
              "    <tr>\n",
              "      <th>2</th>\n",
              "      <td>внедорожник 5 дв.</td>\n",
              "      <td>LAMBORGHINI</td>\n",
              "      <td>https://auto.ru/cars/used/sale/lamborghini/uru...</td>\n",
              "      <td>жёлтый</td>\n",
              "      <td>Год выпуска: 2019. Пробег: 40 100 км. Кузов: в...</td>\n",
              "      <td>4.0 LTR</td>\n",
              "      <td>650 N12</td>\n",
              "      <td>бензин</td>\n",
              "      <td>https://autoru.naydex.net/dVb17C804/f1af98yqCU...</td>\n",
              "      <td>40 100 км</td>\n",
              "      <td>2017</td>\n",
              "      <td>Lamborghini Urus I</td>\n",
              "      <td>4.0 AT</td>\n",
              "      <td>5</td>\n",
              "      <td>RUB</td>\n",
              "      <td>2019</td>\n",
              "      <td>ALLROAD_5_DOORS AUTOMATIC 4.0</td>\n",
              "      <td>автоматическая</td>\n",
              "      <td>1 владелец</td>\n",
              "      <td>Оригинал</td>\n",
              "      <td>полный</td>\n",
              "      <td>Левый</td>\n",
              "      <td>Не требует ремонта</td>\n",
              "      <td>Растаможен</td>\n",
              "      <td>22 000 000 ₽</td>\n",
              "    </tr>\n",
              "    <tr>\n",
              "      <th>3</th>\n",
              "      <td>седан</td>\n",
              "      <td>BMW</td>\n",
              "      <td>https://auto.ru/cars/used/sale/bmw/m3/11034070...</td>\n",
              "      <td>синий</td>\n",
              "      <td>M3 2016 Рестайлинг,Individual в цвете tanzanit...</td>\n",
              "      <td>3.0 LTR</td>\n",
              "      <td>431 N12</td>\n",
              "      <td>бензин</td>\n",
              "      <td>https://autoru.naydex.net/dVb17C804/f1af98yqCU...</td>\n",
              "      <td>50 000 км</td>\n",
              "      <td>2014</td>\n",
              "      <td>BMW M3 V (F80)</td>\n",
              "      <td>3.0 AMT</td>\n",
              "      <td>4</td>\n",
              "      <td>RUB</td>\n",
              "      <td>2016</td>\n",
              "      <td>SEDAN ROBOT 3.0</td>\n",
              "      <td>роботизированная</td>\n",
              "      <td>2 владельца</td>\n",
              "      <td>Оригинал</td>\n",
              "      <td>задний</td>\n",
              "      <td>Левый</td>\n",
              "      <td>Не требует ремонта</td>\n",
              "      <td>Растаможен</td>\n",
              "      <td>4 740 000 ₽</td>\n",
              "    </tr>\n",
              "    <tr>\n",
              "      <th>4</th>\n",
              "      <td>купе</td>\n",
              "      <td>MCLAREN</td>\n",
              "      <td>https://auto.ru/cars/used/sale/mclaren/720s/11...</td>\n",
              "      <td>чёрный</td>\n",
              "      <td>В продаже McLaren 720S Perfomance, в идеальном...</td>\n",
              "      <td>4.0 LTR</td>\n",
              "      <td>720 N12</td>\n",
              "      <td>бензин</td>\n",
              "      <td>https://avatars.mds.yandex.net/get-autoru-vos/...</td>\n",
              "      <td>4 500 км</td>\n",
              "      <td>2017</td>\n",
              "      <td>McLaren 720S</td>\n",
              "      <td>4.0 AMT</td>\n",
              "      <td>2</td>\n",
              "      <td>RUB</td>\n",
              "      <td>2018</td>\n",
              "      <td>COUPE ROBOT 4.0</td>\n",
              "      <td>роботизированная</td>\n",
              "      <td>1 владелец</td>\n",
              "      <td>Оригинал</td>\n",
              "      <td>задний</td>\n",
              "      <td>Левый</td>\n",
              "      <td>Не требует ремонта</td>\n",
              "      <td>Растаможен</td>\n",
              "      <td>22 500 000 ₽</td>\n",
              "    </tr>\n",
              "  </tbody>\n",
              "</table>\n",
              "</div>\n",
              "      <button class=\"colab-df-convert\" onclick=\"convertToInteractive('df-4456354a-9d8c-464a-8420-4e20f2306bdb')\"\n",
              "              title=\"Convert this dataframe to an interactive table.\"\n",
              "              style=\"display:none;\">\n",
              "        \n",
              "  <svg xmlns=\"http://www.w3.org/2000/svg\" height=\"24px\"viewBox=\"0 0 24 24\"\n",
              "       width=\"24px\">\n",
              "    <path d=\"M0 0h24v24H0V0z\" fill=\"none\"/>\n",
              "    <path d=\"M18.56 5.44l.94 2.06.94-2.06 2.06-.94-2.06-.94-.94-2.06-.94 2.06-2.06.94zm-11 1L8.5 8.5l.94-2.06 2.06-.94-2.06-.94L8.5 2.5l-.94 2.06-2.06.94zm10 10l.94 2.06.94-2.06 2.06-.94-2.06-.94-.94-2.06-.94 2.06-2.06.94z\"/><path d=\"M17.41 7.96l-1.37-1.37c-.4-.4-.92-.59-1.43-.59-.52 0-1.04.2-1.43.59L10.3 9.45l-7.72 7.72c-.78.78-.78 2.05 0 2.83L4 21.41c.39.39.9.59 1.41.59.51 0 1.02-.2 1.41-.59l7.78-7.78 2.81-2.81c.8-.78.8-2.07 0-2.86zM5.41 20L4 18.59l7.72-7.72 1.47 1.35L5.41 20z\"/>\n",
              "  </svg>\n",
              "      </button>\n",
              "      \n",
              "  <style>\n",
              "    .colab-df-container {\n",
              "      display:flex;\n",
              "      flex-wrap:wrap;\n",
              "      gap: 12px;\n",
              "    }\n",
              "\n",
              "    .colab-df-convert {\n",
              "      background-color: #E8F0FE;\n",
              "      border: none;\n",
              "      border-radius: 50%;\n",
              "      cursor: pointer;\n",
              "      display: none;\n",
              "      fill: #1967D2;\n",
              "      height: 32px;\n",
              "      padding: 0 0 0 0;\n",
              "      width: 32px;\n",
              "    }\n",
              "\n",
              "    .colab-df-convert:hover {\n",
              "      background-color: #E2EBFA;\n",
              "      box-shadow: 0px 1px 2px rgba(60, 64, 67, 0.3), 0px 1px 3px 1px rgba(60, 64, 67, 0.15);\n",
              "      fill: #174EA6;\n",
              "    }\n",
              "\n",
              "    [theme=dark] .colab-df-convert {\n",
              "      background-color: #3B4455;\n",
              "      fill: #D2E3FC;\n",
              "    }\n",
              "\n",
              "    [theme=dark] .colab-df-convert:hover {\n",
              "      background-color: #434B5C;\n",
              "      box-shadow: 0px 1px 3px 1px rgba(0, 0, 0, 0.15);\n",
              "      filter: drop-shadow(0px 1px 2px rgba(0, 0, 0, 0.3));\n",
              "      fill: #FFFFFF;\n",
              "    }\n",
              "  </style>\n",
              "\n",
              "      <script>\n",
              "        const buttonEl =\n",
              "          document.querySelector('#df-4456354a-9d8c-464a-8420-4e20f2306bdb button.colab-df-convert');\n",
              "        buttonEl.style.display =\n",
              "          google.colab.kernel.accessAllowed ? 'block' : 'none';\n",
              "\n",
              "        async function convertToInteractive(key) {\n",
              "          const element = document.querySelector('#df-4456354a-9d8c-464a-8420-4e20f2306bdb');\n",
              "          const dataTable =\n",
              "            await google.colab.kernel.invokeFunction('convertToInteractive',\n",
              "                                                     [key], {});\n",
              "          if (!dataTable) return;\n",
              "\n",
              "          const docLinkHtml = 'Like what you see? Visit the ' +\n",
              "            '<a target=\"_blank\" href=https://colab.research.google.com/notebooks/data_table.ipynb>data table notebook</a>'\n",
              "            + ' to learn more about interactive tables.';\n",
              "          element.innerHTML = '';\n",
              "          dataTable['output_type'] = 'display_data';\n",
              "          await google.colab.output.renderOutput(dataTable, element);\n",
              "          const docLink = document.createElement('div');\n",
              "          docLink.innerHTML = docLinkHtml;\n",
              "          element.appendChild(docLink);\n",
              "        }\n",
              "      </script>\n",
              "    </div>\n",
              "  </div>\n",
              "  "
            ]
          },
          "metadata": {}
        },
        {
          "output_type": "stream",
          "name": "stdout",
          "text": [
            "Test set shape:  (34686, 32)\n"
          ]
        },
        {
          "output_type": "display_data",
          "data": {
            "text/plain": [
              "  bodyType  brand                                            car_url  \\\n",
              "0  лифтбек  SKODA  https://auto.ru/cars/used/sale/skoda/octavia/1...   \n",
              "1  лифтбек  SKODA  https://auto.ru/cars/used/sale/skoda/octavia/1...   \n",
              "2  лифтбек  SKODA  https://auto.ru/cars/used/sale/skoda/superb/11...   \n",
              "3  лифтбек  SKODA  https://auto.ru/cars/used/sale/skoda/octavia/1...   \n",
              "4  лифтбек  SKODA  https://auto.ru/cars/used/sale/skoda/octavia/1...   \n",
              "\n",
              "        color                                 complectation_dict  \\\n",
              "0       синий                                                NaN   \n",
              "1      чёрный                                                NaN   \n",
              "2       серый  {\"id\":\"20026336\",\"name\":\"Ambition\",\"available_...   \n",
              "3  коричневый  {\"id\":\"20803582\",\"name\":\"Ambition\",\"available_...   \n",
              "4       белый                                                NaN   \n",
              "\n",
              "                                         description engineDisplacement  \\\n",
              "0  Все автомобили, представленные в продаже, прох...            1.2 LTR   \n",
              "1  ЛОТ: 01217195\\nАвтопрага Север\\nДанный автомоб...            1.6 LTR   \n",
              "2  Все автомобили, представленные в продаже, прох...            1.8 LTR   \n",
              "3  КОМПЛЕКТ ЗИМНЕЙ (ЛЕТНЕЙ) РЕЗИНЫ ПО СЕЗОНУ В ПО...            1.6 LTR   \n",
              "4  ЛОТ: 01220889\\nАвтопрага Север\\n\\nВы можете по...            1.8 LTR   \n",
              "\n",
              "  enginePower                                     equipment_dict fuelType  \\\n",
              "0     105 N12  {\"engine-proof\":true,\"tinted-glass\":true,\"airb...   бензин   \n",
              "1     110 N12  {\"cruise-control\":true,\"asr\":true,\"esp\":true,\"...   бензин   \n",
              "2     152 N12  {\"cruise-control\":true,\"tinted-glass\":true,\"es...   бензин   \n",
              "3     110 N12  {\"cruise-control\":true,\"roller-blind-for-rear-...   бензин   \n",
              "4     152 N12  {\"cruise-control\":true,\"asr\":true,\"esp\":true,\"...   бензин   \n",
              "\n",
              "                                               image  mileage  modelDate  \\\n",
              "0  https://autoru.naydex.net/o9DBXQ270/5ac010hAY0...    74000       2013   \n",
              "1  https://autoru.naydex.net/o9DBXQ270/5ac010hAY0...    60563       2017   \n",
              "2  https://avatars.mds.yandex.net/get-autoru-vos/...    88000       2013   \n",
              "3  https://autoru.naydex.net/o9DBXQ270/5ac010hAY0...    95000       2013   \n",
              "4  https://autoru.naydex.net/o9DBXQ270/5ac010hAY0...    58536       2008   \n",
              "\n",
              "                                          model_info model_name  \\\n",
              "0  {\"code\":\"OCTAVIA\",\"name\":\"Octavia\",\"ru_name\":\"...    OCTAVIA   \n",
              "1  {\"code\":\"OCTAVIA\",\"name\":\"Octavia\",\"ru_name\":\"...    OCTAVIA   \n",
              "2  {\"code\":\"SUPERB\",\"name\":\"Superb\",\"ru_name\":\"Су...     SUPERB   \n",
              "3  {\"code\":\"OCTAVIA\",\"name\":\"Octavia\",\"ru_name\":\"...    OCTAVIA   \n",
              "4  {\"code\":\"OCTAVIA\",\"name\":\"Octavia\",\"ru_name\":\"...    OCTAVIA   \n",
              "\n",
              "                     name  numberOfDoors  parsing_unixtime priceCurrency  \\\n",
              "0      1.2 AMT (105 л.с.)              5        1603226273           RUB   \n",
              "1       1.6 MT (110 л.с.)              5        1603226277           RUB   \n",
              "2  DSG 1.8 AMT (152 л.с.)              5        1603226280           RUB   \n",
              "3       1.6 AT (110 л.с.)              5        1603226284           RUB   \n",
              "4       1.8 AT (152 л.с.)              5        1603226288           RUB   \n",
              "\n",
              "   productionDate     sell_id  \\\n",
              "0            2014  1100575026   \n",
              "1            2017  1100549428   \n",
              "2            2014  1100658222   \n",
              "3            2014  1100937408   \n",
              "4            2012  1101037972   \n",
              "\n",
              "                                           super_gen     vehicleConfiguration  \\\n",
              "0  {\"id\":\"10373605\",\"displacement\":1197,\"engine_t...       LIFTBACK ROBOT 1.2   \n",
              "1  {\"id\":\"20913311\",\"displacement\":1598,\"engine_t...  LIFTBACK MECHANICAL 1.6   \n",
              "2  {\"id\":\"20026323\",\"nameplate\":\"DSG\",\"displaceme...       LIFTBACK ROBOT 1.8   \n",
              "3  {\"id\":\"20105521\",\"displacement\":1598,\"engine_t...   LIFTBACK AUTOMATIC 1.6   \n",
              "4  {\"id\":\"4561004\",\"displacement\":1798,\"engine_ty...   LIFTBACK AUTOMATIC 1.8   \n",
              "\n",
              "  vehicleTransmission    vendor    Владельцы Владение       ПТС    Привод  \\\n",
              "0    роботизированная  EUROPEAN  3 или более      NaN  Оригинал  передний   \n",
              "1        механическая  EUROPEAN   1 владелец      NaN  Оригинал  передний   \n",
              "2    роботизированная  EUROPEAN   1 владелец      NaN  Оригинал  передний   \n",
              "3      автоматическая  EUROPEAN   1 владелец      NaN  Оригинал  передний   \n",
              "4      автоматическая  EUROPEAN   1 владелец      NaN  Оригинал  передний   \n",
              "\n",
              "    Руль           Состояние     Таможня  \n",
              "0  Левый  Не требует ремонта  Растаможен  \n",
              "1  Левый  Не требует ремонта  Растаможен  \n",
              "2  Левый  Не требует ремонта  Растаможен  \n",
              "3  Левый  Не требует ремонта  Растаможен  \n",
              "4  Левый  Не требует ремонта  Растаможен  "
            ],
            "text/html": [
              "\n",
              "  <div id=\"df-8e7f6ac3-16ab-48e6-b4a1-1121a9e89203\">\n",
              "    <div class=\"colab-df-container\">\n",
              "      <div>\n",
              "<style scoped>\n",
              "    .dataframe tbody tr th:only-of-type {\n",
              "        vertical-align: middle;\n",
              "    }\n",
              "\n",
              "    .dataframe tbody tr th {\n",
              "        vertical-align: top;\n",
              "    }\n",
              "\n",
              "    .dataframe thead th {\n",
              "        text-align: right;\n",
              "    }\n",
              "</style>\n",
              "<table border=\"1\" class=\"dataframe\">\n",
              "  <thead>\n",
              "    <tr style=\"text-align: right;\">\n",
              "      <th></th>\n",
              "      <th>bodyType</th>\n",
              "      <th>brand</th>\n",
              "      <th>car_url</th>\n",
              "      <th>color</th>\n",
              "      <th>complectation_dict</th>\n",
              "      <th>description</th>\n",
              "      <th>engineDisplacement</th>\n",
              "      <th>enginePower</th>\n",
              "      <th>equipment_dict</th>\n",
              "      <th>fuelType</th>\n",
              "      <th>image</th>\n",
              "      <th>mileage</th>\n",
              "      <th>modelDate</th>\n",
              "      <th>model_info</th>\n",
              "      <th>model_name</th>\n",
              "      <th>name</th>\n",
              "      <th>numberOfDoors</th>\n",
              "      <th>parsing_unixtime</th>\n",
              "      <th>priceCurrency</th>\n",
              "      <th>productionDate</th>\n",
              "      <th>sell_id</th>\n",
              "      <th>super_gen</th>\n",
              "      <th>vehicleConfiguration</th>\n",
              "      <th>vehicleTransmission</th>\n",
              "      <th>vendor</th>\n",
              "      <th>Владельцы</th>\n",
              "      <th>Владение</th>\n",
              "      <th>ПТС</th>\n",
              "      <th>Привод</th>\n",
              "      <th>Руль</th>\n",
              "      <th>Состояние</th>\n",
              "      <th>Таможня</th>\n",
              "    </tr>\n",
              "  </thead>\n",
              "  <tbody>\n",
              "    <tr>\n",
              "      <th>0</th>\n",
              "      <td>лифтбек</td>\n",
              "      <td>SKODA</td>\n",
              "      <td>https://auto.ru/cars/used/sale/skoda/octavia/1...</td>\n",
              "      <td>синий</td>\n",
              "      <td>NaN</td>\n",
              "      <td>Все автомобили, представленные в продаже, прох...</td>\n",
              "      <td>1.2 LTR</td>\n",
              "      <td>105 N12</td>\n",
              "      <td>{\"engine-proof\":true,\"tinted-glass\":true,\"airb...</td>\n",
              "      <td>бензин</td>\n",
              "      <td>https://autoru.naydex.net/o9DBXQ270/5ac010hAY0...</td>\n",
              "      <td>74000</td>\n",
              "      <td>2013</td>\n",
              "      <td>{\"code\":\"OCTAVIA\",\"name\":\"Octavia\",\"ru_name\":\"...</td>\n",
              "      <td>OCTAVIA</td>\n",
              "      <td>1.2 AMT (105 л.с.)</td>\n",
              "      <td>5</td>\n",
              "      <td>1603226273</td>\n",
              "      <td>RUB</td>\n",
              "      <td>2014</td>\n",
              "      <td>1100575026</td>\n",
              "      <td>{\"id\":\"10373605\",\"displacement\":1197,\"engine_t...</td>\n",
              "      <td>LIFTBACK ROBOT 1.2</td>\n",
              "      <td>роботизированная</td>\n",
              "      <td>EUROPEAN</td>\n",
              "      <td>3 или более</td>\n",
              "      <td>NaN</td>\n",
              "      <td>Оригинал</td>\n",
              "      <td>передний</td>\n",
              "      <td>Левый</td>\n",
              "      <td>Не требует ремонта</td>\n",
              "      <td>Растаможен</td>\n",
              "    </tr>\n",
              "    <tr>\n",
              "      <th>1</th>\n",
              "      <td>лифтбек</td>\n",
              "      <td>SKODA</td>\n",
              "      <td>https://auto.ru/cars/used/sale/skoda/octavia/1...</td>\n",
              "      <td>чёрный</td>\n",
              "      <td>NaN</td>\n",
              "      <td>ЛОТ: 01217195\\nАвтопрага Север\\nДанный автомоб...</td>\n",
              "      <td>1.6 LTR</td>\n",
              "      <td>110 N12</td>\n",
              "      <td>{\"cruise-control\":true,\"asr\":true,\"esp\":true,\"...</td>\n",
              "      <td>бензин</td>\n",
              "      <td>https://autoru.naydex.net/o9DBXQ270/5ac010hAY0...</td>\n",
              "      <td>60563</td>\n",
              "      <td>2017</td>\n",
              "      <td>{\"code\":\"OCTAVIA\",\"name\":\"Octavia\",\"ru_name\":\"...</td>\n",
              "      <td>OCTAVIA</td>\n",
              "      <td>1.6 MT (110 л.с.)</td>\n",
              "      <td>5</td>\n",
              "      <td>1603226277</td>\n",
              "      <td>RUB</td>\n",
              "      <td>2017</td>\n",
              "      <td>1100549428</td>\n",
              "      <td>{\"id\":\"20913311\",\"displacement\":1598,\"engine_t...</td>\n",
              "      <td>LIFTBACK MECHANICAL 1.6</td>\n",
              "      <td>механическая</td>\n",
              "      <td>EUROPEAN</td>\n",
              "      <td>1 владелец</td>\n",
              "      <td>NaN</td>\n",
              "      <td>Оригинал</td>\n",
              "      <td>передний</td>\n",
              "      <td>Левый</td>\n",
              "      <td>Не требует ремонта</td>\n",
              "      <td>Растаможен</td>\n",
              "    </tr>\n",
              "    <tr>\n",
              "      <th>2</th>\n",
              "      <td>лифтбек</td>\n",
              "      <td>SKODA</td>\n",
              "      <td>https://auto.ru/cars/used/sale/skoda/superb/11...</td>\n",
              "      <td>серый</td>\n",
              "      <td>{\"id\":\"20026336\",\"name\":\"Ambition\",\"available_...</td>\n",
              "      <td>Все автомобили, представленные в продаже, прох...</td>\n",
              "      <td>1.8 LTR</td>\n",
              "      <td>152 N12</td>\n",
              "      <td>{\"cruise-control\":true,\"tinted-glass\":true,\"es...</td>\n",
              "      <td>бензин</td>\n",
              "      <td>https://avatars.mds.yandex.net/get-autoru-vos/...</td>\n",
              "      <td>88000</td>\n",
              "      <td>2013</td>\n",
              "      <td>{\"code\":\"SUPERB\",\"name\":\"Superb\",\"ru_name\":\"Су...</td>\n",
              "      <td>SUPERB</td>\n",
              "      <td>DSG 1.8 AMT (152 л.с.)</td>\n",
              "      <td>5</td>\n",
              "      <td>1603226280</td>\n",
              "      <td>RUB</td>\n",
              "      <td>2014</td>\n",
              "      <td>1100658222</td>\n",
              "      <td>{\"id\":\"20026323\",\"nameplate\":\"DSG\",\"displaceme...</td>\n",
              "      <td>LIFTBACK ROBOT 1.8</td>\n",
              "      <td>роботизированная</td>\n",
              "      <td>EUROPEAN</td>\n",
              "      <td>1 владелец</td>\n",
              "      <td>NaN</td>\n",
              "      <td>Оригинал</td>\n",
              "      <td>передний</td>\n",
              "      <td>Левый</td>\n",
              "      <td>Не требует ремонта</td>\n",
              "      <td>Растаможен</td>\n",
              "    </tr>\n",
              "    <tr>\n",
              "      <th>3</th>\n",
              "      <td>лифтбек</td>\n",
              "      <td>SKODA</td>\n",
              "      <td>https://auto.ru/cars/used/sale/skoda/octavia/1...</td>\n",
              "      <td>коричневый</td>\n",
              "      <td>{\"id\":\"20803582\",\"name\":\"Ambition\",\"available_...</td>\n",
              "      <td>КОМПЛЕКТ ЗИМНЕЙ (ЛЕТНЕЙ) РЕЗИНЫ ПО СЕЗОНУ В ПО...</td>\n",
              "      <td>1.6 LTR</td>\n",
              "      <td>110 N12</td>\n",
              "      <td>{\"cruise-control\":true,\"roller-blind-for-rear-...</td>\n",
              "      <td>бензин</td>\n",
              "      <td>https://autoru.naydex.net/o9DBXQ270/5ac010hAY0...</td>\n",
              "      <td>95000</td>\n",
              "      <td>2013</td>\n",
              "      <td>{\"code\":\"OCTAVIA\",\"name\":\"Octavia\",\"ru_name\":\"...</td>\n",
              "      <td>OCTAVIA</td>\n",
              "      <td>1.6 AT (110 л.с.)</td>\n",
              "      <td>5</td>\n",
              "      <td>1603226284</td>\n",
              "      <td>RUB</td>\n",
              "      <td>2014</td>\n",
              "      <td>1100937408</td>\n",
              "      <td>{\"id\":\"20105521\",\"displacement\":1598,\"engine_t...</td>\n",
              "      <td>LIFTBACK AUTOMATIC 1.6</td>\n",
              "      <td>автоматическая</td>\n",
              "      <td>EUROPEAN</td>\n",
              "      <td>1 владелец</td>\n",
              "      <td>NaN</td>\n",
              "      <td>Оригинал</td>\n",
              "      <td>передний</td>\n",
              "      <td>Левый</td>\n",
              "      <td>Не требует ремонта</td>\n",
              "      <td>Растаможен</td>\n",
              "    </tr>\n",
              "    <tr>\n",
              "      <th>4</th>\n",
              "      <td>лифтбек</td>\n",
              "      <td>SKODA</td>\n",
              "      <td>https://auto.ru/cars/used/sale/skoda/octavia/1...</td>\n",
              "      <td>белый</td>\n",
              "      <td>NaN</td>\n",
              "      <td>ЛОТ: 01220889\\nАвтопрага Север\\n\\nВы можете по...</td>\n",
              "      <td>1.8 LTR</td>\n",
              "      <td>152 N12</td>\n",
              "      <td>{\"cruise-control\":true,\"asr\":true,\"esp\":true,\"...</td>\n",
              "      <td>бензин</td>\n",
              "      <td>https://autoru.naydex.net/o9DBXQ270/5ac010hAY0...</td>\n",
              "      <td>58536</td>\n",
              "      <td>2008</td>\n",
              "      <td>{\"code\":\"OCTAVIA\",\"name\":\"Octavia\",\"ru_name\":\"...</td>\n",
              "      <td>OCTAVIA</td>\n",
              "      <td>1.8 AT (152 л.с.)</td>\n",
              "      <td>5</td>\n",
              "      <td>1603226288</td>\n",
              "      <td>RUB</td>\n",
              "      <td>2012</td>\n",
              "      <td>1101037972</td>\n",
              "      <td>{\"id\":\"4561004\",\"displacement\":1798,\"engine_ty...</td>\n",
              "      <td>LIFTBACK AUTOMATIC 1.8</td>\n",
              "      <td>автоматическая</td>\n",
              "      <td>EUROPEAN</td>\n",
              "      <td>1 владелец</td>\n",
              "      <td>NaN</td>\n",
              "      <td>Оригинал</td>\n",
              "      <td>передний</td>\n",
              "      <td>Левый</td>\n",
              "      <td>Не требует ремонта</td>\n",
              "      <td>Растаможен</td>\n",
              "    </tr>\n",
              "  </tbody>\n",
              "</table>\n",
              "</div>\n",
              "      <button class=\"colab-df-convert\" onclick=\"convertToInteractive('df-8e7f6ac3-16ab-48e6-b4a1-1121a9e89203')\"\n",
              "              title=\"Convert this dataframe to an interactive table.\"\n",
              "              style=\"display:none;\">\n",
              "        \n",
              "  <svg xmlns=\"http://www.w3.org/2000/svg\" height=\"24px\"viewBox=\"0 0 24 24\"\n",
              "       width=\"24px\">\n",
              "    <path d=\"M0 0h24v24H0V0z\" fill=\"none\"/>\n",
              "    <path d=\"M18.56 5.44l.94 2.06.94-2.06 2.06-.94-2.06-.94-.94-2.06-.94 2.06-2.06.94zm-11 1L8.5 8.5l.94-2.06 2.06-.94-2.06-.94L8.5 2.5l-.94 2.06-2.06.94zm10 10l.94 2.06.94-2.06 2.06-.94-2.06-.94-.94-2.06-.94 2.06-2.06.94z\"/><path d=\"M17.41 7.96l-1.37-1.37c-.4-.4-.92-.59-1.43-.59-.52 0-1.04.2-1.43.59L10.3 9.45l-7.72 7.72c-.78.78-.78 2.05 0 2.83L4 21.41c.39.39.9.59 1.41.59.51 0 1.02-.2 1.41-.59l7.78-7.78 2.81-2.81c.8-.78.8-2.07 0-2.86zM5.41 20L4 18.59l7.72-7.72 1.47 1.35L5.41 20z\"/>\n",
              "  </svg>\n",
              "      </button>\n",
              "      \n",
              "  <style>\n",
              "    .colab-df-container {\n",
              "      display:flex;\n",
              "      flex-wrap:wrap;\n",
              "      gap: 12px;\n",
              "    }\n",
              "\n",
              "    .colab-df-convert {\n",
              "      background-color: #E8F0FE;\n",
              "      border: none;\n",
              "      border-radius: 50%;\n",
              "      cursor: pointer;\n",
              "      display: none;\n",
              "      fill: #1967D2;\n",
              "      height: 32px;\n",
              "      padding: 0 0 0 0;\n",
              "      width: 32px;\n",
              "    }\n",
              "\n",
              "    .colab-df-convert:hover {\n",
              "      background-color: #E2EBFA;\n",
              "      box-shadow: 0px 1px 2px rgba(60, 64, 67, 0.3), 0px 1px 3px 1px rgba(60, 64, 67, 0.15);\n",
              "      fill: #174EA6;\n",
              "    }\n",
              "\n",
              "    [theme=dark] .colab-df-convert {\n",
              "      background-color: #3B4455;\n",
              "      fill: #D2E3FC;\n",
              "    }\n",
              "\n",
              "    [theme=dark] .colab-df-convert:hover {\n",
              "      background-color: #434B5C;\n",
              "      box-shadow: 0px 1px 3px 1px rgba(0, 0, 0, 0.15);\n",
              "      filter: drop-shadow(0px 1px 2px rgba(0, 0, 0, 0.3));\n",
              "      fill: #FFFFFF;\n",
              "    }\n",
              "  </style>\n",
              "\n",
              "      <script>\n",
              "        const buttonEl =\n",
              "          document.querySelector('#df-8e7f6ac3-16ab-48e6-b4a1-1121a9e89203 button.colab-df-convert');\n",
              "        buttonEl.style.display =\n",
              "          google.colab.kernel.accessAllowed ? 'block' : 'none';\n",
              "\n",
              "        async function convertToInteractive(key) {\n",
              "          const element = document.querySelector('#df-8e7f6ac3-16ab-48e6-b4a1-1121a9e89203');\n",
              "          const dataTable =\n",
              "            await google.colab.kernel.invokeFunction('convertToInteractive',\n",
              "                                                     [key], {});\n",
              "          if (!dataTable) return;\n",
              "\n",
              "          const docLinkHtml = 'Like what you see? Visit the ' +\n",
              "            '<a target=\"_blank\" href=https://colab.research.google.com/notebooks/data_table.ipynb>data table notebook</a>'\n",
              "            + ' to learn more about interactive tables.';\n",
              "          element.innerHTML = '';\n",
              "          dataTable['output_type'] = 'display_data';\n",
              "          await google.colab.output.renderOutput(dataTable, element);\n",
              "          const docLink = document.createElement('div');\n",
              "          docLink.innerHTML = docLinkHtml;\n",
              "          element.appendChild(docLink);\n",
              "        }\n",
              "      </script>\n",
              "    </div>\n",
              "  </div>\n",
              "  "
            ]
          },
          "metadata": {}
        }
      ],
      "source": [
        "# quick look at the dataset\n",
        "pd.set_option('display.max_columns', None)\n",
        "print('Train set shape: ', train.shape)\n",
        "display(train.head(5))\n",
        "print('Test set shape: ', test.shape)\n",
        "display(test.head(5))"
      ]
    },
    {
      "cell_type": "markdown",
      "metadata": {
        "papermill": {
          "duration": 0.135791,
          "end_time": "2021-06-06T17:14:31.437859",
          "exception": false,
          "start_time": "2021-06-06T17:14:31.302068",
          "status": "completed"
        },
        "tags": [],
        "id": "927M2U_s1zqz"
      },
      "source": [
        "## Data Preprocessing"
      ]
    },
    {
      "cell_type": "code",
      "execution_count": 112,
      "metadata": {
        "execution": {
          "iopub.execute_input": "2021-06-06T17:14:31.720903Z",
          "iopub.status.busy": "2021-06-06T17:14:31.720172Z",
          "iopub.status.idle": "2021-06-06T17:14:31.742174Z",
          "shell.execute_reply": "2021-06-06T17:14:31.741632Z",
          "shell.execute_reply.started": "2021-06-06T16:22:32.395594Z"
        },
        "papermill": {
          "duration": 0.166902,
          "end_time": "2021-06-06T17:14:31.742307",
          "exception": false,
          "start_time": "2021-06-06T17:14:31.575405",
          "status": "completed"
        },
        "tags": [],
        "id": "K1smlHIq1zqz"
      },
      "outputs": [],
      "source": [
        "# drop duplicates\n",
        "train = train.drop_duplicates(subset=['car_url'])"
      ]
    },
    {
      "cell_type": "code",
      "execution_count": 113,
      "metadata": {
        "execution": {
          "iopub.execute_input": "2021-06-06T17:14:32.028467Z",
          "iopub.status.busy": "2021-06-06T17:14:32.027429Z",
          "iopub.status.idle": "2021-06-06T17:14:32.034087Z",
          "shell.execute_reply": "2021-06-06T17:14:32.033593Z",
          "shell.execute_reply.started": "2021-06-06T16:22:32.424661Z"
        },
        "papermill": {
          "duration": 0.155186,
          "end_time": "2021-06-06T17:14:32.034206",
          "exception": false,
          "start_time": "2021-06-06T17:14:31.879020",
          "status": "completed"
        },
        "tags": [],
        "colab": {
          "base_uri": "https://localhost:8080/"
        },
        "id": "hFebxY-g1zq0",
        "outputId": "422ed140-c374-41b5-cc98-7e93a40c66ff"
      },
      "outputs": [
        {
          "output_type": "execute_result",
          "data": {
            "text/plain": [
              "0"
            ]
          },
          "metadata": {},
          "execution_count": 113
        }
      ],
      "source": [
        "# check datasets for duplicates by unique ad ID\n",
        "train['car_url'].duplicated().sum()\n",
        "test['sell_id'].duplicated().sum()"
      ]
    },
    {
      "cell_type": "code",
      "execution_count": 114,
      "metadata": {
        "execution": {
          "iopub.execute_input": "2021-06-06T17:14:32.324678Z",
          "iopub.status.busy": "2021-06-06T17:14:32.323775Z",
          "iopub.status.idle": "2021-06-06T17:14:32.326712Z",
          "shell.execute_reply": "2021-06-06T17:14:32.326158Z",
          "shell.execute_reply.started": "2021-06-06T16:22:32.441878Z"
        },
        "papermill": {
          "duration": 0.153046,
          "end_time": "2021-06-06T17:14:32.326830",
          "exception": false,
          "start_time": "2021-06-06T17:14:32.173784",
          "status": "completed"
        },
        "tags": [],
        "id": "oDvZDJts1zq0"
      },
      "outputs": [],
      "source": [
        "# we managed to parse not all the data (or we did not see the need for some) contained in the test dataframe\n",
        "# remove these variables from the test dataframe (there are not so many of them)\n",
        "test.drop(['complectation_dict', 'equipment_dict', 'model_info',\n",
        "           'super_gen', 'vendor', 'Владение'], axis=1, inplace=True)"
      ]
    },
    {
      "cell_type": "code",
      "execution_count": 115,
      "metadata": {
        "execution": {
          "iopub.execute_input": "2021-06-06T17:14:32.612169Z",
          "iopub.status.busy": "2021-06-06T17:14:32.608155Z",
          "iopub.status.idle": "2021-06-06T17:14:32.732050Z",
          "shell.execute_reply": "2021-06-06T17:14:32.731511Z",
          "shell.execute_reply.started": "2021-06-06T16:22:32.463189Z"
        },
        "papermill": {
          "duration": 0.267615,
          "end_time": "2021-06-06T17:14:32.732180",
          "exception": false,
          "start_time": "2021-06-06T17:14:32.464565",
          "status": "completed"
        },
        "tags": [],
        "id": "6ipZpuUR1zq0"
      },
      "outputs": [],
      "source": [
        "test['price'] = 0\n",
        "df_train = train\n",
        "df_test = test\n",
        "\n",
        "# remove lines without price\n",
        "df_train = df_train.dropna(axis=0, subset=['price'])\n",
        "\n",
        "# for the correct processing of features we combine the train and the test into one dataset\n",
        "df_train['sample'] = 1 # mark as train\n",
        "df_test['sample'] = 0 # mark as test\n",
        "\n",
        "data = df_test.append(df_train, sort=False).reset_index(drop=True) # combining"
      ]
    },
    {
      "cell_type": "code",
      "execution_count": 116,
      "metadata": {
        "execution": {
          "iopub.execute_input": "2021-06-06T17:14:33.016332Z",
          "iopub.status.busy": "2021-06-06T17:14:33.015495Z",
          "iopub.status.idle": "2021-06-06T17:14:33.018820Z",
          "shell.execute_reply": "2021-06-06T17:14:33.019382Z",
          "shell.execute_reply.started": "2021-06-06T16:22:32.59327Z"
        },
        "papermill": {
          "duration": 0.151361,
          "end_time": "2021-06-06T17:14:33.019524",
          "exception": false,
          "start_time": "2021-06-06T17:14:32.868163",
          "status": "completed"
        },
        "tags": [],
        "colab": {
          "base_uri": "https://localhost:8080/"
        },
        "id": "Qt7pCg6f1zq0",
        "outputId": "8d24b03b-a577-439a-ce18-95be4ed51a5d"
      },
      "outputs": [
        {
          "output_type": "execute_result",
          "data": {
            "text/plain": [
              "False"
            ]
          },
          "metadata": {},
          "execution_count": 116
        }
      ],
      "source": [
        "data.price.isnull().values.any()"
      ]
    },
    {
      "cell_type": "code",
      "execution_count": 117,
      "metadata": {
        "execution": {
          "iopub.execute_input": "2021-06-06T17:14:33.295236Z",
          "iopub.status.busy": "2021-06-06T17:14:33.294264Z",
          "iopub.status.idle": "2021-06-06T17:14:33.378431Z",
          "shell.execute_reply": "2021-06-06T17:14:33.377794Z",
          "shell.execute_reply.started": "2021-06-06T16:22:32.604857Z"
        },
        "papermill": {
          "duration": 0.22235,
          "end_time": "2021-06-06T17:14:33.378561",
          "exception": false,
          "start_time": "2021-06-06T17:14:33.156211",
          "status": "completed"
        },
        "tags": [],
        "colab": {
          "base_uri": "https://localhost:8080/",
          "height": 332
        },
        "id": "rUMMXwEY1zq0",
        "outputId": "e5843685-6ec5-476d-cc6c-710da8e3e7b7"
      },
      "outputs": [
        {
          "output_type": "execute_result",
          "data": {
            "text/plain": [
              "              bodyType     brand  \\\n",
              "22003  универсал 5 дв.    TOYOTA   \n",
              "16306             купе  MERCEDES   \n",
              "\n",
              "                                                 car_url  color  \\\n",
              "22003  https://auto.ru/cars/used/sale/toyota/prius_al...  белый   \n",
              "16306  https://auto.ru/cars/used/sale/mercedes/s_klas...  серый   \n",
              "\n",
              "                                             description engineDisplacement  \\\n",
              "22003  Продаю свою машину. Без нареканий и проблем. Л...            1.8 LTR   \n",
              "16306  Самый топовый Мерседес S 560 версия КУПЕ!  Авт...            4.2 LTR   \n",
              "\n",
              "      enginePower fuelType                                              image  \\\n",
              "22003      99 N12   гибрид  https://avatars.mds.yandex.net/get-autoru-vos/...   \n",
              "16306     224 N12   бензин  https://avatars.mds.yandex.net/get-autoru-vos/...   \n",
              "\n",
              "      mileage  modelDate   model_name                   name  numberOfDoors  \\\n",
              "22003  126000       2011  PRIUS_ALPHA   1.8hyb CVT (99 л.с.)              5   \n",
              "16306  134000       1985     S_KLASSE  420 4.2 AT (224 л.с.)              2   \n",
              "\n",
              "       parsing_unixtime priceCurrency  productionDate       sell_id  \\\n",
              "22003      1.603298e+09           RUB            2014  1.089138e+09   \n",
              "16306      1.603243e+09           RUB            1986  1.097293e+09   \n",
              "\n",
              "             vehicleConfiguration vehicleTransmission    Владельцы       ПТС  \\\n",
              "22003  WAGON_5_DOORS VARIATOR 1.8            вариатор   1 владелец  Оригинал   \n",
              "16306         COUPE AUTOMATIC 4.2      автоматическая  3 или более  Оригинал   \n",
              "\n",
              "         Привод    Руль           Состояние     Таможня price  sample  \n",
              "22003  передний  Правый  Не требует ремонта  Растаможен     0       0  \n",
              "16306    задний   Левый  Не требует ремонта  Растаможен     0       0  "
            ],
            "text/html": [
              "\n",
              "  <div id=\"df-088da389-0bf9-47da-a298-e7f4a960d9a4\">\n",
              "    <div class=\"colab-df-container\">\n",
              "      <div>\n",
              "<style scoped>\n",
              "    .dataframe tbody tr th:only-of-type {\n",
              "        vertical-align: middle;\n",
              "    }\n",
              "\n",
              "    .dataframe tbody tr th {\n",
              "        vertical-align: top;\n",
              "    }\n",
              "\n",
              "    .dataframe thead th {\n",
              "        text-align: right;\n",
              "    }\n",
              "</style>\n",
              "<table border=\"1\" class=\"dataframe\">\n",
              "  <thead>\n",
              "    <tr style=\"text-align: right;\">\n",
              "      <th></th>\n",
              "      <th>bodyType</th>\n",
              "      <th>brand</th>\n",
              "      <th>car_url</th>\n",
              "      <th>color</th>\n",
              "      <th>description</th>\n",
              "      <th>engineDisplacement</th>\n",
              "      <th>enginePower</th>\n",
              "      <th>fuelType</th>\n",
              "      <th>image</th>\n",
              "      <th>mileage</th>\n",
              "      <th>modelDate</th>\n",
              "      <th>model_name</th>\n",
              "      <th>name</th>\n",
              "      <th>numberOfDoors</th>\n",
              "      <th>parsing_unixtime</th>\n",
              "      <th>priceCurrency</th>\n",
              "      <th>productionDate</th>\n",
              "      <th>sell_id</th>\n",
              "      <th>vehicleConfiguration</th>\n",
              "      <th>vehicleTransmission</th>\n",
              "      <th>Владельцы</th>\n",
              "      <th>ПТС</th>\n",
              "      <th>Привод</th>\n",
              "      <th>Руль</th>\n",
              "      <th>Состояние</th>\n",
              "      <th>Таможня</th>\n",
              "      <th>price</th>\n",
              "      <th>sample</th>\n",
              "    </tr>\n",
              "  </thead>\n",
              "  <tbody>\n",
              "    <tr>\n",
              "      <th>22003</th>\n",
              "      <td>универсал 5 дв.</td>\n",
              "      <td>TOYOTA</td>\n",
              "      <td>https://auto.ru/cars/used/sale/toyota/prius_al...</td>\n",
              "      <td>белый</td>\n",
              "      <td>Продаю свою машину. Без нареканий и проблем. Л...</td>\n",
              "      <td>1.8 LTR</td>\n",
              "      <td>99 N12</td>\n",
              "      <td>гибрид</td>\n",
              "      <td>https://avatars.mds.yandex.net/get-autoru-vos/...</td>\n",
              "      <td>126000</td>\n",
              "      <td>2011</td>\n",
              "      <td>PRIUS_ALPHA</td>\n",
              "      <td>1.8hyb CVT (99 л.с.)</td>\n",
              "      <td>5</td>\n",
              "      <td>1.603298e+09</td>\n",
              "      <td>RUB</td>\n",
              "      <td>2014</td>\n",
              "      <td>1.089138e+09</td>\n",
              "      <td>WAGON_5_DOORS VARIATOR 1.8</td>\n",
              "      <td>вариатор</td>\n",
              "      <td>1 владелец</td>\n",
              "      <td>Оригинал</td>\n",
              "      <td>передний</td>\n",
              "      <td>Правый</td>\n",
              "      <td>Не требует ремонта</td>\n",
              "      <td>Растаможен</td>\n",
              "      <td>0</td>\n",
              "      <td>0</td>\n",
              "    </tr>\n",
              "    <tr>\n",
              "      <th>16306</th>\n",
              "      <td>купе</td>\n",
              "      <td>MERCEDES</td>\n",
              "      <td>https://auto.ru/cars/used/sale/mercedes/s_klas...</td>\n",
              "      <td>серый</td>\n",
              "      <td>Самый топовый Мерседес S 560 версия КУПЕ!  Авт...</td>\n",
              "      <td>4.2 LTR</td>\n",
              "      <td>224 N12</td>\n",
              "      <td>бензин</td>\n",
              "      <td>https://avatars.mds.yandex.net/get-autoru-vos/...</td>\n",
              "      <td>134000</td>\n",
              "      <td>1985</td>\n",
              "      <td>S_KLASSE</td>\n",
              "      <td>420 4.2 AT (224 л.с.)</td>\n",
              "      <td>2</td>\n",
              "      <td>1.603243e+09</td>\n",
              "      <td>RUB</td>\n",
              "      <td>1986</td>\n",
              "      <td>1.097293e+09</td>\n",
              "      <td>COUPE AUTOMATIC 4.2</td>\n",
              "      <td>автоматическая</td>\n",
              "      <td>3 или более</td>\n",
              "      <td>Оригинал</td>\n",
              "      <td>задний</td>\n",
              "      <td>Левый</td>\n",
              "      <td>Не требует ремонта</td>\n",
              "      <td>Растаможен</td>\n",
              "      <td>0</td>\n",
              "      <td>0</td>\n",
              "    </tr>\n",
              "  </tbody>\n",
              "</table>\n",
              "</div>\n",
              "      <button class=\"colab-df-convert\" onclick=\"convertToInteractive('df-088da389-0bf9-47da-a298-e7f4a960d9a4')\"\n",
              "              title=\"Convert this dataframe to an interactive table.\"\n",
              "              style=\"display:none;\">\n",
              "        \n",
              "  <svg xmlns=\"http://www.w3.org/2000/svg\" height=\"24px\"viewBox=\"0 0 24 24\"\n",
              "       width=\"24px\">\n",
              "    <path d=\"M0 0h24v24H0V0z\" fill=\"none\"/>\n",
              "    <path d=\"M18.56 5.44l.94 2.06.94-2.06 2.06-.94-2.06-.94-.94-2.06-.94 2.06-2.06.94zm-11 1L8.5 8.5l.94-2.06 2.06-.94-2.06-.94L8.5 2.5l-.94 2.06-2.06.94zm10 10l.94 2.06.94-2.06 2.06-.94-2.06-.94-.94-2.06-.94 2.06-2.06.94z\"/><path d=\"M17.41 7.96l-1.37-1.37c-.4-.4-.92-.59-1.43-.59-.52 0-1.04.2-1.43.59L10.3 9.45l-7.72 7.72c-.78.78-.78 2.05 0 2.83L4 21.41c.39.39.9.59 1.41.59.51 0 1.02-.2 1.41-.59l7.78-7.78 2.81-2.81c.8-.78.8-2.07 0-2.86zM5.41 20L4 18.59l7.72-7.72 1.47 1.35L5.41 20z\"/>\n",
              "  </svg>\n",
              "      </button>\n",
              "      \n",
              "  <style>\n",
              "    .colab-df-container {\n",
              "      display:flex;\n",
              "      flex-wrap:wrap;\n",
              "      gap: 12px;\n",
              "    }\n",
              "\n",
              "    .colab-df-convert {\n",
              "      background-color: #E8F0FE;\n",
              "      border: none;\n",
              "      border-radius: 50%;\n",
              "      cursor: pointer;\n",
              "      display: none;\n",
              "      fill: #1967D2;\n",
              "      height: 32px;\n",
              "      padding: 0 0 0 0;\n",
              "      width: 32px;\n",
              "    }\n",
              "\n",
              "    .colab-df-convert:hover {\n",
              "      background-color: #E2EBFA;\n",
              "      box-shadow: 0px 1px 2px rgba(60, 64, 67, 0.3), 0px 1px 3px 1px rgba(60, 64, 67, 0.15);\n",
              "      fill: #174EA6;\n",
              "    }\n",
              "\n",
              "    [theme=dark] .colab-df-convert {\n",
              "      background-color: #3B4455;\n",
              "      fill: #D2E3FC;\n",
              "    }\n",
              "\n",
              "    [theme=dark] .colab-df-convert:hover {\n",
              "      background-color: #434B5C;\n",
              "      box-shadow: 0px 1px 3px 1px rgba(0, 0, 0, 0.15);\n",
              "      filter: drop-shadow(0px 1px 2px rgba(0, 0, 0, 0.3));\n",
              "      fill: #FFFFFF;\n",
              "    }\n",
              "  </style>\n",
              "\n",
              "      <script>\n",
              "        const buttonEl =\n",
              "          document.querySelector('#df-088da389-0bf9-47da-a298-e7f4a960d9a4 button.colab-df-convert');\n",
              "        buttonEl.style.display =\n",
              "          google.colab.kernel.accessAllowed ? 'block' : 'none';\n",
              "\n",
              "        async function convertToInteractive(key) {\n",
              "          const element = document.querySelector('#df-088da389-0bf9-47da-a298-e7f4a960d9a4');\n",
              "          const dataTable =\n",
              "            await google.colab.kernel.invokeFunction('convertToInteractive',\n",
              "                                                     [key], {});\n",
              "          if (!dataTable) return;\n",
              "\n",
              "          const docLinkHtml = 'Like what you see? Visit the ' +\n",
              "            '<a target=\"_blank\" href=https://colab.research.google.com/notebooks/data_table.ipynb>data table notebook</a>'\n",
              "            + ' to learn more about interactive tables.';\n",
              "          element.innerHTML = '';\n",
              "          dataTable['output_type'] = 'display_data';\n",
              "          await google.colab.output.renderOutput(dataTable, element);\n",
              "          const docLink = document.createElement('div');\n",
              "          docLink.innerHTML = docLinkHtml;\n",
              "          element.appendChild(docLink);\n",
              "        }\n",
              "      </script>\n",
              "    </div>\n",
              "  </div>\n",
              "  "
            ]
          },
          "metadata": {},
          "execution_count": 117
        }
      ],
      "source": [
        "data.sample(2)"
      ]
    },
    {
      "cell_type": "code",
      "source": [
        "data.rename(columns = {'Владельцы':'owners', 'ПТС':'vehicle_licence', 'Привод':'drive_type',\n",
        "                       'Руль':'wheel','Состояние':'condition','Таможня':'customs_clearance'}, inplace = True )"
      ],
      "metadata": {
        "id": "OhtdsTdeHWHP"
      },
      "execution_count": 118,
      "outputs": []
    },
    {
      "cell_type": "code",
      "execution_count": 119,
      "metadata": {
        "execution": {
          "iopub.execute_input": "2021-06-06T17:14:33.684770Z",
          "iopub.status.busy": "2021-06-06T17:14:33.684079Z",
          "iopub.status.idle": "2021-06-06T17:14:33.764542Z",
          "shell.execute_reply": "2021-06-06T17:14:33.763985Z",
          "shell.execute_reply.started": "2021-06-06T16:22:32.691919Z"
        },
        "papermill": {
          "duration": 0.248593,
          "end_time": "2021-06-06T17:14:33.764667",
          "exception": false,
          "start_time": "2021-06-06T17:14:33.516074",
          "status": "completed"
        },
        "tags": [],
        "id": "MyStOXLU1zq0"
      },
      "outputs": [],
      "source": [
        "# checking duplicates once again\n",
        "data['car_url'].value_counts()\n",
        "data = data.drop_duplicates(subset=['car_url'])"
      ]
    },
    {
      "cell_type": "code",
      "execution_count": 120,
      "metadata": {
        "execution": {
          "iopub.execute_input": "2021-06-06T17:14:34.527062Z",
          "iopub.status.busy": "2021-06-06T17:14:34.526393Z",
          "iopub.status.idle": "2021-06-06T17:14:34.542137Z",
          "shell.execute_reply": "2021-06-06T17:14:34.542855Z",
          "shell.execute_reply.started": "2021-06-06T16:22:32.839189Z"
        },
        "papermill": {
          "duration": 0.311131,
          "end_time": "2021-06-06T17:14:34.543048",
          "exception": false,
          "start_time": "2021-06-06T17:14:34.231917",
          "status": "completed"
        },
        "tags": [],
        "colab": {
          "base_uri": "https://localhost:8080/"
        },
        "id": "IQ3bZj3C1zq1",
        "outputId": "34bb7217-b042-4649-ebda-67f9eaa0bc3f"
      },
      "outputs": [
        {
          "output_type": "stream",
          "name": "stdout",
          "text": [
            "<class 'pandas.core.frame.DataFrame'>\n",
            "Int64Index: 65609 entries, 0 to 68216\n",
            "Data columns (total 28 columns):\n",
            " #   Column                Non-Null Count  Dtype  \n",
            "---  ------                --------------  -----  \n",
            " 0   bodyType              65609 non-null  object \n",
            " 1   brand                 65609 non-null  object \n",
            " 2   car_url               65609 non-null  object \n",
            " 3   color                 65609 non-null  object \n",
            " 4   description           65609 non-null  object \n",
            " 5   engineDisplacement    65609 non-null  object \n",
            " 6   enginePower           65609 non-null  object \n",
            " 7   fuelType              65609 non-null  object \n",
            " 8   image                 65609 non-null  object \n",
            " 9   mileage               65609 non-null  object \n",
            " 10  modelDate             65609 non-null  int64  \n",
            " 11  model_name            65609 non-null  object \n",
            " 12  name                  65609 non-null  object \n",
            " 13  numberOfDoors         65609 non-null  int64  \n",
            " 14  parsing_unixtime      34686 non-null  float64\n",
            " 15  priceCurrency         65609 non-null  object \n",
            " 16  productionDate        65609 non-null  int64  \n",
            " 17  sell_id               34686 non-null  float64\n",
            " 18  vehicleConfiguration  65609 non-null  object \n",
            " 19  vehicleTransmission   65609 non-null  object \n",
            " 20  owners                65609 non-null  object \n",
            " 21  vehicle_licence       65608 non-null  object \n",
            " 22  drive_type            65609 non-null  object \n",
            " 23  wheel                 65609 non-null  object \n",
            " 24  condition             65609 non-null  object \n",
            " 25  customs_clearance     65609 non-null  object \n",
            " 26  price                 65609 non-null  object \n",
            " 27  sample                65609 non-null  int64  \n",
            "dtypes: float64(2), int64(4), object(22)\n",
            "memory usage: 14.5+ MB\n"
          ]
        }
      ],
      "source": [
        "data.info()"
      ]
    },
    {
      "cell_type": "code",
      "execution_count": 121,
      "metadata": {
        "execution": {
          "iopub.execute_input": "2021-06-06T17:14:34.981743Z",
          "iopub.status.busy": "2021-06-06T17:14:34.848924Z",
          "iopub.status.idle": "2021-06-06T17:14:34.991202Z",
          "shell.execute_reply": "2021-06-06T17:14:34.991715Z",
          "shell.execute_reply.started": "2021-06-06T16:22:32.929504Z"
        },
        "papermill": {
          "duration": 0.286695,
          "end_time": "2021-06-06T17:14:34.991850",
          "exception": false,
          "start_time": "2021-06-06T17:14:34.705155",
          "status": "completed"
        },
        "tags": [],
        "colab": {
          "base_uri": "https://localhost:8080/"
        },
        "id": "NjHLyvbN1zq1",
        "outputId": "6f00931b-e505-41d4-a3a1-bff86c980d0b"
      },
      "outputs": [
        {
          "output_type": "execute_result",
          "data": {
            "text/plain": [
              "bodyType                    0\n",
              "brand                       0\n",
              "car_url                     0\n",
              "color                       0\n",
              "description                 0\n",
              "engineDisplacement          0\n",
              "enginePower                 0\n",
              "fuelType                    0\n",
              "image                       0\n",
              "mileage                     0\n",
              "modelDate                   0\n",
              "model_name                  0\n",
              "name                        0\n",
              "numberOfDoors               0\n",
              "parsing_unixtime        30923\n",
              "priceCurrency               0\n",
              "productionDate              0\n",
              "sell_id                 30923\n",
              "vehicleConfiguration        0\n",
              "vehicleTransmission         0\n",
              "owners                      0\n",
              "vehicle_licence             1\n",
              "drive_type                  0\n",
              "wheel                       0\n",
              "condition                   0\n",
              "customs_clearance           0\n",
              "price                       0\n",
              "sample                      0\n",
              "dtype: int64"
            ]
          },
          "metadata": {},
          "execution_count": 121
        }
      ],
      "source": [
        "data.isna().sum()"
      ]
    },
    {
      "cell_type": "markdown",
      "metadata": {
        "papermill": {
          "duration": 0.137926,
          "end_time": "2021-06-06T17:14:35.555128",
          "exception": false,
          "start_time": "2021-06-06T17:14:35.417202",
          "status": "completed"
        },
        "tags": [],
        "id": "e9itxHHP1zq1"
      },
      "source": [
        "\n",
        "\n",
        "Brief summary: in the training sample there are 33531 ads, in the test sample are 34686. The total data after removing duplicates is 65609 ads. There are 28 features. As numerical features, we have: modelDate, numberOfDoors, productionDate, parsing_unixtime. The rest are of type Object. The missing values in 'price', 'parsing_unixtime', 'sell_id' appeared artificially. Also, the feature 'sample' was added to indicate data and for separation later."
      ]
    },
    {
      "cell_type": "markdown",
      "metadata": {
        "papermill": {
          "duration": 0.137377,
          "end_time": "2021-06-06T17:14:35.831537",
          "exception": false,
          "start_time": "2021-06-06T17:14:35.694160",
          "status": "completed"
        },
        "tags": [],
        "id": "Mm1Auttj1zq1"
      },
      "source": [
        "# Let's look at each feature"
      ]
    },
    {
      "cell_type": "code",
      "execution_count": 122,
      "metadata": {
        "execution": {
          "iopub.execute_input": "2021-06-06T17:14:36.118902Z",
          "iopub.status.busy": "2021-06-06T17:14:36.117891Z",
          "iopub.status.idle": "2021-06-06T17:14:36.122395Z",
          "shell.execute_reply": "2021-06-06T17:14:36.122890Z",
          "shell.execute_reply.started": "2021-06-06T16:22:33.0246Z"
        },
        "papermill": {
          "duration": 0.154313,
          "end_time": "2021-06-06T17:14:36.123023",
          "exception": false,
          "start_time": "2021-06-06T17:14:35.968710",
          "status": "completed"
        },
        "tags": [],
        "id": "Lq2xOipI1zq1"
      },
      "outputs": [],
      "source": [
        "#We will add features to a specific list:\n",
        "#numerical:\n",
        "num_cols = []\n",
        "\n",
        "# binary, the number of unique values which is equal two\n",
        "bin_cols = []\n",
        "\n",
        "# categorical\n",
        "cat_cols = []"
      ]
    },
    {
      "cell_type": "markdown",
      "metadata": {
        "papermill": {
          "duration": 0.137415,
          "end_time": "2021-06-06T17:14:36.400193",
          "exception": false,
          "start_time": "2021-06-06T17:14:36.262778",
          "status": "completed"
        },
        "tags": [],
        "id": "eVP7-aAF1zq1"
      },
      "source": [
        "**bodyType**"
      ]
    },
    {
      "cell_type": "code",
      "execution_count": 123,
      "metadata": {
        "execution": {
          "iopub.execute_input": "2021-06-06T17:14:36.679962Z",
          "iopub.status.busy": "2021-06-06T17:14:36.678940Z",
          "iopub.status.idle": "2021-06-06T17:14:36.702540Z",
          "shell.execute_reply": "2021-06-06T17:14:36.701974Z",
          "shell.execute_reply.started": "2021-06-06T16:22:33.045184Z"
        },
        "papermill": {
          "duration": 0.164582,
          "end_time": "2021-06-06T17:14:36.702652",
          "exception": false,
          "start_time": "2021-06-06T17:14:36.538070",
          "status": "completed"
        },
        "tags": [],
        "colab": {
          "base_uri": "https://localhost:8080/"
        },
        "id": "oPlFiXBf1zq1",
        "outputId": "0106db02-2383-49b4-9c38-3847b2336ffc"
      },
      "outputs": [
        {
          "output_type": "execute_result",
          "data": {
            "text/plain": [
              "внедорожник 5 дв.          24589\n",
              "седан                      23849\n",
              "хэтчбек 5 дв.               4215\n",
              "лифтбек                     4159\n",
              "универсал 5 дв.             2319\n",
              "минивэн                     1710\n",
              "купе                        1499\n",
              "компактвэн                   900\n",
              "хэтчбек 3 дв.                829\n",
              "пикап двойная кабина         482\n",
              "купе-хардтоп                 285\n",
              "внедорожник 3 дв.            203\n",
              "фургон                       195\n",
              "родстер                      166\n",
              "кабриолет                    126\n",
              "седан-хардтоп                 29\n",
              "микровэн                      16\n",
              "пикап одинарная кабина         9\n",
              "пикап полуторная кабина        7\n",
              "седан 2 дв.                    6\n",
              "лимузин                        6\n",
              "внедорожник открытый           4\n",
              "фастбек                        2\n",
              "тарга                          2\n",
              "хэтчбек 4 дв.                  1\n",
              "универсал 3 дв.                1\n",
              "Name: bodyType, dtype: int64"
            ]
          },
          "metadata": {},
          "execution_count": 123
        }
      ],
      "source": [
        "data.bodyType.value_counts()"
      ]
    },
    {
      "cell_type": "code",
      "execution_count": 124,
      "metadata": {
        "execution": {
          "iopub.execute_input": "2021-06-06T17:14:37.001088Z",
          "iopub.status.busy": "2021-06-06T17:14:37.000474Z",
          "iopub.status.idle": "2021-06-06T17:14:37.074338Z",
          "shell.execute_reply": "2021-06-06T17:14:37.074838Z",
          "shell.execute_reply.started": "2021-06-06T16:22:33.073061Z"
        },
        "papermill": {
          "duration": 0.236,
          "end_time": "2021-06-06T17:14:37.074988",
          "exception": false,
          "start_time": "2021-06-06T17:14:36.838988",
          "status": "completed"
        },
        "tags": [],
        "id": "PcA9EJAL1zq2"
      },
      "outputs": [],
      "source": [
        "data['bodyType'] = data['bodyType'].astype(str).apply(lambda x: None if x.strip()=='' else x)\n",
        "data['bodyType'] = data.bodyType.apply(lambda x: x.split(' ')[0].lower())"
      ]
    },
    {
      "cell_type": "code",
      "execution_count": 125,
      "metadata": {
        "execution": {
          "iopub.execute_input": "2021-06-06T17:14:37.359329Z",
          "iopub.status.busy": "2021-06-06T17:14:37.358678Z",
          "iopub.status.idle": "2021-06-06T17:14:37.384844Z",
          "shell.execute_reply": "2021-06-06T17:14:37.384168Z",
          "shell.execute_reply.started": "2021-06-06T16:22:33.15069Z"
        },
        "papermill": {
          "duration": 0.165401,
          "end_time": "2021-06-06T17:14:37.384968",
          "exception": false,
          "start_time": "2021-06-06T17:14:37.219567",
          "status": "completed"
        },
        "tags": [],
        "colab": {
          "base_uri": "https://localhost:8080/"
        },
        "id": "_5ag7dk51zq2",
        "outputId": "38dd50fb-fe74-4630-d85f-0cbbcc089a48"
      },
      "outputs": [
        {
          "output_type": "execute_result",
          "data": {
            "text/plain": [
              "внедорожник      24796\n",
              "седан            23855\n",
              "хэтчбек           5045\n",
              "лифтбек           4159\n",
              "универсал         2320\n",
              "минивэн           1710\n",
              "купе              1499\n",
              "компактвэн         900\n",
              "пикап              498\n",
              "купе-хардтоп       285\n",
              "фургон             195\n",
              "родстер            166\n",
              "кабриолет          126\n",
              "седан-хардтоп       29\n",
              "микровэн            16\n",
              "лимузин              6\n",
              "фастбек              2\n",
              "тарга                2\n",
              "Name: bodyType, dtype: int64"
            ]
          },
          "metadata": {},
          "execution_count": 125
        }
      ],
      "source": [
        "data.bodyType.value_counts()"
      ]
    },
    {
      "cell_type": "code",
      "execution_count": 126,
      "metadata": {
        "execution": {
          "iopub.execute_input": "2021-06-06T17:14:37.687246Z",
          "iopub.status.busy": "2021-06-06T17:14:37.683190Z",
          "iopub.status.idle": "2021-06-06T17:14:38.024940Z",
          "shell.execute_reply": "2021-06-06T17:14:38.024435Z",
          "shell.execute_reply.started": "2021-06-06T16:22:33.18232Z"
        },
        "papermill": {
          "duration": 0.500261,
          "end_time": "2021-06-06T17:14:38.025053",
          "exception": false,
          "start_time": "2021-06-06T17:14:37.524792",
          "status": "completed"
        },
        "tags": [],
        "colab": {
          "base_uri": "https://localhost:8080/",
          "height": 282
        },
        "id": "Ftq48aik1zq2",
        "outputId": "a9f3e4bd-247e-4329-bf13-c7c9b086543d"
      },
      "outputs": [
        {
          "output_type": "execute_result",
          "data": {
            "text/plain": [
              "<matplotlib.axes._subplots.AxesSubplot at 0x7fb3df2517c0>"
            ]
          },
          "metadata": {},
          "execution_count": 126
        },
        {
          "output_type": "display_data",
          "data": {
            "text/plain": [
              "<Figure size 432x288 with 1 Axes>"
            ],
            "image/png": "[encoded data removed]"
          },
          "metadata": {
            "needs_background": "light"
          }
        }
      ],
      "source": [
        "#'bodyType' distribution \n",
        "data.bodyType.value_counts().plot.barh() "
      ]
    },
    {
      "cell_type": "code",
      "execution_count": 127,
      "metadata": {
        "execution": {
          "iopub.execute_input": "2021-06-06T17:14:38.307154Z",
          "iopub.status.busy": "2021-06-06T17:14:38.306579Z",
          "iopub.status.idle": "2021-06-06T17:14:38.309525Z",
          "shell.execute_reply": "2021-06-06T17:14:38.308989Z",
          "shell.execute_reply.started": "2021-06-06T16:22:33.518848Z"
        },
        "papermill": {
          "duration": 0.146399,
          "end_time": "2021-06-06T17:14:38.309634",
          "exception": false,
          "start_time": "2021-06-06T17:14:38.163235",
          "status": "completed"
        },
        "tags": [],
        "id": "ZM4baBTX1zq2"
      },
      "outputs": [],
      "source": [
        "cat_cols.append('bodyType')"
      ]
    },
    {
      "cell_type": "markdown",
      "metadata": {
        "papermill": {
          "duration": 0.140481,
          "end_time": "2021-06-06T17:14:38.588247",
          "exception": false,
          "start_time": "2021-06-06T17:14:38.447766",
          "status": "completed"
        },
        "tags": [],
        "id": "MSGTnX361zq2"
      },
      "source": [
        "**brand**"
      ]
    },
    {
      "cell_type": "code",
      "execution_count": 128,
      "metadata": {
        "execution": {
          "iopub.execute_input": "2021-06-06T17:14:38.890464Z",
          "iopub.status.busy": "2021-06-06T17:14:38.889803Z",
          "iopub.status.idle": "2021-06-06T17:14:38.893779Z",
          "shell.execute_reply": "2021-06-06T17:14:38.893159Z",
          "shell.execute_reply.started": "2021-06-06T16:22:33.525529Z"
        },
        "papermill": {
          "duration": 0.164509,
          "end_time": "2021-06-06T17:14:38.893884",
          "exception": false,
          "start_time": "2021-06-06T17:14:38.729375",
          "status": "completed"
        },
        "tags": [],
        "colab": {
          "base_uri": "https://localhost:8080/"
        },
        "id": "76R9iTBA1zq2",
        "outputId": "43c4d901-584f-4f4c-b85c-71705c677541"
      },
      "outputs": [
        {
          "output_type": "execute_result",
          "data": {
            "text/plain": [
              "BMW            8137\n",
              "VOLKSWAGEN     8106\n",
              "NISSAN         7793\n",
              "MERCEDES       7781\n",
              "TOYOTA         7445\n",
              "               ... \n",
              "LUXGEN            1\n",
              "GAC               1\n",
              "DAIHATSU          1\n",
              "IRAN_KHODRO       1\n",
              "SATURN            1\n",
              "Name: brand, Length: 70, dtype: int64"
            ]
          },
          "metadata": {},
          "execution_count": 128
        }
      ],
      "source": [
        "data.brand.value_counts()"
      ]
    },
    {
      "cell_type": "code",
      "execution_count": 129,
      "metadata": {
        "execution": {
          "iopub.execute_input": "2021-06-06T17:14:39.177992Z",
          "iopub.status.busy": "2021-06-06T17:14:39.177403Z",
          "iopub.status.idle": "2021-06-06T17:14:39.179413Z",
          "shell.execute_reply": "2021-06-06T17:14:39.179895Z",
          "shell.execute_reply.started": "2021-06-06T16:22:33.550498Z"
        },
        "papermill": {
          "duration": 0.146496,
          "end_time": "2021-06-06T17:14:39.180025",
          "exception": false,
          "start_time": "2021-06-06T17:14:39.033529",
          "status": "completed"
        },
        "tags": [],
        "id": "iPVp0bD91zq2"
      },
      "outputs": [],
      "source": [
        "cat_cols.append('brand')"
      ]
    },
    {
      "cell_type": "markdown",
      "metadata": {
        "papermill": {
          "duration": 0.13867,
          "end_time": "2021-06-06T17:14:39.458496",
          "exception": false,
          "start_time": "2021-06-06T17:14:39.319826",
          "status": "completed"
        },
        "tags": [],
        "id": "VGwrkfgq1zq2"
      },
      "source": [
        "**color**"
      ]
    },
    {
      "cell_type": "code",
      "execution_count": 130,
      "metadata": {
        "execution": {
          "iopub.execute_input": "2021-06-06T17:14:39.740951Z",
          "iopub.status.busy": "2021-06-06T17:14:39.740321Z",
          "iopub.status.idle": "2021-06-06T17:14:39.763239Z",
          "shell.execute_reply": "2021-06-06T17:14:39.763777Z",
          "shell.execute_reply.started": "2021-06-06T16:22:33.56458Z"
        },
        "papermill": {
          "duration": 0.165823,
          "end_time": "2021-06-06T17:14:39.763917",
          "exception": false,
          "start_time": "2021-06-06T17:14:39.598094",
          "status": "completed"
        },
        "tags": [],
        "colab": {
          "base_uri": "https://localhost:8080/"
        },
        "id": "dqxlZA-M1zq3",
        "outputId": "420da839-071f-4677-eb39-f78e251c4d44"
      },
      "outputs": [
        {
          "output_type": "execute_result",
          "data": {
            "text/plain": [
              "чёрный         20414\n",
              "белый          12474\n",
              "серый           8122\n",
              "серебристый     6977\n",
              "синий           6171\n",
              "коричневый      3012\n",
              "красный         2928\n",
              "зелёный         1605\n",
              "бежевый         1205\n",
              "голубой          830\n",
              "золотистый       448\n",
              "пурпурный        443\n",
              "фиолетовый       362\n",
              "жёлтый           341\n",
              "оранжевый        259\n",
              "розовый           18\n",
              "Name: color, dtype: int64"
            ]
          },
          "metadata": {},
          "execution_count": 130
        }
      ],
      "source": [
        "data.color.value_counts()"
      ]
    },
    {
      "cell_type": "code",
      "execution_count": 131,
      "metadata": {
        "execution": {
          "iopub.execute_input": "2021-06-06T17:14:40.065173Z",
          "iopub.status.busy": "2021-06-06T17:14:40.059436Z",
          "iopub.status.idle": "2021-06-06T17:14:40.372052Z",
          "shell.execute_reply": "2021-06-06T17:14:40.371420Z",
          "shell.execute_reply.started": "2021-06-06T16:22:33.591902Z"
        },
        "papermill": {
          "duration": 0.469246,
          "end_time": "2021-06-06T17:14:40.372164",
          "exception": false,
          "start_time": "2021-06-06T17:14:39.902918",
          "status": "completed"
        },
        "tags": [],
        "colab": {
          "base_uri": "https://localhost:8080/",
          "height": 282
        },
        "id": "Bs7gLy8Q1zq3",
        "outputId": "4d755fb4-03c0-428e-8327-67e90d8079ec"
      },
      "outputs": [
        {
          "output_type": "execute_result",
          "data": {
            "text/plain": [
              "<matplotlib.axes._subplots.AxesSubplot at 0x7fb3e109ca60>"
            ]
          },
          "metadata": {},
          "execution_count": 131
        },
        {
          "output_type": "display_data",
          "data": {
            "text/plain": [
              "<Figure size 432x288 with 1 Axes>"
            ],
            "image/png": "[encoded data removed]"
          },
          "metadata": {
            "needs_background": "light"
          }
        }
      ],
      "source": [
        "data.color.value_counts().plot.barh() "
      ]
    },
    {
      "cell_type": "markdown",
      "metadata": {
        "papermill": {
          "duration": 0.142625,
          "end_time": "2021-06-06T17:14:40.655867",
          "exception": false,
          "start_time": "2021-06-06T17:14:40.513242",
          "status": "completed"
        },
        "tags": [],
        "id": "kKA7EH-V1zq3"
      },
      "source": [
        "It doesn't require additional processing, there are no gaps, we define it as \"categorical\""
      ]
    },
    {
      "cell_type": "code",
      "execution_count": 132,
      "metadata": {
        "execution": {
          "iopub.execute_input": "2021-06-06T17:14:40.946775Z",
          "iopub.status.busy": "2021-06-06T17:14:40.946029Z",
          "iopub.status.idle": "2021-06-06T17:14:40.949191Z",
          "shell.execute_reply": "2021-06-06T17:14:40.948665Z",
          "shell.execute_reply.started": "2021-06-06T16:22:33.884603Z"
        },
        "papermill": {
          "duration": 0.149428,
          "end_time": "2021-06-06T17:14:40.949300",
          "exception": false,
          "start_time": "2021-06-06T17:14:40.799872",
          "status": "completed"
        },
        "tags": [],
        "id": "9OPxS0pQ1zq3"
      },
      "outputs": [],
      "source": [
        "cat_cols.append('color')"
      ]
    },
    {
      "cell_type": "markdown",
      "metadata": {
        "papermill": {
          "duration": 0.164025,
          "end_time": "2021-06-06T17:14:41.255086",
          "exception": false,
          "start_time": "2021-06-06T17:14:41.091061",
          "status": "completed"
        },
        "tags": [],
        "id": "GyN2-DKU1zq3"
      },
      "source": [
        "**Description**"
      ]
    },
    {
      "cell_type": "code",
      "execution_count": 133,
      "metadata": {
        "execution": {
          "iopub.execute_input": "2021-06-06T17:14:41.583495Z",
          "iopub.status.busy": "2021-06-06T17:14:41.552521Z",
          "iopub.status.idle": "2021-06-06T17:14:41.614395Z",
          "shell.execute_reply": "2021-06-06T17:14:41.613728Z",
          "shell.execute_reply.started": "2021-06-06T16:22:33.89115Z"
        },
        "papermill": {
          "duration": 0.216575,
          "end_time": "2021-06-06T17:14:41.614507",
          "exception": false,
          "start_time": "2021-06-06T17:14:41.397932",
          "status": "completed"
        },
        "tags": [],
        "id": "jfdG_wAT1zq3"
      },
      "outputs": [],
      "source": [
        "# description - description, seller comment\n",
        "# generate a numeric feature - the number of characters in the description\n",
        "data['description_len'] = data.description.apply(lambda x: len(str(x)))\n",
        "# drop description after that"
      ]
    },
    {
      "cell_type": "code",
      "execution_count": 134,
      "metadata": {
        "execution": {
          "iopub.execute_input": "2021-06-06T17:14:41.897301Z",
          "iopub.status.busy": "2021-06-06T17:14:41.896702Z",
          "iopub.status.idle": "2021-06-06T17:14:41.916640Z",
          "shell.execute_reply": "2021-06-06T17:14:41.916063Z",
          "shell.execute_reply.started": "2021-06-06T16:22:33.953484Z"
        },
        "papermill": {
          "duration": 0.160756,
          "end_time": "2021-06-06T17:14:41.916760",
          "exception": false,
          "start_time": "2021-06-06T17:14:41.756004",
          "status": "completed"
        },
        "tags": [],
        "id": "Uo_zfeUi1zq3"
      },
      "outputs": [],
      "source": [
        "data = data.drop('description',axis=1)"
      ]
    },
    {
      "cell_type": "code",
      "execution_count": 135,
      "metadata": {
        "execution": {
          "iopub.execute_input": "2021-06-06T17:14:42.201785Z",
          "iopub.status.busy": "2021-06-06T17:14:42.200763Z",
          "iopub.status.idle": "2021-06-06T17:14:42.203652Z",
          "shell.execute_reply": "2021-06-06T17:14:42.203195Z",
          "shell.execute_reply.started": "2021-06-06T16:22:33.979578Z"
        },
        "papermill": {
          "duration": 0.147195,
          "end_time": "2021-06-06T17:14:42.203756",
          "exception": false,
          "start_time": "2021-06-06T17:14:42.056561",
          "status": "completed"
        },
        "tags": [],
        "id": "aHYXNOj91zq4"
      },
      "outputs": [],
      "source": [
        "#defina as numerical feature\n",
        "num_cols.append('description_len')"
      ]
    },
    {
      "cell_type": "markdown",
      "metadata": {
        "papermill": {
          "duration": 0.140103,
          "end_time": "2021-06-06T17:14:42.483405",
          "exception": false,
          "start_time": "2021-06-06T17:14:42.343302",
          "status": "completed"
        },
        "tags": [],
        "id": "-1-wdbHs1zq4"
      },
      "source": [
        "**fuelType**"
      ]
    },
    {
      "cell_type": "code",
      "execution_count": 136,
      "metadata": {
        "execution": {
          "iopub.execute_input": "2021-06-06T17:14:42.791619Z",
          "iopub.status.busy": "2021-06-06T17:14:42.790972Z",
          "iopub.status.idle": "2021-06-06T17:14:42.795177Z",
          "shell.execute_reply": "2021-06-06T17:14:42.794625Z",
          "shell.execute_reply.started": "2021-06-06T16:22:33.984915Z"
        },
        "papermill": {
          "duration": 0.169786,
          "end_time": "2021-06-06T17:14:42.795288",
          "exception": false,
          "start_time": "2021-06-06T17:14:42.625502",
          "status": "completed"
        },
        "tags": [],
        "colab": {
          "base_uri": "https://localhost:8080/"
        },
        "id": "Yx8k1jFQ1zq4",
        "outputId": "8925c62f-c0b7-498c-b756-3119ad0adc8f"
      },
      "outputs": [
        {
          "output_type": "execute_result",
          "data": {
            "text/plain": [
              "бензин     53453\n",
              "дизель     11599\n",
              "гибрид       407\n",
              "электро      137\n",
              "газ           13\n",
              "Name: fuelType, dtype: int64"
            ]
          },
          "metadata": {},
          "execution_count": 136
        }
      ],
      "source": [
        "data.fuelType.value_counts() #categorical feature"
      ]
    },
    {
      "cell_type": "code",
      "execution_count": 137,
      "metadata": {
        "execution": {
          "iopub.execute_input": "2021-06-06T17:14:43.087210Z",
          "iopub.status.busy": "2021-06-06T17:14:43.086601Z",
          "iopub.status.idle": "2021-06-06T17:14:43.253488Z",
          "shell.execute_reply": "2021-06-06T17:14:43.252829Z",
          "shell.execute_reply.started": "2021-06-06T16:22:34.010848Z"
        },
        "papermill": {
          "duration": 0.31765,
          "end_time": "2021-06-06T17:14:43.253621",
          "exception": false,
          "start_time": "2021-06-06T17:14:42.935971",
          "status": "completed"
        },
        "tags": [],
        "colab": {
          "base_uri": "https://localhost:8080/",
          "height": 296
        },
        "id": "DJ2tFeT51zq4",
        "outputId": "00bce39f-ddbc-4894-d262-d2d7e7616a20"
      },
      "outputs": [
        {
          "output_type": "execute_result",
          "data": {
            "text/plain": [
              "<matplotlib.axes._subplots.AxesSubplot at 0x7fb3db92e250>"
            ]
          },
          "metadata": {},
          "execution_count": 137
        },
        {
          "output_type": "display_data",
          "data": {
            "text/plain": [
              "<Figure size 432x288 with 1 Axes>"
            ],
            "image/png": "[encoded data removed]"
          },
          "metadata": {
            "needs_background": "light"
          }
        }
      ],
      "source": [
        "sns.countplot(x = 'fuelType', data = data)"
      ]
    },
    {
      "cell_type": "markdown",
      "metadata": {
        "papermill": {
          "duration": 0.142057,
          "end_time": "2021-06-06T17:14:43.537292",
          "exception": false,
          "start_time": "2021-06-06T17:14:43.395235",
          "status": "completed"
        },
        "tags": [],
        "id": "vCFnlRaR1zq4"
      },
      "source": [
        "It doesn't require additional processing, there are no gaps, we define it as \"categorical\""
      ]
    },
    {
      "cell_type": "code",
      "execution_count": 138,
      "metadata": {
        "execution": {
          "iopub.execute_input": "2021-06-06T17:14:43.829112Z",
          "iopub.status.busy": "2021-06-06T17:14:43.828246Z",
          "iopub.status.idle": "2021-06-06T17:14:43.831317Z",
          "shell.execute_reply": "2021-06-06T17:14:43.830796Z",
          "shell.execute_reply.started": "2021-06-06T16:22:34.170746Z"
        },
        "papermill": {
          "duration": 0.149867,
          "end_time": "2021-06-06T17:14:43.831432",
          "exception": false,
          "start_time": "2021-06-06T17:14:43.681565",
          "status": "completed"
        },
        "tags": [],
        "id": "6sAgO4R71zq4"
      },
      "outputs": [],
      "source": [
        "cat_cols.append('fuelType')"
      ]
    },
    {
      "cell_type": "markdown",
      "metadata": {
        "papermill": {
          "duration": 0.146395,
          "end_time": "2021-06-06T17:14:44.120102",
          "exception": false,
          "start_time": "2021-06-06T17:14:43.973707",
          "status": "completed"
        },
        "tags": [],
        "id": "qumXbB7h1zq4"
      },
      "source": [
        "**image**"
      ]
    },
    {
      "cell_type": "code",
      "execution_count": 139,
      "metadata": {
        "execution": {
          "iopub.execute_input": "2021-06-06T17:14:44.476861Z",
          "iopub.status.busy": "2021-06-06T17:14:44.452373Z",
          "iopub.status.idle": "2021-06-06T17:14:44.488287Z",
          "shell.execute_reply": "2021-06-06T17:14:44.487772Z",
          "shell.execute_reply.started": "2021-06-06T16:22:34.178249Z"
        },
        "papermill": {
          "duration": 0.223746,
          "end_time": "2021-06-06T17:14:44.488409",
          "exception": false,
          "start_time": "2021-06-06T17:14:44.264663",
          "status": "completed"
        },
        "tags": [],
        "colab": {
          "base_uri": "https://localhost:8080/",
          "height": 121
        },
        "id": "v2upGDby1zq4",
        "outputId": "ebf0c5c3-8706-4e73-d819-98c72f48459a"
      },
      "outputs": [
        {
          "output_type": "display_data",
          "data": {
            "text/plain": [
              "https://avatars.mds.yandex.net/get-verba/216201/2a000001609d0005e0912c12a896bbda4ab1/wizardv3mr     20\n",
              "https://avatars.mds.yandex.net/get-verba/1030388/2a000001609cf6746b94cf8334836265daaf/wizardv3mr    13\n",
              "https://avatars.mds.yandex.net/get-verba/216201/2a000001609bda17487cc63d8b957ab4aab2/wizardv3mr     13\n",
              "https://avatars.mds.yandex.net/get-verba/216201/2a0000016098487a9e1ff58d5ae35f3de345/wizardv3mr     13\n",
              "https://avatars.mds.yandex.net/get-verba/216201/2a0000016099a4e6be992d7b50134fd908fd/wizardv3mr     12\n",
              "Name: image, dtype: int64"
            ]
          },
          "metadata": {}
        }
      ],
      "source": [
        "# image - auto picture\n",
        "# check the photo for uniqueness\n",
        "count_photos = data.image.value_counts()\n",
        "display(count_photos.head(5))"
      ]
    },
    {
      "cell_type": "code",
      "execution_count": 140,
      "metadata": {
        "execution": {
          "iopub.execute_input": "2021-06-06T17:14:44.779653Z",
          "iopub.status.busy": "2021-06-06T17:14:44.778210Z",
          "iopub.status.idle": "2021-06-06T17:14:44.791139Z",
          "shell.execute_reply": "2021-06-06T17:14:44.790581Z",
          "shell.execute_reply.started": "2021-06-06T16:22:34.269202Z"
        },
        "papermill": {
          "duration": 0.160666,
          "end_time": "2021-06-06T17:14:44.791247",
          "exception": false,
          "start_time": "2021-06-06T17:14:44.630581",
          "status": "completed"
        },
        "tags": [],
        "colab": {
          "base_uri": "https://localhost:8080/",
          "height": 208
        },
        "id": "9B6zzIT41zq5",
        "outputId": "3c9b8e60-201b-42e0-df1a-088371dd55a1"
      },
      "outputs": [
        {
          "output_type": "display_data",
          "data": {
            "text/plain": [
              "https://avatars.mds.yandex.net/get-autoru-vos/3926749/a9622c6bf6531bcf0ac3fbfe2e22a1ba/320x240                                                                                                                                   1\n",
              "https://autoru.naydex.net/o9DBXQ270/5ac010hAY0/Xkcrbmf2u0IghxJHqVi5dGL7OcugpPbM0sYLDhB9YWw7CxRKU17ysuJYxuxtaUHk561NRbyjLQrsAgj3CNkWd0oDIyJ7ofxHZYdUDLUH5DIvsWmK9_O-mo6XT34oWVQDBTEybGZikaX4X4bwLyUujf_KICqw3ygs2UNJlXu4Og#DSD    1\n",
              "https://avatars.mds.yandex.net/get-autoru-vos/2121561/129d18cbcf1513a2f61cd6d7dcb14548/320x240                                                                                                                                   1\n",
              "https://autoru.naydex.net/o9DBXQ270/5ac010hAY0/Xkcrbmf2u0IghxJHqVi5dGL7OcugpPbM0sYLDhB9YWw7CxRKU17ysuJYxuxsaUbm565NS-r-eQ24BV74DIlKeEwFdHN_9f5AMIBSDbBRvDcttGyK9_O-mo6XT34oWVQDBTEybGZikaX4X4bwLyUujf_KICqw3ygs2UNJlXu4Og#DSD    1\n",
              "https://autoru.naydex.net/o9DBXQ270/5ac010hAY0/Xkcrbmf2u0IghxJHqVi5dGL7OcugpPbM0sYLDhB9YWw7CxRKU17ysuJYxu9kaEPq6q9NRb2if1i4VQHyCIpHJU0EJXQqoPoSYNRYAuEEuz964zqK9_O-mo6XT34oWVQDBTEybGZikaX4X4bwLyUujf_KICqw3ygs2UNJlXu4Og#DSD    1\n",
              "Name: image, dtype: int64"
            ]
          },
          "metadata": {}
        }
      ],
      "source": [
        "# get unique photos\n",
        "display(count_photos.sort_values().head(5))"
      ]
    },
    {
      "cell_type": "code",
      "execution_count": 141,
      "metadata": {
        "execution": {
          "iopub.execute_input": "2021-06-06T17:14:45.119677Z",
          "iopub.status.busy": "2021-06-06T17:14:45.117480Z",
          "iopub.status.idle": "2021-06-06T17:14:45.128387Z",
          "shell.execute_reply": "2021-06-06T17:14:45.128798Z",
          "shell.execute_reply.started": "2021-06-06T16:22:34.288345Z"
        },
        "papermill": {
          "duration": 0.19372,
          "end_time": "2021-06-06T17:14:45.128931",
          "exception": false,
          "start_time": "2021-06-06T17:14:44.935211",
          "status": "completed"
        },
        "tags": [],
        "colab": {
          "base_uri": "https://localhost:8080/",
          "height": 121
        },
        "id": "cSGu7CoK1zq5",
        "outputId": "144294ae-7d41-40f3-d333-f9781c37b609"
      },
      "outputs": [
        {
          "output_type": "display_data",
          "data": {
            "text/plain": [
              "https://avatars.mds.yandex.net/get-verba/787013/2a000001609d47e6e112bcfda4d0864eeaa0/wizardv3mr    1\n",
              "https://avatars.mds.yandex.net/get-verba/787013/2a000001609d450e202aa60d859e21010937/wizardv3mr    1\n",
              "https://avatars.mds.yandex.net/get-verba/937147/2a0000016092153321f229dbcab93392bd11/wizardv3mr    1\n",
              "https://avatars.mds.yandex.net/get-verba/787013/2a000001609cf9bc691a4c0df4ab7cfaf442/wizardv3mr    1\n",
              "https://avatars.mds.yandex.net/get-verba/787013/2a00000160971de63671db3acb68d2c05833/wizardv3mr    1\n",
              "Name: image, dtype: int64"
            ]
          },
          "metadata": {}
        }
      ],
      "source": [
        "# we can make a binary feature out of this by the type of photo uniqueness\n",
        "data['real_photo'] = data.image.apply(lambda x: x.find('get-verba') == -1)\n",
        "\n",
        "real = data[data['real_photo'] == False].image.value_counts()\n",
        "display(real.sort_values().head(5))\n",
        "# drop 'image' variable "
      ]
    },
    {
      "cell_type": "code",
      "execution_count": 142,
      "metadata": {
        "execution": {
          "iopub.execute_input": "2021-06-06T17:14:45.418975Z",
          "iopub.status.busy": "2021-06-06T17:14:45.418313Z",
          "iopub.status.idle": "2021-06-06T17:14:45.443194Z",
          "shell.execute_reply": "2021-06-06T17:14:45.442488Z",
          "shell.execute_reply.started": "2021-06-06T16:22:34.328371Z"
        },
        "papermill": {
          "duration": 0.17084,
          "end_time": "2021-06-06T17:14:45.443306",
          "exception": false,
          "start_time": "2021-06-06T17:14:45.272466",
          "status": "completed"
        },
        "tags": [],
        "id": "STz4Yo3C1zq5"
      },
      "outputs": [],
      "source": [
        "data = data.drop('image',axis=1)"
      ]
    },
    {
      "cell_type": "code",
      "execution_count": 143,
      "metadata": {
        "execution": {
          "iopub.execute_input": "2021-06-06T17:14:45.735290Z",
          "iopub.status.busy": "2021-06-06T17:14:45.734636Z",
          "iopub.status.idle": "2021-06-06T17:14:45.741807Z",
          "shell.execute_reply": "2021-06-06T17:14:45.742279Z",
          "shell.execute_reply.started": "2021-06-06T16:22:34.357925Z"
        },
        "papermill": {
          "duration": 0.156565,
          "end_time": "2021-06-06T17:14:45.742444",
          "exception": false,
          "start_time": "2021-06-06T17:14:45.585879",
          "status": "completed"
        },
        "tags": [],
        "colab": {
          "base_uri": "https://localhost:8080/"
        },
        "id": "iE5fOfk51zq5",
        "outputId": "bb4f98e8-348f-4df9-b9e3-2f372764468c"
      },
      "outputs": [
        {
          "output_type": "execute_result",
          "data": {
            "text/plain": [
              "True     65046\n",
              "False      563\n",
              "Name: real_photo, dtype: int64"
            ]
          },
          "metadata": {},
          "execution_count": 143
        }
      ],
      "source": [
        "data['real_photo'].value_counts()"
      ]
    },
    {
      "cell_type": "code",
      "execution_count": 144,
      "metadata": {
        "execution": {
          "iopub.execute_input": "2021-06-06T17:14:46.034983Z",
          "iopub.status.busy": "2021-06-06T17:14:46.034007Z",
          "iopub.status.idle": "2021-06-06T17:14:46.275860Z",
          "shell.execute_reply": "2021-06-06T17:14:46.276388Z",
          "shell.execute_reply.started": "2021-06-06T16:22:34.373849Z"
        },
        "papermill": {
          "duration": 0.389283,
          "end_time": "2021-06-06T17:14:46.276525",
          "exception": false,
          "start_time": "2021-06-06T17:14:45.887242",
          "status": "completed"
        },
        "tags": [],
        "colab": {
          "base_uri": "https://localhost:8080/",
          "height": 297
        },
        "id": "qJv1MvPH1zq6",
        "outputId": "8401b77b-c353-4428-9e9b-3b08ec9b0652"
      },
      "outputs": [
        {
          "output_type": "execute_result",
          "data": {
            "text/plain": [
              "<matplotlib.axes._subplots.AxesSubplot at 0x7fb3db8991c0>"
            ]
          },
          "metadata": {},
          "execution_count": 144
        },
        {
          "output_type": "display_data",
          "data": {
            "text/plain": [
              "<Figure size 432x288 with 1 Axes>"
            ],
            "image/png": "[encoded data removed]"
          },
          "metadata": {
            "needs_background": "light"
          }
        }
      ],
      "source": [
        "sns.countplot(x = 'real_photo', data = data)"
      ]
    },
    {
      "cell_type": "markdown",
      "metadata": {
        "papermill": {
          "duration": 0.145061,
          "end_time": "2021-06-06T17:14:46.566163",
          "exception": false,
          "start_time": "2021-06-06T17:14:46.421102",
          "status": "completed"
        },
        "tags": [],
        "id": "7HJqA3JB1zq6"
      },
      "source": [
        "There are more real photos "
      ]
    },
    {
      "cell_type": "code",
      "execution_count": 145,
      "metadata": {
        "execution": {
          "iopub.execute_input": "2021-06-06T17:14:46.863991Z",
          "iopub.status.busy": "2021-06-06T17:14:46.863251Z",
          "iopub.status.idle": "2021-06-06T17:14:46.866219Z",
          "shell.execute_reply": "2021-06-06T17:14:46.865725Z",
          "shell.execute_reply.started": "2021-06-06T16:22:34.620177Z"
        },
        "papermill": {
          "duration": 0.15312,
          "end_time": "2021-06-06T17:14:46.866330",
          "exception": false,
          "start_time": "2021-06-06T17:14:46.713210",
          "status": "completed"
        },
        "tags": [],
        "id": "YgijK-fi1zq6"
      },
      "outputs": [],
      "source": [
        "bin_cols.append('real_photo')"
      ]
    },
    {
      "cell_type": "markdown",
      "metadata": {
        "papermill": {
          "duration": 0.147356,
          "end_time": "2021-06-06T17:14:47.159805",
          "exception": false,
          "start_time": "2021-06-06T17:14:47.012449",
          "status": "completed"
        },
        "tags": [],
        "id": "_mp1-FQn1zq6"
      },
      "source": [
        "**engineDisplacement**"
      ]
    },
    {
      "cell_type": "code",
      "execution_count": 146,
      "metadata": {
        "execution": {
          "iopub.execute_input": "2021-06-06T17:14:47.456208Z",
          "iopub.status.busy": "2021-06-06T17:14:47.455581Z",
          "iopub.status.idle": "2021-06-06T17:14:47.461339Z",
          "shell.execute_reply": "2021-06-06T17:14:47.460836Z",
          "shell.execute_reply.started": "2021-06-06T16:22:34.628347Z"
        },
        "papermill": {
          "duration": 0.155836,
          "end_time": "2021-06-06T17:14:47.461457",
          "exception": false,
          "start_time": "2021-06-06T17:14:47.305621",
          "status": "completed"
        },
        "tags": [],
        "colab": {
          "base_uri": "https://localhost:8080/"
        },
        "id": "oy09u2zQ1zq6",
        "outputId": "4658b9a9-dc42-40af-af72-46e94379576c"
      },
      "outputs": [
        {
          "output_type": "execute_result",
          "data": {
            "text/plain": [
              "array(['1.2 LTR', '1.6 LTR', '1.8 LTR', '2.0 LTR', '1.4 LTR', '1.3 LTR',\n",
              "       '1.0 LTR', '3.6 LTR', '1.5 LTR', '1.9 LTR', '2.8 LTR', '1.1 LTR',\n",
              "       '2.5 LTR', '4.2 LTR', '3.0 LTR', '4.0 LTR', '5.9 LTR', '2.7 LTR',\n",
              "       '3.1 LTR', '2.4 LTR', '5.2 LTR', '3.2 LTR', '4.1 LTR', '6.3 LTR',\n",
              "       '2.3 LTR', '6.0 LTR', '2.2 LTR', '3.7 LTR', '2.9 LTR', '5.0 LTR',\n",
              "       '3.3 LTR', '2.1 LTR', '2.6 LTR', ' LTR', '3.5 LTR', '1.7 LTR',\n",
              "       '0.7 LTR', '4.4 LTR', '4.8 LTR', '5.4 LTR', '6.6 LTR', '4.9 LTR',\n",
              "       '3.8 LTR', '3.4 LTR', '3.9 LTR', '4.6 LTR', '5.6 LTR', '4.5 LTR',\n",
              "       '5.5 LTR', '6.2 LTR', '4.7 LTR', '4.3 LTR', '5.8 LTR', '5.3 LTR',\n",
              "       '5.7 LTR', '6.8 LTR', '0.8 LTR', '6.4 LTR', '6.5 LTR', '0.9 LTR',\n",
              "       '0.6 LTR'], dtype=object)"
            ]
          },
          "metadata": {},
          "execution_count": 146
        }
      ],
      "source": [
        "data.engineDisplacement.unique()"
      ]
    },
    {
      "cell_type": "code",
      "execution_count": 147,
      "metadata": {
        "execution": {
          "iopub.execute_input": "2021-06-06T17:14:47.777827Z",
          "iopub.status.busy": "2021-06-06T17:14:47.777166Z",
          "iopub.status.idle": "2021-06-06T17:14:47.779954Z",
          "shell.execute_reply": "2021-06-06T17:14:47.780501Z",
          "shell.execute_reply.started": "2021-06-06T16:22:34.651872Z"
        },
        "papermill": {
          "duration": 0.171959,
          "end_time": "2021-06-06T17:14:47.780641",
          "exception": false,
          "start_time": "2021-06-06T17:14:47.608682",
          "status": "completed"
        },
        "tags": [],
        "colab": {
          "base_uri": "https://localhost:8080/"
        },
        "id": "VwMlLHgV1zq6",
        "outputId": "34cfb216-cebb-4a77-94d7-f7aba1891659"
      },
      "outputs": [
        {
          "output_type": "execute_result",
          "data": {
            "text/plain": [
              "2.0 LTR    14515\n",
              "1.6 LTR     9973\n",
              "3.0 LTR     7514\n",
              "1.8 LTR     5805\n",
              "2.5 LTR     4606\n",
              "           ...  \n",
              "6.4 LTR        2\n",
              "3.9 LTR        1\n",
              "6.5 LTR        1\n",
              "0.9 LTR        1\n",
              "0.6 LTR        1\n",
              "Name: engineDisplacement, Length: 61, dtype: int64"
            ]
          },
          "metadata": {},
          "execution_count": 147
        }
      ],
      "source": [
        "data.engineDisplacement.value_counts()"
      ]
    },
    {
      "cell_type": "code",
      "execution_count": 148,
      "metadata": {
        "execution": {
          "iopub.execute_input": "2021-06-06T17:14:48.074562Z",
          "iopub.status.busy": "2021-06-06T17:14:48.073950Z",
          "iopub.status.idle": "2021-06-06T17:14:48.153629Z",
          "shell.execute_reply": "2021-06-06T17:14:48.154092Z",
          "shell.execute_reply.started": "2021-06-06T16:22:34.675299Z"
        },
        "papermill": {
          "duration": 0.226975,
          "end_time": "2021-06-06T17:14:48.154241",
          "exception": false,
          "start_time": "2021-06-06T17:14:47.927266",
          "status": "completed"
        },
        "tags": [],
        "id": "nnjb_VJT1zq6"
      },
      "outputs": [],
      "source": [
        "#leave only the numerical value\n",
        "data.engineDisplacement = data.engineDisplacement.apply(lambda x: x[:3])\n",
        "data.engineDisplacement = data.engineDisplacement.replace(' LT', '2.0')\n",
        "data.engineDisplacement = data.engineDisplacement.apply(lambda x: float(x))"
      ]
    },
    {
      "cell_type": "code",
      "execution_count": 149,
      "metadata": {
        "execution": {
          "iopub.execute_input": "2021-06-06T17:14:48.501676Z",
          "iopub.status.busy": "2021-06-06T17:14:48.451899Z",
          "iopub.status.idle": "2021-06-06T17:14:48.511488Z",
          "shell.execute_reply": "2021-06-06T17:14:48.510822Z",
          "shell.execute_reply.started": "2021-06-06T16:22:34.751028Z"
        },
        "papermill": {
          "duration": 0.21127,
          "end_time": "2021-06-06T17:14:48.511599",
          "exception": false,
          "start_time": "2021-06-06T17:14:48.300329",
          "status": "completed"
        },
        "tags": [],
        "colab": {
          "base_uri": "https://localhost:8080/"
        },
        "id": "dq8dF0je1zq7",
        "outputId": "23303c3c-7cfe-4cb0-bf15-7a056628cccc"
      },
      "outputs": [
        {
          "output_type": "execute_result",
          "data": {
            "text/plain": [
              "2    25241\n",
              "1    22562\n",
              "3    12254\n",
              "4     5463\n",
              "0       89\n",
              "Name: engineDisplacement, dtype: int64"
            ]
          },
          "metadata": {},
          "execution_count": 149
        }
      ],
      "source": [
        "#categorizing\n",
        "data[\"engineDisplacement\"] = data[\"engineDisplacement\"].astype('float').apply(lambda x: 4 if x >= 4 else \n",
        "   3 if x >= 3 else(2 if x >= 2 else (1 if x >= 1 else 0)))\n",
        "data.engineDisplacement.value_counts()"
      ]
    },
    {
      "cell_type": "code",
      "execution_count": 150,
      "metadata": {
        "execution": {
          "iopub.execute_input": "2021-06-06T17:14:48.812164Z",
          "iopub.status.busy": "2021-06-06T17:14:48.811530Z",
          "iopub.status.idle": "2021-06-06T17:14:48.973837Z",
          "shell.execute_reply": "2021-06-06T17:14:48.973286Z",
          "shell.execute_reply.started": "2021-06-06T16:22:34.794554Z"
        },
        "papermill": {
          "duration": 0.314883,
          "end_time": "2021-06-06T17:14:48.973945",
          "exception": false,
          "start_time": "2021-06-06T17:14:48.659062",
          "status": "completed"
        },
        "tags": [],
        "colab": {
          "base_uri": "https://localhost:8080/",
          "height": 296
        },
        "id": "L-lUdaIl1zq7",
        "outputId": "25db23de-39cd-4343-b756-9ec1c5e07bd8"
      },
      "outputs": [
        {
          "output_type": "execute_result",
          "data": {
            "text/plain": [
              "<matplotlib.axes._subplots.AxesSubplot at 0x7fb3db7f0be0>"
            ]
          },
          "metadata": {},
          "execution_count": 150
        },
        {
          "output_type": "display_data",
          "data": {
            "text/plain": [
              "<Figure size 432x288 with 1 Axes>"
            ],
            "image/png": "[encoded data removed]"
          },
          "metadata": {
            "needs_background": "light"
          }
        }
      ],
      "source": [
        "sns.countplot(x = 'engineDisplacement', data = data)"
      ]
    },
    {
      "cell_type": "code",
      "execution_count": 151,
      "metadata": {
        "execution": {
          "iopub.execute_input": "2021-06-06T17:14:49.317270Z",
          "iopub.status.busy": "2021-06-06T17:14:49.316645Z",
          "iopub.status.idle": "2021-06-06T17:14:49.319527Z",
          "shell.execute_reply": "2021-06-06T17:14:49.319998Z",
          "shell.execute_reply.started": "2021-06-06T16:22:34.94261Z"
        },
        "papermill": {
          "duration": 0.1964,
          "end_time": "2021-06-06T17:14:49.320126",
          "exception": false,
          "start_time": "2021-06-06T17:14:49.123726",
          "status": "completed"
        },
        "tags": [],
        "id": "MRzYkxGG1zq7"
      },
      "outputs": [],
      "source": [
        "cat_cols.append('engineDisplacement')"
      ]
    },
    {
      "cell_type": "markdown",
      "metadata": {
        "papermill": {
          "duration": 0.148196,
          "end_time": "2021-06-06T17:14:49.612185",
          "exception": false,
          "start_time": "2021-06-06T17:14:49.463989",
          "status": "completed"
        },
        "tags": [],
        "id": "hLfY4RMF1zq7"
      },
      "source": [
        "**enginePower**"
      ]
    },
    {
      "cell_type": "code",
      "execution_count": 152,
      "metadata": {
        "execution": {
          "iopub.execute_input": "2021-06-06T17:14:49.914605Z",
          "iopub.status.busy": "2021-06-06T17:14:49.913924Z",
          "iopub.status.idle": "2021-06-06T17:14:49.921532Z",
          "shell.execute_reply": "2021-06-06T17:14:49.920899Z",
          "shell.execute_reply.started": "2021-06-06T16:22:34.949106Z"
        },
        "papermill": {
          "duration": 0.16235,
          "end_time": "2021-06-06T17:14:49.921640",
          "exception": false,
          "start_time": "2021-06-06T17:14:49.759290",
          "status": "completed"
        },
        "tags": [],
        "colab": {
          "base_uri": "https://localhost:8080/"
        },
        "id": "U03bVN-r1zq7",
        "outputId": "ebbad0c6-7ecf-40b9-a8e5-f85315b42f7a"
      },
      "outputs": [
        {
          "output_type": "execute_result",
          "data": {
            "text/plain": [
              "array(['105 N12', '110 N12', '152 N12', '200 N12', '102 N12', '150 N12',\n",
              "       '90 N12', '180 N12', '220 N12', '122 N12', '70 N12', '140 N12',\n",
              "       '125 N12', '54 N12', '86 N12', '75 N12', '64 N12', '95 N12',\n",
              "       '260 N12', '170 N12', '80 N12', '68 N12', '160 N12', '115 N12',\n",
              "       '280 N12', '53 N12', '60 N12', '143 N12', '42 N12', '101 N12',\n",
              "       '58 N12', '193 N12', '79 N12', '30 N12', '100 N12', '50 N12',\n",
              "       '163 N12', '225 N12', '420 N12', '211 N12', '245 N12', '560 N12',\n",
              "       '500 N12', '249 N12', '450 N12', '605 N12', '250 N12', '354 N12',\n",
              "       '120 N12', '290 N12', '230 N12', '350 N12', '204 N12', '255 N12',\n",
              "       '340 N12', '177 N12', '272 N12', '372 N12', '210 N12', '130 N12',\n",
              "       '300 N12', '190 N12', '239 N12', '435 N12', '333 N12', '271 N12',\n",
              "       '326 N12', '238 N12', '310 N12', '233 N12', '252 N12', '133 N12',\n",
              "       '460 N12', '520 N12', '400 N12', '525 N12', '367 N12', '265 N12',\n",
              "       '550 N12', '580 N12', '88 N12', '165 N12', '430 N12', '335 N12',\n",
              "       '174 N12', '224 N12', '136 N12', '256 N12', '338 N12', '112 N12',\n",
              "       '218 N12', '360 N12', '93 N12', '182 N12', '113 N12', '240 N12',\n",
              "       '270 N12', '137 N12', '155 N12', '61 N12', '254 N12', '116 N12',\n",
              "       '71 N12', '285 N12', '408 N12', '166 N12', '156 N12', '257 N12',\n",
              "       '201 N12', '162 N12', '194 N12', '142 N12', '154 N12', '147 N12',\n",
              "       '281 N12', '243 N12', '118 N12', '128 N12', '91 N12', '83 N12',\n",
              "       '205 N12', '247 N12', '188 N12', '295 N12', '275 N12', '78 N12',\n",
              "       '109 N12', '94 N12', '185 N12', '258 N12', '145 N12', '132 N12',\n",
              "       '135 N12', '52 N12', '66 N12', '124 N12', '98 N12', '215 N12',\n",
              "       '158 N12', '99 N12', '103 N12', '131 N12', '126 N12', '235 N12',\n",
              "       '181 N12', '315 N12', '203 N12', '231 N12', '82 N12', '304 N12',\n",
              "       '175 N12', '320 N12', '213 N12', '144 N12', '146 N12', '151 N12',\n",
              "       '111 N12', '286 N12', '306 N12', '107 N12', '184 N12', '313 N12',\n",
              "       '264 N12', '575 N12', '407 N12', '192 N12', '129 N12', '555 N12',\n",
              "       '625 N12', '329 N12', '370 N12', '381 N12', '269 N12', '600 N12',\n",
              "       '510 N12', '544 N12', '462 N12', '355 N12', '507 N12', '609 N12',\n",
              "       '431 N12', '530 N12', '387 N12', '610 N12', '197 N12', '343 N12',\n",
              "       '445 N12', '171 N12', '51 N12', '46 N12', '347 N12', '321 N12',\n",
              "       '167 N12', '141 N12', '169 N12', '405 N12', '117 N12', '114 N12',\n",
              "       '173 N12', '234 N12', '540 N12', '106 N12', '49 N12', '248 N12',\n",
              "       '317 N12', '309 N12', '97 N12', '121 N12', '268 N12', '149 N12',\n",
              "       '87 N12', '85 N12', '65 N12', '67 N12', '127 N12', '485 N12',\n",
              "       '186 N12', '222 N12', '307 N12', '262 N12', '302 N12', '284 N12',\n",
              "       '325 N12', '168 N12', '221 N12', '330 N12', '283 N12', '328 N12',\n",
              "       '303 N12', '278 N12', '388 N12', '571 N12', '585 N12', '612 N12',\n",
              "       '401 N12', '279 N12', '455 N12', '382 N12', '557 N12', '517 N12',\n",
              "       '394 N12', '422 N12', '292 N12', '469 N12', '522 N12', '296 N12',\n",
              "       '639 N12', '390 N12', '476 N12', '630 N12', '402 N12', '487 N12',\n",
              "       '558 N12', '421 N12', '316 N12', '514 N12', '457 N12', '626 N12',\n",
              "       '242 N12', '38 N12', '32 N12', '223 N12', '72 N12', '305 N12',\n",
              "       '183 N12', '273 N12', '159 N12', '76 N12', '148 N12', '179 N12',\n",
              "       '73 N12', '277 N12', '282 N12', '178 N12', '288 N12', '199 N12',\n",
              "       '266 N12', '92 N12', '74 N12', '324 N12', '232 N12', '157 N12',\n",
              "       '69 N12', '212 N12', '276 N12', '202 N12', '77 N12', '164 N12',\n",
              "       '96 N12', '84 N12', '228 N12', '108 N12', '208 N12', '263 N12',\n",
              "       '294 N12', '318 N12', '380 N12', '219 N12', '214 N12', '383 N12',\n",
              "       '241 N12', '57 N12', '55 N12', '104 N12', '48 N12', '40 N12',\n",
              "       '44 N12', '227 N12', '139 N12', '209 N12', '195 N12', '189 N12',\n",
              "       '480 N12', '591 N12', '301 N12', '650 N12', '720 N12', '287 N12',\n",
              "       '409 N12', '314 N12', '632 N12', '426 N12', '440 N12', '620 N12',\n",
              "       '385 N12', '608 N12', '449 N12', '123 N12', '635 N12', '351 N12',\n",
              "       '680 N12', '161 N12', '339 N12', '528 N12', '299 N12', '89 N12',\n",
              "       '81 N12', '334 N12', '345 N12', '762 N12', '468 N12', '800 N12',\n",
              "       '322 N12', '512 N12', '570 N12', '253 N12', '475 N12', '410 N12',\n",
              "       '702 N12', '396 N12', '490 N12', '565 N12', '389 N12', '564 N12',\n",
              "       '226 N12', '423 N12', '477 N12', '19 N12', '187 N12', '7 N12',\n",
              "       '236 N12', '45 N12'], dtype=object)"
            ]
          },
          "metadata": {},
          "execution_count": 152
        }
      ],
      "source": [
        "data.enginePower.unique()"
      ]
    },
    {
      "cell_type": "code",
      "execution_count": 153,
      "metadata": {
        "execution": {
          "iopub.execute_input": "2021-06-06T17:14:50.229720Z",
          "iopub.status.busy": "2021-06-06T17:14:50.224587Z",
          "iopub.status.idle": "2021-06-06T17:14:50.316277Z",
          "shell.execute_reply": "2021-06-06T17:14:50.315711Z",
          "shell.execute_reply.started": "2021-06-06T16:22:34.971282Z"
        },
        "papermill": {
          "duration": 0.244985,
          "end_time": "2021-06-06T17:14:50.316403",
          "exception": false,
          "start_time": "2021-06-06T17:14:50.071418",
          "status": "completed"
        },
        "tags": [],
        "id": "-1qyjmr31zq7"
      },
      "outputs": [],
      "source": [
        "#transform data\n",
        "data['enginePower'] = data['enginePower'].apply(lambda x: x[:3])\n",
        "data['enginePower'] = data['enginePower'].replace('7 N','7')\n",
        "data['enginePower'] = data['enginePower'].apply(lambda x: int(x))"
      ]
    },
    {
      "cell_type": "code",
      "execution_count": 154,
      "metadata": {
        "execution": {
          "iopub.execute_input": "2021-06-06T17:14:50.616187Z",
          "iopub.status.busy": "2021-06-06T17:14:50.611874Z",
          "iopub.status.idle": "2021-06-06T17:14:50.899187Z",
          "shell.execute_reply": "2021-06-06T17:14:50.898521Z",
          "shell.execute_reply.started": "2021-06-06T16:22:35.050086Z"
        },
        "papermill": {
          "duration": 0.438535,
          "end_time": "2021-06-06T17:14:50.899322",
          "exception": false,
          "start_time": "2021-06-06T17:14:50.460787",
          "status": "completed"
        },
        "tags": [],
        "colab": {
          "base_uri": "https://localhost:8080/",
          "height": 282
        },
        "id": "CnnnZYh51zq7",
        "outputId": "e36106b2-a371-403d-d15d-b44596154541"
      },
      "outputs": [
        {
          "output_type": "execute_result",
          "data": {
            "text/plain": [
              "<bound method Axes.barh of <matplotlib.axes._subplots.AxesSubplot object at 0x7fb3db850ac0>>"
            ]
          },
          "metadata": {},
          "execution_count": 154
        },
        {
          "output_type": "display_data",
          "data": {
            "text/plain": [
              "<Figure size 432x288 with 1 Axes>"
            ],
            "image/png": "[encoded data removed]"
          },
          "metadata": {
            "needs_background": "light"
          }
        }
      ],
      "source": [
        "data.enginePower.hist().barh"
      ]
    },
    {
      "cell_type": "code",
      "execution_count": 155,
      "metadata": {
        "execution": {
          "iopub.execute_input": "2021-06-06T17:14:51.205101Z",
          "iopub.status.busy": "2021-06-06T17:14:51.204122Z",
          "iopub.status.idle": "2021-06-06T17:14:51.207403Z",
          "shell.execute_reply": "2021-06-06T17:14:51.206780Z",
          "shell.execute_reply.started": "2021-06-06T16:22:35.330998Z"
        },
        "papermill": {
          "duration": 0.159662,
          "end_time": "2021-06-06T17:14:51.207512",
          "exception": false,
          "start_time": "2021-06-06T17:14:51.047850",
          "status": "completed"
        },
        "tags": [],
        "id": "HRxa9L_l1zq7"
      },
      "outputs": [],
      "source": [
        "#add to categorical \n",
        "num_cols.append('enginePower')"
      ]
    },
    {
      "cell_type": "markdown",
      "metadata": {
        "papermill": {
          "duration": 0.148634,
          "end_time": "2021-06-06T17:14:51.505152",
          "exception": false,
          "start_time": "2021-06-06T17:14:51.356518",
          "status": "completed"
        },
        "tags": [],
        "id": "wWppxGJo1zq8"
      },
      "source": [
        "**mileage**"
      ]
    },
    {
      "cell_type": "code",
      "execution_count": 156,
      "metadata": {
        "execution": {
          "iopub.execute_input": "2021-06-06T17:14:51.836125Z",
          "iopub.status.busy": "2021-06-06T17:14:51.835465Z",
          "iopub.status.idle": "2021-06-06T17:14:51.850149Z",
          "shell.execute_reply": "2021-06-06T17:14:51.849660Z",
          "shell.execute_reply.started": "2021-06-06T16:22:35.336745Z"
        },
        "papermill": {
          "duration": 0.192853,
          "end_time": "2021-06-06T17:14:51.850259",
          "exception": false,
          "start_time": "2021-06-06T17:14:51.657406",
          "status": "completed"
        },
        "tags": [],
        "colab": {
          "base_uri": "https://localhost:8080/"
        },
        "id": "Nx1ffQR51zq8",
        "outputId": "1f4412ae-1597-49be-c431-5139d9333b80"
      },
      "outputs": [
        {
          "output_type": "execute_result",
          "data": {
            "text/plain": [
              "200000    448\n",
              "300000    392\n",
              "150000    389\n",
              "250000    364\n",
              "180000    353\n",
              "         ... \n",
              "242540      1\n",
              "62844       1\n",
              "225700      1\n",
              "86755       1\n",
              "373317      1\n",
              "Name: mileage, Length: 25629, dtype: int64"
            ]
          },
          "metadata": {},
          "execution_count": 156
        }
      ],
      "source": [
        "data['mileage'].value_counts()"
      ]
    },
    {
      "cell_type": "code",
      "execution_count": 157,
      "metadata": {
        "execution": {
          "iopub.execute_input": "2021-06-06T17:14:52.188880Z",
          "iopub.status.busy": "2021-06-06T17:14:52.172297Z",
          "iopub.status.idle": "2021-06-06T17:14:52.224501Z",
          "shell.execute_reply": "2021-06-06T17:14:52.223924Z",
          "shell.execute_reply.started": "2021-06-06T16:22:35.383766Z"
        },
        "papermill": {
          "duration": 0.22467,
          "end_time": "2021-06-06T17:14:52.224615",
          "exception": false,
          "start_time": "2021-06-06T17:14:51.999945",
          "status": "completed"
        },
        "tags": [],
        "id": "Jo_TO4ay1zq8"
      },
      "outputs": [],
      "source": [
        "#cleaning data\n",
        "data['mileage'] = data['mileage'].apply(lambda x: str(x).replace('\\xa0км', ''))"
      ]
    },
    {
      "cell_type": "code",
      "execution_count": 158,
      "metadata": {
        "execution": {
          "iopub.execute_input": "2021-06-06T17:14:52.542785Z",
          "iopub.status.busy": "2021-06-06T17:14:52.532448Z",
          "iopub.status.idle": "2021-06-06T17:14:52.673882Z",
          "shell.execute_reply": "2021-06-06T17:14:52.673307Z",
          "shell.execute_reply.started": "2021-06-06T16:22:35.423283Z"
        },
        "papermill": {
          "duration": 0.297279,
          "end_time": "2021-06-06T17:14:52.674003",
          "exception": false,
          "start_time": "2021-06-06T17:14:52.376724",
          "status": "completed"
        },
        "tags": [],
        "id": "_Xy2kAyS1zq8"
      },
      "outputs": [],
      "source": [
        "data['mileage'] = data.mileage.apply(\n",
        "    lambda x: int(\"\".join(filter(str.isdigit, x))))"
      ]
    },
    {
      "cell_type": "code",
      "execution_count": 159,
      "metadata": {
        "_kg_hide-input": true,
        "execution": {
          "iopub.execute_input": "2021-06-06T17:14:52.982668Z",
          "iopub.status.busy": "2021-06-06T17:14:52.981950Z",
          "iopub.status.idle": "2021-06-06T17:14:53.325298Z",
          "shell.execute_reply": "2021-06-06T17:14:53.324694Z",
          "shell.execute_reply.started": "2021-06-06T16:22:35.535634Z"
        },
        "papermill": {
          "duration": 0.500694,
          "end_time": "2021-06-06T17:14:53.325423",
          "exception": false,
          "start_time": "2021-06-06T17:14:52.824729",
          "status": "completed"
        },
        "tags": [],
        "colab": {
          "base_uri": "https://localhost:8080/",
          "height": 489
        },
        "id": "ehp3ghcq1zq8",
        "outputId": "3d5bc5c8-3965-40d8-8223-60811f5f1501"
      },
      "outputs": [
        {
          "output_type": "execute_result",
          "data": {
            "text/plain": [
              "count      65609.000000\n",
              "mean      152734.059931\n",
              "std        98234.485146\n",
              "min            1.000000\n",
              "25%        82450.000000\n",
              "50%       140000.000000\n",
              "75%       202667.000000\n",
              "max      1000000.000000\n",
              "Name: mileage, dtype: float64"
            ]
          },
          "metadata": {},
          "execution_count": 159
        },
        {
          "output_type": "display_data",
          "data": {
            "text/plain": [
              "<Figure size 360x360 with 1 Axes>"
            ],
            "image/png": "[encoded data removed]"
          },
          "metadata": {
            "needs_background": "light"
          }
        }
      ],
      "source": [
        "data['mileage'].hist(figsize=(5,5), bins=50)\n",
        "data.mileage.describe()"
      ]
    },
    {
      "cell_type": "code",
      "execution_count": 160,
      "metadata": {
        "execution": {
          "iopub.execute_input": "2021-06-06T17:14:53.635879Z",
          "iopub.status.busy": "2021-06-06T17:14:53.635151Z",
          "iopub.status.idle": "2021-06-06T17:14:53.681092Z",
          "shell.execute_reply": "2021-06-06T17:14:53.680402Z",
          "shell.execute_reply.started": "2021-06-06T16:22:35.848328Z"
        },
        "papermill": {
          "duration": 0.205647,
          "end_time": "2021-06-06T17:14:53.681214",
          "exception": false,
          "start_time": "2021-06-06T17:14:53.475567",
          "status": "completed"
        },
        "tags": [],
        "id": "oPVYnDTl1zq8"
      },
      "outputs": [],
      "source": [
        "#create categorical feature 'mileage_cat'  \n",
        "data[\"mileage_cat\"] = data[\"mileage\"].apply(lambda x: 4 if x>=40000 else(3 if x>=30000 else(2 if x>=20000 else (1 if x>=10000 else 0))))"
      ]
    },
    {
      "cell_type": "code",
      "execution_count": 161,
      "metadata": {
        "execution": {
          "iopub.execute_input": "2021-06-06T17:14:53.991676Z",
          "iopub.status.busy": "2021-06-06T17:14:53.991035Z",
          "iopub.status.idle": "2021-06-06T17:14:53.996497Z",
          "shell.execute_reply": "2021-06-06T17:14:53.996989Z",
          "shell.execute_reply.started": "2021-06-06T16:22:35.885106Z"
        },
        "papermill": {
          "duration": 0.163594,
          "end_time": "2021-06-06T17:14:53.997123",
          "exception": false,
          "start_time": "2021-06-06T17:14:53.833529",
          "status": "completed"
        },
        "tags": [],
        "colab": {
          "base_uri": "https://localhost:8080/"
        },
        "id": "qdKNLyA91zq8",
        "outputId": "abd41963-2573-4a55-d2b7-f7d6cc38772f"
      },
      "outputs": [
        {
          "output_type": "execute_result",
          "data": {
            "text/plain": [
              "4    58896\n",
              "3     1845\n",
              "2     1699\n",
              "1     1595\n",
              "0     1574\n",
              "Name: mileage_cat, dtype: int64"
            ]
          },
          "metadata": {},
          "execution_count": 161
        }
      ],
      "source": [
        "data.mileage_cat.value_counts()"
      ]
    },
    {
      "cell_type": "code",
      "execution_count": 162,
      "metadata": {
        "execution": {
          "iopub.execute_input": "2021-06-06T17:14:54.305565Z",
          "iopub.status.busy": "2021-06-06T17:14:54.304928Z",
          "iopub.status.idle": "2021-06-06T17:14:54.308845Z",
          "shell.execute_reply": "2021-06-06T17:14:54.309396Z",
          "shell.execute_reply.started": "2021-06-06T16:22:35.896225Z"
        },
        "papermill": {
          "duration": 0.159031,
          "end_time": "2021-06-06T17:14:54.309538",
          "exception": false,
          "start_time": "2021-06-06T17:14:54.150507",
          "status": "completed"
        },
        "tags": [],
        "id": "7Z0ezYoR1zq8"
      },
      "outputs": [],
      "source": [
        "num_cols.append('mileage')\n",
        "cat_cols.append('mileage_cat')"
      ]
    },
    {
      "cell_type": "markdown",
      "metadata": {
        "papermill": {
          "duration": 0.150941,
          "end_time": "2021-06-06T17:14:54.610958",
          "exception": false,
          "start_time": "2021-06-06T17:14:54.460017",
          "status": "completed"
        },
        "tags": [],
        "id": "8LUrNzDM1zq9"
      },
      "source": [
        "**productionDate и modelDate**"
      ]
    },
    {
      "cell_type": "code",
      "execution_count": 163,
      "metadata": {
        "execution": {
          "iopub.execute_input": "2021-06-06T17:14:54.916559Z",
          "iopub.status.busy": "2021-06-06T17:14:54.915887Z",
          "iopub.status.idle": "2021-06-06T17:14:54.923562Z",
          "shell.execute_reply": "2021-06-06T17:14:54.924051Z",
          "shell.execute_reply.started": "2021-06-06T16:22:35.912009Z"
        },
        "papermill": {
          "duration": 0.161896,
          "end_time": "2021-06-06T17:14:54.924219",
          "exception": false,
          "start_time": "2021-06-06T17:14:54.762323",
          "status": "completed"
        },
        "tags": [],
        "colab": {
          "base_uri": "https://localhost:8080/"
        },
        "id": "ikHsr8eo1zq9",
        "outputId": "775fe919-76e6-4790-a30b-37d2dd128a1f"
      },
      "outputs": [
        {
          "output_type": "execute_result",
          "data": {
            "text/plain": [
              "2012    5382\n",
              "2013    4933\n",
              "2011    4772\n",
              "2014    4467\n",
              "2008    4410\n",
              "        ... \n",
              "1936       1\n",
              "1949       1\n",
              "1970       1\n",
              "1938       1\n",
              "1962       1\n",
              "Name: productionDate, Length: 74, dtype: int64"
            ]
          },
          "metadata": {},
          "execution_count": 163
        }
      ],
      "source": [
        "data.productionDate.value_counts()"
      ]
    },
    {
      "cell_type": "code",
      "execution_count": 164,
      "metadata": {
        "execution": {
          "iopub.execute_input": "2021-06-06T17:14:55.231842Z",
          "iopub.status.busy": "2021-06-06T17:14:55.231171Z",
          "iopub.status.idle": "2021-06-06T17:14:55.574567Z",
          "shell.execute_reply": "2021-06-06T17:14:55.574047Z",
          "shell.execute_reply.started": "2021-06-06T16:22:35.933618Z"
        },
        "papermill": {
          "duration": 0.497358,
          "end_time": "2021-06-06T17:14:55.574679",
          "exception": false,
          "start_time": "2021-06-06T17:14:55.077321",
          "status": "completed"
        },
        "tags": [],
        "colab": {
          "base_uri": "https://localhost:8080/",
          "height": 337
        },
        "id": "NrnVtaQo1zq9",
        "outputId": "cca98a6d-7dc7-4d4e-cc42-2f13a49233e2"
      },
      "outputs": [
        {
          "output_type": "stream",
          "name": "stdout",
          "text": [
            "AxesSubplot(0.125,0.125;0.775x0.755)\n"
          ]
        },
        {
          "output_type": "display_data",
          "data": {
            "text/plain": [
              "<Figure size 360x360 with 1 Axes>"
            ],
            "image/png": "[encoded data removed]"
          },
          "metadata": {
            "needs_background": "light"
          }
        }
      ],
      "source": [
        "print(data['productionDate'].hist(figsize=(5,5), bins=50))"
      ]
    },
    {
      "cell_type": "code",
      "execution_count": 165,
      "metadata": {
        "execution": {
          "iopub.execute_input": "2021-06-06T17:14:55.886394Z",
          "iopub.status.busy": "2021-06-06T17:14:55.885671Z",
          "iopub.status.idle": "2021-06-06T17:14:55.893016Z",
          "shell.execute_reply": "2021-06-06T17:14:55.892511Z",
          "shell.execute_reply.started": "2021-06-06T16:22:36.249741Z"
        },
        "papermill": {
          "duration": 0.165125,
          "end_time": "2021-06-06T17:14:55.893127",
          "exception": false,
          "start_time": "2021-06-06T17:14:55.728002",
          "status": "completed"
        },
        "tags": [],
        "colab": {
          "base_uri": "https://localhost:8080/"
        },
        "id": "HnIpyJDF1zq9",
        "outputId": "36fb7064-9c1e-4cde-c799-46f6aa55d2c6"
      },
      "outputs": [
        {
          "output_type": "execute_result",
          "data": {
            "text/plain": [
              "2013    4646\n",
              "2012    4616\n",
              "2011    4340\n",
              "2014    4191\n",
              "2010    4056\n",
              "        ... \n",
              "1965       1\n",
              "1946       1\n",
              "1934       1\n",
              "1952       1\n",
              "1950       1\n",
              "Name: modelDate, Length: 73, dtype: int64"
            ]
          },
          "metadata": {},
          "execution_count": 165
        }
      ],
      "source": [
        "data.modelDate.value_counts()"
      ]
    },
    {
      "cell_type": "code",
      "execution_count": 166,
      "metadata": {
        "execution": {
          "iopub.execute_input": "2021-06-06T17:14:56.211948Z",
          "iopub.status.busy": "2021-06-06T17:14:56.206657Z",
          "iopub.status.idle": "2021-06-06T17:14:56.551852Z",
          "shell.execute_reply": "2021-06-06T17:14:56.551308Z",
          "shell.execute_reply.started": "2021-06-06T16:22:36.262803Z"
        },
        "papermill": {
          "duration": 0.504583,
          "end_time": "2021-06-06T17:14:56.551971",
          "exception": false,
          "start_time": "2021-06-06T17:14:56.047388",
          "status": "completed"
        },
        "tags": [],
        "colab": {
          "base_uri": "https://localhost:8080/",
          "height": 337
        },
        "id": "ugMGTjZP1zq9",
        "outputId": "b8599d07-a2ff-4d08-f1e4-f702bcf8f19e"
      },
      "outputs": [
        {
          "output_type": "stream",
          "name": "stdout",
          "text": [
            "AxesSubplot(0.125,0.125;0.775x0.755)\n"
          ]
        },
        {
          "output_type": "display_data",
          "data": {
            "text/plain": [
              "<Figure size 360x360 with 1 Axes>"
            ],
            "image/png": "[encoded data removed]"
          },
          "metadata": {
            "needs_background": "light"
          }
        }
      ],
      "source": [
        "print(data['modelDate'].hist(figsize=(5,5), bins=50))"
      ]
    },
    {
      "cell_type": "code",
      "execution_count": 167,
      "metadata": {
        "execution": {
          "iopub.execute_input": "2021-06-06T17:14:56.869529Z",
          "iopub.status.busy": "2021-06-06T17:14:56.868883Z",
          "iopub.status.idle": "2021-06-06T17:14:56.874177Z",
          "shell.execute_reply": "2021-06-06T17:14:56.874644Z",
          "shell.execute_reply.started": "2021-06-06T16:22:36.57025Z"
        },
        "papermill": {
          "duration": 0.16696,
          "end_time": "2021-06-06T17:14:56.874783",
          "exception": false,
          "start_time": "2021-06-06T17:14:56.707823",
          "status": "completed"
        },
        "tags": [],
        "id": "UCf7Hq9y1zq9"
      },
      "outputs": [],
      "source": [
        "#create new features based on the existing ones: the number of years of production and the age of the model\n",
        "data['prod_age'] = 2021 - data.productionDate\n",
        "data['model_age'] = 2021 - data.modelDate"
      ]
    },
    {
      "cell_type": "code",
      "execution_count": 168,
      "metadata": {
        "execution": {
          "iopub.execute_input": "2021-06-06T17:14:57.192901Z",
          "iopub.status.busy": "2021-06-06T17:14:57.192193Z",
          "iopub.status.idle": "2021-06-06T17:14:57.194720Z",
          "shell.execute_reply": "2021-06-06T17:14:57.194055Z",
          "shell.execute_reply.started": "2021-06-06T16:22:36.579393Z"
        },
        "papermill": {
          "duration": 0.16445,
          "end_time": "2021-06-06T17:14:57.194834",
          "exception": false,
          "start_time": "2021-06-06T17:14:57.030384",
          "status": "completed"
        },
        "tags": [],
        "id": "EpOesqNu1zq9"
      },
      "outputs": [],
      "source": [
        "#define these features into numerical data\n",
        "num_cols.append('productionDate')\n",
        "num_cols.append('modelDate')\n",
        "num_cols.append('prod_age')\n",
        "num_cols.append('model_age')"
      ]
    },
    {
      "cell_type": "markdown",
      "metadata": {
        "papermill": {
          "duration": 0.153886,
          "end_time": "2021-06-06T17:14:57.502796",
          "exception": false,
          "start_time": "2021-06-06T17:14:57.348910",
          "status": "completed"
        },
        "tags": [],
        "id": "zHaIoPyL1zq9"
      },
      "source": [
        "**model_name**"
      ]
    },
    {
      "cell_type": "code",
      "execution_count": 169,
      "metadata": {
        "execution": {
          "iopub.execute_input": "2021-06-06T17:14:57.822052Z",
          "iopub.status.busy": "2021-06-06T17:14:57.821445Z",
          "iopub.status.idle": "2021-06-06T17:14:57.828103Z",
          "shell.execute_reply": "2021-06-06T17:14:57.827615Z",
          "shell.execute_reply.started": "2021-06-06T16:22:36.589467Z"
        },
        "papermill": {
          "duration": 0.169224,
          "end_time": "2021-06-06T17:14:57.828205",
          "exception": false,
          "start_time": "2021-06-06T17:14:57.658981",
          "status": "completed"
        },
        "tags": [],
        "colab": {
          "base_uri": "https://localhost:8080/"
        },
        "id": "zT5a8Ns-1zq-",
        "outputId": "e0bd2e0c-1553-4fd0-e681-92af502f27b2"
      },
      "outputs": [
        {
          "output_type": "execute_result",
          "data": {
            "text/plain": [
              "array(['OCTAVIA', 'SUPERB', 'OCTAVIA_RS', ..., 'VAMOS', 'CAPA', 'MDX'],\n",
              "      dtype=object)"
            ]
          },
          "metadata": {},
          "execution_count": 169
        }
      ],
      "source": [
        "data.model_name.unique()"
      ]
    },
    {
      "cell_type": "code",
      "execution_count": 170,
      "metadata": {
        "execution": {
          "iopub.execute_input": "2021-06-06T17:14:58.141086Z",
          "iopub.status.busy": "2021-06-06T17:14:58.140471Z",
          "iopub.status.idle": "2021-06-06T17:14:58.143860Z",
          "shell.execute_reply": "2021-06-06T17:14:58.144434Z",
          "shell.execute_reply.started": "2021-06-06T16:22:36.61058Z"
        },
        "papermill": {
          "duration": 0.162051,
          "end_time": "2021-06-06T17:14:58.144566",
          "exception": false,
          "start_time": "2021-06-06T17:14:57.982515",
          "status": "completed"
        },
        "tags": [],
        "id": "Xbp68N-y1zq-"
      },
      "outputs": [],
      "source": [
        "cat_cols.append('model_name')"
      ]
    },
    {
      "cell_type": "markdown",
      "metadata": {
        "papermill": {
          "duration": 0.154075,
          "end_time": "2021-06-06T17:14:58.453791",
          "exception": false,
          "start_time": "2021-06-06T17:14:58.299716",
          "status": "completed"
        },
        "tags": [],
        "id": "x6bpI37s1zq-"
      },
      "source": [
        "**numberOfDoors**"
      ]
    },
    {
      "cell_type": "code",
      "execution_count": 171,
      "metadata": {
        "execution": {
          "iopub.execute_input": "2021-06-06T17:14:58.769691Z",
          "iopub.status.busy": "2021-06-06T17:14:58.769018Z",
          "iopub.status.idle": "2021-06-06T17:14:58.775921Z",
          "shell.execute_reply": "2021-06-06T17:14:58.776535Z",
          "shell.execute_reply.started": "2021-06-06T16:22:36.616118Z"
        },
        "papermill": {
          "duration": 0.166379,
          "end_time": "2021-06-06T17:14:58.776674",
          "exception": false,
          "start_time": "2021-06-06T17:14:58.610295",
          "status": "completed"
        },
        "tags": [],
        "colab": {
          "base_uri": "https://localhost:8080/"
        },
        "id": "-Ry-7qXV1zq-",
        "outputId": "eb2eb597-ed65-4a68-c3cb-3164c1691c00"
      },
      "outputs": [
        {
          "output_type": "execute_result",
          "data": {
            "text/plain": [
              "5    36866\n",
              "4    25512\n",
              "2     2129\n",
              "3     1101\n",
              "0        1\n",
              "Name: numberOfDoors, dtype: int64"
            ]
          },
          "metadata": {},
          "execution_count": 171
        }
      ],
      "source": [
        "data.numberOfDoors.value_counts() #categorical feature,it doesn't require additional processing"
      ]
    },
    {
      "cell_type": "code",
      "execution_count": 172,
      "metadata": {
        "execution": {
          "iopub.execute_input": "2021-06-06T17:14:59.094287Z",
          "iopub.status.busy": "2021-06-06T17:14:59.093687Z",
          "iopub.status.idle": "2021-06-06T17:14:59.261726Z",
          "shell.execute_reply": "2021-06-06T17:14:59.262227Z",
          "shell.execute_reply.started": "2021-06-06T16:22:36.632637Z"
        },
        "papermill": {
          "duration": 0.329023,
          "end_time": "2021-06-06T17:14:59.262392",
          "exception": false,
          "start_time": "2021-06-06T17:14:58.933369",
          "status": "completed"
        },
        "tags": [],
        "colab": {
          "base_uri": "https://localhost:8080/",
          "height": 296
        },
        "id": "eTYjNBva1zq-",
        "outputId": "ea6cc909-0c04-47cc-975c-5e8c54907ff4"
      },
      "outputs": [
        {
          "output_type": "execute_result",
          "data": {
            "text/plain": [
              "<matplotlib.axes._subplots.AxesSubplot at 0x7fb3db6d8bb0>"
            ]
          },
          "metadata": {},
          "execution_count": 172
        },
        {
          "output_type": "display_data",
          "data": {
            "text/plain": [
              "<Figure size 432x288 with 1 Axes>"
            ],
            "image/png": "[encoded data removed]"
          },
          "metadata": {
            "needs_background": "light"
          }
        }
      ],
      "source": [
        "sns.countplot(x = 'numberOfDoors', data = data)"
      ]
    },
    {
      "cell_type": "code",
      "execution_count": 173,
      "metadata": {
        "execution": {
          "iopub.execute_input": "2021-06-06T17:14:59.584427Z",
          "iopub.status.busy": "2021-06-06T17:14:59.583807Z",
          "iopub.status.idle": "2021-06-06T17:14:59.586481Z",
          "shell.execute_reply": "2021-06-06T17:14:59.585927Z",
          "shell.execute_reply.started": "2021-06-06T16:22:36.812755Z"
        },
        "papermill": {
          "duration": 0.165938,
          "end_time": "2021-06-06T17:14:59.586597",
          "exception": false,
          "start_time": "2021-06-06T17:14:59.420659",
          "status": "completed"
        },
        "tags": [],
        "id": "D1bw89z71zq-"
      },
      "outputs": [],
      "source": [
        "cat_cols.append('numberOfDoors')"
      ]
    },
    {
      "cell_type": "markdown",
      "metadata": {
        "papermill": {
          "duration": 0.161283,
          "end_time": "2021-06-06T17:14:59.906005",
          "exception": false,
          "start_time": "2021-06-06T17:14:59.744722",
          "status": "completed"
        },
        "tags": [],
        "id": "ZpkeuyXE1zq-"
      },
      "source": [
        "**sell_id**"
      ]
    },
    {
      "cell_type": "code",
      "execution_count": 174,
      "metadata": {
        "execution": {
          "iopub.execute_input": "2021-06-06T17:15:00.229188Z",
          "iopub.status.busy": "2021-06-06T17:15:00.228185Z",
          "iopub.status.idle": "2021-06-06T17:15:00.232845Z",
          "shell.execute_reply": "2021-06-06T17:15:00.232256Z",
          "shell.execute_reply.started": "2021-06-06T16:22:36.819136Z"
        },
        "papermill": {
          "duration": 0.169292,
          "end_time": "2021-06-06T17:15:00.232967",
          "exception": false,
          "start_time": "2021-06-06T17:15:00.063675",
          "status": "completed"
        },
        "tags": [],
        "colab": {
          "base_uri": "https://localhost:8080/"
        },
        "id": "q3uJFSWw1zq-",
        "outputId": "a47c9d2c-a210-4bad-cf16-05ded75f35ae"
      },
      "outputs": [
        {
          "output_type": "execute_result",
          "data": {
            "text/plain": [
              "0"
            ]
          },
          "metadata": {},
          "execution_count": 174
        }
      ],
      "source": [
        "test.sell_id.isna().sum()"
      ]
    },
    {
      "cell_type": "markdown",
      "metadata": {
        "execution": {
          "iopub.execute_input": "2021-06-01T02:03:06.22253Z",
          "iopub.status.busy": "2021-06-01T02:03:06.222117Z",
          "iopub.status.idle": "2021-06-01T02:03:06.257053Z",
          "shell.execute_reply": "2021-06-01T02:03:06.256023Z",
          "shell.execute_reply.started": "2021-06-01T02:03:06.222485Z"
        },
        "papermill": {
          "duration": 0.154994,
          "end_time": "2021-06-06T17:15:00.542515",
          "exception": false,
          "start_time": "2021-06-06T17:15:00.387521",
          "status": "completed"
        },
        "tags": [],
        "id": "_fdYfzTy1zq-"
      },
      "source": [
        "\n",
        "sell_id - the identifier of the ad that we have in the test collection. The report shows that this feature is unique, there are no gaps left. The feature is the ID of the ad. Does not carry a semantic load, we do not select for training"
      ]
    },
    {
      "cell_type": "markdown",
      "metadata": {
        "papermill": {
          "duration": 0.157329,
          "end_time": "2021-06-06T17:15:00.856920",
          "exception": false,
          "start_time": "2021-06-06T17:15:00.699591",
          "status": "completed"
        },
        "tags": [],
        "id": "fbR-uWkA1zq-"
      },
      "source": [
        "**vehicleTransmission**"
      ]
    },
    {
      "cell_type": "code",
      "execution_count": 175,
      "metadata": {
        "execution": {
          "iopub.execute_input": "2021-06-06T17:15:01.196540Z",
          "iopub.status.busy": "2021-06-06T17:15:01.195673Z",
          "iopub.status.idle": "2021-06-06T17:15:01.198658Z",
          "shell.execute_reply": "2021-06-06T17:15:01.199161Z",
          "shell.execute_reply.started": "2021-06-06T16:22:36.842989Z"
        },
        "papermill": {
          "duration": 0.184547,
          "end_time": "2021-06-06T17:15:01.199303",
          "exception": false,
          "start_time": "2021-06-06T17:15:01.014756",
          "status": "completed"
        },
        "tags": [],
        "colab": {
          "base_uri": "https://localhost:8080/"
        },
        "id": "s5Kj6OQV1zq_",
        "outputId": "94c8baab-5751-4874-bc79-12c5991706b4"
      },
      "outputs": [
        {
          "output_type": "execute_result",
          "data": {
            "text/plain": [
              "автоматическая      37639\n",
              "механическая        12662\n",
              "роботизированная     7798\n",
              "вариатор             7510\n",
              "Name: vehicleTransmission, dtype: int64"
            ]
          },
          "metadata": {},
          "execution_count": 175
        }
      ],
      "source": [
        "data.vehicleTransmission.value_counts()"
      ]
    },
    {
      "cell_type": "code",
      "execution_count": 176,
      "metadata": {
        "execution": {
          "iopub.execute_input": "2021-06-06T17:15:01.523777Z",
          "iopub.status.busy": "2021-06-06T17:15:01.523109Z",
          "iopub.status.idle": "2021-06-06T17:15:01.690974Z",
          "shell.execute_reply": "2021-06-06T17:15:01.690396Z",
          "shell.execute_reply.started": "2021-06-06T16:22:36.864846Z"
        },
        "papermill": {
          "duration": 0.333433,
          "end_time": "2021-06-06T17:15:01.691084",
          "exception": false,
          "start_time": "2021-06-06T17:15:01.357651",
          "status": "completed"
        },
        "tags": [],
        "colab": {
          "base_uri": "https://localhost:8080/",
          "height": 296
        },
        "id": "tGaAOy2v1zq_",
        "outputId": "beec0207-cd3c-4f89-b61b-42ca7e520027"
      },
      "outputs": [
        {
          "output_type": "execute_result",
          "data": {
            "text/plain": [
              "<matplotlib.axes._subplots.AxesSubplot at 0x7fb3db66a4c0>"
            ]
          },
          "metadata": {},
          "execution_count": 176
        },
        {
          "output_type": "display_data",
          "data": {
            "text/plain": [
              "<Figure size 432x288 with 1 Axes>"
            ],
            "image/png": "[encoded data removed]"
          },
          "metadata": {
            "needs_background": "light"
          }
        }
      ],
      "source": [
        "sns.countplot(x = 'vehicleTransmission', data = data)"
      ]
    },
    {
      "cell_type": "code",
      "execution_count": 177,
      "metadata": {
        "execution": {
          "iopub.execute_input": "2021-06-06T17:15:02.014674Z",
          "iopub.status.busy": "2021-06-06T17:15:02.013943Z",
          "iopub.status.idle": "2021-06-06T17:15:02.017037Z",
          "shell.execute_reply": "2021-06-06T17:15:02.016427Z",
          "shell.execute_reply.started": "2021-06-06T16:22:37.023481Z"
        },
        "papermill": {
          "duration": 0.166748,
          "end_time": "2021-06-06T17:15:02.017145",
          "exception": false,
          "start_time": "2021-06-06T17:15:01.850397",
          "status": "completed"
        },
        "tags": [],
        "id": "zEPDrza71zq_"
      },
      "outputs": [],
      "source": [
        "#define as categorical\n",
        "cat_cols.append('vehicleTransmission')"
      ]
    },
    {
      "cell_type": "markdown",
      "metadata": {
        "papermill": {
          "duration": 0.16072,
          "end_time": "2021-06-06T17:15:02.339750",
          "exception": false,
          "start_time": "2021-06-06T17:15:02.179030",
          "status": "completed"
        },
        "tags": [],
        "id": "V6-vPI3X1zq_"
      },
      "source": [
        "**owners**"
      ]
    },
    {
      "cell_type": "code",
      "execution_count": 178,
      "metadata": {
        "execution": {
          "iopub.execute_input": "2021-06-06T17:15:02.679272Z",
          "iopub.status.busy": "2021-06-06T17:15:02.678202Z",
          "iopub.status.idle": "2021-06-06T17:15:02.682640Z",
          "shell.execute_reply": "2021-06-06T17:15:02.682085Z",
          "shell.execute_reply.started": "2021-06-06T16:22:37.028978Z"
        },
        "papermill": {
          "duration": 0.184702,
          "end_time": "2021-06-06T17:15:02.682752",
          "exception": false,
          "start_time": "2021-06-06T17:15:02.498050",
          "status": "completed"
        },
        "tags": [],
        "colab": {
          "base_uri": "https://localhost:8080/"
        },
        "id": "0pNny5L51zq_",
        "outputId": "27769cd3-b8d4-4eaa-e7ea-18afe9aa9c09"
      },
      "outputs": [
        {
          "output_type": "execute_result",
          "data": {
            "text/plain": [
              "3 или более    27688\n",
              "1 владелец     11879\n",
              "2 владельца    10713\n",
              "1 владелец      8517\n",
              "2 владельца     6812\n",
              "Name: owners, dtype: int64"
            ]
          },
          "metadata": {},
          "execution_count": 178
        }
      ],
      "source": [
        "data['owners'].value_counts()"
      ]
    },
    {
      "cell_type": "code",
      "execution_count": 179,
      "metadata": {
        "execution": {
          "iopub.execute_input": "2021-06-06T17:15:03.056972Z",
          "iopub.status.busy": "2021-06-06T17:15:03.016456Z",
          "iopub.status.idle": "2021-06-06T17:15:03.077861Z",
          "shell.execute_reply": "2021-06-06T17:15:03.077143Z",
          "shell.execute_reply.started": "2021-06-06T16:22:37.051629Z"
        },
        "papermill": {
          "duration": 0.236249,
          "end_time": "2021-06-06T17:15:03.077978",
          "exception": false,
          "start_time": "2021-06-06T17:15:02.841729",
          "status": "completed"
        },
        "tags": [],
        "id": "K_bqLxq41zq_"
      },
      "outputs": [],
      "source": [
        "#clean up the data, leave only the number of owners\n",
        "data['owners'] = data['owners'].apply(lambda x: int(x[0])).astype('int32')"
      ]
    },
    {
      "cell_type": "code",
      "execution_count": 180,
      "metadata": {
        "execution": {
          "iopub.execute_input": "2021-06-06T17:15:03.428464Z",
          "iopub.status.busy": "2021-06-06T17:15:03.427424Z",
          "iopub.status.idle": "2021-06-06T17:15:03.434465Z",
          "shell.execute_reply": "2021-06-06T17:15:03.433891Z",
          "shell.execute_reply.started": "2021-06-06T16:22:37.113288Z"
        },
        "papermill": {
          "duration": 0.17103,
          "end_time": "2021-06-06T17:15:03.434577",
          "exception": false,
          "start_time": "2021-06-06T17:15:03.263547",
          "status": "completed"
        },
        "tags": [],
        "colab": {
          "base_uri": "https://localhost:8080/"
        },
        "id": "usz8gn6G1zq_",
        "outputId": "103c7b41-7258-498f-f70b-1a8aa7f5d96a"
      },
      "outputs": [
        {
          "output_type": "execute_result",
          "data": {
            "text/plain": [
              "3    27688\n",
              "1    20396\n",
              "2    17525\n",
              "Name: owners, dtype: int64"
            ]
          },
          "metadata": {},
          "execution_count": 180
        }
      ],
      "source": [
        "data.owners.value_counts()"
      ]
    },
    {
      "cell_type": "code",
      "execution_count": 181,
      "metadata": {
        "execution": {
          "iopub.execute_input": "2021-06-06T17:15:03.757610Z",
          "iopub.status.busy": "2021-06-06T17:15:03.756987Z",
          "iopub.status.idle": "2021-06-06T17:15:03.893829Z",
          "shell.execute_reply": "2021-06-06T17:15:03.894357Z",
          "shell.execute_reply.started": "2021-06-06T16:22:37.122796Z"
        },
        "papermill": {
          "duration": 0.301339,
          "end_time": "2021-06-06T17:15:03.894521",
          "exception": false,
          "start_time": "2021-06-06T17:15:03.593182",
          "status": "completed"
        },
        "tags": [],
        "colab": {
          "base_uri": "https://localhost:8080/",
          "height": 296
        },
        "id": "22elRNu91zq_",
        "outputId": "5f5a40f3-ad0c-4746-8504-aaedb266cd1c"
      },
      "outputs": [
        {
          "output_type": "execute_result",
          "data": {
            "text/plain": [
              "<matplotlib.axes._subplots.AxesSubplot at 0x7fb3db5c27c0>"
            ]
          },
          "metadata": {},
          "execution_count": 181
        },
        {
          "output_type": "display_data",
          "data": {
            "text/plain": [
              "<Figure size 432x288 with 1 Axes>"
            ],
            "image/png": "[encoded data removed]"
          },
          "metadata": {
            "needs_background": "light"
          }
        }
      ],
      "source": [
        "sns.countplot(x = 'owners', data = data)"
      ]
    },
    {
      "cell_type": "code",
      "execution_count": 182,
      "metadata": {
        "execution": {
          "iopub.execute_input": "2021-06-06T17:15:04.218900Z",
          "iopub.status.busy": "2021-06-06T17:15:04.218291Z",
          "iopub.status.idle": "2021-06-06T17:15:04.221779Z",
          "shell.execute_reply": "2021-06-06T17:15:04.222367Z",
          "shell.execute_reply.started": "2021-06-06T16:22:37.259561Z"
        },
        "papermill": {
          "duration": 0.167311,
          "end_time": "2021-06-06T17:15:04.222500",
          "exception": false,
          "start_time": "2021-06-06T17:15:04.055189",
          "status": "completed"
        },
        "tags": [],
        "id": "0CrXHrl31zq_"
      },
      "outputs": [],
      "source": [
        "cat_cols.append('owners')"
      ]
    },
    {
      "cell_type": "markdown",
      "metadata": {
        "papermill": {
          "duration": 0.158208,
          "end_time": "2021-06-06T17:15:04.540884",
          "exception": false,
          "start_time": "2021-06-06T17:15:04.382676",
          "status": "completed"
        },
        "tags": [],
        "id": "PlrhY50d1zrA"
      },
      "source": [
        "**vehicle_licence**"
      ]
    },
    {
      "cell_type": "code",
      "execution_count": 183,
      "metadata": {
        "execution": {
          "iopub.execute_input": "2021-06-06T17:15:04.866599Z",
          "iopub.status.busy": "2021-06-06T17:15:04.865895Z",
          "iopub.status.idle": "2021-06-06T17:15:04.889723Z",
          "shell.execute_reply": "2021-06-06T17:15:04.890224Z",
          "shell.execute_reply.started": "2021-06-06T16:22:37.266914Z"
        },
        "papermill": {
          "duration": 0.188224,
          "end_time": "2021-06-06T17:15:04.890382",
          "exception": false,
          "start_time": "2021-06-06T17:15:04.702158",
          "status": "completed"
        },
        "tags": [],
        "colab": {
          "base_uri": "https://localhost:8080/"
        },
        "id": "noZ6Hpe71zrA",
        "outputId": "f0fc54cf-ddfa-42cc-b871-fe99a30d6f77"
      },
      "outputs": [
        {
          "output_type": "execute_result",
          "data": {
            "text/plain": [
              "Оригинал    57486\n",
              "Дубликат     8122\n",
              "Name: vehicle_licence, dtype: int64"
            ]
          },
          "metadata": {},
          "execution_count": 183
        }
      ],
      "source": [
        "data.vehicle_licence.value_counts()"
      ]
    },
    {
      "cell_type": "code",
      "execution_count": 184,
      "metadata": {
        "execution": {
          "iopub.execute_input": "2021-06-06T17:15:05.211739Z",
          "iopub.status.busy": "2021-06-06T17:15:05.211080Z",
          "iopub.status.idle": "2021-06-06T17:15:05.223596Z",
          "shell.execute_reply": "2021-06-06T17:15:05.223045Z",
          "shell.execute_reply.started": "2021-06-06T16:22:37.288598Z"
        },
        "papermill": {
          "duration": 0.174017,
          "end_time": "2021-06-06T17:15:05.223708",
          "exception": false,
          "start_time": "2021-06-06T17:15:05.049691",
          "status": "completed"
        },
        "tags": [],
        "colab": {
          "base_uri": "https://localhost:8080/"
        },
        "id": "012eYUHO1zrA",
        "outputId": "380bb4e6-b4b1-4373-9076-33d17b684712"
      },
      "outputs": [
        {
          "output_type": "execute_result",
          "data": {
            "text/plain": [
              "1"
            ]
          },
          "metadata": {},
          "execution_count": 184
        }
      ],
      "source": [
        "data.vehicle_licence.isna().sum()"
      ]
    },
    {
      "cell_type": "code",
      "execution_count": 185,
      "metadata": {
        "execution": {
          "iopub.execute_input": "2021-06-06T17:15:05.557681Z",
          "iopub.status.busy": "2021-06-06T17:15:05.557040Z",
          "iopub.status.idle": "2021-06-06T17:15:05.562653Z",
          "shell.execute_reply": "2021-06-06T17:15:05.562110Z",
          "shell.execute_reply.started": "2021-06-06T16:22:37.305761Z"
        },
        "papermill": {
          "duration": 0.177756,
          "end_time": "2021-06-06T17:15:05.562764",
          "exception": false,
          "start_time": "2021-06-06T17:15:05.385008",
          "status": "completed"
        },
        "tags": [],
        "id": "BSoB2elv1zrA"
      },
      "outputs": [],
      "source": [
        "data.vehicle_licence = data.vehicle_licence.fillna('Оригинал')# fill in the gap with the most common value"
      ]
    },
    {
      "cell_type": "code",
      "execution_count": 186,
      "metadata": {
        "execution": {
          "iopub.execute_input": "2021-06-06T17:15:05.897663Z",
          "iopub.status.busy": "2021-06-06T17:15:05.892374Z",
          "iopub.status.idle": "2021-06-06T17:15:05.944695Z",
          "shell.execute_reply": "2021-06-06T17:15:05.944034Z",
          "shell.execute_reply.started": "2021-06-06T16:22:37.325333Z"
        },
        "papermill": {
          "duration": 0.219544,
          "end_time": "2021-06-06T17:15:05.944807",
          "exception": false,
          "start_time": "2021-06-06T17:15:05.725263",
          "status": "completed"
        },
        "tags": [],
        "id": "2vTo8-A21zrA"
      },
      "outputs": [],
      "source": [
        "# Let's transform the values in 'vehicle_licence'\n",
        "data['vehicle_licence'] = data['vehicle_licence'].apply(lambda x: 1 if x == 'Оригинал' else 0).astype('int8')"
      ]
    },
    {
      "cell_type": "code",
      "execution_count": 187,
      "metadata": {
        "execution": {
          "iopub.execute_input": "2021-06-06T17:15:06.273325Z",
          "iopub.status.busy": "2021-06-06T17:15:06.272688Z",
          "iopub.status.idle": "2021-06-06T17:15:06.430112Z",
          "shell.execute_reply": "2021-06-06T17:15:06.431067Z",
          "shell.execute_reply.started": "2021-06-06T16:22:37.373502Z"
        },
        "papermill": {
          "duration": 0.324777,
          "end_time": "2021-06-06T17:15:06.431265",
          "exception": false,
          "start_time": "2021-06-06T17:15:06.106488",
          "status": "completed"
        },
        "tags": [],
        "colab": {
          "base_uri": "https://localhost:8080/",
          "height": 300
        },
        "id": "N-F3CsVa1zrC",
        "outputId": "1e4cb387-8ca3-4849-9566-7151eee108cd"
      },
      "outputs": [
        {
          "output_type": "execute_result",
          "data": {
            "text/plain": [
              "<matplotlib.axes._subplots.AxesSubplot at 0x7fb3db751eb0>"
            ]
          },
          "metadata": {},
          "execution_count": 187
        },
        {
          "output_type": "display_data",
          "data": {
            "text/plain": [
              "<Figure size 432x288 with 1 Axes>"
            ],
            "image/png": "[encoded data removed]"
          },
          "metadata": {
            "needs_background": "light"
          }
        }
      ],
      "source": [
        "sns.countplot(x = 'vehicle_licence', data = data)"
      ]
    },
    {
      "cell_type": "code",
      "execution_count": 188,
      "metadata": {
        "execution": {
          "iopub.execute_input": "2021-06-06T17:15:06.799085Z",
          "iopub.status.busy": "2021-06-06T17:15:06.798114Z",
          "iopub.status.idle": "2021-06-06T17:15:06.801516Z",
          "shell.execute_reply": "2021-06-06T17:15:06.800880Z",
          "shell.execute_reply.started": "2021-06-06T16:22:37.495115Z"
        },
        "papermill": {
          "duration": 0.170702,
          "end_time": "2021-06-06T17:15:06.801630",
          "exception": false,
          "start_time": "2021-06-06T17:15:06.630928",
          "status": "completed"
        },
        "tags": [],
        "id": "7Y9R0Nen1zrD"
      },
      "outputs": [],
      "source": [
        "#define binary features\n",
        "bin_cols.append('vehicle_licence')"
      ]
    },
    {
      "cell_type": "markdown",
      "metadata": {
        "papermill": {
          "duration": 0.168063,
          "end_time": "2021-06-06T17:15:07.135163",
          "exception": false,
          "start_time": "2021-06-06T17:15:06.967100",
          "status": "completed"
        },
        "tags": [],
        "id": "o2R2HdXd1zrD"
      },
      "source": [
        "**Привод**"
      ]
    },
    {
      "cell_type": "code",
      "execution_count": 189,
      "metadata": {
        "execution": {
          "iopub.execute_input": "2021-06-06T17:15:07.464094Z",
          "iopub.status.busy": "2021-06-06T17:15:07.463066Z",
          "iopub.status.idle": "2021-06-06T17:15:07.485273Z",
          "shell.execute_reply": "2021-06-06T17:15:07.485825Z",
          "shell.execute_reply.started": "2021-06-06T16:22:37.499268Z"
        },
        "papermill": {
          "duration": 0.187342,
          "end_time": "2021-06-06T17:15:07.485959",
          "exception": false,
          "start_time": "2021-06-06T17:15:07.298617",
          "status": "completed"
        },
        "tags": [],
        "colab": {
          "base_uri": "https://localhost:8080/"
        },
        "id": "gMCNSbGn1zrD",
        "outputId": "1673ada0-4084-4b48-f72a-136e0b19a351"
      },
      "outputs": [
        {
          "output_type": "execute_result",
          "data": {
            "text/plain": [
              "передний    29352\n",
              "полный      29242\n",
              "задний       7015\n",
              "Name: drive_type, dtype: int64"
            ]
          },
          "metadata": {},
          "execution_count": 189
        }
      ],
      "source": [
        "data.drive_type.value_counts()"
      ]
    },
    {
      "cell_type": "code",
      "execution_count": 190,
      "metadata": {
        "execution": {
          "iopub.execute_input": "2021-06-06T17:15:07.820565Z",
          "iopub.status.busy": "2021-06-06T17:15:07.819631Z",
          "iopub.status.idle": "2021-06-06T17:15:07.972107Z",
          "shell.execute_reply": "2021-06-06T17:15:07.971487Z",
          "shell.execute_reply.started": "2021-06-06T16:22:37.522302Z"
        },
        "papermill": {
          "duration": 0.320938,
          "end_time": "2021-06-06T17:15:07.972224",
          "exception": false,
          "start_time": "2021-06-06T17:15:07.651286",
          "status": "completed"
        },
        "tags": [],
        "colab": {
          "base_uri": "https://localhost:8080/",
          "height": 297
        },
        "id": "yDtBlbCY1zrD",
        "outputId": "ce057442-dada-46d7-b87e-17650ec2ade0"
      },
      "outputs": [
        {
          "output_type": "execute_result",
          "data": {
            "text/plain": [
              "<matplotlib.axes._subplots.AxesSubplot at 0x7fb3db87bc40>"
            ]
          },
          "metadata": {},
          "execution_count": 190
        },
        {
          "output_type": "display_data",
          "data": {
            "text/plain": [
              "<Figure size 432x288 with 1 Axes>"
            ],
            "image/png": "[encoded data removed]"
          },
          "metadata": {
            "needs_background": "light"
          }
        }
      ],
      "source": [
        "#посмотрим на распределение\n",
        "sns.countplot(x = 'drive_type', data = data)"
      ]
    },
    {
      "cell_type": "code",
      "execution_count": 191,
      "metadata": {
        "execution": {
          "iopub.execute_input": "2021-06-06T17:15:08.306512Z",
          "iopub.status.busy": "2021-06-06T17:15:08.305825Z",
          "iopub.status.idle": "2021-06-06T17:15:08.308769Z",
          "shell.execute_reply": "2021-06-06T17:15:08.308240Z",
          "shell.execute_reply.started": "2021-06-06T16:22:37.671267Z"
        },
        "papermill": {
          "duration": 0.172661,
          "end_time": "2021-06-06T17:15:08.308876",
          "exception": false,
          "start_time": "2021-06-06T17:15:08.136215",
          "status": "completed"
        },
        "tags": [],
        "id": "60-XW1XO1zrD"
      },
      "outputs": [],
      "source": [
        "cat_cols.append('drive_type')"
      ]
    },
    {
      "cell_type": "markdown",
      "metadata": {
        "papermill": {
          "duration": 0.164793,
          "end_time": "2021-06-06T17:15:08.637836",
          "exception": false,
          "start_time": "2021-06-06T17:15:08.473043",
          "status": "completed"
        },
        "tags": [],
        "id": "rzVcrXiY1zrD"
      },
      "source": [
        "**Wheel**"
      ]
    },
    {
      "cell_type": "code",
      "execution_count": 192,
      "metadata": {
        "execution": {
          "iopub.execute_input": "2021-06-06T17:15:08.989198Z",
          "iopub.status.busy": "2021-06-06T17:15:08.988194Z",
          "iopub.status.idle": "2021-06-06T17:15:08.991866Z",
          "shell.execute_reply": "2021-06-06T17:15:08.992402Z",
          "shell.execute_reply.started": "2021-06-06T16:22:37.678107Z"
        },
        "papermill": {
          "duration": 0.190275,
          "end_time": "2021-06-06T17:15:08.992545",
          "exception": false,
          "start_time": "2021-06-06T17:15:08.802270",
          "status": "completed"
        },
        "tags": [],
        "colab": {
          "base_uri": "https://localhost:8080/"
        },
        "id": "GlcJ2npo1zrD",
        "outputId": "21bd7461-37d5-4569-dd1c-2c7862698f46"
      },
      "outputs": [
        {
          "output_type": "execute_result",
          "data": {
            "text/plain": [
              "Левый     63355\n",
              "Правый     2254\n",
              "Name: wheel, dtype: int64"
            ]
          },
          "metadata": {},
          "execution_count": 192
        }
      ],
      "source": [
        "data.wheel.value_counts()"
      ]
    },
    {
      "cell_type": "code",
      "execution_count": 193,
      "metadata": {
        "execution": {
          "iopub.execute_input": "2021-06-06T17:15:09.325644Z",
          "iopub.status.busy": "2021-06-06T17:15:09.324714Z",
          "iopub.status.idle": "2021-06-06T17:15:09.376846Z",
          "shell.execute_reply": "2021-06-06T17:15:09.377342Z",
          "shell.execute_reply.started": "2021-06-06T16:22:37.701171Z"
        },
        "papermill": {
          "duration": 0.219778,
          "end_time": "2021-06-06T17:15:09.377511",
          "exception": false,
          "start_time": "2021-06-06T17:15:09.157733",
          "status": "completed"
        },
        "tags": [],
        "id": "Aj_ldqcz1zrE"
      },
      "outputs": [],
      "source": [
        "# Преобразуем значения в колонке Руль\n",
        "data['wheel'] = data['wheel'].apply(lambda x: 1 if x == 'Левый' else 0).astype('int8')"
      ]
    },
    {
      "cell_type": "code",
      "execution_count": 194,
      "metadata": {
        "execution": {
          "iopub.execute_input": "2021-06-06T17:15:09.708968Z",
          "iopub.status.busy": "2021-06-06T17:15:09.707947Z",
          "iopub.status.idle": "2021-06-06T17:15:09.836837Z",
          "shell.execute_reply": "2021-06-06T17:15:09.836240Z",
          "shell.execute_reply.started": "2021-06-06T16:22:37.746352Z"
        },
        "papermill": {
          "duration": 0.296092,
          "end_time": "2021-06-06T17:15:09.836948",
          "exception": false,
          "start_time": "2021-06-06T17:15:09.540856",
          "status": "completed"
        },
        "tags": [],
        "colab": {
          "base_uri": "https://localhost:8080/",
          "height": 296
        },
        "id": "zpRzMdfq1zrE",
        "outputId": "0b6687f4-27ce-4381-c099-9c20fdc16e6a"
      },
      "outputs": [
        {
          "output_type": "execute_result",
          "data": {
            "text/plain": [
              "<matplotlib.axes._subplots.AxesSubplot at 0x7fb3db7cb790>"
            ]
          },
          "metadata": {},
          "execution_count": 194
        },
        {
          "output_type": "display_data",
          "data": {
            "text/plain": [
              "<Figure size 432x288 with 1 Axes>"
            ],
            "image/png": "[encoded data removed]"
          },
          "metadata": {
            "needs_background": "light"
          }
        }
      ],
      "source": [
        "sns.countplot(x = 'wheel', data = data)"
      ]
    },
    {
      "cell_type": "code",
      "execution_count": 195,
      "metadata": {
        "execution": {
          "iopub.execute_input": "2021-06-06T17:15:10.212934Z",
          "iopub.status.busy": "2021-06-06T17:15:10.212277Z",
          "iopub.status.idle": "2021-06-06T17:15:10.214682Z",
          "shell.execute_reply": "2021-06-06T17:15:10.215190Z",
          "shell.execute_reply.started": "2021-06-06T16:22:37.870866Z"
        },
        "papermill": {
          "duration": 0.17323,
          "end_time": "2021-06-06T17:15:10.215325",
          "exception": false,
          "start_time": "2021-06-06T17:15:10.042095",
          "status": "completed"
        },
        "tags": [],
        "id": "3oJj8n801zrE"
      },
      "outputs": [],
      "source": [
        "bin_cols.append('wheel')"
      ]
    },
    {
      "cell_type": "markdown",
      "metadata": {
        "papermill": {
          "duration": 0.161164,
          "end_time": "2021-06-06T17:15:10.539605",
          "exception": false,
          "start_time": "2021-06-06T17:15:10.378441",
          "status": "completed"
        },
        "tags": [],
        "id": "P5wxx5s41zrE"
      },
      "source": [
        "**condition**"
      ]
    },
    {
      "cell_type": "code",
      "execution_count": 196,
      "metadata": {
        "execution": {
          "iopub.execute_input": "2021-06-06T17:15:10.874087Z",
          "iopub.status.busy": "2021-06-06T17:15:10.873493Z",
          "iopub.status.idle": "2021-06-06T17:15:10.881035Z",
          "shell.execute_reply": "2021-06-06T17:15:10.880548Z",
          "shell.execute_reply.started": "2021-06-06T16:22:37.877842Z"
        },
        "papermill": {
          "duration": 0.177853,
          "end_time": "2021-06-06T17:15:10.881137",
          "exception": false,
          "start_time": "2021-06-06T17:15:10.703284",
          "status": "completed"
        },
        "tags": [],
        "colab": {
          "base_uri": "https://localhost:8080/"
        },
        "id": "3eJt-1PM1zrE",
        "outputId": "0ba5de79-b0b5-4428-9cf7-bd9946bc2837"
      },
      "outputs": [
        {
          "output_type": "execute_result",
          "data": {
            "text/plain": [
              "array(['Не требует ремонта', 'Битый / не на ходу'], dtype=object)"
            ]
          },
          "metadata": {},
          "execution_count": 196
        }
      ],
      "source": [
        "data.condition.unique()"
      ]
    },
    {
      "cell_type": "code",
      "execution_count": 197,
      "metadata": {
        "execution": {
          "iopub.execute_input": "2021-06-06T17:15:11.215635Z",
          "iopub.status.busy": "2021-06-06T17:15:11.214937Z",
          "iopub.status.idle": "2021-06-06T17:15:11.267727Z",
          "shell.execute_reply": "2021-06-06T17:15:11.268300Z",
          "shell.execute_reply.started": "2021-06-06T16:22:37.898914Z"
        },
        "papermill": {
          "duration": 0.2233,
          "end_time": "2021-06-06T17:15:11.268476",
          "exception": false,
          "start_time": "2021-06-06T17:15:11.045176",
          "status": "completed"
        },
        "tags": [],
        "id": "qmmXsrhm1zrE"
      },
      "outputs": [],
      "source": [
        "# Преобразуем значения в колонке Состояние\n",
        "data['condition'] = data['condition'].apply(lambda x: 1 if x == 'Не требует ремонта' else 0).astype('int8')"
      ]
    },
    {
      "cell_type": "code",
      "execution_count": 198,
      "metadata": {
        "execution": {
          "iopub.execute_input": "2021-06-06T17:15:11.601810Z",
          "iopub.status.busy": "2021-06-06T17:15:11.601121Z",
          "iopub.status.idle": "2021-06-06T17:15:11.608418Z",
          "shell.execute_reply": "2021-06-06T17:15:11.609002Z",
          "shell.execute_reply.started": "2021-06-06T16:22:37.937294Z"
        },
        "papermill": {
          "duration": 0.177742,
          "end_time": "2021-06-06T17:15:11.609139",
          "exception": false,
          "start_time": "2021-06-06T17:15:11.431397",
          "status": "completed"
        },
        "tags": [],
        "colab": {
          "base_uri": "https://localhost:8080/"
        },
        "id": "9h3VX1LV1zrE",
        "outputId": "faec8476-29c2-4f29-f532-fa3a0c1ad187"
      },
      "outputs": [
        {
          "output_type": "execute_result",
          "data": {
            "text/plain": [
              "1    65607\n",
              "0        2\n",
              "Name: condition, dtype: int64"
            ]
          },
          "metadata": {},
          "execution_count": 198
        }
      ],
      "source": [
        "data.condition.value_counts()"
      ]
    },
    {
      "cell_type": "code",
      "execution_count": 199,
      "metadata": {
        "execution": {
          "iopub.execute_input": "2021-06-06T17:15:11.941926Z",
          "iopub.status.busy": "2021-06-06T17:15:11.941201Z",
          "iopub.status.idle": "2021-06-06T17:15:11.945799Z",
          "shell.execute_reply": "2021-06-06T17:15:11.945195Z",
          "shell.execute_reply.started": "2021-06-06T16:22:37.951422Z"
        },
        "papermill": {
          "duration": 0.172037,
          "end_time": "2021-06-06T17:15:11.945915",
          "exception": false,
          "start_time": "2021-06-06T17:15:11.773878",
          "status": "completed"
        },
        "tags": [],
        "id": "l0UT-Oez1zrE"
      },
      "outputs": [],
      "source": [
        "bin_cols.append('condition')"
      ]
    },
    {
      "cell_type": "markdown",
      "metadata": {
        "papermill": {
          "duration": 0.163235,
          "end_time": "2021-06-06T17:15:12.273185",
          "exception": false,
          "start_time": "2021-06-06T17:15:12.109950",
          "status": "completed"
        },
        "tags": [],
        "id": "zftBRRlv1zrE"
      },
      "source": [
        "**Target variable distribution:**"
      ]
    },
    {
      "cell_type": "code",
      "execution_count": 200,
      "metadata": {
        "execution": {
          "iopub.execute_input": "2021-06-06T17:15:12.605149Z",
          "iopub.status.busy": "2021-06-06T17:15:12.604472Z",
          "iopub.status.idle": "2021-06-06T17:15:12.635974Z",
          "shell.execute_reply": "2021-06-06T17:15:12.636468Z",
          "shell.execute_reply.started": "2021-06-06T16:22:37.957542Z"
        },
        "papermill": {
          "duration": 0.200242,
          "end_time": "2021-06-06T17:15:12.636623",
          "exception": false,
          "start_time": "2021-06-06T17:15:12.436381",
          "status": "completed"
        },
        "tags": [],
        "id": "vYrX98L31zrF"
      },
      "outputs": [],
      "source": [
        "#to a numeric type\n",
        "data['price'] = data['price'].apply(lambda x: str(x))"
      ]
    },
    {
      "cell_type": "code",
      "execution_count": 201,
      "metadata": {
        "execution": {
          "iopub.execute_input": "2021-06-06T17:15:12.971314Z",
          "iopub.status.busy": "2021-06-06T17:15:12.970705Z",
          "iopub.status.idle": "2021-06-06T17:15:13.061249Z",
          "shell.execute_reply": "2021-06-06T17:15:13.061744Z",
          "shell.execute_reply.started": "2021-06-06T16:22:37.990622Z"
        },
        "papermill": {
          "duration": 0.25959,
          "end_time": "2021-06-06T17:15:13.061889",
          "exception": false,
          "start_time": "2021-06-06T17:15:12.802299",
          "status": "completed"
        },
        "tags": [],
        "id": "X60LsYkB1zrF"
      },
      "outputs": [],
      "source": [
        "data.price = data.price.apply(\n",
        "    lambda x: (\"\".join(filter(str.isdigit, x)))).astype('int')"
      ]
    },
    {
      "cell_type": "code",
      "execution_count": 202,
      "metadata": {
        "execution": {
          "iopub.execute_input": "2021-06-06T17:15:13.399845Z",
          "iopub.status.busy": "2021-06-06T17:15:13.399090Z",
          "iopub.status.idle": "2021-06-06T17:15:13.739447Z",
          "shell.execute_reply": "2021-06-06T17:15:13.739941Z",
          "shell.execute_reply.started": "2021-06-06T16:22:38.077477Z"
        },
        "papermill": {
          "duration": 0.507087,
          "end_time": "2021-06-06T17:15:13.740079",
          "exception": false,
          "start_time": "2021-06-06T17:15:13.232992",
          "status": "completed"
        },
        "tags": [],
        "colab": {
          "base_uri": "https://localhost:8080/",
          "height": 312
        },
        "id": "6-qbSOFk1zrF",
        "outputId": "71bc3813-a59e-4ca0-f6af-820a424ca2d3"
      },
      "outputs": [
        {
          "output_type": "execute_result",
          "data": {
            "text/plain": [
              "<matplotlib.axes._subplots.AxesSubplot at 0x7fb3db559070>"
            ]
          },
          "metadata": {},
          "execution_count": 202
        },
        {
          "output_type": "display_data",
          "data": {
            "text/plain": [
              "<Figure size 432x288 with 1 Axes>"
            ],
            "image/png": "[encoded data removed]"
          },
          "metadata": {
            "needs_background": "light"
          }
        }
      ],
      "source": [
        "plt.figure()\n",
        "plt.title(f\"Distribution {'price'}\")\n",
        "sns.distplot(data.price, kde=False)"
      ]
    },
    {
      "cell_type": "markdown",
      "metadata": {
        "papermill": {
          "duration": 0.16759,
          "end_time": "2021-06-06T17:15:14.075064",
          "exception": false,
          "start_time": "2021-06-06T17:15:13.907474",
          "status": "completed"
        },
        "tags": [],
        "id": "lWeuwZMB1zrF"
      },
      "source": [
        "Let's look at the distribution of the dependence of the price on the brand of car:"
      ]
    },
    {
      "cell_type": "code",
      "execution_count": 203,
      "metadata": {
        "execution": {
          "iopub.execute_input": "2021-06-06T17:15:14.443460Z",
          "iopub.status.busy": "2021-06-06T17:15:14.442848Z",
          "iopub.status.idle": "2021-06-06T17:15:15.808921Z",
          "shell.execute_reply": "2021-06-06T17:15:15.808288Z",
          "shell.execute_reply.started": "2021-06-06T16:22:38.420287Z"
        },
        "papermill": {
          "duration": 1.535343,
          "end_time": "2021-06-06T17:15:15.809036",
          "exception": false,
          "start_time": "2021-06-06T17:15:14.273693",
          "status": "completed"
        },
        "tags": [],
        "colab": {
          "base_uri": "https://localhost:8080/",
          "height": 880
        },
        "id": "CvKNfxxE1zrF",
        "outputId": "62f28f13-5878-4763-f176-d3aa99aba1ba"
      },
      "outputs": [
        {
          "output_type": "execute_result",
          "data": {
            "text/plain": [
              "<matplotlib.collections.PathCollection at 0x7fb3de4eecd0>"
            ]
          },
          "metadata": {},
          "execution_count": 203
        },
        {
          "output_type": "display_data",
          "data": {
            "text/plain": [
              "<Figure size 720x1080 with 1 Axes>"
            ],
            "image/png": "[encoded data removed]"
          },
          "metadata": {
            "needs_background": "light"
          }
        }
      ],
      "source": [
        "plt.figure(figsize=(10, 15))\n",
        "plt.scatter(np.log(data.price), data.brand)"
      ]
    },
    {
      "cell_type": "markdown",
      "metadata": {
        "papermill": {
          "duration": 0.168713,
          "end_time": "2021-06-06T17:15:16.146655",
          "exception": false,
          "start_time": "2021-06-06T17:15:15.977942",
          "status": "completed"
        },
        "tags": [],
        "id": "50aPL44h1zrF"
      },
      "source": [
        "Shows that the prices are adequate and depend on the brand of car"
      ]
    },
    {
      "cell_type": "code",
      "execution_count": 204,
      "metadata": {
        "execution": {
          "iopub.execute_input": "2021-06-06T17:15:16.489074Z",
          "iopub.status.busy": "2021-06-06T17:15:16.488397Z",
          "iopub.status.idle": "2021-06-06T17:15:16.857955Z",
          "shell.execute_reply": "2021-06-06T17:15:16.858480Z",
          "shell.execute_reply.started": "2021-06-06T16:22:39.562144Z"
        },
        "papermill": {
          "duration": 0.542859,
          "end_time": "2021-06-06T17:15:16.858624",
          "exception": false,
          "start_time": "2021-06-06T17:15:16.315765",
          "status": "completed"
        },
        "tags": [],
        "colab": {
          "base_uri": "https://localhost:8080/",
          "height": 348
        },
        "id": "gFP1VIMM1zrF",
        "outputId": "e7be7ec8-0fcc-4b6a-8e5c-128d1ff97c25"
      },
      "outputs": [
        {
          "output_type": "execute_result",
          "data": {
            "text/plain": [
              "<matplotlib.collections.PathCollection at 0x7fb3de2cf6d0>"
            ]
          },
          "metadata": {},
          "execution_count": 204
        },
        {
          "output_type": "display_data",
          "data": {
            "text/plain": [
              "<Figure size 720x360 with 1 Axes>"
            ],
            "image/png": "[encoded data removed]"
          },
          "metadata": {
            "needs_background": "light"
          }
        }
      ],
      "source": [
        "#Let's look at the distribution of price dependence on mileage\n",
        "plt.figure(figsize=(10, 5))\n",
        "plt.scatter(np.log(data.price), data.mileage)"
      ]
    },
    {
      "cell_type": "markdown",
      "metadata": {
        "papermill": {
          "duration": 0.176578,
          "end_time": "2021-06-06T17:15:17.211201",
          "exception": false,
          "start_time": "2021-06-06T17:15:17.034623",
          "status": "completed"
        },
        "tags": [],
        "id": "7wP3MYqN1zrF"
      },
      "source": [
        "Let's remove variables that, in our opinion, do not have any information content, or duplicate information:"
      ]
    },
    {
      "cell_type": "code",
      "execution_count": 205,
      "metadata": {
        "execution": {
          "iopub.execute_input": "2021-06-06T17:15:17.563971Z",
          "iopub.status.busy": "2021-06-06T17:15:17.563257Z",
          "iopub.status.idle": "2021-06-06T17:15:17.582573Z",
          "shell.execute_reply": "2021-06-06T17:15:17.581992Z",
          "shell.execute_reply.started": "2021-06-06T16:22:39.893622Z"
        },
        "papermill": {
          "duration": 0.198556,
          "end_time": "2021-06-06T17:15:17.582684",
          "exception": false,
          "start_time": "2021-06-06T17:15:17.384128",
          "status": "completed"
        },
        "tags": [],
        "id": "T9bm8o601zrF"
      },
      "outputs": [],
      "source": [
        "data = data.drop(columns = ['car_url','name','sell_id','parsing_unixtime','vehicleConfiguration','priceCurrency','customs_clearance'], axis=1)"
      ]
    },
    {
      "cell_type": "code",
      "execution_count": 206,
      "metadata": {
        "execution": {
          "iopub.execute_input": "2021-06-06T17:15:17.950919Z",
          "iopub.status.busy": "2021-06-06T17:15:17.949925Z",
          "iopub.status.idle": "2021-06-06T17:15:17.953922Z",
          "shell.execute_reply": "2021-06-06T17:15:17.953367Z",
          "shell.execute_reply.started": "2021-06-06T16:22:39.920477Z"
        },
        "papermill": {
          "duration": 0.197441,
          "end_time": "2021-06-06T17:15:17.954029",
          "exception": false,
          "start_time": "2021-06-06T17:15:17.756588",
          "status": "completed"
        },
        "tags": [],
        "colab": {
          "base_uri": "https://localhost:8080/",
          "height": 176
        },
        "id": "FDv9lZPK1zrG",
        "outputId": "b31ccbfd-471e-4291-d7ec-bb425d1872c5"
      },
      "outputs": [
        {
          "output_type": "execute_result",
          "data": {
            "text/plain": [
              "  bodyType  brand   color  engineDisplacement  enginePower fuelType  mileage  \\\n",
              "0  лифтбек  SKODA   синий                   1          105   бензин    74000   \n",
              "1  лифтбек  SKODA  чёрный                   1          110   бензин    60563   \n",
              "\n",
              "   modelDate model_name  numberOfDoors  productionDate vehicleTransmission  \\\n",
              "0       2013    OCTAVIA              5            2014    роботизированная   \n",
              "1       2017    OCTAVIA              5            2017        механическая   \n",
              "\n",
              "   owners  vehicle_licence drive_type  wheel  condition  price  sample  \\\n",
              "0       3                1   передний      1          1      0       0   \n",
              "1       1                1   передний      1          1      0       0   \n",
              "\n",
              "   description_len  real_photo  mileage_cat  prod_age  model_age  \n",
              "0             1001        True            4         7          8  \n",
              "1             2609        True            4         4          4  "
            ],
            "text/html": [
              "\n",
              "  <div id=\"df-ed3844c7-f0b8-4219-b06f-7a4a059a485a\">\n",
              "    <div class=\"colab-df-container\">\n",
              "      <div>\n",
              "<style scoped>\n",
              "    .dataframe tbody tr th:only-of-type {\n",
              "        vertical-align: middle;\n",
              "    }\n",
              "\n",
              "    .dataframe tbody tr th {\n",
              "        vertical-align: top;\n",
              "    }\n",
              "\n",
              "    .dataframe thead th {\n",
              "        text-align: right;\n",
              "    }\n",
              "</style>\n",
              "<table border=\"1\" class=\"dataframe\">\n",
              "  <thead>\n",
              "    <tr style=\"text-align: right;\">\n",
              "      <th></th>\n",
              "      <th>bodyType</th>\n",
              "      <th>brand</th>\n",
              "      <th>color</th>\n",
              "      <th>engineDisplacement</th>\n",
              "      <th>enginePower</th>\n",
              "      <th>fuelType</th>\n",
              "      <th>mileage</th>\n",
              "      <th>modelDate</th>\n",
              "      <th>model_name</th>\n",
              "      <th>numberOfDoors</th>\n",
              "      <th>productionDate</th>\n",
              "      <th>vehicleTransmission</th>\n",
              "      <th>owners</th>\n",
              "      <th>vehicle_licence</th>\n",
              "      <th>drive_type</th>\n",
              "      <th>wheel</th>\n",
              "      <th>condition</th>\n",
              "      <th>price</th>\n",
              "      <th>sample</th>\n",
              "      <th>description_len</th>\n",
              "      <th>real_photo</th>\n",
              "      <th>mileage_cat</th>\n",
              "      <th>prod_age</th>\n",
              "      <th>model_age</th>\n",
              "    </tr>\n",
              "  </thead>\n",
              "  <tbody>\n",
              "    <tr>\n",
              "      <th>0</th>\n",
              "      <td>лифтбек</td>\n",
              "      <td>SKODA</td>\n",
              "      <td>синий</td>\n",
              "      <td>1</td>\n",
              "      <td>105</td>\n",
              "      <td>бензин</td>\n",
              "      <td>74000</td>\n",
              "      <td>2013</td>\n",
              "      <td>OCTAVIA</td>\n",
              "      <td>5</td>\n",
              "      <td>2014</td>\n",
              "      <td>роботизированная</td>\n",
              "      <td>3</td>\n",
              "      <td>1</td>\n",
              "      <td>передний</td>\n",
              "      <td>1</td>\n",
              "      <td>1</td>\n",
              "      <td>0</td>\n",
              "      <td>0</td>\n",
              "      <td>1001</td>\n",
              "      <td>True</td>\n",
              "      <td>4</td>\n",
              "      <td>7</td>\n",
              "      <td>8</td>\n",
              "    </tr>\n",
              "    <tr>\n",
              "      <th>1</th>\n",
              "      <td>лифтбек</td>\n",
              "      <td>SKODA</td>\n",
              "      <td>чёрный</td>\n",
              "      <td>1</td>\n",
              "      <td>110</td>\n",
              "      <td>бензин</td>\n",
              "      <td>60563</td>\n",
              "      <td>2017</td>\n",
              "      <td>OCTAVIA</td>\n",
              "      <td>5</td>\n",
              "      <td>2017</td>\n",
              "      <td>механическая</td>\n",
              "      <td>1</td>\n",
              "      <td>1</td>\n",
              "      <td>передний</td>\n",
              "      <td>1</td>\n",
              "      <td>1</td>\n",
              "      <td>0</td>\n",
              "      <td>0</td>\n",
              "      <td>2609</td>\n",
              "      <td>True</td>\n",
              "      <td>4</td>\n",
              "      <td>4</td>\n",
              "      <td>4</td>\n",
              "    </tr>\n",
              "  </tbody>\n",
              "</table>\n",
              "</div>\n",
              "      <button class=\"colab-df-convert\" onclick=\"convertToInteractive('df-ed3844c7-f0b8-4219-b06f-7a4a059a485a')\"\n",
              "              title=\"Convert this dataframe to an interactive table.\"\n",
              "              style=\"display:none;\">\n",
              "        \n",
              "  <svg xmlns=\"http://www.w3.org/2000/svg\" height=\"24px\"viewBox=\"0 0 24 24\"\n",
              "       width=\"24px\">\n",
              "    <path d=\"M0 0h24v24H0V0z\" fill=\"none\"/>\n",
              "    <path d=\"M18.56 5.44l.94 2.06.94-2.06 2.06-.94-2.06-.94-.94-2.06-.94 2.06-2.06.94zm-11 1L8.5 8.5l.94-2.06 2.06-.94-2.06-.94L8.5 2.5l-.94 2.06-2.06.94zm10 10l.94 2.06.94-2.06 2.06-.94-2.06-.94-.94-2.06-.94 2.06-2.06.94z\"/><path d=\"M17.41 7.96l-1.37-1.37c-.4-.4-.92-.59-1.43-.59-.52 0-1.04.2-1.43.59L10.3 9.45l-7.72 7.72c-.78.78-.78 2.05 0 2.83L4 21.41c.39.39.9.59 1.41.59.51 0 1.02-.2 1.41-.59l7.78-7.78 2.81-2.81c.8-.78.8-2.07 0-2.86zM5.41 20L4 18.59l7.72-7.72 1.47 1.35L5.41 20z\"/>\n",
              "  </svg>\n",
              "      </button>\n",
              "      \n",
              "  <style>\n",
              "    .colab-df-container {\n",
              "      display:flex;\n",
              "      flex-wrap:wrap;\n",
              "      gap: 12px;\n",
              "    }\n",
              "\n",
              "    .colab-df-convert {\n",
              "      background-color: #E8F0FE;\n",
              "      border: none;\n",
              "      border-radius: 50%;\n",
              "      cursor: pointer;\n",
              "      display: none;\n",
              "      fill: #1967D2;\n",
              "      height: 32px;\n",
              "      padding: 0 0 0 0;\n",
              "      width: 32px;\n",
              "    }\n",
              "\n",
              "    .colab-df-convert:hover {\n",
              "      background-color: #E2EBFA;\n",
              "      box-shadow: 0px 1px 2px rgba(60, 64, 67, 0.3), 0px 1px 3px 1px rgba(60, 64, 67, 0.15);\n",
              "      fill: #174EA6;\n",
              "    }\n",
              "\n",
              "    [theme=dark] .colab-df-convert {\n",
              "      background-color: #3B4455;\n",
              "      fill: #D2E3FC;\n",
              "    }\n",
              "\n",
              "    [theme=dark] .colab-df-convert:hover {\n",
              "      background-color: #434B5C;\n",
              "      box-shadow: 0px 1px 3px 1px rgba(0, 0, 0, 0.15);\n",
              "      filter: drop-shadow(0px 1px 2px rgba(0, 0, 0, 0.3));\n",
              "      fill: #FFFFFF;\n",
              "    }\n",
              "  </style>\n",
              "\n",
              "      <script>\n",
              "        const buttonEl =\n",
              "          document.querySelector('#df-ed3844c7-f0b8-4219-b06f-7a4a059a485a button.colab-df-convert');\n",
              "        buttonEl.style.display =\n",
              "          google.colab.kernel.accessAllowed ? 'block' : 'none';\n",
              "\n",
              "        async function convertToInteractive(key) {\n",
              "          const element = document.querySelector('#df-ed3844c7-f0b8-4219-b06f-7a4a059a485a');\n",
              "          const dataTable =\n",
              "            await google.colab.kernel.invokeFunction('convertToInteractive',\n",
              "                                                     [key], {});\n",
              "          if (!dataTable) return;\n",
              "\n",
              "          const docLinkHtml = 'Like what you see? Visit the ' +\n",
              "            '<a target=\"_blank\" href=https://colab.research.google.com/notebooks/data_table.ipynb>data table notebook</a>'\n",
              "            + ' to learn more about interactive tables.';\n",
              "          element.innerHTML = '';\n",
              "          dataTable['output_type'] = 'display_data';\n",
              "          await google.colab.output.renderOutput(dataTable, element);\n",
              "          const docLink = document.createElement('div');\n",
              "          docLink.innerHTML = docLinkHtml;\n",
              "          element.appendChild(docLink);\n",
              "        }\n",
              "      </script>\n",
              "    </div>\n",
              "  </div>\n",
              "  "
            ]
          },
          "metadata": {},
          "execution_count": 206
        }
      ],
      "source": [
        "data.head(2)"
      ]
    },
    {
      "cell_type": "markdown",
      "metadata": {
        "papermill": {
          "duration": 0.17364,
          "end_time": "2021-06-06T17:15:18.302038",
          "exception": false,
          "start_time": "2021-06-06T17:15:18.128398",
          "status": "completed"
        },
        "tags": [],
        "id": "BoWQL95m1zrG"
      },
      "source": [
        "## Label Encoding"
      ]
    },
    {
      "cell_type": "code",
      "execution_count": 207,
      "metadata": {
        "execution": {
          "iopub.execute_input": "2021-06-06T17:15:18.662099Z",
          "iopub.status.busy": "2021-06-06T17:15:18.661461Z",
          "iopub.status.idle": "2021-06-06T17:15:18.716351Z",
          "shell.execute_reply": "2021-06-06T17:15:18.715741Z",
          "shell.execute_reply.started": "2021-06-06T16:22:39.941265Z"
        },
        "papermill": {
          "duration": 0.242277,
          "end_time": "2021-06-06T17:15:18.716477",
          "exception": false,
          "start_time": "2021-06-06T17:15:18.474200",
          "status": "completed"
        },
        "tags": [],
        "id": "dEBgvXu_1zrG"
      },
      "outputs": [],
      "source": [
        "for colum in ['bodyType','color','model_name','brand','fuelType', 'vehicleTransmission','drive_type','real_photo']:\n",
        "    data[colum] = data[colum].astype('category').cat.codes"
      ]
    },
    {
      "cell_type": "code",
      "source": [
        "print('Categorical: {} \\nBinary: {}\\nNumerical: {}'.format(cat_cols, bin_cols,num_cols))"
      ],
      "metadata": {
        "colab": {
          "base_uri": "https://localhost:8080/"
        },
        "id": "639WjdqaX5Pp",
        "outputId": "6b0b8768-8aee-45bf-8214-8252c190ecba"
      },
      "execution_count": 210,
      "outputs": [
        {
          "output_type": "stream",
          "name": "stdout",
          "text": [
            "Categorical: ['bodyType', 'brand', 'color', 'fuelType', 'engineDisplacement', 'mileage_cat', 'model_name', 'numberOfDoors', 'vehicleTransmission', 'owners', 'drive_type'] \n",
            "Binary: ['real_photo', 'vehicle_licence', 'wheel', 'condition']\n",
            "Numerical: ['description_len', 'enginePower', 'mileage', 'productionDate', 'modelDate', 'prod_age', 'model_age']\n"
          ]
        }
      ]
    },
    {
      "cell_type": "markdown",
      "metadata": {
        "papermill": {
          "duration": 0.172334,
          "end_time": "2021-06-06T17:15:19.780371",
          "exception": false,
          "start_time": "2021-06-06T17:15:19.608037",
          "status": "completed"
        },
        "tags": [],
        "id": "5yor2KDL1zrG"
      },
      "source": [
        "# Binary features"
      ]
    },
    {
      "cell_type": "code",
      "execution_count": 208,
      "metadata": {
        "execution": {
          "iopub.execute_input": "2021-06-06T17:15:20.130082Z",
          "iopub.status.busy": "2021-06-06T17:15:20.129493Z",
          "iopub.status.idle": "2021-06-06T17:15:20.142161Z",
          "shell.execute_reply": "2021-06-06T17:15:20.142698Z",
          "shell.execute_reply.started": "2021-06-06T16:22:40.04121Z"
        },
        "papermill": {
          "duration": 0.189734,
          "end_time": "2021-06-06T17:15:20.142832",
          "exception": false,
          "start_time": "2021-06-06T17:15:19.953098",
          "status": "completed"
        },
        "tags": [],
        "colab": {
          "base_uri": "https://localhost:8080/",
          "height": 225
        },
        "id": "6cXew5wx1zrG",
        "outputId": "7745ae7b-a0e4-4e04-906f-1167d58eb4e4"
      },
      "outputs": [
        {
          "output_type": "display_data",
          "data": {
            "text/plain": [
              "1    65046\n",
              "0      563\n",
              "Name: real_photo, dtype: int64"
            ]
          },
          "metadata": {}
        },
        {
          "output_type": "display_data",
          "data": {
            "text/plain": [
              "1    57487\n",
              "0     8122\n",
              "Name: vehicle_licence, dtype: int64"
            ]
          },
          "metadata": {}
        },
        {
          "output_type": "display_data",
          "data": {
            "text/plain": [
              "1    63355\n",
              "0     2254\n",
              "Name: wheel, dtype: int64"
            ]
          },
          "metadata": {}
        },
        {
          "output_type": "display_data",
          "data": {
            "text/plain": [
              "1    65607\n",
              "0        2\n",
              "Name: condition, dtype: int64"
            ]
          },
          "metadata": {}
        }
      ],
      "source": [
        "for i in bin_cols:\n",
        "    display(data[i].value_counts())"
      ]
    },
    {
      "cell_type": "code",
      "execution_count": 211,
      "metadata": {
        "execution": {
          "iopub.execute_input": "2021-06-06T17:15:20.497591Z",
          "iopub.status.busy": "2021-06-06T17:15:20.496477Z",
          "iopub.status.idle": "2021-06-06T17:15:20.793843Z",
          "shell.execute_reply": "2021-06-06T17:15:20.794285Z",
          "shell.execute_reply.started": "2021-06-06T16:22:40.070958Z"
        },
        "papermill": {
          "duration": 0.476273,
          "end_time": "2021-06-06T17:15:20.794429",
          "exception": false,
          "start_time": "2021-06-06T17:15:20.318156",
          "status": "completed"
        },
        "tags": [],
        "colab": {
          "base_uri": "https://localhost:8080/",
          "height": 282
        },
        "id": "VjnULULD1zrG",
        "outputId": "45c6eed5-5cc5-4862-c4ed-2cf4a544b2a4"
      },
      "outputs": [
        {
          "output_type": "execute_result",
          "data": {
            "text/plain": [
              "<matplotlib.axes._subplots.AxesSubplot at 0x7fb3db76f100>"
            ]
          },
          "metadata": {},
          "execution_count": 211
        },
        {
          "output_type": "display_data",
          "data": {
            "text/plain": [
              "<Figure size 432x288 with 1 Axes>"
            ],
            "image/png": "[encoded data removed]"
          },
          "metadata": {
            "needs_background": "light"
          }
        }
      ],
      "source": [
        "# Let's check the significance of binary variables:\n",
        "df = data[data['sample'] == 0]\n",
        "imp_cat = Series(mutual_info_classif(data[bin_cols], data['price'],\n",
        "                                     discrete_features =True), index = bin_cols)\n",
        "imp_cat.sort_values(inplace = True)\n",
        "imp_cat.plot(kind = 'barh')"
      ]
    },
    {
      "cell_type": "markdown",
      "metadata": {
        "papermill": {
          "duration": 0.173631,
          "end_time": "2021-06-06T17:15:21.138858",
          "exception": false,
          "start_time": "2021-06-06T17:15:20.965227",
          "status": "completed"
        },
        "tags": [],
        "id": "XHiAiV5y1zrH"
      },
      "source": [
        "observing the plot, we see that 'vehicle_licence' and 'wheel' have the most influence on the price"
      ]
    },
    {
      "cell_type": "code",
      "execution_count": null,
      "metadata": {
        "execution": {
          "iopub.execute_input": "2021-06-06T17:15:21.491110Z",
          "iopub.status.busy": "2021-06-06T17:15:21.490446Z",
          "iopub.status.idle": "2021-06-06T17:15:21.978021Z",
          "shell.execute_reply": "2021-06-06T17:15:21.977546Z",
          "shell.execute_reply.started": "2021-06-06T16:22:40.3773Z"
        },
        "papermill": {
          "duration": 0.663311,
          "end_time": "2021-06-06T17:15:21.978130",
          "exception": false,
          "start_time": "2021-06-06T17:15:21.314819",
          "status": "completed"
        },
        "tags": [],
        "id": "SvGE2c1-1zrH",
        "outputId": "83078227-fab9-4744-d023-3ff7d65e6cf4"
      },
      "outputs": [
        {
          "data": {
            "text/plain": [
              "<AxesSubplot:>"
            ]
          },
          "execution_count": 117,
          "metadata": {},
          "output_type": "execute_result"
        },
        {
          "data": {
            "image/png": "[encoded data removed]",
            "text/plain": [
              "<Figure size 720x360 with 2 Axes>"
            ]
          },
          "metadata": {
            "needs_background": "light"
          },
          "output_type": "display_data"
        }
      ],
      "source": [
        "# build a correlation matrix for numerical features\n",
        "plt.figure(figsize=(10,5))\n",
        "sns.heatmap(data[num_cols+['price']].corr(), annot=True)"
      ]
    },
    {
      "cell_type": "markdown",
      "metadata": {
        "papermill": {
          "duration": 0.175997,
          "end_time": "2021-06-06T17:15:22.329497",
          "exception": false,
          "start_time": "2021-06-06T17:15:22.153500",
          "status": "completed"
        },
        "tags": [],
        "id": "3qr8aM2s1zrH"
      },
      "source": [
        "# Categorical features"
      ]
    },
    {
      "cell_type": "code",
      "execution_count": 212,
      "metadata": {
        "execution": {
          "iopub.execute_input": "2021-06-06T17:15:22.687012Z",
          "iopub.status.busy": "2021-06-06T17:15:22.686403Z",
          "iopub.status.idle": "2021-06-06T17:15:23.099608Z",
          "shell.execute_reply": "2021-06-06T17:15:23.100107Z",
          "shell.execute_reply.started": "2021-06-06T16:22:40.85342Z"
        },
        "papermill": {
          "duration": 0.596803,
          "end_time": "2021-06-06T17:15:23.100258",
          "exception": false,
          "start_time": "2021-06-06T17:15:22.503455",
          "status": "completed"
        },
        "tags": [],
        "colab": {
          "base_uri": "https://localhost:8080/",
          "height": 282
        },
        "id": "OUYcGMCk1zrH",
        "outputId": "1bc743e3-ebce-48d7-f4be-6248cfc90b94"
      },
      "outputs": [
        {
          "output_type": "execute_result",
          "data": {
            "text/plain": [
              "<matplotlib.axes._subplots.AxesSubplot at 0x7fb3de3c5d60>"
            ]
          },
          "metadata": {},
          "execution_count": 212
        },
        {
          "output_type": "display_data",
          "data": {
            "text/plain": [
              "<Figure size 432x288 with 1 Axes>"
            ],
            "image/png": "[encoded data removed]"
          },
          "metadata": {
            "needs_background": "light"
          }
        }
      ],
      "source": [
        "# Let's check the significance of categorical variables:\n",
        "temp_df = data[data['sample']==1]\n",
        "imp_cat = Series(mutual_info_classif(data[cat_cols], data['price'],\n",
        "                                     discrete_features=True), index=cat_cols)\n",
        "imp_cat.sort_values(inplace=True)\n",
        "imp_cat.plot(kind='barh')"
      ]
    },
    {
      "cell_type": "markdown",
      "metadata": {
        "papermill": {
          "duration": 0.183417,
          "end_time": "2021-06-06T17:15:23.467113",
          "exception": false,
          "start_time": "2021-06-06T17:15:23.283696",
          "status": "completed"
        },
        "tags": [],
        "id": "NPIrJdNn1zrH"
      },
      "source": [
        "It is logical that the price will depend on the brand and model of the car"
      ]
    },
    {
      "cell_type": "markdown",
      "metadata": {
        "papermill": {
          "duration": 0.214179,
          "end_time": "2021-06-06T17:15:23.867410",
          "exception": false,
          "start_time": "2021-06-06T17:15:23.653231",
          "status": "completed"
        },
        "tags": [],
        "id": "RUQiHO8s1zrH"
      },
      "source": [
        "# Numerical variables"
      ]
    },
    {
      "cell_type": "code",
      "execution_count": 213,
      "metadata": {
        "execution": {
          "iopub.execute_input": "2021-06-06T17:15:24.257646Z",
          "iopub.status.busy": "2021-06-06T17:15:24.256986Z",
          "iopub.status.idle": "2021-06-06T17:15:26.735848Z",
          "shell.execute_reply": "2021-06-06T17:15:26.736368Z",
          "shell.execute_reply.started": "2021-06-06T16:22:41.269587Z"
        },
        "papermill": {
          "duration": 2.672103,
          "end_time": "2021-06-06T17:15:26.736512",
          "exception": false,
          "start_time": "2021-06-06T17:15:24.064409",
          "status": "completed"
        },
        "tags": [],
        "colab": {
          "base_uri": "https://localhost:8080/",
          "height": 1000
        },
        "id": "pVpmReMY1zrH",
        "outputId": "b3c4aedf-c335-450d-eadb-1192652cbea2"
      },
      "outputs": [
        {
          "output_type": "display_data",
          "data": {
            "text/plain": [
              "<Figure size 432x288 with 1 Axes>"
            ],
            "image/png": "[encoded data removed]"
          },
          "metadata": {
            "needs_background": "light"
          }
        },
        {
          "output_type": "display_data",
          "data": {
            "text/plain": [
              "<Figure size 432x288 with 1 Axes>"
            ],
            "image/png": "[encoded data removed]"
          },
          "metadata": {
            "needs_background": "light"
          }
        },
        {
          "output_type": "display_data",
          "data": {
            "text/plain": [
              "<Figure size 432x288 with 1 Axes>"
            ],
            "image/png": "[encoded data removed]"
          },
          "metadata": {
            "needs_background": "light"
          }
        },
        {
          "output_type": "display_data",
          "data": {
            "text/plain": [
              "<Figure size 432x288 with 1 Axes>"
            ],
            "image/png": "[encoded data removed]"
          },
          "metadata": {
            "needs_background": "light"
          }
        },
        {
          "output_type": "display_data",
          "data": {
            "text/plain": [
              "<Figure size 432x288 with 1 Axes>"
            ],
            "image/png": "[encoded data removed]"
          },
          "metadata": {
            "needs_background": "light"
          }
        },
        {
          "output_type": "display_data",
          "data": {
            "text/plain": [
              "<Figure size 432x288 with 1 Axes>"
            ],
            "image/png": "[encoded data removed]"
          },
          "metadata": {
            "needs_background": "light"
          }
        },
        {
          "output_type": "display_data",
          "data": {
            "text/plain": [
              "<Figure size 432x288 with 1 Axes>"
            ],
            "image/png": "[encoded data removed]"
          },
          "metadata": {
            "needs_background": "light"
          }
        }
      ],
      "source": [
        "# distribution of numerical variables using visualization\n",
        "for col in num_cols:\n",
        "    plt.figure()\n",
        "    plt.title(f\"Distribution {col}\")\n",
        "    sns.distplot(data[col], kde=False)"
      ]
    },
    {
      "cell_type": "code",
      "execution_count": null,
      "metadata": {
        "execution": {
          "iopub.execute_input": "2021-06-06T17:15:27.117236Z",
          "iopub.status.busy": "2021-06-06T17:15:27.116425Z",
          "iopub.status.idle": "2021-06-06T17:15:28.116621Z",
          "shell.execute_reply": "2021-06-06T17:15:28.117146Z",
          "shell.execute_reply.started": "2021-06-06T16:22:43.450806Z"
        },
        "papermill": {
          "duration": 1.193745,
          "end_time": "2021-06-06T17:15:28.117291",
          "exception": false,
          "start_time": "2021-06-06T17:15:26.923546",
          "status": "completed"
        },
        "tags": [],
        "id": "6M7CQqt51zrI",
        "outputId": "39bca52a-1f54-4d2d-85cb-48815dddcec0"
      },
      "outputs": [
        {
          "data": {
            "text/plain": [
              "<AxesSubplot:>"
            ]
          },
          "execution_count": 120,
          "metadata": {},
          "output_type": "execute_result"
        },
        {
          "data": {
            "image/png": "[encoded data removed]",
            "text/plain": [
              "<Figure size 432x288 with 1 Axes>"
            ]
          },
          "metadata": {
            "needs_background": "light"
          },
          "output_type": "display_data"
        }
      ],
      "source": [
        "imp_num = Series(f_classif(data[num_cols][data['sample'] == 1], data[data['sample'] == 1]['price'])[0], \n",
        "                 index = num_cols)\n",
        "imp_num.sort_values(inplace = True)\n",
        "imp_num.plot(kind = 'barh')"
      ]
    },
    {
      "cell_type": "markdown",
      "metadata": {
        "papermill": {
          "duration": 0.18391,
          "end_time": "2021-06-06T17:15:28.487310",
          "exception": false,
          "start_time": "2021-06-06T17:15:28.303400",
          "status": "completed"
        },
        "tags": [],
        "id": "kxxqtIgd1zrI"
      },
      "source": [
        "All features have a strong effect on the price."
      ]
    },
    {
      "cell_type": "code",
      "execution_count": 216,
      "metadata": {
        "execution": {
          "iopub.execute_input": "2021-06-06T17:15:28.863363Z",
          "iopub.status.busy": "2021-06-06T17:15:28.862718Z",
          "iopub.status.idle": "2021-06-06T17:15:30.989522Z",
          "shell.execute_reply": "2021-06-06T17:15:30.990014Z",
          "shell.execute_reply.started": "2021-06-06T16:22:44.19371Z"
        },
        "papermill": {
          "duration": 2.315604,
          "end_time": "2021-06-06T17:15:30.990172",
          "exception": false,
          "start_time": "2021-06-06T17:15:28.674568",
          "status": "completed"
        },
        "tags": [],
        "colab": {
          "base_uri": "https://localhost:8080/",
          "height": 688
        },
        "id": "E7X5_I6j1zrI",
        "outputId": "ea03eb70-bd19-4cc4-cd8c-ddd8c66a7f14"
      },
      "outputs": [
        {
          "output_type": "display_data",
          "data": {
            "text/plain": [
              "<Figure size 1080x720 with 2 Axes>"
            ],
            "image/png": "[encoded data removed]"
          },
          "metadata": {
            "needs_background": "light"
          }
        }
      ],
      "source": [
        "# correlation\n",
        "\n",
        "fig, ax = plt.subplots(1, 1, figsize=(15, 10))\n",
        "ax = sns.heatmap(data.corr(),fmt='.1g',\n",
        "                 annot=True, cmap='coolwarm')"
      ]
    },
    {
      "cell_type": "markdown",
      "metadata": {
        "papermill": {
          "duration": 0.19357,
          "end_time": "2021-06-06T17:15:31.377577",
          "exception": false,
          "start_time": "2021-06-06T17:15:31.184007",
          "status": "completed"
        },
        "tags": [],
        "id": "w-w1fM2D1zrI"
      },
      "source": [
        "There is a strong correlation between the 'engineDisplacement' and 'enginePower' features, as well as artificially created features. We will not delete it, because after conducting experiments on machine learning, we noticed that the result of the metric is worse."
      ]
    },
    {
      "cell_type": "markdown",
      "metadata": {
        "papermill": {
          "duration": 0.194167,
          "end_time": "2021-06-06T17:15:31.766931",
          "exception": false,
          "start_time": "2021-06-06T17:15:31.572764",
          "status": "completed"
        },
        "tags": [],
        "id": "ZaTg3gLQ1zrI"
      },
      "source": [
        "## Train Split"
      ]
    },
    {
      "cell_type": "code",
      "execution_count": 217,
      "metadata": {
        "execution": {
          "iopub.execute_input": "2021-06-06T17:15:32.179263Z",
          "iopub.status.busy": "2021-06-06T17:15:32.175007Z",
          "iopub.status.idle": "2021-06-06T17:15:32.203117Z",
          "shell.execute_reply": "2021-06-06T17:15:32.203618Z",
          "shell.execute_reply.started": "2021-06-06T16:37:18.837941Z"
        },
        "papermill": {
          "duration": 0.243289,
          "end_time": "2021-06-06T17:15:32.203778",
          "exception": false,
          "start_time": "2021-06-06T17:15:31.960489",
          "status": "completed"
        },
        "tags": [],
        "id": "KyvCGx-H1zrI"
      },
      "outputs": [],
      "source": [
        "train_data = data.query('sample == 1').drop(['sample'], axis=1)\n",
        "test_data = data.query('sample == 0').drop(['sample','price'], axis=1)\n",
        "X = train_data.drop(['price'], axis=1)\n",
        "y = train_data['price']\n",
        "X_train, X_test, y_train, y_test = train_test_split(X, y, test_size=0.2, shuffle=True, random_state=RANDOM_SEED)"
      ]
    },
    {
      "cell_type": "markdown",
      "metadata": {
        "papermill": {
          "duration": 0.192264,
          "end_time": "2021-06-06T17:15:32.588956",
          "exception": false,
          "start_time": "2021-06-06T17:15:32.396692",
          "status": "completed"
        },
        "tags": [],
        "id": "eR1SCwKi1zrI"
      },
      "source": [
        "# Model 1: create a basic model\n",
        "This model will predict the average price of the engine model (engineDisplacement).\n",
        "We will compare other models with it.\n",
        "\n",
        "\n"
      ]
    },
    {
      "cell_type": "code",
      "execution_count": 219,
      "metadata": {
        "execution": {
          "iopub.execute_input": "2021-06-06T17:15:32.974550Z",
          "iopub.status.busy": "2021-06-06T17:15:32.973849Z",
          "iopub.status.idle": "2021-06-06T17:15:32.979445Z",
          "shell.execute_reply": "2021-06-06T17:15:32.979897Z",
          "shell.execute_reply.started": "2021-06-06T16:22:46.370237Z"
        },
        "papermill": {
          "duration": 0.200257,
          "end_time": "2021-06-06T17:15:32.980039",
          "exception": false,
          "start_time": "2021-06-06T17:15:32.779782",
          "status": "completed"
        },
        "tags": [],
        "id": "U9GwhDpb1zrI"
      },
      "outputs": [],
      "source": [
        "tmp_train = X_train.copy()\n",
        "tmp_train['price'] = y_train"
      ]
    },
    {
      "cell_type": "code",
      "source": [
        "# Find median by instances of engineDisplacement in the train and mark up the test\n",
        "predict = X_test['engineDisplacement'].map(tmp_train.groupby('engineDisplacement')['price'].median())\n",
        "VERSION = 1\n",
        "#checking accuracy\n",
        "print(f\"MAPE: {(mape(y_test, predict.values))*100:0.2f}%\")"
      ],
      "metadata": {
        "colab": {
          "base_uri": "https://localhost:8080/"
        },
        "id": "m28E0WmgZ4sC",
        "outputId": "798ffd5b-48f0-4395-ca96-d3aa8fcb66cd"
      },
      "execution_count": 220,
      "outputs": [
        {
          "output_type": "stream",
          "name": "stdout",
          "text": [
            "MAPE: 95.03%\n"
          ]
        }
      ]
    },
    {
      "cell_type": "markdown",
      "metadata": {
        "papermill": {
          "duration": 0.192376,
          "end_time": "2021-06-06T17:15:33.764281",
          "exception": false,
          "start_time": "2021-06-06T17:15:33.571905",
          "status": "completed"
        },
        "tags": [],
        "id": "yvyyZTZO1zrJ"
      },
      "source": [
        "# Simple linear regression model"
      ]
    },
    {
      "cell_type": "code",
      "execution_count": 221,
      "metadata": {
        "execution": {
          "iopub.execute_input": "2021-06-06T17:15:34.155864Z",
          "iopub.status.busy": "2021-06-06T17:15:34.155120Z",
          "iopub.status.idle": "2021-06-06T17:15:34.240392Z",
          "shell.execute_reply": "2021-06-06T17:15:34.241395Z",
          "shell.execute_reply.started": "2021-06-06T16:22:46.399554Z"
        },
        "papermill": {
          "duration": 0.284799,
          "end_time": "2021-06-06T17:15:34.241544",
          "exception": false,
          "start_time": "2021-06-06T17:15:33.956745",
          "status": "completed"
        },
        "tags": [],
        "colab": {
          "base_uri": "https://localhost:8080/"
        },
        "id": "xWTAy71X1zrJ",
        "outputId": "b4295231-5947-4726-c9cb-45f41c76206e"
      },
      "outputs": [
        {
          "output_type": "stream",
          "name": "stdout",
          "text": [
            "MAPE: 25.60%\n"
          ]
        }
      ],
      "source": [
        "from sklearn.linear_model import LinearRegression\n",
        "linear_regr = LinearRegression().fit(X_train, np.log(y_train+1))\n",
        "VERSION = 2\n",
        "predict_test = np.exp(linear_regr.predict(X_test))\n",
        "print(f\"MAPE: {(mape(y_test, predict_test))*100:0.2f}%\")"
      ]
    },
    {
      "cell_type": "markdown",
      "metadata": {
        "papermill": {
          "duration": 0.191016,
          "end_time": "2021-06-06T17:15:34.627634",
          "exception": false,
          "start_time": "2021-06-06T17:15:34.436618",
          "status": "completed"
        },
        "tags": [],
        "id": "MzNTObk51zrJ"
      },
      "source": [
        "# CatBoost\n"
      ]
    },
    {
      "cell_type": "code",
      "execution_count": 222,
      "metadata": {
        "execution": {
          "iopub.execute_input": "2021-06-06T17:15:35.018086Z",
          "iopub.status.busy": "2021-06-06T17:15:35.017124Z",
          "iopub.status.idle": "2021-06-06T17:16:01.471495Z",
          "shell.execute_reply": "2021-06-06T17:16:01.472331Z"
        },
        "papermill": {
          "duration": 26.650522,
          "end_time": "2021-06-06T17:16:01.472564",
          "exception": false,
          "start_time": "2021-06-06T17:15:34.822042",
          "status": "completed"
        },
        "tags": [],
        "id": "QlOp94fH1zrJ"
      },
      "outputs": [],
      "source": [
        "model = CatBoostRegressor(iterations = 5000,\n",
        "                          random_seed = RANDOM_SEED,\n",
        "                          eval_metric='MAPE',\n",
        "                          custom_metric=['R2', 'MAE'],\n",
        "                          silent=True,\n",
        "                         )\n",
        "model.fit(X_train, y_train,\n",
        "         #cat_features=cat_features_ids,\n",
        "         eval_set=(X_test, y_test),\n",
        "         verbose_eval=0,\n",
        "         use_best_model=True,\n",
        "         #plot=True\n",
        "         )\n",
        "\n",
        "model.save_model('catboost_single_model_baseline.model')"
      ]
    },
    {
      "cell_type": "code",
      "source": [
        "# checking accuracy\n",
        "VERSION = 3\n",
        "predict = model.predict(X_test)\n",
        "print(f\"MAPE: {(mape(y_test, predict))*100:0.2f}%\")"
      ],
      "metadata": {
        "colab": {
          "base_uri": "https://localhost:8080/"
        },
        "id": "v0u1KLUPaMGv",
        "outputId": "cf0bc100-37b4-4014-9a9d-ea7d30ddca77"
      },
      "execution_count": 224,
      "outputs": [
        {
          "output_type": "stream",
          "name": "stdout",
          "text": [
            "MAPE: 14.91%\n"
          ]
        }
      ]
    },
    {
      "cell_type": "markdown",
      "metadata": {
        "papermill": {
          "duration": 0.194316,
          "end_time": "2021-06-06T17:16:02.283899",
          "exception": false,
          "start_time": "2021-06-06T17:16:02.089583",
          "status": "completed"
        },
        "tags": [],
        "id": "xqu-74gl1zrJ"
      },
      "source": [
        "### Log Target\n",
        "Let's try to take the target in the logarithm. This will reduce the impact of outliers on model training (we use np.log and np.exp for this)."
      ]
    },
    {
      "cell_type": "code",
      "execution_count": null,
      "metadata": {
        "execution": {
          "iopub.execute_input": "2021-06-06T17:16:02.685857Z",
          "iopub.status.busy": "2021-06-06T17:16:02.684794Z",
          "iopub.status.idle": "2021-06-06T17:16:29.071751Z",
          "shell.execute_reply": "2021-06-06T17:16:29.072273Z"
        },
        "papermill": {
          "duration": 26.595311,
          "end_time": "2021-06-06T17:16:29.072456",
          "exception": false,
          "start_time": "2021-06-06T17:16:02.477145",
          "status": "completed"
        },
        "tags": [],
        "id": "GRYv_whG1zrJ",
        "outputId": "c33b2669-043d-42ab-eacb-5c17ef681894"
      },
      "outputs": [
        {
          "name": "stdout",
          "output_type": "stream",
          "text": [
            "Точность модели по метрике MAPE: 12.52%\n"
          ]
        }
      ],
      "source": [
        "model = CatBoostRegressor(iterations = 5000,\n",
        "                          random_seed = RANDOM_SEED,\n",
        "                          eval_metric='MAPE',\n",
        "                          custom_metric=['R2', 'MAE'],\n",
        "                          silent=True,\n",
        "                         )\n",
        "model.fit(X_train, np.log(y_train),\n",
        "         #cat_features=cat_features_ids,\n",
        "         eval_set=(X_test, np.log(y_test)),\n",
        "         verbose_eval=0,\n",
        "         use_best_model=True,\n",
        "         #plot=True\n",
        "         )\n",
        "\n",
        "model.save_model('catboost_single_model_2_baseline.model')\n",
        "predict_test = np.exp(model.predict(X_test))\n",
        "#predict_submission = np.exp(model.predict(test_data))\n",
        "VERSION = 4\n",
        "print(f\"Точность модели по метрике MAPE: {(mape(y_test, predict_test))*100:0.2f}%\")"
      ]
    },
    {
      "cell_type": "markdown",
      "metadata": {
        "papermill": {
          "duration": 0.192851,
          "end_time": "2021-06-06T17:16:29.460279",
          "exception": false,
          "start_time": "2021-06-06T17:16:29.267428",
          "status": "completed"
        },
        "tags": [],
        "id": "mtbJo8A41zrK"
      },
      "source": [
        "# Random Forest"
      ]
    },
    {
      "cell_type": "code",
      "execution_count": null,
      "metadata": {
        "execution": {
          "iopub.execute_input": "2021-06-06T17:16:29.850449Z",
          "iopub.status.busy": "2021-06-06T17:16:29.849785Z",
          "iopub.status.idle": "2021-06-06T17:16:35.536249Z",
          "shell.execute_reply": "2021-06-06T17:16:35.536989Z"
        },
        "papermill": {
          "duration": 5.886821,
          "end_time": "2021-06-06T17:16:35.537194",
          "exception": false,
          "start_time": "2021-06-06T17:16:29.650373",
          "status": "completed"
        },
        "tags": [],
        "id": "isDcssYv1zrK",
        "outputId": "6e9f0079-c298-4100-96ff-11c0d5ba313b"
      },
      "outputs": [
        {
          "name": "stderr",
          "output_type": "stream",
          "text": [
            "[Parallel(n_jobs=-1)]: Using backend ThreadingBackend with 4 concurrent workers.\n",
            "[Parallel(n_jobs=-1)]: Done  42 tasks      | elapsed:    2.4s\n"
          ]
        },
        {
          "name": "stdout",
          "output_type": "stream",
          "text": [
            "Точность модели по метрике MAPE: 14.19%\n"
          ]
        },
        {
          "name": "stderr",
          "output_type": "stream",
          "text": [
            "[Parallel(n_jobs=-1)]: Done 100 out of 100 | elapsed:    5.5s finished\n",
            "[Parallel(n_jobs=4)]: Using backend ThreadingBackend with 4 concurrent workers.\n",
            "[Parallel(n_jobs=4)]: Done  42 tasks      | elapsed:    0.0s\n",
            "[Parallel(n_jobs=4)]: Done 100 out of 100 | elapsed:    0.1s finished\n"
          ]
        }
      ],
      "source": [
        "rf = RandomForestRegressor(random_state = RANDOM_SEED, n_jobs = -1, verbose = 1).fit(X_train, np.log(y_train+1))\n",
        "print(f\"Точность модели по метрике MAPE: {(mape(y_test, np.exp(rf.predict(X_test))))*100:0.2f}%\")\n",
        "VERSION = 5\n",
        "#predict_submission = np.exp(rf.predict(test_data))"
      ]
    },
    {
      "cell_type": "markdown",
      "metadata": {
        "papermill": {
          "duration": 0.196884,
          "end_time": "2021-06-06T17:16:35.930537",
          "exception": false,
          "start_time": "2021-06-06T17:16:35.733653",
          "status": "completed"
        },
        "tags": [],
        "id": "inbXVRWv1zrK"
      },
      "source": [
        "**Comment it out, it takes a lot of time:**"
      ]
    },
    {
      "cell_type": "code",
      "execution_count": null,
      "metadata": {
        "execution": {
          "iopub.execute_input": "2021-06-06T17:16:36.334621Z",
          "iopub.status.busy": "2021-06-06T17:16:36.333932Z",
          "iopub.status.idle": "2021-06-06T17:16:36.338811Z",
          "shell.execute_reply": "2021-06-06T17:16:36.338276Z"
        },
        "papermill": {
          "duration": 0.211004,
          "end_time": "2021-06-06T17:16:36.338931",
          "exception": false,
          "start_time": "2021-06-06T17:16:36.127927",
          "status": "completed"
        },
        "tags": [],
        "id": "wajRkRe11zrK"
      },
      "outputs": [],
      "source": [
        "#Define a grid of hyperparameters that will be iterated:\n",
        "from sklearn.model_selection import RandomizedSearchCV\n",
        "n_estimators = [int(x) for x in np.linspace(start = 200, stop = 2000, num = 10)]\n",
        "max_features = ['auto', 'sqrt']\n",
        "max_depth = [int(x) for x in np.linspace(10, 110, num = 11)]\n",
        "max_depth.append(None)\n",
        "min_samples_split = [2, 5, 10]\n",
        "min_samples_leaf = [1, 2, 4]\n",
        "bootstrap = [True, False]\n",
        "random_grid = {'n_estimators': n_estimators,\n",
        "               'max_features': max_features,\n",
        "               'max_depth': max_depth,\n",
        "               'min_samples_split': min_samples_split,\n",
        "               'min_samples_leaf': min_samples_leaf,\n",
        "               'bootstrap': bootstrap}"
      ]
    },
    {
      "cell_type": "code",
      "execution_count": null,
      "metadata": {
        "execution": {
          "iopub.execute_input": "2021-06-06T17:16:36.737525Z",
          "iopub.status.busy": "2021-06-06T17:16:36.736508Z",
          "iopub.status.idle": "2021-06-06T17:16:36.740069Z",
          "shell.execute_reply": "2021-06-06T17:16:36.739437Z"
        },
        "papermill": {
          "duration": 0.205223,
          "end_time": "2021-06-06T17:16:36.740187",
          "exception": false,
          "start_time": "2021-06-06T17:16:36.534964",
          "status": "completed"
        },
        "tags": [],
        "id": "7e7F3q9_1zrK"
      },
      "outputs": [],
      "source": [
        "#training:\n",
        "#rf = RandomForestRegressor(random_state=42)\n",
        "#rf_rand = RandomizedSearchCV(estimator=rf, param_distributions=random_grid, n_iter=100, \n",
        "#                              cv=3, verbose=2, random_state=42, n_jobs=-1)\n",
        "#rf_random.fit(X_train, np.log(y_train+1))"
      ]
    },
    {
      "cell_type": "code",
      "execution_count": null,
      "metadata": {
        "execution": {
          "iopub.execute_input": "2021-06-06T17:16:37.141536Z",
          "iopub.status.busy": "2021-06-06T17:16:37.140695Z",
          "iopub.status.idle": "2021-06-06T17:16:37.143720Z",
          "shell.execute_reply": "2021-06-06T17:16:37.143040Z"
        },
        "papermill": {
          "duration": 0.207391,
          "end_time": "2021-06-06T17:16:37.143837",
          "exception": false,
          "start_time": "2021-06-06T17:16:36.936446",
          "status": "completed"
        },
        "tags": [],
        "id": "KXV7X0kL1zrL"
      },
      "outputs": [],
      "source": [
        "#print(f\"MAPE: {(mape(y_test, np.exp(rf.predict(X_test))))*100:0.2f}%\")\n",
        "VERSION = 6\n",
        "#predict_submission = np.exp(rf_random.predict(test_data))\n"
      ]
    },
    {
      "cell_type": "markdown",
      "metadata": {
        "papermill": {
          "duration": 0.196033,
          "end_time": "2021-06-06T17:16:37.535945",
          "exception": false,
          "start_time": "2021-06-06T17:16:37.339912",
          "status": "completed"
        },
        "tags": [],
        "id": "filU3Gcs1zrL"
      },
      "source": [
        "# xgboost"
      ]
    },
    {
      "cell_type": "code",
      "execution_count": null,
      "metadata": {
        "execution": {
          "iopub.execute_input": "2021-06-06T17:16:37.937889Z",
          "iopub.status.busy": "2021-06-06T17:16:37.937202Z",
          "iopub.status.idle": "2021-06-06T17:17:34.414216Z",
          "shell.execute_reply": "2021-06-06T17:17:34.413681Z",
          "shell.execute_reply.started": "2021-06-06T16:39:04.187946Z"
        },
        "papermill": {
          "duration": 56.681769,
          "end_time": "2021-06-06T17:17:34.414375",
          "exception": false,
          "start_time": "2021-06-06T17:16:37.732606",
          "status": "completed"
        },
        "tags": [],
        "id": "IS946t3n1zrL",
        "outputId": "40d0a56a-8859-452c-b993-513da37a76b0"
      },
      "outputs": [
        {
          "name": "stdout",
          "output_type": "stream",
          "text": [
            "Точность модели по метрике MAPE: 12.14%\n"
          ]
        }
      ],
      "source": [
        "# xgboost\n",
        "import xgboost as xgb\n",
        "xb = xgb.XGBRegressor(objective='reg:squarederror', colsample_bytree=0.5, learning_rate=0.03, \\\n",
        "                      max_depth=12, alpha=1, n_jobs=-1, n_estimators=1000)\n",
        "xb.fit(X_train, np.log(y_train+1))\n",
        "print(f\"Точность модели по метрике MAPE: {(mape(y_test, np.exp(xb.predict(X_test))))*100:0.2f}%\")\n",
        "VERSION = 7\n",
        "predict_test = np.exp(xb.predict(X_test))\n",
        "predict_submission = np.exp(xb.predict(test_data))"
      ]
    },
    {
      "cell_type": "markdown",
      "metadata": {
        "papermill": {
          "duration": 0.198026,
          "end_time": "2021-06-06T17:17:34.808277",
          "exception": false,
          "start_time": "2021-06-06T17:17:34.610251",
          "status": "completed"
        },
        "tags": [],
        "id": "I2wuKa1z1zrL"
      },
      "source": [
        "# GradientBoosting with hyperparameter tuning"
      ]
    },
    {
      "cell_type": "code",
      "execution_count": null,
      "metadata": {
        "execution": {
          "iopub.execute_input": "2021-06-06T17:17:35.212714Z",
          "iopub.status.busy": "2021-06-06T17:17:35.212020Z",
          "iopub.status.idle": "2021-06-06T17:17:35.214924Z",
          "shell.execute_reply": "2021-06-06T17:17:35.214284Z"
        },
        "papermill": {
          "duration": 0.210614,
          "end_time": "2021-06-06T17:17:35.215032",
          "exception": false,
          "start_time": "2021-06-06T17:17:35.004418",
          "status": "completed"
        },
        "tags": [],
        "id": "3zxbvKg81zrL"
      },
      "outputs": [],
      "source": [
        "from sklearn.ensemble import GradientBoostingRegressor\n",
        "def regularise(X_train, y_train):\n",
        "    max_depth = [5, 10,15]\n",
        "    n_estimators = [100, 200,1000]\n",
        "    hyperparameters = dict(max_depth=max_depth, n_estimators=n_estimators)\n",
        "    model = GradientBoostingRegressor()\n",
        "    model.fit(X_train, y_train)\n",
        "\n",
        "    clf = GridSearchCV(model, hyperparameters)\n",
        "\n",
        "    best_model = clf.fit(X_train, y_train)\n",
        "\n",
        "    best_max_depth = best_model.best_estimator_.get_params()['max_depth']\n",
        "    best_n_estimators = best_model.best_estimator_.get_params()['n_estimators']\n",
        "\n",
        "    return best_max_depth, best_n_estimators"
      ]
    },
    {
      "cell_type": "code",
      "execution_count": null,
      "metadata": {
        "execution": {
          "iopub.execute_input": "2021-06-06T17:17:35.612727Z",
          "iopub.status.busy": "2021-06-06T17:17:35.612098Z",
          "iopub.status.idle": "2021-06-06T17:17:35.615093Z",
          "shell.execute_reply": "2021-06-06T17:17:35.614472Z",
          "shell.execute_reply.started": "2021-06-03T02:43:52.587666Z"
        },
        "papermill": {
          "duration": 0.203582,
          "end_time": "2021-06-06T17:17:35.615198",
          "exception": false,
          "start_time": "2021-06-06T17:17:35.411616",
          "status": "completed"
        },
        "tags": [],
        "id": "xXYEukSx1zrL"
      },
      "outputs": [],
      "source": [
        "#VERY LONG WORK, COMMENT it\n",
        "#best_max_depth, best_n_estimators = regularise(X_train, y_train)\n",
        "#best_max_depth, best_n_estimators"
      ]
    },
    {
      "cell_type": "markdown",
      "metadata": {
        "papermill": {
          "duration": 0.195369,
          "end_time": "2021-06-06T17:17:36.006185",
          "exception": false,
          "start_time": "2021-06-06T17:17:35.810816",
          "status": "completed"
        },
        "tags": [],
        "id": "swxHYeLi1zrL"
      },
      "source": [
        "(5, 1000)"
      ]
    },
    {
      "cell_type": "code",
      "execution_count": null,
      "metadata": {
        "execution": {
          "iopub.execute_input": "2021-06-06T17:17:36.413682Z",
          "iopub.status.busy": "2021-06-06T17:17:36.413009Z",
          "iopub.status.idle": "2021-06-06T17:18:45.873495Z",
          "shell.execute_reply": "2021-06-06T17:18:45.874294Z",
          "shell.execute_reply.started": "2021-06-06T16:40:18.158166Z"
        },
        "papermill": {
          "duration": 69.664824,
          "end_time": "2021-06-06T17:18:45.874530",
          "exception": false,
          "start_time": "2021-06-06T17:17:36.209706",
          "status": "completed"
        },
        "tags": [],
        "id": "d8YSGs9l1zrL",
        "outputId": "a12eeae6-3840-4c11-eb49-d126d6fd5470"
      },
      "outputs": [
        {
          "name": "stdout",
          "output_type": "stream",
          "text": [
            "Точность модели по метрике MAPE: 13.81%\n"
          ]
        }
      ],
      "source": [
        "gb = GradientBoostingRegressor(min_samples_split=2, learning_rate=0.03, max_depth=5, n_estimators=1000)\n",
        "gb.fit(X_train, np.log(y_train+1))\n",
        "print(f\"Точность модели по метрике MAPE: {(mape(y_test, np.exp(gb.predict(X_test))))*100:0.2f}%\")\n",
        "VERSION = 8"
      ]
    },
    {
      "cell_type": "markdown",
      "metadata": {
        "papermill": {
          "duration": 0.199997,
          "end_time": "2021-06-06T17:18:46.274196",
          "exception": false,
          "start_time": "2021-06-06T17:18:46.074199",
          "status": "completed"
        },
        "tags": [],
        "id": "RIWSeKT41zrL"
      },
      "source": [
        "# Stacking"
      ]
    },
    {
      "cell_type": "code",
      "execution_count": null,
      "metadata": {
        "execution": {
          "iopub.execute_input": "2021-06-06T17:18:46.690244Z",
          "iopub.status.busy": "2021-06-06T17:18:46.686157Z",
          "iopub.status.idle": "2021-06-06T17:18:46.711250Z",
          "shell.execute_reply": "2021-06-06T17:18:46.710627Z",
          "shell.execute_reply.started": "2021-06-06T16:41:30.208377Z"
        },
        "papermill": {
          "duration": 0.237924,
          "end_time": "2021-06-06T17:18:46.711388",
          "exception": false,
          "start_time": "2021-06-06T17:18:46.473464",
          "status": "completed"
        },
        "tags": [],
        "id": "cl08b3Z21zrL"
      },
      "outputs": [],
      "source": [
        "scaler = StandardScaler() \n",
        "X_train = scaler.fit_transform(X_train) \n",
        "X_test = scaler.transform(X_test) \n",
        "\n",
        "\n",
        "y_train = y_train \n",
        "y_test = y_test\n",
        "\n",
        "cv = KFold(n_splits=5, shuffle=True, random_state=RANDOM_SEED)\n",
        "\n",
        "def compute_meta_feature(regr, X_train, X_test, y_train, cv):\n",
        "    X_meta_train = np.zeros_like(y_train, dtype=np.float32)    \n",
        "    splits = cv.split(X_train)\n",
        "    for train_fold_index, predict_fold_index in splits:\n",
        "        X_fold_train, X_fold_predict = X_train[train_fold_index], X_train[predict_fold_index]\n",
        "        y_fold_train = y_train[train_fold_index]\n",
        "\n",
        "        folded_regr = clone(regr)\n",
        "        folded_regr.fit(X_fold_train, y_fold_train)\n",
        "\n",
        "        X_meta_train[predict_fold_index] = folded_regr.predict(X_fold_predict)\n",
        "\n",
        "    meta_regr = clone(regr)\n",
        "    meta_regr.fit(X_train, y_train)\n",
        "\n",
        "    X_meta_test = meta_regr.predict(X_test)\n",
        "\n",
        "\n",
        "    return X_meta_train, X_meta_test\n",
        "\n",
        "def generate_meta_features(regr, X_train, X_test, y_train, cv):\n",
        "    features = [compute_meta_feature(regr, X_train, X_test, y_train, cv) for regr in tqdm(regr)]    \n",
        "    stacked_features_train = np.vstack([features_train for features_train, features_test in features]).T\n",
        "    stacked_features_test = np.vstack([features_test for features_train, features_test in features]).T\n",
        "    return stacked_features_train, stacked_features_test\n",
        "\n",
        "X_train = np.where(np.isnan(X_train), 0, X_train)\n",
        "X_test = np.where(np.isnan(X_test), 0, X_test)\n",
        "y_train = np.where(np.isnan(y_train), 0, y_train)"
      ]
    },
    {
      "cell_type": "code",
      "execution_count": null,
      "metadata": {
        "execution": {
          "iopub.execute_input": "2021-06-06T17:18:47.144946Z",
          "iopub.status.busy": "2021-06-06T17:18:47.121750Z",
          "iopub.status.idle": "2021-06-06T17:25:28.299073Z",
          "shell.execute_reply": "2021-06-06T17:25:28.295435Z",
          "shell.execute_reply.started": "2021-06-06T16:41:30.242421Z"
        },
        "papermill": {
          "duration": 401.388657,
          "end_time": "2021-06-06T17:25:28.299243",
          "exception": false,
          "start_time": "2021-06-06T17:18:46.910586",
          "status": "completed"
        },
        "tags": [],
        "colab": {
          "referenced_widgets": [
            "118fd0c559ce40cc9c4a8bcfd49990bf"
          ]
        },
        "id": "N2o97kX71zrM",
        "outputId": "2287a6a5-7b20-4411-ac91-7a05b8e9dc7e"
      },
      "outputs": [
        {
          "data": {
            "application/vnd.jupyter.widget-view+json": {
              "model_id": "118fd0c559ce40cc9c4a8bcfd49990bf",
              "version_major": 2,
              "version_minor": 0
            },
            "text/plain": [
              "HBox(children=(FloatProgress(value=0.0, max=6.0), HTML(value='')))"
            ]
          },
          "metadata": {},
          "output_type": "display_data"
        },
        {
          "name": "stderr",
          "output_type": "stream",
          "text": [
            "[Parallel(n_jobs=-1)]: Using backend ThreadingBackend with 4 concurrent workers.\n",
            "[Parallel(n_jobs=-1)]: Done  42 tasks      | elapsed:    0.6s\n",
            "[Parallel(n_jobs=-1)]: Done 192 tasks      | elapsed:    2.6s\n",
            "[Parallel(n_jobs=-1)]: Done 200 out of 200 | elapsed:    2.7s finished\n",
            "[Parallel(n_jobs=4)]: Using backend ThreadingBackend with 4 concurrent workers.\n",
            "[Parallel(n_jobs=4)]: Done  42 tasks      | elapsed:    0.0s\n",
            "[Parallel(n_jobs=4)]: Done 192 tasks      | elapsed:    0.0s\n",
            "[Parallel(n_jobs=4)]: Done 200 out of 200 | elapsed:    0.1s finished\n",
            "[Parallel(n_jobs=-1)]: Using backend ThreadingBackend with 4 concurrent workers.\n",
            "[Parallel(n_jobs=-1)]: Done  42 tasks      | elapsed:    0.6s\n",
            "[Parallel(n_jobs=-1)]: Done 192 tasks      | elapsed:    2.6s\n",
            "[Parallel(n_jobs=-1)]: Done 200 out of 200 | elapsed:    2.7s finished\n",
            "[Parallel(n_jobs=4)]: Using backend ThreadingBackend with 4 concurrent workers.\n",
            "[Parallel(n_jobs=4)]: Done  42 tasks      | elapsed:    0.0s\n",
            "[Parallel(n_jobs=4)]: Done 192 tasks      | elapsed:    0.0s\n",
            "[Parallel(n_jobs=4)]: Done 200 out of 200 | elapsed:    0.1s finished\n",
            "[Parallel(n_jobs=-1)]: Using backend ThreadingBackend with 4 concurrent workers.\n",
            "[Parallel(n_jobs=-1)]: Done  42 tasks      | elapsed:    0.6s\n",
            "[Parallel(n_jobs=-1)]: Done 192 tasks      | elapsed:    2.6s\n",
            "[Parallel(n_jobs=-1)]: Done 200 out of 200 | elapsed:    2.7s finished\n",
            "[Parallel(n_jobs=4)]: Using backend ThreadingBackend with 4 concurrent workers.\n",
            "[Parallel(n_jobs=4)]: Done  42 tasks      | elapsed:    0.0s\n",
            "[Parallel(n_jobs=4)]: Done 192 tasks      | elapsed:    0.0s\n",
            "[Parallel(n_jobs=4)]: Done 200 out of 200 | elapsed:    0.0s finished\n",
            "[Parallel(n_jobs=-1)]: Using backend ThreadingBackend with 4 concurrent workers.\n",
            "[Parallel(n_jobs=-1)]: Done  42 tasks      | elapsed:    0.6s\n",
            "[Parallel(n_jobs=-1)]: Done 192 tasks      | elapsed:    2.7s\n",
            "[Parallel(n_jobs=-1)]: Done 200 out of 200 | elapsed:    2.7s finished\n",
            "[Parallel(n_jobs=4)]: Using backend ThreadingBackend with 4 concurrent workers.\n",
            "[Parallel(n_jobs=4)]: Done  42 tasks      | elapsed:    0.0s\n",
            "[Parallel(n_jobs=4)]: Done 192 tasks      | elapsed:    0.0s\n",
            "[Parallel(n_jobs=4)]: Done 200 out of 200 | elapsed:    0.1s finished\n",
            "[Parallel(n_jobs=-1)]: Using backend ThreadingBackend with 4 concurrent workers.\n",
            "[Parallel(n_jobs=-1)]: Done  42 tasks      | elapsed:    0.6s\n",
            "[Parallel(n_jobs=-1)]: Done 192 tasks      | elapsed:    2.6s\n",
            "[Parallel(n_jobs=-1)]: Done 200 out of 200 | elapsed:    2.7s finished\n",
            "[Parallel(n_jobs=4)]: Using backend ThreadingBackend with 4 concurrent workers.\n",
            "[Parallel(n_jobs=4)]: Done  42 tasks      | elapsed:    0.0s\n",
            "[Parallel(n_jobs=4)]: Done 192 tasks      | elapsed:    0.0s\n",
            "[Parallel(n_jobs=4)]: Done 200 out of 200 | elapsed:    0.1s finished\n",
            "[Parallel(n_jobs=-1)]: Using backend ThreadingBackend with 4 concurrent workers.\n",
            "[Parallel(n_jobs=-1)]: Done  42 tasks      | elapsed:    0.7s\n",
            "[Parallel(n_jobs=-1)]: Done 192 tasks      | elapsed:    3.1s\n",
            "[Parallel(n_jobs=-1)]: Done 200 out of 200 | elapsed:    3.2s finished\n",
            "[Parallel(n_jobs=4)]: Using backend ThreadingBackend with 4 concurrent workers.\n",
            "[Parallel(n_jobs=4)]: Done  42 tasks      | elapsed:    0.0s\n",
            "[Parallel(n_jobs=4)]: Done 192 tasks      | elapsed:    0.1s\n",
            "[Parallel(n_jobs=4)]: Done 200 out of 200 | elapsed:    0.1s finished\n"
          ]
        },
        {
          "name": "stdout",
          "output_type": "stream",
          "text": [
            "\n"
          ]
        }
      ],
      "source": [
        "regr = RandomForestRegressor(n_estimators=300, min_samples_split=2, min_samples_leaf=1, \n",
        "                             max_features=3, max_depth=19, bootstrap=True, random_state=RANDOM_SEED)\n",
        "\n",
        "stacked_features_train, stacked_features_test = generate_meta_features([\n",
        "                            regr,\n",
        "                            GradientBoostingRegressor(min_samples_split=2, learning_rate=0.03, max_depth=10, n_estimators=300),\n",
        "                            KNeighborsRegressor(n_neighbors=2, algorithm = 'ball_tree', weights = 'distance', p=1),\n",
        "                            RandomForestRegressor(random_state = RANDOM_SEED, n_jobs = -1, verbose = 1, max_depth=5, n_estimators=200),\n",
        "                            ExtraTreesRegressor(random_state=RANDOM_SEED), \n",
        "                            RandomForestRegressor(random_state=RANDOM_SEED, max_depth=15) \\\n",
        "], X_train, X_test, y_train, cv)"
      ]
    },
    {
      "cell_type": "code",
      "execution_count": null,
      "metadata": {
        "execution": {
          "iopub.execute_input": "2021-06-06T17:25:28.713783Z",
          "iopub.status.busy": "2021-06-06T17:25:28.712795Z",
          "iopub.status.idle": "2021-06-06T17:25:52.317996Z",
          "shell.execute_reply": "2021-06-06T17:25:52.316940Z",
          "shell.execute_reply.started": "2021-06-06T16:48:22.100296Z"
        },
        "papermill": {
          "duration": 23.815178,
          "end_time": "2021-06-06T17:25:52.318158",
          "exception": false,
          "start_time": "2021-06-06T17:25:28.502980",
          "status": "completed"
        },
        "tags": [],
        "id": "9LG_jXdo1zrM",
        "outputId": "ecc93477-a60c-4582-bb5b-5091e0806ab5"
      },
      "outputs": [
        {
          "name": "stdout",
          "output_type": "stream",
          "text": [
            "Точность модели по метрике MAPE: 14.71%\n"
          ]
        }
      ],
      "source": [
        "def compute_metric(regr, X_train, y_train, X_test, y_test): \n",
        "    regr.fit(X_train, y_train) \n",
        "    y_test_pred = regr.predict(X_test) \n",
        "    return np.round(mape(y_test, y_test_pred)*100, 2)\n",
        "VERSION = 9\n",
        "print(f\"Точность модели по метрике MAPE: {compute_metric(regr, stacked_features_train, y_train, stacked_features_test, y_test)}%\")"
      ]
    },
    {
      "cell_type": "markdown",
      "metadata": {
        "papermill": {
          "duration": 0.204055,
          "end_time": "2021-06-06T17:25:52.725567",
          "exception": false,
          "start_time": "2021-06-06T17:25:52.521512",
          "status": "completed"
        },
        "tags": [],
        "id": "wbB8Zoye1zrM"
      },
      "source": [
        "After a series of experiments, we can make the following conclusions:\n",
        "* CatBoost and GradientBoosting do a great job and show a good metric result, but xgboost showed the best result - 12.14.\n",
        "* The result significantly improves  after taking the logarithm of the target variable\n",
        "* also managed to experiment with staking with different meta-algorithms.\n",
        "\n",
        "The results can be improved by parsing more data and doing more processing on the features by creating new ones, but due to lack of time this was not done."
      ]
    },
    {
      "cell_type": "markdown",
      "metadata": {
        "papermill": {
          "duration": 0.204641,
          "end_time": "2021-06-06T17:25:53.130588",
          "exception": false,
          "start_time": "2021-06-06T17:25:52.925947",
          "status": "completed"
        },
        "tags": [],
        "id": "RD8Zh5rB1zrM"
      },
      "source": [
        "# Submission"
      ]
    },
    {
      "cell_type": "code",
      "execution_count": null,
      "metadata": {
        "execution": {
          "iopub.execute_input": "2021-06-06T17:25:53.541491Z",
          "iopub.status.busy": "2021-06-06T17:25:53.540820Z",
          "iopub.status.idle": "2021-06-06T17:25:54.019244Z",
          "shell.execute_reply": "2021-06-06T17:25:54.018586Z",
          "shell.execute_reply.started": "2021-06-06T16:52:50.179277Z"
        },
        "papermill": {
          "duration": 0.685626,
          "end_time": "2021-06-06T17:25:54.019374",
          "exception": false,
          "start_time": "2021-06-06T17:25:53.333748",
          "status": "completed"
        },
        "tags": [],
        "id": "STETlKBG1zrM",
        "outputId": "d631000b-cbaf-4980-99e3-ef081426c74a"
      },
      "outputs": [
        {
          "data": {
            "text/html": [
              "<div>\n",
              "<style scoped>\n",
              "    .dataframe tbody tr th:only-of-type {\n",
              "        vertical-align: middle;\n",
              "    }\n",
              "\n",
              "    .dataframe tbody tr th {\n",
              "        vertical-align: top;\n",
              "    }\n",
              "\n",
              "    .dataframe thead th {\n",
              "        text-align: right;\n",
              "    }\n",
              "</style>\n",
              "<table border=\"1\" class=\"dataframe\">\n",
              "  <thead>\n",
              "    <tr style=\"text-align: right;\">\n",
              "      <th></th>\n",
              "      <th>sell_id</th>\n",
              "      <th>price</th>\n",
              "    </tr>\n",
              "  </thead>\n",
              "  <tbody>\n",
              "    <tr>\n",
              "      <th>0</th>\n",
              "      <td>1100575026</td>\n",
              "      <td>6.697804e+05</td>\n",
              "    </tr>\n",
              "    <tr>\n",
              "      <th>1</th>\n",
              "      <td>1100549428</td>\n",
              "      <td>9.962137e+05</td>\n",
              "    </tr>\n",
              "    <tr>\n",
              "      <th>2</th>\n",
              "      <td>1100658222</td>\n",
              "      <td>9.239507e+05</td>\n",
              "    </tr>\n",
              "    <tr>\n",
              "      <th>3</th>\n",
              "      <td>1100937408</td>\n",
              "      <td>7.974400e+05</td>\n",
              "    </tr>\n",
              "    <tr>\n",
              "      <th>4</th>\n",
              "      <td>1101037972</td>\n",
              "      <td>7.523437e+05</td>\n",
              "    </tr>\n",
              "    <tr>\n",
              "      <th>5</th>\n",
              "      <td>1100912634</td>\n",
              "      <td>7.435708e+05</td>\n",
              "    </tr>\n",
              "    <tr>\n",
              "      <th>6</th>\n",
              "      <td>1101228730</td>\n",
              "      <td>6.611716e+05</td>\n",
              "    </tr>\n",
              "    <tr>\n",
              "      <th>7</th>\n",
              "      <td>1100165896</td>\n",
              "      <td>4.483103e+05</td>\n",
              "    </tr>\n",
              "    <tr>\n",
              "      <th>8</th>\n",
              "      <td>1100768262</td>\n",
              "      <td>2.138524e+06</td>\n",
              "    </tr>\n",
              "    <tr>\n",
              "      <th>9</th>\n",
              "      <td>1101218501</td>\n",
              "      <td>8.035688e+05</td>\n",
              "    </tr>\n",
              "  </tbody>\n",
              "</table>\n",
              "</div>"
            ],
            "text/plain": [
              "      sell_id         price\n",
              "0  1100575026  6.697804e+05\n",
              "1  1100549428  9.962137e+05\n",
              "2  1100658222  9.239507e+05\n",
              "3  1100937408  7.974400e+05\n",
              "4  1101037972  7.523437e+05\n",
              "5  1100912634  7.435708e+05\n",
              "6  1101228730  6.611716e+05\n",
              "7  1100165896  4.483103e+05\n",
              "8  1100768262  2.138524e+06\n",
              "9  1101218501  8.035688e+05"
            ]
          },
          "execution_count": 141,
          "metadata": {},
          "output_type": "execute_result"
        }
      ],
      "source": [
        "sample_submission['price'] = predict_submission\n",
        "sample_submission.to_csv(f'submission_2_v{VERSION}.csv', index=False)\n",
        "sample_submission.head(10)"
      ]
    },
    {
      "cell_type": "markdown",
      "metadata": {
        "papermill": {
          "duration": 0.205196,
          "end_time": "2021-06-06T17:25:54.430467",
          "exception": false,
          "start_time": "2021-06-06T17:25:54.225271",
          "status": "completed"
        },
        "tags": [],
        "id": "1TUjQgV91zrM"
      },
      "source": [
        "# What's next?\n",
        "Or what else can be done to improve the result:\n",
        "\n",
        "* Parse fresh data\n",
        "* See what can be extracted from the features or how else the features can be processed\n",
        "* Generate new features\n",
        "* Try to find model parameters\n",
        "* Try other algorithms and ML libraries\n",
        "* Make Model Ensemble, Blending, Stacking"
      ]
    },
    {
      "cell_type": "markdown",
      "metadata": {
        "papermill": {
          "duration": 0.205054,
          "end_time": "2021-06-06T17:25:54.839758",
          "exception": false,
          "start_time": "2021-06-06T17:25:54.634704",
          "status": "completed"
        },
        "tags": [],
        "id": "tDdCi7JO1zrM"
      },
      "source": [
        "Подробный чек лист: https://docs.google.com/spreadsheets/d/1I_ErM3U0Cs7Rs1obyZbIEGtVn-H47pHNCi4xdDgUmXY/edit?usp=sharing"
      ]
    }
  ],
  "metadata": {
    "kernelspec": {
      "display_name": "Python 3 (ipykernel)",
      "language": "python",
      "name": "python3"
    },
    "language_info": {
      "codemirror_mode": {
        "name": "ipython",
        "version": 3
      },
      "file_extension": ".py",
      "mimetype": "text/x-python",
      "name": "python",
      "nbconvert_exporter": "python",
      "pygments_lexer": "ipython3",
      "version": "3.8.5"
    },
    "papermill": {
      "duration": 704.537898,
      "end_time": "2021-06-06T17:25:55.150241",
      "environment_variables": {},
      "exception": null,
      "input_path": "__notebook__.ipynb",
      "output_path": "__notebook__.ipynb",
      "parameters": {},
      "start_time": "2021-06-06T17:14:10.612343",
      "version": "2.1.0"
    },
    "widgets": {
      "application/vnd.jupyter.widget-state+json": {}
    },
    "colab": {
      "provenance": [],
      "include_colab_link": true
    }
  },
  "nbformat": 4,
  "nbformat_minor": 0
}