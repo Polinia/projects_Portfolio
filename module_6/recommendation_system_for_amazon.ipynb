{
  "metadata": {
    "kernelspec": {
      "display_name": "Python 3",
      "language": "python",
      "name": "python3"
    },
    "language_info": {
      "name": "python",
      "version": "3.7.10",
      "mimetype": "text/x-python",
      "codemirror_mode": {
        "name": "ipython",
        "version": 3
      },
      "pygments_lexer": "ipython3",
      "nbconvert_exporter": "python",
      "file_extension": ".py"
    },
    "varInspector": {
      "cols": {
        "lenName": 16,
        "lenType": 16,
        "lenVar": 40
      },
      "kernels_config": {
        "python": {
          "delete_cmd_postfix": "",
          "delete_cmd_prefix": "del ",
          "library": "var_list.py",
          "varRefreshCmd": "print(var_dic_list())"
        },
        "r": {
          "delete_cmd_postfix": ") ",
          "delete_cmd_prefix": "rm(",
          "library": "var_list.r",
          "varRefreshCmd": "cat(var_dic_list()) "
        }
      },
      "types_to_exclude": [
        "module",
        "function",
        "builtin_function_or_method",
        "instance",
        "_Feature"
      ],
      "window_display": false
    },
    "colab": {
      "provenance": [],
      "include_colab_link": true
    }
  },
  "nbformat_minor": 0,
  "nbformat": 4,
  "cells": [
    {
      "cell_type": "markdown",
      "metadata": {
        "id": "view-in-github",
        "colab_type": "text"
      },
      "source": [
        "<a href=\"https://colab.research.google.com/github/Polinia/skillfactory_rds/blob/main/module_6/recommendation_system_for_amazon.ipynb\" target=\"_parent\"><img src=\"https://colab.research.google.com/assets/colab-badge.svg\" alt=\"Open In Colab\"/></a>"
      ]
    },
    {
      "cell_type": "markdown",
      "source": [
        "# Recommendation system for Amazon items"
      ],
      "metadata": {
        "id": "1mdTRIcVNZ8w"
      }
    },
    {
      "cell_type": "markdown",
      "source": [
        "Goals and objectives: development of a recommendation system for a large online retail company. The recommendation system should be based on the most accurate recommendation of the right product in a high price category."
      ],
      "metadata": {
        "id": "QNtgv71DNZ8z"
      }
    },
    {
      "cell_type": "markdown",
      "source": [
        "**Importing Libraries**"
      ],
      "metadata": {
        "id": "niYolDiwNZ8z"
      }
    },
    {
      "cell_type": "code",
      "source": [
        "import numpy as np # linear algebra\n",
        "import pandas as pd \n",
        "from collections import Counter\n",
        "import json\n",
        "import re\n",
        "import seaborn as sns\n",
        "from datetime import datetime\n",
        "from pandas import Series\n",
        "import matplotlib.pyplot as plt\n",
        "\n",
        "import pandas_profiling\n",
        "\n",
        "from sklearn.preprocessing import LabelEncoder, OneHotEncoder, StandardScaler\n",
        "from sklearn.feature_selection import f_classif, mutual_info_classif\n",
        "\n",
        "import os\n",
        "from sklearn.metrics import auc, roc_auc_score, roc_curve\n",
        "import warnings \n",
        "warnings.simplefilter('ignore')"
      ],
      "metadata": {
        "_cell_guid": "b1076dfc-b9ad-4769-8c92-a6c4dae69d19",
        "_uuid": "8f2839f25d086af736a60e9eeb907d3b93b6e0e5",
        "execution": {
          "iopub.status.busy": "2022-12-07T16:18:55.173000Z",
          "iopub.execute_input": "2022-12-07T16:18:55.173444Z",
          "iopub.status.idle": "2022-12-07T16:18:57.859279Z",
          "shell.execute_reply.started": "2022-12-07T16:18:55.173412Z",
          "shell.execute_reply": "2022-12-07T16:18:57.858189Z"
        },
        "trusted": true,
        "id": "5llZ30AmNZ8z"
      },
      "execution_count": null,
      "outputs": []
    },
    {
      "cell_type": "markdown",
      "source": [
        "function for ROC-curve plot:"
      ],
      "metadata": {
        "id": "tiXwyd-6NZ81"
      }
    },
    {
      "cell_type": "code",
      "source": [
        "def roc_auc_curve(y_true, y_pred_prob):\n",
        "    fpr, tpr, _ = roc_curve(y_true, y_pred_prob)\n",
        "    plt.figure()\n",
        "    plt.plot([0, 1], label='Random classifier', linestyle='--')\n",
        "    plt.plot(fpr, tpr, label = 'LightFM')\n",
        "    plt.title('ROC AUC = %0.3f' % roc_auc_score(y_true, y_pred_prob))\n",
        "    plt.ylabel('True Positive Rate')\n",
        "    plt.xlabel('False Positive Rate')\n",
        "    plt.legend(loc = 'lower right')\n",
        "    plt.show()"
      ],
      "metadata": {
        "execution": {
          "iopub.status.busy": "2022-12-07T16:18:57.861799Z",
          "iopub.execute_input": "2022-12-07T16:18:57.862191Z",
          "iopub.status.idle": "2022-12-07T16:18:57.871451Z",
          "shell.execute_reply.started": "2022-12-07T16:18:57.862155Z",
          "shell.execute_reply": "2022-12-07T16:18:57.869491Z"
        },
        "trusted": true,
        "id": "FzCX6-AiNZ81"
      },
      "execution_count": null,
      "outputs": []
    },
    {
      "cell_type": "markdown",
      "source": [
        "function for feature description:"
      ],
      "metadata": {
        "id": "EPzd_CMJNZ81"
      }
    },
    {
      "cell_type": "code",
      "source": [
        "def description(feat):\n",
        "    print(feat.value_counts())\n",
        "    print(feat.describe())\n",
        "    print(\"gaps:\", feat.isnull().sum())"
      ],
      "metadata": {
        "execution": {
          "iopub.status.busy": "2022-12-07T16:18:57.873395Z",
          "iopub.execute_input": "2022-12-07T16:18:57.873935Z",
          "iopub.status.idle": "2022-12-07T16:18:57.884480Z",
          "shell.execute_reply.started": "2022-12-07T16:18:57.873889Z",
          "shell.execute_reply": "2022-12-07T16:18:57.883412Z"
        },
        "trusted": true,
        "id": "IwCP5jK2NZ82"
      },
      "execution_count": null,
      "outputs": []
    },
    {
      "cell_type": "code",
      "source": [
        "train = pd.read_csv('/kaggle/input/recommendationsv4/train.csv')\n",
        "test = pd.read_csv('/kaggle/input/recommendationsv4/test.csv')\n",
        "submission = pd.read_csv('/kaggle/input/recommendationsv4/sample_submission.csv')"
      ],
      "metadata": {
        "_cell_guid": "79c7e3d0-c299-4dcb-8224-4455121ee9b0",
        "_uuid": "d629ff2d2480ee46fbb7e2d37f6b5fab8052498a",
        "execution": {
          "iopub.status.busy": "2022-12-07T16:18:57.886892Z",
          "iopub.execute_input": "2022-12-07T16:18:57.887208Z",
          "iopub.status.idle": "2022-12-07T16:19:07.882601Z",
          "shell.execute_reply.started": "2022-12-07T16:18:57.887174Z",
          "shell.execute_reply": "2022-12-07T16:19:07.881606Z"
        },
        "trusted": true,
        "id": "qbBNb3RSNZ83"
      },
      "execution_count": null,
      "outputs": []
    },
    {
      "cell_type": "markdown",
      "source": [
        "Description:\n",
        "\n",
        "test.csv - the dataset I will do the predictions for. Each set has userid, itemid has its own id for which you have to make a prediction.\n",
        "\n",
        "* overall - rating given by the user\n",
        "* verified - if the review was verified\n",
        "* reviewTime - when the review was written\n",
        "* reviewerName - reviwer name\n",
        "* reviewText - review text\n",
        "* summary - summary\n",
        "* vote - number of votes per comment\n",
        "* style - metadata\n",
        "* image - product image\n",
        "* userid - user id \n",
        "* itemid - product id \n",
        "* id - id for prediction"
      ],
      "metadata": {
        "id": "xt5W-1vfNZ83"
      }
    },
    {
      "cell_type": "code",
      "source": [
        "# read json with metadata and put the result in the \"meta\" dataset\n",
        "# there is probably data here that can improve our model\n",
        "with open('/kaggle/input/recommendationsv4/meta_Grocery_and_Gourmet_Food.json') as f:\n",
        "    meta_list = []\n",
        "    for line in f.readlines():\n",
        "        meta_list.append(json.loads(line))\n",
        "        \n",
        "meta = pd.DataFrame(meta_list)"
      ],
      "metadata": {
        "execution": {
          "iopub.status.busy": "2022-12-07T16:19:07.883946Z",
          "iopub.execute_input": "2022-12-07T16:19:07.884185Z",
          "iopub.status.idle": "2022-12-07T16:20:15.387777Z",
          "shell.execute_reply.started": "2022-12-07T16:19:07.884158Z",
          "shell.execute_reply": "2022-12-07T16:20:15.386578Z"
        },
        "trusted": true,
        "id": "yVZXmBdnNZ84"
      },
      "execution_count": null,
      "outputs": []
    },
    {
      "cell_type": "code",
      "source": [
        "# quick look\n",
        "pd.set_option('display.max_columns', None)\n",
        "print('Dimension of the training dataset: ', train.shape)\n",
        "display(train.head(5))\n",
        "print('Dimension of the testing dataset: ', test.shape)\n",
        "display(test.head(5))\n",
        "print('Dimension of the meta dataset: ', meta.shape)\n",
        "display(meta.head(5))"
      ],
      "metadata": {
        "execution": {
          "iopub.status.busy": "2022-12-07T16:20:15.389487Z",
          "iopub.execute_input": "2022-12-07T16:20:15.390339Z",
          "iopub.status.idle": "2022-12-07T16:20:15.470119Z",
          "shell.execute_reply.started": "2022-12-07T16:20:15.390267Z",
          "shell.execute_reply": "2022-12-07T16:20:15.469009Z"
        },
        "trusted": true,
        "id": "ZwrQCytyNZ84",
        "outputId": "3a152b6e-91fb-4462-df11-ccb34dd42313"
      },
      "execution_count": null,
      "outputs": [
        {
          "name": "stdout",
          "text": "Dimension of the training dataset:  (857895, 14)\n",
          "output_type": "stream"
        },
        {
          "output_type": "display_data",
          "data": {
            "text/plain": "   overall  verified   reviewTime        asin      reviewerName  \\\n0      5.0      True   10 4, 2016  B01CPNIEQG           Heather   \n1      5.0      True   03 1, 2016  B006F63M8U        Linda Odom   \n2      5.0      True  06 26, 2016  B00112O8NG     DesertBlossom   \n3      5.0      True   09 5, 2013  B00MRAQUM8  Connie L. Reaves   \n4      5.0      True  09 14, 2016  B000R7RN0G           Mike P.   \n\n                                          reviewText  \\\n0  These are my FAVORITE spices in my collection....   \n1  Add A package to my Coffee and it makes a good...   \n2  I love the Torani syrups, but not the prices o...   \n3  Very fragrant. The price can't be beat. I do l...   \n4  These are my favorite jalapeno chips so far. T...   \n\n                                             summary  unixReviewTime vote  \\\n0                    Must Add to your Spice kitchen!      1475539200  NaN   \n1            Milk Chocolate Swiis MIss Hot Cocoa Mix      1456790400  NaN   \n2  Love these sugar free syrups, but didn't love ...      1466899200   28   \n3                                             Nice !      1378339200  NaN   \n4        These are my favorite jalapeno chips so far      1473811200  NaN   \n\n                                style image  userid  itemid  rating  \n0                                 NaN   NaN  102179   37138     1.0  \n1  {'Size:': ' 60-0.73 oz Envelopes'}   NaN    3625   17322     1.0  \n2                                 NaN   NaN   39495    5600     1.0  \n3                                 NaN   NaN   72854   30249     1.0  \n4             {'Flavor:': ' Jalapeo'}   NaN   74859    4349     1.0  ",
            "text/html": "<div>\n<style scoped>\n    .dataframe tbody tr th:only-of-type {\n        vertical-align: middle;\n    }\n\n    .dataframe tbody tr th {\n        vertical-align: top;\n    }\n\n    .dataframe thead th {\n        text-align: right;\n    }\n</style>\n<table border=\"1\" class=\"dataframe\">\n  <thead>\n    <tr style=\"text-align: right;\">\n      <th></th>\n      <th>overall</th>\n      <th>verified</th>\n      <th>reviewTime</th>\n      <th>asin</th>\n      <th>reviewerName</th>\n      <th>reviewText</th>\n      <th>summary</th>\n      <th>unixReviewTime</th>\n      <th>vote</th>\n      <th>style</th>\n      <th>image</th>\n      <th>userid</th>\n      <th>itemid</th>\n      <th>rating</th>\n    </tr>\n  </thead>\n  <tbody>\n    <tr>\n      <th>0</th>\n      <td>5.0</td>\n      <td>True</td>\n      <td>10 4, 2016</td>\n      <td>B01CPNIEQG</td>\n      <td>Heather</td>\n      <td>These are my FAVORITE spices in my collection....</td>\n      <td>Must Add to your Spice kitchen!</td>\n      <td>1475539200</td>\n      <td>NaN</td>\n      <td>NaN</td>\n      <td>NaN</td>\n      <td>102179</td>\n      <td>37138</td>\n      <td>1.0</td>\n    </tr>\n    <tr>\n      <th>1</th>\n      <td>5.0</td>\n      <td>True</td>\n      <td>03 1, 2016</td>\n      <td>B006F63M8U</td>\n      <td>Linda Odom</td>\n      <td>Add A package to my Coffee and it makes a good...</td>\n      <td>Milk Chocolate Swiis MIss Hot Cocoa Mix</td>\n      <td>1456790400</td>\n      <td>NaN</td>\n      <td>{'Size:': ' 60-0.73 oz Envelopes'}</td>\n      <td>NaN</td>\n      <td>3625</td>\n      <td>17322</td>\n      <td>1.0</td>\n    </tr>\n    <tr>\n      <th>2</th>\n      <td>5.0</td>\n      <td>True</td>\n      <td>06 26, 2016</td>\n      <td>B00112O8NG</td>\n      <td>DesertBlossom</td>\n      <td>I love the Torani syrups, but not the prices o...</td>\n      <td>Love these sugar free syrups, but didn't love ...</td>\n      <td>1466899200</td>\n      <td>28</td>\n      <td>NaN</td>\n      <td>NaN</td>\n      <td>39495</td>\n      <td>5600</td>\n      <td>1.0</td>\n    </tr>\n    <tr>\n      <th>3</th>\n      <td>5.0</td>\n      <td>True</td>\n      <td>09 5, 2013</td>\n      <td>B00MRAQUM8</td>\n      <td>Connie L. Reaves</td>\n      <td>Very fragrant. The price can't be beat. I do l...</td>\n      <td>Nice !</td>\n      <td>1378339200</td>\n      <td>NaN</td>\n      <td>NaN</td>\n      <td>NaN</td>\n      <td>72854</td>\n      <td>30249</td>\n      <td>1.0</td>\n    </tr>\n    <tr>\n      <th>4</th>\n      <td>5.0</td>\n      <td>True</td>\n      <td>09 14, 2016</td>\n      <td>B000R7RN0G</td>\n      <td>Mike P.</td>\n      <td>These are my favorite jalapeno chips so far. T...</td>\n      <td>These are my favorite jalapeno chips so far</td>\n      <td>1473811200</td>\n      <td>NaN</td>\n      <td>{'Flavor:': ' Jalapeo'}</td>\n      <td>NaN</td>\n      <td>74859</td>\n      <td>4349</td>\n      <td>1.0</td>\n    </tr>\n  </tbody>\n</table>\n</div>"
          },
          "metadata": {}
        },
        {
          "name": "stdout",
          "text": "Dimension of the testing dataset:  (285965, 11)\n",
          "output_type": "stream"
        },
        {
          "output_type": "display_data",
          "data": {
            "text/plain": "   verified   reviewTime        asin reviewerName  unixReviewTime vote  \\\n0      True   10 1, 2016  B001E5E3X0    Rudys Mom      1475280000  NaN   \n1      True  06 29, 2014  B005BYXX5E        pharg      1404000000    2   \n2      True  05 19, 2015  B0052OK6OO       dhalex      1431993600  NaN   \n3      True   10 5, 2014  B003SO8HGE      Vanessa      1412467200  NaN   \n4      True  11 11, 2013  B003XUJ564    R Mohrman      1384128000    3   \n\n                                               style image  userid  itemid  Id  \n0                                                NaN   NaN   68877    7506   0  \n1                                                NaN   NaN   50442   15530   1  \n2                                                NaN   NaN   64349   15049   2  \n3                         {'Flavor:': ' Sweet Rose'}   NaN   26206   11957   3  \n4  {'Size:': ' 15 Ounce (Pack of 12)', 'Flavor:':...   NaN   59366   12173   4  ",
            "text/html": "<div>\n<style scoped>\n    .dataframe tbody tr th:only-of-type {\n        vertical-align: middle;\n    }\n\n    .dataframe tbody tr th {\n        vertical-align: top;\n    }\n\n    .dataframe thead th {\n        text-align: right;\n    }\n</style>\n<table border=\"1\" class=\"dataframe\">\n  <thead>\n    <tr style=\"text-align: right;\">\n      <th></th>\n      <th>verified</th>\n      <th>reviewTime</th>\n      <th>asin</th>\n      <th>reviewerName</th>\n      <th>unixReviewTime</th>\n      <th>vote</th>\n      <th>style</th>\n      <th>image</th>\n      <th>userid</th>\n      <th>itemid</th>\n      <th>Id</th>\n    </tr>\n  </thead>\n  <tbody>\n    <tr>\n      <th>0</th>\n      <td>True</td>\n      <td>10 1, 2016</td>\n      <td>B001E5E3X0</td>\n      <td>Rudys Mom</td>\n      <td>1475280000</td>\n      <td>NaN</td>\n      <td>NaN</td>\n      <td>NaN</td>\n      <td>68877</td>\n      <td>7506</td>\n      <td>0</td>\n    </tr>\n    <tr>\n      <th>1</th>\n      <td>True</td>\n      <td>06 29, 2014</td>\n      <td>B005BYXX5E</td>\n      <td>pharg</td>\n      <td>1404000000</td>\n      <td>2</td>\n      <td>NaN</td>\n      <td>NaN</td>\n      <td>50442</td>\n      <td>15530</td>\n      <td>1</td>\n    </tr>\n    <tr>\n      <th>2</th>\n      <td>True</td>\n      <td>05 19, 2015</td>\n      <td>B0052OK6OO</td>\n      <td>dhalex</td>\n      <td>1431993600</td>\n      <td>NaN</td>\n      <td>NaN</td>\n      <td>NaN</td>\n      <td>64349</td>\n      <td>15049</td>\n      <td>2</td>\n    </tr>\n    <tr>\n      <th>3</th>\n      <td>True</td>\n      <td>10 5, 2014</td>\n      <td>B003SO8HGE</td>\n      <td>Vanessa</td>\n      <td>1412467200</td>\n      <td>NaN</td>\n      <td>{'Flavor:': ' Sweet Rose'}</td>\n      <td>NaN</td>\n      <td>26206</td>\n      <td>11957</td>\n      <td>3</td>\n    </tr>\n    <tr>\n      <th>4</th>\n      <td>True</td>\n      <td>11 11, 2013</td>\n      <td>B003XUJ564</td>\n      <td>R Mohrman</td>\n      <td>1384128000</td>\n      <td>3</td>\n      <td>{'Size:': ' 15 Ounce (Pack of 12)', 'Flavor:':...</td>\n      <td>NaN</td>\n      <td>59366</td>\n      <td>12173</td>\n      <td>4</td>\n    </tr>\n  </tbody>\n</table>\n</div>"
          },
          "metadata": {}
        },
        {
          "name": "stdout",
          "text": "Dimension of the meta dataset:  (287209, 17)\n",
          "output_type": "stream"
        },
        {
          "output_type": "display_data",
          "data": {
            "text/plain": "                                            category  \\\n0  [Grocery & Gourmet Food, Dairy, Cheese & Eggs,...   \n1  [Grocery & Gourmet Food, Cooking & Baking, Sug...   \n2  [Grocery & Gourmet Food, Cooking & Baking, Fro...   \n3  [Grocery & Gourmet Food, Cooking & Baking, Fro...   \n4  [Grocery & Gourmet Food, Cooking & Baking, Fro...   \n\n                                         description  \\\n0  [BEEMSTER GOUDA CHEESE AGED 18/24 MONTHS, Stat...   \n1  [Shipped from UK, please allow 10 to 21 busine...   \n2  [Jazz up your cakes with a sparkling monogram ...   \n3                      [Large Letter - Height 4.75\"]   \n4                                            [4.75\"]   \n\n                                               title           brand  \\\n0  Beemster Gouda - Aged 18/24 Months - App. 1.5 Lbs  Ariola Imports   \n1                          Trim Healthy Mama Xylitol             NaN   \n2  Letter C - Swarovski Crystal Monogram Wedding ...  Unik Occasions   \n3  Letter H - Swarovski Crystal Monogram Wedding ...           Other   \n4  Letter S - Swarovski Crystal Monogram Wedding ...  Unik Occasions   \n\n                                                rank  \\\n0                       165,181inGroceryGourmetFood(   \n1                       315,867inGroceryGourmetFood(   \n2  >#669,941 in Kitchen & Dining (See Top 100 in ...   \n3  >#832,581 in Kitchen & Dining (See Top 100 in ...   \n4  >#590,999 in Kitchen & Dining (See Top 100 in ...   \n\n                                           also_view     main_cat   price  \\\n0  [B0000D9MYM, B0000D9MYL, B00ADHIGBA, B00H9OX59...      Grocery  $41.91   \n1                                                NaN      Grocery     NaN   \n2                                       [B07DXN65TF]  Amazon Home  $29.95   \n3                                                NaN  Amazon Home  $11.45   \n4                                                NaN  Amazon Home  $15.00   \n\n         asin                                           also_buy  \\\n0  0681727810                                                NaN   \n1  0853347867  [B01898YHXK, B01BCM6LAC, B00Q4OL47O, B00Q4OL5Q...   \n2  1888861118                                                NaN   \n3  1888861517                                                NaN   \n4  1888861614                                                NaN   \n\n                                               image                date  \\\n0                                                NaN                 NaN   \n1  [https://images-na.ssl-images-amazon.com/image...                 NaN   \n2                                                NaN  September 21, 2010   \n3                                                NaN  September 11, 2011   \n4                                                NaN  September 11, 2011   \n\n                         feature details similar_item tech1  fit  \n0                            NaN     NaN          NaN   NaN  NaN  \n1                            NaN     NaN          NaN   NaN  NaN  \n2                            NaN     NaN          NaN   NaN  NaN  \n3  [Large Letter - Height 4.75\"]     NaN          NaN   NaN  NaN  \n4                 [4.75\" height]     NaN          NaN   NaN  NaN  ",
            "text/html": "<div>\n<style scoped>\n    .dataframe tbody tr th:only-of-type {\n        vertical-align: middle;\n    }\n\n    .dataframe tbody tr th {\n        vertical-align: top;\n    }\n\n    .dataframe thead th {\n        text-align: right;\n    }\n</style>\n<table border=\"1\" class=\"dataframe\">\n  <thead>\n    <tr style=\"text-align: right;\">\n      <th></th>\n      <th>category</th>\n      <th>description</th>\n      <th>title</th>\n      <th>brand</th>\n      <th>rank</th>\n      <th>also_view</th>\n      <th>main_cat</th>\n      <th>price</th>\n      <th>asin</th>\n      <th>also_buy</th>\n      <th>image</th>\n      <th>date</th>\n      <th>feature</th>\n      <th>details</th>\n      <th>similar_item</th>\n      <th>tech1</th>\n      <th>fit</th>\n    </tr>\n  </thead>\n  <tbody>\n    <tr>\n      <th>0</th>\n      <td>[Grocery &amp; Gourmet Food, Dairy, Cheese &amp; Eggs,...</td>\n      <td>[BEEMSTER GOUDA CHEESE AGED 18/24 MONTHS, Stat...</td>\n      <td>Beemster Gouda - Aged 18/24 Months - App. 1.5 Lbs</td>\n      <td>Ariola Imports</td>\n      <td>165,181inGroceryGourmetFood(</td>\n      <td>[B0000D9MYM, B0000D9MYL, B00ADHIGBA, B00H9OX59...</td>\n      <td>Grocery</td>\n      <td>$41.91</td>\n      <td>0681727810</td>\n      <td>NaN</td>\n      <td>NaN</td>\n      <td>NaN</td>\n      <td>NaN</td>\n      <td>NaN</td>\n      <td>NaN</td>\n      <td>NaN</td>\n      <td>NaN</td>\n    </tr>\n    <tr>\n      <th>1</th>\n      <td>[Grocery &amp; Gourmet Food, Cooking &amp; Baking, Sug...</td>\n      <td>[Shipped from UK, please allow 10 to 21 busine...</td>\n      <td>Trim Healthy Mama Xylitol</td>\n      <td>NaN</td>\n      <td>315,867inGroceryGourmetFood(</td>\n      <td>NaN</td>\n      <td>Grocery</td>\n      <td>NaN</td>\n      <td>0853347867</td>\n      <td>[B01898YHXK, B01BCM6LAC, B00Q4OL47O, B00Q4OL5Q...</td>\n      <td>[https://images-na.ssl-images-amazon.com/image...</td>\n      <td>NaN</td>\n      <td>NaN</td>\n      <td>NaN</td>\n      <td>NaN</td>\n      <td>NaN</td>\n      <td>NaN</td>\n    </tr>\n    <tr>\n      <th>2</th>\n      <td>[Grocery &amp; Gourmet Food, Cooking &amp; Baking, Fro...</td>\n      <td>[Jazz up your cakes with a sparkling monogram ...</td>\n      <td>Letter C - Swarovski Crystal Monogram Wedding ...</td>\n      <td>Unik Occasions</td>\n      <td>&gt;#669,941 in Kitchen &amp; Dining (See Top 100 in ...</td>\n      <td>[B07DXN65TF]</td>\n      <td>Amazon Home</td>\n      <td>$29.95</td>\n      <td>1888861118</td>\n      <td>NaN</td>\n      <td>NaN</td>\n      <td>September 21, 2010</td>\n      <td>NaN</td>\n      <td>NaN</td>\n      <td>NaN</td>\n      <td>NaN</td>\n      <td>NaN</td>\n    </tr>\n    <tr>\n      <th>3</th>\n      <td>[Grocery &amp; Gourmet Food, Cooking &amp; Baking, Fro...</td>\n      <td>[Large Letter - Height 4.75\"]</td>\n      <td>Letter H - Swarovski Crystal Monogram Wedding ...</td>\n      <td>Other</td>\n      <td>&gt;#832,581 in Kitchen &amp; Dining (See Top 100 in ...</td>\n      <td>NaN</td>\n      <td>Amazon Home</td>\n      <td>$11.45</td>\n      <td>1888861517</td>\n      <td>NaN</td>\n      <td>NaN</td>\n      <td>September 11, 2011</td>\n      <td>[Large Letter - Height 4.75\"]</td>\n      <td>NaN</td>\n      <td>NaN</td>\n      <td>NaN</td>\n      <td>NaN</td>\n    </tr>\n    <tr>\n      <th>4</th>\n      <td>[Grocery &amp; Gourmet Food, Cooking &amp; Baking, Fro...</td>\n      <td>[4.75\"]</td>\n      <td>Letter S - Swarovski Crystal Monogram Wedding ...</td>\n      <td>Unik Occasions</td>\n      <td>&gt;#590,999 in Kitchen &amp; Dining (See Top 100 in ...</td>\n      <td>NaN</td>\n      <td>Amazon Home</td>\n      <td>$15.00</td>\n      <td>1888861614</td>\n      <td>NaN</td>\n      <td>NaN</td>\n      <td>September 11, 2011</td>\n      <td>[4.75\" height]</td>\n      <td>NaN</td>\n      <td>NaN</td>\n      <td>NaN</td>\n      <td>NaN</td>\n    </tr>\n  </tbody>\n</table>\n</div>"
          },
          "metadata": {}
        }
      ]
    },
    {
      "cell_type": "markdown",
      "source": [
        "The primary analysis of the three datasets shows that these are quite large datasets. The features from the training and meta datasets do not fully match the test ones. There are three more columns in the training dataset:\n",
        "\n",
        "* overall - score on a five-point scale\n",
        "* reviewText - text review \n",
        "* summary - review summary \n",
        "* rating - target variable\n",
        "\n",
        "missing Id - id for prediction\n",
        "\n",
        "At the same time, it is possible to combine datasets, it can be done on 'asin', which is a unique product identifier on Amazon."
      ],
      "metadata": {
        "id": "u3cRaI74NZ85"
      }
    },
    {
      "cell_type": "code",
      "source": [
        "# drop duplicates\n",
        "train.drop_duplicates(inplace = True)"
      ],
      "metadata": {
        "execution": {
          "iopub.status.busy": "2022-12-07T16:20:15.471516Z",
          "iopub.execute_input": "2022-12-07T16:20:15.471767Z",
          "iopub.status.idle": "2022-12-07T16:20:17.750049Z",
          "shell.execute_reply.started": "2022-12-07T16:20:15.471738Z",
          "shell.execute_reply": "2022-12-07T16:20:17.749191Z"
        },
        "trusted": true,
        "id": "JAuGXhL3NZ85"
      },
      "execution_count": null,
      "outputs": []
    },
    {
      "cell_type": "code",
      "source": [
        "# form a new dataset after combining metadata and training dataset\n",
        "train_new = pd.merge(train, meta, on='asin')"
      ],
      "metadata": {
        "execution": {
          "iopub.status.busy": "2022-12-07T16:20:17.753001Z",
          "iopub.execute_input": "2022-12-07T16:20:17.753369Z",
          "iopub.status.idle": "2022-12-07T16:20:20.909940Z",
          "shell.execute_reply.started": "2022-12-07T16:20:17.753325Z",
          "shell.execute_reply": "2022-12-07T16:20:20.908695Z"
        },
        "trusted": true,
        "id": "BOvU59MdNZ85"
      },
      "execution_count": null,
      "outputs": []
    },
    {
      "cell_type": "markdown",
      "source": [
        "**EDA**"
      ],
      "metadata": {
        "id": "OAVFQ6ciNZ86"
      }
    },
    {
      "cell_type": "code",
      "source": [
        "# let's start working with a new dataset\n",
        "train_new.head(3)"
      ],
      "metadata": {
        "execution": {
          "iopub.status.busy": "2022-12-07T16:20:20.911499Z",
          "iopub.execute_input": "2022-12-07T16:20:20.911960Z",
          "iopub.status.idle": "2022-12-07T16:20:20.955423Z",
          "shell.execute_reply.started": "2022-12-07T16:20:20.911890Z",
          "shell.execute_reply": "2022-12-07T16:20:20.954318Z"
        },
        "trusted": true,
        "id": "U-JtsquENZ86",
        "outputId": "29e4e624-de14-4b74-af22-1b6831221bef"
      },
      "execution_count": null,
      "outputs": [
        {
          "execution_count": 13,
          "output_type": "execute_result",
          "data": {
            "text/plain": "   overall  verified   reviewTime        asin  reviewerName  \\\n0      5.0      True   10 4, 2016  B01CPNIEQG       Heather   \n1      5.0     False  03 31, 2017  B01CPNIEQG  Tina McClain   \n2      3.0      True  03 11, 2017  B01CPNIEQG          Ella   \n\n                                          reviewText  \\\n0  These are my FAVORITE spices in my collection....   \n1  Love this seasoning on chicken! The flavor is ...   \n2  Ummm....interesting spice blend, but not reall...   \n\n                                             summary  unixReviewTime vote  \\\n0                    Must Add to your Spice kitchen!      1475539200  NaN   \n1                         Love all their seasoning!!      1490918400  NaN   \n2  It's not a bad taste, but they really shouldn'...      1489190400  4.0   \n\n  style image_x  userid  itemid  rating  \\\n0   NaN     NaN  102179   37138     1.0   \n1   NaN     NaN  117314   37138     1.0   \n2   NaN     NaN  119505   37138     0.0   \n\n                                            category  \\\n0  [Grocery & Gourmet Food, Herbs, Spices & Seaso...   \n1  [Grocery & Gourmet Food, Herbs, Spices & Seaso...   \n2  [Grocery & Gourmet Food, Herbs, Spices & Seaso...   \n\n                                         description  \\\n0  [Adobo seasoning (known as adobo seco) is a ve...   \n1  [Adobo seasoning (known as adobo seco) is a ve...   \n2  [Adobo seasoning (known as adobo seco) is a ve...   \n\n                                               title  \\\n0  Primal Palate Organic Spices Adobo Seasoning, ...   \n1  Primal Palate Organic Spices Adobo Seasoning, ...   \n2  Primal Palate Organic Spices Adobo Seasoning, ...   \n\n                          brand                         rank  \\\n0  Primal Palate Organic Spices  19,771inGroceryGourmetFood(   \n1  Primal Palate Organic Spices  19,771inGroceryGourmetFood(   \n2  Primal Palate Organic Spices  19,771inGroceryGourmetFood(   \n\n                                           also_view main_cat  price  \\\n0  [B00AJRKRJS, B01NALHAY9, B01DGZ2B48, B01EZ489A...  Grocery  $9.95   \n1  [B00AJRKRJS, B01NALHAY9, B01DGZ2B48, B01EZ489A...  Grocery  $9.95   \n2  [B00AJRKRJS, B01NALHAY9, B01DGZ2B48, B01EZ489A...  Grocery  $9.95   \n\n                                            also_buy  \\\n0  [B01DGZ2B48, B01EZ489AO, B01DH795LM, B01EYW2LC...   \n1  [B01DGZ2B48, B01EZ489AO, B01DH795LM, B01EYW2LC...   \n2  [B01DGZ2B48, B01EZ489AO, B01DH795LM, B01EYW2LC...   \n\n                                             image_y date feature  \\\n0  [https://images-na.ssl-images-amazon.com/image...  NaN     NaN   \n1  [https://images-na.ssl-images-amazon.com/image...  NaN     NaN   \n2  [https://images-na.ssl-images-amazon.com/image...  NaN     NaN   \n\n                                             details similar_item tech1  fit  \n0  \\n      <div class=\"content\">\\n\\n\\n\\n\\n\\n\\n<ul...          NaN   NaN  NaN  \n1  \\n      <div class=\"content\">\\n\\n\\n\\n\\n\\n\\n<ul...          NaN   NaN  NaN  \n2  \\n      <div class=\"content\">\\n\\n\\n\\n\\n\\n\\n<ul...          NaN   NaN  NaN  ",
            "text/html": "<div>\n<style scoped>\n    .dataframe tbody tr th:only-of-type {\n        vertical-align: middle;\n    }\n\n    .dataframe tbody tr th {\n        vertical-align: top;\n    }\n\n    .dataframe thead th {\n        text-align: right;\n    }\n</style>\n<table border=\"1\" class=\"dataframe\">\n  <thead>\n    <tr style=\"text-align: right;\">\n      <th></th>\n      <th>overall</th>\n      <th>verified</th>\n      <th>reviewTime</th>\n      <th>asin</th>\n      <th>reviewerName</th>\n      <th>reviewText</th>\n      <th>summary</th>\n      <th>unixReviewTime</th>\n      <th>vote</th>\n      <th>style</th>\n      <th>image_x</th>\n      <th>userid</th>\n      <th>itemid</th>\n      <th>rating</th>\n      <th>category</th>\n      <th>description</th>\n      <th>title</th>\n      <th>brand</th>\n      <th>rank</th>\n      <th>also_view</th>\n      <th>main_cat</th>\n      <th>price</th>\n      <th>also_buy</th>\n      <th>image_y</th>\n      <th>date</th>\n      <th>feature</th>\n      <th>details</th>\n      <th>similar_item</th>\n      <th>tech1</th>\n      <th>fit</th>\n    </tr>\n  </thead>\n  <tbody>\n    <tr>\n      <th>0</th>\n      <td>5.0</td>\n      <td>True</td>\n      <td>10 4, 2016</td>\n      <td>B01CPNIEQG</td>\n      <td>Heather</td>\n      <td>These are my FAVORITE spices in my collection....</td>\n      <td>Must Add to your Spice kitchen!</td>\n      <td>1475539200</td>\n      <td>NaN</td>\n      <td>NaN</td>\n      <td>NaN</td>\n      <td>102179</td>\n      <td>37138</td>\n      <td>1.0</td>\n      <td>[Grocery &amp; Gourmet Food, Herbs, Spices &amp; Seaso...</td>\n      <td>[Adobo seasoning (known as adobo seco) is a ve...</td>\n      <td>Primal Palate Organic Spices Adobo Seasoning, ...</td>\n      <td>Primal Palate Organic Spices</td>\n      <td>19,771inGroceryGourmetFood(</td>\n      <td>[B00AJRKRJS, B01NALHAY9, B01DGZ2B48, B01EZ489A...</td>\n      <td>Grocery</td>\n      <td>$9.95</td>\n      <td>[B01DGZ2B48, B01EZ489AO, B01DH795LM, B01EYW2LC...</td>\n      <td>[https://images-na.ssl-images-amazon.com/image...</td>\n      <td>NaN</td>\n      <td>NaN</td>\n      <td>\\n      &lt;div class=\"content\"&gt;\\n\\n\\n\\n\\n\\n\\n&lt;ul...</td>\n      <td>NaN</td>\n      <td>NaN</td>\n      <td>NaN</td>\n    </tr>\n    <tr>\n      <th>1</th>\n      <td>5.0</td>\n      <td>False</td>\n      <td>03 31, 2017</td>\n      <td>B01CPNIEQG</td>\n      <td>Tina McClain</td>\n      <td>Love this seasoning on chicken! The flavor is ...</td>\n      <td>Love all their seasoning!!</td>\n      <td>1490918400</td>\n      <td>NaN</td>\n      <td>NaN</td>\n      <td>NaN</td>\n      <td>117314</td>\n      <td>37138</td>\n      <td>1.0</td>\n      <td>[Grocery &amp; Gourmet Food, Herbs, Spices &amp; Seaso...</td>\n      <td>[Adobo seasoning (known as adobo seco) is a ve...</td>\n      <td>Primal Palate Organic Spices Adobo Seasoning, ...</td>\n      <td>Primal Palate Organic Spices</td>\n      <td>19,771inGroceryGourmetFood(</td>\n      <td>[B00AJRKRJS, B01NALHAY9, B01DGZ2B48, B01EZ489A...</td>\n      <td>Grocery</td>\n      <td>$9.95</td>\n      <td>[B01DGZ2B48, B01EZ489AO, B01DH795LM, B01EYW2LC...</td>\n      <td>[https://images-na.ssl-images-amazon.com/image...</td>\n      <td>NaN</td>\n      <td>NaN</td>\n      <td>\\n      &lt;div class=\"content\"&gt;\\n\\n\\n\\n\\n\\n\\n&lt;ul...</td>\n      <td>NaN</td>\n      <td>NaN</td>\n      <td>NaN</td>\n    </tr>\n    <tr>\n      <th>2</th>\n      <td>3.0</td>\n      <td>True</td>\n      <td>03 11, 2017</td>\n      <td>B01CPNIEQG</td>\n      <td>Ella</td>\n      <td>Ummm....interesting spice blend, but not reall...</td>\n      <td>It's not a bad taste, but they really shouldn'...</td>\n      <td>1489190400</td>\n      <td>4.0</td>\n      <td>NaN</td>\n      <td>NaN</td>\n      <td>119505</td>\n      <td>37138</td>\n      <td>0.0</td>\n      <td>[Grocery &amp; Gourmet Food, Herbs, Spices &amp; Seaso...</td>\n      <td>[Adobo seasoning (known as adobo seco) is a ve...</td>\n      <td>Primal Palate Organic Spices Adobo Seasoning, ...</td>\n      <td>Primal Palate Organic Spices</td>\n      <td>19,771inGroceryGourmetFood(</td>\n      <td>[B00AJRKRJS, B01NALHAY9, B01DGZ2B48, B01EZ489A...</td>\n      <td>Grocery</td>\n      <td>$9.95</td>\n      <td>[B01DGZ2B48, B01EZ489AO, B01DH795LM, B01EYW2LC...</td>\n      <td>[https://images-na.ssl-images-amazon.com/image...</td>\n      <td>NaN</td>\n      <td>NaN</td>\n      <td>\\n      &lt;div class=\"content\"&gt;\\n\\n\\n\\n\\n\\n\\n&lt;ul...</td>\n      <td>NaN</td>\n      <td>NaN</td>\n      <td>NaN</td>\n    </tr>\n  </tbody>\n</table>\n</div>"
          },
          "metadata": {}
        }
      ]
    },
    {
      "cell_type": "code",
      "source": [
        "train_new.info()"
      ],
      "metadata": {
        "execution": {
          "iopub.status.busy": "2022-12-07T16:20:20.960271Z",
          "iopub.execute_input": "2022-12-07T16:20:20.961032Z",
          "iopub.status.idle": "2022-12-07T16:20:22.405892Z",
          "shell.execute_reply.started": "2022-12-07T16:20:20.960980Z",
          "shell.execute_reply": "2022-12-07T16:20:22.404614Z"
        },
        "trusted": true,
        "id": "o3LHt0rYNZ86",
        "outputId": "0bd12868-b3cd-459d-ed42-3c64616bab8b"
      },
      "execution_count": null,
      "outputs": [
        {
          "name": "stdout",
          "text": "<class 'pandas.core.frame.DataFrame'>\nInt64Index: 847593 entries, 0 to 847592\nData columns (total 30 columns):\n #   Column          Non-Null Count   Dtype  \n---  ------          --------------   -----  \n 0   overall         847593 non-null  float64\n 1   verified        847593 non-null  bool   \n 2   reviewTime      847593 non-null  object \n 3   asin            847593 non-null  object \n 4   reviewerName    847425 non-null  object \n 5   reviewText      847315 non-null  object \n 6   summary         847426 non-null  object \n 7   unixReviewTime  847593 non-null  int64  \n 8   vote            118861 non-null  object \n 9   style           440351 non-null  object \n 10  image_x         7138 non-null    object \n 11  userid          847593 non-null  int64  \n 12  itemid          847593 non-null  int64  \n 13  rating          847593 non-null  float64\n 14  category        847593 non-null  object \n 15  description     776098 non-null  object \n 16  title           847593 non-null  object \n 17  brand           841489 non-null  object \n 18  rank            812995 non-null  object \n 19  also_view       463371 non-null  object \n 20  main_cat        846638 non-null  object \n 21  price           588972 non-null  object \n 22  also_buy        726858 non-null  object \n 23  image_y         755354 non-null  object \n 24  date            12087 non-null   object \n 25  feature         142734 non-null  object \n 26  details         832985 non-null  object \n 27  similar_item    1138 non-null    object \n 28  tech1           4372 non-null    object \n 29  fit             0 non-null       object \ndtypes: bool(1), float64(2), int64(3), object(24)\nmemory usage: 194.8+ MB\n",
          "output_type": "stream"
        }
      ]
    },
    {
      "cell_type": "code",
      "source": [
        "print(\"missing values in train:\", train_new.isnull().sum())\n",
        "print(\"missing values in test:\", test.isnull().sum())"
      ],
      "metadata": {
        "execution": {
          "iopub.status.busy": "2022-12-07T16:20:22.407697Z",
          "iopub.execute_input": "2022-12-07T16:20:22.408036Z",
          "iopub.status.idle": "2022-12-07T16:20:23.900640Z",
          "shell.execute_reply.started": "2022-12-07T16:20:22.408005Z",
          "shell.execute_reply": "2022-12-07T16:20:23.899668Z"
        },
        "trusted": true,
        "id": "MHbUaT7qNZ86",
        "outputId": "00ca8403-a573-4dee-ecfa-fc066cfc9a50"
      },
      "execution_count": null,
      "outputs": [
        {
          "name": "stdout",
          "text": "missing values in train: overall                0\nverified               0\nreviewTime             0\nasin                   0\nreviewerName         168\nreviewText           278\nsummary              167\nunixReviewTime         0\nvote              728732\nstyle             407242\nimage_x           840455\nuserid                 0\nitemid                 0\nrating                 0\ncategory               0\ndescription        71495\ntitle                  0\nbrand               6104\nrank               34598\nalso_view         384222\nmain_cat             955\nprice             258621\nalso_buy          120735\nimage_y            92239\ndate              835506\nfeature           704859\ndetails            14608\nsimilar_item      846455\ntech1             843221\nfit               847593\ndtype: int64\nmissing values in test: verified               0\nreviewTime             0\nasin                   0\nreviewerName          47\nunixReviewTime         0\nvote              246503\nstyle             138285\nimage             283597\nuserid                 0\nitemid                 0\nId                     0\ndtype: int64\n",
          "output_type": "stream"
        }
      ]
    },
    {
      "cell_type": "markdown",
      "source": [
        "We see that there are 30 features of different types in the training dataset. Some features have a large number of gaps. There are also features with a large number of gaps in the test dataset. Let's start a step-by-step analysis of features."
      ],
      "metadata": {
        "id": "gszUzYH0NZ87"
      }
    },
    {
      "cell_type": "code",
      "source": [
        "# use the module for quick primary data analysis, if there is time\n",
        "# pandas_profiling.ProfileReport(test)"
      ],
      "metadata": {
        "execution": {
          "iopub.status.busy": "2022-12-07T16:20:23.902176Z",
          "iopub.execute_input": "2022-12-07T16:20:23.903241Z",
          "iopub.status.idle": "2022-12-07T16:20:23.907905Z",
          "shell.execute_reply.started": "2022-12-07T16:20:23.903193Z",
          "shell.execute_reply": "2022-12-07T16:20:23.906782Z"
        },
        "trusted": true,
        "id": "EZm0mCPLNZ87"
      },
      "execution_count": null,
      "outputs": []
    },
    {
      "cell_type": "code",
      "source": [
        "#We will add features to a specific list:\n",
        "#numeric:\n",
        "num_cols = []\n",
        "\n",
        "# binary\n",
        "bin_cols = []\n",
        "\n",
        "# categorical\n",
        "cat_cols = []"
      ],
      "metadata": {
        "execution": {
          "iopub.status.busy": "2022-12-07T16:20:23.909590Z",
          "iopub.execute_input": "2022-12-07T16:20:23.910562Z",
          "iopub.status.idle": "2022-12-07T16:20:23.921930Z",
          "shell.execute_reply.started": "2022-12-07T16:20:23.910515Z",
          "shell.execute_reply": "2022-12-07T16:20:23.920691Z"
        },
        "trusted": true,
        "id": "OgVKyxlPNZ87"
      },
      "execution_count": null,
      "outputs": []
    },
    {
      "cell_type": "code",
      "source": [
        "df = train_new.copy()"
      ],
      "metadata": {
        "execution": {
          "iopub.status.busy": "2022-12-07T16:20:23.923524Z",
          "iopub.execute_input": "2022-12-07T16:20:23.923936Z",
          "iopub.status.idle": "2022-12-07T16:20:25.942240Z",
          "shell.execute_reply.started": "2022-12-07T16:20:23.923886Z",
          "shell.execute_reply": "2022-12-07T16:20:25.941343Z"
        },
        "trusted": true,
        "id": "XgEOr39fNZ87"
      },
      "execution_count": null,
      "outputs": []
    },
    {
      "cell_type": "markdown",
      "source": [
        "* overall"
      ],
      "metadata": {
        "id": "bo4owgNrNZ87"
      }
    },
    {
      "cell_type": "code",
      "source": [
        "description(df.overall)"
      ],
      "metadata": {
        "execution": {
          "iopub.status.busy": "2022-12-07T16:20:25.944022Z",
          "iopub.execute_input": "2022-12-07T16:20:25.944321Z",
          "iopub.status.idle": "2022-12-07T16:20:26.004980Z",
          "shell.execute_reply.started": "2022-12-07T16:20:25.944288Z",
          "shell.execute_reply": "2022-12-07T16:20:26.004013Z"
        },
        "trusted": true,
        "id": "nx31TxD1NZ87",
        "outputId": "8bbcb321-ec0d-4800-abcc-c244ef29e45f"
      },
      "execution_count": null,
      "outputs": [
        {
          "name": "stdout",
          "text": "5.0    607524\n4.0    111868\n3.0     59795\n1.0     37071\n2.0     31335\nName: overall, dtype: int64\ncount    847593.000000\nmean          4.441068\nstd           1.065026\nmin           1.000000\n25%           4.000000\n50%           5.000000\n75%           5.000000\nmax           5.000000\nName: overall, dtype: float64\ngaps: 0\n",
          "output_type": "stream"
        }
      ]
    },
    {
      "cell_type": "code",
      "source": [
        "df.overall.value_counts().plot.barh()"
      ],
      "metadata": {
        "execution": {
          "iopub.status.busy": "2022-12-07T16:20:26.006623Z",
          "iopub.execute_input": "2022-12-07T16:20:26.006919Z",
          "iopub.status.idle": "2022-12-07T16:20:26.320466Z",
          "shell.execute_reply.started": "2022-12-07T16:20:26.006888Z",
          "shell.execute_reply": "2022-12-07T16:20:26.319414Z"
        },
        "trusted": true,
        "id": "X6o9hl11NZ88",
        "outputId": "e5d2ca0f-e440-403d-f097-f149c7815c7e"
      },
      "execution_count": null,
      "outputs": [
        {
          "execution_count": 20,
          "output_type": "execute_result",
          "data": {
            "text/plain": "<AxesSubplot:>"
          },
          "metadata": {}
        },
        {
          "output_type": "display_data",
          "data": {
            "text/plain": "<Figure size 432x288 with 1 Axes>",
            "image/png": "[encoded data removed]"
          },
          "metadata": {
            "needs_background": "light"
          }
        }
      ]
    },
    {
      "cell_type": "markdown",
      "source": [
        "\n",
        "Feature 'overall' is a 5-point scale for product ratings by users. There are no missing values. It is absent in the test dataset. It can be included in categorical features."
      ],
      "metadata": {
        "id": "KMldMJMNNZ88"
      }
    },
    {
      "cell_type": "code",
      "source": [
        "df['overall']=df['overall'].astype('int32')"
      ],
      "metadata": {
        "execution": {
          "iopub.status.busy": "2022-12-07T16:20:26.321619Z",
          "iopub.execute_input": "2022-12-07T16:20:26.321905Z",
          "iopub.status.idle": "2022-12-07T16:20:26.335182Z",
          "shell.execute_reply.started": "2022-12-07T16:20:26.321860Z",
          "shell.execute_reply": "2022-12-07T16:20:26.334120Z"
        },
        "trusted": true,
        "id": "ejggiKgENZ88"
      },
      "execution_count": null,
      "outputs": []
    },
    {
      "cell_type": "code",
      "source": [
        "cat_cols.append('overall')"
      ],
      "metadata": {
        "execution": {
          "iopub.status.busy": "2022-12-07T16:20:26.336613Z",
          "iopub.execute_input": "2022-12-07T16:20:26.337017Z",
          "iopub.status.idle": "2022-12-07T16:20:26.342103Z",
          "shell.execute_reply.started": "2022-12-07T16:20:26.336970Z",
          "shell.execute_reply": "2022-12-07T16:20:26.341238Z"
        },
        "trusted": true,
        "id": "2aV7Se9RNZ88"
      },
      "execution_count": null,
      "outputs": []
    },
    {
      "cell_type": "code",
      "source": [
        "df.head(2)"
      ],
      "metadata": {
        "execution": {
          "iopub.status.busy": "2022-12-07T16:20:26.343404Z",
          "iopub.execute_input": "2022-12-07T16:20:26.343854Z",
          "iopub.status.idle": "2022-12-07T16:20:26.385422Z",
          "shell.execute_reply.started": "2022-12-07T16:20:26.343812Z",
          "shell.execute_reply": "2022-12-07T16:20:26.384571Z"
        },
        "trusted": true,
        "id": "Q-1Lo9OdNZ88",
        "outputId": "b4524130-6df3-4e70-93a5-4335cedaf714"
      },
      "execution_count": null,
      "outputs": [
        {
          "execution_count": 23,
          "output_type": "execute_result",
          "data": {
            "text/plain": "   overall  verified   reviewTime        asin  reviewerName  \\\n0        5      True   10 4, 2016  B01CPNIEQG       Heather   \n1        5     False  03 31, 2017  B01CPNIEQG  Tina McClain   \n\n                                          reviewText  \\\n0  These are my FAVORITE spices in my collection....   \n1  Love this seasoning on chicken! The flavor is ...   \n\n                           summary  unixReviewTime vote style image_x  userid  \\\n0  Must Add to your Spice kitchen!      1475539200  NaN   NaN     NaN  102179   \n1       Love all their seasoning!!      1490918400  NaN   NaN     NaN  117314   \n\n   itemid  rating                                           category  \\\n0   37138     1.0  [Grocery & Gourmet Food, Herbs, Spices & Seaso...   \n1   37138     1.0  [Grocery & Gourmet Food, Herbs, Spices & Seaso...   \n\n                                         description  \\\n0  [Adobo seasoning (known as adobo seco) is a ve...   \n1  [Adobo seasoning (known as adobo seco) is a ve...   \n\n                                               title  \\\n0  Primal Palate Organic Spices Adobo Seasoning, ...   \n1  Primal Palate Organic Spices Adobo Seasoning, ...   \n\n                          brand                         rank  \\\n0  Primal Palate Organic Spices  19,771inGroceryGourmetFood(   \n1  Primal Palate Organic Spices  19,771inGroceryGourmetFood(   \n\n                                           also_view main_cat  price  \\\n0  [B00AJRKRJS, B01NALHAY9, B01DGZ2B48, B01EZ489A...  Grocery  $9.95   \n1  [B00AJRKRJS, B01NALHAY9, B01DGZ2B48, B01EZ489A...  Grocery  $9.95   \n\n                                            also_buy  \\\n0  [B01DGZ2B48, B01EZ489AO, B01DH795LM, B01EYW2LC...   \n1  [B01DGZ2B48, B01EZ489AO, B01DH795LM, B01EYW2LC...   \n\n                                             image_y date feature  \\\n0  [https://images-na.ssl-images-amazon.com/image...  NaN     NaN   \n1  [https://images-na.ssl-images-amazon.com/image...  NaN     NaN   \n\n                                             details similar_item tech1  fit  \n0  \\n      <div class=\"content\">\\n\\n\\n\\n\\n\\n\\n<ul...          NaN   NaN  NaN  \n1  \\n      <div class=\"content\">\\n\\n\\n\\n\\n\\n\\n<ul...          NaN   NaN  NaN  ",
            "text/html": "<div>\n<style scoped>\n    .dataframe tbody tr th:only-of-type {\n        vertical-align: middle;\n    }\n\n    .dataframe tbody tr th {\n        vertical-align: top;\n    }\n\n    .dataframe thead th {\n        text-align: right;\n    }\n</style>\n<table border=\"1\" class=\"dataframe\">\n  <thead>\n    <tr style=\"text-align: right;\">\n      <th></th>\n      <th>overall</th>\n      <th>verified</th>\n      <th>reviewTime</th>\n      <th>asin</th>\n      <th>reviewerName</th>\n      <th>reviewText</th>\n      <th>summary</th>\n      <th>unixReviewTime</th>\n      <th>vote</th>\n      <th>style</th>\n      <th>image_x</th>\n      <th>userid</th>\n      <th>itemid</th>\n      <th>rating</th>\n      <th>category</th>\n      <th>description</th>\n      <th>title</th>\n      <th>brand</th>\n      <th>rank</th>\n      <th>also_view</th>\n      <th>main_cat</th>\n      <th>price</th>\n      <th>also_buy</th>\n      <th>image_y</th>\n      <th>date</th>\n      <th>feature</th>\n      <th>details</th>\n      <th>similar_item</th>\n      <th>tech1</th>\n      <th>fit</th>\n    </tr>\n  </thead>\n  <tbody>\n    <tr>\n      <th>0</th>\n      <td>5</td>\n      <td>True</td>\n      <td>10 4, 2016</td>\n      <td>B01CPNIEQG</td>\n      <td>Heather</td>\n      <td>These are my FAVORITE spices in my collection....</td>\n      <td>Must Add to your Spice kitchen!</td>\n      <td>1475539200</td>\n      <td>NaN</td>\n      <td>NaN</td>\n      <td>NaN</td>\n      <td>102179</td>\n      <td>37138</td>\n      <td>1.0</td>\n      <td>[Grocery &amp; Gourmet Food, Herbs, Spices &amp; Seaso...</td>\n      <td>[Adobo seasoning (known as adobo seco) is a ve...</td>\n      <td>Primal Palate Organic Spices Adobo Seasoning, ...</td>\n      <td>Primal Palate Organic Spices</td>\n      <td>19,771inGroceryGourmetFood(</td>\n      <td>[B00AJRKRJS, B01NALHAY9, B01DGZ2B48, B01EZ489A...</td>\n      <td>Grocery</td>\n      <td>$9.95</td>\n      <td>[B01DGZ2B48, B01EZ489AO, B01DH795LM, B01EYW2LC...</td>\n      <td>[https://images-na.ssl-images-amazon.com/image...</td>\n      <td>NaN</td>\n      <td>NaN</td>\n      <td>\\n      &lt;div class=\"content\"&gt;\\n\\n\\n\\n\\n\\n\\n&lt;ul...</td>\n      <td>NaN</td>\n      <td>NaN</td>\n      <td>NaN</td>\n    </tr>\n    <tr>\n      <th>1</th>\n      <td>5</td>\n      <td>False</td>\n      <td>03 31, 2017</td>\n      <td>B01CPNIEQG</td>\n      <td>Tina McClain</td>\n      <td>Love this seasoning on chicken! The flavor is ...</td>\n      <td>Love all their seasoning!!</td>\n      <td>1490918400</td>\n      <td>NaN</td>\n      <td>NaN</td>\n      <td>NaN</td>\n      <td>117314</td>\n      <td>37138</td>\n      <td>1.0</td>\n      <td>[Grocery &amp; Gourmet Food, Herbs, Spices &amp; Seaso...</td>\n      <td>[Adobo seasoning (known as adobo seco) is a ve...</td>\n      <td>Primal Palate Organic Spices Adobo Seasoning, ...</td>\n      <td>Primal Palate Organic Spices</td>\n      <td>19,771inGroceryGourmetFood(</td>\n      <td>[B00AJRKRJS, B01NALHAY9, B01DGZ2B48, B01EZ489A...</td>\n      <td>Grocery</td>\n      <td>$9.95</td>\n      <td>[B01DGZ2B48, B01EZ489AO, B01DH795LM, B01EYW2LC...</td>\n      <td>[https://images-na.ssl-images-amazon.com/image...</td>\n      <td>NaN</td>\n      <td>NaN</td>\n      <td>\\n      &lt;div class=\"content\"&gt;\\n\\n\\n\\n\\n\\n\\n&lt;ul...</td>\n      <td>NaN</td>\n      <td>NaN</td>\n      <td>NaN</td>\n    </tr>\n  </tbody>\n</table>\n</div>"
          },
          "metadata": {}
        }
      ]
    },
    {
      "cell_type": "markdown",
      "source": [
        "* verified"
      ],
      "metadata": {
        "id": "p4DGxNCFNZ89"
      }
    },
    {
      "cell_type": "code",
      "source": [
        "description(df.verified)"
      ],
      "metadata": {
        "execution": {
          "iopub.status.busy": "2022-12-07T16:20:26.386948Z",
          "iopub.execute_input": "2022-12-07T16:20:26.387542Z",
          "iopub.status.idle": "2022-12-07T16:20:26.419645Z",
          "shell.execute_reply.started": "2022-12-07T16:20:26.387505Z",
          "shell.execute_reply": "2022-12-07T16:20:26.418650Z"
        },
        "trusted": true,
        "id": "R5twZQ7yNZ89",
        "outputId": "a9f6c253-e358-40a5-88a2-5a64584786ae"
      },
      "execution_count": null,
      "outputs": [
        {
          "name": "stdout",
          "text": "True     736369\nFalse    111224\nName: verified, dtype: int64\ncount     847593\nunique         2\ntop         True\nfreq      736369\nName: verified, dtype: object\ngaps: 0\n",
          "output_type": "stream"
        }
      ]
    },
    {
      "cell_type": "code",
      "source": [
        "sns.countplot(x = 'verified', data = df)"
      ],
      "metadata": {
        "execution": {
          "iopub.status.busy": "2022-12-07T16:20:26.423331Z",
          "iopub.execute_input": "2022-12-07T16:20:26.423617Z",
          "iopub.status.idle": "2022-12-07T16:20:26.769134Z",
          "shell.execute_reply.started": "2022-12-07T16:20:26.423589Z",
          "shell.execute_reply": "2022-12-07T16:20:26.768159Z"
        },
        "trusted": true,
        "id": "yXtcmaRDNZ89",
        "outputId": "58069560-3270-4e0b-84ac-eace2940b791"
      },
      "execution_count": null,
      "outputs": [
        {
          "execution_count": 25,
          "output_type": "execute_result",
          "data": {
            "text/plain": "<AxesSubplot:xlabel='verified', ylabel='count'>"
          },
          "metadata": {}
        },
        {
          "output_type": "display_data",
          "data": {
            "text/plain": "<Figure size 432x288 with 1 Axes>",
            "image/png": "[encoded data removed]"
          },
          "metadata": {
            "needs_background": "light"
          }
        }
      ]
    },
    {
      "cell_type": "code",
      "source": [
        "# Converting the values in the 'verified' column\n",
        "df['verified'] = df['verified'].map(lambda x: 1 if x == True else 0).astype('int')"
      ],
      "metadata": {
        "execution": {
          "iopub.status.busy": "2022-12-07T16:20:26.770654Z",
          "iopub.execute_input": "2022-12-07T16:20:26.771210Z",
          "iopub.status.idle": "2022-12-07T16:20:27.107681Z",
          "shell.execute_reply.started": "2022-12-07T16:20:26.771165Z",
          "shell.execute_reply": "2022-12-07T16:20:27.106718Z"
        },
        "trusted": true,
        "id": "QL_DQcd2NZ89"
      },
      "execution_count": null,
      "outputs": []
    },
    {
      "cell_type": "markdown",
      "source": [
        "The indicator means verification of the user's feedback. Available in the test dataset. Let's add it to the list of binary features."
      ],
      "metadata": {
        "id": "SFRlUxZaNZ89"
      }
    },
    {
      "cell_type": "code",
      "source": [
        "bin_cols.append('verified')"
      ],
      "metadata": {
        "execution": {
          "iopub.status.busy": "2022-12-07T16:20:27.109370Z",
          "iopub.execute_input": "2022-12-07T16:20:27.109683Z",
          "iopub.status.idle": "2022-12-07T16:20:27.114095Z",
          "shell.execute_reply.started": "2022-12-07T16:20:27.109649Z",
          "shell.execute_reply": "2022-12-07T16:20:27.113376Z"
        },
        "trusted": true,
        "id": "snIh5eb3NZ89"
      },
      "execution_count": null,
      "outputs": []
    },
    {
      "cell_type": "markdown",
      "source": [
        "* reviewTime"
      ],
      "metadata": {
        "id": "dmfK057ONZ8-"
      }
    },
    {
      "cell_type": "markdown",
      "source": [
        "The description says that this is the time when the review was written, we also have a feature of the same, but in the Unix format unixReviewTime. Obviously, 'reviewTime' should be removed, since this is a hundred percent correlation."
      ],
      "metadata": {
        "id": "zEUTTNjeNZ8-"
      }
    },
    {
      "cell_type": "code",
      "source": [
        "df = df.drop(['reviewTime'], axis=1)"
      ],
      "metadata": {
        "execution": {
          "iopub.status.busy": "2022-12-07T16:20:27.115357Z",
          "iopub.execute_input": "2022-12-07T16:20:27.116139Z",
          "iopub.status.idle": "2022-12-07T16:20:27.531364Z",
          "shell.execute_reply.started": "2022-12-07T16:20:27.116101Z",
          "shell.execute_reply": "2022-12-07T16:20:27.530428Z"
        },
        "trusted": true,
        "id": "E6bVt2erNZ8-"
      },
      "execution_count": null,
      "outputs": []
    },
    {
      "cell_type": "markdown",
      "source": [
        "* asin"
      ],
      "metadata": {
        "id": "9Z92mcHWNZ8-"
      }
    },
    {
      "cell_type": "code",
      "source": [
        "description(df.asin)"
      ],
      "metadata": {
        "execution": {
          "iopub.status.busy": "2022-12-07T16:20:27.533096Z",
          "iopub.execute_input": "2022-12-07T16:20:27.533392Z",
          "iopub.status.idle": "2022-12-07T16:20:27.892344Z",
          "shell.execute_reply.started": "2022-12-07T16:20:27.533361Z",
          "shell.execute_reply": "2022-12-07T16:20:27.891360Z"
        },
        "trusted": true,
        "id": "3F9ipdbONZ8-",
        "outputId": "fd1dbcf1-fdc2-45cf-dd29-3884c94b9b30"
      },
      "execution_count": null,
      "outputs": [
        {
          "name": "stdout",
          "text": "B00BUKL666    5430\nB00D3M2QP4    4733\nB008QMX2SG    4611\nB0001LO3FG    4252\nB00R7PWK7W    2449\n              ... \nB000SARZ64       1\nB006LQVN7G       1\nB0045GWZ3K       1\nB007WPLDCK       1\nB019YHTJ56       1\nName: asin, Length: 41302, dtype: int64\ncount         847593\nunique         41302\ntop       B00BUKL666\nfreq            5430\nName: asin, dtype: object\ngaps: 0\n",
          "output_type": "stream"
        }
      ]
    },
    {
      "cell_type": "code",
      "source": [
        "# look at the most popular purchase - this is a $13.7 bar from KIND\n",
        "pd.set_option('display.max_columns', None)\n",
        "display(df[df.asin == 'B00BUKL666'][:2])"
      ],
      "metadata": {
        "execution": {
          "iopub.status.busy": "2022-12-07T16:20:27.894288Z",
          "iopub.execute_input": "2022-12-07T16:20:27.894589Z",
          "iopub.status.idle": "2022-12-07T16:20:28.037966Z",
          "shell.execute_reply.started": "2022-12-07T16:20:27.894557Z",
          "shell.execute_reply": "2022-12-07T16:20:28.036698Z"
        },
        "trusted": true,
        "id": "ml4GPxp9NZ8-",
        "outputId": "6513496f-0ae7-4923-994f-a9c4f30f21a7"
      },
      "execution_count": null,
      "outputs": [
        {
          "output_type": "display_data",
          "data": {
            "text/plain": "      overall  verified        asin reviewerName  \\\n9103        5         1  B00BUKL666         E.S.   \n9104        5         1  B00BUKL666    booksrock   \n\n                                             reviewText  \\\n9103  The dark chocolate and sea salt are a deliciou...   \n9104            Delicious! My second favorite Kind bar!   \n\n                          summary  unixReviewTime vote style image_x  userid  \\\n9103                 Great taste!      1488585600  NaN   NaN     NaN  111921   \n9104  My second favorite Kind bar      1504137600  NaN   NaN     NaN  123191   \n\n      itemid  rating                                           category  \\\n9103   22208     1.0  [Grocery & Gourmet Food, Snack Foods, Bars, Nu...   \n9104   22208     1.0  [Grocery & Gourmet Food, Snack Foods, Bars, Nu...   \n\n                                            description  \\\n9103  [These bars are where our journey started and ...   \n9104  [These bars are where our journey started and ...   \n\n                                                  title brand  \\\n9103  KIND Bars, Dark Chocolate Nuts & Sea Salt, Glu...  KIND   \n9104  KIND Bars, Dark Chocolate Nuts & Sea Salt, Glu...  KIND   \n\n                         rank also_view main_cat   price  \\\n9103  18inGroceryGourmetFood(       NaN  Grocery  $13.67   \n9104  18inGroceryGourmetFood(       NaN  Grocery  $13.67   \n\n                                               also_buy  \\\n9103  [B003TNANSO, B003TMZQC8, B00IZF0LCE, B003TN6FS...   \n9104  [B003TNANSO, B003TMZQC8, B00IZF0LCE, B003TN6FS...   \n\n                                                image_y date feature  \\\n9103  [https://images-na.ssl-images-amazon.com/image...  NaN     NaN   \n9104  [https://images-na.ssl-images-amazon.com/image...  NaN     NaN   \n\n                                                details similar_item tech1  \\\n9103  \\n\\n\\n\\n\\n\\n    <div class=\"disclaim\">Flavor: ...          NaN   NaN   \n9104  \\n\\n\\n\\n\\n\\n    <div class=\"disclaim\">Flavor: ...          NaN   NaN   \n\n      fit  \n9103  NaN  \n9104  NaN  ",
            "text/html": "<div>\n<style scoped>\n    .dataframe tbody tr th:only-of-type {\n        vertical-align: middle;\n    }\n\n    .dataframe tbody tr th {\n        vertical-align: top;\n    }\n\n    .dataframe thead th {\n        text-align: right;\n    }\n</style>\n<table border=\"1\" class=\"dataframe\">\n  <thead>\n    <tr style=\"text-align: right;\">\n      <th></th>\n      <th>overall</th>\n      <th>verified</th>\n      <th>asin</th>\n      <th>reviewerName</th>\n      <th>reviewText</th>\n      <th>summary</th>\n      <th>unixReviewTime</th>\n      <th>vote</th>\n      <th>style</th>\n      <th>image_x</th>\n      <th>userid</th>\n      <th>itemid</th>\n      <th>rating</th>\n      <th>category</th>\n      <th>description</th>\n      <th>title</th>\n      <th>brand</th>\n      <th>rank</th>\n      <th>also_view</th>\n      <th>main_cat</th>\n      <th>price</th>\n      <th>also_buy</th>\n      <th>image_y</th>\n      <th>date</th>\n      <th>feature</th>\n      <th>details</th>\n      <th>similar_item</th>\n      <th>tech1</th>\n      <th>fit</th>\n    </tr>\n  </thead>\n  <tbody>\n    <tr>\n      <th>9103</th>\n      <td>5</td>\n      <td>1</td>\n      <td>B00BUKL666</td>\n      <td>E.S.</td>\n      <td>The dark chocolate and sea salt are a deliciou...</td>\n      <td>Great taste!</td>\n      <td>1488585600</td>\n      <td>NaN</td>\n      <td>NaN</td>\n      <td>NaN</td>\n      <td>111921</td>\n      <td>22208</td>\n      <td>1.0</td>\n      <td>[Grocery &amp; Gourmet Food, Snack Foods, Bars, Nu...</td>\n      <td>[These bars are where our journey started and ...</td>\n      <td>KIND Bars, Dark Chocolate Nuts &amp; Sea Salt, Glu...</td>\n      <td>KIND</td>\n      <td>18inGroceryGourmetFood(</td>\n      <td>NaN</td>\n      <td>Grocery</td>\n      <td>$13.67</td>\n      <td>[B003TNANSO, B003TMZQC8, B00IZF0LCE, B003TN6FS...</td>\n      <td>[https://images-na.ssl-images-amazon.com/image...</td>\n      <td>NaN</td>\n      <td>NaN</td>\n      <td>\\n\\n\\n\\n\\n\\n    &lt;div class=\"disclaim\"&gt;Flavor: ...</td>\n      <td>NaN</td>\n      <td>NaN</td>\n      <td>NaN</td>\n    </tr>\n    <tr>\n      <th>9104</th>\n      <td>5</td>\n      <td>1</td>\n      <td>B00BUKL666</td>\n      <td>booksrock</td>\n      <td>Delicious! My second favorite Kind bar!</td>\n      <td>My second favorite Kind bar</td>\n      <td>1504137600</td>\n      <td>NaN</td>\n      <td>NaN</td>\n      <td>NaN</td>\n      <td>123191</td>\n      <td>22208</td>\n      <td>1.0</td>\n      <td>[Grocery &amp; Gourmet Food, Snack Foods, Bars, Nu...</td>\n      <td>[These bars are where our journey started and ...</td>\n      <td>KIND Bars, Dark Chocolate Nuts &amp; Sea Salt, Glu...</td>\n      <td>KIND</td>\n      <td>18inGroceryGourmetFood(</td>\n      <td>NaN</td>\n      <td>Grocery</td>\n      <td>$13.67</td>\n      <td>[B003TNANSO, B003TMZQC8, B00IZF0LCE, B003TN6FS...</td>\n      <td>[https://images-na.ssl-images-amazon.com/image...</td>\n      <td>NaN</td>\n      <td>NaN</td>\n      <td>\\n\\n\\n\\n\\n\\n    &lt;div class=\"disclaim\"&gt;Flavor: ...</td>\n      <td>NaN</td>\n      <td>NaN</td>\n      <td>NaN</td>\n    </tr>\n  </tbody>\n</table>\n</div>"
          },
          "metadata": {}
        }
      ]
    },
    {
      "cell_type": "markdown",
      "source": [
        "There are 41302 unique products in our database. It is not clear how it can be useful. Probably worth removing it."
      ],
      "metadata": {
        "id": "vz7TeKt2NZ8-"
      }
    },
    {
      "cell_type": "code",
      "source": [
        "#remove\n",
        "df = df.drop(['asin'], axis=1)"
      ],
      "metadata": {
        "execution": {
          "iopub.status.busy": "2022-12-07T16:20:28.040456Z",
          "iopub.execute_input": "2022-12-07T16:20:28.040848Z",
          "iopub.status.idle": "2022-12-07T16:20:28.622087Z",
          "shell.execute_reply.started": "2022-12-07T16:20:28.040812Z",
          "shell.execute_reply": "2022-12-07T16:20:28.621128Z"
        },
        "trusted": true,
        "id": "nerDgeURNZ8_"
      },
      "execution_count": null,
      "outputs": []
    },
    {
      "cell_type": "markdown",
      "source": [
        "* reviewerName"
      ],
      "metadata": {
        "id": "KfoCbBS4NZ8_"
      }
    },
    {
      "cell_type": "code",
      "source": [
        "description(df.reviewerName)"
      ],
      "metadata": {
        "execution": {
          "iopub.status.busy": "2022-12-07T16:20:28.629038Z",
          "iopub.execute_input": "2022-12-07T16:20:28.630003Z",
          "iopub.status.idle": "2022-12-07T16:20:29.685167Z",
          "shell.execute_reply.started": "2022-12-07T16:20:28.629938Z",
          "shell.execute_reply": "2022-12-07T16:20:29.684181Z"
        },
        "trusted": true,
        "id": "ztkZuWm8NZ8_",
        "outputId": "46c79d07-3ac8-44ca-960f-e123640acb7b"
      },
      "execution_count": null,
      "outputs": [
        {
          "name": "stdout",
          "text": "Amazon Customer         31346\nKindle Customer          6128\nLinda                     729\nJohn                      714\nDavid                     606\n                        ...  \nRa&#039;ad Al Homoud        1\nShalene                     1\nEmily G                     1\nTemptd2                     1\nrivkaf                      1\nName: reviewerName, Length: 101207, dtype: int64\ncount              847425\nunique             101207\ntop       Amazon Customer\nfreq                31346\nName: reviewerName, dtype: object\ngaps: 168\n",
          "output_type": "stream"
        }
      ]
    },
    {
      "cell_type": "code",
      "source": [
        "# dependence of ratings on the nickname Amazonian buyer\n",
        "df['overall'][df['reviewerName'] == 'Amazon Customer'].hist(bins=10)"
      ],
      "metadata": {
        "execution": {
          "iopub.status.busy": "2022-12-07T16:20:29.687312Z",
          "iopub.execute_input": "2022-12-07T16:20:29.687618Z",
          "iopub.status.idle": "2022-12-07T16:20:30.076033Z",
          "shell.execute_reply.started": "2022-12-07T16:20:29.687585Z",
          "shell.execute_reply": "2022-12-07T16:20:30.075258Z"
        },
        "trusted": true,
        "id": "d4Vk_POJNZ8_",
        "outputId": "2501069f-af2a-4e12-8b67-4d0eaaf85e2e"
      },
      "execution_count": null,
      "outputs": [
        {
          "execution_count": 33,
          "output_type": "execute_result",
          "data": {
            "text/plain": "<AxesSubplot:>"
          },
          "metadata": {}
        },
        {
          "output_type": "display_data",
          "data": {
            "text/plain": "<Figure size 432x288 with 1 Axes>",
            "image/png": "[encoded data removed]"
          },
          "metadata": {
            "needs_background": "light"
          }
        }
      ]
    },
    {
      "cell_type": "markdown",
      "source": [
        "It is obvious that non-unique names are specified in this feature. If you look at the dependence of estimates on the most common names, the distributions are almost identical. It is difficult to understand how this feature can be useful in the model. Although, you can come up with a recommendation system 'buyers with the same name as yours most often buy ...'. But this does not correspond to our current task. Let's remove the feature."
      ],
      "metadata": {
        "id": "xr7yHUIoNZ8_"
      }
    },
    {
      "cell_type": "code",
      "source": [
        "df = df.drop(['reviewerName'], axis=1)"
      ],
      "metadata": {
        "execution": {
          "iopub.status.busy": "2022-12-07T16:20:30.077559Z",
          "iopub.execute_input": "2022-12-07T16:20:30.078183Z",
          "iopub.status.idle": "2022-12-07T16:20:30.605077Z",
          "shell.execute_reply.started": "2022-12-07T16:20:30.078139Z",
          "shell.execute_reply": "2022-12-07T16:20:30.604033Z"
        },
        "trusted": true,
        "id": "F7ggtbvpNZ8_"
      },
      "execution_count": null,
      "outputs": []
    },
    {
      "cell_type": "markdown",
      "source": [
        "* reviewText"
      ],
      "metadata": {
        "id": "RxNVnDobNZ8_"
      }
    },
    {
      "cell_type": "markdown",
      "source": [
        "This attribute is a more extended version of the summary attribute; it is not in the test dataset. We can delete it."
      ],
      "metadata": {
        "id": "T7hryxR-NZ8_"
      }
    },
    {
      "cell_type": "code",
      "source": [
        "df = df.drop(['reviewText'], axis=1)"
      ],
      "metadata": {
        "execution": {
          "iopub.status.busy": "2022-12-07T16:20:30.606708Z",
          "iopub.execute_input": "2022-12-07T16:20:30.606987Z",
          "iopub.status.idle": "2022-12-07T16:20:31.088378Z",
          "shell.execute_reply.started": "2022-12-07T16:20:30.606956Z",
          "shell.execute_reply": "2022-12-07T16:20:31.087357Z"
        },
        "trusted": true,
        "id": "x2lZwcgoNZ9A"
      },
      "execution_count": null,
      "outputs": []
    },
    {
      "cell_type": "markdown",
      "source": [
        "* summary"
      ],
      "metadata": {
        "id": "4JezoOmTNZ9A"
      }
    },
    {
      "cell_type": "code",
      "source": [
        "description(df.summary)"
      ],
      "metadata": {
        "execution": {
          "iopub.status.busy": "2022-12-07T16:20:31.091269Z",
          "iopub.execute_input": "2022-12-07T16:20:31.091570Z",
          "iopub.status.idle": "2022-12-07T16:20:32.425233Z",
          "shell.execute_reply.started": "2022-12-07T16:20:31.091541Z",
          "shell.execute_reply": "2022-12-07T16:20:32.424169Z"
        },
        "trusted": true,
        "id": "_TCrXykmNZ9A",
        "outputId": "2737c9fc-f603-46e6-c623-62d6fafdfbb7"
      },
      "execution_count": null,
      "outputs": [
        {
          "name": "stdout",
          "text": "Five Stars                                      171328\nFour Stars                                       26597\nThree Stars                                      11913\nOne Star                                          5300\nTwo Stars                                         4920\n                                                 ...  \nGood standby food                                    1\nCan it BE! Canned Chili that taste GOOD!             1\nCampbell's chilli tastes very good over rice         1\nVery good for canned chilli                          1\nWonderfully mild flavor                              1\nName: summary, Length: 411451, dtype: int64\ncount         847426\nunique        411451\ntop       Five Stars\nfreq          171328\nName: summary, dtype: object\ngaps: 167\n",
          "output_type": "stream"
        }
      ]
    },
    {
      "cell_type": "markdown",
      "source": [
        "This feature is also absent in the test sample. But here you can work in the future - create a list of the most popular words. For example word_list = ['Five Stars', 'Four Stars'] etc. Then break them down by criteria and make dummy variables. Keep this thought in mind in case we need to work with additional features. Until then, we'll remove it."
      ],
      "metadata": {
        "id": "8Pj3GFqJNZ9A"
      }
    },
    {
      "cell_type": "code",
      "source": [
        "df = df.drop(['summary'], axis=1)"
      ],
      "metadata": {
        "execution": {
          "iopub.status.busy": "2022-12-07T16:20:32.427322Z",
          "iopub.execute_input": "2022-12-07T16:20:32.427934Z",
          "iopub.status.idle": "2022-12-07T16:20:32.869921Z",
          "shell.execute_reply.started": "2022-12-07T16:20:32.427893Z",
          "shell.execute_reply": "2022-12-07T16:20:32.869167Z"
        },
        "trusted": true,
        "id": "RgIxxnyVNZ9A"
      },
      "execution_count": null,
      "outputs": []
    },
    {
      "cell_type": "markdown",
      "source": [
        "* unixReviewTime"
      ],
      "metadata": {
        "id": "WBE1-HdlNZ9A"
      }
    },
    {
      "cell_type": "code",
      "source": [
        "tsmin = datetime.utcfromtimestamp(df.unixReviewTime.min()).strftime('%Y-%m-%d %H:%M:%S')\n",
        "tsmax = datetime.utcfromtimestamp(df.unixReviewTime.max()).strftime('%Y-%m-%d %H:%M:%S')"
      ],
      "metadata": {
        "execution": {
          "iopub.status.busy": "2022-12-07T16:20:32.871719Z",
          "iopub.execute_input": "2022-12-07T16:20:32.872411Z",
          "iopub.status.idle": "2022-12-07T16:20:32.880472Z",
          "shell.execute_reply.started": "2022-12-07T16:20:32.872374Z",
          "shell.execute_reply": "2022-12-07T16:20:32.879379Z"
        },
        "trusted": true,
        "id": "W1xTEmlaNZ9A"
      },
      "execution_count": null,
      "outputs": []
    },
    {
      "cell_type": "code",
      "source": [
        "print(tsmin)\n",
        "print(tsmax)\n",
        "# all reviews are from 2000 to 2018"
      ],
      "metadata": {
        "execution": {
          "iopub.status.busy": "2022-12-07T16:20:32.881964Z",
          "iopub.execute_input": "2022-12-07T16:20:32.882263Z",
          "iopub.status.idle": "2022-12-07T16:20:32.889462Z",
          "shell.execute_reply.started": "2022-12-07T16:20:32.882230Z",
          "shell.execute_reply": "2022-12-07T16:20:32.888772Z"
        },
        "trusted": true,
        "id": "CJyyF2I-NZ9A",
        "outputId": "99de51a4-af54-4bfe-cc84-a3626a5d681b"
      },
      "execution_count": null,
      "outputs": [
        {
          "name": "stdout",
          "text": "2000-08-09 00:00:00\n2018-10-02 00:00:00\n",
          "output_type": "stream"
        }
      ]
    },
    {
      "cell_type": "code",
      "source": [
        "tsmin = df.unixReviewTime.min()\n",
        "ts25 = int(df.unixReviewTime.quantile(0.25))\n",
        "ts50 = int(df.unixReviewTime.quantile(0.50))\n",
        "ts75 = int(df.unixReviewTime.quantile(0.75))\n",
        "tsmax = df.unixReviewTime.max()"
      ],
      "metadata": {
        "execution": {
          "iopub.status.busy": "2022-12-07T16:20:32.890714Z",
          "iopub.execute_input": "2022-12-07T16:20:32.891146Z",
          "iopub.status.idle": "2022-12-07T16:20:32.950948Z",
          "shell.execute_reply.started": "2022-12-07T16:20:32.891115Z",
          "shell.execute_reply": "2022-12-07T16:20:32.949911Z"
        },
        "trusted": true,
        "id": "gRlnZ7QJNZ9A"
      },
      "execution_count": null,
      "outputs": []
    },
    {
      "cell_type": "code",
      "source": [
        "def cat_date(x):\n",
        "    if x <= ts25: x = 'old'\n",
        "    elif ts25 < x < ts75: x = 'middle'\n",
        "    elif ts75 <= x: x = 'new'\n",
        "    return x      \n",
        "\n",
        "# Replace the values in the column with categories\n",
        "df['unixReviewTime'] = df['unixReviewTime'].apply(lambda x: cat_date(x))"
      ],
      "metadata": {
        "execution": {
          "iopub.status.busy": "2022-12-07T16:20:32.952468Z",
          "iopub.execute_input": "2022-12-07T16:20:32.953016Z",
          "iopub.status.idle": "2022-12-07T16:20:33.337580Z",
          "shell.execute_reply.started": "2022-12-07T16:20:32.952972Z",
          "shell.execute_reply": "2022-12-07T16:20:33.336412Z"
        },
        "trusted": true,
        "id": "2eCxyvbuNZ9B"
      },
      "execution_count": null,
      "outputs": []
    },
    {
      "cell_type": "markdown",
      "source": [
        "* vote"
      ],
      "metadata": {
        "id": "4UQ_8WIZNZ9B"
      }
    },
    {
      "cell_type": "code",
      "source": [
        "description(df.vote)"
      ],
      "metadata": {
        "execution": {
          "iopub.status.busy": "2022-12-07T16:20:33.339243Z",
          "iopub.execute_input": "2022-12-07T16:20:33.339592Z",
          "iopub.status.idle": "2022-12-07T16:20:33.672760Z",
          "shell.execute_reply.started": "2022-12-07T16:20:33.339548Z",
          "shell.execute_reply": "2022-12-07T16:20:33.671640Z"
        },
        "trusted": true,
        "id": "U88cIwfBNZ9B",
        "outputId": "fa2074f7-d5c3-4320-df5e-e4b7b4d7e62e"
      },
      "execution_count": null,
      "outputs": [
        {
          "name": "stdout",
          "text": "2.0      30774\n3.0      15336\n2        13786\n4.0       8893\n3         6969\n         ...  \n1,491        1\n195          1\n594.0        1\n278          1\n153          1\nName: vote, Length: 477, dtype: int64\ncount     118861.0\nunique       477.0\ntop            2.0\nfreq       30774.0\nName: vote, dtype: float64\ngaps: 728732\n",
          "output_type": "stream"
        }
      ]
    },
    {
      "cell_type": "code",
      "source": [
        "# Remove commas\n",
        "df['vote'] = df['vote'].astype('str')\n",
        "df['vote'] = df['vote'].apply(lambda x: x.replace(',', ''))\n",
        "# filling gaps with 0\n",
        "df['vote'] = df['vote'].apply(lambda x: x.replace('nan', '0'))\n",
        "df.vote = df.vote.fillna(0)\n",
        "# change to int32\n",
        "df['vote'] = df['vote'].astype('float')\n",
        "df['vote'] = df['vote'].astype('int32')"
      ],
      "metadata": {
        "execution": {
          "iopub.status.busy": "2022-12-07T16:20:33.675074Z",
          "iopub.execute_input": "2022-12-07T16:20:33.675862Z",
          "iopub.status.idle": "2022-12-07T16:20:35.235107Z",
          "shell.execute_reply.started": "2022-12-07T16:20:33.675818Z",
          "shell.execute_reply": "2022-12-07T16:20:35.233350Z"
        },
        "trusted": true,
        "id": "jEZ_C0TGNZ9B"
      },
      "execution_count": null,
      "outputs": []
    },
    {
      "cell_type": "code",
      "source": [
        "df['vote'].hist(figsize=(10,10), bins=50)\n",
        "# obviously most reviews don't have ratings"
      ],
      "metadata": {
        "execution": {
          "iopub.status.busy": "2022-12-07T16:20:35.236738Z",
          "iopub.execute_input": "2022-12-07T16:20:35.237355Z",
          "iopub.status.idle": "2022-12-07T16:20:35.612635Z",
          "shell.execute_reply.started": "2022-12-07T16:20:35.237317Z",
          "shell.execute_reply": "2022-12-07T16:20:35.611433Z"
        },
        "trusted": true,
        "id": "qBHEJxtlNZ9B",
        "outputId": "f3eeeede-573c-4135-d488-186d997bdf26"
      },
      "execution_count": null,
      "outputs": [
        {
          "execution_count": 44,
          "output_type": "execute_result",
          "data": {
            "text/plain": "<AxesSubplot:>"
          },
          "metadata": {}
        },
        {
          "output_type": "display_data",
          "data": {
            "text/plain": "<Figure size 720x720 with 1 Axes>",
            "image/png": "[encoded data removed]"
          },
          "metadata": {
            "needs_background": "light"
          }
        }
      ]
    },
    {
      "cell_type": "code",
      "source": [
        "print(df.vote.value_counts())"
      ],
      "metadata": {
        "execution": {
          "iopub.status.busy": "2022-12-07T16:20:35.614100Z",
          "iopub.execute_input": "2022-12-07T16:20:35.614345Z",
          "iopub.status.idle": "2022-12-07T16:20:35.632150Z",
          "shell.execute_reply.started": "2022-12-07T16:20:35.614317Z",
          "shell.execute_reply": "2022-12-07T16:20:35.630083Z"
        },
        "trusted": true,
        "id": "O6pOS7geNZ9C",
        "outputId": "43faa530-ba82-4428-cda4-9d320c06e141"
      },
      "execution_count": null,
      "outputs": [
        {
          "name": "stdout",
          "text": "0       728732\n2        44560\n3        22305\n4        12872\n5         8275\n         ...  \n208          1\n594          1\n269          1\n1491         1\n153          1\nName: vote, Length: 312, dtype: int64\n",
          "output_type": "stream"
        }
      ]
    },
    {
      "cell_type": "code",
      "source": [
        "# make categories by the number of votes for the review\n",
        "df[\"vote\"] = df[\"vote\"].apply(lambda x: 'low' if x == 0 else\n",
        "    'high' if x > 50 else 'middle')"
      ],
      "metadata": {
        "execution": {
          "iopub.status.busy": "2022-12-07T16:20:35.634387Z",
          "iopub.execute_input": "2022-12-07T16:20:35.634748Z",
          "iopub.status.idle": "2022-12-07T16:20:35.855176Z",
          "shell.execute_reply.started": "2022-12-07T16:20:35.634705Z",
          "shell.execute_reply": "2022-12-07T16:20:35.854191Z"
        },
        "trusted": true,
        "id": "8RR5Pt_qNZ9C"
      },
      "execution_count": null,
      "outputs": []
    },
    {
      "cell_type": "code",
      "source": [
        "df['vote'].value_counts()\n",
        "# in the next section we will transform this data into categorical"
      ],
      "metadata": {
        "execution": {
          "iopub.status.busy": "2022-12-07T16:20:35.857230Z",
          "iopub.execute_input": "2022-12-07T16:20:35.857578Z",
          "iopub.status.idle": "2022-12-07T16:20:35.906495Z",
          "shell.execute_reply.started": "2022-12-07T16:20:35.857539Z",
          "shell.execute_reply": "2022-12-07T16:20:35.905614Z"
        },
        "trusted": true,
        "id": "A3Prx4wZNZ9C",
        "outputId": "ebc46884-173e-4aa7-8578-de618c100eaa"
      },
      "execution_count": null,
      "outputs": [
        {
          "execution_count": 47,
          "output_type": "execute_result",
          "data": {
            "text/plain": "low       728732\nmiddle    117360\nhigh        1501\nName: vote, dtype: int64"
          },
          "metadata": {}
        }
      ]
    },
    {
      "cell_type": "markdown",
      "source": [
        "* style"
      ],
      "metadata": {
        "id": "wPlv88yHNZ9C"
      }
    },
    {
      "cell_type": "markdown",
      "source": [
        "Despite the fact that this feature is present in the test dataset, there are also a lot of gaps. The signs are difficult to process. Let's delete them"
      ],
      "metadata": {
        "id": "Pi9dX5VtNZ9C"
      }
    },
    {
      "cell_type": "code",
      "source": [
        "df = df.drop(['style'], axis=1)"
      ],
      "metadata": {
        "execution": {
          "iopub.status.busy": "2022-12-07T16:20:35.907673Z",
          "iopub.execute_input": "2022-12-07T16:20:35.908420Z",
          "iopub.status.idle": "2022-12-07T16:20:37.288039Z",
          "shell.execute_reply.started": "2022-12-07T16:20:35.908377Z",
          "shell.execute_reply": "2022-12-07T16:20:37.287321Z"
        },
        "trusted": true,
        "id": "Fbz2WEslNZ9C"
      },
      "execution_count": null,
      "outputs": []
    },
    {
      "cell_type": "markdown",
      "source": [
        "* image_x"
      ],
      "metadata": {
        "id": "k37D2iMjNZ9C"
      }
    },
    {
      "cell_type": "code",
      "source": [
        "#this sign consists almost entirely of gaps. Let's drop it\n",
        "df = df.drop(['image_x'], axis=1)"
      ],
      "metadata": {
        "execution": {
          "iopub.status.busy": "2022-12-07T16:20:37.289359Z",
          "iopub.execute_input": "2022-12-07T16:20:37.289733Z",
          "iopub.status.idle": "2022-12-07T16:20:37.693058Z",
          "shell.execute_reply.started": "2022-12-07T16:20:37.289704Z",
          "shell.execute_reply": "2022-12-07T16:20:37.692208Z"
        },
        "trusted": true,
        "id": "IPwAnMh5NZ9D"
      },
      "execution_count": null,
      "outputs": []
    },
    {
      "cell_type": "markdown",
      "source": [
        "* userid"
      ],
      "metadata": {
        "id": "hxmJvxV2NZ9D"
      }
    },
    {
      "cell_type": "code",
      "source": [
        "description(df.userid)"
      ],
      "metadata": {
        "execution": {
          "iopub.status.busy": "2022-12-07T16:20:37.694469Z",
          "iopub.execute_input": "2022-12-07T16:20:37.694917Z",
          "iopub.status.idle": "2022-12-07T16:20:37.771419Z",
          "shell.execute_reply.started": "2022-12-07T16:20:37.694847Z",
          "shell.execute_reply": "2022-12-07T16:20:37.770497Z"
        },
        "trusted": true,
        "id": "j0OunkEjNZ9D",
        "outputId": "1dfd96e0-a79a-4273-9150-26de331d3ba3"
      },
      "execution_count": null,
      "outputs": [
        {
          "name": "stdout",
          "text": "842       427\n17987     317\n355       302\n2024      296\n2809      279\n         ... \n24392       1\n85135       1\n121222      1\n6604        1\n36635       1\nName: userid, Length: 127448, dtype: int64\ncount    847593.000000\nmean      53756.091163\nstd       37211.809152\nmin           0.000000\n25%       20347.000000\n50%       48581.000000\n75%       84723.000000\nmax      127495.000000\nName: userid, dtype: float64\ngaps: 0\n",
          "output_type": "stream"
        }
      ]
    },
    {
      "cell_type": "markdown",
      "source": [
        "user id, feature without gaps. Numerical."
      ],
      "metadata": {
        "id": "odLx3cEKNZ9D"
      }
    },
    {
      "cell_type": "code",
      "source": [
        "num_cols.append('userid')"
      ],
      "metadata": {
        "execution": {
          "iopub.status.busy": "2022-12-07T16:20:37.773300Z",
          "iopub.execute_input": "2022-12-07T16:20:37.773570Z",
          "iopub.status.idle": "2022-12-07T16:20:37.777792Z",
          "shell.execute_reply.started": "2022-12-07T16:20:37.773539Z",
          "shell.execute_reply": "2022-12-07T16:20:37.776623Z"
        },
        "trusted": true,
        "id": "6O2d9h_7NZ9D"
      },
      "execution_count": null,
      "outputs": []
    },
    {
      "cell_type": "markdown",
      "source": [
        "* itemid"
      ],
      "metadata": {
        "id": "lQm6Tp0yNZ9D"
      }
    },
    {
      "cell_type": "code",
      "source": [
        "description(df.itemid)"
      ],
      "metadata": {
        "execution": {
          "iopub.status.busy": "2022-12-07T16:20:37.779478Z",
          "iopub.execute_input": "2022-12-07T16:20:37.780464Z",
          "iopub.status.idle": "2022-12-07T16:20:37.833705Z",
          "shell.execute_reply.started": "2022-12-07T16:20:37.780405Z",
          "shell.execute_reply": "2022-12-07T16:20:37.832692Z"
        },
        "trusted": true,
        "id": "7Z8HX5mYNZ9D",
        "outputId": "43dc671b-57ab-44f8-8ed1-b2db62a91bb5"
      },
      "execution_count": null,
      "outputs": [
        {
          "name": "stdout",
          "text": "22208    5430\n23540    4733\n24556    4611\n379      4252\n32046    2449\n         ... \n4557        1\n17532       1\n12634       1\n18946       1\n36432       1\nName: itemid, Length: 41302, dtype: int64\ncount    847593.00000\nmean      17090.10489\nstd       11584.74670\nmin           0.00000\n25%        6478.00000\n50%       16108.00000\n75%       26719.00000\nmax       41319.00000\nName: itemid, dtype: float64\ngaps: 0\n",
          "output_type": "stream"
        }
      ]
    },
    {
      "cell_type": "markdown",
      "source": [
        "\n",
        "we should remember about checking the missing id in the test and training datasets. This may be needed in the future with item_features."
      ],
      "metadata": {
        "id": "nCdYhPo_NZ9E"
      }
    },
    {
      "cell_type": "code",
      "source": [
        "num_cols.append('itemid')"
      ],
      "metadata": {
        "execution": {
          "iopub.status.busy": "2022-12-07T16:20:37.835305Z",
          "iopub.execute_input": "2022-12-07T16:20:37.835554Z",
          "iopub.status.idle": "2022-12-07T16:20:37.840496Z",
          "shell.execute_reply.started": "2022-12-07T16:20:37.835526Z",
          "shell.execute_reply": "2022-12-07T16:20:37.839329Z"
        },
        "trusted": true,
        "id": "ClQBFYfTNZ9E"
      },
      "execution_count": null,
      "outputs": []
    },
    {
      "cell_type": "markdown",
      "source": [
        "* rating"
      ],
      "metadata": {
        "id": "H-2agBC7NZ9E"
      }
    },
    {
      "cell_type": "code",
      "source": [
        "description(df.rating)"
      ],
      "metadata": {
        "execution": {
          "iopub.status.busy": "2022-12-07T16:20:37.842526Z",
          "iopub.execute_input": "2022-12-07T16:20:37.843318Z",
          "iopub.status.idle": "2022-12-07T16:20:37.908646Z",
          "shell.execute_reply.started": "2022-12-07T16:20:37.843263Z",
          "shell.execute_reply": "2022-12-07T16:20:37.907210Z"
        },
        "trusted": true,
        "id": "YXc3tqZoNZ9E",
        "outputId": "7d191f68-b386-42d4-a9bb-00b77f9116ac"
      },
      "execution_count": null,
      "outputs": [
        {
          "name": "stdout",
          "text": "1.0    719392\n0.0    128201\nName: rating, dtype: int64\ncount    847593.000000\nmean          0.848747\nstd           0.358296\nmin           0.000000\n25%           1.000000\n50%           1.000000\n75%           1.000000\nmax           1.000000\nName: rating, dtype: float64\ngaps: 0\n",
          "output_type": "stream"
        }
      ]
    },
    {
      "cell_type": "code",
      "source": [
        "# a binary feature that probably determines whether a product is good or not\n",
        "df['rating']=df['rating'].astype('int32')"
      ],
      "metadata": {
        "execution": {
          "iopub.status.busy": "2022-12-07T16:20:37.910400Z",
          "iopub.execute_input": "2022-12-07T16:20:37.910693Z",
          "iopub.status.idle": "2022-12-07T16:20:37.920506Z",
          "shell.execute_reply.started": "2022-12-07T16:20:37.910661Z",
          "shell.execute_reply": "2022-12-07T16:20:37.919547Z"
        },
        "trusted": true,
        "id": "tO1xYkYdNZ9E"
      },
      "execution_count": null,
      "outputs": []
    },
    {
      "cell_type": "code",
      "source": [
        "bin_cols.append('rating')"
      ],
      "metadata": {
        "execution": {
          "iopub.status.busy": "2022-12-07T16:20:37.922300Z",
          "iopub.execute_input": "2022-12-07T16:20:37.922630Z",
          "iopub.status.idle": "2022-12-07T16:20:37.932065Z",
          "shell.execute_reply.started": "2022-12-07T16:20:37.922589Z",
          "shell.execute_reply": "2022-12-07T16:20:37.931262Z"
        },
        "trusted": true,
        "id": "wPdaggzlNZ9E"
      },
      "execution_count": null,
      "outputs": []
    },
    {
      "cell_type": "markdown",
      "source": [
        "* category"
      ],
      "metadata": {
        "id": "oVWzZGXaNZ9E"
      }
    },
    {
      "cell_type": "code",
      "source": [
        "description(df.category)"
      ],
      "metadata": {
        "execution": {
          "iopub.status.busy": "2022-12-07T16:20:37.933966Z",
          "iopub.execute_input": "2022-12-07T16:20:37.934301Z",
          "iopub.status.idle": "2022-12-07T16:20:53.614357Z",
          "shell.execute_reply.started": "2022-12-07T16:20:37.934267Z",
          "shell.execute_reply": "2022-12-07T16:20:53.613385Z"
        },
        "trusted": true,
        "id": "aoGBraUNNZ9F",
        "outputId": "a6b998fe-b832-4e3a-f11f-c16305d54275"
      },
      "execution_count": null,
      "outputs": [
        {
          "name": "stdout",
          "text": "[Grocery & Gourmet Food, Beverages, Coffee, Tea & Cocoa, Coffee, Single-Serve Capsules & Pods]     54966\n[Grocery & Gourmet Food, Beverages, Coffee, Tea & Cocoa, Tea, Green]                               20301\n[Grocery & Gourmet Food, Snack Foods, Bars, Nut Bars]                                              15472\n[Grocery & Gourmet Food, Candy & Chocolate, Candy & Chocolate Bars]                                15198\n[Grocery & Gourmet Food, Beverages, Coffee, Tea & Cocoa, Coffee, Roasted Coffee Beans]             14367\n                                                                                                   ...  \n[Grocery & Gourmet Food, Sauces, Gravies & Marinades, Sauces, Spanish & Mexican, Sofrito Sauce]        3\n[Grocery & Gourmet Food, Produce, Fresh Vegetables, Peppers]                                           3\n[Grocery & Gourmet Food, Fresh Flowers & Live Indoor Plants, Fresh Cut Flowers, Tulips]                2\n[Grocery & Gourmet Food, Produce, Fresh Vegetables, Tomatillos]                                        2\n[Grocery & Gourmet Food, Frozen]                                                                       1\nName: category, Length: 1107, dtype: int64\ncount                                                847593\nunique                                                 1107\ntop       [Grocery & Gourmet Food, Beverages, Coffee, Te...\nfreq                                                  54966\nName: category, dtype: object\ngaps: 0\n",
          "output_type": "stream"
        }
      ]
    },
    {
      "cell_type": "code",
      "source": [
        "# drop\n",
        "df = df.drop(['category'], axis=1)"
      ],
      "metadata": {
        "execution": {
          "iopub.status.busy": "2022-12-07T16:20:53.616243Z",
          "iopub.execute_input": "2022-12-07T16:20:53.616593Z",
          "iopub.status.idle": "2022-12-07T16:20:53.986996Z",
          "shell.execute_reply.started": "2022-12-07T16:20:53.616550Z",
          "shell.execute_reply": "2022-12-07T16:20:53.986067Z"
        },
        "trusted": true,
        "id": "vqSo6VQjNZ9F"
      },
      "execution_count": null,
      "outputs": []
    },
    {
      "cell_type": "markdown",
      "source": [
        "* description"
      ],
      "metadata": {
        "id": "o1v4JnxkNZ9F"
      }
    },
    {
      "cell_type": "code",
      "source": [
        "# delete product description\n",
        "df = df.drop(['description'], axis=1)"
      ],
      "metadata": {
        "execution": {
          "iopub.status.busy": "2022-12-07T16:20:53.988302Z",
          "iopub.execute_input": "2022-12-07T16:20:53.988735Z",
          "iopub.status.idle": "2022-12-07T16:20:54.331896Z",
          "shell.execute_reply.started": "2022-12-07T16:20:53.988700Z",
          "shell.execute_reply": "2022-12-07T16:20:54.331162Z"
        },
        "trusted": true,
        "id": "mDvpMkK0NZ9F"
      },
      "execution_count": null,
      "outputs": []
    },
    {
      "cell_type": "markdown",
      "source": [
        "* title"
      ],
      "metadata": {
        "id": "cGl77rvUNZ9F"
      }
    },
    {
      "cell_type": "code",
      "source": [
        "description(df.title)"
      ],
      "metadata": {
        "execution": {
          "iopub.status.busy": "2022-12-07T16:20:54.333229Z",
          "iopub.execute_input": "2022-12-07T16:20:54.334285Z",
          "iopub.status.idle": "2022-12-07T16:20:54.685022Z",
          "shell.execute_reply.started": "2022-12-07T16:20:54.334243Z",
          "shell.execute_reply": "2022-12-07T16:20:54.684041Z"
        },
        "trusted": true,
        "id": "QRapzV_2NZ9F",
        "outputId": "59a85290-0671-47e1-e455-a8db99a0dc6e"
      },
      "execution_count": null,
      "outputs": [
        {
          "name": "stdout",
          "text": "KIND Bars, Dark Chocolate Nuts & Sea Salt, Gluten Free, 1.4 Ounce Bars, 12 Count                                                                                                                     7435\nKIND Bars, Dark Chocolate Chili Almond, Gluten Free, 1.4 Ounce Bars, 12 Count                                                                                                                        4733\nKind Bars, Madagascar Vanilla Almond, Gluten Free, Low Sugar, 1.4oz                                                                                                                                  4611\nTwinings of London Pure Camomile Herbal Tea Bags, 20 Count                                                                                                                                           4252\nKIND Bars, Caramel Almond and Sea Salt, Gluten Free, 1.4 Ounce Bars, 12 Count                                                                                                                        3079\n                                                                                                                                                                                                     ... \nThe Cravings Place All Purpose Pancake & Waffle Mix, 23-Ounce Bags (Pack of 6)                                                                                                                          1\nCarriage House Peanut Butter, 0.5-Ounce Units (Pack of 200)                                                                                                                                             1\nNespresso OriginalLine: Volluto, 50 Count - ''NOT compatible with Vertuoline''                                                                                                                          1\nSugar 2.0 Original, 16 oz,                                                                                                                                                                              1\nBEACH CLIFF Sardines in Soybean Oil with Hot Green Chilies, Wild Caught, High Protein Food, Keto Food, Gluten Free, High Protein Snacks, Canned Food, Bulk Sardines, 3.75 Ounce Cans (Pack of 18)       1\nName: title, Length: 41149, dtype: int64\ncount                                                847593\nunique                                                41149\ntop       KIND Bars, Dark Chocolate Nuts & Sea Salt, Glu...\nfreq                                                   7435\nName: title, dtype: object\ngaps: 0\n",
          "output_type": "stream"
        }
      ]
    },
    {
      "cell_type": "markdown",
      "source": [
        "* brand"
      ],
      "metadata": {
        "id": "6l05VEIfNZ9F"
      }
    },
    {
      "cell_type": "code",
      "source": [
        "description(df.brand)"
      ],
      "metadata": {
        "execution": {
          "iopub.status.busy": "2022-12-07T16:20:54.686828Z",
          "iopub.execute_input": "2022-12-07T16:20:54.687329Z",
          "iopub.status.idle": "2022-12-07T16:20:54.973437Z",
          "shell.execute_reply.started": "2022-12-07T16:20:54.687281Z",
          "shell.execute_reply": "2022-12-07T16:20:54.972469Z"
        },
        "trusted": true,
        "id": "qsx20m4RNZ9G",
        "outputId": "c0e5a4f0-7bfe-487e-961d-dfd547d72c8b"
      },
      "execution_count": null,
      "outputs": [
        {
          "name": "stdout",
          "text": "KIND                22506\nBob's Red Mill      13061\nTwinings            11182\nPlanters            10384\nFrontier             6926\n                    ...  \nEASTSHORE               1\nCaffe Vita              1\nMayers                  1\nFuel in a Bottle        1\nGenesis Today           1\nName: brand, Length: 8866, dtype: int64\ncount     841489\nunique      8866\ntop         KIND\nfreq       22506\nName: brand, dtype: object\ngaps: 6104\n",
          "output_type": "stream"
        }
      ]
    },
    {
      "cell_type": "code",
      "source": [
        "# Note that we have a large number of the brand \"KIND\", we will try to make a new sign out of it\n",
        "df['brand_kind'] = df.brand.apply(lambda x: 1 if x=='KIND' else 0)"
      ],
      "metadata": {
        "execution": {
          "iopub.status.busy": "2022-12-07T16:20:54.975547Z",
          "iopub.execute_input": "2022-12-07T16:20:54.975946Z",
          "iopub.status.idle": "2022-12-07T16:20:55.333644Z",
          "shell.execute_reply.started": "2022-12-07T16:20:54.975903Z",
          "shell.execute_reply": "2022-12-07T16:20:55.332772Z"
        },
        "trusted": true,
        "id": "XYFshPvaNZ9G"
      },
      "execution_count": null,
      "outputs": []
    },
    {
      "cell_type": "code",
      "source": [
        "df['brand_kind'].value_counts()\n",
        "bin_cols.append('brand_kind')"
      ],
      "metadata": {
        "execution": {
          "iopub.status.busy": "2022-12-07T16:20:55.335062Z",
          "iopub.execute_input": "2022-12-07T16:20:55.335401Z",
          "iopub.status.idle": "2022-12-07T16:20:55.350129Z",
          "shell.execute_reply.started": "2022-12-07T16:20:55.335358Z",
          "shell.execute_reply": "2022-12-07T16:20:55.349026Z"
        },
        "trusted": true,
        "id": "Oboci7NaNZ9G"
      },
      "execution_count": null,
      "outputs": []
    },
    {
      "cell_type": "markdown",
      "source": [
        "\n",
        "Unique brands 8866, there are a number of blanks that are easy to fill. I do not think it will be correct to make categorical out of this feature. Let's delete."
      ],
      "metadata": {
        "id": "cV8_DCQENZ9G"
      }
    },
    {
      "cell_type": "code",
      "source": [
        "df = df.drop(['brand'], axis = 1)"
      ],
      "metadata": {
        "execution": {
          "iopub.status.busy": "2022-12-07T16:20:55.351930Z",
          "iopub.execute_input": "2022-12-07T16:20:55.352278Z",
          "iopub.status.idle": "2022-12-07T16:20:55.684796Z",
          "shell.execute_reply.started": "2022-12-07T16:20:55.352236Z",
          "shell.execute_reply": "2022-12-07T16:20:55.683809Z"
        },
        "trusted": true,
        "id": "B_mt2MyMNZ9G"
      },
      "execution_count": null,
      "outputs": []
    },
    {
      "cell_type": "markdown",
      "source": [
        "* rank"
      ],
      "metadata": {
        "id": "TTETPZ8kNZ9G"
      }
    },
    {
      "cell_type": "code",
      "source": [
        "df['rank'][1470]"
      ],
      "metadata": {
        "execution": {
          "iopub.status.busy": "2022-12-07T16:20:55.686983Z",
          "iopub.execute_input": "2022-12-07T16:20:55.687367Z",
          "iopub.status.idle": "2022-12-07T16:20:55.695462Z",
          "shell.execute_reply.started": "2022-12-07T16:20:55.687323Z",
          "shell.execute_reply": "2022-12-07T16:20:55.694357Z"
        },
        "trusted": true,
        "id": "0DF8enI8NZ9G",
        "outputId": "9203292b-6732-4cfe-f5ea-5a1501b22685"
      },
      "execution_count": null,
      "outputs": [
        {
          "execution_count": 65,
          "output_type": "execute_result",
          "data": {
            "text/plain": "'2,330inGroceryGourmetFood('"
          },
          "metadata": {}
        }
      ]
    },
    {
      "cell_type": "code",
      "source": [
        "# dropping\n",
        "df = df.drop(['rank'], axis = 1)"
      ],
      "metadata": {
        "execution": {
          "iopub.status.busy": "2022-12-07T16:20:55.697268Z",
          "iopub.execute_input": "2022-12-07T16:20:55.697782Z",
          "iopub.status.idle": "2022-12-07T16:20:55.989694Z",
          "shell.execute_reply.started": "2022-12-07T16:20:55.697737Z",
          "shell.execute_reply": "2022-12-07T16:20:55.988384Z"
        },
        "trusted": true,
        "id": "zNQy8gHHNZ9G"
      },
      "execution_count": null,
      "outputs": []
    },
    {
      "cell_type": "markdown",
      "source": [
        "* main_cat\t"
      ],
      "metadata": {
        "id": "ggbdwsFyNZ9H"
      }
    },
    {
      "cell_type": "code",
      "source": [
        "print(df.main_cat.value_counts())\n",
        "print(\"gaps:\", df.main_cat.isnull().sum())"
      ],
      "metadata": {
        "execution": {
          "iopub.status.busy": "2022-12-07T16:20:55.991492Z",
          "iopub.execute_input": "2022-12-07T16:20:55.991898Z",
          "iopub.status.idle": "2022-12-07T16:20:56.125798Z",
          "shell.execute_reply.started": "2022-12-07T16:20:55.991817Z",
          "shell.execute_reply": "2022-12-07T16:20:56.124567Z"
        },
        "trusted": true,
        "id": "8bTtjpdtNZ9H",
        "outputId": "d9a33106-6ede-48b1-dab1-8b1f3c1110cc"
      },
      "execution_count": null,
      "outputs": [
        {
          "name": "stdout",
          "text": "Grocery                      802613\nHealth & Personal Care        31705\nAmazon Home                    7383\nAll Beauty                     1522\nSports & Outdoors              1322\nIndustrial & Scientific         902\nOffice Products                 631\nToys & Games                    304\nPet Supplies                    125\nTools & Home Improvement         53\nBaby                             34\nArts, Crafts & Sewing            19\nHome Audio & Theater              9\nCamera & Photo                    8\nSoftware                          3\nMusical Instruments               3\nCell Phones & Accessories         2\nName: main_cat, dtype: int64\ngaps: 955\n",
          "output_type": "stream"
        }
      ]
    },
    {
      "cell_type": "markdown",
      "source": [
        "The category is indicated in which the product is defined. In our database, the undisputed leader is the Grocery category. There are gaps for which you can create the category 'others'. Next, we will make dummy variables or just label encoding out of this feature, and for the future we can also rename some of the less common categories to 'others'."
      ],
      "metadata": {
        "id": "sX619QWcNZ9H"
      }
    },
    {
      "cell_type": "code",
      "source": [
        "df.main_cat = df.main_cat.fillna('others')"
      ],
      "metadata": {
        "execution": {
          "iopub.status.busy": "2022-12-07T16:20:56.128038Z",
          "iopub.execute_input": "2022-12-07T16:20:56.128389Z",
          "iopub.status.idle": "2022-12-07T16:20:56.243620Z",
          "shell.execute_reply.started": "2022-12-07T16:20:56.128353Z",
          "shell.execute_reply": "2022-12-07T16:20:56.242982Z"
        },
        "trusted": true,
        "id": "8WHEPZGKNZ9H"
      },
      "execution_count": null,
      "outputs": []
    },
    {
      "cell_type": "markdown",
      "source": [
        "* price"
      ],
      "metadata": {
        "id": "eAOvpEshNZ9H"
      }
    },
    {
      "cell_type": "code",
      "source": [
        "description(df.price)"
      ],
      "metadata": {
        "execution": {
          "iopub.status.busy": "2022-12-07T16:20:56.244754Z",
          "iopub.execute_input": "2022-12-07T16:20:56.245053Z",
          "iopub.status.idle": "2022-12-07T16:20:56.475455Z",
          "shell.execute_reply.started": "2022-12-07T16:20:56.245021Z",
          "shell.execute_reply": "2022-12-07T16:20:56.474400Z"
        },
        "trusted": true,
        "id": "bx3LYS9ZNZ9H",
        "outputId": "bd90494a-450a-4baf-c457-3427c12acbef"
      },
      "execution_count": null,
      "outputs": [
        {
          "name": "stdout",
          "text": "$14.99              14241\n$13.67              10660\n$19.99               9043\n$14.79               5632\n$15.53               5561\n                    ...  \n$4.62                   2\n$35.16                  1\n$44.14                  1\n$19.99 - $295.00        1\n$6.93                   1\nName: price, Length: 4601, dtype: int64\ncount     588972\nunique      4601\ntop       $14.99\nfreq       14241\nName: price, dtype: object\ngaps: 258621\n",
          "output_type": "stream"
        }
      ]
    },
    {
      "cell_type": "code",
      "source": [
        "df['price'].sample(10)"
      ],
      "metadata": {
        "execution": {
          "iopub.status.busy": "2022-12-07T16:20:56.477451Z",
          "iopub.execute_input": "2022-12-07T16:20:56.478515Z",
          "iopub.status.idle": "2022-12-07T16:20:56.519634Z",
          "shell.execute_reply.started": "2022-12-07T16:20:56.478471Z",
          "shell.execute_reply": "2022-12-07T16:20:56.518635Z"
        },
        "trusted": true,
        "id": "VI9UkbMJNZ9H",
        "outputId": "b7f1660c-9a99-4ac3-863e-f9aa1f0e6160"
      },
      "execution_count": null,
      "outputs": [
        {
          "execution_count": 70,
          "output_type": "execute_result",
          "data": {
            "text/plain": "194589       NaN\n233564    $14.99\n16608        NaN\n676105       NaN\n216644    $49.91\n99011      $9.66\n528274    $24.95\n466223    $22.50\n50151     $15.53\n62994     $14.79\nName: price, dtype: object"
          },
          "metadata": {}
        }
      ]
    },
    {
      "cell_type": "markdown",
      "source": [
        "You can work with this feature. Remove gaps, prepare for categorization."
      ],
      "metadata": {
        "id": "7dWVSRF6NZ9H"
      }
    },
    {
      "cell_type": "code",
      "source": [
        "df['price'] = df['price'].astype('str')"
      ],
      "metadata": {
        "execution": {
          "iopub.status.busy": "2022-12-07T16:20:56.521165Z",
          "iopub.execute_input": "2022-12-07T16:20:56.521996Z",
          "iopub.status.idle": "2022-12-07T16:20:56.673823Z",
          "shell.execute_reply.started": "2022-12-07T16:20:56.521942Z",
          "shell.execute_reply": "2022-12-07T16:20:56.672972Z"
        },
        "trusted": true,
        "id": "cUt5u7njNZ9I"
      },
      "execution_count": null,
      "outputs": []
    },
    {
      "cell_type": "code",
      "source": [
        "df['price'] = df['price'].apply(lambda x: re.sub('\\D', '', x))"
      ],
      "metadata": {
        "execution": {
          "iopub.status.busy": "2022-12-07T16:20:56.675518Z",
          "iopub.execute_input": "2022-12-07T16:20:56.675759Z",
          "iopub.status.idle": "2022-12-07T16:20:58.198243Z",
          "shell.execute_reply.started": "2022-12-07T16:20:56.675732Z",
          "shell.execute_reply": "2022-12-07T16:20:58.197222Z"
        },
        "trusted": true,
        "id": "1KptdULkNZ9I"
      },
      "execution_count": null,
      "outputs": []
    },
    {
      "cell_type": "code",
      "source": [
        "df['price'] = df['price'].apply(lambda x: 0 if x == '' else x)"
      ],
      "metadata": {
        "execution": {
          "iopub.status.busy": "2022-12-07T16:20:58.199713Z",
          "iopub.execute_input": "2022-12-07T16:20:58.200005Z",
          "iopub.status.idle": "2022-12-07T16:20:58.376857Z",
          "shell.execute_reply.started": "2022-12-07T16:20:58.199972Z",
          "shell.execute_reply": "2022-12-07T16:20:58.375969Z"
        },
        "trusted": true,
        "id": "B2PXFFAqNZ9I"
      },
      "execution_count": null,
      "outputs": []
    },
    {
      "cell_type": "code",
      "source": [
        "df['price'] = df['price'].astype('float')"
      ],
      "metadata": {
        "execution": {
          "iopub.status.busy": "2022-12-07T16:20:58.377993Z",
          "iopub.execute_input": "2022-12-07T16:20:58.378225Z",
          "iopub.status.idle": "2022-12-07T16:20:58.747636Z",
          "shell.execute_reply.started": "2022-12-07T16:20:58.378197Z",
          "shell.execute_reply": "2022-12-07T16:20:58.746484Z"
        },
        "trusted": true,
        "id": "WShJv1RRNZ9I"
      },
      "execution_count": null,
      "outputs": []
    },
    {
      "cell_type": "code",
      "source": [
        "df['price'] = df['price'].apply(lambda x: x/100)"
      ],
      "metadata": {
        "execution": {
          "iopub.status.busy": "2022-12-07T16:20:58.749645Z",
          "iopub.execute_input": "2022-12-07T16:20:58.750435Z",
          "iopub.status.idle": "2022-12-07T16:20:59.037711Z",
          "shell.execute_reply.started": "2022-12-07T16:20:58.750384Z",
          "shell.execute_reply": "2022-12-07T16:20:59.036522Z"
        },
        "trusted": true,
        "id": "b3BuEombNZ9I"
      },
      "execution_count": null,
      "outputs": []
    },
    {
      "cell_type": "code",
      "source": [
        "# it is worth defining outliers, otherwise there is a risk of incorrect definition and replacement of gaps with an average\n",
        "# using a function from earlier projects\n",
        "def IQR(column):\n",
        "    perc_25 = df[column].quantile(0.25, interpolation=\"midpoint\")\n",
        "    perc_75 = df[column].quantile(0.75, interpolation=\"midpoint\")\n",
        "    IQR = perc_75 - perc_25\n",
        "    min_out = perc_25 - 1.5 * IQR\n",
        "    max_out = perc_75 + 1.5 * IQR\n",
        "    print('Total outliers: {} '.format(\n",
        "        df[df[column] > max_out][column].count()+df[df[column] < min_out][column].count()))\n",
        "    print('Upper outliers border:',max_out)"
      ],
      "metadata": {
        "execution": {
          "iopub.status.busy": "2022-12-07T16:20:59.039584Z",
          "iopub.execute_input": "2022-12-07T16:20:59.039973Z",
          "iopub.status.idle": "2022-12-07T16:20:59.047262Z",
          "shell.execute_reply.started": "2022-12-07T16:20:59.039927Z",
          "shell.execute_reply": "2022-12-07T16:20:59.046239Z"
        },
        "trusted": true,
        "id": "ZlJ7CQq_NZ9I"
      },
      "execution_count": null,
      "outputs": []
    },
    {
      "cell_type": "code",
      "source": [
        "IQR('price')\n",
        "# there are a lot of outliers. By expert way we will cut off everything more expensive than $ 100"
      ],
      "metadata": {
        "execution": {
          "iopub.status.busy": "2022-12-07T16:20:59.048789Z",
          "iopub.execute_input": "2022-12-07T16:20:59.049106Z",
          "iopub.status.idle": "2022-12-07T16:20:59.099547Z",
          "shell.execute_reply.started": "2022-12-07T16:20:59.049073Z",
          "shell.execute_reply": "2022-12-07T16:20:59.098376Z"
        },
        "trusted": true,
        "id": "0nNRluJYNZ9I",
        "outputId": "949e9321-b99b-4d33-ed3a-93e0bbbc0860"
      },
      "execution_count": null,
      "outputs": [
        {
          "name": "stdout",
          "text": "Total outliers: 18599 \nUpper outliers border: 53.75\n",
          "output_type": "stream"
        }
      ]
    },
    {
      "cell_type": "code",
      "source": [
        "df['price'] = df['price'].apply(lambda x: 0 if x > 100 else x)"
      ],
      "metadata": {
        "execution": {
          "iopub.status.busy": "2022-12-07T16:20:59.101289Z",
          "iopub.execute_input": "2022-12-07T16:20:59.101583Z",
          "iopub.status.idle": "2022-12-07T16:20:59.377649Z",
          "shell.execute_reply.started": "2022-12-07T16:20:59.101551Z",
          "shell.execute_reply": "2022-12-07T16:20:59.376636Z"
        },
        "trusted": true,
        "id": "yYOeUFspNZ9I"
      },
      "execution_count": null,
      "outputs": []
    },
    {
      "cell_type": "code",
      "source": [
        "# Replace zeros with the mean\n",
        "df['price'] = df['price'].astype('int')\n",
        "a = df['price'].mean()\n",
        "df['price'] = df['price'].apply(lambda x: a if x == 0 else x)"
      ],
      "metadata": {
        "execution": {
          "iopub.status.busy": "2022-12-07T16:20:59.378948Z",
          "iopub.execute_input": "2022-12-07T16:20:59.379196Z",
          "iopub.status.idle": "2022-12-07T16:20:59.712363Z",
          "shell.execute_reply.started": "2022-12-07T16:20:59.379168Z",
          "shell.execute_reply": "2022-12-07T16:20:59.711331Z"
        },
        "trusted": true,
        "id": "Y-Br8gssNZ9J"
      },
      "execution_count": null,
      "outputs": []
    },
    {
      "cell_type": "code",
      "source": [
        "description(df.price)"
      ],
      "metadata": {
        "execution": {
          "iopub.status.busy": "2022-12-07T16:20:59.714091Z",
          "iopub.execute_input": "2022-12-07T16:20:59.714421Z",
          "iopub.status.idle": "2022-12-07T16:20:59.765580Z",
          "shell.execute_reply.started": "2022-12-07T16:20:59.714383Z",
          "shell.execute_reply": "2022-12-07T16:20:59.764387Z"
        },
        "trusted": true,
        "id": "SYXU-3b3NZ9J",
        "outputId": "9d86ab79-e547-4790-a28b-ccadcbed604e"
      },
      "execution_count": null,
      "outputs": [
        {
          "name": "stdout",
          "text": "13.455983    264415\n14.000000     41302\n13.000000     33267\n9.000000      26349\n11.000000     23830\n              ...  \n88.000000        20\n90.000000        19\n81.000000        16\n97.000000        12\n91.000000         7\nName: price, Length: 100, dtype: int64\ncount    847593.000000\nmean         17.653710\nstd          10.842770\nmin           1.000000\n25%          13.000000\n50%          13.455983\n75%          20.000000\nmax          99.000000\nName: price, dtype: float64\ngaps: 0\n",
          "output_type": "stream"
        }
      ]
    },
    {
      "cell_type": "code",
      "source": [
        "# make categories by price\n",
        "df[\"price\"] = df[\"price\"].apply(lambda x: 'low' if x < 10 else\n",
        "    'high' if x > 20 else 'middle')"
      ],
      "metadata": {
        "execution": {
          "iopub.status.busy": "2022-12-07T16:20:59.767559Z",
          "iopub.execute_input": "2022-12-07T16:20:59.767967Z",
          "iopub.status.idle": "2022-12-07T16:21:00.004148Z",
          "shell.execute_reply.started": "2022-12-07T16:20:59.767850Z",
          "shell.execute_reply": "2022-12-07T16:21:00.003211Z"
        },
        "trusted": true,
        "id": "U9nHEU1LNZ9J"
      },
      "execution_count": null,
      "outputs": []
    },
    {
      "cell_type": "markdown",
      "source": [
        "* also_buy and also_view"
      ],
      "metadata": {
        "id": "VgiEq4YKNZ9J"
      }
    },
    {
      "cell_type": "code",
      "source": [
        "df.also_buy[78]\n",
        "# it is obvious that these are also purchased goods by asin, we will remove it at this stage"
      ],
      "metadata": {
        "execution": {
          "iopub.status.busy": "2022-12-07T16:21:00.006326Z",
          "iopub.execute_input": "2022-12-07T16:21:00.006811Z",
          "iopub.status.idle": "2022-12-07T16:21:00.014863Z",
          "shell.execute_reply.started": "2022-12-07T16:21:00.006738Z",
          "shell.execute_reply": "2022-12-07T16:21:00.013865Z"
        },
        "trusted": true,
        "id": "VIT8HbvCNZ9J",
        "outputId": "1441ff42-117a-4fb9-80b8-13d7f9300f67"
      },
      "execution_count": null,
      "outputs": [
        {
          "execution_count": 82,
          "output_type": "execute_result",
          "data": {
            "text/plain": "['B000T9WLUY',\n 'B01K23RF7U',\n 'B0015GSBUY',\n 'B00112KVNW',\n 'B004QE5BBE',\n 'B01BHJVTJS',\n 'B0744J1PTV',\n 'B004BQ4V4A',\n 'B004QE181G',\n 'B01AZ15AMQ',\n 'B07CX3FHMB',\n 'B0014D0SDG',\n 'B00FZGZKHW']"
          },
          "metadata": {}
        }
      ]
    },
    {
      "cell_type": "code",
      "source": [
        "df.also_view[78]"
      ],
      "metadata": {
        "execution": {
          "iopub.status.busy": "2022-12-07T16:21:00.016039Z",
          "iopub.execute_input": "2022-12-07T16:21:00.016257Z",
          "iopub.status.idle": "2022-12-07T16:21:00.026238Z",
          "shell.execute_reply.started": "2022-12-07T16:21:00.016232Z",
          "shell.execute_reply": "2022-12-07T16:21:00.025106Z"
        },
        "trusted": true,
        "id": "Uk4ncO0_NZ9J",
        "outputId": "4f922c52-70d6-4110-a5bd-21aeac2e8a99"
      },
      "execution_count": null,
      "outputs": [
        {
          "execution_count": 83,
          "output_type": "execute_result",
          "data": {
            "text/plain": "['B006K3UC86', 'B000WGB3OY']"
          },
          "metadata": {}
        }
      ]
    },
    {
      "cell_type": "code",
      "source": [
        "print(\"gaps:\", df.also_buy.isnull().sum())\n",
        "print(\"gaps:\", df.also_view.isnull().sum())"
      ],
      "metadata": {
        "execution": {
          "iopub.status.busy": "2022-12-07T16:21:00.027611Z",
          "iopub.execute_input": "2022-12-07T16:21:00.027955Z",
          "iopub.status.idle": "2022-12-07T16:21:00.139388Z",
          "shell.execute_reply.started": "2022-12-07T16:21:00.027921Z",
          "shell.execute_reply": "2022-12-07T16:21:00.138227Z"
        },
        "trusted": true,
        "id": "Fng3-mlZNZ9J",
        "outputId": "454fe8ee-67cb-4f34-8f01-a67df4a85e96"
      },
      "execution_count": null,
      "outputs": [
        {
          "name": "stdout",
          "text": "gaps: 120735\ngaps: 384222\n",
          "output_type": "stream"
        }
      ]
    },
    {
      "cell_type": "markdown",
      "source": [
        "This feature probably indicates that buyers of a particular product were still browsing. Outliers may indicate that the buyer did not watch anything else."
      ],
      "metadata": {
        "id": "thM7QCPmNZ9J"
      }
    },
    {
      "cell_type": "code",
      "source": [
        "# create a pair of features such as the number of products and the number of views\n",
        "df['also_buy_numb'] = df['also_buy'].str.len()\n",
        "df['also_view_numb'] = df['also_view'].str.len()\n",
        "df['also_buy_numb'] = df['also_buy_numb'].fillna(0)\n",
        "df['also_view_numb'] = df['also_view_numb'].fillna(0)\n",
        "df['also_buy_numb'] = df['also_buy_numb'].astype(int)\n",
        "df['also_view_numb'] = df['also_view_numb'].astype(int)"
      ],
      "metadata": {
        "execution": {
          "iopub.status.busy": "2022-12-07T16:21:00.140956Z",
          "iopub.execute_input": "2022-12-07T16:21:00.141225Z",
          "iopub.status.idle": "2022-12-07T16:21:00.840900Z",
          "shell.execute_reply.started": "2022-12-07T16:21:00.141190Z",
          "shell.execute_reply": "2022-12-07T16:21:00.839931Z"
        },
        "trusted": true,
        "id": "x40j_fpPNZ9K"
      },
      "execution_count": null,
      "outputs": []
    },
    {
      "cell_type": "code",
      "source": [
        "num_cols.append('also_buy_numb')\n",
        "num_cols.append('also_view_numb')"
      ],
      "metadata": {
        "execution": {
          "iopub.status.busy": "2022-12-07T16:21:00.850594Z",
          "iopub.execute_input": "2022-12-07T16:21:00.850921Z",
          "iopub.status.idle": "2022-12-07T16:21:00.856592Z",
          "shell.execute_reply.started": "2022-12-07T16:21:00.850891Z",
          "shell.execute_reply": "2022-12-07T16:21:00.855557Z"
        },
        "trusted": true,
        "id": "xK3gYhX2NZ9K"
      },
      "execution_count": null,
      "outputs": []
    },
    {
      "cell_type": "code",
      "source": [
        "df = df.drop(['also_buy'], axis = 1)\n",
        "df = df.drop(['also_view'], axis = 1)"
      ],
      "metadata": {
        "execution": {
          "iopub.status.busy": "2022-12-07T16:21:00.858380Z",
          "iopub.execute_input": "2022-12-07T16:21:00.858761Z",
          "iopub.status.idle": "2022-12-07T16:21:01.886936Z",
          "shell.execute_reply.started": "2022-12-07T16:21:00.858729Z",
          "shell.execute_reply": "2022-12-07T16:21:01.886019Z"
        },
        "trusted": true,
        "id": "EEds4jxzNZ9K"
      },
      "execution_count": null,
      "outputs": []
    },
    {
      "cell_type": "markdown",
      "source": [
        "The analysis of the data above allows us to decide to remove the remaining features. The main reason is the huge number of gaps"
      ],
      "metadata": {
        "execution": {
          "iopub.execute_input": "2021-07-14T09:48:14.33465Z",
          "iopub.status.busy": "2021-07-14T09:48:14.334219Z",
          "iopub.status.idle": "2021-07-14T09:48:14.374817Z",
          "shell.execute_reply": "2021-07-14T09:48:14.373842Z",
          "shell.execute_reply.started": "2021-07-14T09:48:14.334608Z"
        },
        "id": "0jGAWDFSNZ9K"
      }
    },
    {
      "cell_type": "code",
      "source": [
        "df.head(2)"
      ],
      "metadata": {
        "execution": {
          "iopub.status.busy": "2022-12-07T16:21:01.888096Z",
          "iopub.execute_input": "2022-12-07T16:21:01.888345Z",
          "iopub.status.idle": "2022-12-07T16:21:01.913060Z",
          "shell.execute_reply.started": "2022-12-07T16:21:01.888317Z",
          "shell.execute_reply": "2022-12-07T16:21:01.912017Z"
        },
        "trusted": true,
        "id": "K1Ytew2YNZ9K",
        "outputId": "65850363-6c9e-4e5b-ca75-d1f1e96616b5"
      },
      "execution_count": null,
      "outputs": [
        {
          "execution_count": 88,
          "output_type": "execute_result",
          "data": {
            "text/plain": "   overall  verified unixReviewTime vote  userid  itemid  rating  \\\n0        5         1         middle  low  102179   37138       1   \n1        5         0            new  low  117314   37138       1   \n\n                                               title main_cat price  \\\n0  Primal Palate Organic Spices Adobo Seasoning, ...  Grocery   low   \n1  Primal Palate Organic Spices Adobo Seasoning, ...  Grocery   low   \n\n                                             image_y date feature  \\\n0  [https://images-na.ssl-images-amazon.com/image...  NaN     NaN   \n1  [https://images-na.ssl-images-amazon.com/image...  NaN     NaN   \n\n                                             details similar_item tech1  fit  \\\n0  \\n      <div class=\"content\">\\n\\n\\n\\n\\n\\n\\n<ul...          NaN   NaN  NaN   \n1  \\n      <div class=\"content\">\\n\\n\\n\\n\\n\\n\\n<ul...          NaN   NaN  NaN   \n\n   brand_kind  also_buy_numb  also_view_numb  \n0           0             85              54  \n1           0             85              54  ",
            "text/html": "<div>\n<style scoped>\n    .dataframe tbody tr th:only-of-type {\n        vertical-align: middle;\n    }\n\n    .dataframe tbody tr th {\n        vertical-align: top;\n    }\n\n    .dataframe thead th {\n        text-align: right;\n    }\n</style>\n<table border=\"1\" class=\"dataframe\">\n  <thead>\n    <tr style=\"text-align: right;\">\n      <th></th>\n      <th>overall</th>\n      <th>verified</th>\n      <th>unixReviewTime</th>\n      <th>vote</th>\n      <th>userid</th>\n      <th>itemid</th>\n      <th>rating</th>\n      <th>title</th>\n      <th>main_cat</th>\n      <th>price</th>\n      <th>image_y</th>\n      <th>date</th>\n      <th>feature</th>\n      <th>details</th>\n      <th>similar_item</th>\n      <th>tech1</th>\n      <th>fit</th>\n      <th>brand_kind</th>\n      <th>also_buy_numb</th>\n      <th>also_view_numb</th>\n    </tr>\n  </thead>\n  <tbody>\n    <tr>\n      <th>0</th>\n      <td>5</td>\n      <td>1</td>\n      <td>middle</td>\n      <td>low</td>\n      <td>102179</td>\n      <td>37138</td>\n      <td>1</td>\n      <td>Primal Palate Organic Spices Adobo Seasoning, ...</td>\n      <td>Grocery</td>\n      <td>low</td>\n      <td>[https://images-na.ssl-images-amazon.com/image...</td>\n      <td>NaN</td>\n      <td>NaN</td>\n      <td>\\n      &lt;div class=\"content\"&gt;\\n\\n\\n\\n\\n\\n\\n&lt;ul...</td>\n      <td>NaN</td>\n      <td>NaN</td>\n      <td>NaN</td>\n      <td>0</td>\n      <td>85</td>\n      <td>54</td>\n    </tr>\n    <tr>\n      <th>1</th>\n      <td>5</td>\n      <td>0</td>\n      <td>new</td>\n      <td>low</td>\n      <td>117314</td>\n      <td>37138</td>\n      <td>1</td>\n      <td>Primal Palate Organic Spices Adobo Seasoning, ...</td>\n      <td>Grocery</td>\n      <td>low</td>\n      <td>[https://images-na.ssl-images-amazon.com/image...</td>\n      <td>NaN</td>\n      <td>NaN</td>\n      <td>\\n      &lt;div class=\"content\"&gt;\\n\\n\\n\\n\\n\\n\\n&lt;ul...</td>\n      <td>NaN</td>\n      <td>NaN</td>\n      <td>NaN</td>\n      <td>0</td>\n      <td>85</td>\n      <td>54</td>\n    </tr>\n  </tbody>\n</table>\n</div>"
          },
          "metadata": {}
        }
      ]
    },
    {
      "cell_type": "code",
      "source": [
        "df.info()"
      ],
      "metadata": {
        "execution": {
          "iopub.status.busy": "2022-12-07T16:21:01.914530Z",
          "iopub.execute_input": "2022-12-07T16:21:01.914808Z",
          "iopub.status.idle": "2022-12-07T16:21:02.433269Z",
          "shell.execute_reply.started": "2022-12-07T16:21:01.914777Z",
          "shell.execute_reply": "2022-12-07T16:21:02.432289Z"
        },
        "trusted": true,
        "id": "sRdTjxjVNZ9K",
        "outputId": "456391ce-630e-4076-e3cf-b1c557589a54"
      },
      "execution_count": null,
      "outputs": [
        {
          "name": "stdout",
          "text": "<class 'pandas.core.frame.DataFrame'>\nInt64Index: 847593 entries, 0 to 847592\nData columns (total 20 columns):\n #   Column          Non-Null Count   Dtype \n---  ------          --------------   ----- \n 0   overall         847593 non-null  int32 \n 1   verified        847593 non-null  int64 \n 2   unixReviewTime  847593 non-null  object\n 3   vote            847593 non-null  object\n 4   userid          847593 non-null  int64 \n 5   itemid          847593 non-null  int64 \n 6   rating          847593 non-null  int32 \n 7   title           847593 non-null  object\n 8   main_cat        847593 non-null  object\n 9   price           847593 non-null  object\n 10  image_y         755354 non-null  object\n 11  date            12087 non-null   object\n 12  feature         142734 non-null  object\n 13  details         832985 non-null  object\n 14  similar_item    1138 non-null    object\n 15  tech1           4372 non-null    object\n 16  fit             0 non-null       object\n 17  brand_kind      847593 non-null  int64 \n 18  also_buy_numb   847593 non-null  int64 \n 19  also_view_numb  847593 non-null  int64 \ndtypes: int32(2), int64(6), object(12)\nmemory usage: 161.6+ MB\n",
          "output_type": "stream"
        }
      ]
    },
    {
      "cell_type": "markdown",
      "source": [
        "* image_y"
      ],
      "metadata": {
        "id": "6-hhZpIINZ9L"
      }
    },
    {
      "cell_type": "code",
      "source": [
        "df.image_y.isna().sum()"
      ],
      "metadata": {
        "execution": {
          "iopub.status.busy": "2022-12-07T16:21:02.434478Z",
          "iopub.execute_input": "2022-12-07T16:21:02.434707Z",
          "iopub.status.idle": "2022-12-07T16:21:02.495738Z",
          "shell.execute_reply.started": "2022-12-07T16:21:02.434680Z",
          "shell.execute_reply": "2022-12-07T16:21:02.494483Z"
        },
        "trusted": true,
        "id": "cApyd9AjNZ9L",
        "outputId": "55f9975d-9bb8-483a-c37b-3707a6f64d0f"
      },
      "execution_count": null,
      "outputs": [
        {
          "execution_count": 90,
          "output_type": "execute_result",
          "data": {
            "text/plain": "92239"
          },
          "metadata": {}
        }
      ]
    },
    {
      "cell_type": "markdown",
      "source": [
        "Usually, the presence of a product photo inspires more confidence in the consumer when buying by the Internet. Therefore, we will create a binary sign for the presence of a seller’s photo, and then delete the 'image_y' "
      ],
      "metadata": {
        "id": "LLNQZc9HNZ9L"
      }
    },
    {
      "cell_type": "code",
      "source": [
        "df['image_y'] = df['image_y'].fillna(0)"
      ],
      "metadata": {
        "execution": {
          "iopub.status.busy": "2022-12-07T16:21:02.498121Z",
          "iopub.execute_input": "2022-12-07T16:21:02.499126Z",
          "iopub.status.idle": "2022-12-07T16:21:02.686360Z",
          "shell.execute_reply.started": "2022-12-07T16:21:02.499081Z",
          "shell.execute_reply": "2022-12-07T16:21:02.685051Z"
        },
        "trusted": true,
        "id": "_AB5sHB1NZ9M"
      },
      "execution_count": null,
      "outputs": []
    },
    {
      "cell_type": "code",
      "source": [
        "df['image']= df['image_y'].apply(lambda x: 0 if x==0 else 1)\n",
        "df['image']"
      ],
      "metadata": {
        "execution": {
          "iopub.status.busy": "2022-12-07T16:21:02.687583Z",
          "iopub.execute_input": "2022-12-07T16:21:02.687828Z",
          "iopub.status.idle": "2022-12-07T16:21:03.047312Z",
          "shell.execute_reply.started": "2022-12-07T16:21:02.687795Z",
          "shell.execute_reply": "2022-12-07T16:21:03.046450Z"
        },
        "trusted": true,
        "id": "R9m4fHCSNZ9M",
        "outputId": "1a4e34bd-2551-4400-feb8-97295a86bb4c"
      },
      "execution_count": null,
      "outputs": [
        {
          "execution_count": 92,
          "output_type": "execute_result",
          "data": {
            "text/plain": "0         1\n1         1\n2         1\n3         1\n4         1\n         ..\n847588    1\n847589    1\n847590    1\n847591    0\n847592    0\nName: image, Length: 847593, dtype: int64"
          },
          "metadata": {}
        }
      ]
    },
    {
      "cell_type": "code",
      "source": [
        "bin_cols.append('image')"
      ],
      "metadata": {
        "execution": {
          "iopub.status.busy": "2022-12-07T16:21:03.048403Z",
          "iopub.execute_input": "2022-12-07T16:21:03.048623Z",
          "iopub.status.idle": "2022-12-07T16:21:03.052823Z",
          "shell.execute_reply.started": "2022-12-07T16:21:03.048597Z",
          "shell.execute_reply": "2022-12-07T16:21:03.051893Z"
        },
        "trusted": true,
        "id": "NDmu7eF5NZ9M"
      },
      "execution_count": null,
      "outputs": []
    },
    {
      "cell_type": "code",
      "source": [
        "df = df.drop(['image_y', 'date', 'feature', 'details', 'similar_item', 'tech1', 'fit'], axis=1)"
      ],
      "metadata": {
        "execution": {
          "iopub.status.busy": "2022-12-07T16:21:03.054078Z",
          "iopub.execute_input": "2022-12-07T16:21:03.054319Z",
          "iopub.status.idle": "2022-12-07T16:21:03.171965Z",
          "shell.execute_reply.started": "2022-12-07T16:21:03.054290Z",
          "shell.execute_reply": "2022-12-07T16:21:03.170960Z"
        },
        "trusted": true,
        "id": "Z55gANz9NZ9M"
      },
      "execution_count": null,
      "outputs": []
    },
    {
      "cell_type": "code",
      "source": [
        "df.head(3)"
      ],
      "metadata": {
        "execution": {
          "iopub.status.busy": "2022-12-07T16:21:03.173264Z",
          "iopub.execute_input": "2022-12-07T16:21:03.173599Z",
          "iopub.status.idle": "2022-12-07T16:21:03.192637Z",
          "shell.execute_reply.started": "2022-12-07T16:21:03.173568Z",
          "shell.execute_reply": "2022-12-07T16:21:03.191628Z"
        },
        "trusted": true,
        "id": "rHCBsGEgNZ9M",
        "outputId": "e4dca151-ed9d-4d40-f38b-62efe66dd07c"
      },
      "execution_count": null,
      "outputs": [
        {
          "execution_count": 95,
          "output_type": "execute_result",
          "data": {
            "text/plain": "   overall  verified unixReviewTime    vote  userid  itemid  rating  \\\n0        5         1         middle     low  102179   37138       1   \n1        5         0            new     low  117314   37138       1   \n2        3         1            new  middle  119505   37138       0   \n\n                                               title main_cat price  \\\n0  Primal Palate Organic Spices Adobo Seasoning, ...  Grocery   low   \n1  Primal Palate Organic Spices Adobo Seasoning, ...  Grocery   low   \n2  Primal Palate Organic Spices Adobo Seasoning, ...  Grocery   low   \n\n   brand_kind  also_buy_numb  also_view_numb  image  \n0           0             85              54      1  \n1           0             85              54      1  \n2           0             85              54      1  ",
            "text/html": "<div>\n<style scoped>\n    .dataframe tbody tr th:only-of-type {\n        vertical-align: middle;\n    }\n\n    .dataframe tbody tr th {\n        vertical-align: top;\n    }\n\n    .dataframe thead th {\n        text-align: right;\n    }\n</style>\n<table border=\"1\" class=\"dataframe\">\n  <thead>\n    <tr style=\"text-align: right;\">\n      <th></th>\n      <th>overall</th>\n      <th>verified</th>\n      <th>unixReviewTime</th>\n      <th>vote</th>\n      <th>userid</th>\n      <th>itemid</th>\n      <th>rating</th>\n      <th>title</th>\n      <th>main_cat</th>\n      <th>price</th>\n      <th>brand_kind</th>\n      <th>also_buy_numb</th>\n      <th>also_view_numb</th>\n      <th>image</th>\n    </tr>\n  </thead>\n  <tbody>\n    <tr>\n      <th>0</th>\n      <td>5</td>\n      <td>1</td>\n      <td>middle</td>\n      <td>low</td>\n      <td>102179</td>\n      <td>37138</td>\n      <td>1</td>\n      <td>Primal Palate Organic Spices Adobo Seasoning, ...</td>\n      <td>Grocery</td>\n      <td>low</td>\n      <td>0</td>\n      <td>85</td>\n      <td>54</td>\n      <td>1</td>\n    </tr>\n    <tr>\n      <th>1</th>\n      <td>5</td>\n      <td>0</td>\n      <td>new</td>\n      <td>low</td>\n      <td>117314</td>\n      <td>37138</td>\n      <td>1</td>\n      <td>Primal Palate Organic Spices Adobo Seasoning, ...</td>\n      <td>Grocery</td>\n      <td>low</td>\n      <td>0</td>\n      <td>85</td>\n      <td>54</td>\n      <td>1</td>\n    </tr>\n    <tr>\n      <th>2</th>\n      <td>3</td>\n      <td>1</td>\n      <td>new</td>\n      <td>middle</td>\n      <td>119505</td>\n      <td>37138</td>\n      <td>0</td>\n      <td>Primal Palate Organic Spices Adobo Seasoning, ...</td>\n      <td>Grocery</td>\n      <td>low</td>\n      <td>0</td>\n      <td>85</td>\n      <td>54</td>\n      <td>1</td>\n    </tr>\n  </tbody>\n</table>\n</div>"
          },
          "metadata": {}
        }
      ]
    },
    {
      "cell_type": "markdown",
      "source": [
        "Summary of EDA:\n",
        "\n",
        "It turned out to be a fairly large base, with which you can creatively work a long time. Most of the variables we removed for various reasons. There are 9 features left. 4 of which are binary, 2 are numeric and the rest are categorical. We will work with some of them using label encoding."
      ],
      "metadata": {
        "id": "PzQOtbGeNZ9N"
      }
    },
    {
      "cell_type": "markdown",
      "source": [
        "# Future Engeneering"
      ],
      "metadata": {
        "id": "ahHkn40DNZ9N"
      }
    },
    {
      "cell_type": "code",
      "source": [
        "# transforming with LabelEncoder()\n",
        "label_encoder = LabelEncoder()\n",
        "#convert time categories to numeric\n",
        "mapped = pd.Series(label_encoder.fit_transform(df['unixReviewTime']))\n",
        "print(dict(enumerate(label_encoder.classes_)))"
      ],
      "metadata": {
        "execution": {
          "iopub.status.busy": "2022-12-07T16:21:03.194224Z",
          "iopub.execute_input": "2022-12-07T16:21:03.194475Z",
          "iopub.status.idle": "2022-12-07T16:21:03.391340Z",
          "shell.execute_reply.started": "2022-12-07T16:21:03.194447Z",
          "shell.execute_reply": "2022-12-07T16:21:03.390490Z"
        },
        "trusted": true,
        "id": "a-jcK_8sNZ9N",
        "outputId": "8a848576-d6eb-49be-b38e-1981fb1902e5"
      },
      "execution_count": null,
      "outputs": [
        {
          "name": "stdout",
          "text": "{0: 'middle', 1: 'new', 2: 'old'}\n",
          "output_type": "stream"
        }
      ]
    },
    {
      "cell_type": "code",
      "source": [
        "df['unixReviewTime'] = label_encoder.fit_transform(df['unixReviewTime'])\n",
        "df.sample(3)"
      ],
      "metadata": {
        "execution": {
          "iopub.status.busy": "2022-12-07T16:21:03.392557Z",
          "iopub.execute_input": "2022-12-07T16:21:03.392806Z",
          "iopub.status.idle": "2022-12-07T16:21:03.713184Z",
          "shell.execute_reply.started": "2022-12-07T16:21:03.392777Z",
          "shell.execute_reply": "2022-12-07T16:21:03.712234Z"
        },
        "trusted": true,
        "id": "RNJX8wAONZ9N",
        "outputId": "3d47f691-7c7f-4309-f38d-7232c839081a"
      },
      "execution_count": null,
      "outputs": [
        {
          "execution_count": 97,
          "output_type": "execute_result",
          "data": {
            "text/plain": "        overall  verified  unixReviewTime    vote  userid  itemid  rating  \\\n12642         5         0               1     low  123161   22208       1   \n536892        4         1               1  middle    9311    6891       1   \n281657        5         1               2     low   25367     920       1   \n\n                                                    title main_cat   price  \\\n12642   KIND Bars, Dark Chocolate Nuts & Sea Salt, Glu...  Grocery  middle   \n536892  Roland Israeli Couscous, Traditional, 21.16 Ou...  Grocery    high   \n281657    Lipton Black Tea Bags, 100% Natural Tea, 100 ct  Grocery  middle   \n\n        brand_kind  also_buy_numb  also_view_numb  image  \n12642            1             95               0      1  \n536892           0             66              46      1  \n281657           0             21              47      1  ",
            "text/html": "<div>\n<style scoped>\n    .dataframe tbody tr th:only-of-type {\n        vertical-align: middle;\n    }\n\n    .dataframe tbody tr th {\n        vertical-align: top;\n    }\n\n    .dataframe thead th {\n        text-align: right;\n    }\n</style>\n<table border=\"1\" class=\"dataframe\">\n  <thead>\n    <tr style=\"text-align: right;\">\n      <th></th>\n      <th>overall</th>\n      <th>verified</th>\n      <th>unixReviewTime</th>\n      <th>vote</th>\n      <th>userid</th>\n      <th>itemid</th>\n      <th>rating</th>\n      <th>title</th>\n      <th>main_cat</th>\n      <th>price</th>\n      <th>brand_kind</th>\n      <th>also_buy_numb</th>\n      <th>also_view_numb</th>\n      <th>image</th>\n    </tr>\n  </thead>\n  <tbody>\n    <tr>\n      <th>12642</th>\n      <td>5</td>\n      <td>0</td>\n      <td>1</td>\n      <td>low</td>\n      <td>123161</td>\n      <td>22208</td>\n      <td>1</td>\n      <td>KIND Bars, Dark Chocolate Nuts &amp; Sea Salt, Glu...</td>\n      <td>Grocery</td>\n      <td>middle</td>\n      <td>1</td>\n      <td>95</td>\n      <td>0</td>\n      <td>1</td>\n    </tr>\n    <tr>\n      <th>536892</th>\n      <td>4</td>\n      <td>1</td>\n      <td>1</td>\n      <td>middle</td>\n      <td>9311</td>\n      <td>6891</td>\n      <td>1</td>\n      <td>Roland Israeli Couscous, Traditional, 21.16 Ou...</td>\n      <td>Grocery</td>\n      <td>high</td>\n      <td>0</td>\n      <td>66</td>\n      <td>46</td>\n      <td>1</td>\n    </tr>\n    <tr>\n      <th>281657</th>\n      <td>5</td>\n      <td>1</td>\n      <td>2</td>\n      <td>low</td>\n      <td>25367</td>\n      <td>920</td>\n      <td>1</td>\n      <td>Lipton Black Tea Bags, 100% Natural Tea, 100 ct</td>\n      <td>Grocery</td>\n      <td>middle</td>\n      <td>0</td>\n      <td>21</td>\n      <td>47</td>\n      <td>1</td>\n    </tr>\n  </tbody>\n</table>\n</div>"
          },
          "metadata": {}
        }
      ]
    },
    {
      "cell_type": "code",
      "source": [
        "cat_cols.append('unixReviewTime')"
      ],
      "metadata": {
        "execution": {
          "iopub.status.busy": "2022-12-07T16:21:03.714567Z",
          "iopub.execute_input": "2022-12-07T16:21:03.714808Z",
          "iopub.status.idle": "2022-12-07T16:21:03.719452Z",
          "shell.execute_reply.started": "2022-12-07T16:21:03.714781Z",
          "shell.execute_reply": "2022-12-07T16:21:03.718416Z"
        },
        "trusted": true,
        "id": "mvdG-cIeNZ9N"
      },
      "execution_count": null,
      "outputs": []
    },
    {
      "cell_type": "code",
      "source": [
        "# transform vote\n",
        "mapped = pd.Series(label_encoder.fit_transform(df['vote']))\n",
        "print(dict(enumerate(label_encoder.classes_)))"
      ],
      "metadata": {
        "execution": {
          "iopub.status.busy": "2022-12-07T16:21:03.721051Z",
          "iopub.execute_input": "2022-12-07T16:21:03.721366Z",
          "iopub.status.idle": "2022-12-07T16:21:03.927334Z",
          "shell.execute_reply.started": "2022-12-07T16:21:03.721332Z",
          "shell.execute_reply": "2022-12-07T16:21:03.926638Z"
        },
        "trusted": true,
        "id": "PdLWpNA5NZ9N",
        "outputId": "773ee7ad-994f-4979-948a-ee1604e3cf50"
      },
      "execution_count": null,
      "outputs": [
        {
          "name": "stdout",
          "text": "{0: 'high', 1: 'low', 2: 'middle'}\n",
          "output_type": "stream"
        }
      ]
    },
    {
      "cell_type": "code",
      "source": [
        "df['vote'] = label_encoder.fit_transform(df['vote'])\n",
        "df.sample(3)"
      ],
      "metadata": {
        "execution": {
          "iopub.status.busy": "2022-12-07T16:21:03.928267Z",
          "iopub.execute_input": "2022-12-07T16:21:03.928491Z",
          "iopub.status.idle": "2022-12-07T16:21:04.258186Z",
          "shell.execute_reply.started": "2022-12-07T16:21:03.928464Z",
          "shell.execute_reply": "2022-12-07T16:21:04.257513Z"
        },
        "trusted": true,
        "id": "Yp7pw7--NZ9N",
        "outputId": "b9aa5af4-f47c-4070-dffd-b0fb95ccf50d"
      },
      "execution_count": null,
      "outputs": [
        {
          "execution_count": 100,
          "output_type": "execute_result",
          "data": {
            "text/plain": "        overall  verified  unixReviewTime  vote  userid  itemid  rating  \\\n609253        4         1               0     2  108471   28701       1   \n208170        5         1               0     1   80435   34420       1   \n353360        4         1               0     1    3151    3526       1   \n\n                                                    title main_cat   price  \\\n609253  Sincerely Nuts Whole Blue Poppy Seeds 2lb Bag ...  Grocery  middle   \n208170                  Pop-Tarts, Red Velvet, 14.1 Ounce  Grocery  middle   \n353360  BUMBLE BEE Sensations Sun-Dried Tomato and Bas...  Grocery  middle   \n\n        brand_kind  also_buy_numb  also_view_numb  image  \n609253           0             67              49      1  \n208170           0              1               0      1  \n353360           0             76              49      1  ",
            "text/html": "<div>\n<style scoped>\n    .dataframe tbody tr th:only-of-type {\n        vertical-align: middle;\n    }\n\n    .dataframe tbody tr th {\n        vertical-align: top;\n    }\n\n    .dataframe thead th {\n        text-align: right;\n    }\n</style>\n<table border=\"1\" class=\"dataframe\">\n  <thead>\n    <tr style=\"text-align: right;\">\n      <th></th>\n      <th>overall</th>\n      <th>verified</th>\n      <th>unixReviewTime</th>\n      <th>vote</th>\n      <th>userid</th>\n      <th>itemid</th>\n      <th>rating</th>\n      <th>title</th>\n      <th>main_cat</th>\n      <th>price</th>\n      <th>brand_kind</th>\n      <th>also_buy_numb</th>\n      <th>also_view_numb</th>\n      <th>image</th>\n    </tr>\n  </thead>\n  <tbody>\n    <tr>\n      <th>609253</th>\n      <td>4</td>\n      <td>1</td>\n      <td>0</td>\n      <td>2</td>\n      <td>108471</td>\n      <td>28701</td>\n      <td>1</td>\n      <td>Sincerely Nuts Whole Blue Poppy Seeds 2lb Bag ...</td>\n      <td>Grocery</td>\n      <td>middle</td>\n      <td>0</td>\n      <td>67</td>\n      <td>49</td>\n      <td>1</td>\n    </tr>\n    <tr>\n      <th>208170</th>\n      <td>5</td>\n      <td>1</td>\n      <td>0</td>\n      <td>1</td>\n      <td>80435</td>\n      <td>34420</td>\n      <td>1</td>\n      <td>Pop-Tarts, Red Velvet, 14.1 Ounce</td>\n      <td>Grocery</td>\n      <td>middle</td>\n      <td>0</td>\n      <td>1</td>\n      <td>0</td>\n      <td>1</td>\n    </tr>\n    <tr>\n      <th>353360</th>\n      <td>4</td>\n      <td>1</td>\n      <td>0</td>\n      <td>1</td>\n      <td>3151</td>\n      <td>3526</td>\n      <td>1</td>\n      <td>BUMBLE BEE Sensations Sun-Dried Tomato and Bas...</td>\n      <td>Grocery</td>\n      <td>middle</td>\n      <td>0</td>\n      <td>76</td>\n      <td>49</td>\n      <td>1</td>\n    </tr>\n  </tbody>\n</table>\n</div>"
          },
          "metadata": {}
        }
      ]
    },
    {
      "cell_type": "code",
      "source": [
        "cat_cols.append('vote')"
      ],
      "metadata": {
        "execution": {
          "iopub.status.busy": "2022-12-07T16:21:04.259491Z",
          "iopub.execute_input": "2022-12-07T16:21:04.260454Z",
          "iopub.status.idle": "2022-12-07T16:21:04.265631Z",
          "shell.execute_reply.started": "2022-12-07T16:21:04.260405Z",
          "shell.execute_reply": "2022-12-07T16:21:04.264212Z"
        },
        "trusted": true,
        "id": "hnwUybyxNZ9N"
      },
      "execution_count": null,
      "outputs": []
    },
    {
      "cell_type": "code",
      "source": [
        "# transform main_cat\n",
        "mapped = pd.Series(label_encoder.fit_transform(df['main_cat']))\n",
        "print(dict(enumerate(label_encoder.classes_)))"
      ],
      "metadata": {
        "execution": {
          "iopub.status.busy": "2022-12-07T16:21:04.267158Z",
          "iopub.execute_input": "2022-12-07T16:21:04.267572Z",
          "iopub.status.idle": "2022-12-07T16:21:04.495951Z",
          "shell.execute_reply.started": "2022-12-07T16:21:04.267525Z",
          "shell.execute_reply": "2022-12-07T16:21:04.494391Z"
        },
        "trusted": true,
        "id": "GpS4ALqRNZ9N",
        "outputId": "437fd651-b6a0-4172-afc9-f5f421f72700"
      },
      "execution_count": null,
      "outputs": [
        {
          "name": "stdout",
          "text": "{0: 'All Beauty', 1: 'Amazon Home', 2: 'Arts, Crafts & Sewing', 3: 'Baby', 4: 'Camera & Photo', 5: 'Cell Phones & Accessories', 6: 'Grocery', 7: 'Health & Personal Care', 8: 'Home Audio & Theater', 9: 'Industrial & Scientific', 10: 'Musical Instruments', 11: 'Office Products', 12: 'Pet Supplies', 13: 'Software', 14: 'Sports & Outdoors', 15: 'Tools & Home Improvement', 16: 'Toys & Games', 17: 'others'}\n",
          "output_type": "stream"
        }
      ]
    },
    {
      "cell_type": "code",
      "source": [
        "df['main_cat'] = label_encoder.fit_transform(df['main_cat'])\n",
        "df.sample(3)"
      ],
      "metadata": {
        "execution": {
          "iopub.status.busy": "2022-12-07T16:21:04.497599Z",
          "iopub.execute_input": "2022-12-07T16:21:04.498635Z",
          "iopub.status.idle": "2022-12-07T16:21:04.855622Z",
          "shell.execute_reply.started": "2022-12-07T16:21:04.498588Z",
          "shell.execute_reply": "2022-12-07T16:21:04.854624Z"
        },
        "trusted": true,
        "id": "rTeD7_jXNZ9O",
        "outputId": "187b62bb-855c-4abb-e629-69310591a322"
      },
      "execution_count": null,
      "outputs": [
        {
          "execution_count": 103,
          "output_type": "execute_result",
          "data": {
            "text/plain": "        overall  verified  unixReviewTime  vote  userid  itemid  rating  \\\n733643        4         1               1     1   34830   33537       1   \n217860        5         1               0     1   43516    1535       1   \n553815        5         1               1     1   46794   37402       1   \n\n                                                    title  main_cat   price  \\\n733643  Celestial Seasonings Herbal Tea, Wild Berry Zi...         6  middle   \n217860  Bob's Red Mill Organic Gluten Free Creamy Buck...         6    high   \n553815  Pure Leaf Tea House Collection, Organic Iced T...         6  middle   \n\n        brand_kind  also_buy_numb  also_view_numb  image  \n733643           0             34              50      1  \n217860           0             97              59      1  \n553815           0             85               0      1  ",
            "text/html": "<div>\n<style scoped>\n    .dataframe tbody tr th:only-of-type {\n        vertical-align: middle;\n    }\n\n    .dataframe tbody tr th {\n        vertical-align: top;\n    }\n\n    .dataframe thead th {\n        text-align: right;\n    }\n</style>\n<table border=\"1\" class=\"dataframe\">\n  <thead>\n    <tr style=\"text-align: right;\">\n      <th></th>\n      <th>overall</th>\n      <th>verified</th>\n      <th>unixReviewTime</th>\n      <th>vote</th>\n      <th>userid</th>\n      <th>itemid</th>\n      <th>rating</th>\n      <th>title</th>\n      <th>main_cat</th>\n      <th>price</th>\n      <th>brand_kind</th>\n      <th>also_buy_numb</th>\n      <th>also_view_numb</th>\n      <th>image</th>\n    </tr>\n  </thead>\n  <tbody>\n    <tr>\n      <th>733643</th>\n      <td>4</td>\n      <td>1</td>\n      <td>1</td>\n      <td>1</td>\n      <td>34830</td>\n      <td>33537</td>\n      <td>1</td>\n      <td>Celestial Seasonings Herbal Tea, Wild Berry Zi...</td>\n      <td>6</td>\n      <td>middle</td>\n      <td>0</td>\n      <td>34</td>\n      <td>50</td>\n      <td>1</td>\n    </tr>\n    <tr>\n      <th>217860</th>\n      <td>5</td>\n      <td>1</td>\n      <td>0</td>\n      <td>1</td>\n      <td>43516</td>\n      <td>1535</td>\n      <td>1</td>\n      <td>Bob's Red Mill Organic Gluten Free Creamy Buck...</td>\n      <td>6</td>\n      <td>high</td>\n      <td>0</td>\n      <td>97</td>\n      <td>59</td>\n      <td>1</td>\n    </tr>\n    <tr>\n      <th>553815</th>\n      <td>5</td>\n      <td>1</td>\n      <td>1</td>\n      <td>1</td>\n      <td>46794</td>\n      <td>37402</td>\n      <td>1</td>\n      <td>Pure Leaf Tea House Collection, Organic Iced T...</td>\n      <td>6</td>\n      <td>middle</td>\n      <td>0</td>\n      <td>85</td>\n      <td>0</td>\n      <td>1</td>\n    </tr>\n  </tbody>\n</table>\n</div>"
          },
          "metadata": {}
        }
      ]
    },
    {
      "cell_type": "code",
      "source": [
        "cat_cols.append('main_cat')"
      ],
      "metadata": {
        "execution": {
          "iopub.status.busy": "2022-12-07T16:21:04.857148Z",
          "iopub.execute_input": "2022-12-07T16:21:04.857530Z",
          "iopub.status.idle": "2022-12-07T16:21:04.863103Z",
          "shell.execute_reply.started": "2022-12-07T16:21:04.857487Z",
          "shell.execute_reply": "2022-12-07T16:21:04.862104Z"
        },
        "trusted": true,
        "id": "mebUoFA-NZ9O"
      },
      "execution_count": null,
      "outputs": []
    },
    {
      "cell_type": "code",
      "source": [
        "# let's make dummy variables based on 'price'\n",
        "dummies = pd.get_dummies(df['price'], prefix = df['price'].name)"
      ],
      "metadata": {
        "execution": {
          "iopub.status.busy": "2022-12-07T16:21:04.864594Z",
          "iopub.execute_input": "2022-12-07T16:21:04.864928Z",
          "iopub.status.idle": "2022-12-07T16:21:04.951100Z",
          "shell.execute_reply.started": "2022-12-07T16:21:04.864886Z",
          "shell.execute_reply": "2022-12-07T16:21:04.949979Z"
        },
        "trusted": true,
        "id": "ACbFxbeyNZ9O"
      },
      "execution_count": null,
      "outputs": []
    },
    {
      "cell_type": "code",
      "source": [
        "df.head(2)"
      ],
      "metadata": {
        "execution": {
          "iopub.status.busy": "2022-12-07T16:21:04.953008Z",
          "iopub.execute_input": "2022-12-07T16:21:04.953373Z",
          "iopub.status.idle": "2022-12-07T16:21:04.971189Z",
          "shell.execute_reply.started": "2022-12-07T16:21:04.953325Z",
          "shell.execute_reply": "2022-12-07T16:21:04.969788Z"
        },
        "trusted": true,
        "id": "MPP9EbnnNZ9O",
        "outputId": "e882c4c3-55a3-4847-9abf-d77262fbc775"
      },
      "execution_count": null,
      "outputs": [
        {
          "execution_count": 106,
          "output_type": "execute_result",
          "data": {
            "text/plain": "   overall  verified  unixReviewTime  vote  userid  itemid  rating  \\\n0        5         1               0     1  102179   37138       1   \n1        5         0               1     1  117314   37138       1   \n\n                                               title  main_cat price  \\\n0  Primal Palate Organic Spices Adobo Seasoning, ...         6   low   \n1  Primal Palate Organic Spices Adobo Seasoning, ...         6   low   \n\n   brand_kind  also_buy_numb  also_view_numb  image  \n0           0             85              54      1  \n1           0             85              54      1  ",
            "text/html": "<div>\n<style scoped>\n    .dataframe tbody tr th:only-of-type {\n        vertical-align: middle;\n    }\n\n    .dataframe tbody tr th {\n        vertical-align: top;\n    }\n\n    .dataframe thead th {\n        text-align: right;\n    }\n</style>\n<table border=\"1\" class=\"dataframe\">\n  <thead>\n    <tr style=\"text-align: right;\">\n      <th></th>\n      <th>overall</th>\n      <th>verified</th>\n      <th>unixReviewTime</th>\n      <th>vote</th>\n      <th>userid</th>\n      <th>itemid</th>\n      <th>rating</th>\n      <th>title</th>\n      <th>main_cat</th>\n      <th>price</th>\n      <th>brand_kind</th>\n      <th>also_buy_numb</th>\n      <th>also_view_numb</th>\n      <th>image</th>\n    </tr>\n  </thead>\n  <tbody>\n    <tr>\n      <th>0</th>\n      <td>5</td>\n      <td>1</td>\n      <td>0</td>\n      <td>1</td>\n      <td>102179</td>\n      <td>37138</td>\n      <td>1</td>\n      <td>Primal Palate Organic Spices Adobo Seasoning, ...</td>\n      <td>6</td>\n      <td>low</td>\n      <td>0</td>\n      <td>85</td>\n      <td>54</td>\n      <td>1</td>\n    </tr>\n    <tr>\n      <th>1</th>\n      <td>5</td>\n      <td>0</td>\n      <td>1</td>\n      <td>1</td>\n      <td>117314</td>\n      <td>37138</td>\n      <td>1</td>\n      <td>Primal Palate Organic Spices Adobo Seasoning, ...</td>\n      <td>6</td>\n      <td>low</td>\n      <td>0</td>\n      <td>85</td>\n      <td>54</td>\n      <td>1</td>\n    </tr>\n  </tbody>\n</table>\n</div>"
          },
          "metadata": {}
        }
      ]
    },
    {
      "cell_type": "code",
      "source": [
        "df = df.drop(df['price'].name, axis=1).join(dummies)"
      ],
      "metadata": {
        "execution": {
          "iopub.status.busy": "2022-12-07T16:21:04.973056Z",
          "iopub.execute_input": "2022-12-07T16:21:04.973481Z",
          "iopub.status.idle": "2022-12-07T16:21:05.078590Z",
          "shell.execute_reply.started": "2022-12-07T16:21:04.973399Z",
          "shell.execute_reply": "2022-12-07T16:21:05.077499Z"
        },
        "trusted": true,
        "id": "d-smV8YQNZ9O"
      },
      "execution_count": null,
      "outputs": []
    },
    {
      "cell_type": "code",
      "source": [
        "bin_cols.append('price_high')\n",
        "bin_cols.append('price_middle')\n",
        "bin_cols.append('price_low')"
      ],
      "metadata": {
        "execution": {
          "iopub.status.busy": "2022-12-07T16:21:05.080996Z",
          "iopub.execute_input": "2022-12-07T16:21:05.081369Z",
          "iopub.status.idle": "2022-12-07T16:21:05.087308Z",
          "shell.execute_reply.started": "2022-12-07T16:21:05.081327Z",
          "shell.execute_reply": "2022-12-07T16:21:05.085755Z"
        },
        "trusted": true,
        "id": "he-WiDMnNZ9O"
      },
      "execution_count": null,
      "outputs": []
    },
    {
      "cell_type": "code",
      "source": [
        "bin_cols"
      ],
      "metadata": {
        "execution": {
          "iopub.status.busy": "2022-12-07T16:21:05.089053Z",
          "iopub.execute_input": "2022-12-07T16:21:05.089474Z",
          "iopub.status.idle": "2022-12-07T16:21:05.099905Z",
          "shell.execute_reply.started": "2022-12-07T16:21:05.089427Z",
          "shell.execute_reply": "2022-12-07T16:21:05.098916Z"
        },
        "trusted": true,
        "id": "8txtOjDhNZ9P",
        "outputId": "dc37f49c-4fe4-4908-ce52-7ad9c28a2f0a"
      },
      "execution_count": null,
      "outputs": [
        {
          "execution_count": 109,
          "output_type": "execute_result",
          "data": {
            "text/plain": "['verified',\n 'rating',\n 'brand_kind',\n 'image',\n 'price_high',\n 'price_middle',\n 'price_low']"
          },
          "metadata": {}
        }
      ]
    },
    {
      "cell_type": "code",
      "source": [
        "df.head(3)"
      ],
      "metadata": {
        "execution": {
          "iopub.status.busy": "2022-12-07T16:21:05.101365Z",
          "iopub.execute_input": "2022-12-07T16:21:05.101909Z",
          "iopub.status.idle": "2022-12-07T16:21:05.121491Z",
          "shell.execute_reply.started": "2022-12-07T16:21:05.101838Z",
          "shell.execute_reply": "2022-12-07T16:21:05.120637Z"
        },
        "trusted": true,
        "id": "NN-iJFmkNZ9P",
        "outputId": "027ff6fc-a4d3-47c8-f06d-f0c6e3001a5c"
      },
      "execution_count": null,
      "outputs": [
        {
          "execution_count": 110,
          "output_type": "execute_result",
          "data": {
            "text/plain": "   overall  verified  unixReviewTime  vote  userid  itemid  rating  \\\n0        5         1               0     1  102179   37138       1   \n1        5         0               1     1  117314   37138       1   \n2        3         1               1     2  119505   37138       0   \n\n                                               title  main_cat  brand_kind  \\\n0  Primal Palate Organic Spices Adobo Seasoning, ...         6           0   \n1  Primal Palate Organic Spices Adobo Seasoning, ...         6           0   \n2  Primal Palate Organic Spices Adobo Seasoning, ...         6           0   \n\n   also_buy_numb  also_view_numb  image  price_high  price_low  price_middle  \n0             85              54      1           0          1             0  \n1             85              54      1           0          1             0  \n2             85              54      1           0          1             0  ",
            "text/html": "<div>\n<style scoped>\n    .dataframe tbody tr th:only-of-type {\n        vertical-align: middle;\n    }\n\n    .dataframe tbody tr th {\n        vertical-align: top;\n    }\n\n    .dataframe thead th {\n        text-align: right;\n    }\n</style>\n<table border=\"1\" class=\"dataframe\">\n  <thead>\n    <tr style=\"text-align: right;\">\n      <th></th>\n      <th>overall</th>\n      <th>verified</th>\n      <th>unixReviewTime</th>\n      <th>vote</th>\n      <th>userid</th>\n      <th>itemid</th>\n      <th>rating</th>\n      <th>title</th>\n      <th>main_cat</th>\n      <th>brand_kind</th>\n      <th>also_buy_numb</th>\n      <th>also_view_numb</th>\n      <th>image</th>\n      <th>price_high</th>\n      <th>price_low</th>\n      <th>price_middle</th>\n    </tr>\n  </thead>\n  <tbody>\n    <tr>\n      <th>0</th>\n      <td>5</td>\n      <td>1</td>\n      <td>0</td>\n      <td>1</td>\n      <td>102179</td>\n      <td>37138</td>\n      <td>1</td>\n      <td>Primal Palate Organic Spices Adobo Seasoning, ...</td>\n      <td>6</td>\n      <td>0</td>\n      <td>85</td>\n      <td>54</td>\n      <td>1</td>\n      <td>0</td>\n      <td>1</td>\n      <td>0</td>\n    </tr>\n    <tr>\n      <th>1</th>\n      <td>5</td>\n      <td>0</td>\n      <td>1</td>\n      <td>1</td>\n      <td>117314</td>\n      <td>37138</td>\n      <td>1</td>\n      <td>Primal Palate Organic Spices Adobo Seasoning, ...</td>\n      <td>6</td>\n      <td>0</td>\n      <td>85</td>\n      <td>54</td>\n      <td>1</td>\n      <td>0</td>\n      <td>1</td>\n      <td>0</td>\n    </tr>\n    <tr>\n      <th>2</th>\n      <td>3</td>\n      <td>1</td>\n      <td>1</td>\n      <td>2</td>\n      <td>119505</td>\n      <td>37138</td>\n      <td>0</td>\n      <td>Primal Palate Organic Spices Adobo Seasoning, ...</td>\n      <td>6</td>\n      <td>0</td>\n      <td>85</td>\n      <td>54</td>\n      <td>1</td>\n      <td>0</td>\n      <td>1</td>\n      <td>0</td>\n    </tr>\n  </tbody>\n</table>\n</div>"
          },
          "metadata": {}
        }
      ]
    },
    {
      "cell_type": "code",
      "source": [
        "# correlation matrix\n",
        "plt.figure(figsize=(10,5))\n",
        "sns.heatmap(df.corr(), annot=True)\n",
        "# it is logical to use this matrix for numerical features, but it is also obvious\n",
        "# correlation between overall and rating, which corresponds to the task\n",
        "# consider removing one of the features"
      ],
      "metadata": {
        "execution": {
          "iopub.status.busy": "2022-12-07T16:21:05.123084Z",
          "iopub.execute_input": "2022-12-07T16:21:05.124018Z",
          "iopub.status.idle": "2022-12-07T16:21:07.595570Z",
          "shell.execute_reply.started": "2022-12-07T16:21:05.123974Z",
          "shell.execute_reply": "2022-12-07T16:21:07.594410Z"
        },
        "trusted": true,
        "id": "AuJPnePNNZ9P",
        "outputId": "b2f902bd-cdc4-4068-bb03-84a64f3d5389"
      },
      "execution_count": null,
      "outputs": [
        {
          "execution_count": 111,
          "output_type": "execute_result",
          "data": {
            "text/plain": "<AxesSubplot:>"
          },
          "metadata": {}
        },
        {
          "output_type": "display_data",
          "data": {
            "text/plain": "<Figure size 720x360 with 2 Axes>",
            "image/png": "[encoded data removed]"
          },
          "metadata": {
            "needs_background": "light"
          }
        }
      ]
    },
    {
      "cell_type": "code",
      "source": [
        "# to get more information, it is worth building a boxplot of dependencies on the overall or rating\n",
        "for col in ['unixReviewTime', 'userid', 'itemid', 'price_high', 'price_middle', 'price_low']:\n",
        "    plt.title(f\"Distribution {col}\")\n",
        "    sns.boxplot(x='rating', y=col, data=df)\n",
        "    plt.show()"
      ],
      "metadata": {
        "execution": {
          "iopub.status.busy": "2022-12-07T16:21:07.597043Z",
          "iopub.execute_input": "2022-12-07T16:21:07.597332Z",
          "iopub.status.idle": "2022-12-07T16:21:09.637112Z",
          "shell.execute_reply.started": "2022-12-07T16:21:07.597299Z",
          "shell.execute_reply": "2022-12-07T16:21:09.635825Z"
        },
        "trusted": true,
        "id": "AmsE3Rb-NZ9P",
        "outputId": "0052db92-d24d-480f-c8b8-3abeae1856d2"
      },
      "execution_count": null,
      "outputs": [
        {
          "output_type": "display_data",
          "data": {
            "text/plain": "<Figure size 432x288 with 1 Axes>",
            "image/png": "[encoded data removed]"
          },
          "metadata": {
            "needs_background": "light"
          }
        },
        {
          "output_type": "display_data",
          "data": {
            "text/plain": "<Figure size 432x288 with 1 Axes>",
            "image/png": "[encoded data removed]"
          },
          "metadata": {
            "needs_background": "light"
          }
        },
        {
          "output_type": "display_data",
          "data": {
            "text/plain": "<Figure size 432x288 with 1 Axes>",
            "image/png": "[encoded data removed]"
          },
          "metadata": {
            "needs_background": "light"
          }
        },
        {
          "output_type": "display_data",
          "data": {
            "text/plain": "<Figure size 432x288 with 1 Axes>",
            "image/png": "[encoded data removed]"
          },
          "metadata": {
            "needs_background": "light"
          }
        },
        {
          "output_type": "display_data",
          "data": {
            "text/plain": "<Figure size 432x288 with 1 Axes>",
            "image/png": "[encoded data removed]"
          },
          "metadata": {
            "needs_background": "light"
          }
        },
        {
          "output_type": "display_data",
          "data": {
            "text/plain": "<Figure size 432x288 with 1 Axes>",
            "image/png": "[encoded data removed]"
          },
          "metadata": {
            "needs_background": "light"
          }
        }
      ]
    },
    {
      "cell_type": "markdown",
      "source": [
        "The distributions are quite expected. An interesting fact is that products with a high price have a positive rating."
      ],
      "metadata": {
        "id": "4c0-RxXqNZ9P"
      }
    },
    {
      "cell_type": "code",
      "source": [
        "# Check the significance of binary variables:\n",
        "imp_bin = Series(mutual_info_classif(df[bin_cols], df['rating'],\n",
        "                                     discrete_features=True), index=bin_cols)\n",
        "imp_bin.sort_values(inplace=True)\n",
        "imp_bin.plot(kind='barh')"
      ],
      "metadata": {
        "execution": {
          "iopub.status.busy": "2022-12-07T16:21:09.638413Z",
          "iopub.execute_input": "2022-12-07T16:21:09.638700Z",
          "iopub.status.idle": "2022-12-07T16:21:10.925841Z",
          "shell.execute_reply.started": "2022-12-07T16:21:09.638668Z",
          "shell.execute_reply": "2022-12-07T16:21:10.925028Z"
        },
        "trusted": true,
        "id": "RTTqTbd1NZ9P",
        "outputId": "75004c69-f3df-428a-9363-d9dc2e8508f8"
      },
      "execution_count": null,
      "outputs": [
        {
          "execution_count": 113,
          "output_type": "execute_result",
          "data": {
            "text/plain": "<AxesSubplot:>"
          },
          "metadata": {}
        },
        {
          "output_type": "display_data",
          "data": {
            "text/plain": "<Figure size 432x288 with 1 Axes>",
            "image/png": "[encoded data removed]"
          },
          "metadata": {
            "needs_background": "light"
          }
        }
      ]
    },
    {
      "cell_type": "markdown",
      "source": [
        "Obviously, the price_low feature is of very little importance. Worth considering removal"
      ],
      "metadata": {
        "id": "KF8fQtSENZ9P"
      }
    },
    {
      "cell_type": "code",
      "source": [
        "# Check the significance of categorical variables:\n",
        "imp_cat = Series(mutual_info_classif(df[cat_cols], df['rating'],\n",
        "                                     discrete_features=True), index=cat_cols)\n",
        "imp_cat.sort_values(inplace=True)\n",
        "imp_cat.plot(kind='barh')"
      ],
      "metadata": {
        "execution": {
          "iopub.status.busy": "2022-12-07T16:21:10.927357Z",
          "iopub.execute_input": "2022-12-07T16:21:10.928322Z",
          "iopub.status.idle": "2022-12-07T16:21:11.713174Z",
          "shell.execute_reply.started": "2022-12-07T16:21:10.928267Z",
          "shell.execute_reply": "2022-12-07T16:21:11.712248Z"
        },
        "trusted": true,
        "id": "SzwQ8lCKNZ9Q",
        "outputId": "b0813f2c-a060-4af0-b06b-8567bbf990e5"
      },
      "execution_count": null,
      "outputs": [
        {
          "execution_count": 114,
          "output_type": "execute_result",
          "data": {
            "text/plain": "<AxesSubplot:>"
          },
          "metadata": {}
        },
        {
          "output_type": "display_data",
          "data": {
            "text/plain": "<Figure size 432x288 with 1 Axes>",
            "image/png": "[encoded data removed]"
          },
          "metadata": {
            "needs_background": "light"
          }
        }
      ]
    },
    {
      "cell_type": "markdown",
      "source": [
        "On this plot, 'main_cat' feature is not significant. We have to admit that the graphical representation of our data is not very informative. Let's consider other methods."
      ],
      "metadata": {
        "id": "Z3RvTAaDNZ9Q"
      }
    },
    {
      "cell_type": "code",
      "source": [
        "# Apply Student method\n",
        "from itertools import combinations\n",
        "from scipy.stats import ttest_ind"
      ],
      "metadata": {
        "execution": {
          "iopub.status.busy": "2022-12-07T16:21:11.714460Z",
          "iopub.execute_input": "2022-12-07T16:21:11.714695Z",
          "iopub.status.idle": "2022-12-07T16:21:11.720644Z",
          "shell.execute_reply.started": "2022-12-07T16:21:11.714668Z",
          "shell.execute_reply": "2022-12-07T16:21:11.719555Z"
        },
        "trusted": true,
        "id": "CTkrCKM9NZ9Q"
      },
      "execution_count": null,
      "outputs": []
    },
    {
      "cell_type": "code",
      "source": [
        "def get_stat_dif(column):\n",
        "    cols = df.loc[:, column].value_counts().index[:10]\n",
        "    combinations_all = list(combinations(cols, 2))\n",
        "    for comb in combinations_all:\n",
        "        if ttest_ind(df.loc[df.loc[:, column] == comb[0], 'rating'], \n",
        "                        df.loc[df.loc[:, column] == comb[1], 'rating']).pvalue \\\n",
        "            <= 0.05/len(combinations_all): \n",
        "            print('Statistically significant differences were found for the column', column)\n",
        "            break"
      ],
      "metadata": {
        "execution": {
          "iopub.status.busy": "2022-12-07T16:21:11.722205Z",
          "iopub.execute_input": "2022-12-07T16:21:11.723121Z",
          "iopub.status.idle": "2022-12-07T16:21:11.731857Z",
          "shell.execute_reply.started": "2022-12-07T16:21:11.723080Z",
          "shell.execute_reply": "2022-12-07T16:21:11.730942Z"
        },
        "trusted": true,
        "id": "qUKDwpApNZ9Q"
      },
      "execution_count": null,
      "outputs": []
    },
    {
      "cell_type": "code",
      "source": [
        "for col in bin_cols:\n",
        "    get_stat_dif(col)"
      ],
      "metadata": {
        "code_folding": [],
        "execution": {
          "iopub.status.busy": "2022-12-07T16:21:11.733255Z",
          "iopub.execute_input": "2022-12-07T16:21:11.734213Z",
          "iopub.status.idle": "2022-12-07T16:21:11.939615Z",
          "shell.execute_reply.started": "2022-12-07T16:21:11.734173Z",
          "shell.execute_reply": "2022-12-07T16:21:11.938439Z"
        },
        "trusted": true,
        "id": "nmdycCktNZ9Q",
        "outputId": "6d3e7e41-71f5-4113-d6dd-e4723d0dd6b2"
      },
      "execution_count": null,
      "outputs": [
        {
          "name": "stdout",
          "text": "Statistically significant differences were found for the column verified\nStatistically significant differences were found for the column rating\nStatistically significant differences were found for the column brand_kind\nStatistically significant differences were found for the column image\nStatistically significant differences were found for the column price_high\nStatistically significant differences were found for the column price_middle\nStatistically significant differences were found for the column price_low\n",
          "output_type": "stream"
        }
      ]
    },
    {
      "cell_type": "markdown",
      "source": [
        "It looks like all features can be helpful."
      ],
      "metadata": {
        "id": "taht3jr2NZ9Q"
      }
    },
    {
      "cell_type": "code",
      "source": [
        "# drop 'overall' due to its high correlation\n",
        "df = df.drop(['overall'], axis = 1)"
      ],
      "metadata": {
        "execution": {
          "iopub.status.busy": "2022-12-07T16:21:11.941642Z",
          "iopub.execute_input": "2022-12-07T16:21:11.942054Z",
          "iopub.status.idle": "2022-12-07T16:21:12.001111Z",
          "shell.execute_reply.started": "2022-12-07T16:21:11.942001Z",
          "shell.execute_reply": "2022-12-07T16:21:12.000012Z"
        },
        "trusted": true,
        "id": "NOU7gXRWNZ9Q"
      },
      "execution_count": null,
      "outputs": []
    },
    {
      "cell_type": "markdown",
      "source": [
        "# Building model"
      ],
      "metadata": {
        "id": "xb6kcyRXNZ9R"
      }
    },
    {
      "cell_type": "markdown",
      "source": [
        "* Simple model"
      ],
      "metadata": {
        "id": "N1-tiZRZNZ9R"
      }
    },
    {
      "cell_type": "code",
      "source": [
        "import scipy.sparse as sparse\n",
        "from sklearn import preprocessing\n",
        "from lightfm import LightFM\n",
        "from lightfm.cross_validation import random_train_test_split\n",
        "from lightfm.evaluation import auc_score, precision_at_k, recall_at_k\n",
        "import sklearn\n",
        "from sklearn.model_selection import train_test_split\n",
        "\n",
        "import scipy.sparse as sparse"
      ],
      "metadata": {
        "execution": {
          "iopub.status.busy": "2022-12-07T16:21:12.002714Z",
          "iopub.execute_input": "2022-12-07T16:21:12.002982Z",
          "iopub.status.idle": "2022-12-07T16:21:12.026528Z",
          "shell.execute_reply.started": "2022-12-07T16:21:12.002951Z",
          "shell.execute_reply": "2022-12-07T16:21:12.025431Z"
        },
        "trusted": true,
        "id": "WX8UKq4ZNZ9R"
      },
      "execution_count": null,
      "outputs": []
    },
    {
      "cell_type": "code",
      "source": [
        "train_data, test_data = train_test_split(train,random_state=32, shuffle=True)"
      ],
      "metadata": {
        "execution": {
          "iopub.status.busy": "2022-12-07T16:21:12.028077Z",
          "iopub.execute_input": "2022-12-07T16:21:12.028775Z",
          "iopub.status.idle": "2022-12-07T16:21:12.929074Z",
          "shell.execute_reply.started": "2022-12-07T16:21:12.028724Z",
          "shell.execute_reply": "2022-12-07T16:21:12.928022Z"
        },
        "trusted": true,
        "id": "W7_sDNR4NZ9R"
      },
      "execution_count": null,
      "outputs": []
    },
    {
      "cell_type": "code",
      "source": [
        "ratings_coo = sparse.coo_matrix((train_data['rating'].astype(int),\n",
        "                                 (train_data['userid'],\n",
        "                                  train_data['itemid'])))"
      ],
      "metadata": {
        "execution": {
          "iopub.status.busy": "2022-12-07T16:21:12.930388Z",
          "iopub.execute_input": "2022-12-07T16:21:12.930620Z",
          "iopub.status.idle": "2022-12-07T16:21:12.947510Z",
          "shell.execute_reply.started": "2022-12-07T16:21:12.930594Z",
          "shell.execute_reply": "2022-12-07T16:21:12.946330Z"
        },
        "trusted": true,
        "id": "dpemfNM1NZ9R"
      },
      "execution_count": null,
      "outputs": []
    },
    {
      "cell_type": "code",
      "source": [
        "NUM_THREADS = 4 #number of threads\n",
        "NUM_COMPONENTS = 160 #number of vector parameters\n",
        "NUM_EPOCHS = 20 #number of epochs\n",
        "RANDOM_STATE = 32\n",
        "\n",
        "\n",
        "model = LightFM(learning_rate=0.09, loss='logistic',\n",
        "                no_components=NUM_COMPONENTS, random_state = RANDOM_STATE)\n",
        "model = model.fit(ratings_coo, epochs=NUM_EPOCHS, \n",
        "                  num_threads=NUM_THREADS)"
      ],
      "metadata": {
        "execution": {
          "iopub.status.busy": "2022-12-07T16:21:12.949550Z",
          "iopub.execute_input": "2022-12-07T16:21:12.949914Z",
          "iopub.status.idle": "2022-12-07T16:21:46.580740Z",
          "shell.execute_reply.started": "2022-12-07T16:21:12.949852Z",
          "shell.execute_reply": "2022-12-07T16:21:46.579749Z"
        },
        "trusted": true,
        "id": "rcMaIK8WNZ9R"
      },
      "execution_count": null,
      "outputs": []
    },
    {
      "cell_type": "code",
      "source": [
        "#getting predictions:\n",
        "preds = model.predict(test_data.userid.values,\n",
        "                      test_data.itemid.values)"
      ],
      "metadata": {
        "execution": {
          "iopub.status.busy": "2022-12-07T16:21:46.582997Z",
          "iopub.execute_input": "2022-12-07T16:21:46.583696Z",
          "iopub.status.idle": "2022-12-07T16:21:46.723932Z",
          "shell.execute_reply.started": "2022-12-07T16:21:46.583663Z",
          "shell.execute_reply": "2022-12-07T16:21:46.723195Z"
        },
        "trusted": true,
        "id": "rK3C6kfXNZ9R"
      },
      "execution_count": null,
      "outputs": []
    },
    {
      "cell_type": "code",
      "source": [
        "# roc_auc_score metric\n",
        "sklearn.metrics.roc_auc_score(test_data.rating,preds)"
      ],
      "metadata": {
        "execution": {
          "iopub.status.busy": "2022-12-07T16:21:46.725532Z",
          "iopub.execute_input": "2022-12-07T16:21:46.725920Z",
          "iopub.status.idle": "2022-12-07T16:21:46.822861Z",
          "shell.execute_reply.started": "2022-12-07T16:21:46.725890Z",
          "shell.execute_reply": "2022-12-07T16:21:46.821554Z"
        },
        "trusted": true,
        "id": "dylli8ohNZ9R",
        "outputId": "fdd49680-b67b-4613-9354-769591e2042d"
      },
      "execution_count": null,
      "outputs": [
        {
          "execution_count": 124,
          "output_type": "execute_result",
          "data": {
            "text/plain": "0.7313627990836471"
          },
          "metadata": {}
        }
      ]
    },
    {
      "cell_type": "code",
      "source": [
        "#building ROC AUС\n",
        "roc_auc_curve(test_data.rating,preds)"
      ],
      "metadata": {
        "execution": {
          "iopub.status.busy": "2022-12-07T16:21:46.824250Z",
          "iopub.execute_input": "2022-12-07T16:21:46.824523Z",
          "iopub.status.idle": "2022-12-07T16:21:47.219410Z",
          "shell.execute_reply.started": "2022-12-07T16:21:46.824491Z",
          "shell.execute_reply": "2022-12-07T16:21:47.218411Z"
        },
        "trusted": true,
        "id": "0AQvkV-lNZ9R",
        "outputId": "fe5cc43d-ad79-48fb-c99a-2759932f04d1"
      },
      "execution_count": null,
      "outputs": [
        {
          "output_type": "display_data",
          "data": {
            "text/plain": "<Figure size 432x288 with 1 Axes>",
            "image/png": "[encoded data removed]"
          },
          "metadata": {
            "needs_background": "light"
          }
        }
      ]
    },
    {
      "cell_type": "code",
      "source": [
        "normalized_preds = (preds - preds.min())/(preds - preds.min()).max()"
      ],
      "metadata": {
        "execution": {
          "iopub.status.busy": "2022-12-07T16:21:47.221139Z",
          "iopub.execute_input": "2022-12-07T16:21:47.221586Z",
          "iopub.status.idle": "2022-12-07T16:21:47.228269Z",
          "shell.execute_reply.started": "2022-12-07T16:21:47.221533Z",
          "shell.execute_reply": "2022-12-07T16:21:47.227051Z"
        },
        "trusted": true,
        "id": "RlfQZRuxNZ9S"
      },
      "execution_count": null,
      "outputs": []
    },
    {
      "cell_type": "code",
      "source": [
        "preds.min(), preds.max()"
      ],
      "metadata": {
        "execution": {
          "iopub.status.busy": "2022-12-07T16:21:47.230411Z",
          "iopub.execute_input": "2022-12-07T16:21:47.230836Z",
          "iopub.status.idle": "2022-12-07T16:21:47.242552Z",
          "shell.execute_reply.started": "2022-12-07T16:21:47.230775Z",
          "shell.execute_reply": "2022-12-07T16:21:47.241469Z"
        },
        "trusted": true,
        "id": "Hp3cLLhqNZ9S",
        "outputId": "931823a9-53e2-4d21-8c15-3d802ea9a251"
      },
      "execution_count": null,
      "outputs": [
        {
          "execution_count": 127,
          "output_type": "execute_result",
          "data": {
            "text/plain": "(-34.290783, 33.519196)"
          },
          "metadata": {}
        }
      ]
    },
    {
      "cell_type": "code",
      "source": [
        "normalized_preds.min(), normalized_preds.max()\n"
      ],
      "metadata": {
        "execution": {
          "iopub.status.busy": "2022-12-07T16:21:47.244108Z",
          "iopub.execute_input": "2022-12-07T16:21:47.244564Z",
          "iopub.status.idle": "2022-12-07T16:21:47.254586Z",
          "shell.execute_reply.started": "2022-12-07T16:21:47.244524Z",
          "shell.execute_reply": "2022-12-07T16:21:47.253767Z"
        },
        "trusted": true,
        "id": "du7uvpJUNZ9S",
        "outputId": "d9042a8c-f406-4f23-8b54-beb8d0dcbab4"
      },
      "execution_count": null,
      "outputs": [
        {
          "execution_count": 128,
          "output_type": "execute_result",
          "data": {
            "text/plain": "(0.0, 1.0)"
          },
          "metadata": {}
        }
      ]
    },
    {
      "cell_type": "markdown",
      "source": [
        "Let's male an experiment by training on the train without dividing it and predict the rating on test"
      ],
      "metadata": {
        "id": "qhjl-BF8NZ9S"
      }
    },
    {
      "cell_type": "code",
      "source": [
        "ratings_coo1 = sparse.coo_matrix((train['rating'].astype(int),\n",
        "                                 (train['userid'],\n",
        "                                  train['itemid'])))\n",
        "model = LightFM(learning_rate=0.09, loss='logistic',\n",
        "                no_components=NUM_COMPONENTS, random_state = RANDOM_STATE)\n",
        "\n",
        "model1 = model.fit(ratings_coo1, epochs=NUM_EPOCHS, \n",
        "                  num_threads=NUM_THREADS)\n",
        "\n",
        "#getting predictions:\n",
        "preds1 = model1.predict(test.userid.values,\n",
        "                      test.itemid.values)"
      ],
      "metadata": {
        "execution": {
          "iopub.status.busy": "2022-12-07T16:21:47.255904Z",
          "iopub.execute_input": "2022-12-07T16:21:47.256184Z",
          "iopub.status.idle": "2022-12-07T16:22:31.094737Z",
          "shell.execute_reply.started": "2022-12-07T16:21:47.256153Z",
          "shell.execute_reply": "2022-12-07T16:22:31.093717Z"
        },
        "trusted": true,
        "id": "Tzj6p7ZLNZ9S"
      },
      "execution_count": null,
      "outputs": []
    },
    {
      "cell_type": "code",
      "source": [
        "normalized_preds1 = (preds1 - preds1.min())/(preds1 - preds1.min()).max()"
      ],
      "metadata": {
        "execution": {
          "iopub.status.busy": "2022-12-07T16:22:31.096079Z",
          "iopub.execute_input": "2022-12-07T16:22:31.096335Z",
          "iopub.status.idle": "2022-12-07T16:22:31.102293Z",
          "shell.execute_reply.started": "2022-12-07T16:22:31.096305Z",
          "shell.execute_reply": "2022-12-07T16:22:31.101412Z"
        },
        "trusted": true,
        "id": "ZSd3AWNxNZ9S"
      },
      "execution_count": null,
      "outputs": []
    },
    {
      "cell_type": "code",
      "source": [
        "preds1.min(), preds1.max()"
      ],
      "metadata": {
        "execution": {
          "iopub.status.busy": "2022-12-07T16:22:31.103847Z",
          "iopub.execute_input": "2022-12-07T16:22:31.104090Z",
          "iopub.status.idle": "2022-12-07T16:22:31.116385Z",
          "shell.execute_reply.started": "2022-12-07T16:22:31.104063Z",
          "shell.execute_reply": "2022-12-07T16:22:31.115246Z"
        },
        "trusted": true,
        "id": "MmIZ86f8NZ9S",
        "outputId": "ef223467-6f53-4579-bcd2-7e7f3884cdfe"
      },
      "execution_count": null,
      "outputs": [
        {
          "execution_count": 131,
          "output_type": "execute_result",
          "data": {
            "text/plain": "(-35.907223, 30.635885)"
          },
          "metadata": {}
        }
      ]
    },
    {
      "cell_type": "code",
      "source": [
        "normalized_preds1.min(), normalized_preds1.max()"
      ],
      "metadata": {
        "execution": {
          "iopub.status.busy": "2022-12-07T16:22:31.118167Z",
          "iopub.execute_input": "2022-12-07T16:22:31.118561Z",
          "iopub.status.idle": "2022-12-07T16:22:31.130850Z",
          "shell.execute_reply.started": "2022-12-07T16:22:31.118516Z",
          "shell.execute_reply": "2022-12-07T16:22:31.129840Z"
        },
        "trusted": true,
        "id": "80EXXr7QNZ9S",
        "outputId": "b7c1ed86-be8f-42c3-c1a3-6bf5706103f0"
      },
      "execution_count": null,
      "outputs": [
        {
          "execution_count": 132,
          "output_type": "execute_result",
          "data": {
            "text/plain": "(0.0, 1.0)"
          },
          "metadata": {}
        }
      ]
    },
    {
      "cell_type": "code",
      "source": [
        "test['pred_rating'] = normalized_preds1\n",
        "test"
      ],
      "metadata": {
        "execution": {
          "iopub.status.busy": "2022-12-07T16:22:31.132446Z",
          "iopub.execute_input": "2022-12-07T16:22:31.132822Z",
          "iopub.status.idle": "2022-12-07T16:22:31.162442Z",
          "shell.execute_reply.started": "2022-12-07T16:22:31.132778Z",
          "shell.execute_reply": "2022-12-07T16:22:31.161617Z"
        },
        "trusted": true,
        "id": "7d0zJbauNZ9T",
        "outputId": "0fe099e4-540d-43d4-aa27-0035a2f8c590"
      },
      "execution_count": null,
      "outputs": [
        {
          "execution_count": 133,
          "output_type": "execute_result",
          "data": {
            "text/plain": "        verified   reviewTime        asin           reviewerName  \\\n0           True   10 1, 2016  B001E5E3X0              Rudys Mom   \n1           True  06 29, 2014  B005BYXX5E                  pharg   \n2           True  05 19, 2015  B0052OK6OO                 dhalex   \n3           True   10 5, 2014  B003SO8HGE                Vanessa   \n4           True  11 11, 2013  B003XUJ564              R Mohrman   \n...          ...          ...         ...                    ...   \n285960      True  01 17, 2016  B00FLD3X28               A. Banks   \n285961      True  08 22, 2015  B0078DQ85S             HighEnergy   \n285962      True  09 21, 2017  B000FZVLFS            Sam Jackson   \n285963      True  03 27, 2018  B001PB801Y  Louis J. Dezseran Sr.   \n285964      True  10 18, 2015  B008X6KE0E                    JRG   \n\n        unixReviewTime vote  \\\n0           1475280000  NaN   \n1           1404000000    2   \n2           1431993600  NaN   \n3           1412467200  NaN   \n4           1384128000    3   \n...                ...  ...   \n285960      1452988800  NaN   \n285961      1440201600  NaN   \n285962      1505952000  NaN   \n285963      1522108800  NaN   \n285964      1445126400  NaN   \n\n                                                    style image  userid  \\\n0                                                     NaN   NaN   68877   \n1                                                     NaN   NaN   50442   \n2                                                     NaN   NaN   64349   \n3                              {'Flavor:': ' Sweet Rose'}   NaN   26206   \n4       {'Size:': ' 15 Ounce (Pack of 12)', 'Flavor:':...   NaN   59366   \n...                                                   ...   ...     ...   \n285960                              {'Size:': ' 1 Pound'}   NaN     294   \n285961                 {'Flavor:': ' Cinnamon & Currant'}   NaN  119653   \n285962                     {'Flavor:': ' Espresso Forte'}   NaN   54673   \n285963                                  {'Size:': ' 5lb'}   NaN   16569   \n285964                                                NaN   NaN   56489   \n\n        itemid      Id  pred_rating  \n0         7506       0     0.570032  \n1        15530       1     0.560023  \n2        15049       2     0.546191  \n3        11957       3     0.546473  \n4        12173       4     0.566829  \n...        ...     ...          ...  \n285960   25601  285960     0.575025  \n285961   18204  285961     0.475498  \n285962    2287  285962     0.559583  \n285963    9343  285963     0.562165  \n285964   19483  285964     0.582916  \n\n[285965 rows x 12 columns]",
            "text/html": "<div>\n<style scoped>\n    .dataframe tbody tr th:only-of-type {\n        vertical-align: middle;\n    }\n\n    .dataframe tbody tr th {\n        vertical-align: top;\n    }\n\n    .dataframe thead th {\n        text-align: right;\n    }\n</style>\n<table border=\"1\" class=\"dataframe\">\n  <thead>\n    <tr style=\"text-align: right;\">\n      <th></th>\n      <th>verified</th>\n      <th>reviewTime</th>\n      <th>asin</th>\n      <th>reviewerName</th>\n      <th>unixReviewTime</th>\n      <th>vote</th>\n      <th>style</th>\n      <th>image</th>\n      <th>userid</th>\n      <th>itemid</th>\n      <th>Id</th>\n      <th>pred_rating</th>\n    </tr>\n  </thead>\n  <tbody>\n    <tr>\n      <th>0</th>\n      <td>True</td>\n      <td>10 1, 2016</td>\n      <td>B001E5E3X0</td>\n      <td>Rudys Mom</td>\n      <td>1475280000</td>\n      <td>NaN</td>\n      <td>NaN</td>\n      <td>NaN</td>\n      <td>68877</td>\n      <td>7506</td>\n      <td>0</td>\n      <td>0.570032</td>\n    </tr>\n    <tr>\n      <th>1</th>\n      <td>True</td>\n      <td>06 29, 2014</td>\n      <td>B005BYXX5E</td>\n      <td>pharg</td>\n      <td>1404000000</td>\n      <td>2</td>\n      <td>NaN</td>\n      <td>NaN</td>\n      <td>50442</td>\n      <td>15530</td>\n      <td>1</td>\n      <td>0.560023</td>\n    </tr>\n    <tr>\n      <th>2</th>\n      <td>True</td>\n      <td>05 19, 2015</td>\n      <td>B0052OK6OO</td>\n      <td>dhalex</td>\n      <td>1431993600</td>\n      <td>NaN</td>\n      <td>NaN</td>\n      <td>NaN</td>\n      <td>64349</td>\n      <td>15049</td>\n      <td>2</td>\n      <td>0.546191</td>\n    </tr>\n    <tr>\n      <th>3</th>\n      <td>True</td>\n      <td>10 5, 2014</td>\n      <td>B003SO8HGE</td>\n      <td>Vanessa</td>\n      <td>1412467200</td>\n      <td>NaN</td>\n      <td>{'Flavor:': ' Sweet Rose'}</td>\n      <td>NaN</td>\n      <td>26206</td>\n      <td>11957</td>\n      <td>3</td>\n      <td>0.546473</td>\n    </tr>\n    <tr>\n      <th>4</th>\n      <td>True</td>\n      <td>11 11, 2013</td>\n      <td>B003XUJ564</td>\n      <td>R Mohrman</td>\n      <td>1384128000</td>\n      <td>3</td>\n      <td>{'Size:': ' 15 Ounce (Pack of 12)', 'Flavor:':...</td>\n      <td>NaN</td>\n      <td>59366</td>\n      <td>12173</td>\n      <td>4</td>\n      <td>0.566829</td>\n    </tr>\n    <tr>\n      <th>...</th>\n      <td>...</td>\n      <td>...</td>\n      <td>...</td>\n      <td>...</td>\n      <td>...</td>\n      <td>...</td>\n      <td>...</td>\n      <td>...</td>\n      <td>...</td>\n      <td>...</td>\n      <td>...</td>\n      <td>...</td>\n    </tr>\n    <tr>\n      <th>285960</th>\n      <td>True</td>\n      <td>01 17, 2016</td>\n      <td>B00FLD3X28</td>\n      <td>A. Banks</td>\n      <td>1452988800</td>\n      <td>NaN</td>\n      <td>{'Size:': ' 1 Pound'}</td>\n      <td>NaN</td>\n      <td>294</td>\n      <td>25601</td>\n      <td>285960</td>\n      <td>0.575025</td>\n    </tr>\n    <tr>\n      <th>285961</th>\n      <td>True</td>\n      <td>08 22, 2015</td>\n      <td>B0078DQ85S</td>\n      <td>HighEnergy</td>\n      <td>1440201600</td>\n      <td>NaN</td>\n      <td>{'Flavor:': ' Cinnamon &amp; Currant'}</td>\n      <td>NaN</td>\n      <td>119653</td>\n      <td>18204</td>\n      <td>285961</td>\n      <td>0.475498</td>\n    </tr>\n    <tr>\n      <th>285962</th>\n      <td>True</td>\n      <td>09 21, 2017</td>\n      <td>B000FZVLFS</td>\n      <td>Sam Jackson</td>\n      <td>1505952000</td>\n      <td>NaN</td>\n      <td>{'Flavor:': ' Espresso Forte'}</td>\n      <td>NaN</td>\n      <td>54673</td>\n      <td>2287</td>\n      <td>285962</td>\n      <td>0.559583</td>\n    </tr>\n    <tr>\n      <th>285963</th>\n      <td>True</td>\n      <td>03 27, 2018</td>\n      <td>B001PB801Y</td>\n      <td>Louis J. Dezseran Sr.</td>\n      <td>1522108800</td>\n      <td>NaN</td>\n      <td>{'Size:': ' 5lb'}</td>\n      <td>NaN</td>\n      <td>16569</td>\n      <td>9343</td>\n      <td>285963</td>\n      <td>0.562165</td>\n    </tr>\n    <tr>\n      <th>285964</th>\n      <td>True</td>\n      <td>10 18, 2015</td>\n      <td>B008X6KE0E</td>\n      <td>JRG</td>\n      <td>1445126400</td>\n      <td>NaN</td>\n      <td>NaN</td>\n      <td>NaN</td>\n      <td>56489</td>\n      <td>19483</td>\n      <td>285964</td>\n      <td>0.582916</td>\n    </tr>\n  </tbody>\n</table>\n<p>285965 rows × 12 columns</p>\n</div>"
          },
          "metadata": {}
        }
      ]
    },
    {
      "cell_type": "markdown",
      "source": [
        "Now let's train and predict on the cleaned data"
      ],
      "metadata": {
        "id": "Sz3yDRwuNZ9T"
      }
    },
    {
      "cell_type": "code",
      "source": [
        "train_data, test_data = train_test_split(df,random_state=32, shuffle=True)\n",
        "ratings_coo2 = sparse.coo_matrix((train_data['rating'].astype(int),\n",
        "                                 (train_data['userid'],\n",
        "                                  train_data['itemid'])))\n",
        "\n",
        "model = LightFM(learning_rate=0.1, loss='logistic',\n",
        "                no_components=NUM_COMPONENTS, random_state = RANDOM_STATE)\n",
        "model2 = model.fit(ratings_coo2, epochs=NUM_EPOCHS, \n",
        "                  num_threads=NUM_THREADS)"
      ],
      "metadata": {
        "execution": {
          "iopub.status.busy": "2022-12-07T16:22:31.164122Z",
          "iopub.execute_input": "2022-12-07T16:22:31.164402Z",
          "iopub.status.idle": "2022-12-07T16:23:05.381386Z",
          "shell.execute_reply.started": "2022-12-07T16:22:31.164359Z",
          "shell.execute_reply": "2022-12-07T16:23:05.380473Z"
        },
        "trusted": true,
        "id": "QZf_6AJnNZ9T"
      },
      "execution_count": null,
      "outputs": []
    },
    {
      "cell_type": "code",
      "source": [
        "#getting predictions:\n",
        "preds2 = model2.predict(test_data.userid.values,\n",
        "                      test_data.itemid.values)"
      ],
      "metadata": {
        "execution": {
          "iopub.status.busy": "2022-12-07T16:23:05.383141Z",
          "iopub.execute_input": "2022-12-07T16:23:05.384051Z",
          "iopub.status.idle": "2022-12-07T16:23:05.526518Z",
          "shell.execute_reply.started": "2022-12-07T16:23:05.384014Z",
          "shell.execute_reply": "2022-12-07T16:23:05.525302Z"
        },
        "trusted": true,
        "id": "WeQ-parmNZ9T"
      },
      "execution_count": null,
      "outputs": []
    },
    {
      "cell_type": "code",
      "source": [
        "# roc_auc_score metric\n",
        "sklearn.metrics.roc_auc_score(test_data.rating,preds2)"
      ],
      "metadata": {
        "execution": {
          "iopub.status.busy": "2022-12-07T16:23:05.528466Z",
          "iopub.execute_input": "2022-12-07T16:23:05.528779Z",
          "iopub.status.idle": "2022-12-07T16:23:05.619342Z",
          "shell.execute_reply.started": "2022-12-07T16:23:05.528744Z",
          "shell.execute_reply": "2022-12-07T16:23:05.618003Z"
        },
        "trusted": true,
        "id": "qNqUHG1ONZ9T",
        "outputId": "2d7c4bdd-c972-4618-f5b3-a6faed0670ea"
      },
      "execution_count": null,
      "outputs": [
        {
          "execution_count": 136,
          "output_type": "execute_result",
          "data": {
            "text/plain": "0.7421592222938557"
          },
          "metadata": {}
        }
      ]
    },
    {
      "cell_type": "code",
      "source": [
        "#building ROC AUС\n",
        "roc_auc_curve(test_data.rating,preds2)"
      ],
      "metadata": {
        "execution": {
          "iopub.status.busy": "2022-12-07T16:23:05.620576Z",
          "iopub.execute_input": "2022-12-07T16:23:05.620843Z",
          "iopub.status.idle": "2022-12-07T16:23:06.005784Z",
          "shell.execute_reply.started": "2022-12-07T16:23:05.620812Z",
          "shell.execute_reply": "2022-12-07T16:23:06.004791Z"
        },
        "trusted": true,
        "id": "4lxUK5udNZ9T",
        "outputId": "a4cf9b39-a305-476e-f384-c8ad2f60fa5f"
      },
      "execution_count": null,
      "outputs": [
        {
          "output_type": "display_data",
          "data": {
            "text/plain": "<Figure size 432x288 with 1 Axes>",
            "image/png": "[encoded data removed]"
          },
          "metadata": {
            "needs_background": "light"
          }
        }
      ]
    },
    {
      "cell_type": "markdown",
      "source": [
        "we see that the metric has slightly improved "
      ],
      "metadata": {
        "id": "oNB1yK2HNZ9T"
      }
    },
    {
      "cell_type": "code",
      "source": [
        "normalized_preds2 = (preds2 - preds2.min())/(preds2 - preds2.min()).max()\n",
        "preds2.min(), preds2.max()"
      ],
      "metadata": {
        "execution": {
          "iopub.status.busy": "2022-12-07T16:33:04.512181Z",
          "iopub.execute_input": "2022-12-07T16:33:04.512531Z",
          "iopub.status.idle": "2022-12-07T16:33:04.522722Z",
          "shell.execute_reply.started": "2022-12-07T16:33:04.512500Z",
          "shell.execute_reply": "2022-12-07T16:33:04.521724Z"
        },
        "trusted": true,
        "id": "-iWwhq78NZ9T",
        "outputId": "84bc6075-b611-4a05-de6e-0bba0eca2117"
      },
      "execution_count": null,
      "outputs": [
        {
          "execution_count": 146,
          "output_type": "execute_result",
          "data": {
            "text/plain": "(-36.440193, 29.160967)"
          },
          "metadata": {}
        }
      ]
    },
    {
      "cell_type": "code",
      "source": [
        "normalized_preds2.min(), normalized_preds2.max()"
      ],
      "metadata": {
        "execution": {
          "iopub.status.busy": "2022-12-07T16:33:06.869804Z",
          "iopub.execute_input": "2022-12-07T16:33:06.870131Z",
          "iopub.status.idle": "2022-12-07T16:33:06.876616Z",
          "shell.execute_reply.started": "2022-12-07T16:33:06.870101Z",
          "shell.execute_reply": "2022-12-07T16:33:06.875971Z"
        },
        "trusted": true,
        "id": "4QO-kUlVNZ9U",
        "outputId": "aaf92757-3284-4fc6-f10b-45c4fa394dc2"
      },
      "execution_count": null,
      "outputs": [
        {
          "execution_count": 147,
          "output_type": "execute_result",
          "data": {
            "text/plain": "(0.0, 1.0)"
          },
          "metadata": {}
        }
      ]
    },
    {
      "cell_type": "code",
      "source": [
        "preds_sub = model2.predict(test.userid.values,\n",
        "                      test.itemid.values)"
      ],
      "metadata": {
        "execution": {
          "iopub.status.busy": "2022-12-07T16:33:07.401724Z",
          "iopub.execute_input": "2022-12-07T16:33:07.402083Z",
          "iopub.status.idle": "2022-12-07T16:33:07.618749Z",
          "shell.execute_reply.started": "2022-12-07T16:33:07.402037Z",
          "shell.execute_reply": "2022-12-07T16:33:07.617718Z"
        },
        "trusted": true,
        "id": "pPinguGzNZ9U"
      },
      "execution_count": null,
      "outputs": []
    },
    {
      "cell_type": "code",
      "source": [
        "normalized_preds_sub = (preds_sub - preds_sub.min())/(preds_sub - preds_sub.min()).max()\n",
        "preds_sub.min(), preds_sub.max()"
      ],
      "metadata": {
        "execution": {
          "iopub.status.busy": "2022-12-07T16:33:16.374824Z",
          "iopub.execute_input": "2022-12-07T16:33:16.375174Z",
          "iopub.status.idle": "2022-12-07T16:33:16.383741Z",
          "shell.execute_reply.started": "2022-12-07T16:33:16.375140Z",
          "shell.execute_reply": "2022-12-07T16:33:16.383027Z"
        },
        "trusted": true,
        "id": "K5y_3_zrNZ9U",
        "outputId": "bf3e9769-fc57-42ff-bc40-86c5527f7173"
      },
      "execution_count": null,
      "outputs": [
        {
          "execution_count": 151,
          "output_type": "execute_result",
          "data": {
            "text/plain": "(-34.666294, 29.492027)"
          },
          "metadata": {}
        }
      ]
    },
    {
      "cell_type": "code",
      "source": [
        "normalized_preds_sub.min(), normalized_preds_sub.max()"
      ],
      "metadata": {
        "execution": {
          "iopub.status.busy": "2022-12-07T16:33:18.422779Z",
          "iopub.execute_input": "2022-12-07T16:33:18.423593Z",
          "iopub.status.idle": "2022-12-07T16:33:18.431537Z",
          "shell.execute_reply.started": "2022-12-07T16:33:18.423552Z",
          "shell.execute_reply": "2022-12-07T16:33:18.430081Z"
        },
        "trusted": true,
        "id": "ICFLER1aNZ9U",
        "outputId": "10113c5f-2b22-4d36-afcc-f2ea5994f1d3"
      },
      "execution_count": null,
      "outputs": [
        {
          "execution_count": 152,
          "output_type": "execute_result",
          "data": {
            "text/plain": "(0.0, 1.0)"
          },
          "metadata": {}
        }
      ]
    },
    {
      "cell_type": "markdown",
      "source": [
        "due to a memory error on kaggle, comment out the work with item and user features"
      ],
      "metadata": {
        "id": "AHGUrXnjNZ9U"
      }
    },
    {
      "cell_type": "code",
      "source": [
        "#indicate in item_features the features that describe the product and then make it sparse\n",
        "# item_features matrix for further use in the model\n",
        "item_features = train_data[['image','main_cat','brand_kind',\n",
        "                            'price_high','price_low','price_middle','image']]\n",
        "norm_ifeatures = (item_features - item_features.mean()) / item_features.std()\n",
        "item_features=(sparse.csr_matrix(norm_ifeatures)).astype(np.float32)"
      ],
      "metadata": {
        "execution": {
          "iopub.status.busy": "2022-12-07T16:33:19.697898Z",
          "iopub.execute_input": "2022-12-07T16:33:19.698736Z",
          "iopub.status.idle": "2022-12-07T16:33:20.062275Z",
          "shell.execute_reply.started": "2022-12-07T16:33:19.698688Z",
          "shell.execute_reply": "2022-12-07T16:33:20.061484Z"
        },
        "trusted": true,
        "id": "tpF_W06TNZ9U"
      },
      "execution_count": null,
      "outputs": []
    },
    {
      "cell_type": "code",
      "source": [
        "# make a sparse matrix user_features containing features describing the consumer\n",
        "user_features = train_data[['verified','unixReviewTime','vote','also_buy_numb','also_view_numb']]\n",
        "norm_ufeatures = (user_features - user_features.mean()) / user_features.std()\n",
        "user_features = (sparse.csr_matrix(norm_ufeatures)).astype(np.float32)"
      ],
      "metadata": {
        "execution": {
          "iopub.status.busy": "2022-12-07T16:33:20.209923Z",
          "iopub.execute_input": "2022-12-07T16:33:20.210637Z",
          "iopub.status.idle": "2022-12-07T16:33:20.434558Z",
          "shell.execute_reply.started": "2022-12-07T16:33:20.210583Z",
          "shell.execute_reply": "2022-12-07T16:33:20.433560Z"
        },
        "trusted": true,
        "id": "88x9TAQnNZ9U"
      },
      "execution_count": null,
      "outputs": []
    },
    {
      "cell_type": "code",
      "source": [
        "NUM_THREADS = 4  \n",
        "NUM_COMPONENTS = 160  \n",
        "NUM_EPOCHS = 20  \n",
        "RANDOM_STATE = 32\n",
        "model = LightFM(learning_rate=0.09, loss='logistic',\n",
        "                no_components=NUM_COMPONENTS)\n",
        "model_feat = model.fit(ratings_coo, user_features=user_features, \n",
        "                       item_features=item_features, epochs=NUM_EPOCHS,\n",
        "                       num_threads=NUM_THREADS)"
      ],
      "metadata": {
        "execution": {
          "iopub.status.busy": "2022-12-07T16:33:20.918770Z",
          "iopub.execute_input": "2022-12-07T16:33:20.919123Z",
          "iopub.status.idle": "2022-12-07T16:38:43.729071Z",
          "shell.execute_reply.started": "2022-12-07T16:33:20.919090Z",
          "shell.execute_reply": "2022-12-07T16:38:43.728250Z"
        },
        "trusted": true,
        "id": "kr-eMeTZNZ9U"
      },
      "execution_count": null,
      "outputs": []
    },
    {
      "cell_type": "code",
      "source": [
        "#we use matrices for predictions\n",
        "userid = np.array(test_data.userid).astype(np.int32)\n",
        "itemid =np.array(test_data.itemid).astype(np.int32) "
      ],
      "metadata": {
        "execution": {
          "iopub.status.busy": "2022-12-07T16:38:43.731685Z",
          "iopub.execute_input": "2022-12-07T16:38:43.732412Z",
          "iopub.status.idle": "2022-12-07T16:38:43.740907Z",
          "shell.execute_reply.started": "2022-12-07T16:38:43.732364Z",
          "shell.execute_reply": "2022-12-07T16:38:43.740157Z"
        },
        "trusted": true,
        "id": "N-MC8o9tNZ9V"
      },
      "execution_count": null,
      "outputs": []
    },
    {
      "cell_type": "code",
      "source": [
        "# getting predictions\n",
        "preds0 = model_feat.predict(userid, itemid, item_features=item_features,\n",
        "                            user_features=user_features,num_threads=NUM_THREADS)"
      ],
      "metadata": {
        "execution": {
          "iopub.status.busy": "2022-12-07T16:38:43.743194Z",
          "iopub.execute_input": "2022-12-07T16:38:43.744395Z",
          "iopub.status.idle": "2022-12-07T16:38:43.807480Z",
          "shell.execute_reply.started": "2022-12-07T16:38:43.744321Z",
          "shell.execute_reply": "2022-12-07T16:38:43.806732Z"
        },
        "trusted": true,
        "id": "Ysz3f0cINZ9V"
      },
      "execution_count": null,
      "outputs": []
    },
    {
      "cell_type": "code",
      "source": [
        "# metrics roc_auc_score\n",
        "sklearn.metrics.roc_auc_score(test_data.rating,preds0)"
      ],
      "metadata": {
        "execution": {
          "iopub.status.busy": "2022-12-07T16:38:43.812433Z",
          "iopub.execute_input": "2022-12-07T16:38:43.814811Z",
          "iopub.status.idle": "2022-12-07T16:38:43.900031Z",
          "shell.execute_reply.started": "2022-12-07T16:38:43.814755Z",
          "shell.execute_reply": "2022-12-07T16:38:43.899115Z"
        },
        "trusted": true,
        "id": "jxu4eLjfNZ9V",
        "outputId": "7849363f-c920-4e84-d78e-4ec6c99350ab"
      },
      "execution_count": null,
      "outputs": [
        {
          "execution_count": 158,
          "output_type": "execute_result",
          "data": {
            "text/plain": "0.5013854953437483"
          },
          "metadata": {}
        }
      ]
    },
    {
      "cell_type": "code",
      "source": [
        "# Getting embeddings\n",
        "\n",
        "item_biases, item_embeddings = model2.get_item_representations()"
      ],
      "metadata": {
        "execution": {
          "iopub.status.busy": "2022-12-07T16:38:43.901718Z",
          "iopub.execute_input": "2022-12-07T16:38:43.902209Z",
          "iopub.status.idle": "2022-12-07T16:38:43.907447Z",
          "shell.execute_reply.started": "2022-12-07T16:38:43.902168Z",
          "shell.execute_reply": "2022-12-07T16:38:43.906457Z"
        },
        "trusted": true,
        "id": "TdoTeEe2NZ9V"
      },
      "execution_count": null,
      "outputs": []
    },
    {
      "cell_type": "code",
      "source": [
        "item_biases.shape, item_embeddings.shape"
      ],
      "metadata": {
        "execution": {
          "iopub.status.busy": "2022-12-07T16:38:43.908746Z",
          "iopub.execute_input": "2022-12-07T16:38:43.909022Z",
          "iopub.status.idle": "2022-12-07T16:38:43.921186Z",
          "shell.execute_reply.started": "2022-12-07T16:38:43.908990Z",
          "shell.execute_reply": "2022-12-07T16:38:43.920221Z"
        },
        "trusted": true,
        "id": "8Osy04flNZ9V",
        "outputId": "07a03f05-c86a-4d5c-c1c2-efec998d6dc9"
      },
      "execution_count": null,
      "outputs": [
        {
          "execution_count": 160,
          "output_type": "execute_result",
          "data": {
            "text/plain": "((41320,), (41320, 160))"
          },
          "metadata": {}
        }
      ]
    },
    {
      "cell_type": "markdown",
      "source": [
        "We got embeddings. We need embeddings to give a prediction for each product, or rather, to look for the most similar ones. To quickly search among a large number of products, we will use the nearest neighbors method, approximate k-nn, which is implemented in the nmslib library.\n",
        "\n",
        "Instead of iterating over all the vertices, we can traverse the graph very quickly."
      ],
      "metadata": {
        "id": "bDZHOHeHNZ9V"
      }
    },
    {
      "cell_type": "code",
      "source": [
        "!pip install nmslib"
      ],
      "metadata": {
        "execution": {
          "iopub.status.busy": "2022-12-07T16:38:43.922488Z",
          "iopub.execute_input": "2022-12-07T16:38:43.922740Z",
          "iopub.status.idle": "2022-12-07T16:38:56.233611Z",
          "shell.execute_reply.started": "2022-12-07T16:38:43.922712Z",
          "shell.execute_reply": "2022-12-07T16:38:56.232432Z"
        },
        "trusted": true,
        "id": "wVIxuPkiNZ9a",
        "outputId": "a148143f-1d16-4f8c-cf5e-4bf2ad71adbf"
      },
      "execution_count": null,
      "outputs": [
        {
          "name": "stdout",
          "text": "Collecting nmslib\n  Downloading nmslib-2.1.1-cp37-cp37m-manylinux2010_x86_64.whl (13.5 MB)\n\u001b[K     |████████████████████████████████| 13.5 MB 4.0 MB/s eta 0:00:01\n\u001b[?25hRequirement already satisfied: psutil in /opt/conda/lib/python3.7/site-packages (from nmslib) (5.8.0)\nCollecting pybind11<2.6.2\n  Downloading pybind11-2.6.1-py2.py3-none-any.whl (188 kB)\n\u001b[K     |████████████████████████████████| 188 kB 48.3 MB/s eta 0:00:01\n\u001b[?25hRequirement already satisfied: numpy>=1.10.0 in /opt/conda/lib/python3.7/site-packages (from nmslib) (1.19.5)\nInstalling collected packages: pybind11, nmslib\n  Attempting uninstall: pybind11\n    Found existing installation: pybind11 2.7.1\n    Uninstalling pybind11-2.7.1:\n      Successfully uninstalled pybind11-2.7.1\nSuccessfully installed nmslib-2.1.1 pybind11-2.7.1\n\u001b[33mWARNING: Running pip as the 'root' user can result in broken permissions and conflicting behaviour with the system package manager. It is recommended to use a virtual environment instead: https://pip.pypa.io/warnings/venv\u001b[0m\n",
          "output_type": "stream"
        }
      ]
    },
    {
      "cell_type": "code",
      "source": [
        "import nmslib\n",
        " \n",
        "#Create our search graph\n",
        "nms_idx = nmslib.init(method='hnsw', space='cosinesimil')\n",
        " \n",
        "#Start adding our products to the graph\n",
        "nms_idx.addDataPointBatch(item_embeddings)\n",
        "nms_idx.createIndex(print_progress=True)"
      ],
      "metadata": {
        "execution": {
          "iopub.status.busy": "2022-12-07T16:38:56.236482Z",
          "iopub.execute_input": "2022-12-07T16:38:56.236833Z",
          "iopub.status.idle": "2022-12-07T16:39:09.743373Z",
          "shell.execute_reply.started": "2022-12-07T16:38:56.236794Z",
          "shell.execute_reply": "2022-12-07T16:39:09.742320Z"
        },
        "trusted": true,
        "id": "wTGqEgOHNZ9a",
        "outputId": "2914aceb-f540-44b3-a2fc-c263a2e99a95"
      },
      "execution_count": null,
      "outputs": [
        {
          "name": "stderr",
          "text": "Your CPU supports instructions that this binary was not compiled to use: SSE3 SSE4.1 SSE4.2 AVX AVX2\nFor maximum performance, you can install NMSLIB from sources \npip install --no-binary :all: nmslib\n\n0%   10   20   30   40   50   60   70   80   90   100%\n|----|----|----|----|----|----|----|----|----|----|\n***************************************************\n",
          "output_type": "stream"
        }
      ]
    },
    {
      "cell_type": "code",
      "source": [
        "#Auxiliary function for searching by graph\n",
        "def nearest_item_nms(itemid, index, n=10):\n",
        "    nn = index.knnQuery(item_embeddings[itemid], k=n)\n",
        "    return nn"
      ],
      "metadata": {
        "execution": {
          "iopub.status.busy": "2022-12-07T16:39:09.745302Z",
          "iopub.execute_input": "2022-12-07T16:39:09.745676Z",
          "iopub.status.idle": "2022-12-07T16:39:09.754275Z",
          "shell.execute_reply.started": "2022-12-07T16:39:09.745633Z",
          "shell.execute_reply": "2022-12-07T16:39:09.753051Z"
        },
        "trusted": true,
        "id": "CDWCQnD7NZ9a"
      },
      "execution_count": null,
      "outputs": []
    },
    {
      "cell_type": "code",
      "source": [
        "mapper = dict(zip(meta['asin'],meta['title']))"
      ],
      "metadata": {
        "execution": {
          "iopub.status.busy": "2022-12-07T16:39:09.759270Z",
          "iopub.execute_input": "2022-12-07T16:39:09.759636Z",
          "iopub.status.idle": "2022-12-07T16:39:10.366106Z",
          "shell.execute_reply.started": "2022-12-07T16:39:09.759603Z",
          "shell.execute_reply": "2022-12-07T16:39:10.365083Z"
        },
        "trusted": true,
        "id": "x27g2reLNZ9a"
      },
      "execution_count": null,
      "outputs": []
    },
    {
      "cell_type": "code",
      "source": [
        "# creating dataframe prod_id\n",
        "train['title'] = train.asin.apply(lambda x: mapper[x])\n",
        "test['title'] = test.asin.apply(lambda x: mapper[x])\n",
        "prod_id = train.drop(['verified','reviewTime','reviewerName','reviewText',\n",
        "                      'summary','unixReviewTime','vote','style','image'],axis=1)"
      ],
      "metadata": {
        "execution": {
          "iopub.status.busy": "2022-12-07T16:39:10.367660Z",
          "iopub.execute_input": "2022-12-07T16:39:10.368135Z",
          "iopub.status.idle": "2022-12-07T16:39:12.101216Z",
          "shell.execute_reply.started": "2022-12-07T16:39:10.368098Z",
          "shell.execute_reply": "2022-12-07T16:39:12.100083Z"
        },
        "trusted": true,
        "id": "dGnu-B0uNZ9b"
      },
      "execution_count": null,
      "outputs": []
    },
    {
      "cell_type": "markdown",
      "source": [
        "Let's try to write recommendations for some product. For example, to 'chocolate'."
      ],
      "metadata": {
        "id": "3swvOZ3XNZ9b"
      }
    },
    {
      "cell_type": "code",
      "source": [
        "prod_id[prod_id.title.str.find('chocolate')>=0].head(5)"
      ],
      "metadata": {
        "execution": {
          "iopub.status.busy": "2022-12-07T16:39:12.102575Z",
          "iopub.execute_input": "2022-12-07T16:39:12.102922Z",
          "iopub.status.idle": "2022-12-07T16:39:14.456903Z",
          "shell.execute_reply.started": "2022-12-07T16:39:12.102859Z",
          "shell.execute_reply": "2022-12-07T16:39:14.455784Z"
        },
        "trusted": true,
        "id": "EijeqsCUNZ9b",
        "outputId": "f00cb485-2311-46e4-e531-20673f242d25"
      },
      "execution_count": null,
      "outputs": [
        {
          "execution_count": 166,
          "output_type": "execute_result",
          "data": {
            "text/plain": "       overall        asin  userid  itemid  rating  \\\n7245       5.0  B00GXT7NJ8    6256   26561     1.0   \n9687       4.0  B00OBO2GVM   28826   31074     1.0   \n11510      5.0  B0017OLEMQ   21565    6627     1.0   \n15346      5.0  B00069IHO6   20913     784     1.0   \n19385      5.0  B0017OLEMQ   35367    6627     1.0   \n\n                                                   title  \n7245   Pernigotti Cocoa - 1 Kg (2.2 lbs) - from the f...  \n9687   Atkins endulge pieces - milk chocolate caramel...  \n11510   Sixlets 48 packs of candy coated chocolate candy  \n15346  Milk Chocolate Rocks 3 pound bag (48 ounces of...  \n19385   Sixlets 48 packs of candy coated chocolate candy  ",
            "text/html": "<div>\n<style scoped>\n    .dataframe tbody tr th:only-of-type {\n        vertical-align: middle;\n    }\n\n    .dataframe tbody tr th {\n        vertical-align: top;\n    }\n\n    .dataframe thead th {\n        text-align: right;\n    }\n</style>\n<table border=\"1\" class=\"dataframe\">\n  <thead>\n    <tr style=\"text-align: right;\">\n      <th></th>\n      <th>overall</th>\n      <th>asin</th>\n      <th>userid</th>\n      <th>itemid</th>\n      <th>rating</th>\n      <th>title</th>\n    </tr>\n  </thead>\n  <tbody>\n    <tr>\n      <th>7245</th>\n      <td>5.0</td>\n      <td>B00GXT7NJ8</td>\n      <td>6256</td>\n      <td>26561</td>\n      <td>1.0</td>\n      <td>Pernigotti Cocoa - 1 Kg (2.2 lbs) - from the f...</td>\n    </tr>\n    <tr>\n      <th>9687</th>\n      <td>4.0</td>\n      <td>B00OBO2GVM</td>\n      <td>28826</td>\n      <td>31074</td>\n      <td>1.0</td>\n      <td>Atkins endulge pieces - milk chocolate caramel...</td>\n    </tr>\n    <tr>\n      <th>11510</th>\n      <td>5.0</td>\n      <td>B0017OLEMQ</td>\n      <td>21565</td>\n      <td>6627</td>\n      <td>1.0</td>\n      <td>Sixlets 48 packs of candy coated chocolate candy</td>\n    </tr>\n    <tr>\n      <th>15346</th>\n      <td>5.0</td>\n      <td>B00069IHO6</td>\n      <td>20913</td>\n      <td>784</td>\n      <td>1.0</td>\n      <td>Milk Chocolate Rocks 3 pound bag (48 ounces of...</td>\n    </tr>\n    <tr>\n      <th>19385</th>\n      <td>5.0</td>\n      <td>B0017OLEMQ</td>\n      <td>35367</td>\n      <td>6627</td>\n      <td>1.0</td>\n      <td>Sixlets 48 packs of candy coated chocolate candy</td>\n    </tr>\n  </tbody>\n</table>\n</div>"
          },
          "metadata": {}
        }
      ]
    },
    {
      "cell_type": "markdown",
      "source": [
        "let's take item_id == 31074"
      ],
      "metadata": {
        "id": "acQ8-2HwNZ9b"
      }
    },
    {
      "cell_type": "code",
      "source": [
        "# Looking for similar products\n",
        "nbm = nearest_item_nms(31074,nms_idx)[0]"
      ],
      "metadata": {
        "execution": {
          "iopub.status.busy": "2022-12-07T16:39:14.458058Z",
          "iopub.execute_input": "2022-12-07T16:39:14.458290Z",
          "iopub.status.idle": "2022-12-07T16:39:14.464489Z",
          "shell.execute_reply.started": "2022-12-07T16:39:14.458264Z",
          "shell.execute_reply": "2022-12-07T16:39:14.463142Z"
        },
        "trusted": true,
        "id": "xwj5P74SNZ9b"
      },
      "execution_count": null,
      "outputs": []
    },
    {
      "cell_type": "code",
      "source": [
        "# show them\n",
        "prod_id[prod_id.itemid.isin(nbm)]"
      ],
      "metadata": {
        "execution": {
          "iopub.status.busy": "2022-12-07T16:39:14.466573Z",
          "iopub.execute_input": "2022-12-07T16:39:14.467026Z",
          "iopub.status.idle": "2022-12-07T16:39:14.515780Z",
          "shell.execute_reply.started": "2022-12-07T16:39:14.466990Z",
          "shell.execute_reply": "2022-12-07T16:39:14.514703Z"
        },
        "trusted": true,
        "id": "hULm-YMyNZ9b",
        "outputId": "3cfed308-d6e0-4ce6-d20a-d2d5de5fb705"
      },
      "execution_count": null,
      "outputs": [
        {
          "execution_count": 168,
          "output_type": "execute_result",
          "data": {
            "text/plain": "        overall        asin  userid  itemid  rating  \\\n3470        4.0  B00TU89MDE  108381   32741     1.0   \n6388        5.0  B010AIER0K  127167   34435     1.0   \n9687        4.0  B00OBO2GVM   28826   31074     1.0   \n20841       4.0  B01AAQ6584   15248   36494     1.0   \n23350       4.0  B010AIER0K   76610   34435     1.0   \n...         ...         ...     ...     ...     ...   \n799974      5.0  B00TU89MDE   34085   32741     1.0   \n801920      2.0  B010AIER0K  124507   34435     0.0   \n806342      3.0  B00TU89MDE   21755   32741     0.0   \n837310      5.0  B019LCCNZM  102521   36373     1.0   \n840160      3.0  B01AAQ6584    2825   36494     0.0   \n\n                                                    title  \n3470    Terrasoul Superfoods Organic Yacon Root Powder...  \n6388    Nature's Hollow Sugar-Free Honey Substitue (Ho...  \n9687    Atkins endulge pieces - milk chocolate caramel...  \n20841   Positively Tea Company, Organic Stevia Leaf, H...  \n23350   Nature's Hollow Sugar-Free Honey Substitue (Ho...  \n...                                                   ...  \n799974  Terrasoul Superfoods Organic Yacon Root Powder...  \n801920  Nature's Hollow Sugar-Free Honey Substitue (Ho...  \n806342  Terrasoul Superfoods Organic Yacon Root Powder...  \n837310                 Fun Flavor Beef Jerky Variety Pack  \n840160  Positively Tea Company, Organic Stevia Leaf, H...  \n\n[70 rows x 6 columns]",
            "text/html": "<div>\n<style scoped>\n    .dataframe tbody tr th:only-of-type {\n        vertical-align: middle;\n    }\n\n    .dataframe tbody tr th {\n        vertical-align: top;\n    }\n\n    .dataframe thead th {\n        text-align: right;\n    }\n</style>\n<table border=\"1\" class=\"dataframe\">\n  <thead>\n    <tr style=\"text-align: right;\">\n      <th></th>\n      <th>overall</th>\n      <th>asin</th>\n      <th>userid</th>\n      <th>itemid</th>\n      <th>rating</th>\n      <th>title</th>\n    </tr>\n  </thead>\n  <tbody>\n    <tr>\n      <th>3470</th>\n      <td>4.0</td>\n      <td>B00TU89MDE</td>\n      <td>108381</td>\n      <td>32741</td>\n      <td>1.0</td>\n      <td>Terrasoul Superfoods Organic Yacon Root Powder...</td>\n    </tr>\n    <tr>\n      <th>6388</th>\n      <td>5.0</td>\n      <td>B010AIER0K</td>\n      <td>127167</td>\n      <td>34435</td>\n      <td>1.0</td>\n      <td>Nature's Hollow Sugar-Free Honey Substitue (Ho...</td>\n    </tr>\n    <tr>\n      <th>9687</th>\n      <td>4.0</td>\n      <td>B00OBO2GVM</td>\n      <td>28826</td>\n      <td>31074</td>\n      <td>1.0</td>\n      <td>Atkins endulge pieces - milk chocolate caramel...</td>\n    </tr>\n    <tr>\n      <th>20841</th>\n      <td>4.0</td>\n      <td>B01AAQ6584</td>\n      <td>15248</td>\n      <td>36494</td>\n      <td>1.0</td>\n      <td>Positively Tea Company, Organic Stevia Leaf, H...</td>\n    </tr>\n    <tr>\n      <th>23350</th>\n      <td>4.0</td>\n      <td>B010AIER0K</td>\n      <td>76610</td>\n      <td>34435</td>\n      <td>1.0</td>\n      <td>Nature's Hollow Sugar-Free Honey Substitue (Ho...</td>\n    </tr>\n    <tr>\n      <th>...</th>\n      <td>...</td>\n      <td>...</td>\n      <td>...</td>\n      <td>...</td>\n      <td>...</td>\n      <td>...</td>\n    </tr>\n    <tr>\n      <th>799974</th>\n      <td>5.0</td>\n      <td>B00TU89MDE</td>\n      <td>34085</td>\n      <td>32741</td>\n      <td>1.0</td>\n      <td>Terrasoul Superfoods Organic Yacon Root Powder...</td>\n    </tr>\n    <tr>\n      <th>801920</th>\n      <td>2.0</td>\n      <td>B010AIER0K</td>\n      <td>124507</td>\n      <td>34435</td>\n      <td>0.0</td>\n      <td>Nature's Hollow Sugar-Free Honey Substitue (Ho...</td>\n    </tr>\n    <tr>\n      <th>806342</th>\n      <td>3.0</td>\n      <td>B00TU89MDE</td>\n      <td>21755</td>\n      <td>32741</td>\n      <td>0.0</td>\n      <td>Terrasoul Superfoods Organic Yacon Root Powder...</td>\n    </tr>\n    <tr>\n      <th>837310</th>\n      <td>5.0</td>\n      <td>B019LCCNZM</td>\n      <td>102521</td>\n      <td>36373</td>\n      <td>1.0</td>\n      <td>Fun Flavor Beef Jerky Variety Pack</td>\n    </tr>\n    <tr>\n      <th>840160</th>\n      <td>3.0</td>\n      <td>B01AAQ6584</td>\n      <td>2825</td>\n      <td>36494</td>\n      <td>0.0</td>\n      <td>Positively Tea Company, Organic Stevia Leaf, H...</td>\n    </tr>\n  </tbody>\n</table>\n<p>70 rows × 6 columns</p>\n</div>"
          },
          "metadata": {}
        }
      ]
    },
    {
      "cell_type": "code",
      "source": [
        "submission['rating']= normalized_preds_sub"
      ],
      "metadata": {
        "execution": {
          "iopub.status.busy": "2022-12-07T16:39:14.517207Z",
          "iopub.execute_input": "2022-12-07T16:39:14.517591Z",
          "iopub.status.idle": "2022-12-07T16:39:14.525123Z",
          "shell.execute_reply.started": "2022-12-07T16:39:14.517540Z",
          "shell.execute_reply": "2022-12-07T16:39:14.523719Z"
        },
        "trusted": true,
        "id": "ACLP6EY6NZ9b"
      },
      "execution_count": null,
      "outputs": []
    },
    {
      "cell_type": "code",
      "source": [
        "submission"
      ],
      "metadata": {
        "execution": {
          "iopub.status.busy": "2022-12-07T16:39:14.527493Z",
          "iopub.execute_input": "2022-12-07T16:39:14.527952Z",
          "iopub.status.idle": "2022-12-07T16:39:14.548610Z",
          "shell.execute_reply.started": "2022-12-07T16:39:14.527850Z",
          "shell.execute_reply": "2022-12-07T16:39:14.547559Z"
        },
        "trusted": true,
        "id": "AeLj9lXQNZ9b",
        "outputId": "4e6868df-d631-4906-85d2-0757c3719c0d"
      },
      "execution_count": null,
      "outputs": [
        {
          "execution_count": 170,
          "output_type": "execute_result",
          "data": {
            "text/plain": "            Id    rating\n0            0  0.569760\n1            1  0.556507\n2            2  0.536288\n3            3  0.540261\n4            4  0.552494\n...        ...       ...\n285960  285960  0.578711\n285961  285961  0.473687\n285962  285962  0.557999\n285963  285963  0.581513\n285964  285964  0.585772\n\n[285965 rows x 2 columns]",
            "text/html": "<div>\n<style scoped>\n    .dataframe tbody tr th:only-of-type {\n        vertical-align: middle;\n    }\n\n    .dataframe tbody tr th {\n        vertical-align: top;\n    }\n\n    .dataframe thead th {\n        text-align: right;\n    }\n</style>\n<table border=\"1\" class=\"dataframe\">\n  <thead>\n    <tr style=\"text-align: right;\">\n      <th></th>\n      <th>Id</th>\n      <th>rating</th>\n    </tr>\n  </thead>\n  <tbody>\n    <tr>\n      <th>0</th>\n      <td>0</td>\n      <td>0.569760</td>\n    </tr>\n    <tr>\n      <th>1</th>\n      <td>1</td>\n      <td>0.556507</td>\n    </tr>\n    <tr>\n      <th>2</th>\n      <td>2</td>\n      <td>0.536288</td>\n    </tr>\n    <tr>\n      <th>3</th>\n      <td>3</td>\n      <td>0.540261</td>\n    </tr>\n    <tr>\n      <th>4</th>\n      <td>4</td>\n      <td>0.552494</td>\n    </tr>\n    <tr>\n      <th>...</th>\n      <td>...</td>\n      <td>...</td>\n    </tr>\n    <tr>\n      <th>285960</th>\n      <td>285960</td>\n      <td>0.578711</td>\n    </tr>\n    <tr>\n      <th>285961</th>\n      <td>285961</td>\n      <td>0.473687</td>\n    </tr>\n    <tr>\n      <th>285962</th>\n      <td>285962</td>\n      <td>0.557999</td>\n    </tr>\n    <tr>\n      <th>285963</th>\n      <td>285963</td>\n      <td>0.581513</td>\n    </tr>\n    <tr>\n      <th>285964</th>\n      <td>285964</td>\n      <td>0.585772</td>\n    </tr>\n  </tbody>\n</table>\n<p>285965 rows × 2 columns</p>\n</div>"
          },
          "metadata": {}
        }
      ]
    },
    {
      "cell_type": "code",
      "source": [
        "submission.to_csv('submission_log.csv', index=False)"
      ],
      "metadata": {
        "execution": {
          "iopub.status.busy": "2022-12-07T16:39:14.550575Z",
          "iopub.execute_input": "2022-12-07T16:39:14.550980Z",
          "iopub.status.idle": "2022-12-07T16:39:15.149318Z",
          "shell.execute_reply.started": "2022-12-07T16:39:14.550935Z",
          "shell.execute_reply": "2022-12-07T16:39:15.147674Z"
        },
        "trusted": true,
        "id": "kaaQK5PdNZ9c"
      },
      "execution_count": null,
      "outputs": []
    },
    {
      "cell_type": "markdown",
      "source": [
        "Conclusion:\n",
        "\n",
        "We have successfully completed a project to create a recommendation system. We have prepared a series of sequential models to evaluate the project using the ROC AUC metric. Which characterizes the accuracy of predictions and must be resistant to unbalanced classes.\n",
        "\n",
        "We did a lot of work on EDA and Feature engineering, but we decided to start with a simple model, which, as expected, did not give us the desired effect, but set a starting point. The next step was to increase the data on which the model was trained, as the result we have improved until 0.7495 on submission, which is already noticeably better than the base solution. The next step was working with 'item_features' and embeddings. Embeddings are used to describe texts, images, videos and more in search engines and recommendation engines. We need embeddings to give a prediction for each product, or rather, to look for the most similar ones. With the help of 'user/item_features' we have added our features. If we use 'user/item_features' in training, then LifhtFM considers that each user and item has one characteristic unique to that user (or item). For a quick search among a large number of products, we used the nearest neighbors method, approximate k-nn, which is implemented in the nmslib library. Unfortunately, we did not use this model for the submission, because the metric we chose is close to 0.5."
      ],
      "metadata": {
        "id": "3jWSZsi-NZ9c"
      }
    },
    {
      "cell_type": "markdown",
      "source": [
        "Explication of the chosen metric.\n",
        "\n",
        "As part of the goals and objectives of creating a recommendation system, we determined that the recommendation system (RS) should be aimed at increasing the profits of an online store. Thus, out of the five most established business metrics for evaluating RS, we settled on Sales and Revenue. We can also assume that our RS can influence such indicators as User Engagement and Behavior and Effects on Sales Distribution (not necessarily in a positive direction). This may depend both on the RS itself and on its interface, convenience, and the degree of customer confidence in it.\n",
        "\n",
        "The ROC-AUC metric is most suitable for assessing the accuracy of predicting recommended products to increase sales. It can be added that if users are only interested in the highest (or lowest rated) products and not individual rating scores, this suggests a classification or ranking problem. While the algorithm may use predictive ratings internally, it must successfully score the highest rated (or lowest rated) items. Higher error in rating predictions for items is acceptable if the highest rated (or lowest rated) items are identified correctly. Therefore, evaluation should focus on classification or ranking indicators.\n",
        "\n",
        "The ROC AUC graphic provides a graphical representation of the performance of a RS or any other type of binary classifier. It displays True Positive rate vs. False Positive rate to increase the size of the recommendation set. The obvious goal is to maximize the area under the curve. Thus, the area under the AUC curve can be used as a single measure of the overall quality of a recommender system. However, it often happens that users are more interested in products at the top of the recommendation lists, but the AUC is equally affected by the swaps at the top or bottom of the recommendation list. This can be a disadvantage if we are mainly interested in finding the top ranked items and therefore care about the first part of the graph. To solve this problem in the future, you can use LAUC (Limited Area Under the Curve). The LAUC measure can be very useful for evaluating RS that are used to create lists of superior products."
      ],
      "metadata": {
        "id": "cDwDHnlWNZ9c"
      }
    }
  ]
}