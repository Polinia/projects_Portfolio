{
 "cells": [
  {
   "cell_type": "markdown",
   "metadata": {},
   "source": [
    "# Рекомендательная система \"Покажи мне свой товар и я скажу кто ты\""
   ]
  },
  {
   "cell_type": "markdown",
   "metadata": {},
   "source": [
    "Цели и задачи проекта: разработка рекомендательной системы для крупной компании он-лайн ритейла. Рекомендательная система должна основываться на наиболее точной рекомендации верного товара в высокой ценовой категории."
   ]
  },
  {
   "cell_type": "markdown",
   "metadata": {},
   "source": [
    "**Импорт библиотек и данных. Первичный осмотр.**"
   ]
  },
  {
   "cell_type": "code",
   "execution_count": 15,
   "metadata": {
    "_cell_guid": "b1076dfc-b9ad-4769-8c92-a6c4dae69d19",
    "_uuid": "8f2839f25d086af736a60e9eeb907d3b93b6e0e5",
    "execution": {
     "iopub.execute_input": "2021-08-04T01:05:44.308619Z",
     "iopub.status.busy": "2021-08-04T01:05:44.308247Z",
     "iopub.status.idle": "2021-08-04T01:05:46.419602Z",
     "shell.execute_reply": "2021-08-04T01:05:46.418829Z",
     "shell.execute_reply.started": "2021-08-04T01:05:44.308588Z"
    }
   },
   "outputs": [],
   "source": [
    "import numpy as np # linear algebra\n",
    "import pandas as pd # data processing, CSV file I/O (e.g. pd.read_csv)\n",
    "from collections import Counter\n",
    "import json\n",
    "import re\n",
    "import seaborn as sns\n",
    "from datetime import datetime\n",
    "from pandas import Series\n",
    "import matplotlib.pyplot as plt\n",
    "\n",
    "import pandas_profiling\n",
    "\n",
    "from sklearn.preprocessing import LabelEncoder, OneHotEncoder, StandardScaler\n",
    "from sklearn.feature_selection import f_classif, mutual_info_classif\n",
    "\n",
    "import os\n",
    "for dirname, _, filenames in os.walk('/kaggle/input'):\n",
    "    for filename in filenames:\n",
    "        print(os.path.join(dirname, filename))\n",
    "from sklearn.metrics import auc, roc_auc_score, roc_curve\n",
    "import warnings \n",
    "warnings.simplefilter('ignore')"
   ]
  },
  {
   "cell_type": "markdown",
   "metadata": {},
   "source": [
    "Пропишем функцию для отображения ROC-кривой:"
   ]
  },
  {
   "cell_type": "code",
   "execution_count": 16,
   "metadata": {
    "execution": {
     "iopub.execute_input": "2021-08-04T01:05:46.421629Z",
     "iopub.status.busy": "2021-08-04T01:05:46.42108Z",
     "iopub.status.idle": "2021-08-04T01:05:46.428218Z",
     "shell.execute_reply": "2021-08-04T01:05:46.426993Z",
     "shell.execute_reply.started": "2021-08-04T01:05:46.421594Z"
    }
   },
   "outputs": [],
   "source": [
    "def roc_auc_curve(y_true, y_pred_prob):\n",
    "    fpr, tpr, _ = roc_curve(y_true, y_pred_prob)\n",
    "    plt.figure()\n",
    "    plt.plot([0, 1], label='Случайный классификатор', linestyle='--')\n",
    "    plt.plot(fpr, tpr, label = 'LightFM')\n",
    "    plt.title('ROC AUC = %0.3f' % roc_auc_score(y_true, y_pred_prob))\n",
    "    plt.ylabel('True Positive Rate')\n",
    "    plt.xlabel('False Positive Rate')\n",
    "    plt.legend(loc = 'lower right')\n",
    "    plt.show()"
   ]
  },
  {
   "cell_type": "code",
   "execution_count": 17,
   "metadata": {
    "_cell_guid": "79c7e3d0-c299-4dcb-8224-4455121ee9b0",
    "_uuid": "d629ff2d2480ee46fbb7e2d37f6b5fab8052498a",
    "execution": {
     "iopub.execute_input": "2021-08-04T01:05:46.430025Z",
     "iopub.status.busy": "2021-08-04T01:05:46.429489Z",
     "iopub.status.idle": "2021-08-04T01:05:54.603494Z",
     "shell.execute_reply": "2021-08-04T01:05:54.602369Z",
     "shell.execute_reply.started": "2021-08-04T01:05:46.429951Z"
    }
   },
   "outputs": [],
   "source": [
    "train = pd.read_csv('train_food.csv')\n",
    "test = pd.read_csv('test_food.csv')\n",
    "submission = pd.read_csv('sample_submission_food.csv')"
   ]
  },
  {
   "cell_type": "markdown",
   "metadata": {},
   "source": [
    "Описание:\n",
    "\n",
    "test.csv - набор данных, для которого вы должны сделать предсказания. У каждого наобора userid, itemid есть свой id, для которого вы должны сделать предсказание.\n",
    "* overall - рейтинг, который поставил пользователь\n",
    "* verified - был ли отзыв верифицирован\n",
    "* reviewTime - когда был отзыв написан\n",
    "* reviewerName - имя пользователя\n",
    "* reviewText - текст отзыва\n",
    "* summary - сжатый отзыв\n",
    "* vote - количество голосований за отзыв\n",
    "* style - метаданные\n",
    "* image - изображение продукта\n",
    "* userid - id пользователя\n",
    "* itemid - id товара\n",
    "* id - id для предсказания"
   ]
  },
  {
   "cell_type": "code",
   "execution_count": 18,
   "metadata": {
    "execution": {
     "iopub.execute_input": "2021-08-04T01:05:54.604894Z",
     "iopub.status.busy": "2021-08-04T01:05:54.604623Z",
     "iopub.status.idle": "2021-08-04T01:06:56.394136Z",
     "shell.execute_reply": "2021-08-04T01:06:56.39297Z",
     "shell.execute_reply.started": "2021-08-04T01:05:54.604869Z"
    }
   },
   "outputs": [],
   "source": [
    "# прочитаем json с метаданными и положим результат в датасет \"meta\"\n",
    "# вероятно здесь имеются данные, которые могут улучшить нашу модель\n",
    "with open('meta_Grocery_and_Gourmet_Food.json') as f:\n",
    "    meta_list = []\n",
    "    for line in f.readlines():\n",
    "        meta_list.append(json.loads(line))\n",
    "        \n",
    "meta = pd.DataFrame(meta_list)\n"
   ]
  },
  {
   "cell_type": "code",
   "execution_count": 19,
   "metadata": {
    "execution": {
     "iopub.execute_input": "2021-08-04T01:06:56.39766Z",
     "iopub.status.busy": "2021-08-04T01:06:56.397352Z",
     "iopub.status.idle": "2021-08-04T01:06:56.470246Z",
     "shell.execute_reply": "2021-08-04T01:06:56.469285Z",
     "shell.execute_reply.started": "2021-08-04T01:06:56.397632Z"
    }
   },
   "outputs": [
    {
     "name": "stdout",
     "output_type": "stream",
     "text": [
      "Размерность тренировочного датасета:  (857895, 14)\n"
     ]
    },
    {
     "data": {
      "text/html": [
       "<div>\n",
       "<style scoped>\n",
       "    .dataframe tbody tr th:only-of-type {\n",
       "        vertical-align: middle;\n",
       "    }\n",
       "\n",
       "    .dataframe tbody tr th {\n",
       "        vertical-align: top;\n",
       "    }\n",
       "\n",
       "    .dataframe thead th {\n",
       "        text-align: right;\n",
       "    }\n",
       "</style>\n",
       "<table border=\"1\" class=\"dataframe\">\n",
       "  <thead>\n",
       "    <tr style=\"text-align: right;\">\n",
       "      <th></th>\n",
       "      <th>overall</th>\n",
       "      <th>verified</th>\n",
       "      <th>reviewTime</th>\n",
       "      <th>asin</th>\n",
       "      <th>reviewerName</th>\n",
       "      <th>reviewText</th>\n",
       "      <th>summary</th>\n",
       "      <th>unixReviewTime</th>\n",
       "      <th>vote</th>\n",
       "      <th>style</th>\n",
       "      <th>image</th>\n",
       "      <th>userid</th>\n",
       "      <th>itemid</th>\n",
       "      <th>rating</th>\n",
       "    </tr>\n",
       "  </thead>\n",
       "  <tbody>\n",
       "    <tr>\n",
       "      <th>0</th>\n",
       "      <td>5.0</td>\n",
       "      <td>True</td>\n",
       "      <td>10 4, 2016</td>\n",
       "      <td>B01CPNIEQG</td>\n",
       "      <td>Heather</td>\n",
       "      <td>These are my FAVORITE spices in my collection....</td>\n",
       "      <td>Must Add to your Spice kitchen!</td>\n",
       "      <td>1475539200</td>\n",
       "      <td>NaN</td>\n",
       "      <td>NaN</td>\n",
       "      <td>NaN</td>\n",
       "      <td>102179</td>\n",
       "      <td>37138</td>\n",
       "      <td>1.0</td>\n",
       "    </tr>\n",
       "    <tr>\n",
       "      <th>1</th>\n",
       "      <td>5.0</td>\n",
       "      <td>True</td>\n",
       "      <td>03 1, 2016</td>\n",
       "      <td>B006F63M8U</td>\n",
       "      <td>Linda Odom</td>\n",
       "      <td>Add A package to my Coffee and it makes a good...</td>\n",
       "      <td>Milk Chocolate Swiis MIss Hot Cocoa Mix</td>\n",
       "      <td>1456790400</td>\n",
       "      <td>NaN</td>\n",
       "      <td>{'Size:': ' 60-0.73 oz Envelopes'}</td>\n",
       "      <td>NaN</td>\n",
       "      <td>3625</td>\n",
       "      <td>17322</td>\n",
       "      <td>1.0</td>\n",
       "    </tr>\n",
       "    <tr>\n",
       "      <th>2</th>\n",
       "      <td>5.0</td>\n",
       "      <td>True</td>\n",
       "      <td>06 26, 2016</td>\n",
       "      <td>B00112O8NG</td>\n",
       "      <td>DesertBlossom</td>\n",
       "      <td>I love the Torani syrups, but not the prices o...</td>\n",
       "      <td>Love these sugar free syrups, but didn't love ...</td>\n",
       "      <td>1466899200</td>\n",
       "      <td>28</td>\n",
       "      <td>NaN</td>\n",
       "      <td>NaN</td>\n",
       "      <td>39495</td>\n",
       "      <td>5600</td>\n",
       "      <td>1.0</td>\n",
       "    </tr>\n",
       "    <tr>\n",
       "      <th>3</th>\n",
       "      <td>5.0</td>\n",
       "      <td>True</td>\n",
       "      <td>09 5, 2013</td>\n",
       "      <td>B00MRAQUM8</td>\n",
       "      <td>Connie L. Reaves</td>\n",
       "      <td>Very fragrant. The price can't be beat. I do l...</td>\n",
       "      <td>Nice !</td>\n",
       "      <td>1378339200</td>\n",
       "      <td>NaN</td>\n",
       "      <td>NaN</td>\n",
       "      <td>NaN</td>\n",
       "      <td>72854</td>\n",
       "      <td>30249</td>\n",
       "      <td>1.0</td>\n",
       "    </tr>\n",
       "    <tr>\n",
       "      <th>4</th>\n",
       "      <td>5.0</td>\n",
       "      <td>True</td>\n",
       "      <td>09 14, 2016</td>\n",
       "      <td>B000R7RN0G</td>\n",
       "      <td>Mike P.</td>\n",
       "      <td>These are my favorite jalapeno chips so far. T...</td>\n",
       "      <td>These are my favorite jalapeno chips so far</td>\n",
       "      <td>1473811200</td>\n",
       "      <td>NaN</td>\n",
       "      <td>{'Flavor:': ' Jalapeo'}</td>\n",
       "      <td>NaN</td>\n",
       "      <td>74859</td>\n",
       "      <td>4349</td>\n",
       "      <td>1.0</td>\n",
       "    </tr>\n",
       "  </tbody>\n",
       "</table>\n",
       "</div>"
      ],
      "text/plain": [
       "   overall  verified   reviewTime        asin      reviewerName  \\\n",
       "0      5.0      True   10 4, 2016  B01CPNIEQG           Heather   \n",
       "1      5.0      True   03 1, 2016  B006F63M8U        Linda Odom   \n",
       "2      5.0      True  06 26, 2016  B00112O8NG     DesertBlossom   \n",
       "3      5.0      True   09 5, 2013  B00MRAQUM8  Connie L. Reaves   \n",
       "4      5.0      True  09 14, 2016  B000R7RN0G           Mike P.   \n",
       "\n",
       "                                          reviewText  \\\n",
       "0  These are my FAVORITE spices in my collection....   \n",
       "1  Add A package to my Coffee and it makes a good...   \n",
       "2  I love the Torani syrups, but not the prices o...   \n",
       "3  Very fragrant. The price can't be beat. I do l...   \n",
       "4  These are my favorite jalapeno chips so far. T...   \n",
       "\n",
       "                                             summary  unixReviewTime vote  \\\n",
       "0                    Must Add to your Spice kitchen!      1475539200  NaN   \n",
       "1            Milk Chocolate Swiis MIss Hot Cocoa Mix      1456790400  NaN   \n",
       "2  Love these sugar free syrups, but didn't love ...      1466899200   28   \n",
       "3                                             Nice !      1378339200  NaN   \n",
       "4        These are my favorite jalapeno chips so far      1473811200  NaN   \n",
       "\n",
       "                                style image  userid  itemid  rating  \n",
       "0                                 NaN   NaN  102179   37138     1.0  \n",
       "1  {'Size:': ' 60-0.73 oz Envelopes'}   NaN    3625   17322     1.0  \n",
       "2                                 NaN   NaN   39495    5600     1.0  \n",
       "3                                 NaN   NaN   72854   30249     1.0  \n",
       "4             {'Flavor:': ' Jalapeo'}   NaN   74859    4349     1.0  "
      ]
     },
     "metadata": {},
     "output_type": "display_data"
    },
    {
     "name": "stdout",
     "output_type": "stream",
     "text": [
      "Размерность тестового датасета:  (285965, 11)\n"
     ]
    },
    {
     "data": {
      "text/html": [
       "<div>\n",
       "<style scoped>\n",
       "    .dataframe tbody tr th:only-of-type {\n",
       "        vertical-align: middle;\n",
       "    }\n",
       "\n",
       "    .dataframe tbody tr th {\n",
       "        vertical-align: top;\n",
       "    }\n",
       "\n",
       "    .dataframe thead th {\n",
       "        text-align: right;\n",
       "    }\n",
       "</style>\n",
       "<table border=\"1\" class=\"dataframe\">\n",
       "  <thead>\n",
       "    <tr style=\"text-align: right;\">\n",
       "      <th></th>\n",
       "      <th>verified</th>\n",
       "      <th>reviewTime</th>\n",
       "      <th>asin</th>\n",
       "      <th>reviewerName</th>\n",
       "      <th>unixReviewTime</th>\n",
       "      <th>vote</th>\n",
       "      <th>style</th>\n",
       "      <th>image</th>\n",
       "      <th>userid</th>\n",
       "      <th>itemid</th>\n",
       "      <th>Id</th>\n",
       "    </tr>\n",
       "  </thead>\n",
       "  <tbody>\n",
       "    <tr>\n",
       "      <th>0</th>\n",
       "      <td>True</td>\n",
       "      <td>10 1, 2016</td>\n",
       "      <td>B001E5E3X0</td>\n",
       "      <td>Rudys Mom</td>\n",
       "      <td>1475280000</td>\n",
       "      <td>NaN</td>\n",
       "      <td>NaN</td>\n",
       "      <td>NaN</td>\n",
       "      <td>68877</td>\n",
       "      <td>7506</td>\n",
       "      <td>0</td>\n",
       "    </tr>\n",
       "    <tr>\n",
       "      <th>1</th>\n",
       "      <td>True</td>\n",
       "      <td>06 29, 2014</td>\n",
       "      <td>B005BYXX5E</td>\n",
       "      <td>pharg</td>\n",
       "      <td>1404000000</td>\n",
       "      <td>2</td>\n",
       "      <td>NaN</td>\n",
       "      <td>NaN</td>\n",
       "      <td>50442</td>\n",
       "      <td>15530</td>\n",
       "      <td>1</td>\n",
       "    </tr>\n",
       "    <tr>\n",
       "      <th>2</th>\n",
       "      <td>True</td>\n",
       "      <td>05 19, 2015</td>\n",
       "      <td>B0052OK6OO</td>\n",
       "      <td>dhalex</td>\n",
       "      <td>1431993600</td>\n",
       "      <td>NaN</td>\n",
       "      <td>NaN</td>\n",
       "      <td>NaN</td>\n",
       "      <td>64349</td>\n",
       "      <td>15049</td>\n",
       "      <td>2</td>\n",
       "    </tr>\n",
       "    <tr>\n",
       "      <th>3</th>\n",
       "      <td>True</td>\n",
       "      <td>10 5, 2014</td>\n",
       "      <td>B003SO8HGE</td>\n",
       "      <td>Vanessa</td>\n",
       "      <td>1412467200</td>\n",
       "      <td>NaN</td>\n",
       "      <td>{'Flavor:': ' Sweet Rose'}</td>\n",
       "      <td>NaN</td>\n",
       "      <td>26206</td>\n",
       "      <td>11957</td>\n",
       "      <td>3</td>\n",
       "    </tr>\n",
       "    <tr>\n",
       "      <th>4</th>\n",
       "      <td>True</td>\n",
       "      <td>11 11, 2013</td>\n",
       "      <td>B003XUJ564</td>\n",
       "      <td>R Mohrman</td>\n",
       "      <td>1384128000</td>\n",
       "      <td>3</td>\n",
       "      <td>{'Size:': ' 15 Ounce (Pack of 12)', 'Flavor:':...</td>\n",
       "      <td>NaN</td>\n",
       "      <td>59366</td>\n",
       "      <td>12173</td>\n",
       "      <td>4</td>\n",
       "    </tr>\n",
       "  </tbody>\n",
       "</table>\n",
       "</div>"
      ],
      "text/plain": [
       "   verified   reviewTime        asin reviewerName  unixReviewTime vote  \\\n",
       "0      True   10 1, 2016  B001E5E3X0    Rudys Mom      1475280000  NaN   \n",
       "1      True  06 29, 2014  B005BYXX5E        pharg      1404000000    2   \n",
       "2      True  05 19, 2015  B0052OK6OO       dhalex      1431993600  NaN   \n",
       "3      True   10 5, 2014  B003SO8HGE      Vanessa      1412467200  NaN   \n",
       "4      True  11 11, 2013  B003XUJ564    R Mohrman      1384128000    3   \n",
       "\n",
       "                                               style image  userid  itemid  Id  \n",
       "0                                                NaN   NaN   68877    7506   0  \n",
       "1                                                NaN   NaN   50442   15530   1  \n",
       "2                                                NaN   NaN   64349   15049   2  \n",
       "3                         {'Flavor:': ' Sweet Rose'}   NaN   26206   11957   3  \n",
       "4  {'Size:': ' 15 Ounce (Pack of 12)', 'Flavor:':...   NaN   59366   12173   4  "
      ]
     },
     "metadata": {},
     "output_type": "display_data"
    },
    {
     "name": "stdout",
     "output_type": "stream",
     "text": [
      "Размерность мета датасета:  (287209, 17)\n"
     ]
    },
    {
     "data": {
      "text/html": [
       "<div>\n",
       "<style scoped>\n",
       "    .dataframe tbody tr th:only-of-type {\n",
       "        vertical-align: middle;\n",
       "    }\n",
       "\n",
       "    .dataframe tbody tr th {\n",
       "        vertical-align: top;\n",
       "    }\n",
       "\n",
       "    .dataframe thead th {\n",
       "        text-align: right;\n",
       "    }\n",
       "</style>\n",
       "<table border=\"1\" class=\"dataframe\">\n",
       "  <thead>\n",
       "    <tr style=\"text-align: right;\">\n",
       "      <th></th>\n",
       "      <th>category</th>\n",
       "      <th>description</th>\n",
       "      <th>title</th>\n",
       "      <th>brand</th>\n",
       "      <th>rank</th>\n",
       "      <th>also_view</th>\n",
       "      <th>main_cat</th>\n",
       "      <th>price</th>\n",
       "      <th>asin</th>\n",
       "      <th>also_buy</th>\n",
       "      <th>image</th>\n",
       "      <th>date</th>\n",
       "      <th>feature</th>\n",
       "      <th>details</th>\n",
       "      <th>similar_item</th>\n",
       "      <th>tech1</th>\n",
       "      <th>fit</th>\n",
       "    </tr>\n",
       "  </thead>\n",
       "  <tbody>\n",
       "    <tr>\n",
       "      <th>0</th>\n",
       "      <td>[Grocery &amp; Gourmet Food, Dairy, Cheese &amp; Eggs,...</td>\n",
       "      <td>[BEEMSTER GOUDA CHEESE AGED 18/24 MONTHS, Stat...</td>\n",
       "      <td>Beemster Gouda - Aged 18/24 Months - App. 1.5 Lbs</td>\n",
       "      <td>Ariola Imports</td>\n",
       "      <td>165,181inGroceryGourmetFood(</td>\n",
       "      <td>[B0000D9MYM, B0000D9MYL, B00ADHIGBA, B00H9OX59...</td>\n",
       "      <td>Grocery</td>\n",
       "      <td>$41.91</td>\n",
       "      <td>0681727810</td>\n",
       "      <td>NaN</td>\n",
       "      <td>NaN</td>\n",
       "      <td>NaN</td>\n",
       "      <td>NaN</td>\n",
       "      <td>NaN</td>\n",
       "      <td>NaN</td>\n",
       "      <td>NaN</td>\n",
       "      <td>NaN</td>\n",
       "    </tr>\n",
       "    <tr>\n",
       "      <th>1</th>\n",
       "      <td>[Grocery &amp; Gourmet Food, Cooking &amp; Baking, Sug...</td>\n",
       "      <td>[Shipped from UK, please allow 10 to 21 busine...</td>\n",
       "      <td>Trim Healthy Mama Xylitol</td>\n",
       "      <td>NaN</td>\n",
       "      <td>315,867inGroceryGourmetFood(</td>\n",
       "      <td>NaN</td>\n",
       "      <td>Grocery</td>\n",
       "      <td>NaN</td>\n",
       "      <td>0853347867</td>\n",
       "      <td>[B01898YHXK, B01BCM6LAC, B00Q4OL47O, B00Q4OL5Q...</td>\n",
       "      <td>[https://images-na.ssl-images-amazon.com/image...</td>\n",
       "      <td>NaN</td>\n",
       "      <td>NaN</td>\n",
       "      <td>NaN</td>\n",
       "      <td>NaN</td>\n",
       "      <td>NaN</td>\n",
       "      <td>NaN</td>\n",
       "    </tr>\n",
       "    <tr>\n",
       "      <th>2</th>\n",
       "      <td>[Grocery &amp; Gourmet Food, Cooking &amp; Baking, Fro...</td>\n",
       "      <td>[Jazz up your cakes with a sparkling monogram ...</td>\n",
       "      <td>Letter C - Swarovski Crystal Monogram Wedding ...</td>\n",
       "      <td>Unik Occasions</td>\n",
       "      <td>&gt;#669,941 in Kitchen &amp; Dining (See Top 100 in ...</td>\n",
       "      <td>[B07DXN65TF]</td>\n",
       "      <td>Amazon Home</td>\n",
       "      <td>$29.95</td>\n",
       "      <td>1888861118</td>\n",
       "      <td>NaN</td>\n",
       "      <td>NaN</td>\n",
       "      <td>September 21, 2010</td>\n",
       "      <td>NaN</td>\n",
       "      <td>NaN</td>\n",
       "      <td>NaN</td>\n",
       "      <td>NaN</td>\n",
       "      <td>NaN</td>\n",
       "    </tr>\n",
       "    <tr>\n",
       "      <th>3</th>\n",
       "      <td>[Grocery &amp; Gourmet Food, Cooking &amp; Baking, Fro...</td>\n",
       "      <td>[Large Letter - Height 4.75\"]</td>\n",
       "      <td>Letter H - Swarovski Crystal Monogram Wedding ...</td>\n",
       "      <td>Other</td>\n",
       "      <td>&gt;#832,581 in Kitchen &amp; Dining (See Top 100 in ...</td>\n",
       "      <td>NaN</td>\n",
       "      <td>Amazon Home</td>\n",
       "      <td>$11.45</td>\n",
       "      <td>1888861517</td>\n",
       "      <td>NaN</td>\n",
       "      <td>NaN</td>\n",
       "      <td>September 11, 2011</td>\n",
       "      <td>[Large Letter - Height 4.75\"]</td>\n",
       "      <td>NaN</td>\n",
       "      <td>NaN</td>\n",
       "      <td>NaN</td>\n",
       "      <td>NaN</td>\n",
       "    </tr>\n",
       "    <tr>\n",
       "      <th>4</th>\n",
       "      <td>[Grocery &amp; Gourmet Food, Cooking &amp; Baking, Fro...</td>\n",
       "      <td>[4.75\"]</td>\n",
       "      <td>Letter S - Swarovski Crystal Monogram Wedding ...</td>\n",
       "      <td>Unik Occasions</td>\n",
       "      <td>&gt;#590,999 in Kitchen &amp; Dining (See Top 100 in ...</td>\n",
       "      <td>NaN</td>\n",
       "      <td>Amazon Home</td>\n",
       "      <td>$15.00</td>\n",
       "      <td>1888861614</td>\n",
       "      <td>NaN</td>\n",
       "      <td>NaN</td>\n",
       "      <td>September 11, 2011</td>\n",
       "      <td>[4.75\" height]</td>\n",
       "      <td>NaN</td>\n",
       "      <td>NaN</td>\n",
       "      <td>NaN</td>\n",
       "      <td>NaN</td>\n",
       "    </tr>\n",
       "  </tbody>\n",
       "</table>\n",
       "</div>"
      ],
      "text/plain": [
       "                                            category  \\\n",
       "0  [Grocery & Gourmet Food, Dairy, Cheese & Eggs,...   \n",
       "1  [Grocery & Gourmet Food, Cooking & Baking, Sug...   \n",
       "2  [Grocery & Gourmet Food, Cooking & Baking, Fro...   \n",
       "3  [Grocery & Gourmet Food, Cooking & Baking, Fro...   \n",
       "4  [Grocery & Gourmet Food, Cooking & Baking, Fro...   \n",
       "\n",
       "                                         description  \\\n",
       "0  [BEEMSTER GOUDA CHEESE AGED 18/24 MONTHS, Stat...   \n",
       "1  [Shipped from UK, please allow 10 to 21 busine...   \n",
       "2  [Jazz up your cakes with a sparkling monogram ...   \n",
       "3                      [Large Letter - Height 4.75\"]   \n",
       "4                                            [4.75\"]   \n",
       "\n",
       "                                               title           brand  \\\n",
       "0  Beemster Gouda - Aged 18/24 Months - App. 1.5 Lbs  Ariola Imports   \n",
       "1                          Trim Healthy Mama Xylitol             NaN   \n",
       "2  Letter C - Swarovski Crystal Monogram Wedding ...  Unik Occasions   \n",
       "3  Letter H - Swarovski Crystal Monogram Wedding ...           Other   \n",
       "4  Letter S - Swarovski Crystal Monogram Wedding ...  Unik Occasions   \n",
       "\n",
       "                                                rank  \\\n",
       "0                       165,181inGroceryGourmetFood(   \n",
       "1                       315,867inGroceryGourmetFood(   \n",
       "2  >#669,941 in Kitchen & Dining (See Top 100 in ...   \n",
       "3  >#832,581 in Kitchen & Dining (See Top 100 in ...   \n",
       "4  >#590,999 in Kitchen & Dining (See Top 100 in ...   \n",
       "\n",
       "                                           also_view     main_cat   price  \\\n",
       "0  [B0000D9MYM, B0000D9MYL, B00ADHIGBA, B00H9OX59...      Grocery  $41.91   \n",
       "1                                                NaN      Grocery     NaN   \n",
       "2                                       [B07DXN65TF]  Amazon Home  $29.95   \n",
       "3                                                NaN  Amazon Home  $11.45   \n",
       "4                                                NaN  Amazon Home  $15.00   \n",
       "\n",
       "         asin                                           also_buy  \\\n",
       "0  0681727810                                                NaN   \n",
       "1  0853347867  [B01898YHXK, B01BCM6LAC, B00Q4OL47O, B00Q4OL5Q...   \n",
       "2  1888861118                                                NaN   \n",
       "3  1888861517                                                NaN   \n",
       "4  1888861614                                                NaN   \n",
       "\n",
       "                                               image                date  \\\n",
       "0                                                NaN                 NaN   \n",
       "1  [https://images-na.ssl-images-amazon.com/image...                 NaN   \n",
       "2                                                NaN  September 21, 2010   \n",
       "3                                                NaN  September 11, 2011   \n",
       "4                                                NaN  September 11, 2011   \n",
       "\n",
       "                         feature details similar_item tech1  fit  \n",
       "0                            NaN     NaN          NaN   NaN  NaN  \n",
       "1                            NaN     NaN          NaN   NaN  NaN  \n",
       "2                            NaN     NaN          NaN   NaN  NaN  \n",
       "3  [Large Letter - Height 4.75\"]     NaN          NaN   NaN  NaN  \n",
       "4                 [4.75\" height]     NaN          NaN   NaN  NaN  "
      ]
     },
     "metadata": {},
     "output_type": "display_data"
    }
   ],
   "source": [
    "# первичный осмотр\n",
    "pd.set_option('display.max_columns', None)\n",
    "print('Размерность тренировочного датасета: ', train.shape)\n",
    "display(train.head(5))\n",
    "print('Размерность тестового датасета: ', test.shape)\n",
    "display(test.head(5))\n",
    "print('Размерность мета датасета: ', meta.shape)\n",
    "display(meta.head(5))"
   ]
  },
  {
   "cell_type": "markdown",
   "metadata": {},
   "source": [
    "Первичный анализ трех датасетов, говорит, что это достаточно большие датасеты. Признаки из тренировочно и мета датасеты не полностью сопадают с тестовым. \n",
    "В тренировочном датасете на три столбца больше:\n",
    "\n",
    "* overall - оценка по пятибальной шкале\n",
    "* reviewText - текст отзыва\n",
    "* summary - краткое содержание отзыва\n",
    "* rating - целевая переменная\n",
    "\n",
    "отсутствует Id - id для предсказания\n",
    "\n",
    "При этом объединение датасетов возможно, можно это сделать по признаку 'asin', который является уникальным идентификатором товара на Амазон."
   ]
  },
  {
   "cell_type": "code",
   "execution_count": 20,
   "metadata": {
    "execution": {
     "iopub.execute_input": "2021-08-04T01:06:56.474154Z",
     "iopub.status.busy": "2021-08-04T01:06:56.473857Z",
     "iopub.status.idle": "2021-08-04T01:06:58.603843Z",
     "shell.execute_reply": "2021-08-04T01:06:58.603034Z",
     "shell.execute_reply.started": "2021-08-04T01:06:56.474129Z"
    }
   },
   "outputs": [],
   "source": [
    "# удалим идентичные записи\n",
    "train.drop_duplicates(inplace = True)"
   ]
  },
  {
   "cell_type": "code",
   "execution_count": 21,
   "metadata": {
    "execution": {
     "iopub.execute_input": "2021-08-04T01:06:58.606069Z",
     "iopub.status.busy": "2021-08-04T01:06:58.605786Z",
     "iopub.status.idle": "2021-08-04T01:07:01.220037Z",
     "shell.execute_reply": "2021-08-04T01:07:01.219036Z",
     "shell.execute_reply.started": "2021-08-04T01:06:58.606042Z"
    }
   },
   "outputs": [],
   "source": [
    "# образуем новый датасет после объединения метаданных и тренировочного датасета\n",
    "train_new = pd.merge(train, meta, on='asin')"
   ]
  },
  {
   "cell_type": "markdown",
   "metadata": {},
   "source": [
    "**EDA**"
   ]
  },
  {
   "cell_type": "code",
   "execution_count": 22,
   "metadata": {
    "execution": {
     "iopub.execute_input": "2021-08-04T01:07:01.221765Z",
     "iopub.status.busy": "2021-08-04T01:07:01.221487Z",
     "iopub.status.idle": "2021-08-04T01:07:01.261096Z",
     "shell.execute_reply": "2021-08-04T01:07:01.260262Z",
     "shell.execute_reply.started": "2021-08-04T01:07:01.221739Z"
    }
   },
   "outputs": [
    {
     "data": {
      "text/html": [
       "<div>\n",
       "<style scoped>\n",
       "    .dataframe tbody tr th:only-of-type {\n",
       "        vertical-align: middle;\n",
       "    }\n",
       "\n",
       "    .dataframe tbody tr th {\n",
       "        vertical-align: top;\n",
       "    }\n",
       "\n",
       "    .dataframe thead th {\n",
       "        text-align: right;\n",
       "    }\n",
       "</style>\n",
       "<table border=\"1\" class=\"dataframe\">\n",
       "  <thead>\n",
       "    <tr style=\"text-align: right;\">\n",
       "      <th></th>\n",
       "      <th>overall</th>\n",
       "      <th>verified</th>\n",
       "      <th>reviewTime</th>\n",
       "      <th>asin</th>\n",
       "      <th>reviewerName</th>\n",
       "      <th>reviewText</th>\n",
       "      <th>summary</th>\n",
       "      <th>unixReviewTime</th>\n",
       "      <th>vote</th>\n",
       "      <th>style</th>\n",
       "      <th>image_x</th>\n",
       "      <th>userid</th>\n",
       "      <th>itemid</th>\n",
       "      <th>rating</th>\n",
       "      <th>category</th>\n",
       "      <th>description</th>\n",
       "      <th>title</th>\n",
       "      <th>brand</th>\n",
       "      <th>rank</th>\n",
       "      <th>also_view</th>\n",
       "      <th>main_cat</th>\n",
       "      <th>price</th>\n",
       "      <th>also_buy</th>\n",
       "      <th>image_y</th>\n",
       "      <th>date</th>\n",
       "      <th>feature</th>\n",
       "      <th>details</th>\n",
       "      <th>similar_item</th>\n",
       "      <th>tech1</th>\n",
       "      <th>fit</th>\n",
       "    </tr>\n",
       "  </thead>\n",
       "  <tbody>\n",
       "    <tr>\n",
       "      <th>0</th>\n",
       "      <td>5.0</td>\n",
       "      <td>True</td>\n",
       "      <td>10 4, 2016</td>\n",
       "      <td>B01CPNIEQG</td>\n",
       "      <td>Heather</td>\n",
       "      <td>These are my FAVORITE spices in my collection....</td>\n",
       "      <td>Must Add to your Spice kitchen!</td>\n",
       "      <td>1475539200</td>\n",
       "      <td>NaN</td>\n",
       "      <td>NaN</td>\n",
       "      <td>NaN</td>\n",
       "      <td>102179</td>\n",
       "      <td>37138</td>\n",
       "      <td>1.0</td>\n",
       "      <td>[Grocery &amp; Gourmet Food, Herbs, Spices &amp; Seaso...</td>\n",
       "      <td>[Adobo seasoning (known as adobo seco) is a ve...</td>\n",
       "      <td>Primal Palate Organic Spices Adobo Seasoning, ...</td>\n",
       "      <td>Primal Palate Organic Spices</td>\n",
       "      <td>19,771inGroceryGourmetFood(</td>\n",
       "      <td>[B00AJRKRJS, B01NALHAY9, B01DGZ2B48, B01EZ489A...</td>\n",
       "      <td>Grocery</td>\n",
       "      <td>$9.95</td>\n",
       "      <td>[B01DGZ2B48, B01EZ489AO, B01DH795LM, B01EYW2LC...</td>\n",
       "      <td>[https://images-na.ssl-images-amazon.com/image...</td>\n",
       "      <td>NaN</td>\n",
       "      <td>NaN</td>\n",
       "      <td>\\n      &lt;div class=\"content\"&gt;\\n\\n\\n\\n\\n\\n\\n&lt;ul...</td>\n",
       "      <td>NaN</td>\n",
       "      <td>NaN</td>\n",
       "      <td>NaN</td>\n",
       "    </tr>\n",
       "    <tr>\n",
       "      <th>1</th>\n",
       "      <td>5.0</td>\n",
       "      <td>False</td>\n",
       "      <td>03 31, 2017</td>\n",
       "      <td>B01CPNIEQG</td>\n",
       "      <td>Tina McClain</td>\n",
       "      <td>Love this seasoning on chicken! The flavor is ...</td>\n",
       "      <td>Love all their seasoning!!</td>\n",
       "      <td>1490918400</td>\n",
       "      <td>NaN</td>\n",
       "      <td>NaN</td>\n",
       "      <td>NaN</td>\n",
       "      <td>117314</td>\n",
       "      <td>37138</td>\n",
       "      <td>1.0</td>\n",
       "      <td>[Grocery &amp; Gourmet Food, Herbs, Spices &amp; Seaso...</td>\n",
       "      <td>[Adobo seasoning (known as adobo seco) is a ve...</td>\n",
       "      <td>Primal Palate Organic Spices Adobo Seasoning, ...</td>\n",
       "      <td>Primal Palate Organic Spices</td>\n",
       "      <td>19,771inGroceryGourmetFood(</td>\n",
       "      <td>[B00AJRKRJS, B01NALHAY9, B01DGZ2B48, B01EZ489A...</td>\n",
       "      <td>Grocery</td>\n",
       "      <td>$9.95</td>\n",
       "      <td>[B01DGZ2B48, B01EZ489AO, B01DH795LM, B01EYW2LC...</td>\n",
       "      <td>[https://images-na.ssl-images-amazon.com/image...</td>\n",
       "      <td>NaN</td>\n",
       "      <td>NaN</td>\n",
       "      <td>\\n      &lt;div class=\"content\"&gt;\\n\\n\\n\\n\\n\\n\\n&lt;ul...</td>\n",
       "      <td>NaN</td>\n",
       "      <td>NaN</td>\n",
       "      <td>NaN</td>\n",
       "    </tr>\n",
       "    <tr>\n",
       "      <th>2</th>\n",
       "      <td>3.0</td>\n",
       "      <td>True</td>\n",
       "      <td>03 11, 2017</td>\n",
       "      <td>B01CPNIEQG</td>\n",
       "      <td>Ella</td>\n",
       "      <td>Ummm....interesting spice blend, but not reall...</td>\n",
       "      <td>It's not a bad taste, but they really shouldn'...</td>\n",
       "      <td>1489190400</td>\n",
       "      <td>4</td>\n",
       "      <td>NaN</td>\n",
       "      <td>NaN</td>\n",
       "      <td>119505</td>\n",
       "      <td>37138</td>\n",
       "      <td>0.0</td>\n",
       "      <td>[Grocery &amp; Gourmet Food, Herbs, Spices &amp; Seaso...</td>\n",
       "      <td>[Adobo seasoning (known as adobo seco) is a ve...</td>\n",
       "      <td>Primal Palate Organic Spices Adobo Seasoning, ...</td>\n",
       "      <td>Primal Palate Organic Spices</td>\n",
       "      <td>19,771inGroceryGourmetFood(</td>\n",
       "      <td>[B00AJRKRJS, B01NALHAY9, B01DGZ2B48, B01EZ489A...</td>\n",
       "      <td>Grocery</td>\n",
       "      <td>$9.95</td>\n",
       "      <td>[B01DGZ2B48, B01EZ489AO, B01DH795LM, B01EYW2LC...</td>\n",
       "      <td>[https://images-na.ssl-images-amazon.com/image...</td>\n",
       "      <td>NaN</td>\n",
       "      <td>NaN</td>\n",
       "      <td>\\n      &lt;div class=\"content\"&gt;\\n\\n\\n\\n\\n\\n\\n&lt;ul...</td>\n",
       "      <td>NaN</td>\n",
       "      <td>NaN</td>\n",
       "      <td>NaN</td>\n",
       "    </tr>\n",
       "  </tbody>\n",
       "</table>\n",
       "</div>"
      ],
      "text/plain": [
       "   overall  verified   reviewTime        asin  reviewerName  \\\n",
       "0      5.0      True   10 4, 2016  B01CPNIEQG       Heather   \n",
       "1      5.0     False  03 31, 2017  B01CPNIEQG  Tina McClain   \n",
       "2      3.0      True  03 11, 2017  B01CPNIEQG          Ella   \n",
       "\n",
       "                                          reviewText  \\\n",
       "0  These are my FAVORITE spices in my collection....   \n",
       "1  Love this seasoning on chicken! The flavor is ...   \n",
       "2  Ummm....interesting spice blend, but not reall...   \n",
       "\n",
       "                                             summary  unixReviewTime vote  \\\n",
       "0                    Must Add to your Spice kitchen!      1475539200  NaN   \n",
       "1                         Love all their seasoning!!      1490918400  NaN   \n",
       "2  It's not a bad taste, but they really shouldn'...      1489190400    4   \n",
       "\n",
       "  style image_x  userid  itemid  rating  \\\n",
       "0   NaN     NaN  102179   37138     1.0   \n",
       "1   NaN     NaN  117314   37138     1.0   \n",
       "2   NaN     NaN  119505   37138     0.0   \n",
       "\n",
       "                                            category  \\\n",
       "0  [Grocery & Gourmet Food, Herbs, Spices & Seaso...   \n",
       "1  [Grocery & Gourmet Food, Herbs, Spices & Seaso...   \n",
       "2  [Grocery & Gourmet Food, Herbs, Spices & Seaso...   \n",
       "\n",
       "                                         description  \\\n",
       "0  [Adobo seasoning (known as adobo seco) is a ve...   \n",
       "1  [Adobo seasoning (known as adobo seco) is a ve...   \n",
       "2  [Adobo seasoning (known as adobo seco) is a ve...   \n",
       "\n",
       "                                               title  \\\n",
       "0  Primal Palate Organic Spices Adobo Seasoning, ...   \n",
       "1  Primal Palate Organic Spices Adobo Seasoning, ...   \n",
       "2  Primal Palate Organic Spices Adobo Seasoning, ...   \n",
       "\n",
       "                          brand                         rank  \\\n",
       "0  Primal Palate Organic Spices  19,771inGroceryGourmetFood(   \n",
       "1  Primal Palate Organic Spices  19,771inGroceryGourmetFood(   \n",
       "2  Primal Palate Organic Spices  19,771inGroceryGourmetFood(   \n",
       "\n",
       "                                           also_view main_cat  price  \\\n",
       "0  [B00AJRKRJS, B01NALHAY9, B01DGZ2B48, B01EZ489A...  Grocery  $9.95   \n",
       "1  [B00AJRKRJS, B01NALHAY9, B01DGZ2B48, B01EZ489A...  Grocery  $9.95   \n",
       "2  [B00AJRKRJS, B01NALHAY9, B01DGZ2B48, B01EZ489A...  Grocery  $9.95   \n",
       "\n",
       "                                            also_buy  \\\n",
       "0  [B01DGZ2B48, B01EZ489AO, B01DH795LM, B01EYW2LC...   \n",
       "1  [B01DGZ2B48, B01EZ489AO, B01DH795LM, B01EYW2LC...   \n",
       "2  [B01DGZ2B48, B01EZ489AO, B01DH795LM, B01EYW2LC...   \n",
       "\n",
       "                                             image_y date feature  \\\n",
       "0  [https://images-na.ssl-images-amazon.com/image...  NaN     NaN   \n",
       "1  [https://images-na.ssl-images-amazon.com/image...  NaN     NaN   \n",
       "2  [https://images-na.ssl-images-amazon.com/image...  NaN     NaN   \n",
       "\n",
       "                                             details similar_item tech1  fit  \n",
       "0  \\n      <div class=\"content\">\\n\\n\\n\\n\\n\\n\\n<ul...          NaN   NaN  NaN  \n",
       "1  \\n      <div class=\"content\">\\n\\n\\n\\n\\n\\n\\n<ul...          NaN   NaN  NaN  \n",
       "2  \\n      <div class=\"content\">\\n\\n\\n\\n\\n\\n\\n<ul...          NaN   NaN  NaN  "
      ]
     },
     "execution_count": 22,
     "metadata": {},
     "output_type": "execute_result"
    }
   ],
   "source": [
    "# начнем работу с новым датасетом\n",
    "train_new.head(3)"
   ]
  },
  {
   "cell_type": "code",
   "execution_count": 23,
   "metadata": {
    "execution": {
     "iopub.execute_input": "2021-08-04T01:07:01.262989Z",
     "iopub.status.busy": "2021-08-04T01:07:01.262496Z",
     "iopub.status.idle": "2021-08-04T01:07:03.579887Z",
     "shell.execute_reply": "2021-08-04T01:07:03.579082Z",
     "shell.execute_reply.started": "2021-08-04T01:07:01.262954Z"
    }
   },
   "outputs": [
    {
     "name": "stdout",
     "output_type": "stream",
     "text": [
      "<class 'pandas.core.frame.DataFrame'>\n",
      "Int64Index: 847593 entries, 0 to 847592\n",
      "Data columns (total 30 columns):\n",
      " #   Column          Non-Null Count   Dtype  \n",
      "---  ------          --------------   -----  \n",
      " 0   overall         847593 non-null  float64\n",
      " 1   verified        847593 non-null  bool   \n",
      " 2   reviewTime      847593 non-null  object \n",
      " 3   asin            847593 non-null  object \n",
      " 4   reviewerName    847425 non-null  object \n",
      " 5   reviewText      847315 non-null  object \n",
      " 6   summary         847426 non-null  object \n",
      " 7   unixReviewTime  847593 non-null  int64  \n",
      " 8   vote            118861 non-null  object \n",
      " 9   style           440351 non-null  object \n",
      " 10  image_x         7138 non-null    object \n",
      " 11  userid          847593 non-null  int64  \n",
      " 12  itemid          847593 non-null  int64  \n",
      " 13  rating          847593 non-null  float64\n",
      " 14  category        847593 non-null  object \n",
      " 15  description     776098 non-null  object \n",
      " 16  title           847593 non-null  object \n",
      " 17  brand           841489 non-null  object \n",
      " 18  rank            812995 non-null  object \n",
      " 19  also_view       463371 non-null  object \n",
      " 20  main_cat        846638 non-null  object \n",
      " 21  price           588972 non-null  object \n",
      " 22  also_buy        726858 non-null  object \n",
      " 23  image_y         755354 non-null  object \n",
      " 24  date            12087 non-null   object \n",
      " 25  feature         142734 non-null  object \n",
      " 26  details         832985 non-null  object \n",
      " 27  similar_item    1138 non-null    object \n",
      " 28  tech1           4372 non-null    object \n",
      " 29  fit             0 non-null       object \n",
      "dtypes: bool(1), float64(2), int64(3), object(24)\n",
      "memory usage: 194.8+ MB\n"
     ]
    }
   ],
   "source": [
    "train_new.info()"
   ]
  },
  {
   "cell_type": "code",
   "execution_count": 24,
   "metadata": {
    "execution": {
     "iopub.execute_input": "2021-08-04T01:07:03.581815Z",
     "iopub.status.busy": "2021-08-04T01:07:03.581379Z",
     "iopub.status.idle": "2021-08-04T01:07:04.858648Z",
     "shell.execute_reply": "2021-08-04T01:07:04.857345Z",
     "shell.execute_reply.started": "2021-08-04T01:07:03.581765Z"
    }
   },
   "outputs": [
    {
     "name": "stdout",
     "output_type": "stream",
     "text": [
      "Пропуски в тренировочной выборке: overall                0\n",
      "verified               0\n",
      "reviewTime             0\n",
      "asin                   0\n",
      "reviewerName         168\n",
      "reviewText           278\n",
      "summary              167\n",
      "unixReviewTime         0\n",
      "vote              728732\n",
      "style             407242\n",
      "image_x           840455\n",
      "userid                 0\n",
      "itemid                 0\n",
      "rating                 0\n",
      "category               0\n",
      "description        71495\n",
      "title                  0\n",
      "brand               6104\n",
      "rank               34598\n",
      "also_view         384222\n",
      "main_cat             955\n",
      "price             258621\n",
      "also_buy          120735\n",
      "image_y            92239\n",
      "date              835506\n",
      "feature           704859\n",
      "details            14608\n",
      "similar_item      846455\n",
      "tech1             843221\n",
      "fit               847593\n",
      "dtype: int64\n",
      "Пропуски в тестовой выборке: verified               0\n",
      "reviewTime             0\n",
      "asin                   0\n",
      "reviewerName          47\n",
      "unixReviewTime         0\n",
      "vote              246503\n",
      "style             138285\n",
      "image             283597\n",
      "userid                 0\n",
      "itemid                 0\n",
      "Id                     0\n",
      "dtype: int64\n"
     ]
    }
   ],
   "source": [
    "print(\"Пропуски в тренировочной выборке:\", train_new.isnull().sum())\n",
    "print(\"Пропуски в тестовой выборке:\", test.isnull().sum())"
   ]
  },
  {
   "cell_type": "markdown",
   "metadata": {},
   "source": [
    "Мы видим, что в тренировочном датасете 30 признаков разного типа. Часть признаков имеет большое количество пропусков. Также имеются признаки с большим количеством пропусков и в тестовом датасете.\n",
    "Начнем поэтапный анализ признаков."
   ]
  },
  {
   "cell_type": "code",
   "execution_count": 25,
   "metadata": {
    "execution": {
     "iopub.execute_input": "2021-08-04T01:07:04.860697Z",
     "iopub.status.busy": "2021-08-04T01:07:04.860296Z",
     "iopub.status.idle": "2021-08-04T01:07:04.865251Z",
     "shell.execute_reply": "2021-08-04T01:07:04.864271Z",
     "shell.execute_reply.started": "2021-08-04T01:07:04.860654Z"
    }
   },
   "outputs": [],
   "source": [
    "# используем модуль для быстрого первичного анализа данных\n",
    "# если есть время и хороший комп)\n",
    "#pandas_profiling.ProfileReport(test)"
   ]
  },
  {
   "cell_type": "code",
   "execution_count": 26,
   "metadata": {
    "execution": {
     "iopub.execute_input": "2021-08-04T01:07:04.867806Z",
     "iopub.status.busy": "2021-08-04T01:07:04.867401Z",
     "iopub.status.idle": "2021-08-04T01:07:04.876924Z",
     "shell.execute_reply": "2021-08-04T01:07:04.87592Z",
     "shell.execute_reply.started": "2021-08-04T01:07:04.867764Z"
    }
   },
   "outputs": [],
   "source": [
    "#Будем добавлять признаки в определенный список:\n",
    "#числовые:\n",
    "num_cols = []\n",
    "\n",
    "# бинарные, количество уникальных значений которых равно двум\n",
    "bin_cols = []\n",
    "\n",
    "# категориальные\n",
    "cat_cols = []"
   ]
  },
  {
   "cell_type": "code",
   "execution_count": 27,
   "metadata": {
    "execution": {
     "iopub.execute_input": "2021-08-04T01:07:04.878405Z",
     "iopub.status.busy": "2021-08-04T01:07:04.878117Z",
     "iopub.status.idle": "2021-08-04T01:07:05.251104Z",
     "shell.execute_reply": "2021-08-04T01:07:05.250037Z",
     "shell.execute_reply.started": "2021-08-04T01:07:04.87838Z"
    }
   },
   "outputs": [],
   "source": [
    "df = train_new.copy()"
   ]
  },
  {
   "cell_type": "markdown",
   "metadata": {},
   "source": [
    "* overall"
   ]
  },
  {
   "cell_type": "code",
   "execution_count": 28,
   "metadata": {
    "execution": {
     "iopub.execute_input": "2021-08-04T01:07:05.252556Z",
     "iopub.status.busy": "2021-08-04T01:07:05.252289Z",
     "iopub.status.idle": "2021-08-04T01:07:05.305131Z",
     "shell.execute_reply": "2021-08-04T01:07:05.303987Z",
     "shell.execute_reply.started": "2021-08-04T01:07:05.252528Z"
    }
   },
   "outputs": [
    {
     "name": "stdout",
     "output_type": "stream",
     "text": [
      "5.0    607524\n",
      "4.0    111868\n",
      "3.0     59795\n",
      "1.0     37071\n",
      "2.0     31335\n",
      "Name: overall, dtype: int64\n",
      "count    847593.000000\n",
      "mean          4.441068\n",
      "std           1.065026\n",
      "min           1.000000\n",
      "25%           4.000000\n",
      "50%           5.000000\n",
      "75%           5.000000\n",
      "max           5.000000\n",
      "Name: overall, dtype: float64\n",
      "Пропуски: 0\n"
     ]
    }
   ],
   "source": [
    "print(df.overall.value_counts())\n",
    "print(df.overall.describe())\n",
    "print(\"Пропуски:\", df.overall.isnull().sum())"
   ]
  },
  {
   "cell_type": "code",
   "execution_count": 29,
   "metadata": {
    "execution": {
     "iopub.execute_input": "2021-08-04T01:07:05.30733Z",
     "iopub.status.busy": "2021-08-04T01:07:05.306903Z",
     "iopub.status.idle": "2021-08-04T01:07:05.594083Z",
     "shell.execute_reply": "2021-08-04T01:07:05.592896Z",
     "shell.execute_reply.started": "2021-08-04T01:07:05.307287Z"
    }
   },
   "outputs": [
    {
     "data": {
      "text/plain": [
       "<AxesSubplot:>"
      ]
     },
     "execution_count": 29,
     "metadata": {},
     "output_type": "execute_result"
    },
    {
     "data": {
      "image/png": "[encoded data removed]",
      "text/plain": [
       "<Figure size 432x288 with 1 Axes>"
      ]
     },
     "metadata": {
      "needs_background": "light"
     },
     "output_type": "display_data"
    }
   ],
   "source": [
    "df.overall.value_counts().plot.barh()"
   ]
  },
  {
   "cell_type": "markdown",
   "metadata": {},
   "source": [
    "Признак overall это 5-ти бальная шкала оценок товаров пользователями. Пропусков нет. Он отсутствует в тестовом датасете. Его можно внести в категориальные признаки."
   ]
  },
  {
   "cell_type": "code",
   "execution_count": 30,
   "metadata": {
    "execution": {
     "iopub.execute_input": "2021-08-04T01:07:05.596274Z",
     "iopub.status.busy": "2021-08-04T01:07:05.595853Z",
     "iopub.status.idle": "2021-08-04T01:07:05.608707Z",
     "shell.execute_reply": "2021-08-04T01:07:05.607544Z",
     "shell.execute_reply.started": "2021-08-04T01:07:05.596231Z"
    }
   },
   "outputs": [],
   "source": [
    "df['overall']=df['overall'].astype('int32')"
   ]
  },
  {
   "cell_type": "code",
   "execution_count": 31,
   "metadata": {
    "execution": {
     "iopub.execute_input": "2021-08-04T01:07:05.61129Z",
     "iopub.status.busy": "2021-08-04T01:07:05.610557Z",
     "iopub.status.idle": "2021-08-04T01:07:05.61691Z",
     "shell.execute_reply": "2021-08-04T01:07:05.615518Z",
     "shell.execute_reply.started": "2021-08-04T01:07:05.611209Z"
    }
   },
   "outputs": [],
   "source": [
    "cat_cols.append('overall')"
   ]
  },
  {
   "cell_type": "code",
   "execution_count": 32,
   "metadata": {
    "execution": {
     "iopub.execute_input": "2021-08-04T01:07:05.619071Z",
     "iopub.status.busy": "2021-08-04T01:07:05.618631Z",
     "iopub.status.idle": "2021-08-04T01:07:05.656754Z",
     "shell.execute_reply": "2021-08-04T01:07:05.655646Z",
     "shell.execute_reply.started": "2021-08-04T01:07:05.619019Z"
    }
   },
   "outputs": [
    {
     "data": {
      "text/html": [
       "<div>\n",
       "<style scoped>\n",
       "    .dataframe tbody tr th:only-of-type {\n",
       "        vertical-align: middle;\n",
       "    }\n",
       "\n",
       "    .dataframe tbody tr th {\n",
       "        vertical-align: top;\n",
       "    }\n",
       "\n",
       "    .dataframe thead th {\n",
       "        text-align: right;\n",
       "    }\n",
       "</style>\n",
       "<table border=\"1\" class=\"dataframe\">\n",
       "  <thead>\n",
       "    <tr style=\"text-align: right;\">\n",
       "      <th></th>\n",
       "      <th>overall</th>\n",
       "      <th>verified</th>\n",
       "      <th>reviewTime</th>\n",
       "      <th>asin</th>\n",
       "      <th>reviewerName</th>\n",
       "      <th>reviewText</th>\n",
       "      <th>summary</th>\n",
       "      <th>unixReviewTime</th>\n",
       "      <th>vote</th>\n",
       "      <th>style</th>\n",
       "      <th>image_x</th>\n",
       "      <th>userid</th>\n",
       "      <th>itemid</th>\n",
       "      <th>rating</th>\n",
       "      <th>category</th>\n",
       "      <th>description</th>\n",
       "      <th>title</th>\n",
       "      <th>brand</th>\n",
       "      <th>rank</th>\n",
       "      <th>also_view</th>\n",
       "      <th>main_cat</th>\n",
       "      <th>price</th>\n",
       "      <th>also_buy</th>\n",
       "      <th>image_y</th>\n",
       "      <th>date</th>\n",
       "      <th>feature</th>\n",
       "      <th>details</th>\n",
       "      <th>similar_item</th>\n",
       "      <th>tech1</th>\n",
       "      <th>fit</th>\n",
       "    </tr>\n",
       "  </thead>\n",
       "  <tbody>\n",
       "    <tr>\n",
       "      <th>0</th>\n",
       "      <td>5</td>\n",
       "      <td>True</td>\n",
       "      <td>10 4, 2016</td>\n",
       "      <td>B01CPNIEQG</td>\n",
       "      <td>Heather</td>\n",
       "      <td>These are my FAVORITE spices in my collection....</td>\n",
       "      <td>Must Add to your Spice kitchen!</td>\n",
       "      <td>1475539200</td>\n",
       "      <td>NaN</td>\n",
       "      <td>NaN</td>\n",
       "      <td>NaN</td>\n",
       "      <td>102179</td>\n",
       "      <td>37138</td>\n",
       "      <td>1.0</td>\n",
       "      <td>[Grocery &amp; Gourmet Food, Herbs, Spices &amp; Seaso...</td>\n",
       "      <td>[Adobo seasoning (known as adobo seco) is a ve...</td>\n",
       "      <td>Primal Palate Organic Spices Adobo Seasoning, ...</td>\n",
       "      <td>Primal Palate Organic Spices</td>\n",
       "      <td>19,771inGroceryGourmetFood(</td>\n",
       "      <td>[B00AJRKRJS, B01NALHAY9, B01DGZ2B48, B01EZ489A...</td>\n",
       "      <td>Grocery</td>\n",
       "      <td>$9.95</td>\n",
       "      <td>[B01DGZ2B48, B01EZ489AO, B01DH795LM, B01EYW2LC...</td>\n",
       "      <td>[https://images-na.ssl-images-amazon.com/image...</td>\n",
       "      <td>NaN</td>\n",
       "      <td>NaN</td>\n",
       "      <td>\\n      &lt;div class=\"content\"&gt;\\n\\n\\n\\n\\n\\n\\n&lt;ul...</td>\n",
       "      <td>NaN</td>\n",
       "      <td>NaN</td>\n",
       "      <td>NaN</td>\n",
       "    </tr>\n",
       "    <tr>\n",
       "      <th>1</th>\n",
       "      <td>5</td>\n",
       "      <td>False</td>\n",
       "      <td>03 31, 2017</td>\n",
       "      <td>B01CPNIEQG</td>\n",
       "      <td>Tina McClain</td>\n",
       "      <td>Love this seasoning on chicken! The flavor is ...</td>\n",
       "      <td>Love all their seasoning!!</td>\n",
       "      <td>1490918400</td>\n",
       "      <td>NaN</td>\n",
       "      <td>NaN</td>\n",
       "      <td>NaN</td>\n",
       "      <td>117314</td>\n",
       "      <td>37138</td>\n",
       "      <td>1.0</td>\n",
       "      <td>[Grocery &amp; Gourmet Food, Herbs, Spices &amp; Seaso...</td>\n",
       "      <td>[Adobo seasoning (known as adobo seco) is a ve...</td>\n",
       "      <td>Primal Palate Organic Spices Adobo Seasoning, ...</td>\n",
       "      <td>Primal Palate Organic Spices</td>\n",
       "      <td>19,771inGroceryGourmetFood(</td>\n",
       "      <td>[B00AJRKRJS, B01NALHAY9, B01DGZ2B48, B01EZ489A...</td>\n",
       "      <td>Grocery</td>\n",
       "      <td>$9.95</td>\n",
       "      <td>[B01DGZ2B48, B01EZ489AO, B01DH795LM, B01EYW2LC...</td>\n",
       "      <td>[https://images-na.ssl-images-amazon.com/image...</td>\n",
       "      <td>NaN</td>\n",
       "      <td>NaN</td>\n",
       "      <td>\\n      &lt;div class=\"content\"&gt;\\n\\n\\n\\n\\n\\n\\n&lt;ul...</td>\n",
       "      <td>NaN</td>\n",
       "      <td>NaN</td>\n",
       "      <td>NaN</td>\n",
       "    </tr>\n",
       "  </tbody>\n",
       "</table>\n",
       "</div>"
      ],
      "text/plain": [
       "   overall  verified   reviewTime        asin  reviewerName  \\\n",
       "0        5      True   10 4, 2016  B01CPNIEQG       Heather   \n",
       "1        5     False  03 31, 2017  B01CPNIEQG  Tina McClain   \n",
       "\n",
       "                                          reviewText  \\\n",
       "0  These are my FAVORITE spices in my collection....   \n",
       "1  Love this seasoning on chicken! The flavor is ...   \n",
       "\n",
       "                           summary  unixReviewTime vote style image_x  userid  \\\n",
       "0  Must Add to your Spice kitchen!      1475539200  NaN   NaN     NaN  102179   \n",
       "1       Love all their seasoning!!      1490918400  NaN   NaN     NaN  117314   \n",
       "\n",
       "   itemid  rating                                           category  \\\n",
       "0   37138     1.0  [Grocery & Gourmet Food, Herbs, Spices & Seaso...   \n",
       "1   37138     1.0  [Grocery & Gourmet Food, Herbs, Spices & Seaso...   \n",
       "\n",
       "                                         description  \\\n",
       "0  [Adobo seasoning (known as adobo seco) is a ve...   \n",
       "1  [Adobo seasoning (known as adobo seco) is a ve...   \n",
       "\n",
       "                                               title  \\\n",
       "0  Primal Palate Organic Spices Adobo Seasoning, ...   \n",
       "1  Primal Palate Organic Spices Adobo Seasoning, ...   \n",
       "\n",
       "                          brand                         rank  \\\n",
       "0  Primal Palate Organic Spices  19,771inGroceryGourmetFood(   \n",
       "1  Primal Palate Organic Spices  19,771inGroceryGourmetFood(   \n",
       "\n",
       "                                           also_view main_cat  price  \\\n",
       "0  [B00AJRKRJS, B01NALHAY9, B01DGZ2B48, B01EZ489A...  Grocery  $9.95   \n",
       "1  [B00AJRKRJS, B01NALHAY9, B01DGZ2B48, B01EZ489A...  Grocery  $9.95   \n",
       "\n",
       "                                            also_buy  \\\n",
       "0  [B01DGZ2B48, B01EZ489AO, B01DH795LM, B01EYW2LC...   \n",
       "1  [B01DGZ2B48, B01EZ489AO, B01DH795LM, B01EYW2LC...   \n",
       "\n",
       "                                             image_y date feature  \\\n",
       "0  [https://images-na.ssl-images-amazon.com/image...  NaN     NaN   \n",
       "1  [https://images-na.ssl-images-amazon.com/image...  NaN     NaN   \n",
       "\n",
       "                                             details similar_item tech1  fit  \n",
       "0  \\n      <div class=\"content\">\\n\\n\\n\\n\\n\\n\\n<ul...          NaN   NaN  NaN  \n",
       "1  \\n      <div class=\"content\">\\n\\n\\n\\n\\n\\n\\n<ul...          NaN   NaN  NaN  "
      ]
     },
     "execution_count": 32,
     "metadata": {},
     "output_type": "execute_result"
    }
   ],
   "source": [
    "df.head(2)"
   ]
  },
  {
   "cell_type": "markdown",
   "metadata": {},
   "source": [
    "* verified"
   ]
  },
  {
   "cell_type": "code",
   "execution_count": 33,
   "metadata": {
    "execution": {
     "iopub.execute_input": "2021-08-04T01:07:05.658477Z",
     "iopub.status.busy": "2021-08-04T01:07:05.658161Z",
     "iopub.status.idle": "2021-08-04T01:07:05.690603Z",
     "shell.execute_reply": "2021-08-04T01:07:05.689542Z",
     "shell.execute_reply.started": "2021-08-04T01:07:05.658448Z"
    }
   },
   "outputs": [
    {
     "name": "stdout",
     "output_type": "stream",
     "text": [
      "True     736369\n",
      "False    111224\n",
      "Name: verified, dtype: int64\n",
      "count     847593\n",
      "unique         2\n",
      "top         True\n",
      "freq      736369\n",
      "Name: verified, dtype: object\n",
      "Пропуски: 0\n"
     ]
    }
   ],
   "source": [
    "print(df.verified.value_counts())\n",
    "print(df.verified.describe())\n",
    "print(\"Пропуски:\", df.verified.isnull().sum())"
   ]
  },
  {
   "cell_type": "code",
   "execution_count": 34,
   "metadata": {
    "execution": {
     "iopub.execute_input": "2021-08-04T01:07:05.694349Z",
     "iopub.status.busy": "2021-08-04T01:07:05.694023Z",
     "iopub.status.idle": "2021-08-04T01:07:05.89695Z",
     "shell.execute_reply": "2021-08-04T01:07:05.89588Z",
     "shell.execute_reply.started": "2021-08-04T01:07:05.694321Z"
    }
   },
   "outputs": [
    {
     "data": {
      "text/plain": [
       "<AxesSubplot:xlabel='verified', ylabel='count'>"
      ]
     },
     "execution_count": 34,
     "metadata": {},
     "output_type": "execute_result"
    },
    {
     "data": {
      "image/png": "[encoded data removed]",
      "text/plain": [
       "<Figure size 432x288 with 1 Axes>"
      ]
     },
     "metadata": {
      "needs_background": "light"
     },
     "output_type": "display_data"
    }
   ],
   "source": [
    "sns.countplot(x = 'verified', data = df)"
   ]
  },
  {
   "cell_type": "code",
   "execution_count": 35,
   "metadata": {
    "execution": {
     "iopub.execute_input": "2021-08-04T01:07:05.898459Z",
     "iopub.status.busy": "2021-08-04T01:07:05.898133Z",
     "iopub.status.idle": "2021-08-04T01:07:06.179667Z",
     "shell.execute_reply": "2021-08-04T01:07:06.178731Z",
     "shell.execute_reply.started": "2021-08-04T01:07:05.898429Z"
    }
   },
   "outputs": [],
   "source": [
    "# Преобразуем значения в колонке verified\n",
    "df['verified'] = df['verified'].map(lambda x: 1 if x == True else 0).astype('int')"
   ]
  },
  {
   "cell_type": "markdown",
   "metadata": {},
   "source": [
    "Показатель означает верификацию отзыва пользователя. Имеется в тестовом датасете. Внесем его в список бинарных признаков."
   ]
  },
  {
   "cell_type": "code",
   "execution_count": 36,
   "metadata": {
    "execution": {
     "iopub.execute_input": "2021-08-04T01:07:06.181386Z",
     "iopub.status.busy": "2021-08-04T01:07:06.181067Z",
     "iopub.status.idle": "2021-08-04T01:07:06.185496Z",
     "shell.execute_reply": "2021-08-04T01:07:06.184448Z",
     "shell.execute_reply.started": "2021-08-04T01:07:06.181356Z"
    }
   },
   "outputs": [],
   "source": [
    "bin_cols.append('verified')"
   ]
  },
  {
   "cell_type": "markdown",
   "metadata": {},
   "source": [
    "* reviewTime"
   ]
  },
  {
   "cell_type": "markdown",
   "metadata": {},
   "source": [
    "В описании сказано, что это время написания отзыва, у нас также имеется признак того же самого, но в юниксовом формате unixReviewTime. Очевидно, что признак reviewTime можно и нужно удалить, так как это сто процентная корреляция."
   ]
  },
  {
   "cell_type": "code",
   "execution_count": 37,
   "metadata": {
    "execution": {
     "iopub.execute_input": "2021-08-04T01:07:06.187341Z",
     "iopub.status.busy": "2021-08-04T01:07:06.186997Z",
     "iopub.status.idle": "2021-08-04T01:07:06.51796Z",
     "shell.execute_reply": "2021-08-04T01:07:06.51686Z",
     "shell.execute_reply.started": "2021-08-04T01:07:06.187311Z"
    }
   },
   "outputs": [],
   "source": [
    "df = df.drop(['reviewTime'], axis=1)"
   ]
  },
  {
   "cell_type": "markdown",
   "metadata": {},
   "source": [
    "* asin"
   ]
  },
  {
   "cell_type": "code",
   "execution_count": 38,
   "metadata": {
    "execution": {
     "iopub.execute_input": "2021-08-04T01:07:06.519546Z",
     "iopub.status.busy": "2021-08-04T01:07:06.519265Z",
     "iopub.status.idle": "2021-08-04T01:07:06.999967Z",
     "shell.execute_reply": "2021-08-04T01:07:06.998947Z",
     "shell.execute_reply.started": "2021-08-04T01:07:06.51952Z"
    }
   },
   "outputs": [
    {
     "name": "stdout",
     "output_type": "stream",
     "text": [
      "B00BUKL666    5430\n",
      "B00D3M2QP4    4733\n",
      "B008QMX2SG    4611\n",
      "B0001LO3FG    4252\n",
      "B00R7PWK7W    2449\n",
      "              ... \n",
      "B001CHJ07Y       1\n",
      "B000VH6TJS       1\n",
      "B001QXZ74Y       1\n",
      "B000X1KBYQ       1\n",
      "B004VLVQGQ       1\n",
      "Name: asin, Length: 41302, dtype: int64\n",
      "count         847593\n",
      "unique         41302\n",
      "top       B00BUKL666\n",
      "freq            5430\n",
      "Name: asin, dtype: object\n",
      "Пропуски: 0\n"
     ]
    }
   ],
   "source": [
    "print(df.asin.value_counts())\n",
    "print(df.asin.describe())\n",
    "print(\"Пропуски:\", df.asin.isnull().sum())"
   ]
  },
  {
   "cell_type": "code",
   "execution_count": 39,
   "metadata": {
    "execution": {
     "iopub.execute_input": "2021-08-04T01:07:07.001982Z",
     "iopub.status.busy": "2021-08-04T01:07:07.001696Z",
     "iopub.status.idle": "2021-08-04T01:07:07.116528Z",
     "shell.execute_reply": "2021-08-04T01:07:07.115483Z",
     "shell.execute_reply.started": "2021-08-04T01:07:07.001955Z"
    }
   },
   "outputs": [
    {
     "data": {
      "text/html": [
       "<div>\n",
       "<style scoped>\n",
       "    .dataframe tbody tr th:only-of-type {\n",
       "        vertical-align: middle;\n",
       "    }\n",
       "\n",
       "    .dataframe tbody tr th {\n",
       "        vertical-align: top;\n",
       "    }\n",
       "\n",
       "    .dataframe thead th {\n",
       "        text-align: right;\n",
       "    }\n",
       "</style>\n",
       "<table border=\"1\" class=\"dataframe\">\n",
       "  <thead>\n",
       "    <tr style=\"text-align: right;\">\n",
       "      <th></th>\n",
       "      <th>overall</th>\n",
       "      <th>verified</th>\n",
       "      <th>asin</th>\n",
       "      <th>reviewerName</th>\n",
       "      <th>reviewText</th>\n",
       "      <th>summary</th>\n",
       "      <th>unixReviewTime</th>\n",
       "      <th>vote</th>\n",
       "      <th>style</th>\n",
       "      <th>image_x</th>\n",
       "      <th>userid</th>\n",
       "      <th>itemid</th>\n",
       "      <th>rating</th>\n",
       "      <th>category</th>\n",
       "      <th>description</th>\n",
       "      <th>title</th>\n",
       "      <th>brand</th>\n",
       "      <th>rank</th>\n",
       "      <th>also_view</th>\n",
       "      <th>main_cat</th>\n",
       "      <th>price</th>\n",
       "      <th>also_buy</th>\n",
       "      <th>image_y</th>\n",
       "      <th>date</th>\n",
       "      <th>feature</th>\n",
       "      <th>details</th>\n",
       "      <th>similar_item</th>\n",
       "      <th>tech1</th>\n",
       "      <th>fit</th>\n",
       "    </tr>\n",
       "  </thead>\n",
       "  <tbody>\n",
       "    <tr>\n",
       "      <th>9103</th>\n",
       "      <td>5</td>\n",
       "      <td>1</td>\n",
       "      <td>B00BUKL666</td>\n",
       "      <td>E.S.</td>\n",
       "      <td>The dark chocolate and sea salt are a deliciou...</td>\n",
       "      <td>Great taste!</td>\n",
       "      <td>1488585600</td>\n",
       "      <td>NaN</td>\n",
       "      <td>NaN</td>\n",
       "      <td>NaN</td>\n",
       "      <td>111921</td>\n",
       "      <td>22208</td>\n",
       "      <td>1.0</td>\n",
       "      <td>[Grocery &amp; Gourmet Food, Snack Foods, Bars, Nu...</td>\n",
       "      <td>[These bars are where our journey started and ...</td>\n",
       "      <td>KIND Bars, Dark Chocolate Nuts &amp; Sea Salt, Glu...</td>\n",
       "      <td>KIND</td>\n",
       "      <td>18inGroceryGourmetFood(</td>\n",
       "      <td>NaN</td>\n",
       "      <td>Grocery</td>\n",
       "      <td>$13.67</td>\n",
       "      <td>[B003TNANSO, B003TMZQC8, B00IZF0LCE, B003TN6FS...</td>\n",
       "      <td>[https://images-na.ssl-images-amazon.com/image...</td>\n",
       "      <td>NaN</td>\n",
       "      <td>NaN</td>\n",
       "      <td>\\n\\n\\n\\n\\n\\n    &lt;div class=\"disclaim\"&gt;Flavor: ...</td>\n",
       "      <td>NaN</td>\n",
       "      <td>NaN</td>\n",
       "      <td>NaN</td>\n",
       "    </tr>\n",
       "    <tr>\n",
       "      <th>9104</th>\n",
       "      <td>5</td>\n",
       "      <td>1</td>\n",
       "      <td>B00BUKL666</td>\n",
       "      <td>booksrock</td>\n",
       "      <td>Delicious! My second favorite Kind bar!</td>\n",
       "      <td>My second favorite Kind bar</td>\n",
       "      <td>1504137600</td>\n",
       "      <td>NaN</td>\n",
       "      <td>NaN</td>\n",
       "      <td>NaN</td>\n",
       "      <td>123191</td>\n",
       "      <td>22208</td>\n",
       "      <td>1.0</td>\n",
       "      <td>[Grocery &amp; Gourmet Food, Snack Foods, Bars, Nu...</td>\n",
       "      <td>[These bars are where our journey started and ...</td>\n",
       "      <td>KIND Bars, Dark Chocolate Nuts &amp; Sea Salt, Glu...</td>\n",
       "      <td>KIND</td>\n",
       "      <td>18inGroceryGourmetFood(</td>\n",
       "      <td>NaN</td>\n",
       "      <td>Grocery</td>\n",
       "      <td>$13.67</td>\n",
       "      <td>[B003TNANSO, B003TMZQC8, B00IZF0LCE, B003TN6FS...</td>\n",
       "      <td>[https://images-na.ssl-images-amazon.com/image...</td>\n",
       "      <td>NaN</td>\n",
       "      <td>NaN</td>\n",
       "      <td>\\n\\n\\n\\n\\n\\n    &lt;div class=\"disclaim\"&gt;Flavor: ...</td>\n",
       "      <td>NaN</td>\n",
       "      <td>NaN</td>\n",
       "      <td>NaN</td>\n",
       "    </tr>\n",
       "  </tbody>\n",
       "</table>\n",
       "</div>"
      ],
      "text/plain": [
       "      overall  verified        asin reviewerName  \\\n",
       "9103        5         1  B00BUKL666         E.S.   \n",
       "9104        5         1  B00BUKL666    booksrock   \n",
       "\n",
       "                                             reviewText  \\\n",
       "9103  The dark chocolate and sea salt are a deliciou...   \n",
       "9104            Delicious! My second favorite Kind bar!   \n",
       "\n",
       "                          summary  unixReviewTime vote style image_x  userid  \\\n",
       "9103                 Great taste!      1488585600  NaN   NaN     NaN  111921   \n",
       "9104  My second favorite Kind bar      1504137600  NaN   NaN     NaN  123191   \n",
       "\n",
       "      itemid  rating                                           category  \\\n",
       "9103   22208     1.0  [Grocery & Gourmet Food, Snack Foods, Bars, Nu...   \n",
       "9104   22208     1.0  [Grocery & Gourmet Food, Snack Foods, Bars, Nu...   \n",
       "\n",
       "                                            description  \\\n",
       "9103  [These bars are where our journey started and ...   \n",
       "9104  [These bars are where our journey started and ...   \n",
       "\n",
       "                                                  title brand  \\\n",
       "9103  KIND Bars, Dark Chocolate Nuts & Sea Salt, Glu...  KIND   \n",
       "9104  KIND Bars, Dark Chocolate Nuts & Sea Salt, Glu...  KIND   \n",
       "\n",
       "                         rank also_view main_cat   price  \\\n",
       "9103  18inGroceryGourmetFood(       NaN  Grocery  $13.67   \n",
       "9104  18inGroceryGourmetFood(       NaN  Grocery  $13.67   \n",
       "\n",
       "                                               also_buy  \\\n",
       "9103  [B003TNANSO, B003TMZQC8, B00IZF0LCE, B003TN6FS...   \n",
       "9104  [B003TNANSO, B003TMZQC8, B00IZF0LCE, B003TN6FS...   \n",
       "\n",
       "                                                image_y date feature  \\\n",
       "9103  [https://images-na.ssl-images-amazon.com/image...  NaN     NaN   \n",
       "9104  [https://images-na.ssl-images-amazon.com/image...  NaN     NaN   \n",
       "\n",
       "                                                details similar_item tech1  \\\n",
       "9103  \\n\\n\\n\\n\\n\\n    <div class=\"disclaim\">Flavor: ...          NaN   NaN   \n",
       "9104  \\n\\n\\n\\n\\n\\n    <div class=\"disclaim\">Flavor: ...          NaN   NaN   \n",
       "\n",
       "      fit  \n",
       "9103  NaN  \n",
       "9104  NaN  "
      ]
     },
     "metadata": {},
     "output_type": "display_data"
    }
   ],
   "source": [
    "# посмотрим на самую популярную покупкy - это батончик за 13.7 долларов фирмы KIND\n",
    "pd.set_option('display.max_columns', None)\n",
    "display(df[df.asin == 'B00BUKL666'][:2])"
   ]
  },
  {
   "cell_type": "markdown",
   "metadata": {},
   "source": [
    "Уникальных товаров в нашей базе данных 41302. Не понятно как он может быть полезен. Вероятно, стоит его удалить."
   ]
  },
  {
   "cell_type": "code",
   "execution_count": 40,
   "metadata": {
    "execution": {
     "iopub.execute_input": "2021-08-04T01:07:07.118301Z",
     "iopub.status.busy": "2021-08-04T01:07:07.117976Z",
     "iopub.status.idle": "2021-08-04T01:07:07.574584Z",
     "shell.execute_reply": "2021-08-04T01:07:07.573527Z",
     "shell.execute_reply.started": "2021-08-04T01:07:07.11827Z"
    }
   },
   "outputs": [],
   "source": [
    "#удаляем\n",
    "df = df.drop(['asin'], axis=1)"
   ]
  },
  {
   "cell_type": "markdown",
   "metadata": {},
   "source": [
    "* reviewerName"
   ]
  },
  {
   "cell_type": "code",
   "execution_count": 41,
   "metadata": {
    "execution": {
     "iopub.execute_input": "2021-08-04T01:07:07.576557Z",
     "iopub.status.busy": "2021-08-04T01:07:07.576138Z",
     "iopub.status.idle": "2021-08-04T01:07:08.799338Z",
     "shell.execute_reply": "2021-08-04T01:07:08.79805Z",
     "shell.execute_reply.started": "2021-08-04T01:07:07.576515Z"
    }
   },
   "outputs": [
    {
     "name": "stdout",
     "output_type": "stream",
     "text": [
      "Amazon Customer      31346\n",
      "Kindle Customer       6128\n",
      "Linda                  729\n",
      "John                   714\n",
      "David                  606\n",
      "                     ...  \n",
      "Randys                   1\n",
      "Crisssy                  1\n",
      "Laurie destuchmsn        1\n",
      "Lala805                  1\n",
      "ViperOps                 1\n",
      "Name: reviewerName, Length: 101207, dtype: int64\n",
      "count              847425\n",
      "unique             101207\n",
      "top       Amazon Customer\n",
      "freq                31346\n",
      "Name: reviewerName, dtype: object\n",
      "Пропуски: 168\n"
     ]
    }
   ],
   "source": [
    "print(df.reviewerName.value_counts())\n",
    "print(df.reviewerName.describe())\n",
    "print(\"Пропуски:\", df.reviewerName.isnull().sum())"
   ]
  },
  {
   "cell_type": "code",
   "execution_count": 42,
   "metadata": {
    "execution": {
     "iopub.execute_input": "2021-08-04T01:07:08.801535Z",
     "iopub.status.busy": "2021-08-04T01:07:08.801053Z",
     "iopub.status.idle": "2021-08-04T01:07:09.215698Z",
     "shell.execute_reply": "2021-08-04T01:07:09.214643Z",
     "shell.execute_reply.started": "2021-08-04T01:07:08.80149Z"
    }
   },
   "outputs": [
    {
     "data": {
      "text/plain": [
       "<AxesSubplot:>"
      ]
     },
     "execution_count": 42,
     "metadata": {},
     "output_type": "execute_result"
    },
    {
     "data": {
      "image/png": "[encoded data removed]",
      "text/plain": [
       "<Figure size 432x288 with 1 Axes>"
      ]
     },
     "metadata": {
      "needs_background": "light"
     },
     "output_type": "display_data"
    }
   ],
   "source": [
    "# зависимость оценок от никнейма Амазонский покупатель\n",
    "df['overall'][df['reviewerName'] == 'Amazon Customer'].hist(bins=10)"
   ]
  },
  {
   "cell_type": "markdown",
   "metadata": {},
   "source": [
    "Очевидно, что в данном признаке указаны не уникальные имена. Если посмотреть зависимость оценок от наиболее распространенных имен - распределения практически идентичные. Сложно понять как этот признак может быть полезен в модели. Хотя, можно придумать рекомендательную систему 'покупатели с таким же именем как у вас чаще всего покупают...'. Но это не соответствует нашей текущей задаче. Удалим признак."
   ]
  },
  {
   "cell_type": "code",
   "execution_count": 43,
   "metadata": {
    "execution": {
     "iopub.execute_input": "2021-08-04T01:07:09.217411Z",
     "iopub.status.busy": "2021-08-04T01:07:09.217127Z",
     "iopub.status.idle": "2021-08-04T01:07:09.613558Z",
     "shell.execute_reply": "2021-08-04T01:07:09.61246Z",
     "shell.execute_reply.started": "2021-08-04T01:07:09.217384Z"
    }
   },
   "outputs": [],
   "source": [
    "df = df.drop(['reviewerName'], axis=1)"
   ]
  },
  {
   "cell_type": "markdown",
   "metadata": {},
   "source": [
    "* reviewText"
   ]
  },
  {
   "cell_type": "markdown",
   "metadata": {},
   "source": [
    "Этот признак более расширенная версия признака summary его нет в тестовом датасете. Мжно его удалить."
   ]
  },
  {
   "cell_type": "code",
   "execution_count": 44,
   "metadata": {
    "execution": {
     "iopub.execute_input": "2021-08-04T01:07:09.615591Z",
     "iopub.status.busy": "2021-08-04T01:07:09.615206Z",
     "iopub.status.idle": "2021-08-04T01:07:09.972368Z",
     "shell.execute_reply": "2021-08-04T01:07:09.971456Z",
     "shell.execute_reply.started": "2021-08-04T01:07:09.615559Z"
    }
   },
   "outputs": [],
   "source": [
    "df = df.drop(['reviewText'], axis=1)"
   ]
  },
  {
   "cell_type": "markdown",
   "metadata": {},
   "source": [
    "* summary"
   ]
  },
  {
   "cell_type": "code",
   "execution_count": 45,
   "metadata": {
    "execution": {
     "iopub.execute_input": "2021-08-04T01:07:09.974284Z",
     "iopub.status.busy": "2021-08-04T01:07:09.973865Z",
     "iopub.status.idle": "2021-08-04T01:07:11.63474Z",
     "shell.execute_reply": "2021-08-04T01:07:11.633906Z",
     "shell.execute_reply.started": "2021-08-04T01:07:09.974241Z"
    }
   },
   "outputs": [
    {
     "name": "stdout",
     "output_type": "stream",
     "text": [
      "Five Stars                             171328\n",
      "Four Stars                              26597\n",
      "Three Stars                             11913\n",
      "One Star                                 5300\n",
      "Two Stars                                4920\n",
      "                                        ...  \n",
      "bought this to create my own makeup         1\n",
      "Great taste and freshness                   1\n",
      "Cacao nibs are lousy!                       1\n",
      "Best tasting Stevia Ever!                   1\n",
      "Husband approves.                           1\n",
      "Name: summary, Length: 411451, dtype: int64\n",
      "count         847426\n",
      "unique        411451\n",
      "top       Five Stars\n",
      "freq          171328\n",
      "Name: summary, dtype: object\n",
      "Пропуски: 167\n"
     ]
    }
   ],
   "source": [
    "print(df.summary.value_counts())\n",
    "print(df.summary.describe())\n",
    "print(\"Пропуски:\", df.summary.isnull().sum())"
   ]
  },
  {
   "cell_type": "markdown",
   "metadata": {},
   "source": [
    "Этого признака также нет в тестовой выборке. Но здесь можно поработать в будущем - создать список наиболее популярных слов. Напрмер word_list = ['Five Stars', 'Four Stars'] и т.д. Затем разбить их по критериям и сделать dummy - переменные. Запомним эту мысль на случай, если нам понадобится поработать с доп фичами. А пока удалим."
   ]
  },
  {
   "cell_type": "code",
   "execution_count": 46,
   "metadata": {
    "execution": {
     "iopub.execute_input": "2021-08-04T01:07:11.645528Z",
     "iopub.status.busy": "2021-08-04T01:07:11.645164Z",
     "iopub.status.idle": "2021-08-04T01:07:11.961139Z",
     "shell.execute_reply": "2021-08-04T01:07:11.960116Z",
     "shell.execute_reply.started": "2021-08-04T01:07:11.645495Z"
    }
   },
   "outputs": [],
   "source": [
    "df = df.drop(['summary'], axis=1)"
   ]
  },
  {
   "cell_type": "markdown",
   "metadata": {},
   "source": [
    "* unixReviewTime"
   ]
  },
  {
   "cell_type": "code",
   "execution_count": 47,
   "metadata": {
    "execution": {
     "iopub.execute_input": "2021-08-04T01:07:11.966638Z",
     "iopub.status.busy": "2021-08-04T01:07:11.966321Z",
     "iopub.status.idle": "2021-08-04T01:07:11.974175Z",
     "shell.execute_reply": "2021-08-04T01:07:11.972909Z",
     "shell.execute_reply.started": "2021-08-04T01:07:11.96661Z"
    }
   },
   "outputs": [],
   "source": [
    "tsmin = datetime.utcfromtimestamp(df.unixReviewTime.min()).strftime('%Y-%m-%d %H:%M:%S')\n",
    "tsmax = datetime.utcfromtimestamp(df.unixReviewTime.max()).strftime('%Y-%m-%d %H:%M:%S')"
   ]
  },
  {
   "cell_type": "code",
   "execution_count": 48,
   "metadata": {
    "execution": {
     "iopub.execute_input": "2021-08-04T01:07:11.97628Z",
     "iopub.status.busy": "2021-08-04T01:07:11.975832Z",
     "iopub.status.idle": "2021-08-04T01:07:11.98405Z",
     "shell.execute_reply": "2021-08-04T01:07:11.983065Z",
     "shell.execute_reply.started": "2021-08-04T01:07:11.976235Z"
    }
   },
   "outputs": [
    {
     "name": "stdout",
     "output_type": "stream",
     "text": [
      "2000-08-09 00:00:00\n",
      "2018-10-02 00:00:00\n"
     ]
    }
   ],
   "source": [
    "print(tsmin)\n",
    "print(tsmax)\n",
    "# все отзывы оставлены в период с 2000 по 2018 год"
   ]
  },
  {
   "cell_type": "code",
   "execution_count": 49,
   "metadata": {
    "execution": {
     "iopub.execute_input": "2021-08-04T01:07:11.986056Z",
     "iopub.status.busy": "2021-08-04T01:07:11.985675Z",
     "iopub.status.idle": "2021-08-04T01:07:12.044507Z",
     "shell.execute_reply": "2021-08-04T01:07:12.043373Z",
     "shell.execute_reply.started": "2021-08-04T01:07:11.986025Z"
    }
   },
   "outputs": [],
   "source": [
    "tsmin = df.unixReviewTime.min()\n",
    "ts25 = int(df.unixReviewTime.quantile(0.25))\n",
    "ts50 = int(df.unixReviewTime.quantile(0.50))\n",
    "ts75 = int(df.unixReviewTime.quantile(0.75))\n",
    "tsmax = df.unixReviewTime.max()"
   ]
  },
  {
   "cell_type": "code",
   "execution_count": 50,
   "metadata": {
    "execution": {
     "iopub.execute_input": "2021-08-04T01:07:12.046384Z",
     "iopub.status.busy": "2021-08-04T01:07:12.046069Z",
     "iopub.status.idle": "2021-08-04T01:07:12.352481Z",
     "shell.execute_reply": "2021-08-04T01:07:12.35134Z",
     "shell.execute_reply.started": "2021-08-04T01:07:12.046354Z"
    }
   },
   "outputs": [],
   "source": [
    "def cat_date(x):\n",
    "    if x <= ts25: x = 'old'\n",
    "    elif ts25 < x < ts75: x = 'middle'\n",
    "    elif ts75 <= x: x = 'new'\n",
    "    return x      \n",
    "\n",
    "# Заменим значения в столбце на категории\n",
    "df['unixReviewTime'] = df['unixReviewTime'].apply(lambda x: cat_date(x))"
   ]
  },
  {
   "cell_type": "code",
   "execution_count": 51,
   "metadata": {
    "execution": {
     "iopub.execute_input": "2021-08-04T01:07:12.354251Z",
     "iopub.status.busy": "2021-08-04T01:07:12.353786Z",
     "iopub.status.idle": "2021-08-04T01:07:12.35815Z",
     "shell.execute_reply": "2021-08-04T01:07:12.357124Z",
     "shell.execute_reply.started": "2021-08-04T01:07:12.354207Z"
    }
   },
   "outputs": [],
   "source": [
    "# df['unixReviewTime'] = df['unixReviewTime'].apply(lambda x: 'old' if x <= int(df.unixReviewTime.quantile(0.25)) else 'new' if x >= int(df.unixReviewTime.quantile(0.75)) else 'middle')"
   ]
  },
  {
   "cell_type": "markdown",
   "metadata": {},
   "source": [
    "* vote"
   ]
  },
  {
   "cell_type": "code",
   "execution_count": 52,
   "metadata": {
    "execution": {
     "iopub.execute_input": "2021-08-04T01:07:12.360087Z",
     "iopub.status.busy": "2021-08-04T01:07:12.359758Z",
     "iopub.status.idle": "2021-08-04T01:07:12.89782Z",
     "shell.execute_reply": "2021-08-04T01:07:12.896788Z",
     "shell.execute_reply.started": "2021-08-04T01:07:12.360058Z"
    }
   },
   "outputs": [
    {
     "name": "stdout",
     "output_type": "stream",
     "text": [
      "2.0      30774\n",
      "3.0      15336\n",
      "2        13786\n",
      "4.0       8893\n",
      "3         6969\n",
      "         ...  \n",
      "131          1\n",
      "588          1\n",
      "97           1\n",
      "238.0        1\n",
      "187          1\n",
      "Name: vote, Length: 477, dtype: int64\n",
      "count     118861.0\n",
      "unique       477.0\n",
      "top            2.0\n",
      "freq       30774.0\n",
      "Name: vote, dtype: float64\n",
      "Пропуски: 728732\n"
     ]
    }
   ],
   "source": [
    "print(df.vote.value_counts())\n",
    "print(df.vote.describe())\n",
    "print(\"Пропуски:\", df.vote.isnull().sum())"
   ]
  },
  {
   "cell_type": "code",
   "execution_count": 53,
   "metadata": {
    "execution": {
     "iopub.execute_input": "2021-08-04T01:07:12.899556Z",
     "iopub.status.busy": "2021-08-04T01:07:12.899272Z",
     "iopub.status.idle": "2021-08-04T01:07:14.082633Z",
     "shell.execute_reply": "2021-08-04T01:07:14.081586Z",
     "shell.execute_reply.started": "2021-08-04T01:07:12.89953Z"
    }
   },
   "outputs": [],
   "source": [
    "# Удалим запятые\n",
    "df['vote'] = df['vote'].astype('str')\n",
    "df['vote'] = df['vote'].apply(lambda x: x.replace(',', ''))\n",
    "# Заменим пропуски на 0\n",
    "df['vote'] = df['vote'].apply(lambda x: x.replace('nan', '0'))\n",
    "df.vote = df.vote.fillna(0)\n",
    "# Приведем к int32\n",
    "df['vote'] = df['vote'].astype('float')\n",
    "df['vote'] = df['vote'].astype('int32')"
   ]
  },
  {
   "cell_type": "code",
   "execution_count": 54,
   "metadata": {
    "execution": {
     "iopub.execute_input": "2021-08-04T01:07:14.084598Z",
     "iopub.status.busy": "2021-08-04T01:07:14.084293Z",
     "iopub.status.idle": "2021-08-04T01:07:14.468083Z",
     "shell.execute_reply": "2021-08-04T01:07:14.46713Z",
     "shell.execute_reply.started": "2021-08-04T01:07:14.084571Z"
    }
   },
   "outputs": [
    {
     "data": {
      "text/plain": [
       "<AxesSubplot:>"
      ]
     },
     "execution_count": 54,
     "metadata": {},
     "output_type": "execute_result"
    },
    {
     "data": {
      "image/png": "[encoded data removed]",
      "text/plain": [
       "<Figure size 720x720 with 1 Axes>"
      ]
     },
     "metadata": {
      "needs_background": "light"
     },
     "output_type": "display_data"
    }
   ],
   "source": [
    "df['vote'].hist(figsize=(10,10), bins=50)\n",
    "# очевидно, что по большинству отзывов нет оценок"
   ]
  },
  {
   "cell_type": "code",
   "execution_count": 55,
   "metadata": {
    "execution": {
     "iopub.execute_input": "2021-08-04T01:07:14.469879Z",
     "iopub.status.busy": "2021-08-04T01:07:14.469565Z",
     "iopub.status.idle": "2021-08-04T01:07:14.487334Z",
     "shell.execute_reply": "2021-08-04T01:07:14.486161Z",
     "shell.execute_reply.started": "2021-08-04T01:07:14.469851Z"
    }
   },
   "outputs": [
    {
     "name": "stdout",
     "output_type": "stream",
     "text": [
      "0      728732\n",
      "2       44560\n",
      "3       22305\n",
      "4       12872\n",
      "5        8275\n",
      "        ...  \n",
      "594         1\n",
      "218         1\n",
      "214         1\n",
      "211         1\n",
      "507         1\n",
      "Name: vote, Length: 312, dtype: int64\n"
     ]
    }
   ],
   "source": [
    "print(df.vote.value_counts())"
   ]
  },
  {
   "cell_type": "code",
   "execution_count": 56,
   "metadata": {
    "execution": {
     "iopub.execute_input": "2021-08-04T01:07:14.489129Z",
     "iopub.status.busy": "2021-08-04T01:07:14.488724Z",
     "iopub.status.idle": "2021-08-04T01:07:14.624525Z",
     "shell.execute_reply": "2021-08-04T01:07:14.623528Z",
     "shell.execute_reply.started": "2021-08-04T01:07:14.489093Z"
    }
   },
   "outputs": [],
   "source": [
    "# сделаем категории по количеству голосов за отзыв\n",
    "df[\"vote\"] = df[\"vote\"].apply(lambda x: 'low' if x == 0 else\n",
    "    'high' if x > 50 else 'middle')"
   ]
  },
  {
   "cell_type": "code",
   "execution_count": 57,
   "metadata": {
    "execution": {
     "iopub.execute_input": "2021-08-04T01:07:14.626339Z",
     "iopub.status.busy": "2021-08-04T01:07:14.625904Z",
     "iopub.status.idle": "2021-08-04T01:07:14.700387Z",
     "shell.execute_reply": "2021-08-04T01:07:14.69954Z",
     "shell.execute_reply.started": "2021-08-04T01:07:14.626298Z"
    }
   },
   "outputs": [
    {
     "data": {
      "text/plain": [
       "low       728732\n",
       "middle    117360\n",
       "high        1501\n",
       "Name: vote, dtype: int64"
      ]
     },
     "execution_count": 57,
     "metadata": {},
     "output_type": "execute_result"
    }
   ],
   "source": [
    "df['vote'].value_counts()\n",
    "# в следующем разделе переведем эти данные в категориальные"
   ]
  },
  {
   "cell_type": "markdown",
   "metadata": {},
   "source": [
    "* style"
   ]
  },
  {
   "cell_type": "markdown",
   "metadata": {},
   "source": [
    "Несмотря на то,что данный признак имеется в тестовом датасете, также там очень много пропусков. Сами признаки тяжелы для обработки. Удалим."
   ]
  },
  {
   "cell_type": "code",
   "execution_count": 58,
   "metadata": {
    "execution": {
     "iopub.execute_input": "2021-08-04T01:07:14.702101Z",
     "iopub.status.busy": "2021-08-04T01:07:14.701794Z",
     "iopub.status.idle": "2021-08-04T01:07:15.641263Z",
     "shell.execute_reply": "2021-08-04T01:07:15.640159Z",
     "shell.execute_reply.started": "2021-08-04T01:07:14.702064Z"
    }
   },
   "outputs": [],
   "source": [
    "df = df.drop(['style'], axis=1)"
   ]
  },
  {
   "cell_type": "markdown",
   "metadata": {},
   "source": [
    "* image_x"
   ]
  },
  {
   "cell_type": "code",
   "execution_count": 59,
   "metadata": {
    "execution": {
     "iopub.execute_input": "2021-08-04T01:07:15.643059Z",
     "iopub.status.busy": "2021-08-04T01:07:15.642746Z",
     "iopub.status.idle": "2021-08-04T01:07:15.874659Z",
     "shell.execute_reply": "2021-08-04T01:07:15.873432Z",
     "shell.execute_reply.started": "2021-08-04T01:07:15.643028Z"
    }
   },
   "outputs": [],
   "source": [
    "# данный признак почти весь состоит из пропусков. Удалим\n",
    "df = df.drop(['image_x'], axis=1)"
   ]
  },
  {
   "cell_type": "markdown",
   "metadata": {},
   "source": [
    "* userid"
   ]
  },
  {
   "cell_type": "code",
   "execution_count": 60,
   "metadata": {
    "execution": {
     "iopub.execute_input": "2021-08-04T01:07:15.876486Z",
     "iopub.status.busy": "2021-08-04T01:07:15.876124Z",
     "iopub.status.idle": "2021-08-04T01:07:15.946871Z",
     "shell.execute_reply": "2021-08-04T01:07:15.945953Z",
     "shell.execute_reply.started": "2021-08-04T01:07:15.876451Z"
    }
   },
   "outputs": [
    {
     "name": "stdout",
     "output_type": "stream",
     "text": [
      "842      427\n",
      "17987    317\n",
      "355      302\n",
      "2024     296\n",
      "2809     279\n",
      "        ... \n",
      "66068      1\n",
      "71046      1\n",
      "90602      1\n",
      "37414      1\n",
      "77032      1\n",
      "Name: userid, Length: 127448, dtype: int64\n",
      "count    847593.000000\n",
      "mean      53756.091163\n",
      "std       37211.809152\n",
      "min           0.000000\n",
      "25%       20347.000000\n",
      "50%       48581.000000\n",
      "75%       84723.000000\n",
      "max      127495.000000\n",
      "Name: userid, dtype: float64\n",
      "Пропуски: 0\n"
     ]
    }
   ],
   "source": [
    "print(df.userid.value_counts())\n",
    "print(df.userid.describe())\n",
    "print(\"Пропуски:\", df.userid.isnull().sum())"
   ]
  },
  {
   "cell_type": "markdown",
   "metadata": {},
   "source": [
    "id пользователя, признак без пропусков. Числовой."
   ]
  },
  {
   "cell_type": "code",
   "execution_count": 61,
   "metadata": {
    "execution": {
     "iopub.execute_input": "2021-08-04T01:07:15.948798Z",
     "iopub.status.busy": "2021-08-04T01:07:15.948494Z",
     "iopub.status.idle": "2021-08-04T01:07:15.953283Z",
     "shell.execute_reply": "2021-08-04T01:07:15.952457Z",
     "shell.execute_reply.started": "2021-08-04T01:07:15.948768Z"
    }
   },
   "outputs": [],
   "source": [
    "num_cols.append('userid')"
   ]
  },
  {
   "cell_type": "markdown",
   "metadata": {},
   "source": [
    "* itemid"
   ]
  },
  {
   "cell_type": "code",
   "execution_count": 62,
   "metadata": {
    "execution": {
     "iopub.execute_input": "2021-08-04T01:07:15.954857Z",
     "iopub.status.busy": "2021-08-04T01:07:15.954575Z",
     "iopub.status.idle": "2021-08-04T01:07:16.007621Z",
     "shell.execute_reply": "2021-08-04T01:07:16.006851Z",
     "shell.execute_reply.started": "2021-08-04T01:07:15.95483Z"
    }
   },
   "outputs": [
    {
     "name": "stdout",
     "output_type": "stream",
     "text": [
      "22208    5430\n",
      "23540    4733\n",
      "24556    4611\n",
      "379      4252\n",
      "32046    2449\n",
      "         ... \n",
      "38965       1\n",
      "23635       1\n",
      "34272       1\n",
      "39917       1\n",
      "38902       1\n",
      "Name: itemid, Length: 41302, dtype: int64\n",
      "count    847593.00000\n",
      "mean      17090.10489\n",
      "std       11584.74670\n",
      "min           0.00000\n",
      "25%        6478.00000\n",
      "50%       16108.00000\n",
      "75%       26719.00000\n",
      "max       41319.00000\n",
      "Name: itemid, dtype: float64\n",
      "Пропуски: 0\n"
     ]
    }
   ],
   "source": [
    "print(df.itemid.value_counts())\n",
    "print(df.itemid.describe())\n",
    "print(\"Пропуски:\", df.itemid.isnull().sum())"
   ]
  },
  {
   "cell_type": "markdown",
   "metadata": {},
   "source": [
    "Не забыть проверить в тестовом и тренировочном датасетах пропущенные id. Это может понадобится в будущем c item_features."
   ]
  },
  {
   "cell_type": "code",
   "execution_count": 63,
   "metadata": {
    "execution": {
     "iopub.execute_input": "2021-08-04T01:07:16.009587Z",
     "iopub.status.busy": "2021-08-04T01:07:16.009093Z",
     "iopub.status.idle": "2021-08-04T01:07:16.013821Z",
     "shell.execute_reply": "2021-08-04T01:07:16.012521Z",
     "shell.execute_reply.started": "2021-08-04T01:07:16.009547Z"
    }
   },
   "outputs": [],
   "source": [
    "num_cols.append('itemid')"
   ]
  },
  {
   "cell_type": "markdown",
   "metadata": {},
   "source": [
    "* rating"
   ]
  },
  {
   "cell_type": "code",
   "execution_count": 64,
   "metadata": {
    "execution": {
     "iopub.execute_input": "2021-08-04T01:07:16.015618Z",
     "iopub.status.busy": "2021-08-04T01:07:16.015322Z",
     "iopub.status.idle": "2021-08-04T01:07:16.071777Z",
     "shell.execute_reply": "2021-08-04T01:07:16.070758Z",
     "shell.execute_reply.started": "2021-08-04T01:07:16.015589Z"
    }
   },
   "outputs": [
    {
     "name": "stdout",
     "output_type": "stream",
     "text": [
      "1.0    719392\n",
      "0.0    128201\n",
      "Name: rating, dtype: int64\n",
      "count    847593.000000\n",
      "mean          0.848747\n",
      "std           0.358296\n",
      "min           0.000000\n",
      "25%           1.000000\n",
      "50%           1.000000\n",
      "75%           1.000000\n",
      "max           1.000000\n",
      "Name: rating, dtype: float64\n",
      "Пропуски: 0\n"
     ]
    }
   ],
   "source": [
    "print(df.rating.value_counts())\n",
    "print(df.rating.describe())\n",
    "print(\"Пропуски:\", df.rating.isnull().sum())"
   ]
  },
  {
   "cell_type": "code",
   "execution_count": 65,
   "metadata": {
    "execution": {
     "iopub.execute_input": "2021-08-04T01:07:16.074169Z",
     "iopub.status.busy": "2021-08-04T01:07:16.073734Z",
     "iopub.status.idle": "2021-08-04T01:07:16.083555Z",
     "shell.execute_reply": "2021-08-04T01:07:16.082456Z",
     "shell.execute_reply.started": "2021-08-04T01:07:16.074124Z"
    }
   },
   "outputs": [],
   "source": [
    "# бинарный признак, который вероятно определяет хороший товар или нет\n",
    "df['rating']=df['rating'].astype('int32')"
   ]
  },
  {
   "cell_type": "code",
   "execution_count": 66,
   "metadata": {
    "execution": {
     "iopub.execute_input": "2021-08-04T01:07:16.0858Z",
     "iopub.status.busy": "2021-08-04T01:07:16.085316Z",
     "iopub.status.idle": "2021-08-04T01:07:16.092124Z",
     "shell.execute_reply": "2021-08-04T01:07:16.091109Z",
     "shell.execute_reply.started": "2021-08-04T01:07:16.085752Z"
    }
   },
   "outputs": [],
   "source": [
    "bin_cols.append('rating')"
   ]
  },
  {
   "cell_type": "markdown",
   "metadata": {},
   "source": [
    "* category"
   ]
  },
  {
   "cell_type": "code",
   "execution_count": 67,
   "metadata": {
    "execution": {
     "iopub.execute_input": "2021-08-04T01:07:16.093943Z",
     "iopub.status.busy": "2021-08-04T01:07:16.093489Z",
     "iopub.status.idle": "2021-08-04T01:07:28.624492Z",
     "shell.execute_reply": "2021-08-04T01:07:28.623377Z",
     "shell.execute_reply.started": "2021-08-04T01:07:16.093912Z"
    }
   },
   "outputs": [
    {
     "name": "stdout",
     "output_type": "stream",
     "text": [
      "[Grocery & Gourmet Food, Beverages, Coffee, Tea & Cocoa, Coffee, Single-Serve Capsules & Pods]     54966\n",
      "[Grocery & Gourmet Food, Beverages, Coffee, Tea & Cocoa, Tea, Green]                               20301\n",
      "[Grocery & Gourmet Food, Snack Foods, Bars, Nut Bars]                                              15472\n",
      "[Grocery & Gourmet Food, Candy & Chocolate, Candy & Chocolate Bars]                                15198\n",
      "[Grocery & Gourmet Food, Beverages, Coffee, Tea & Cocoa, Coffee, Roasted Coffee Beans]             14367\n",
      "                                                                                                   ...  \n",
      "[Grocery & Gourmet Food, Dairy, Cheese & Eggs, Cheese, Havarti]                                        3\n",
      "[Grocery & Gourmet Food, Sauces, Gravies & Marinades, Sauces, Spanish & Mexican, Sofrito Sauce]        3\n",
      "[Grocery & Gourmet Food, Fresh Flowers & Live Indoor Plants, Fresh Cut Flowers, Tulips]                2\n",
      "[Grocery & Gourmet Food, Produce, Fresh Vegetables, Tomatillos]                                        2\n",
      "[Grocery & Gourmet Food, Frozen]                                                                       1\n",
      "Name: category, Length: 1107, dtype: int64\n",
      "count                                                847593\n",
      "unique                                                 1107\n",
      "top       [Grocery & Gourmet Food, Beverages, Coffee, Te...\n",
      "freq                                                  54966\n",
      "Name: category, dtype: object\n",
      "Пропуски: 0\n"
     ]
    }
   ],
   "source": [
    "print(df.category.value_counts())\n",
    "print(df.category.describe())\n",
    "print(\"Пропуски:\", df.category.isnull().sum())"
   ]
  },
  {
   "cell_type": "code",
   "execution_count": 68,
   "metadata": {
    "execution": {
     "iopub.execute_input": "2021-08-04T01:07:28.627009Z",
     "iopub.status.busy": "2021-08-04T01:07:28.62655Z",
     "iopub.status.idle": "2021-08-04T01:07:28.817803Z",
     "shell.execute_reply": "2021-08-04T01:07:28.816462Z",
     "shell.execute_reply.started": "2021-08-04T01:07:28.626965Z"
    }
   },
   "outputs": [],
   "source": [
    "# удалим признак\n",
    "df = df.drop(['category'], axis=1)"
   ]
  },
  {
   "cell_type": "markdown",
   "metadata": {},
   "source": [
    "* description"
   ]
  },
  {
   "cell_type": "code",
   "execution_count": 69,
   "metadata": {
    "execution": {
     "iopub.execute_input": "2021-08-04T01:07:28.820018Z",
     "iopub.status.busy": "2021-08-04T01:07:28.819331Z",
     "iopub.status.idle": "2021-08-04T01:07:29.073215Z",
     "shell.execute_reply": "2021-08-04T01:07:29.072144Z",
     "shell.execute_reply.started": "2021-08-04T01:07:28.819971Z"
    }
   },
   "outputs": [],
   "source": [
    "# описание продукта, удалим\n",
    "df = df.drop(['description'], axis=1)"
   ]
  },
  {
   "cell_type": "markdown",
   "metadata": {},
   "source": [
    "* title"
   ]
  },
  {
   "cell_type": "code",
   "execution_count": 70,
   "metadata": {
    "execution": {
     "iopub.execute_input": "2021-08-04T01:07:29.074709Z",
     "iopub.status.busy": "2021-08-04T01:07:29.074451Z",
     "iopub.status.idle": "2021-08-04T01:07:29.479318Z",
     "shell.execute_reply": "2021-08-04T01:07:29.478485Z",
     "shell.execute_reply.started": "2021-08-04T01:07:29.074684Z"
    }
   },
   "outputs": [
    {
     "name": "stdout",
     "output_type": "stream",
     "text": [
      "KIND Bars, Dark Chocolate Nuts & Sea Salt, Gluten Free, 1.4 Ounce Bars, 12 Count    7435\n",
      "KIND Bars, Dark Chocolate Chili Almond, Gluten Free, 1.4 Ounce Bars, 12 Count       4733\n",
      "Kind Bars, Madagascar Vanilla Almond, Gluten Free, Low Sugar, 1.4oz                 4611\n",
      "Twinings of London Pure Camomile Herbal Tea Bags, 20 Count                          4252\n",
      "KIND Bars, Caramel Almond and Sea Salt, Gluten Free, 1.4 Ounce Bars, 12 Count       3079\n",
      "                                                                                    ... \n",
      "Eclipse Winterfrost Mints - 8 Tins                                                     1\n",
      "Popchips, Parmesan Garlic, 3-Ounce Bags (Pack of 12)                                   1\n",
      "2 Packs of Trader Joe's Organic Liquid Stevia                                          1\n",
      "Nespresso OriginalLine: Volluto, 50 Count - ''NOT compatible with Vertuoline''         1\n",
      "Old Fashioned Cheese Jalapeno Squeeze Cheese, 11.5 Ounce                               1\n",
      "Name: title, Length: 41149, dtype: int64\n",
      "count                                                847593\n",
      "unique                                                41149\n",
      "top       KIND Bars, Dark Chocolate Nuts & Sea Salt, Glu...\n",
      "freq                                                   7435\n",
      "Name: title, dtype: object\n",
      "Пропуски: 0\n"
     ]
    }
   ],
   "source": [
    "print(df.title.value_counts())\n",
    "print(df.title.describe())\n",
    "print(\"Пропуски:\", df.title.isnull().sum())"
   ]
  },
  {
   "cell_type": "code",
   "execution_count": 71,
   "metadata": {
    "execution": {
     "iopub.execute_input": "2021-08-04T01:07:29.481061Z",
     "iopub.status.busy": "2021-08-04T01:07:29.480782Z",
     "iopub.status.idle": "2021-08-04T01:07:29.484942Z",
     "shell.execute_reply": "2021-08-04T01:07:29.483801Z",
     "shell.execute_reply.started": "2021-08-04T01:07:29.481035Z"
    }
   },
   "outputs": [],
   "source": [
    "# можно сделать категориальный признак по наиболее частым продуктам. \n",
    "# Но удалим из-за нехватки времени и ненадежности результата.\n",
    "# df = df.drop(['title'], axis = 1)"
   ]
  },
  {
   "cell_type": "markdown",
   "metadata": {},
   "source": [
    "* brand"
   ]
  },
  {
   "cell_type": "code",
   "execution_count": 72,
   "metadata": {
    "execution": {
     "iopub.execute_input": "2021-08-04T01:07:29.486631Z",
     "iopub.status.busy": "2021-08-04T01:07:29.486347Z",
     "iopub.status.idle": "2021-08-04T01:07:29.819126Z",
     "shell.execute_reply": "2021-08-04T01:07:29.818296Z",
     "shell.execute_reply.started": "2021-08-04T01:07:29.486605Z"
    }
   },
   "outputs": [
    {
     "name": "stdout",
     "output_type": "stream",
     "text": [
      "KIND              22506\n",
      "Bob's Red Mill    13061\n",
      "Twinings          11182\n",
      "Planters          10384\n",
      "Frontier           6926\n",
      "                  ...  \n",
      "Builders Tea          1\n",
      "Boboli                1\n",
      "Novus Tea             1\n",
      "bioAllers             1\n",
      "Brooks                1\n",
      "Name: brand, Length: 8866, dtype: int64\n",
      "count     841489\n",
      "unique      8866\n",
      "top         KIND\n",
      "freq       22506\n",
      "Name: brand, dtype: object\n",
      "Пропуски: 6104\n"
     ]
    }
   ],
   "source": [
    "print(df.brand.value_counts())\n",
    "print(df.brand.describe())\n",
    "print(\"Пропуски:\", df.brand.isnull().sum())"
   ]
  },
  {
   "cell_type": "code",
   "execution_count": 73,
   "metadata": {
    "execution": {
     "iopub.execute_input": "2021-08-04T01:07:29.820619Z",
     "iopub.status.busy": "2021-08-04T01:07:29.82034Z",
     "iopub.status.idle": "2021-08-04T01:07:30.123035Z",
     "shell.execute_reply": "2021-08-04T01:07:30.122011Z",
     "shell.execute_reply.started": "2021-08-04T01:07:29.820594Z"
    }
   },
   "outputs": [],
   "source": [
    "# Заметим,что у нас большое количество бренда именно \"KIND\", попробуем сделать из него новый признак\n",
    "df['brand_kind'] = df.brand.apply(lambda x: 1 if x=='KIND' else 0)"
   ]
  },
  {
   "cell_type": "code",
   "execution_count": 74,
   "metadata": {
    "execution": {
     "iopub.execute_input": "2021-08-04T01:07:30.125096Z",
     "iopub.status.busy": "2021-08-04T01:07:30.124769Z",
     "iopub.status.idle": "2021-08-04T01:07:30.138716Z",
     "shell.execute_reply": "2021-08-04T01:07:30.137493Z",
     "shell.execute_reply.started": "2021-08-04T01:07:30.125057Z"
    }
   },
   "outputs": [],
   "source": [
    "df['brand_kind'].value_counts()\n",
    "bin_cols.append('brand_kind')"
   ]
  },
  {
   "cell_type": "markdown",
   "metadata": {},
   "source": [
    "Уникальных брендов 8866, есть некоторое количество пропусков, которые легко заполнить. Не думаю, что из этого признака будет правильно делать категориальные. Удалим."
   ]
  },
  {
   "cell_type": "code",
   "execution_count": 75,
   "metadata": {
    "execution": {
     "iopub.execute_input": "2021-08-04T01:07:30.140513Z",
     "iopub.status.busy": "2021-08-04T01:07:30.140235Z",
     "iopub.status.idle": "2021-08-04T01:07:30.376687Z",
     "shell.execute_reply": "2021-08-04T01:07:30.37568Z",
     "shell.execute_reply.started": "2021-08-04T01:07:30.140485Z"
    }
   },
   "outputs": [],
   "source": [
    "df = df.drop(['brand'], axis = 1)"
   ]
  },
  {
   "cell_type": "markdown",
   "metadata": {},
   "source": [
    "* rank"
   ]
  },
  {
   "cell_type": "code",
   "execution_count": 76,
   "metadata": {
    "execution": {
     "iopub.execute_input": "2021-08-04T01:07:30.378286Z",
     "iopub.status.busy": "2021-08-04T01:07:30.37796Z",
     "iopub.status.idle": "2021-08-04T01:07:30.385831Z",
     "shell.execute_reply": "2021-08-04T01:07:30.384685Z",
     "shell.execute_reply.started": "2021-08-04T01:07:30.37825Z"
    }
   },
   "outputs": [
    {
     "data": {
      "text/plain": [
       "'2,330inGroceryGourmetFood('"
      ]
     },
     "execution_count": 76,
     "metadata": {},
     "output_type": "execute_result"
    }
   ],
   "source": [
    "df['rank'][1470]"
   ]
  },
  {
   "cell_type": "code",
   "execution_count": 77,
   "metadata": {
    "execution": {
     "iopub.execute_input": "2021-08-04T01:07:30.388089Z",
     "iopub.status.busy": "2021-08-04T01:07:30.387667Z",
     "iopub.status.idle": "2021-08-04T01:07:30.599508Z",
     "shell.execute_reply": "2021-08-04T01:07:30.59834Z",
     "shell.execute_reply.started": "2021-08-04T01:07:30.388052Z"
    }
   },
   "outputs": [],
   "source": [
    "# удалим\n",
    "df = df.drop(['rank'], axis = 1)"
   ]
  },
  {
   "cell_type": "markdown",
   "metadata": {},
   "source": [
    "* main_cat\t"
   ]
  },
  {
   "cell_type": "code",
   "execution_count": 78,
   "metadata": {
    "execution": {
     "iopub.execute_input": "2021-08-04T01:07:30.600921Z",
     "iopub.status.busy": "2021-08-04T01:07:30.600637Z",
     "iopub.status.idle": "2021-08-04T01:07:30.755196Z",
     "shell.execute_reply": "2021-08-04T01:07:30.754068Z",
     "shell.execute_reply.started": "2021-08-04T01:07:30.600894Z"
    }
   },
   "outputs": [
    {
     "name": "stdout",
     "output_type": "stream",
     "text": [
      "Grocery                      802613\n",
      "Health & Personal Care        31705\n",
      "Amazon Home                    7383\n",
      "All Beauty                     1522\n",
      "Sports & Outdoors              1322\n",
      "Industrial & Scientific         902\n",
      "Office Products                 631\n",
      "Toys & Games                    304\n",
      "Pet Supplies                    125\n",
      "Tools & Home Improvement         53\n",
      "Baby                             34\n",
      "Arts, Crafts & Sewing            19\n",
      "Home Audio & Theater              9\n",
      "Camera & Photo                    8\n",
      "Musical Instruments               3\n",
      "Software                          3\n",
      "Cell Phones & Accessories         2\n",
      "Name: main_cat, dtype: int64\n",
      "Пропуски: 955\n"
     ]
    }
   ],
   "source": [
    "print(df.main_cat.value_counts())\n",
    "print(\"Пропуски:\", df.main_cat.isnull().sum())"
   ]
  },
  {
   "cell_type": "markdown",
   "metadata": {},
   "source": [
    "Указана категория, в которой определен товар. В нашей базе безусловным лидером является категория Бакалея. Есть пропуски, для которых можно создать категорию others. Далее сделаем из этого признака dummy-переменные или просто label encoding, также на будущее можно часть мало распространенных категорий переименовать в others."
   ]
  },
  {
   "cell_type": "code",
   "execution_count": 79,
   "metadata": {
    "execution": {
     "iopub.execute_input": "2021-08-04T01:07:30.758613Z",
     "iopub.status.busy": "2021-08-04T01:07:30.758286Z",
     "iopub.status.idle": "2021-08-04T01:07:30.845023Z",
     "shell.execute_reply": "2021-08-04T01:07:30.843814Z",
     "shell.execute_reply.started": "2021-08-04T01:07:30.758584Z"
    }
   },
   "outputs": [],
   "source": [
    "df.main_cat = df.main_cat.fillna('others')"
   ]
  },
  {
   "cell_type": "markdown",
   "metadata": {},
   "source": [
    "* price"
   ]
  },
  {
   "cell_type": "code",
   "execution_count": 80,
   "metadata": {
    "execution": {
     "iopub.execute_input": "2021-08-04T01:07:30.846692Z",
     "iopub.status.busy": "2021-08-04T01:07:30.846383Z",
     "iopub.status.idle": "2021-08-04T01:07:31.113047Z",
     "shell.execute_reply": "2021-08-04T01:07:31.11212Z",
     "shell.execute_reply.started": "2021-08-04T01:07:30.846662Z"
    }
   },
   "outputs": [
    {
     "name": "stdout",
     "output_type": "stream",
     "text": [
      "$14.99              14241\n",
      "$13.67              10660\n",
      "$19.99               9043\n",
      "$14.79               5632\n",
      "$15.53               5561\n",
      "                    ...  \n",
      "$30.64                  2\n",
      "$6.93                   1\n",
      "$19.99 - $295.00        1\n",
      "$35.16                  1\n",
      "$44.14                  1\n",
      "Name: price, Length: 4601, dtype: int64\n",
      "count     588972\n",
      "unique      4601\n",
      "top       $14.99\n",
      "freq       14241\n",
      "Name: price, dtype: object\n",
      "Пропуски: 258621\n"
     ]
    }
   ],
   "source": [
    "print(df.price.value_counts())\n",
    "print(df.price.describe())\n",
    "print(\"Пропуски:\", df.price.isnull().sum())"
   ]
  },
  {
   "cell_type": "code",
   "execution_count": 81,
   "metadata": {
    "execution": {
     "iopub.execute_input": "2021-08-04T01:07:31.114799Z",
     "iopub.status.busy": "2021-08-04T01:07:31.114513Z",
     "iopub.status.idle": "2021-08-04T01:07:31.152499Z",
     "shell.execute_reply": "2021-08-04T01:07:31.151292Z",
     "shell.execute_reply.started": "2021-08-04T01:07:31.114769Z"
    }
   },
   "outputs": [
    {
     "data": {
      "text/plain": [
       "450747       NaN\n",
       "638060     $7.90\n",
       "506903    $21.26\n",
       "703027    $65.99\n",
       "810002       NaN\n",
       "65714     $22.95\n",
       "455853       NaN\n",
       "305026       NaN\n",
       "590468       NaN\n",
       "133292    $52.99\n",
       "Name: price, dtype: object"
      ]
     },
     "execution_count": 81,
     "metadata": {},
     "output_type": "execute_result"
    }
   ],
   "source": [
    "df['price'].sample(10)"
   ]
  },
  {
   "cell_type": "markdown",
   "metadata": {},
   "source": [
    "C этим признком можно поработать. Удалить пропуски, подготовить к категорированию."
   ]
  },
  {
   "cell_type": "code",
   "execution_count": 82,
   "metadata": {
    "execution": {
     "iopub.execute_input": "2021-08-04T01:07:31.154375Z",
     "iopub.status.busy": "2021-08-04T01:07:31.154016Z",
     "iopub.status.idle": "2021-08-04T01:07:31.307904Z",
     "shell.execute_reply": "2021-08-04T01:07:31.30713Z",
     "shell.execute_reply.started": "2021-08-04T01:07:31.154343Z"
    }
   },
   "outputs": [],
   "source": [
    "df['price'] = df['price'].astype('str')"
   ]
  },
  {
   "cell_type": "code",
   "execution_count": 83,
   "metadata": {
    "execution": {
     "iopub.execute_input": "2021-08-04T01:07:31.309439Z",
     "iopub.status.busy": "2021-08-04T01:07:31.309094Z",
     "iopub.status.idle": "2021-08-04T01:07:32.880208Z",
     "shell.execute_reply": "2021-08-04T01:07:32.879229Z",
     "shell.execute_reply.started": "2021-08-04T01:07:31.309408Z"
    }
   },
   "outputs": [],
   "source": [
    "df['price'] = df['price'].apply(lambda x: re.sub('\\D', '', x))"
   ]
  },
  {
   "cell_type": "code",
   "execution_count": 84,
   "metadata": {
    "execution": {
     "iopub.execute_input": "2021-08-04T01:07:32.881962Z",
     "iopub.status.busy": "2021-08-04T01:07:32.881656Z",
     "iopub.status.idle": "2021-08-04T01:07:33.016568Z",
     "shell.execute_reply": "2021-08-04T01:07:33.015379Z",
     "shell.execute_reply.started": "2021-08-04T01:07:32.881932Z"
    }
   },
   "outputs": [],
   "source": [
    "df['price'] = df['price'].apply(lambda x: 0 if x == '' else x)"
   ]
  },
  {
   "cell_type": "code",
   "execution_count": 85,
   "metadata": {
    "execution": {
     "iopub.execute_input": "2021-08-04T01:07:33.018205Z",
     "iopub.status.busy": "2021-08-04T01:07:33.01792Z",
     "iopub.status.idle": "2021-08-04T01:07:33.712486Z",
     "shell.execute_reply": "2021-08-04T01:07:33.709496Z",
     "shell.execute_reply.started": "2021-08-04T01:07:33.018166Z"
    }
   },
   "outputs": [],
   "source": [
    "df['price'] = df['price'].astype('float')"
   ]
  },
  {
   "cell_type": "code",
   "execution_count": 86,
   "metadata": {
    "execution": {
     "iopub.execute_input": "2021-08-04T01:07:33.717178Z",
     "iopub.status.busy": "2021-08-04T01:07:33.716126Z",
     "iopub.status.idle": "2021-08-04T01:07:34.177596Z",
     "shell.execute_reply": "2021-08-04T01:07:34.174563Z",
     "shell.execute_reply.started": "2021-08-04T01:07:33.717073Z"
    }
   },
   "outputs": [],
   "source": [
    "df['price'] = df['price'].apply(lambda x: x/100)"
   ]
  },
  {
   "cell_type": "code",
   "execution_count": 87,
   "metadata": {
    "execution": {
     "iopub.execute_input": "2021-08-04T01:07:34.182089Z",
     "iopub.status.busy": "2021-08-04T01:07:34.181726Z",
     "iopub.status.idle": "2021-08-04T01:07:34.207087Z",
     "shell.execute_reply": "2021-08-04T01:07:34.202851Z",
     "shell.execute_reply.started": "2021-08-04T01:07:34.182056Z"
    }
   },
   "outputs": [],
   "source": [
    "# стоит определить выбросы, иначе есть риск неверного определения и замены пропусков на среднее\n",
    "# использую функцию из ранних проектов\n",
    "def IQR(column):\n",
    "    perc_25 = df[column].quantile(0.25, interpolation=\"midpoint\")\n",
    "    perc_75 = df[column].quantile(0.75, interpolation=\"midpoint\")\n",
    "    IQR = perc_75 - perc_25\n",
    "    min_out = perc_25 - 1.5 * IQR\n",
    "    max_out = perc_75 + 1.5 * IQR\n",
    "    print('Всего выбросов: {} '.format(\n",
    "        df[df[column] > max_out][column].count()+df[df[column] < min_out][column].count()))\n",
    "    print('Верхняя граница выбросов:',max_out)"
   ]
  },
  {
   "cell_type": "code",
   "execution_count": 88,
   "metadata": {
    "execution": {
     "iopub.execute_input": "2021-08-04T01:07:34.213579Z",
     "iopub.status.busy": "2021-08-04T01:07:34.212051Z",
     "iopub.status.idle": "2021-08-04T01:07:34.285607Z",
     "shell.execute_reply": "2021-08-04T01:07:34.283894Z",
     "shell.execute_reply.started": "2021-08-04T01:07:34.213449Z"
    }
   },
   "outputs": [
    {
     "name": "stdout",
     "output_type": "stream",
     "text": [
      "Всего выбросов: 18599 \n",
      "Верхняя граница выбросов: 53.75\n"
     ]
    }
   ],
   "source": [
    "IQR('price')\n",
    "# выбросов достаточно много. Экспертным путем отсечем все дороже 100 долларов"
   ]
  },
  {
   "cell_type": "code",
   "execution_count": 89,
   "metadata": {
    "execution": {
     "iopub.execute_input": "2021-08-04T01:07:34.287766Z",
     "iopub.status.busy": "2021-08-04T01:07:34.287439Z",
     "iopub.status.idle": "2021-08-04T01:07:34.616753Z",
     "shell.execute_reply": "2021-08-04T01:07:34.613145Z",
     "shell.execute_reply.started": "2021-08-04T01:07:34.287736Z"
    }
   },
   "outputs": [],
   "source": [
    "df['price'] = df['price'].apply(lambda x: 0 if x > 100 else x)"
   ]
  },
  {
   "cell_type": "code",
   "execution_count": 90,
   "metadata": {
    "execution": {
     "iopub.execute_input": "2021-08-04T01:07:34.622261Z",
     "iopub.status.busy": "2021-08-04T01:07:34.620874Z",
     "iopub.status.idle": "2021-08-04T01:07:34.901614Z",
     "shell.execute_reply": "2021-08-04T01:07:34.90043Z",
     "shell.execute_reply.started": "2021-08-04T01:07:34.622101Z"
    }
   },
   "outputs": [],
   "source": [
    "# Заменим нули на среднее значение\n",
    "df['price'] = df['price'].astype('int')\n",
    "a = df['price'].mean()\n",
    "df['price'] = df['price'].apply(lambda x: a if x == 0 else x)"
   ]
  },
  {
   "cell_type": "code",
   "execution_count": 91,
   "metadata": {
    "execution": {
     "iopub.execute_input": "2021-08-04T01:07:34.904182Z",
     "iopub.status.busy": "2021-08-04T01:07:34.903719Z",
     "iopub.status.idle": "2021-08-04T01:07:34.953924Z",
     "shell.execute_reply": "2021-08-04T01:07:34.952793Z",
     "shell.execute_reply.started": "2021-08-04T01:07:34.904138Z"
    }
   },
   "outputs": [
    {
     "name": "stdout",
     "output_type": "stream",
     "text": [
      "13.455983    264415\n",
      "14.000000     41302\n",
      "13.000000     33267\n",
      "9.000000      26349\n",
      "11.000000     23830\n",
      "              ...  \n",
      "88.000000        20\n",
      "90.000000        19\n",
      "81.000000        16\n",
      "97.000000        12\n",
      "91.000000         7\n",
      "Name: price, Length: 100, dtype: int64\n",
      "count    847593.000000\n",
      "mean         17.653710\n",
      "std          10.842770\n",
      "min           1.000000\n",
      "25%          13.000000\n",
      "50%          13.455983\n",
      "75%          20.000000\n",
      "max          99.000000\n",
      "Name: price, dtype: float64\n",
      "Пропуски: 0\n"
     ]
    }
   ],
   "source": [
    "print(df.price.value_counts())\n",
    "print(df.price.describe())\n",
    "print(\"Пропуски:\", df.price.isnull().sum())"
   ]
  },
  {
   "cell_type": "code",
   "execution_count": 92,
   "metadata": {
    "execution": {
     "iopub.execute_input": "2021-08-04T01:07:34.957131Z",
     "iopub.status.busy": "2021-08-04T01:07:34.956841Z",
     "iopub.status.idle": "2021-08-04T01:07:35.26959Z",
     "shell.execute_reply": "2021-08-04T01:07:35.265458Z",
     "shell.execute_reply.started": "2021-08-04T01:07:34.957104Z"
    }
   },
   "outputs": [],
   "source": [
    "# сделаем категории по цене\n",
    "df[\"price\"] = df[\"price\"].apply(lambda x: 'low' if x < 10 else\n",
    "    'high' if x > 20 else 'middle')"
   ]
  },
  {
   "cell_type": "markdown",
   "metadata": {},
   "source": [
    "* also_buy и also_view"
   ]
  },
  {
   "cell_type": "code",
   "execution_count": 93,
   "metadata": {
    "execution": {
     "iopub.execute_input": "2021-08-04T01:07:35.273004Z",
     "iopub.status.busy": "2021-08-04T01:07:35.272708Z",
     "iopub.status.idle": "2021-08-04T01:07:35.295649Z",
     "shell.execute_reply": "2021-08-04T01:07:35.292423Z",
     "shell.execute_reply.started": "2021-08-04T01:07:35.272977Z"
    }
   },
   "outputs": [
    {
     "data": {
      "text/plain": [
       "['B000T9WLUY',\n",
       " 'B01K23RF7U',\n",
       " 'B0015GSBUY',\n",
       " 'B00112KVNW',\n",
       " 'B004QE5BBE',\n",
       " 'B01BHJVTJS',\n",
       " 'B0744J1PTV',\n",
       " 'B004BQ4V4A',\n",
       " 'B004QE181G',\n",
       " 'B01AZ15AMQ',\n",
       " 'B07CX3FHMB',\n",
       " 'B0014D0SDG',\n",
       " 'B00FZGZKHW']"
      ]
     },
     "execution_count": 93,
     "metadata": {},
     "output_type": "execute_result"
    }
   ],
   "source": [
    "df.also_buy[78]\n",
    "# очевидно, что это также купленные товары по asin, удалим на данном этапе"
   ]
  },
  {
   "cell_type": "code",
   "execution_count": 94,
   "metadata": {
    "execution": {
     "iopub.execute_input": "2021-08-04T01:07:35.302468Z",
     "iopub.status.busy": "2021-08-04T01:07:35.300783Z",
     "iopub.status.idle": "2021-08-04T01:07:35.311842Z",
     "shell.execute_reply": "2021-08-04T01:07:35.310357Z",
     "shell.execute_reply.started": "2021-08-04T01:07:35.302415Z"
    }
   },
   "outputs": [
    {
     "data": {
      "text/plain": [
       "['B006K3UC86', 'B000WGB3OY']"
      ]
     },
     "execution_count": 94,
     "metadata": {},
     "output_type": "execute_result"
    }
   ],
   "source": [
    "df.also_view[78]"
   ]
  },
  {
   "cell_type": "code",
   "execution_count": 95,
   "metadata": {
    "execution": {
     "iopub.execute_input": "2021-08-04T01:07:35.313698Z",
     "iopub.status.busy": "2021-08-04T01:07:35.313319Z",
     "iopub.status.idle": "2021-08-04T01:07:35.410699Z",
     "shell.execute_reply": "2021-08-04T01:07:35.409364Z",
     "shell.execute_reply.started": "2021-08-04T01:07:35.313665Z"
    }
   },
   "outputs": [
    {
     "name": "stdout",
     "output_type": "stream",
     "text": [
      "Пропуски: 120735\n",
      "Пропуски: 384222\n"
     ]
    }
   ],
   "source": [
    "print(\"Пропуски:\", df.also_buy.isnull().sum())\n",
    "print(\"Пропуски:\", df.also_view.isnull().sum())"
   ]
  },
  {
   "cell_type": "markdown",
   "metadata": {},
   "source": [
    "Данный признак, вероятно говорит о том, что покупатели конкретного товара еще просматривали. Пропуски могут говорить о том, что покупатель не смотрел больше ничего. "
   ]
  },
  {
   "cell_type": "code",
   "execution_count": 96,
   "metadata": {
    "execution": {
     "iopub.execute_input": "2021-08-04T01:07:35.412683Z",
     "iopub.status.busy": "2021-08-04T01:07:35.412279Z",
     "iopub.status.idle": "2021-08-04T01:07:36.101569Z",
     "shell.execute_reply": "2021-08-04T01:07:36.09909Z",
     "shell.execute_reply.started": "2021-08-04T01:07:35.412651Z"
    }
   },
   "outputs": [],
   "source": [
    "# coздадим пару features - количество продуктов и количество просмотров\n",
    "df['also_buy_numb'] = df['also_buy'].str.len()\n",
    "df['also_view_numb'] = df['also_view'].str.len()\n",
    "df['also_buy_numb'] = df['also_buy_numb'].fillna(0)\n",
    "df['also_view_numb'] = df['also_view_numb'].fillna(0)\n",
    "df['also_buy_numb'] = df['also_buy_numb'].astype(int)\n",
    "df['also_view_numb'] = df['also_view_numb'].astype(int)"
   ]
  },
  {
   "cell_type": "code",
   "execution_count": 97,
   "metadata": {
    "execution": {
     "iopub.execute_input": "2021-08-04T01:07:36.106661Z",
     "iopub.status.busy": "2021-08-04T01:07:36.106071Z",
     "iopub.status.idle": "2021-08-04T01:07:36.116106Z",
     "shell.execute_reply": "2021-08-04T01:07:36.114717Z",
     "shell.execute_reply.started": "2021-08-04T01:07:36.106595Z"
    }
   },
   "outputs": [],
   "source": [
    "num_cols.append('also_buy_numb')\n",
    "num_cols.append('also_view_numb')"
   ]
  },
  {
   "cell_type": "code",
   "execution_count": 98,
   "metadata": {
    "execution": {
     "iopub.execute_input": "2021-08-04T01:07:36.118199Z",
     "iopub.status.busy": "2021-08-04T01:07:36.117765Z",
     "iopub.status.idle": "2021-08-04T01:07:37.868045Z",
     "shell.execute_reply": "2021-08-04T01:07:37.867004Z",
     "shell.execute_reply.started": "2021-08-04T01:07:36.11814Z"
    }
   },
   "outputs": [],
   "source": [
    "df = df.drop(['also_buy'], axis = 1)\n",
    "df = df.drop(['also_view'], axis = 1)"
   ]
  },
  {
   "cell_type": "markdown",
   "metadata": {
    "execution": {
     "iopub.execute_input": "2021-07-14T09:48:14.33465Z",
     "iopub.status.busy": "2021-07-14T09:48:14.334219Z",
     "iopub.status.idle": "2021-07-14T09:48:14.374817Z",
     "shell.execute_reply": "2021-07-14T09:48:14.373842Z",
     "shell.execute_reply.started": "2021-07-14T09:48:14.334608Z"
    }
   },
   "source": [
    "Анализ данных, проведенный выше, позволяет нам принять решение удалить оставшиеся признаки. Основная причина - огромое количество пропусков."
   ]
  },
  {
   "cell_type": "code",
   "execution_count": 99,
   "metadata": {
    "execution": {
     "iopub.execute_input": "2021-08-04T01:07:37.869472Z",
     "iopub.status.busy": "2021-08-04T01:07:37.869179Z",
     "iopub.status.idle": "2021-08-04T01:07:37.893392Z",
     "shell.execute_reply": "2021-08-04T01:07:37.892161Z",
     "shell.execute_reply.started": "2021-08-04T01:07:37.869446Z"
    }
   },
   "outputs": [
    {
     "data": {
      "text/html": [
       "<div>\n",
       "<style scoped>\n",
       "    .dataframe tbody tr th:only-of-type {\n",
       "        vertical-align: middle;\n",
       "    }\n",
       "\n",
       "    .dataframe tbody tr th {\n",
       "        vertical-align: top;\n",
       "    }\n",
       "\n",
       "    .dataframe thead th {\n",
       "        text-align: right;\n",
       "    }\n",
       "</style>\n",
       "<table border=\"1\" class=\"dataframe\">\n",
       "  <thead>\n",
       "    <tr style=\"text-align: right;\">\n",
       "      <th></th>\n",
       "      <th>overall</th>\n",
       "      <th>verified</th>\n",
       "      <th>unixReviewTime</th>\n",
       "      <th>vote</th>\n",
       "      <th>userid</th>\n",
       "      <th>itemid</th>\n",
       "      <th>rating</th>\n",
       "      <th>title</th>\n",
       "      <th>main_cat</th>\n",
       "      <th>price</th>\n",
       "      <th>image_y</th>\n",
       "      <th>date</th>\n",
       "      <th>feature</th>\n",
       "      <th>details</th>\n",
       "      <th>similar_item</th>\n",
       "      <th>tech1</th>\n",
       "      <th>fit</th>\n",
       "      <th>brand_kind</th>\n",
       "      <th>also_buy_numb</th>\n",
       "      <th>also_view_numb</th>\n",
       "    </tr>\n",
       "  </thead>\n",
       "  <tbody>\n",
       "    <tr>\n",
       "      <th>0</th>\n",
       "      <td>5</td>\n",
       "      <td>1</td>\n",
       "      <td>middle</td>\n",
       "      <td>low</td>\n",
       "      <td>102179</td>\n",
       "      <td>37138</td>\n",
       "      <td>1</td>\n",
       "      <td>Primal Palate Organic Spices Adobo Seasoning, ...</td>\n",
       "      <td>Grocery</td>\n",
       "      <td>low</td>\n",
       "      <td>[https://images-na.ssl-images-amazon.com/image...</td>\n",
       "      <td>NaN</td>\n",
       "      <td>NaN</td>\n",
       "      <td>\\n      &lt;div class=\"content\"&gt;\\n\\n\\n\\n\\n\\n\\n&lt;ul...</td>\n",
       "      <td>NaN</td>\n",
       "      <td>NaN</td>\n",
       "      <td>NaN</td>\n",
       "      <td>0</td>\n",
       "      <td>85</td>\n",
       "      <td>54</td>\n",
       "    </tr>\n",
       "    <tr>\n",
       "      <th>1</th>\n",
       "      <td>5</td>\n",
       "      <td>0</td>\n",
       "      <td>new</td>\n",
       "      <td>low</td>\n",
       "      <td>117314</td>\n",
       "      <td>37138</td>\n",
       "      <td>1</td>\n",
       "      <td>Primal Palate Organic Spices Adobo Seasoning, ...</td>\n",
       "      <td>Grocery</td>\n",
       "      <td>low</td>\n",
       "      <td>[https://images-na.ssl-images-amazon.com/image...</td>\n",
       "      <td>NaN</td>\n",
       "      <td>NaN</td>\n",
       "      <td>\\n      &lt;div class=\"content\"&gt;\\n\\n\\n\\n\\n\\n\\n&lt;ul...</td>\n",
       "      <td>NaN</td>\n",
       "      <td>NaN</td>\n",
       "      <td>NaN</td>\n",
       "      <td>0</td>\n",
       "      <td>85</td>\n",
       "      <td>54</td>\n",
       "    </tr>\n",
       "  </tbody>\n",
       "</table>\n",
       "</div>"
      ],
      "text/plain": [
       "   overall  verified unixReviewTime vote  userid  itemid  rating  \\\n",
       "0        5         1         middle  low  102179   37138       1   \n",
       "1        5         0            new  low  117314   37138       1   \n",
       "\n",
       "                                               title main_cat price  \\\n",
       "0  Primal Palate Organic Spices Adobo Seasoning, ...  Grocery   low   \n",
       "1  Primal Palate Organic Spices Adobo Seasoning, ...  Grocery   low   \n",
       "\n",
       "                                             image_y date feature  \\\n",
       "0  [https://images-na.ssl-images-amazon.com/image...  NaN     NaN   \n",
       "1  [https://images-na.ssl-images-amazon.com/image...  NaN     NaN   \n",
       "\n",
       "                                             details similar_item tech1  fit  \\\n",
       "0  \\n      <div class=\"content\">\\n\\n\\n\\n\\n\\n\\n<ul...          NaN   NaN  NaN   \n",
       "1  \\n      <div class=\"content\">\\n\\n\\n\\n\\n\\n\\n<ul...          NaN   NaN  NaN   \n",
       "\n",
       "   brand_kind  also_buy_numb  also_view_numb  \n",
       "0           0             85              54  \n",
       "1           0             85              54  "
      ]
     },
     "execution_count": 99,
     "metadata": {},
     "output_type": "execute_result"
    }
   ],
   "source": [
    "df.head(2)"
   ]
  },
  {
   "cell_type": "code",
   "execution_count": 100,
   "metadata": {
    "execution": {
     "iopub.execute_input": "2021-08-04T01:07:37.895507Z",
     "iopub.status.busy": "2021-08-04T01:07:37.895122Z",
     "iopub.status.idle": "2021-08-04T01:07:38.356848Z",
     "shell.execute_reply": "2021-08-04T01:07:38.355834Z",
     "shell.execute_reply.started": "2021-08-04T01:07:37.895476Z"
    }
   },
   "outputs": [
    {
     "name": "stdout",
     "output_type": "stream",
     "text": [
      "<class 'pandas.core.frame.DataFrame'>\n",
      "Int64Index: 847593 entries, 0 to 847592\n",
      "Data columns (total 20 columns):\n",
      " #   Column          Non-Null Count   Dtype \n",
      "---  ------          --------------   ----- \n",
      " 0   overall         847593 non-null  int32 \n",
      " 1   verified        847593 non-null  int32 \n",
      " 2   unixReviewTime  847593 non-null  object\n",
      " 3   vote            847593 non-null  object\n",
      " 4   userid          847593 non-null  int64 \n",
      " 5   itemid          847593 non-null  int64 \n",
      " 6   rating          847593 non-null  int32 \n",
      " 7   title           847593 non-null  object\n",
      " 8   main_cat        847593 non-null  object\n",
      " 9   price           847593 non-null  object\n",
      " 10  image_y         755354 non-null  object\n",
      " 11  date            12087 non-null   object\n",
      " 12  feature         142734 non-null  object\n",
      " 13  details         832985 non-null  object\n",
      " 14  similar_item    1138 non-null    object\n",
      " 15  tech1           4372 non-null    object\n",
      " 16  fit             0 non-null       object\n",
      " 17  brand_kind      847593 non-null  int64 \n",
      " 18  also_buy_numb   847593 non-null  int32 \n",
      " 19  also_view_numb  847593 non-null  int32 \n",
      "dtypes: int32(5), int64(3), object(12)\n",
      "memory usage: 159.6+ MB\n"
     ]
    }
   ],
   "source": [
    "df.info()"
   ]
  },
  {
   "cell_type": "markdown",
   "metadata": {},
   "source": [
    "* image_y"
   ]
  },
  {
   "cell_type": "code",
   "execution_count": 101,
   "metadata": {
    "execution": {
     "iopub.execute_input": "2021-08-04T01:07:38.358422Z",
     "iopub.status.busy": "2021-08-04T01:07:38.358121Z",
     "iopub.status.idle": "2021-08-04T01:07:38.407169Z",
     "shell.execute_reply": "2021-08-04T01:07:38.406027Z",
     "shell.execute_reply.started": "2021-08-04T01:07:38.358377Z"
    }
   },
   "outputs": [
    {
     "data": {
      "text/plain": [
       "92239"
      ]
     },
     "execution_count": 101,
     "metadata": {},
     "output_type": "execute_result"
    }
   ],
   "source": [
    "df.image_y.isna().sum()"
   ]
  },
  {
   "cell_type": "markdown",
   "metadata": {},
   "source": [
    "Обычно наличие фотографии продукта вызывает больше доверия у потребителя,покупая через интернет. Поэтому создадим бинарный признак на наличие фотографии у продавца, а сам признак image_y далее удалим"
   ]
  },
  {
   "cell_type": "code",
   "execution_count": 102,
   "metadata": {
    "execution": {
     "iopub.execute_input": "2021-08-04T01:07:38.409279Z",
     "iopub.status.busy": "2021-08-04T01:07:38.408667Z",
     "iopub.status.idle": "2021-08-04T01:07:38.494333Z",
     "shell.execute_reply": "2021-08-04T01:07:38.493296Z",
     "shell.execute_reply.started": "2021-08-04T01:07:38.409233Z"
    }
   },
   "outputs": [],
   "source": [
    "df['image_y'] = df['image_y'].fillna(0)"
   ]
  },
  {
   "cell_type": "code",
   "execution_count": 103,
   "metadata": {
    "execution": {
     "iopub.execute_input": "2021-08-04T01:07:38.496043Z",
     "iopub.status.busy": "2021-08-04T01:07:38.495747Z",
     "iopub.status.idle": "2021-08-04T01:07:38.799699Z",
     "shell.execute_reply": "2021-08-04T01:07:38.797916Z",
     "shell.execute_reply.started": "2021-08-04T01:07:38.496016Z"
    }
   },
   "outputs": [
    {
     "data": {
      "text/plain": [
       "0         1\n",
       "1         1\n",
       "2         1\n",
       "3         1\n",
       "4         1\n",
       "         ..\n",
       "847588    1\n",
       "847589    1\n",
       "847590    1\n",
       "847591    0\n",
       "847592    0\n",
       "Name: image, Length: 847593, dtype: int64"
      ]
     },
     "execution_count": 103,
     "metadata": {},
     "output_type": "execute_result"
    }
   ],
   "source": [
    "df['image']= df['image_y'].apply(lambda x: 0 if x==0 else 1)\n",
    "df['image']"
   ]
  },
  {
   "cell_type": "code",
   "execution_count": 104,
   "metadata": {
    "execution": {
     "iopub.execute_input": "2021-08-04T01:07:38.801821Z",
     "iopub.status.busy": "2021-08-04T01:07:38.8013Z",
     "iopub.status.idle": "2021-08-04T01:07:38.80883Z",
     "shell.execute_reply": "2021-08-04T01:07:38.805383Z",
     "shell.execute_reply.started": "2021-08-04T01:07:38.801776Z"
    }
   },
   "outputs": [],
   "source": [
    "bin_cols.append('image')"
   ]
  },
  {
   "cell_type": "code",
   "execution_count": 105,
   "metadata": {
    "execution": {
     "iopub.execute_input": "2021-08-04T01:07:38.810662Z",
     "iopub.status.busy": "2021-08-04T01:07:38.810386Z",
     "iopub.status.idle": "2021-08-04T01:07:38.946941Z",
     "shell.execute_reply": "2021-08-04T01:07:38.946056Z",
     "shell.execute_reply.started": "2021-08-04T01:07:38.810636Z"
    }
   },
   "outputs": [],
   "source": [
    "df = df.drop(['image_y', 'date', 'feature', 'details', 'similar_item', 'tech1', 'fit'], axis=1)"
   ]
  },
  {
   "cell_type": "code",
   "execution_count": 106,
   "metadata": {
    "execution": {
     "iopub.execute_input": "2021-08-04T01:07:38.948568Z",
     "iopub.status.busy": "2021-08-04T01:07:38.948106Z",
     "iopub.status.idle": "2021-08-04T01:07:38.963065Z",
     "shell.execute_reply": "2021-08-04T01:07:38.96228Z",
     "shell.execute_reply.started": "2021-08-04T01:07:38.948525Z"
    }
   },
   "outputs": [
    {
     "data": {
      "text/html": [
       "<div>\n",
       "<style scoped>\n",
       "    .dataframe tbody tr th:only-of-type {\n",
       "        vertical-align: middle;\n",
       "    }\n",
       "\n",
       "    .dataframe tbody tr th {\n",
       "        vertical-align: top;\n",
       "    }\n",
       "\n",
       "    .dataframe thead th {\n",
       "        text-align: right;\n",
       "    }\n",
       "</style>\n",
       "<table border=\"1\" class=\"dataframe\">\n",
       "  <thead>\n",
       "    <tr style=\"text-align: right;\">\n",
       "      <th></th>\n",
       "      <th>overall</th>\n",
       "      <th>verified</th>\n",
       "      <th>unixReviewTime</th>\n",
       "      <th>vote</th>\n",
       "      <th>userid</th>\n",
       "      <th>itemid</th>\n",
       "      <th>rating</th>\n",
       "      <th>title</th>\n",
       "      <th>main_cat</th>\n",
       "      <th>price</th>\n",
       "      <th>brand_kind</th>\n",
       "      <th>also_buy_numb</th>\n",
       "      <th>also_view_numb</th>\n",
       "      <th>image</th>\n",
       "    </tr>\n",
       "  </thead>\n",
       "  <tbody>\n",
       "    <tr>\n",
       "      <th>0</th>\n",
       "      <td>5</td>\n",
       "      <td>1</td>\n",
       "      <td>middle</td>\n",
       "      <td>low</td>\n",
       "      <td>102179</td>\n",
       "      <td>37138</td>\n",
       "      <td>1</td>\n",
       "      <td>Primal Palate Organic Spices Adobo Seasoning, ...</td>\n",
       "      <td>Grocery</td>\n",
       "      <td>low</td>\n",
       "      <td>0</td>\n",
       "      <td>85</td>\n",
       "      <td>54</td>\n",
       "      <td>1</td>\n",
       "    </tr>\n",
       "    <tr>\n",
       "      <th>1</th>\n",
       "      <td>5</td>\n",
       "      <td>0</td>\n",
       "      <td>new</td>\n",
       "      <td>low</td>\n",
       "      <td>117314</td>\n",
       "      <td>37138</td>\n",
       "      <td>1</td>\n",
       "      <td>Primal Palate Organic Spices Adobo Seasoning, ...</td>\n",
       "      <td>Grocery</td>\n",
       "      <td>low</td>\n",
       "      <td>0</td>\n",
       "      <td>85</td>\n",
       "      <td>54</td>\n",
       "      <td>1</td>\n",
       "    </tr>\n",
       "    <tr>\n",
       "      <th>2</th>\n",
       "      <td>3</td>\n",
       "      <td>1</td>\n",
       "      <td>new</td>\n",
       "      <td>middle</td>\n",
       "      <td>119505</td>\n",
       "      <td>37138</td>\n",
       "      <td>0</td>\n",
       "      <td>Primal Palate Organic Spices Adobo Seasoning, ...</td>\n",
       "      <td>Grocery</td>\n",
       "      <td>low</td>\n",
       "      <td>0</td>\n",
       "      <td>85</td>\n",
       "      <td>54</td>\n",
       "      <td>1</td>\n",
       "    </tr>\n",
       "  </tbody>\n",
       "</table>\n",
       "</div>"
      ],
      "text/plain": [
       "   overall  verified unixReviewTime    vote  userid  itemid  rating  \\\n",
       "0        5         1         middle     low  102179   37138       1   \n",
       "1        5         0            new     low  117314   37138       1   \n",
       "2        3         1            new  middle  119505   37138       0   \n",
       "\n",
       "                                               title main_cat price  \\\n",
       "0  Primal Palate Organic Spices Adobo Seasoning, ...  Grocery   low   \n",
       "1  Primal Palate Organic Spices Adobo Seasoning, ...  Grocery   low   \n",
       "2  Primal Palate Organic Spices Adobo Seasoning, ...  Grocery   low   \n",
       "\n",
       "   brand_kind  also_buy_numb  also_view_numb  image  \n",
       "0           0             85              54      1  \n",
       "1           0             85              54      1  \n",
       "2           0             85              54      1  "
      ]
     },
     "execution_count": 106,
     "metadata": {},
     "output_type": "execute_result"
    }
   ],
   "source": [
    "df.head(3)"
   ]
  },
  {
   "cell_type": "markdown",
   "metadata": {},
   "source": [
    "Краткий итог EDA. Получилось достаточно большая база, с которой можно творчески работать практически до бсконечности. От большинства признаков по разным причинам пришлось избавиться. Осталось 9 признаков. 4 из которых бинарные, 2 числовых и остальные категориальные. С частью из них поработаем с помощью label encoding."
   ]
  },
  {
   "cell_type": "markdown",
   "metadata": {},
   "source": [
    "# Future Engeneering"
   ]
  },
  {
   "cell_type": "code",
   "execution_count": 107,
   "metadata": {
    "execution": {
     "iopub.execute_input": "2021-08-04T01:07:38.964582Z",
     "iopub.status.busy": "2021-08-04T01:07:38.964161Z",
     "iopub.status.idle": "2021-08-04T01:07:39.130969Z",
     "shell.execute_reply": "2021-08-04T01:07:39.130028Z",
     "shell.execute_reply.started": "2021-08-04T01:07:38.96455Z"
    }
   },
   "outputs": [
    {
     "name": "stdout",
     "output_type": "stream",
     "text": [
      "{0: 'middle', 1: 'new', 2: 'old'}\n"
     ]
    }
   ],
   "source": [
    "# преобразование с помощью LabelEncoder()\n",
    "label_encoder = LabelEncoder()\n",
    "# преобразуем категории времени в числовые\n",
    "mapped = pd.Series(label_encoder.fit_transform(df['unixReviewTime']))\n",
    "print(dict(enumerate(label_encoder.classes_)))"
   ]
  },
  {
   "cell_type": "code",
   "execution_count": 108,
   "metadata": {
    "execution": {
     "iopub.execute_input": "2021-08-04T01:07:39.132985Z",
     "iopub.status.busy": "2021-08-04T01:07:39.132678Z",
     "iopub.status.idle": "2021-08-04T01:07:39.401587Z",
     "shell.execute_reply": "2021-08-04T01:07:39.400556Z",
     "shell.execute_reply.started": "2021-08-04T01:07:39.132957Z"
    }
   },
   "outputs": [
    {
     "data": {
      "text/html": [
       "<div>\n",
       "<style scoped>\n",
       "    .dataframe tbody tr th:only-of-type {\n",
       "        vertical-align: middle;\n",
       "    }\n",
       "\n",
       "    .dataframe tbody tr th {\n",
       "        vertical-align: top;\n",
       "    }\n",
       "\n",
       "    .dataframe thead th {\n",
       "        text-align: right;\n",
       "    }\n",
       "</style>\n",
       "<table border=\"1\" class=\"dataframe\">\n",
       "  <thead>\n",
       "    <tr style=\"text-align: right;\">\n",
       "      <th></th>\n",
       "      <th>overall</th>\n",
       "      <th>verified</th>\n",
       "      <th>unixReviewTime</th>\n",
       "      <th>vote</th>\n",
       "      <th>userid</th>\n",
       "      <th>itemid</th>\n",
       "      <th>rating</th>\n",
       "      <th>title</th>\n",
       "      <th>main_cat</th>\n",
       "      <th>price</th>\n",
       "      <th>brand_kind</th>\n",
       "      <th>also_buy_numb</th>\n",
       "      <th>also_view_numb</th>\n",
       "      <th>image</th>\n",
       "    </tr>\n",
       "  </thead>\n",
       "  <tbody>\n",
       "    <tr>\n",
       "      <th>753348</th>\n",
       "      <td>4</td>\n",
       "      <td>0</td>\n",
       "      <td>2</td>\n",
       "      <td>low</td>\n",
       "      <td>288</td>\n",
       "      <td>7324</td>\n",
       "      <td>1</td>\n",
       "      <td>Gatorade Performance Series Protein Recovery S...</td>\n",
       "      <td>Grocery</td>\n",
       "      <td>middle</td>\n",
       "      <td>0</td>\n",
       "      <td>0</td>\n",
       "      <td>2</td>\n",
       "      <td>1</td>\n",
       "    </tr>\n",
       "    <tr>\n",
       "      <th>248703</th>\n",
       "      <td>5</td>\n",
       "      <td>1</td>\n",
       "      <td>0</td>\n",
       "      <td>middle</td>\n",
       "      <td>59343</td>\n",
       "      <td>37132</td>\n",
       "      <td>1</td>\n",
       "      <td>NUTS U.S. - Dried Apricots, Gourmet Turkish Ap...</td>\n",
       "      <td>Grocery</td>\n",
       "      <td>high</td>\n",
       "      <td>0</td>\n",
       "      <td>80</td>\n",
       "      <td>0</td>\n",
       "      <td>1</td>\n",
       "    </tr>\n",
       "    <tr>\n",
       "      <th>730032</th>\n",
       "      <td>5</td>\n",
       "      <td>1</td>\n",
       "      <td>1</td>\n",
       "      <td>low</td>\n",
       "      <td>126269</td>\n",
       "      <td>41197</td>\n",
       "      <td>1</td>\n",
       "      <td>Jimmy Dean, Turkey Bacon Delight Frittata, 6 c...</td>\n",
       "      <td>Grocery</td>\n",
       "      <td>middle</td>\n",
       "      <td>0</td>\n",
       "      <td>1</td>\n",
       "      <td>1</td>\n",
       "      <td>1</td>\n",
       "    </tr>\n",
       "  </tbody>\n",
       "</table>\n",
       "</div>"
      ],
      "text/plain": [
       "        overall  verified  unixReviewTime    vote  userid  itemid  rating  \\\n",
       "753348        4         0               2     low     288    7324       1   \n",
       "248703        5         1               0  middle   59343   37132       1   \n",
       "730032        5         1               1     low  126269   41197       1   \n",
       "\n",
       "                                                    title main_cat   price  \\\n",
       "753348  Gatorade Performance Series Protein Recovery S...  Grocery  middle   \n",
       "248703  NUTS U.S. - Dried Apricots, Gourmet Turkish Ap...  Grocery    high   \n",
       "730032  Jimmy Dean, Turkey Bacon Delight Frittata, 6 c...  Grocery  middle   \n",
       "\n",
       "        brand_kind  also_buy_numb  also_view_numb  image  \n",
       "753348           0              0               2      1  \n",
       "248703           0             80               0      1  \n",
       "730032           0              1               1      1  "
      ]
     },
     "execution_count": 108,
     "metadata": {},
     "output_type": "execute_result"
    }
   ],
   "source": [
    "df['unixReviewTime'] = label_encoder.fit_transform(df['unixReviewTime'])\n",
    "df.sample(3)"
   ]
  },
  {
   "cell_type": "code",
   "execution_count": 109,
   "metadata": {
    "execution": {
     "iopub.execute_input": "2021-08-04T01:07:39.4035Z",
     "iopub.status.busy": "2021-08-04T01:07:39.403058Z",
     "iopub.status.idle": "2021-08-04T01:07:39.407507Z",
     "shell.execute_reply": "2021-08-04T01:07:39.406498Z",
     "shell.execute_reply.started": "2021-08-04T01:07:39.403456Z"
    }
   },
   "outputs": [],
   "source": [
    "cat_cols.append('unixReviewTime')"
   ]
  },
  {
   "cell_type": "code",
   "execution_count": 110,
   "metadata": {
    "execution": {
     "iopub.execute_input": "2021-08-04T01:07:39.408878Z",
     "iopub.status.busy": "2021-08-04T01:07:39.408617Z",
     "iopub.status.idle": "2021-08-04T01:07:39.563788Z",
     "shell.execute_reply": "2021-08-04T01:07:39.562569Z",
     "shell.execute_reply.started": "2021-08-04T01:07:39.408853Z"
    }
   },
   "outputs": [
    {
     "name": "stdout",
     "output_type": "stream",
     "text": [
      "{0: 'high', 1: 'low', 2: 'middle'}\n"
     ]
    }
   ],
   "source": [
    "# преобразуем признак vote\n",
    "mapped = pd.Series(label_encoder.fit_transform(df['vote']))\n",
    "print(dict(enumerate(label_encoder.classes_)))"
   ]
  },
  {
   "cell_type": "code",
   "execution_count": 111,
   "metadata": {
    "execution": {
     "iopub.execute_input": "2021-08-04T01:07:39.565471Z",
     "iopub.status.busy": "2021-08-04T01:07:39.565161Z",
     "iopub.status.idle": "2021-08-04T01:07:39.86235Z",
     "shell.execute_reply": "2021-08-04T01:07:39.861415Z",
     "shell.execute_reply.started": "2021-08-04T01:07:39.565443Z"
    }
   },
   "outputs": [
    {
     "data": {
      "text/html": [
       "<div>\n",
       "<style scoped>\n",
       "    .dataframe tbody tr th:only-of-type {\n",
       "        vertical-align: middle;\n",
       "    }\n",
       "\n",
       "    .dataframe tbody tr th {\n",
       "        vertical-align: top;\n",
       "    }\n",
       "\n",
       "    .dataframe thead th {\n",
       "        text-align: right;\n",
       "    }\n",
       "</style>\n",
       "<table border=\"1\" class=\"dataframe\">\n",
       "  <thead>\n",
       "    <tr style=\"text-align: right;\">\n",
       "      <th></th>\n",
       "      <th>overall</th>\n",
       "      <th>verified</th>\n",
       "      <th>unixReviewTime</th>\n",
       "      <th>vote</th>\n",
       "      <th>userid</th>\n",
       "      <th>itemid</th>\n",
       "      <th>rating</th>\n",
       "      <th>title</th>\n",
       "      <th>main_cat</th>\n",
       "      <th>price</th>\n",
       "      <th>brand_kind</th>\n",
       "      <th>also_buy_numb</th>\n",
       "      <th>also_view_numb</th>\n",
       "      <th>image</th>\n",
       "    </tr>\n",
       "  </thead>\n",
       "  <tbody>\n",
       "    <tr>\n",
       "      <th>613247</th>\n",
       "      <td>4</td>\n",
       "      <td>1</td>\n",
       "      <td>0</td>\n",
       "      <td>1</td>\n",
       "      <td>67744</td>\n",
       "      <td>14047</td>\n",
       "      <td>1</td>\n",
       "      <td>Sqwincher 20 oz Zero Sugar Free Wide Mouth Rea...</td>\n",
       "      <td>Industrial &amp; Scientific</td>\n",
       "      <td>high</td>\n",
       "      <td>0</td>\n",
       "      <td>0</td>\n",
       "      <td>0</td>\n",
       "      <td>1</td>\n",
       "    </tr>\n",
       "    <tr>\n",
       "      <th>45527</th>\n",
       "      <td>5</td>\n",
       "      <td>1</td>\n",
       "      <td>2</td>\n",
       "      <td>1</td>\n",
       "      <td>20292</td>\n",
       "      <td>9256</td>\n",
       "      <td>1</td>\n",
       "      <td>The Spice Lab Pink Himalayan Salt - 1 Pound X-...</td>\n",
       "      <td>Grocery</td>\n",
       "      <td>low</td>\n",
       "      <td>0</td>\n",
       "      <td>67</td>\n",
       "      <td>0</td>\n",
       "      <td>1</td>\n",
       "    </tr>\n",
       "    <tr>\n",
       "      <th>623861</th>\n",
       "      <td>3</td>\n",
       "      <td>1</td>\n",
       "      <td>0</td>\n",
       "      <td>2</td>\n",
       "      <td>24260</td>\n",
       "      <td>18228</td>\n",
       "      <td>0</td>\n",
       "      <td>Dak, Premium Ham, 16oz Can (Pack of 3)</td>\n",
       "      <td>Grocery</td>\n",
       "      <td>high</td>\n",
       "      <td>0</td>\n",
       "      <td>69</td>\n",
       "      <td>0</td>\n",
       "      <td>1</td>\n",
       "    </tr>\n",
       "  </tbody>\n",
       "</table>\n",
       "</div>"
      ],
      "text/plain": [
       "        overall  verified  unixReviewTime  vote  userid  itemid  rating  \\\n",
       "613247        4         1               0     1   67744   14047       1   \n",
       "45527         5         1               2     1   20292    9256       1   \n",
       "623861        3         1               0     2   24260   18228       0   \n",
       "\n",
       "                                                    title  \\\n",
       "613247  Sqwincher 20 oz Zero Sugar Free Wide Mouth Rea...   \n",
       "45527   The Spice Lab Pink Himalayan Salt - 1 Pound X-...   \n",
       "623861             Dak, Premium Ham, 16oz Can (Pack of 3)   \n",
       "\n",
       "                       main_cat price  brand_kind  also_buy_numb  \\\n",
       "613247  Industrial & Scientific  high           0              0   \n",
       "45527                   Grocery   low           0             67   \n",
       "623861                  Grocery  high           0             69   \n",
       "\n",
       "        also_view_numb  image  \n",
       "613247               0      1  \n",
       "45527                0      1  \n",
       "623861               0      1  "
      ]
     },
     "execution_count": 111,
     "metadata": {},
     "output_type": "execute_result"
    }
   ],
   "source": [
    "df['vote'] = label_encoder.fit_transform(df['vote'])\n",
    "df.sample(3)"
   ]
  },
  {
   "cell_type": "code",
   "execution_count": 112,
   "metadata": {
    "execution": {
     "iopub.execute_input": "2021-08-04T01:07:39.864262Z",
     "iopub.status.busy": "2021-08-04T01:07:39.863812Z",
     "iopub.status.idle": "2021-08-04T01:07:39.868677Z",
     "shell.execute_reply": "2021-08-04T01:07:39.867791Z",
     "shell.execute_reply.started": "2021-08-04T01:07:39.864215Z"
    }
   },
   "outputs": [],
   "source": [
    "cat_cols.append('vote')"
   ]
  },
  {
   "cell_type": "code",
   "execution_count": 113,
   "metadata": {
    "execution": {
     "iopub.execute_input": "2021-08-04T01:07:39.870645Z",
     "iopub.status.busy": "2021-08-04T01:07:39.870277Z",
     "iopub.status.idle": "2021-08-04T01:07:40.080372Z",
     "shell.execute_reply": "2021-08-04T01:07:40.079259Z",
     "shell.execute_reply.started": "2021-08-04T01:07:39.870604Z"
    }
   },
   "outputs": [
    {
     "name": "stdout",
     "output_type": "stream",
     "text": [
      "{0: 'All Beauty', 1: 'Amazon Home', 2: 'Arts, Crafts & Sewing', 3: 'Baby', 4: 'Camera & Photo', 5: 'Cell Phones & Accessories', 6: 'Grocery', 7: 'Health & Personal Care', 8: 'Home Audio & Theater', 9: 'Industrial & Scientific', 10: 'Musical Instruments', 11: 'Office Products', 12: 'Pet Supplies', 13: 'Software', 14: 'Sports & Outdoors', 15: 'Tools & Home Improvement', 16: 'Toys & Games', 17: 'others'}\n"
     ]
    }
   ],
   "source": [
    "# следующее main_cat\n",
    "mapped = pd.Series(label_encoder.fit_transform(df['main_cat']))\n",
    "print(dict(enumerate(label_encoder.classes_)))"
   ]
  },
  {
   "cell_type": "code",
   "execution_count": 114,
   "metadata": {
    "execution": {
     "iopub.execute_input": "2021-08-04T01:07:40.082332Z",
     "iopub.status.busy": "2021-08-04T01:07:40.081907Z",
     "iopub.status.idle": "2021-08-04T01:07:40.39041Z",
     "shell.execute_reply": "2021-08-04T01:07:40.389319Z",
     "shell.execute_reply.started": "2021-08-04T01:07:40.082286Z"
    }
   },
   "outputs": [
    {
     "data": {
      "text/html": [
       "<div>\n",
       "<style scoped>\n",
       "    .dataframe tbody tr th:only-of-type {\n",
       "        vertical-align: middle;\n",
       "    }\n",
       "\n",
       "    .dataframe tbody tr th {\n",
       "        vertical-align: top;\n",
       "    }\n",
       "\n",
       "    .dataframe thead th {\n",
       "        text-align: right;\n",
       "    }\n",
       "</style>\n",
       "<table border=\"1\" class=\"dataframe\">\n",
       "  <thead>\n",
       "    <tr style=\"text-align: right;\">\n",
       "      <th></th>\n",
       "      <th>overall</th>\n",
       "      <th>verified</th>\n",
       "      <th>unixReviewTime</th>\n",
       "      <th>vote</th>\n",
       "      <th>userid</th>\n",
       "      <th>itemid</th>\n",
       "      <th>rating</th>\n",
       "      <th>title</th>\n",
       "      <th>main_cat</th>\n",
       "      <th>price</th>\n",
       "      <th>brand_kind</th>\n",
       "      <th>also_buy_numb</th>\n",
       "      <th>also_view_numb</th>\n",
       "      <th>image</th>\n",
       "    </tr>\n",
       "  </thead>\n",
       "  <tbody>\n",
       "    <tr>\n",
       "      <th>480994</th>\n",
       "      <td>5</td>\n",
       "      <td>1</td>\n",
       "      <td>0</td>\n",
       "      <td>1</td>\n",
       "      <td>100241</td>\n",
       "      <td>22536</td>\n",
       "      <td>1</td>\n",
       "      <td>Bai Coconut Flavored Water, Molokai Coconut, A...</td>\n",
       "      <td>6</td>\n",
       "      <td>high</td>\n",
       "      <td>0</td>\n",
       "      <td>95</td>\n",
       "      <td>0</td>\n",
       "      <td>1</td>\n",
       "    </tr>\n",
       "    <tr>\n",
       "      <th>395685</th>\n",
       "      <td>5</td>\n",
       "      <td>1</td>\n",
       "      <td>0</td>\n",
       "      <td>1</td>\n",
       "      <td>37129</td>\n",
       "      <td>2466</td>\n",
       "      <td>1</td>\n",
       "      <td>Heinz Organic Tomato Ketchup, 15 Ounce (Pack o...</td>\n",
       "      <td>6</td>\n",
       "      <td>middle</td>\n",
       "      <td>0</td>\n",
       "      <td>95</td>\n",
       "      <td>48</td>\n",
       "      <td>1</td>\n",
       "    </tr>\n",
       "    <tr>\n",
       "      <th>592884</th>\n",
       "      <td>5</td>\n",
       "      <td>1</td>\n",
       "      <td>0</td>\n",
       "      <td>1</td>\n",
       "      <td>64921</td>\n",
       "      <td>40125</td>\n",
       "      <td>1</td>\n",
       "      <td>Jansal Valley Ground White Pepper, 16 Ounce</td>\n",
       "      <td>6</td>\n",
       "      <td>middle</td>\n",
       "      <td>0</td>\n",
       "      <td>0</td>\n",
       "      <td>0</td>\n",
       "      <td>1</td>\n",
       "    </tr>\n",
       "  </tbody>\n",
       "</table>\n",
       "</div>"
      ],
      "text/plain": [
       "        overall  verified  unixReviewTime  vote  userid  itemid  rating  \\\n",
       "480994        5         1               0     1  100241   22536       1   \n",
       "395685        5         1               0     1   37129    2466       1   \n",
       "592884        5         1               0     1   64921   40125       1   \n",
       "\n",
       "                                                    title  main_cat   price  \\\n",
       "480994  Bai Coconut Flavored Water, Molokai Coconut, A...         6    high   \n",
       "395685  Heinz Organic Tomato Ketchup, 15 Ounce (Pack o...         6  middle   \n",
       "592884        Jansal Valley Ground White Pepper, 16 Ounce         6  middle   \n",
       "\n",
       "        brand_kind  also_buy_numb  also_view_numb  image  \n",
       "480994           0             95               0      1  \n",
       "395685           0             95              48      1  \n",
       "592884           0              0               0      1  "
      ]
     },
     "execution_count": 114,
     "metadata": {},
     "output_type": "execute_result"
    }
   ],
   "source": [
    "df['main_cat'] = label_encoder.fit_transform(df['main_cat'])\n",
    "df.sample(3)"
   ]
  },
  {
   "cell_type": "code",
   "execution_count": 115,
   "metadata": {
    "execution": {
     "iopub.execute_input": "2021-08-04T01:07:40.392271Z",
     "iopub.status.busy": "2021-08-04T01:07:40.391935Z",
     "iopub.status.idle": "2021-08-04T01:07:40.397151Z",
     "shell.execute_reply": "2021-08-04T01:07:40.395854Z",
     "shell.execute_reply.started": "2021-08-04T01:07:40.392233Z"
    }
   },
   "outputs": [],
   "source": [
    "cat_cols.append('main_cat')"
   ]
  },
  {
   "cell_type": "code",
   "execution_count": 116,
   "metadata": {
    "execution": {
     "iopub.execute_input": "2021-08-04T01:07:40.399305Z",
     "iopub.status.busy": "2021-08-04T01:07:40.398842Z",
     "iopub.status.idle": "2021-08-04T01:07:40.460504Z",
     "shell.execute_reply": "2021-08-04T01:07:40.459686Z",
     "shell.execute_reply.started": "2021-08-04T01:07:40.39926Z"
    }
   },
   "outputs": [],
   "source": [
    "# для разнообразия сделаем dummy-переменные по признаку price\n",
    "dummies = pd.get_dummies(df['price'], prefix = df['price'].name)"
   ]
  },
  {
   "cell_type": "code",
   "execution_count": 117,
   "metadata": {
    "execution": {
     "iopub.execute_input": "2021-08-04T01:07:40.462342Z",
     "iopub.status.busy": "2021-08-04T01:07:40.461844Z",
     "iopub.status.idle": "2021-08-04T01:07:40.47633Z",
     "shell.execute_reply": "2021-08-04T01:07:40.475446Z",
     "shell.execute_reply.started": "2021-08-04T01:07:40.462294Z"
    }
   },
   "outputs": [
    {
     "data": {
      "text/html": [
       "<div>\n",
       "<style scoped>\n",
       "    .dataframe tbody tr th:only-of-type {\n",
       "        vertical-align: middle;\n",
       "    }\n",
       "\n",
       "    .dataframe tbody tr th {\n",
       "        vertical-align: top;\n",
       "    }\n",
       "\n",
       "    .dataframe thead th {\n",
       "        text-align: right;\n",
       "    }\n",
       "</style>\n",
       "<table border=\"1\" class=\"dataframe\">\n",
       "  <thead>\n",
       "    <tr style=\"text-align: right;\">\n",
       "      <th></th>\n",
       "      <th>overall</th>\n",
       "      <th>verified</th>\n",
       "      <th>unixReviewTime</th>\n",
       "      <th>vote</th>\n",
       "      <th>userid</th>\n",
       "      <th>itemid</th>\n",
       "      <th>rating</th>\n",
       "      <th>title</th>\n",
       "      <th>main_cat</th>\n",
       "      <th>price</th>\n",
       "      <th>brand_kind</th>\n",
       "      <th>also_buy_numb</th>\n",
       "      <th>also_view_numb</th>\n",
       "      <th>image</th>\n",
       "    </tr>\n",
       "  </thead>\n",
       "  <tbody>\n",
       "    <tr>\n",
       "      <th>0</th>\n",
       "      <td>5</td>\n",
       "      <td>1</td>\n",
       "      <td>0</td>\n",
       "      <td>1</td>\n",
       "      <td>102179</td>\n",
       "      <td>37138</td>\n",
       "      <td>1</td>\n",
       "      <td>Primal Palate Organic Spices Adobo Seasoning, ...</td>\n",
       "      <td>6</td>\n",
       "      <td>low</td>\n",
       "      <td>0</td>\n",
       "      <td>85</td>\n",
       "      <td>54</td>\n",
       "      <td>1</td>\n",
       "    </tr>\n",
       "    <tr>\n",
       "      <th>1</th>\n",
       "      <td>5</td>\n",
       "      <td>0</td>\n",
       "      <td>1</td>\n",
       "      <td>1</td>\n",
       "      <td>117314</td>\n",
       "      <td>37138</td>\n",
       "      <td>1</td>\n",
       "      <td>Primal Palate Organic Spices Adobo Seasoning, ...</td>\n",
       "      <td>6</td>\n",
       "      <td>low</td>\n",
       "      <td>0</td>\n",
       "      <td>85</td>\n",
       "      <td>54</td>\n",
       "      <td>1</td>\n",
       "    </tr>\n",
       "  </tbody>\n",
       "</table>\n",
       "</div>"
      ],
      "text/plain": [
       "   overall  verified  unixReviewTime  vote  userid  itemid  rating  \\\n",
       "0        5         1               0     1  102179   37138       1   \n",
       "1        5         0               1     1  117314   37138       1   \n",
       "\n",
       "                                               title  main_cat price  \\\n",
       "0  Primal Palate Organic Spices Adobo Seasoning, ...         6   low   \n",
       "1  Primal Palate Organic Spices Adobo Seasoning, ...         6   low   \n",
       "\n",
       "   brand_kind  also_buy_numb  also_view_numb  image  \n",
       "0           0             85              54      1  \n",
       "1           0             85              54      1  "
      ]
     },
     "execution_count": 117,
     "metadata": {},
     "output_type": "execute_result"
    }
   ],
   "source": [
    "df.head(2)"
   ]
  },
  {
   "cell_type": "code",
   "execution_count": 118,
   "metadata": {
    "execution": {
     "iopub.execute_input": "2021-08-04T01:07:40.478427Z",
     "iopub.status.busy": "2021-08-04T01:07:40.47795Z",
     "iopub.status.idle": "2021-08-04T01:07:40.579668Z",
     "shell.execute_reply": "2021-08-04T01:07:40.57838Z",
     "shell.execute_reply.started": "2021-08-04T01:07:40.478378Z"
    }
   },
   "outputs": [],
   "source": [
    "df = df.drop(df['price'].name, axis=1).join(dummies)"
   ]
  },
  {
   "cell_type": "code",
   "execution_count": 119,
   "metadata": {
    "execution": {
     "iopub.execute_input": "2021-08-04T01:07:40.581942Z",
     "iopub.status.busy": "2021-08-04T01:07:40.581475Z",
     "iopub.status.idle": "2021-08-04T01:07:40.58713Z",
     "shell.execute_reply": "2021-08-04T01:07:40.586252Z",
     "shell.execute_reply.started": "2021-08-04T01:07:40.581894Z"
    }
   },
   "outputs": [],
   "source": [
    "bin_cols.append('price_high')\n",
    "bin_cols.append('price_middle')\n",
    "bin_cols.append('price_low')"
   ]
  },
  {
   "cell_type": "code",
   "execution_count": 120,
   "metadata": {
    "execution": {
     "iopub.execute_input": "2021-08-04T01:07:40.589391Z",
     "iopub.status.busy": "2021-08-04T01:07:40.588768Z",
     "iopub.status.idle": "2021-08-04T01:07:40.604013Z",
     "shell.execute_reply": "2021-08-04T01:07:40.602803Z",
     "shell.execute_reply.started": "2021-08-04T01:07:40.589344Z"
    }
   },
   "outputs": [
    {
     "data": {
      "text/plain": [
       "['verified',\n",
       " 'rating',\n",
       " 'brand_kind',\n",
       " 'image',\n",
       " 'price_high',\n",
       " 'price_middle',\n",
       " 'price_low']"
      ]
     },
     "execution_count": 120,
     "metadata": {},
     "output_type": "execute_result"
    }
   ],
   "source": [
    "bin_cols"
   ]
  },
  {
   "cell_type": "code",
   "execution_count": 121,
   "metadata": {
    "execution": {
     "iopub.execute_input": "2021-08-04T01:07:40.606017Z",
     "iopub.status.busy": "2021-08-04T01:07:40.60556Z",
     "iopub.status.idle": "2021-08-04T01:07:40.627057Z",
     "shell.execute_reply": "2021-08-04T01:07:40.626302Z",
     "shell.execute_reply.started": "2021-08-04T01:07:40.605971Z"
    }
   },
   "outputs": [
    {
     "data": {
      "text/html": [
       "<div>\n",
       "<style scoped>\n",
       "    .dataframe tbody tr th:only-of-type {\n",
       "        vertical-align: middle;\n",
       "    }\n",
       "\n",
       "    .dataframe tbody tr th {\n",
       "        vertical-align: top;\n",
       "    }\n",
       "\n",
       "    .dataframe thead th {\n",
       "        text-align: right;\n",
       "    }\n",
       "</style>\n",
       "<table border=\"1\" class=\"dataframe\">\n",
       "  <thead>\n",
       "    <tr style=\"text-align: right;\">\n",
       "      <th></th>\n",
       "      <th>overall</th>\n",
       "      <th>verified</th>\n",
       "      <th>unixReviewTime</th>\n",
       "      <th>vote</th>\n",
       "      <th>userid</th>\n",
       "      <th>itemid</th>\n",
       "      <th>rating</th>\n",
       "      <th>title</th>\n",
       "      <th>main_cat</th>\n",
       "      <th>brand_kind</th>\n",
       "      <th>also_buy_numb</th>\n",
       "      <th>also_view_numb</th>\n",
       "      <th>image</th>\n",
       "      <th>price_high</th>\n",
       "      <th>price_low</th>\n",
       "      <th>price_middle</th>\n",
       "    </tr>\n",
       "  </thead>\n",
       "  <tbody>\n",
       "    <tr>\n",
       "      <th>0</th>\n",
       "      <td>5</td>\n",
       "      <td>1</td>\n",
       "      <td>0</td>\n",
       "      <td>1</td>\n",
       "      <td>102179</td>\n",
       "      <td>37138</td>\n",
       "      <td>1</td>\n",
       "      <td>Primal Palate Organic Spices Adobo Seasoning, ...</td>\n",
       "      <td>6</td>\n",
       "      <td>0</td>\n",
       "      <td>85</td>\n",
       "      <td>54</td>\n",
       "      <td>1</td>\n",
       "      <td>0</td>\n",
       "      <td>1</td>\n",
       "      <td>0</td>\n",
       "    </tr>\n",
       "    <tr>\n",
       "      <th>1</th>\n",
       "      <td>5</td>\n",
       "      <td>0</td>\n",
       "      <td>1</td>\n",
       "      <td>1</td>\n",
       "      <td>117314</td>\n",
       "      <td>37138</td>\n",
       "      <td>1</td>\n",
       "      <td>Primal Palate Organic Spices Adobo Seasoning, ...</td>\n",
       "      <td>6</td>\n",
       "      <td>0</td>\n",
       "      <td>85</td>\n",
       "      <td>54</td>\n",
       "      <td>1</td>\n",
       "      <td>0</td>\n",
       "      <td>1</td>\n",
       "      <td>0</td>\n",
       "    </tr>\n",
       "    <tr>\n",
       "      <th>2</th>\n",
       "      <td>3</td>\n",
       "      <td>1</td>\n",
       "      <td>1</td>\n",
       "      <td>2</td>\n",
       "      <td>119505</td>\n",
       "      <td>37138</td>\n",
       "      <td>0</td>\n",
       "      <td>Primal Palate Organic Spices Adobo Seasoning, ...</td>\n",
       "      <td>6</td>\n",
       "      <td>0</td>\n",
       "      <td>85</td>\n",
       "      <td>54</td>\n",
       "      <td>1</td>\n",
       "      <td>0</td>\n",
       "      <td>1</td>\n",
       "      <td>0</td>\n",
       "    </tr>\n",
       "  </tbody>\n",
       "</table>\n",
       "</div>"
      ],
      "text/plain": [
       "   overall  verified  unixReviewTime  vote  userid  itemid  rating  \\\n",
       "0        5         1               0     1  102179   37138       1   \n",
       "1        5         0               1     1  117314   37138       1   \n",
       "2        3         1               1     2  119505   37138       0   \n",
       "\n",
       "                                               title  main_cat  brand_kind  \\\n",
       "0  Primal Palate Organic Spices Adobo Seasoning, ...         6           0   \n",
       "1  Primal Palate Organic Spices Adobo Seasoning, ...         6           0   \n",
       "2  Primal Palate Organic Spices Adobo Seasoning, ...         6           0   \n",
       "\n",
       "   also_buy_numb  also_view_numb  image  price_high  price_low  price_middle  \n",
       "0             85              54      1           0          1             0  \n",
       "1             85              54      1           0          1             0  \n",
       "2             85              54      1           0          1             0  "
      ]
     },
     "execution_count": 121,
     "metadata": {},
     "output_type": "execute_result"
    }
   ],
   "source": [
    "df.head(3)"
   ]
  },
  {
   "cell_type": "code",
   "execution_count": 122,
   "metadata": {
    "execution": {
     "iopub.execute_input": "2021-08-04T01:07:40.628511Z",
     "iopub.status.busy": "2021-08-04T01:07:40.628086Z",
     "iopub.status.idle": "2021-08-04T01:07:42.988794Z",
     "shell.execute_reply": "2021-08-04T01:07:42.987575Z",
     "shell.execute_reply.started": "2021-08-04T01:07:40.628481Z"
    }
   },
   "outputs": [
    {
     "data": {
      "text/plain": [
       "<AxesSubplot:>"
      ]
     },
     "execution_count": 122,
     "metadata": {},
     "output_type": "execute_result"
    },
    {
     "data": {
      "image/png": "[encoded data removed]",
      "text/plain": [
       "<Figure size 720x360 with 2 Axes>"
      ]
     },
     "metadata": {
      "needs_background": "light"
     },
     "output_type": "display_data"
    }
   ],
   "source": [
    "# продолжим анализ признаков, начнем с простого - матрица корреляций \n",
    "plt.figure(figsize=(10,5))\n",
    "sns.heatmap(df.corr(), annot=True)\n",
    "# логично данную матрицу применять для числовых признаков, но также очевидна\n",
    "# корреляция между overall и rating, что соответствует заданию\n",
    "# стоит подумать над удалением одного из признаков"
   ]
  },
  {
   "cell_type": "code",
   "execution_count": 123,
   "metadata": {
    "execution": {
     "iopub.execute_input": "2021-08-04T01:07:42.990495Z",
     "iopub.status.busy": "2021-08-04T01:07:42.990212Z",
     "iopub.status.idle": "2021-08-04T01:07:44.472176Z",
     "shell.execute_reply": "2021-08-04T01:07:44.471275Z",
     "shell.execute_reply.started": "2021-08-04T01:07:42.990467Z"
    }
   },
   "outputs": [
    {
     "data": {
      "image/png": "[encoded data removed]",
      "text/plain": [
       "<Figure size 432x288 with 1 Axes>"
      ]
     },
     "metadata": {
      "needs_background": "light"
     },
     "output_type": "display_data"
    },
    {
     "data": {
      "image/png": "[encoded data removed]",
      "text/plain": [
       "<Figure size 432x288 with 1 Axes>"
      ]
     },
     "metadata": {
      "needs_background": "light"
     },
     "output_type": "display_data"
    },
    {
     "data": {
      "image/png": "[encoded data removed]",
      "text/plain": [
       "<Figure size 432x288 with 1 Axes>"
      ]
     },
     "metadata": {
      "needs_background": "light"
     },
     "output_type": "display_data"
    },
    {
     "data": {
      "image/png": "[encoded data removed]",
      "text/plain": [
       "<Figure size 432x288 with 1 Axes>"
      ]
     },
     "metadata": {
      "needs_background": "light"
     },
     "output_type": "display_data"
    },
    {
     "data": {
      "image/png": "[encoded data removed]",
      "text/plain": [
       "<Figure size 432x288 with 1 Axes>"
      ]
     },
     "metadata": {
      "needs_background": "light"
     },
     "output_type": "display_data"
    },
    {
     "data": {
      "image/png": "[encoded data removed]",
      "text/plain": [
       "<Figure size 432x288 with 1 Axes>"
      ]
     },
     "metadata": {
      "needs_background": "light"
     },
     "output_type": "display_data"
    }
   ],
   "source": [
    "# для получения большей информации стоит построить боксплоты зависимостей от overall или рейтинга\n",
    "for col in ['unixReviewTime', 'userid', 'itemid', 'price_high', 'price_middle', 'price_low']:\n",
    "    plt.title(f\"Распределение {col}\")\n",
    "    sns.boxplot(x='rating', y=col, data=df)\n",
    "    plt.show()"
   ]
  },
  {
   "cell_type": "markdown",
   "metadata": {},
   "source": [
    "Распределения достаточно ожидаемые. Интересный факт, что у товаров с высокой ценой положительный рейтинг."
   ]
  },
  {
   "cell_type": "code",
   "execution_count": 124,
   "metadata": {
    "execution": {
     "iopub.execute_input": "2021-08-04T01:07:44.473694Z",
     "iopub.status.busy": "2021-08-04T01:07:44.473431Z",
     "iopub.status.idle": "2021-08-04T01:07:45.619839Z",
     "shell.execute_reply": "2021-08-04T01:07:45.618649Z",
     "shell.execute_reply.started": "2021-08-04T01:07:44.473669Z"
    }
   },
   "outputs": [
    {
     "data": {
      "text/plain": [
       "<AxesSubplot:>"
      ]
     },
     "execution_count": 124,
     "metadata": {},
     "output_type": "execute_result"
    },
    {
     "data": {
      "image/png": "[encoded data removed]",
      "text/plain": [
       "<Figure size 432x288 with 1 Axes>"
      ]
     },
     "metadata": {
      "needs_background": "light"
     },
     "output_type": "display_data"
    }
   ],
   "source": [
    "# Проверим значимость бинарных переменных:\n",
    "imp_bin = Series(mutual_info_classif(df[bin_cols], df['rating'],\n",
    "                                     discrete_features=True), index=bin_cols)\n",
    "imp_bin.sort_values(inplace=True)\n",
    "imp_bin.plot(kind='barh')"
   ]
  },
  {
   "cell_type": "markdown",
   "metadata": {},
   "source": [
    "Очевидно, что признак price_low имеет очень малую значимость. Стоит рассмотреть удаление"
   ]
  },
  {
   "cell_type": "code",
   "execution_count": 125,
   "metadata": {
    "execution": {
     "iopub.execute_input": "2021-08-04T01:07:45.621967Z",
     "iopub.status.busy": "2021-08-04T01:07:45.621543Z",
     "iopub.status.idle": "2021-08-04T01:07:46.377326Z",
     "shell.execute_reply": "2021-08-04T01:07:46.376068Z",
     "shell.execute_reply.started": "2021-08-04T01:07:45.621926Z"
    }
   },
   "outputs": [
    {
     "data": {
      "text/plain": [
       "<AxesSubplot:>"
      ]
     },
     "execution_count": 125,
     "metadata": {},
     "output_type": "execute_result"
    },
    {
     "data": {
      "image/png": "[encoded data removed]",
      "text/plain": [
       "<Figure size 432x288 with 1 Axes>"
      ]
     },
     "metadata": {
      "needs_background": "light"
     },
     "output_type": "display_data"
    }
   ],
   "source": [
    "# Проверим значимость категориальных переменных:\n",
    "imp_cat = Series(mutual_info_classif(df[cat_cols], df['rating'],\n",
    "                                     discrete_features=True), index=cat_cols)\n",
    "imp_cat.sort_values(inplace=True)\n",
    "imp_cat.plot(kind='barh')"
   ]
  },
  {
   "cell_type": "markdown",
   "metadata": {},
   "source": [
    "На данном графике признак main_cat не является значимым. Стоит признать, что графическое представление наших данных не очень информативно. Рассмотрим другие методы."
   ]
  },
  {
   "cell_type": "code",
   "execution_count": 126,
   "metadata": {
    "execution": {
     "iopub.execute_input": "2021-08-04T01:07:46.379224Z",
     "iopub.status.busy": "2021-08-04T01:07:46.378813Z",
     "iopub.status.idle": "2021-08-04T01:07:46.384031Z",
     "shell.execute_reply": "2021-08-04T01:07:46.38294Z",
     "shell.execute_reply.started": "2021-08-04T01:07:46.379178Z"
    }
   },
   "outputs": [],
   "source": [
    "# Применим метод Стьюдента\n",
    "# используем функцию из предыдущего проекта\n",
    "from itertools import combinations\n",
    "from scipy.stats import ttest_ind"
   ]
  },
  {
   "cell_type": "code",
   "execution_count": 127,
   "metadata": {
    "execution": {
     "iopub.execute_input": "2021-08-04T01:07:46.386456Z",
     "iopub.status.busy": "2021-08-04T01:07:46.385971Z",
     "iopub.status.idle": "2021-08-04T01:07:46.396594Z",
     "shell.execute_reply": "2021-08-04T01:07:46.395584Z",
     "shell.execute_reply.started": "2021-08-04T01:07:46.38641Z"
    }
   },
   "outputs": [],
   "source": [
    "def get_stat_dif(column):\n",
    "    cols = df.loc[:, column].value_counts().index[:10]\n",
    "    combinations_all = list(combinations(cols, 2))\n",
    "    for comb in combinations_all:\n",
    "        if ttest_ind(df.loc[df.loc[:, column] == comb[0], 'rating'], \n",
    "                        df.loc[df.loc[:, column] == comb[1], 'rating']).pvalue \\\n",
    "            <= 0.05/len(combinations_all): \n",
    "            print('Найдены статистически значимые различия для колонки', column)\n",
    "            break"
   ]
  },
  {
   "cell_type": "code",
   "execution_count": 128,
   "metadata": {
    "execution": {
     "iopub.execute_input": "2021-08-04T01:07:46.398516Z",
     "iopub.status.busy": "2021-08-04T01:07:46.398204Z",
     "iopub.status.idle": "2021-08-04T01:07:46.597033Z",
     "shell.execute_reply": "2021-08-04T01:07:46.595576Z",
     "shell.execute_reply.started": "2021-08-04T01:07:46.398487Z"
    }
   },
   "outputs": [
    {
     "name": "stdout",
     "output_type": "stream",
     "text": [
      "Найдены статистически значимые различия для колонки verified\n",
      "Найдены статистически значимые различия для колонки rating\n",
      "Найдены статистически значимые различия для колонки brand_kind\n",
      "Найдены статистически значимые различия для колонки image\n",
      "Найдены статистически значимые различия для колонки price_high\n",
      "Найдены статистически значимые различия для колонки price_middle\n",
      "Найдены статистически значимые различия для колонки price_low\n"
     ]
    }
   ],
   "source": [
    "for col in bin_cols:\n",
    "    get_stat_dif(col)"
   ]
  },
  {
   "cell_type": "markdown",
   "metadata": {},
   "source": [
    "Похоже, что все признаки могут быть полезны."
   ]
  },
  {
   "cell_type": "code",
   "execution_count": 129,
   "metadata": {
    "execution": {
     "iopub.execute_input": "2021-08-04T01:07:46.599083Z",
     "iopub.status.busy": "2021-08-04T01:07:46.598808Z",
     "iopub.status.idle": "2021-08-04T01:07:46.647873Z",
     "shell.execute_reply": "2021-08-04T01:07:46.646884Z",
     "shell.execute_reply.started": "2021-08-04T01:07:46.599056Z"
    }
   },
   "outputs": [],
   "source": [
    "# удалим overall из-за его высокой корелляции \n",
    "df = df.drop(['overall'], axis = 1)"
   ]
  },
  {
   "cell_type": "markdown",
   "metadata": {},
   "source": [
    "# Построение модели"
   ]
  },
  {
   "cell_type": "markdown",
   "metadata": {},
   "source": [
    "* Простая модель"
   ]
  },
  {
   "cell_type": "code",
   "execution_count": 130,
   "metadata": {
    "execution": {
     "iopub.execute_input": "2021-08-04T01:07:46.649587Z",
     "iopub.status.busy": "2021-08-04T01:07:46.649313Z",
     "iopub.status.idle": "2021-08-04T01:07:46.67Z",
     "shell.execute_reply": "2021-08-04T01:07:46.669115Z",
     "shell.execute_reply.started": "2021-08-04T01:07:46.649561Z"
    }
   },
   "outputs": [],
   "source": [
    "import scipy.sparse as sparse\n",
    "from sklearn import preprocessing\n",
    "from lightfm import LightFM\n",
    "from lightfm.cross_validation import random_train_test_split\n",
    "from lightfm.evaluation import auc_score, precision_at_k, recall_at_k\n",
    "import sklearn\n",
    "from sklearn.model_selection import train_test_split\n",
    "\n",
    "import scipy.sparse as sparse"
   ]
  },
  {
   "cell_type": "code",
   "execution_count": 131,
   "metadata": {
    "execution": {
     "iopub.execute_input": "2021-08-04T01:07:46.671785Z",
     "iopub.status.busy": "2021-08-04T01:07:46.671396Z",
     "iopub.status.idle": "2021-08-04T01:07:47.650712Z",
     "shell.execute_reply": "2021-08-04T01:07:47.649589Z",
     "shell.execute_reply.started": "2021-08-04T01:07:46.671753Z"
    }
   },
   "outputs": [],
   "source": [
    "train_data, test_data = train_test_split(train,random_state=32, shuffle=True)"
   ]
  },
  {
   "cell_type": "code",
   "execution_count": 132,
   "metadata": {
    "execution": {
     "iopub.execute_input": "2021-08-04T01:07:47.65213Z",
     "iopub.status.busy": "2021-08-04T01:07:47.651867Z",
     "iopub.status.idle": "2021-08-04T01:07:47.665406Z",
     "shell.execute_reply": "2021-08-04T01:07:47.664501Z",
     "shell.execute_reply.started": "2021-08-04T01:07:47.652105Z"
    }
   },
   "outputs": [],
   "source": [
    "ratings_coo = sparse.coo_matrix((train_data['rating'].astype(int),\n",
    "                                 (train_data['userid'],\n",
    "                                  train_data['itemid'])))"
   ]
  },
  {
   "cell_type": "code",
   "execution_count": 133,
   "metadata": {
    "execution": {
     "iopub.execute_input": "2021-08-04T01:07:47.667262Z",
     "iopub.status.busy": "2021-08-04T01:07:47.666631Z",
     "iopub.status.idle": "2021-08-04T01:08:16.994442Z",
     "shell.execute_reply": "2021-08-04T01:08:16.993467Z",
     "shell.execute_reply.started": "2021-08-04T01:07:47.667225Z"
    }
   },
   "outputs": [],
   "source": [
    "NUM_THREADS = 4 #число потоков\n",
    "NUM_COMPONENTS = 160 #число параметров вектора \n",
    "NUM_EPOCHS = 20 #число эпох обучения\n",
    "RANDOM_STATE = 32\n",
    "\n",
    "\n",
    "model = LightFM(learning_rate=0.09, loss='logistic',\n",
    "                no_components=NUM_COMPONENTS, random_state = RANDOM_STATE)\n",
    "model = model.fit(ratings_coo, epochs=NUM_EPOCHS, \n",
    "                  num_threads=NUM_THREADS)"
   ]
  },
  {
   "cell_type": "code",
   "execution_count": 134,
   "metadata": {
    "execution": {
     "iopub.execute_input": "2021-08-04T01:08:16.997041Z",
     "iopub.status.busy": "2021-08-04T01:08:16.996308Z",
     "iopub.status.idle": "2021-08-04T01:08:17.177727Z",
     "shell.execute_reply": "2021-08-04T01:08:17.17695Z",
     "shell.execute_reply.started": "2021-08-04T01:08:16.996995Z"
    }
   },
   "outputs": [],
   "source": [
    "#Получаем предсказание:\n",
    "preds = model.predict(test_data.userid.values,\n",
    "                      test_data.itemid.values)"
   ]
  },
  {
   "cell_type": "code",
   "execution_count": 135,
   "metadata": {
    "execution": {
     "iopub.execute_input": "2021-08-04T01:08:17.180241Z",
     "iopub.status.busy": "2021-08-04T01:08:17.179607Z",
     "iopub.status.idle": "2021-08-04T01:08:17.27796Z",
     "shell.execute_reply": "2021-08-04T01:08:17.276668Z",
     "shell.execute_reply.started": "2021-08-04T01:08:17.18018Z"
    }
   },
   "outputs": [
    {
     "data": {
      "text/plain": [
       "0.7315118251480361"
      ]
     },
     "execution_count": 135,
     "metadata": {},
     "output_type": "execute_result"
    }
   ],
   "source": [
    "# Подсчитываем метрику roc_auc_score\n",
    "sklearn.metrics.roc_auc_score(test_data.rating,preds)"
   ]
  },
  {
   "cell_type": "code",
   "execution_count": 136,
   "metadata": {
    "execution": {
     "iopub.execute_input": "2021-08-04T01:08:17.279902Z",
     "iopub.status.busy": "2021-08-04T01:08:17.279438Z",
     "iopub.status.idle": "2021-08-04T01:08:17.67764Z",
     "shell.execute_reply": "2021-08-04T01:08:17.676652Z",
     "shell.execute_reply.started": "2021-08-04T01:08:17.279832Z"
    }
   },
   "outputs": [
    {
     "data": {
      "image/png": "[encoded data removed]",
      "text/plain": [
       "<Figure size 432x288 with 1 Axes>"
      ]
     },
     "metadata": {
      "needs_background": "light"
     },
     "output_type": "display_data"
    }
   ],
   "source": [
    "#Cтроим ROC AUС\n",
    "roc_auc_curve(test_data.rating,preds)"
   ]
  },
  {
   "cell_type": "code",
   "execution_count": 137,
   "metadata": {
    "execution": {
     "iopub.execute_input": "2021-08-04T01:08:17.679246Z",
     "iopub.status.busy": "2021-08-04T01:08:17.678965Z",
     "iopub.status.idle": "2021-08-04T01:08:17.685085Z",
     "shell.execute_reply": "2021-08-04T01:08:17.684237Z",
     "shell.execute_reply.started": "2021-08-04T01:08:17.679211Z"
    }
   },
   "outputs": [],
   "source": [
    "normalized_preds = (preds - preds.min())/(preds - preds.min()).max()"
   ]
  },
  {
   "cell_type": "code",
   "execution_count": 138,
   "metadata": {
    "execution": {
     "iopub.execute_input": "2021-08-04T01:08:17.68715Z",
     "iopub.status.busy": "2021-08-04T01:08:17.686742Z",
     "iopub.status.idle": "2021-08-04T01:08:17.702467Z",
     "shell.execute_reply": "2021-08-04T01:08:17.701054Z",
     "shell.execute_reply.started": "2021-08-04T01:08:17.687122Z"
    }
   },
   "outputs": [
    {
     "data": {
      "text/plain": [
       "(-34.03071, 33.507935)"
      ]
     },
     "execution_count": 138,
     "metadata": {},
     "output_type": "execute_result"
    }
   ],
   "source": [
    "preds.min(), preds.max()"
   ]
  },
  {
   "cell_type": "code",
   "execution_count": 139,
   "metadata": {
    "execution": {
     "iopub.execute_input": "2021-08-04T01:08:17.70609Z",
     "iopub.status.busy": "2021-08-04T01:08:17.705749Z",
     "iopub.status.idle": "2021-08-04T01:08:17.713571Z",
     "shell.execute_reply": "2021-08-04T01:08:17.712823Z",
     "shell.execute_reply.started": "2021-08-04T01:08:17.706057Z"
    }
   },
   "outputs": [
    {
     "data": {
      "text/plain": [
       "(0.0, 1.0)"
      ]
     },
     "execution_count": 139,
     "metadata": {},
     "output_type": "execute_result"
    }
   ],
   "source": [
    "normalized_preds.min(), normalized_preds.max()\n"
   ]
  },
  {
   "cell_type": "markdown",
   "metadata": {},
   "source": [
    "Проведем эксперимент,обучив на train, не разделяя его и предскажем rating на test"
   ]
  },
  {
   "cell_type": "code",
   "execution_count": 140,
   "metadata": {
    "execution": {
     "iopub.execute_input": "2021-08-04T01:08:17.715431Z",
     "iopub.status.busy": "2021-08-04T01:08:17.714852Z",
     "iopub.status.idle": "2021-08-04T01:08:56.27583Z",
     "shell.execute_reply": "2021-08-04T01:08:56.274452Z",
     "shell.execute_reply.started": "2021-08-04T01:08:17.715386Z"
    }
   },
   "outputs": [],
   "source": [
    "ratings_coo1 = sparse.coo_matrix((train['rating'].astype(int),\n",
    "                                 (train['userid'],\n",
    "                                  train['itemid'])))\n",
    "model = LightFM(learning_rate=0.09, loss='logistic',\n",
    "                no_components=NUM_COMPONENTS, random_state = RANDOM_STATE)\n",
    "\n",
    "model1 = model.fit(ratings_coo1, epochs=NUM_EPOCHS, \n",
    "                  num_threads=NUM_THREADS)\n",
    "\n",
    "#Получаем предсказание:\n",
    "preds1 = model1.predict(test.userid.values,\n",
    "                      test.itemid.values)"
   ]
  },
  {
   "cell_type": "code",
   "execution_count": 141,
   "metadata": {
    "execution": {
     "iopub.execute_input": "2021-08-04T01:08:56.278027Z",
     "iopub.status.busy": "2021-08-04T01:08:56.277586Z",
     "iopub.status.idle": "2021-08-04T01:08:56.285716Z",
     "shell.execute_reply": "2021-08-04T01:08:56.284607Z",
     "shell.execute_reply.started": "2021-08-04T01:08:56.277981Z"
    }
   },
   "outputs": [],
   "source": [
    "normalized_preds1 = (preds1 - preds1.min())/(preds1 - preds1.min()).max()"
   ]
  },
  {
   "cell_type": "code",
   "execution_count": 142,
   "metadata": {
    "execution": {
     "iopub.execute_input": "2021-08-04T01:08:56.287479Z",
     "iopub.status.busy": "2021-08-04T01:08:56.287173Z",
     "iopub.status.idle": "2021-08-04T01:08:56.300325Z",
     "shell.execute_reply": "2021-08-04T01:08:56.29933Z",
     "shell.execute_reply.started": "2021-08-04T01:08:56.28745Z"
    }
   },
   "outputs": [
    {
     "data": {
      "text/plain": [
       "(-36.284546, 29.661137)"
      ]
     },
     "execution_count": 142,
     "metadata": {},
     "output_type": "execute_result"
    }
   ],
   "source": [
    "preds1.min(), preds1.max()"
   ]
  },
  {
   "cell_type": "code",
   "execution_count": 143,
   "metadata": {
    "execution": {
     "iopub.execute_input": "2021-08-04T01:08:56.302503Z",
     "iopub.status.busy": "2021-08-04T01:08:56.302012Z",
     "iopub.status.idle": "2021-08-04T01:08:56.313293Z",
     "shell.execute_reply": "2021-08-04T01:08:56.312272Z",
     "shell.execute_reply.started": "2021-08-04T01:08:56.302451Z"
    }
   },
   "outputs": [
    {
     "data": {
      "text/plain": [
       "(0.0, 1.0)"
      ]
     },
     "execution_count": 143,
     "metadata": {},
     "output_type": "execute_result"
    }
   ],
   "source": [
    "normalized_preds1.min(), normalized_preds1.max()"
   ]
  },
  {
   "cell_type": "code",
   "execution_count": 144,
   "metadata": {
    "execution": {
     "iopub.execute_input": "2021-08-04T01:08:56.315157Z",
     "iopub.status.busy": "2021-08-04T01:08:56.314721Z",
     "iopub.status.idle": "2021-08-04T01:08:56.344558Z",
     "shell.execute_reply": "2021-08-04T01:08:56.3435Z",
     "shell.execute_reply.started": "2021-08-04T01:08:56.315114Z"
    }
   },
   "outputs": [
    {
     "data": {
      "text/html": [
       "<div>\n",
       "<style scoped>\n",
       "    .dataframe tbody tr th:only-of-type {\n",
       "        vertical-align: middle;\n",
       "    }\n",
       "\n",
       "    .dataframe tbody tr th {\n",
       "        vertical-align: top;\n",
       "    }\n",
       "\n",
       "    .dataframe thead th {\n",
       "        text-align: right;\n",
       "    }\n",
       "</style>\n",
       "<table border=\"1\" class=\"dataframe\">\n",
       "  <thead>\n",
       "    <tr style=\"text-align: right;\">\n",
       "      <th></th>\n",
       "      <th>verified</th>\n",
       "      <th>reviewTime</th>\n",
       "      <th>asin</th>\n",
       "      <th>reviewerName</th>\n",
       "      <th>unixReviewTime</th>\n",
       "      <th>vote</th>\n",
       "      <th>style</th>\n",
       "      <th>image</th>\n",
       "      <th>userid</th>\n",
       "      <th>itemid</th>\n",
       "      <th>Id</th>\n",
       "      <th>pred_rating</th>\n",
       "    </tr>\n",
       "  </thead>\n",
       "  <tbody>\n",
       "    <tr>\n",
       "      <th>0</th>\n",
       "      <td>True</td>\n",
       "      <td>10 1, 2016</td>\n",
       "      <td>B001E5E3X0</td>\n",
       "      <td>Rudys Mom</td>\n",
       "      <td>1475280000</td>\n",
       "      <td>NaN</td>\n",
       "      <td>NaN</td>\n",
       "      <td>NaN</td>\n",
       "      <td>68877</td>\n",
       "      <td>7506</td>\n",
       "      <td>0</td>\n",
       "      <td>0.580977</td>\n",
       "    </tr>\n",
       "    <tr>\n",
       "      <th>1</th>\n",
       "      <td>True</td>\n",
       "      <td>06 29, 2014</td>\n",
       "      <td>B005BYXX5E</td>\n",
       "      <td>pharg</td>\n",
       "      <td>1404000000</td>\n",
       "      <td>2</td>\n",
       "      <td>NaN</td>\n",
       "      <td>NaN</td>\n",
       "      <td>50442</td>\n",
       "      <td>15530</td>\n",
       "      <td>1</td>\n",
       "      <td>0.570832</td>\n",
       "    </tr>\n",
       "    <tr>\n",
       "      <th>2</th>\n",
       "      <td>True</td>\n",
       "      <td>05 19, 2015</td>\n",
       "      <td>B0052OK6OO</td>\n",
       "      <td>dhalex</td>\n",
       "      <td>1431993600</td>\n",
       "      <td>NaN</td>\n",
       "      <td>NaN</td>\n",
       "      <td>NaN</td>\n",
       "      <td>64349</td>\n",
       "      <td>15049</td>\n",
       "      <td>2</td>\n",
       "      <td>0.556842</td>\n",
       "    </tr>\n",
       "    <tr>\n",
       "      <th>3</th>\n",
       "      <td>True</td>\n",
       "      <td>10 5, 2014</td>\n",
       "      <td>B003SO8HGE</td>\n",
       "      <td>Vanessa</td>\n",
       "      <td>1412467200</td>\n",
       "      <td>NaN</td>\n",
       "      <td>{'Flavor:': ' Sweet Rose'}</td>\n",
       "      <td>NaN</td>\n",
       "      <td>26206</td>\n",
       "      <td>11957</td>\n",
       "      <td>3</td>\n",
       "      <td>0.557325</td>\n",
       "    </tr>\n",
       "    <tr>\n",
       "      <th>4</th>\n",
       "      <td>True</td>\n",
       "      <td>11 11, 2013</td>\n",
       "      <td>B003XUJ564</td>\n",
       "      <td>R Mohrman</td>\n",
       "      <td>1384128000</td>\n",
       "      <td>3</td>\n",
       "      <td>{'Size:': ' 15 Ounce (Pack of 12)', 'Flavor:':...</td>\n",
       "      <td>NaN</td>\n",
       "      <td>59366</td>\n",
       "      <td>12173</td>\n",
       "      <td>4</td>\n",
       "      <td>0.575468</td>\n",
       "    </tr>\n",
       "    <tr>\n",
       "      <th>...</th>\n",
       "      <td>...</td>\n",
       "      <td>...</td>\n",
       "      <td>...</td>\n",
       "      <td>...</td>\n",
       "      <td>...</td>\n",
       "      <td>...</td>\n",
       "      <td>...</td>\n",
       "      <td>...</td>\n",
       "      <td>...</td>\n",
       "      <td>...</td>\n",
       "      <td>...</td>\n",
       "      <td>...</td>\n",
       "    </tr>\n",
       "    <tr>\n",
       "      <th>285960</th>\n",
       "      <td>True</td>\n",
       "      <td>01 17, 2016</td>\n",
       "      <td>B00FLD3X28</td>\n",
       "      <td>A. Banks</td>\n",
       "      <td>1452988800</td>\n",
       "      <td>NaN</td>\n",
       "      <td>{'Size:': ' 1 Pound'}</td>\n",
       "      <td>NaN</td>\n",
       "      <td>294</td>\n",
       "      <td>25601</td>\n",
       "      <td>285960</td>\n",
       "      <td>0.586214</td>\n",
       "    </tr>\n",
       "    <tr>\n",
       "      <th>285961</th>\n",
       "      <td>True</td>\n",
       "      <td>08 22, 2015</td>\n",
       "      <td>B0078DQ85S</td>\n",
       "      <td>HighEnergy</td>\n",
       "      <td>1440201600</td>\n",
       "      <td>NaN</td>\n",
       "      <td>{'Flavor:': ' Cinnamon &amp; Currant'}</td>\n",
       "      <td>NaN</td>\n",
       "      <td>119653</td>\n",
       "      <td>18204</td>\n",
       "      <td>285961</td>\n",
       "      <td>0.485363</td>\n",
       "    </tr>\n",
       "    <tr>\n",
       "      <th>285962</th>\n",
       "      <td>True</td>\n",
       "      <td>09 21, 2017</td>\n",
       "      <td>B000FZVLFS</td>\n",
       "      <td>Sam Jackson</td>\n",
       "      <td>1505952000</td>\n",
       "      <td>NaN</td>\n",
       "      <td>{'Flavor:': ' Espresso Forte'}</td>\n",
       "      <td>NaN</td>\n",
       "      <td>54673</td>\n",
       "      <td>2287</td>\n",
       "      <td>285962</td>\n",
       "      <td>0.569793</td>\n",
       "    </tr>\n",
       "    <tr>\n",
       "      <th>285963</th>\n",
       "      <td>True</td>\n",
       "      <td>03 27, 2018</td>\n",
       "      <td>B001PB801Y</td>\n",
       "      <td>Louis J. Dezseran Sr.</td>\n",
       "      <td>1522108800</td>\n",
       "      <td>NaN</td>\n",
       "      <td>{'Size:': ' 5lb'}</td>\n",
       "      <td>NaN</td>\n",
       "      <td>16569</td>\n",
       "      <td>9343</td>\n",
       "      <td>285963</td>\n",
       "      <td>0.573163</td>\n",
       "    </tr>\n",
       "    <tr>\n",
       "      <th>285964</th>\n",
       "      <td>True</td>\n",
       "      <td>10 18, 2015</td>\n",
       "      <td>B008X6KE0E</td>\n",
       "      <td>JRG</td>\n",
       "      <td>1445126400</td>\n",
       "      <td>NaN</td>\n",
       "      <td>NaN</td>\n",
       "      <td>NaN</td>\n",
       "      <td>56489</td>\n",
       "      <td>19483</td>\n",
       "      <td>285964</td>\n",
       "      <td>0.594017</td>\n",
       "    </tr>\n",
       "  </tbody>\n",
       "</table>\n",
       "<p>285965 rows × 12 columns</p>\n",
       "</div>"
      ],
      "text/plain": [
       "        verified   reviewTime        asin           reviewerName  \\\n",
       "0           True   10 1, 2016  B001E5E3X0              Rudys Mom   \n",
       "1           True  06 29, 2014  B005BYXX5E                  pharg   \n",
       "2           True  05 19, 2015  B0052OK6OO                 dhalex   \n",
       "3           True   10 5, 2014  B003SO8HGE                Vanessa   \n",
       "4           True  11 11, 2013  B003XUJ564              R Mohrman   \n",
       "...          ...          ...         ...                    ...   \n",
       "285960      True  01 17, 2016  B00FLD3X28               A. Banks   \n",
       "285961      True  08 22, 2015  B0078DQ85S             HighEnergy   \n",
       "285962      True  09 21, 2017  B000FZVLFS            Sam Jackson   \n",
       "285963      True  03 27, 2018  B001PB801Y  Louis J. Dezseran Sr.   \n",
       "285964      True  10 18, 2015  B008X6KE0E                    JRG   \n",
       "\n",
       "        unixReviewTime vote  \\\n",
       "0           1475280000  NaN   \n",
       "1           1404000000    2   \n",
       "2           1431993600  NaN   \n",
       "3           1412467200  NaN   \n",
       "4           1384128000    3   \n",
       "...                ...  ...   \n",
       "285960      1452988800  NaN   \n",
       "285961      1440201600  NaN   \n",
       "285962      1505952000  NaN   \n",
       "285963      1522108800  NaN   \n",
       "285964      1445126400  NaN   \n",
       "\n",
       "                                                    style image  userid  \\\n",
       "0                                                     NaN   NaN   68877   \n",
       "1                                                     NaN   NaN   50442   \n",
       "2                                                     NaN   NaN   64349   \n",
       "3                              {'Flavor:': ' Sweet Rose'}   NaN   26206   \n",
       "4       {'Size:': ' 15 Ounce (Pack of 12)', 'Flavor:':...   NaN   59366   \n",
       "...                                                   ...   ...     ...   \n",
       "285960                              {'Size:': ' 1 Pound'}   NaN     294   \n",
       "285961                 {'Flavor:': ' Cinnamon & Currant'}   NaN  119653   \n",
       "285962                     {'Flavor:': ' Espresso Forte'}   NaN   54673   \n",
       "285963                                  {'Size:': ' 5lb'}   NaN   16569   \n",
       "285964                                                NaN   NaN   56489   \n",
       "\n",
       "        itemid      Id  pred_rating  \n",
       "0         7506       0     0.580977  \n",
       "1        15530       1     0.570832  \n",
       "2        15049       2     0.556842  \n",
       "3        11957       3     0.557325  \n",
       "4        12173       4     0.575468  \n",
       "...        ...     ...          ...  \n",
       "285960   25601  285960     0.586214  \n",
       "285961   18204  285961     0.485363  \n",
       "285962    2287  285962     0.569793  \n",
       "285963    9343  285963     0.573163  \n",
       "285964   19483  285964     0.594017  \n",
       "\n",
       "[285965 rows x 12 columns]"
      ]
     },
     "execution_count": 144,
     "metadata": {},
     "output_type": "execute_result"
    }
   ],
   "source": [
    "test['pred_rating'] = normalized_preds1\n",
    "test"
   ]
  },
  {
   "cell_type": "markdown",
   "metadata": {},
   "source": [
    "Теперь проведем обучение и предскажем на очищенных данных"
   ]
  },
  {
   "cell_type": "code",
   "execution_count": 145,
   "metadata": {
    "execution": {
     "iopub.execute_input": "2021-08-04T01:08:56.346516Z",
     "iopub.status.busy": "2021-08-04T01:08:56.346096Z",
     "iopub.status.idle": "2021-08-04T01:09:26.965249Z",
     "shell.execute_reply": "2021-08-04T01:09:26.964287Z",
     "shell.execute_reply.started": "2021-08-04T01:08:56.346474Z"
    }
   },
   "outputs": [],
   "source": [
    "train_data, test_data = train_test_split(df,random_state=32, shuffle=True)\n",
    "ratings_coo2 = sparse.coo_matrix((train_data['rating'].astype(int),\n",
    "                                 (train_data['userid'],\n",
    "                                  train_data['itemid'])))\n",
    "\n",
    "model = LightFM(learning_rate=0.1, loss='logistic',\n",
    "                no_components=NUM_COMPONENTS, random_state = RANDOM_STATE)\n",
    "model2 = model.fit(ratings_coo2, epochs=NUM_EPOCHS, \n",
    "                  num_threads=NUM_THREADS)"
   ]
  },
  {
   "cell_type": "code",
   "execution_count": 146,
   "metadata": {
    "execution": {
     "iopub.execute_input": "2021-08-04T01:09:26.967711Z",
     "iopub.status.busy": "2021-08-04T01:09:26.967037Z",
     "iopub.status.idle": "2021-08-04T01:09:27.145566Z",
     "shell.execute_reply": "2021-08-04T01:09:27.144403Z",
     "shell.execute_reply.started": "2021-08-04T01:09:26.967669Z"
    }
   },
   "outputs": [],
   "source": [
    "#Получаем предсказание:\n",
    "preds2 = model2.predict(test_data.userid.values,\n",
    "                      test_data.itemid.values)"
   ]
  },
  {
   "cell_type": "code",
   "execution_count": 147,
   "metadata": {
    "execution": {
     "iopub.execute_input": "2021-08-04T01:09:27.147422Z",
     "iopub.status.busy": "2021-08-04T01:09:27.147105Z",
     "iopub.status.idle": "2021-08-04T01:09:27.22935Z",
     "shell.execute_reply": "2021-08-04T01:09:27.228311Z",
     "shell.execute_reply.started": "2021-08-04T01:09:27.147394Z"
    }
   },
   "outputs": [
    {
     "data": {
      "text/plain": [
       "0.7419578807987918"
      ]
     },
     "execution_count": 147,
     "metadata": {},
     "output_type": "execute_result"
    }
   ],
   "source": [
    "# Подсчитываем метрику roc_auc_score\n",
    "sklearn.metrics.roc_auc_score(test_data.rating,preds2)"
   ]
  },
  {
   "cell_type": "code",
   "execution_count": 148,
   "metadata": {
    "execution": {
     "iopub.execute_input": "2021-08-04T01:09:27.23286Z",
     "iopub.status.busy": "2021-08-04T01:09:27.232253Z",
     "iopub.status.idle": "2021-08-04T01:09:27.617832Z",
     "shell.execute_reply": "2021-08-04T01:09:27.616736Z",
     "shell.execute_reply.started": "2021-08-04T01:09:27.232803Z"
    }
   },
   "outputs": [
    {
     "data": {
      "image/png": "[encoded data removed]",
      "text/plain": [
       "<Figure size 432x288 with 1 Axes>"
      ]
     },
     "metadata": {
      "needs_background": "light"
     },
     "output_type": "display_data"
    }
   ],
   "source": [
    "#Cтроим ROC AUС\n",
    "roc_auc_curve(test_data.rating,preds2)"
   ]
  },
  {
   "cell_type": "markdown",
   "metadata": {},
   "source": [
    "видим,что метрика немного улучшилась"
   ]
  },
  {
   "cell_type": "code",
   "execution_count": 149,
   "metadata": {
    "execution": {
     "iopub.execute_input": "2021-08-04T01:09:27.619563Z",
     "iopub.status.busy": "2021-08-04T01:09:27.619259Z",
     "iopub.status.idle": "2021-08-04T01:09:27.627157Z",
     "shell.execute_reply": "2021-08-04T01:09:27.626279Z",
     "shell.execute_reply.started": "2021-08-04T01:09:27.619535Z"
    }
   },
   "outputs": [
    {
     "data": {
      "text/plain": [
       "(-35.75574, 27.413054)"
      ]
     },
     "execution_count": 149,
     "metadata": {},
     "output_type": "execute_result"
    }
   ],
   "source": [
    "normalized_preds2 = (preds2 - preds2.min())/(preds2 - preds2.min()).max()\n",
    "preds2.min(), preds2.max()"
   ]
  },
  {
   "cell_type": "code",
   "execution_count": 150,
   "metadata": {
    "execution": {
     "iopub.execute_input": "2021-08-04T01:09:27.62865Z",
     "iopub.status.busy": "2021-08-04T01:09:27.628342Z",
     "iopub.status.idle": "2021-08-04T01:09:27.637036Z",
     "shell.execute_reply": "2021-08-04T01:09:27.636257Z",
     "shell.execute_reply.started": "2021-08-04T01:09:27.628621Z"
    }
   },
   "outputs": [
    {
     "data": {
      "text/plain": [
       "(0.0, 1.0)"
      ]
     },
     "execution_count": 150,
     "metadata": {},
     "output_type": "execute_result"
    }
   ],
   "source": [
    "normalized_preds2.min(), normalized_preds2.max()"
   ]
  },
  {
   "cell_type": "code",
   "execution_count": 151,
   "metadata": {
    "execution": {
     "iopub.execute_input": "2021-08-04T01:09:27.638588Z",
     "iopub.status.busy": "2021-08-04T01:09:27.638206Z",
     "iopub.status.idle": "2021-08-04T01:09:27.808268Z",
     "shell.execute_reply": "2021-08-04T01:09:27.807464Z",
     "shell.execute_reply.started": "2021-08-04T01:09:27.638561Z"
    }
   },
   "outputs": [],
   "source": [
    "preds_sub = model2.predict(test.userid.values,\n",
    "                      test.itemid.values)"
   ]
  },
  {
   "cell_type": "code",
   "execution_count": 152,
   "metadata": {
    "execution": {
     "iopub.execute_input": "2021-08-04T01:09:27.809896Z",
     "iopub.status.busy": "2021-08-04T01:09:27.809498Z",
     "iopub.status.idle": "2021-08-04T01:09:27.817162Z",
     "shell.execute_reply": "2021-08-04T01:09:27.816415Z",
     "shell.execute_reply.started": "2021-08-04T01:09:27.809867Z"
    }
   },
   "outputs": [
    {
     "data": {
      "text/plain": [
       "(-33.06127, 28.156012)"
      ]
     },
     "execution_count": 152,
     "metadata": {},
     "output_type": "execute_result"
    }
   ],
   "source": [
    "normalized_preds_sub = (preds_sub - preds_sub.min())/(preds_sub - preds_sub.min()).max()\n",
    "preds_sub.min(), preds_sub.max()"
   ]
  },
  {
   "cell_type": "code",
   "execution_count": 153,
   "metadata": {
    "execution": {
     "iopub.execute_input": "2021-08-04T01:09:27.8186Z",
     "iopub.status.busy": "2021-08-04T01:09:27.818073Z",
     "iopub.status.idle": "2021-08-04T01:09:27.834201Z",
     "shell.execute_reply": "2021-08-04T01:09:27.833344Z",
     "shell.execute_reply.started": "2021-08-04T01:09:27.81856Z"
    }
   },
   "outputs": [
    {
     "data": {
      "text/plain": [
       "(0.0, 1.0)"
      ]
     },
     "execution_count": 153,
     "metadata": {},
     "output_type": "execute_result"
    }
   ],
   "source": [
    "normalized_preds_sub.min(), normalized_preds_sub.max()"
   ]
  },
  {
   "cell_type": "markdown",
   "metadata": {},
   "source": [
    "из-за ошибки с памятью на kaggle,закомментируем работу с item и user features"
   ]
  },
  {
   "cell_type": "code",
   "execution_count": 154,
   "metadata": {
    "execution": {
     "iopub.execute_input": "2021-08-04T01:09:27.835697Z",
     "iopub.status.busy": "2021-08-04T01:09:27.835442Z",
     "iopub.status.idle": "2021-08-04T01:09:28.289823Z",
     "shell.execute_reply": "2021-08-04T01:09:28.288792Z",
     "shell.execute_reply.started": "2021-08-04T01:09:27.835672Z"
    }
   },
   "outputs": [],
   "source": [
    "#укажем в item_features признаки,описывающие товар и затем сделаем разреженную матрицу item_features для дальнейшего использования в моделе\n",
    "item_features = train_data[['image','main_cat','brand_kind','price_high','price_low','price_middle','image']]\n",
    "norm_ifeatures = (item_features - item_features.mean()) / item_features.std()\n",
    "item_features=(sparse.csr_matrix(norm_ifeatures)).astype(np.float32)"
   ]
  },
  {
   "cell_type": "code",
   "execution_count": 155,
   "metadata": {
    "execution": {
     "iopub.execute_input": "2021-08-04T01:09:28.291642Z",
     "iopub.status.busy": "2021-08-04T01:09:28.291379Z",
     "iopub.status.idle": "2021-08-04T01:09:28.51129Z",
     "shell.execute_reply": "2021-08-04T01:09:28.510305Z",
     "shell.execute_reply.started": "2021-08-04T01:09:28.291618Z"
    }
   },
   "outputs": [],
   "source": [
    "# сделаем разреженную матрицу user_features,содержащий признаки,описывающие потребителя\n",
    "user_features = train_data[['verified','unixReviewTime','vote','also_buy_numb','also_view_numb']]\n",
    "norm_ufeatures = (user_features - user_features.mean()) / user_features.std()\n",
    "user_features = (sparse.csr_matrix(norm_ufeatures)).astype(np.float32)"
   ]
  },
  {
   "cell_type": "code",
   "execution_count": 156,
   "metadata": {
    "execution": {
     "iopub.execute_input": "2021-08-04T01:09:28.513228Z",
     "iopub.status.busy": "2021-08-04T01:09:28.51281Z",
     "iopub.status.idle": "2021-08-04T01:12:21.126179Z",
     "shell.execute_reply": "2021-08-04T01:12:21.124698Z",
     "shell.execute_reply.started": "2021-08-04T01:09:28.513162Z"
    }
   },
   "outputs": [],
   "source": [
    "NUM_THREADS = 4  # число потоков\n",
    "NUM_COMPONENTS = 160  # число параметров вектора\n",
    "NUM_EPOCHS = 20  # число эпох обучения\n",
    "RANDOM_STATE = 32\n",
    "model = LightFM(learning_rate=0.09, loss='logistic',\n",
    "                no_components=NUM_COMPONENTS)\n",
    "model_feat = model.fit(ratings_coo, user_features=user_features, item_features=item_features, epochs=NUM_EPOCHS,\n",
    "                       num_threads=NUM_THREADS)"
   ]
  },
  {
   "cell_type": "code",
   "execution_count": 157,
   "metadata": {
    "execution": {
     "iopub.execute_input": "2021-08-04T01:12:21.128636Z",
     "iopub.status.busy": "2021-08-04T01:12:21.128245Z",
     "iopub.status.idle": "2021-08-04T01:12:21.135686Z",
     "shell.execute_reply": "2021-08-04T01:12:21.134759Z",
     "shell.execute_reply.started": "2021-08-04T01:12:21.1286Z"
    }
   },
   "outputs": [],
   "source": [
    "#для предсказаний используем матрицы \n",
    "userid = np.array(test_data.userid).astype(np.int32)\n",
    "itemid =np.array(test_data.itemid).astype(np.int32) "
   ]
  },
  {
   "cell_type": "code",
   "execution_count": 183,
   "metadata": {
    "execution": {
     "iopub.execute_input": "2021-08-04T01:12:21.137796Z",
     "iopub.status.busy": "2021-08-04T01:12:21.137415Z",
     "iopub.status.idle": "2021-08-04T01:12:21.197796Z",
     "shell.execute_reply": "2021-08-04T01:12:21.19685Z",
     "shell.execute_reply.started": "2021-08-04T01:12:21.13776Z"
    }
   },
   "outputs": [],
   "source": [
    "# Получаем предсказание:\n",
    "preds0 = model_feat.predict(userid, itemid, item_features=item_features,\n",
    "                            user_features=user_features,num_threads=NUM_THREADS)"
   ]
  },
  {
   "cell_type": "code",
   "execution_count": 159,
   "metadata": {
    "execution": {
     "iopub.execute_input": "2021-08-04T01:12:21.199835Z",
     "iopub.status.busy": "2021-08-04T01:12:21.199146Z",
     "iopub.status.idle": "2021-08-04T01:12:21.305084Z",
     "shell.execute_reply": "2021-08-04T01:12:21.304079Z",
     "shell.execute_reply.started": "2021-08-04T01:12:21.199792Z"
    }
   },
   "outputs": [
    {
     "data": {
      "text/plain": [
       "0.4990821753364155"
      ]
     },
     "execution_count": 159,
     "metadata": {},
     "output_type": "execute_result"
    }
   ],
   "source": [
    "# Подсчитываем метрику roc_auc_score\n",
    "sklearn.metrics.roc_auc_score(test_data.rating,preds0)"
   ]
  },
  {
   "cell_type": "code",
   "execution_count": 178,
   "metadata": {},
   "outputs": [],
   "source": [
    "# ui = np.hstack((item_features, user_features))"
   ]
  },
  {
   "cell_type": "code",
   "execution_count": 187,
   "metadata": {},
   "outputs": [],
   "source": [
    "ads=sparse.coo_matrix((test_data['rating'].astype(int),\n",
    "                                 (test_data['userid'],\n",
    "                                  test_data['itemid'])))"
   ]
  },
  {
   "cell_type": "code",
   "execution_count": 188,
   "metadata": {},
   "outputs": [
    {
     "ename": "ValueError",
     "evalue": "The user feature matrix specifies more features than there are estimated feature embeddings: 5 vs 127496.",
     "output_type": "error",
     "traceback": [
      "\u001b[1;31m---------------------------------------------------------------------------\u001b[0m",
      "\u001b[1;31mValueError\u001b[0m                                Traceback (most recent call last)",
      "\u001b[1;32m<ipython-input-188-d44a43bbf144>\u001b[0m in \u001b[0;36m<module>\u001b[1;34m\u001b[0m\n\u001b[0;32m      1\u001b[0m \u001b[1;31m#Тестируем нашу модель\u001b[0m\u001b[1;33m\u001b[0m\u001b[1;33m\u001b[0m\u001b[1;33m\u001b[0m\u001b[0m\n\u001b[1;32m----> 2\u001b[1;33m prec_score = precision_at_k(\n\u001b[0m\u001b[0;32m      3\u001b[0m                      \u001b[0mmodel_feat\u001b[0m\u001b[1;33m,\u001b[0m\u001b[1;33m\u001b[0m\u001b[1;33m\u001b[0m\u001b[0m\n\u001b[0;32m      4\u001b[0m                      \u001b[0mads\u001b[0m\u001b[1;33m,\u001b[0m\u001b[1;33m\u001b[0m\u001b[1;33m\u001b[0m\u001b[0m\n\u001b[0;32m      5\u001b[0m                      \u001b[0mnum_threads\u001b[0m\u001b[1;33m=\u001b[0m\u001b[0mNUM_THREADS\u001b[0m\u001b[1;33m,\u001b[0m\u001b[1;33m\u001b[0m\u001b[1;33m\u001b[0m\u001b[0m\n",
      "\u001b[1;32m~\\anaconda3\\lib\\site-packages\\lightfm\\evaluation.py\u001b[0m in \u001b[0;36mprecision_at_k\u001b[1;34m(model, test_interactions, train_interactions, k, user_features, item_features, preserve_rows, num_threads, check_intersections)\u001b[0m\n\u001b[0;32m     69\u001b[0m         \u001b[1;32mraise\u001b[0m \u001b[0mValueError\u001b[0m\u001b[1;33m(\u001b[0m\u001b[1;34m\"Number of threads must be 1 or larger.\"\u001b[0m\u001b[1;33m)\u001b[0m\u001b[1;33m\u001b[0m\u001b[1;33m\u001b[0m\u001b[0m\n\u001b[0;32m     70\u001b[0m \u001b[1;33m\u001b[0m\u001b[0m\n\u001b[1;32m---> 71\u001b[1;33m     ranks = model.predict_rank(\n\u001b[0m\u001b[0;32m     72\u001b[0m         \u001b[0mtest_interactions\u001b[0m\u001b[1;33m,\u001b[0m\u001b[1;33m\u001b[0m\u001b[1;33m\u001b[0m\u001b[0m\n\u001b[0;32m     73\u001b[0m         \u001b[0mtrain_interactions\u001b[0m\u001b[1;33m=\u001b[0m\u001b[0mtrain_interactions\u001b[0m\u001b[1;33m,\u001b[0m\u001b[1;33m\u001b[0m\u001b[1;33m\u001b[0m\u001b[0m\n",
      "\u001b[1;32m~\\anaconda3\\lib\\site-packages\\lightfm\\lightfm.py\u001b[0m in \u001b[0;36mpredict_rank\u001b[1;34m(self, test_interactions, train_interactions, item_features, user_features, num_threads, check_intersections)\u001b[0m\n\u001b[0;32m    910\u001b[0m         \u001b[0mn_users\u001b[0m\u001b[1;33m,\u001b[0m \u001b[0mn_items\u001b[0m \u001b[1;33m=\u001b[0m \u001b[0mtest_interactions\u001b[0m\u001b[1;33m.\u001b[0m\u001b[0mshape\u001b[0m\u001b[1;33m\u001b[0m\u001b[1;33m\u001b[0m\u001b[0m\n\u001b[0;32m    911\u001b[0m \u001b[1;33m\u001b[0m\u001b[0m\n\u001b[1;32m--> 912\u001b[1;33m         (user_features, item_features) = self._construct_feature_matrices(\n\u001b[0m\u001b[0;32m    913\u001b[0m             \u001b[0mn_users\u001b[0m\u001b[1;33m,\u001b[0m \u001b[0mn_items\u001b[0m\u001b[1;33m,\u001b[0m \u001b[0muser_features\u001b[0m\u001b[1;33m,\u001b[0m \u001b[0mitem_features\u001b[0m\u001b[1;33m\u001b[0m\u001b[1;33m\u001b[0m\u001b[0m\n\u001b[0;32m    914\u001b[0m         )\n",
      "\u001b[1;32m~\\anaconda3\\lib\\site-packages\\lightfm\\lightfm.py\u001b[0m in \u001b[0;36m_construct_feature_matrices\u001b[1;34m(self, n_users, n_items, user_features, item_features)\u001b[0m\n\u001b[0;32m    323\u001b[0m         \u001b[1;32mif\u001b[0m \u001b[0mself\u001b[0m\u001b[1;33m.\u001b[0m\u001b[0muser_embeddings\u001b[0m \u001b[1;32mis\u001b[0m \u001b[1;32mnot\u001b[0m \u001b[1;32mNone\u001b[0m\u001b[1;33m:\u001b[0m\u001b[1;33m\u001b[0m\u001b[1;33m\u001b[0m\u001b[0m\n\u001b[0;32m    324\u001b[0m             \u001b[1;32mif\u001b[0m \u001b[1;32mnot\u001b[0m \u001b[0mself\u001b[0m\u001b[1;33m.\u001b[0m\u001b[0muser_embeddings\u001b[0m\u001b[1;33m.\u001b[0m\u001b[0mshape\u001b[0m\u001b[1;33m[\u001b[0m\u001b[1;36m0\u001b[0m\u001b[1;33m]\u001b[0m \u001b[1;33m>=\u001b[0m \u001b[0muser_features\u001b[0m\u001b[1;33m.\u001b[0m\u001b[0mshape\u001b[0m\u001b[1;33m[\u001b[0m\u001b[1;36m1\u001b[0m\u001b[1;33m]\u001b[0m\u001b[1;33m:\u001b[0m\u001b[1;33m\u001b[0m\u001b[1;33m\u001b[0m\u001b[0m\n\u001b[1;32m--> 325\u001b[1;33m                 raise ValueError(\n\u001b[0m\u001b[0;32m    326\u001b[0m                     \u001b[1;34m\"The user feature matrix specifies more \"\u001b[0m\u001b[1;33m\u001b[0m\u001b[1;33m\u001b[0m\u001b[0m\n\u001b[0;32m    327\u001b[0m                     \u001b[1;34m\"features than there are estimated \"\u001b[0m\u001b[1;33m\u001b[0m\u001b[1;33m\u001b[0m\u001b[0m\n",
      "\u001b[1;31mValueError\u001b[0m: The user feature matrix specifies more features than there are estimated feature embeddings: 5 vs 127496."
     ]
    }
   ],
   "source": [
    "#Тестируем нашу модель\n",
    "prec_score = precision_at_k(\n",
    "                     model_feat,\n",
    "                     ads,\n",
    "                     num_threads=NUM_THREADS,\n",
    "                     k=10,\n",
    "                     item_features=item_features).mean()\n",
    " \n",
    "recall_at_k = recall_at_k(model_feat,\n",
    "                     ads,\n",
    "                     num_threads=NUM_THREADS,\n",
    "                     k=10,\n",
    "                     item_features=item_features).mean()\n",
    "\n",
    "print(recall_at_k,prec_score)"
   ]
  },
  {
   "cell_type": "markdown",
   "metadata": {},
   "source": [
    "результат метрики roc_auc: 0.5005192169802185"
   ]
  },
  {
   "cell_type": "code",
   "execution_count": null,
   "metadata": {
    "execution": {
     "iopub.execute_input": "2021-08-04T01:12:21.307316Z",
     "iopub.status.busy": "2021-08-04T01:12:21.306668Z",
     "iopub.status.idle": "2021-08-04T01:12:21.311943Z",
     "shell.execute_reply": "2021-08-04T01:12:21.311082Z",
     "shell.execute_reply.started": "2021-08-04T01:12:21.307273Z"
    }
   },
   "outputs": [],
   "source": [
    "# Достаём эбмеддинги\n",
    "\n",
    "item_biases, item_embeddings = model2.get_item_representations()"
   ]
  },
  {
   "cell_type": "code",
   "execution_count": null,
   "metadata": {
    "execution": {
     "iopub.execute_input": "2021-08-04T01:12:21.314137Z",
     "iopub.status.busy": "2021-08-04T01:12:21.31352Z",
     "iopub.status.idle": "2021-08-04T01:12:21.32658Z",
     "shell.execute_reply": "2021-08-04T01:12:21.32567Z",
     "shell.execute_reply.started": "2021-08-04T01:12:21.314098Z"
    }
   },
   "outputs": [],
   "source": [
    "item_biases.shape, item_embeddings.shape"
   ]
  },
  {
   "cell_type": "markdown",
   "metadata": {},
   "source": [
    "Мы получили эмбеддинги. Эмбеддинги нам нужны, чтобы давать предсказание к каждому товару, а точнее искать наиболее похожие. Для быстрого поиска среди большого количества товаров будем использовать метод ближайших соседей, approximate k-nn, который реализован в библиотеке nmslib.  \n",
    "\n",
    "Вместо того, чтобы перебирать все вершины, мы можем очень быстро обходить граф."
   ]
  },
  {
   "cell_type": "code",
   "execution_count": null,
   "metadata": {
    "execution": {
     "iopub.execute_input": "2021-08-04T01:12:21.328573Z",
     "iopub.status.busy": "2021-08-04T01:12:21.328057Z",
     "iopub.status.idle": "2021-08-04T01:12:33.797723Z",
     "shell.execute_reply": "2021-08-04T01:12:33.796612Z",
     "shell.execute_reply.started": "2021-08-04T01:12:21.328537Z"
    }
   },
   "outputs": [],
   "source": [
    "!pip install nmslib"
   ]
  },
  {
   "cell_type": "code",
   "execution_count": null,
   "metadata": {
    "execution": {
     "iopub.execute_input": "2021-08-04T01:12:33.800045Z",
     "iopub.status.busy": "2021-08-04T01:12:33.799734Z",
     "iopub.status.idle": "2021-08-04T01:12:45.021027Z",
     "shell.execute_reply": "2021-08-04T01:12:45.020141Z",
     "shell.execute_reply.started": "2021-08-04T01:12:33.800015Z"
    }
   },
   "outputs": [],
   "source": [
    "import nmslib\n",
    " \n",
    "#Создаём наш граф для поиска\n",
    "nms_idx = nmslib.init(method='hnsw', space='cosinesimil')\n",
    " \n",
    "#Начинаем добавлять наши товары в граф\n",
    "nms_idx.addDataPointBatch(item_embeddings)\n",
    "nms_idx.createIndex(print_progress=True)"
   ]
  },
  {
   "cell_type": "code",
   "execution_count": null,
   "metadata": {
    "execution": {
     "iopub.execute_input": "2021-08-04T01:12:45.022686Z",
     "iopub.status.busy": "2021-08-04T01:12:45.02241Z",
     "iopub.status.idle": "2021-08-04T01:12:45.027787Z",
     "shell.execute_reply": "2021-08-04T01:12:45.026931Z",
     "shell.execute_reply.started": "2021-08-04T01:12:45.022659Z"
    }
   },
   "outputs": [],
   "source": [
    "#Вспомогательная функция для поиска по графу\n",
    "def nearest_item_nms(itemid, index, n=10):\n",
    "    nn = index.knnQuery(item_embeddings[itemid], k=n)\n",
    "    return nn"
   ]
  },
  {
   "cell_type": "code",
   "execution_count": null,
   "metadata": {
    "execution": {
     "iopub.execute_input": "2021-08-04T01:12:45.029362Z",
     "iopub.status.busy": "2021-08-04T01:12:45.029059Z",
     "iopub.status.idle": "2021-08-04T01:12:45.46644Z",
     "shell.execute_reply": "2021-08-04T01:12:45.465405Z",
     "shell.execute_reply.started": "2021-08-04T01:12:45.029333Z"
    }
   },
   "outputs": [],
   "source": [
    "mapper = dict(zip(meta['asin'],meta['title']))"
   ]
  },
  {
   "cell_type": "code",
   "execution_count": null,
   "metadata": {
    "execution": {
     "iopub.execute_input": "2021-08-04T01:12:45.468854Z",
     "iopub.status.busy": "2021-08-04T01:12:45.468436Z",
     "iopub.status.idle": "2021-08-04T01:12:46.71543Z",
     "shell.execute_reply": "2021-08-04T01:12:46.714425Z",
     "shell.execute_reply.started": "2021-08-04T01:12:45.46881Z"
    }
   },
   "outputs": [],
   "source": [
    "# Создадим dataframe prod_id\n",
    "train['title'] = train.asin.apply(lambda x: mapper[x])\n",
    "test['title'] = test.asin.apply(lambda x: mapper[x])\n",
    "prod_id = train.drop(['verified','reviewTime','reviewerName','reviewText','summary','unixReviewTime','vote','style','image'],axis=1)"
   ]
  },
  {
   "cell_type": "markdown",
   "metadata": {},
   "source": [
    "Попробуем написать рекомендации к какому-нибудь товару. Например, к 'chocolate'."
   ]
  },
  {
   "cell_type": "code",
   "execution_count": null,
   "metadata": {
    "execution": {
     "iopub.execute_input": "2021-08-04T01:12:46.717547Z",
     "iopub.status.busy": "2021-08-04T01:12:46.717098Z",
     "iopub.status.idle": "2021-08-04T01:12:48.890495Z",
     "shell.execute_reply": "2021-08-04T01:12:48.885447Z",
     "shell.execute_reply.started": "2021-08-04T01:12:46.717506Z"
    }
   },
   "outputs": [],
   "source": [
    "prod_id[prod_id.title.str.find('chocolate')>=0].head(5)"
   ]
  },
  {
   "cell_type": "markdown",
   "metadata": {},
   "source": [
    "возьмем item_id == 31074"
   ]
  },
  {
   "cell_type": "code",
   "execution_count": null,
   "metadata": {
    "execution": {
     "iopub.execute_input": "2021-08-04T01:12:48.892958Z",
     "iopub.status.busy": "2021-08-04T01:12:48.892499Z",
     "iopub.status.idle": "2021-08-04T01:12:48.898372Z",
     "shell.execute_reply": "2021-08-04T01:12:48.897027Z",
     "shell.execute_reply.started": "2021-08-04T01:12:48.892915Z"
    }
   },
   "outputs": [],
   "source": [
    "# Ищем похожие товары\n",
    "nbm = nearest_item_nms(31074,nms_idx)[0]"
   ]
  },
  {
   "cell_type": "code",
   "execution_count": null,
   "metadata": {
    "execution": {
     "iopub.execute_input": "2021-08-04T01:17:40.994998Z",
     "iopub.status.busy": "2021-08-04T01:17:40.994427Z",
     "iopub.status.idle": "2021-08-04T01:17:41.03346Z",
     "shell.execute_reply": "2021-08-04T01:17:41.032455Z",
     "shell.execute_reply.started": "2021-08-04T01:17:40.994962Z"
    }
   },
   "outputs": [],
   "source": [
    "#Выведим их\n",
    "prod_id[prod_id.itemid.isin(nbm)]"
   ]
  },
  {
   "cell_type": "code",
   "execution_count": null,
   "metadata": {
    "execution": {
     "iopub.execute_input": "2021-08-04T01:12:48.948533Z",
     "iopub.status.busy": "2021-08-04T01:12:48.948145Z",
     "iopub.status.idle": "2021-08-04T01:12:48.956474Z",
     "shell.execute_reply": "2021-08-04T01:12:48.955131Z",
     "shell.execute_reply.started": "2021-08-04T01:12:48.948492Z"
    }
   },
   "outputs": [],
   "source": [
    "submission['rating']= normalized_preds_sub"
   ]
  },
  {
   "cell_type": "code",
   "execution_count": null,
   "metadata": {
    "execution": {
     "iopub.execute_input": "2021-08-04T01:12:48.958533Z",
     "iopub.status.busy": "2021-08-04T01:12:48.95816Z",
     "iopub.status.idle": "2021-08-04T01:12:48.974547Z",
     "shell.execute_reply": "2021-08-04T01:12:48.973341Z",
     "shell.execute_reply.started": "2021-08-04T01:12:48.958502Z"
    }
   },
   "outputs": [],
   "source": [
    "submission"
   ]
  },
  {
   "cell_type": "code",
   "execution_count": null,
   "metadata": {
    "execution": {
     "iopub.execute_input": "2021-08-04T01:12:48.976809Z",
     "iopub.status.busy": "2021-08-04T01:12:48.975937Z",
     "iopub.status.idle": "2021-08-04T01:12:50.077081Z",
     "shell.execute_reply": "2021-08-04T01:12:50.075979Z",
     "shell.execute_reply.started": "2021-08-04T01:12:48.976759Z"
    }
   },
   "outputs": [],
   "source": [
    "submission.to_csv('submission_log.csv', index=False)"
   ]
  },
  {
   "cell_type": "markdown",
   "metadata": {},
   "source": [
    "Вывод:\n",
    "\n",
    "Мы удачно завершили проект по созданию рекомендательной системы. Мы подготовили ряд последовательных моделей для оценки проекта с помощью метрики ROC AUC. Которая характеризует точность предсказаний и должна быть устойчива к несбалансированным классам.\n",
    "\n",
    "Мы провели большую работу по EDA и FEБ, но начать решили с простой модели, это, ожидаемо , не дало нам нужного эффекта, но задало точку отсчета. Следующим шагом было увеличение данных, на котором модель обучалась – результат улучшился до показателя 0.7495 при сабмите, что уже заметно лучше базового решения. Следующим шагом стала работа с item_features и эмбедингами. Эмбеддинги – это векторы меньшей размерности в машинном обучении. Они используются для описания текстов, изображений, видео и много другого в поисковых и рекомендательных системах. Эмбеддинги нам нужны, чтобы давать предсказание к каждому товару, а точнее искать наиболее похожие. С помощью user/item_features мы добавили наши фичи. Если мы используем user/item_features при обучении, то LifhtFM считает,  что каждый пользователь и элемент характеризуются одной характеристикой, уникальной для этого пользователя (или элемента). Для быстрого поиска среди большого количества товаров использовали метод ближайших соседей, approximate k-nn, который реализован в библиотеке nmslib. К сожалению, данную модель мы не стали использовать для сабмита, поскольку выбранная нами метрика близка к 0.5.\n",
    "\n",
    "Обоснование выбранной метрики.\n",
    "\n",
    "\n",
    "В рамках целей и задач создания рекомендательной системы мы определили, что рекомендательная система должна быть нацелена на увеличения прибыли он-лайн магазина. Таким образом из пяти наиболее устоявшихся бизнес-метрик для оценки РС мы остановились на Sales and Revenue, а также можно считать, что наша РС может влиять на такие показатели как User Engagement and Behavior и Effects on Sales Distribution причем необязательно в положительную сторону. Это может зависеть как от самой рекомендательной системы, так и от ее интерфейса, удобства и степени доверия клиентов к ней.\n",
    "\n",
    "Метрика ROC-AUC наиболее подходит для оценки точности прогнозирования рекомендуемых товаров для увеличения продаж. \n",
    "Можно добавить, что если пользователей интересуют только товары с самым высоким (или самым низким рейтингом), а не отдельные рейтинговые оценки, это предполагает задачу классификации или ранжирования. Хотя алгоритм может использовать прогнозируемые рейтинги внутри, он должен успешно оценивать товары с наивысшим рейтингом (или с низким рейтингом), и более высокая ошибка в прогнозах рейтинга для товаров приемлема, если товары с наивысшим рейтингом (или с самым низким рейтингом) идентифицированы правильно. Поэтому оценка должна быть сосредоточена на показателях классификации или ранжирования.\n",
    "\n",
    "Графическое изображение ROC AUC обеспечивает графическое представление производительности рекомендательной системы или любого другого типа двоичного классификатора. Она отображает True Positive rate против False Positive rate для увеличения размера набора рекомендаций.  Oчевидной целью является максимизация площади под кривой. Таким образом, площадь под кривой AUC может использоваться в виде единственного показателя общего качества рекомендательной системы. Тем не менее бывает, что пользователи часто больше интересуются товарами в верхней части списков рекомендаций, но показатель AUC в равной степени зависит от свопов в верхней или нижней части списка рекомендаций. Это может быть недостатком, если мы, в основном, заинтересованы в поиске элементов с наивысшим рейтингом и, следовательно, заботимся о первой части графика. Решить эту проблему в будущем можно с помощью LAUC (Limited Area Under the Curve). Мера LAUC может быть очень полезна для оценки рекомендательных систем, которые применяются для создания списков товаров высшего качества.\n"
   ]
  },
  {
   "cell_type": "code",
   "execution_count": null,
   "metadata": {},
   "outputs": [],
   "source": []
  }
 ],
 "metadata": {
  "kernelspec": {
   "display_name": "Python 3",
   "language": "python",
   "name": "python3"
  },
  "language_info": {
   "codemirror_mode": {
    "name": "ipython",
    "version": 3
   },
   "file_extension": ".py",
   "mimetype": "text/x-python",
   "name": "python",
   "nbconvert_exporter": "python",
   "pygments_lexer": "ipython3",
   "version": "3.8.5"
  }
 },
 "nbformat": 4,
 "nbformat_minor": 4
}
