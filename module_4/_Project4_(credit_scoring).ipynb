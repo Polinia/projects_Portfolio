{
  "cells": [
    {
      "cell_type": "markdown",
      "metadata": {
        "id": "view-in-github",
        "colab_type": "text"
      },
      "source": [
        "<a href=\"https://colab.research.google.com/github/Polinia/skillfactory_rds/blob/main/module_4/_Project4_(credit_scoring).ipynb\" target=\"_parent\"><img src=\"https://colab.research.google.com/assets/colab-badge.svg\" alt=\"Open In Colab\"/></a>"
      ]
    },
    {
      "cell_type": "markdown",
      "metadata": {
        "papermill": {
          "duration": 0.084169,
          "end_time": "2021-04-10T09:40:49.860941",
          "exception": false,
          "start_time": "2021-04-10T09:40:49.776772",
          "status": "completed"
        },
        "tags": [],
        "id": "_hpkl7iwXx9g"
      },
      "source": [
        "# The goal\n",
        "Build a scoring model for a bank's secondary customers that predicts the likelihood of a customer defaulting. To do this, it will be necessary to define meaningful measurement parameters."
      ],
      "id": "_hpkl7iwXx9g"
    },
    {
      "cell_type": "markdown",
      "metadata": {
        "papermill": {
          "duration": 0.063185,
          "end_time": "2021-04-10T09:40:50.119371",
          "exception": false,
          "start_time": "2021-04-10T09:40:50.056186",
          "status": "completed"
        },
        "tags": [],
        "id": "_-9skNgkXx9h"
      },
      "source": [
        "# Import libraries and data"
      ],
      "id": "_-9skNgkXx9h"
    },
    {
      "cell_type": "code",
      "execution_count": 114,
      "metadata": {
        "_cell_guid": "b1076dfc-b9ad-4769-8c92-a6c4dae69d19",
        "_uuid": "8f2839f25d086af736a60e9eeb907d3b93b6e0e5",
        "execution": {
          "iopub.execute_input": "2021-04-10T09:40:50.256979Z",
          "iopub.status.busy": "2021-04-10T09:40:50.256197Z",
          "iopub.status.idle": "2021-04-10T09:40:53.733066Z",
          "shell.execute_reply": "2021-04-10T09:40:53.731157Z"
        },
        "papermill": {
          "duration": 3.550831,
          "end_time": "2021-04-10T09:40:53.733319",
          "exception": false,
          "start_time": "2021-04-10T09:40:50.182488",
          "status": "completed"
        },
        "tags": [],
        "id": "jtvzOT_9Xx9i"
      },
      "outputs": [],
      "source": [
        "# Import libraries\n",
        "from pandas import Series\n",
        "import pandas as pd\n",
        "import numpy as np\n",
        "%matplotlib inline\n",
        "import pandas_profiling\n",
        "\n",
        "import matplotlib.pyplot as plt\n",
        "import seaborn as sns\n",
        "\n",
        "from sklearn.preprocessing import PolynomialFeatures\n",
        "\n",
        "from sklearn.feature_selection import f_classif, mutual_info_classif\n",
        "from sklearn.preprocessing import LabelEncoder, OneHotEncoder, StandardScaler\n",
        "\n",
        "from sklearn.model_selection import GridSearchCV\n",
        "from sklearn.model_selection import train_test_split\n",
        "from sklearn.linear_model import LogisticRegression\n",
        "\n",
        "from sklearn.metrics import accuracy_score, recall_score, f1_score, mean_absolute_error, mean_squared_error, precision_score\n",
        "from sklearn.metrics import confusion_matrix\n",
        "from sklearn.metrics import auc, roc_auc_score, roc_curve\n",
        "\"\"\"import os\n",
        "for dirname, _, filenames in os.walk('/kaggle/input'):\n",
        "    for filename in filenames:\n",
        "        print(os.path.join(dirname, filename))\n",
        "PATH_to_file = '/kaggle/input/sf-dst-scoring/'\"\"\"\n",
        "import warnings\n",
        "warnings.simplefilter('ignore')"
      ],
      "id": "jtvzOT_9Xx9i"
    },
    {
      "cell_type": "code",
      "source": [
        "from google.colab import drive\n",
        "drive.mount('/content/drive')"
      ],
      "metadata": {
        "colab": {
          "base_uri": "https://localhost:8080/"
        },
        "id": "ZbFhjkW69v4f",
        "outputId": "07d5bcdf-effd-49f0-bcfc-44e8eca7d619"
      },
      "id": "ZbFhjkW69v4f",
      "execution_count": 115,
      "outputs": [
        {
          "output_type": "stream",
          "name": "stdout",
          "text": [
            "Drive already mounted at /content/drive; to attempt to forcibly remount, call drive.mount(\"/content/drive\", force_remount=True).\n"
          ]
        }
      ]
    },
    {
      "cell_type": "code",
      "execution_count": 116,
      "metadata": {
        "execution": {
          "iopub.execute_input": "2021-04-10T09:40:53.936499Z",
          "iopub.status.busy": "2021-04-10T09:40:53.935529Z",
          "iopub.status.idle": "2021-04-10T09:40:54.241792Z",
          "shell.execute_reply": "2021-04-10T09:40:54.241212Z"
        },
        "papermill": {
          "duration": 0.410126,
          "end_time": "2021-04-10T09:40:54.241948",
          "exception": false,
          "start_time": "2021-04-10T09:40:53.831822",
          "status": "completed"
        },
        "tags": [],
        "id": "GdbKBb6FXx9i"
      },
      "outputs": [],
      "source": [
        "# initial data\n",
        "df_train = pd.read_csv('/train.csv')\n",
        "df_test = pd.read_csv('/test.csv')"
      ],
      "id": "GdbKBb6FXx9i"
    },
    {
      "cell_type": "code",
      "execution_count": 117,
      "metadata": {
        "execution": {
          "iopub.execute_input": "2021-04-10T09:40:54.379745Z",
          "iopub.status.busy": "2021-04-10T09:40:54.378873Z",
          "iopub.status.idle": "2021-04-10T09:40:54.385486Z",
          "shell.execute_reply": "2021-04-10T09:40:54.384779Z"
        },
        "papermill": {
          "duration": 0.079314,
          "end_time": "2021-04-10T09:40:54.385627",
          "exception": false,
          "start_time": "2021-04-10T09:40:54.306313",
          "status": "completed"
        },
        "tags": [],
        "id": "QtDFyDlDXx9j"
      },
      "outputs": [],
      "source": [
        "# functions\n",
        "# the function of outliers count\n",
        "def get_outliers(column):\n",
        "    perc_25 = df[column].quantile(0.25, interpolation=\"midpoint\")\n",
        "    perc_75 = df[column].quantile(0.75, interpolation=\"midpoint\")\n",
        "    IQR = perc_75 - perc_25\n",
        "    min_out = perc_25 - 1.5 * IQR\n",
        "    max_out = perc_75 + 1.5 * IQR\n",
        "    print('Total outliers: {} '.format(\n",
        "        df[df[column] > max_out][column].count()+df[df[column] < min_out][column].count()))\n",
        "\n",
        "# logarithm function\n",
        "def log_values(x):\n",
        "    if x > 0: #logarithm only applies to positive numbers\n",
        "        x = np.log((x)+1)\n",
        "    return x\n"
      ],
      "id": "QtDFyDlDXx9j"
    },
    {
      "cell_type": "code",
      "execution_count": 118,
      "metadata": {
        "execution": {
          "iopub.execute_input": "2021-04-10T09:40:54.520206Z",
          "iopub.status.busy": "2021-04-10T09:40:54.519297Z",
          "iopub.status.idle": "2021-04-10T09:40:54.620797Z",
          "shell.execute_reply": "2021-04-10T09:40:54.620115Z"
        },
        "papermill": {
          "duration": 0.171767,
          "end_time": "2021-04-10T09:40:54.620945",
          "exception": false,
          "start_time": "2021-04-10T09:40:54.449178",
          "status": "completed"
        },
        "tags": [],
        "id": "pXjYpjN_Xx9j",
        "outputId": "15780b42-6de1-4b0b-c22c-8560187c0262",
        "colab": {
          "base_uri": "https://localhost:8080/"
        }
      },
      "outputs": [
        {
          "output_type": "stream",
          "name": "stdout",
          "text": [
            "Nulls in the train set:\n",
            "client_id             0\n",
            "app_date              0\n",
            "education           307\n",
            "sex                   0\n",
            "age                   0\n",
            "car                   0\n",
            "car_type              0\n",
            "decline_app_cnt       0\n",
            "good_work             0\n",
            "score_bki             0\n",
            "bki_request_cnt       0\n",
            "region_rating         0\n",
            "home_address          0\n",
            "work_address          0\n",
            "income                0\n",
            "sna                   0\n",
            "first_time            0\n",
            "foreign_passport      0\n",
            "default               0\n",
            "dtype: int64\n",
            "Nulls in the test set:\n",
            "client_id             0\n",
            "app_date              0\n",
            "education           171\n",
            "sex                   0\n",
            "age                   0\n",
            "car                   0\n",
            "car_type              0\n",
            "decline_app_cnt       0\n",
            "good_work             0\n",
            "score_bki             0\n",
            "bki_request_cnt       0\n",
            "region_rating         0\n",
            "home_address          0\n",
            "work_address          0\n",
            "income                0\n",
            "sna                   0\n",
            "first_time            0\n",
            "foreign_passport      0\n",
            "dtype: int64\n"
          ]
        }
      ],
      "source": [
        "print(\"Nulls in the train set:\", df_train.isnull().sum(), sep ='\\n')\n",
        "print(\"Nulls in the test set:\", df_test.isnull().sum(), sep ='\\n')"
      ],
      "id": "pXjYpjN_Xx9j"
    },
    {
      "cell_type": "code",
      "execution_count": 119,
      "metadata": {
        "execution": {
          "iopub.execute_input": "2021-04-10T09:40:54.769788Z",
          "iopub.status.busy": "2021-04-10T09:40:54.766305Z",
          "iopub.status.idle": "2021-04-10T09:40:54.822887Z",
          "shell.execute_reply": "2021-04-10T09:40:54.823615Z"
        },
        "papermill": {
          "duration": 0.136726,
          "end_time": "2021-04-10T09:40:54.823823",
          "exception": false,
          "start_time": "2021-04-10T09:40:54.687097",
          "status": "completed"
        },
        "tags": [],
        "id": "vjV-hp9qXx9k",
        "outputId": "9edeed40-7fe7-427a-f775-0292d0b3bd09",
        "colab": {
          "base_uri": "https://localhost:8080/",
          "height": 494
        }
      },
      "outputs": [
        {
          "output_type": "stream",
          "name": "stdout",
          "text": [
            "Dimension of the training dataset:  (73799, 19)\n"
          ]
        },
        {
          "output_type": "display_data",
          "data": {
            "text/plain": [
              "   client_id   app_date education sex  age car car_type  decline_app_cnt  \\\n",
              "0      25905  01FEB2014       SCH   M   62   Y        Y                0   \n",
              "1      63161  12MAR2014       SCH   F   59   N        N                0   \n",
              "2      25887  01FEB2014       SCH   M   25   Y        N                2   \n",
              "3      16222  23JAN2014       SCH   F   53   N        N                0   \n",
              "4     101655  18APR2014       GRD   M   48   N        N                0   \n",
              "\n",
              "   good_work  score_bki  bki_request_cnt  region_rating  home_address  \\\n",
              "0          0  -2.008753                1             50             1   \n",
              "1          0  -1.532276                3             50             2   \n",
              "2          0  -1.408142                1             80             1   \n",
              "3          0  -2.057471                2             50             2   \n",
              "4          1  -1.244723                1             60             2   \n",
              "\n",
              "   work_address  income  sna  first_time foreign_passport  default  \n",
              "0             2   18000    4           1                N        0  \n",
              "1             3   19000    4           1                N        0  \n",
              "2             2   30000    1           4                Y        0  \n",
              "3             3   10000    1           3                N        0  \n",
              "4             3   30000    1           4                Y        0  "
            ],
            "text/html": [
              "\n",
              "  <div id=\"df-a5db0878-8cec-4d9d-af09-eca664b8f4ed\">\n",
              "    <div class=\"colab-df-container\">\n",
              "      <div>\n",
              "<style scoped>\n",
              "    .dataframe tbody tr th:only-of-type {\n",
              "        vertical-align: middle;\n",
              "    }\n",
              "\n",
              "    .dataframe tbody tr th {\n",
              "        vertical-align: top;\n",
              "    }\n",
              "\n",
              "    .dataframe thead th {\n",
              "        text-align: right;\n",
              "    }\n",
              "</style>\n",
              "<table border=\"1\" class=\"dataframe\">\n",
              "  <thead>\n",
              "    <tr style=\"text-align: right;\">\n",
              "      <th></th>\n",
              "      <th>client_id</th>\n",
              "      <th>app_date</th>\n",
              "      <th>education</th>\n",
              "      <th>sex</th>\n",
              "      <th>age</th>\n",
              "      <th>car</th>\n",
              "      <th>car_type</th>\n",
              "      <th>decline_app_cnt</th>\n",
              "      <th>good_work</th>\n",
              "      <th>score_bki</th>\n",
              "      <th>bki_request_cnt</th>\n",
              "      <th>region_rating</th>\n",
              "      <th>home_address</th>\n",
              "      <th>work_address</th>\n",
              "      <th>income</th>\n",
              "      <th>sna</th>\n",
              "      <th>first_time</th>\n",
              "      <th>foreign_passport</th>\n",
              "      <th>default</th>\n",
              "    </tr>\n",
              "  </thead>\n",
              "  <tbody>\n",
              "    <tr>\n",
              "      <th>0</th>\n",
              "      <td>25905</td>\n",
              "      <td>01FEB2014</td>\n",
              "      <td>SCH</td>\n",
              "      <td>M</td>\n",
              "      <td>62</td>\n",
              "      <td>Y</td>\n",
              "      <td>Y</td>\n",
              "      <td>0</td>\n",
              "      <td>0</td>\n",
              "      <td>-2.008753</td>\n",
              "      <td>1</td>\n",
              "      <td>50</td>\n",
              "      <td>1</td>\n",
              "      <td>2</td>\n",
              "      <td>18000</td>\n",
              "      <td>4</td>\n",
              "      <td>1</td>\n",
              "      <td>N</td>\n",
              "      <td>0</td>\n",
              "    </tr>\n",
              "    <tr>\n",
              "      <th>1</th>\n",
              "      <td>63161</td>\n",
              "      <td>12MAR2014</td>\n",
              "      <td>SCH</td>\n",
              "      <td>F</td>\n",
              "      <td>59</td>\n",
              "      <td>N</td>\n",
              "      <td>N</td>\n",
              "      <td>0</td>\n",
              "      <td>0</td>\n",
              "      <td>-1.532276</td>\n",
              "      <td>3</td>\n",
              "      <td>50</td>\n",
              "      <td>2</td>\n",
              "      <td>3</td>\n",
              "      <td>19000</td>\n",
              "      <td>4</td>\n",
              "      <td>1</td>\n",
              "      <td>N</td>\n",
              "      <td>0</td>\n",
              "    </tr>\n",
              "    <tr>\n",
              "      <th>2</th>\n",
              "      <td>25887</td>\n",
              "      <td>01FEB2014</td>\n",
              "      <td>SCH</td>\n",
              "      <td>M</td>\n",
              "      <td>25</td>\n",
              "      <td>Y</td>\n",
              "      <td>N</td>\n",
              "      <td>2</td>\n",
              "      <td>0</td>\n",
              "      <td>-1.408142</td>\n",
              "      <td>1</td>\n",
              "      <td>80</td>\n",
              "      <td>1</td>\n",
              "      <td>2</td>\n",
              "      <td>30000</td>\n",
              "      <td>1</td>\n",
              "      <td>4</td>\n",
              "      <td>Y</td>\n",
              "      <td>0</td>\n",
              "    </tr>\n",
              "    <tr>\n",
              "      <th>3</th>\n",
              "      <td>16222</td>\n",
              "      <td>23JAN2014</td>\n",
              "      <td>SCH</td>\n",
              "      <td>F</td>\n",
              "      <td>53</td>\n",
              "      <td>N</td>\n",
              "      <td>N</td>\n",
              "      <td>0</td>\n",
              "      <td>0</td>\n",
              "      <td>-2.057471</td>\n",
              "      <td>2</td>\n",
              "      <td>50</td>\n",
              "      <td>2</td>\n",
              "      <td>3</td>\n",
              "      <td>10000</td>\n",
              "      <td>1</td>\n",
              "      <td>3</td>\n",
              "      <td>N</td>\n",
              "      <td>0</td>\n",
              "    </tr>\n",
              "    <tr>\n",
              "      <th>4</th>\n",
              "      <td>101655</td>\n",
              "      <td>18APR2014</td>\n",
              "      <td>GRD</td>\n",
              "      <td>M</td>\n",
              "      <td>48</td>\n",
              "      <td>N</td>\n",
              "      <td>N</td>\n",
              "      <td>0</td>\n",
              "      <td>1</td>\n",
              "      <td>-1.244723</td>\n",
              "      <td>1</td>\n",
              "      <td>60</td>\n",
              "      <td>2</td>\n",
              "      <td>3</td>\n",
              "      <td>30000</td>\n",
              "      <td>1</td>\n",
              "      <td>4</td>\n",
              "      <td>Y</td>\n",
              "      <td>0</td>\n",
              "    </tr>\n",
              "  </tbody>\n",
              "</table>\n",
              "</div>\n",
              "      <button class=\"colab-df-convert\" onclick=\"convertToInteractive('df-a5db0878-8cec-4d9d-af09-eca664b8f4ed')\"\n",
              "              title=\"Convert this dataframe to an interactive table.\"\n",
              "              style=\"display:none;\">\n",
              "        \n",
              "  <svg xmlns=\"http://www.w3.org/2000/svg\" height=\"24px\"viewBox=\"0 0 24 24\"\n",
              "       width=\"24px\">\n",
              "    <path d=\"M0 0h24v24H0V0z\" fill=\"none\"/>\n",
              "    <path d=\"M18.56 5.44l.94 2.06.94-2.06 2.06-.94-2.06-.94-.94-2.06-.94 2.06-2.06.94zm-11 1L8.5 8.5l.94-2.06 2.06-.94-2.06-.94L8.5 2.5l-.94 2.06-2.06.94zm10 10l.94 2.06.94-2.06 2.06-.94-2.06-.94-.94-2.06-.94 2.06-2.06.94z\"/><path d=\"M17.41 7.96l-1.37-1.37c-.4-.4-.92-.59-1.43-.59-.52 0-1.04.2-1.43.59L10.3 9.45l-7.72 7.72c-.78.78-.78 2.05 0 2.83L4 21.41c.39.39.9.59 1.41.59.51 0 1.02-.2 1.41-.59l7.78-7.78 2.81-2.81c.8-.78.8-2.07 0-2.86zM5.41 20L4 18.59l7.72-7.72 1.47 1.35L5.41 20z\"/>\n",
              "  </svg>\n",
              "      </button>\n",
              "      \n",
              "  <style>\n",
              "    .colab-df-container {\n",
              "      display:flex;\n",
              "      flex-wrap:wrap;\n",
              "      gap: 12px;\n",
              "    }\n",
              "\n",
              "    .colab-df-convert {\n",
              "      background-color: #E8F0FE;\n",
              "      border: none;\n",
              "      border-radius: 50%;\n",
              "      cursor: pointer;\n",
              "      display: none;\n",
              "      fill: #1967D2;\n",
              "      height: 32px;\n",
              "      padding: 0 0 0 0;\n",
              "      width: 32px;\n",
              "    }\n",
              "\n",
              "    .colab-df-convert:hover {\n",
              "      background-color: #E2EBFA;\n",
              "      box-shadow: 0px 1px 2px rgba(60, 64, 67, 0.3), 0px 1px 3px 1px rgba(60, 64, 67, 0.15);\n",
              "      fill: #174EA6;\n",
              "    }\n",
              "\n",
              "    [theme=dark] .colab-df-convert {\n",
              "      background-color: #3B4455;\n",
              "      fill: #D2E3FC;\n",
              "    }\n",
              "\n",
              "    [theme=dark] .colab-df-convert:hover {\n",
              "      background-color: #434B5C;\n",
              "      box-shadow: 0px 1px 3px 1px rgba(0, 0, 0, 0.15);\n",
              "      filter: drop-shadow(0px 1px 2px rgba(0, 0, 0, 0.3));\n",
              "      fill: #FFFFFF;\n",
              "    }\n",
              "  </style>\n",
              "\n",
              "      <script>\n",
              "        const buttonEl =\n",
              "          document.querySelector('#df-a5db0878-8cec-4d9d-af09-eca664b8f4ed button.colab-df-convert');\n",
              "        buttonEl.style.display =\n",
              "          google.colab.kernel.accessAllowed ? 'block' : 'none';\n",
              "\n",
              "        async function convertToInteractive(key) {\n",
              "          const element = document.querySelector('#df-a5db0878-8cec-4d9d-af09-eca664b8f4ed');\n",
              "          const dataTable =\n",
              "            await google.colab.kernel.invokeFunction('convertToInteractive',\n",
              "                                                     [key], {});\n",
              "          if (!dataTable) return;\n",
              "\n",
              "          const docLinkHtml = 'Like what you see? Visit the ' +\n",
              "            '<a target=\"_blank\" href=https://colab.research.google.com/notebooks/data_table.ipynb>data table notebook</a>'\n",
              "            + ' to learn more about interactive tables.';\n",
              "          element.innerHTML = '';\n",
              "          dataTable['output_type'] = 'display_data';\n",
              "          await google.colab.output.renderOutput(dataTable, element);\n",
              "          const docLink = document.createElement('div');\n",
              "          docLink.innerHTML = docLinkHtml;\n",
              "          element.appendChild(docLink);\n",
              "        }\n",
              "      </script>\n",
              "    </div>\n",
              "  </div>\n",
              "  "
            ]
          },
          "metadata": {}
        },
        {
          "output_type": "stream",
          "name": "stdout",
          "text": [
            "Dimension of the testing dataset:  (36349, 18)\n"
          ]
        },
        {
          "output_type": "display_data",
          "data": {
            "text/plain": [
              "   client_id   app_date education sex  age car car_type  decline_app_cnt  \\\n",
              "0      74835  22MAR2014       GRD   M   29   Y        Y                0   \n",
              "1      17527  24JAN2014       SCH   F   39   N        N                5   \n",
              "2      75683  23MAR2014       UGR   M   50   Y        Y                0   \n",
              "3      26883  03FEB2014       SCH   M   56   N        N                0   \n",
              "4      28862  04FEB2014       GRD   F   38   N        N                0   \n",
              "\n",
              "   good_work  score_bki  bki_request_cnt  region_rating  home_address  \\\n",
              "0          0  -2.271884                3             50             1   \n",
              "1          0  -1.504999                2             50             1   \n",
              "2          0  -1.691339                1             50             1   \n",
              "3          0  -2.374182                1             40             1   \n",
              "4          0  -2.487502                0             80             2   \n",
              "\n",
              "   work_address  income  sna  first_time foreign_passport  \n",
              "0             2   50000    1           4                N  \n",
              "1             2    5000    4           3                N  \n",
              "2             2   30000    1           3                Y  \n",
              "3             2   17000    1           3                N  \n",
              "4             3  120000    1           3                N  "
            ],
            "text/html": [
              "\n",
              "  <div id=\"df-9b6d095a-a21f-44d6-9560-15695d81272d\">\n",
              "    <div class=\"colab-df-container\">\n",
              "      <div>\n",
              "<style scoped>\n",
              "    .dataframe tbody tr th:only-of-type {\n",
              "        vertical-align: middle;\n",
              "    }\n",
              "\n",
              "    .dataframe tbody tr th {\n",
              "        vertical-align: top;\n",
              "    }\n",
              "\n",
              "    .dataframe thead th {\n",
              "        text-align: right;\n",
              "    }\n",
              "</style>\n",
              "<table border=\"1\" class=\"dataframe\">\n",
              "  <thead>\n",
              "    <tr style=\"text-align: right;\">\n",
              "      <th></th>\n",
              "      <th>client_id</th>\n",
              "      <th>app_date</th>\n",
              "      <th>education</th>\n",
              "      <th>sex</th>\n",
              "      <th>age</th>\n",
              "      <th>car</th>\n",
              "      <th>car_type</th>\n",
              "      <th>decline_app_cnt</th>\n",
              "      <th>good_work</th>\n",
              "      <th>score_bki</th>\n",
              "      <th>bki_request_cnt</th>\n",
              "      <th>region_rating</th>\n",
              "      <th>home_address</th>\n",
              "      <th>work_address</th>\n",
              "      <th>income</th>\n",
              "      <th>sna</th>\n",
              "      <th>first_time</th>\n",
              "      <th>foreign_passport</th>\n",
              "    </tr>\n",
              "  </thead>\n",
              "  <tbody>\n",
              "    <tr>\n",
              "      <th>0</th>\n",
              "      <td>74835</td>\n",
              "      <td>22MAR2014</td>\n",
              "      <td>GRD</td>\n",
              "      <td>M</td>\n",
              "      <td>29</td>\n",
              "      <td>Y</td>\n",
              "      <td>Y</td>\n",
              "      <td>0</td>\n",
              "      <td>0</td>\n",
              "      <td>-2.271884</td>\n",
              "      <td>3</td>\n",
              "      <td>50</td>\n",
              "      <td>1</td>\n",
              "      <td>2</td>\n",
              "      <td>50000</td>\n",
              "      <td>1</td>\n",
              "      <td>4</td>\n",
              "      <td>N</td>\n",
              "    </tr>\n",
              "    <tr>\n",
              "      <th>1</th>\n",
              "      <td>17527</td>\n",
              "      <td>24JAN2014</td>\n",
              "      <td>SCH</td>\n",
              "      <td>F</td>\n",
              "      <td>39</td>\n",
              "      <td>N</td>\n",
              "      <td>N</td>\n",
              "      <td>5</td>\n",
              "      <td>0</td>\n",
              "      <td>-1.504999</td>\n",
              "      <td>2</td>\n",
              "      <td>50</td>\n",
              "      <td>1</td>\n",
              "      <td>2</td>\n",
              "      <td>5000</td>\n",
              "      <td>4</td>\n",
              "      <td>3</td>\n",
              "      <td>N</td>\n",
              "    </tr>\n",
              "    <tr>\n",
              "      <th>2</th>\n",
              "      <td>75683</td>\n",
              "      <td>23MAR2014</td>\n",
              "      <td>UGR</td>\n",
              "      <td>M</td>\n",
              "      <td>50</td>\n",
              "      <td>Y</td>\n",
              "      <td>Y</td>\n",
              "      <td>0</td>\n",
              "      <td>0</td>\n",
              "      <td>-1.691339</td>\n",
              "      <td>1</td>\n",
              "      <td>50</td>\n",
              "      <td>1</td>\n",
              "      <td>2</td>\n",
              "      <td>30000</td>\n",
              "      <td>1</td>\n",
              "      <td>3</td>\n",
              "      <td>Y</td>\n",
              "    </tr>\n",
              "    <tr>\n",
              "      <th>3</th>\n",
              "      <td>26883</td>\n",
              "      <td>03FEB2014</td>\n",
              "      <td>SCH</td>\n",
              "      <td>M</td>\n",
              "      <td>56</td>\n",
              "      <td>N</td>\n",
              "      <td>N</td>\n",
              "      <td>0</td>\n",
              "      <td>0</td>\n",
              "      <td>-2.374182</td>\n",
              "      <td>1</td>\n",
              "      <td>40</td>\n",
              "      <td>1</td>\n",
              "      <td>2</td>\n",
              "      <td>17000</td>\n",
              "      <td>1</td>\n",
              "      <td>3</td>\n",
              "      <td>N</td>\n",
              "    </tr>\n",
              "    <tr>\n",
              "      <th>4</th>\n",
              "      <td>28862</td>\n",
              "      <td>04FEB2014</td>\n",
              "      <td>GRD</td>\n",
              "      <td>F</td>\n",
              "      <td>38</td>\n",
              "      <td>N</td>\n",
              "      <td>N</td>\n",
              "      <td>0</td>\n",
              "      <td>0</td>\n",
              "      <td>-2.487502</td>\n",
              "      <td>0</td>\n",
              "      <td>80</td>\n",
              "      <td>2</td>\n",
              "      <td>3</td>\n",
              "      <td>120000</td>\n",
              "      <td>1</td>\n",
              "      <td>3</td>\n",
              "      <td>N</td>\n",
              "    </tr>\n",
              "  </tbody>\n",
              "</table>\n",
              "</div>\n",
              "      <button class=\"colab-df-convert\" onclick=\"convertToInteractive('df-9b6d095a-a21f-44d6-9560-15695d81272d')\"\n",
              "              title=\"Convert this dataframe to an interactive table.\"\n",
              "              style=\"display:none;\">\n",
              "        \n",
              "  <svg xmlns=\"http://www.w3.org/2000/svg\" height=\"24px\"viewBox=\"0 0 24 24\"\n",
              "       width=\"24px\">\n",
              "    <path d=\"M0 0h24v24H0V0z\" fill=\"none\"/>\n",
              "    <path d=\"M18.56 5.44l.94 2.06.94-2.06 2.06-.94-2.06-.94-.94-2.06-.94 2.06-2.06.94zm-11 1L8.5 8.5l.94-2.06 2.06-.94-2.06-.94L8.5 2.5l-.94 2.06-2.06.94zm10 10l.94 2.06.94-2.06 2.06-.94-2.06-.94-.94-2.06-.94 2.06-2.06.94z\"/><path d=\"M17.41 7.96l-1.37-1.37c-.4-.4-.92-.59-1.43-.59-.52 0-1.04.2-1.43.59L10.3 9.45l-7.72 7.72c-.78.78-.78 2.05 0 2.83L4 21.41c.39.39.9.59 1.41.59.51 0 1.02-.2 1.41-.59l7.78-7.78 2.81-2.81c.8-.78.8-2.07 0-2.86zM5.41 20L4 18.59l7.72-7.72 1.47 1.35L5.41 20z\"/>\n",
              "  </svg>\n",
              "      </button>\n",
              "      \n",
              "  <style>\n",
              "    .colab-df-container {\n",
              "      display:flex;\n",
              "      flex-wrap:wrap;\n",
              "      gap: 12px;\n",
              "    }\n",
              "\n",
              "    .colab-df-convert {\n",
              "      background-color: #E8F0FE;\n",
              "      border: none;\n",
              "      border-radius: 50%;\n",
              "      cursor: pointer;\n",
              "      display: none;\n",
              "      fill: #1967D2;\n",
              "      height: 32px;\n",
              "      padding: 0 0 0 0;\n",
              "      width: 32px;\n",
              "    }\n",
              "\n",
              "    .colab-df-convert:hover {\n",
              "      background-color: #E2EBFA;\n",
              "      box-shadow: 0px 1px 2px rgba(60, 64, 67, 0.3), 0px 1px 3px 1px rgba(60, 64, 67, 0.15);\n",
              "      fill: #174EA6;\n",
              "    }\n",
              "\n",
              "    [theme=dark] .colab-df-convert {\n",
              "      background-color: #3B4455;\n",
              "      fill: #D2E3FC;\n",
              "    }\n",
              "\n",
              "    [theme=dark] .colab-df-convert:hover {\n",
              "      background-color: #434B5C;\n",
              "      box-shadow: 0px 1px 3px 1px rgba(0, 0, 0, 0.15);\n",
              "      filter: drop-shadow(0px 1px 2px rgba(0, 0, 0, 0.3));\n",
              "      fill: #FFFFFF;\n",
              "    }\n",
              "  </style>\n",
              "\n",
              "      <script>\n",
              "        const buttonEl =\n",
              "          document.querySelector('#df-9b6d095a-a21f-44d6-9560-15695d81272d button.colab-df-convert');\n",
              "        buttonEl.style.display =\n",
              "          google.colab.kernel.accessAllowed ? 'block' : 'none';\n",
              "\n",
              "        async function convertToInteractive(key) {\n",
              "          const element = document.querySelector('#df-9b6d095a-a21f-44d6-9560-15695d81272d');\n",
              "          const dataTable =\n",
              "            await google.colab.kernel.invokeFunction('convertToInteractive',\n",
              "                                                     [key], {});\n",
              "          if (!dataTable) return;\n",
              "\n",
              "          const docLinkHtml = 'Like what you see? Visit the ' +\n",
              "            '<a target=\"_blank\" href=https://colab.research.google.com/notebooks/data_table.ipynb>data table notebook</a>'\n",
              "            + ' to learn more about interactive tables.';\n",
              "          element.innerHTML = '';\n",
              "          dataTable['output_type'] = 'display_data';\n",
              "          await google.colab.output.renderOutput(dataTable, element);\n",
              "          const docLink = document.createElement('div');\n",
              "          docLink.innerHTML = docLinkHtml;\n",
              "          element.appendChild(docLink);\n",
              "        }\n",
              "      </script>\n",
              "    </div>\n",
              "  </div>\n",
              "  "
            ]
          },
          "metadata": {}
        }
      ],
      "source": [
        "# initial analysis\n",
        "pd.set_option('display.max_columns', None)\n",
        "print('Dimension of the training dataset: ', df_train.shape)\n",
        "display(df_train.head(5))\n",
        "print('Dimension of the testing dataset: ', df_test.shape)\n",
        "display(df_test.head(5))\n",
        "# in the test set there is no feauture 'default'"
      ],
      "id": "vjV-hp9qXx9k"
    },
    {
      "cell_type": "code",
      "execution_count": 120,
      "metadata": {
        "execution": {
          "iopub.execute_input": "2021-04-10T09:40:55.001049Z",
          "iopub.status.busy": "2021-04-10T09:40:54.998609Z",
          "iopub.status.idle": "2021-04-10T09:40:55.033937Z",
          "shell.execute_reply": "2021-04-10T09:40:55.033339Z"
        },
        "papermill": {
          "duration": 0.108292,
          "end_time": "2021-04-10T09:40:55.034107",
          "exception": false,
          "start_time": "2021-04-10T09:40:54.925815",
          "status": "completed"
        },
        "tags": [],
        "id": "nyALCtCqXx9l"
      },
      "outputs": [],
      "source": [
        "# combining training and test data into one dataset\n",
        "df_train['train'] = 1 # note training set\n",
        "df_test['train'] = 0 # note testing set\n",
        "df = pd.concat([df_train, df_test], ignore_index=True)"
      ],
      "id": "nyALCtCqXx9l"
    },
    {
      "cell_type": "code",
      "execution_count": 121,
      "metadata": {
        "execution": {
          "iopub.execute_input": "2021-04-10T09:40:55.197080Z",
          "iopub.status.busy": "2021-04-10T09:40:55.187605Z",
          "iopub.status.idle": "2021-04-10T09:40:55.229367Z",
          "shell.execute_reply": "2021-04-10T09:40:55.228637Z"
        },
        "papermill": {
          "duration": 0.128899,
          "end_time": "2021-04-10T09:40:55.229515",
          "exception": false,
          "start_time": "2021-04-10T09:40:55.100616",
          "status": "completed"
        },
        "tags": [],
        "id": "wCF1fsKIXx9l",
        "outputId": "fe60f8b8-ed7f-46e8-ddc2-37a16c721f3d",
        "colab": {
          "base_uri": "https://localhost:8080/"
        }
      },
      "outputs": [
        {
          "output_type": "stream",
          "name": "stdout",
          "text": [
            "<class 'pandas.core.frame.DataFrame'>\n",
            "RangeIndex: 110148 entries, 0 to 110147\n",
            "Data columns (total 20 columns):\n",
            " #   Column            Non-Null Count   Dtype  \n",
            "---  ------            --------------   -----  \n",
            " 0   client_id         110148 non-null  int64  \n",
            " 1   app_date          110148 non-null  object \n",
            " 2   education         109670 non-null  object \n",
            " 3   sex               110148 non-null  object \n",
            " 4   age               110148 non-null  int64  \n",
            " 5   car               110148 non-null  object \n",
            " 6   car_type          110148 non-null  object \n",
            " 7   decline_app_cnt   110148 non-null  int64  \n",
            " 8   good_work         110148 non-null  int64  \n",
            " 9   score_bki         110148 non-null  float64\n",
            " 10  bki_request_cnt   110148 non-null  int64  \n",
            " 11  region_rating     110148 non-null  int64  \n",
            " 12  home_address      110148 non-null  int64  \n",
            " 13  work_address      110148 non-null  int64  \n",
            " 14  income            110148 non-null  int64  \n",
            " 15  sna               110148 non-null  int64  \n",
            " 16  first_time        110148 non-null  int64  \n",
            " 17  foreign_passport  110148 non-null  object \n",
            " 18  default           73799 non-null   float64\n",
            " 19  train             110148 non-null  int64  \n",
            "dtypes: float64(2), int64(12), object(6)\n",
            "memory usage: 16.8+ MB\n"
          ]
        }
      ],
      "source": [
        "df.info()\n",
        "# missing some data in 'education'\n",
        "# need to decide what to do with the missed data in the default column that happened after the join"
      ],
      "id": "wCF1fsKIXx9l"
    },
    {
      "cell_type": "code",
      "execution_count": 122,
      "metadata": {
        "execution": {
          "iopub.execute_input": "2021-04-10T09:40:55.367375Z",
          "iopub.status.busy": "2021-04-10T09:40:55.366754Z",
          "iopub.status.idle": "2021-04-10T09:40:55.371432Z",
          "shell.execute_reply": "2021-04-10T09:40:55.370527Z"
        },
        "papermill": {
          "duration": 0.074928,
          "end_time": "2021-04-10T09:40:55.371610",
          "exception": false,
          "start_time": "2021-04-10T09:40:55.296682",
          "status": "completed"
        },
        "tags": [],
        "id": "NMsA1a6sXx9l"
      },
      "outputs": [],
      "source": [
        "# using the module for quick analysis of primary data\n",
        "# pandas_profiling.ProfileReport(df)"
      ],
      "id": "NMsA1a6sXx9l"
    },
    {
      "cell_type": "markdown",
      "metadata": {
        "papermill": {
          "duration": 0.102237,
          "end_time": "2021-04-10T09:40:55.576934",
          "exception": false,
          "start_time": "2021-04-10T09:40:55.474697",
          "status": "completed"
        },
        "tags": [],
        "id": "dnR043Q-Xx9l"
      },
      "source": [
        "Brief summary: in the training sample 73799 clients, in the test sample - 36349. In total, dataset consists 110148 clients. There are 20 values in total, 1 of them is a date that should be processed first. All missed data are in the feature 'education'. Missing data is in the attribute default appeared artificially. Also, 'Train' feature was added to indicate the ownership of the data and the subsequent separation."
      ],
      "id": "dnR043Q-Xx9l"
    },
    {
      "cell_type": "markdown",
      "metadata": {
        "papermill": {
          "duration": 0.102982,
          "end_time": "2021-04-10T09:40:55.783315",
          "exception": false,
          "start_time": "2021-04-10T09:40:55.680333",
          "status": "completed"
        },
        "tags": [],
        "id": "i_MNFOXnXx9r"
      },
      "source": [
        "# Предобработка"
      ],
      "id": "i_MNFOXnXx9r"
    },
    {
      "cell_type": "code",
      "execution_count": 123,
      "metadata": {
        "execution": {
          "iopub.execute_input": "2021-04-10T09:40:56.009176Z",
          "iopub.status.busy": "2021-04-10T09:40:56.001205Z",
          "iopub.status.idle": "2021-04-10T09:40:59.236451Z",
          "shell.execute_reply": "2021-04-10T09:40:59.235578Z"
        },
        "papermill": {
          "duration": 3.351646,
          "end_time": "2021-04-10T09:40:59.236620",
          "exception": false,
          "start_time": "2021-04-10T09:40:55.884974",
          "status": "completed"
        },
        "tags": [],
        "id": "x6ZmDjpTXx9r"
      },
      "outputs": [],
      "source": [
        "# I will get rid of missing values, given that the data in the education column is\n",
        "# categorical I will change to mode.\n",
        "# Although we can create another category 'no data'\n",
        "df.education = df.education.apply(\n",
        "    lambda x: df.education.mode()[0] if pd.isna(x) == True else x)"
      ],
      "id": "x6ZmDjpTXx9r"
    },
    {
      "cell_type": "code",
      "execution_count": 124,
      "metadata": {
        "execution": {
          "iopub.execute_input": "2021-04-10T09:40:59.468284Z",
          "iopub.status.busy": "2021-04-10T09:40:59.451814Z",
          "iopub.status.idle": "2021-04-10T09:41:44.949672Z",
          "shell.execute_reply": "2021-04-10T09:41:44.949050Z"
        },
        "papermill": {
          "duration": 45.609519,
          "end_time": "2021-04-10T09:41:44.949813",
          "exception": false,
          "start_time": "2021-04-10T09:40:59.340294",
          "status": "completed"
        },
        "tags": [],
        "id": "SxDhMzjsXx9r"
      },
      "outputs": [],
      "source": [
        "# will do the same with 'default'\n",
        "df.default = df.default.apply(\n",
        "    lambda x: df.default.mode()[0] if pd.isna(x) == True else x)"
      ],
      "id": "SxDhMzjsXx9r"
    },
    {
      "cell_type": "code",
      "execution_count": 125,
      "metadata": {
        "execution": {
          "iopub.execute_input": "2021-04-10T09:41:45.109360Z",
          "iopub.status.busy": "2021-04-10T09:41:45.108686Z",
          "iopub.status.idle": "2021-04-10T09:41:45.277074Z",
          "shell.execute_reply": "2021-04-10T09:41:45.277573Z"
        },
        "papermill": {
          "duration": 0.256886,
          "end_time": "2021-04-10T09:41:45.277752",
          "exception": false,
          "start_time": "2021-04-10T09:41:45.020866",
          "status": "completed"
        },
        "tags": [],
        "id": "m0tpj5YPXx9r",
        "outputId": "37f9ddfa-ea0e-40e6-d90b-b34dc2a684cc",
        "colab": {
          "base_uri": "https://localhost:8080/"
        }
      },
      "outputs": [
        {
          "output_type": "stream",
          "name": "stdout",
          "text": [
            "client_id           0\n",
            "app_date            0\n",
            "education           0\n",
            "sex                 0\n",
            "age                 0\n",
            "car                 0\n",
            "car_type            0\n",
            "decline_app_cnt     0\n",
            "good_work           0\n",
            "score_bki           0\n",
            "bki_request_cnt     0\n",
            "region_rating       0\n",
            "home_address        0\n",
            "work_address        0\n",
            "income              0\n",
            "sna                 0\n",
            "first_time          0\n",
            "foreign_passport    0\n",
            "default             0\n",
            "train               0\n",
            "dtype: int64\n",
            "<class 'pandas.core.frame.DataFrame'>\n",
            "RangeIndex: 110148 entries, 0 to 110147\n",
            "Data columns (total 20 columns):\n",
            " #   Column            Non-Null Count   Dtype  \n",
            "---  ------            --------------   -----  \n",
            " 0   client_id         110148 non-null  int64  \n",
            " 1   app_date          110148 non-null  object \n",
            " 2   education         110148 non-null  object \n",
            " 3   sex               110148 non-null  object \n",
            " 4   age               110148 non-null  int64  \n",
            " 5   car               110148 non-null  object \n",
            " 6   car_type          110148 non-null  object \n",
            " 7   decline_app_cnt   110148 non-null  int64  \n",
            " 8   good_work         110148 non-null  int64  \n",
            " 9   score_bki         110148 non-null  float64\n",
            " 10  bki_request_cnt   110148 non-null  int64  \n",
            " 11  region_rating     110148 non-null  int64  \n",
            " 12  home_address      110148 non-null  int64  \n",
            " 13  work_address      110148 non-null  int64  \n",
            " 14  income            110148 non-null  int64  \n",
            " 15  sna               110148 non-null  int64  \n",
            " 16  first_time        110148 non-null  int64  \n",
            " 17  foreign_passport  110148 non-null  object \n",
            " 18  default           110148 non-null  float64\n",
            " 19  train             110148 non-null  int64  \n",
            "dtypes: float64(2), int64(12), object(6)\n",
            "memory usage: 16.8+ MB\n",
            "None\n"
          ]
        }
      ],
      "source": [
        "# checking\n",
        "print(df.isna().sum())\n",
        "print(df.info())"
      ],
      "id": "m0tpj5YPXx9r"
    },
    {
      "cell_type": "code",
      "execution_count": 126,
      "metadata": {
        "execution": {
          "iopub.execute_input": "2021-04-10T09:41:45.431861Z",
          "iopub.status.busy": "2021-04-10T09:41:45.431034Z",
          "iopub.status.idle": "2021-04-10T09:41:45.481725Z",
          "shell.execute_reply": "2021-04-10T09:41:45.481216Z"
        },
        "papermill": {
          "duration": 0.129504,
          "end_time": "2021-04-10T09:41:45.481863",
          "exception": false,
          "start_time": "2021-04-10T09:41:45.352359",
          "status": "completed"
        },
        "tags": [],
        "id": "RtHXzjyCXx9s",
        "outputId": "d548b35a-fd02-4409-8541-84605044c7d4",
        "colab": {
          "base_uri": "https://localhost:8080/",
          "height": 121
        }
      },
      "outputs": [
        {
          "output_type": "display_data",
          "data": {
            "text/plain": [
              "479      2014-04-08\n",
              "1584     2014-03-16\n",
              "106540   2014-04-22\n",
              "68845    2014-04-08\n",
              "109450   2014-02-06\n",
              "Name: app_date, dtype: datetime64[ns]"
            ]
          },
          "metadata": {}
        }
      ],
      "source": [
        "# will work with 'app_date'\n",
        "# convert the date format to a convenient one to work with\n",
        "df.app_date = pd.to_datetime(df.app_date)\n",
        "display(df.app_date.sample(5))"
      ],
      "id": "RtHXzjyCXx9s"
    },
    {
      "cell_type": "code",
      "execution_count": 127,
      "metadata": {
        "execution": {
          "iopub.execute_input": "2021-04-10T09:41:45.635804Z",
          "iopub.status.busy": "2021-04-10T09:41:45.634760Z",
          "iopub.status.idle": "2021-04-10T09:41:45.641937Z",
          "shell.execute_reply": "2021-04-10T09:41:45.642575Z"
        },
        "papermill": {
          "duration": 0.083344,
          "end_time": "2021-04-10T09:41:45.642744",
          "exception": false,
          "start_time": "2021-04-10T09:41:45.559400",
          "status": "completed"
        },
        "tags": [],
        "id": "Vwel7abBXx9s",
        "outputId": "13d5b4a2-d831-4586-c087-dcf1c6d2c742",
        "colab": {
          "base_uri": "https://localhost:8080/"
        }
      },
      "outputs": [
        {
          "output_type": "stream",
          "name": "stdout",
          "text": [
            "Beginning: 2014-01-01 00:00:00 End: 2014-04-30 00:00:00\n"
          ]
        }
      ],
      "source": [
        "# Finding out the beginning and the end of the period of our dataset\n",
        "# Probably all data is 2014 only\n",
        "print(\"Beginning:\", df.app_date.min(), \"End:\", df.app_date.max())"
      ],
      "id": "Vwel7abBXx9s"
    },
    {
      "cell_type": "code",
      "execution_count": 128,
      "metadata": {
        "execution": {
          "iopub.execute_input": "2021-04-10T09:41:45.785656Z",
          "iopub.status.busy": "2021-04-10T09:41:45.784731Z",
          "iopub.status.idle": "2021-04-10T09:41:45.832484Z",
          "shell.execute_reply": "2021-04-10T09:41:45.831783Z"
        },
        "papermill": {
          "duration": 0.120943,
          "end_time": "2021-04-10T09:41:45.832629",
          "exception": false,
          "start_time": "2021-04-10T09:41:45.711686",
          "status": "completed"
        },
        "tags": [],
        "id": "nLZPBv_tXx9s"
      },
      "outputs": [],
      "source": [
        "# create simple new features based on 'date'\n",
        "df['app_day'] = df.app_date.dt.day\n",
        "df['app_month'] = df.app_date.dt.month\n",
        "df['app_year'] = df.app_date.dt.year\n",
        "df[\"app_weekday\"] = df[\"app_date\"].dt.weekday\n",
        "\n",
        "# also will create a feauture containing the number of days elapsed since the start of observations,\n",
        "# i.e. from January 1, 2014\n",
        "df[\"app_number_days\"] = (df[\"app_date\"] - df.app_date.min()).dt.days.astype('int')"
      ],
      "id": "nLZPBv_tXx9s"
    },
    {
      "cell_type": "code",
      "execution_count": 129,
      "metadata": {
        "execution": {
          "iopub.execute_input": "2021-04-10T09:41:45.985068Z",
          "iopub.status.busy": "2021-04-10T09:41:45.984413Z",
          "iopub.status.idle": "2021-04-10T09:41:45.991158Z",
          "shell.execute_reply": "2021-04-10T09:41:45.990417Z"
        },
        "papermill": {
          "duration": 0.087679,
          "end_time": "2021-04-10T09:41:45.991304",
          "exception": false,
          "start_time": "2021-04-10T09:41:45.903625",
          "status": "completed"
        },
        "tags": [],
        "id": "A2yOirHvXx9s",
        "outputId": "f3a34450-ee91-4c90-ec3a-53d3d958e422",
        "colab": {
          "base_uri": "https://localhost:8080/"
        }
      },
      "outputs": [
        {
          "output_type": "stream",
          "name": "stdout",
          "text": [
            "[2014]\n"
          ]
        }
      ],
      "source": [
        "# checking if it's only 2014\n",
        "print(df.app_year.unique())"
      ],
      "id": "A2yOirHvXx9s"
    },
    {
      "cell_type": "code",
      "execution_count": 130,
      "metadata": {
        "execution": {
          "iopub.execute_input": "2021-04-10T09:41:46.142125Z",
          "iopub.status.busy": "2021-04-10T09:41:46.141088Z",
          "iopub.status.idle": "2021-04-10T09:41:46.175429Z",
          "shell.execute_reply": "2021-04-10T09:41:46.175992Z"
        },
        "papermill": {
          "duration": 0.111339,
          "end_time": "2021-04-10T09:41:46.176201",
          "exception": false,
          "start_time": "2021-04-10T09:41:46.064862",
          "status": "completed"
        },
        "tags": [],
        "id": "2J_mnnYwXx9s"
      },
      "outputs": [],
      "source": [
        "# dropuing features app_year and app_date\n",
        "df.drop([\"app_date\", \"app_year\"], axis=1, inplace=True)"
      ],
      "id": "2J_mnnYwXx9s"
    },
    {
      "cell_type": "code",
      "execution_count": 131,
      "metadata": {
        "execution": {
          "iopub.execute_input": "2021-04-10T09:41:46.322072Z",
          "iopub.status.busy": "2021-04-10T09:41:46.321195Z",
          "iopub.status.idle": "2021-04-10T09:41:46.704116Z",
          "shell.execute_reply": "2021-04-10T09:41:46.703543Z"
        },
        "papermill": {
          "duration": 0.457497,
          "end_time": "2021-04-10T09:41:46.704251",
          "exception": false,
          "start_time": "2021-04-10T09:41:46.246754",
          "status": "completed"
        },
        "tags": [],
        "id": "4JE6b8qnXx9t",
        "outputId": "de0f3259-5094-4bce-d467-172d5399e778",
        "colab": {
          "base_uri": "https://localhost:8080/",
          "height": 344
        }
      },
      "outputs": [
        {
          "output_type": "execute_result",
          "data": {
            "text/plain": [
              "<matplotlib.axes._subplots.AxesSubplot at 0x7fd37f8dc490>"
            ]
          },
          "metadata": {},
          "execution_count": 131
        },
        {
          "output_type": "display_data",
          "data": {
            "text/plain": [
              "<Figure size 720x360 with 2 Axes>"
            ],
            "image/png": "[encoded data removed]"
          },
          "metadata": {
            "needs_background": "light"
          }
        }
      ],
      "source": [
        "# checking if there are any redundant features using the correlation matrix\n",
        "plt.figure(figsize=(10,5))\n",
        "sns.heatmap(df.iloc[:,19:].corr(), annot=True)\n",
        "# we can drop 'app_month' because it has a high correlation with 'app_number_days'"
      ],
      "id": "4JE6b8qnXx9t"
    },
    {
      "cell_type": "code",
      "execution_count": 132,
      "metadata": {
        "execution": {
          "iopub.execute_input": "2021-04-10T09:41:46.866193Z",
          "iopub.status.busy": "2021-04-10T09:41:46.865126Z",
          "iopub.status.idle": "2021-04-10T09:41:46.870077Z",
          "shell.execute_reply": "2021-04-10T09:41:46.869125Z"
        },
        "papermill": {
          "duration": 0.093806,
          "end_time": "2021-04-10T09:41:46.870258",
          "exception": false,
          "start_time": "2021-04-10T09:41:46.776452",
          "status": "completed"
        },
        "tags": [],
        "id": "D_6u7hlIXx9t"
      },
      "outputs": [],
      "source": [
        "df.drop([\"app_month\"], axis=1, inplace=True)"
      ],
      "id": "D_6u7hlIXx9t"
    },
    {
      "cell_type": "code",
      "execution_count": 133,
      "metadata": {
        "execution": {
          "iopub.execute_input": "2021-04-10T09:41:47.109709Z",
          "iopub.status.busy": "2021-04-10T09:41:47.097521Z",
          "iopub.status.idle": "2021-04-10T09:41:50.690492Z",
          "shell.execute_reply": "2021-04-10T09:41:50.689754Z"
        },
        "papermill": {
          "duration": 3.710464,
          "end_time": "2021-04-10T09:41:50.690641",
          "exception": false,
          "start_time": "2021-04-10T09:41:46.980177",
          "status": "completed"
        },
        "tags": [],
        "id": "yLPxwe55Xx9t",
        "outputId": "107dfffa-d387-4c6c-d8b5-d4cd50d23dd0",
        "colab": {
          "base_uri": "https://localhost:8080/",
          "height": 815
        }
      },
      "outputs": [
        {
          "output_type": "display_data",
          "data": {
            "text/plain": [
              "<Figure size 432x288 with 1 Axes>"
            ],
            "image/png": "[encoded data removed]"
          },
          "metadata": {
            "needs_background": "light"
          }
        },
        {
          "output_type": "display_data",
          "data": {
            "text/plain": [
              "<Figure size 432x288 with 1 Axes>"
            ],
            "image/png": "[encoded data removed]"
          },
          "metadata": {
            "needs_background": "light"
          }
        },
        {
          "output_type": "display_data",
          "data": {
            "text/plain": [
              "<Figure size 432x288 with 1 Axes>"
            ],
            "image/png": "[encoded data removed]"
          },
          "metadata": {
            "needs_background": "light"
          }
        }
      ],
      "source": [
        "# look at the data distribution, leave it like that for the model\n",
        "for i in df.iloc[:,19:].columns:\n",
        "    sns.countplot(x = df[i], data = df)\n",
        "    plt.show()"
      ],
      "id": "yLPxwe55Xx9t"
    },
    {
      "cell_type": "code",
      "execution_count": 134,
      "metadata": {
        "execution": {
          "iopub.execute_input": "2021-04-10T09:41:50.849631Z",
          "iopub.status.busy": "2021-04-10T09:41:50.848879Z",
          "iopub.status.idle": "2021-04-10T09:41:50.853665Z",
          "shell.execute_reply": "2021-04-10T09:41:50.853111Z"
        },
        "papermill": {
          "duration": 0.087433,
          "end_time": "2021-04-10T09:41:50.853816",
          "exception": false,
          "start_time": "2021-04-10T09:41:50.766383",
          "status": "completed"
        },
        "tags": [],
        "id": "2lg85TZFXx9t"
      },
      "outputs": [],
      "source": [
        "# for convenience, let's break the features into lists\n",
        "# numeric\n",
        "num_cols = [\"age\", \"decline_app_cnt\", \"score_bki\",\n",
        "            \"bki_request_cnt\", \"income\", \"app_day\", \"app_weekday\", \"app_number_days\"]\n",
        "\n",
        "# binary, the number of unique values which is equal two\n",
        "bin_cols = [\"sex\", \"car\", \"car_type\", \"good_work\", \"foreign_passport\"]\n",
        "\n",
        "# categorical\n",
        "cat_cols = [\"education\", \"region_rating\",\n",
        "            \"home_address\", \"work_address\", \"sna\", \"first_time\"]\n",
        "# client_id is dropped, it has unique values \n",
        "# default and train are also dropped"
      ],
      "id": "2lg85TZFXx9t"
    },
    {
      "cell_type": "markdown",
      "metadata": {
        "papermill": {
          "duration": 0.07611,
          "end_time": "2021-04-10T09:41:51.006233",
          "exception": false,
          "start_time": "2021-04-10T09:41:50.930123",
          "status": "completed"
        },
        "tags": [],
        "id": "spj9MCOFXx9t"
      },
      "source": [
        "**Работа с числовыми признаками**"
      ],
      "id": "spj9MCOFXx9t"
    },
    {
      "cell_type": "code",
      "execution_count": 135,
      "metadata": {
        "execution": {
          "iopub.execute_input": "2021-04-10T09:41:51.789296Z",
          "iopub.status.busy": "2021-04-10T09:41:51.788345Z",
          "iopub.status.idle": "2021-04-10T09:41:54.364680Z",
          "shell.execute_reply": "2021-04-10T09:41:54.363975Z"
        },
        "papermill": {
          "duration": 2.698706,
          "end_time": "2021-04-10T09:41:54.364828",
          "exception": false,
          "start_time": "2021-04-10T09:41:51.666122",
          "status": "completed"
        },
        "tags": [],
        "id": "C33E7r6OXx9u",
        "outputId": "fed76d02-381d-4c04-c7a6-199c03df81d1",
        "colab": {
          "base_uri": "https://localhost:8080/",
          "height": 1000
        }
      },
      "outputs": [
        {
          "output_type": "display_data",
          "data": {
            "text/plain": [
              "<Figure size 432x288 with 1 Axes>"
            ],
            "image/png": "[encoded data removed]"
          },
          "metadata": {
            "needs_background": "light"
          }
        },
        {
          "output_type": "display_data",
          "data": {
            "text/plain": [
              "<Figure size 432x288 with 1 Axes>"
            ],
            "image/png": "[encoded data removed]"
          },
          "metadata": {
            "needs_background": "light"
          }
        },
        {
          "output_type": "display_data",
          "data": {
            "text/plain": [
              "<Figure size 432x288 with 1 Axes>"
            ],
            "image/png": "[encoded data removed]"
          },
          "metadata": {
            "needs_background": "light"
          }
        },
        {
          "output_type": "display_data",
          "data": {
            "text/plain": [
              "<Figure size 432x288 with 1 Axes>"
            ],
            "image/png": "[encoded data removed]"
          },
          "metadata": {
            "needs_background": "light"
          }
        },
        {
          "output_type": "display_data",
          "data": {
            "text/plain": [
              "<Figure size 432x288 with 1 Axes>"
            ],
            "image/png": "[encoded data removed]"
          },
          "metadata": {
            "needs_background": "light"
          }
        },
        {
          "output_type": "display_data",
          "data": {
            "text/plain": [
              "<Figure size 432x288 with 1 Axes>"
            ],
            "image/png": "[encoded data removed]"
          },
          "metadata": {
            "needs_background": "light"
          }
        },
        {
          "output_type": "display_data",
          "data": {
            "text/plain": [
              "<Figure size 432x288 with 1 Axes>"
            ],
            "image/png": "[encoded data removed]"
          },
          "metadata": {
            "needs_background": "light"
          }
        },
        {
          "output_type": "display_data",
          "data": {
            "text/plain": [
              "<Figure size 432x288 with 1 Axes>"
            ],
            "image/png": "[encoded data removed]"
          },
          "metadata": {
            "needs_background": "light"
          }
        }
      ],
      "source": [
        "# analyses of the distribution of numerical variables using visualization\n",
        "for col in num_cols:\n",
        "    plt.figure()\n",
        "    plt.title(f\"Distribution {col}\")\n",
        "    sns.distplot(df[col], kde=False)\n",
        "# features age, decline_app_cnt, bki_request_cnt and income worth taking a logarithm"
      ],
      "id": "C33E7r6OXx9u"
    },
    {
      "cell_type": "code",
      "execution_count": 136,
      "metadata": {
        "execution": {
          "iopub.execute_input": "2021-04-10T09:41:54.823977Z",
          "iopub.status.busy": "2021-04-10T09:41:54.820881Z",
          "iopub.status.idle": "2021-04-10T09:41:56.332928Z",
          "shell.execute_reply": "2021-04-10T09:41:56.332151Z"
        },
        "papermill": {
          "duration": 1.662948,
          "end_time": "2021-04-10T09:41:56.333174",
          "exception": false,
          "start_time": "2021-04-10T09:41:54.670226",
          "status": "completed"
        },
        "tags": [],
        "id": "JYS25gX5Xx9u",
        "outputId": "d4fd23b7-09c4-4e22-8565-0af90b599c78",
        "colab": {
          "base_uri": "https://localhost:8080/",
          "height": 1000
        }
      },
      "outputs": [
        {
          "output_type": "display_data",
          "data": {
            "text/plain": [
              "<Figure size 432x288 with 1 Axes>"
            ],
            "image/png": "[encoded data removed]"
          },
          "metadata": {
            "needs_background": "light"
          }
        },
        {
          "output_type": "display_data",
          "data": {
            "text/plain": [
              "<Figure size 432x288 with 1 Axes>"
            ],
            "image/png": "[encoded data removed]"
          },
          "metadata": {
            "needs_background": "light"
          }
        },
        {
          "output_type": "display_data",
          "data": {
            "text/plain": [
              "<Figure size 432x288 with 1 Axes>"
            ],
            "image/png": "[encoded data removed]"
          },
          "metadata": {
            "needs_background": "light"
          }
        },
        {
          "output_type": "display_data",
          "data": {
            "text/plain": [
              "<Figure size 432x288 with 1 Axes>"
            ],
            "image/png": "[encoded data removed]"
          },
          "metadata": {
            "needs_background": "light"
          }
        },
        {
          "output_type": "display_data",
          "data": {
            "text/plain": [
              "<Figure size 432x288 with 1 Axes>"
            ],
            "image/png": "[encoded data removed]"
          },
          "metadata": {
            "needs_background": "light"
          }
        },
        {
          "output_type": "display_data",
          "data": {
            "text/plain": [
              "<Figure size 432x288 with 1 Axes>"
            ],
            "image/png": "[encoded data removed]"
          },
          "metadata": {
            "needs_background": "light"
          }
        },
        {
          "output_type": "display_data",
          "data": {
            "text/plain": [
              "<Figure size 432x288 with 1 Axes>"
            ],
            "image/png": "[encoded data removed]"
          },
          "metadata": {
            "needs_background": "light"
          }
        },
        {
          "output_type": "display_data",
          "data": {
            "text/plain": [
              "<Figure size 432x288 with 1 Axes>"
            ],
            "image/png": "[encoded data removed]"
          },
          "metadata": {
            "needs_background": "light"
          }
        }
      ],
      "source": [
        "# look at outliers with boxplots\n",
        "# we should pay attention to 'decline_app_cnt', 'score_bki', 'bki_request_cnt'\n",
        "# in 'income' column, these are probably no outliers just good incomes\n",
        "for col in num_cols:\n",
        "    plt.title(f\"Distribution {col}\")\n",
        "    sns.boxplot(x='default',y = col,data=df)\n",
        "    plt.show()"
      ],
      "id": "JYS25gX5Xx9u"
    },
    {
      "cell_type": "code",
      "execution_count": 137,
      "metadata": {
        "execution": {
          "iopub.execute_input": "2021-04-10T09:41:56.610331Z",
          "iopub.status.busy": "2021-04-10T09:41:56.609453Z",
          "iopub.status.idle": "2021-04-10T09:42:15.644457Z",
          "shell.execute_reply": "2021-04-10T09:42:15.643690Z"
        },
        "papermill": {
          "duration": 19.177368,
          "end_time": "2021-04-10T09:42:15.644647",
          "exception": false,
          "start_time": "2021-04-10T09:41:56.467279",
          "status": "completed"
        },
        "tags": [],
        "id": "Up1YXrNdXx9u",
        "outputId": "644add74-fa36-49c1-dff8-c6d6d38be002",
        "colab": {
          "base_uri": "https://localhost:8080/"
        }
      },
      "outputs": [
        {
          "output_type": "stream",
          "name": "stdout",
          "text": [
            "Total outliers: decline_app_cnt    18677\n",
            "dtype: int64 \n",
            "None\n",
            "Total outliers: income    7000\n",
            "dtype: int64 \n",
            "None\n",
            "Total outliers: bki_request_cnt    2636\n",
            "dtype: int64 \n",
            "None\n"
          ]
        }
      ],
      "source": [
        "# find out the number of outliers before processing\n",
        "print(get_outliers(['decline_app_cnt']))\n",
        "print(get_outliers(['income']))\n",
        "print(get_outliers(['bki_request_cnt']))"
      ],
      "id": "Up1YXrNdXx9u"
    },
    {
      "cell_type": "code",
      "execution_count": 138,
      "metadata": {
        "execution": {
          "iopub.execute_input": "2021-04-10T09:42:15.849349Z",
          "iopub.status.busy": "2021-04-10T09:42:15.844101Z",
          "iopub.status.idle": "2021-04-10T09:42:16.599980Z",
          "shell.execute_reply": "2021-04-10T09:42:16.599438Z"
        },
        "papermill": {
          "duration": 0.862217,
          "end_time": "2021-04-10T09:42:16.600150",
          "exception": false,
          "start_time": "2021-04-10T09:42:15.737933",
          "status": "completed"
        },
        "tags": [],
        "id": "EcRSR0hbXx9u"
      },
      "outputs": [],
      "source": [
        "# taking logarithm\n",
        "df['income'] = df.income.apply(log_values)\n",
        "df['age'] = df.age.apply(log_values)\n",
        "df['bki_request_cnt'] = df.bki_request_cnt.apply(log_values)"
      ],
      "id": "EcRSR0hbXx9u"
    },
    {
      "cell_type": "code",
      "execution_count": 139,
      "metadata": {
        "execution": {
          "iopub.execute_input": "2021-04-10T09:42:16.791302Z",
          "iopub.status.busy": "2021-04-10T09:42:16.790343Z",
          "iopub.status.idle": "2021-04-10T09:42:19.127534Z",
          "shell.execute_reply": "2021-04-10T09:42:19.126672Z"
        },
        "papermill": {
          "duration": 2.437379,
          "end_time": "2021-04-10T09:42:19.127710",
          "exception": false,
          "start_time": "2021-04-10T09:42:16.690331",
          "status": "completed"
        },
        "tags": [],
        "id": "1DA4LOZ-Xx9u",
        "outputId": "f98a10ba-b627-454f-ad66-0248e2edfdc9",
        "colab": {
          "base_uri": "https://localhost:8080/",
          "height": 1000
        }
      },
      "outputs": [
        {
          "output_type": "execute_result",
          "data": {
            "text/plain": [
              "array([[<matplotlib.axes._subplots.AxesSubplot object at 0x7fd38099aa90>,\n",
              "        <matplotlib.axes._subplots.AxesSubplot object at 0x7fd37f2cae90>,\n",
              "        <matplotlib.axes._subplots.AxesSubplot object at 0x7fd380863bd0>],\n",
              "       [<matplotlib.axes._subplots.AxesSubplot object at 0x7fd38083c450>,\n",
              "        <matplotlib.axes._subplots.AxesSubplot object at 0x7fd3804a3310>,\n",
              "        <matplotlib.axes._subplots.AxesSubplot object at 0x7fd38097db50>],\n",
              "       [<matplotlib.axes._subplots.AxesSubplot object at 0x7fd380477a90>,\n",
              "        <matplotlib.axes._subplots.AxesSubplot object at 0x7fd380914550>,\n",
              "        <matplotlib.axes._subplots.AxesSubplot object at 0x7fd380914410>]],\n",
              "      dtype=object)"
            ]
          },
          "metadata": {},
          "execution_count": 139
        },
        {
          "output_type": "display_data",
          "data": {
            "text/plain": [
              "<Figure size 1080x1080 with 9 Axes>"
            ],
            "image/png": "[encoded data removed]"
          },
          "metadata": {
            "needs_background": "light"
          }
        }
      ],
      "source": [
        "# destribution after taking the logarithm\n",
        "df[num_cols].hist(\n",
        "    figsize=(15, 15), bins=50)"
      ],
      "id": "1DA4LOZ-Xx9u"
    },
    {
      "cell_type": "code",
      "execution_count": 140,
      "metadata": {
        "execution": {
          "iopub.execute_input": "2021-04-10T09:42:19.415928Z",
          "iopub.status.busy": "2021-04-10T09:42:19.414788Z",
          "iopub.status.idle": "2021-04-10T09:42:35.080970Z",
          "shell.execute_reply": "2021-04-10T09:42:35.081680Z"
        },
        "papermill": {
          "duration": 15.814558,
          "end_time": "2021-04-10T09:42:35.081963",
          "exception": false,
          "start_time": "2021-04-10T09:42:19.267405",
          "status": "completed"
        },
        "tags": [],
        "id": "IWSJfp8tXx9u",
        "outputId": "cb941edf-abb0-46dc-b601-ca7f0d3cbabf",
        "colab": {
          "base_uri": "https://localhost:8080/"
        }
      },
      "outputs": [
        {
          "output_type": "stream",
          "name": "stdout",
          "text": [
            "Total outliers: decline_app_cnt    18677\n",
            "dtype: int64 \n",
            "None\n",
            "Total outliers: income    2609\n",
            "dtype: int64 \n",
            "None\n",
            "Total outliers: bki_request_cnt    15\n",
            "dtype: int64 \n",
            "None\n"
          ]
        }
      ],
      "source": [
        "# find out the number of missing data after the processing\n",
        "print(get_outliers(['decline_app_cnt']))\n",
        "print(get_outliers(['income']))\n",
        "print(get_outliers(['bki_request_cnt']))"
      ],
      "id": "IWSJfp8tXx9u"
    },
    {
      "cell_type": "markdown",
      "metadata": {
        "papermill": {
          "duration": 0.142925,
          "end_time": "2021-04-10T09:42:35.371707",
          "exception": false,
          "start_time": "2021-04-10T09:42:35.228782",
          "status": "completed"
        },
        "tags": [],
        "id": "Sw9ZcHZFXx9v"
      },
      "source": [
        "We have successfully taken the logarithm of the required features, which also had a positive effect on the number of outliers in these features. \n",
        "Conclusions:\n",
        "* Defaulted clients are younger on average\n",
        "* Defaulted clients have a large number of canceled requests on average\n",
        "* Default clients on average have more requests to BKI\n",
        "* Defaulted customers have lower income on average\n",
        "\n",
        "Дальнейшие действия:\n",
        "* We will not do anything with outliers in the 'income' and 'score_bki' features (because these are probably useful outliers)\n",
        "* Let's move 'decline_app_cnt' into a categorical feature and get rid of outliers at the same time"
      ],
      "id": "Sw9ZcHZFXx9v"
    },
    {
      "cell_type": "code",
      "execution_count": 141,
      "metadata": {
        "execution": {
          "iopub.execute_input": "2021-04-10T09:42:35.662649Z",
          "iopub.status.busy": "2021-04-10T09:42:35.661511Z",
          "iopub.status.idle": "2021-04-10T09:42:35.671765Z",
          "shell.execute_reply": "2021-04-10T09:42:35.672313Z"
        },
        "papermill": {
          "duration": 0.158361,
          "end_time": "2021-04-10T09:42:35.672493",
          "exception": false,
          "start_time": "2021-04-10T09:42:35.514132",
          "status": "completed"
        },
        "tags": [],
        "id": "lU44rrvRXx9v",
        "outputId": "e2e4e9de-29c3-482b-96b2-dde49e40da9b",
        "colab": {
          "base_uri": "https://localhost:8080/"
        }
      },
      "outputs": [
        {
          "output_type": "execute_result",
          "data": {
            "text/plain": [
              "0     91471\n",
              "1     12500\n",
              "2      3622\n",
              "3      1365\n",
              "4       606\n",
              "5       255\n",
              "6       156\n",
              "7        58\n",
              "8        37\n",
              "9        29\n",
              "10       16\n",
              "11       10\n",
              "12        5\n",
              "13        4\n",
              "14        3\n",
              "16        3\n",
              "24        1\n",
              "30        1\n",
              "21        1\n",
              "19        1\n",
              "15        1\n",
              "33        1\n",
              "22        1\n",
              "20        1\n",
              "Name: decline_app_cnt, dtype: int64"
            ]
          },
          "metadata": {},
          "execution_count": 141
        }
      ],
      "source": [
        "#let's look at the distribution of 'decline_app_cnt'\n",
        "df.decline_app_cnt.value_counts()\n",
        "# most of the values ​​takes 0 (which means there were no refusals before)"
      ],
      "id": "lU44rrvRXx9v"
    },
    {
      "cell_type": "code",
      "execution_count": 142,
      "metadata": {
        "execution": {
          "iopub.execute_input": "2021-04-10T09:42:35.869028Z",
          "iopub.status.busy": "2021-04-10T09:42:35.868357Z",
          "iopub.status.idle": "2021-04-10T09:42:35.922363Z",
          "shell.execute_reply": "2021-04-10T09:42:35.922893Z"
        },
        "papermill": {
          "duration": 0.154453,
          "end_time": "2021-04-10T09:42:35.923108",
          "exception": false,
          "start_time": "2021-04-10T09:42:35.768655",
          "status": "completed"
        },
        "tags": [],
        "id": "XD-FRzBiXx9v"
      },
      "outputs": [],
      "source": [
        "# make the feature categorical\n",
        "# all values of past refusals greater than 3 are equal 3\n",
        "df.decline_app_cnt = df.decline_app_cnt.apply(lambda x: x if x < 3 else 3)"
      ],
      "id": "XD-FRzBiXx9v"
    },
    {
      "cell_type": "code",
      "execution_count": 143,
      "metadata": {
        "execution": {
          "iopub.execute_input": "2021-04-10T09:42:36.122918Z",
          "iopub.status.busy": "2021-04-10T09:42:36.122093Z",
          "iopub.status.idle": "2021-04-10T09:42:36.126828Z",
          "shell.execute_reply": "2021-04-10T09:42:36.127392Z"
        },
        "papermill": {
          "duration": 0.107013,
          "end_time": "2021-04-10T09:42:36.127576",
          "exception": false,
          "start_time": "2021-04-10T09:42:36.020563",
          "status": "completed"
        },
        "tags": [],
        "id": "1bhOlQ9vXx9v"
      },
      "outputs": [],
      "source": [
        "# making changes\n",
        "num_cols.remove(\"decline_app_cnt\")\n",
        "cat_cols.append('decline_app_cnt')"
      ],
      "id": "1bhOlQ9vXx9v"
    },
    {
      "cell_type": "code",
      "execution_count": 144,
      "metadata": {
        "execution": {
          "iopub.execute_input": "2021-04-10T09:42:36.324521Z",
          "iopub.status.busy": "2021-04-10T09:42:36.323715Z",
          "iopub.status.idle": "2021-04-10T09:42:36.563134Z",
          "shell.execute_reply": "2021-04-10T09:42:36.562438Z"
        },
        "papermill": {
          "duration": 0.339157,
          "end_time": "2021-04-10T09:42:36.563281",
          "exception": false,
          "start_time": "2021-04-10T09:42:36.224124",
          "status": "completed"
        },
        "tags": [],
        "id": "iWQMfxAbXx9v",
        "outputId": "9376f43c-9600-4cdc-a64f-84c3a9b4f9f1",
        "colab": {
          "base_uri": "https://localhost:8080/",
          "height": 286
        }
      },
      "outputs": [
        {
          "output_type": "execute_result",
          "data": {
            "text/plain": [
              "<matplotlib.axes._subplots.AxesSubplot at 0x7fd380225610>"
            ]
          },
          "metadata": {},
          "execution_count": 144
        },
        {
          "output_type": "display_data",
          "data": {
            "text/plain": [
              "<Figure size 432x288 with 1 Axes>"
            ],
            "image/png": "[encoded data removed]"
          },
          "metadata": {
            "needs_background": "light"
          }
        }
      ],
      "source": [
        "# check the significance of numeric variables\n",
        "# use one-way analysis of variance (ANOVA) to evaluate:\n",
        "temp_df = df[df['train']==1]\n",
        "imp_num = Series(f_classif(temp_df[num_cols], temp_df['default'])[0], index=num_cols)\n",
        "imp_num.sort_values(inplace=True)\n",
        "imp_num.plot(kind='barh')"
      ],
      "id": "iWQMfxAbXx9v"
    },
    {
      "cell_type": "markdown",
      "metadata": {
        "papermill": {
          "duration": 0.097163,
          "end_time": "2021-04-10T09:42:36.758117",
          "exception": false,
          "start_time": "2021-04-10T09:42:36.660954",
          "status": "completed"
        },
        "tags": [],
        "id": "x-bvhwtfXx9v"
      },
      "source": [
        "Conclusions: the most significant feature is 'score_bki' (it is the scoring score according to the data from the BKI, it may be better to delete the 'app_day' and 'app_weekday' features, we will decide this after further research)"
      ],
      "id": "x-bvhwtfXx9v"
    },
    {
      "cell_type": "code",
      "execution_count": 145,
      "metadata": {
        "execution": {
          "iopub.execute_input": "2021-04-10T09:42:36.967681Z",
          "iopub.status.busy": "2021-04-10T09:42:36.966755Z",
          "iopub.status.idle": "2021-04-10T09:42:37.739658Z",
          "shell.execute_reply": "2021-04-10T09:42:37.740344Z"
        },
        "papermill": {
          "duration": 0.88307,
          "end_time": "2021-04-10T09:42:37.740544",
          "exception": false,
          "start_time": "2021-04-10T09:42:36.857474",
          "status": "completed"
        },
        "tags": [],
        "id": "9jWuD9BxXx9w",
        "outputId": "5730ca4b-a686-4376-8afc-247d1630f985",
        "colab": {
          "base_uri": "https://localhost:8080/",
          "height": 417
        }
      },
      "outputs": [
        {
          "output_type": "execute_result",
          "data": {
            "text/plain": [
              "<matplotlib.axes._subplots.AxesSubplot at 0x7fd3802f6f10>"
            ]
          },
          "metadata": {},
          "execution_count": 145
        },
        {
          "output_type": "display_data",
          "data": {
            "text/plain": [
              "<Figure size 720x360 with 2 Axes>"
            ],
            "image/png": "[encoded data removed]"
          },
          "metadata": {
            "needs_background": "light"
          }
        }
      ],
      "source": [
        "# build a correlation matrix for numerical features\n",
        "plt.figure(figsize=(10,5))\n",
        "sns.heatmap(df[num_cols+['default']].corr(), annot=True)\n",
        "# matrix confirms previous findings\n",
        "# in general, the data is suitable for inclusion into the model"
      ],
      "id": "9jWuD9BxXx9w"
    },
    {
      "cell_type": "markdown",
      "metadata": {
        "papermill": {
          "duration": 0.103939,
          "end_time": "2021-04-10T09:42:37.947931",
          "exception": false,
          "start_time": "2021-04-10T09:42:37.843992",
          "status": "completed"
        },
        "tags": [],
        "id": "u4Us9Cd4Xx9w"
      },
      "source": [
        "**Работа с бинарными признаками**"
      ],
      "id": "u4Us9Cd4Xx9w"
    },
    {
      "cell_type": "code",
      "execution_count": 146,
      "metadata": {
        "execution": {
          "iopub.execute_input": "2021-04-10T09:42:38.161747Z",
          "iopub.status.busy": "2021-04-10T09:42:38.161076Z",
          "iopub.status.idle": "2021-04-10T09:42:38.275487Z",
          "shell.execute_reply": "2021-04-10T09:42:38.274580Z"
        },
        "papermill": {
          "duration": 0.226639,
          "end_time": "2021-04-10T09:42:38.275673",
          "exception": false,
          "start_time": "2021-04-10T09:42:38.049034",
          "status": "completed"
        },
        "tags": [],
        "id": "A2zhGlOnXx9w",
        "outputId": "621df1b7-9d6a-4a91-f813-5cfb1f58b98a",
        "colab": {
          "base_uri": "https://localhost:8080/"
        }
      },
      "outputs": [
        {
          "output_type": "stream",
          "name": "stdout",
          "text": [
            "{0: 'F', 1: 'M'}\n",
            "{0: 'N', 1: 'Y'}\n",
            "{0: 'N', 1: 'Y'}\n",
            "{0: 0, 1: 1}\n",
            "{0: 'N', 1: 'Y'}\n"
          ]
        }
      ],
      "source": [
        "# conversion with LabelEncoder()\n",
        "label_encoder = LabelEncoder()\n",
        "# before encoding, fix the labeling of values\n",
        "for i in bin_cols:\n",
        "    mapped = pd.Series(label_encoder.fit_transform(df[i]))\n",
        "    print(dict(enumerate(label_encoder.classes_)))"
      ],
      "id": "A2zhGlOnXx9w"
    },
    {
      "cell_type": "code",
      "execution_count": 147,
      "metadata": {
        "execution": {
          "iopub.execute_input": "2021-04-10T09:42:38.594192Z",
          "iopub.status.busy": "2021-04-10T09:42:38.583594Z",
          "iopub.status.idle": "2021-04-10T09:42:38.727458Z",
          "shell.execute_reply": "2021-04-10T09:42:38.726728Z"
        },
        "papermill": {
          "duration": 0.302379,
          "end_time": "2021-04-10T09:42:38.727607",
          "exception": false,
          "start_time": "2021-04-10T09:42:38.425228",
          "status": "completed"
        },
        "tags": [],
        "id": "KCFh6AZoXx9w",
        "outputId": "e160100d-cfe2-4b6b-ab72-cc78fc0ac442",
        "colab": {
          "base_uri": "https://localhost:8080/",
          "height": 270
        }
      },
      "outputs": [
        {
          "output_type": "execute_result",
          "data": {
            "text/plain": [
              "   client_id education  sex       age  car  car_type  decline_app_cnt  \\\n",
              "0      25905       SCH    1  4.143135    1         1                0   \n",
              "1      63161       SCH    0  4.094345    0         0                0   \n",
              "2      25887       SCH    1  3.258097    1         0                2   \n",
              "3      16222       SCH    0  3.988984    0         0                0   \n",
              "4     101655       GRD    1  3.891820    0         0                0   \n",
              "\n",
              "   good_work  score_bki  bki_request_cnt  region_rating  home_address  \\\n",
              "0          0  -2.008753         0.693147             50             1   \n",
              "1          0  -1.532276         1.386294             50             2   \n",
              "2          0  -1.408142         0.693147             80             1   \n",
              "3          0  -2.057471         1.098612             50             2   \n",
              "4          1  -1.244723         0.693147             60             2   \n",
              "\n",
              "   work_address     income  sna  first_time  foreign_passport  default  train  \\\n",
              "0             2   9.798183    4           1                 0      0.0      1   \n",
              "1             3   9.852247    4           1                 0      0.0      1   \n",
              "2             2  10.308986    1           4                 1      0.0      1   \n",
              "3             3   9.210440    1           3                 0      0.0      1   \n",
              "4             3  10.308986    1           4                 1      0.0      1   \n",
              "\n",
              "   app_day  app_weekday  app_number_days  \n",
              "0        1            5               31  \n",
              "1       12            2               70  \n",
              "2        1            5               31  \n",
              "3       23            3               22  \n",
              "4       18            4              107  "
            ],
            "text/html": [
              "\n",
              "  <div id=\"df-61b841dd-5c0f-4214-81e8-6c7b2b9cb7cb\">\n",
              "    <div class=\"colab-df-container\">\n",
              "      <div>\n",
              "<style scoped>\n",
              "    .dataframe tbody tr th:only-of-type {\n",
              "        vertical-align: middle;\n",
              "    }\n",
              "\n",
              "    .dataframe tbody tr th {\n",
              "        vertical-align: top;\n",
              "    }\n",
              "\n",
              "    .dataframe thead th {\n",
              "        text-align: right;\n",
              "    }\n",
              "</style>\n",
              "<table border=\"1\" class=\"dataframe\">\n",
              "  <thead>\n",
              "    <tr style=\"text-align: right;\">\n",
              "      <th></th>\n",
              "      <th>client_id</th>\n",
              "      <th>education</th>\n",
              "      <th>sex</th>\n",
              "      <th>age</th>\n",
              "      <th>car</th>\n",
              "      <th>car_type</th>\n",
              "      <th>decline_app_cnt</th>\n",
              "      <th>good_work</th>\n",
              "      <th>score_bki</th>\n",
              "      <th>bki_request_cnt</th>\n",
              "      <th>region_rating</th>\n",
              "      <th>home_address</th>\n",
              "      <th>work_address</th>\n",
              "      <th>income</th>\n",
              "      <th>sna</th>\n",
              "      <th>first_time</th>\n",
              "      <th>foreign_passport</th>\n",
              "      <th>default</th>\n",
              "      <th>train</th>\n",
              "      <th>app_day</th>\n",
              "      <th>app_weekday</th>\n",
              "      <th>app_number_days</th>\n",
              "    </tr>\n",
              "  </thead>\n",
              "  <tbody>\n",
              "    <tr>\n",
              "      <th>0</th>\n",
              "      <td>25905</td>\n",
              "      <td>SCH</td>\n",
              "      <td>1</td>\n",
              "      <td>4.143135</td>\n",
              "      <td>1</td>\n",
              "      <td>1</td>\n",
              "      <td>0</td>\n",
              "      <td>0</td>\n",
              "      <td>-2.008753</td>\n",
              "      <td>0.693147</td>\n",
              "      <td>50</td>\n",
              "      <td>1</td>\n",
              "      <td>2</td>\n",
              "      <td>9.798183</td>\n",
              "      <td>4</td>\n",
              "      <td>1</td>\n",
              "      <td>0</td>\n",
              "      <td>0.0</td>\n",
              "      <td>1</td>\n",
              "      <td>1</td>\n",
              "      <td>5</td>\n",
              "      <td>31</td>\n",
              "    </tr>\n",
              "    <tr>\n",
              "      <th>1</th>\n",
              "      <td>63161</td>\n",
              "      <td>SCH</td>\n",
              "      <td>0</td>\n",
              "      <td>4.094345</td>\n",
              "      <td>0</td>\n",
              "      <td>0</td>\n",
              "      <td>0</td>\n",
              "      <td>0</td>\n",
              "      <td>-1.532276</td>\n",
              "      <td>1.386294</td>\n",
              "      <td>50</td>\n",
              "      <td>2</td>\n",
              "      <td>3</td>\n",
              "      <td>9.852247</td>\n",
              "      <td>4</td>\n",
              "      <td>1</td>\n",
              "      <td>0</td>\n",
              "      <td>0.0</td>\n",
              "      <td>1</td>\n",
              "      <td>12</td>\n",
              "      <td>2</td>\n",
              "      <td>70</td>\n",
              "    </tr>\n",
              "    <tr>\n",
              "      <th>2</th>\n",
              "      <td>25887</td>\n",
              "      <td>SCH</td>\n",
              "      <td>1</td>\n",
              "      <td>3.258097</td>\n",
              "      <td>1</td>\n",
              "      <td>0</td>\n",
              "      <td>2</td>\n",
              "      <td>0</td>\n",
              "      <td>-1.408142</td>\n",
              "      <td>0.693147</td>\n",
              "      <td>80</td>\n",
              "      <td>1</td>\n",
              "      <td>2</td>\n",
              "      <td>10.308986</td>\n",
              "      <td>1</td>\n",
              "      <td>4</td>\n",
              "      <td>1</td>\n",
              "      <td>0.0</td>\n",
              "      <td>1</td>\n",
              "      <td>1</td>\n",
              "      <td>5</td>\n",
              "      <td>31</td>\n",
              "    </tr>\n",
              "    <tr>\n",
              "      <th>3</th>\n",
              "      <td>16222</td>\n",
              "      <td>SCH</td>\n",
              "      <td>0</td>\n",
              "      <td>3.988984</td>\n",
              "      <td>0</td>\n",
              "      <td>0</td>\n",
              "      <td>0</td>\n",
              "      <td>0</td>\n",
              "      <td>-2.057471</td>\n",
              "      <td>1.098612</td>\n",
              "      <td>50</td>\n",
              "      <td>2</td>\n",
              "      <td>3</td>\n",
              "      <td>9.210440</td>\n",
              "      <td>1</td>\n",
              "      <td>3</td>\n",
              "      <td>0</td>\n",
              "      <td>0.0</td>\n",
              "      <td>1</td>\n",
              "      <td>23</td>\n",
              "      <td>3</td>\n",
              "      <td>22</td>\n",
              "    </tr>\n",
              "    <tr>\n",
              "      <th>4</th>\n",
              "      <td>101655</td>\n",
              "      <td>GRD</td>\n",
              "      <td>1</td>\n",
              "      <td>3.891820</td>\n",
              "      <td>0</td>\n",
              "      <td>0</td>\n",
              "      <td>0</td>\n",
              "      <td>1</td>\n",
              "      <td>-1.244723</td>\n",
              "      <td>0.693147</td>\n",
              "      <td>60</td>\n",
              "      <td>2</td>\n",
              "      <td>3</td>\n",
              "      <td>10.308986</td>\n",
              "      <td>1</td>\n",
              "      <td>4</td>\n",
              "      <td>1</td>\n",
              "      <td>0.0</td>\n",
              "      <td>1</td>\n",
              "      <td>18</td>\n",
              "      <td>4</td>\n",
              "      <td>107</td>\n",
              "    </tr>\n",
              "  </tbody>\n",
              "</table>\n",
              "</div>\n",
              "      <button class=\"colab-df-convert\" onclick=\"convertToInteractive('df-61b841dd-5c0f-4214-81e8-6c7b2b9cb7cb')\"\n",
              "              title=\"Convert this dataframe to an interactive table.\"\n",
              "              style=\"display:none;\">\n",
              "        \n",
              "  <svg xmlns=\"http://www.w3.org/2000/svg\" height=\"24px\"viewBox=\"0 0 24 24\"\n",
              "       width=\"24px\">\n",
              "    <path d=\"M0 0h24v24H0V0z\" fill=\"none\"/>\n",
              "    <path d=\"M18.56 5.44l.94 2.06.94-2.06 2.06-.94-2.06-.94-.94-2.06-.94 2.06-2.06.94zm-11 1L8.5 8.5l.94-2.06 2.06-.94-2.06-.94L8.5 2.5l-.94 2.06-2.06.94zm10 10l.94 2.06.94-2.06 2.06-.94-2.06-.94-.94-2.06-.94 2.06-2.06.94z\"/><path d=\"M17.41 7.96l-1.37-1.37c-.4-.4-.92-.59-1.43-.59-.52 0-1.04.2-1.43.59L10.3 9.45l-7.72 7.72c-.78.78-.78 2.05 0 2.83L4 21.41c.39.39.9.59 1.41.59.51 0 1.02-.2 1.41-.59l7.78-7.78 2.81-2.81c.8-.78.8-2.07 0-2.86zM5.41 20L4 18.59l7.72-7.72 1.47 1.35L5.41 20z\"/>\n",
              "  </svg>\n",
              "      </button>\n",
              "      \n",
              "  <style>\n",
              "    .colab-df-container {\n",
              "      display:flex;\n",
              "      flex-wrap:wrap;\n",
              "      gap: 12px;\n",
              "    }\n",
              "\n",
              "    .colab-df-convert {\n",
              "      background-color: #E8F0FE;\n",
              "      border: none;\n",
              "      border-radius: 50%;\n",
              "      cursor: pointer;\n",
              "      display: none;\n",
              "      fill: #1967D2;\n",
              "      height: 32px;\n",
              "      padding: 0 0 0 0;\n",
              "      width: 32px;\n",
              "    }\n",
              "\n",
              "    .colab-df-convert:hover {\n",
              "      background-color: #E2EBFA;\n",
              "      box-shadow: 0px 1px 2px rgba(60, 64, 67, 0.3), 0px 1px 3px 1px rgba(60, 64, 67, 0.15);\n",
              "      fill: #174EA6;\n",
              "    }\n",
              "\n",
              "    [theme=dark] .colab-df-convert {\n",
              "      background-color: #3B4455;\n",
              "      fill: #D2E3FC;\n",
              "    }\n",
              "\n",
              "    [theme=dark] .colab-df-convert:hover {\n",
              "      background-color: #434B5C;\n",
              "      box-shadow: 0px 1px 3px 1px rgba(0, 0, 0, 0.15);\n",
              "      filter: drop-shadow(0px 1px 2px rgba(0, 0, 0, 0.3));\n",
              "      fill: #FFFFFF;\n",
              "    }\n",
              "  </style>\n",
              "\n",
              "      <script>\n",
              "        const buttonEl =\n",
              "          document.querySelector('#df-61b841dd-5c0f-4214-81e8-6c7b2b9cb7cb button.colab-df-convert');\n",
              "        buttonEl.style.display =\n",
              "          google.colab.kernel.accessAllowed ? 'block' : 'none';\n",
              "\n",
              "        async function convertToInteractive(key) {\n",
              "          const element = document.querySelector('#df-61b841dd-5c0f-4214-81e8-6c7b2b9cb7cb');\n",
              "          const dataTable =\n",
              "            await google.colab.kernel.invokeFunction('convertToInteractive',\n",
              "                                                     [key], {});\n",
              "          if (!dataTable) return;\n",
              "\n",
              "          const docLinkHtml = 'Like what you see? Visit the ' +\n",
              "            '<a target=\"_blank\" href=https://colab.research.google.com/notebooks/data_table.ipynb>data table notebook</a>'\n",
              "            + ' to learn more about interactive tables.';\n",
              "          element.innerHTML = '';\n",
              "          dataTable['output_type'] = 'display_data';\n",
              "          await google.colab.output.renderOutput(dataTable, element);\n",
              "          const docLink = document.createElement('div');\n",
              "          docLink.innerHTML = docLinkHtml;\n",
              "          element.appendChild(docLink);\n",
              "        }\n",
              "      </script>\n",
              "    </div>\n",
              "  </div>\n",
              "  "
            ]
          },
          "metadata": {},
          "execution_count": 147
        }
      ],
      "source": [
        "# conversion with LabelEncoder()\n",
        "\n",
        "for column in bin_cols:\n",
        "    df[column] = label_encoder.fit_transform(df[column])\n",
        "    \n",
        "# make sure the transformation\n",
        "df.head()"
      ],
      "id": "KCFh6AZoXx9w"
    },
    {
      "cell_type": "code",
      "execution_count": 148,
      "metadata": {
        "execution": {
          "iopub.execute_input": "2021-04-10T09:42:38.937736Z",
          "iopub.status.busy": "2021-04-10T09:42:38.936848Z",
          "iopub.status.idle": "2021-04-10T09:42:38.974196Z",
          "shell.execute_reply": "2021-04-10T09:42:38.973235Z"
        },
        "papermill": {
          "duration": 0.14408,
          "end_time": "2021-04-10T09:42:38.974365",
          "exception": false,
          "start_time": "2021-04-10T09:42:38.830285",
          "status": "completed"
        },
        "tags": [],
        "id": "Dee9-pF5Xx9w",
        "outputId": "410c3f1b-be4e-49b1-a30b-8ecb0ea39b48",
        "colab": {
          "base_uri": "https://localhost:8080/",
          "height": 69
        }
      },
      "outputs": [
        {
          "output_type": "display_data",
          "data": {
            "text/plain": [
              "0    93721\n",
              "1    16427\n",
              "Name: foreign_passport, dtype: int64"
            ]
          },
          "metadata": {}
        }
      ],
      "source": [
        "# will check and see the data distributionе one more time\n",
        "# an interesting fact is women more likely apply for loans than men\n",
        "display(df[i].value_counts())"
      ],
      "id": "Dee9-pF5Xx9w"
    },
    {
      "cell_type": "code",
      "execution_count": 149,
      "metadata": {
        "execution": {
          "iopub.execute_input": "2021-04-10T09:42:39.404138Z",
          "iopub.status.busy": "2021-04-10T09:42:39.403131Z",
          "iopub.status.idle": "2021-04-10T09:42:39.703861Z",
          "shell.execute_reply": "2021-04-10T09:42:39.703119Z"
        },
        "papermill": {
          "duration": 0.413137,
          "end_time": "2021-04-10T09:42:39.704091",
          "exception": false,
          "start_time": "2021-04-10T09:42:39.290954",
          "status": "completed"
        },
        "tags": [],
        "id": "DlUGEO-RXx9w",
        "outputId": "8ea65a2f-0e4f-459d-8c61-a3531636caa4",
        "colab": {
          "base_uri": "https://localhost:8080/",
          "height": 286
        }
      },
      "outputs": [
        {
          "output_type": "execute_result",
          "data": {
            "text/plain": [
              "<matplotlib.axes._subplots.AxesSubplot at 0x7fd380328e50>"
            ]
          },
          "metadata": {},
          "execution_count": 149
        },
        {
          "output_type": "display_data",
          "data": {
            "text/plain": [
              "<Figure size 432x288 with 1 Axes>"
            ],
            "image/png": "[encoded data removed]"
          },
          "metadata": {
            "needs_background": "light"
          }
        }
      ],
      "source": [
        "# Let's check the significance of binary variables:\n",
        "temp_df = df[df['train']==1]\n",
        "imp_bin = Series(mutual_info_classif(temp_df[bin_cols], temp_df['default'],\n",
        "                                     discrete_features=True), index=bin_cols)\n",
        "imp_bin.sort_values(inplace=True)\n",
        "imp_bin.plot(kind='barh')"
      ],
      "id": "DlUGEO-RXx9w"
    },
    {
      "cell_type": "markdown",
      "metadata": {
        "papermill": {
          "duration": 0.10581,
          "end_time": "2021-04-10T09:42:40.155972",
          "exception": false,
          "start_time": "2021-04-10T09:42:40.050162",
          "status": "completed"
        },
        "tags": [],
        "id": "7y2o906HXx9x"
      },
      "source": [
        "**Working with categorical features**"
      ],
      "id": "7y2o906HXx9x"
    },
    {
      "cell_type": "code",
      "execution_count": 150,
      "metadata": {
        "execution": {
          "iopub.execute_input": "2021-04-10T09:42:40.386495Z",
          "iopub.status.busy": "2021-04-10T09:42:40.381124Z",
          "iopub.status.idle": "2021-04-10T09:42:40.408250Z",
          "shell.execute_reply": "2021-04-10T09:42:40.407249Z"
        },
        "papermill": {
          "duration": 0.147132,
          "end_time": "2021-04-10T09:42:40.408443",
          "exception": false,
          "start_time": "2021-04-10T09:42:40.261311",
          "status": "completed"
        },
        "tags": [],
        "id": "_Nk2xoIsXx9x",
        "outputId": "72896368-3394-4a01-b830-aa0e1ea2a2ef",
        "colab": {
          "base_uri": "https://localhost:8080/"
        }
      },
      "outputs": [
        {
          "output_type": "stream",
          "name": "stdout",
          "text": [
            "{0: 'ACD', 1: 'GRD', 2: 'PGR', 3: 'SCH', 4: 'UGR'}\n"
          ]
        }
      ],
      "source": [
        "# convert the data of 'education' feature into numerical categories\n",
        "mapped = pd.Series(label_encoder.fit_transform(df['education']))\n",
        "print(dict(enumerate(label_encoder.classes_)))"
      ],
      "id": "_Nk2xoIsXx9x"
    },
    {
      "cell_type": "code",
      "execution_count": 151,
      "metadata": {
        "execution": {
          "iopub.execute_input": "2021-04-10T09:42:40.739258Z",
          "iopub.status.busy": "2021-04-10T09:42:40.738234Z",
          "iopub.status.idle": "2021-04-10T09:42:40.790364Z",
          "shell.execute_reply": "2021-04-10T09:42:40.789732Z"
        },
        "papermill": {
          "duration": 0.224146,
          "end_time": "2021-04-10T09:42:40.790507",
          "exception": false,
          "start_time": "2021-04-10T09:42:40.566361",
          "status": "completed"
        },
        "tags": [],
        "id": "31mELs4nXx9x",
        "outputId": "8971ea55-0664-4fb0-ba9c-b57757b061d2",
        "colab": {
          "base_uri": "https://localhost:8080/",
          "height": 207
        }
      },
      "outputs": [
        {
          "output_type": "execute_result",
          "data": {
            "text/plain": [
              "        client_id  education  sex       age  car  car_type  decline_app_cnt  \\\n",
              "102530     103416          3    0  3.178054    0         0                0   \n",
              "20953       75393          3    0  3.663562    0         0                2   \n",
              "52243       98150          1    1  3.367296    0         0                0   \n",
              "\n",
              "        good_work  score_bki  bki_request_cnt  region_rating  home_address  \\\n",
              "102530          0  -1.718275         1.791759             50             2   \n",
              "20953           0  -1.282395         1.098612             50             1   \n",
              "52243           0  -2.206896         0.693147             70             2   \n",
              "\n",
              "        work_address     income  sna  first_time  foreign_passport  default  \\\n",
              "102530             3   9.680406    4           3                 0      0.0   \n",
              "20953              3   9.472782    1           3                 0      0.0   \n",
              "52243              3  10.714440    1           4                 0      0.0   \n",
              "\n",
              "        train  app_day  app_weekday  app_number_days  \n",
              "102530      0       21            0              110  \n",
              "20953       1       23            6               81  \n",
              "52243       1       15            1              104  "
            ],
            "text/html": [
              "\n",
              "  <div id=\"df-5c02e33b-a549-4adc-b587-4857dc8991e8\">\n",
              "    <div class=\"colab-df-container\">\n",
              "      <div>\n",
              "<style scoped>\n",
              "    .dataframe tbody tr th:only-of-type {\n",
              "        vertical-align: middle;\n",
              "    }\n",
              "\n",
              "    .dataframe tbody tr th {\n",
              "        vertical-align: top;\n",
              "    }\n",
              "\n",
              "    .dataframe thead th {\n",
              "        text-align: right;\n",
              "    }\n",
              "</style>\n",
              "<table border=\"1\" class=\"dataframe\">\n",
              "  <thead>\n",
              "    <tr style=\"text-align: right;\">\n",
              "      <th></th>\n",
              "      <th>client_id</th>\n",
              "      <th>education</th>\n",
              "      <th>sex</th>\n",
              "      <th>age</th>\n",
              "      <th>car</th>\n",
              "      <th>car_type</th>\n",
              "      <th>decline_app_cnt</th>\n",
              "      <th>good_work</th>\n",
              "      <th>score_bki</th>\n",
              "      <th>bki_request_cnt</th>\n",
              "      <th>region_rating</th>\n",
              "      <th>home_address</th>\n",
              "      <th>work_address</th>\n",
              "      <th>income</th>\n",
              "      <th>sna</th>\n",
              "      <th>first_time</th>\n",
              "      <th>foreign_passport</th>\n",
              "      <th>default</th>\n",
              "      <th>train</th>\n",
              "      <th>app_day</th>\n",
              "      <th>app_weekday</th>\n",
              "      <th>app_number_days</th>\n",
              "    </tr>\n",
              "  </thead>\n",
              "  <tbody>\n",
              "    <tr>\n",
              "      <th>102530</th>\n",
              "      <td>103416</td>\n",
              "      <td>3</td>\n",
              "      <td>0</td>\n",
              "      <td>3.178054</td>\n",
              "      <td>0</td>\n",
              "      <td>0</td>\n",
              "      <td>0</td>\n",
              "      <td>0</td>\n",
              "      <td>-1.718275</td>\n",
              "      <td>1.791759</td>\n",
              "      <td>50</td>\n",
              "      <td>2</td>\n",
              "      <td>3</td>\n",
              "      <td>9.680406</td>\n",
              "      <td>4</td>\n",
              "      <td>3</td>\n",
              "      <td>0</td>\n",
              "      <td>0.0</td>\n",
              "      <td>0</td>\n",
              "      <td>21</td>\n",
              "      <td>0</td>\n",
              "      <td>110</td>\n",
              "    </tr>\n",
              "    <tr>\n",
              "      <th>20953</th>\n",
              "      <td>75393</td>\n",
              "      <td>3</td>\n",
              "      <td>0</td>\n",
              "      <td>3.663562</td>\n",
              "      <td>0</td>\n",
              "      <td>0</td>\n",
              "      <td>2</td>\n",
              "      <td>0</td>\n",
              "      <td>-1.282395</td>\n",
              "      <td>1.098612</td>\n",
              "      <td>50</td>\n",
              "      <td>1</td>\n",
              "      <td>3</td>\n",
              "      <td>9.472782</td>\n",
              "      <td>1</td>\n",
              "      <td>3</td>\n",
              "      <td>0</td>\n",
              "      <td>0.0</td>\n",
              "      <td>1</td>\n",
              "      <td>23</td>\n",
              "      <td>6</td>\n",
              "      <td>81</td>\n",
              "    </tr>\n",
              "    <tr>\n",
              "      <th>52243</th>\n",
              "      <td>98150</td>\n",
              "      <td>1</td>\n",
              "      <td>1</td>\n",
              "      <td>3.367296</td>\n",
              "      <td>0</td>\n",
              "      <td>0</td>\n",
              "      <td>0</td>\n",
              "      <td>0</td>\n",
              "      <td>-2.206896</td>\n",
              "      <td>0.693147</td>\n",
              "      <td>70</td>\n",
              "      <td>2</td>\n",
              "      <td>3</td>\n",
              "      <td>10.714440</td>\n",
              "      <td>1</td>\n",
              "      <td>4</td>\n",
              "      <td>0</td>\n",
              "      <td>0.0</td>\n",
              "      <td>1</td>\n",
              "      <td>15</td>\n",
              "      <td>1</td>\n",
              "      <td>104</td>\n",
              "    </tr>\n",
              "  </tbody>\n",
              "</table>\n",
              "</div>\n",
              "      <button class=\"colab-df-convert\" onclick=\"convertToInteractive('df-5c02e33b-a549-4adc-b587-4857dc8991e8')\"\n",
              "              title=\"Convert this dataframe to an interactive table.\"\n",
              "              style=\"display:none;\">\n",
              "        \n",
              "  <svg xmlns=\"http://www.w3.org/2000/svg\" height=\"24px\"viewBox=\"0 0 24 24\"\n",
              "       width=\"24px\">\n",
              "    <path d=\"M0 0h24v24H0V0z\" fill=\"none\"/>\n",
              "    <path d=\"M18.56 5.44l.94 2.06.94-2.06 2.06-.94-2.06-.94-.94-2.06-.94 2.06-2.06.94zm-11 1L8.5 8.5l.94-2.06 2.06-.94-2.06-.94L8.5 2.5l-.94 2.06-2.06.94zm10 10l.94 2.06.94-2.06 2.06-.94-2.06-.94-.94-2.06-.94 2.06-2.06.94z\"/><path d=\"M17.41 7.96l-1.37-1.37c-.4-.4-.92-.59-1.43-.59-.52 0-1.04.2-1.43.59L10.3 9.45l-7.72 7.72c-.78.78-.78 2.05 0 2.83L4 21.41c.39.39.9.59 1.41.59.51 0 1.02-.2 1.41-.59l7.78-7.78 2.81-2.81c.8-.78.8-2.07 0-2.86zM5.41 20L4 18.59l7.72-7.72 1.47 1.35L5.41 20z\"/>\n",
              "  </svg>\n",
              "      </button>\n",
              "      \n",
              "  <style>\n",
              "    .colab-df-container {\n",
              "      display:flex;\n",
              "      flex-wrap:wrap;\n",
              "      gap: 12px;\n",
              "    }\n",
              "\n",
              "    .colab-df-convert {\n",
              "      background-color: #E8F0FE;\n",
              "      border: none;\n",
              "      border-radius: 50%;\n",
              "      cursor: pointer;\n",
              "      display: none;\n",
              "      fill: #1967D2;\n",
              "      height: 32px;\n",
              "      padding: 0 0 0 0;\n",
              "      width: 32px;\n",
              "    }\n",
              "\n",
              "    .colab-df-convert:hover {\n",
              "      background-color: #E2EBFA;\n",
              "      box-shadow: 0px 1px 2px rgba(60, 64, 67, 0.3), 0px 1px 3px 1px rgba(60, 64, 67, 0.15);\n",
              "      fill: #174EA6;\n",
              "    }\n",
              "\n",
              "    [theme=dark] .colab-df-convert {\n",
              "      background-color: #3B4455;\n",
              "      fill: #D2E3FC;\n",
              "    }\n",
              "\n",
              "    [theme=dark] .colab-df-convert:hover {\n",
              "      background-color: #434B5C;\n",
              "      box-shadow: 0px 1px 3px 1px rgba(0, 0, 0, 0.15);\n",
              "      filter: drop-shadow(0px 1px 2px rgba(0, 0, 0, 0.3));\n",
              "      fill: #FFFFFF;\n",
              "    }\n",
              "  </style>\n",
              "\n",
              "      <script>\n",
              "        const buttonEl =\n",
              "          document.querySelector('#df-5c02e33b-a549-4adc-b587-4857dc8991e8 button.colab-df-convert');\n",
              "        buttonEl.style.display =\n",
              "          google.colab.kernel.accessAllowed ? 'block' : 'none';\n",
              "\n",
              "        async function convertToInteractive(key) {\n",
              "          const element = document.querySelector('#df-5c02e33b-a549-4adc-b587-4857dc8991e8');\n",
              "          const dataTable =\n",
              "            await google.colab.kernel.invokeFunction('convertToInteractive',\n",
              "                                                     [key], {});\n",
              "          if (!dataTable) return;\n",
              "\n",
              "          const docLinkHtml = 'Like what you see? Visit the ' +\n",
              "            '<a target=\"_blank\" href=https://colab.research.google.com/notebooks/data_table.ipynb>data table notebook</a>'\n",
              "            + ' to learn more about interactive tables.';\n",
              "          element.innerHTML = '';\n",
              "          dataTable['output_type'] = 'display_data';\n",
              "          await google.colab.output.renderOutput(dataTable, element);\n",
              "          const docLink = document.createElement('div');\n",
              "          docLink.innerHTML = docLinkHtml;\n",
              "          element.appendChild(docLink);\n",
              "        }\n",
              "      </script>\n",
              "    </div>\n",
              "  </div>\n",
              "  "
            ]
          },
          "metadata": {},
          "execution_count": 151
        }
      ],
      "source": [
        "df['education'] = label_encoder.fit_transform(df['education'])\n",
        "df.sample(3)"
      ],
      "id": "31mELs4nXx9x"
    },
    {
      "cell_type": "code",
      "execution_count": 152,
      "metadata": {
        "execution": {
          "iopub.execute_input": "2021-04-10T09:42:41.020147Z",
          "iopub.status.busy": "2021-04-10T09:42:41.011169Z",
          "iopub.status.idle": "2021-04-10T09:42:41.613457Z",
          "shell.execute_reply": "2021-04-10T09:42:41.612307Z"
        },
        "papermill": {
          "duration": 0.71708,
          "end_time": "2021-04-10T09:42:41.613631",
          "exception": false,
          "start_time": "2021-04-10T09:42:40.896551",
          "status": "completed"
        },
        "tags": [],
        "id": "2np_WZwyXx9x",
        "outputId": "25bb6380-7f9c-4f06-eed0-c45d3140f5be",
        "colab": {
          "base_uri": "https://localhost:8080/",
          "height": 286
        }
      },
      "outputs": [
        {
          "output_type": "execute_result",
          "data": {
            "text/plain": [
              "<matplotlib.axes._subplots.AxesSubplot at 0x7fd37e78c490>"
            ]
          },
          "metadata": {},
          "execution_count": 152
        },
        {
          "output_type": "display_data",
          "data": {
            "text/plain": [
              "<Figure size 432x288 with 1 Axes>"
            ],
            "image/png": "[encoded data removed]"
          },
          "metadata": {
            "needs_background": "light"
          }
        }
      ],
      "source": [
        "# Let's check the significance of category variables:\n",
        "temp_df = df[df['train']==1]\n",
        "imp_cat = Series(mutual_info_classif(temp_df[cat_cols], temp_df['default'],\n",
        "                                     discrete_features=True), index=cat_cols)\n",
        "imp_cat.sort_values(inplace=True)\n",
        "imp_cat.plot(kind='barh')"
      ],
      "id": "2np_WZwyXx9x"
    },
    {
      "cell_type": "markdown",
      "metadata": {
        "papermill": {
          "duration": 0.108816,
          "end_time": "2021-04-10T09:42:41.830916",
          "exception": false,
          "start_time": "2021-04-10T09:42:41.722100",
          "status": "completed"
        },
        "tags": [],
        "id": "4VrhfNgoXx9x"
      },
      "source": [
        "Conclusion: the influence of features looks logical, all signs matter, we will not delete them."
      ],
      "id": "4VrhfNgoXx9x"
    },
    {
      "cell_type": "markdown",
      "metadata": {
        "papermill": {
          "duration": 0.108954,
          "end_time": "2021-04-10T09:42:42.050580",
          "exception": false,
          "start_time": "2021-04-10T09:42:41.941626",
          "status": "completed"
        },
        "tags": [],
        "id": "dm-OdkatXx9x"
      },
      "source": [
        "# Future Engeneering"
      ],
      "id": "dm-OdkatXx9x"
    },
    {
      "cell_type": "code",
      "execution_count": 153,
      "metadata": {
        "execution": {
          "iopub.execute_input": "2021-04-10T09:42:42.282312Z",
          "iopub.status.busy": "2021-04-10T09:42:42.281473Z",
          "iopub.status.idle": "2021-04-10T09:42:42.314411Z",
          "shell.execute_reply": "2021-04-10T09:42:42.314918Z"
        },
        "papermill": {
          "duration": 0.154262,
          "end_time": "2021-04-10T09:42:42.315132",
          "exception": false,
          "start_time": "2021-04-10T09:42:42.160870",
          "status": "completed"
        },
        "tags": [],
        "id": "9RDKJ8esXx9y"
      },
      "outputs": [],
      "source": [
        "# implement OneHotEncoding for categorical features\n",
        "df = pd.get_dummies(df, columns = cat_cols)"
      ],
      "id": "9RDKJ8esXx9y"
    },
    {
      "cell_type": "code",
      "execution_count": 154,
      "metadata": {
        "execution": {
          "iopub.execute_input": "2021-04-10T09:42:42.533546Z",
          "iopub.status.busy": "2021-04-10T09:42:42.532782Z",
          "iopub.status.idle": "2021-04-10T09:42:42.546285Z",
          "shell.execute_reply": "2021-04-10T09:42:42.546764Z"
        },
        "papermill": {
          "duration": 0.12484,
          "end_time": "2021-04-10T09:42:42.546958",
          "exception": false,
          "start_time": "2021-04-10T09:42:42.422118",
          "status": "completed"
        },
        "tags": [],
        "id": "BCEtgTLdXx9y"
      },
      "outputs": [],
      "source": [
        "# remove unnecessary variables\n",
        "num_cols.remove('app_day')\n",
        "num_cols.remove('app_weekday')\n",
        "df.drop(['app_day', 'app_weekday'], axis=1, inplace=True)"
      ],
      "id": "BCEtgTLdXx9y"
    },
    {
      "cell_type": "code",
      "execution_count": 155,
      "metadata": {
        "execution": {
          "iopub.execute_input": "2021-04-10T09:42:42.766435Z",
          "iopub.status.busy": "2021-04-10T09:42:42.765802Z",
          "iopub.status.idle": "2021-04-10T09:42:42.810631Z",
          "shell.execute_reply": "2021-04-10T09:42:42.811122Z"
        },
        "papermill": {
          "duration": 0.156806,
          "end_time": "2021-04-10T09:42:42.811309",
          "exception": false,
          "start_time": "2021-04-10T09:42:42.654503",
          "status": "completed"
        },
        "tags": [],
        "id": "g9FPmzbHXx9y",
        "outputId": "cb37d603-5d91-4bba-da1e-76d2c05954f1",
        "colab": {
          "base_uri": "https://localhost:8080/",
          "height": 488
        }
      },
      "outputs": [
        {
          "output_type": "execute_result",
          "data": {
            "text/plain": [
              "        client_id  sex       age  car  car_type  good_work  score_bki  \\\n",
              "0           25905    1  4.143135    1         1          0  -2.008753   \n",
              "1           63161    0  4.094345    0         0          0  -1.532276   \n",
              "2           25887    1  3.258097    1         0          0  -1.408142   \n",
              "3           16222    0  3.988984    0         0          0  -2.057471   \n",
              "4          101655    1  3.891820    0         0          1  -1.244723   \n",
              "...           ...  ...       ...  ...       ...        ...        ...   \n",
              "110143      83775    0  3.637586    0         0          0  -1.744976   \n",
              "110144     106254    0  4.174387    1         1          0  -2.293781   \n",
              "110145      81852    1  3.465736    0         0          0  -0.940752   \n",
              "110146       1971    0  3.332205    0         0          0  -1.242392   \n",
              "110147      69044    1  3.663562    0         0          0  -1.507549   \n",
              "\n",
              "        bki_request_cnt     income  foreign_passport  default  train  \\\n",
              "0              0.693147   9.798183                 0      0.0      1   \n",
              "1              1.386294   9.852247                 0      0.0      1   \n",
              "2              0.693147  10.308986                 1      0.0      1   \n",
              "3              1.098612   9.210440                 0      0.0      1   \n",
              "4              0.693147  10.308986                 1      0.0      1   \n",
              "...                 ...        ...               ...      ...    ...   \n",
              "110143         1.386294   9.615872                 0      0.0      0   \n",
              "110144         1.386294  12.206078                 0      0.0      0   \n",
              "110145         0.693147  11.002117                 0      0.0      0   \n",
              "110146         1.098612  10.308986                 0      0.0      0   \n",
              "110147         1.098612   9.615872                 0      0.0      0   \n",
              "\n",
              "        app_number_days  education_0  education_1  education_2  education_3  \\\n",
              "0                    31            0            0            0            1   \n",
              "1                    70            0            0            0            1   \n",
              "2                    31            0            0            0            1   \n",
              "3                    22            0            0            0            1   \n",
              "4                   107            0            1            0            0   \n",
              "...                 ...          ...          ...          ...          ...   \n",
              "110143               89            0            0            0            1   \n",
              "110144              114            0            1            0            0   \n",
              "110145               88            0            1            0            0   \n",
              "110146                6            0            0            0            0   \n",
              "110147               75            0            0            0            1   \n",
              "\n",
              "        education_4  region_rating_20  region_rating_30  region_rating_40  \\\n",
              "0                 0                 0                 0                 0   \n",
              "1                 0                 0                 0                 0   \n",
              "2                 0                 0                 0                 0   \n",
              "3                 0                 0                 0                 0   \n",
              "4                 0                 0                 0                 0   \n",
              "...             ...               ...               ...               ...   \n",
              "110143            0                 0                 0                 0   \n",
              "110144            0                 0                 0                 0   \n",
              "110145            0                 0                 0                 0   \n",
              "110146            1                 0                 0                 0   \n",
              "110147            0                 0                 0                 0   \n",
              "\n",
              "        region_rating_50  region_rating_60  region_rating_70  \\\n",
              "0                      1                 0                 0   \n",
              "1                      1                 0                 0   \n",
              "2                      0                 0                 0   \n",
              "3                      1                 0                 0   \n",
              "4                      0                 1                 0   \n",
              "...                  ...               ...               ...   \n",
              "110143                 1                 0                 0   \n",
              "110144                 0                 1                 0   \n",
              "110145                 1                 0                 0   \n",
              "110146                 0                 0                 0   \n",
              "110147                 1                 0                 0   \n",
              "\n",
              "        region_rating_80  home_address_1  home_address_2  home_address_3  \\\n",
              "0                      0               1               0               0   \n",
              "1                      0               0               1               0   \n",
              "2                      1               1               0               0   \n",
              "3                      0               0               1               0   \n",
              "4                      0               0               1               0   \n",
              "...                  ...             ...             ...             ...   \n",
              "110143                 0               0               1               0   \n",
              "110144                 0               1               0               0   \n",
              "110145                 0               1               0               0   \n",
              "110146                 1               0               1               0   \n",
              "110147                 0               1               0               0   \n",
              "\n",
              "        work_address_1  work_address_2  work_address_3  sna_1  sna_2  sna_3  \\\n",
              "0                    0               1               0      0      0      0   \n",
              "1                    0               0               1      0      0      0   \n",
              "2                    0               1               0      1      0      0   \n",
              "3                    0               0               1      1      0      0   \n",
              "4                    0               0               1      1      0      0   \n",
              "...                ...             ...             ...    ...    ...    ...   \n",
              "110143               0               0               1      0      0      0   \n",
              "110144               0               1               0      1      0      0   \n",
              "110145               0               1               0      0      0      0   \n",
              "110146               0               0               1      1      0      0   \n",
              "110147               0               1               0      0      0      0   \n",
              "\n",
              "        sna_4  first_time_1  first_time_2  first_time_3  first_time_4  \\\n",
              "0           1             1             0             0             0   \n",
              "1           1             1             0             0             0   \n",
              "2           0             0             0             0             1   \n",
              "3           0             0             0             1             0   \n",
              "4           0             0             0             0             1   \n",
              "...       ...           ...           ...           ...           ...   \n",
              "110143      1             1             0             0             0   \n",
              "110144      0             0             0             0             1   \n",
              "110145      1             0             1             0             0   \n",
              "110146      0             1             0             0             0   \n",
              "110147      1             0             1             0             0   \n",
              "\n",
              "        decline_app_cnt_0  decline_app_cnt_1  decline_app_cnt_2  \\\n",
              "0                       1                  0                  0   \n",
              "1                       1                  0                  0   \n",
              "2                       0                  0                  1   \n",
              "3                       1                  0                  0   \n",
              "4                       1                  0                  0   \n",
              "...                   ...                ...                ...   \n",
              "110143                  0                  1                  0   \n",
              "110144                  1                  0                  0   \n",
              "110145                  0                  0                  1   \n",
              "110146                  0                  1                  0   \n",
              "110147                  1                  0                  0   \n",
              "\n",
              "        decline_app_cnt_3  \n",
              "0                       0  \n",
              "1                       0  \n",
              "2                       0  \n",
              "3                       0  \n",
              "4                       0  \n",
              "...                   ...  \n",
              "110143                  0  \n",
              "110144                  0  \n",
              "110145                  0  \n",
              "110146                  0  \n",
              "110147                  0  \n",
              "\n",
              "[110148 rows x 43 columns]"
            ],
            "text/html": [
              "\n",
              "  <div id=\"df-598bb122-413b-404f-ac45-e09cd125affa\">\n",
              "    <div class=\"colab-df-container\">\n",
              "      <div>\n",
              "<style scoped>\n",
              "    .dataframe tbody tr th:only-of-type {\n",
              "        vertical-align: middle;\n",
              "    }\n",
              "\n",
              "    .dataframe tbody tr th {\n",
              "        vertical-align: top;\n",
              "    }\n",
              "\n",
              "    .dataframe thead th {\n",
              "        text-align: right;\n",
              "    }\n",
              "</style>\n",
              "<table border=\"1\" class=\"dataframe\">\n",
              "  <thead>\n",
              "    <tr style=\"text-align: right;\">\n",
              "      <th></th>\n",
              "      <th>client_id</th>\n",
              "      <th>sex</th>\n",
              "      <th>age</th>\n",
              "      <th>car</th>\n",
              "      <th>car_type</th>\n",
              "      <th>good_work</th>\n",
              "      <th>score_bki</th>\n",
              "      <th>bki_request_cnt</th>\n",
              "      <th>income</th>\n",
              "      <th>foreign_passport</th>\n",
              "      <th>default</th>\n",
              "      <th>train</th>\n",
              "      <th>app_number_days</th>\n",
              "      <th>education_0</th>\n",
              "      <th>education_1</th>\n",
              "      <th>education_2</th>\n",
              "      <th>education_3</th>\n",
              "      <th>education_4</th>\n",
              "      <th>region_rating_20</th>\n",
              "      <th>region_rating_30</th>\n",
              "      <th>region_rating_40</th>\n",
              "      <th>region_rating_50</th>\n",
              "      <th>region_rating_60</th>\n",
              "      <th>region_rating_70</th>\n",
              "      <th>region_rating_80</th>\n",
              "      <th>home_address_1</th>\n",
              "      <th>home_address_2</th>\n",
              "      <th>home_address_3</th>\n",
              "      <th>work_address_1</th>\n",
              "      <th>work_address_2</th>\n",
              "      <th>work_address_3</th>\n",
              "      <th>sna_1</th>\n",
              "      <th>sna_2</th>\n",
              "      <th>sna_3</th>\n",
              "      <th>sna_4</th>\n",
              "      <th>first_time_1</th>\n",
              "      <th>first_time_2</th>\n",
              "      <th>first_time_3</th>\n",
              "      <th>first_time_4</th>\n",
              "      <th>decline_app_cnt_0</th>\n",
              "      <th>decline_app_cnt_1</th>\n",
              "      <th>decline_app_cnt_2</th>\n",
              "      <th>decline_app_cnt_3</th>\n",
              "    </tr>\n",
              "  </thead>\n",
              "  <tbody>\n",
              "    <tr>\n",
              "      <th>0</th>\n",
              "      <td>25905</td>\n",
              "      <td>1</td>\n",
              "      <td>4.143135</td>\n",
              "      <td>1</td>\n",
              "      <td>1</td>\n",
              "      <td>0</td>\n",
              "      <td>-2.008753</td>\n",
              "      <td>0.693147</td>\n",
              "      <td>9.798183</td>\n",
              "      <td>0</td>\n",
              "      <td>0.0</td>\n",
              "      <td>1</td>\n",
              "      <td>31</td>\n",
              "      <td>0</td>\n",
              "      <td>0</td>\n",
              "      <td>0</td>\n",
              "      <td>1</td>\n",
              "      <td>0</td>\n",
              "      <td>0</td>\n",
              "      <td>0</td>\n",
              "      <td>0</td>\n",
              "      <td>1</td>\n",
              "      <td>0</td>\n",
              "      <td>0</td>\n",
              "      <td>0</td>\n",
              "      <td>1</td>\n",
              "      <td>0</td>\n",
              "      <td>0</td>\n",
              "      <td>0</td>\n",
              "      <td>1</td>\n",
              "      <td>0</td>\n",
              "      <td>0</td>\n",
              "      <td>0</td>\n",
              "      <td>0</td>\n",
              "      <td>1</td>\n",
              "      <td>1</td>\n",
              "      <td>0</td>\n",
              "      <td>0</td>\n",
              "      <td>0</td>\n",
              "      <td>1</td>\n",
              "      <td>0</td>\n",
              "      <td>0</td>\n",
              "      <td>0</td>\n",
              "    </tr>\n",
              "    <tr>\n",
              "      <th>1</th>\n",
              "      <td>63161</td>\n",
              "      <td>0</td>\n",
              "      <td>4.094345</td>\n",
              "      <td>0</td>\n",
              "      <td>0</td>\n",
              "      <td>0</td>\n",
              "      <td>-1.532276</td>\n",
              "      <td>1.386294</td>\n",
              "      <td>9.852247</td>\n",
              "      <td>0</td>\n",
              "      <td>0.0</td>\n",
              "      <td>1</td>\n",
              "      <td>70</td>\n",
              "      <td>0</td>\n",
              "      <td>0</td>\n",
              "      <td>0</td>\n",
              "      <td>1</td>\n",
              "      <td>0</td>\n",
              "      <td>0</td>\n",
              "      <td>0</td>\n",
              "      <td>0</td>\n",
              "      <td>1</td>\n",
              "      <td>0</td>\n",
              "      <td>0</td>\n",
              "      <td>0</td>\n",
              "      <td>0</td>\n",
              "      <td>1</td>\n",
              "      <td>0</td>\n",
              "      <td>0</td>\n",
              "      <td>0</td>\n",
              "      <td>1</td>\n",
              "      <td>0</td>\n",
              "      <td>0</td>\n",
              "      <td>0</td>\n",
              "      <td>1</td>\n",
              "      <td>1</td>\n",
              "      <td>0</td>\n",
              "      <td>0</td>\n",
              "      <td>0</td>\n",
              "      <td>1</td>\n",
              "      <td>0</td>\n",
              "      <td>0</td>\n",
              "      <td>0</td>\n",
              "    </tr>\n",
              "    <tr>\n",
              "      <th>2</th>\n",
              "      <td>25887</td>\n",
              "      <td>1</td>\n",
              "      <td>3.258097</td>\n",
              "      <td>1</td>\n",
              "      <td>0</td>\n",
              "      <td>0</td>\n",
              "      <td>-1.408142</td>\n",
              "      <td>0.693147</td>\n",
              "      <td>10.308986</td>\n",
              "      <td>1</td>\n",
              "      <td>0.0</td>\n",
              "      <td>1</td>\n",
              "      <td>31</td>\n",
              "      <td>0</td>\n",
              "      <td>0</td>\n",
              "      <td>0</td>\n",
              "      <td>1</td>\n",
              "      <td>0</td>\n",
              "      <td>0</td>\n",
              "      <td>0</td>\n",
              "      <td>0</td>\n",
              "      <td>0</td>\n",
              "      <td>0</td>\n",
              "      <td>0</td>\n",
              "      <td>1</td>\n",
              "      <td>1</td>\n",
              "      <td>0</td>\n",
              "      <td>0</td>\n",
              "      <td>0</td>\n",
              "      <td>1</td>\n",
              "      <td>0</td>\n",
              "      <td>1</td>\n",
              "      <td>0</td>\n",
              "      <td>0</td>\n",
              "      <td>0</td>\n",
              "      <td>0</td>\n",
              "      <td>0</td>\n",
              "      <td>0</td>\n",
              "      <td>1</td>\n",
              "      <td>0</td>\n",
              "      <td>0</td>\n",
              "      <td>1</td>\n",
              "      <td>0</td>\n",
              "    </tr>\n",
              "    <tr>\n",
              "      <th>3</th>\n",
              "      <td>16222</td>\n",
              "      <td>0</td>\n",
              "      <td>3.988984</td>\n",
              "      <td>0</td>\n",
              "      <td>0</td>\n",
              "      <td>0</td>\n",
              "      <td>-2.057471</td>\n",
              "      <td>1.098612</td>\n",
              "      <td>9.210440</td>\n",
              "      <td>0</td>\n",
              "      <td>0.0</td>\n",
              "      <td>1</td>\n",
              "      <td>22</td>\n",
              "      <td>0</td>\n",
              "      <td>0</td>\n",
              "      <td>0</td>\n",
              "      <td>1</td>\n",
              "      <td>0</td>\n",
              "      <td>0</td>\n",
              "      <td>0</td>\n",
              "      <td>0</td>\n",
              "      <td>1</td>\n",
              "      <td>0</td>\n",
              "      <td>0</td>\n",
              "      <td>0</td>\n",
              "      <td>0</td>\n",
              "      <td>1</td>\n",
              "      <td>0</td>\n",
              "      <td>0</td>\n",
              "      <td>0</td>\n",
              "      <td>1</td>\n",
              "      <td>1</td>\n",
              "      <td>0</td>\n",
              "      <td>0</td>\n",
              "      <td>0</td>\n",
              "      <td>0</td>\n",
              "      <td>0</td>\n",
              "      <td>1</td>\n",
              "      <td>0</td>\n",
              "      <td>1</td>\n",
              "      <td>0</td>\n",
              "      <td>0</td>\n",
              "      <td>0</td>\n",
              "    </tr>\n",
              "    <tr>\n",
              "      <th>4</th>\n",
              "      <td>101655</td>\n",
              "      <td>1</td>\n",
              "      <td>3.891820</td>\n",
              "      <td>0</td>\n",
              "      <td>0</td>\n",
              "      <td>1</td>\n",
              "      <td>-1.244723</td>\n",
              "      <td>0.693147</td>\n",
              "      <td>10.308986</td>\n",
              "      <td>1</td>\n",
              "      <td>0.0</td>\n",
              "      <td>1</td>\n",
              "      <td>107</td>\n",
              "      <td>0</td>\n",
              "      <td>1</td>\n",
              "      <td>0</td>\n",
              "      <td>0</td>\n",
              "      <td>0</td>\n",
              "      <td>0</td>\n",
              "      <td>0</td>\n",
              "      <td>0</td>\n",
              "      <td>0</td>\n",
              "      <td>1</td>\n",
              "      <td>0</td>\n",
              "      <td>0</td>\n",
              "      <td>0</td>\n",
              "      <td>1</td>\n",
              "      <td>0</td>\n",
              "      <td>0</td>\n",
              "      <td>0</td>\n",
              "      <td>1</td>\n",
              "      <td>1</td>\n",
              "      <td>0</td>\n",
              "      <td>0</td>\n",
              "      <td>0</td>\n",
              "      <td>0</td>\n",
              "      <td>0</td>\n",
              "      <td>0</td>\n",
              "      <td>1</td>\n",
              "      <td>1</td>\n",
              "      <td>0</td>\n",
              "      <td>0</td>\n",
              "      <td>0</td>\n",
              "    </tr>\n",
              "    <tr>\n",
              "      <th>...</th>\n",
              "      <td>...</td>\n",
              "      <td>...</td>\n",
              "      <td>...</td>\n",
              "      <td>...</td>\n",
              "      <td>...</td>\n",
              "      <td>...</td>\n",
              "      <td>...</td>\n",
              "      <td>...</td>\n",
              "      <td>...</td>\n",
              "      <td>...</td>\n",
              "      <td>...</td>\n",
              "      <td>...</td>\n",
              "      <td>...</td>\n",
              "      <td>...</td>\n",
              "      <td>...</td>\n",
              "      <td>...</td>\n",
              "      <td>...</td>\n",
              "      <td>...</td>\n",
              "      <td>...</td>\n",
              "      <td>...</td>\n",
              "      <td>...</td>\n",
              "      <td>...</td>\n",
              "      <td>...</td>\n",
              "      <td>...</td>\n",
              "      <td>...</td>\n",
              "      <td>...</td>\n",
              "      <td>...</td>\n",
              "      <td>...</td>\n",
              "      <td>...</td>\n",
              "      <td>...</td>\n",
              "      <td>...</td>\n",
              "      <td>...</td>\n",
              "      <td>...</td>\n",
              "      <td>...</td>\n",
              "      <td>...</td>\n",
              "      <td>...</td>\n",
              "      <td>...</td>\n",
              "      <td>...</td>\n",
              "      <td>...</td>\n",
              "      <td>...</td>\n",
              "      <td>...</td>\n",
              "      <td>...</td>\n",
              "      <td>...</td>\n",
              "    </tr>\n",
              "    <tr>\n",
              "      <th>110143</th>\n",
              "      <td>83775</td>\n",
              "      <td>0</td>\n",
              "      <td>3.637586</td>\n",
              "      <td>0</td>\n",
              "      <td>0</td>\n",
              "      <td>0</td>\n",
              "      <td>-1.744976</td>\n",
              "      <td>1.386294</td>\n",
              "      <td>9.615872</td>\n",
              "      <td>0</td>\n",
              "      <td>0.0</td>\n",
              "      <td>0</td>\n",
              "      <td>89</td>\n",
              "      <td>0</td>\n",
              "      <td>0</td>\n",
              "      <td>0</td>\n",
              "      <td>1</td>\n",
              "      <td>0</td>\n",
              "      <td>0</td>\n",
              "      <td>0</td>\n",
              "      <td>0</td>\n",
              "      <td>1</td>\n",
              "      <td>0</td>\n",
              "      <td>0</td>\n",
              "      <td>0</td>\n",
              "      <td>0</td>\n",
              "      <td>1</td>\n",
              "      <td>0</td>\n",
              "      <td>0</td>\n",
              "      <td>0</td>\n",
              "      <td>1</td>\n",
              "      <td>0</td>\n",
              "      <td>0</td>\n",
              "      <td>0</td>\n",
              "      <td>1</td>\n",
              "      <td>1</td>\n",
              "      <td>0</td>\n",
              "      <td>0</td>\n",
              "      <td>0</td>\n",
              "      <td>0</td>\n",
              "      <td>1</td>\n",
              "      <td>0</td>\n",
              "      <td>0</td>\n",
              "    </tr>\n",
              "    <tr>\n",
              "      <th>110144</th>\n",
              "      <td>106254</td>\n",
              "      <td>0</td>\n",
              "      <td>4.174387</td>\n",
              "      <td>1</td>\n",
              "      <td>1</td>\n",
              "      <td>0</td>\n",
              "      <td>-2.293781</td>\n",
              "      <td>1.386294</td>\n",
              "      <td>12.206078</td>\n",
              "      <td>0</td>\n",
              "      <td>0.0</td>\n",
              "      <td>0</td>\n",
              "      <td>114</td>\n",
              "      <td>0</td>\n",
              "      <td>1</td>\n",
              "      <td>0</td>\n",
              "      <td>0</td>\n",
              "      <td>0</td>\n",
              "      <td>0</td>\n",
              "      <td>0</td>\n",
              "      <td>0</td>\n",
              "      <td>0</td>\n",
              "      <td>1</td>\n",
              "      <td>0</td>\n",
              "      <td>0</td>\n",
              "      <td>1</td>\n",
              "      <td>0</td>\n",
              "      <td>0</td>\n",
              "      <td>0</td>\n",
              "      <td>1</td>\n",
              "      <td>0</td>\n",
              "      <td>1</td>\n",
              "      <td>0</td>\n",
              "      <td>0</td>\n",
              "      <td>0</td>\n",
              "      <td>0</td>\n",
              "      <td>0</td>\n",
              "      <td>0</td>\n",
              "      <td>1</td>\n",
              "      <td>1</td>\n",
              "      <td>0</td>\n",
              "      <td>0</td>\n",
              "      <td>0</td>\n",
              "    </tr>\n",
              "    <tr>\n",
              "      <th>110145</th>\n",
              "      <td>81852</td>\n",
              "      <td>1</td>\n",
              "      <td>3.465736</td>\n",
              "      <td>0</td>\n",
              "      <td>0</td>\n",
              "      <td>0</td>\n",
              "      <td>-0.940752</td>\n",
              "      <td>0.693147</td>\n",
              "      <td>11.002117</td>\n",
              "      <td>0</td>\n",
              "      <td>0.0</td>\n",
              "      <td>0</td>\n",
              "      <td>88</td>\n",
              "      <td>0</td>\n",
              "      <td>1</td>\n",
              "      <td>0</td>\n",
              "      <td>0</td>\n",
              "      <td>0</td>\n",
              "      <td>0</td>\n",
              "      <td>0</td>\n",
              "      <td>0</td>\n",
              "      <td>1</td>\n",
              "      <td>0</td>\n",
              "      <td>0</td>\n",
              "      <td>0</td>\n",
              "      <td>1</td>\n",
              "      <td>0</td>\n",
              "      <td>0</td>\n",
              "      <td>0</td>\n",
              "      <td>1</td>\n",
              "      <td>0</td>\n",
              "      <td>0</td>\n",
              "      <td>0</td>\n",
              "      <td>0</td>\n",
              "      <td>1</td>\n",
              "      <td>0</td>\n",
              "      <td>1</td>\n",
              "      <td>0</td>\n",
              "      <td>0</td>\n",
              "      <td>0</td>\n",
              "      <td>0</td>\n",
              "      <td>1</td>\n",
              "      <td>0</td>\n",
              "    </tr>\n",
              "    <tr>\n",
              "      <th>110146</th>\n",
              "      <td>1971</td>\n",
              "      <td>0</td>\n",
              "      <td>3.332205</td>\n",
              "      <td>0</td>\n",
              "      <td>0</td>\n",
              "      <td>0</td>\n",
              "      <td>-1.242392</td>\n",
              "      <td>1.098612</td>\n",
              "      <td>10.308986</td>\n",
              "      <td>0</td>\n",
              "      <td>0.0</td>\n",
              "      <td>0</td>\n",
              "      <td>6</td>\n",
              "      <td>0</td>\n",
              "      <td>0</td>\n",
              "      <td>0</td>\n",
              "      <td>0</td>\n",
              "      <td>1</td>\n",
              "      <td>0</td>\n",
              "      <td>0</td>\n",
              "      <td>0</td>\n",
              "      <td>0</td>\n",
              "      <td>0</td>\n",
              "      <td>0</td>\n",
              "      <td>1</td>\n",
              "      <td>0</td>\n",
              "      <td>1</td>\n",
              "      <td>0</td>\n",
              "      <td>0</td>\n",
              "      <td>0</td>\n",
              "      <td>1</td>\n",
              "      <td>1</td>\n",
              "      <td>0</td>\n",
              "      <td>0</td>\n",
              "      <td>0</td>\n",
              "      <td>1</td>\n",
              "      <td>0</td>\n",
              "      <td>0</td>\n",
              "      <td>0</td>\n",
              "      <td>0</td>\n",
              "      <td>1</td>\n",
              "      <td>0</td>\n",
              "      <td>0</td>\n",
              "    </tr>\n",
              "    <tr>\n",
              "      <th>110147</th>\n",
              "      <td>69044</td>\n",
              "      <td>1</td>\n",
              "      <td>3.663562</td>\n",
              "      <td>0</td>\n",
              "      <td>0</td>\n",
              "      <td>0</td>\n",
              "      <td>-1.507549</td>\n",
              "      <td>1.098612</td>\n",
              "      <td>9.615872</td>\n",
              "      <td>0</td>\n",
              "      <td>0.0</td>\n",
              "      <td>0</td>\n",
              "      <td>75</td>\n",
              "      <td>0</td>\n",
              "      <td>0</td>\n",
              "      <td>0</td>\n",
              "      <td>1</td>\n",
              "      <td>0</td>\n",
              "      <td>0</td>\n",
              "      <td>0</td>\n",
              "      <td>0</td>\n",
              "      <td>1</td>\n",
              "      <td>0</td>\n",
              "      <td>0</td>\n",
              "      <td>0</td>\n",
              "      <td>1</td>\n",
              "      <td>0</td>\n",
              "      <td>0</td>\n",
              "      <td>0</td>\n",
              "      <td>1</td>\n",
              "      <td>0</td>\n",
              "      <td>0</td>\n",
              "      <td>0</td>\n",
              "      <td>0</td>\n",
              "      <td>1</td>\n",
              "      <td>0</td>\n",
              "      <td>1</td>\n",
              "      <td>0</td>\n",
              "      <td>0</td>\n",
              "      <td>1</td>\n",
              "      <td>0</td>\n",
              "      <td>0</td>\n",
              "      <td>0</td>\n",
              "    </tr>\n",
              "  </tbody>\n",
              "</table>\n",
              "<p>110148 rows × 43 columns</p>\n",
              "</div>\n",
              "      <button class=\"colab-df-convert\" onclick=\"convertToInteractive('df-598bb122-413b-404f-ac45-e09cd125affa')\"\n",
              "              title=\"Convert this dataframe to an interactive table.\"\n",
              "              style=\"display:none;\">\n",
              "        \n",
              "  <svg xmlns=\"http://www.w3.org/2000/svg\" height=\"24px\"viewBox=\"0 0 24 24\"\n",
              "       width=\"24px\">\n",
              "    <path d=\"M0 0h24v24H0V0z\" fill=\"none\"/>\n",
              "    <path d=\"M18.56 5.44l.94 2.06.94-2.06 2.06-.94-2.06-.94-.94-2.06-.94 2.06-2.06.94zm-11 1L8.5 8.5l.94-2.06 2.06-.94-2.06-.94L8.5 2.5l-.94 2.06-2.06.94zm10 10l.94 2.06.94-2.06 2.06-.94-2.06-.94-.94-2.06-.94 2.06-2.06.94z\"/><path d=\"M17.41 7.96l-1.37-1.37c-.4-.4-.92-.59-1.43-.59-.52 0-1.04.2-1.43.59L10.3 9.45l-7.72 7.72c-.78.78-.78 2.05 0 2.83L4 21.41c.39.39.9.59 1.41.59.51 0 1.02-.2 1.41-.59l7.78-7.78 2.81-2.81c.8-.78.8-2.07 0-2.86zM5.41 20L4 18.59l7.72-7.72 1.47 1.35L5.41 20z\"/>\n",
              "  </svg>\n",
              "      </button>\n",
              "      \n",
              "  <style>\n",
              "    .colab-df-container {\n",
              "      display:flex;\n",
              "      flex-wrap:wrap;\n",
              "      gap: 12px;\n",
              "    }\n",
              "\n",
              "    .colab-df-convert {\n",
              "      background-color: #E8F0FE;\n",
              "      border: none;\n",
              "      border-radius: 50%;\n",
              "      cursor: pointer;\n",
              "      display: none;\n",
              "      fill: #1967D2;\n",
              "      height: 32px;\n",
              "      padding: 0 0 0 0;\n",
              "      width: 32px;\n",
              "    }\n",
              "\n",
              "    .colab-df-convert:hover {\n",
              "      background-color: #E2EBFA;\n",
              "      box-shadow: 0px 1px 2px rgba(60, 64, 67, 0.3), 0px 1px 3px 1px rgba(60, 64, 67, 0.15);\n",
              "      fill: #174EA6;\n",
              "    }\n",
              "\n",
              "    [theme=dark] .colab-df-convert {\n",
              "      background-color: #3B4455;\n",
              "      fill: #D2E3FC;\n",
              "    }\n",
              "\n",
              "    [theme=dark] .colab-df-convert:hover {\n",
              "      background-color: #434B5C;\n",
              "      box-shadow: 0px 1px 3px 1px rgba(0, 0, 0, 0.15);\n",
              "      filter: drop-shadow(0px 1px 2px rgba(0, 0, 0, 0.3));\n",
              "      fill: #FFFFFF;\n",
              "    }\n",
              "  </style>\n",
              "\n",
              "      <script>\n",
              "        const buttonEl =\n",
              "          document.querySelector('#df-598bb122-413b-404f-ac45-e09cd125affa button.colab-df-convert');\n",
              "        buttonEl.style.display =\n",
              "          google.colab.kernel.accessAllowed ? 'block' : 'none';\n",
              "\n",
              "        async function convertToInteractive(key) {\n",
              "          const element = document.querySelector('#df-598bb122-413b-404f-ac45-e09cd125affa');\n",
              "          const dataTable =\n",
              "            await google.colab.kernel.invokeFunction('convertToInteractive',\n",
              "                                                     [key], {});\n",
              "          if (!dataTable) return;\n",
              "\n",
              "          const docLinkHtml = 'Like what you see? Visit the ' +\n",
              "            '<a target=\"_blank\" href=https://colab.research.google.com/notebooks/data_table.ipynb>data table notebook</a>'\n",
              "            + ' to learn more about interactive tables.';\n",
              "          element.innerHTML = '';\n",
              "          dataTable['output_type'] = 'display_data';\n",
              "          await google.colab.output.renderOutput(dataTable, element);\n",
              "          const docLink = document.createElement('div');\n",
              "          docLink.innerHTML = docLinkHtml;\n",
              "          element.appendChild(docLink);\n",
              "        }\n",
              "      </script>\n",
              "    </div>\n",
              "  </div>\n",
              "  "
            ]
          },
          "metadata": {},
          "execution_count": 155
        }
      ],
      "source": [
        "df"
      ],
      "id": "g9FPmzbHXx9y"
    },
    {
      "cell_type": "code",
      "execution_count": 156,
      "metadata": {
        "execution": {
          "iopub.execute_input": "2021-04-10T09:42:43.042376Z",
          "iopub.status.busy": "2021-04-10T09:42:43.041357Z",
          "iopub.status.idle": "2021-04-10T09:42:43.106877Z",
          "shell.execute_reply": "2021-04-10T09:42:43.106252Z"
        },
        "papermill": {
          "duration": 0.186405,
          "end_time": "2021-04-10T09:42:43.107055",
          "exception": false,
          "start_time": "2021-04-10T09:42:42.920650",
          "status": "completed"
        },
        "tags": [],
        "id": "N6fAAtFuXx9y"
      },
      "outputs": [],
      "source": [
        "# let's add new polynomial features, \n",
        "# which are mathematical combinations of numerical features\n",
        "pf = PolynomialFeatures(2, include_bias=False)\n",
        "poly_data = pf.fit_transform(df[num_cols])[:, len(num_cols):]\n",
        "poly_cols = pf.get_feature_names()[len(num_cols):]\n",
        "poly_df = pd.DataFrame(poly_data, columns=poly_cols)\n",
        "df = df.join(poly_df,  how='left')"
      ],
      "id": "N6fAAtFuXx9y"
    },
    {
      "cell_type": "code",
      "execution_count": 157,
      "metadata": {
        "execution": {
          "iopub.execute_input": "2021-04-10T09:42:43.343798Z",
          "iopub.status.busy": "2021-04-10T09:42:43.343121Z",
          "iopub.status.idle": "2021-04-10T09:42:43.399290Z",
          "shell.execute_reply": "2021-04-10T09:42:43.398549Z"
        },
        "papermill": {
          "duration": 0.181468,
          "end_time": "2021-04-10T09:42:43.399437",
          "exception": false,
          "start_time": "2021-04-10T09:42:43.217969",
          "status": "completed"
        },
        "tags": [],
        "id": "MLXmz7RhXx9y",
        "outputId": "db511083-1a94-4ebb-cfa7-1d31a6ac7662",
        "colab": {
          "base_uri": "https://localhost:8080/",
          "height": 270
        }
      },
      "outputs": [
        {
          "output_type": "execute_result",
          "data": {
            "text/plain": [
              "   client_id  sex       age  car  car_type  good_work  score_bki  \\\n",
              "0      25905    1  4.143135    1         1          0  -2.008753   \n",
              "1      63161    0  4.094345    0         0          0  -1.532276   \n",
              "2      25887    1  3.258097    1         0          0  -1.408142   \n",
              "3      16222    0  3.988984    0         0          0  -2.057471   \n",
              "4     101655    1  3.891820    0         0          1  -1.244723   \n",
              "\n",
              "   bki_request_cnt     income  foreign_passport  default  train  \\\n",
              "0         0.693147   9.798183                 0      0.0      1   \n",
              "1         1.386294   9.852247                 0      0.0      1   \n",
              "2         0.693147  10.308986                 1      0.0      1   \n",
              "3         1.098612   9.210440                 0      0.0      1   \n",
              "4         0.693147  10.308986                 1      0.0      1   \n",
              "\n",
              "   app_number_days  education_0  education_1  education_2  education_3  \\\n",
              "0               31            0            0            0            1   \n",
              "1               70            0            0            0            1   \n",
              "2               31            0            0            0            1   \n",
              "3               22            0            0            0            1   \n",
              "4              107            0            1            0            0   \n",
              "\n",
              "   education_4  region_rating_20  region_rating_30  region_rating_40  \\\n",
              "0            0                 0                 0                 0   \n",
              "1            0                 0                 0                 0   \n",
              "2            0                 0                 0                 0   \n",
              "3            0                 0                 0                 0   \n",
              "4            0                 0                 0                 0   \n",
              "\n",
              "   region_rating_50  region_rating_60  region_rating_70  region_rating_80  \\\n",
              "0                 1                 0                 0                 0   \n",
              "1                 1                 0                 0                 0   \n",
              "2                 0                 0                 0                 1   \n",
              "3                 1                 0                 0                 0   \n",
              "4                 0                 1                 0                 0   \n",
              "\n",
              "   home_address_1  home_address_2  home_address_3  work_address_1  \\\n",
              "0               1               0               0               0   \n",
              "1               0               1               0               0   \n",
              "2               1               0               0               0   \n",
              "3               0               1               0               0   \n",
              "4               0               1               0               0   \n",
              "\n",
              "   work_address_2  work_address_3  sna_1  sna_2  sna_3  sna_4  first_time_1  \\\n",
              "0               1               0      0      0      0      1             1   \n",
              "1               0               1      0      0      0      1             1   \n",
              "2               1               0      1      0      0      0             0   \n",
              "3               0               1      1      0      0      0             0   \n",
              "4               0               1      1      0      0      0             0   \n",
              "\n",
              "   first_time_2  first_time_3  first_time_4  decline_app_cnt_0  \\\n",
              "0             0             0             0                  1   \n",
              "1             0             0             0                  1   \n",
              "2             0             0             1                  0   \n",
              "3             0             1             0                  1   \n",
              "4             0             0             1                  1   \n",
              "\n",
              "   decline_app_cnt_1  decline_app_cnt_2  decline_app_cnt_3       x0^2  \\\n",
              "0                  0                  0                  0  17.165565   \n",
              "1                  0                  0                  0  16.763657   \n",
              "2                  0                  1                  0  10.615193   \n",
              "3                  0                  0                  0  15.911994   \n",
              "4                  0                  0                  0  15.146265   \n",
              "\n",
              "      x0 x1     x0 x2      x0 x3       x0 x4      x1^2     x1 x2      x1 x3  \\\n",
              "0 -8.322534  2.871802  40.595191  128.437177  4.035088 -1.392361 -19.682128   \n",
              "1 -6.273667  5.675967  40.338493  286.604119  2.347870 -2.124186 -15.096364   \n",
              "2 -4.587863  2.258340  33.587672  101.000993  1.982865 -0.976050 -14.516519   \n",
              "3 -8.207220  4.382347  36.740300   87.757649  4.233188 -2.260363 -18.950217   \n",
              "4 -4.844237  2.697604  40.120721  416.424772  1.549335 -0.862776 -12.831829   \n",
              "\n",
              "        x1 x4      x2^2      x2 x3      x2 x4        x3^2        x3 x4  \\\n",
              "0  -62.271341  0.480453   6.791583  21.487563   96.004382   303.743660   \n",
              "1 -107.259335  1.921812  13.658114  97.040605   97.066769   689.657282   \n",
              "2  -43.652410  0.480453   7.145645  21.487563  106.275192   319.578566   \n",
              "3  -45.264369  1.206949  10.118703  24.169470   84.832212   202.629688   \n",
              "4 -133.185333  0.480453   7.145645  74.166748  106.275192  1103.061501   \n",
              "\n",
              "      x4^2  \n",
              "0    961.0  \n",
              "1   4900.0  \n",
              "2    961.0  \n",
              "3    484.0  \n",
              "4  11449.0  "
            ],
            "text/html": [
              "\n",
              "  <div id=\"df-e6f6416b-e8be-4057-8715-145ee7589c18\">\n",
              "    <div class=\"colab-df-container\">\n",
              "      <div>\n",
              "<style scoped>\n",
              "    .dataframe tbody tr th:only-of-type {\n",
              "        vertical-align: middle;\n",
              "    }\n",
              "\n",
              "    .dataframe tbody tr th {\n",
              "        vertical-align: top;\n",
              "    }\n",
              "\n",
              "    .dataframe thead th {\n",
              "        text-align: right;\n",
              "    }\n",
              "</style>\n",
              "<table border=\"1\" class=\"dataframe\">\n",
              "  <thead>\n",
              "    <tr style=\"text-align: right;\">\n",
              "      <th></th>\n",
              "      <th>client_id</th>\n",
              "      <th>sex</th>\n",
              "      <th>age</th>\n",
              "      <th>car</th>\n",
              "      <th>car_type</th>\n",
              "      <th>good_work</th>\n",
              "      <th>score_bki</th>\n",
              "      <th>bki_request_cnt</th>\n",
              "      <th>income</th>\n",
              "      <th>foreign_passport</th>\n",
              "      <th>default</th>\n",
              "      <th>train</th>\n",
              "      <th>app_number_days</th>\n",
              "      <th>education_0</th>\n",
              "      <th>education_1</th>\n",
              "      <th>education_2</th>\n",
              "      <th>education_3</th>\n",
              "      <th>education_4</th>\n",
              "      <th>region_rating_20</th>\n",
              "      <th>region_rating_30</th>\n",
              "      <th>region_rating_40</th>\n",
              "      <th>region_rating_50</th>\n",
              "      <th>region_rating_60</th>\n",
              "      <th>region_rating_70</th>\n",
              "      <th>region_rating_80</th>\n",
              "      <th>home_address_1</th>\n",
              "      <th>home_address_2</th>\n",
              "      <th>home_address_3</th>\n",
              "      <th>work_address_1</th>\n",
              "      <th>work_address_2</th>\n",
              "      <th>work_address_3</th>\n",
              "      <th>sna_1</th>\n",
              "      <th>sna_2</th>\n",
              "      <th>sna_3</th>\n",
              "      <th>sna_4</th>\n",
              "      <th>first_time_1</th>\n",
              "      <th>first_time_2</th>\n",
              "      <th>first_time_3</th>\n",
              "      <th>first_time_4</th>\n",
              "      <th>decline_app_cnt_0</th>\n",
              "      <th>decline_app_cnt_1</th>\n",
              "      <th>decline_app_cnt_2</th>\n",
              "      <th>decline_app_cnt_3</th>\n",
              "      <th>x0^2</th>\n",
              "      <th>x0 x1</th>\n",
              "      <th>x0 x2</th>\n",
              "      <th>x0 x3</th>\n",
              "      <th>x0 x4</th>\n",
              "      <th>x1^2</th>\n",
              "      <th>x1 x2</th>\n",
              "      <th>x1 x3</th>\n",
              "      <th>x1 x4</th>\n",
              "      <th>x2^2</th>\n",
              "      <th>x2 x3</th>\n",
              "      <th>x2 x4</th>\n",
              "      <th>x3^2</th>\n",
              "      <th>x3 x4</th>\n",
              "      <th>x4^2</th>\n",
              "    </tr>\n",
              "  </thead>\n",
              "  <tbody>\n",
              "    <tr>\n",
              "      <th>0</th>\n",
              "      <td>25905</td>\n",
              "      <td>1</td>\n",
              "      <td>4.143135</td>\n",
              "      <td>1</td>\n",
              "      <td>1</td>\n",
              "      <td>0</td>\n",
              "      <td>-2.008753</td>\n",
              "      <td>0.693147</td>\n",
              "      <td>9.798183</td>\n",
              "      <td>0</td>\n",
              "      <td>0.0</td>\n",
              "      <td>1</td>\n",
              "      <td>31</td>\n",
              "      <td>0</td>\n",
              "      <td>0</td>\n",
              "      <td>0</td>\n",
              "      <td>1</td>\n",
              "      <td>0</td>\n",
              "      <td>0</td>\n",
              "      <td>0</td>\n",
              "      <td>0</td>\n",
              "      <td>1</td>\n",
              "      <td>0</td>\n",
              "      <td>0</td>\n",
              "      <td>0</td>\n",
              "      <td>1</td>\n",
              "      <td>0</td>\n",
              "      <td>0</td>\n",
              "      <td>0</td>\n",
              "      <td>1</td>\n",
              "      <td>0</td>\n",
              "      <td>0</td>\n",
              "      <td>0</td>\n",
              "      <td>0</td>\n",
              "      <td>1</td>\n",
              "      <td>1</td>\n",
              "      <td>0</td>\n",
              "      <td>0</td>\n",
              "      <td>0</td>\n",
              "      <td>1</td>\n",
              "      <td>0</td>\n",
              "      <td>0</td>\n",
              "      <td>0</td>\n",
              "      <td>17.165565</td>\n",
              "      <td>-8.322534</td>\n",
              "      <td>2.871802</td>\n",
              "      <td>40.595191</td>\n",
              "      <td>128.437177</td>\n",
              "      <td>4.035088</td>\n",
              "      <td>-1.392361</td>\n",
              "      <td>-19.682128</td>\n",
              "      <td>-62.271341</td>\n",
              "      <td>0.480453</td>\n",
              "      <td>6.791583</td>\n",
              "      <td>21.487563</td>\n",
              "      <td>96.004382</td>\n",
              "      <td>303.743660</td>\n",
              "      <td>961.0</td>\n",
              "    </tr>\n",
              "    <tr>\n",
              "      <th>1</th>\n",
              "      <td>63161</td>\n",
              "      <td>0</td>\n",
              "      <td>4.094345</td>\n",
              "      <td>0</td>\n",
              "      <td>0</td>\n",
              "      <td>0</td>\n",
              "      <td>-1.532276</td>\n",
              "      <td>1.386294</td>\n",
              "      <td>9.852247</td>\n",
              "      <td>0</td>\n",
              "      <td>0.0</td>\n",
              "      <td>1</td>\n",
              "      <td>70</td>\n",
              "      <td>0</td>\n",
              "      <td>0</td>\n",
              "      <td>0</td>\n",
              "      <td>1</td>\n",
              "      <td>0</td>\n",
              "      <td>0</td>\n",
              "      <td>0</td>\n",
              "      <td>0</td>\n",
              "      <td>1</td>\n",
              "      <td>0</td>\n",
              "      <td>0</td>\n",
              "      <td>0</td>\n",
              "      <td>0</td>\n",
              "      <td>1</td>\n",
              "      <td>0</td>\n",
              "      <td>0</td>\n",
              "      <td>0</td>\n",
              "      <td>1</td>\n",
              "      <td>0</td>\n",
              "      <td>0</td>\n",
              "      <td>0</td>\n",
              "      <td>1</td>\n",
              "      <td>1</td>\n",
              "      <td>0</td>\n",
              "      <td>0</td>\n",
              "      <td>0</td>\n",
              "      <td>1</td>\n",
              "      <td>0</td>\n",
              "      <td>0</td>\n",
              "      <td>0</td>\n",
              "      <td>16.763657</td>\n",
              "      <td>-6.273667</td>\n",
              "      <td>5.675967</td>\n",
              "      <td>40.338493</td>\n",
              "      <td>286.604119</td>\n",
              "      <td>2.347870</td>\n",
              "      <td>-2.124186</td>\n",
              "      <td>-15.096364</td>\n",
              "      <td>-107.259335</td>\n",
              "      <td>1.921812</td>\n",
              "      <td>13.658114</td>\n",
              "      <td>97.040605</td>\n",
              "      <td>97.066769</td>\n",
              "      <td>689.657282</td>\n",
              "      <td>4900.0</td>\n",
              "    </tr>\n",
              "    <tr>\n",
              "      <th>2</th>\n",
              "      <td>25887</td>\n",
              "      <td>1</td>\n",
              "      <td>3.258097</td>\n",
              "      <td>1</td>\n",
              "      <td>0</td>\n",
              "      <td>0</td>\n",
              "      <td>-1.408142</td>\n",
              "      <td>0.693147</td>\n",
              "      <td>10.308986</td>\n",
              "      <td>1</td>\n",
              "      <td>0.0</td>\n",
              "      <td>1</td>\n",
              "      <td>31</td>\n",
              "      <td>0</td>\n",
              "      <td>0</td>\n",
              "      <td>0</td>\n",
              "      <td>1</td>\n",
              "      <td>0</td>\n",
              "      <td>0</td>\n",
              "      <td>0</td>\n",
              "      <td>0</td>\n",
              "      <td>0</td>\n",
              "      <td>0</td>\n",
              "      <td>0</td>\n",
              "      <td>1</td>\n",
              "      <td>1</td>\n",
              "      <td>0</td>\n",
              "      <td>0</td>\n",
              "      <td>0</td>\n",
              "      <td>1</td>\n",
              "      <td>0</td>\n",
              "      <td>1</td>\n",
              "      <td>0</td>\n",
              "      <td>0</td>\n",
              "      <td>0</td>\n",
              "      <td>0</td>\n",
              "      <td>0</td>\n",
              "      <td>0</td>\n",
              "      <td>1</td>\n",
              "      <td>0</td>\n",
              "      <td>0</td>\n",
              "      <td>1</td>\n",
              "      <td>0</td>\n",
              "      <td>10.615193</td>\n",
              "      <td>-4.587863</td>\n",
              "      <td>2.258340</td>\n",
              "      <td>33.587672</td>\n",
              "      <td>101.000993</td>\n",
              "      <td>1.982865</td>\n",
              "      <td>-0.976050</td>\n",
              "      <td>-14.516519</td>\n",
              "      <td>-43.652410</td>\n",
              "      <td>0.480453</td>\n",
              "      <td>7.145645</td>\n",
              "      <td>21.487563</td>\n",
              "      <td>106.275192</td>\n",
              "      <td>319.578566</td>\n",
              "      <td>961.0</td>\n",
              "    </tr>\n",
              "    <tr>\n",
              "      <th>3</th>\n",
              "      <td>16222</td>\n",
              "      <td>0</td>\n",
              "      <td>3.988984</td>\n",
              "      <td>0</td>\n",
              "      <td>0</td>\n",
              "      <td>0</td>\n",
              "      <td>-2.057471</td>\n",
              "      <td>1.098612</td>\n",
              "      <td>9.210440</td>\n",
              "      <td>0</td>\n",
              "      <td>0.0</td>\n",
              "      <td>1</td>\n",
              "      <td>22</td>\n",
              "      <td>0</td>\n",
              "      <td>0</td>\n",
              "      <td>0</td>\n",
              "      <td>1</td>\n",
              "      <td>0</td>\n",
              "      <td>0</td>\n",
              "      <td>0</td>\n",
              "      <td>0</td>\n",
              "      <td>1</td>\n",
              "      <td>0</td>\n",
              "      <td>0</td>\n",
              "      <td>0</td>\n",
              "      <td>0</td>\n",
              "      <td>1</td>\n",
              "      <td>0</td>\n",
              "      <td>0</td>\n",
              "      <td>0</td>\n",
              "      <td>1</td>\n",
              "      <td>1</td>\n",
              "      <td>0</td>\n",
              "      <td>0</td>\n",
              "      <td>0</td>\n",
              "      <td>0</td>\n",
              "      <td>0</td>\n",
              "      <td>1</td>\n",
              "      <td>0</td>\n",
              "      <td>1</td>\n",
              "      <td>0</td>\n",
              "      <td>0</td>\n",
              "      <td>0</td>\n",
              "      <td>15.911994</td>\n",
              "      <td>-8.207220</td>\n",
              "      <td>4.382347</td>\n",
              "      <td>36.740300</td>\n",
              "      <td>87.757649</td>\n",
              "      <td>4.233188</td>\n",
              "      <td>-2.260363</td>\n",
              "      <td>-18.950217</td>\n",
              "      <td>-45.264369</td>\n",
              "      <td>1.206949</td>\n",
              "      <td>10.118703</td>\n",
              "      <td>24.169470</td>\n",
              "      <td>84.832212</td>\n",
              "      <td>202.629688</td>\n",
              "      <td>484.0</td>\n",
              "    </tr>\n",
              "    <tr>\n",
              "      <th>4</th>\n",
              "      <td>101655</td>\n",
              "      <td>1</td>\n",
              "      <td>3.891820</td>\n",
              "      <td>0</td>\n",
              "      <td>0</td>\n",
              "      <td>1</td>\n",
              "      <td>-1.244723</td>\n",
              "      <td>0.693147</td>\n",
              "      <td>10.308986</td>\n",
              "      <td>1</td>\n",
              "      <td>0.0</td>\n",
              "      <td>1</td>\n",
              "      <td>107</td>\n",
              "      <td>0</td>\n",
              "      <td>1</td>\n",
              "      <td>0</td>\n",
              "      <td>0</td>\n",
              "      <td>0</td>\n",
              "      <td>0</td>\n",
              "      <td>0</td>\n",
              "      <td>0</td>\n",
              "      <td>0</td>\n",
              "      <td>1</td>\n",
              "      <td>0</td>\n",
              "      <td>0</td>\n",
              "      <td>0</td>\n",
              "      <td>1</td>\n",
              "      <td>0</td>\n",
              "      <td>0</td>\n",
              "      <td>0</td>\n",
              "      <td>1</td>\n",
              "      <td>1</td>\n",
              "      <td>0</td>\n",
              "      <td>0</td>\n",
              "      <td>0</td>\n",
              "      <td>0</td>\n",
              "      <td>0</td>\n",
              "      <td>0</td>\n",
              "      <td>1</td>\n",
              "      <td>1</td>\n",
              "      <td>0</td>\n",
              "      <td>0</td>\n",
              "      <td>0</td>\n",
              "      <td>15.146265</td>\n",
              "      <td>-4.844237</td>\n",
              "      <td>2.697604</td>\n",
              "      <td>40.120721</td>\n",
              "      <td>416.424772</td>\n",
              "      <td>1.549335</td>\n",
              "      <td>-0.862776</td>\n",
              "      <td>-12.831829</td>\n",
              "      <td>-133.185333</td>\n",
              "      <td>0.480453</td>\n",
              "      <td>7.145645</td>\n",
              "      <td>74.166748</td>\n",
              "      <td>106.275192</td>\n",
              "      <td>1103.061501</td>\n",
              "      <td>11449.0</td>\n",
              "    </tr>\n",
              "  </tbody>\n",
              "</table>\n",
              "</div>\n",
              "      <button class=\"colab-df-convert\" onclick=\"convertToInteractive('df-e6f6416b-e8be-4057-8715-145ee7589c18')\"\n",
              "              title=\"Convert this dataframe to an interactive table.\"\n",
              "              style=\"display:none;\">\n",
              "        \n",
              "  <svg xmlns=\"http://www.w3.org/2000/svg\" height=\"24px\"viewBox=\"0 0 24 24\"\n",
              "       width=\"24px\">\n",
              "    <path d=\"M0 0h24v24H0V0z\" fill=\"none\"/>\n",
              "    <path d=\"M18.56 5.44l.94 2.06.94-2.06 2.06-.94-2.06-.94-.94-2.06-.94 2.06-2.06.94zm-11 1L8.5 8.5l.94-2.06 2.06-.94-2.06-.94L8.5 2.5l-.94 2.06-2.06.94zm10 10l.94 2.06.94-2.06 2.06-.94-2.06-.94-.94-2.06-.94 2.06-2.06.94z\"/><path d=\"M17.41 7.96l-1.37-1.37c-.4-.4-.92-.59-1.43-.59-.52 0-1.04.2-1.43.59L10.3 9.45l-7.72 7.72c-.78.78-.78 2.05 0 2.83L4 21.41c.39.39.9.59 1.41.59.51 0 1.02-.2 1.41-.59l7.78-7.78 2.81-2.81c.8-.78.8-2.07 0-2.86zM5.41 20L4 18.59l7.72-7.72 1.47 1.35L5.41 20z\"/>\n",
              "  </svg>\n",
              "      </button>\n",
              "      \n",
              "  <style>\n",
              "    .colab-df-container {\n",
              "      display:flex;\n",
              "      flex-wrap:wrap;\n",
              "      gap: 12px;\n",
              "    }\n",
              "\n",
              "    .colab-df-convert {\n",
              "      background-color: #E8F0FE;\n",
              "      border: none;\n",
              "      border-radius: 50%;\n",
              "      cursor: pointer;\n",
              "      display: none;\n",
              "      fill: #1967D2;\n",
              "      height: 32px;\n",
              "      padding: 0 0 0 0;\n",
              "      width: 32px;\n",
              "    }\n",
              "\n",
              "    .colab-df-convert:hover {\n",
              "      background-color: #E2EBFA;\n",
              "      box-shadow: 0px 1px 2px rgba(60, 64, 67, 0.3), 0px 1px 3px 1px rgba(60, 64, 67, 0.15);\n",
              "      fill: #174EA6;\n",
              "    }\n",
              "\n",
              "    [theme=dark] .colab-df-convert {\n",
              "      background-color: #3B4455;\n",
              "      fill: #D2E3FC;\n",
              "    }\n",
              "\n",
              "    [theme=dark] .colab-df-convert:hover {\n",
              "      background-color: #434B5C;\n",
              "      box-shadow: 0px 1px 3px 1px rgba(0, 0, 0, 0.15);\n",
              "      filter: drop-shadow(0px 1px 2px rgba(0, 0, 0, 0.3));\n",
              "      fill: #FFFFFF;\n",
              "    }\n",
              "  </style>\n",
              "\n",
              "      <script>\n",
              "        const buttonEl =\n",
              "          document.querySelector('#df-e6f6416b-e8be-4057-8715-145ee7589c18 button.colab-df-convert');\n",
              "        buttonEl.style.display =\n",
              "          google.colab.kernel.accessAllowed ? 'block' : 'none';\n",
              "\n",
              "        async function convertToInteractive(key) {\n",
              "          const element = document.querySelector('#df-e6f6416b-e8be-4057-8715-145ee7589c18');\n",
              "          const dataTable =\n",
              "            await google.colab.kernel.invokeFunction('convertToInteractive',\n",
              "                                                     [key], {});\n",
              "          if (!dataTable) return;\n",
              "\n",
              "          const docLinkHtml = 'Like what you see? Visit the ' +\n",
              "            '<a target=\"_blank\" href=https://colab.research.google.com/notebooks/data_table.ipynb>data table notebook</a>'\n",
              "            + ' to learn more about interactive tables.';\n",
              "          element.innerHTML = '';\n",
              "          dataTable['output_type'] = 'display_data';\n",
              "          await google.colab.output.renderOutput(dataTable, element);\n",
              "          const docLink = document.createElement('div');\n",
              "          docLink.innerHTML = docLinkHtml;\n",
              "          element.appendChild(docLink);\n",
              "        }\n",
              "      </script>\n",
              "    </div>\n",
              "  </div>\n",
              "  "
            ]
          },
          "metadata": {},
          "execution_count": 157
        }
      ],
      "source": [
        "df.head()"
      ],
      "id": "MLXmz7RhXx9y"
    },
    {
      "cell_type": "markdown",
      "metadata": {
        "papermill": {
          "duration": 0.112035,
          "end_time": "2021-04-10T09:42:43.623775",
          "exception": false,
          "start_time": "2021-04-10T09:42:43.511740",
          "status": "completed"
        },
        "tags": [],
        "id": "j7tBBtutXx9y"
      },
      "source": [
        "# Building the model"
      ],
      "id": "j7tBBtutXx9y"
    },
    {
      "cell_type": "code",
      "execution_count": 158,
      "metadata": {
        "execution": {
          "iopub.execute_input": "2021-04-10T09:42:43.858795Z",
          "iopub.status.busy": "2021-04-10T09:42:43.858077Z",
          "iopub.status.idle": "2021-04-10T09:42:43.863102Z",
          "shell.execute_reply": "2021-04-10T09:42:43.863608Z"
        },
        "papermill": {
          "duration": 0.126669,
          "end_time": "2021-04-10T09:42:43.863803",
          "exception": false,
          "start_time": "2021-04-10T09:42:43.737134",
          "status": "completed"
        },
        "tags": [],
        "id": "i4A9fAgoXx9y"
      },
      "outputs": [],
      "source": [
        "def count_metrics(y_test, y_pred, y_proba):    \n",
        "    metrics = {}\n",
        "    metrics['accuracy'] = accuracy_score(y_test, y_pred)\n",
        "    metrics['f1'] = f1_score(y_test, y_pred)\n",
        "    metrics['roc_auc'] = roc_auc_score(y_test, y_probs)  \n",
        "    metrics['confusion'] = confusion_matrix(y_test, y_pred)\n",
        "    return metrics "
      ],
      "id": "i4A9fAgoXx9y"
    },
    {
      "cell_type": "code",
      "execution_count": 159,
      "metadata": {
        "execution": {
          "iopub.execute_input": "2021-04-10T09:42:44.102452Z",
          "iopub.status.busy": "2021-04-10T09:42:44.094812Z",
          "iopub.status.idle": "2021-04-10T09:42:44.181313Z",
          "shell.execute_reply": "2021-04-10T09:42:44.181782Z"
        },
        "papermill": {
          "duration": 0.205205,
          "end_time": "2021-04-10T09:42:44.181960",
          "exception": false,
          "start_time": "2021-04-10T09:42:43.976755",
          "status": "completed"
        },
        "tags": [],
        "id": "atUCHwuCXx9y"
      },
      "outputs": [],
      "source": [
        "# we split the sample by indicators in 'train'\n",
        "df_train = df.query('train == 1').drop(['train'], axis=1)\n",
        "df_test = df.query('train == 0').drop(['train'], axis=1)"
      ],
      "id": "atUCHwuCXx9y"
    },
    {
      "cell_type": "code",
      "execution_count": 160,
      "metadata": {
        "execution": {
          "iopub.execute_input": "2021-04-10T09:42:44.412801Z",
          "iopub.status.busy": "2021-04-10T09:42:44.411798Z",
          "iopub.status.idle": "2021-04-10T09:42:44.418061Z",
          "shell.execute_reply": "2021-04-10T09:42:44.417370Z"
        },
        "papermill": {
          "duration": 0.125968,
          "end_time": "2021-04-10T09:42:44.418213",
          "exception": false,
          "start_time": "2021-04-10T09:42:44.292245",
          "status": "completed"
        },
        "tags": [],
        "id": "VeamxR2XXx9z",
        "outputId": "4d57c6f2-cc15-47c0-d67f-dda337c81230",
        "colab": {
          "base_uri": "https://localhost:8080/"
        }
      },
      "outputs": [
        {
          "output_type": "stream",
          "name": "stdout",
          "text": [
            "Training set:\n",
            "(73799, 57)\n",
            "Testing set:\n",
            "(36349, 57)\n"
          ]
        }
      ],
      "source": [
        "# check for matching values\n",
        "print(\"Training set:\", df_train.shape,\n",
        "      \"Testing set:\", df_test.shape, sep='\\n')\n",
        "# the number of lines matches the original"
      ],
      "id": "VeamxR2XXx9z"
    },
    {
      "cell_type": "code",
      "execution_count": 161,
      "metadata": {
        "execution": {
          "iopub.execute_input": "2021-04-10T09:42:44.651297Z",
          "iopub.status.busy": "2021-04-10T09:42:44.644640Z",
          "iopub.status.idle": "2021-04-10T09:42:44.705091Z",
          "shell.execute_reply": "2021-04-10T09:42:44.704281Z"
        },
        "papermill": {
          "duration": 0.175083,
          "end_time": "2021-04-10T09:42:44.705233",
          "exception": false,
          "start_time": "2021-04-10T09:42:44.530150",
          "status": "completed"
        },
        "tags": [],
        "id": "8oh7-S7eXx9z"
      },
      "outputs": [],
      "source": [
        "# once again divide the training data into test and validation\n",
        "X = df_train.drop(['default'], axis=1).values\n",
        "Y = df_train['default'].values\n",
        "X_train, X_test, y_train, y_test = train_test_split(X, Y,\n",
        "                                      test_size=0.20, random_state=42)"
      ],
      "id": "8oh7-S7eXx9z"
    },
    {
      "cell_type": "markdown",
      "metadata": {
        "papermill": {
          "duration": 0.111293,
          "end_time": "2021-04-10T09:42:44.929135",
          "exception": false,
          "start_time": "2021-04-10T09:42:44.817842",
          "status": "completed"
        },
        "tags": [],
        "id": "nbzEmP5XXx9z"
      },
      "source": [
        "**Model 1 - Simple model**"
      ],
      "id": "nbzEmP5XXx9z"
    },
    {
      "cell_type": "code",
      "execution_count": 162,
      "metadata": {
        "execution": {
          "iopub.execute_input": "2021-04-10T09:42:45.160787Z",
          "iopub.status.busy": "2021-04-10T09:42:45.160084Z",
          "iopub.status.idle": "2021-04-10T09:42:46.164590Z",
          "shell.execute_reply": "2021-04-10T09:42:46.163873Z"
        },
        "papermill": {
          "duration": 1.123329,
          "end_time": "2021-04-10T09:42:46.164768",
          "exception": false,
          "start_time": "2021-04-10T09:42:45.041439",
          "status": "completed"
        },
        "tags": [],
        "id": "ulq06sPGXx9z"
      },
      "outputs": [],
      "source": [
        "# let's train on this simple model\n",
        "model_1 = LogisticRegression(solver = 'liblinear')\n",
        "model_1.fit(X_train, y_train)\n",
        "y_pred = model_1.predict(X_test)\n",
        "y_proba = model_1.predict_proba(X_test)[:,1]"
      ],
      "id": "ulq06sPGXx9z"
    },
    {
      "cell_type": "code",
      "execution_count": 163,
      "metadata": {
        "execution": {
          "iopub.execute_input": "2021-04-10T09:42:46.430736Z",
          "iopub.status.busy": "2021-04-10T09:42:46.429849Z",
          "iopub.status.idle": "2021-04-10T09:42:46.455405Z",
          "shell.execute_reply": "2021-04-10T09:42:46.454359Z"
        },
        "papermill": {
          "duration": 0.148721,
          "end_time": "2021-04-10T09:42:46.455667",
          "exception": false,
          "start_time": "2021-04-10T09:42:46.306946",
          "status": "completed"
        },
        "tags": [],
        "id": "ukqTOpavXx9z",
        "outputId": "b476a74a-789c-4e66-80ca-c8ff99819c56",
        "colab": {
          "base_uri": "https://localhost:8080/"
        }
      },
      "outputs": [
        {
          "output_type": "stream",
          "name": "stdout",
          "text": [
            "accuracy_score: 0.8762\n",
            "f1_score: 0.0011\n",
            "recall_score: 0.0005\n",
            "MSE: 0.1238\n"
          ]
        }
      ],
      "source": [
        "# Metrics checking\n",
        "print('accuracy_score: {}'.format(np.round(accuracy_score(y_test, y_pred), 4)))\n",
        "print('f1_score: {}'.format(np.round(f1_score(y_test, y_pred), 4)))\n",
        "print('recall_score: {}'.format(np.round(recall_score(y_test, y_pred), 4)))\n",
        "print('MSE: {}'.format(np.round(mean_squared_error(y_test, y_pred), 4)))\n",
        "# low f1 mean we're in trouble"
      ],
      "id": "ukqTOpavXx9z"
    },
    {
      "cell_type": "code",
      "execution_count": 164,
      "metadata": {
        "execution": {
          "iopub.execute_input": "2021-04-10T09:42:46.794895Z",
          "iopub.status.busy": "2021-04-10T09:42:46.794251Z",
          "iopub.status.idle": "2021-04-10T09:42:46.818519Z",
          "shell.execute_reply": "2021-04-10T09:42:46.819063Z"
        },
        "papermill": {
          "duration": 0.196836,
          "end_time": "2021-04-10T09:42:46.819258",
          "exception": false,
          "start_time": "2021-04-10T09:42:46.622422",
          "status": "completed"
        },
        "tags": [],
        "id": "C_9EEJQnXx9z",
        "outputId": "5eb801e9-7ae6-45a4-c1c8-97f47ef82afa",
        "colab": {
          "base_uri": "https://localhost:8080/"
        }
      },
      "outputs": [
        {
          "output_type": "execute_result",
          "data": {
            "text/plain": [
              "array([[12931,     2],\n",
              "       [ 1826,     1]])"
            ]
          },
          "metadata": {},
          "execution_count": 164
        }
      ],
      "source": [
        "#let's look at the Сonfusion Matrix\n",
        "confusion_matrix(y_test, y_pred)\n",
        "# looks like overfitting"
      ],
      "id": "C_9EEJQnXx9z"
    },
    {
      "cell_type": "code",
      "execution_count": 165,
      "metadata": {
        "execution": {
          "iopub.execute_input": "2021-04-10T09:42:47.047739Z",
          "iopub.status.busy": "2021-04-10T09:42:47.047123Z",
          "iopub.status.idle": "2021-04-10T09:42:47.343309Z",
          "shell.execute_reply": "2021-04-10T09:42:47.343863Z"
        },
        "papermill": {
          "duration": 0.412356,
          "end_time": "2021-04-10T09:42:47.344077",
          "exception": false,
          "start_time": "2021-04-10T09:42:46.931721",
          "status": "completed"
        },
        "tags": [],
        "id": "AEmMrUnzXx9z",
        "outputId": "2e1d3bfe-a816-46f5-cc2d-8f096f8ef488",
        "colab": {
          "base_uri": "https://localhost:8080/",
          "height": 298
        }
      },
      "outputs": [
        {
          "output_type": "display_data",
          "data": {
            "text/plain": [
              "<Figure size 432x288 with 1 Axes>"
            ],
            "image/png": "[encoded data removed]"
          },
          "metadata": {
            "needs_background": "light"
          }
        }
      ],
      "source": [
        "#Building ROC AUС\n",
        "\n",
        "\n",
        "fpr, tpr, threshold = roc_curve(y_test, y_proba)\n",
        "roc_auc = roc_auc_score(y_test, y_proba)\n",
        "\n",
        "plt.figure()\n",
        "plt.plot([0, 1], label='Baseline', linestyle='--')\n",
        "plt.plot(fpr, tpr, label = 'Regression')\n",
        "plt.title('Logistic Regression ROC AUC = %0.3f' % roc_auc)\n",
        "plt.ylabel('True Positive Rate')\n",
        "plt.xlabel('False Positive Rate')\n",
        "plt.legend(loc = 'lower right')\n",
        "plt.show()"
      ],
      "id": "AEmMrUnzXx9z"
    },
    {
      "cell_type": "markdown",
      "metadata": {
        "papermill": {
          "duration": 0.115815,
          "end_time": "2021-04-10T09:42:47.574709",
          "exception": false,
          "start_time": "2021-04-10T09:42:47.458894",
          "status": "completed"
        },
        "tags": [],
        "id": "CdoRlBlHXx90"
      },
      "source": [
        "**Model 2 - Oversampling**"
      ],
      "id": "CdoRlBlHXx90"
    },
    {
      "cell_type": "code",
      "execution_count": 166,
      "metadata": {
        "execution": {
          "iopub.execute_input": "2021-04-10T09:42:47.812638Z",
          "iopub.status.busy": "2021-04-10T09:42:47.811936Z",
          "iopub.status.idle": "2021-04-10T09:42:48.090924Z",
          "shell.execute_reply": "2021-04-10T09:42:48.090340Z"
        },
        "papermill": {
          "duration": 0.402377,
          "end_time": "2021-04-10T09:42:48.091097",
          "exception": false,
          "start_time": "2021-04-10T09:42:47.688720",
          "status": "completed"
        },
        "tags": [],
        "id": "va8isCssXx90",
        "outputId": "e31c91b3-7d66-4aeb-8b3e-1bb2f39dd1f1",
        "colab": {
          "base_uri": "https://localhost:8080/",
          "height": 340
        }
      },
      "outputs": [
        {
          "output_type": "execute_result",
          "data": {
            "text/plain": [
              "<matplotlib.axes._subplots.AxesSubplot at 0x7fd37f171850>"
            ]
          },
          "metadata": {},
          "execution_count": 166
        },
        {
          "output_type": "display_data",
          "data": {
            "text/plain": [
              "<Figure size 360x360 with 1 Axes>"
            ],
            "image/png": "[encoded data removed]"
          },
          "metadata": {
            "needs_background": "light"
          }
        }
      ],
      "source": [
        "# Let's look at the distribution of the target feature 'default':\n",
        "df_train['default'].plot(kind = 'hist',figsize=(5,5)) \n",
        "#there are significantly more customers without default "
      ],
      "id": "va8isCssXx90"
    },
    {
      "cell_type": "code",
      "execution_count": 167,
      "metadata": {
        "execution": {
          "iopub.execute_input": "2021-04-10T09:42:48.332165Z",
          "iopub.status.busy": "2021-04-10T09:42:48.331478Z",
          "iopub.status.idle": "2021-04-10T09:42:48.540455Z",
          "shell.execute_reply": "2021-04-10T09:42:48.540963Z"
        },
        "papermill": {
          "duration": 0.333521,
          "end_time": "2021-04-10T09:42:48.541181",
          "exception": false,
          "start_time": "2021-04-10T09:42:48.207660",
          "status": "completed"
        },
        "tags": [],
        "id": "32a1UAlVXx90"
      },
      "outputs": [],
      "source": [
        "#We clearly see the imbalance in the sample, in this case the model tends to overfit.\n",
        "#Let's try to apply oversampling in this case to smooth out this difference.\n",
        "zeroes = df_train[df_train['default']==0]\n",
        "ones = df_train[df_train['default']==1]\n",
        "default_new = int(len(zeroes)/len(ones))\n",
        "for i in range(default_new):\n",
        "    df_train = df_train.append(ones).reset_index(drop=True) "
      ],
      "id": "32a1UAlVXx90"
    },
    {
      "cell_type": "code",
      "execution_count": 168,
      "metadata": {
        "execution": {
          "iopub.execute_input": "2021-04-10T09:42:48.778751Z",
          "iopub.status.busy": "2021-04-10T09:42:48.778105Z",
          "iopub.status.idle": "2021-04-10T09:42:48.905359Z",
          "shell.execute_reply": "2021-04-10T09:42:48.905845Z"
        },
        "papermill": {
          "duration": 0.248171,
          "end_time": "2021-04-10T09:42:48.906073",
          "exception": false,
          "start_time": "2021-04-10T09:42:48.657902",
          "status": "completed"
        },
        "tags": [],
        "id": "lZ4vE1zAXx90"
      },
      "outputs": [],
      "source": [
        "# once again divide the training data into test and validation\n",
        "X = df_train.drop(['default'], axis=1).values\n",
        "Y = df_train['default'].values\n",
        "X_train, X_test, y_train, y_test = train_test_split(X, Y, test_size=0.20, random_state=42)"
      ],
      "id": "lZ4vE1zAXx90"
    },
    {
      "cell_type": "code",
      "execution_count": 169,
      "metadata": {
        "execution": {
          "iopub.execute_input": "2021-04-10T09:42:49.145719Z",
          "iopub.status.busy": "2021-04-10T09:42:49.144956Z",
          "iopub.status.idle": "2021-04-10T09:42:58.789781Z",
          "shell.execute_reply": "2021-04-10T09:42:58.790429Z"
        },
        "papermill": {
          "duration": 9.766016,
          "end_time": "2021-04-10T09:42:58.790652",
          "exception": false,
          "start_time": "2021-04-10T09:42:49.024636",
          "status": "completed"
        },
        "tags": [],
        "id": "qnZcfrzdXx90"
      },
      "outputs": [],
      "source": [
        "# Training the model\n",
        "model_1 = LogisticRegression(solver = 'liblinear')\n",
        "model_1.fit(X_train, y_train)\n",
        "y_pred = model_1.predict(X_test)\n",
        "y_proba = model_1.predict_proba(X_test)[:,1]"
      ],
      "id": "qnZcfrzdXx90"
    },
    {
      "cell_type": "code",
      "execution_count": 170,
      "metadata": {
        "execution": {
          "iopub.execute_input": "2021-04-10T09:42:59.061848Z",
          "iopub.status.busy": "2021-04-10T09:42:59.061202Z",
          "iopub.status.idle": "2021-04-10T09:42:59.109781Z",
          "shell.execute_reply": "2021-04-10T09:42:59.109108Z"
        },
        "papermill": {
          "duration": 0.174385,
          "end_time": "2021-04-10T09:42:59.109927",
          "exception": false,
          "start_time": "2021-04-10T09:42:58.935542",
          "status": "completed"
        },
        "tags": [],
        "id": "n3e7H4Q-Xx90",
        "outputId": "30704157-24eb-4657-bb59-fde8191fb1d1",
        "colab": {
          "base_uri": "https://localhost:8080/"
        }
      },
      "outputs": [
        {
          "output_type": "stream",
          "name": "stdout",
          "text": [
            "accuracy_score: 0.6731\n",
            "f1_score: 0.6785\n",
            "recall_score: 0.6889\n",
            "MSE: 0.3269\n"
          ]
        }
      ],
      "source": [
        "# checking metrics\n",
        "print('accuracy_score: {}'.format(np.round(accuracy_score(y_test, y_pred), 4)))\n",
        "print('f1_score: {}'.format(np.round(f1_score(y_test, y_pred), 4)))\n",
        "print('recall_score: {}'.format(np.round(recall_score(y_test, y_pred), 4)))\n",
        "print('MSE: {}'.format(np.round(mean_squared_error(y_test, y_pred), 4)))"
      ],
      "id": "n3e7H4Q-Xx90"
    },
    {
      "cell_type": "code",
      "execution_count": 171,
      "metadata": {
        "execution": {
          "iopub.execute_input": "2021-04-10T09:42:59.352778Z",
          "iopub.status.busy": "2021-04-10T09:42:59.352100Z",
          "iopub.status.idle": "2021-04-10T09:42:59.391326Z",
          "shell.execute_reply": "2021-04-10T09:42:59.390600Z"
        },
        "papermill": {
          "duration": 0.162695,
          "end_time": "2021-04-10T09:42:59.391493",
          "exception": false,
          "start_time": "2021-04-10T09:42:59.228798",
          "status": "completed"
        },
        "tags": [],
        "id": "hRMC574yXx90",
        "outputId": "636e50af-f401-4474-c9b9-6f18dd0e9e37",
        "colab": {
          "base_uri": "https://localhost:8080/"
        }
      },
      "outputs": [
        {
          "output_type": "execute_result",
          "data": {
            "text/plain": [
              "array([[8535, 4450],\n",
              "       [4051, 8971]])"
            ]
          },
          "metadata": {},
          "execution_count": 171
        }
      ],
      "source": [
        "#looking at the Сonfusion Matrix\n",
        "confusion_matrix(y_test, y_pred)\n",
        "# it is worth admitting that the model after the transformation is better, but it is still worth to work on it"
      ],
      "id": "hRMC574yXx90"
    },
    {
      "cell_type": "code",
      "execution_count": 172,
      "metadata": {
        "execution": {
          "iopub.execute_input": "2021-04-10T09:42:59.639926Z",
          "iopub.status.busy": "2021-04-10T09:42:59.639250Z",
          "iopub.status.idle": "2021-04-10T09:42:59.882320Z",
          "shell.execute_reply": "2021-04-10T09:42:59.881607Z"
        },
        "papermill": {
          "duration": 0.368037,
          "end_time": "2021-04-10T09:42:59.882469",
          "exception": false,
          "start_time": "2021-04-10T09:42:59.514432",
          "status": "completed"
        },
        "tags": [],
        "id": "h4rIccuPXx91",
        "outputId": "e30a798c-797c-4248-cb2f-65b26cf75031",
        "colab": {
          "base_uri": "https://localhost:8080/",
          "height": 298
        }
      },
      "outputs": [
        {
          "output_type": "display_data",
          "data": {
            "text/plain": [
              "<Figure size 432x288 with 1 Axes>"
            ],
            "image/png": "[encoded data removed]"
          },
          "metadata": {
            "needs_background": "light"
          }
        }
      ],
      "source": [
        "#building ROC AUС\n",
        "fpr, tpr, threshold = roc_curve(y_test, y_proba)\n",
        "roc_auc = roc_auc_score(y_test, y_proba)\n",
        "\n",
        "plt.figure()\n",
        "plt.plot([0, 1], label='Baseline', linestyle='--')\n",
        "plt.plot(fpr, tpr, label = 'Regression')\n",
        "plt.title('Logistic Regression ROC AUC = %0.3f' % roc_auc)\n",
        "plt.ylabel('True Positive Rate')\n",
        "plt.xlabel('False Positive Rate')\n",
        "plt.legend(loc = 'lower right')\n",
        "plt.show()"
      ],
      "id": "h4rIccuPXx91"
    },
    {
      "cell_type": "markdown",
      "metadata": {
        "papermill": {
          "duration": 0.118696,
          "end_time": "2021-04-10T09:43:00.123445",
          "exception": false,
          "start_time": "2021-04-10T09:43:00.004749",
          "status": "completed"
        },
        "tags": [],
        "id": "qFzDucLYXx91"
      },
      "source": [
        "**Model 3. Normalization and Oversampling**"
      ],
      "id": "qFzDucLYXx91"
    },
    {
      "cell_type": "code",
      "execution_count": 173,
      "metadata": {
        "execution": {
          "iopub.execute_input": "2021-04-10T09:43:00.378157Z",
          "iopub.status.busy": "2021-04-10T09:43:00.375681Z",
          "iopub.status.idle": "2021-04-10T09:43:06.975069Z",
          "shell.execute_reply": "2021-04-10T09:43:06.975708Z"
        },
        "papermill": {
          "duration": 6.729218,
          "end_time": "2021-04-10T09:43:06.975924",
          "exception": false,
          "start_time": "2021-04-10T09:43:00.246706",
          "status": "completed"
        },
        "tags": [],
        "id": "qyUsGqasXx91"
      },
      "outputs": [],
      "source": [
        "#Normalization\n",
        "df_train_balanced=df_train\n",
        "num_cols_std = StandardScaler().fit_transform(df_train_balanced[num_cols].values)\n",
        "\n",
        "# here we remove the old data and replace them with normalized ones\n",
        "X = np.hstack([df_train_balanced.drop(num_cols + ['client_id','default'],\n",
        "                                      axis=1), num_cols_std])\n",
        "Y = df_train_balanced['default'].values\n",
        "\n",
        "# splitting again\n",
        "X_train, X_test, y_train, y_test = train_test_split(X, Y, \n",
        "                                          test_size=0.20, random_state=42)\n",
        "\n",
        "#Training \n",
        "model_std_balanced = LogisticRegression(solver = 'liblinear')\n",
        "model_std_balanced.fit(X_train, y_train)\n",
        "y_pred = model_std_balanced.predict(X_test)\n",
        "y_proba = model_std_balanced.predict_proba(X_test)[:,1]"
      ],
      "id": "qyUsGqasXx91"
    },
    {
      "cell_type": "code",
      "execution_count": 174,
      "metadata": {
        "execution": {
          "iopub.execute_input": "2021-04-10T09:43:07.255355Z",
          "iopub.status.busy": "2021-04-10T09:43:07.254476Z",
          "iopub.status.idle": "2021-04-10T09:43:07.305485Z",
          "shell.execute_reply": "2021-04-10T09:43:07.306149Z"
        },
        "papermill": {
          "duration": 0.180357,
          "end_time": "2021-04-10T09:43:07.306332",
          "exception": false,
          "start_time": "2021-04-10T09:43:07.125975",
          "status": "completed"
        },
        "tags": [],
        "id": "L25CrA73Xx91",
        "outputId": "695ec378-72ba-4778-9ccd-b75fd75b5b0f",
        "colab": {
          "base_uri": "https://localhost:8080/"
        }
      },
      "outputs": [
        {
          "output_type": "stream",
          "name": "stdout",
          "text": [
            "accuracy_score: 0.6749\n",
            "f1_score: 0.6797\n",
            "recall_score: 0.6888\n",
            "MSE: 0.3251\n"
          ]
        }
      ],
      "source": [
        "# checking metrics\n",
        "print('accuracy_score: {}'.format(np.round(accuracy_score(y_test, y_pred), 4)))\n",
        "print('f1_score: {}'.format(np.round(f1_score(y_test, y_pred), 4)))\n",
        "print('recall_score: {}'.format(np.round(recall_score(y_test, y_pred), 4)))\n",
        "print('MSE: {}'.format(np.round(mean_squared_error(y_test, y_pred), 4)))"
      ],
      "id": "L25CrA73Xx91"
    },
    {
      "cell_type": "code",
      "execution_count": 175,
      "metadata": {
        "execution": {
          "iopub.execute_input": "2021-04-10T09:43:07.555238Z",
          "iopub.status.busy": "2021-04-10T09:43:07.554471Z",
          "iopub.status.idle": "2021-04-10T09:43:07.617319Z",
          "shell.execute_reply": "2021-04-10T09:43:07.617810Z"
        },
        "papermill": {
          "duration": 0.187765,
          "end_time": "2021-04-10T09:43:07.617995",
          "exception": false,
          "start_time": "2021-04-10T09:43:07.430230",
          "status": "completed"
        },
        "tags": [],
        "id": "WMcsjDX_Xx91",
        "outputId": "3bd1864d-9551-419a-ed3d-c7f12dec9a7e",
        "colab": {
          "base_uri": "https://localhost:8080/"
        }
      },
      "outputs": [
        {
          "output_type": "execute_result",
          "data": {
            "text/plain": [
              "array([[8582, 4403],\n",
              "       [4052, 8970]])"
            ]
          },
          "metadata": {},
          "execution_count": 175
        }
      ],
      "source": [
        "#looking at the Сonfusion Matrix\n",
        "confusion_matrix(y_test, y_pred)"
      ],
      "id": "WMcsjDX_Xx91"
    },
    {
      "cell_type": "code",
      "execution_count": 176,
      "metadata": {
        "execution": {
          "iopub.execute_input": "2021-04-10T09:43:07.883347Z",
          "iopub.status.busy": "2021-04-10T09:43:07.882630Z",
          "iopub.status.idle": "2021-04-10T09:43:08.196483Z",
          "shell.execute_reply": "2021-04-10T09:43:08.194934Z"
        },
        "papermill": {
          "duration": 0.450389,
          "end_time": "2021-04-10T09:43:08.196677",
          "exception": false,
          "start_time": "2021-04-10T09:43:07.746288",
          "status": "completed"
        },
        "tags": [],
        "id": "ojzs7oHdXx91",
        "outputId": "623c5adb-825b-46e0-d4af-340b3739bc39",
        "colab": {
          "base_uri": "https://localhost:8080/",
          "height": 298
        }
      },
      "outputs": [
        {
          "output_type": "display_data",
          "data": {
            "text/plain": [
              "<Figure size 432x288 with 1 Axes>"
            ],
            "image/png": "[encoded data removed]"
          },
          "metadata": {
            "needs_background": "light"
          }
        }
      ],
      "source": [
        "#building ROC AUС\n",
        "fpr, tpr, threshold = roc_curve(y_test, y_proba)\n",
        "roc_auc = roc_auc_score(y_test, y_proba)\n",
        "\n",
        "plt.figure()\n",
        "plt.plot([0, 1], label='Baseline', linestyle='--')\n",
        "plt.plot(fpr, tpr, label = 'Regression')\n",
        "plt.title('Logistic Regression ROC AUC = %0.3f' % roc_auc)\n",
        "plt.ylabel('True Positive Rate')\n",
        "plt.xlabel('False Positive Rate')\n",
        "plt.legend(loc = 'lower right')\n",
        "plt.show()\n",
        "# overall performance is better, but not significantly"
      ],
      "id": "ojzs7oHdXx91"
    },
    {
      "cell_type": "markdown",
      "metadata": {
        "papermill": {
          "duration": 0.126212,
          "end_time": "2021-04-10T09:43:08.453037",
          "exception": false,
          "start_time": "2021-04-10T09:43:08.326825",
          "status": "completed"
        },
        "tags": [],
        "id": "QZOboy-wXx91"
      },
      "source": [
        "**Model 4 - With selection of parameters**"
      ],
      "id": "QZOboy-wXx91"
    },
    {
      "cell_type": "code",
      "execution_count": 177,
      "metadata": {
        "execution": {
          "iopub.execute_input": "2021-04-10T09:43:08.712325Z",
          "iopub.status.busy": "2021-04-10T09:43:08.711670Z",
          "iopub.status.idle": "2021-04-10T09:43:08.717376Z",
          "shell.execute_reply": "2021-04-10T09:43:08.716566Z"
        },
        "papermill": {
          "duration": 0.136911,
          "end_time": "2021-04-10T09:43:08.717578",
          "exception": false,
          "start_time": "2021-04-10T09:43:08.580667",
          "status": "completed"
        },
        "tags": [],
        "id": "DFg4CmONXx92"
      },
      "outputs": [],
      "source": [
        "import warnings\n",
        "warnings.simplefilter('ignore')"
      ],
      "id": "DFg4CmONXx92"
    },
    {
      "cell_type": "code",
      "execution_count": 178,
      "metadata": {
        "execution": {
          "iopub.execute_input": "2021-04-10T09:43:09.102370Z",
          "iopub.status.busy": "2021-04-10T09:43:09.101406Z",
          "iopub.status.idle": "2021-04-10T09:43:09.107846Z",
          "shell.execute_reply": "2021-04-10T09:43:09.108723Z"
        },
        "papermill": {
          "duration": 0.198379,
          "end_time": "2021-04-10T09:43:09.108986",
          "exception": false,
          "start_time": "2021-04-10T09:43:08.910607",
          "status": "completed"
        },
        "tags": [],
        "id": "4Lwf0WfaXx92"
      },
      "outputs": [],
      "source": [
        "# function for selecting the best parameters\n",
        "def regularise(X_train, y_train):\n",
        "    C = np.logspace(0, 4, 10)\n",
        "    penalty = ['l1', 'l2']\n",
        "    hyperparameters = dict(C=C, penalty=penalty)\n",
        "    model = LogisticRegression(random_state=42)\n",
        "    model.fit(X_train, y_train)\n",
        "\n",
        "    clf = GridSearchCV(model, hyperparameters, cv=5, verbose=0)\n",
        "\n",
        "    best_model = clf.fit(X_train, y_train)\n",
        "\n",
        "    best_penalty = best_model.best_estimator_.get_params()['penalty']\n",
        "    best_c = best_model.best_estimator_.get_params()['C']\n",
        "    best_solver = best_model.best_estimator_.get_params()['solver']\n",
        "    return best_penalty, best_c, best_solver"
      ],
      "id": "4Lwf0WfaXx92"
    },
    {
      "cell_type": "code",
      "execution_count": 107,
      "metadata": {
        "execution": {
          "iopub.execute_input": "2021-04-10T09:43:09.480172Z",
          "iopub.status.busy": "2021-04-10T09:43:09.479275Z",
          "iopub.status.idle": "2021-04-10T09:45:21.237836Z",
          "shell.execute_reply": "2021-04-10T09:45:21.239240Z"
        },
        "papermill": {
          "duration": 131.947194,
          "end_time": "2021-04-10T09:45:21.239477",
          "exception": false,
          "start_time": "2021-04-10T09:43:09.292283",
          "status": "completed"
        },
        "tags": [],
        "id": "SQHBofvLXx92",
        "outputId": "4dd053f9-6e13-48d3-aeca-cb45f6b851c2",
        "colab": {
          "base_uri": "https://localhost:8080/"
        }
      },
      "outputs": [
        {
          "output_type": "execute_result",
          "data": {
            "text/plain": [
              "('l2', 3593.813663804626, 'lbfgs')"
            ]
          },
          "metadata": {},
          "execution_count": 107
        }
      ],
      "source": [
        "best_penalty, best_c, best_solver = regularise(X_train, y_train)\n",
        "best_penalty, best_c, best_solver"
      ],
      "id": "SQHBofvLXx92"
    },
    {
      "cell_type": "code",
      "execution_count": 108,
      "metadata": {
        "execution": {
          "iopub.execute_input": "2021-04-10T09:45:21.601905Z",
          "iopub.status.busy": "2021-04-10T09:45:21.600602Z",
          "iopub.status.idle": "2021-04-10T09:45:27.266244Z",
          "shell.execute_reply": "2021-04-10T09:45:27.265533Z"
        },
        "papermill": {
          "duration": 5.849651,
          "end_time": "2021-04-10T09:45:27.266419",
          "exception": false,
          "start_time": "2021-04-10T09:45:21.416768",
          "status": "completed"
        },
        "tags": [],
        "id": "3AiShQgDXx92"
      },
      "outputs": [],
      "source": [
        "# look at the model with the best parameters\n",
        "model_finish = LogisticRegression(penalty='l2', C=2.7825594022071245, \n",
        "                  class_weight='balanced', max_iter=1000, solver = 'liblinear')\n",
        "model_finish.fit(X_train, y_train)\n",
        "\n",
        "y_pred = model_finish.predict(X_test)\n",
        "y_proba = model_finish.predict_proba(X_test)[:,1]"
      ],
      "id": "3AiShQgDXx92"
    },
    {
      "cell_type": "code",
      "execution_count": 109,
      "metadata": {
        "execution": {
          "iopub.execute_input": "2021-04-10T09:45:27.554341Z",
          "iopub.status.busy": "2021-04-10T09:45:27.553592Z",
          "iopub.status.idle": "2021-04-10T09:45:27.601064Z",
          "shell.execute_reply": "2021-04-10T09:45:27.600145Z"
        },
        "papermill": {
          "duration": 0.180108,
          "end_time": "2021-04-10T09:45:27.601235",
          "exception": false,
          "start_time": "2021-04-10T09:45:27.421127",
          "status": "completed"
        },
        "tags": [],
        "id": "XR1qH7MEXx92",
        "outputId": "f14cad85-861c-419c-a18c-3a066adcc145",
        "colab": {
          "base_uri": "https://localhost:8080/"
        }
      },
      "outputs": [
        {
          "output_type": "stream",
          "name": "stdout",
          "text": [
            "accuracy_score: 0.6744\n",
            "f1_score: 0.6759\n",
            "recall_score: 0.6782\n",
            "MSE: 0.3256\n"
          ]
        }
      ],
      "source": [
        "# checking metrics\n",
        "print('accuracy_score: {}'.format(np.round(accuracy_score(y_test, y_pred), 4)))\n",
        "print('f1_score: {}'.format(np.round(f1_score(y_test, y_pred), 4)))\n",
        "print('recall_score: {}'.format(np.round(recall_score(y_test, y_pred), 4)))\n",
        "print('MSE: {}'.format(np.round(mean_squared_error(y_test, y_pred), 4)))"
      ],
      "id": "XR1qH7MEXx92"
    },
    {
      "cell_type": "code",
      "execution_count": 110,
      "metadata": {
        "execution": {
          "iopub.execute_input": "2021-04-10T09:45:27.972346Z",
          "iopub.status.busy": "2021-04-10T09:45:27.971511Z",
          "iopub.status.idle": "2021-04-10T09:45:28.009023Z",
          "shell.execute_reply": "2021-04-10T09:45:28.008229Z"
        },
        "papermill": {
          "duration": 0.221634,
          "end_time": "2021-04-10T09:45:28.009174",
          "exception": false,
          "start_time": "2021-04-10T09:45:27.787540",
          "status": "completed"
        },
        "tags": [],
        "id": "uqaq637qXx92",
        "outputId": "4772616b-b5a1-45cf-88c7-f1ecacf73ac4",
        "colab": {
          "base_uri": "https://localhost:8080/"
        }
      },
      "outputs": [
        {
          "output_type": "execute_result",
          "data": {
            "text/plain": [
              "array([[8707, 4278],\n",
              "       [4191, 8831]])"
            ]
          },
          "metadata": {},
          "execution_count": 110
        }
      ],
      "source": [
        "# looking at the Сonfusion Matrix\n",
        "confusion_matrix(y_test, y_pred)"
      ],
      "id": "uqaq637qXx92"
    },
    {
      "cell_type": "code",
      "execution_count": 179,
      "metadata": {
        "execution": {
          "iopub.execute_input": "2021-04-10T09:45:28.267828Z",
          "iopub.status.busy": "2021-04-10T09:45:28.267180Z",
          "iopub.status.idle": "2021-04-10T09:45:28.502907Z",
          "shell.execute_reply": "2021-04-10T09:45:28.502347Z"
        },
        "papermill": {
          "duration": 0.369466,
          "end_time": "2021-04-10T09:45:28.503083",
          "exception": false,
          "start_time": "2021-04-10T09:45:28.133617",
          "status": "completed"
        },
        "tags": [],
        "id": "HIvKQPgDXx92",
        "outputId": "355fdd03-908e-48c0-864a-71835d663759",
        "colab": {
          "base_uri": "https://localhost:8080/",
          "height": 298
        }
      },
      "outputs": [
        {
          "output_type": "display_data",
          "data": {
            "text/plain": [
              "<Figure size 432x288 with 1 Axes>"
            ],
            "image/png": "[encoded data removed]"
          },
          "metadata": {
            "needs_background": "light"
          }
        }
      ],
      "source": [
        "#building ROC AUС\n",
        "fpr, tpr, threshold = roc_curve(y_test, y_proba)\n",
        "roc_auc = roc_auc_score(y_test, y_proba)\n",
        "\n",
        "plt.figure()\n",
        "plt.plot([0, 1], label='Baseline', linestyle='--')\n",
        "plt.plot(fpr, tpr, label = 'Regression')\n",
        "plt.title('Logistic Regression ROC AUC = %0.3f' % roc_auc)\n",
        "plt.ylabel('True Positive Rate')\n",
        "plt.xlabel('False Positive Rate')\n",
        "plt.legend(loc = 'lower right')\n",
        "plt.show()\n",
        "# in general, the performance is better, let's stop there"
      ],
      "id": "HIvKQPgDXx92"
    },
    {
      "cell_type": "markdown",
      "metadata": {
        "papermill": {
          "duration": 0.126055,
          "end_time": "2021-04-10T09:45:28.756265",
          "exception": false,
          "start_time": "2021-04-10T09:45:28.630210",
          "status": "completed"
        },
        "tags": [],
        "id": "8SEUArGdXx93"
      },
      "source": [
        "Conclusion: we did a complex of standard manipulations to select the learning model and its best parameters. This made it possible to obtain decent and stable results in all parts of the sample."
      ],
      "id": "8SEUArGdXx93"
    },
    {
      "cell_type": "markdown",
      "metadata": {
        "papermill": {
          "duration": 0.127749,
          "end_time": "2021-04-10T09:45:29.010427",
          "exception": false,
          "start_time": "2021-04-10T09:45:28.882678",
          "status": "completed"
        },
        "tags": [],
        "id": "XatJGI2AXx93"
      },
      "source": [
        "# Submission"
      ],
      "id": "XatJGI2AXx93"
    },
    {
      "cell_type": "code",
      "execution_count": 112,
      "metadata": {
        "execution": {
          "iopub.execute_input": "2021-04-10T09:45:29.271431Z",
          "iopub.status.busy": "2021-04-10T09:45:29.270490Z",
          "iopub.status.idle": "2021-04-10T09:45:29.288714Z",
          "shell.execute_reply": "2021-04-10T09:45:29.287869Z"
        },
        "papermill": {
          "duration": 0.152425,
          "end_time": "2021-04-10T09:45:29.288886",
          "exception": false,
          "start_time": "2021-04-10T09:45:29.136461",
          "status": "completed"
        },
        "tags": [],
        "id": "6aGeSKRkXx93"
      },
      "outputs": [],
      "source": [
        "#calculation on balanced test data\n",
        "num_cols_std = StandardScaler().fit_transform(df_test[num_cols].values)\n",
        "X_test = np.hstack([df_test.drop(num_cols + ['client_id','default'],\n",
        "                                 axis=1), num_cols_std])\n",
        "y_probs = model_finish.predict_proba(X_test)[:,1]\n",
        "df_test['default'] = y_probs"
      ],
      "id": "6aGeSKRkXx93"
    },
    {
      "cell_type": "code",
      "execution_count": 113,
      "metadata": {
        "execution": {
          "iopub.execute_input": "2021-04-10T09:45:29.577060Z",
          "iopub.status.busy": "2021-04-10T09:45:29.576422Z",
          "iopub.status.idle": "2021-04-10T09:45:29.691511Z",
          "shell.execute_reply": "2021-04-10T09:45:29.690970Z"
        },
        "papermill": {
          "duration": 0.248573,
          "end_time": "2021-04-10T09:45:29.691652",
          "exception": false,
          "start_time": "2021-04-10T09:45:29.443079",
          "status": "completed"
        },
        "tags": [],
        "id": "PyZVIrN6Xx93",
        "outputId": "118b81d3-1305-41ed-c50c-8d18432f921b",
        "colab": {
          "base_uri": "https://localhost:8080/",
          "height": 143
        }
      },
      "outputs": [
        {
          "output_type": "execute_result",
          "data": {
            "text/plain": [
              "        client_id   default\n",
              "99884       73361  0.540203\n",
              "105966       6226  0.515809\n",
              "78655        4976  0.201571"
            ],
            "text/html": [
              "\n",
              "  <div id=\"df-85a9e835-765f-408d-9b57-3cb0aa608a31\">\n",
              "    <div class=\"colab-df-container\">\n",
              "      <div>\n",
              "<style scoped>\n",
              "    .dataframe tbody tr th:only-of-type {\n",
              "        vertical-align: middle;\n",
              "    }\n",
              "\n",
              "    .dataframe tbody tr th {\n",
              "        vertical-align: top;\n",
              "    }\n",
              "\n",
              "    .dataframe thead th {\n",
              "        text-align: right;\n",
              "    }\n",
              "</style>\n",
              "<table border=\"1\" class=\"dataframe\">\n",
              "  <thead>\n",
              "    <tr style=\"text-align: right;\">\n",
              "      <th></th>\n",
              "      <th>client_id</th>\n",
              "      <th>default</th>\n",
              "    </tr>\n",
              "  </thead>\n",
              "  <tbody>\n",
              "    <tr>\n",
              "      <th>99884</th>\n",
              "      <td>73361</td>\n",
              "      <td>0.540203</td>\n",
              "    </tr>\n",
              "    <tr>\n",
              "      <th>105966</th>\n",
              "      <td>6226</td>\n",
              "      <td>0.515809</td>\n",
              "    </tr>\n",
              "    <tr>\n",
              "      <th>78655</th>\n",
              "      <td>4976</td>\n",
              "      <td>0.201571</td>\n",
              "    </tr>\n",
              "  </tbody>\n",
              "</table>\n",
              "</div>\n",
              "      <button class=\"colab-df-convert\" onclick=\"convertToInteractive('df-85a9e835-765f-408d-9b57-3cb0aa608a31')\"\n",
              "              title=\"Convert this dataframe to an interactive table.\"\n",
              "              style=\"display:none;\">\n",
              "        \n",
              "  <svg xmlns=\"http://www.w3.org/2000/svg\" height=\"24px\"viewBox=\"0 0 24 24\"\n",
              "       width=\"24px\">\n",
              "    <path d=\"M0 0h24v24H0V0z\" fill=\"none\"/>\n",
              "    <path d=\"M18.56 5.44l.94 2.06.94-2.06 2.06-.94-2.06-.94-.94-2.06-.94 2.06-2.06.94zm-11 1L8.5 8.5l.94-2.06 2.06-.94-2.06-.94L8.5 2.5l-.94 2.06-2.06.94zm10 10l.94 2.06.94-2.06 2.06-.94-2.06-.94-.94-2.06-.94 2.06-2.06.94z\"/><path d=\"M17.41 7.96l-1.37-1.37c-.4-.4-.92-.59-1.43-.59-.52 0-1.04.2-1.43.59L10.3 9.45l-7.72 7.72c-.78.78-.78 2.05 0 2.83L4 21.41c.39.39.9.59 1.41.59.51 0 1.02-.2 1.41-.59l7.78-7.78 2.81-2.81c.8-.78.8-2.07 0-2.86zM5.41 20L4 18.59l7.72-7.72 1.47 1.35L5.41 20z\"/>\n",
              "  </svg>\n",
              "      </button>\n",
              "      \n",
              "  <style>\n",
              "    .colab-df-container {\n",
              "      display:flex;\n",
              "      flex-wrap:wrap;\n",
              "      gap: 12px;\n",
              "    }\n",
              "\n",
              "    .colab-df-convert {\n",
              "      background-color: #E8F0FE;\n",
              "      border: none;\n",
              "      border-radius: 50%;\n",
              "      cursor: pointer;\n",
              "      display: none;\n",
              "      fill: #1967D2;\n",
              "      height: 32px;\n",
              "      padding: 0 0 0 0;\n",
              "      width: 32px;\n",
              "    }\n",
              "\n",
              "    .colab-df-convert:hover {\n",
              "      background-color: #E2EBFA;\n",
              "      box-shadow: 0px 1px 2px rgba(60, 64, 67, 0.3), 0px 1px 3px 1px rgba(60, 64, 67, 0.15);\n",
              "      fill: #174EA6;\n",
              "    }\n",
              "\n",
              "    [theme=dark] .colab-df-convert {\n",
              "      background-color: #3B4455;\n",
              "      fill: #D2E3FC;\n",
              "    }\n",
              "\n",
              "    [theme=dark] .colab-df-convert:hover {\n",
              "      background-color: #434B5C;\n",
              "      box-shadow: 0px 1px 3px 1px rgba(0, 0, 0, 0.15);\n",
              "      filter: drop-shadow(0px 1px 2px rgba(0, 0, 0, 0.3));\n",
              "      fill: #FFFFFF;\n",
              "    }\n",
              "  </style>\n",
              "\n",
              "      <script>\n",
              "        const buttonEl =\n",
              "          document.querySelector('#df-85a9e835-765f-408d-9b57-3cb0aa608a31 button.colab-df-convert');\n",
              "        buttonEl.style.display =\n",
              "          google.colab.kernel.accessAllowed ? 'block' : 'none';\n",
              "\n",
              "        async function convertToInteractive(key) {\n",
              "          const element = document.querySelector('#df-85a9e835-765f-408d-9b57-3cb0aa608a31');\n",
              "          const dataTable =\n",
              "            await google.colab.kernel.invokeFunction('convertToInteractive',\n",
              "                                                     [key], {});\n",
              "          if (!dataTable) return;\n",
              "\n",
              "          const docLinkHtml = 'Like what you see? Visit the ' +\n",
              "            '<a target=\"_blank\" href=https://colab.research.google.com/notebooks/data_table.ipynb>data table notebook</a>'\n",
              "            + ' to learn more about interactive tables.';\n",
              "          element.innerHTML = '';\n",
              "          dataTable['output_type'] = 'display_data';\n",
              "          await google.colab.output.renderOutput(dataTable, element);\n",
              "          const docLink = document.createElement('div');\n",
              "          docLink.innerHTML = docLinkHtml;\n",
              "          element.appendChild(docLink);\n",
              "        }\n",
              "      </script>\n",
              "    </div>\n",
              "  </div>\n",
              "  "
            ]
          },
          "metadata": {},
          "execution_count": 113
        }
      ],
      "source": [
        "submission = df_test[['client_id','default']]\n",
        "submission.to_csv('sample_submission.csv', index=False)\n",
        "submission.sample(3)\n",
        "#submission.shape"
      ],
      "id": "PyZVIrN6Xx93"
    }
  ],
  "metadata": {
    "kernelspec": {
      "display_name": "Python 3",
      "language": "python",
      "name": "python3"
    },
    "language_info": {
      "codemirror_mode": {
        "name": "ipython",
        "version": 3
      },
      "file_extension": ".py",
      "mimetype": "text/x-python",
      "name": "python",
      "nbconvert_exporter": "python",
      "pygments_lexer": "ipython3",
      "version": "3.8.5"
    },
    "papermill": {
      "default_parameters": {},
      "duration": 289.324579,
      "end_time": "2021-04-10T09:45:31.085990",
      "environment_variables": {},
      "exception": null,
      "input_path": "__notebook__.ipynb",
      "output_path": "__notebook__.ipynb",
      "parameters": {},
      "start_time": "2021-04-10T09:40:41.761411",
      "version": "2.3.2"
    },
    "colab": {
      "provenance": [],
      "include_colab_link": true
    }
  },
  "nbformat": 4,
  "nbformat_minor": 5
}