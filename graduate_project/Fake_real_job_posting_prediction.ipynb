{
  "cells": [
    {
      "cell_type": "markdown",
      "metadata": {
        "id": "view-in-github",
        "colab_type": "text"
      },
      "source": [
        "<a href=\"https://colab.research.google.com/github/Polinia/skillfactory_rds/blob/main/graduate_project_skillfactory_pr.ipynb\" target=\"_parent\"><img src=\"https://colab.research.google.com/assets/colab-badge.svg\" alt=\"Open In Colab\"/></a>"
      ]
    },
    {
      "cell_type": "markdown",
      "metadata": {
        "id": "iuZSU10Uz7Wl"
      },
      "source": [
        "# **Classification of Real / Fake Job Posting using Transformers**"
      ]
    },
    {
      "cell_type": "markdown",
      "metadata": {
        "id": "k0wCaGgHz7Wl"
      },
      "source": [
        "Этот набор данных содержит 18.000 описаний вакансий, из которых около 800 - поддельные. Данные состоят из текстовой информации и другую дополнительную информацию о вакансиях. Набор данных буду использовать для создания моделей классификации, которые могут изучить мошеннические описания должностных обязанностей."
      ]
    },
    {
      "cell_type": "markdown",
      "metadata": {
        "id": "eEM0iqGdz7Wl"
      },
      "source": [
        "Задача - обучить модель классифицировать вакансии как реальные или мошеннические."
      ]
    },
    {
      "cell_type": "code",
      "execution_count": 2,
      "metadata": {
        "id": "gFEWpRKVz7Wm",
        "colab": {
          "base_uri": "https://localhost:8080/"
        },
        "outputId": "ba3566bc-612e-48a1-d870-efef0817000a"
      },
      "outputs": [
        {
          "output_type": "stream",
          "name": "stdout",
          "text": [
            "\u001b[K     |████████████████████████████████| 3.5 MB 31.2 MB/s \n",
            "\u001b[K     |████████████████████████████████| 6.8 MB 56.7 MB/s \n",
            "\u001b[K     |████████████████████████████████| 895 kB 75.9 MB/s \n",
            "\u001b[K     |████████████████████████████████| 596 kB 62.6 MB/s \n",
            "\u001b[K     |████████████████████████████████| 67 kB 7.1 MB/s \n",
            "\u001b[K     |████████████████████████████████| 1.2 MB 29.1 MB/s \n",
            "\u001b[K     |████████████████████████████████| 564 kB 27.4 MB/s \n",
            "\u001b[K     |████████████████████████████████| 76.1 MB 1.2 MB/s \n",
            "\u001b[?25h"
          ]
        }
      ],
      "source": [
        "!pip install transformers -q\n",
        "# !pip install --upgrade tensorflow -q\n",
        "!pip install bert-tokenizer -q\n",
        "!pip install shap -q\n",
        "!pip install catboost -q"
      ]
    },
    {
      "cell_type": "code",
      "execution_count": 3,
      "metadata": {
        "colab": {
          "base_uri": "https://localhost:8080/"
        },
        "id": "n8CzUK2oz7Wn",
        "outputId": "5c258eed-90fc-4b9d-ce23-b3ec057dee3f"
      },
      "outputs": [
        {
          "output_type": "stream",
          "name": "stdout",
          "text": [
            "[nltk_data] Downloading package stopwords to /root/nltk_data...\n",
            "[nltk_data]   Unzipping corpora/stopwords.zip.\n"
          ]
        }
      ],
      "source": [
        "#Importing Libraries\n",
        "import numpy as np \n",
        "import pandas as pd \n",
        "import pandas_profiling\n",
        "import string\n",
        "import os\n",
        "import matplotlib.pyplot as plt\n",
        "import seaborn as sns\n",
        "%matplotlib inline\n",
        "plt.close('all')\n",
        "\n",
        "import re \n",
        "from sklearn.feature_extraction.text import TfidfVectorizer\n",
        "from nltk.stem.porter import PorterStemmer\n",
        "from nltk.corpus import stopwords\n",
        "from sklearn.preprocessing import LabelEncoder, StandardScaler, OneHotEncoder\n",
        "from catboost import *\n",
        "import shap \n",
        "from sklearn.model_selection import train_test_split, KFold\n",
        "from catboost import CatBoostClassifier\n",
        "from sklearn.metrics import f1_score\n",
        "from sklearn.ensemble import RandomForestClassifier, GradientBoostingClassifier\n",
        "from sklearn.neighbors import KNeighborsClassifier\n",
        "import joblib\n",
        "import tensorflow as tf\n",
        "from tensorflow import keras\n",
        "from tensorflow.keras.preprocessing.text import Tokenizer, one_hot\n",
        "from tensorflow.keras.preprocessing import sequence\n",
        "from tensorflow.keras.preprocessing.sequence import pad_sequences\n",
        "\n",
        "from tensorflow.keras.callbacks import *\n",
        "from tensorflow.keras.optimizers.schedules import *\n",
        "from transformers import BertTokenizer, TFBertModel, BertConfig,  BertTokenizerFast\n",
        "from tensorflow.keras.layers import Input, Dropout, Dense, LSTM, Bidirectional, Embedding\n",
        "from tensorflow.keras.models import Model, Sequential\n",
        "from tensorflow.keras import layers\n",
        "from tensorflow.keras.optimizers import Adam\n",
        "from tensorflow.keras.initializers import TruncatedNormal\n",
        "from tensorflow.keras.losses import CategoricalCrossentropy\n",
        "from tensorflow.keras.metrics import CategoricalAccuracy\n",
        "# from tensorflow.keras.utils import to_categorical\n",
        "from nltk.tokenize import RegexpTokenizer\n",
        "import transformers\n",
        "from transformers import DistilBertTokenizerFast, DistilBertModel, DistilBertConfig\n",
        "import nltk\n",
        "from transformers import TFDistilBertForSequenceClassification, TFTrainer, TFTrainingArguments\n",
        "from sklearn.model_selection import cross_val_score\n",
        "from sklearn.metrics import classification_report, confusion_matrix,accuracy_score,plot_confusion_matrix\n",
        "\n",
        "from imblearn.combine import SMOTETomek\n",
        "\n",
        "nltk.download('stopwords')\n",
        "stop_words = set(stopwords.words(\"english\"))\n",
        "default_stemmer = PorterStemmer()\n",
        "default_stopwords = stopwords.words('english')\n",
        "default_tokenizer=RegexpTokenizer(r\"\\w+\")\n",
        "\n",
        "import os\n",
        "for dirname, _, filenames in os.walk('/kaggle/input'):\n",
        "    for filename in filenames:\n",
        "        print(os.path.join(dirname, filename))"
      ]
    },
    {
      "cell_type": "code",
      "execution_count": 4,
      "metadata": {
        "id": "oYLZBpaxz7Wo"
      },
      "outputs": [],
      "source": [
        "# зафиксируем версию пакетов, чтобы эксперименты были воспроизводимы:\n",
        "!pip freeze > requirements.txt\n",
        "# всегда фиксируйте RANDOM_SEED, чтобы ваши эксперименты были воспроизводимы!\n",
        "RANDOM_SEED = 42\n",
        "pd.set_option('display.max_columns', None)"
      ]
    },
    {
      "cell_type": "code",
      "execution_count": 5,
      "metadata": {
        "id": "XbRg4Tklz7Wp"
      },
      "outputs": [],
      "source": [
        "# Напишу функцию для воспроизведения графиков:\n",
        "def plot_image(x,y):\n",
        "    plt.title(x)\n",
        "    plt.xlabel('index')\n",
        "    plt.ylabel('percentage of fraudulent')\n",
        "    plt.bar(np.array(y.index,dtype='str'),y)\n",
        "    return plt.show()  "
      ]
    },
    {
      "cell_type": "code",
      "execution_count": 6,
      "metadata": {
        "colab": {
          "base_uri": "https://localhost:8080/",
          "height": 197
        },
        "id": "QMsGcW25z7Wp",
        "outputId": "e64e4d08-ed16-46e4-80b0-ee2e98af6137"
      },
      "outputs": [
        {
          "output_type": "execute_result",
          "data": {
            "text/html": [
              "\n",
              "  <div id=\"df-7ea16635-751b-4348-97b6-f4846837d8ff\">\n",
              "    <div class=\"colab-df-container\">\n",
              "      <div>\n",
              "<style scoped>\n",
              "    .dataframe tbody tr th:only-of-type {\n",
              "        vertical-align: middle;\n",
              "    }\n",
              "\n",
              "    .dataframe tbody tr th {\n",
              "        vertical-align: top;\n",
              "    }\n",
              "\n",
              "    .dataframe thead th {\n",
              "        text-align: right;\n",
              "    }\n",
              "</style>\n",
              "<table border=\"1\" class=\"dataframe\">\n",
              "  <thead>\n",
              "    <tr style=\"text-align: right;\">\n",
              "      <th></th>\n",
              "      <th>job_id</th>\n",
              "      <th>title</th>\n",
              "      <th>location</th>\n",
              "      <th>department</th>\n",
              "      <th>salary_range</th>\n",
              "      <th>company_profile</th>\n",
              "      <th>description</th>\n",
              "      <th>requirements</th>\n",
              "      <th>benefits</th>\n",
              "      <th>telecommuting</th>\n",
              "      <th>has_company_logo</th>\n",
              "      <th>has_questions</th>\n",
              "      <th>employment_type</th>\n",
              "      <th>required_experience</th>\n",
              "      <th>required_education</th>\n",
              "      <th>industry</th>\n",
              "      <th>function</th>\n",
              "      <th>fraudulent</th>\n",
              "    </tr>\n",
              "  </thead>\n",
              "  <tbody>\n",
              "    <tr>\n",
              "      <th>0</th>\n",
              "      <td>1</td>\n",
              "      <td>Marketing Intern</td>\n",
              "      <td>US, NY, New York</td>\n",
              "      <td>Marketing</td>\n",
              "      <td>NaN</td>\n",
              "      <td>We're Food52, and we've created a groundbreaki...</td>\n",
              "      <td>Food52, a fast-growing, James Beard Award-winn...</td>\n",
              "      <td>Experience with content management systems a m...</td>\n",
              "      <td>NaN</td>\n",
              "      <td>0</td>\n",
              "      <td>1</td>\n",
              "      <td>0</td>\n",
              "      <td>Other</td>\n",
              "      <td>Internship</td>\n",
              "      <td>NaN</td>\n",
              "      <td>NaN</td>\n",
              "      <td>Marketing</td>\n",
              "      <td>0</td>\n",
              "    </tr>\n",
              "  </tbody>\n",
              "</table>\n",
              "</div>\n",
              "      <button class=\"colab-df-convert\" onclick=\"convertToInteractive('df-7ea16635-751b-4348-97b6-f4846837d8ff')\"\n",
              "              title=\"Convert this dataframe to an interactive table.\"\n",
              "              style=\"display:none;\">\n",
              "        \n",
              "  <svg xmlns=\"http://www.w3.org/2000/svg\" height=\"24px\"viewBox=\"0 0 24 24\"\n",
              "       width=\"24px\">\n",
              "    <path d=\"M0 0h24v24H0V0z\" fill=\"none\"/>\n",
              "    <path d=\"M18.56 5.44l.94 2.06.94-2.06 2.06-.94-2.06-.94-.94-2.06-.94 2.06-2.06.94zm-11 1L8.5 8.5l.94-2.06 2.06-.94-2.06-.94L8.5 2.5l-.94 2.06-2.06.94zm10 10l.94 2.06.94-2.06 2.06-.94-2.06-.94-.94-2.06-.94 2.06-2.06.94z\"/><path d=\"M17.41 7.96l-1.37-1.37c-.4-.4-.92-.59-1.43-.59-.52 0-1.04.2-1.43.59L10.3 9.45l-7.72 7.72c-.78.78-.78 2.05 0 2.83L4 21.41c.39.39.9.59 1.41.59.51 0 1.02-.2 1.41-.59l7.78-7.78 2.81-2.81c.8-.78.8-2.07 0-2.86zM5.41 20L4 18.59l7.72-7.72 1.47 1.35L5.41 20z\"/>\n",
              "  </svg>\n",
              "      </button>\n",
              "      \n",
              "  <style>\n",
              "    .colab-df-container {\n",
              "      display:flex;\n",
              "      flex-wrap:wrap;\n",
              "      gap: 12px;\n",
              "    }\n",
              "\n",
              "    .colab-df-convert {\n",
              "      background-color: #E8F0FE;\n",
              "      border: none;\n",
              "      border-radius: 50%;\n",
              "      cursor: pointer;\n",
              "      display: none;\n",
              "      fill: #1967D2;\n",
              "      height: 32px;\n",
              "      padding: 0 0 0 0;\n",
              "      width: 32px;\n",
              "    }\n",
              "\n",
              "    .colab-df-convert:hover {\n",
              "      background-color: #E2EBFA;\n",
              "      box-shadow: 0px 1px 2px rgba(60, 64, 67, 0.3), 0px 1px 3px 1px rgba(60, 64, 67, 0.15);\n",
              "      fill: #174EA6;\n",
              "    }\n",
              "\n",
              "    [theme=dark] .colab-df-convert {\n",
              "      background-color: #3B4455;\n",
              "      fill: #D2E3FC;\n",
              "    }\n",
              "\n",
              "    [theme=dark] .colab-df-convert:hover {\n",
              "      background-color: #434B5C;\n",
              "      box-shadow: 0px 1px 3px 1px rgba(0, 0, 0, 0.15);\n",
              "      filter: drop-shadow(0px 1px 2px rgba(0, 0, 0, 0.3));\n",
              "      fill: #FFFFFF;\n",
              "    }\n",
              "  </style>\n",
              "\n",
              "      <script>\n",
              "        const buttonEl =\n",
              "          document.querySelector('#df-7ea16635-751b-4348-97b6-f4846837d8ff button.colab-df-convert');\n",
              "        buttonEl.style.display =\n",
              "          google.colab.kernel.accessAllowed ? 'block' : 'none';\n",
              "\n",
              "        async function convertToInteractive(key) {\n",
              "          const element = document.querySelector('#df-7ea16635-751b-4348-97b6-f4846837d8ff');\n",
              "          const dataTable =\n",
              "            await google.colab.kernel.invokeFunction('convertToInteractive',\n",
              "                                                     [key], {});\n",
              "          if (!dataTable) return;\n",
              "\n",
              "          const docLinkHtml = 'Like what you see? Visit the ' +\n",
              "            '<a target=\"_blank\" href=https://colab.research.google.com/notebooks/data_table.ipynb>data table notebook</a>'\n",
              "            + ' to learn more about interactive tables.';\n",
              "          element.innerHTML = '';\n",
              "          dataTable['output_type'] = 'display_data';\n",
              "          await google.colab.output.renderOutput(dataTable, element);\n",
              "          const docLink = document.createElement('div');\n",
              "          docLink.innerHTML = docLinkHtml;\n",
              "          element.appendChild(docLink);\n",
              "        }\n",
              "      </script>\n",
              "    </div>\n",
              "  </div>\n",
              "  "
            ],
            "text/plain": [
              "   job_id             title          location department salary_range  \\\n",
              "0       1  Marketing Intern  US, NY, New York  Marketing          NaN   \n",
              "\n",
              "                                     company_profile  \\\n",
              "0  We're Food52, and we've created a groundbreaki...   \n",
              "\n",
              "                                         description  \\\n",
              "0  Food52, a fast-growing, James Beard Award-winn...   \n",
              "\n",
              "                                        requirements benefits  telecommuting  \\\n",
              "0  Experience with content management systems a m...      NaN              0   \n",
              "\n",
              "   has_company_logo  has_questions employment_type required_experience  \\\n",
              "0                 1              0           Other          Internship   \n",
              "\n",
              "  required_education industry   function  fraudulent  \n",
              "0                NaN      NaN  Marketing           0  "
            ]
          },
          "metadata": {},
          "execution_count": 6
        }
      ],
      "source": [
        "df = pd.read_csv('fake_job_postings.csv')\n",
        "df.head(1)"
      ]
    },
    {
      "cell_type": "markdown",
      "metadata": {
        "id": "U2fQK5ELz7Wq"
      },
      "source": [
        "Definition of the variables:\n",
        "\n",
        "* job_id- Identification number given to each job posting  \n",
        "* title - A name that describes the position or job \n",
        "* location - Information about where the job is located \n",
        "* department - Information about the department this job is offered by\n",
        "* salary_range - Expected salary range \n",
        "* company_profile - Information about the company  \n",
        "* description - A brief description about the position offered \n",
        "* requirements - Pre-requisites to qualify for the job \n",
        "* benefits - Benefits provided by the job \n",
        "* telecommuting - Is work from home or remote work allowed \n",
        "* has_company_logo - Does the job posting have a company logo \n",
        "* has_questions - Does the job posting have any questions \n",
        "* employment_type - 5 categories (Full-time, part-time, contract, temporary and other)\n",
        "* required_experience - Can be: Internship, Entry Level, Associate, Mid-senior level, Director, Executive or Not Applicable \n",
        "* required_education - Can be: Bachelor’s degree, high school degree, unspecified, associate degree, master’s degree, certification, some college coursework, professional, some high school coursework, vocational  \n",
        "* Industry - The industry the job posting is relevant to \n",
        "* Function - The umbrella term to determining a job’s functionality \n",
        "* Fraudulent - The target variable (0: Real, 1: Fake)"
      ]
    },
    {
      "cell_type": "markdown",
      "metadata": {
        "id": "ZNor22Haz7Wq"
      },
      "source": [
        "Проведем первичный осмотр:"
      ]
    },
    {
      "cell_type": "code",
      "execution_count": 7,
      "metadata": {
        "id": "WnGtr5o6z7Wq"
      },
      "outputs": [],
      "source": [
        "# pandas_profiling.ProfileReport(df)"
      ]
    },
    {
      "cell_type": "code",
      "execution_count": 8,
      "metadata": {
        "colab": {
          "base_uri": "https://localhost:8080/"
        },
        "id": "eV5zsD50z7Wq",
        "outputId": "877e4840-ef75-419e-e514-e9f099c335b6"
      },
      "outputs": [
        {
          "output_type": "stream",
          "name": "stdout",
          "text": [
            "<class 'pandas.core.frame.DataFrame'>\n",
            "RangeIndex: 17880 entries, 0 to 17879\n",
            "Data columns (total 18 columns):\n",
            " #   Column               Non-Null Count  Dtype \n",
            "---  ------               --------------  ----- \n",
            " 0   job_id               17880 non-null  int64 \n",
            " 1   title                17880 non-null  object\n",
            " 2   location             17534 non-null  object\n",
            " 3   department           6333 non-null   object\n",
            " 4   salary_range         2868 non-null   object\n",
            " 5   company_profile      14572 non-null  object\n",
            " 6   description          17879 non-null  object\n",
            " 7   requirements         15185 non-null  object\n",
            " 8   benefits             10670 non-null  object\n",
            " 9   telecommuting        17880 non-null  int64 \n",
            " 10  has_company_logo     17880 non-null  int64 \n",
            " 11  has_questions        17880 non-null  int64 \n",
            " 12  employment_type      14409 non-null  object\n",
            " 13  required_experience  10830 non-null  object\n",
            " 14  required_education   9775 non-null   object\n",
            " 15  industry             12977 non-null  object\n",
            " 16  function             11425 non-null  object\n",
            " 17  fraudulent           17880 non-null  int64 \n",
            "dtypes: int64(5), object(13)\n",
            "memory usage: 2.5+ MB\n"
          ]
        },
        {
          "output_type": "execute_result",
          "data": {
            "text/plain": [
              "job_id                     0\n",
              "title                      0\n",
              "location                 346\n",
              "department             11547\n",
              "salary_range           15012\n",
              "company_profile         3308\n",
              "description                1\n",
              "requirements            2695\n",
              "benefits                7210\n",
              "telecommuting              0\n",
              "has_company_logo           0\n",
              "has_questions              0\n",
              "employment_type         3471\n",
              "required_experience     7050\n",
              "required_education      8105\n",
              "industry                4903\n",
              "function                6455\n",
              "fraudulent                 0\n",
              "dtype: int64"
            ]
          },
          "metadata": {},
          "execution_count": 8
        }
      ],
      "source": [
        "df.info()\n",
        "\n",
        "df.isnull().sum() #пропущенные значения"
      ]
    },
    {
      "cell_type": "markdown",
      "metadata": {
        "id": "ytQsvyOfz7Wr"
      },
      "source": [
        "В данном датасете - 17880 объявлений и 18 признаков. Из числовых telecommuting, has_company_logo, has_questions. Остальные типа object. Целевая переменная у нас 'fraudulent'. Так же в датасете имеются пропуски.        "
      ]
    },
    {
      "cell_type": "code",
      "execution_count": 9,
      "metadata": {
        "colab": {
          "base_uri": "https://localhost:8080/"
        },
        "id": "v5nKw81qz7Wr",
        "outputId": "756ace8f-40ea-4341-fab6-2edfd23f4187"
      },
      "outputs": [
        {
          "output_type": "execute_result",
          "data": {
            "text/plain": [
              "0"
            ]
          },
          "metadata": {},
          "execution_count": 9
        }
      ],
      "source": [
        "#проверка на дупликаты\n",
        "df['job_id'].duplicated().sum()"
      ]
    },
    {
      "cell_type": "code",
      "source": [
        "bin_cols = ['telecommuting', 'has_company_logo', 'has_questions']\n",
        "cat_cols = ['department', 'employment_type', 'required_experience', \n",
        "                'required_education', 'industry', 'function']\n",
        "text_cols = ['title', 'location','company_profile', 'description', 'requirements', 'benefits']"
      ],
      "metadata": {
        "id": "XZuD-yXkBOUI"
      },
      "execution_count": 10,
      "outputs": []
    },
    {
      "cell_type": "code",
      "source": [
        "for col in text_cols:\n",
        "    df[col].fillna(' ', inplace=True)\n",
        "for col in cat_cols:\n",
        "  df[col].fillna(\"Unspecified\", inplace=True)"
      ],
      "metadata": {
        "id": "7jLtFEMaq4Fh"
      },
      "execution_count": 11,
      "outputs": []
    },
    {
      "cell_type": "markdown",
      "source": [
        "**Baseline**"
      ],
      "metadata": {
        "id": "hYnodaxdWPhh"
      }
    },
    {
      "cell_type": "markdown",
      "source": [
        "Построим \"наивную\"/baseline модель (с ней будем сравнивать изменения в датасете и другие модели)"
      ],
      "metadata": {
        "id": "7hX7kTxxJfEg"
      }
    },
    {
      "cell_type": "code",
      "execution_count": 12,
      "metadata": {
        "id": "JfjS22d2z7Ws"
      },
      "outputs": [],
      "source": [
        "#сразу избавлюсь от job.id,он больше не нужен\n",
        "df.drop('job_id', axis=1, inplace=True)"
      ]
    },
    {
      "cell_type": "markdown",
      "metadata": {
        "id": "LkUxrKh6z7Wv"
      },
      "source": [
        "**Salary Range**"
      ]
    },
    {
      "cell_type": "markdown",
      "source": [
        "сделаю парсинг чисел из значений признака salary_range"
      ],
      "metadata": {
        "id": "VyaUVT0KR0b5"
      }
    },
    {
      "cell_type": "code",
      "source": [
        "df['salary_range'].fillna(\"Unspecified\", inplace=True)\n",
        "df.salary_range.value_counts()"
      ],
      "metadata": {
        "colab": {
          "base_uri": "https://localhost:8080/"
        },
        "id": "kgcZEhh1TbTN",
        "outputId": "093e0a75-3bff-45ef-9cb4-01d9219d6e8c"
      },
      "execution_count": 13,
      "outputs": [
        {
          "output_type": "execute_result",
          "data": {
            "text/plain": [
              "Unspecified       15012\n",
              "0-0                 142\n",
              "40000-50000          66\n",
              "30000-40000          55\n",
              "45000-67000          37\n",
              "                  ...  \n",
              "60-75                 1\n",
              "45000-175000          1\n",
              "43000-69000           1\n",
              "800000-2000000        1\n",
              "50000-300000          1\n",
              "Name: salary_range, Length: 875, dtype: int64"
            ]
          },
          "metadata": {},
          "execution_count": 13
        }
      ]
    },
    {
      "cell_type": "markdown",
      "source": [
        "Достаточно большой представлен диапазон зарплат"
      ],
      "metadata": {
        "id": "rnBTOgdFztkf"
      }
    },
    {
      "cell_type": "code",
      "source": [
        "salary_range = df.salary_range\n",
        "salary_range.head(12)"
      ],
      "metadata": {
        "colab": {
          "base_uri": "https://localhost:8080/"
        },
        "id": "n0Ymd9N4zzBj",
        "outputId": "d723cd9f-91d5-4235-ea7f-20479a0ad152"
      },
      "execution_count": 14,
      "outputs": [
        {
          "output_type": "execute_result",
          "data": {
            "text/plain": [
              "0       Unspecified\n",
              "1       Unspecified\n",
              "2       Unspecified\n",
              "3       Unspecified\n",
              "4       Unspecified\n",
              "5       Unspecified\n",
              "6       20000-28000\n",
              "7       Unspecified\n",
              "8       Unspecified\n",
              "9       Unspecified\n",
              "10    100000-120000\n",
              "11      Unspecified\n",
              "Name: salary_range, dtype: object"
            ]
          },
          "metadata": {},
          "execution_count": 14
        }
      ]
    },
    {
      "cell_type": "markdown",
      "source": [
        "Имеется очень много пропущенных значений,а имеющиеся значения преобразуем в max и min"
      ],
      "metadata": {
        "id": "dqCZR_xczzlf"
      }
    },
    {
      "cell_type": "code",
      "source": [
        "#Заменим пустые значения на 0-0\n",
        "salary_range.replace('Unspecified','0-0', inplace=True)\n",
        "salary_range.head(12)"
      ],
      "metadata": {
        "colab": {
          "base_uri": "https://localhost:8080/"
        },
        "id": "HsOkt2xVz_sP",
        "outputId": "2a660619-0598-42aa-8263-f91e290c413c"
      },
      "execution_count": 15,
      "outputs": [
        {
          "output_type": "execute_result",
          "data": {
            "text/plain": [
              "0               0-0\n",
              "1               0-0\n",
              "2               0-0\n",
              "3               0-0\n",
              "4               0-0\n",
              "5               0-0\n",
              "6       20000-28000\n",
              "7               0-0\n",
              "8               0-0\n",
              "9               0-0\n",
              "10    100000-120000\n",
              "11              0-0\n",
              "Name: salary_range, dtype: object"
            ]
          },
          "metadata": {},
          "execution_count": 15
        }
      ]
    },
    {
      "cell_type": "code",
      "source": [
        "#Разделим теперь значения\n",
        "salary_range_sep = list(salary_range.str.split('-').values)\n",
        "salary_range_sep[:5]"
      ],
      "metadata": {
        "colab": {
          "base_uri": "https://localhost:8080/"
        },
        "id": "L6CS1bsw0DQX",
        "outputId": "af96c105-1cb6-4a55-c5a0-61b56915eb57"
      },
      "execution_count": 16,
      "outputs": [
        {
          "output_type": "execute_result",
          "data": {
            "text/plain": [
              "[['0', '0'], ['0', '0'], ['0', '0'], ['0', '0'], ['0', '0']]"
            ]
          },
          "metadata": {},
          "execution_count": 16
        }
      ]
    },
    {
      "cell_type": "code",
      "source": [
        "#Проверим,возможно есть необычные значения:\n",
        "for x, y in enumerate(salary_range_sep):\n",
        "    if len(y) < 2 or len(y) > 2:\n",
        "        print(x, y)"
      ],
      "metadata": {
        "colab": {
          "base_uri": "https://localhost:8080/"
        },
        "id": "EY4A3XGl0GU5",
        "outputId": "5a516b07-309b-4f4f-b533-8a68b6a6311d"
      },
      "execution_count": 17,
      "outputs": [
        {
          "output_type": "stream",
          "name": "stdout",
          "text": [
            "5538 ['40000']\n"
          ]
        }
      ]
    },
    {
      "cell_type": "code",
      "source": [
        "#Замена значения\n",
        "salary_range_sep[5538] = ['40000', '40000']"
      ],
      "metadata": {
        "id": "aBBRoMPR0KLv"
      },
      "execution_count": 18,
      "outputs": []
    },
    {
      "cell_type": "code",
      "source": [
        "#Проверим какие еще значения у нас имеются в этом признаке\n",
        "error_range_inds = []\n",
        "for range_ind, s_range in enumerate(salary_range_sep):\n",
        "    min_value, max_value = s_range\n",
        "    if not min_value.isdigit() or not max_value.isdigit():\n",
        "        print(range_ind, (min_value, max_value))\n",
        "        error_range_inds += [range_ind]"
      ],
      "metadata": {
        "colab": {
          "base_uri": "https://localhost:8080/"
        },
        "id": "TVFQ6LdF0M-g",
        "outputId": "062e6366-f0c3-410a-a816-f91d9482dc79"
      },
      "execution_count": 19,
      "outputs": [
        {
          "output_type": "stream",
          "name": "stdout",
          "text": [
            "159 ('9', 'Dec')\n",
            "1884 ('3', 'Apr')\n",
            "1981 ('4', 'Apr')\n",
            "2313 ('Oct', '15')\n",
            "4299 ('8', 'Sep')\n",
            "9124 ('4', 'Jun')\n",
            "9902 ('10', 'Oct')\n",
            "9911 ('Oct', '20')\n",
            "10316 ('Jun', '18')\n",
            "10785 ('10', 'Oct')\n",
            "10788 ('11', 'Nov')\n",
            "10860 ('10', 'Nov')\n",
            "10883 ('10', 'Oct')\n",
            "10889 ('10', 'Nov')\n",
            "10896 ('10', 'Oct')\n",
            "10905 ('10', 'Nov')\n",
            "11361 ('11', 'Dec')\n",
            "11495 ('2', 'Apr')\n",
            "11606 ('10', 'Nov')\n",
            "12421 ('10', 'Oct')\n",
            "13449 ('11', 'Nov')\n",
            "13482 ('2', 'Jun')\n",
            "14196 ('Oct', '20')\n",
            "15483 ('10', 'Oct')\n",
            "17233 ('10', 'Nov')\n",
            "17656 ('Dec', '25')\n"
          ]
        }
      ]
    },
    {
      "cell_type": "markdown",
      "source": [
        "И заметим,что в некоторых вакансиях почему-то указаны даты вместо заплаты. Исправлю это заменив на 0"
      ],
      "metadata": {
        "id": "RSv2pDw10Ri3"
      }
    },
    {
      "cell_type": "code",
      "source": [
        "for range_ind in error_range_inds:\n",
        "    salary_range_sep[range_ind] = ['0', '0']\n",
        "df_salary_range = pd.DataFrame(np.array(salary_range_sep, dtype='int64'), \n",
        "                                 columns=['min_salary', 'max_salary'])\n",
        "df_salary_range.head(11)"
      ],
      "metadata": {
        "colab": {
          "base_uri": "https://localhost:8080/",
          "height": 394
        },
        "id": "RTWVWJF_TbM9",
        "outputId": "6684d4dd-7205-48ea-e76a-3a69fd917735"
      },
      "execution_count": 20,
      "outputs": [
        {
          "output_type": "execute_result",
          "data": {
            "text/html": [
              "\n",
              "  <div id=\"df-428585f7-6c95-4fb7-a873-95d1ab0be3b7\">\n",
              "    <div class=\"colab-df-container\">\n",
              "      <div>\n",
              "<style scoped>\n",
              "    .dataframe tbody tr th:only-of-type {\n",
              "        vertical-align: middle;\n",
              "    }\n",
              "\n",
              "    .dataframe tbody tr th {\n",
              "        vertical-align: top;\n",
              "    }\n",
              "\n",
              "    .dataframe thead th {\n",
              "        text-align: right;\n",
              "    }\n",
              "</style>\n",
              "<table border=\"1\" class=\"dataframe\">\n",
              "  <thead>\n",
              "    <tr style=\"text-align: right;\">\n",
              "      <th></th>\n",
              "      <th>min_salary</th>\n",
              "      <th>max_salary</th>\n",
              "    </tr>\n",
              "  </thead>\n",
              "  <tbody>\n",
              "    <tr>\n",
              "      <th>0</th>\n",
              "      <td>0</td>\n",
              "      <td>0</td>\n",
              "    </tr>\n",
              "    <tr>\n",
              "      <th>1</th>\n",
              "      <td>0</td>\n",
              "      <td>0</td>\n",
              "    </tr>\n",
              "    <tr>\n",
              "      <th>2</th>\n",
              "      <td>0</td>\n",
              "      <td>0</td>\n",
              "    </tr>\n",
              "    <tr>\n",
              "      <th>3</th>\n",
              "      <td>0</td>\n",
              "      <td>0</td>\n",
              "    </tr>\n",
              "    <tr>\n",
              "      <th>4</th>\n",
              "      <td>0</td>\n",
              "      <td>0</td>\n",
              "    </tr>\n",
              "    <tr>\n",
              "      <th>5</th>\n",
              "      <td>0</td>\n",
              "      <td>0</td>\n",
              "    </tr>\n",
              "    <tr>\n",
              "      <th>6</th>\n",
              "      <td>20000</td>\n",
              "      <td>28000</td>\n",
              "    </tr>\n",
              "    <tr>\n",
              "      <th>7</th>\n",
              "      <td>0</td>\n",
              "      <td>0</td>\n",
              "    </tr>\n",
              "    <tr>\n",
              "      <th>8</th>\n",
              "      <td>0</td>\n",
              "      <td>0</td>\n",
              "    </tr>\n",
              "    <tr>\n",
              "      <th>9</th>\n",
              "      <td>0</td>\n",
              "      <td>0</td>\n",
              "    </tr>\n",
              "    <tr>\n",
              "      <th>10</th>\n",
              "      <td>100000</td>\n",
              "      <td>120000</td>\n",
              "    </tr>\n",
              "  </tbody>\n",
              "</table>\n",
              "</div>\n",
              "      <button class=\"colab-df-convert\" onclick=\"convertToInteractive('df-428585f7-6c95-4fb7-a873-95d1ab0be3b7')\"\n",
              "              title=\"Convert this dataframe to an interactive table.\"\n",
              "              style=\"display:none;\">\n",
              "        \n",
              "  <svg xmlns=\"http://www.w3.org/2000/svg\" height=\"24px\"viewBox=\"0 0 24 24\"\n",
              "       width=\"24px\">\n",
              "    <path d=\"M0 0h24v24H0V0z\" fill=\"none\"/>\n",
              "    <path d=\"M18.56 5.44l.94 2.06.94-2.06 2.06-.94-2.06-.94-.94-2.06-.94 2.06-2.06.94zm-11 1L8.5 8.5l.94-2.06 2.06-.94-2.06-.94L8.5 2.5l-.94 2.06-2.06.94zm10 10l.94 2.06.94-2.06 2.06-.94-2.06-.94-.94-2.06-.94 2.06-2.06.94z\"/><path d=\"M17.41 7.96l-1.37-1.37c-.4-.4-.92-.59-1.43-.59-.52 0-1.04.2-1.43.59L10.3 9.45l-7.72 7.72c-.78.78-.78 2.05 0 2.83L4 21.41c.39.39.9.59 1.41.59.51 0 1.02-.2 1.41-.59l7.78-7.78 2.81-2.81c.8-.78.8-2.07 0-2.86zM5.41 20L4 18.59l7.72-7.72 1.47 1.35L5.41 20z\"/>\n",
              "  </svg>\n",
              "      </button>\n",
              "      \n",
              "  <style>\n",
              "    .colab-df-container {\n",
              "      display:flex;\n",
              "      flex-wrap:wrap;\n",
              "      gap: 12px;\n",
              "    }\n",
              "\n",
              "    .colab-df-convert {\n",
              "      background-color: #E8F0FE;\n",
              "      border: none;\n",
              "      border-radius: 50%;\n",
              "      cursor: pointer;\n",
              "      display: none;\n",
              "      fill: #1967D2;\n",
              "      height: 32px;\n",
              "      padding: 0 0 0 0;\n",
              "      width: 32px;\n",
              "    }\n",
              "\n",
              "    .colab-df-convert:hover {\n",
              "      background-color: #E2EBFA;\n",
              "      box-shadow: 0px 1px 2px rgba(60, 64, 67, 0.3), 0px 1px 3px 1px rgba(60, 64, 67, 0.15);\n",
              "      fill: #174EA6;\n",
              "    }\n",
              "\n",
              "    [theme=dark] .colab-df-convert {\n",
              "      background-color: #3B4455;\n",
              "      fill: #D2E3FC;\n",
              "    }\n",
              "\n",
              "    [theme=dark] .colab-df-convert:hover {\n",
              "      background-color: #434B5C;\n",
              "      box-shadow: 0px 1px 3px 1px rgba(0, 0, 0, 0.15);\n",
              "      filter: drop-shadow(0px 1px 2px rgba(0, 0, 0, 0.3));\n",
              "      fill: #FFFFFF;\n",
              "    }\n",
              "  </style>\n",
              "\n",
              "      <script>\n",
              "        const buttonEl =\n",
              "          document.querySelector('#df-428585f7-6c95-4fb7-a873-95d1ab0be3b7 button.colab-df-convert');\n",
              "        buttonEl.style.display =\n",
              "          google.colab.kernel.accessAllowed ? 'block' : 'none';\n",
              "\n",
              "        async function convertToInteractive(key) {\n",
              "          const element = document.querySelector('#df-428585f7-6c95-4fb7-a873-95d1ab0be3b7');\n",
              "          const dataTable =\n",
              "            await google.colab.kernel.invokeFunction('convertToInteractive',\n",
              "                                                     [key], {});\n",
              "          if (!dataTable) return;\n",
              "\n",
              "          const docLinkHtml = 'Like what you see? Visit the ' +\n",
              "            '<a target=\"_blank\" href=https://colab.research.google.com/notebooks/data_table.ipynb>data table notebook</a>'\n",
              "            + ' to learn more about interactive tables.';\n",
              "          element.innerHTML = '';\n",
              "          dataTable['output_type'] = 'display_data';\n",
              "          await google.colab.output.renderOutput(dataTable, element);\n",
              "          const docLink = document.createElement('div');\n",
              "          docLink.innerHTML = docLinkHtml;\n",
              "          element.appendChild(docLink);\n",
              "        }\n",
              "      </script>\n",
              "    </div>\n",
              "  </div>\n",
              "  "
            ],
            "text/plain": [
              "    min_salary  max_salary\n",
              "0            0           0\n",
              "1            0           0\n",
              "2            0           0\n",
              "3            0           0\n",
              "4            0           0\n",
              "5            0           0\n",
              "6        20000       28000\n",
              "7            0           0\n",
              "8            0           0\n",
              "9            0           0\n",
              "10      100000      120000"
            ]
          },
          "metadata": {},
          "execution_count": 20
        }
      ]
    },
    {
      "cell_type": "code",
      "source": [
        "df['min_salary'] = df_salary_range['min_salary']\n",
        "df['max_salary'] = df_salary_range['max_salary']\n",
        "\n",
        "#создам дополнительный признак, указывающий на присутствие зп\n",
        "df['salary_specified'] = ((df.min_salary != 0) | \n",
        "                                         (df.max_salary != 0)).astype('int64')"
      ],
      "metadata": {
        "id": "gFWf9xlU0Y15"
      },
      "execution_count": 21,
      "outputs": []
    },
    {
      "cell_type": "code",
      "source": [
        "bin_cols.append('salary_specified')\n",
        "df.drop('salary_range', axis=1, inplace=True) #удалю этот признак так как он больше не нужен"
      ],
      "metadata": {
        "id": "Tw1EZjg7VZZq"
      },
      "execution_count": 22,
      "outputs": []
    },
    {
      "cell_type": "code",
      "source": [
        "df.head(1)"
      ],
      "metadata": {
        "colab": {
          "base_uri": "https://localhost:8080/",
          "height": 197
        },
        "id": "z09_-Yq_9m-H",
        "outputId": "687568ca-8767-472e-b5e0-92276b7a0111"
      },
      "execution_count": 23,
      "outputs": [
        {
          "output_type": "execute_result",
          "data": {
            "text/html": [
              "\n",
              "  <div id=\"df-4fdc6dea-f4b1-4637-a69b-50d503e23a22\">\n",
              "    <div class=\"colab-df-container\">\n",
              "      <div>\n",
              "<style scoped>\n",
              "    .dataframe tbody tr th:only-of-type {\n",
              "        vertical-align: middle;\n",
              "    }\n",
              "\n",
              "    .dataframe tbody tr th {\n",
              "        vertical-align: top;\n",
              "    }\n",
              "\n",
              "    .dataframe thead th {\n",
              "        text-align: right;\n",
              "    }\n",
              "</style>\n",
              "<table border=\"1\" class=\"dataframe\">\n",
              "  <thead>\n",
              "    <tr style=\"text-align: right;\">\n",
              "      <th></th>\n",
              "      <th>title</th>\n",
              "      <th>location</th>\n",
              "      <th>department</th>\n",
              "      <th>company_profile</th>\n",
              "      <th>description</th>\n",
              "      <th>requirements</th>\n",
              "      <th>benefits</th>\n",
              "      <th>telecommuting</th>\n",
              "      <th>has_company_logo</th>\n",
              "      <th>has_questions</th>\n",
              "      <th>employment_type</th>\n",
              "      <th>required_experience</th>\n",
              "      <th>required_education</th>\n",
              "      <th>industry</th>\n",
              "      <th>function</th>\n",
              "      <th>fraudulent</th>\n",
              "      <th>min_salary</th>\n",
              "      <th>max_salary</th>\n",
              "      <th>salary_specified</th>\n",
              "    </tr>\n",
              "  </thead>\n",
              "  <tbody>\n",
              "    <tr>\n",
              "      <th>0</th>\n",
              "      <td>Marketing Intern</td>\n",
              "      <td>US, NY, New York</td>\n",
              "      <td>Marketing</td>\n",
              "      <td>We're Food52, and we've created a groundbreaki...</td>\n",
              "      <td>Food52, a fast-growing, James Beard Award-winn...</td>\n",
              "      <td>Experience with content management systems a m...</td>\n",
              "      <td></td>\n",
              "      <td>0</td>\n",
              "      <td>1</td>\n",
              "      <td>0</td>\n",
              "      <td>Other</td>\n",
              "      <td>Internship</td>\n",
              "      <td>Unspecified</td>\n",
              "      <td>Unspecified</td>\n",
              "      <td>Marketing</td>\n",
              "      <td>0</td>\n",
              "      <td>0</td>\n",
              "      <td>0</td>\n",
              "      <td>0</td>\n",
              "    </tr>\n",
              "  </tbody>\n",
              "</table>\n",
              "</div>\n",
              "      <button class=\"colab-df-convert\" onclick=\"convertToInteractive('df-4fdc6dea-f4b1-4637-a69b-50d503e23a22')\"\n",
              "              title=\"Convert this dataframe to an interactive table.\"\n",
              "              style=\"display:none;\">\n",
              "        \n",
              "  <svg xmlns=\"http://www.w3.org/2000/svg\" height=\"24px\"viewBox=\"0 0 24 24\"\n",
              "       width=\"24px\">\n",
              "    <path d=\"M0 0h24v24H0V0z\" fill=\"none\"/>\n",
              "    <path d=\"M18.56 5.44l.94 2.06.94-2.06 2.06-.94-2.06-.94-.94-2.06-.94 2.06-2.06.94zm-11 1L8.5 8.5l.94-2.06 2.06-.94-2.06-.94L8.5 2.5l-.94 2.06-2.06.94zm10 10l.94 2.06.94-2.06 2.06-.94-2.06-.94-.94-2.06-.94 2.06-2.06.94z\"/><path d=\"M17.41 7.96l-1.37-1.37c-.4-.4-.92-.59-1.43-.59-.52 0-1.04.2-1.43.59L10.3 9.45l-7.72 7.72c-.78.78-.78 2.05 0 2.83L4 21.41c.39.39.9.59 1.41.59.51 0 1.02-.2 1.41-.59l7.78-7.78 2.81-2.81c.8-.78.8-2.07 0-2.86zM5.41 20L4 18.59l7.72-7.72 1.47 1.35L5.41 20z\"/>\n",
              "  </svg>\n",
              "      </button>\n",
              "      \n",
              "  <style>\n",
              "    .colab-df-container {\n",
              "      display:flex;\n",
              "      flex-wrap:wrap;\n",
              "      gap: 12px;\n",
              "    }\n",
              "\n",
              "    .colab-df-convert {\n",
              "      background-color: #E8F0FE;\n",
              "      border: none;\n",
              "      border-radius: 50%;\n",
              "      cursor: pointer;\n",
              "      display: none;\n",
              "      fill: #1967D2;\n",
              "      height: 32px;\n",
              "      padding: 0 0 0 0;\n",
              "      width: 32px;\n",
              "    }\n",
              "\n",
              "    .colab-df-convert:hover {\n",
              "      background-color: #E2EBFA;\n",
              "      box-shadow: 0px 1px 2px rgba(60, 64, 67, 0.3), 0px 1px 3px 1px rgba(60, 64, 67, 0.15);\n",
              "      fill: #174EA6;\n",
              "    }\n",
              "\n",
              "    [theme=dark] .colab-df-convert {\n",
              "      background-color: #3B4455;\n",
              "      fill: #D2E3FC;\n",
              "    }\n",
              "\n",
              "    [theme=dark] .colab-df-convert:hover {\n",
              "      background-color: #434B5C;\n",
              "      box-shadow: 0px 1px 3px 1px rgba(0, 0, 0, 0.15);\n",
              "      filter: drop-shadow(0px 1px 2px rgba(0, 0, 0, 0.3));\n",
              "      fill: #FFFFFF;\n",
              "    }\n",
              "  </style>\n",
              "\n",
              "      <script>\n",
              "        const buttonEl =\n",
              "          document.querySelector('#df-4fdc6dea-f4b1-4637-a69b-50d503e23a22 button.colab-df-convert');\n",
              "        buttonEl.style.display =\n",
              "          google.colab.kernel.accessAllowed ? 'block' : 'none';\n",
              "\n",
              "        async function convertToInteractive(key) {\n",
              "          const element = document.querySelector('#df-4fdc6dea-f4b1-4637-a69b-50d503e23a22');\n",
              "          const dataTable =\n",
              "            await google.colab.kernel.invokeFunction('convertToInteractive',\n",
              "                                                     [key], {});\n",
              "          if (!dataTable) return;\n",
              "\n",
              "          const docLinkHtml = 'Like what you see? Visit the ' +\n",
              "            '<a target=\"_blank\" href=https://colab.research.google.com/notebooks/data_table.ipynb>data table notebook</a>'\n",
              "            + ' to learn more about interactive tables.';\n",
              "          element.innerHTML = '';\n",
              "          dataTable['output_type'] = 'display_data';\n",
              "          await google.colab.output.renderOutput(dataTable, element);\n",
              "          const docLink = document.createElement('div');\n",
              "          docLink.innerHTML = docLinkHtml;\n",
              "          element.appendChild(docLink);\n",
              "        }\n",
              "      </script>\n",
              "    </div>\n",
              "  </div>\n",
              "  "
            ],
            "text/plain": [
              "              title          location department  \\\n",
              "0  Marketing Intern  US, NY, New York  Marketing   \n",
              "\n",
              "                                     company_profile  \\\n",
              "0  We're Food52, and we've created a groundbreaki...   \n",
              "\n",
              "                                         description  \\\n",
              "0  Food52, a fast-growing, James Beard Award-winn...   \n",
              "\n",
              "                                        requirements benefits  telecommuting  \\\n",
              "0  Experience with content management systems a m...                       0   \n",
              "\n",
              "   has_company_logo  has_questions employment_type required_experience  \\\n",
              "0                 1              0           Other          Internship   \n",
              "\n",
              "  required_education     industry   function  fraudulent  min_salary  \\\n",
              "0        Unspecified  Unspecified  Marketing           0           0   \n",
              "\n",
              "   max_salary  salary_specified  \n",
              "0           0                 0  "
            ]
          },
          "metadata": {},
          "execution_count": 23
        }
      ]
    },
    {
      "cell_type": "code",
      "source": [
        "   #Сделаю функцию для дальнейшего вызова кросс-валидации на 5 фолдах:\n",
        "def Catboostcl(X,y,cat_features,text_features):\n",
        "\n",
        "  cv = KFold(n_splits = 5, random_state=42, shuffle=True)\n",
        "  global model\n",
        "  scores = []\n",
        "  for train_index, test_index in cv.split(X):\n",
        "      X_train, X_test = X[train_index], X[test_index]\n",
        "      y_train, y_test = y[train_index], y[test_index]\n",
        "      #Сбалансирую таргет:\n",
        "      sample_weight= np.array(y_train.apply( lambda x: 1/19.6 if x==1 else 1))\n",
        "\n",
        "      model = CatBoostClassifier(iterations=200,\n",
        "                             verbose=False,\n",
        "                             loss_function='Logloss',\n",
        "                             eval_metric = 'F1',\n",
        "                             cat_features=cat_features, #определили и передали категориальные признаки\n",
        "                             text_features=text_features  #определили и передали текстовые признаки\n",
        "                             ).fit(X_train, y_train, eval_set=(X_test, y_test),\n",
        "                             sample_weight=sample_weight,      \n",
        "                             use_best_model=True,)\n",
        "\n",
        "    # сделаем предсказание\n",
        "      preds = model.predict(X_test)\n",
        "      score = f1_score(y_test, preds)\n",
        "      scores.append(score)\n",
        "# оценим итоги. Взглянем на усредненное значение метрики по блокам\n",
        "  print(f'MEAN F1: {np.mean(scores) * 100:.2f}%')"
      ],
      "metadata": {
        "id": "7et-eTKYYE12"
      },
      "execution_count": 185,
      "outputs": []
    },
    {
      "cell_type": "code",
      "source": [
        "#попробуйю удалить признак и посмотреть на точность\n",
        "X = df.drop(['fraudulent'], axis=1).fillna(0).values\n",
        "y = df['fraudulent']\n",
        "cat_features = list(range(10,15))\n",
        "text_features = list(range(0,7))\n",
        "Catboostcl(X,y,cat_features,text_features)"
      ],
      "metadata": {
        "id": "P7ljMS4ErHn-",
        "colab": {
          "base_uri": "https://localhost:8080/"
        },
        "outputId": "fcf8ba03-cdd4-4d8c-92cd-e897ff0420b2"
      },
      "execution_count": 29,
      "outputs": [
        {
          "output_type": "stream",
          "name": "stdout",
          "text": [
            "MEAN F1: 40.02%\n"
          ]
        }
      ]
    },
    {
      "cell_type": "markdown",
      "source": [
        "Оценка важности признаков:"
      ],
      "metadata": {
        "id": "nsRiiSIEyqDm"
      }
    },
    {
      "cell_type": "code",
      "source": [
        "def feat_importance(data3):\n",
        "  X = data3.drop(['fraudulent'], axis=1).fillna(0)\n",
        "  feat_importances = pd.Series(model.feature_importances_, index=X.columns)\n",
        "  feat_importances.nlargest(20).plot(kind='barh')\n",
        "feat_importance(df)"
      ],
      "metadata": {
        "id": "Bkb79onCobqF",
        "colab": {
          "base_uri": "https://localhost:8080/",
          "height": 265
        },
        "outputId": "b3ed5aa1-f00d-416b-b1c1-bf93d57fc027"
      },
      "execution_count": 30,
      "outputs": [
        {
          "output_type": "display_data",
          "data": {
            "image/png": "[encoded data removed]",
            "text/plain": [
              "<Figure size 432x288 with 1 Axes>"
            ]
          },
          "metadata": {
            "needs_background": "light"
          }
        }
      ]
    },
    {
      "cell_type": "markdown",
      "source": [
        "Судя по графику,можно сделать вывод,что признак 'company profile' имеет очень большое вляние на целевую переменную,поэтому имеет смысл избавится от него"
      ],
      "metadata": {
        "id": "613hIriUyxQN"
      }
    },
    {
      "cell_type": "markdown",
      "source": [
        "проделав работу над бейзлайном, мы:\n",
        "\n",
        "* получили базовое значение метрики качества, с которым будем далее сравнивать изменения в датасете и которое будем стараться улучшить. \n",
        "* получили предварительную информацию о важности признаков."
      ],
      "metadata": {
        "id": "CKi4nX1vz9um"
      }
    },
    {
      "cell_type": "markdown",
      "metadata": {
        "id": "3lLMiIDEz7Wr"
      },
      "source": [
        "# EDA"
      ]
    },
    {
      "cell_type": "code",
      "source": [
        "df.head(1)"
      ],
      "metadata": {
        "id": "WD2TfPCW9xfS",
        "colab": {
          "base_uri": "https://localhost:8080/",
          "height": 197
        },
        "outputId": "39e63bf5-d91f-44af-f28e-2181dd2cda67"
      },
      "execution_count": 167,
      "outputs": [
        {
          "output_type": "execute_result",
          "data": {
            "text/html": [
              "\n",
              "  <div id=\"df-20793685-9791-47a5-930a-4f3bc2d160af\">\n",
              "    <div class=\"colab-df-container\">\n",
              "      <div>\n",
              "<style scoped>\n",
              "    .dataframe tbody tr th:only-of-type {\n",
              "        vertical-align: middle;\n",
              "    }\n",
              "\n",
              "    .dataframe tbody tr th {\n",
              "        vertical-align: top;\n",
              "    }\n",
              "\n",
              "    .dataframe thead th {\n",
              "        text-align: right;\n",
              "    }\n",
              "</style>\n",
              "<table border=\"1\" class=\"dataframe\">\n",
              "  <thead>\n",
              "    <tr style=\"text-align: right;\">\n",
              "      <th></th>\n",
              "      <th>title</th>\n",
              "      <th>location</th>\n",
              "      <th>department</th>\n",
              "      <th>company_profile</th>\n",
              "      <th>description</th>\n",
              "      <th>requirements</th>\n",
              "      <th>benefits</th>\n",
              "      <th>telecommuting</th>\n",
              "      <th>has_company_logo</th>\n",
              "      <th>has_questions</th>\n",
              "      <th>employment_type</th>\n",
              "      <th>required_experience</th>\n",
              "      <th>required_education</th>\n",
              "      <th>industry</th>\n",
              "      <th>function</th>\n",
              "      <th>fraudulent</th>\n",
              "      <th>min_salary</th>\n",
              "      <th>max_salary</th>\n",
              "      <th>salary_specified</th>\n",
              "    </tr>\n",
              "  </thead>\n",
              "  <tbody>\n",
              "    <tr>\n",
              "      <th>0</th>\n",
              "      <td>Marketing Intern</td>\n",
              "      <td>US, NY, New York</td>\n",
              "      <td>Marketing</td>\n",
              "      <td>We're Food52, and we've created a groundbreaki...</td>\n",
              "      <td>Food52, a fast-growing, James Beard Award-winn...</td>\n",
              "      <td>Experience with content management systems a m...</td>\n",
              "      <td></td>\n",
              "      <td>0</td>\n",
              "      <td>1</td>\n",
              "      <td>0</td>\n",
              "      <td>Other</td>\n",
              "      <td>Internship</td>\n",
              "      <td>Unspecified</td>\n",
              "      <td>Unspecified</td>\n",
              "      <td>Marketing</td>\n",
              "      <td>0</td>\n",
              "      <td>0</td>\n",
              "      <td>0</td>\n",
              "      <td>0</td>\n",
              "    </tr>\n",
              "  </tbody>\n",
              "</table>\n",
              "</div>\n",
              "      <button class=\"colab-df-convert\" onclick=\"convertToInteractive('df-20793685-9791-47a5-930a-4f3bc2d160af')\"\n",
              "              title=\"Convert this dataframe to an interactive table.\"\n",
              "              style=\"display:none;\">\n",
              "        \n",
              "  <svg xmlns=\"http://www.w3.org/2000/svg\" height=\"24px\"viewBox=\"0 0 24 24\"\n",
              "       width=\"24px\">\n",
              "    <path d=\"M0 0h24v24H0V0z\" fill=\"none\"/>\n",
              "    <path d=\"M18.56 5.44l.94 2.06.94-2.06 2.06-.94-2.06-.94-.94-2.06-.94 2.06-2.06.94zm-11 1L8.5 8.5l.94-2.06 2.06-.94-2.06-.94L8.5 2.5l-.94 2.06-2.06.94zm10 10l.94 2.06.94-2.06 2.06-.94-2.06-.94-.94-2.06-.94 2.06-2.06.94z\"/><path d=\"M17.41 7.96l-1.37-1.37c-.4-.4-.92-.59-1.43-.59-.52 0-1.04.2-1.43.59L10.3 9.45l-7.72 7.72c-.78.78-.78 2.05 0 2.83L4 21.41c.39.39.9.59 1.41.59.51 0 1.02-.2 1.41-.59l7.78-7.78 2.81-2.81c.8-.78.8-2.07 0-2.86zM5.41 20L4 18.59l7.72-7.72 1.47 1.35L5.41 20z\"/>\n",
              "  </svg>\n",
              "      </button>\n",
              "      \n",
              "  <style>\n",
              "    .colab-df-container {\n",
              "      display:flex;\n",
              "      flex-wrap:wrap;\n",
              "      gap: 12px;\n",
              "    }\n",
              "\n",
              "    .colab-df-convert {\n",
              "      background-color: #E8F0FE;\n",
              "      border: none;\n",
              "      border-radius: 50%;\n",
              "      cursor: pointer;\n",
              "      display: none;\n",
              "      fill: #1967D2;\n",
              "      height: 32px;\n",
              "      padding: 0 0 0 0;\n",
              "      width: 32px;\n",
              "    }\n",
              "\n",
              "    .colab-df-convert:hover {\n",
              "      background-color: #E2EBFA;\n",
              "      box-shadow: 0px 1px 2px rgba(60, 64, 67, 0.3), 0px 1px 3px 1px rgba(60, 64, 67, 0.15);\n",
              "      fill: #174EA6;\n",
              "    }\n",
              "\n",
              "    [theme=dark] .colab-df-convert {\n",
              "      background-color: #3B4455;\n",
              "      fill: #D2E3FC;\n",
              "    }\n",
              "\n",
              "    [theme=dark] .colab-df-convert:hover {\n",
              "      background-color: #434B5C;\n",
              "      box-shadow: 0px 1px 3px 1px rgba(0, 0, 0, 0.15);\n",
              "      filter: drop-shadow(0px 1px 2px rgba(0, 0, 0, 0.3));\n",
              "      fill: #FFFFFF;\n",
              "    }\n",
              "  </style>\n",
              "\n",
              "      <script>\n",
              "        const buttonEl =\n",
              "          document.querySelector('#df-20793685-9791-47a5-930a-4f3bc2d160af button.colab-df-convert');\n",
              "        buttonEl.style.display =\n",
              "          google.colab.kernel.accessAllowed ? 'block' : 'none';\n",
              "\n",
              "        async function convertToInteractive(key) {\n",
              "          const element = document.querySelector('#df-20793685-9791-47a5-930a-4f3bc2d160af');\n",
              "          const dataTable =\n",
              "            await google.colab.kernel.invokeFunction('convertToInteractive',\n",
              "                                                     [key], {});\n",
              "          if (!dataTable) return;\n",
              "\n",
              "          const docLinkHtml = 'Like what you see? Visit the ' +\n",
              "            '<a target=\"_blank\" href=https://colab.research.google.com/notebooks/data_table.ipynb>data table notebook</a>'\n",
              "            + ' to learn more about interactive tables.';\n",
              "          element.innerHTML = '';\n",
              "          dataTable['output_type'] = 'display_data';\n",
              "          await google.colab.output.renderOutput(dataTable, element);\n",
              "          const docLink = document.createElement('div');\n",
              "          docLink.innerHTML = docLinkHtml;\n",
              "          element.appendChild(docLink);\n",
              "        }\n",
              "      </script>\n",
              "    </div>\n",
              "  </div>\n",
              "  "
            ],
            "text/plain": [
              "              title          location department  \\\n",
              "0  Marketing Intern  US, NY, New York  Marketing   \n",
              "\n",
              "                                     company_profile  \\\n",
              "0  We're Food52, and we've created a groundbreaki...   \n",
              "\n",
              "                                         description  \\\n",
              "0  Food52, a fast-growing, James Beard Award-winn...   \n",
              "\n",
              "                                        requirements benefits  telecommuting  \\\n",
              "0  Experience with content management systems a m...                       0   \n",
              "\n",
              "   has_company_logo  has_questions employment_type required_experience  \\\n",
              "0                 1              0           Other          Internship   \n",
              "\n",
              "  required_education     industry   function  fraudulent  min_salary  \\\n",
              "0        Unspecified  Unspecified  Marketing           0           0   \n",
              "\n",
              "   max_salary  salary_specified  \n",
              "0           0                 0  "
            ]
          },
          "metadata": {},
          "execution_count": 167
        }
      ]
    },
    {
      "cell_type": "markdown",
      "metadata": {
        "id": "rexp4mmzz7Wt"
      },
      "source": [
        "Рассмотрю теперь каждый признак отдельно:"
      ]
    },
    {
      "cell_type": "markdown",
      "metadata": {
        "id": "__W48RkQz7Wt"
      },
      "source": [
        "**Telecommuting**"
      ]
    },
    {
      "cell_type": "code",
      "execution_count": 35,
      "metadata": {
        "id": "hBykA5vHz7Wt",
        "colab": {
          "base_uri": "https://localhost:8080/",
          "height": 295
        },
        "outputId": "c891a143-297c-40ce-e75b-606dfbddb67a"
      },
      "outputs": [
        {
          "output_type": "display_data",
          "data": {
            "image/png": "[encoded data removed]",
            "text/plain": [
              "<Figure size 432x288 with 1 Axes>"
            ]
          },
          "metadata": {
            "needs_background": "light"
          }
        }
      ],
      "source": [
        "frad_telecom = df.groupby('telecommuting').mean()['fraudulent']\n",
        "plot_image('telecommuting',frad_telecom)"
      ]
    },
    {
      "cell_type": "markdown",
      "metadata": {
        "id": "EuHnScA5z7Wt"
      },
      "source": [
        "На графике видно,что вакансии,которые обещают работу с дома, имеют практически в 2 раза больше вероятность мошенничества. "
      ]
    },
    {
      "cell_type": "markdown",
      "metadata": {
        "id": "RfIa2i-ez7Wt"
      },
      "source": [
        "**Company Logo**"
      ]
    },
    {
      "cell_type": "code",
      "execution_count": 36,
      "metadata": {
        "id": "RGakpMvWz7Wt",
        "colab": {
          "base_uri": "https://localhost:8080/",
          "height": 295
        },
        "outputId": "a87cda23-a2f0-4adc-8eb4-27161939e7ed"
      },
      "outputs": [
        {
          "output_type": "display_data",
          "data": {
            "image/png": "[encoded data removed]",
            "text/plain": [
              "<Figure size 432x288 with 1 Axes>"
            ]
          },
          "metadata": {
            "needs_background": "light"
          }
        }
      ],
      "source": [
        "fraud_logo=df.groupby('has_company_logo').mean()['fraudulent']\n",
        "plot_image('has_company_logo',fraud_logo)"
      ]
    },
    {
      "cell_type": "markdown",
      "metadata": {
        "id": "5wk_SY6pz7Wu"
      },
      "source": [
        "Вакансии, в которых компании без фирменного логотипа, имеют в 8 раз больше вероятность оказаться мошенническими."
      ]
    },
    {
      "cell_type": "code",
      "source": [
        "#попробуйю удалить признак и посмотреть на точность\n",
        "X = df.drop(['fraudulent','has_company_logo'], axis=1).fillna(0).values\n",
        "y = df['fraudulent']\n",
        "cat_features = list(range(9, 14))\n",
        "text_features = list(range(0,7))\n",
        "Catboostcl(X,y,cat_features,text_features)"
      ],
      "metadata": {
        "id": "fD-VU6yU6RuA",
        "colab": {
          "base_uri": "https://localhost:8080/"
        },
        "outputId": "a9cc6ffd-024f-467d-93ee-0fac1409ae6f"
      },
      "execution_count": 37,
      "outputs": [
        {
          "output_type": "stream",
          "name": "stdout",
          "text": [
            "MEAN F1: 41.18%\n"
          ]
        }
      ]
    },
    {
      "cell_type": "markdown",
      "source": [
        "метрика улучшилась,но не на много."
      ],
      "metadata": {
        "id": "d5arPi5E_Ipl"
      }
    },
    {
      "cell_type": "markdown",
      "metadata": {
        "id": "bGpT0Wy7z7Wu"
      },
      "source": [
        "**Has Question**"
      ]
    },
    {
      "cell_type": "code",
      "execution_count": 39,
      "metadata": {
        "id": "J6wIqR9fz7Wu",
        "colab": {
          "base_uri": "https://localhost:8080/",
          "height": 295
        },
        "outputId": "703d3e8f-94c0-486e-b915-44a2020709aa"
      },
      "outputs": [
        {
          "output_type": "display_data",
          "data": {
            "image/png": "[encoded data removed]",
            "text/plain": [
              "<Figure size 432x288 with 1 Axes>"
            ]
          },
          "metadata": {
            "needs_background": "light"
          }
        }
      ],
      "source": [
        "fraud_question = df.groupby('has_questions').mean()['fraudulent']\n",
        "plot_image('has_questions',fraud_question)"
      ]
    },
    {
      "cell_type": "markdown",
      "metadata": {
        "id": "K3oBlyGoz7Wu"
      },
      "source": [
        "Вакансии, в которых нет вопросов к соискателю, имеют в 3 раза больше вероятность оказаться мошенническими. Отсюда вывод - мошенники не добавляют проверочные вопросы."
      ]
    },
    {
      "cell_type": "markdown",
      "metadata": {
        "id": "aA2_52oUz7Wu"
      },
      "source": [
        "**Employment Type**"
      ]
    },
    {
      "cell_type": "code",
      "execution_count": 40,
      "metadata": {
        "id": "UPrTV0tbz7Wu",
        "colab": {
          "base_uri": "https://localhost:8080/",
          "height": 295
        },
        "outputId": "7a2b5778-8f9f-4867-a180-036765a3b503"
      },
      "outputs": [
        {
          "output_type": "display_data",
          "data": {
            "image/png": "[encoded data removed]",
            "text/plain": [
              "<Figure size 432x288 with 1 Axes>"
            ]
          },
          "metadata": {
            "needs_background": "light"
          }
        }
      ],
      "source": [
        "fraud_type = df.groupby('employment_type').mean()['fraudulent']\n",
        "plot_image('employment_type',fraud_type)"
      ]
    },
    {
      "cell_type": "markdown",
      "metadata": {
        "id": "eeVIEOenz7Wu"
      },
      "source": [
        "Part-time (частичная занятость) работы имеют самый высокий процент (почти 10%) мошенничества. На втором месте вакансии,где не указан тип работы, то есть возможно мошенники не вдаются в подробности вакансии"
      ]
    },
    {
      "cell_type": "markdown",
      "metadata": {
        "id": "8H1L77S0z7Wv"
      },
      "source": [
        "**Required Education**"
      ]
    },
    {
      "cell_type": "code",
      "execution_count": 41,
      "metadata": {
        "id": "ymgg8jh_z7Wv",
        "colab": {
          "base_uri": "https://localhost:8080/"
        },
        "outputId": "3c7c43a2-4250-485d-cd1e-f198992f2441"
      },
      "outputs": [
        {
          "output_type": "execute_result",
          "data": {
            "text/plain": [
              "Unspecified                          9502\n",
              "Bachelor's Degree                    5145\n",
              "High School or equivalent            2080\n",
              "Master's Degree                       416\n",
              "Associate Degree                      274\n",
              "Certification                         170\n",
              "Some College Coursework Completed     102\n",
              "Professional                           74\n",
              "Vocational                             49\n",
              "Some High School Coursework            27\n",
              "Doctorate                              26\n",
              "Vocational - HS Diploma                 9\n",
              "Vocational - Degree                     6\n",
              "Name: required_education, dtype: int64"
            ]
          },
          "metadata": {},
          "execution_count": 41
        }
      ],
      "source": [
        "df.required_education.value_counts()"
      ]
    },
    {
      "cell_type": "code",
      "execution_count": 42,
      "metadata": {
        "id": "MwUwCnYbz7Wv",
        "colab": {
          "base_uri": "https://localhost:8080/",
          "height": 387
        },
        "outputId": "7e5536b5-13ac-4744-87a3-ebfae3508c07"
      },
      "outputs": [
        {
          "output_type": "stream",
          "name": "stdout",
          "text": [
            "index 1: Associate Degree, index 2: Bachelor's Degree, index 3: Certification, index 4: Doctorate, index 5: High School or equivalent, index 6: Master's Degree, index 7: Professional, index 8: Some College Coursework Completed, index 9: Some High School Coursework, index 10: Unspecified, index 11: Vocational, index 12: Vocational - Degree, index 13: Vocational - HS Diploma, "
          ]
        },
        {
          "output_type": "display_data",
          "data": {
            "image/png": "[encoded data removed]",
            "text/plain": [
              "<Figure size 1080x360 with 1 Axes>"
            ]
          },
          "metadata": {
            "needs_background": "light"
          }
        }
      ],
      "source": [
        "fraud_educ = df.groupby('required_education').mean()['fraudulent']\n",
        "for k,l in enumerate(np.array(fraud_educ.index,dtype='str')):\n",
        "    print(f'index {k+1}: {l}',end=\", \")\n",
        "    \n",
        "plt.figure(figsize=(15,5))\n",
        "plt.title('required_education')\n",
        "plt.xlabel('index')\n",
        "plt.ylabel('percentage of fraudulent')\n",
        "plt.xticks(np.arange(1,len(fraud_educ)+1,1))\n",
        "plt.bar(np.arange(1,len(fraud_educ)+1,1),fraud_educ)\n",
        "plt.show()"
      ]
    },
    {
      "cell_type": "markdown",
      "metadata": {
        "id": "VaQ_ibPuz7Wv"
      },
      "source": [
        "Очень заметно,что вакансии, где указано требование \"Some High School Coursework\" (незаконченное среднее образование) являются нереальными (примерно 70%). Кстати, сертификаты тоже имеют большой процент - около 10%.  Похоже, что мошенники, как правило, нацелены на молодых людей со степенью бакалавра или дипломом средней школы, которые ищут работу на полную ставку."
      ]
    },
    {
      "cell_type": "markdown",
      "source": [
        "**Salary Range**"
      ],
      "metadata": {
        "id": "CK6l00-J2GK9"
      }
    },
    {
      "cell_type": "markdown",
      "metadata": {
        "id": "4PhmOgiLz7Wx"
      },
      "source": [
        "парсинг значений мы уже выполнили для бейзлайна. Посмотрим теперь на распределение минимальной и максимальной зп:"
      ]
    },
    {
      "cell_type": "code",
      "source": [
        "salary =['min_salary','max_salary']\n",
        "fig, axes = plt.subplots(1, 2, figsize=(15, 7))\n",
        "\n",
        "for i, feature_name in enumerate(salary):\n",
        "    sns.boxplot(y=feature_name, x='fraudulent', data=df[df.salary_specified == 1], ax=axes[i])\n",
        "    axes[i].set_ylim([-1e4, 2e5])\n",
        "    axes[i].set_xticklabels(['non-fraudulent', 'fraudulent'])\n",
        "    axes[i].set_title(f'Distributions of specified {feature_name}')\n",
        "\n",
        "fig.suptitle('Distributions of min_salary and max_salary')\n",
        "fig.show()"
      ],
      "metadata": {
        "colab": {
          "base_uri": "https://localhost:8080/",
          "height": 493
        },
        "id": "J3UNZDJE6D0c",
        "outputId": "22227fda-5aaa-4395-91b3-9065eb8453f5"
      },
      "execution_count": 43,
      "outputs": [
        {
          "output_type": "display_data",
          "data": {
            "image/png": "[encoded data removed]",
            "text/plain": [
              "<Figure size 1080x504 with 2 Axes>"
            ]
          },
          "metadata": {
            "needs_background": "light"
          }
        }
      ]
    },
    {
      "cell_type": "markdown",
      "metadata": {
        "id": "eW0oEO-Ez7Wx"
      },
      "source": [
        "Можно заметить странный факт,что нереальные вакансии обычно предлагают меньшую заработную плату"
      ]
    },
    {
      "cell_type": "code",
      "source": [
        "#создам новый признак - разница между макс и мин зарплатой\n",
        "df['delta_salary'] = df['max_salary'] - df['min_salary']\n",
        "num_cols = ['delta_salary']"
      ],
      "metadata": {
        "id": "FXKrmaIsOWzr"
      },
      "execution_count": 27,
      "outputs": []
    },
    {
      "cell_type": "markdown",
      "metadata": {
        "id": "9YsfO96Gz7Wy"
      },
      "source": [
        "**Location**"
      ]
    },
    {
      "cell_type": "markdown",
      "metadata": {
        "id": "291nGnzEz7Wy"
      },
      "source": [
        "В основном наш признак содержит информацию о стране,штате и городе. Попробую извлечь эту информацию в отдельные колонки (в дальнейшем категориальные)"
      ]
    },
    {
      "cell_type": "code",
      "execution_count": 45,
      "metadata": {
        "id": "Eo8Tw27Bz7Wy",
        "colab": {
          "base_uri": "https://localhost:8080/",
          "height": 394
        },
        "outputId": "37a3e70e-5787-4ac9-de54-c2d1779ed3f6"
      },
      "outputs": [
        {
          "output_type": "display_data",
          "data": {
            "image/png": "[encoded data removed]",
            "text/plain": [
              "<Figure size 432x288 with 1 Axes>"
            ]
          },
          "metadata": {
            "needs_background": "light"
          }
        }
      ],
      "source": [
        "sns.countplot(x=df['location'],data=df, hue=\"fraudulent\",\n",
        "              order=df['location'].value_counts().iloc[:10].index)\n",
        "plt.xticks(rotation=90)\n",
        "title = df['location'] + ' fake job count'\n",
        "plt.title('Location Fake Jobs')\n",
        "plt.show()"
      ]
    },
    {
      "cell_type": "markdown",
      "metadata": {
        "id": "UAG85toTz7Wy"
      },
      "source": [
        "Посмотрев на график происхождения фейковых работ,можно сделать вывод ,что в основном они в США, а это значит, что в Европейских странах это встречается реже"
      ]
    },
    {
      "cell_type": "code",
      "execution_count": 28,
      "metadata": {
        "id": "YfRax_tFz7Wy",
        "colab": {
          "base_uri": "https://localhost:8080/"
        },
        "outputId": "cbcd56a0-6fd2-44b4-e746-54cb5113a84e"
      },
      "outputs": [
        {
          "output_type": "execute_result",
          "data": {
            "text/plain": [
              "[['US', 'NY', 'New York'],\n",
              " ['NZ', '', 'Auckland'],\n",
              " ['US', 'IA', 'Wever'],\n",
              " ['US', 'DC', 'Washington'],\n",
              " ['US', 'FL', 'Fort Worth']]"
            ]
          },
          "metadata": {},
          "execution_count": 28
        }
      ],
      "source": [
        "splitted_location = list(df['location'].str.split(', ').values)\n",
        "splitted_location[:5]"
      ]
    },
    {
      "cell_type": "code",
      "execution_count": 29,
      "metadata": {
        "id": "dFcfqdirz7Wy",
        "colab": {
          "base_uri": "https://localhost:8080/"
        },
        "outputId": "a4771380-0c25-46a4-c566-fe2a32ebbb87"
      },
      "outputs": [
        {
          "output_type": "execute_result",
          "data": {
            "text/plain": [
              "[['SG', '01', 'Singapore'],\n",
              " ['IL', 'Unpecified', 'Tel Aviv', 'Israel'],\n",
              " ['GB', 'SOS', 'Southend-on-Sea'],\n",
              " ['US', 'NY', 'New York'],\n",
              " ['US', 'PA', 'USA Northeast']]"
            ]
          },
          "metadata": {},
          "execution_count": 29
        }
      ],
      "source": [
        "#Заполню пропуски -'Unpecified'\n",
        "for l_ind, l in enumerate(splitted_location):\n",
        "    if l is np.nan:\n",
        "        splitted_location[l_ind] = ['Unpecified'] * 3\n",
        "    else:\n",
        "        for el_ind, el in enumerate(l):\n",
        "            if el == '':\n",
        "                l[el_ind] = 'Unpecified'\n",
        "splitted_location[15:20]"
      ]
    },
    {
      "cell_type": "markdown",
      "metadata": {
        "id": "NeSyYmQ5z7Wy"
      },
      "source": [
        "Но в некоторых странах есть и по 4 значения,и меньше 3. Попробую исправить это"
      ]
    },
    {
      "cell_type": "code",
      "execution_count": 30,
      "metadata": {
        "id": "d6r33U8Xz7Wy"
      },
      "outputs": [],
      "source": [
        "splitted_location = list(map(lambda l: list(l), splitted_location))\n",
        "\n",
        "for l_ind, l in enumerate(splitted_location):\n",
        "    if len(l) > 3:\n",
        "        splitted_location[l_ind] = l[:2] + [', '.join(l[2:])]\n",
        "    if len(l) < 3:\n",
        "        splitted_location[l_ind] += ['Unpecified'] * 2"
      ]
    },
    {
      "cell_type": "code",
      "execution_count": 31,
      "metadata": {
        "id": "2eQVdJJ_z7Wz",
        "colab": {
          "base_uri": "https://localhost:8080/"
        },
        "outputId": "ac9dfc53-84c0-439b-8ba9-2a8af1fc99cc"
      },
      "outputs": [
        {
          "output_type": "execute_result",
          "data": {
            "text/plain": [
              "False"
            ]
          },
          "metadata": {},
          "execution_count": 31
        }
      ],
      "source": [
        "#Проверю,есть ли еще ошибочные значения\n",
        "any([len(loc) != 3 for loc in splitted_location])"
      ]
    },
    {
      "cell_type": "code",
      "execution_count": 32,
      "metadata": {
        "id": "0vdCoQV9z7Wz",
        "colab": {
          "base_uri": "https://localhost:8080/",
          "height": 206
        },
        "outputId": "7a4ee65c-b147-4fc6-ddaa-cec07f28871c"
      },
      "outputs": [
        {
          "output_type": "execute_result",
          "data": {
            "text/html": [
              "\n",
              "  <div id=\"df-479b9ed7-2d8f-4d92-a0d8-0853a1ee02f4\">\n",
              "    <div class=\"colab-df-container\">\n",
              "      <div>\n",
              "<style scoped>\n",
              "    .dataframe tbody tr th:only-of-type {\n",
              "        vertical-align: middle;\n",
              "    }\n",
              "\n",
              "    .dataframe tbody tr th {\n",
              "        vertical-align: top;\n",
              "    }\n",
              "\n",
              "    .dataframe thead th {\n",
              "        text-align: right;\n",
              "    }\n",
              "</style>\n",
              "<table border=\"1\" class=\"dataframe\">\n",
              "  <thead>\n",
              "    <tr style=\"text-align: right;\">\n",
              "      <th></th>\n",
              "      <th>country</th>\n",
              "      <th>state</th>\n",
              "      <th>city</th>\n",
              "    </tr>\n",
              "  </thead>\n",
              "  <tbody>\n",
              "    <tr>\n",
              "      <th>0</th>\n",
              "      <td>US</td>\n",
              "      <td>NY</td>\n",
              "      <td>New York</td>\n",
              "    </tr>\n",
              "    <tr>\n",
              "      <th>1</th>\n",
              "      <td>NZ</td>\n",
              "      <td>Unpecified</td>\n",
              "      <td>Auckland</td>\n",
              "    </tr>\n",
              "    <tr>\n",
              "      <th>2</th>\n",
              "      <td>US</td>\n",
              "      <td>IA</td>\n",
              "      <td>Wever</td>\n",
              "    </tr>\n",
              "    <tr>\n",
              "      <th>3</th>\n",
              "      <td>US</td>\n",
              "      <td>DC</td>\n",
              "      <td>Washington</td>\n",
              "    </tr>\n",
              "    <tr>\n",
              "      <th>4</th>\n",
              "      <td>US</td>\n",
              "      <td>FL</td>\n",
              "      <td>Fort Worth</td>\n",
              "    </tr>\n",
              "  </tbody>\n",
              "</table>\n",
              "</div>\n",
              "      <button class=\"colab-df-convert\" onclick=\"convertToInteractive('df-479b9ed7-2d8f-4d92-a0d8-0853a1ee02f4')\"\n",
              "              title=\"Convert this dataframe to an interactive table.\"\n",
              "              style=\"display:none;\">\n",
              "        \n",
              "  <svg xmlns=\"http://www.w3.org/2000/svg\" height=\"24px\"viewBox=\"0 0 24 24\"\n",
              "       width=\"24px\">\n",
              "    <path d=\"M0 0h24v24H0V0z\" fill=\"none\"/>\n",
              "    <path d=\"M18.56 5.44l.94 2.06.94-2.06 2.06-.94-2.06-.94-.94-2.06-.94 2.06-2.06.94zm-11 1L8.5 8.5l.94-2.06 2.06-.94-2.06-.94L8.5 2.5l-.94 2.06-2.06.94zm10 10l.94 2.06.94-2.06 2.06-.94-2.06-.94-.94-2.06-.94 2.06-2.06.94z\"/><path d=\"M17.41 7.96l-1.37-1.37c-.4-.4-.92-.59-1.43-.59-.52 0-1.04.2-1.43.59L10.3 9.45l-7.72 7.72c-.78.78-.78 2.05 0 2.83L4 21.41c.39.39.9.59 1.41.59.51 0 1.02-.2 1.41-.59l7.78-7.78 2.81-2.81c.8-.78.8-2.07 0-2.86zM5.41 20L4 18.59l7.72-7.72 1.47 1.35L5.41 20z\"/>\n",
              "  </svg>\n",
              "      </button>\n",
              "      \n",
              "  <style>\n",
              "    .colab-df-container {\n",
              "      display:flex;\n",
              "      flex-wrap:wrap;\n",
              "      gap: 12px;\n",
              "    }\n",
              "\n",
              "    .colab-df-convert {\n",
              "      background-color: #E8F0FE;\n",
              "      border: none;\n",
              "      border-radius: 50%;\n",
              "      cursor: pointer;\n",
              "      display: none;\n",
              "      fill: #1967D2;\n",
              "      height: 32px;\n",
              "      padding: 0 0 0 0;\n",
              "      width: 32px;\n",
              "    }\n",
              "\n",
              "    .colab-df-convert:hover {\n",
              "      background-color: #E2EBFA;\n",
              "      box-shadow: 0px 1px 2px rgba(60, 64, 67, 0.3), 0px 1px 3px 1px rgba(60, 64, 67, 0.15);\n",
              "      fill: #174EA6;\n",
              "    }\n",
              "\n",
              "    [theme=dark] .colab-df-convert {\n",
              "      background-color: #3B4455;\n",
              "      fill: #D2E3FC;\n",
              "    }\n",
              "\n",
              "    [theme=dark] .colab-df-convert:hover {\n",
              "      background-color: #434B5C;\n",
              "      box-shadow: 0px 1px 3px 1px rgba(0, 0, 0, 0.15);\n",
              "      filter: drop-shadow(0px 1px 2px rgba(0, 0, 0, 0.3));\n",
              "      fill: #FFFFFF;\n",
              "    }\n",
              "  </style>\n",
              "\n",
              "      <script>\n",
              "        const buttonEl =\n",
              "          document.querySelector('#df-479b9ed7-2d8f-4d92-a0d8-0853a1ee02f4 button.colab-df-convert');\n",
              "        buttonEl.style.display =\n",
              "          google.colab.kernel.accessAllowed ? 'block' : 'none';\n",
              "\n",
              "        async function convertToInteractive(key) {\n",
              "          const element = document.querySelector('#df-479b9ed7-2d8f-4d92-a0d8-0853a1ee02f4');\n",
              "          const dataTable =\n",
              "            await google.colab.kernel.invokeFunction('convertToInteractive',\n",
              "                                                     [key], {});\n",
              "          if (!dataTable) return;\n",
              "\n",
              "          const docLinkHtml = 'Like what you see? Visit the ' +\n",
              "            '<a target=\"_blank\" href=https://colab.research.google.com/notebooks/data_table.ipynb>data table notebook</a>'\n",
              "            + ' to learn more about interactive tables.';\n",
              "          element.innerHTML = '';\n",
              "          dataTable['output_type'] = 'display_data';\n",
              "          await google.colab.output.renderOutput(dataTable, element);\n",
              "          const docLink = document.createElement('div');\n",
              "          docLink.innerHTML = docLinkHtml;\n",
              "          element.appendChild(docLink);\n",
              "        }\n",
              "      </script>\n",
              "    </div>\n",
              "  </div>\n",
              "  "
            ],
            "text/plain": [
              "  country       state        city\n",
              "0      US          NY    New York\n",
              "1      NZ  Unpecified    Auckland\n",
              "2      US          IA       Wever\n",
              "3      US          DC  Washington\n",
              "4      US          FL  Fort Worth"
            ]
          },
          "metadata": {},
          "execution_count": 32
        }
      ],
      "source": [
        "df_location = pd.DataFrame(splitted_location, columns=['country', 'state', 'city'])\n",
        "df_location.head(5)"
      ]
    },
    {
      "cell_type": "markdown",
      "metadata": {
        "id": "aXUMCUR2z7Wz"
      },
      "source": [
        "Добавлю эти три новые извлеченные признаки к общему датасету и удалю 'location'"
      ]
    },
    {
      "cell_type": "code",
      "execution_count": 33,
      "metadata": {
        "id": "k4q08fFnz7Wz"
      },
      "outputs": [],
      "source": [
        "df['country'] = df_location['country']\n",
        "df['state'] = df_location['state']\n",
        "df['city'] = df_location['city']\n",
        "\n",
        "cat_cols += ['country', 'state', 'city']\n",
        "df.drop('location', axis=1, inplace=True)"
      ]
    },
    {
      "cell_type": "code",
      "source": [
        "#попробуйю удалить признак и посмотреть на точность\n",
        "X = df.drop(['fraudulent'], axis=1).fillna(0).values\n",
        "y = df['fraudulent']\n",
        "cat_features = [8,9,10,11,12,17,18,19]\n",
        "text_features = list(range(0, 6))\n",
        "Catboostcl(X,y,cat_features,text_features)"
      ],
      "metadata": {
        "colab": {
          "base_uri": "https://localhost:8080/"
        },
        "id": "RoCeJvy4ipV9",
        "outputId": "46d6255b-b2fe-4256-c582-38d213169ad8"
      },
      "execution_count": 53,
      "outputs": [
        {
          "output_type": "stream",
          "name": "stdout",
          "text": [
            "MEAN F1: 42.86%\n"
          ]
        }
      ]
    },
    {
      "cell_type": "markdown",
      "source": [
        "Похоже,что этот признак действительно сильно влияет. Думаю,стоит удалить его,так как видна зависимость. Возможно этот признак и является утечкой данных  и в нем находится достаточно много информации о целевой переменной"
      ],
      "metadata": {
        "id": "A8BrcxBTB3Id"
      }
    },
    {
      "cell_type": "markdown",
      "metadata": {
        "id": "_h2_W_Opz7Wz"
      },
      "source": [
        "**Label Encoding and OneHotEncoding**"
      ]
    },
    {
      "cell_type": "code",
      "execution_count": 34,
      "metadata": {
        "id": "9JRwih0Bz7W0"
      },
      "outputs": [],
      "source": [
        "#признаки с большим количеством значений преобразую с помощью  LabelEncoder()\n",
        "others_cols = ['department','industry','function','country','state','city']\n",
        "le = LabelEncoder()\n",
        "for col in others_cols:\n",
        "    df[col] = le.fit_transform(df[col])"
      ]
    },
    {
      "cell_type": "markdown",
      "source": [
        "Посмотрим на матрицу корреляций признаков\n"
      ],
      "metadata": {
        "id": "PSZqacOR2PDa"
      }
    },
    {
      "cell_type": "code",
      "execution_count": 35,
      "metadata": {
        "id": "bd-Nh90Dz7Wz",
        "colab": {
          "base_uri": "https://localhost:8080/",
          "height": 408
        },
        "outputId": "7558aa80-becd-4eed-eeff-ccb866ecd87d"
      },
      "outputs": [
        {
          "output_type": "display_data",
          "data": {
            "image/png": "[encoded data removed]",
            "text/plain": [
              "<Figure size 720x360 with 2 Axes>"
            ]
          },
          "metadata": {
            "needs_background": "light"
          }
        }
      ],
      "source": [
        "fig, ax = plt.subplots(1, 1, figsize=(10, 5))\n",
        "ax = sns.heatmap(df.corr(),fmt='.1g',\n",
        "                 annot=True, cmap='coolwarm')"
      ]
    },
    {
      "cell_type": "markdown",
      "source": [
        "по матрице видим корреляцию между признаками 'delta_salary','min_salary' и 'max_salary'. Думаю,что стоит оставить только 'delta_salary'"
      ],
      "metadata": {
        "id": "H9Ys7eyR2Q8K"
      }
    },
    {
      "cell_type": "code",
      "source": [
        "df.drop(['min_salary','max_salary'], axis=1, inplace=True)"
      ],
      "metadata": {
        "id": "hWND6_xgMtuq"
      },
      "execution_count": 36,
      "outputs": []
    },
    {
      "cell_type": "code",
      "execution_count": 37,
      "metadata": {
        "id": "ea70Ox1Bz7Wz"
      },
      "outputs": [],
      "source": [
        "# реализую OneHotEncoding для категориальных признаков у которых не очень много значений\n",
        "df = pd.get_dummies(df, columns = ['employment_type','required_experience','required_education'])"
      ]
    },
    {
      "cell_type": "markdown",
      "source": [
        "Теперь сравню метрику после удаления признака 'benefits',который достаточно сильно влияет на целевую переменную"
      ],
      "metadata": {
        "id": "PYYZYlI3ButP"
      }
    },
    {
      "cell_type": "code",
      "source": [
        "#попробуйю удалить признак и посмотреть на точность\n",
        "X = df.drop(['fraudulent','benefits'], axis=1).fillna(0).values\n",
        "y = df['fraudulent']\n",
        "cat_features = []\n",
        "text_features = [0,2,3,4]\n",
        "Catboostcl(X,y,cat_features,text_features)"
      ],
      "metadata": {
        "id": "COz9HoT6guJK",
        "colab": {
          "base_uri": "https://localhost:8080/"
        },
        "outputId": "0c664d7c-a18a-4305-f905-659b2fc35c89"
      },
      "execution_count": 58,
      "outputs": [
        {
          "output_type": "stream",
          "name": "stdout",
          "text": [
            "MEAN F1: 60.20%\n"
          ]
        }
      ]
    },
    {
      "cell_type": "code",
      "source": [
        "#попробуйю без удаления посмотреть на точность\n",
        "X = df.drop(['fraudulent'], axis=1).fillna(0).values\n",
        "y = df['fraudulent']\n",
        "cat_features = []\n",
        "text_features = [0,2,3,4,5]\n",
        "Catboostcl(X,y,cat_features,text_features)"
      ],
      "metadata": {
        "colab": {
          "base_uri": "https://localhost:8080/"
        },
        "id": "D_5jw5EbUdXZ",
        "outputId": "4e3361fd-5353-419d-ebe5-8c7585a53b62"
      },
      "execution_count": 59,
      "outputs": [
        {
          "output_type": "stream",
          "name": "stdout",
          "text": [
            "MEAN F1: 60.25%\n"
          ]
        }
      ]
    },
    {
      "cell_type": "markdown",
      "source": [
        "точность практически не отличается,оставляю 'benefits'"
      ],
      "metadata": {
        "id": "pDYcgUKqRYgB"
      }
    },
    {
      "cell_type": "markdown",
      "metadata": {
        "id": "bDoWGgZ8z7W0"
      },
      "source": [
        "**fraudulent**"
      ]
    },
    {
      "cell_type": "markdown",
      "metadata": {
        "id": "VHEEyMKwz7W0"
      },
      "source": [
        "Рассмотрю теперь целевую переменную"
      ]
    },
    {
      "cell_type": "code",
      "execution_count": 60,
      "metadata": {
        "id": "HIGBFOZaz7W0",
        "colab": {
          "base_uri": "https://localhost:8080/"
        },
        "outputId": "3934a65d-5524-4f2a-b274-056c6dcc066e"
      },
      "outputs": [
        {
          "output_type": "execute_result",
          "data": {
            "text/plain": [
              "0    17014\n",
              "1      866\n",
              "Name: fraudulent, dtype: int64"
            ]
          },
          "metadata": {},
          "execution_count": 60
        }
      ],
      "source": [
        "df.fraudulent.value_counts()"
      ]
    },
    {
      "cell_type": "markdown",
      "metadata": {
        "id": "CNgEbZYUz7W0"
      },
      "source": [
        "Общее количество поддельных и реальных вакансий:"
      ]
    },
    {
      "cell_type": "code",
      "execution_count": 61,
      "metadata": {
        "id": "RijrdYgMz7W0",
        "colab": {
          "base_uri": "https://localhost:8080/",
          "height": 350
        },
        "outputId": "955732b5-1f87-495e-9f90-06e27cb89d0a"
      },
      "outputs": [
        {
          "output_type": "stream",
          "name": "stderr",
          "text": [
            "Pass the following variable as a keyword arg: x. From version 0.12, the only valid positional argument will be `data`, and passing other arguments without an explicit keyword will result in an error or misinterpretation.\n"
          ]
        },
        {
          "output_type": "execute_result",
          "data": {
            "text/plain": [
              "Text(0.5, 1.0, 'Real & Fradulent')"
            ]
          },
          "metadata": {},
          "execution_count": 61
        },
        {
          "output_type": "display_data",
          "data": {
            "image/png": "[encoded data removed]",
            "text/plain": [
              "<Figure size 432x288 with 1 Axes>"
            ]
          },
          "metadata": {
            "needs_background": "light"
          }
        }
      ],
      "source": [
        "sns.countplot(df.fraudulent).set_title('Real & Fradulent')"
      ]
    },
    {
      "cell_type": "markdown",
      "metadata": {
        "id": "9jdXJn7hz7W0"
      },
      "source": [
        "Значение 0 явно преобладает и заметна несбалансированность в выборке. В таком случае модель склонна переобучаться.\n",
        "Поэтому применяю sample_weight при обучении модели, чтобы сгладить эту разницу"
      ]
    },
    {
      "cell_type": "markdown",
      "metadata": {
        "id": "9NRmdbcvz7W1"
      },
      "source": [
        "**Text columns**"
      ]
    },
    {
      "cell_type": "markdown",
      "metadata": {
        "id": "SD02A-CIz7W1"
      },
      "source": [
        "Объединим все признаки с текстом в один:"
      ]
    },
    {
      "cell_type": "code",
      "execution_count": 38,
      "metadata": {
        "id": "TowQ-B1Oz7W1"
      },
      "outputs": [],
      "source": [
        "df['text'] = df[['title','description','requirements',\n",
        "                'benefits']].astype('str').apply(lambda x: ' '.join(x), axis = 1) \n",
        "\n",
        "df.drop(['title','company_profile','description',\n",
        "                 'requirements','benefits'], axis=1, inplace=True)"
      ]
    },
    {
      "cell_type": "markdown",
      "source": [
        "Гистограмма, описывающая количество символов. Попробуем визуализировать разницу в количестве символов в описании вакансии между реальными и поддельными публикациями:"
      ],
      "metadata": {
        "id": "htuEARDG74Ym"
      }
    },
    {
      "cell_type": "code",
      "source": [
        "df['character_count'] = df.text.apply(len)\n",
        "\n",
        "df[df.fraudulent==0].character_count.plot(bins=35, kind='hist', color='blue', \n",
        "                                       label='Real', alpha=0.8)\n",
        "df[df.fraudulent==1].character_count.plot(kind='hist', color='red', \n",
        "                                       label='Fake', alpha=0.8)\n",
        "plt.legend()\n",
        "plt.title('Frequency of Words')\n",
        "plt.xlabel(\"Character Count\")\n",
        "num_cols += ['character_count']"
      ],
      "metadata": {
        "id": "j2zkChNo7sFc",
        "colab": {
          "base_uri": "https://localhost:8080/",
          "height": 295
        },
        "outputId": "cacc114f-400e-45a1-bf86-fc3a57e3087b"
      },
      "execution_count": 40,
      "outputs": [
        {
          "output_type": "display_data",
          "data": {
            "image/png": "[encoded data removed]",
            "text/plain": [
              "<Figure size 432x288 with 1 Axes>"
            ]
          },
          "metadata": {
            "needs_background": "light"
          }
        }
      ]
    },
    {
      "cell_type": "markdown",
      "source": [
        "Можно увидеть, что, хоть количество символов относительно одинаково как для реальных, так и для поддельных публикаций, однако реальные вакансии имеют большее количество символов в описании. Можно подтвердить ранее упомянутое,что мошенники не особо вдаются в подробности вакансии"
      ],
      "metadata": {
        "id": "c67e44mM8EjU"
      }
    },
    {
      "cell_type": "code",
      "execution_count": 41,
      "metadata": {
        "colab": {
          "base_uri": "https://localhost:8080/"
        },
        "id": "gVGD401uz7W1",
        "outputId": "fcc948df-0d95-46af-c12b-4d9db8d76dfa"
      },
      "outputs": [
        {
          "output_type": "execute_result",
          "data": {
            "text/plain": [
              "0    market intern food fastgrow jame beard awardwi...\n",
              "1    custom servic cloud video product organis focu...\n",
              "2    commiss machineri assist cma client locat hous...\n",
              "3    account execut washington dc compani esri envi...\n",
              "4    bill review manag job titl item review manager...\n",
              "Name: text, dtype: object"
            ]
          },
          "metadata": {},
          "execution_count": 41
        }
      ],
      "source": [
        "# Проведу очистку текста,токеннизацию и удаление stopwords\n",
        "# Удалю лишние символы, от них не ожидается никакой предсказательной силы, а просто принесут в текст шум. \n",
        "def clean_text(text, ):\n",
        "    if text is not None:\n",
        "        text = re.sub(r'[0-9]+','',text)\n",
        "        text =  text.lower()\n",
        "        text = re.sub('re:', '', text)\n",
        "        text = re.sub('-', '', text)\n",
        "        text = re.sub('_', '', text)\n",
        "        text = re.sub(r'^https?:\\/\\/.*[\\r\\n]*', '', text, flags=re.MULTILINE)\n",
        "        text = re.sub(r'\\S*@\\S*\\s?', '', text, flags=re.MULTILINE)\n",
        "# Remove text between square brackets\n",
        "        text =re.sub('\\[[^]]*\\]', '', text)\n",
        "# removes punctuation\n",
        "        text = re.sub(r'[^\\w\\s]','',text)\n",
        "        text = re.sub(r'\\n',' ',text)\n",
        "        text = re.sub(r'[0-9]+','',text)\n",
        "# strip html \n",
        "        p = re.compile(r'<.*?>')\n",
        "        text = re.sub(r\"\\'ve\", \" have \", text)\n",
        "        text = re.sub(r\"can't\", \"cannot \", text)\n",
        "        text = re.sub(r\"n't\", \" not \", text)\n",
        "        text = re.sub(r\"I'm\", \"I am\", text)\n",
        "        text = re.sub(r\" m \", \" am \", text)\n",
        "        text = re.sub(r\"\\'re\", \" are \", text)\n",
        "        text = re.sub(r\"\\'d\", \" would \", text)\n",
        "        text = re.sub(r\"\\'ll\", \" will \", text)\n",
        "\n",
        "        text = p.sub('', text)\n",
        "\n",
        "        def tokenize_text(text,tokenizer=default_tokenizer):\n",
        "            token = default_tokenizer.tokenize(text)\n",
        "            return token\n",
        "        \n",
        "        def remove_stopwords(text, stop_words=default_stopwords):\n",
        "            tokens = [w for w in tokenize_text(text) if w not in stop_words]\n",
        "            return ' '.join(tokens)\n",
        "\n",
        "        def stem_text(text, stemmer=default_stemmer):\n",
        "            tokens = tokenize_text(text)\n",
        "            return ' '.join([stemmer.stem(t) for t in tokens])\n",
        "\n",
        "        text = stem_text(text) # stemming\n",
        "        text = remove_stopwords(text) # remove stopwords\n",
        "\n",
        "        return text\n",
        "    \n",
        "df['text'] = df['text'].apply(clean_text)\n",
        "df['text'].head()"
      ]
    },
    {
      "cell_type": "code",
      "execution_count": 42,
      "metadata": {
        "id": "ITKdVnZhz7W1"
      },
      "outputs": [],
      "source": [
        "# В последствии отдельная токенизация не понадобилась, \n",
        "# так как будет использоваться встроенный токенизатор BERTа\n",
        "text = df['text'].copy()"
      ]
    },
    {
      "cell_type": "code",
      "execution_count": 43,
      "metadata": {
        "colab": {
          "base_uri": "https://localhost:8080/"
        },
        "id": "RjomZ_t0z7W1",
        "outputId": "d29b1198-e973-40f7-edf0-c6ea14960466"
      },
      "outputs": [
        {
          "output_type": "stream",
          "name": "stderr",
          "text": [
            "Function get_feature_names is deprecated; get_feature_names is deprecated in 1.0 and will be removed in 1.2. Please use get_feature_names_out instead.\n"
          ]
        }
      ],
      "source": [
        "# Векторизую очищенный текст в матрицу tfidf со всеми словами с помощью TfidfVectorizer\n",
        "# Этот метод будет подсчитывать важность слов в документе и редкость самого слова.\n",
        "cv = TfidfVectorizer(max_features = 100) \n",
        "x = cv.fit_transform(df['text'])\n",
        "df1 = pd.DataFrame(x.toarray(), columns=cv.get_feature_names()) \n",
        "df.drop([\"text\"], axis=1, inplace=True)\n",
        "main_df = pd.concat([df1,df], axis=1) # соединю с оставшимися признаками "
      ]
    },
    {
      "cell_type": "code",
      "source": [
        "main_df.head()"
      ],
      "metadata": {
        "colab": {
          "base_uri": "https://localhost:8080/",
          "height": 305
        },
        "id": "moEzLWHshEUe",
        "outputId": "2d205c4c-ce5d-46c3-d3a9-ca144e33b5d0"
      },
      "execution_count": 44,
      "outputs": [
        {
          "output_type": "execute_result",
          "data": {
            "text/html": [
              "\n",
              "  <div id=\"df-0fc330bc-4555-465d-a515-c3941114e5e1\">\n",
              "    <div class=\"colab-df-container\">\n",
              "      <div>\n",
              "<style scoped>\n",
              "    .dataframe tbody tr th:only-of-type {\n",
              "        vertical-align: middle;\n",
              "    }\n",
              "\n",
              "    .dataframe tbody tr th {\n",
              "        vertical-align: top;\n",
              "    }\n",
              "\n",
              "    .dataframe thead th {\n",
              "        text-align: right;\n",
              "    }\n",
              "</style>\n",
              "<table border=\"1\" class=\"dataframe\">\n",
              "  <thead>\n",
              "    <tr style=\"text-align: right;\">\n",
              "      <th></th>\n",
              "      <th>abil</th>\n",
              "      <th>abl</th>\n",
              "      <th>account</th>\n",
              "      <th>also</th>\n",
              "      <th>amp</th>\n",
              "      <th>appli</th>\n",
              "      <th>applic</th>\n",
              "      <th>assist</th>\n",
              "      <th>base</th>\n",
              "      <th>benefit</th>\n",
              "      <th>best</th>\n",
              "      <th>build</th>\n",
              "      <th>busi</th>\n",
              "      <th>candid</th>\n",
              "      <th>client</th>\n",
              "      <th>commun</th>\n",
              "      <th>compani</th>\n",
              "      <th>creat</th>\n",
              "      <th>custom</th>\n",
              "      <th>data</th>\n",
              "      <th>degre</th>\n",
              "      <th>design</th>\n",
              "      <th>develop</th>\n",
              "      <th>employe</th>\n",
              "      <th>engin</th>\n",
              "      <th>ensur</th>\n",
              "      <th>environ</th>\n",
              "      <th>excel</th>\n",
              "      <th>execut</th>\n",
              "      <th>experi</th>\n",
              "      <th>get</th>\n",
              "      <th>grow</th>\n",
              "      <th>help</th>\n",
              "      <th>high</th>\n",
              "      <th>includ</th>\n",
              "      <th>industri</th>\n",
              "      <th>inform</th>\n",
              "      <th>intern</th>\n",
              "      <th>job</th>\n",
              "      <th>knowledg</th>\n",
              "      <th>lead</th>\n",
              "      <th>learn</th>\n",
              "      <th>level</th>\n",
              "      <th>look</th>\n",
              "      <th>maintain</th>\n",
              "      <th>make</th>\n",
              "      <th>manag</th>\n",
              "      <th>market</th>\n",
              "      <th>meet</th>\n",
              "      <th>must</th>\n",
              "      <th>need</th>\n",
              "      <th>new</th>\n",
              "      <th>offer</th>\n",
              "      <th>offic</th>\n",
              "      <th>one</th>\n",
              "      <th>oper</th>\n",
              "      <th>opportun</th>\n",
              "      <th>part</th>\n",
              "      <th>peopl</th>\n",
              "      <th>perform</th>\n",
              "      <th>person</th>\n",
              "      <th>plan</th>\n",
              "      <th>posit</th>\n",
              "      <th>process</th>\n",
              "      <th>product</th>\n",
              "      <th>profession</th>\n",
              "      <th>program</th>\n",
              "      <th>project</th>\n",
              "      <th>provid</th>\n",
              "      <th>qualiti</th>\n",
              "      <th>relat</th>\n",
              "      <th>report</th>\n",
              "      <th>requir</th>\n",
              "      <th>respons</th>\n",
              "      <th>role</th>\n",
              "      <th>sale</th>\n",
              "      <th>servic</th>\n",
              "      <th>skill</th>\n",
              "      <th>softwar</th>\n",
              "      <th>solut</th>\n",
              "      <th>strong</th>\n",
              "      <th>success</th>\n",
              "      <th>support</th>\n",
              "      <th>system</th>\n",
              "      <th>team</th>\n",
              "      <th>technic</th>\n",
              "      <th>technolog</th>\n",
              "      <th>test</th>\n",
              "      <th>thi</th>\n",
              "      <th>time</th>\n",
              "      <th>train</th>\n",
              "      <th>understand</th>\n",
              "      <th>us</th>\n",
              "      <th>use</th>\n",
              "      <th>user</th>\n",
              "      <th>web</th>\n",
              "      <th>well</th>\n",
              "      <th>within</th>\n",
              "      <th>work</th>\n",
              "      <th>year</th>\n",
              "      <th>department</th>\n",
              "      <th>telecommuting</th>\n",
              "      <th>has_company_logo</th>\n",
              "      <th>has_questions</th>\n",
              "      <th>industry</th>\n",
              "      <th>function</th>\n",
              "      <th>fraudulent</th>\n",
              "      <th>salary_specified</th>\n",
              "      <th>delta_salary</th>\n",
              "      <th>country</th>\n",
              "      <th>state</th>\n",
              "      <th>city</th>\n",
              "      <th>employment_type_Contract</th>\n",
              "      <th>employment_type_Full-time</th>\n",
              "      <th>employment_type_Other</th>\n",
              "      <th>employment_type_Part-time</th>\n",
              "      <th>employment_type_Temporary</th>\n",
              "      <th>employment_type_Unspecified</th>\n",
              "      <th>required_experience_Associate</th>\n",
              "      <th>required_experience_Director</th>\n",
              "      <th>required_experience_Entry level</th>\n",
              "      <th>required_experience_Executive</th>\n",
              "      <th>required_experience_Internship</th>\n",
              "      <th>required_experience_Mid-Senior level</th>\n",
              "      <th>required_experience_Not Applicable</th>\n",
              "      <th>required_experience_Unspecified</th>\n",
              "      <th>required_education_Associate Degree</th>\n",
              "      <th>required_education_Bachelor's Degree</th>\n",
              "      <th>required_education_Certification</th>\n",
              "      <th>required_education_Doctorate</th>\n",
              "      <th>required_education_High School or equivalent</th>\n",
              "      <th>required_education_Master's Degree</th>\n",
              "      <th>required_education_Professional</th>\n",
              "      <th>required_education_Some College Coursework Completed</th>\n",
              "      <th>required_education_Some High School Coursework</th>\n",
              "      <th>required_education_Unspecified</th>\n",
              "      <th>required_education_Vocational</th>\n",
              "      <th>required_education_Vocational - Degree</th>\n",
              "      <th>required_education_Vocational - HS Diploma</th>\n",
              "      <th>character_count</th>\n",
              "    </tr>\n",
              "  </thead>\n",
              "  <tbody>\n",
              "    <tr>\n",
              "      <th>0</th>\n",
              "      <td>0.000000</td>\n",
              "      <td>0.000000</td>\n",
              "      <td>0.000000</td>\n",
              "      <td>0.000000</td>\n",
              "      <td>0.160881</td>\n",
              "      <td>0.000000</td>\n",
              "      <td>0.0</td>\n",
              "      <td>0.197643</td>\n",
              "      <td>0.000000</td>\n",
              "      <td>0.000000</td>\n",
              "      <td>0.0</td>\n",
              "      <td>0.000000</td>\n",
              "      <td>0.000000</td>\n",
              "      <td>0.000000</td>\n",
              "      <td>0.000000</td>\n",
              "      <td>0.243776</td>\n",
              "      <td>0.129432</td>\n",
              "      <td>0.0</td>\n",
              "      <td>0.000000</td>\n",
              "      <td>0.0</td>\n",
              "      <td>0.0</td>\n",
              "      <td>0.0</td>\n",
              "      <td>0.245313</td>\n",
              "      <td>0.0</td>\n",
              "      <td>0.000000</td>\n",
              "      <td>0.000000</td>\n",
              "      <td>0.000000</td>\n",
              "      <td>0.000000</td>\n",
              "      <td>0.406276</td>\n",
              "      <td>0.091922</td>\n",
              "      <td>0.000000</td>\n",
              "      <td>0.000000</td>\n",
              "      <td>0.00000</td>\n",
              "      <td>0.000000</td>\n",
              "      <td>0.000000</td>\n",
              "      <td>0.000000</td>\n",
              "      <td>0.000000</td>\n",
              "      <td>0.369442</td>\n",
              "      <td>0.000000</td>\n",
              "      <td>0.000000</td>\n",
              "      <td>0.000000</td>\n",
              "      <td>0.000000</td>\n",
              "      <td>0.000000</td>\n",
              "      <td>0.000000</td>\n",
              "      <td>0.000000</td>\n",
              "      <td>0.000000</td>\n",
              "      <td>0.243728</td>\n",
              "      <td>0.338877</td>\n",
              "      <td>0.000000</td>\n",
              "      <td>0.000000</td>\n",
              "      <td>0.000000</td>\n",
              "      <td>0.139701</td>\n",
              "      <td>0.000000</td>\n",
              "      <td>0.170437</td>\n",
              "      <td>0.000000</td>\n",
              "      <td>0.000000</td>\n",
              "      <td>0.000000</td>\n",
              "      <td>0.000000</td>\n",
              "      <td>0.000000</td>\n",
              "      <td>0.000000</td>\n",
              "      <td>0.000000</td>\n",
              "      <td>0.000000</td>\n",
              "      <td>0.000000</td>\n",
              "      <td>0.000000</td>\n",
              "      <td>0.000000</td>\n",
              "      <td>0.000000</td>\n",
              "      <td>0.196067</td>\n",
              "      <td>0.000000</td>\n",
              "      <td>0.000000</td>\n",
              "      <td>0.000000</td>\n",
              "      <td>0.000000</td>\n",
              "      <td>0.00000</td>\n",
              "      <td>0.000000</td>\n",
              "      <td>0.150040</td>\n",
              "      <td>0.000000</td>\n",
              "      <td>0.000000</td>\n",
              "      <td>0.000000</td>\n",
              "      <td>0.000000</td>\n",
              "      <td>0.000000</td>\n",
              "      <td>0.000000</td>\n",
              "      <td>0.000000</td>\n",
              "      <td>0.000000</td>\n",
              "      <td>0.154293</td>\n",
              "      <td>0.180520</td>\n",
              "      <td>0.108710</td>\n",
              "      <td>0.0</td>\n",
              "      <td>0.000000</td>\n",
              "      <td>0.000000</td>\n",
              "      <td>0.000000</td>\n",
              "      <td>0.000000</td>\n",
              "      <td>0.000000</td>\n",
              "      <td>0.000000</td>\n",
              "      <td>0.000000</td>\n",
              "      <td>0.000000</td>\n",
              "      <td>0.0</td>\n",
              "      <td>0.000000</td>\n",
              "      <td>0.000000</td>\n",
              "      <td>0.000000</td>\n",
              "      <td>0.369767</td>\n",
              "      <td>0.000000</td>\n",
              "      <td>758</td>\n",
              "      <td>0</td>\n",
              "      <td>1</td>\n",
              "      <td>0</td>\n",
              "      <td>123</td>\n",
              "      <td>22</td>\n",
              "      <td>0</td>\n",
              "      <td>0</td>\n",
              "      <td>0</td>\n",
              "      <td>86</td>\n",
              "      <td>227</td>\n",
              "      <td>1457</td>\n",
              "      <td>0</td>\n",
              "      <td>0</td>\n",
              "      <td>1</td>\n",
              "      <td>0</td>\n",
              "      <td>0</td>\n",
              "      <td>0</td>\n",
              "      <td>0</td>\n",
              "      <td>0</td>\n",
              "      <td>0</td>\n",
              "      <td>0</td>\n",
              "      <td>1</td>\n",
              "      <td>0</td>\n",
              "      <td>0</td>\n",
              "      <td>0</td>\n",
              "      <td>0</td>\n",
              "      <td>0</td>\n",
              "      <td>0</td>\n",
              "      <td>0</td>\n",
              "      <td>0</td>\n",
              "      <td>0</td>\n",
              "      <td>0</td>\n",
              "      <td>0</td>\n",
              "      <td>0</td>\n",
              "      <td>1</td>\n",
              "      <td>0</td>\n",
              "      <td>0</td>\n",
              "      <td>0</td>\n",
              "      <td>1777</td>\n",
              "    </tr>\n",
              "    <tr>\n",
              "      <th>1</th>\n",
              "      <td>0.000000</td>\n",
              "      <td>0.045855</td>\n",
              "      <td>0.052294</td>\n",
              "      <td>0.047914</td>\n",
              "      <td>0.083589</td>\n",
              "      <td>0.095663</td>\n",
              "      <td>0.0</td>\n",
              "      <td>0.000000</td>\n",
              "      <td>0.083589</td>\n",
              "      <td>0.000000</td>\n",
              "      <td>0.0</td>\n",
              "      <td>0.000000</td>\n",
              "      <td>0.144317</td>\n",
              "      <td>0.041865</td>\n",
              "      <td>0.165766</td>\n",
              "      <td>0.126658</td>\n",
              "      <td>0.033624</td>\n",
              "      <td>0.0</td>\n",
              "      <td>0.179603</td>\n",
              "      <td>0.0</td>\n",
              "      <td>0.0</td>\n",
              "      <td>0.0</td>\n",
              "      <td>0.000000</td>\n",
              "      <td>0.0</td>\n",
              "      <td>0.000000</td>\n",
              "      <td>0.000000</td>\n",
              "      <td>0.039593</td>\n",
              "      <td>0.127144</td>\n",
              "      <td>0.000000</td>\n",
              "      <td>0.119398</td>\n",
              "      <td>0.241141</td>\n",
              "      <td>0.134493</td>\n",
              "      <td>0.00000</td>\n",
              "      <td>0.045733</td>\n",
              "      <td>0.173829</td>\n",
              "      <td>0.000000</td>\n",
              "      <td>0.000000</td>\n",
              "      <td>0.095975</td>\n",
              "      <td>0.000000</td>\n",
              "      <td>0.039996</td>\n",
              "      <td>0.000000</td>\n",
              "      <td>0.049946</td>\n",
              "      <td>0.045148</td>\n",
              "      <td>0.035167</td>\n",
              "      <td>0.000000</td>\n",
              "      <td>0.043793</td>\n",
              "      <td>0.379899</td>\n",
              "      <td>0.000000</td>\n",
              "      <td>0.047880</td>\n",
              "      <td>0.000000</td>\n",
              "      <td>0.040798</td>\n",
              "      <td>0.000000</td>\n",
              "      <td>0.000000</td>\n",
              "      <td>0.088553</td>\n",
              "      <td>0.097176</td>\n",
              "      <td>0.000000</td>\n",
              "      <td>0.037966</td>\n",
              "      <td>0.045321</td>\n",
              "      <td>0.000000</td>\n",
              "      <td>0.000000</td>\n",
              "      <td>0.046234</td>\n",
              "      <td>0.045321</td>\n",
              "      <td>0.076081</td>\n",
              "      <td>0.088513</td>\n",
              "      <td>0.389814</td>\n",
              "      <td>0.045686</td>\n",
              "      <td>0.000000</td>\n",
              "      <td>0.386921</td>\n",
              "      <td>0.000000</td>\n",
              "      <td>0.049249</td>\n",
              "      <td>0.000000</td>\n",
              "      <td>0.00000</td>\n",
              "      <td>0.000000</td>\n",
              "      <td>0.038978</td>\n",
              "      <td>0.224073</td>\n",
              "      <td>0.000000</td>\n",
              "      <td>0.245008</td>\n",
              "      <td>0.030728</td>\n",
              "      <td>0.046933</td>\n",
              "      <td>0.000000</td>\n",
              "      <td>0.000000</td>\n",
              "      <td>0.134792</td>\n",
              "      <td>0.000000</td>\n",
              "      <td>0.046896</td>\n",
              "      <td>0.112964</td>\n",
              "      <td>0.0</td>\n",
              "      <td>0.000000</td>\n",
              "      <td>0.000000</td>\n",
              "      <td>0.133368</td>\n",
              "      <td>0.038023</td>\n",
              "      <td>0.000000</td>\n",
              "      <td>0.088658</td>\n",
              "      <td>0.045629</td>\n",
              "      <td>0.040028</td>\n",
              "      <td>0.0</td>\n",
              "      <td>0.049507</td>\n",
              "      <td>0.000000</td>\n",
              "      <td>0.000000</td>\n",
              "      <td>0.192118</td>\n",
              "      <td>0.000000</td>\n",
              "      <td>1161</td>\n",
              "      <td>0</td>\n",
              "      <td>1</td>\n",
              "      <td>0</td>\n",
              "      <td>75</td>\n",
              "      <td>7</td>\n",
              "      <td>0</td>\n",
              "      <td>0</td>\n",
              "      <td>0</td>\n",
              "      <td>61</td>\n",
              "      <td>293</td>\n",
              "      <td>188</td>\n",
              "      <td>0</td>\n",
              "      <td>1</td>\n",
              "      <td>0</td>\n",
              "      <td>0</td>\n",
              "      <td>0</td>\n",
              "      <td>0</td>\n",
              "      <td>0</td>\n",
              "      <td>0</td>\n",
              "      <td>0</td>\n",
              "      <td>0</td>\n",
              "      <td>0</td>\n",
              "      <td>0</td>\n",
              "      <td>1</td>\n",
              "      <td>0</td>\n",
              "      <td>0</td>\n",
              "      <td>0</td>\n",
              "      <td>0</td>\n",
              "      <td>0</td>\n",
              "      <td>0</td>\n",
              "      <td>0</td>\n",
              "      <td>0</td>\n",
              "      <td>0</td>\n",
              "      <td>0</td>\n",
              "      <td>1</td>\n",
              "      <td>0</td>\n",
              "      <td>0</td>\n",
              "      <td>0</td>\n",
              "      <td>4846</td>\n",
              "    </tr>\n",
              "    <tr>\n",
              "      <th>2</th>\n",
              "      <td>0.000000</td>\n",
              "      <td>0.000000</td>\n",
              "      <td>0.000000</td>\n",
              "      <td>0.000000</td>\n",
              "      <td>0.000000</td>\n",
              "      <td>0.000000</td>\n",
              "      <td>0.0</td>\n",
              "      <td>0.298661</td>\n",
              "      <td>0.000000</td>\n",
              "      <td>0.000000</td>\n",
              "      <td>0.0</td>\n",
              "      <td>0.000000</td>\n",
              "      <td>0.000000</td>\n",
              "      <td>0.121761</td>\n",
              "      <td>0.361588</td>\n",
              "      <td>0.000000</td>\n",
              "      <td>0.097794</td>\n",
              "      <td>0.0</td>\n",
              "      <td>0.000000</td>\n",
              "      <td>0.0</td>\n",
              "      <td>0.0</td>\n",
              "      <td>0.0</td>\n",
              "      <td>0.000000</td>\n",
              "      <td>0.0</td>\n",
              "      <td>0.279135</td>\n",
              "      <td>0.137820</td>\n",
              "      <td>0.000000</td>\n",
              "      <td>0.000000</td>\n",
              "      <td>0.613932</td>\n",
              "      <td>0.000000</td>\n",
              "      <td>0.000000</td>\n",
              "      <td>0.000000</td>\n",
              "      <td>0.00000</td>\n",
              "      <td>0.000000</td>\n",
              "      <td>0.000000</td>\n",
              "      <td>0.000000</td>\n",
              "      <td>0.000000</td>\n",
              "      <td>0.139568</td>\n",
              "      <td>0.000000</td>\n",
              "      <td>0.000000</td>\n",
              "      <td>0.000000</td>\n",
              "      <td>0.000000</td>\n",
              "      <td>0.000000</td>\n",
              "      <td>0.000000</td>\n",
              "      <td>0.000000</td>\n",
              "      <td>0.000000</td>\n",
              "      <td>0.184151</td>\n",
              "      <td>0.000000</td>\n",
              "      <td>0.000000</td>\n",
              "      <td>0.134599</td>\n",
              "      <td>0.000000</td>\n",
              "      <td>0.000000</td>\n",
              "      <td>0.000000</td>\n",
              "      <td>0.000000</td>\n",
              "      <td>0.000000</td>\n",
              "      <td>0.000000</td>\n",
              "      <td>0.000000</td>\n",
              "      <td>0.000000</td>\n",
              "      <td>0.000000</td>\n",
              "      <td>0.000000</td>\n",
              "      <td>0.000000</td>\n",
              "      <td>0.000000</td>\n",
              "      <td>0.000000</td>\n",
              "      <td>0.000000</td>\n",
              "      <td>0.000000</td>\n",
              "      <td>0.000000</td>\n",
              "      <td>0.000000</td>\n",
              "      <td>0.250073</td>\n",
              "      <td>0.000000</td>\n",
              "      <td>0.143238</td>\n",
              "      <td>0.000000</td>\n",
              "      <td>0.00000</td>\n",
              "      <td>0.096763</td>\n",
              "      <td>0.000000</td>\n",
              "      <td>0.000000</td>\n",
              "      <td>0.000000</td>\n",
              "      <td>0.000000</td>\n",
              "      <td>0.089370</td>\n",
              "      <td>0.000000</td>\n",
              "      <td>0.000000</td>\n",
              "      <td>0.256319</td>\n",
              "      <td>0.000000</td>\n",
              "      <td>0.000000</td>\n",
              "      <td>0.000000</td>\n",
              "      <td>0.000000</td>\n",
              "      <td>0.0</td>\n",
              "      <td>0.000000</td>\n",
              "      <td>0.157225</td>\n",
              "      <td>0.000000</td>\n",
              "      <td>0.000000</td>\n",
              "      <td>0.000000</td>\n",
              "      <td>0.000000</td>\n",
              "      <td>0.000000</td>\n",
              "      <td>0.000000</td>\n",
              "      <td>0.0</td>\n",
              "      <td>0.000000</td>\n",
              "      <td>0.000000</td>\n",
              "      <td>0.000000</td>\n",
              "      <td>0.139690</td>\n",
              "      <td>0.000000</td>\n",
              "      <td>1242</td>\n",
              "      <td>0</td>\n",
              "      <td>1</td>\n",
              "      <td>0</td>\n",
              "      <td>123</td>\n",
              "      <td>36</td>\n",
              "      <td>0</td>\n",
              "      <td>0</td>\n",
              "      <td>0</td>\n",
              "      <td>86</td>\n",
              "      <td>155</td>\n",
              "      <td>2213</td>\n",
              "      <td>0</td>\n",
              "      <td>0</td>\n",
              "      <td>0</td>\n",
              "      <td>0</td>\n",
              "      <td>0</td>\n",
              "      <td>1</td>\n",
              "      <td>0</td>\n",
              "      <td>0</td>\n",
              "      <td>0</td>\n",
              "      <td>0</td>\n",
              "      <td>0</td>\n",
              "      <td>0</td>\n",
              "      <td>0</td>\n",
              "      <td>1</td>\n",
              "      <td>0</td>\n",
              "      <td>0</td>\n",
              "      <td>0</td>\n",
              "      <td>0</td>\n",
              "      <td>0</td>\n",
              "      <td>0</td>\n",
              "      <td>0</td>\n",
              "      <td>0</td>\n",
              "      <td>0</td>\n",
              "      <td>1</td>\n",
              "      <td>0</td>\n",
              "      <td>0</td>\n",
              "      <td>0</td>\n",
              "      <td>1761</td>\n",
              "    </tr>\n",
              "    <tr>\n",
              "      <th>3</th>\n",
              "      <td>0.038741</td>\n",
              "      <td>0.000000</td>\n",
              "      <td>0.559553</td>\n",
              "      <td>0.000000</td>\n",
              "      <td>0.000000</td>\n",
              "      <td>0.046528</td>\n",
              "      <td>0.0</td>\n",
              "      <td>0.000000</td>\n",
              "      <td>0.000000</td>\n",
              "      <td>0.045104</td>\n",
              "      <td>0.0</td>\n",
              "      <td>0.125184</td>\n",
              "      <td>0.245669</td>\n",
              "      <td>0.000000</td>\n",
              "      <td>0.000000</td>\n",
              "      <td>0.030801</td>\n",
              "      <td>0.032708</td>\n",
              "      <td>0.0</td>\n",
              "      <td>0.104824</td>\n",
              "      <td>0.0</td>\n",
              "      <td>0.0</td>\n",
              "      <td>0.0</td>\n",
              "      <td>0.123982</td>\n",
              "      <td>0.0</td>\n",
              "      <td>0.000000</td>\n",
              "      <td>0.046095</td>\n",
              "      <td>0.077027</td>\n",
              "      <td>0.000000</td>\n",
              "      <td>0.410665</td>\n",
              "      <td>0.139372</td>\n",
              "      <td>0.000000</td>\n",
              "      <td>0.000000</td>\n",
              "      <td>0.04269</td>\n",
              "      <td>0.000000</td>\n",
              "      <td>0.135272</td>\n",
              "      <td>0.092024</td>\n",
              "      <td>0.093894</td>\n",
              "      <td>0.046679</td>\n",
              "      <td>0.000000</td>\n",
              "      <td>0.116716</td>\n",
              "      <td>0.132369</td>\n",
              "      <td>0.000000</td>\n",
              "      <td>0.000000</td>\n",
              "      <td>0.000000</td>\n",
              "      <td>0.046090</td>\n",
              "      <td>0.042599</td>\n",
              "      <td>0.153976</td>\n",
              "      <td>0.000000</td>\n",
              "      <td>0.046575</td>\n",
              "      <td>0.000000</td>\n",
              "      <td>0.000000</td>\n",
              "      <td>0.035302</td>\n",
              "      <td>0.045104</td>\n",
              "      <td>0.000000</td>\n",
              "      <td>0.000000</td>\n",
              "      <td>0.000000</td>\n",
              "      <td>0.221583</td>\n",
              "      <td>0.044086</td>\n",
              "      <td>0.045893</td>\n",
              "      <td>0.000000</td>\n",
              "      <td>0.089948</td>\n",
              "      <td>0.000000</td>\n",
              "      <td>0.074007</td>\n",
              "      <td>0.086100</td>\n",
              "      <td>0.000000</td>\n",
              "      <td>0.133320</td>\n",
              "      <td>0.049546</td>\n",
              "      <td>0.000000</td>\n",
              "      <td>0.107090</td>\n",
              "      <td>0.047907</td>\n",
              "      <td>0.044119</td>\n",
              "      <td>0.00000</td>\n",
              "      <td>0.000000</td>\n",
              "      <td>0.037915</td>\n",
              "      <td>0.000000</td>\n",
              "      <td>0.282816</td>\n",
              "      <td>0.034047</td>\n",
              "      <td>0.029890</td>\n",
              "      <td>0.000000</td>\n",
              "      <td>0.095581</td>\n",
              "      <td>0.042863</td>\n",
              "      <td>0.043706</td>\n",
              "      <td>0.000000</td>\n",
              "      <td>0.091235</td>\n",
              "      <td>0.109884</td>\n",
              "      <td>0.0</td>\n",
              "      <td>0.127648</td>\n",
              "      <td>0.000000</td>\n",
              "      <td>0.000000</td>\n",
              "      <td>0.000000</td>\n",
              "      <td>0.000000</td>\n",
              "      <td>0.129361</td>\n",
              "      <td>0.000000</td>\n",
              "      <td>0.000000</td>\n",
              "      <td>0.0</td>\n",
              "      <td>0.000000</td>\n",
              "      <td>0.000000</td>\n",
              "      <td>0.091577</td>\n",
              "      <td>0.070080</td>\n",
              "      <td>0.060778</td>\n",
              "      <td>1054</td>\n",
              "      <td>0</td>\n",
              "      <td>1</td>\n",
              "      <td>0</td>\n",
              "      <td>22</td>\n",
              "      <td>31</td>\n",
              "      <td>0</td>\n",
              "      <td>0</td>\n",
              "      <td>0</td>\n",
              "      <td>86</td>\n",
              "      <td>104</td>\n",
              "      <td>2164</td>\n",
              "      <td>0</td>\n",
              "      <td>1</td>\n",
              "      <td>0</td>\n",
              "      <td>0</td>\n",
              "      <td>0</td>\n",
              "      <td>0</td>\n",
              "      <td>0</td>\n",
              "      <td>0</td>\n",
              "      <td>0</td>\n",
              "      <td>0</td>\n",
              "      <td>0</td>\n",
              "      <td>1</td>\n",
              "      <td>0</td>\n",
              "      <td>0</td>\n",
              "      <td>0</td>\n",
              "      <td>1</td>\n",
              "      <td>0</td>\n",
              "      <td>0</td>\n",
              "      <td>0</td>\n",
              "      <td>0</td>\n",
              "      <td>0</td>\n",
              "      <td>0</td>\n",
              "      <td>0</td>\n",
              "      <td>0</td>\n",
              "      <td>0</td>\n",
              "      <td>0</td>\n",
              "      <td>0</td>\n",
              "      <td>4847</td>\n",
              "    </tr>\n",
              "    <tr>\n",
              "      <th>4</th>\n",
              "      <td>0.000000</td>\n",
              "      <td>0.147836</td>\n",
              "      <td>0.168596</td>\n",
              "      <td>0.000000</td>\n",
              "      <td>0.000000</td>\n",
              "      <td>0.000000</td>\n",
              "      <td>0.0</td>\n",
              "      <td>0.000000</td>\n",
              "      <td>0.000000</td>\n",
              "      <td>0.149491</td>\n",
              "      <td>0.0</td>\n",
              "      <td>0.000000</td>\n",
              "      <td>0.000000</td>\n",
              "      <td>0.000000</td>\n",
              "      <td>0.133607</td>\n",
              "      <td>0.102086</td>\n",
              "      <td>0.216808</td>\n",
              "      <td>0.0</td>\n",
              "      <td>0.231615</td>\n",
              "      <td>0.0</td>\n",
              "      <td>0.0</td>\n",
              "      <td>0.0</td>\n",
              "      <td>0.000000</td>\n",
              "      <td>0.0</td>\n",
              "      <td>0.000000</td>\n",
              "      <td>0.152773</td>\n",
              "      <td>0.000000</td>\n",
              "      <td>0.000000</td>\n",
              "      <td>0.000000</td>\n",
              "      <td>0.153975</td>\n",
              "      <td>0.000000</td>\n",
              "      <td>0.000000</td>\n",
              "      <td>0.00000</td>\n",
              "      <td>0.000000</td>\n",
              "      <td>0.000000</td>\n",
              "      <td>0.000000</td>\n",
              "      <td>0.000000</td>\n",
              "      <td>0.000000</td>\n",
              "      <td>0.132227</td>\n",
              "      <td>0.128946</td>\n",
              "      <td>0.000000</td>\n",
              "      <td>0.000000</td>\n",
              "      <td>0.000000</td>\n",
              "      <td>0.000000</td>\n",
              "      <td>0.152758</td>\n",
              "      <td>0.000000</td>\n",
              "      <td>0.204131</td>\n",
              "      <td>0.000000</td>\n",
              "      <td>0.154365</td>\n",
              "      <td>0.000000</td>\n",
              "      <td>0.000000</td>\n",
              "      <td>0.117004</td>\n",
              "      <td>0.149491</td>\n",
              "      <td>0.142747</td>\n",
              "      <td>0.000000</td>\n",
              "      <td>0.297117</td>\n",
              "      <td>0.000000</td>\n",
              "      <td>0.000000</td>\n",
              "      <td>0.000000</td>\n",
              "      <td>0.141301</td>\n",
              "      <td>0.000000</td>\n",
              "      <td>0.000000</td>\n",
              "      <td>0.000000</td>\n",
              "      <td>0.285365</td>\n",
              "      <td>0.114250</td>\n",
              "      <td>0.147290</td>\n",
              "      <td>0.164213</td>\n",
              "      <td>0.000000</td>\n",
              "      <td>0.118312</td>\n",
              "      <td>0.317559</td>\n",
              "      <td>0.146225</td>\n",
              "      <td>0.15334</td>\n",
              "      <td>0.000000</td>\n",
              "      <td>0.125664</td>\n",
              "      <td>0.000000</td>\n",
              "      <td>0.000000</td>\n",
              "      <td>0.112843</td>\n",
              "      <td>0.000000</td>\n",
              "      <td>0.000000</td>\n",
              "      <td>0.000000</td>\n",
              "      <td>0.000000</td>\n",
              "      <td>0.000000</td>\n",
              "      <td>0.000000</td>\n",
              "      <td>0.000000</td>\n",
              "      <td>0.091048</td>\n",
              "      <td>0.0</td>\n",
              "      <td>0.000000</td>\n",
              "      <td>0.000000</td>\n",
              "      <td>0.000000</td>\n",
              "      <td>0.122587</td>\n",
              "      <td>0.158948</td>\n",
              "      <td>0.000000</td>\n",
              "      <td>0.000000</td>\n",
              "      <td>0.000000</td>\n",
              "      <td>0.0</td>\n",
              "      <td>0.000000</td>\n",
              "      <td>0.140409</td>\n",
              "      <td>0.000000</td>\n",
              "      <td>0.232270</td>\n",
              "      <td>0.100720</td>\n",
              "      <td>1242</td>\n",
              "      <td>0</td>\n",
              "      <td>1</td>\n",
              "      <td>1</td>\n",
              "      <td>51</td>\n",
              "      <td>16</td>\n",
              "      <td>0</td>\n",
              "      <td>0</td>\n",
              "      <td>0</td>\n",
              "      <td>86</td>\n",
              "      <td>130</td>\n",
              "      <td>786</td>\n",
              "      <td>0</td>\n",
              "      <td>1</td>\n",
              "      <td>0</td>\n",
              "      <td>0</td>\n",
              "      <td>0</td>\n",
              "      <td>0</td>\n",
              "      <td>0</td>\n",
              "      <td>0</td>\n",
              "      <td>0</td>\n",
              "      <td>0</td>\n",
              "      <td>0</td>\n",
              "      <td>1</td>\n",
              "      <td>0</td>\n",
              "      <td>0</td>\n",
              "      <td>0</td>\n",
              "      <td>1</td>\n",
              "      <td>0</td>\n",
              "      <td>0</td>\n",
              "      <td>0</td>\n",
              "      <td>0</td>\n",
              "      <td>0</td>\n",
              "      <td>0</td>\n",
              "      <td>0</td>\n",
              "      <td>0</td>\n",
              "      <td>0</td>\n",
              "      <td>0</td>\n",
              "      <td>0</td>\n",
              "      <td>2320</td>\n",
              "    </tr>\n",
              "  </tbody>\n",
              "</table>\n",
              "</div>\n",
              "      <button class=\"colab-df-convert\" onclick=\"convertToInteractive('df-0fc330bc-4555-465d-a515-c3941114e5e1')\"\n",
              "              title=\"Convert this dataframe to an interactive table.\"\n",
              "              style=\"display:none;\">\n",
              "        \n",
              "  <svg xmlns=\"http://www.w3.org/2000/svg\" height=\"24px\"viewBox=\"0 0 24 24\"\n",
              "       width=\"24px\">\n",
              "    <path d=\"M0 0h24v24H0V0z\" fill=\"none\"/>\n",
              "    <path d=\"M18.56 5.44l.94 2.06.94-2.06 2.06-.94-2.06-.94-.94-2.06-.94 2.06-2.06.94zm-11 1L8.5 8.5l.94-2.06 2.06-.94-2.06-.94L8.5 2.5l-.94 2.06-2.06.94zm10 10l.94 2.06.94-2.06 2.06-.94-2.06-.94-.94-2.06-.94 2.06-2.06.94z\"/><path d=\"M17.41 7.96l-1.37-1.37c-.4-.4-.92-.59-1.43-.59-.52 0-1.04.2-1.43.59L10.3 9.45l-7.72 7.72c-.78.78-.78 2.05 0 2.83L4 21.41c.39.39.9.59 1.41.59.51 0 1.02-.2 1.41-.59l7.78-7.78 2.81-2.81c.8-.78.8-2.07 0-2.86zM5.41 20L4 18.59l7.72-7.72 1.47 1.35L5.41 20z\"/>\n",
              "  </svg>\n",
              "      </button>\n",
              "      \n",
              "  <style>\n",
              "    .colab-df-container {\n",
              "      display:flex;\n",
              "      flex-wrap:wrap;\n",
              "      gap: 12px;\n",
              "    }\n",
              "\n",
              "    .colab-df-convert {\n",
              "      background-color: #E8F0FE;\n",
              "      border: none;\n",
              "      border-radius: 50%;\n",
              "      cursor: pointer;\n",
              "      display: none;\n",
              "      fill: #1967D2;\n",
              "      height: 32px;\n",
              "      padding: 0 0 0 0;\n",
              "      width: 32px;\n",
              "    }\n",
              "\n",
              "    .colab-df-convert:hover {\n",
              "      background-color: #E2EBFA;\n",
              "      box-shadow: 0px 1px 2px rgba(60, 64, 67, 0.3), 0px 1px 3px 1px rgba(60, 64, 67, 0.15);\n",
              "      fill: #174EA6;\n",
              "    }\n",
              "\n",
              "    [theme=dark] .colab-df-convert {\n",
              "      background-color: #3B4455;\n",
              "      fill: #D2E3FC;\n",
              "    }\n",
              "\n",
              "    [theme=dark] .colab-df-convert:hover {\n",
              "      background-color: #434B5C;\n",
              "      box-shadow: 0px 1px 3px 1px rgba(0, 0, 0, 0.15);\n",
              "      filter: drop-shadow(0px 1px 2px rgba(0, 0, 0, 0.3));\n",
              "      fill: #FFFFFF;\n",
              "    }\n",
              "  </style>\n",
              "\n",
              "      <script>\n",
              "        const buttonEl =\n",
              "          document.querySelector('#df-0fc330bc-4555-465d-a515-c3941114e5e1 button.colab-df-convert');\n",
              "        buttonEl.style.display =\n",
              "          google.colab.kernel.accessAllowed ? 'block' : 'none';\n",
              "\n",
              "        async function convertToInteractive(key) {\n",
              "          const element = document.querySelector('#df-0fc330bc-4555-465d-a515-c3941114e5e1');\n",
              "          const dataTable =\n",
              "            await google.colab.kernel.invokeFunction('convertToInteractive',\n",
              "                                                     [key], {});\n",
              "          if (!dataTable) return;\n",
              "\n",
              "          const docLinkHtml = 'Like what you see? Visit the ' +\n",
              "            '<a target=\"_blank\" href=https://colab.research.google.com/notebooks/data_table.ipynb>data table notebook</a>'\n",
              "            + ' to learn more about interactive tables.';\n",
              "          element.innerHTML = '';\n",
              "          dataTable['output_type'] = 'display_data';\n",
              "          await google.colab.output.renderOutput(dataTable, element);\n",
              "          const docLink = document.createElement('div');\n",
              "          docLink.innerHTML = docLinkHtml;\n",
              "          element.appendChild(docLink);\n",
              "        }\n",
              "      </script>\n",
              "    </div>\n",
              "  </div>\n",
              "  "
            ],
            "text/plain": [
              "       abil       abl   account      also       amp     appli  applic  \\\n",
              "0  0.000000  0.000000  0.000000  0.000000  0.160881  0.000000     0.0   \n",
              "1  0.000000  0.045855  0.052294  0.047914  0.083589  0.095663     0.0   \n",
              "2  0.000000  0.000000  0.000000  0.000000  0.000000  0.000000     0.0   \n",
              "3  0.038741  0.000000  0.559553  0.000000  0.000000  0.046528     0.0   \n",
              "4  0.000000  0.147836  0.168596  0.000000  0.000000  0.000000     0.0   \n",
              "\n",
              "     assist      base   benefit  best     build      busi    candid    client  \\\n",
              "0  0.197643  0.000000  0.000000   0.0  0.000000  0.000000  0.000000  0.000000   \n",
              "1  0.000000  0.083589  0.000000   0.0  0.000000  0.144317  0.041865  0.165766   \n",
              "2  0.298661  0.000000  0.000000   0.0  0.000000  0.000000  0.121761  0.361588   \n",
              "3  0.000000  0.000000  0.045104   0.0  0.125184  0.245669  0.000000  0.000000   \n",
              "4  0.000000  0.000000  0.149491   0.0  0.000000  0.000000  0.000000  0.133607   \n",
              "\n",
              "     commun   compani  creat    custom  data  degre  design   develop  \\\n",
              "0  0.243776  0.129432    0.0  0.000000   0.0    0.0     0.0  0.245313   \n",
              "1  0.126658  0.033624    0.0  0.179603   0.0    0.0     0.0  0.000000   \n",
              "2  0.000000  0.097794    0.0  0.000000   0.0    0.0     0.0  0.000000   \n",
              "3  0.030801  0.032708    0.0  0.104824   0.0    0.0     0.0  0.123982   \n",
              "4  0.102086  0.216808    0.0  0.231615   0.0    0.0     0.0  0.000000   \n",
              "\n",
              "   employe     engin     ensur   environ     excel    execut    experi  \\\n",
              "0      0.0  0.000000  0.000000  0.000000  0.000000  0.406276  0.091922   \n",
              "1      0.0  0.000000  0.000000  0.039593  0.127144  0.000000  0.119398   \n",
              "2      0.0  0.279135  0.137820  0.000000  0.000000  0.613932  0.000000   \n",
              "3      0.0  0.000000  0.046095  0.077027  0.000000  0.410665  0.139372   \n",
              "4      0.0  0.000000  0.152773  0.000000  0.000000  0.000000  0.153975   \n",
              "\n",
              "        get      grow     help      high    includ  industri    inform  \\\n",
              "0  0.000000  0.000000  0.00000  0.000000  0.000000  0.000000  0.000000   \n",
              "1  0.241141  0.134493  0.00000  0.045733  0.173829  0.000000  0.000000   \n",
              "2  0.000000  0.000000  0.00000  0.000000  0.000000  0.000000  0.000000   \n",
              "3  0.000000  0.000000  0.04269  0.000000  0.135272  0.092024  0.093894   \n",
              "4  0.000000  0.000000  0.00000  0.000000  0.000000  0.000000  0.000000   \n",
              "\n",
              "     intern       job  knowledg      lead     learn     level      look  \\\n",
              "0  0.369442  0.000000  0.000000  0.000000  0.000000  0.000000  0.000000   \n",
              "1  0.095975  0.000000  0.039996  0.000000  0.049946  0.045148  0.035167   \n",
              "2  0.139568  0.000000  0.000000  0.000000  0.000000  0.000000  0.000000   \n",
              "3  0.046679  0.000000  0.116716  0.132369  0.000000  0.000000  0.000000   \n",
              "4  0.000000  0.132227  0.128946  0.000000  0.000000  0.000000  0.000000   \n",
              "\n",
              "   maintain      make     manag    market      meet      must      need  \\\n",
              "0  0.000000  0.000000  0.243728  0.338877  0.000000  0.000000  0.000000   \n",
              "1  0.000000  0.043793  0.379899  0.000000  0.047880  0.000000  0.040798   \n",
              "2  0.000000  0.000000  0.184151  0.000000  0.000000  0.134599  0.000000   \n",
              "3  0.046090  0.042599  0.153976  0.000000  0.046575  0.000000  0.000000   \n",
              "4  0.152758  0.000000  0.204131  0.000000  0.154365  0.000000  0.000000   \n",
              "\n",
              "        new     offer     offic       one      oper  opportun      part  \\\n",
              "0  0.139701  0.000000  0.170437  0.000000  0.000000  0.000000  0.000000   \n",
              "1  0.000000  0.000000  0.088553  0.097176  0.000000  0.037966  0.045321   \n",
              "2  0.000000  0.000000  0.000000  0.000000  0.000000  0.000000  0.000000   \n",
              "3  0.035302  0.045104  0.000000  0.000000  0.000000  0.221583  0.044086   \n",
              "4  0.117004  0.149491  0.142747  0.000000  0.297117  0.000000  0.000000   \n",
              "\n",
              "      peopl   perform    person      plan     posit   process   product  \\\n",
              "0  0.000000  0.000000  0.000000  0.000000  0.000000  0.000000  0.000000   \n",
              "1  0.000000  0.000000  0.046234  0.045321  0.076081  0.088513  0.389814   \n",
              "2  0.000000  0.000000  0.000000  0.000000  0.000000  0.000000  0.000000   \n",
              "3  0.045893  0.000000  0.089948  0.000000  0.074007  0.086100  0.000000   \n",
              "4  0.000000  0.141301  0.000000  0.000000  0.000000  0.285365  0.114250   \n",
              "\n",
              "   profession   program   project    provid   qualiti     relat   report  \\\n",
              "0    0.000000  0.196067  0.000000  0.000000  0.000000  0.000000  0.00000   \n",
              "1    0.045686  0.000000  0.386921  0.000000  0.049249  0.000000  0.00000   \n",
              "2    0.000000  0.000000  0.250073  0.000000  0.143238  0.000000  0.00000   \n",
              "3    0.133320  0.049546  0.000000  0.107090  0.047907  0.044119  0.00000   \n",
              "4    0.147290  0.164213  0.000000  0.118312  0.317559  0.146225  0.15334   \n",
              "\n",
              "     requir   respons      role      sale    servic     skill   softwar  \\\n",
              "0  0.000000  0.150040  0.000000  0.000000  0.000000  0.000000  0.000000   \n",
              "1  0.000000  0.038978  0.224073  0.000000  0.245008  0.030728  0.046933   \n",
              "2  0.096763  0.000000  0.000000  0.000000  0.000000  0.089370  0.000000   \n",
              "3  0.000000  0.037915  0.000000  0.282816  0.034047  0.029890  0.000000   \n",
              "4  0.000000  0.125664  0.000000  0.000000  0.112843  0.000000  0.000000   \n",
              "\n",
              "      solut    strong   success   support    system      team  technic  \\\n",
              "0  0.000000  0.000000  0.000000  0.154293  0.180520  0.108710      0.0   \n",
              "1  0.000000  0.000000  0.134792  0.000000  0.046896  0.112964      0.0   \n",
              "2  0.000000  0.256319  0.000000  0.000000  0.000000  0.000000      0.0   \n",
              "3  0.095581  0.042863  0.043706  0.000000  0.091235  0.109884      0.0   \n",
              "4  0.000000  0.000000  0.000000  0.000000  0.000000  0.091048      0.0   \n",
              "\n",
              "   technolog      test       thi      time     train  understand        us  \\\n",
              "0   0.000000  0.000000  0.000000  0.000000  0.000000    0.000000  0.000000   \n",
              "1   0.000000  0.000000  0.133368  0.038023  0.000000    0.088658  0.045629   \n",
              "2   0.000000  0.157225  0.000000  0.000000  0.000000    0.000000  0.000000   \n",
              "3   0.127648  0.000000  0.000000  0.000000  0.000000    0.129361  0.000000   \n",
              "4   0.000000  0.000000  0.000000  0.122587  0.158948    0.000000  0.000000   \n",
              "\n",
              "        use  user       web      well    within      work      year  \\\n",
              "0  0.000000   0.0  0.000000  0.000000  0.000000  0.369767  0.000000   \n",
              "1  0.040028   0.0  0.049507  0.000000  0.000000  0.192118  0.000000   \n",
              "2  0.000000   0.0  0.000000  0.000000  0.000000  0.139690  0.000000   \n",
              "3  0.000000   0.0  0.000000  0.000000  0.091577  0.070080  0.060778   \n",
              "4  0.000000   0.0  0.000000  0.140409  0.000000  0.232270  0.100720   \n",
              "\n",
              "   department  telecommuting  has_company_logo  has_questions  industry  \\\n",
              "0         758              0                 1              0       123   \n",
              "1        1161              0                 1              0        75   \n",
              "2        1242              0                 1              0       123   \n",
              "3        1054              0                 1              0        22   \n",
              "4        1242              0                 1              1        51   \n",
              "\n",
              "   function  fraudulent  salary_specified  delta_salary  country  state  city  \\\n",
              "0        22           0                 0             0       86    227  1457   \n",
              "1         7           0                 0             0       61    293   188   \n",
              "2        36           0                 0             0       86    155  2213   \n",
              "3        31           0                 0             0       86    104  2164   \n",
              "4        16           0                 0             0       86    130   786   \n",
              "\n",
              "   employment_type_Contract  employment_type_Full-time  employment_type_Other  \\\n",
              "0                         0                          0                      1   \n",
              "1                         0                          1                      0   \n",
              "2                         0                          0                      0   \n",
              "3                         0                          1                      0   \n",
              "4                         0                          1                      0   \n",
              "\n",
              "   employment_type_Part-time  employment_type_Temporary  \\\n",
              "0                          0                          0   \n",
              "1                          0                          0   \n",
              "2                          0                          0   \n",
              "3                          0                          0   \n",
              "4                          0                          0   \n",
              "\n",
              "   employment_type_Unspecified  required_experience_Associate  \\\n",
              "0                            0                              0   \n",
              "1                            0                              0   \n",
              "2                            1                              0   \n",
              "3                            0                              0   \n",
              "4                            0                              0   \n",
              "\n",
              "   required_experience_Director  required_experience_Entry level  \\\n",
              "0                             0                                0   \n",
              "1                             0                                0   \n",
              "2                             0                                0   \n",
              "3                             0                                0   \n",
              "4                             0                                0   \n",
              "\n",
              "   required_experience_Executive  required_experience_Internship  \\\n",
              "0                              0                               1   \n",
              "1                              0                               0   \n",
              "2                              0                               0   \n",
              "3                              0                               0   \n",
              "4                              0                               0   \n",
              "\n",
              "   required_experience_Mid-Senior level  required_experience_Not Applicable  \\\n",
              "0                                     0                                   0   \n",
              "1                                     0                                   1   \n",
              "2                                     0                                   0   \n",
              "3                                     1                                   0   \n",
              "4                                     1                                   0   \n",
              "\n",
              "   required_experience_Unspecified  required_education_Associate Degree  \\\n",
              "0                                0                                    0   \n",
              "1                                0                                    0   \n",
              "2                                1                                    0   \n",
              "3                                0                                    0   \n",
              "4                                0                                    0   \n",
              "\n",
              "   required_education_Bachelor's Degree  required_education_Certification  \\\n",
              "0                                     0                                 0   \n",
              "1                                     0                                 0   \n",
              "2                                     0                                 0   \n",
              "3                                     1                                 0   \n",
              "4                                     1                                 0   \n",
              "\n",
              "   required_education_Doctorate  required_education_High School or equivalent  \\\n",
              "0                             0                                             0   \n",
              "1                             0                                             0   \n",
              "2                             0                                             0   \n",
              "3                             0                                             0   \n",
              "4                             0                                             0   \n",
              "\n",
              "   required_education_Master's Degree  required_education_Professional  \\\n",
              "0                                   0                                0   \n",
              "1                                   0                                0   \n",
              "2                                   0                                0   \n",
              "3                                   0                                0   \n",
              "4                                   0                                0   \n",
              "\n",
              "   required_education_Some College Coursework Completed  \\\n",
              "0                                                  0      \n",
              "1                                                  0      \n",
              "2                                                  0      \n",
              "3                                                  0      \n",
              "4                                                  0      \n",
              "\n",
              "   required_education_Some High School Coursework  \\\n",
              "0                                               0   \n",
              "1                                               0   \n",
              "2                                               0   \n",
              "3                                               0   \n",
              "4                                               0   \n",
              "\n",
              "   required_education_Unspecified  required_education_Vocational  \\\n",
              "0                               1                              0   \n",
              "1                               1                              0   \n",
              "2                               1                              0   \n",
              "3                               0                              0   \n",
              "4                               0                              0   \n",
              "\n",
              "   required_education_Vocational - Degree  \\\n",
              "0                                       0   \n",
              "1                                       0   \n",
              "2                                       0   \n",
              "3                                       0   \n",
              "4                                       0   \n",
              "\n",
              "   required_education_Vocational - HS Diploma  character_count  \n",
              "0                                           0             1777  \n",
              "1                                           0             4846  \n",
              "2                                           0             1761  \n",
              "3                                           0             4847  \n",
              "4                                           0             2320  "
            ]
          },
          "metadata": {},
          "execution_count": 44
        }
      ]
    },
    {
      "cell_type": "markdown",
      "metadata": {
        "id": "xs1oES6mz7W2"
      },
      "source": [
        "**Normalization**"
      ]
    },
    {
      "cell_type": "code",
      "execution_count": 45,
      "metadata": {
        "id": "Nvn1bqJ2z7W2"
      },
      "outputs": [],
      "source": [
        "#Применю StandardScaler для нормализации числовых признаков \n",
        "num_cols_std = StandardScaler().fit_transform(main_df[num_cols].values)\n",
        "main_df[num_cols] = num_cols_std"
      ]
    },
    {
      "cell_type": "markdown",
      "metadata": {
        "id": "X7CHnHlsz7W3"
      },
      "source": [
        "# Model"
      ]
    },
    {
      "cell_type": "markdown",
      "source": [
        "**CatBoostClassifier**"
      ],
      "metadata": {
        "id": "3FeZlhM2dLBd"
      }
    },
    {
      "cell_type": "code",
      "source": [
        "X = main_df.drop(['fraudulent'], axis=1).values\n",
        "y = main_df['fraudulent']\n",
        "cv = KFold(n_splits = 5, random_state=42, shuffle=True)\n",
        "\n",
        "scores = []\n",
        "for train_index, test_index in cv.split(X):\n",
        "    X_train, X_test = X[train_index], X[test_index]\n",
        "    y_train, y_test = y[train_index], y[test_index]\n",
        "    #Сбалансирую таргет:\n",
        "    smk  = SMOTETomek(random_state=42)\n",
        "    X_train,y_train = smk.fit_resample(X_train,y_train)\n",
        "\n",
        "    model = CatBoostClassifier(iterations=200,\n",
        "                            verbose=False,\n",
        "                            loss_function='Logloss',\n",
        "                            eval_metric = 'F1',\n",
        "                            ).fit(X_train, y_train, eval_set=(X_test, y_test), \n",
        "                            # sample_weight=sample_weight,\n",
        "                            use_best_model=True,)\n",
        "\n",
        "  # сделаем предсказание\n",
        "    preds = model.predict(X_test)\n",
        "    score = f1_score(y_test, preds)\n",
        "    scores.append(score)\n",
        "# оценим итоги. Взглянем на усредненное значение метрики по блокам\n",
        "print(f'MEAN F1: {np.mean(scores) * 100:.2f}%')\n",
        "print(f\"CatBoost classification report:\\n {classification_report(y_test, preds)}\")"
      ],
      "metadata": {
        "colab": {
          "base_uri": "https://localhost:8080/"
        },
        "id": "2sJUWcQDm7bo",
        "outputId": "65dc8c6b-fbc7-478d-eb42-40ce651a0d75"
      },
      "execution_count": 194,
      "outputs": [
        {
          "output_type": "stream",
          "name": "stdout",
          "text": [
            "MEAN F1: 74.75%\n",
            "CatBoost classification report:\n",
            "               precision    recall  f1-score   support\n",
            "\n",
            "           0       0.98      0.99      0.99      3398\n",
            "           1       0.82      0.62      0.71       178\n",
            "\n",
            "    accuracy                           0.97      3576\n",
            "   macro avg       0.90      0.81      0.85      3576\n",
            "weighted avg       0.97      0.97      0.97      3576\n",
            "\n"
          ]
        }
      ]
    },
    {
      "cell_type": "code",
      "source": [
        "print(accuracy_score(preds,y_test))\n",
        "sns.heatmap(confusion_matrix(y_test,preds), annot=True,fmt='3g', cbar=False)\n",
        "plt.show()"
      ],
      "metadata": {
        "colab": {
          "base_uri": "https://localhost:8080/",
          "height": 282
        },
        "id": "VoYV6SlCLdUe",
        "outputId": "5f5afc62-c446-4734-f8b3-c9721ec80f7c"
      },
      "execution_count": 195,
      "outputs": [
        {
          "output_type": "stream",
          "name": "stdout",
          "text": [
            "0.9742729306487695\n"
          ]
        },
        {
          "output_type": "display_data",
          "data": {
            "image/png": "[encoded data removed]",
            "text/plain": [
              "<Figure size 432x288 with 1 Axes>"
            ]
          },
          "metadata": {
            "needs_background": "light"
          }
        }
      ]
    },
    {
      "cell_type": "markdown",
      "source": [
        "провела эксперименты с удалением самого влиятельного признака 'company_profile' и решила его удалить. Метрика улучшилась! (без удаления около 60%)"
      ],
      "metadata": {
        "id": "n4LYX6zi-DfN"
      }
    },
    {
      "cell_type": "markdown",
      "metadata": {
        "id": "4HPQGHr-z7W3"
      },
      "source": [
        "Попробую применить другие базовые модели и посмотреть на точность классификации"
      ]
    },
    {
      "cell_type": "code",
      "source": [
        "def modeling(rf,gb,knn):\n",
        "  X = main_df.drop(['fraudulent'], axis=1).values\n",
        "  y = main_df['fraudulent']\n",
        "  cv = KFold(n_splits = 5, random_state=42, shuffle=True)\n",
        "\n",
        "  scores1 = []\n",
        "  scores2 = []\n",
        "  scores3 = []\n",
        "  for train_index, test_index in cv.split(X):\n",
        "      X_train, X_test = X[train_index], X[test_index]\n",
        "      y_train, y_test = y[train_index], y[test_index]\n",
        "      #Сбалансирую таргет:\n",
        "      smk  = SMOTETomek(random_state=42)\n",
        "      X_train,y_train = smk.fit_resample(X_train,y_train)\n",
        "\n",
        "      rf.fit(X_train,y_train)\n",
        "      gb.fit(X_train, y_train)\n",
        "      knn.fit(X_train,y_train)\n",
        "    # сделаем предсказание\n",
        "      global preds1\n",
        "      preds1 = rf.predict(X_test)\n",
        "      preds2 = gb.predict(X_test)\n",
        "      preds3 = knn.predict(X_test)\n",
        "\n",
        "      score1 = f1_score(y_test, preds1)\n",
        "      score2 = f1_score(y_test, preds2)\n",
        "      score3 = f1_score(y_test, preds3)\n",
        "      scores1.append(score1)\n",
        "      scores2.append(score2)\n",
        "      scores3.append(score3)\n",
        "  # оценим итоги. Взглянем на усредненное значение метрики по блокам\n",
        "  print(f'MEAN F1-rf: {np.mean(scores1) * 100:.2f}%')\n",
        "  print(f'MEAN F1-gb: {np.mean(scores2) * 100:.2f}%')\n",
        "  print(f'MEAN F1-knn: {np.mean(scores3) * 100:.2f}%')"
      ],
      "metadata": {
        "id": "3pGeBRq3p6o0"
      },
      "execution_count": 58,
      "outputs": []
    },
    {
      "cell_type": "code",
      "execution_count": 59,
      "metadata": {
        "colab": {
          "base_uri": "https://localhost:8080/"
        },
        "id": "FX9Ybt7Hz7W3",
        "outputId": "8e7976c8-0243-4883-c2ee-2dc0dc090124"
      },
      "outputs": [
        {
          "output_type": "stream",
          "name": "stdout",
          "text": [
            "MEAN F1-rf: 74.00%\n",
            "MEAN F1-gb: 61.03%\n",
            "MEAN F1-knn: 39.22%\n"
          ]
        }
      ],
      "source": [
        "rf=RandomForestClassifier(n_jobs=3,oob_score=True,n_estimators=100,criterion=\"entropy\")\n",
        "gb=GradientBoostingClassifier()\n",
        "knn = KNeighborsClassifier(n_neighbors=3)\n",
        "modeling(rf,gb,knn)"
      ]
    },
    {
      "cell_type": "markdown",
      "metadata": {
        "id": "khRndFYxZs4H"
      },
      "source": [
        "Попробую применить наиболее частую реализацию бустинга - алгоритм AdaBoost. Это мета-алгоритм, который в процессе обучения строит композицию из базовых алгоритмов обучения для улучшения их эффективности"
      ]
    },
    {
      "cell_type": "code",
      "execution_count": 60,
      "metadata": {
        "colab": {
          "base_uri": "https://localhost:8080/"
        },
        "id": "hePTk-UERR5q",
        "outputId": "96948496-2f03-4c6c-b9af-c4b1d94c8ba7"
      },
      "outputs": [
        {
          "output_type": "execute_result",
          "data": {
            "text/plain": [
              "array([0, 0, 0, ..., 0, 0, 0], dtype=int64)"
            ]
          },
          "metadata": {},
          "execution_count": 60
        }
      ],
      "source": [
        "from sklearn.ensemble import AdaBoostClassifier\n",
        "clf = AdaBoostClassifier(n_estimators=100, random_state=42)\n",
        "clf.fit(X_train,y_train)\n",
        "\n",
        "clf.predict(X_test)"
      ]
    },
    {
      "cell_type": "code",
      "execution_count": 61,
      "metadata": {
        "colab": {
          "base_uri": "https://localhost:8080/"
        },
        "id": "eFPM3RJJR7fD",
        "outputId": "e5c17c0b-fbc7-4911-90f1-ca9d6b707f63"
      },
      "outputs": [
        {
          "output_type": "stream",
          "name": "stdout",
          "text": [
            "0.8165548098434005\n",
            "              precision    recall  f1-score   support\n",
            "\n",
            "           0       0.97      0.83      0.90      4247\n",
            "           1       0.13      0.48      0.21       223\n",
            "\n",
            "    accuracy                           0.82      4470\n",
            "   macro avg       0.55      0.65      0.55      4470\n",
            "weighted avg       0.93      0.82      0.86      4470\n",
            "\n"
          ]
        }
      ],
      "source": [
        "print(clf.score(X_test,y_test))\n",
        "print(classification_report(y_test, clf.predict(X_test)))"
      ]
    },
    {
      "cell_type": "markdown",
      "metadata": {
        "id": "9OOptPlNz7W3"
      },
      "source": [
        "Попробую подобрать параметры:"
      ]
    },
    {
      "cell_type": "code",
      "execution_count": 75,
      "metadata": {
        "id": "dihdmjc1z7W3"
      },
      "outputs": [],
      "source": [
        "# from sklearn.model_selection import GridSearchCV\n",
        "# parameters={\n",
        "#     'max_depth': [10,40,None],\n",
        "#     'n_estimators': [50, 100,200],\n",
        "#     'min_samples_leaf': [1, 4],\n",
        "#     'min_samples_split': [2,20,50,150,200,400,600]\n",
        "# }\n",
        "\n",
        "# model = GradientBoostingClassifier()\n",
        "# model.fit(X_train, y_train)\n",
        "\n",
        "# clf = GridSearchCV(model, parameters,cv=5)\n",
        "\n",
        "# clf.fit(X_train, y_train)\n",
        "\n",
        "# #     best_max_depth = best_model.best_estimator_.get_params()['max_depth']\n",
        "# #     best_n_estimators = best_model.best_estimator_.get_params()['n_estimators']\n",
        "\n",
        "# print(clf.best_params_)"
      ]
    },
    {
      "cell_type": "markdown",
      "metadata": {
        "id": "1jyrUydcz7W3"
      },
      "source": [
        "Закомментирую,тк очень долго работает"
      ]
    },
    {
      "cell_type": "code",
      "execution_count": 64,
      "metadata": {
        "id": "nUW0OomPz7W3",
        "colab": {
          "base_uri": "https://localhost:8080/"
        },
        "outputId": "a6c383c8-7474-4eda-9581-08d77c3319fd"
      },
      "outputs": [
        {
          "output_type": "stream",
          "name": "stdout",
          "text": [
            "Gradient Boost train accuracy: 0.9996083653168325\n",
            "Gradient Boost test accuracy: 0.9570469798657718\n",
            "Gradient Boost classification report:\n",
            "               precision    recall  f1-score   support\n",
            "\n",
            "           0       0.97      0.99      0.98      4247\n",
            "           1       0.60      0.41      0.49       223\n",
            "\n",
            "    accuracy                           0.96      4470\n",
            "   macro avg       0.79      0.70      0.73      4470\n",
            "weighted avg       0.95      0.96      0.95      4470\n",
            "\n"
          ]
        }
      ],
      "source": [
        "gb=GradientBoostingClassifier(min_samples_split=200,max_depth=10).fit(X_train, y_train)  \n",
        "print(f\"Gradient Boost train accuracy: {accuracy_score(gb.predict(X_train),y_train)}\")\n",
        "print(f\"Gradient Boost test accuracy: {accuracy_score(gb.predict(X_test),y_test)}\")\n",
        "print(f\"Gradient Boost classification report:\\n {classification_report(y_test, gb.predict(X_test))}\")"
      ]
    },
    {
      "cell_type": "code",
      "source": [
        "sns.heatmap(confusion_matrix(y_test,gb.predict(X_test)), annot=True,fmt='3g', cbar=False)\n",
        "plt.show()"
      ],
      "metadata": {
        "colab": {
          "base_uri": "https://localhost:8080/",
          "height": 265
        },
        "id": "vQbiMcJEyTuY",
        "outputId": "0550ccd4-b4ac-4c0d-f94c-524e32217ae8"
      },
      "execution_count": 65,
      "outputs": [
        {
          "output_type": "display_data",
          "data": {
            "image/png": "[encoded data removed]",
            "text/plain": [
              "<Figure size 432x288 with 1 Axes>"
            ]
          },
          "metadata": {
            "needs_background": "light"
          }
        }
      ]
    },
    {
      "cell_type": "markdown",
      "source": [
        "С подбором параметров достигли более лучших результатов"
      ],
      "metadata": {
        "id": "WlLW0bX8HpYK"
      }
    },
    {
      "cell_type": "markdown",
      "metadata": {
        "id": "eCYqQ5Jjz7W8"
      },
      "source": [
        "**Bi-Directional LSTM**"
      ]
    },
    {
      "cell_type": "code",
      "execution_count": null,
      "metadata": {
        "collapsed": true,
        "id": "kxcwL2NRz7W8"
      },
      "outputs": [],
      "source": [
        "#Очистку текста я уже проводила,поэтому сразу использую веторизацию с помощью one-hot\n",
        "\n",
        "voc_size=5000\n",
        "onehot_text=[one_hot(words,voc_size)for words in text] \n",
        "onehot_text[0]"
      ]
    },
    {
      "cell_type": "code",
      "execution_count": 47,
      "metadata": {
        "id": "7r6gGjRAz7W8",
        "colab": {
          "base_uri": "https://localhost:8080/"
        },
        "outputId": "95d9f65e-25cc-46f9-9956-c0e70d1461c9"
      },
      "outputs": [
        {
          "output_type": "stream",
          "name": "stdout",
          "text": [
            "[[ 344 2249 1129 ... 3360 4064 2421]\n",
            " [2495 3360 1166 ... 1493 4195 1727]\n",
            " [2894 4931  671 ... 4295 4879 4845]\n",
            " ...\n",
            " [3241  848 4879 ... 4797 2162 2377]\n",
            " [ 869 2955 1139 ... 1407 2422 3789]\n",
            " [4910 3449 3404 ... 3418   64 1832]]\n"
          ]
        }
      ],
      "source": [
        "sent_length=100\n",
        "sent_with_same_lenght = pad_sequences(onehot_text,padding='post',maxlen=sent_length)\n",
        "print(sent_with_same_lenght)"
      ]
    },
    {
      "cell_type": "code",
      "execution_count": 48,
      "metadata": {
        "id": "xP-7f3ABz7W8",
        "colab": {
          "base_uri": "https://localhost:8080/"
        },
        "outputId": "24f9bc2c-0857-4e84-820b-aa82a7cea7a2"
      },
      "outputs": [
        {
          "output_type": "stream",
          "name": "stdout",
          "text": [
            "Model: \"sequential\"\n",
            "_________________________________________________________________\n",
            " Layer (type)                Output Shape              Param #   \n",
            "=================================================================\n",
            " embedding (Embedding)       (None, 100, 80)           400000    \n",
            "                                                                 \n",
            " bidirectional (Bidirectiona  (None, 300)              277200    \n",
            " l)                                                              \n",
            "                                                                 \n",
            " dropout (Dropout)           (None, 300)               0         \n",
            "                                                                 \n",
            " dense (Dense)               (None, 1)                 301       \n",
            "                                                                 \n",
            "=================================================================\n",
            "Total params: 677,501\n",
            "Trainable params: 677,501\n",
            "Non-trainable params: 0\n",
            "_________________________________________________________________\n",
            "None\n"
          ]
        }
      ],
      "source": [
        "#  Строим модель\n",
        "embedding_vector_features=80\n",
        "model1=Sequential()\n",
        "model1.add(Embedding(voc_size,embedding_vector_features,input_length=sent_length))\n",
        "model1.add(Bidirectional(LSTM(150))) #двунаправленный LSTM:будет запускать входные данные \n",
        "                                     #двумя способами: один из прошлого в будущее и один из будущего в прошлое\n",
        "model1.add(Dropout(0.4))\n",
        "model1.add(Dense(1,activation='sigmoid')) \n",
        "model1.compile(loss='binary_crossentropy',optimizer='adam',metrics=['accuracy'])\n",
        "print(model1.summary())"
      ]
    },
    {
      "cell_type": "code",
      "execution_count": 49,
      "metadata": {
        "id": "CK4bbIhHz7W8",
        "colab": {
          "base_uri": "https://localhost:8080/"
        },
        "outputId": "0be6d2a8-7b3f-40c8-ac0d-eb8226031153"
      },
      "outputs": [
        {
          "output_type": "execute_result",
          "data": {
            "text/plain": [
              "(17880, (17880,))"
            ]
          },
          "metadata": {},
          "execution_count": 49
        }
      ],
      "source": [
        "len(sent_with_same_lenght),df['fraudulent'].shape"
      ]
    },
    {
      "cell_type": "code",
      "execution_count": 50,
      "metadata": {
        "id": "Ho2JFGgEz7W8"
      },
      "outputs": [],
      "source": [
        "X = np.array(sent_with_same_lenght)\n",
        "y = np.array(df['fraudulent'])\n",
        "X_train, X_test, y_train, y_test = train_test_split(X, y, test_size=0.25,\n",
        "                                                    shuffle=True, random_state=RANDOM_SEED)"
      ]
    },
    {
      "cell_type": "code",
      "source": [
        "#oversampling для балансировки данных целевой переменной\n",
        "smk  = SMOTETomek(random_state=42)\n",
        "X_train,y_train = smk.fit_resample(X_train,y_train)"
      ],
      "metadata": {
        "id": "MP3mEFEHMQBH"
      },
      "execution_count": 51,
      "outputs": []
    },
    {
      "cell_type": "code",
      "execution_count": 52,
      "metadata": {
        "id": "kpGtxQRoz7W8",
        "colab": {
          "base_uri": "https://localhost:8080/"
        },
        "outputId": "515d0f47-140c-4f03-85e2-139da2614635"
      },
      "outputs": [
        {
          "output_type": "stream",
          "name": "stdout",
          "text": [
            "Epoch 1/15\n",
            "399/399 [==============================] - 13s 18ms/step - loss: 0.1908 - accuracy: 0.9390 - val_loss: 0.1557 - val_accuracy: 0.9626\n",
            "Epoch 2/15\n",
            "399/399 [==============================] - 6s 16ms/step - loss: 0.0782 - accuracy: 0.9785 - val_loss: 0.1142 - val_accuracy: 0.9662\n",
            "Epoch 3/15\n",
            "399/399 [==============================] - 6s 15ms/step - loss: 0.0496 - accuracy: 0.9867 - val_loss: 0.1051 - val_accuracy: 0.9707\n",
            "Epoch 4/15\n",
            "399/399 [==============================] - 6s 16ms/step - loss: 0.0340 - accuracy: 0.9907 - val_loss: 0.1080 - val_accuracy: 0.9682\n",
            "Epoch 5/15\n",
            "399/399 [==============================] - 6s 15ms/step - loss: 0.0274 - accuracy: 0.9924 - val_loss: 0.1179 - val_accuracy: 0.9685\n",
            "Epoch 6/15\n",
            "399/399 [==============================] - 6s 16ms/step - loss: 0.0165 - accuracy: 0.9951 - val_loss: 0.1191 - val_accuracy: 0.9698\n",
            "Epoch 7/15\n",
            "399/399 [==============================] - 6s 16ms/step - loss: 0.0152 - accuracy: 0.9951 - val_loss: 0.1260 - val_accuracy: 0.9691\n",
            "Epoch 8/15\n",
            "399/399 [==============================] - 6s 16ms/step - loss: 0.0099 - accuracy: 0.9969 - val_loss: 0.1487 - val_accuracy: 0.9622\n",
            "Epoch 9/15\n",
            "399/399 [==============================] - 6s 16ms/step - loss: 0.0083 - accuracy: 0.9975 - val_loss: 0.1586 - val_accuracy: 0.9687\n",
            "Epoch 10/15\n",
            "399/399 [==============================] - 6s 16ms/step - loss: 0.0102 - accuracy: 0.9968 - val_loss: 0.1517 - val_accuracy: 0.9638\n",
            "Epoch 11/15\n",
            "399/399 [==============================] - 6s 16ms/step - loss: 0.0042 - accuracy: 0.9989 - val_loss: 0.1884 - val_accuracy: 0.9642\n",
            "Epoch 12/15\n",
            "399/399 [==============================] - 6s 16ms/step - loss: 0.0025 - accuracy: 0.9993 - val_loss: 0.1566 - val_accuracy: 0.9629\n",
            "Epoch 13/15\n",
            "399/399 [==============================] - 6s 15ms/step - loss: 0.0012 - accuracy: 0.9997 - val_loss: 0.2163 - val_accuracy: 0.9678\n",
            "Epoch 14/15\n",
            "399/399 [==============================] - 6s 16ms/step - loss: 0.0015 - accuracy: 0.9996 - val_loss: 0.1873 - val_accuracy: 0.9691\n",
            "Epoch 15/15\n",
            "399/399 [==============================] - 6s 15ms/step - loss: 0.0058 - accuracy: 0.9982 - val_loss: 0.2077 - val_accuracy: 0.9714\n"
          ]
        },
        {
          "output_type": "execute_result",
          "data": {
            "text/plain": [
              "<keras.callbacks.History at 0x7f34ca4bf310>"
            ]
          },
          "metadata": {},
          "execution_count": 52
        }
      ],
      "source": [
        "# обучаем модель:\n",
        "model1.fit(X_train,y_train,validation_data=(X_test,y_test),epochs=15,batch_size=64)"
      ]
    },
    {
      "cell_type": "code",
      "execution_count": 53,
      "metadata": {
        "id": "uQa7hHNLz7W8"
      },
      "outputs": [],
      "source": [
        "y_pred=model1.predict(X_test)\n",
        "y_pred = np.round(y_pred).astype(int)"
      ]
    },
    {
      "cell_type": "code",
      "source": [
        "print(f\"accuracy_score:\\n {accuracy_score(y_test,y_pred)}\")\n",
        "print(f\"BiRNN:\\n {classification_report(y_test,y_pred)}\")"
      ],
      "metadata": {
        "colab": {
          "base_uri": "https://localhost:8080/"
        },
        "id": "b9CEkgaPUg_p",
        "outputId": "01bd871f-b7c1-4730-8383-232e2506f082"
      },
      "execution_count": 54,
      "outputs": [
        {
          "output_type": "stream",
          "name": "stdout",
          "text": [
            "accuracy_score:\n",
            " 0.9713646532438479\n",
            "BiRNN:\n",
            "               precision    recall  f1-score   support\n",
            "\n",
            "           0       0.98      0.99      0.99      4247\n",
            "           1       0.77      0.60      0.68       223\n",
            "\n",
            "    accuracy                           0.97      4470\n",
            "   macro avg       0.88      0.80      0.83      4470\n",
            "weighted avg       0.97      0.97      0.97      4470\n",
            "\n"
          ]
        }
      ]
    },
    {
      "cell_type": "code",
      "source": [
        "sns.heatmap(confusion_matrix(y_test,y_pred), annot=True,fmt='3g', cbar=False)\n",
        "plt.show()"
      ],
      "metadata": {
        "colab": {
          "base_uri": "https://localhost:8080/",
          "height": 265
        },
        "id": "QpXySVvbTh1N",
        "outputId": "303aaff3-7e72-4838-afaf-3927b968f241"
      },
      "execution_count": 55,
      "outputs": [
        {
          "output_type": "display_data",
          "data": {
            "image/png": "[encoded data removed]",
            "text/plain": [
              "<Figure size 432x288 with 1 Axes>"
            ]
          },
          "metadata": {
            "needs_background": "light"
          }
        }
      ]
    },
    {
      "cell_type": "markdown",
      "metadata": {
        "id": "0zSV-EJRXRGF"
      },
      "source": [
        "Решила попробовать использовать \"Двунаправленные LSTM\" и результат очень даже неплохой,метрика F1 - 83%. Bidirectional LSTM представляет собой две однонаправленные рекуррентные сети, одна из которых обрабатывает входную последовательность в прямом порядке, а другая — в обратном.Благодаря данной архитектуре сети доступна информация о контексте как из прошлого, так и из будущего, что решает проблему однонаправленных рекуррентных сетей. Для обучения biRNN используются те же алгоритмы, что и для RNN."
      ]
    },
    {
      "cell_type": "markdown",
      "metadata": {
        "id": "KFV3Hi4tYdw5"
      },
      "source": [
        "**Выводы:**"
      ]
    },
    {
      "cell_type": "markdown",
      "metadata": {
        "id": "u9HOtwINYWdD"
      },
      "source": [
        "В результате анализа, мы можем обоснованно распознать, является ли вакансия мошеннической, используя несколько особенностей, основанных на анализе информации: \n",
        "1. мошеннические вакансии обычно не имеют корпоративного логотипа;\n",
        "2. не добавляют проверочные вопросы; \n",
        "3. обычно упоминают информацию о зарплате даже в названии, чтобы заманить кандидатов;\n",
        "4. могут пропустить определенные атрибуты работы (например, отрасль, должность, уровень образования кандидата,и уровень опыта)\n",
        "\n",
        "Модели так же предполагают, что профиль компании является не самой сильной стороной, существуют и другие полезные функции, такие как описание должности, требования и бонусы, которые также обладают хорошей предсказательной силой.\n",
        "\n",
        "Проведена вся необходимая работа по подготовке данных, их анализ, извлечение информации, обработка и подготовка для дальнейшей работы. Создан бейзлайн, по которому сравнивались изменения в датасете. Датасет проверен на дубликаты и выбросы, выполнена нормализация, использовались классические методы кодирования категориальных признаков. Подготовлены дополнительные признаки. По итогам анализа, из некоторых признаков были извлечены более полезная информация, и далее изначальные удалены. Использовались классические методы обработки языка,а именно очистка текста. В модели применялась токенизация и лемматизация.\n",
        "\n",
        "\n",
        " Я убедилась, что с помощью базовых моделей, можно получить хорошую предсказательную силу, применив NLP, поработав с обработкой текста. С базовыми моделями, основанными на NLP, мы получаем очень хорошую точность - av.F1 - 85%  с минимальной настройкой гиперпараметров. С более сложными моделями, такими как  \"Двунаправленные LSTM\" по-прежнему получаем хороший результат и неплохую классификацию по confusion matrix."
      ]
    }
  ],
  "metadata": {
    "colab": {
      "collapsed_sections": [],
      "name": "Copy of graduate-project-skillfactory-pr.ipynb",
      "provenance": [],
      "include_colab_link": true
    },
    "kernelspec": {
      "display_name": "Python 3",
      "language": "python",
      "name": "python3"
    },
    "language_info": {
      "codemirror_mode": {
        "name": "ipython",
        "version": 3
      },
      "file_extension": ".py",
      "mimetype": "text/x-python",
      "name": "python",
      "nbconvert_exporter": "python",
      "pygments_lexer": "ipython3",
      "version": "3.7.6"
    },
    "accelerator": "GPU"
  },
  "nbformat": 4,
  "nbformat_minor": 0
}
