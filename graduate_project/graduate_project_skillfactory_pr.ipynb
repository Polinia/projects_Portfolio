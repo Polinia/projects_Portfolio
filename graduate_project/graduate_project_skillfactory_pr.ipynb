{
  "cells": [
    {
      "cell_type": "markdown",
      "metadata": {
        "id": "view-in-github",
        "colab_type": "text"
      },
      "source": [
        "<a href=\"https://colab.research.google.com/github/Polinia/skillfactory_rds/blob/main/graduate_project_skillfactory_pr.ipynb\" target=\"_parent\"><img src=\"https://colab.research.google.com/assets/colab-badge.svg\" alt=\"Open In Colab\"/></a>"
      ]
    },
    {
      "cell_type": "markdown",
      "metadata": {
        "id": "iuZSU10Uz7Wl"
      },
      "source": [
        "# **Classification of Real / Fake Job Posting using Transformers**"
      ]
    },
    {
      "cell_type": "markdown",
      "metadata": {
        "id": "k0wCaGgHz7Wl"
      },
      "source": [
        "Этот набор данных содержит 18.000 описаний вакансий, из которых около 800 - поддельные. Данные состоят из текстовой информации и другую дополнительную информацию о вакансиях. Набор данных буду использовать для создания моделей классификации, которые могут изучить мошеннические описания должностных обязанностей."
      ]
    },
    {
      "cell_type": "markdown",
      "metadata": {
        "id": "eEM0iqGdz7Wl"
      },
      "source": [
        "Задача - обучить модель классифицировать вакансии как реальные или мошеннические."
      ]
    },
    {
      "cell_type": "code",
      "execution_count": 10,
      "metadata": {
        "id": "gFEWpRKVz7Wm"
      },
      "outputs": [],
      "source": [
        "!pip install transformers -q\n",
        "# !pip install --upgrade tensorflow -q\n",
        "!pip install bert-tokenizer -q\n",
        "!pip install shap -q\n",
        "!pip install catboost -q"
      ]
    },
    {
      "cell_type": "code",
      "execution_count": 11,
      "metadata": {
        "colab": {
          "base_uri": "https://localhost:8080/"
        },
        "id": "n8CzUK2oz7Wn",
        "outputId": "d177596f-1107-486b-9d38-34bdea6f181d"
      },
      "outputs": [
        {
          "output_type": "stream",
          "name": "stdout",
          "text": [
            "[nltk_data] Downloading package stopwords to /root/nltk_data...\n",
            "[nltk_data]   Package stopwords is already up-to-date!\n"
          ]
        }
      ],
      "source": [
        "#Importing Libraries\n",
        "import numpy as np \n",
        "import pandas as pd \n",
        "import pandas_profiling\n",
        "import string\n",
        "import os\n",
        "import matplotlib.pyplot as plt\n",
        "import seaborn as sns\n",
        "%matplotlib inline\n",
        "plt.close('all')\n",
        "\n",
        "import re \n",
        "from sklearn.feature_extraction.text import TfidfVectorizer\n",
        "from nltk.stem.porter import PorterStemmer\n",
        "from nltk.corpus import stopwords\n",
        "from sklearn.preprocessing import LabelEncoder, StandardScaler, OneHotEncoder\n",
        "from catboost import *\n",
        "import shap \n",
        "from sklearn.model_selection import train_test_split, KFold\n",
        "from catboost import CatBoostClassifier\n",
        "from sklearn.metrics import f1_score\n",
        "from sklearn.ensemble import RandomForestClassifier, GradientBoostingClassifier\n",
        "from sklearn.neighbors import KNeighborsClassifier\n",
        "import joblib\n",
        "import tensorflow as tf\n",
        "from tensorflow import keras\n",
        "from tensorflow.keras.preprocessing.text import Tokenizer, one_hot\n",
        "from tensorflow.keras.preprocessing import sequence\n",
        "from tensorflow.keras.preprocessing.sequence import pad_sequences\n",
        "\n",
        "from tensorflow.keras.callbacks import *\n",
        "from tensorflow.keras.optimizers.schedules import *\n",
        "from transformers import BertTokenizer, TFBertModel, BertConfig,  BertTokenizerFast\n",
        "from tensorflow.keras.layers import Input, Dropout, Dense, LSTM, Bidirectional, Embedding\n",
        "from tensorflow.keras.models import Model, Sequential\n",
        "from tensorflow.keras import layers\n",
        "from tensorflow.keras.optimizers import Adam\n",
        "from tensorflow.keras.initializers import TruncatedNormal\n",
        "from tensorflow.keras.losses import CategoricalCrossentropy\n",
        "from tensorflow.keras.metrics import CategoricalAccuracy\n",
        "# from tensorflow.keras.utils import to_categorical\n",
        "from nltk.tokenize import RegexpTokenizer\n",
        "import transformers\n",
        "from transformers import DistilBertTokenizerFast, DistilBertModel, DistilBertConfig\n",
        "import nltk\n",
        "from transformers import TFDistilBertForSequenceClassification, TFTrainer, TFTrainingArguments\n",
        "from sklearn.model_selection import cross_val_score\n",
        "from sklearn.metrics import classification_report, confusion_matrix,accuracy_score\n",
        "\n",
        "from imblearn.combine import SMOTETomek\n",
        "\n",
        "nltk.download('stopwords')\n",
        "stop_words = set(stopwords.words(\"english\"))\n",
        "default_stemmer = PorterStemmer()\n",
        "default_stopwords = stopwords.words('english')\n",
        "default_tokenizer=RegexpTokenizer(r\"\\w+\")\n",
        "\n",
        "import os\n",
        "for dirname, _, filenames in os.walk('/kaggle/input'):\n",
        "    for filename in filenames:\n",
        "        print(os.path.join(dirname, filename))"
      ]
    },
    {
      "cell_type": "code",
      "execution_count": 12,
      "metadata": {
        "id": "oYLZBpaxz7Wo"
      },
      "outputs": [],
      "source": [
        "# зафиксируем версию пакетов, чтобы эксперименты были воспроизводимы:\n",
        "!pip freeze > requirements.txt\n",
        "# всегда фиксируйте RANDOM_SEED, чтобы ваши эксперименты были воспроизводимы!\n",
        "RANDOM_SEED = 42\n",
        "pd.set_option('display.max_columns', None)"
      ]
    },
    {
      "cell_type": "code",
      "execution_count": 13,
      "metadata": {
        "id": "XbRg4Tklz7Wp"
      },
      "outputs": [],
      "source": [
        "# Напишу функцию для воспроизведения графиков:\n",
        "def plot_image(x,y):\n",
        "    plt.title(x)\n",
        "    plt.xlabel('index')\n",
        "    plt.ylabel('percentage of fraudulent')\n",
        "    plt.bar(np.array(y.index,dtype='str'),y)\n",
        "    return plt.show()  "
      ]
    },
    {
      "cell_type": "code",
      "execution_count": 14,
      "metadata": {
        "colab": {
          "base_uri": "https://localhost:8080/",
          "height": 197
        },
        "id": "QMsGcW25z7Wp",
        "outputId": "7a35785d-1e2c-44e6-9a51-10e27c2a4271"
      },
      "outputs": [
        {
          "output_type": "execute_result",
          "data": {
            "text/html": [
              "\n",
              "  <div id=\"df-5e5af3a0-21cb-4ec2-a63d-646398a127fd\">\n",
              "    <div class=\"colab-df-container\">\n",
              "      <div>\n",
              "<style scoped>\n",
              "    .dataframe tbody tr th:only-of-type {\n",
              "        vertical-align: middle;\n",
              "    }\n",
              "\n",
              "    .dataframe tbody tr th {\n",
              "        vertical-align: top;\n",
              "    }\n",
              "\n",
              "    .dataframe thead th {\n",
              "        text-align: right;\n",
              "    }\n",
              "</style>\n",
              "<table border=\"1\" class=\"dataframe\">\n",
              "  <thead>\n",
              "    <tr style=\"text-align: right;\">\n",
              "      <th></th>\n",
              "      <th>job_id</th>\n",
              "      <th>title</th>\n",
              "      <th>location</th>\n",
              "      <th>department</th>\n",
              "      <th>salary_range</th>\n",
              "      <th>company_profile</th>\n",
              "      <th>description</th>\n",
              "      <th>requirements</th>\n",
              "      <th>benefits</th>\n",
              "      <th>telecommuting</th>\n",
              "      <th>has_company_logo</th>\n",
              "      <th>has_questions</th>\n",
              "      <th>employment_type</th>\n",
              "      <th>required_experience</th>\n",
              "      <th>required_education</th>\n",
              "      <th>industry</th>\n",
              "      <th>function</th>\n",
              "      <th>fraudulent</th>\n",
              "    </tr>\n",
              "  </thead>\n",
              "  <tbody>\n",
              "    <tr>\n",
              "      <th>0</th>\n",
              "      <td>1</td>\n",
              "      <td>Marketing Intern</td>\n",
              "      <td>US, NY, New York</td>\n",
              "      <td>Marketing</td>\n",
              "      <td>NaN</td>\n",
              "      <td>We're Food52, and we've created a groundbreaki...</td>\n",
              "      <td>Food52, a fast-growing, James Beard Award-winn...</td>\n",
              "      <td>Experience with content management systems a m...</td>\n",
              "      <td>NaN</td>\n",
              "      <td>0</td>\n",
              "      <td>1</td>\n",
              "      <td>0</td>\n",
              "      <td>Other</td>\n",
              "      <td>Internship</td>\n",
              "      <td>NaN</td>\n",
              "      <td>NaN</td>\n",
              "      <td>Marketing</td>\n",
              "      <td>0</td>\n",
              "    </tr>\n",
              "  </tbody>\n",
              "</table>\n",
              "</div>\n",
              "      <button class=\"colab-df-convert\" onclick=\"convertToInteractive('df-5e5af3a0-21cb-4ec2-a63d-646398a127fd')\"\n",
              "              title=\"Convert this dataframe to an interactive table.\"\n",
              "              style=\"display:none;\">\n",
              "        \n",
              "  <svg xmlns=\"http://www.w3.org/2000/svg\" height=\"24px\"viewBox=\"0 0 24 24\"\n",
              "       width=\"24px\">\n",
              "    <path d=\"M0 0h24v24H0V0z\" fill=\"none\"/>\n",
              "    <path d=\"M18.56 5.44l.94 2.06.94-2.06 2.06-.94-2.06-.94-.94-2.06-.94 2.06-2.06.94zm-11 1L8.5 8.5l.94-2.06 2.06-.94-2.06-.94L8.5 2.5l-.94 2.06-2.06.94zm10 10l.94 2.06.94-2.06 2.06-.94-2.06-.94-.94-2.06-.94 2.06-2.06.94z\"/><path d=\"M17.41 7.96l-1.37-1.37c-.4-.4-.92-.59-1.43-.59-.52 0-1.04.2-1.43.59L10.3 9.45l-7.72 7.72c-.78.78-.78 2.05 0 2.83L4 21.41c.39.39.9.59 1.41.59.51 0 1.02-.2 1.41-.59l7.78-7.78 2.81-2.81c.8-.78.8-2.07 0-2.86zM5.41 20L4 18.59l7.72-7.72 1.47 1.35L5.41 20z\"/>\n",
              "  </svg>\n",
              "      </button>\n",
              "      \n",
              "  <style>\n",
              "    .colab-df-container {\n",
              "      display:flex;\n",
              "      flex-wrap:wrap;\n",
              "      gap: 12px;\n",
              "    }\n",
              "\n",
              "    .colab-df-convert {\n",
              "      background-color: #E8F0FE;\n",
              "      border: none;\n",
              "      border-radius: 50%;\n",
              "      cursor: pointer;\n",
              "      display: none;\n",
              "      fill: #1967D2;\n",
              "      height: 32px;\n",
              "      padding: 0 0 0 0;\n",
              "      width: 32px;\n",
              "    }\n",
              "\n",
              "    .colab-df-convert:hover {\n",
              "      background-color: #E2EBFA;\n",
              "      box-shadow: 0px 1px 2px rgba(60, 64, 67, 0.3), 0px 1px 3px 1px rgba(60, 64, 67, 0.15);\n",
              "      fill: #174EA6;\n",
              "    }\n",
              "\n",
              "    [theme=dark] .colab-df-convert {\n",
              "      background-color: #3B4455;\n",
              "      fill: #D2E3FC;\n",
              "    }\n",
              "\n",
              "    [theme=dark] .colab-df-convert:hover {\n",
              "      background-color: #434B5C;\n",
              "      box-shadow: 0px 1px 3px 1px rgba(0, 0, 0, 0.15);\n",
              "      filter: drop-shadow(0px 1px 2px rgba(0, 0, 0, 0.3));\n",
              "      fill: #FFFFFF;\n",
              "    }\n",
              "  </style>\n",
              "\n",
              "      <script>\n",
              "        const buttonEl =\n",
              "          document.querySelector('#df-5e5af3a0-21cb-4ec2-a63d-646398a127fd button.colab-df-convert');\n",
              "        buttonEl.style.display =\n",
              "          google.colab.kernel.accessAllowed ? 'block' : 'none';\n",
              "\n",
              "        async function convertToInteractive(key) {\n",
              "          const element = document.querySelector('#df-5e5af3a0-21cb-4ec2-a63d-646398a127fd');\n",
              "          const dataTable =\n",
              "            await google.colab.kernel.invokeFunction('convertToInteractive',\n",
              "                                                     [key], {});\n",
              "          if (!dataTable) return;\n",
              "\n",
              "          const docLinkHtml = 'Like what you see? Visit the ' +\n",
              "            '<a target=\"_blank\" href=https://colab.research.google.com/notebooks/data_table.ipynb>data table notebook</a>'\n",
              "            + ' to learn more about interactive tables.';\n",
              "          element.innerHTML = '';\n",
              "          dataTable['output_type'] = 'display_data';\n",
              "          await google.colab.output.renderOutput(dataTable, element);\n",
              "          const docLink = document.createElement('div');\n",
              "          docLink.innerHTML = docLinkHtml;\n",
              "          element.appendChild(docLink);\n",
              "        }\n",
              "      </script>\n",
              "    </div>\n",
              "  </div>\n",
              "  "
            ],
            "text/plain": [
              "   job_id             title          location department salary_range  \\\n",
              "0       1  Marketing Intern  US, NY, New York  Marketing          NaN   \n",
              "\n",
              "                                     company_profile  \\\n",
              "0  We're Food52, and we've created a groundbreaki...   \n",
              "\n",
              "                                         description  \\\n",
              "0  Food52, a fast-growing, James Beard Award-winn...   \n",
              "\n",
              "                                        requirements benefits  telecommuting  \\\n",
              "0  Experience with content management systems a m...      NaN              0   \n",
              "\n",
              "   has_company_logo  has_questions employment_type required_experience  \\\n",
              "0                 1              0           Other          Internship   \n",
              "\n",
              "  required_education industry   function  fraudulent  \n",
              "0                NaN      NaN  Marketing           0  "
            ]
          },
          "metadata": {},
          "execution_count": 14
        }
      ],
      "source": [
        "df = pd.read_csv('fake_job_postings.csv')\n",
        "df.head(1)"
      ]
    },
    {
      "cell_type": "markdown",
      "metadata": {
        "id": "U2fQK5ELz7Wq"
      },
      "source": [
        "Definition of the variables:\n",
        "\n",
        "* job_id- Identification number given to each job posting  \n",
        "* title - A name that describes the position or job \n",
        "* location - Information about where the job is located \n",
        "* department - Information about the department this job is offered by\n",
        "* salary_range - Expected salary range \n",
        "* company_profile - Information about the company  \n",
        "* description - A brief description about the position offered \n",
        "* requirements - Pre-requisites to qualify for the job \n",
        "* benefits - Benefits provided by the job \n",
        "* telecommuting - Is work from home or remote work allowed \n",
        "* has_company_logo - Does the job posting have a company logo \n",
        "* has_questions - Does the job posting have any questions \n",
        "* employment_type - 5 categories (Full-time, part-time, contract, temporary and other)\n",
        "* required_experience - Can be: Internship, Entry Level, Associate, Mid-senior level, Director, Executive or Not Applicable \n",
        "* required_education - Can be: Bachelor’s degree, high school degree, unspecified, associate degree, master’s degree, certification, some college coursework, professional, some high school coursework, vocational  \n",
        "* Industry - The industry the job posting is relevant to \n",
        "* Function - The umbrella term to determining a job’s functionality \n",
        "* Fraudulent - The target variable (0: Real, 1: Fake)"
      ]
    },
    {
      "cell_type": "markdown",
      "metadata": {
        "id": "ZNor22Haz7Wq"
      },
      "source": [
        "Проведем первичный осмотр:"
      ]
    },
    {
      "cell_type": "code",
      "execution_count": 15,
      "metadata": {
        "id": "WnGtr5o6z7Wq"
      },
      "outputs": [],
      "source": [
        "# pandas_profiling.ProfileReport(df)"
      ]
    },
    {
      "cell_type": "code",
      "execution_count": 16,
      "metadata": {
        "colab": {
          "base_uri": "https://localhost:8080/"
        },
        "id": "eV5zsD50z7Wq",
        "outputId": "77152a6e-ed91-4415-e9f5-4879e088e1b3"
      },
      "outputs": [
        {
          "output_type": "stream",
          "name": "stdout",
          "text": [
            "<class 'pandas.core.frame.DataFrame'>\n",
            "RangeIndex: 17880 entries, 0 to 17879\n",
            "Data columns (total 18 columns):\n",
            " #   Column               Non-Null Count  Dtype \n",
            "---  ------               --------------  ----- \n",
            " 0   job_id               17880 non-null  int64 \n",
            " 1   title                17880 non-null  object\n",
            " 2   location             17534 non-null  object\n",
            " 3   department           6333 non-null   object\n",
            " 4   salary_range         2868 non-null   object\n",
            " 5   company_profile      14572 non-null  object\n",
            " 6   description          17879 non-null  object\n",
            " 7   requirements         15185 non-null  object\n",
            " 8   benefits             10670 non-null  object\n",
            " 9   telecommuting        17880 non-null  int64 \n",
            " 10  has_company_logo     17880 non-null  int64 \n",
            " 11  has_questions        17880 non-null  int64 \n",
            " 12  employment_type      14409 non-null  object\n",
            " 13  required_experience  10830 non-null  object\n",
            " 14  required_education   9775 non-null   object\n",
            " 15  industry             12977 non-null  object\n",
            " 16  function             11425 non-null  object\n",
            " 17  fraudulent           17880 non-null  int64 \n",
            "dtypes: int64(5), object(13)\n",
            "memory usage: 2.5+ MB\n"
          ]
        },
        {
          "output_type": "execute_result",
          "data": {
            "text/plain": [
              "job_id                     0\n",
              "title                      0\n",
              "location                 346\n",
              "department             11547\n",
              "salary_range           15012\n",
              "company_profile         3308\n",
              "description                1\n",
              "requirements            2695\n",
              "benefits                7210\n",
              "telecommuting              0\n",
              "has_company_logo           0\n",
              "has_questions              0\n",
              "employment_type         3471\n",
              "required_experience     7050\n",
              "required_education      8105\n",
              "industry                4903\n",
              "function                6455\n",
              "fraudulent                 0\n",
              "dtype: int64"
            ]
          },
          "metadata": {},
          "execution_count": 16
        }
      ],
      "source": [
        "df.info()\n",
        "\n",
        "df.isnull().sum() #пропущенные значения"
      ]
    },
    {
      "cell_type": "markdown",
      "metadata": {
        "id": "ytQsvyOfz7Wr"
      },
      "source": [
        "В данном датасете - 17880 объявлений и 18 признаков. Из числовых telecommuting, has_company_logo, has_questions. Остальные типа object. Целевая переменная у нас 'fraudulent'. Так же в датасете имеются пропуски.        "
      ]
    },
    {
      "cell_type": "code",
      "execution_count": 17,
      "metadata": {
        "colab": {
          "base_uri": "https://localhost:8080/"
        },
        "id": "v5nKw81qz7Wr",
        "outputId": "35e869f7-ac9f-4209-9602-2509a34fa52a"
      },
      "outputs": [
        {
          "output_type": "execute_result",
          "data": {
            "text/plain": [
              "0"
            ]
          },
          "metadata": {},
          "execution_count": 17
        }
      ],
      "source": [
        "#проверка на дупликаты\n",
        "df['job_id'].duplicated().sum()"
      ]
    },
    {
      "cell_type": "code",
      "source": [
        "bin_cols = ['telecommuting', 'has_company_logo', 'has_questions']\n",
        "cat_cols = ['department', 'employment_type', 'required_experience', \n",
        "                'required_education', 'industry', 'function']\n",
        "text_cols = ['title', 'location','company_profile', 'description', 'requirements', 'benefits']"
      ],
      "metadata": {
        "id": "XZuD-yXkBOUI"
      },
      "execution_count": 18,
      "outputs": []
    },
    {
      "cell_type": "code",
      "source": [
        "for col in text_cols:\n",
        "    df[col].fillna(' ', inplace=True)\n",
        "for col in cat_cols:\n",
        "  df[col].fillna(\"Unspecified\", inplace=True)"
      ],
      "metadata": {
        "id": "7jLtFEMaq4Fh"
      },
      "execution_count": 19,
      "outputs": []
    },
    {
      "cell_type": "markdown",
      "source": [
        "**Baseline**"
      ],
      "metadata": {
        "id": "hYnodaxdWPhh"
      }
    },
    {
      "cell_type": "markdown",
      "source": [
        "Построим \"наивную\"/baseline модель (с ней будем сравнивать изменения в датасете и другие модели)"
      ],
      "metadata": {
        "id": "7hX7kTxxJfEg"
      }
    },
    {
      "cell_type": "code",
      "execution_count": 20,
      "metadata": {
        "id": "JfjS22d2z7Ws"
      },
      "outputs": [],
      "source": [
        "#сразу избавлюсь от job.id,он больше не нужен\n",
        "df.drop('job_id', axis=1, inplace=True)"
      ]
    },
    {
      "cell_type": "markdown",
      "metadata": {
        "id": "LkUxrKh6z7Wv"
      },
      "source": [
        "**Salary Range**"
      ]
    },
    {
      "cell_type": "markdown",
      "source": [
        "сделаю парсинг чисел из значений признака salary_range"
      ],
      "metadata": {
        "id": "VyaUVT0KR0b5"
      }
    },
    {
      "cell_type": "code",
      "source": [
        "df['salary_range'].fillna(\"Unspecified\", inplace=True)\n",
        "df.salary_range.value_counts()"
      ],
      "metadata": {
        "colab": {
          "base_uri": "https://localhost:8080/"
        },
        "id": "kgcZEhh1TbTN",
        "outputId": "d0e4f78d-a6e0-40a1-c1ed-fcbb76a97950"
      },
      "execution_count": 21,
      "outputs": [
        {
          "output_type": "execute_result",
          "data": {
            "text/plain": [
              "Unspecified      15012\n",
              "0-0                142\n",
              "40000-50000         66\n",
              "30000-40000         55\n",
              "45000-67000         37\n",
              "                 ...  \n",
              "400000-500000        1\n",
              "120000-135000        1\n",
              "15-25                1\n",
              "130000-170000        1\n",
              "192000-288000        1\n",
              "Name: salary_range, Length: 875, dtype: int64"
            ]
          },
          "metadata": {},
          "execution_count": 21
        }
      ]
    },
    {
      "cell_type": "markdown",
      "source": [
        "Достаточно большой представлен диапазон зарплат"
      ],
      "metadata": {
        "id": "rnBTOgdFztkf"
      }
    },
    {
      "cell_type": "code",
      "source": [
        "salary_range = df.salary_range\n",
        "salary_range.head(12)"
      ],
      "metadata": {
        "colab": {
          "base_uri": "https://localhost:8080/"
        },
        "id": "n0Ymd9N4zzBj",
        "outputId": "953cf764-1e56-400c-c113-1f2492328556"
      },
      "execution_count": 22,
      "outputs": [
        {
          "output_type": "execute_result",
          "data": {
            "text/plain": [
              "0       Unspecified\n",
              "1       Unspecified\n",
              "2       Unspecified\n",
              "3       Unspecified\n",
              "4       Unspecified\n",
              "5       Unspecified\n",
              "6       20000-28000\n",
              "7       Unspecified\n",
              "8       Unspecified\n",
              "9       Unspecified\n",
              "10    100000-120000\n",
              "11      Unspecified\n",
              "Name: salary_range, dtype: object"
            ]
          },
          "metadata": {},
          "execution_count": 22
        }
      ]
    },
    {
      "cell_type": "markdown",
      "source": [
        "Имеется очень много пропущенных значений,а имеющиеся значения преобразуем в max и min"
      ],
      "metadata": {
        "id": "dqCZR_xczzlf"
      }
    },
    {
      "cell_type": "code",
      "source": [
        "#Заменим пустые значения на 0-0\n",
        "salary_range.replace('Unspecified','0-0', inplace=True)\n",
        "salary_range.head(12)"
      ],
      "metadata": {
        "colab": {
          "base_uri": "https://localhost:8080/"
        },
        "id": "HsOkt2xVz_sP",
        "outputId": "eae05bc6-1b45-4495-ac89-22f8fd068bc1"
      },
      "execution_count": 23,
      "outputs": [
        {
          "output_type": "execute_result",
          "data": {
            "text/plain": [
              "0               0-0\n",
              "1               0-0\n",
              "2               0-0\n",
              "3               0-0\n",
              "4               0-0\n",
              "5               0-0\n",
              "6       20000-28000\n",
              "7               0-0\n",
              "8               0-0\n",
              "9               0-0\n",
              "10    100000-120000\n",
              "11              0-0\n",
              "Name: salary_range, dtype: object"
            ]
          },
          "metadata": {},
          "execution_count": 23
        }
      ]
    },
    {
      "cell_type": "code",
      "source": [
        "#Разделим теперь значения\n",
        "salary_range_sep = list(salary_range.str.split('-').values)\n",
        "salary_range_sep[:5]"
      ],
      "metadata": {
        "colab": {
          "base_uri": "https://localhost:8080/"
        },
        "id": "L6CS1bsw0DQX",
        "outputId": "bcff04d4-81ee-443f-a035-e2d1d0770d9b"
      },
      "execution_count": 24,
      "outputs": [
        {
          "output_type": "execute_result",
          "data": {
            "text/plain": [
              "[['0', '0'], ['0', '0'], ['0', '0'], ['0', '0'], ['0', '0']]"
            ]
          },
          "metadata": {},
          "execution_count": 24
        }
      ]
    },
    {
      "cell_type": "code",
      "source": [
        "#Проверим,возможно есть необычные значения:\n",
        "for x, y in enumerate(salary_range_sep):\n",
        "    if len(y) < 2 or len(y) > 2:\n",
        "        print(x, y)"
      ],
      "metadata": {
        "colab": {
          "base_uri": "https://localhost:8080/"
        },
        "id": "EY4A3XGl0GU5",
        "outputId": "3a3e02b2-3aa1-4f7f-e04a-15f788e6c987"
      },
      "execution_count": 25,
      "outputs": [
        {
          "output_type": "stream",
          "name": "stdout",
          "text": [
            "5538 ['40000']\n"
          ]
        }
      ]
    },
    {
      "cell_type": "code",
      "source": [
        "#Замена значения\n",
        "salary_range_sep[5538] = ['40000', '40000']"
      ],
      "metadata": {
        "id": "aBBRoMPR0KLv"
      },
      "execution_count": 26,
      "outputs": []
    },
    {
      "cell_type": "code",
      "source": [
        "#Проверим какие еще значения у нас имеются в этом признаке\n",
        "error_range_inds = []\n",
        "for range_ind, s_range in enumerate(salary_range_sep):\n",
        "    min_value, max_value = s_range\n",
        "    if not min_value.isdigit() or not max_value.isdigit():\n",
        "        print(range_ind, (min_value, max_value))\n",
        "        error_range_inds += [range_ind]"
      ],
      "metadata": {
        "colab": {
          "base_uri": "https://localhost:8080/"
        },
        "id": "TVFQ6LdF0M-g",
        "outputId": "5e710337-efbc-4652-a7c6-7150790a0db4"
      },
      "execution_count": 27,
      "outputs": [
        {
          "output_type": "stream",
          "name": "stdout",
          "text": [
            "159 ('9', 'Dec')\n",
            "1884 ('3', 'Apr')\n",
            "1981 ('4', 'Apr')\n",
            "2313 ('Oct', '15')\n",
            "4299 ('8', 'Sep')\n",
            "9124 ('4', 'Jun')\n",
            "9902 ('10', 'Oct')\n",
            "9911 ('Oct', '20')\n",
            "10316 ('Jun', '18')\n",
            "10785 ('10', 'Oct')\n",
            "10788 ('11', 'Nov')\n",
            "10860 ('10', 'Nov')\n",
            "10883 ('10', 'Oct')\n",
            "10889 ('10', 'Nov')\n",
            "10896 ('10', 'Oct')\n",
            "10905 ('10', 'Nov')\n",
            "11361 ('11', 'Dec')\n",
            "11495 ('2', 'Apr')\n",
            "11606 ('10', 'Nov')\n",
            "12421 ('10', 'Oct')\n",
            "13449 ('11', 'Nov')\n",
            "13482 ('2', 'Jun')\n",
            "14196 ('Oct', '20')\n",
            "15483 ('10', 'Oct')\n",
            "17233 ('10', 'Nov')\n",
            "17656 ('Dec', '25')\n"
          ]
        }
      ]
    },
    {
      "cell_type": "markdown",
      "source": [
        "И заметим,что в некоторых вакансиях почему-то указаны даты вместо заплаты. Исправлю это заменив на 0"
      ],
      "metadata": {
        "id": "RSv2pDw10Ri3"
      }
    },
    {
      "cell_type": "code",
      "source": [
        "for range_ind in error_range_inds:\n",
        "    salary_range_sep[range_ind] = ['0', '0']\n",
        "df_salary_range = pd.DataFrame(np.array(salary_range_sep, dtype='int64'), \n",
        "                                 columns=['min_salary', 'max_salary'])\n",
        "df_salary_range.head(11)"
      ],
      "metadata": {
        "colab": {
          "base_uri": "https://localhost:8080/",
          "height": 394
        },
        "id": "RTWVWJF_TbM9",
        "outputId": "ac9ba09c-5a28-4694-d579-60c94f0cda0e"
      },
      "execution_count": 28,
      "outputs": [
        {
          "output_type": "execute_result",
          "data": {
            "text/html": [
              "\n",
              "  <div id=\"df-1a512719-6e7d-4966-828c-c4f35a867c7c\">\n",
              "    <div class=\"colab-df-container\">\n",
              "      <div>\n",
              "<style scoped>\n",
              "    .dataframe tbody tr th:only-of-type {\n",
              "        vertical-align: middle;\n",
              "    }\n",
              "\n",
              "    .dataframe tbody tr th {\n",
              "        vertical-align: top;\n",
              "    }\n",
              "\n",
              "    .dataframe thead th {\n",
              "        text-align: right;\n",
              "    }\n",
              "</style>\n",
              "<table border=\"1\" class=\"dataframe\">\n",
              "  <thead>\n",
              "    <tr style=\"text-align: right;\">\n",
              "      <th></th>\n",
              "      <th>min_salary</th>\n",
              "      <th>max_salary</th>\n",
              "    </tr>\n",
              "  </thead>\n",
              "  <tbody>\n",
              "    <tr>\n",
              "      <th>0</th>\n",
              "      <td>0</td>\n",
              "      <td>0</td>\n",
              "    </tr>\n",
              "    <tr>\n",
              "      <th>1</th>\n",
              "      <td>0</td>\n",
              "      <td>0</td>\n",
              "    </tr>\n",
              "    <tr>\n",
              "      <th>2</th>\n",
              "      <td>0</td>\n",
              "      <td>0</td>\n",
              "    </tr>\n",
              "    <tr>\n",
              "      <th>3</th>\n",
              "      <td>0</td>\n",
              "      <td>0</td>\n",
              "    </tr>\n",
              "    <tr>\n",
              "      <th>4</th>\n",
              "      <td>0</td>\n",
              "      <td>0</td>\n",
              "    </tr>\n",
              "    <tr>\n",
              "      <th>5</th>\n",
              "      <td>0</td>\n",
              "      <td>0</td>\n",
              "    </tr>\n",
              "    <tr>\n",
              "      <th>6</th>\n",
              "      <td>20000</td>\n",
              "      <td>28000</td>\n",
              "    </tr>\n",
              "    <tr>\n",
              "      <th>7</th>\n",
              "      <td>0</td>\n",
              "      <td>0</td>\n",
              "    </tr>\n",
              "    <tr>\n",
              "      <th>8</th>\n",
              "      <td>0</td>\n",
              "      <td>0</td>\n",
              "    </tr>\n",
              "    <tr>\n",
              "      <th>9</th>\n",
              "      <td>0</td>\n",
              "      <td>0</td>\n",
              "    </tr>\n",
              "    <tr>\n",
              "      <th>10</th>\n",
              "      <td>100000</td>\n",
              "      <td>120000</td>\n",
              "    </tr>\n",
              "  </tbody>\n",
              "</table>\n",
              "</div>\n",
              "      <button class=\"colab-df-convert\" onclick=\"convertToInteractive('df-1a512719-6e7d-4966-828c-c4f35a867c7c')\"\n",
              "              title=\"Convert this dataframe to an interactive table.\"\n",
              "              style=\"display:none;\">\n",
              "        \n",
              "  <svg xmlns=\"http://www.w3.org/2000/svg\" height=\"24px\"viewBox=\"0 0 24 24\"\n",
              "       width=\"24px\">\n",
              "    <path d=\"M0 0h24v24H0V0z\" fill=\"none\"/>\n",
              "    <path d=\"M18.56 5.44l.94 2.06.94-2.06 2.06-.94-2.06-.94-.94-2.06-.94 2.06-2.06.94zm-11 1L8.5 8.5l.94-2.06 2.06-.94-2.06-.94L8.5 2.5l-.94 2.06-2.06.94zm10 10l.94 2.06.94-2.06 2.06-.94-2.06-.94-.94-2.06-.94 2.06-2.06.94z\"/><path d=\"M17.41 7.96l-1.37-1.37c-.4-.4-.92-.59-1.43-.59-.52 0-1.04.2-1.43.59L10.3 9.45l-7.72 7.72c-.78.78-.78 2.05 0 2.83L4 21.41c.39.39.9.59 1.41.59.51 0 1.02-.2 1.41-.59l7.78-7.78 2.81-2.81c.8-.78.8-2.07 0-2.86zM5.41 20L4 18.59l7.72-7.72 1.47 1.35L5.41 20z\"/>\n",
              "  </svg>\n",
              "      </button>\n",
              "      \n",
              "  <style>\n",
              "    .colab-df-container {\n",
              "      display:flex;\n",
              "      flex-wrap:wrap;\n",
              "      gap: 12px;\n",
              "    }\n",
              "\n",
              "    .colab-df-convert {\n",
              "      background-color: #E8F0FE;\n",
              "      border: none;\n",
              "      border-radius: 50%;\n",
              "      cursor: pointer;\n",
              "      display: none;\n",
              "      fill: #1967D2;\n",
              "      height: 32px;\n",
              "      padding: 0 0 0 0;\n",
              "      width: 32px;\n",
              "    }\n",
              "\n",
              "    .colab-df-convert:hover {\n",
              "      background-color: #E2EBFA;\n",
              "      box-shadow: 0px 1px 2px rgba(60, 64, 67, 0.3), 0px 1px 3px 1px rgba(60, 64, 67, 0.15);\n",
              "      fill: #174EA6;\n",
              "    }\n",
              "\n",
              "    [theme=dark] .colab-df-convert {\n",
              "      background-color: #3B4455;\n",
              "      fill: #D2E3FC;\n",
              "    }\n",
              "\n",
              "    [theme=dark] .colab-df-convert:hover {\n",
              "      background-color: #434B5C;\n",
              "      box-shadow: 0px 1px 3px 1px rgba(0, 0, 0, 0.15);\n",
              "      filter: drop-shadow(0px 1px 2px rgba(0, 0, 0, 0.3));\n",
              "      fill: #FFFFFF;\n",
              "    }\n",
              "  </style>\n",
              "\n",
              "      <script>\n",
              "        const buttonEl =\n",
              "          document.querySelector('#df-1a512719-6e7d-4966-828c-c4f35a867c7c button.colab-df-convert');\n",
              "        buttonEl.style.display =\n",
              "          google.colab.kernel.accessAllowed ? 'block' : 'none';\n",
              "\n",
              "        async function convertToInteractive(key) {\n",
              "          const element = document.querySelector('#df-1a512719-6e7d-4966-828c-c4f35a867c7c');\n",
              "          const dataTable =\n",
              "            await google.colab.kernel.invokeFunction('convertToInteractive',\n",
              "                                                     [key], {});\n",
              "          if (!dataTable) return;\n",
              "\n",
              "          const docLinkHtml = 'Like what you see? Visit the ' +\n",
              "            '<a target=\"_blank\" href=https://colab.research.google.com/notebooks/data_table.ipynb>data table notebook</a>'\n",
              "            + ' to learn more about interactive tables.';\n",
              "          element.innerHTML = '';\n",
              "          dataTable['output_type'] = 'display_data';\n",
              "          await google.colab.output.renderOutput(dataTable, element);\n",
              "          const docLink = document.createElement('div');\n",
              "          docLink.innerHTML = docLinkHtml;\n",
              "          element.appendChild(docLink);\n",
              "        }\n",
              "      </script>\n",
              "    </div>\n",
              "  </div>\n",
              "  "
            ],
            "text/plain": [
              "    min_salary  max_salary\n",
              "0            0           0\n",
              "1            0           0\n",
              "2            0           0\n",
              "3            0           0\n",
              "4            0           0\n",
              "5            0           0\n",
              "6        20000       28000\n",
              "7            0           0\n",
              "8            0           0\n",
              "9            0           0\n",
              "10      100000      120000"
            ]
          },
          "metadata": {},
          "execution_count": 28
        }
      ]
    },
    {
      "cell_type": "code",
      "source": [
        "df['min_salary'] = df_salary_range['min_salary']\n",
        "df['max_salary'] = df_salary_range['max_salary']\n",
        "\n",
        "#создам дополнительный признак, указывающий на присутствие зп\n",
        "df['salary_specified'] = ((df.min_salary != 0) | \n",
        "                                         (df.max_salary != 0)).astype('int64')"
      ],
      "metadata": {
        "id": "gFWf9xlU0Y15"
      },
      "execution_count": 29,
      "outputs": []
    },
    {
      "cell_type": "code",
      "source": [
        "bin_cols.append('salary_specified')\n",
        "df.drop('salary_range', axis=1, inplace=True) #удалю этот признак так как он больше не нужен"
      ],
      "metadata": {
        "id": "Tw1EZjg7VZZq"
      },
      "execution_count": 30,
      "outputs": []
    },
    {
      "cell_type": "code",
      "source": [
        "df.head(1)"
      ],
      "metadata": {
        "colab": {
          "base_uri": "https://localhost:8080/",
          "height": 197
        },
        "id": "z09_-Yq_9m-H",
        "outputId": "7448df10-abe7-448f-e245-79099395485a"
      },
      "execution_count": 31,
      "outputs": [
        {
          "output_type": "execute_result",
          "data": {
            "text/html": [
              "\n",
              "  <div id=\"df-f1c5474a-075b-43f8-ac07-6f076b1a818d\">\n",
              "    <div class=\"colab-df-container\">\n",
              "      <div>\n",
              "<style scoped>\n",
              "    .dataframe tbody tr th:only-of-type {\n",
              "        vertical-align: middle;\n",
              "    }\n",
              "\n",
              "    .dataframe tbody tr th {\n",
              "        vertical-align: top;\n",
              "    }\n",
              "\n",
              "    .dataframe thead th {\n",
              "        text-align: right;\n",
              "    }\n",
              "</style>\n",
              "<table border=\"1\" class=\"dataframe\">\n",
              "  <thead>\n",
              "    <tr style=\"text-align: right;\">\n",
              "      <th></th>\n",
              "      <th>title</th>\n",
              "      <th>location</th>\n",
              "      <th>department</th>\n",
              "      <th>company_profile</th>\n",
              "      <th>description</th>\n",
              "      <th>requirements</th>\n",
              "      <th>benefits</th>\n",
              "      <th>telecommuting</th>\n",
              "      <th>has_company_logo</th>\n",
              "      <th>has_questions</th>\n",
              "      <th>employment_type</th>\n",
              "      <th>required_experience</th>\n",
              "      <th>required_education</th>\n",
              "      <th>industry</th>\n",
              "      <th>function</th>\n",
              "      <th>fraudulent</th>\n",
              "      <th>min_salary</th>\n",
              "      <th>max_salary</th>\n",
              "      <th>salary_specified</th>\n",
              "    </tr>\n",
              "  </thead>\n",
              "  <tbody>\n",
              "    <tr>\n",
              "      <th>0</th>\n",
              "      <td>Marketing Intern</td>\n",
              "      <td>US, NY, New York</td>\n",
              "      <td>Marketing</td>\n",
              "      <td>We're Food52, and we've created a groundbreaki...</td>\n",
              "      <td>Food52, a fast-growing, James Beard Award-winn...</td>\n",
              "      <td>Experience with content management systems a m...</td>\n",
              "      <td></td>\n",
              "      <td>0</td>\n",
              "      <td>1</td>\n",
              "      <td>0</td>\n",
              "      <td>Other</td>\n",
              "      <td>Internship</td>\n",
              "      <td>Unspecified</td>\n",
              "      <td>Unspecified</td>\n",
              "      <td>Marketing</td>\n",
              "      <td>0</td>\n",
              "      <td>0</td>\n",
              "      <td>0</td>\n",
              "      <td>0</td>\n",
              "    </tr>\n",
              "  </tbody>\n",
              "</table>\n",
              "</div>\n",
              "      <button class=\"colab-df-convert\" onclick=\"convertToInteractive('df-f1c5474a-075b-43f8-ac07-6f076b1a818d')\"\n",
              "              title=\"Convert this dataframe to an interactive table.\"\n",
              "              style=\"display:none;\">\n",
              "        \n",
              "  <svg xmlns=\"http://www.w3.org/2000/svg\" height=\"24px\"viewBox=\"0 0 24 24\"\n",
              "       width=\"24px\">\n",
              "    <path d=\"M0 0h24v24H0V0z\" fill=\"none\"/>\n",
              "    <path d=\"M18.56 5.44l.94 2.06.94-2.06 2.06-.94-2.06-.94-.94-2.06-.94 2.06-2.06.94zm-11 1L8.5 8.5l.94-2.06 2.06-.94-2.06-.94L8.5 2.5l-.94 2.06-2.06.94zm10 10l.94 2.06.94-2.06 2.06-.94-2.06-.94-.94-2.06-.94 2.06-2.06.94z\"/><path d=\"M17.41 7.96l-1.37-1.37c-.4-.4-.92-.59-1.43-.59-.52 0-1.04.2-1.43.59L10.3 9.45l-7.72 7.72c-.78.78-.78 2.05 0 2.83L4 21.41c.39.39.9.59 1.41.59.51 0 1.02-.2 1.41-.59l7.78-7.78 2.81-2.81c.8-.78.8-2.07 0-2.86zM5.41 20L4 18.59l7.72-7.72 1.47 1.35L5.41 20z\"/>\n",
              "  </svg>\n",
              "      </button>\n",
              "      \n",
              "  <style>\n",
              "    .colab-df-container {\n",
              "      display:flex;\n",
              "      flex-wrap:wrap;\n",
              "      gap: 12px;\n",
              "    }\n",
              "\n",
              "    .colab-df-convert {\n",
              "      background-color: #E8F0FE;\n",
              "      border: none;\n",
              "      border-radius: 50%;\n",
              "      cursor: pointer;\n",
              "      display: none;\n",
              "      fill: #1967D2;\n",
              "      height: 32px;\n",
              "      padding: 0 0 0 0;\n",
              "      width: 32px;\n",
              "    }\n",
              "\n",
              "    .colab-df-convert:hover {\n",
              "      background-color: #E2EBFA;\n",
              "      box-shadow: 0px 1px 2px rgba(60, 64, 67, 0.3), 0px 1px 3px 1px rgba(60, 64, 67, 0.15);\n",
              "      fill: #174EA6;\n",
              "    }\n",
              "\n",
              "    [theme=dark] .colab-df-convert {\n",
              "      background-color: #3B4455;\n",
              "      fill: #D2E3FC;\n",
              "    }\n",
              "\n",
              "    [theme=dark] .colab-df-convert:hover {\n",
              "      background-color: #434B5C;\n",
              "      box-shadow: 0px 1px 3px 1px rgba(0, 0, 0, 0.15);\n",
              "      filter: drop-shadow(0px 1px 2px rgba(0, 0, 0, 0.3));\n",
              "      fill: #FFFFFF;\n",
              "    }\n",
              "  </style>\n",
              "\n",
              "      <script>\n",
              "        const buttonEl =\n",
              "          document.querySelector('#df-f1c5474a-075b-43f8-ac07-6f076b1a818d button.colab-df-convert');\n",
              "        buttonEl.style.display =\n",
              "          google.colab.kernel.accessAllowed ? 'block' : 'none';\n",
              "\n",
              "        async function convertToInteractive(key) {\n",
              "          const element = document.querySelector('#df-f1c5474a-075b-43f8-ac07-6f076b1a818d');\n",
              "          const dataTable =\n",
              "            await google.colab.kernel.invokeFunction('convertToInteractive',\n",
              "                                                     [key], {});\n",
              "          if (!dataTable) return;\n",
              "\n",
              "          const docLinkHtml = 'Like what you see? Visit the ' +\n",
              "            '<a target=\"_blank\" href=https://colab.research.google.com/notebooks/data_table.ipynb>data table notebook</a>'\n",
              "            + ' to learn more about interactive tables.';\n",
              "          element.innerHTML = '';\n",
              "          dataTable['output_type'] = 'display_data';\n",
              "          await google.colab.output.renderOutput(dataTable, element);\n",
              "          const docLink = document.createElement('div');\n",
              "          docLink.innerHTML = docLinkHtml;\n",
              "          element.appendChild(docLink);\n",
              "        }\n",
              "      </script>\n",
              "    </div>\n",
              "  </div>\n",
              "  "
            ],
            "text/plain": [
              "              title          location department  \\\n",
              "0  Marketing Intern  US, NY, New York  Marketing   \n",
              "\n",
              "                                     company_profile  \\\n",
              "0  We're Food52, and we've created a groundbreaki...   \n",
              "\n",
              "                                         description  \\\n",
              "0  Food52, a fast-growing, James Beard Award-winn...   \n",
              "\n",
              "                                        requirements benefits  telecommuting  \\\n",
              "0  Experience with content management systems a m...                       0   \n",
              "\n",
              "   has_company_logo  has_questions employment_type required_experience  \\\n",
              "0                 1              0           Other          Internship   \n",
              "\n",
              "  required_education     industry   function  fraudulent  min_salary  \\\n",
              "0        Unspecified  Unspecified  Marketing           0           0   \n",
              "\n",
              "   max_salary  salary_specified  \n",
              "0           0                 0  "
            ]
          },
          "metadata": {},
          "execution_count": 31
        }
      ]
    },
    {
      "cell_type": "code",
      "source": [
        "   #Сделаю функцию для дальнейшего вызова кросс-валидации на 5 фолдах:\n",
        "def Catboostcl(X,y,cat_features,text_features):\n",
        "\n",
        "  cv = KFold(n_splits = 5, random_state=42, shuffle=True)\n",
        "  global model\n",
        "  scores = []\n",
        "  for train_index, test_index in cv.split(X):\n",
        "      X_train, X_test = X[train_index], X[test_index]\n",
        "      y_train, y_test = y[train_index], y[test_index]\n",
        "      #Сбалансирую таргет:\n",
        "      sample_weight= np.array(y_train.apply( lambda x: 1/19.6 if x==1 else 1))\n",
        "\n",
        "      model = CatBoostClassifier(iterations=200,\n",
        "                             verbose=False,\n",
        "                             loss_function='Logloss',\n",
        "                             eval_metric = 'F1',\n",
        "                             cat_features=cat_features, #определили и передали категориальные признаки\n",
        "                             text_features=text_features  #определили и передали текстовые признаки\n",
        "                             ).fit(X_train, y_train, eval_set=(X_test, y_test),\n",
        "                             sample_weight=sample_weight,      \n",
        "                             use_best_model=True,)\n",
        "\n",
        "    # сделаем предсказание\n",
        "      preds = model.predict(X_test)\n",
        "      score = f1_score(y_test, preds)\n",
        "      scores.append(score)\n",
        "# оценим итоги. Взглянем на усредненное значение метрики по блокам\n",
        "  print(f'MEAN F1: {np.mean(scores) * 100:.2f}%')"
      ],
      "metadata": {
        "id": "7et-eTKYYE12"
      },
      "execution_count": 28,
      "outputs": []
    },
    {
      "cell_type": "code",
      "source": [
        "#попробуйю удалить признак и посмотреть на точность\n",
        "X = df.drop(['fraudulent'], axis=1).fillna(0).values\n",
        "y = df['fraudulent']\n",
        "cat_features = list(range(10,15))\n",
        "text_features = list(range(0,7))\n",
        "Catboostcl(X,y,cat_features,text_features)"
      ],
      "metadata": {
        "id": "P7ljMS4ErHn-",
        "colab": {
          "base_uri": "https://localhost:8080/"
        },
        "outputId": "fcf8ba03-cdd4-4d8c-92cd-e897ff0420b2"
      },
      "execution_count": 29,
      "outputs": [
        {
          "output_type": "stream",
          "name": "stdout",
          "text": [
            "MEAN F1: 40.02%\n"
          ]
        }
      ]
    },
    {
      "cell_type": "markdown",
      "source": [
        "Оценка важности признаков:"
      ],
      "metadata": {
        "id": "nsRiiSIEyqDm"
      }
    },
    {
      "cell_type": "code",
      "source": [
        "def feat_importance(data3):\n",
        "  X = data3.drop(['fraudulent'], axis=1).fillna(0)\n",
        "  feat_importances = pd.Series(model.feature_importances_, index=X.columns)\n",
        "  feat_importances.nlargest(20).plot(kind='barh')\n",
        "feat_importance(df)"
      ],
      "metadata": {
        "id": "Bkb79onCobqF",
        "colab": {
          "base_uri": "https://localhost:8080/",
          "height": 265
        },
        "outputId": "b3ed5aa1-f00d-416b-b1c1-bf93d57fc027"
      },
      "execution_count": 30,
      "outputs": [
        {
          "output_type": "display_data",
          "data": {
            "image/png": "[encoded data removed]",
            "text/plain": [
              "<Figure size 432x288 with 1 Axes>"
            ]
          },
          "metadata": {
            "needs_background": "light"
          }
        }
      ]
    },
    {
      "cell_type": "markdown",
      "source": [
        "Судя по графику,можно сделать вывод,что признак 'company profile' имеет очень большое вляние на целевую переменную,поэтому имеет смысл избавится от него"
      ],
      "metadata": {
        "id": "613hIriUyxQN"
      }
    },
    {
      "cell_type": "markdown",
      "source": [
        "проделав работу над бейзлайном, мы:\n",
        "\n",
        "* получили базовое значение метрики качества, с которым будем далее сравнивать изменения в датасете и которое будем стараться улучшить. \n",
        "* получили предварительную информацию о важности признаков."
      ],
      "metadata": {
        "id": "CKi4nX1vz9um"
      }
    },
    {
      "cell_type": "markdown",
      "metadata": {
        "id": "3lLMiIDEz7Wr"
      },
      "source": [
        "# EDA"
      ]
    },
    {
      "cell_type": "code",
      "source": [
        "df.head(1)"
      ],
      "metadata": {
        "id": "WD2TfPCW9xfS",
        "colab": {
          "base_uri": "https://localhost:8080/",
          "height": 197
        },
        "outputId": "34360ef7-6da1-44a2-8f0a-20335f638cc5"
      },
      "execution_count": 32,
      "outputs": [
        {
          "output_type": "execute_result",
          "data": {
            "text/html": [
              "\n",
              "  <div id=\"df-06b1063a-9fe7-4c8e-a2c6-76f29b89cd20\">\n",
              "    <div class=\"colab-df-container\">\n",
              "      <div>\n",
              "<style scoped>\n",
              "    .dataframe tbody tr th:only-of-type {\n",
              "        vertical-align: middle;\n",
              "    }\n",
              "\n",
              "    .dataframe tbody tr th {\n",
              "        vertical-align: top;\n",
              "    }\n",
              "\n",
              "    .dataframe thead th {\n",
              "        text-align: right;\n",
              "    }\n",
              "</style>\n",
              "<table border=\"1\" class=\"dataframe\">\n",
              "  <thead>\n",
              "    <tr style=\"text-align: right;\">\n",
              "      <th></th>\n",
              "      <th>title</th>\n",
              "      <th>location</th>\n",
              "      <th>department</th>\n",
              "      <th>company_profile</th>\n",
              "      <th>description</th>\n",
              "      <th>requirements</th>\n",
              "      <th>benefits</th>\n",
              "      <th>telecommuting</th>\n",
              "      <th>has_company_logo</th>\n",
              "      <th>has_questions</th>\n",
              "      <th>employment_type</th>\n",
              "      <th>required_experience</th>\n",
              "      <th>required_education</th>\n",
              "      <th>industry</th>\n",
              "      <th>function</th>\n",
              "      <th>fraudulent</th>\n",
              "      <th>min_salary</th>\n",
              "      <th>max_salary</th>\n",
              "      <th>salary_specified</th>\n",
              "    </tr>\n",
              "  </thead>\n",
              "  <tbody>\n",
              "    <tr>\n",
              "      <th>0</th>\n",
              "      <td>Marketing Intern</td>\n",
              "      <td>US, NY, New York</td>\n",
              "      <td>Marketing</td>\n",
              "      <td>We're Food52, and we've created a groundbreaki...</td>\n",
              "      <td>Food52, a fast-growing, James Beard Award-winn...</td>\n",
              "      <td>Experience with content management systems a m...</td>\n",
              "      <td></td>\n",
              "      <td>0</td>\n",
              "      <td>1</td>\n",
              "      <td>0</td>\n",
              "      <td>Other</td>\n",
              "      <td>Internship</td>\n",
              "      <td>Unspecified</td>\n",
              "      <td>Unspecified</td>\n",
              "      <td>Marketing</td>\n",
              "      <td>0</td>\n",
              "      <td>0</td>\n",
              "      <td>0</td>\n",
              "      <td>0</td>\n",
              "    </tr>\n",
              "  </tbody>\n",
              "</table>\n",
              "</div>\n",
              "      <button class=\"colab-df-convert\" onclick=\"convertToInteractive('df-06b1063a-9fe7-4c8e-a2c6-76f29b89cd20')\"\n",
              "              title=\"Convert this dataframe to an interactive table.\"\n",
              "              style=\"display:none;\">\n",
              "        \n",
              "  <svg xmlns=\"http://www.w3.org/2000/svg\" height=\"24px\"viewBox=\"0 0 24 24\"\n",
              "       width=\"24px\">\n",
              "    <path d=\"M0 0h24v24H0V0z\" fill=\"none\"/>\n",
              "    <path d=\"M18.56 5.44l.94 2.06.94-2.06 2.06-.94-2.06-.94-.94-2.06-.94 2.06-2.06.94zm-11 1L8.5 8.5l.94-2.06 2.06-.94-2.06-.94L8.5 2.5l-.94 2.06-2.06.94zm10 10l.94 2.06.94-2.06 2.06-.94-2.06-.94-.94-2.06-.94 2.06-2.06.94z\"/><path d=\"M17.41 7.96l-1.37-1.37c-.4-.4-.92-.59-1.43-.59-.52 0-1.04.2-1.43.59L10.3 9.45l-7.72 7.72c-.78.78-.78 2.05 0 2.83L4 21.41c.39.39.9.59 1.41.59.51 0 1.02-.2 1.41-.59l7.78-7.78 2.81-2.81c.8-.78.8-2.07 0-2.86zM5.41 20L4 18.59l7.72-7.72 1.47 1.35L5.41 20z\"/>\n",
              "  </svg>\n",
              "      </button>\n",
              "      \n",
              "  <style>\n",
              "    .colab-df-container {\n",
              "      display:flex;\n",
              "      flex-wrap:wrap;\n",
              "      gap: 12px;\n",
              "    }\n",
              "\n",
              "    .colab-df-convert {\n",
              "      background-color: #E8F0FE;\n",
              "      border: none;\n",
              "      border-radius: 50%;\n",
              "      cursor: pointer;\n",
              "      display: none;\n",
              "      fill: #1967D2;\n",
              "      height: 32px;\n",
              "      padding: 0 0 0 0;\n",
              "      width: 32px;\n",
              "    }\n",
              "\n",
              "    .colab-df-convert:hover {\n",
              "      background-color: #E2EBFA;\n",
              "      box-shadow: 0px 1px 2px rgba(60, 64, 67, 0.3), 0px 1px 3px 1px rgba(60, 64, 67, 0.15);\n",
              "      fill: #174EA6;\n",
              "    }\n",
              "\n",
              "    [theme=dark] .colab-df-convert {\n",
              "      background-color: #3B4455;\n",
              "      fill: #D2E3FC;\n",
              "    }\n",
              "\n",
              "    [theme=dark] .colab-df-convert:hover {\n",
              "      background-color: #434B5C;\n",
              "      box-shadow: 0px 1px 3px 1px rgba(0, 0, 0, 0.15);\n",
              "      filter: drop-shadow(0px 1px 2px rgba(0, 0, 0, 0.3));\n",
              "      fill: #FFFFFF;\n",
              "    }\n",
              "  </style>\n",
              "\n",
              "      <script>\n",
              "        const buttonEl =\n",
              "          document.querySelector('#df-06b1063a-9fe7-4c8e-a2c6-76f29b89cd20 button.colab-df-convert');\n",
              "        buttonEl.style.display =\n",
              "          google.colab.kernel.accessAllowed ? 'block' : 'none';\n",
              "\n",
              "        async function convertToInteractive(key) {\n",
              "          const element = document.querySelector('#df-06b1063a-9fe7-4c8e-a2c6-76f29b89cd20');\n",
              "          const dataTable =\n",
              "            await google.colab.kernel.invokeFunction('convertToInteractive',\n",
              "                                                     [key], {});\n",
              "          if (!dataTable) return;\n",
              "\n",
              "          const docLinkHtml = 'Like what you see? Visit the ' +\n",
              "            '<a target=\"_blank\" href=https://colab.research.google.com/notebooks/data_table.ipynb>data table notebook</a>'\n",
              "            + ' to learn more about interactive tables.';\n",
              "          element.innerHTML = '';\n",
              "          dataTable['output_type'] = 'display_data';\n",
              "          await google.colab.output.renderOutput(dataTable, element);\n",
              "          const docLink = document.createElement('div');\n",
              "          docLink.innerHTML = docLinkHtml;\n",
              "          element.appendChild(docLink);\n",
              "        }\n",
              "      </script>\n",
              "    </div>\n",
              "  </div>\n",
              "  "
            ],
            "text/plain": [
              "              title          location department  \\\n",
              "0  Marketing Intern  US, NY, New York  Marketing   \n",
              "\n",
              "                                     company_profile  \\\n",
              "0  We're Food52, and we've created a groundbreaki...   \n",
              "\n",
              "                                         description  \\\n",
              "0  Food52, a fast-growing, James Beard Award-winn...   \n",
              "\n",
              "                                        requirements benefits  telecommuting  \\\n",
              "0  Experience with content management systems a m...                       0   \n",
              "\n",
              "   has_company_logo  has_questions employment_type required_experience  \\\n",
              "0                 1              0           Other          Internship   \n",
              "\n",
              "  required_education     industry   function  fraudulent  min_salary  \\\n",
              "0        Unspecified  Unspecified  Marketing           0           0   \n",
              "\n",
              "   max_salary  salary_specified  \n",
              "0           0                 0  "
            ]
          },
          "metadata": {},
          "execution_count": 32
        }
      ]
    },
    {
      "cell_type": "code",
      "execution_count": 33,
      "metadata": {
        "id": "5I3KZuTxz7Ws"
      },
      "outputs": [],
      "source": [
        "#подготовлю сразу описание,совмещающее в себе сразу все текстовые признаки для работы с BERToм\n",
        "data =  df['title'] + \" \" + df['department'] + \\\n",
        "             \" \" + df['company_profile'] + \" \" + \\\n",
        "             df['description'] + \" \" + \\\n",
        "             df['requirements'] + \" \" +\\\n",
        "             df['benefits'] + \" \" +\\\n",
        "             df['function'] + \" \" \\"
      ]
    },
    {
      "cell_type": "code",
      "execution_count": 34,
      "metadata": {
        "id": "610sv2eDz7Ws"
      },
      "outputs": [],
      "source": [
        "# Соеденю с целевой переменной в один DF\n",
        "df1=df['fraudulent'] \n",
        "data = pd.concat([data,df1], axis=1)\n",
        "data.columns = ['text', 'fraudulent']"
      ]
    },
    {
      "cell_type": "code",
      "execution_count": 35,
      "metadata": {
        "id": "MWYKJalJz7Wt",
        "colab": {
          "base_uri": "https://localhost:8080/"
        },
        "outputId": "b876ee4a-a5ba-4d7c-ee64-2457be1526aa"
      },
      "outputs": [
        {
          "output_type": "execute_result",
          "data": {
            "text/plain": [
              "text          0\n",
              "fraudulent    0\n",
              "dtype: int64"
            ]
          },
          "metadata": {},
          "execution_count": 35
        }
      ],
      "source": [
        "data.isnull().sum()"
      ]
    },
    {
      "cell_type": "markdown",
      "metadata": {
        "id": "rexp4mmzz7Wt"
      },
      "source": [
        "Рассмотрю теперь каждый признак отдельно:"
      ]
    },
    {
      "cell_type": "markdown",
      "metadata": {
        "id": "__W48RkQz7Wt"
      },
      "source": [
        "**Telecommuting**"
      ]
    },
    {
      "cell_type": "code",
      "execution_count": 35,
      "metadata": {
        "id": "hBykA5vHz7Wt",
        "colab": {
          "base_uri": "https://localhost:8080/",
          "height": 295
        },
        "outputId": "c891a143-297c-40ce-e75b-606dfbddb67a"
      },
      "outputs": [
        {
          "output_type": "display_data",
          "data": {
            "image/png": "[encoded data removed]",
            "text/plain": [
              "<Figure size 432x288 with 1 Axes>"
            ]
          },
          "metadata": {
            "needs_background": "light"
          }
        }
      ],
      "source": [
        "frad_telecom = df.groupby('telecommuting').mean()['fraudulent']\n",
        "plot_image('telecommuting',frad_telecom)"
      ]
    },
    {
      "cell_type": "markdown",
      "metadata": {
        "id": "EuHnScA5z7Wt"
      },
      "source": [
        "На графике видно,что вакансии,которые обещают работу с дома, имеют практически в 2 раза больше вероятность мошенничества. "
      ]
    },
    {
      "cell_type": "markdown",
      "metadata": {
        "id": "RfIa2i-ez7Wt"
      },
      "source": [
        "**Company Logo**"
      ]
    },
    {
      "cell_type": "code",
      "execution_count": 36,
      "metadata": {
        "id": "RGakpMvWz7Wt",
        "colab": {
          "base_uri": "https://localhost:8080/",
          "height": 295
        },
        "outputId": "a87cda23-a2f0-4adc-8eb4-27161939e7ed"
      },
      "outputs": [
        {
          "output_type": "display_data",
          "data": {
            "image/png": "[encoded data removed]",
            "text/plain": [
              "<Figure size 432x288 with 1 Axes>"
            ]
          },
          "metadata": {
            "needs_background": "light"
          }
        }
      ],
      "source": [
        "fraud_logo=df.groupby('has_company_logo').mean()['fraudulent']\n",
        "plot_image('has_company_logo',fraud_logo)"
      ]
    },
    {
      "cell_type": "markdown",
      "metadata": {
        "id": "5wk_SY6pz7Wu"
      },
      "source": [
        "Вакансии, в которых компании без фирменного логотипа, имеют в 8 раз больше вероятность оказаться мошенническими."
      ]
    },
    {
      "cell_type": "code",
      "source": [
        "#попробуйю удалить признак и посмотреть на точность\n",
        "X = df.drop(['fraudulent','has_company_logo'], axis=1).fillna(0).values\n",
        "y = df['fraudulent']\n",
        "cat_features = list(range(9, 14))\n",
        "text_features = list(range(0,7))\n",
        "Catboostcl(X,y,cat_features,text_features)"
      ],
      "metadata": {
        "id": "fD-VU6yU6RuA",
        "colab": {
          "base_uri": "https://localhost:8080/"
        },
        "outputId": "a9cc6ffd-024f-467d-93ee-0fac1409ae6f"
      },
      "execution_count": 37,
      "outputs": [
        {
          "output_type": "stream",
          "name": "stdout",
          "text": [
            "MEAN F1: 41.18%\n"
          ]
        }
      ]
    },
    {
      "cell_type": "code",
      "source": [
        "df.drop(['has_company_logo'], axis=1,inplace=True)"
      ],
      "metadata": {
        "id": "7hGnUiOI7pOz"
      },
      "execution_count": 36,
      "outputs": []
    },
    {
      "cell_type": "markdown",
      "source": [
        "метрика улучшилась,но не на много. Проведу эксперименты в конце и посмотрю,стоит ли удалять"
      ],
      "metadata": {
        "id": "d5arPi5E_Ipl"
      }
    },
    {
      "cell_type": "markdown",
      "metadata": {
        "id": "bGpT0Wy7z7Wu"
      },
      "source": [
        "**Has Question**"
      ]
    },
    {
      "cell_type": "code",
      "execution_count": 39,
      "metadata": {
        "id": "J6wIqR9fz7Wu",
        "colab": {
          "base_uri": "https://localhost:8080/",
          "height": 295
        },
        "outputId": "703d3e8f-94c0-486e-b915-44a2020709aa"
      },
      "outputs": [
        {
          "output_type": "display_data",
          "data": {
            "image/png": "[encoded data removed]",
            "text/plain": [
              "<Figure size 432x288 with 1 Axes>"
            ]
          },
          "metadata": {
            "needs_background": "light"
          }
        }
      ],
      "source": [
        "fraud_question = df.groupby('has_questions').mean()['fraudulent']\n",
        "plot_image('has_questions',fraud_question)"
      ]
    },
    {
      "cell_type": "markdown",
      "metadata": {
        "id": "K3oBlyGoz7Wu"
      },
      "source": [
        "Вакансии, в которых нет вопросов к соискателю, имеют в 3 раза больше вероятность оказаться мошенническими. Отсюда вывод - мошенники не добавляют проверочные вопросы."
      ]
    },
    {
      "cell_type": "markdown",
      "metadata": {
        "id": "aA2_52oUz7Wu"
      },
      "source": [
        "**Employment Type**"
      ]
    },
    {
      "cell_type": "code",
      "execution_count": 40,
      "metadata": {
        "id": "UPrTV0tbz7Wu",
        "colab": {
          "base_uri": "https://localhost:8080/",
          "height": 295
        },
        "outputId": "7a2b5778-8f9f-4867-a180-036765a3b503"
      },
      "outputs": [
        {
          "output_type": "display_data",
          "data": {
            "image/png": "[encoded data removed]",
            "text/plain": [
              "<Figure size 432x288 with 1 Axes>"
            ]
          },
          "metadata": {
            "needs_background": "light"
          }
        }
      ],
      "source": [
        "fraud_type = df.groupby('employment_type').mean()['fraudulent']\n",
        "plot_image('employment_type',fraud_type)"
      ]
    },
    {
      "cell_type": "markdown",
      "metadata": {
        "id": "eeVIEOenz7Wu"
      },
      "source": [
        "Part-time (частичная занятость) работы имеют самый высокий процент (почти 10%) мошенничества. На втором месте вакансии,где не указан тип работы, то есть возможно мошенники не вдаются в подробности вакансии"
      ]
    },
    {
      "cell_type": "markdown",
      "metadata": {
        "id": "8H1L77S0z7Wv"
      },
      "source": [
        "**Required Education**"
      ]
    },
    {
      "cell_type": "code",
      "execution_count": 41,
      "metadata": {
        "id": "ymgg8jh_z7Wv",
        "colab": {
          "base_uri": "https://localhost:8080/"
        },
        "outputId": "3c7c43a2-4250-485d-cd1e-f198992f2441"
      },
      "outputs": [
        {
          "output_type": "execute_result",
          "data": {
            "text/plain": [
              "Unspecified                          9502\n",
              "Bachelor's Degree                    5145\n",
              "High School or equivalent            2080\n",
              "Master's Degree                       416\n",
              "Associate Degree                      274\n",
              "Certification                         170\n",
              "Some College Coursework Completed     102\n",
              "Professional                           74\n",
              "Vocational                             49\n",
              "Some High School Coursework            27\n",
              "Doctorate                              26\n",
              "Vocational - HS Diploma                 9\n",
              "Vocational - Degree                     6\n",
              "Name: required_education, dtype: int64"
            ]
          },
          "metadata": {},
          "execution_count": 41
        }
      ],
      "source": [
        "df.required_education.value_counts()"
      ]
    },
    {
      "cell_type": "code",
      "execution_count": 42,
      "metadata": {
        "id": "MwUwCnYbz7Wv",
        "colab": {
          "base_uri": "https://localhost:8080/",
          "height": 387
        },
        "outputId": "7e5536b5-13ac-4744-87a3-ebfae3508c07"
      },
      "outputs": [
        {
          "output_type": "stream",
          "name": "stdout",
          "text": [
            "index 1: Associate Degree, index 2: Bachelor's Degree, index 3: Certification, index 4: Doctorate, index 5: High School or equivalent, index 6: Master's Degree, index 7: Professional, index 8: Some College Coursework Completed, index 9: Some High School Coursework, index 10: Unspecified, index 11: Vocational, index 12: Vocational - Degree, index 13: Vocational - HS Diploma, "
          ]
        },
        {
          "output_type": "display_data",
          "data": {
            "image/png": "[encoded data removed]",
            "text/plain": [
              "<Figure size 1080x360 with 1 Axes>"
            ]
          },
          "metadata": {
            "needs_background": "light"
          }
        }
      ],
      "source": [
        "fraud_educ = df.groupby('required_education').mean()['fraudulent']\n",
        "for k,l in enumerate(np.array(fraud_educ.index,dtype='str')):\n",
        "    print(f'index {k+1}: {l}',end=\", \")\n",
        "    \n",
        "plt.figure(figsize=(15,5))\n",
        "plt.title('required_education')\n",
        "plt.xlabel('index')\n",
        "plt.ylabel('percentage of fraudulent')\n",
        "plt.xticks(np.arange(1,len(fraud_educ)+1,1))\n",
        "plt.bar(np.arange(1,len(fraud_educ)+1,1),fraud_educ)\n",
        "plt.show()"
      ]
    },
    {
      "cell_type": "markdown",
      "metadata": {
        "id": "VaQ_ibPuz7Wv"
      },
      "source": [
        "Очень заметно,что вакансии, где указано требование \"Some High School Coursework\" (незаконченное среднее образование) являются нереальными (примерно 70%). Кстати, сертификаты тоже имеют большой процент - около 10%.  Похоже, что мошенники, как правило, нацелены на молодых людей со степенью бакалавра или дипломом средней школы, которые ищут работу на полную ставку."
      ]
    },
    {
      "cell_type": "markdown",
      "source": [
        "**Salary Range**"
      ],
      "metadata": {
        "id": "CK6l00-J2GK9"
      }
    },
    {
      "cell_type": "markdown",
      "metadata": {
        "id": "4PhmOgiLz7Wx"
      },
      "source": [
        "парсинг значений мы уже выполнили для бейзлайна. Посмотрим теперь на распределение минимальной и максимальной зп:"
      ]
    },
    {
      "cell_type": "code",
      "source": [
        "salary =['min_salary','max_salary']\n",
        "fig, axes = plt.subplots(1, 2, figsize=(15, 7))\n",
        "\n",
        "for i, feature_name in enumerate(salary):\n",
        "    sns.boxplot(y=feature_name, x='fraudulent', data=df[df.salary_specified == 1], ax=axes[i])\n",
        "    axes[i].set_ylim([-1e4, 2e5])\n",
        "    axes[i].set_xticklabels(['non-fraudulent', 'fraudulent'])\n",
        "    axes[i].set_title(f'Distributions of specified {feature_name}')\n",
        "\n",
        "fig.suptitle('Distributions of min_salary and max_salary')\n",
        "fig.show()"
      ],
      "metadata": {
        "colab": {
          "base_uri": "https://localhost:8080/",
          "height": 493
        },
        "id": "J3UNZDJE6D0c",
        "outputId": "22227fda-5aaa-4395-91b3-9065eb8453f5"
      },
      "execution_count": 43,
      "outputs": [
        {
          "output_type": "display_data",
          "data": {
            "image/png": "[encoded data removed]",
            "text/plain": [
              "<Figure size 1080x504 with 2 Axes>"
            ]
          },
          "metadata": {
            "needs_background": "light"
          }
        }
      ]
    },
    {
      "cell_type": "markdown",
      "metadata": {
        "id": "eW0oEO-Ez7Wx"
      },
      "source": [
        "Можно заметить странный факт,что нереальные вакансии обычно предлагают меньшую заработную плату"
      ]
    },
    {
      "cell_type": "code",
      "source": [
        "#создам новый признак - разница между макс и мин зарплатой\n",
        "df['delta_salary'] = df['max_salary'] - df['min_salary']\n",
        "num_cols = ['delta_salary']"
      ],
      "metadata": {
        "id": "FXKrmaIsOWzr"
      },
      "execution_count": 37,
      "outputs": []
    },
    {
      "cell_type": "markdown",
      "metadata": {
        "id": "9YsfO96Gz7Wy"
      },
      "source": [
        "**Location**"
      ]
    },
    {
      "cell_type": "markdown",
      "metadata": {
        "id": "291nGnzEz7Wy"
      },
      "source": [
        "В основном наш признак содержит информацию о стране,штате и городе. Попробую извлечь эту информацию в отдельные колонки (в дальнейшем категориальные)"
      ]
    },
    {
      "cell_type": "code",
      "execution_count": 45,
      "metadata": {
        "id": "Eo8Tw27Bz7Wy",
        "colab": {
          "base_uri": "https://localhost:8080/",
          "height": 394
        },
        "outputId": "37a3e70e-5787-4ac9-de54-c2d1779ed3f6"
      },
      "outputs": [
        {
          "output_type": "display_data",
          "data": {
            "image/png": "[encoded data removed]",
            "text/plain": [
              "<Figure size 432x288 with 1 Axes>"
            ]
          },
          "metadata": {
            "needs_background": "light"
          }
        }
      ],
      "source": [
        "sns.countplot(x=df['location'],data=df, hue=\"fraudulent\",\n",
        "              order=df['location'].value_counts().iloc[:10].index)\n",
        "plt.xticks(rotation=90)\n",
        "title = df['location'] + ' fake job count'\n",
        "plt.title('Location Fake Jobs')\n",
        "plt.show()"
      ]
    },
    {
      "cell_type": "markdown",
      "metadata": {
        "id": "UAG85toTz7Wy"
      },
      "source": [
        "Посмотрев на график происхождения фейковых работ,можно сделать вывод ,что в основном они в США, а это значит, что в Европейских странах это встречается реже"
      ]
    },
    {
      "cell_type": "code",
      "execution_count": 38,
      "metadata": {
        "id": "YfRax_tFz7Wy",
        "colab": {
          "base_uri": "https://localhost:8080/"
        },
        "outputId": "a05ce49c-4a8d-4574-c7d6-8cfdae2434b1"
      },
      "outputs": [
        {
          "output_type": "execute_result",
          "data": {
            "text/plain": [
              "[['US', 'NY', 'New York'],\n",
              " ['NZ', '', 'Auckland'],\n",
              " ['US', 'IA', 'Wever'],\n",
              " ['US', 'DC', 'Washington'],\n",
              " ['US', 'FL', 'Fort Worth']]"
            ]
          },
          "metadata": {},
          "execution_count": 38
        }
      ],
      "source": [
        "splitted_location = list(df['location'].str.split(', ').values)\n",
        "splitted_location[:5]"
      ]
    },
    {
      "cell_type": "code",
      "execution_count": 39,
      "metadata": {
        "id": "dFcfqdirz7Wy",
        "colab": {
          "base_uri": "https://localhost:8080/"
        },
        "outputId": "66a53ac0-7381-4e54-a11a-4e671b083cd3"
      },
      "outputs": [
        {
          "output_type": "execute_result",
          "data": {
            "text/plain": [
              "[['SG', '01', 'Singapore'],\n",
              " ['IL', 'Unpecified', 'Tel Aviv', 'Israel'],\n",
              " ['GB', 'SOS', 'Southend-on-Sea'],\n",
              " ['US', 'NY', 'New York'],\n",
              " ['US', 'PA', 'USA Northeast']]"
            ]
          },
          "metadata": {},
          "execution_count": 39
        }
      ],
      "source": [
        "#Заполню пропуски -'Unpecified'\n",
        "for l_ind, l in enumerate(splitted_location):\n",
        "    if l is np.nan:\n",
        "        splitted_location[l_ind] = ['Unpecified'] * 3\n",
        "    else:\n",
        "        for el_ind, el in enumerate(l):\n",
        "            if el == '':\n",
        "                l[el_ind] = 'Unpecified'\n",
        "splitted_location[15:20]"
      ]
    },
    {
      "cell_type": "markdown",
      "metadata": {
        "id": "NeSyYmQ5z7Wy"
      },
      "source": [
        "Но в некоторых странах есть и по 4 значения,и меньше 3. Попробую исправить это"
      ]
    },
    {
      "cell_type": "code",
      "execution_count": 40,
      "metadata": {
        "id": "d6r33U8Xz7Wy"
      },
      "outputs": [],
      "source": [
        "splitted_location = list(map(lambda l: list(l), splitted_location))\n",
        "\n",
        "for l_ind, l in enumerate(splitted_location):\n",
        "    if len(l) > 3:\n",
        "        splitted_location[l_ind] = l[:2] + [', '.join(l[2:])]\n",
        "    if len(l) < 3:\n",
        "        splitted_location[l_ind] += ['Unpecified'] * 2"
      ]
    },
    {
      "cell_type": "code",
      "execution_count": 41,
      "metadata": {
        "id": "2eQVdJJ_z7Wz",
        "colab": {
          "base_uri": "https://localhost:8080/"
        },
        "outputId": "b90331e9-8633-4189-ea0a-6e6b30ac93ca"
      },
      "outputs": [
        {
          "output_type": "execute_result",
          "data": {
            "text/plain": [
              "False"
            ]
          },
          "metadata": {},
          "execution_count": 41
        }
      ],
      "source": [
        "#Проверю,есть ли еще ошибочные значения\n",
        "any([len(loc) != 3 for loc in splitted_location])"
      ]
    },
    {
      "cell_type": "code",
      "execution_count": 42,
      "metadata": {
        "id": "0vdCoQV9z7Wz",
        "colab": {
          "base_uri": "https://localhost:8080/",
          "height": 206
        },
        "outputId": "081792cf-8a0f-4533-d09c-139145688b42"
      },
      "outputs": [
        {
          "output_type": "execute_result",
          "data": {
            "text/html": [
              "\n",
              "  <div id=\"df-f81e8012-6668-4a00-b275-154195dd9393\">\n",
              "    <div class=\"colab-df-container\">\n",
              "      <div>\n",
              "<style scoped>\n",
              "    .dataframe tbody tr th:only-of-type {\n",
              "        vertical-align: middle;\n",
              "    }\n",
              "\n",
              "    .dataframe tbody tr th {\n",
              "        vertical-align: top;\n",
              "    }\n",
              "\n",
              "    .dataframe thead th {\n",
              "        text-align: right;\n",
              "    }\n",
              "</style>\n",
              "<table border=\"1\" class=\"dataframe\">\n",
              "  <thead>\n",
              "    <tr style=\"text-align: right;\">\n",
              "      <th></th>\n",
              "      <th>country</th>\n",
              "      <th>state</th>\n",
              "      <th>city</th>\n",
              "    </tr>\n",
              "  </thead>\n",
              "  <tbody>\n",
              "    <tr>\n",
              "      <th>0</th>\n",
              "      <td>US</td>\n",
              "      <td>NY</td>\n",
              "      <td>New York</td>\n",
              "    </tr>\n",
              "    <tr>\n",
              "      <th>1</th>\n",
              "      <td>NZ</td>\n",
              "      <td>Unpecified</td>\n",
              "      <td>Auckland</td>\n",
              "    </tr>\n",
              "    <tr>\n",
              "      <th>2</th>\n",
              "      <td>US</td>\n",
              "      <td>IA</td>\n",
              "      <td>Wever</td>\n",
              "    </tr>\n",
              "    <tr>\n",
              "      <th>3</th>\n",
              "      <td>US</td>\n",
              "      <td>DC</td>\n",
              "      <td>Washington</td>\n",
              "    </tr>\n",
              "    <tr>\n",
              "      <th>4</th>\n",
              "      <td>US</td>\n",
              "      <td>FL</td>\n",
              "      <td>Fort Worth</td>\n",
              "    </tr>\n",
              "  </tbody>\n",
              "</table>\n",
              "</div>\n",
              "      <button class=\"colab-df-convert\" onclick=\"convertToInteractive('df-f81e8012-6668-4a00-b275-154195dd9393')\"\n",
              "              title=\"Convert this dataframe to an interactive table.\"\n",
              "              style=\"display:none;\">\n",
              "        \n",
              "  <svg xmlns=\"http://www.w3.org/2000/svg\" height=\"24px\"viewBox=\"0 0 24 24\"\n",
              "       width=\"24px\">\n",
              "    <path d=\"M0 0h24v24H0V0z\" fill=\"none\"/>\n",
              "    <path d=\"M18.56 5.44l.94 2.06.94-2.06 2.06-.94-2.06-.94-.94-2.06-.94 2.06-2.06.94zm-11 1L8.5 8.5l.94-2.06 2.06-.94-2.06-.94L8.5 2.5l-.94 2.06-2.06.94zm10 10l.94 2.06.94-2.06 2.06-.94-2.06-.94-.94-2.06-.94 2.06-2.06.94z\"/><path d=\"M17.41 7.96l-1.37-1.37c-.4-.4-.92-.59-1.43-.59-.52 0-1.04.2-1.43.59L10.3 9.45l-7.72 7.72c-.78.78-.78 2.05 0 2.83L4 21.41c.39.39.9.59 1.41.59.51 0 1.02-.2 1.41-.59l7.78-7.78 2.81-2.81c.8-.78.8-2.07 0-2.86zM5.41 20L4 18.59l7.72-7.72 1.47 1.35L5.41 20z\"/>\n",
              "  </svg>\n",
              "      </button>\n",
              "      \n",
              "  <style>\n",
              "    .colab-df-container {\n",
              "      display:flex;\n",
              "      flex-wrap:wrap;\n",
              "      gap: 12px;\n",
              "    }\n",
              "\n",
              "    .colab-df-convert {\n",
              "      background-color: #E8F0FE;\n",
              "      border: none;\n",
              "      border-radius: 50%;\n",
              "      cursor: pointer;\n",
              "      display: none;\n",
              "      fill: #1967D2;\n",
              "      height: 32px;\n",
              "      padding: 0 0 0 0;\n",
              "      width: 32px;\n",
              "    }\n",
              "\n",
              "    .colab-df-convert:hover {\n",
              "      background-color: #E2EBFA;\n",
              "      box-shadow: 0px 1px 2px rgba(60, 64, 67, 0.3), 0px 1px 3px 1px rgba(60, 64, 67, 0.15);\n",
              "      fill: #174EA6;\n",
              "    }\n",
              "\n",
              "    [theme=dark] .colab-df-convert {\n",
              "      background-color: #3B4455;\n",
              "      fill: #D2E3FC;\n",
              "    }\n",
              "\n",
              "    [theme=dark] .colab-df-convert:hover {\n",
              "      background-color: #434B5C;\n",
              "      box-shadow: 0px 1px 3px 1px rgba(0, 0, 0, 0.15);\n",
              "      filter: drop-shadow(0px 1px 2px rgba(0, 0, 0, 0.3));\n",
              "      fill: #FFFFFF;\n",
              "    }\n",
              "  </style>\n",
              "\n",
              "      <script>\n",
              "        const buttonEl =\n",
              "          document.querySelector('#df-f81e8012-6668-4a00-b275-154195dd9393 button.colab-df-convert');\n",
              "        buttonEl.style.display =\n",
              "          google.colab.kernel.accessAllowed ? 'block' : 'none';\n",
              "\n",
              "        async function convertToInteractive(key) {\n",
              "          const element = document.querySelector('#df-f81e8012-6668-4a00-b275-154195dd9393');\n",
              "          const dataTable =\n",
              "            await google.colab.kernel.invokeFunction('convertToInteractive',\n",
              "                                                     [key], {});\n",
              "          if (!dataTable) return;\n",
              "\n",
              "          const docLinkHtml = 'Like what you see? Visit the ' +\n",
              "            '<a target=\"_blank\" href=https://colab.research.google.com/notebooks/data_table.ipynb>data table notebook</a>'\n",
              "            + ' to learn more about interactive tables.';\n",
              "          element.innerHTML = '';\n",
              "          dataTable['output_type'] = 'display_data';\n",
              "          await google.colab.output.renderOutput(dataTable, element);\n",
              "          const docLink = document.createElement('div');\n",
              "          docLink.innerHTML = docLinkHtml;\n",
              "          element.appendChild(docLink);\n",
              "        }\n",
              "      </script>\n",
              "    </div>\n",
              "  </div>\n",
              "  "
            ],
            "text/plain": [
              "  country       state        city\n",
              "0      US          NY    New York\n",
              "1      NZ  Unpecified    Auckland\n",
              "2      US          IA       Wever\n",
              "3      US          DC  Washington\n",
              "4      US          FL  Fort Worth"
            ]
          },
          "metadata": {},
          "execution_count": 42
        }
      ],
      "source": [
        "df_location = pd.DataFrame(splitted_location, columns=['country', 'state', 'city'])\n",
        "df_location.head(5)"
      ]
    },
    {
      "cell_type": "markdown",
      "metadata": {
        "id": "aXUMCUR2z7Wz"
      },
      "source": [
        "Добавлю эти три новые извлеченные признаки к общему датасету и удалю 'location'"
      ]
    },
    {
      "cell_type": "code",
      "execution_count": 43,
      "metadata": {
        "id": "k4q08fFnz7Wz"
      },
      "outputs": [],
      "source": [
        "df['country'] = df_location['country']\n",
        "df['state'] = df_location['state']\n",
        "df['city'] = df_location['city']\n",
        "\n",
        "cat_cols += ['country', 'state', 'city']\n",
        "df.drop('location', axis=1, inplace=True)"
      ]
    },
    {
      "cell_type": "code",
      "source": [
        "#попробуйю удалить признак и посмотреть на точность\n",
        "X = df.drop(['fraudulent'], axis=1).fillna(0).values\n",
        "y = df['fraudulent']\n",
        "cat_features = [8,9,10,11,12,17,18,19]\n",
        "text_features = list(range(0, 6))\n",
        "Catboostcl(X,y,cat_features,text_features)"
      ],
      "metadata": {
        "colab": {
          "base_uri": "https://localhost:8080/"
        },
        "id": "RoCeJvy4ipV9",
        "outputId": "46d6255b-b2fe-4256-c582-38d213169ad8"
      },
      "execution_count": 53,
      "outputs": [
        {
          "output_type": "stream",
          "name": "stdout",
          "text": [
            "MEAN F1: 42.86%\n"
          ]
        }
      ]
    },
    {
      "cell_type": "markdown",
      "source": [
        "Похоже,что этот признак действительно сильно влияет. Думаю,стоит удалить его,так как видна зависимость. Возможно этот признак и является утечкой данных  и в нем находится достаточно много информации о целевой переменной"
      ],
      "metadata": {
        "id": "A8BrcxBTB3Id"
      }
    },
    {
      "cell_type": "markdown",
      "metadata": {
        "id": "_h2_W_Opz7Wz"
      },
      "source": [
        "**Label Encoding and OneHotEncoding**"
      ]
    },
    {
      "cell_type": "code",
      "execution_count": 44,
      "metadata": {
        "id": "9JRwih0Bz7W0"
      },
      "outputs": [],
      "source": [
        "#признаки с большим количеством значений преобразую с помощью  LabelEncoder()\n",
        "others_cols = ['department','industry','function','country','state','city']\n",
        "le = LabelEncoder()\n",
        "for col in others_cols:\n",
        "    df[col] = le.fit_transform(df[col])"
      ]
    },
    {
      "cell_type": "markdown",
      "source": [
        "Посмотрим на матрицу корреляций признаков\n"
      ],
      "metadata": {
        "id": "PSZqacOR2PDa"
      }
    },
    {
      "cell_type": "code",
      "execution_count": 45,
      "metadata": {
        "id": "bd-Nh90Dz7Wz",
        "colab": {
          "base_uri": "https://localhost:8080/",
          "height": 394
        },
        "outputId": "ed9c2a9e-f62f-4c8b-9886-d5c3e4ac956a"
      },
      "outputs": [
        {
          "output_type": "display_data",
          "data": {
            "image/png": "[encoded data removed]",
            "text/plain": [
              "<Figure size 720x360 with 2 Axes>"
            ]
          },
          "metadata": {
            "needs_background": "light"
          }
        }
      ],
      "source": [
        "fig, ax = plt.subplots(1, 1, figsize=(10, 5))\n",
        "ax = sns.heatmap(df.corr(),fmt='.1g',\n",
        "                 annot=True, cmap='coolwarm')"
      ]
    },
    {
      "cell_type": "markdown",
      "source": [
        "по матрице видим корреляцию между признаками 'delta_salary','min_salary' и 'max_salary'. Думаю,что стоит оставить только 'delta_salary'"
      ],
      "metadata": {
        "id": "H9Ys7eyR2Q8K"
      }
    },
    {
      "cell_type": "code",
      "source": [
        "df.drop(['min_salary','max_salary'], axis=1, inplace=True)"
      ],
      "metadata": {
        "id": "hWND6_xgMtuq"
      },
      "execution_count": 46,
      "outputs": []
    },
    {
      "cell_type": "code",
      "execution_count": 47,
      "metadata": {
        "id": "ea70Ox1Bz7Wz"
      },
      "outputs": [],
      "source": [
        "# реализую OneHotEncoding для категориальных признаков у которых не очень много значений\n",
        "df = pd.get_dummies(df, columns = ['employment_type','required_experience','required_education'])"
      ]
    },
    {
      "cell_type": "markdown",
      "source": [
        "Теперь сравню метрику после удаления признака 'benefits',который достаточно сильно влияет на целевую переменную"
      ],
      "metadata": {
        "id": "PYYZYlI3ButP"
      }
    },
    {
      "cell_type": "code",
      "source": [
        "#попробуйю удалить признак и посмотреть на точность\n",
        "X = df.drop(['fraudulent','benefits'], axis=1).fillna(0).values\n",
        "y = df['fraudulent']\n",
        "cat_features = []\n",
        "text_features = [0,2,3,4]\n",
        "Catboostcl(X,y,cat_features,text_features)"
      ],
      "metadata": {
        "id": "COz9HoT6guJK",
        "colab": {
          "base_uri": "https://localhost:8080/"
        },
        "outputId": "0c664d7c-a18a-4305-f905-659b2fc35c89"
      },
      "execution_count": 58,
      "outputs": [
        {
          "output_type": "stream",
          "name": "stdout",
          "text": [
            "MEAN F1: 60.20%\n"
          ]
        }
      ]
    },
    {
      "cell_type": "code",
      "source": [
        "#попробуйю без удаления посмотреть на точность\n",
        "X = df.drop(['fraudulent'], axis=1).fillna(0).values\n",
        "y = df['fraudulent']\n",
        "cat_features = []\n",
        "text_features = [0,2,3,4,5]\n",
        "Catboostcl(X,y,cat_features,text_features)"
      ],
      "metadata": {
        "colab": {
          "base_uri": "https://localhost:8080/"
        },
        "id": "D_5jw5EbUdXZ",
        "outputId": "4e3361fd-5353-419d-ebe5-8c7585a53b62"
      },
      "execution_count": 59,
      "outputs": [
        {
          "output_type": "stream",
          "name": "stdout",
          "text": [
            "MEAN F1: 60.25%\n"
          ]
        }
      ]
    },
    {
      "cell_type": "markdown",
      "source": [
        "точность практически не отличается,оставляю 'benefits'"
      ],
      "metadata": {
        "id": "pDYcgUKqRYgB"
      }
    },
    {
      "cell_type": "markdown",
      "metadata": {
        "id": "bDoWGgZ8z7W0"
      },
      "source": [
        "**fraudulent**"
      ]
    },
    {
      "cell_type": "markdown",
      "metadata": {
        "id": "VHEEyMKwz7W0"
      },
      "source": [
        "Рассмотрю теперь целевую переменную"
      ]
    },
    {
      "cell_type": "code",
      "execution_count": 60,
      "metadata": {
        "id": "HIGBFOZaz7W0",
        "colab": {
          "base_uri": "https://localhost:8080/"
        },
        "outputId": "3934a65d-5524-4f2a-b274-056c6dcc066e"
      },
      "outputs": [
        {
          "output_type": "execute_result",
          "data": {
            "text/plain": [
              "0    17014\n",
              "1      866\n",
              "Name: fraudulent, dtype: int64"
            ]
          },
          "metadata": {},
          "execution_count": 60
        }
      ],
      "source": [
        "df.fraudulent.value_counts()"
      ]
    },
    {
      "cell_type": "markdown",
      "metadata": {
        "id": "CNgEbZYUz7W0"
      },
      "source": [
        "Общее количество поддельных и реальных вакансий:"
      ]
    },
    {
      "cell_type": "code",
      "execution_count": 61,
      "metadata": {
        "id": "RijrdYgMz7W0",
        "colab": {
          "base_uri": "https://localhost:8080/",
          "height": 350
        },
        "outputId": "955732b5-1f87-495e-9f90-06e27cb89d0a"
      },
      "outputs": [
        {
          "output_type": "stream",
          "name": "stderr",
          "text": [
            "Pass the following variable as a keyword arg: x. From version 0.12, the only valid positional argument will be `data`, and passing other arguments without an explicit keyword will result in an error or misinterpretation.\n"
          ]
        },
        {
          "output_type": "execute_result",
          "data": {
            "text/plain": [
              "Text(0.5, 1.0, 'Real & Fradulent')"
            ]
          },
          "metadata": {},
          "execution_count": 61
        },
        {
          "output_type": "display_data",
          "data": {
            "image/png": "[encoded data removed]",
            "text/plain": [
              "<Figure size 432x288 with 1 Axes>"
            ]
          },
          "metadata": {
            "needs_background": "light"
          }
        }
      ],
      "source": [
        "sns.countplot(df.fraudulent).set_title('Real & Fradulent')"
      ]
    },
    {
      "cell_type": "markdown",
      "metadata": {
        "id": "9jdXJn7hz7W0"
      },
      "source": [
        "Значение 0 явно преобладает и заметна несбалансированность в выборке. В таком случае модель склонна переобучаться.\n",
        "Поэтому применяю sample_weight при обучении модели, чтобы сгладить эту разницу"
      ]
    },
    {
      "cell_type": "markdown",
      "metadata": {
        "id": "9NRmdbcvz7W1"
      },
      "source": [
        "**Text columns**"
      ]
    },
    {
      "cell_type": "markdown",
      "metadata": {
        "id": "SD02A-CIz7W1"
      },
      "source": [
        "Объединим все признаки с текстом в один:"
      ]
    },
    {
      "cell_type": "code",
      "execution_count": 48,
      "metadata": {
        "id": "TowQ-B1Oz7W1"
      },
      "outputs": [],
      "source": [
        "df['text'] = df[['title','company_profile','description','requirements',\n",
        "                'benefits']].astype('str').apply(lambda x: ' '.join(x), axis = 1) \n",
        "\n",
        "df.drop(['title','company_profile','description',\n",
        "                 'requirements','benefits'], axis=1, inplace=True)"
      ]
    },
    {
      "cell_type": "markdown",
      "source": [
        "Гистограмма, описывающая количество символов. Попробуем визуализировать разницу в количестве символов в описании вакансии между реальными и поддельными публикациями:"
      ],
      "metadata": {
        "id": "htuEARDG74Ym"
      }
    },
    {
      "cell_type": "code",
      "source": [
        "df['character_count'] = df.text.apply(len)\n",
        "\n",
        "df[df.fraudulent==0].character_count.plot(bins=35, kind='hist', color='blue', \n",
        "                                       label='Real', alpha=0.8)\n",
        "df[df.fraudulent==1].character_count.plot(kind='hist', color='red', \n",
        "                                       label='Fake', alpha=0.8)\n",
        "plt.legend()\n",
        "plt.title('Frequency of Words')\n",
        "plt.xlabel(\"Character Count\")\n",
        "num_cols += ['character_count']"
      ],
      "metadata": {
        "id": "j2zkChNo7sFc",
        "colab": {
          "base_uri": "https://localhost:8080/",
          "height": 295
        },
        "outputId": "78f3b610-8a86-4789-f18d-a69a060004df"
      },
      "execution_count": 49,
      "outputs": [
        {
          "output_type": "display_data",
          "data": {
            "image/png": "[encoded data removed]",
            "text/plain": [
              "<Figure size 432x288 with 1 Axes>"
            ]
          },
          "metadata": {
            "needs_background": "light"
          }
        }
      ]
    },
    {
      "cell_type": "markdown",
      "source": [
        "Можно увидеть, что, хоть количество символов относительно одинаково как для реальных, так и для поддельных публикаций, однако реальные вакансии имеют большее количество символов в описании. Можно подтвердить ранее упомянутое,что мошенники не особо вдаются в подробности вакансии"
      ],
      "metadata": {
        "id": "c67e44mM8EjU"
      }
    },
    {
      "cell_type": "code",
      "execution_count": 50,
      "metadata": {
        "colab": {
          "base_uri": "https://localhost:8080/"
        },
        "id": "gVGD401uz7W1",
        "outputId": "840d8586-734e-4db7-e15d-979c3a9d3a9c"
      },
      "outputs": [
        {
          "output_type": "execute_result",
          "data": {
            "text/plain": [
              "0    market intern food weve creat groundbreak awar...\n",
              "1    custom servic cloud video product second world...\n",
              "2    commiss machineri assist cma valor servic prov...\n",
              "3    account execut washington dc passion improv qu...\n",
              "4    bill review manag spotsourc solut llc global h...\n",
              "Name: text, dtype: object"
            ]
          },
          "metadata": {},
          "execution_count": 50
        }
      ],
      "source": [
        "# Проведу очистку текста,токеннизацию и удаление stopwords\n",
        "# Удалю лишние символы, от них не ожидается никакой предсказательной силы, а просто принесут в текст шум. \n",
        "def clean_text(text, ):\n",
        "    if text is not None:\n",
        "        text = re.sub(r'[0-9]+','',text)\n",
        "        text =  text.lower()\n",
        "        text = re.sub('re:', '', text)\n",
        "        text = re.sub('-', '', text)\n",
        "        text = re.sub('_', '', text)\n",
        "        text = re.sub(r'^https?:\\/\\/.*[\\r\\n]*', '', text, flags=re.MULTILINE)\n",
        "        text = re.sub(r'\\S*@\\S*\\s?', '', text, flags=re.MULTILINE)\n",
        "# Remove text between square brackets\n",
        "        text =re.sub('\\[[^]]*\\]', '', text)\n",
        "# removes punctuation\n",
        "        text = re.sub(r'[^\\w\\s]','',text)\n",
        "        text = re.sub(r'\\n',' ',text)\n",
        "        text = re.sub(r'[0-9]+','',text)\n",
        "# strip html \n",
        "        p = re.compile(r'<.*?>')\n",
        "        text = re.sub(r\"\\'ve\", \" have \", text)\n",
        "        text = re.sub(r\"can't\", \"cannot \", text)\n",
        "        text = re.sub(r\"n't\", \" not \", text)\n",
        "        text = re.sub(r\"I'm\", \"I am\", text)\n",
        "        text = re.sub(r\" m \", \" am \", text)\n",
        "        text = re.sub(r\"\\'re\", \" are \", text)\n",
        "        text = re.sub(r\"\\'d\", \" would \", text)\n",
        "        text = re.sub(r\"\\'ll\", \" will \", text)\n",
        "\n",
        "        text = p.sub('', text)\n",
        "\n",
        "        def tokenize_text(text,tokenizer=default_tokenizer):\n",
        "            token = default_tokenizer.tokenize(text)\n",
        "            return token\n",
        "        \n",
        "        def remove_stopwords(text, stop_words=default_stopwords):\n",
        "            tokens = [w for w in tokenize_text(text) if w not in stop_words]\n",
        "            return ' '.join(tokens)\n",
        "\n",
        "        def stem_text(text, stemmer=default_stemmer):\n",
        "            tokens = tokenize_text(text)\n",
        "            return ' '.join([stemmer.stem(t) for t in tokens])\n",
        "\n",
        "        text = stem_text(text) # stemming\n",
        "        text = remove_stopwords(text) # remove stopwords\n",
        "\n",
        "        return text\n",
        "    \n",
        "df['text'] = df['text'].apply(clean_text)\n",
        "df['text'].head()"
      ]
    },
    {
      "cell_type": "code",
      "execution_count": 51,
      "metadata": {
        "id": "ITKdVnZhz7W1"
      },
      "outputs": [],
      "source": [
        "# В последствии отдельная токенизация не понадобилась, \n",
        "# так как будет использоваться встроенный токенизатор BERTа\n",
        "text = df['text'].copy()"
      ]
    },
    {
      "cell_type": "code",
      "execution_count": 52,
      "metadata": {
        "colab": {
          "base_uri": "https://localhost:8080/"
        },
        "id": "RjomZ_t0z7W1",
        "outputId": "1ae2228a-b6e9-4555-aafa-7c7cbdff114a"
      },
      "outputs": [
        {
          "output_type": "stream",
          "name": "stderr",
          "text": [
            "Function get_feature_names is deprecated; get_feature_names is deprecated in 1.0 and will be removed in 1.2. Please use get_feature_names_out instead.\n"
          ]
        }
      ],
      "source": [
        "# Векторизую очищенный текст в матрицу tfidf со всеми словами с помощью TfidfVectorizer\n",
        "# Этот метод будет подсчитывать важность слов в документе и редкость самого слова.\n",
        "cv = TfidfVectorizer(max_features = 100) \n",
        "x = cv.fit_transform(df['text'])\n",
        "df1 = pd.DataFrame(x.toarray(), columns=cv.get_feature_names()) \n",
        "df.drop([\"text\"], axis=1, inplace=True)\n",
        "main_df = pd.concat([df1,df], axis=1) # соединю с оставшимися признаками "
      ]
    },
    {
      "cell_type": "code",
      "source": [
        "main_df.head()"
      ],
      "metadata": {
        "colab": {
          "base_uri": "https://localhost:8080/",
          "height": 305
        },
        "id": "moEzLWHshEUe",
        "outputId": "2c1e5af6-337e-41dc-cc06-c9a77a7def6d"
      },
      "execution_count": 67,
      "outputs": [
        {
          "output_type": "execute_result",
          "data": {
            "text/html": [
              "\n",
              "  <div id=\"df-74b4d05e-3b26-4824-aa2f-b64e47ea4207\">\n",
              "    <div class=\"colab-df-container\">\n",
              "      <div>\n",
              "<style scoped>\n",
              "    .dataframe tbody tr th:only-of-type {\n",
              "        vertical-align: middle;\n",
              "    }\n",
              "\n",
              "    .dataframe tbody tr th {\n",
              "        vertical-align: top;\n",
              "    }\n",
              "\n",
              "    .dataframe thead th {\n",
              "        text-align: right;\n",
              "    }\n",
              "</style>\n",
              "<table border=\"1\" class=\"dataframe\">\n",
              "  <thead>\n",
              "    <tr style=\"text-align: right;\">\n",
              "      <th></th>\n",
              "      <th>abil</th>\n",
              "      <th>account</th>\n",
              "      <th>also</th>\n",
              "      <th>amp</th>\n",
              "      <th>applic</th>\n",
              "      <th>base</th>\n",
              "      <th>benefit</th>\n",
              "      <th>best</th>\n",
              "      <th>build</th>\n",
              "      <th>busi</th>\n",
              "      <th>candid</th>\n",
              "      <th>client</th>\n",
              "      <th>commun</th>\n",
              "      <th>compani</th>\n",
              "      <th>creat</th>\n",
              "      <th>creativ</th>\n",
              "      <th>custom</th>\n",
              "      <th>data</th>\n",
              "      <th>deliv</th>\n",
              "      <th>design</th>\n",
              "      <th>develop</th>\n",
              "      <th>digit</th>\n",
              "      <th>employ</th>\n",
              "      <th>employe</th>\n",
              "      <th>engin</th>\n",
              "      <th>ensur</th>\n",
              "      <th>environ</th>\n",
              "      <th>excel</th>\n",
              "      <th>experi</th>\n",
              "      <th>get</th>\n",
              "      <th>great</th>\n",
              "      <th>grow</th>\n",
              "      <th>ha</th>\n",
              "      <th>help</th>\n",
              "      <th>high</th>\n",
              "      <th>includ</th>\n",
              "      <th>industri</th>\n",
              "      <th>innov</th>\n",
              "      <th>intern</th>\n",
              "      <th>job</th>\n",
              "      <th>knowledg</th>\n",
              "      <th>lead</th>\n",
              "      <th>learn</th>\n",
              "      <th>level</th>\n",
              "      <th>like</th>\n",
              "      <th>look</th>\n",
              "      <th>make</th>\n",
              "      <th>manag</th>\n",
              "      <th>market</th>\n",
              "      <th>mobil</th>\n",
              "      <th>must</th>\n",
              "      <th>need</th>\n",
              "      <th>new</th>\n",
              "      <th>offer</th>\n",
              "      <th>offic</th>\n",
              "      <th>one</th>\n",
              "      <th>oper</th>\n",
              "      <th>opportun</th>\n",
              "      <th>part</th>\n",
              "      <th>peopl</th>\n",
              "      <th>perform</th>\n",
              "      <th>person</th>\n",
              "      <th>plan</th>\n",
              "      <th>posit</th>\n",
              "      <th>process</th>\n",
              "      <th>product</th>\n",
              "      <th>profession</th>\n",
              "      <th>program</th>\n",
              "      <th>project</th>\n",
              "      <th>provid</th>\n",
              "      <th>qualiti</th>\n",
              "      <th>requir</th>\n",
              "      <th>respons</th>\n",
              "      <th>role</th>\n",
              "      <th>sale</th>\n",
              "      <th>servic</th>\n",
              "      <th>skill</th>\n",
              "      <th>softwar</th>\n",
              "      <th>solut</th>\n",
              "      <th>strong</th>\n",
              "      <th>success</th>\n",
              "      <th>support</th>\n",
              "      <th>system</th>\n",
              "      <th>team</th>\n",
              "      <th>technic</th>\n",
              "      <th>technolog</th>\n",
              "      <th>test</th>\n",
              "      <th>thi</th>\n",
              "      <th>time</th>\n",
              "      <th>train</th>\n",
              "      <th>understand</th>\n",
              "      <th>us</th>\n",
              "      <th>use</th>\n",
              "      <th>want</th>\n",
              "      <th>web</th>\n",
              "      <th>well</th>\n",
              "      <th>within</th>\n",
              "      <th>work</th>\n",
              "      <th>world</th>\n",
              "      <th>year</th>\n",
              "      <th>department</th>\n",
              "      <th>telecommuting</th>\n",
              "      <th>has_questions</th>\n",
              "      <th>industry</th>\n",
              "      <th>function</th>\n",
              "      <th>fraudulent</th>\n",
              "      <th>salary_specified</th>\n",
              "      <th>delta_salary</th>\n",
              "      <th>country</th>\n",
              "      <th>state</th>\n",
              "      <th>city</th>\n",
              "      <th>employment_type_Contract</th>\n",
              "      <th>employment_type_Full-time</th>\n",
              "      <th>employment_type_Other</th>\n",
              "      <th>employment_type_Part-time</th>\n",
              "      <th>employment_type_Temporary</th>\n",
              "      <th>employment_type_Unspecified</th>\n",
              "      <th>required_experience_Associate</th>\n",
              "      <th>required_experience_Director</th>\n",
              "      <th>required_experience_Entry level</th>\n",
              "      <th>required_experience_Executive</th>\n",
              "      <th>required_experience_Internship</th>\n",
              "      <th>required_experience_Mid-Senior level</th>\n",
              "      <th>required_experience_Not Applicable</th>\n",
              "      <th>required_experience_Unspecified</th>\n",
              "      <th>required_education_Associate Degree</th>\n",
              "      <th>required_education_Bachelor's Degree</th>\n",
              "      <th>required_education_Certification</th>\n",
              "      <th>required_education_Doctorate</th>\n",
              "      <th>required_education_High School or equivalent</th>\n",
              "      <th>required_education_Master's Degree</th>\n",
              "      <th>required_education_Professional</th>\n",
              "      <th>required_education_Some College Coursework Completed</th>\n",
              "      <th>required_education_Some High School Coursework</th>\n",
              "      <th>required_education_Unspecified</th>\n",
              "      <th>required_education_Vocational</th>\n",
              "      <th>required_education_Vocational - Degree</th>\n",
              "      <th>required_education_Vocational - HS Diploma</th>\n",
              "      <th>character_count</th>\n",
              "    </tr>\n",
              "  </thead>\n",
              "  <tbody>\n",
              "    <tr>\n",
              "      <th>0</th>\n",
              "      <td>0.000000</td>\n",
              "      <td>0.000000</td>\n",
              "      <td>0.122895</td>\n",
              "      <td>0.108523</td>\n",
              "      <td>0.000000</td>\n",
              "      <td>0.000000</td>\n",
              "      <td>0.000000</td>\n",
              "      <td>0.126546</td>\n",
              "      <td>0.000000</td>\n",
              "      <td>0.096202</td>\n",
              "      <td>0.000000</td>\n",
              "      <td>0.000000</td>\n",
              "      <td>0.179553</td>\n",
              "      <td>0.080675</td>\n",
              "      <td>0.124437</td>\n",
              "      <td>0.000000</td>\n",
              "      <td>0.000000</td>\n",
              "      <td>0.0</td>\n",
              "      <td>0.000000</td>\n",
              "      <td>0.0</td>\n",
              "      <td>0.179553</td>\n",
              "      <td>0.0</td>\n",
              "      <td>0.000000</td>\n",
              "      <td>0.0</td>\n",
              "      <td>0.130900</td>\n",
              "      <td>0.000000</td>\n",
              "      <td>0.000000</td>\n",
              "      <td>0.000000</td>\n",
              "      <td>0.068507</td>\n",
              "      <td>0.000000</td>\n",
              "      <td>0.000000</td>\n",
              "      <td>0.000000</td>\n",
              "      <td>0.249403</td>\n",
              "      <td>0.000000</td>\n",
              "      <td>0.000000</td>\n",
              "      <td>0.000000</td>\n",
              "      <td>0.000000</td>\n",
              "      <td>0.000000</td>\n",
              "      <td>0.270696</td>\n",
              "      <td>0.000000</td>\n",
              "      <td>0.000000</td>\n",
              "      <td>0.000000</td>\n",
              "      <td>0.00000</td>\n",
              "      <td>0.000000</td>\n",
              "      <td>0.278226</td>\n",
              "      <td>0.000000</td>\n",
              "      <td>0.000000</td>\n",
              "      <td>0.174128</td>\n",
              "      <td>0.35658</td>\n",
              "      <td>0.0</td>\n",
              "      <td>0.000000</td>\n",
              "      <td>0.108404</td>\n",
              "      <td>0.391929</td>\n",
              "      <td>0.118783</td>\n",
              "      <td>0.119592</td>\n",
              "      <td>0.122221</td>\n",
              "      <td>0.000000</td>\n",
              "      <td>0.000000</td>\n",
              "      <td>0.000000</td>\n",
              "      <td>0.112996</td>\n",
              "      <td>0.000000</td>\n",
              "      <td>0.000000</td>\n",
              "      <td>0.000000</td>\n",
              "      <td>0.000000</td>\n",
              "      <td>0.000000</td>\n",
              "      <td>0.000000</td>\n",
              "      <td>0.115671</td>\n",
              "      <td>0.143104</td>\n",
              "      <td>0.000000</td>\n",
              "      <td>0.000000</td>\n",
              "      <td>0.000000</td>\n",
              "      <td>0.000000</td>\n",
              "      <td>0.114128</td>\n",
              "      <td>0.00000</td>\n",
              "      <td>0.000000</td>\n",
              "      <td>0.000000</td>\n",
              "      <td>0.000000</td>\n",
              "      <td>0.000000</td>\n",
              "      <td>0.000000</td>\n",
              "      <td>0.000000</td>\n",
              "      <td>0.000000</td>\n",
              "      <td>0.224792</td>\n",
              "      <td>0.132681</td>\n",
              "      <td>0.153567</td>\n",
              "      <td>0.0</td>\n",
              "      <td>0.113620</td>\n",
              "      <td>0.000000</td>\n",
              "      <td>0.000000</td>\n",
              "      <td>0.097785</td>\n",
              "      <td>0.00000</td>\n",
              "      <td>0.000000</td>\n",
              "      <td>0.000000</td>\n",
              "      <td>0.108787</td>\n",
              "      <td>0.0</td>\n",
              "      <td>0.000000</td>\n",
              "      <td>0.000000</td>\n",
              "      <td>0.000000</td>\n",
              "      <td>0.273511</td>\n",
              "      <td>0.000000</td>\n",
              "      <td>0.000000</td>\n",
              "      <td>758</td>\n",
              "      <td>0</td>\n",
              "      <td>0</td>\n",
              "      <td>123</td>\n",
              "      <td>22</td>\n",
              "      <td>0</td>\n",
              "      <td>0</td>\n",
              "      <td>0</td>\n",
              "      <td>86</td>\n",
              "      <td>227</td>\n",
              "      <td>1457</td>\n",
              "      <td>0</td>\n",
              "      <td>0</td>\n",
              "      <td>1</td>\n",
              "      <td>0</td>\n",
              "      <td>0</td>\n",
              "      <td>0</td>\n",
              "      <td>0</td>\n",
              "      <td>0</td>\n",
              "      <td>0</td>\n",
              "      <td>0</td>\n",
              "      <td>1</td>\n",
              "      <td>0</td>\n",
              "      <td>0</td>\n",
              "      <td>0</td>\n",
              "      <td>0</td>\n",
              "      <td>0</td>\n",
              "      <td>0</td>\n",
              "      <td>0</td>\n",
              "      <td>0</td>\n",
              "      <td>0</td>\n",
              "      <td>0</td>\n",
              "      <td>0</td>\n",
              "      <td>0</td>\n",
              "      <td>1</td>\n",
              "      <td>0</td>\n",
              "      <td>0</td>\n",
              "      <td>0</td>\n",
              "      <td>2663</td>\n",
              "    </tr>\n",
              "    <tr>\n",
              "      <th>1</th>\n",
              "      <td>0.000000</td>\n",
              "      <td>0.041676</td>\n",
              "      <td>0.033662</td>\n",
              "      <td>0.059451</td>\n",
              "      <td>0.000000</td>\n",
              "      <td>0.061661</td>\n",
              "      <td>0.000000</td>\n",
              "      <td>0.000000</td>\n",
              "      <td>0.000000</td>\n",
              "      <td>0.105402</td>\n",
              "      <td>0.030751</td>\n",
              "      <td>0.119472</td>\n",
              "      <td>0.098363</td>\n",
              "      <td>0.044195</td>\n",
              "      <td>0.000000</td>\n",
              "      <td>0.039839</td>\n",
              "      <td>0.135615</td>\n",
              "      <td>0.0</td>\n",
              "      <td>0.071496</td>\n",
              "      <td>0.0</td>\n",
              "      <td>0.000000</td>\n",
              "      <td>0.0</td>\n",
              "      <td>0.000000</td>\n",
              "      <td>0.0</td>\n",
              "      <td>0.000000</td>\n",
              "      <td>0.000000</td>\n",
              "      <td>0.030859</td>\n",
              "      <td>0.098448</td>\n",
              "      <td>0.112588</td>\n",
              "      <td>0.216858</td>\n",
              "      <td>0.107584</td>\n",
              "      <td>0.125848</td>\n",
              "      <td>0.136628</td>\n",
              "      <td>0.000000</td>\n",
              "      <td>0.067409</td>\n",
              "      <td>0.187275</td>\n",
              "      <td>0.000000</td>\n",
              "      <td>0.037140</td>\n",
              "      <td>0.074146</td>\n",
              "      <td>0.000000</td>\n",
              "      <td>0.031445</td>\n",
              "      <td>0.000000</td>\n",
              "      <td>0.03593</td>\n",
              "      <td>0.035275</td>\n",
              "      <td>0.000000</td>\n",
              "      <td>0.027138</td>\n",
              "      <td>0.063312</td>\n",
              "      <td>0.357714</td>\n",
              "      <td>0.00000</td>\n",
              "      <td>0.0</td>\n",
              "      <td>0.000000</td>\n",
              "      <td>0.029693</td>\n",
              "      <td>0.000000</td>\n",
              "      <td>0.000000</td>\n",
              "      <td>0.098272</td>\n",
              "      <td>0.066955</td>\n",
              "      <td>0.000000</td>\n",
              "      <td>0.028723</td>\n",
              "      <td>0.035009</td>\n",
              "      <td>0.000000</td>\n",
              "      <td>0.000000</td>\n",
              "      <td>0.035191</td>\n",
              "      <td>0.035284</td>\n",
              "      <td>0.056370</td>\n",
              "      <td>0.064358</td>\n",
              "      <td>0.425025</td>\n",
              "      <td>0.063367</td>\n",
              "      <td>0.000000</td>\n",
              "      <td>0.330143</td>\n",
              "      <td>0.024485</td>\n",
              "      <td>0.069115</td>\n",
              "      <td>0.000000</td>\n",
              "      <td>0.031261</td>\n",
              "      <td>0.17805</td>\n",
              "      <td>0.000000</td>\n",
              "      <td>0.224590</td>\n",
              "      <td>0.024171</td>\n",
              "      <td>0.036153</td>\n",
              "      <td>0.000000</td>\n",
              "      <td>0.000000</td>\n",
              "      <td>0.158021</td>\n",
              "      <td>0.000000</td>\n",
              "      <td>0.036343</td>\n",
              "      <td>0.105159</td>\n",
              "      <td>0.0</td>\n",
              "      <td>0.000000</td>\n",
              "      <td>0.000000</td>\n",
              "      <td>0.101393</td>\n",
              "      <td>0.026784</td>\n",
              "      <td>0.00000</td>\n",
              "      <td>0.066805</td>\n",
              "      <td>0.028613</td>\n",
              "      <td>0.029798</td>\n",
              "      <td>0.0</td>\n",
              "      <td>0.038078</td>\n",
              "      <td>0.000000</td>\n",
              "      <td>0.000000</td>\n",
              "      <td>0.168564</td>\n",
              "      <td>0.363728</td>\n",
              "      <td>0.000000</td>\n",
              "      <td>1161</td>\n",
              "      <td>0</td>\n",
              "      <td>0</td>\n",
              "      <td>75</td>\n",
              "      <td>7</td>\n",
              "      <td>0</td>\n",
              "      <td>0</td>\n",
              "      <td>0</td>\n",
              "      <td>61</td>\n",
              "      <td>293</td>\n",
              "      <td>188</td>\n",
              "      <td>0</td>\n",
              "      <td>1</td>\n",
              "      <td>0</td>\n",
              "      <td>0</td>\n",
              "      <td>0</td>\n",
              "      <td>0</td>\n",
              "      <td>0</td>\n",
              "      <td>0</td>\n",
              "      <td>0</td>\n",
              "      <td>0</td>\n",
              "      <td>0</td>\n",
              "      <td>0</td>\n",
              "      <td>1</td>\n",
              "      <td>0</td>\n",
              "      <td>0</td>\n",
              "      <td>0</td>\n",
              "      <td>0</td>\n",
              "      <td>0</td>\n",
              "      <td>0</td>\n",
              "      <td>0</td>\n",
              "      <td>0</td>\n",
              "      <td>0</td>\n",
              "      <td>0</td>\n",
              "      <td>1</td>\n",
              "      <td>0</td>\n",
              "      <td>0</td>\n",
              "      <td>0</td>\n",
              "      <td>6133</td>\n",
              "    </tr>\n",
              "    <tr>\n",
              "      <th>2</th>\n",
              "      <td>0.000000</td>\n",
              "      <td>0.000000</td>\n",
              "      <td>0.000000</td>\n",
              "      <td>0.092739</td>\n",
              "      <td>0.000000</td>\n",
              "      <td>0.000000</td>\n",
              "      <td>0.000000</td>\n",
              "      <td>0.000000</td>\n",
              "      <td>0.000000</td>\n",
              "      <td>0.000000</td>\n",
              "      <td>0.191878</td>\n",
              "      <td>0.279550</td>\n",
              "      <td>0.000000</td>\n",
              "      <td>0.206823</td>\n",
              "      <td>0.000000</td>\n",
              "      <td>0.000000</td>\n",
              "      <td>0.000000</td>\n",
              "      <td>0.0</td>\n",
              "      <td>0.000000</td>\n",
              "      <td>0.0</td>\n",
              "      <td>0.000000</td>\n",
              "      <td>0.0</td>\n",
              "      <td>0.502056</td>\n",
              "      <td>0.0</td>\n",
              "      <td>0.223721</td>\n",
              "      <td>0.109500</td>\n",
              "      <td>0.000000</td>\n",
              "      <td>0.000000</td>\n",
              "      <td>0.058543</td>\n",
              "      <td>0.112760</td>\n",
              "      <td>0.000000</td>\n",
              "      <td>0.000000</td>\n",
              "      <td>0.106564</td>\n",
              "      <td>0.000000</td>\n",
              "      <td>0.000000</td>\n",
              "      <td>0.000000</td>\n",
              "      <td>0.104227</td>\n",
              "      <td>0.000000</td>\n",
              "      <td>0.115662</td>\n",
              "      <td>0.000000</td>\n",
              "      <td>0.000000</td>\n",
              "      <td>0.000000</td>\n",
              "      <td>0.00000</td>\n",
              "      <td>0.000000</td>\n",
              "      <td>0.000000</td>\n",
              "      <td>0.000000</td>\n",
              "      <td>0.000000</td>\n",
              "      <td>0.148801</td>\n",
              "      <td>0.00000</td>\n",
              "      <td>0.0</td>\n",
              "      <td>0.116346</td>\n",
              "      <td>0.092637</td>\n",
              "      <td>0.083731</td>\n",
              "      <td>0.000000</td>\n",
              "      <td>0.000000</td>\n",
              "      <td>0.000000</td>\n",
              "      <td>0.000000</td>\n",
              "      <td>0.089611</td>\n",
              "      <td>0.000000</td>\n",
              "      <td>0.000000</td>\n",
              "      <td>0.000000</td>\n",
              "      <td>0.000000</td>\n",
              "      <td>0.000000</td>\n",
              "      <td>0.087932</td>\n",
              "      <td>0.100393</td>\n",
              "      <td>0.000000</td>\n",
              "      <td>0.000000</td>\n",
              "      <td>0.000000</td>\n",
              "      <td>0.205998</td>\n",
              "      <td>0.152776</td>\n",
              "      <td>0.215627</td>\n",
              "      <td>0.083003</td>\n",
              "      <td>0.000000</td>\n",
              "      <td>0.00000</td>\n",
              "      <td>0.000000</td>\n",
              "      <td>0.389268</td>\n",
              "      <td>0.150820</td>\n",
              "      <td>0.000000</td>\n",
              "      <td>0.100170</td>\n",
              "      <td>0.216187</td>\n",
              "      <td>0.098600</td>\n",
              "      <td>0.000000</td>\n",
              "      <td>0.000000</td>\n",
              "      <td>0.000000</td>\n",
              "      <td>0.0</td>\n",
              "      <td>0.000000</td>\n",
              "      <td>0.130841</td>\n",
              "      <td>0.000000</td>\n",
              "      <td>0.000000</td>\n",
              "      <td>0.00000</td>\n",
              "      <td>0.000000</td>\n",
              "      <td>0.000000</td>\n",
              "      <td>0.000000</td>\n",
              "      <td>0.0</td>\n",
              "      <td>0.000000</td>\n",
              "      <td>0.000000</td>\n",
              "      <td>0.000000</td>\n",
              "      <td>0.116865</td>\n",
              "      <td>0.000000</td>\n",
              "      <td>0.000000</td>\n",
              "      <td>1242</td>\n",
              "      <td>0</td>\n",
              "      <td>0</td>\n",
              "      <td>123</td>\n",
              "      <td>36</td>\n",
              "      <td>0</td>\n",
              "      <td>0</td>\n",
              "      <td>0</td>\n",
              "      <td>86</td>\n",
              "      <td>155</td>\n",
              "      <td>2213</td>\n",
              "      <td>0</td>\n",
              "      <td>0</td>\n",
              "      <td>0</td>\n",
              "      <td>0</td>\n",
              "      <td>0</td>\n",
              "      <td>1</td>\n",
              "      <td>0</td>\n",
              "      <td>0</td>\n",
              "      <td>0</td>\n",
              "      <td>0</td>\n",
              "      <td>0</td>\n",
              "      <td>0</td>\n",
              "      <td>0</td>\n",
              "      <td>1</td>\n",
              "      <td>0</td>\n",
              "      <td>0</td>\n",
              "      <td>0</td>\n",
              "      <td>0</td>\n",
              "      <td>0</td>\n",
              "      <td>0</td>\n",
              "      <td>0</td>\n",
              "      <td>0</td>\n",
              "      <td>0</td>\n",
              "      <td>1</td>\n",
              "      <td>0</td>\n",
              "      <td>0</td>\n",
              "      <td>0</td>\n",
              "      <td>2641</td>\n",
              "    </tr>\n",
              "    <tr>\n",
              "      <th>3</th>\n",
              "      <td>0.040064</td>\n",
              "      <td>0.580023</td>\n",
              "      <td>0.000000</td>\n",
              "      <td>0.000000</td>\n",
              "      <td>0.000000</td>\n",
              "      <td>0.000000</td>\n",
              "      <td>0.091887</td>\n",
              "      <td>0.000000</td>\n",
              "      <td>0.121006</td>\n",
              "      <td>0.300054</td>\n",
              "      <td>0.000000</td>\n",
              "      <td>0.000000</td>\n",
              "      <td>0.031113</td>\n",
              "      <td>0.027958</td>\n",
              "      <td>0.000000</td>\n",
              "      <td>0.050406</td>\n",
              "      <td>0.102950</td>\n",
              "      <td>0.0</td>\n",
              "      <td>0.000000</td>\n",
              "      <td>0.0</td>\n",
              "      <td>0.124450</td>\n",
              "      <td>0.0</td>\n",
              "      <td>0.000000</td>\n",
              "      <td>0.0</td>\n",
              "      <td>0.000000</td>\n",
              "      <td>0.044407</td>\n",
              "      <td>0.117130</td>\n",
              "      <td>0.000000</td>\n",
              "      <td>0.142449</td>\n",
              "      <td>0.000000</td>\n",
              "      <td>0.000000</td>\n",
              "      <td>0.000000</td>\n",
              "      <td>0.000000</td>\n",
              "      <td>0.034631</td>\n",
              "      <td>0.000000</td>\n",
              "      <td>0.135396</td>\n",
              "      <td>0.084537</td>\n",
              "      <td>0.000000</td>\n",
              "      <td>0.046906</td>\n",
              "      <td>0.000000</td>\n",
              "      <td>0.119354</td>\n",
              "      <td>0.126147</td>\n",
              "      <td>0.00000</td>\n",
              "      <td>0.000000</td>\n",
              "      <td>0.000000</td>\n",
              "      <td>0.000000</td>\n",
              "      <td>0.040052</td>\n",
              "      <td>0.181035</td>\n",
              "      <td>0.00000</td>\n",
              "      <td>0.0</td>\n",
              "      <td>0.000000</td>\n",
              "      <td>0.000000</td>\n",
              "      <td>0.033956</td>\n",
              "      <td>0.082330</td>\n",
              "      <td>0.000000</td>\n",
              "      <td>0.000000</td>\n",
              "      <td>0.000000</td>\n",
              "      <td>0.254387</td>\n",
              "      <td>0.044294</td>\n",
              "      <td>0.039159</td>\n",
              "      <td>0.000000</td>\n",
              "      <td>0.133573</td>\n",
              "      <td>0.000000</td>\n",
              "      <td>0.071320</td>\n",
              "      <td>0.081427</td>\n",
              "      <td>0.000000</td>\n",
              "      <td>0.160345</td>\n",
              "      <td>0.099187</td>\n",
              "      <td>0.000000</td>\n",
              "      <td>0.092936</td>\n",
              "      <td>0.087446</td>\n",
              "      <td>0.000000</td>\n",
              "      <td>0.039552</td>\n",
              "      <td>0.00000</td>\n",
              "      <td>0.287902</td>\n",
              "      <td>0.031573</td>\n",
              "      <td>0.030582</td>\n",
              "      <td>0.000000</td>\n",
              "      <td>0.081246</td>\n",
              "      <td>0.043836</td>\n",
              "      <td>0.039986</td>\n",
              "      <td>0.000000</td>\n",
              "      <td>0.137944</td>\n",
              "      <td>0.106439</td>\n",
              "      <td>0.0</td>\n",
              "      <td>0.157503</td>\n",
              "      <td>0.000000</td>\n",
              "      <td>0.000000</td>\n",
              "      <td>0.000000</td>\n",
              "      <td>0.00000</td>\n",
              "      <td>0.169046</td>\n",
              "      <td>0.000000</td>\n",
              "      <td>0.000000</td>\n",
              "      <td>0.0</td>\n",
              "      <td>0.000000</td>\n",
              "      <td>0.000000</td>\n",
              "      <td>0.093458</td>\n",
              "      <td>0.071090</td>\n",
              "      <td>0.184079</td>\n",
              "      <td>0.060210</td>\n",
              "      <td>1054</td>\n",
              "      <td>0</td>\n",
              "      <td>0</td>\n",
              "      <td>22</td>\n",
              "      <td>31</td>\n",
              "      <td>0</td>\n",
              "      <td>0</td>\n",
              "      <td>0</td>\n",
              "      <td>86</td>\n",
              "      <td>104</td>\n",
              "      <td>2164</td>\n",
              "      <td>0</td>\n",
              "      <td>1</td>\n",
              "      <td>0</td>\n",
              "      <td>0</td>\n",
              "      <td>0</td>\n",
              "      <td>0</td>\n",
              "      <td>0</td>\n",
              "      <td>0</td>\n",
              "      <td>0</td>\n",
              "      <td>0</td>\n",
              "      <td>0</td>\n",
              "      <td>1</td>\n",
              "      <td>0</td>\n",
              "      <td>0</td>\n",
              "      <td>0</td>\n",
              "      <td>1</td>\n",
              "      <td>0</td>\n",
              "      <td>0</td>\n",
              "      <td>0</td>\n",
              "      <td>0</td>\n",
              "      <td>0</td>\n",
              "      <td>0</td>\n",
              "      <td>0</td>\n",
              "      <td>0</td>\n",
              "      <td>0</td>\n",
              "      <td>0</td>\n",
              "      <td>0</td>\n",
              "      <td>5462</td>\n",
              "    </tr>\n",
              "    <tr>\n",
              "      <th>4</th>\n",
              "      <td>0.000000</td>\n",
              "      <td>0.109388</td>\n",
              "      <td>0.000000</td>\n",
              "      <td>0.000000</td>\n",
              "      <td>0.085556</td>\n",
              "      <td>0.000000</td>\n",
              "      <td>0.095310</td>\n",
              "      <td>0.181958</td>\n",
              "      <td>0.000000</td>\n",
              "      <td>0.069163</td>\n",
              "      <td>0.000000</td>\n",
              "      <td>0.078395</td>\n",
              "      <td>0.064544</td>\n",
              "      <td>0.116001</td>\n",
              "      <td>0.089462</td>\n",
              "      <td>0.000000</td>\n",
              "      <td>0.213571</td>\n",
              "      <td>0.0</td>\n",
              "      <td>0.093828</td>\n",
              "      <td>0.0</td>\n",
              "      <td>0.064544</td>\n",
              "      <td>0.0</td>\n",
              "      <td>0.000000</td>\n",
              "      <td>0.0</td>\n",
              "      <td>0.000000</td>\n",
              "      <td>0.092122</td>\n",
              "      <td>0.000000</td>\n",
              "      <td>0.000000</td>\n",
              "      <td>0.098504</td>\n",
              "      <td>0.000000</td>\n",
              "      <td>0.000000</td>\n",
              "      <td>0.082579</td>\n",
              "      <td>0.089653</td>\n",
              "      <td>0.000000</td>\n",
              "      <td>0.000000</td>\n",
              "      <td>0.070221</td>\n",
              "      <td>0.087687</td>\n",
              "      <td>0.097482</td>\n",
              "      <td>0.000000</td>\n",
              "      <td>0.159864</td>\n",
              "      <td>0.082534</td>\n",
              "      <td>0.000000</td>\n",
              "      <td>0.00000</td>\n",
              "      <td>0.000000</td>\n",
              "      <td>0.000000</td>\n",
              "      <td>0.000000</td>\n",
              "      <td>0.000000</td>\n",
              "      <td>0.187780</td>\n",
              "      <td>0.00000</td>\n",
              "      <td>0.0</td>\n",
              "      <td>0.000000</td>\n",
              "      <td>0.077936</td>\n",
              "      <td>0.070443</td>\n",
              "      <td>0.341591</td>\n",
              "      <td>0.171958</td>\n",
              "      <td>0.000000</td>\n",
              "      <td>0.181439</td>\n",
              "      <td>0.000000</td>\n",
              "      <td>0.000000</td>\n",
              "      <td>0.000000</td>\n",
              "      <td>0.089607</td>\n",
              "      <td>0.000000</td>\n",
              "      <td>0.092612</td>\n",
              "      <td>0.073977</td>\n",
              "      <td>0.337843</td>\n",
              "      <td>0.069723</td>\n",
              "      <td>0.083160</td>\n",
              "      <td>0.205765</td>\n",
              "      <td>0.000000</td>\n",
              "      <td>0.064266</td>\n",
              "      <td>0.181408</td>\n",
              "      <td>0.069831</td>\n",
              "      <td>0.082051</td>\n",
              "      <td>0.00000</td>\n",
              "      <td>0.000000</td>\n",
              "      <td>0.392991</td>\n",
              "      <td>0.000000</td>\n",
              "      <td>0.000000</td>\n",
              "      <td>0.168547</td>\n",
              "      <td>0.000000</td>\n",
              "      <td>0.165905</td>\n",
              "      <td>0.000000</td>\n",
              "      <td>0.000000</td>\n",
              "      <td>0.055202</td>\n",
              "      <td>0.0</td>\n",
              "      <td>0.000000</td>\n",
              "      <td>0.000000</td>\n",
              "      <td>0.000000</td>\n",
              "      <td>0.070301</td>\n",
              "      <td>0.09635</td>\n",
              "      <td>0.175344</td>\n",
              "      <td>0.000000</td>\n",
              "      <td>0.000000</td>\n",
              "      <td>0.0</td>\n",
              "      <td>0.000000</td>\n",
              "      <td>0.085743</td>\n",
              "      <td>0.000000</td>\n",
              "      <td>0.147478</td>\n",
              "      <td>0.000000</td>\n",
              "      <td>0.062453</td>\n",
              "      <td>1242</td>\n",
              "      <td>0</td>\n",
              "      <td>1</td>\n",
              "      <td>51</td>\n",
              "      <td>16</td>\n",
              "      <td>0</td>\n",
              "      <td>0</td>\n",
              "      <td>0</td>\n",
              "      <td>86</td>\n",
              "      <td>130</td>\n",
              "      <td>786</td>\n",
              "      <td>0</td>\n",
              "      <td>1</td>\n",
              "      <td>0</td>\n",
              "      <td>0</td>\n",
              "      <td>0</td>\n",
              "      <td>0</td>\n",
              "      <td>0</td>\n",
              "      <td>0</td>\n",
              "      <td>0</td>\n",
              "      <td>0</td>\n",
              "      <td>0</td>\n",
              "      <td>1</td>\n",
              "      <td>0</td>\n",
              "      <td>0</td>\n",
              "      <td>0</td>\n",
              "      <td>1</td>\n",
              "      <td>0</td>\n",
              "      <td>0</td>\n",
              "      <td>0</td>\n",
              "      <td>0</td>\n",
              "      <td>0</td>\n",
              "      <td>0</td>\n",
              "      <td>0</td>\n",
              "      <td>0</td>\n",
              "      <td>0</td>\n",
              "      <td>0</td>\n",
              "      <td>0</td>\n",
              "      <td>3949</td>\n",
              "    </tr>\n",
              "  </tbody>\n",
              "</table>\n",
              "</div>\n",
              "      <button class=\"colab-df-convert\" onclick=\"convertToInteractive('df-74b4d05e-3b26-4824-aa2f-b64e47ea4207')\"\n",
              "              title=\"Convert this dataframe to an interactive table.\"\n",
              "              style=\"display:none;\">\n",
              "        \n",
              "  <svg xmlns=\"http://www.w3.org/2000/svg\" height=\"24px\"viewBox=\"0 0 24 24\"\n",
              "       width=\"24px\">\n",
              "    <path d=\"M0 0h24v24H0V0z\" fill=\"none\"/>\n",
              "    <path d=\"M18.56 5.44l.94 2.06.94-2.06 2.06-.94-2.06-.94-.94-2.06-.94 2.06-2.06.94zm-11 1L8.5 8.5l.94-2.06 2.06-.94-2.06-.94L8.5 2.5l-.94 2.06-2.06.94zm10 10l.94 2.06.94-2.06 2.06-.94-2.06-.94-.94-2.06-.94 2.06-2.06.94z\"/><path d=\"M17.41 7.96l-1.37-1.37c-.4-.4-.92-.59-1.43-.59-.52 0-1.04.2-1.43.59L10.3 9.45l-7.72 7.72c-.78.78-.78 2.05 0 2.83L4 21.41c.39.39.9.59 1.41.59.51 0 1.02-.2 1.41-.59l7.78-7.78 2.81-2.81c.8-.78.8-2.07 0-2.86zM5.41 20L4 18.59l7.72-7.72 1.47 1.35L5.41 20z\"/>\n",
              "  </svg>\n",
              "      </button>\n",
              "      \n",
              "  <style>\n",
              "    .colab-df-container {\n",
              "      display:flex;\n",
              "      flex-wrap:wrap;\n",
              "      gap: 12px;\n",
              "    }\n",
              "\n",
              "    .colab-df-convert {\n",
              "      background-color: #E8F0FE;\n",
              "      border: none;\n",
              "      border-radius: 50%;\n",
              "      cursor: pointer;\n",
              "      display: none;\n",
              "      fill: #1967D2;\n",
              "      height: 32px;\n",
              "      padding: 0 0 0 0;\n",
              "      width: 32px;\n",
              "    }\n",
              "\n",
              "    .colab-df-convert:hover {\n",
              "      background-color: #E2EBFA;\n",
              "      box-shadow: 0px 1px 2px rgba(60, 64, 67, 0.3), 0px 1px 3px 1px rgba(60, 64, 67, 0.15);\n",
              "      fill: #174EA6;\n",
              "    }\n",
              "\n",
              "    [theme=dark] .colab-df-convert {\n",
              "      background-color: #3B4455;\n",
              "      fill: #D2E3FC;\n",
              "    }\n",
              "\n",
              "    [theme=dark] .colab-df-convert:hover {\n",
              "      background-color: #434B5C;\n",
              "      box-shadow: 0px 1px 3px 1px rgba(0, 0, 0, 0.15);\n",
              "      filter: drop-shadow(0px 1px 2px rgba(0, 0, 0, 0.3));\n",
              "      fill: #FFFFFF;\n",
              "    }\n",
              "  </style>\n",
              "\n",
              "      <script>\n",
              "        const buttonEl =\n",
              "          document.querySelector('#df-74b4d05e-3b26-4824-aa2f-b64e47ea4207 button.colab-df-convert');\n",
              "        buttonEl.style.display =\n",
              "          google.colab.kernel.accessAllowed ? 'block' : 'none';\n",
              "\n",
              "        async function convertToInteractive(key) {\n",
              "          const element = document.querySelector('#df-74b4d05e-3b26-4824-aa2f-b64e47ea4207');\n",
              "          const dataTable =\n",
              "            await google.colab.kernel.invokeFunction('convertToInteractive',\n",
              "                                                     [key], {});\n",
              "          if (!dataTable) return;\n",
              "\n",
              "          const docLinkHtml = 'Like what you see? Visit the ' +\n",
              "            '<a target=\"_blank\" href=https://colab.research.google.com/notebooks/data_table.ipynb>data table notebook</a>'\n",
              "            + ' to learn more about interactive tables.';\n",
              "          element.innerHTML = '';\n",
              "          dataTable['output_type'] = 'display_data';\n",
              "          await google.colab.output.renderOutput(dataTable, element);\n",
              "          const docLink = document.createElement('div');\n",
              "          docLink.innerHTML = docLinkHtml;\n",
              "          element.appendChild(docLink);\n",
              "        }\n",
              "      </script>\n",
              "    </div>\n",
              "  </div>\n",
              "  "
            ],
            "text/plain": [
              "       abil   account      also       amp    applic      base   benefit  \\\n",
              "0  0.000000  0.000000  0.122895  0.108523  0.000000  0.000000  0.000000   \n",
              "1  0.000000  0.041676  0.033662  0.059451  0.000000  0.061661  0.000000   \n",
              "2  0.000000  0.000000  0.000000  0.092739  0.000000  0.000000  0.000000   \n",
              "3  0.040064  0.580023  0.000000  0.000000  0.000000  0.000000  0.091887   \n",
              "4  0.000000  0.109388  0.000000  0.000000  0.085556  0.000000  0.095310   \n",
              "\n",
              "       best     build      busi    candid    client    commun   compani  \\\n",
              "0  0.126546  0.000000  0.096202  0.000000  0.000000  0.179553  0.080675   \n",
              "1  0.000000  0.000000  0.105402  0.030751  0.119472  0.098363  0.044195   \n",
              "2  0.000000  0.000000  0.000000  0.191878  0.279550  0.000000  0.206823   \n",
              "3  0.000000  0.121006  0.300054  0.000000  0.000000  0.031113  0.027958   \n",
              "4  0.181958  0.000000  0.069163  0.000000  0.078395  0.064544  0.116001   \n",
              "\n",
              "      creat   creativ    custom  data     deliv  design   develop  digit  \\\n",
              "0  0.124437  0.000000  0.000000   0.0  0.000000     0.0  0.179553    0.0   \n",
              "1  0.000000  0.039839  0.135615   0.0  0.071496     0.0  0.000000    0.0   \n",
              "2  0.000000  0.000000  0.000000   0.0  0.000000     0.0  0.000000    0.0   \n",
              "3  0.000000  0.050406  0.102950   0.0  0.000000     0.0  0.124450    0.0   \n",
              "4  0.089462  0.000000  0.213571   0.0  0.093828     0.0  0.064544    0.0   \n",
              "\n",
              "     employ  employe     engin     ensur   environ     excel    experi  \\\n",
              "0  0.000000      0.0  0.130900  0.000000  0.000000  0.000000  0.068507   \n",
              "1  0.000000      0.0  0.000000  0.000000  0.030859  0.098448  0.112588   \n",
              "2  0.502056      0.0  0.223721  0.109500  0.000000  0.000000  0.058543   \n",
              "3  0.000000      0.0  0.000000  0.044407  0.117130  0.000000  0.142449   \n",
              "4  0.000000      0.0  0.000000  0.092122  0.000000  0.000000  0.098504   \n",
              "\n",
              "        get     great      grow        ha      help      high    includ  \\\n",
              "0  0.000000  0.000000  0.000000  0.249403  0.000000  0.000000  0.000000   \n",
              "1  0.216858  0.107584  0.125848  0.136628  0.000000  0.067409  0.187275   \n",
              "2  0.112760  0.000000  0.000000  0.106564  0.000000  0.000000  0.000000   \n",
              "3  0.000000  0.000000  0.000000  0.000000  0.034631  0.000000  0.135396   \n",
              "4  0.000000  0.000000  0.082579  0.089653  0.000000  0.000000  0.070221   \n",
              "\n",
              "   industri     innov    intern       job  knowledg      lead    learn  \\\n",
              "0  0.000000  0.000000  0.270696  0.000000  0.000000  0.000000  0.00000   \n",
              "1  0.000000  0.037140  0.074146  0.000000  0.031445  0.000000  0.03593   \n",
              "2  0.104227  0.000000  0.115662  0.000000  0.000000  0.000000  0.00000   \n",
              "3  0.084537  0.000000  0.046906  0.000000  0.119354  0.126147  0.00000   \n",
              "4  0.087687  0.097482  0.000000  0.159864  0.082534  0.000000  0.00000   \n",
              "\n",
              "      level      like      look      make     manag   market  mobil      must  \\\n",
              "0  0.000000  0.278226  0.000000  0.000000  0.174128  0.35658    0.0  0.000000   \n",
              "1  0.035275  0.000000  0.027138  0.063312  0.357714  0.00000    0.0  0.000000   \n",
              "2  0.000000  0.000000  0.000000  0.000000  0.148801  0.00000    0.0  0.116346   \n",
              "3  0.000000  0.000000  0.000000  0.040052  0.181035  0.00000    0.0  0.000000   \n",
              "4  0.000000  0.000000  0.000000  0.000000  0.187780  0.00000    0.0  0.000000   \n",
              "\n",
              "       need       new     offer     offic       one      oper  opportun  \\\n",
              "0  0.108404  0.391929  0.118783  0.119592  0.122221  0.000000  0.000000   \n",
              "1  0.029693  0.000000  0.000000  0.098272  0.066955  0.000000  0.028723   \n",
              "2  0.092637  0.083731  0.000000  0.000000  0.000000  0.000000  0.089611   \n",
              "3  0.000000  0.033956  0.082330  0.000000  0.000000  0.000000  0.254387   \n",
              "4  0.077936  0.070443  0.341591  0.171958  0.000000  0.181439  0.000000   \n",
              "\n",
              "       part     peopl   perform    person      plan     posit   process  \\\n",
              "0  0.000000  0.112996  0.000000  0.000000  0.000000  0.000000  0.000000   \n",
              "1  0.035009  0.000000  0.000000  0.035191  0.035284  0.056370  0.064358   \n",
              "2  0.000000  0.000000  0.000000  0.000000  0.000000  0.087932  0.100393   \n",
              "3  0.044294  0.039159  0.000000  0.133573  0.000000  0.071320  0.081427   \n",
              "4  0.000000  0.000000  0.089607  0.000000  0.092612  0.073977  0.337843   \n",
              "\n",
              "    product  profession   program   project    provid   qualiti    requir  \\\n",
              "0  0.000000    0.115671  0.143104  0.000000  0.000000  0.000000  0.000000   \n",
              "1  0.425025    0.063367  0.000000  0.330143  0.024485  0.069115  0.000000   \n",
              "2  0.000000    0.000000  0.000000  0.205998  0.152776  0.215627  0.083003   \n",
              "3  0.000000    0.160345  0.099187  0.000000  0.092936  0.087446  0.000000   \n",
              "4  0.069723    0.083160  0.205765  0.000000  0.064266  0.181408  0.069831   \n",
              "\n",
              "    respons     role      sale    servic     skill   softwar     solut  \\\n",
              "0  0.114128  0.00000  0.000000  0.000000  0.000000  0.000000  0.000000   \n",
              "1  0.031261  0.17805  0.000000  0.224590  0.024171  0.036153  0.000000   \n",
              "2  0.000000  0.00000  0.000000  0.389268  0.150820  0.000000  0.100170   \n",
              "3  0.039552  0.00000  0.287902  0.031573  0.030582  0.000000  0.081246   \n",
              "4  0.082051  0.00000  0.000000  0.392991  0.000000  0.000000  0.168547   \n",
              "\n",
              "     strong   success   support    system      team  technic  technolog  \\\n",
              "0  0.000000  0.000000  0.224792  0.132681  0.153567      0.0   0.113620   \n",
              "1  0.000000  0.158021  0.000000  0.036343  0.105159      0.0   0.000000   \n",
              "2  0.216187  0.098600  0.000000  0.000000  0.000000      0.0   0.000000   \n",
              "3  0.043836  0.039986  0.000000  0.137944  0.106439      0.0   0.157503   \n",
              "4  0.000000  0.165905  0.000000  0.000000  0.055202      0.0   0.000000   \n",
              "\n",
              "       test       thi      time    train  understand        us       use  \\\n",
              "0  0.000000  0.000000  0.097785  0.00000    0.000000  0.000000  0.108787   \n",
              "1  0.000000  0.101393  0.026784  0.00000    0.066805  0.028613  0.029798   \n",
              "2  0.130841  0.000000  0.000000  0.00000    0.000000  0.000000  0.000000   \n",
              "3  0.000000  0.000000  0.000000  0.00000    0.169046  0.000000  0.000000   \n",
              "4  0.000000  0.000000  0.070301  0.09635    0.175344  0.000000  0.000000   \n",
              "\n",
              "   want       web      well    within      work     world      year  \\\n",
              "0   0.0  0.000000  0.000000  0.000000  0.273511  0.000000  0.000000   \n",
              "1   0.0  0.038078  0.000000  0.000000  0.168564  0.363728  0.000000   \n",
              "2   0.0  0.000000  0.000000  0.000000  0.116865  0.000000  0.000000   \n",
              "3   0.0  0.000000  0.000000  0.093458  0.071090  0.184079  0.060210   \n",
              "4   0.0  0.000000  0.085743  0.000000  0.147478  0.000000  0.062453   \n",
              "\n",
              "   department  telecommuting  has_questions  industry  function  fraudulent  \\\n",
              "0         758              0              0       123        22           0   \n",
              "1        1161              0              0        75         7           0   \n",
              "2        1242              0              0       123        36           0   \n",
              "3        1054              0              0        22        31           0   \n",
              "4        1242              0              1        51        16           0   \n",
              "\n",
              "   salary_specified  delta_salary  country  state  city  \\\n",
              "0                 0             0       86    227  1457   \n",
              "1                 0             0       61    293   188   \n",
              "2                 0             0       86    155  2213   \n",
              "3                 0             0       86    104  2164   \n",
              "4                 0             0       86    130   786   \n",
              "\n",
              "   employment_type_Contract  employment_type_Full-time  employment_type_Other  \\\n",
              "0                         0                          0                      1   \n",
              "1                         0                          1                      0   \n",
              "2                         0                          0                      0   \n",
              "3                         0                          1                      0   \n",
              "4                         0                          1                      0   \n",
              "\n",
              "   employment_type_Part-time  employment_type_Temporary  \\\n",
              "0                          0                          0   \n",
              "1                          0                          0   \n",
              "2                          0                          0   \n",
              "3                          0                          0   \n",
              "4                          0                          0   \n",
              "\n",
              "   employment_type_Unspecified  required_experience_Associate  \\\n",
              "0                            0                              0   \n",
              "1                            0                              0   \n",
              "2                            1                              0   \n",
              "3                            0                              0   \n",
              "4                            0                              0   \n",
              "\n",
              "   required_experience_Director  required_experience_Entry level  \\\n",
              "0                             0                                0   \n",
              "1                             0                                0   \n",
              "2                             0                                0   \n",
              "3                             0                                0   \n",
              "4                             0                                0   \n",
              "\n",
              "   required_experience_Executive  required_experience_Internship  \\\n",
              "0                              0                               1   \n",
              "1                              0                               0   \n",
              "2                              0                               0   \n",
              "3                              0                               0   \n",
              "4                              0                               0   \n",
              "\n",
              "   required_experience_Mid-Senior level  required_experience_Not Applicable  \\\n",
              "0                                     0                                   0   \n",
              "1                                     0                                   1   \n",
              "2                                     0                                   0   \n",
              "3                                     1                                   0   \n",
              "4                                     1                                   0   \n",
              "\n",
              "   required_experience_Unspecified  required_education_Associate Degree  \\\n",
              "0                                0                                    0   \n",
              "1                                0                                    0   \n",
              "2                                1                                    0   \n",
              "3                                0                                    0   \n",
              "4                                0                                    0   \n",
              "\n",
              "   required_education_Bachelor's Degree  required_education_Certification  \\\n",
              "0                                     0                                 0   \n",
              "1                                     0                                 0   \n",
              "2                                     0                                 0   \n",
              "3                                     1                                 0   \n",
              "4                                     1                                 0   \n",
              "\n",
              "   required_education_Doctorate  required_education_High School or equivalent  \\\n",
              "0                             0                                             0   \n",
              "1                             0                                             0   \n",
              "2                             0                                             0   \n",
              "3                             0                                             0   \n",
              "4                             0                                             0   \n",
              "\n",
              "   required_education_Master's Degree  required_education_Professional  \\\n",
              "0                                   0                                0   \n",
              "1                                   0                                0   \n",
              "2                                   0                                0   \n",
              "3                                   0                                0   \n",
              "4                                   0                                0   \n",
              "\n",
              "   required_education_Some College Coursework Completed  \\\n",
              "0                                                  0      \n",
              "1                                                  0      \n",
              "2                                                  0      \n",
              "3                                                  0      \n",
              "4                                                  0      \n",
              "\n",
              "   required_education_Some High School Coursework  \\\n",
              "0                                               0   \n",
              "1                                               0   \n",
              "2                                               0   \n",
              "3                                               0   \n",
              "4                                               0   \n",
              "\n",
              "   required_education_Unspecified  required_education_Vocational  \\\n",
              "0                               1                              0   \n",
              "1                               1                              0   \n",
              "2                               1                              0   \n",
              "3                               0                              0   \n",
              "4                               0                              0   \n",
              "\n",
              "   required_education_Vocational - Degree  \\\n",
              "0                                       0   \n",
              "1                                       0   \n",
              "2                                       0   \n",
              "3                                       0   \n",
              "4                                       0   \n",
              "\n",
              "   required_education_Vocational - HS Diploma  character_count  \n",
              "0                                           0             2663  \n",
              "1                                           0             6133  \n",
              "2                                           0             2641  \n",
              "3                                           0             5462  \n",
              "4                                           0             3949  "
            ]
          },
          "metadata": {},
          "execution_count": 67
        }
      ]
    },
    {
      "cell_type": "markdown",
      "metadata": {
        "id": "xs1oES6mz7W2"
      },
      "source": [
        "**Normalization**"
      ]
    },
    {
      "cell_type": "code",
      "execution_count": 53,
      "metadata": {
        "id": "Nvn1bqJ2z7W2"
      },
      "outputs": [],
      "source": [
        "#Применю StandardScaler для нормализации числовых признаков \n",
        "num_cols_std = StandardScaler().fit_transform(main_df[num_cols].values)\n",
        "main_df[num_cols] = num_cols_std"
      ]
    },
    {
      "cell_type": "markdown",
      "metadata": {
        "id": "X7CHnHlsz7W3"
      },
      "source": [
        "# Model"
      ]
    },
    {
      "cell_type": "markdown",
      "source": [
        "**CatBoostClassifier**"
      ],
      "metadata": {
        "id": "3FeZlhM2dLBd"
      }
    },
    {
      "cell_type": "code",
      "source": [
        "X = main_df.drop(['fraudulent'], axis=1).values\n",
        "y = main_df['fraudulent']\n",
        "cv = KFold(n_splits = 5, random_state=42, shuffle=True)\n",
        "\n",
        "scores = []\n",
        "for train_index, test_index in cv.split(X):\n",
        "    X_train, X_test = X[train_index], X[test_index]\n",
        "    y_train, y_test = y[train_index], y[test_index]\n",
        "    #Сбалансирую таргет:\n",
        "    smk  = SMOTETomek(random_state=42)\n",
        "    X_train,y_train = smk.fit_resample(X_train,y_train)\n",
        "\n",
        "    model = CatBoostClassifier(iterations=200,\n",
        "                            verbose=False,\n",
        "                            loss_function='Logloss',\n",
        "                            eval_metric = 'F1',\n",
        "                            ).fit(X_train, y_train, eval_set=(X_test, y_test), \n",
        "                            # sample_weight=sample_weight,\n",
        "                            use_best_model=True,)\n",
        "\n",
        "  # сделаем предсказание\n",
        "    preds = model.predict(X_test)\n",
        "    score = f1_score(y_test, preds)\n",
        "    scores.append(score)\n",
        "# оценим итоги. Взглянем на усредненное значение метрики по блокам\n",
        "print(f'MEAN F1: {np.mean(scores) * 100:.2f}%')\n",
        "print(f\"CatBoost classification report:\\n {classification_report(y_test, preds)}\")"
      ],
      "metadata": {
        "colab": {
          "base_uri": "https://localhost:8080/"
        },
        "id": "2sJUWcQDm7bo",
        "outputId": "75dae119-48ac-4569-8f5d-2dbb77c0f930"
      },
      "execution_count": 65,
      "outputs": [
        {
          "output_type": "stream",
          "name": "stdout",
          "text": [
            "MEAN F1: 75.69%\n",
            "CatBoost classification report:\n",
            "               precision    recall  f1-score   support\n",
            "\n",
            "           0       0.98      0.99      0.99      3398\n",
            "           1       0.83      0.62      0.71       178\n",
            "\n",
            "    accuracy                           0.97      3576\n",
            "   macro avg       0.90      0.81      0.85      3576\n",
            "weighted avg       0.97      0.97      0.97      3576\n",
            "\n"
          ]
        }
      ]
    },
    {
      "cell_type": "code",
      "source": [
        "print(accuracy_score(preds,y_test))\n",
        "sns.heatmap(confusion_matrix(y_test,preds), annot=True,fmt='3g', cbar=False)\n",
        "plt.show()"
      ],
      "metadata": {
        "colab": {
          "base_uri": "https://localhost:8080/",
          "height": 282
        },
        "id": "VoYV6SlCLdUe",
        "outputId": "f5902153-f9d4-4e2a-da22-163e39851a5c"
      },
      "execution_count": 66,
      "outputs": [
        {
          "output_type": "stream",
          "name": "stdout",
          "text": [
            "0.9745525727069351\n"
          ]
        },
        {
          "output_type": "display_data",
          "data": {
            "image/png": "[encoded data removed]",
            "text/plain": [
              "<Figure size 432x288 with 1 Axes>"
            ]
          },
          "metadata": {
            "needs_background": "light"
          }
        }
      ]
    },
    {
      "cell_type": "markdown",
      "source": [
        "провела эксперименты с удалением самого влиятельного признака 'has_company_logo' и решила его удалить. Метрика улучшилась! (без удаления около 60%)"
      ],
      "metadata": {
        "id": "n4LYX6zi-DfN"
      }
    },
    {
      "cell_type": "markdown",
      "metadata": {
        "id": "4HPQGHr-z7W3"
      },
      "source": [
        "Попробую применить другие базовые модели и посмотреть на точность классификации"
      ]
    },
    {
      "cell_type": "code",
      "source": [
        "def modeling(rf,gb,knn):\n",
        "  X = main_df.drop(['fraudulent'], axis=1).values\n",
        "  y = main_df['fraudulent']\n",
        "  cv = KFold(n_splits = 5, random_state=42, shuffle=True)\n",
        "\n",
        "  scores1 = []\n",
        "  scores2 = []\n",
        "  scores3 = []\n",
        "  for train_index, test_index in cv.split(X):\n",
        "      X_train, X_test = X[train_index], X[test_index]\n",
        "      y_train, y_test = y[train_index], y[test_index]\n",
        "      #Сбалансирую таргет:\n",
        "      smk  = SMOTETomek(random_state=42)\n",
        "      X_train,y_train = smk.fit_resample(X_train,y_train)\n",
        "\n",
        "      rf.fit(X_train,y_train)\n",
        "      gb.fit(X_train, y_train)\n",
        "      knn.fit(X_train,y_train)\n",
        "    # сделаем предсказание\n",
        "      preds1 = rf.predict(X_test)\n",
        "      preds2 = gb.predict(X_test)\n",
        "      preds3 = knn.predict(X_test)\n",
        "\n",
        "      score1 = f1_score(y_test, preds1)\n",
        "      score2 = f1_score(y_test, preds2)\n",
        "      score3 = f1_score(y_test, preds3)\n",
        "      scores1.append(score1)\n",
        "      scores2.append(score2)\n",
        "      scores3.append(score3)\n",
        "  # оценим итоги. Взглянем на усредненное значение метрики по блокам\n",
        "  print(f'MEAN F1-rf: {np.mean(scores1) * 100:.2f}%')\n",
        "  print(f'MEAN F1-gb: {np.mean(scores2) * 100:.2f}%')\n",
        "  print(f'MEAN F1-knn: {np.mean(scores3) * 100:.2f}%')"
      ],
      "metadata": {
        "id": "3pGeBRq3p6o0"
      },
      "execution_count": 71,
      "outputs": []
    },
    {
      "cell_type": "code",
      "execution_count": 72,
      "metadata": {
        "colab": {
          "base_uri": "https://localhost:8080/"
        },
        "id": "FX9Ybt7Hz7W3",
        "outputId": "db8dec15-b511-48f2-e144-4125dd682fc3"
      },
      "outputs": [
        {
          "output_type": "stream",
          "name": "stdout",
          "text": [
            "MEAN F1-rf: 71.90%\n",
            "MEAN F1-gb: 59.11%\n",
            "MEAN F1-knn: 38.57%\n"
          ]
        }
      ],
      "source": [
        "rf=RandomForestClassifier(n_jobs=3,oob_score=True,n_estimators=100,criterion=\"entropy\").fit(X_train,y_train)\n",
        "gb=GradientBoostingClassifier().fit(X_train, y_train)\n",
        "knn = KNeighborsClassifier(n_neighbors=3).fit(X_train,y_train)\n",
        "modeling(rf,gb,knn)"
      ]
    },
    {
      "cell_type": "markdown",
      "metadata": {
        "id": "khRndFYxZs4H"
      },
      "source": [
        "Попробую применить наиболее частую реализацию бустинга - алгоритм AdaBoost. Это мета-алгоритм, который в процессе обучения строит композицию из базовых алгоритмов обучения для улучшения их эффективности"
      ]
    },
    {
      "cell_type": "code",
      "execution_count": 73,
      "metadata": {
        "colab": {
          "base_uri": "https://localhost:8080/"
        },
        "id": "hePTk-UERR5q",
        "outputId": "56dc1362-d383-4240-ea0d-55683d741547"
      },
      "outputs": [
        {
          "output_type": "execute_result",
          "data": {
            "text/plain": [
              "array([0, 0, 0, ..., 0, 0, 0], dtype=int64)"
            ]
          },
          "metadata": {},
          "execution_count": 73
        }
      ],
      "source": [
        "from sklearn.ensemble import AdaBoostClassifier\n",
        "clf = AdaBoostClassifier(n_estimators=100, random_state=42)\n",
        "clf.fit(X_train,y_train)\n",
        "\n",
        "clf.predict(X_test)"
      ]
    },
    {
      "cell_type": "code",
      "execution_count": 74,
      "metadata": {
        "colab": {
          "base_uri": "https://localhost:8080/"
        },
        "id": "eFPM3RJJR7fD",
        "outputId": "a2da8cd1-da46-4b16-94a0-fa42b6d215a7"
      },
      "outputs": [
        {
          "output_type": "stream",
          "name": "stdout",
          "text": [
            "0.935682326621924\n",
            "              precision    recall  f1-score   support\n",
            "\n",
            "           0       0.98      0.95      0.97      3398\n",
            "           1       0.40      0.57      0.47       178\n",
            "\n",
            "    accuracy                           0.94      3576\n",
            "   macro avg       0.69      0.76      0.72      3576\n",
            "weighted avg       0.95      0.94      0.94      3576\n",
            "\n"
          ]
        }
      ],
      "source": [
        "print(clf.score(X_test,y_test))\n",
        "print(classification_report(y_test, clf.predict(X_test)))"
      ]
    },
    {
      "cell_type": "markdown",
      "metadata": {
        "id": "9OOptPlNz7W3"
      },
      "source": [
        "Попробую подобрать параметры:"
      ]
    },
    {
      "cell_type": "code",
      "execution_count": 75,
      "metadata": {
        "id": "dihdmjc1z7W3"
      },
      "outputs": [],
      "source": [
        "# from sklearn.model_selection import GridSearchCV\n",
        "# parameters={\n",
        "#     'max_depth': [10,40,None],\n",
        "#     'n_estimators': [50, 100,200],\n",
        "#     'min_samples_leaf': [1, 4],\n",
        "#     'min_samples_split': [2,20,50,150,200,400,600]\n",
        "# }\n",
        "\n",
        "# model = GradientBoostingClassifier()\n",
        "# model.fit(X_train, y_train)\n",
        "\n",
        "# clf = GridSearchCV(model, parameters,cv=5)\n",
        "\n",
        "# clf.fit(X_train, y_train)\n",
        "\n",
        "# #     best_max_depth = best_model.best_estimator_.get_params()['max_depth']\n",
        "# #     best_n_estimators = best_model.best_estimator_.get_params()['n_estimators']\n",
        "\n",
        "# print(clf.best_params_)"
      ]
    },
    {
      "cell_type": "markdown",
      "metadata": {
        "id": "1jyrUydcz7W3"
      },
      "source": [
        "Закомментирую,тк очень долго работает"
      ]
    },
    {
      "cell_type": "code",
      "execution_count": 76,
      "metadata": {
        "id": "nUW0OomPz7W3",
        "colab": {
          "base_uri": "https://localhost:8080/"
        },
        "outputId": "2f41c76e-f698-438a-8884-f18170926943"
      },
      "outputs": [
        {
          "output_type": "stream",
          "name": "stdout",
          "text": [
            "Gradient Boost train accuracy: 1.0\n",
            "Gradient Boost test accuracy: 0.9793064876957495\n",
            "Gradient Boost classification report:\n",
            "               precision    recall  f1-score   support\n",
            "\n",
            "           0       0.98      1.00      0.99      3398\n",
            "           1       0.92      0.64      0.75       178\n",
            "\n",
            "    accuracy                           0.98      3576\n",
            "   macro avg       0.95      0.82      0.87      3576\n",
            "weighted avg       0.98      0.98      0.98      3576\n",
            "\n"
          ]
        }
      ],
      "source": [
        "gb=GradientBoostingClassifier(min_samples_split=200,max_depth=10).fit(X_train, y_train)  \n",
        "print(f\"Gradient Boost train accuracy: {accuracy_score(gb.predict(X_train),y_train)}\")\n",
        "print(f\"Gradient Boost test accuracy: {accuracy_score(gb.predict(X_test),y_test)}\")\n",
        "print(f\"Gradient Boost classification report:\\n {classification_report(y_test, gb.predict(X_test))}\")"
      ]
    },
    {
      "cell_type": "markdown",
      "source": [
        "С подбором параметров достигли более лучших результатов"
      ],
      "metadata": {
        "id": "WlLW0bX8HpYK"
      }
    },
    {
      "cell_type": "markdown",
      "metadata": {
        "id": "eCYqQ5Jjz7W8"
      },
      "source": [
        "**Bi-Directional LSTM**"
      ]
    },
    {
      "cell_type": "code",
      "execution_count": null,
      "metadata": {
        "collapsed": true,
        "id": "kxcwL2NRz7W8"
      },
      "outputs": [],
      "source": [
        "#Очистку текста я уже проводила,поэтому сразу использую веторизацию с помощью one-hot\n",
        "\n",
        "voc_size=5000\n",
        "onehot_text=[one_hot(words,voc_size)for words in text] \n",
        "onehot_text[0]"
      ]
    },
    {
      "cell_type": "code",
      "execution_count": 55,
      "metadata": {
        "id": "7r6gGjRAz7W8",
        "colab": {
          "base_uri": "https://localhost:8080/"
        },
        "outputId": "5bab7870-4dfa-4a70-c324-ee13f73dc0ea"
      },
      "outputs": [
        {
          "output_type": "stream",
          "name": "stdout",
          "text": [
            "[[ 718  656 3179 ... 3914 1560 2859]\n",
            " [4660 3914 3519 ...  737 1966 4351]\n",
            " [4554 1607 2776 ... 4444  341 3356]\n",
            " ...\n",
            " [1133 1141  341 ... 3567  106  654]\n",
            " [3246 1956 1920 ... 2772  720 3868]\n",
            " [1386 1043 3095 ... 2378 2078 2145]]\n"
          ]
        }
      ],
      "source": [
        "sent_length=100\n",
        "sent_with_same_lenght = pad_sequences(onehot_text,padding='post',maxlen=sent_length)\n",
        "print(sent_with_same_lenght)"
      ]
    },
    {
      "cell_type": "code",
      "execution_count": 56,
      "metadata": {
        "id": "xP-7f3ABz7W8",
        "colab": {
          "base_uri": "https://localhost:8080/"
        },
        "outputId": "f4db8983-2232-4367-fde1-101aae683001"
      },
      "outputs": [
        {
          "output_type": "stream",
          "name": "stdout",
          "text": [
            "Model: \"sequential\"\n",
            "_________________________________________________________________\n",
            " Layer (type)                Output Shape              Param #   \n",
            "=================================================================\n",
            " embedding (Embedding)       (None, 100, 80)           400000    \n",
            "                                                                 \n",
            " bidirectional (Bidirectiona  (None, 300)              277200    \n",
            " l)                                                              \n",
            "                                                                 \n",
            " dropout (Dropout)           (None, 300)               0         \n",
            "                                                                 \n",
            " dense (Dense)               (None, 1)                 301       \n",
            "                                                                 \n",
            "=================================================================\n",
            "Total params: 677,501\n",
            "Trainable params: 677,501\n",
            "Non-trainable params: 0\n",
            "_________________________________________________________________\n",
            "None\n"
          ]
        }
      ],
      "source": [
        "#  Строим модель\n",
        "embedding_vector_features=80\n",
        "model1=Sequential()\n",
        "model1.add(Embedding(voc_size,embedding_vector_features,input_length=sent_length))\n",
        "model1.add(Bidirectional(LSTM(150))) #двунаправленный LSTM:будет запускать входные данные \n",
        "                                     #двумя способами: один из прошлого в будущее и один из будущего в прошлое\n",
        "model1.add(Dropout(0.4))\n",
        "model1.add(Dense(1,activation='sigmoid')) \n",
        "model1.compile(loss='binary_crossentropy',optimizer='adam',metrics=['accuracy'])\n",
        "print(model1.summary())"
      ]
    },
    {
      "cell_type": "code",
      "execution_count": 57,
      "metadata": {
        "id": "CK4bbIhHz7W8",
        "colab": {
          "base_uri": "https://localhost:8080/"
        },
        "outputId": "2b1939cd-f4c3-4b1e-994b-ca0707be250d"
      },
      "outputs": [
        {
          "output_type": "execute_result",
          "data": {
            "text/plain": [
              "(17880, (17880,))"
            ]
          },
          "metadata": {},
          "execution_count": 57
        }
      ],
      "source": [
        "len(sent_with_same_lenght),df['fraudulent'].shape"
      ]
    },
    {
      "cell_type": "code",
      "execution_count": 58,
      "metadata": {
        "id": "Ho2JFGgEz7W8"
      },
      "outputs": [],
      "source": [
        "X = np.array(sent_with_same_lenght)\n",
        "y = np.array(df['fraudulent'])\n",
        "X_train, X_test, y_train, y_test = train_test_split(X, y, test_size=0.25,\n",
        "                                                    shuffle=True, random_state=RANDOM_SEED)"
      ]
    },
    {
      "cell_type": "code",
      "source": [
        "#oversampling для балансировки данных целевой переменной\n",
        "smk  = SMOTETomek(random_state=42)\n",
        "X_train,y_train = smk.fit_resample(X_train,y_train)"
      ],
      "metadata": {
        "id": "MP3mEFEHMQBH"
      },
      "execution_count": 59,
      "outputs": []
    },
    {
      "cell_type": "code",
      "execution_count": 60,
      "metadata": {
        "id": "kpGtxQRoz7W8",
        "colab": {
          "base_uri": "https://localhost:8080/"
        },
        "outputId": "1b0e3752-71a2-4683-9f61-8961f8ee7ac2"
      },
      "outputs": [
        {
          "output_type": "stream",
          "name": "stdout",
          "text": [
            "Epoch 1/15\n",
            "399/399 [==============================] - 29s 55ms/step - loss: 0.1614 - accuracy: 0.9520 - val_loss: 0.1246 - val_accuracy: 0.9667\n",
            "Epoch 2/15\n",
            "399/399 [==============================] - 20s 51ms/step - loss: 0.0710 - accuracy: 0.9824 - val_loss: 0.1243 - val_accuracy: 0.9682\n",
            "Epoch 3/15\n",
            "399/399 [==============================] - 20s 51ms/step - loss: 0.0731 - accuracy: 0.9792 - val_loss: 0.1351 - val_accuracy: 0.9655\n",
            "Epoch 4/15\n",
            "399/399 [==============================] - 20s 51ms/step - loss: 0.0621 - accuracy: 0.9828 - val_loss: 0.1330 - val_accuracy: 0.9617\n",
            "Epoch 5/15\n",
            "399/399 [==============================] - 20s 51ms/step - loss: 0.0396 - accuracy: 0.9884 - val_loss: 0.1015 - val_accuracy: 0.9682\n",
            "Epoch 6/15\n",
            "399/399 [==============================] - 20s 51ms/step - loss: 0.0214 - accuracy: 0.9934 - val_loss: 0.1157 - val_accuracy: 0.9662\n",
            "Epoch 7/15\n",
            "399/399 [==============================] - 20s 51ms/step - loss: 0.0130 - accuracy: 0.9963 - val_loss: 0.1139 - val_accuracy: 0.9685\n",
            "Epoch 8/15\n",
            "399/399 [==============================] - 20s 51ms/step - loss: 0.0076 - accuracy: 0.9977 - val_loss: 0.1508 - val_accuracy: 0.9689\n",
            "Epoch 9/15\n",
            "399/399 [==============================] - 20s 51ms/step - loss: 0.0065 - accuracy: 0.9981 - val_loss: 0.1409 - val_accuracy: 0.9687\n",
            "Epoch 10/15\n",
            "399/399 [==============================] - 20s 51ms/step - loss: 0.0038 - accuracy: 0.9989 - val_loss: 0.1539 - val_accuracy: 0.9729\n",
            "Epoch 11/15\n",
            "399/399 [==============================] - 21s 51ms/step - loss: 0.0150 - accuracy: 0.9948 - val_loss: 0.1503 - val_accuracy: 0.9658\n",
            "Epoch 12/15\n",
            "399/399 [==============================] - 20s 51ms/step - loss: 0.0075 - accuracy: 0.9979 - val_loss: 0.1709 - val_accuracy: 0.9696\n",
            "Epoch 13/15\n",
            "399/399 [==============================] - 21s 52ms/step - loss: 0.0013 - accuracy: 0.9996 - val_loss: 0.1998 - val_accuracy: 0.9694\n",
            "Epoch 14/15\n",
            "399/399 [==============================] - 21s 51ms/step - loss: 0.0018 - accuracy: 0.9995 - val_loss: 0.1895 - val_accuracy: 0.9667\n",
            "Epoch 15/15\n",
            "399/399 [==============================] - 20s 51ms/step - loss: 0.0028 - accuracy: 0.9992 - val_loss: 0.1973 - val_accuracy: 0.9736\n"
          ]
        },
        {
          "output_type": "execute_result",
          "data": {
            "text/plain": [
              "<keras.callbacks.History at 0x7f931daa4410>"
            ]
          },
          "metadata": {},
          "execution_count": 60
        }
      ],
      "source": [
        "# обучаем модель:\n",
        "model1.fit(X_train,y_train,validation_data=(X_test,y_test),epochs=15,batch_size=64)"
      ]
    },
    {
      "cell_type": "code",
      "execution_count": 61,
      "metadata": {
        "id": "uQa7hHNLz7W8"
      },
      "outputs": [],
      "source": [
        "y_pred=model1.predict(X_test)\n",
        "y_pred = np.round(y_pred).astype(int)"
      ]
    },
    {
      "cell_type": "code",
      "source": [
        "print(f\"accuracy_score:\\n {accuracy_score(y_test,y_pred)}\")\n",
        "print(f\"BiRNN:\\n {classification_report(y_test,y_pred)}\")"
      ],
      "metadata": {
        "colab": {
          "base_uri": "https://localhost:8080/"
        },
        "id": "b9CEkgaPUg_p",
        "outputId": "121a7822-811d-41ef-e52e-2bbb271bf383"
      },
      "execution_count": 62,
      "outputs": [
        {
          "output_type": "stream",
          "name": "stdout",
          "text": [
            "accuracy_score:\n",
            " 0.9736017897091722\n",
            "BiRNN:\n",
            "               precision    recall  f1-score   support\n",
            "\n",
            "           0       0.98      0.99      0.99      4247\n",
            "           1       0.80      0.63      0.70       223\n",
            "\n",
            "    accuracy                           0.97      4470\n",
            "   macro avg       0.89      0.81      0.84      4470\n",
            "weighted avg       0.97      0.97      0.97      4470\n",
            "\n"
          ]
        }
      ]
    },
    {
      "cell_type": "code",
      "source": [
        "from sklearn.metrics import plot_confusion_matrix\n",
        "sns.heatmap(confusion_matrix(y_test,y_pred), annot=True,fmt='3g', cbar=False)\n",
        "plt.show()"
      ],
      "metadata": {
        "colab": {
          "base_uri": "https://localhost:8080/",
          "height": 265
        },
        "id": "QpXySVvbTh1N",
        "outputId": "685cdb95-3b36-4d11-e0f8-f07088be5bd8"
      },
      "execution_count": 63,
      "outputs": [
        {
          "output_type": "display_data",
          "data": {
            "image/png": "[encoded data removed]",
            "text/plain": [
              "<Figure size 432x288 with 1 Axes>"
            ]
          },
          "metadata": {
            "needs_background": "light"
          }
        }
      ]
    },
    {
      "cell_type": "markdown",
      "metadata": {
        "id": "0zSV-EJRXRGF"
      },
      "source": [
        "Решила попробовать использовать \"Двунаправленные LSTM\" и результат очень даже неплохой,метрика F1 - 84%. Bidirectional LSTM представляет собой две однонаправленные рекуррентные сети, одна из которых обрабатывает входную последовательность в прямом порядке, а другая — в обратном.Благодаря данной архитектуре сети доступна информация о контексте как из прошлого, так и из будущего, что решает проблему однонаправленных рекуррентных сетей. Для обучения biRNN используются те же алгоритмы, что и для RNN."
      ]
    },
    {
      "cell_type": "markdown",
      "metadata": {
        "id": "KFV3Hi4tYdw5"
      },
      "source": [
        "**Выводы:**"
      ]
    },
    {
      "cell_type": "markdown",
      "metadata": {
        "id": "u9HOtwINYWdD"
      },
      "source": [
        "В результате анализа, мы можем обоснованно распознать, является ли вакансия мошеннической, используя несколько особенностей, основанных на анализе информации: \n",
        "1. мошеннические вакансии обычно не имеют корпоративного логотипа;\n",
        "2. не добавляют проверочные вопросы; \n",
        "3. обычно упоминают информацию о зарплате даже в названии, чтобы заманить кандидатов;\n",
        "4. могут пропустить определенные атрибуты работы (например, отрасль, должность, уровень образования кандидата,и уровень опыта)\n",
        "\n",
        "Модели так же предполагают, что профиль компании является не самой сильной стороной, существуют и другие полезные функции, такие как описание должности, требования и бонусы, которые также обладают хорошей предсказательной силой.\n",
        "\n",
        "Проведена вся необходимая работа по подготовке данных, их анализ, извлечение информации, обработка и подготовка для дальнейшей работы. Создан бейзлайн, по которому сравнивались изменения в датасете. Датасет проверен на дубликаты и выбросы, выполнена нормализация, использовались классические методы кодирования категориальных признаков. Подготовлены дополнительные признаки. По итогам анализа, из некоторых признаков были извлечены более полезная информация, и далее изначальные удалены. Использовались классические методы обработки языка,а именно очистка текста. В модели применялась токенизация и лемматизация.\n",
        "\n",
        "\n",
        " Я убедилась, что с помощью базовых моделей, можно получить хорошую предсказательную силу, применив NLP, поработав с обработкой текста. С базовыми моделями, основанными на NLP, мы получаем очень хорошую точность - av.F1 - 85%  с минимальной настройкой гиперпараметров. С более сложными моделями, такими как  \"Двунаправленные LSTM\" по-прежнему получаем хороший результат и неплохую классификацию по confusion matrix."
      ]
    },
    {
      "cell_type": "code",
      "source": [
        ""
      ],
      "metadata": {
        "id": "GHpURAc9RGkf"
      },
      "execution_count": null,
      "outputs": []
    }
  ],
  "metadata": {
    "colab": {
      "collapsed_sections": [],
      "name": "Copy of graduate-project-skillfactory-pr.ipynb",
      "provenance": [],
      "include_colab_link": true
    },
    "kernelspec": {
      "display_name": "Python 3",
      "language": "python",
      "name": "python3"
    },
    "language_info": {
      "codemirror_mode": {
        "name": "ipython",
        "version": 3
      },
      "file_extension": ".py",
      "mimetype": "text/x-python",
      "name": "python",
      "nbconvert_exporter": "python",
      "pygments_lexer": "ipython3",
      "version": "3.7.6"
    }
  },
  "nbformat": 4,
  "nbformat_minor": 0
}
