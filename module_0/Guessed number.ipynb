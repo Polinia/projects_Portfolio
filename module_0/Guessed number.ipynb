{
  "cells": [
    {
      "cell_type": "markdown",
      "metadata": {
        "id": "view-in-github",
        "colab_type": "text"
      },
      "source": [
        "<a href=\"https://colab.research.google.com/github/Polinia/projects_Portfolio/blob/main/module_0/Guessed%20number.ipynb\" target=\"_parent\"><img src=\"https://colab.research.google.com/assets/colab-badge.svg\" alt=\"Open In Colab\"/></a>"
      ]
    },
    {
      "cell_type": "code",
      "execution_count": 1,
      "metadata": {
        "colab": {
          "base_uri": "https://localhost:8080/"
        },
        "id": "CegblFgqWFEX",
        "outputId": "b730f62c-dae6-4f4d-cc8a-eacc083299e5"
      },
      "outputs": [
        {
          "output_type": "stream",
          "name": "stdout",
          "text": [
            "Guessed number from 1 to 100\n",
            "6\n",
            "you guessed the number 38 in 6 attempt.\n",
            "Your algorithm guesses the number on average in 5 attempt\n"
          ]
        },
        {
          "output_type": "execute_result",
          "data": {
            "text/plain": [
              "5"
            ]
          },
          "metadata": {},
          "execution_count": 1
        }
      ],
      "source": [
        "import numpy as np\n",
        "number = np.random.randint(1,101)    # guessed the number\n",
        "print (\"Guessed number from 1 to 100\")\n",
        "np.random.seed(1)\n",
        "number = np.random.randint(1,101)\n",
        "\n",
        "def game(number):\n",
        "    count = 0\n",
        "    x,y=0,101\n",
        "    while True:\n",
        "        count+=1\n",
        "        var=(x+y)//2   #median to divide the search range by 2\n",
        "        if var==number:\n",
        "            return count\n",
        "        if number>var:            \n",
        "            x=var   # change the lower limit of the search\n",
        "        elif number<var:\n",
        "            y=var #change the upper limit of the search\n",
        "print(game(number))\n",
        "print (f\"you guessed the number {number} in {game(number)} attempt.\")\n",
        "\n",
        "\n",
        "def score_game(game_core):\n",
        "    '''Run the game 1000 times to see how fast the game guesses the number'''\n",
        "    count_ls = []\n",
        "    np.random.seed(1)  # fixing RANDOM SEED\n",
        "    random_array = np.random.randint(1,101, size=(1000))\n",
        "    for number in random_array:\n",
        "        count_ls.append(game_core(number))\n",
        "    score = int(np.mean(count_ls))\n",
        "    print(f\"Your algorithm guesses the number on average in {score} attempt\")\n",
        "    return(score)\n",
        "score_game(game)\n",
        "    "
      ]
    }
  ],
  "metadata": {
    "kernelspec": {
      "display_name": "Python 3",
      "language": "python",
      "name": "python3"
    },
    "language_info": {
      "codemirror_mode": {
        "name": "ipython",
        "version": 3
      },
      "file_extension": ".py",
      "mimetype": "text/x-python",
      "name": "python",
      "nbconvert_exporter": "python",
      "pygments_lexer": "ipython3",
      "version": "3.8.3"
    },
    "colab": {
      "provenance": [],
      "include_colab_link": true
    }
  },
  "nbformat": 4,
  "nbformat_minor": 0
}