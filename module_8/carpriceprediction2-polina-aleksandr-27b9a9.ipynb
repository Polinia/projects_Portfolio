{
 "cells": [
  {
   "cell_type": "markdown",
   "metadata": {},
   "source": [
    "# Car Price prediction\n",
    "\n",
    "<img src=\"https://whatcar.vn/media/2018/09/car-lot-940x470.jpg\"/>\n",
    "\n",
    "## Наша задача — предсказать стоимость автомобиля по его характеристикам, текстовому описанию или картинке."
   ]
  },
  {
   "cell_type": "markdown",
   "metadata": {},
   "source": [
    "## мы сделали следующее:\n",
    "* Построим \"наивную\"/baseline модель, предсказывающую цену по модели и году выпуска (с ней будем сравнивать другие модели)\n",
    "* Обработаем и отнормируем признаки\n",
    "* Сделаем первую модель на основе градиентного бустинга с помощью CatBoost\n",
    "* Сделаем вторую модель на основе нейронных сетей и сравним результаты\n",
    "* Сделаем multi-input нейронную сеть для анализа табличных данных и текста одновременно\n",
    "* Добавим в multi-input сеть обработку изображений\n",
    "* Осуществим ансамблирование градиентного бустинга и нейронной сети (усреднение их предсказаний)"
   ]
  },
  {
   "cell_type": "code",
   "execution_count": 1,
   "metadata": {
    "execution": {
     "iopub.execute_input": "2021-11-17T20:15:29.152573Z",
     "iopub.status.busy": "2021-11-17T20:15:29.152065Z",
     "iopub.status.idle": "2021-11-17T20:15:41.208177Z",
     "shell.execute_reply": "2021-11-17T20:15:41.207288Z",
     "shell.execute_reply.started": "2021-11-17T20:15:29.152524Z"
    }
   },
   "outputs": [
    {
     "name": "stdout",
     "output_type": "stream",
     "text": [
      "Collecting pymorphy2\n",
      "  Downloading pymorphy2-0.9.1-py3-none-any.whl (55 kB)\n",
      "Collecting pymorphy2-dicts-ru<3.0,>=2.4\n",
      "  Downloading pymorphy2_dicts_ru-2.4.417127.4579844-py2.py3-none-any.whl (8.2 MB)\n",
      "Collecting docopt>=0.6\n",
      "  Using cached docopt-0.6.2-py2.py3-none-any.whl\n",
      "Collecting dawg-python>=0.7.1\n",
      "  Downloading DAWG_Python-0.7.2-py2.py3-none-any.whl (11 kB)\n",
      "Installing collected packages: pymorphy2-dicts-ru, docopt, dawg-python, pymorphy2\n",
      "Successfully installed dawg-python-0.7.2 docopt-0.6.2 pymorphy2-0.9.1 pymorphy2-dicts-ru-2.4.417127.4579844\n",
      "Collecting pymorphy2-dicts\n",
      "  Downloading pymorphy2_dicts-2.4.393442.3710985-py2.py3-none-any.whl (7.1 MB)\n",
      "Installing collected packages: pymorphy2-dicts\n",
      "Successfully installed pymorphy2-dicts-2.4.393442.3710985\n"
     ]
    }
   ],
   "source": [
    "!pip install pymorphy2\n",
    "!pip install pymorphy2-dicts"
   ]
  },
  {
   "cell_type": "code",
   "execution_count": 2,
   "metadata": {
    "_kg_hide-input": true,
    "execution": {
     "iopub.execute_input": "2021-11-17T20:15:41.210605Z",
     "iopub.status.busy": "2021-11-17T20:15:41.210306Z",
     "iopub.status.idle": "2021-11-17T20:15:47.634430Z",
     "shell.execute_reply": "2021-11-17T20:15:47.633442Z",
     "shell.execute_reply.started": "2021-11-17T20:15:41.210576Z"
    }
   },
   "outputs": [
    {
     "name": "stderr",
     "output_type": "stream",
     "text": [
      "ERROR: Could not install packages due to an OSError: [WinError 5] Access is denied: 'C:\\\\Users\\\\fedos\\\\anaconda3\\\\Lib\\\\site-packages\\\\~umpy\\\\.libs\\\\libopenblas.WCDJNK7YVMPZQ2ME2ZZHJJRJ3JIKNDB7.gfortran-win_amd64.dll'\n",
      "Consider using the `--user` option or check the permissions.\n",
      "\n"
     ]
    }
   ],
   "source": [
    "!pip install -q tensorflow==2.3"
   ]
  },
  {
   "cell_type": "code",
   "execution_count": 3,
   "metadata": {
    "_kg_hide-input": true,
    "execution": {
     "iopub.execute_input": "2021-11-17T20:15:47.637905Z",
     "iopub.status.busy": "2021-11-17T20:15:47.637503Z",
     "iopub.status.idle": "2021-11-17T20:15:53.703448Z",
     "shell.execute_reply": "2021-11-17T20:15:53.702585Z",
     "shell.execute_reply.started": "2021-11-17T20:15:47.637870Z"
    }
   },
   "outputs": [],
   "source": [
    "#аугментации изображений\n",
    "!pip install albumentations -q"
   ]
  },
  {
   "cell_type": "code",
   "execution_count": 5,
   "metadata": {},
   "outputs": [
    {
     "name": "stdout",
     "output_type": "stream",
     "text": [
      "Collecting catboost\n",
      "  Downloading catboost-1.0.3-cp38-none-win_amd64.whl (77.4 MB)\n",
      "Requirement already satisfied: pandas>=0.24.0 in c:\\users\\fedos\\anaconda3\\lib\\site-packages (from catboost) (1.2.4)\n",
      "Collecting graphviz\n",
      "  Downloading graphviz-0.18.2-py3-none-any.whl (39 kB)\n",
      "Requirement already satisfied: scipy in c:\\users\\fedos\\anaconda3\\lib\\site-packages (from catboost) (1.6.2)\n",
      "Requirement already satisfied: six in c:\\users\\fedos\\anaconda3\\lib\\site-packages (from catboost) (1.15.0)\n",
      "Collecting plotly\n",
      "  Downloading plotly-5.4.0-py2.py3-none-any.whl (25.3 MB)\n",
      "Requirement already satisfied: matplotlib in c:\\users\\fedos\\anaconda3\\lib\\site-packages (from catboost) (3.3.4)\n",
      "Requirement already satisfied: numpy>=1.16.0 in c:\\users\\fedos\\anaconda3\\lib\\site-packages (from catboost) (1.18.5)\n",
      "Requirement already satisfied: pytz>=2017.3 in c:\\users\\fedos\\anaconda3\\lib\\site-packages (from pandas>=0.24.0->catboost) (2021.1)\n",
      "Requirement already satisfied: python-dateutil>=2.7.3 in c:\\users\\fedos\\anaconda3\\lib\\site-packages (from pandas>=0.24.0->catboost) (2.8.1)\n",
      "Requirement already satisfied: pyparsing!=2.0.4,!=2.1.2,!=2.1.6,>=2.0.3 in c:\\users\\fedos\\anaconda3\\lib\\site-packages (from matplotlib->catboost) (2.4.7)\n",
      "Requirement already satisfied: kiwisolver>=1.0.1 in c:\\users\\fedos\\anaconda3\\lib\\site-packages (from matplotlib->catboost) (1.3.1)\n",
      "Requirement already satisfied: cycler>=0.10 in c:\\users\\fedos\\anaconda3\\lib\\site-packages (from matplotlib->catboost) (0.10.0)\n",
      "Requirement already satisfied: pillow>=6.2.0 in c:\\users\\fedos\\anaconda3\\lib\\site-packages (from matplotlib->catboost) (8.2.0)\n",
      "Collecting tenacity>=6.2.0\n",
      "  Downloading tenacity-8.0.1-py3-none-any.whl (24 kB)\n",
      "Installing collected packages: tenacity, plotly, graphviz, catboost\n",
      "Successfully installed catboost-1.0.3 graphviz-0.18.2 plotly-5.4.0 tenacity-8.0.1\n"
     ]
    }
   ],
   "source": [
    "!pip install catboost"
   ]
  },
  {
   "cell_type": "code",
   "execution_count": 6,
   "metadata": {
    "_cell_guid": "b1076dfc-b9ad-4769-8c92-a6c4dae69d19",
    "_kg_hide-input": true,
    "_uuid": "8f2839f25d086af736a60e9eeb907d3b93b6e0e5",
    "execution": {
     "iopub.execute_input": "2021-11-17T20:15:53.705483Z",
     "iopub.status.busy": "2021-11-17T20:15:53.705099Z",
     "iopub.status.idle": "2021-11-17T20:15:53.736329Z",
     "shell.execute_reply": "2021-11-17T20:15:53.735648Z",
     "shell.execute_reply.started": "2021-11-17T20:15:53.705452Z"
    }
   },
   "outputs": [],
   "source": [
    "# подготовим библиотеки\n",
    "import random\n",
    "import numpy as np # linear algebra\n",
    "import pandas as pd # data processing, CSV file I/O (e.g. pd.read_csv)\n",
    "# import os\n",
    "import sys\n",
    "import PIL\n",
    "import cv2\n",
    "import re\n",
    "import pymorphy2\n",
    "# Input data files are available in the read-only \"../input/\" directory\n",
    "# For example, running this (by clicking run or pressing Shift+Enter) will list all files under the input directory\n",
    "\n",
    "from catboost import CatBoostRegressor\n",
    "from sklearn.model_selection import train_test_split\n",
    "from sklearn.preprocessing import MinMaxScaler\n",
    "from sklearn.preprocessing import RobustScaler\n",
    "\n",
    "# # keras\n",
    "import tensorflow as tf\n",
    "import tensorflow.keras.layers as L\n",
    "from tensorflow.keras.models import Model, Sequential\n",
    "from tensorflow.keras.preprocessing.text import Tokenizer\n",
    "from tensorflow.keras.preprocessing import sequence\n",
    "from tensorflow.keras.callbacks import ModelCheckpoint, EarlyStopping, LearningRateScheduler\n",
    "import albumentations\n",
    "\n",
    "# plt\n",
    "import matplotlib.pyplot as plt\n",
    "#увеличим дефолтный размер графиков\n",
    "from pylab import rcParams\n",
    "rcParams['figure.figsize'] = 10, 5\n",
    "#графики в svg выглядят более четкими\n",
    "%config InlineBackend.figure_format = 'svg' \n",
    "%matplotlib inline\n",
    "import seaborn as sns\n"
   ]
  },
  {
   "cell_type": "code",
   "execution_count": 7,
   "metadata": {
    "_kg_hide-input": true,
    "execution": {
     "iopub.execute_input": "2021-11-17T20:15:53.741627Z",
     "iopub.status.busy": "2021-11-17T20:15:53.741345Z",
     "iopub.status.idle": "2021-11-17T20:15:53.752183Z",
     "shell.execute_reply": "2021-11-17T20:15:53.750989Z",
     "shell.execute_reply.started": "2021-11-17T20:15:53.741602Z"
    }
   },
   "outputs": [
    {
     "name": "stdout",
     "output_type": "stream",
     "text": [
      "Python       : 3.8.8 (default, Apr 13 2021, 15:08:03) [MSC v.1916 64 bit (AMD64)]\n",
      "Numpy        : 1.19.5\n",
      "Tensorflow   : 2.6.0\n"
     ]
    }
   ],
   "source": [
    "# проверим версии\n",
    "print('Python       :', sys.version.split('\\n')[0])\n",
    "print('Numpy        :', np.__version__)\n",
    "print('Tensorflow   :', tf.__version__)"
   ]
  },
  {
   "cell_type": "code",
   "execution_count": 8,
   "metadata": {
    "_kg_hide-input": true,
    "execution": {
     "iopub.execute_input": "2021-11-17T20:15:53.756172Z",
     "iopub.status.busy": "2021-11-17T20:15:53.755666Z",
     "iopub.status.idle": "2021-11-17T20:15:53.761125Z",
     "shell.execute_reply": "2021-11-17T20:15:53.759936Z",
     "shell.execute_reply.started": "2021-11-17T20:15:53.756122Z"
    }
   },
   "outputs": [],
   "source": [
    "# подготовим функцию для определения средней абсолютной ошибки\n",
    "def mape(y_true, y_pred):\n",
    "    return np.mean(np.abs((y_pred-y_true)/y_true))"
   ]
  },
  {
   "cell_type": "code",
   "execution_count": 9,
   "metadata": {
    "_kg_hide-input": true,
    "execution": {
     "iopub.execute_input": "2021-11-17T20:15:53.763184Z",
     "iopub.status.busy": "2021-11-17T20:15:53.762586Z",
     "iopub.status.idle": "2021-11-17T20:15:53.770620Z",
     "shell.execute_reply": "2021-11-17T20:15:53.769666Z",
     "shell.execute_reply.started": "2021-11-17T20:15:53.763118Z"
    }
   },
   "outputs": [],
   "source": [
    "# фиксируем RANDOM_SEED, чтобы эксперименты были воспроизводимы!\n",
    "RANDOM_SEED = 42\n",
    "np.random.seed(RANDOM_SEED)"
   ]
  },
  {
   "cell_type": "code",
   "execution_count": 10,
   "metadata": {
    "_kg_hide-input": true,
    "execution": {
     "iopub.execute_input": "2021-11-17T20:15:53.772940Z",
     "iopub.status.busy": "2021-11-17T20:15:53.772015Z",
     "iopub.status.idle": "2021-11-17T20:15:55.499394Z",
     "shell.execute_reply": "2021-11-17T20:15:55.498321Z",
     "shell.execute_reply.started": "2021-11-17T20:15:53.772901Z"
    }
   },
   "outputs": [],
   "source": [
    "!pip freeze > requirements.txt"
   ]
  },
  {
   "cell_type": "markdown",
   "metadata": {},
   "source": [
    "# DATA"
   ]
  },
  {
   "cell_type": "markdown",
   "metadata": {},
   "source": [
    "Посмотрим на типы признаков:\n",
    "\n",
    "* bodyType - категориальный\n",
    "* brand - категориальный\n",
    "* color - категориальный\n",
    "* description - текстовый\n",
    "* engineDisplacement - числовой, представленный как текст\n",
    "* enginePower - числовой, представленный как текст\n",
    "* fuelType - категориальный\n",
    "* mileage - числовой\n",
    "* modelDate - числовой\n",
    "* model_info - категориальный\n",
    "* name - категориальный, желательно сократить размерность - не используется (комбинация других столбцов)\n",
    "* numberOfDoors - категориальный\n",
    "* price - числовой, целевой\n",
    "* productionDate - числовой\n",
    "* sell_id - изображение (файл доступен по адресу, основанному на sell_id)\n",
    "* vehicleTransmission - категориальный\n",
    "* vehicleConfiguration — не используется (комбинация других столбцов)\n",
    "* Владельцы - категориальный\n",
    "* Владение - числовой, представленный как текст\n",
    "* ПТС - категориальный\n",
    "* Привод - категориальный\n",
    "* Руль - категориальный"
   ]
  },
  {
   "cell_type": "code",
   "execution_count": 11,
   "metadata": {
    "_cell_guid": "79c7e3d0-c299-4dcb-8224-4455121ee9b0",
    "_uuid": "d629ff2d2480ee46fbb7e2d37f6b5fab8052498a",
    "execution": {
     "iopub.execute_input": "2021-11-17T20:15:55.501344Z",
     "iopub.status.busy": "2021-11-17T20:15:55.500956Z",
     "iopub.status.idle": "2021-11-17T20:15:55.680154Z",
     "shell.execute_reply": "2021-11-17T20:15:55.679384Z",
     "shell.execute_reply.started": "2021-11-17T20:15:55.501304Z"
    }
   },
   "outputs": [],
   "source": [
    "# DATA_DIR = '../input/sf-dst-car-price-prediction-part2/'\n",
    "# train = pd.read_csv(DATA_DIR + 'train.csv')\n",
    "# test = pd.read_csv(DATA_DIR + 'test.csv')\n",
    "# sample_submission = pd.read_csv(DATA_DIR + 'sample_submission.csv')\n",
    "# pd.set_option('display.max_columns', None)\n",
    "\n",
    "train = pd.read_csv('train.csv')\n",
    "test = pd.read_csv('test.csv')\n",
    "sample_submission = pd.read_csv('sample_submission.csv')"
   ]
  },
  {
   "cell_type": "code",
   "execution_count": 12,
   "metadata": {
    "execution": {
     "iopub.execute_input": "2021-11-17T20:15:55.681854Z",
     "iopub.status.busy": "2021-11-17T20:15:55.681513Z",
     "iopub.status.idle": "2021-11-17T20:15:55.708267Z",
     "shell.execute_reply": "2021-11-17T20:15:55.707409Z",
     "shell.execute_reply.started": "2021-11-17T20:15:55.681820Z"
    }
   },
   "outputs": [
    {
     "name": "stdout",
     "output_type": "stream",
     "text": [
      "<class 'pandas.core.frame.DataFrame'>\n",
      "RangeIndex: 6682 entries, 0 to 6681\n",
      "Data columns (total 22 columns):\n",
      " #   Column                Non-Null Count  Dtype  \n",
      "---  ------                --------------  -----  \n",
      " 0   bodyType              6682 non-null   object \n",
      " 1   brand                 6682 non-null   object \n",
      " 2   color                 6682 non-null   object \n",
      " 3   description           6682 non-null   object \n",
      " 4   engineDisplacement    6682 non-null   object \n",
      " 5   enginePower           6682 non-null   object \n",
      " 6   fuelType              6682 non-null   object \n",
      " 7   mileage               6682 non-null   int64  \n",
      " 8   modelDate             6682 non-null   int64  \n",
      " 9   model_info            6682 non-null   object \n",
      " 10  name                  6682 non-null   object \n",
      " 11  numberOfDoors         6682 non-null   int64  \n",
      " 12  price                 6682 non-null   float64\n",
      " 13  productionDate        6682 non-null   int64  \n",
      " 14  sell_id               6682 non-null   int64  \n",
      " 15  vehicleConfiguration  6682 non-null   object \n",
      " 16  vehicleTransmission   6682 non-null   object \n",
      " 17  Владельцы             6681 non-null   object \n",
      " 18  Владение              2356 non-null   object \n",
      " 19  ПТС                   6682 non-null   object \n",
      " 20  Привод                6682 non-null   object \n",
      " 21  Руль                  6682 non-null   object \n",
      "dtypes: float64(1), int64(5), object(16)\n",
      "memory usage: 1.1+ MB\n"
     ]
    }
   ],
   "source": [
    "train.info()"
   ]
  },
  {
   "cell_type": "code",
   "execution_count": 13,
   "metadata": {
    "execution": {
     "iopub.execute_input": "2021-11-17T20:15:55.710365Z",
     "iopub.status.busy": "2021-11-17T20:15:55.709983Z",
     "iopub.status.idle": "2021-11-17T20:15:55.723958Z",
     "shell.execute_reply": "2021-11-17T20:15:55.722929Z",
     "shell.execute_reply.started": "2021-11-17T20:15:55.710327Z"
    }
   },
   "outputs": [
    {
     "name": "stdout",
     "output_type": "stream",
     "text": [
      "<class 'pandas.core.frame.DataFrame'>\n",
      "RangeIndex: 1671 entries, 0 to 1670\n",
      "Data columns (total 21 columns):\n",
      " #   Column                Non-Null Count  Dtype \n",
      "---  ------                --------------  ----- \n",
      " 0   bodyType              1671 non-null   object\n",
      " 1   brand                 1671 non-null   object\n",
      " 2   color                 1671 non-null   object\n",
      " 3   description           1671 non-null   object\n",
      " 4   engineDisplacement    1671 non-null   object\n",
      " 5   enginePower           1671 non-null   object\n",
      " 6   fuelType              1671 non-null   object\n",
      " 7   mileage               1671 non-null   int64 \n",
      " 8   modelDate             1671 non-null   int64 \n",
      " 9   model_info            1671 non-null   object\n",
      " 10  name                  1671 non-null   object\n",
      " 11  numberOfDoors         1671 non-null   int64 \n",
      " 12  productionDate        1671 non-null   int64 \n",
      " 13  sell_id               1671 non-null   int64 \n",
      " 14  vehicleConfiguration  1671 non-null   object\n",
      " 15  vehicleTransmission   1671 non-null   object\n",
      " 16  Владельцы             1671 non-null   object\n",
      " 17  Владение              579 non-null    object\n",
      " 18  ПТС                   1671 non-null   object\n",
      " 19  Привод                1671 non-null   object\n",
      " 20  Руль                  1671 non-null   object\n",
      "dtypes: int64(5), object(16)\n",
      "memory usage: 274.3+ KB\n"
     ]
    }
   ],
   "source": [
    "test.info()"
   ]
  },
  {
   "cell_type": "markdown",
   "metadata": {},
   "source": [
    "# Model 1: Создадим \"наивную\" модель \n",
    "Эта модель будет предсказывать среднюю цену по модели и году выпуска. \n",
    "C ней будем сравнивать другие модели.\n",
    "\n"
   ]
  },
  {
   "cell_type": "code",
   "execution_count": 14,
   "metadata": {
    "execution": {
     "iopub.execute_input": "2021-11-17T20:15:55.726495Z",
     "iopub.status.busy": "2021-11-17T20:15:55.725779Z",
     "iopub.status.idle": "2021-11-17T20:15:55.739405Z",
     "shell.execute_reply": "2021-11-17T20:15:55.738437Z",
     "shell.execute_reply.started": "2021-11-17T20:15:55.726453Z"
    }
   },
   "outputs": [],
   "source": [
    "# split данных\n",
    "data_train, data_test = train_test_split(\n",
    "    train, test_size=0.15, shuffle=True, random_state=RANDOM_SEED)"
   ]
  },
  {
   "cell_type": "code",
   "execution_count": 17,
   "metadata": {
    "execution": {
     "iopub.execute_input": "2021-11-17T20:15:55.741464Z",
     "iopub.status.busy": "2021-11-17T20:15:55.740893Z",
     "iopub.status.idle": "2021-11-17T20:15:59.250780Z",
     "shell.execute_reply": "2021-11-17T20:15:59.249248Z",
     "shell.execute_reply.started": "2021-11-17T20:15:55.741423Z"
    }
   },
   "outputs": [
    {
     "name": "stdout",
     "output_type": "stream",
     "text": [
      "Точность наивной модели по метрике MAPE: nan%\n"
     ]
    }
   ],
   "source": [
    "# Наивная модель\n",
    "predicts = []\n",
    "for index, row in pd.DataFrame(data_test[['model_info', 'productionDate']]).iterrows():\n",
    "    query = f\"model_info == '{row[0]}' and productionDate == '{row[1]}'\"\n",
    "    predicts.append(data_train.query(query)['price'].median())\n",
    "\n",
    "# заполним не найденные совпадения\n",
    "predicts = pd.DataFrame(predicts)\n",
    "predicts = predicts.fillna(predicts.median())\n",
    "\n",
    "# округлим\n",
    "predicts = (predicts // 1000) * 1000\n",
    "\n",
    "# оцениваем точность\n",
    "print(\n",
    "    f\"Точность наивной модели по метрике MAPE: {(mape(data_test['price'], predicts.values[:, 0]))*100:0.2f}%\")"
   ]
  },
  {
   "cell_type": "markdown",
   "metadata": {},
   "source": [
    "# EDA"
   ]
  },
  {
   "cell_type": "markdown",
   "metadata": {},
   "source": [
    "Проведем быстрый анализ данных для того, чтобы понимать, сможет ли с этими данными работать наш алгоритм.\n",
    "EDA и Feature Engineering готовился на основе ранее выполненого кода в предыдущем проекте CarPricePrediction, где мы работал той же командой."
   ]
  },
  {
   "cell_type": "markdown",
   "metadata": {},
   "source": [
    "Посмотрим, как выглядят распределения числовых признаков:"
   ]
  },
  {
   "cell_type": "code",
   "execution_count": 118,
   "metadata": {
    "_kg_hide-input": true,
    "execution": {
     "iopub.execute_input": "2021-11-17T20:15:59.252543Z",
     "iopub.status.busy": "2021-11-17T20:15:59.252213Z",
     "iopub.status.idle": "2021-11-17T20:15:59.996795Z",
     "shell.execute_reply": "2021-11-17T20:15:59.995898Z",
     "shell.execute_reply.started": "2021-11-17T20:15:59.252505Z"
    }
   },
   "outputs": [],
   "source": [
    "#посмотрим, как выглядят распределения числовых признаков\n",
    "def visualize_distributions(titles_values_dict):\n",
    "  columns = min(3, len(titles_values_dict))\n",
    "  rows = (len(titles_values_dict) - 1) // columns + 1\n",
    "  fig = plt.figure(figsize = (columns * 6, rows * 4))\n",
    "  for i, (title, values) in enumerate(titles_values_dict.items()):\n",
    "    hist, bins = np.histogram(values, bins = 20)\n",
    "    ax = fig.add_subplot(rows, columns, i + 1)\n",
    "    ax.bar(bins[:-1], hist, width = (bins[1] - bins[0]) * 0.7)\n",
    "    ax.set_title(title)\n",
    "  plt.show()\n",
    "\n",
    "visualize_distributions({\n",
    "    'mileage': train['mileage'].dropna(),\n",
    "    'modelDate': train['modelDate'].dropna(),\n",
    "    'productionDate': train['productionDate'].dropna()\n",
    "})"
   ]
  },
  {
   "cell_type": "markdown",
   "metadata": {},
   "source": [
    "Итого:\n",
    "* CatBoost сможет работать с признаками и в таком виде, но для нейросети нужны нормированные данные."
   ]
  },
  {
   "cell_type": "code",
   "execution_count": 119,
   "metadata": {
    "execution": {
     "iopub.execute_input": "2021-11-17T20:15:59.998564Z",
     "iopub.status.busy": "2021-11-17T20:15:59.998053Z",
     "iopub.status.idle": "2021-11-17T20:16:00.002803Z",
     "shell.execute_reply": "2021-11-17T20:16:00.001647Z",
     "shell.execute_reply.started": "2021-11-17T20:15:59.998510Z"
    }
   },
   "outputs": [],
   "source": [
    "# используем модуль для быстрого первичного анализа данных\n",
    "import pandas_profiling\n",
    "# pandas_profiling.ProfileReport(data)"
   ]
  },
  {
   "cell_type": "markdown",
   "metadata": {},
   "source": [
    "Краткий итог: в тренировочной выборке 6682 объявлений, в тестовой - 1671. Всего данных - 8353 объявлений. Имеется 23 признака. Из числовых признаков у нас: mileage, modelDate, numberOfDoors, productionDate. Остальные - типа Object. Пропуски в признаках Владельцы и Владение. Также добавился признак sample для обозначения принадлежности данных и последующего разделения"
   ]
  },
  {
   "cell_type": "markdown",
   "metadata": {},
   "source": [
    "# PreProc Tabular Data"
   ]
  },
  {
   "cell_type": "code",
   "execution_count": 120,
   "metadata": {
    "execution": {
     "iopub.execute_input": "2021-11-17T20:16:00.005088Z",
     "iopub.status.busy": "2021-11-17T20:16:00.004417Z",
     "iopub.status.idle": "2021-11-17T20:16:00.028641Z",
     "shell.execute_reply": "2021-11-17T20:16:00.027923Z",
     "shell.execute_reply.started": "2021-11-17T20:16:00.005044Z"
    }
   },
   "outputs": [],
   "source": [
    "# ВАЖНО! дря корректной обработки признаков объединяем трейн и тест в один датасет\n",
    "train['sample'] = 1 # помечаем где у нас трейн\n",
    "test['sample'] = 0 # помечаем где у нас тест\n",
    "test['price'] = 0 # в тесте у нас нет значения price, мы его должны предсказать, поэтому пока просто заполняем нулями\n",
    "\n",
    "data = test.append(train, sort=False).reset_index(drop=True) # объединяем\n",
    "print(train.shape, test.shape, data.shape)"
   ]
  },
  {
   "cell_type": "markdown",
   "metadata": {},
   "source": [
    "**bodyType**"
   ]
  },
  {
   "cell_type": "code",
   "execution_count": 121,
   "metadata": {
    "execution": {
     "iopub.execute_input": "2021-11-17T20:16:00.031840Z",
     "iopub.status.busy": "2021-11-17T20:16:00.031601Z",
     "iopub.status.idle": "2021-11-17T20:16:00.049019Z",
     "shell.execute_reply": "2021-11-17T20:16:00.048034Z",
     "shell.execute_reply.started": "2021-11-17T20:16:00.031817Z"
    }
   },
   "outputs": [],
   "source": [
    "data['bodyType'] = data['bodyType'].astype(str).apply(\n",
    "    lambda x: None if x.strip() == '' else x)\n",
    "data['bodyType'] = data.bodyType.apply(lambda x: x.split(' ')[0].lower())"
   ]
  },
  {
   "cell_type": "code",
   "execution_count": 122,
   "metadata": {
    "execution": {
     "iopub.execute_input": "2021-11-17T20:16:00.050705Z",
     "iopub.status.busy": "2021-11-17T20:16:00.050337Z",
     "iopub.status.idle": "2021-11-17T20:16:00.312921Z",
     "shell.execute_reply": "2021-11-17T20:16:00.312142Z",
     "shell.execute_reply.started": "2021-11-17T20:16:00.050669Z"
    }
   },
   "outputs": [],
   "source": [
    "#посмотрим на распределение\n",
    "data.bodyType.value_counts().plot.barh() "
   ]
  },
  {
   "cell_type": "markdown",
   "metadata": {},
   "source": [
    "**color**"
   ]
  },
  {
   "cell_type": "code",
   "execution_count": 123,
   "metadata": {
    "execution": {
     "iopub.execute_input": "2021-11-17T20:16:00.314899Z",
     "iopub.status.busy": "2021-11-17T20:16:00.314341Z",
     "iopub.status.idle": "2021-11-17T20:16:01.066084Z",
     "shell.execute_reply": "2021-11-17T20:16:01.065238Z",
     "shell.execute_reply.started": "2021-11-17T20:16:00.314861Z"
    }
   },
   "outputs": [],
   "source": [
    "data.color.value_counts().plot.barh()"
   ]
  },
  {
   "cell_type": "markdown",
   "metadata": {},
   "source": [
    "**fuelType**"
   ]
  },
  {
   "cell_type": "code",
   "execution_count": 124,
   "metadata": {
    "execution": {
     "iopub.execute_input": "2021-11-17T20:16:01.068086Z",
     "iopub.status.busy": "2021-11-17T20:16:01.067483Z",
     "iopub.status.idle": "2021-11-17T20:16:01.078802Z",
     "shell.execute_reply": "2021-11-17T20:16:01.077670Z",
     "shell.execute_reply.started": "2021-11-17T20:16:01.068043Z"
    }
   },
   "outputs": [],
   "source": [
    "data.fuelType.value_counts() #категориальный признак"
   ]
  },
  {
   "cell_type": "code",
   "execution_count": 125,
   "metadata": {
    "execution": {
     "iopub.execute_input": "2021-11-17T20:16:01.080794Z",
     "iopub.status.busy": "2021-11-17T20:16:01.080351Z",
     "iopub.status.idle": "2021-11-17T20:16:01.212506Z",
     "shell.execute_reply": "2021-11-17T20:16:01.211607Z",
     "shell.execute_reply.started": "2021-11-17T20:16:01.080756Z"
    }
   },
   "outputs": [],
   "source": [
    "sns.countplot(x = 'fuelType', data = data)"
   ]
  },
  {
   "cell_type": "markdown",
   "metadata": {},
   "source": [
    "**engineDisplacement**"
   ]
  },
  {
   "cell_type": "code",
   "execution_count": 126,
   "metadata": {
    "execution": {
     "iopub.execute_input": "2021-11-17T20:16:01.214185Z",
     "iopub.status.busy": "2021-11-17T20:16:01.213702Z",
     "iopub.status.idle": "2021-11-17T20:16:01.225400Z",
     "shell.execute_reply": "2021-11-17T20:16:01.224645Z",
     "shell.execute_reply.started": "2021-11-17T20:16:01.214150Z"
    }
   },
   "outputs": [],
   "source": [
    "data.engineDisplacement.value_counts()"
   ]
  },
  {
   "cell_type": "code",
   "execution_count": 127,
   "metadata": {
    "execution": {
     "iopub.execute_input": "2021-11-17T20:16:01.227599Z",
     "iopub.status.busy": "2021-11-17T20:16:01.227322Z",
     "iopub.status.idle": "2021-11-17T20:16:01.786433Z",
     "shell.execute_reply": "2021-11-17T20:16:01.785532Z",
     "shell.execute_reply.started": "2021-11-17T20:16:01.227573Z"
    }
   },
   "outputs": [],
   "source": [
    "sns.countplot(x = 'engineDisplacement', data = data)"
   ]
  },
  {
   "cell_type": "markdown",
   "metadata": {},
   "source": [
    "**enginePower**"
   ]
  },
  {
   "cell_type": "code",
   "execution_count": 128,
   "metadata": {
    "execution": {
     "iopub.execute_input": "2021-11-17T20:16:01.788235Z",
     "iopub.status.busy": "2021-11-17T20:16:01.787716Z",
     "iopub.status.idle": "2021-11-17T20:16:01.795803Z",
     "shell.execute_reply": "2021-11-17T20:16:01.794954Z",
     "shell.execute_reply.started": "2021-11-17T20:16:01.788194Z"
    }
   },
   "outputs": [],
   "source": [
    "data.enginePower.unique()"
   ]
  },
  {
   "cell_type": "code",
   "execution_count": 129,
   "metadata": {
    "execution": {
     "iopub.execute_input": "2021-11-17T20:16:01.797575Z",
     "iopub.status.busy": "2021-11-17T20:16:01.797067Z",
     "iopub.status.idle": "2021-11-17T20:16:01.812580Z",
     "shell.execute_reply": "2021-11-17T20:16:01.811783Z",
     "shell.execute_reply.started": "2021-11-17T20:16:01.797529Z"
    }
   },
   "outputs": [],
   "source": [
    "    #предобработаем \"enginePower\"\n",
    "data['enginePower'] = data['enginePower'].apply(lambda x: x[:3])\n",
    "data['enginePower'] = data['enginePower'].replace('7 N','7').astype('int')"
   ]
  },
  {
   "cell_type": "code",
   "execution_count": 130,
   "metadata": {
    "execution": {
     "iopub.execute_input": "2021-11-17T20:16:01.813960Z",
     "iopub.status.busy": "2021-11-17T20:16:01.813678Z",
     "iopub.status.idle": "2021-11-17T20:16:02.060908Z",
     "shell.execute_reply": "2021-11-17T20:16:02.060127Z",
     "shell.execute_reply.started": "2021-11-17T20:16:01.813935Z"
    }
   },
   "outputs": [],
   "source": [
    "data.enginePower.hist().barh"
   ]
  },
  {
   "cell_type": "markdown",
   "metadata": {},
   "source": [
    "**mileage**"
   ]
  },
  {
   "cell_type": "code",
   "execution_count": 131,
   "metadata": {
    "execution": {
     "iopub.execute_input": "2021-11-17T20:16:02.062576Z",
     "iopub.status.busy": "2021-11-17T20:16:02.062241Z",
     "iopub.status.idle": "2021-11-17T20:16:02.535174Z",
     "shell.execute_reply": "2021-11-17T20:16:02.534256Z",
     "shell.execute_reply.started": "2021-11-17T20:16:02.062530Z"
    }
   },
   "outputs": [],
   "source": [
    "data['mileage'].hist(figsize=(5,5), bins=50)"
   ]
  },
  {
   "cell_type": "markdown",
   "metadata": {},
   "source": [
    "добавим потом к числовым признакам и применим нормализацию"
   ]
  },
  {
   "cell_type": "markdown",
   "metadata": {},
   "source": [
    "**modelDate**"
   ]
  },
  {
   "cell_type": "code",
   "execution_count": 132,
   "metadata": {
    "execution": {
     "iopub.execute_input": "2021-11-17T20:16:02.536694Z",
     "iopub.status.busy": "2021-11-17T20:16:02.536360Z",
     "iopub.status.idle": "2021-11-17T20:16:03.053717Z",
     "shell.execute_reply": "2021-11-17T20:16:03.052763Z",
     "shell.execute_reply.started": "2021-11-17T20:16:02.536661Z"
    }
   },
   "outputs": [],
   "source": [
    "print(data['modelDate'].hist(figsize=(10,5), bins=50))\n",
    "data['modelDate'].describe()"
   ]
  },
  {
   "cell_type": "code",
   "execution_count": 133,
   "metadata": {
    "execution": {
     "iopub.execute_input": "2021-11-17T20:16:03.060262Z",
     "iopub.status.busy": "2021-11-17T20:16:03.057973Z",
     "iopub.status.idle": "2021-11-17T20:16:03.446722Z",
     "shell.execute_reply": "2021-11-17T20:16:03.445891Z",
     "shell.execute_reply.started": "2021-11-17T20:16:03.060217Z"
    }
   },
   "outputs": [],
   "source": [
    "print(data['productionDate'].hist(figsize=(5,5), bins=50))\n",
    "data['productionDate'].describe()"
   ]
  },
  {
   "cell_type": "code",
   "execution_count": 134,
   "metadata": {
    "execution": {
     "iopub.execute_input": "2021-11-17T20:16:03.448488Z",
     "iopub.status.busy": "2021-11-17T20:16:03.447959Z",
     "iopub.status.idle": "2021-11-17T20:16:03.454443Z",
     "shell.execute_reply": "2021-11-17T20:16:03.453651Z",
     "shell.execute_reply.started": "2021-11-17T20:16:03.448449Z"
    }
   },
   "outputs": [],
   "source": [
    "#создадим новые признаки на основе существующих: возраст модели\n",
    "data['model_age'] = 2021 - data.modelDate"
   ]
  },
  {
   "cell_type": "code",
   "execution_count": 135,
   "metadata": {
    "execution": {
     "iopub.execute_input": "2021-11-17T20:16:03.456465Z",
     "iopub.status.busy": "2021-11-17T20:16:03.455876Z",
     "iopub.status.idle": "2021-11-17T20:16:03.463890Z",
     "shell.execute_reply": "2021-11-17T20:16:03.463250Z",
     "shell.execute_reply.started": "2021-11-17T20:16:03.456421Z"
    }
   },
   "outputs": [],
   "source": [
    "#cгенерируем признак - километраж за год\n",
    "data['mile_per_year'] = data['mileage'] / data['model_age']"
   ]
  },
  {
   "cell_type": "markdown",
   "metadata": {},
   "source": [
    "**numberOfDoors**"
   ]
  },
  {
   "cell_type": "code",
   "execution_count": 136,
   "metadata": {
    "execution": {
     "iopub.execute_input": "2021-11-17T20:16:03.472591Z",
     "iopub.status.busy": "2021-11-17T20:16:03.472350Z",
     "iopub.status.idle": "2021-11-17T20:16:03.607903Z",
     "shell.execute_reply": "2021-11-17T20:16:03.607122Z",
     "shell.execute_reply.started": "2021-11-17T20:16:03.472567Z"
    }
   },
   "outputs": [],
   "source": [
    "sns.countplot(x = 'numberOfDoors', data = data)"
   ]
  },
  {
   "cell_type": "markdown",
   "metadata": {},
   "source": [
    "отнесем к категориальным"
   ]
  },
  {
   "cell_type": "markdown",
   "metadata": {},
   "source": [
    "**vehicleTransmission**"
   ]
  },
  {
   "cell_type": "code",
   "execution_count": 137,
   "metadata": {
    "execution": {
     "iopub.execute_input": "2021-11-17T20:16:03.609637Z",
     "iopub.status.busy": "2021-11-17T20:16:03.609283Z",
     "iopub.status.idle": "2021-11-17T20:16:03.740184Z",
     "shell.execute_reply": "2021-11-17T20:16:03.739276Z",
     "shell.execute_reply.started": "2021-11-17T20:16:03.609602Z"
    }
   },
   "outputs": [],
   "source": [
    "sns.countplot(x = 'vehicleTransmission', data = data)"
   ]
  },
  {
   "cell_type": "markdown",
   "metadata": {},
   "source": [
    "категориальный признак"
   ]
  },
  {
   "cell_type": "markdown",
   "metadata": {},
   "source": [
    "**Владельцы**"
   ]
  },
  {
   "cell_type": "code",
   "execution_count": 138,
   "metadata": {
    "execution": {
     "iopub.execute_input": "2021-11-17T20:16:03.742247Z",
     "iopub.status.busy": "2021-11-17T20:16:03.741735Z",
     "iopub.status.idle": "2021-11-17T20:16:03.754204Z",
     "shell.execute_reply": "2021-11-17T20:16:03.753176Z",
     "shell.execute_reply.started": "2021-11-17T20:16:03.742210Z"
    }
   },
   "outputs": [],
   "source": [
    "data['Владельцы'].value_counts()"
   ]
  },
  {
   "cell_type": "code",
   "execution_count": 139,
   "metadata": {
    "execution": {
     "iopub.execute_input": "2021-11-17T20:16:03.756424Z",
     "iopub.status.busy": "2021-11-17T20:16:03.755794Z",
     "iopub.status.idle": "2021-11-17T20:16:03.771232Z",
     "shell.execute_reply": "2021-11-17T20:16:03.770563Z",
     "shell.execute_reply.started": "2021-11-17T20:16:03.756385Z"
    }
   },
   "outputs": [],
   "source": [
    "# преобразуем данные, оставим только числовое значение\n",
    "data['Владельцы'].fillna('3 или более', inplace=True)\n",
    "data['Владельцы'] = data['Владельцы'].apply(\n",
    "    lambda x: int(x[0])).astype('int32')"
   ]
  },
  {
   "cell_type": "code",
   "execution_count": 140,
   "metadata": {
    "execution": {
     "iopub.execute_input": "2021-11-17T20:16:03.774561Z",
     "iopub.status.busy": "2021-11-17T20:16:03.774286Z",
     "iopub.status.idle": "2021-11-17T20:16:03.900003Z",
     "shell.execute_reply": "2021-11-17T20:16:03.899231Z",
     "shell.execute_reply.started": "2021-11-17T20:16:03.774519Z"
    }
   },
   "outputs": [],
   "source": [
    "sns.countplot(x = 'Владельцы', data = data)"
   ]
  },
  {
   "cell_type": "code",
   "execution_count": 141,
   "metadata": {
    "execution": {
     "iopub.execute_input": "2021-11-17T20:16:03.901700Z",
     "iopub.status.busy": "2021-11-17T20:16:03.901356Z",
     "iopub.status.idle": "2021-11-17T20:16:03.908719Z",
     "shell.execute_reply": "2021-11-17T20:16:03.907790Z",
     "shell.execute_reply.started": "2021-11-17T20:16:03.901666Z"
    }
   },
   "outputs": [],
   "source": [
    "data.Владение.isna().sum()  #5418 пропусков из 8353 значений - это большая часть. Не вижу смысла его оставлять."
   ]
  },
  {
   "cell_type": "markdown",
   "metadata": {},
   "source": [
    "**model_info**"
   ]
  },
  {
   "cell_type": "code",
   "execution_count": 142,
   "metadata": {
    "execution": {
     "iopub.execute_input": "2021-11-17T20:16:03.910858Z",
     "iopub.status.busy": "2021-11-17T20:16:03.910281Z",
     "iopub.status.idle": "2021-11-17T20:16:03.923938Z",
     "shell.execute_reply": "2021-11-17T20:16:03.922943Z",
     "shell.execute_reply.started": "2021-11-17T20:16:03.910823Z"
    }
   },
   "outputs": [],
   "source": [
    "data.model_info.value_counts() #относим к категориальным"
   ]
  },
  {
   "cell_type": "markdown",
   "metadata": {},
   "source": [
    "**ПТС**"
   ]
  },
  {
   "cell_type": "code",
   "execution_count": 143,
   "metadata": {
    "execution": {
     "iopub.execute_input": "2021-11-17T20:16:03.926250Z",
     "iopub.status.busy": "2021-11-17T20:16:03.925782Z",
     "iopub.status.idle": "2021-11-17T20:16:04.063753Z",
     "shell.execute_reply": "2021-11-17T20:16:04.062741Z",
     "shell.execute_reply.started": "2021-11-17T20:16:03.926212Z"
    }
   },
   "outputs": [],
   "source": [
    "sns.countplot(x = 'ПТС', data = data)"
   ]
  },
  {
   "cell_type": "markdown",
   "metadata": {},
   "source": [
    "**Привод**"
   ]
  },
  {
   "cell_type": "code",
   "execution_count": 144,
   "metadata": {
    "execution": {
     "iopub.execute_input": "2021-11-17T20:16:04.066546Z",
     "iopub.status.busy": "2021-11-17T20:16:04.066007Z",
     "iopub.status.idle": "2021-11-17T20:16:04.290634Z",
     "shell.execute_reply": "2021-11-17T20:16:04.289559Z",
     "shell.execute_reply.started": "2021-11-17T20:16:04.066508Z"
    }
   },
   "outputs": [],
   "source": [
    "#посмотрим на распределение\n",
    "sns.countplot(x = 'Привод', data = data)"
   ]
  },
  {
   "cell_type": "code",
   "execution_count": 145,
   "metadata": {
    "execution": {
     "iopub.execute_input": "2021-11-17T20:16:04.297621Z",
     "iopub.status.busy": "2021-11-17T20:16:04.295182Z",
     "iopub.status.idle": "2021-11-17T20:16:04.477639Z",
     "shell.execute_reply": "2021-11-17T20:16:04.476830Z",
     "shell.execute_reply.started": "2021-11-17T20:16:04.297576Z"
    }
   },
   "outputs": [],
   "source": [
    "sns.countplot(x = 'Руль', data = data)\n",
    "data.Руль.value_counts()"
   ]
  },
  {
   "cell_type": "markdown",
   "metadata": {
    "execution": {
     "iopub.execute_input": "2021-10-19T01:16:32.745461Z",
     "iopub.status.busy": "2021-10-19T01:16:32.745037Z",
     "iopub.status.idle": "2021-10-19T01:16:32.752151Z",
     "shell.execute_reply": "2021-10-19T01:16:32.750694Z",
     "shell.execute_reply.started": "2021-10-19T01:16:32.745424Z"
    }
   },
   "source": [
    "ПТС, Привод и Руль относим к категориальным"
   ]
  },
  {
   "cell_type": "markdown",
   "metadata": {},
   "source": [
    "**name**"
   ]
  },
  {
   "cell_type": "code",
   "execution_count": 146,
   "metadata": {
    "execution": {
     "iopub.execute_input": "2021-11-17T20:16:04.483844Z",
     "iopub.status.busy": "2021-11-17T20:16:04.481637Z",
     "iopub.status.idle": "2021-11-17T20:16:04.495679Z",
     "shell.execute_reply": "2021-11-17T20:16:04.494624Z",
     "shell.execute_reply.started": "2021-11-17T20:16:04.483803Z"
    }
   },
   "outputs": [],
   "source": [
    "data.name.head(10)"
   ]
  },
  {
   "cell_type": "markdown",
   "metadata": {},
   "source": [
    "Признак 'name' содержит данные, которые уже есть в других столбцах.Сократим размерность, выделив наличие xDrive в качестве отдельного признака, а признак name удалим"
   ]
  },
  {
   "cell_type": "code",
   "execution_count": 147,
   "metadata": {
    "execution": {
     "iopub.execute_input": "2021-11-17T20:16:04.503275Z",
     "iopub.status.busy": "2021-11-17T20:16:04.500795Z",
     "iopub.status.idle": "2021-11-17T20:16:04.522855Z",
     "shell.execute_reply": "2021-11-17T20:16:04.522105Z",
     "shell.execute_reply.started": "2021-11-17T20:16:04.503232Z"
    }
   },
   "outputs": [],
   "source": [
    "#сгенерируем новый признак:\n",
    "data['name_xDrive'] = data['name'].apply(lambda x: 1 if 'xDrive' in x else 0)"
   ]
  },
  {
   "cell_type": "markdown",
   "metadata": {},
   "source": [
    "**Посмотрим на распределение целевой переменной:**"
   ]
  },
  {
   "cell_type": "code",
   "execution_count": 148,
   "metadata": {
    "execution": {
     "iopub.execute_input": "2021-11-17T20:16:04.524477Z",
     "iopub.status.busy": "2021-11-17T20:16:04.523996Z",
     "iopub.status.idle": "2021-11-17T20:16:05.132537Z",
     "shell.execute_reply": "2021-11-17T20:16:05.131333Z",
     "shell.execute_reply.started": "2021-11-17T20:16:04.524441Z"
    }
   },
   "outputs": [],
   "source": [
    "plt.figure(figsize=(15, 3))\n",
    "plt.subplot(1,2,1)\n",
    "plt.title(f\"Распределение {'price'}\")\n",
    "sns.distplot(np.log(data[data['sample'] == 1]['price']), bins=50)\n",
    "\n",
    "plt.subplot(1,2,2)\n",
    "sns.boxplot(data['price'])\n",
    "plt.xlabel('Price')\n",
    "plt.title(f\"Боксплот {'price'}\", fontsize=15)\n",
    "plt.show()\n",
    "data.price.describe()"
   ]
  },
  {
   "cell_type": "markdown",
   "metadata": {},
   "source": [
    "Выбросы не будем удалять, а в дальнейшем прологарифмируем их"
   ]
  },
  {
   "cell_type": "code",
   "execution_count": 149,
   "metadata": {
    "execution": {
     "iopub.execute_input": "2021-11-17T20:16:05.134383Z",
     "iopub.status.busy": "2021-11-17T20:16:05.134006Z",
     "iopub.status.idle": "2021-11-17T20:16:05.632007Z",
     "shell.execute_reply": "2021-11-17T20:16:05.631072Z",
     "shell.execute_reply.started": "2021-11-17T20:16:05.134342Z"
    }
   },
   "outputs": [],
   "source": [
    "plt.figure(figsize=(15, 3))\n",
    "plt.subplot(1,2,1)\n",
    "plt.title(f\"Распределение {'price'} после логарифмирования\")\n",
    "sns.distplot(np.log(data[data['sample'] == 1]['price']), bins=50)\n",
    "\n",
    "plt.subplot(1,2,2)\n",
    "sns.boxplot(np.log(data[data['sample'] == 1]['price']))\n",
    "plt.xlabel('Price')\n",
    "plt.title('Боксплот price после логарифмирования', fontsize=15)\n",
    "plt.show()"
   ]
  },
  {
   "cell_type": "code",
   "execution_count": 150,
   "metadata": {
    "execution": {
     "iopub.execute_input": "2021-11-17T20:16:05.633982Z",
     "iopub.status.busy": "2021-11-17T20:16:05.633398Z",
     "iopub.status.idle": "2021-11-17T20:16:06.306307Z",
     "shell.execute_reply": "2021-11-17T20:16:06.305431Z",
     "shell.execute_reply.started": "2021-11-17T20:16:05.633941Z"
    }
   },
   "outputs": [],
   "source": [
    "#Посмотрим на распределение зависимости цены от километража\n",
    "plt.figure(figsize=(10, 5))\n",
    "plt.scatter(np.log(data.price), data.mileage)"
   ]
  },
  {
   "cell_type": "code",
   "execution_count": 151,
   "metadata": {
    "execution": {
     "iopub.execute_input": "2021-11-17T20:16:06.308041Z",
     "iopub.status.busy": "2021-11-17T20:16:06.307563Z",
     "iopub.status.idle": "2021-11-17T20:16:06.999531Z",
     "shell.execute_reply": "2021-11-17T20:16:06.998657Z",
     "shell.execute_reply.started": "2021-11-17T20:16:06.307997Z"
    }
   },
   "outputs": [],
   "source": [
    "# корреляция\n",
    "\n",
    "fig, ax = plt.subplots(1, 1, figsize=(10, 5))\n",
    "ax = sns.heatmap(data.corr(),fmt='.1g',\n",
    "                 annot=True, cmap='coolwarm')"
   ]
  },
  {
   "cell_type": "markdown",
   "metadata": {},
   "source": [
    "видим большую корреляцию между:\n",
    "\n",
    "model_age and modelDate\n",
    "\n",
    "model_age and productionDate\n",
    "\n",
    "modelDate|productionDate and mileage\n",
    "\n",
    "Далее удалим либо modelDate или productionDate"
   ]
  },
  {
   "cell_type": "code",
   "execution_count": 152,
   "metadata": {
    "execution": {
     "iopub.execute_input": "2021-11-17T20:16:07.001301Z",
     "iopub.status.busy": "2021-11-17T20:16:07.000801Z",
     "iopub.status.idle": "2021-11-17T20:16:07.028223Z",
     "shell.execute_reply": "2021-11-17T20:16:07.027409Z",
     "shell.execute_reply.started": "2021-11-17T20:16:07.001260Z"
    }
   },
   "outputs": [],
   "source": [
    "data.head(3)"
   ]
  },
  {
   "cell_type": "code",
   "execution_count": 153,
   "metadata": {
    "execution": {
     "iopub.execute_input": "2021-11-17T20:16:07.030152Z",
     "iopub.status.busy": "2021-11-17T20:16:07.029676Z",
     "iopub.status.idle": "2021-11-17T20:16:07.038362Z",
     "shell.execute_reply": "2021-11-17T20:16:07.037431Z",
     "shell.execute_reply.started": "2021-11-17T20:16:07.030102Z"
    }
   },
   "outputs": [],
   "source": [
    "#используем все текстовые признаки как категориальные без предобработки\n",
    "categorical_features = ['bodyType', 'brand', 'color', 'engineDisplacement', 'fuelType', 'model_info', \n",
    "  'numberOfDoors', 'vehicleTransmission', 'Владельцы', 'ПТС', 'Привод', 'Руль', 'name_xDrive']\n",
    "\n",
    "#используем все числовые признаки\n",
    "numerical_features = ['mileage', 'productionDate','model_age','enginePower', 'mile_per_year']"
   ]
  },
  {
   "cell_type": "code",
   "execution_count": 154,
   "metadata": {
    "execution": {
     "iopub.execute_input": "2021-11-17T20:16:07.040952Z",
     "iopub.status.busy": "2021-11-17T20:16:07.040542Z",
     "iopub.status.idle": "2021-11-17T20:16:07.048243Z",
     "shell.execute_reply": "2021-11-17T20:16:07.047451Z",
     "shell.execute_reply.started": "2021-11-17T20:16:07.040913Z"
    }
   },
   "outputs": [],
   "source": [
    "import category_encoders as ce"
   ]
  },
  {
   "cell_type": "code",
   "execution_count": 155,
   "metadata": {
    "execution": {
     "iopub.execute_input": "2021-11-17T20:16:07.050223Z",
     "iopub.status.busy": "2021-11-17T20:16:07.049777Z",
     "iopub.status.idle": "2021-11-17T20:16:07.061054Z",
     "shell.execute_reply": "2021-11-17T20:16:07.060095Z",
     "shell.execute_reply.started": "2021-11-17T20:16:07.050119Z"
    }
   },
   "outputs": [],
   "source": [
    "def preproc_data(df_input):\n",
    "    '''includes several functions to pre-process the predictor data.'''\n",
    "\n",
    "    df_output = df_input.copy()\n",
    "\n",
    "    # ################### 1. Предобработка ##############################################################\n",
    "    # убираем не нужные для модели признаки\n",
    "    df_output.drop(['description', 'sell_id', 'vehicleConfiguration',\n",
    "                   'Владение', 'name', 'modelDate'], axis=1, inplace=True)\n",
    "\n",
    "    # ################### Numerical Features ##############################################################\n",
    "    # Далее заполняем пропуски\n",
    "    for column in numerical_features:\n",
    "        df_output[column].fillna(df_output[column].median(), inplace=True)\n",
    "\n",
    "\n",
    "    ############################### Log ####################################################################\n",
    "    # П. В нейросеть желательно подавать данные с распределением, близким к нормальному,\n",
    "    # поэтому от некоторых числовых признаков имеет смысл перед нормализацией взять логарифм.Опыт показал,что \n",
    "#     метрика ухудшается\n",
    "#     df_output['productionDate'] = np.log(df_output['productionDate'])\n",
    "#     df_output['model_age'] = np.log(df_output['model_age'])\n",
    "\n",
    "    # П Нормализация данных\n",
    "    # scaler = MinMaxScaler()\n",
    "    scaler = RobustScaler()  # применим именно эту стандартизацию,тк она устойчива к выбросам\n",
    "    for column in numerical_features:\n",
    "        df_output[column] = scaler.fit_transform(df_output[[column]])[:, 0]\n",
    "\n",
    "    # ################### Categorical Features ##############################################################\n",
    "    # Label Encoding\n",
    "    for column in categorical_features:\n",
    "        df_output[column] = df_output[column].astype('category').cat.codes\n",
    "\n",
    "    # One-Hot Encoding: в pandas есть готовая функция - get_dummies.\n",
    "    df_output = pd.get_dummies(\n",
    "        df_output, columns=categorical_features, dummy_na=False)\n",
    "#       df_output = ce.HelmertEncoder(df_output, cols=categorical_features)\n",
    "        \n",
    "    return df_output"
   ]
  },
  {
   "cell_type": "code",
   "execution_count": 156,
   "metadata": {
    "execution": {
     "iopub.execute_input": "2021-11-17T20:16:07.063425Z",
     "iopub.status.busy": "2021-11-17T20:16:07.062761Z",
     "iopub.status.idle": "2021-11-17T20:16:07.251203Z",
     "shell.execute_reply": "2021-11-17T20:16:07.250325Z",
     "shell.execute_reply.started": "2021-11-17T20:16:07.063386Z"
    }
   },
   "outputs": [],
   "source": [
    "# Запускаем и проверяем, что получилось\n",
    "df_preproc = preproc_data(data)\n",
    "df_preproc.sample(10)"
   ]
  },
  {
   "cell_type": "code",
   "execution_count": 157,
   "metadata": {
    "execution": {
     "iopub.execute_input": "2021-11-17T20:16:07.253121Z",
     "iopub.status.busy": "2021-11-17T20:16:07.252774Z",
     "iopub.status.idle": "2021-11-17T20:16:07.271028Z",
     "shell.execute_reply": "2021-11-17T20:16:07.270205Z",
     "shell.execute_reply.started": "2021-11-17T20:16:07.253081Z"
    }
   },
   "outputs": [],
   "source": [
    "df_preproc.info()"
   ]
  },
  {
   "cell_type": "markdown",
   "metadata": {},
   "source": [
    "## Split data"
   ]
  },
  {
   "cell_type": "code",
   "execution_count": 158,
   "metadata": {
    "execution": {
     "iopub.execute_input": "2021-11-17T20:16:07.273088Z",
     "iopub.status.busy": "2021-11-17T20:16:07.272479Z",
     "iopub.status.idle": "2021-11-17T20:16:07.307774Z",
     "shell.execute_reply": "2021-11-17T20:16:07.307129Z",
     "shell.execute_reply.started": "2021-11-17T20:16:07.273047Z"
    }
   },
   "outputs": [],
   "source": [
    "# Теперь выделим тестовую часть\n",
    "train_data = df_preproc.query('sample == 1').drop(['sample'], axis=1)\n",
    "test_data = df_preproc.query('sample == 0').drop(['sample'], axis=1)\n",
    "\n",
    "y = train_data.price.values     # наш таргет\n",
    "X = train_data.drop(['price'], axis=1)\n",
    "X_sub = test_data.drop(['price'], axis=1)"
   ]
  },
  {
   "cell_type": "code",
   "execution_count": 159,
   "metadata": {
    "execution": {
     "iopub.execute_input": "2021-11-17T20:16:07.309615Z",
     "iopub.status.busy": "2021-11-17T20:16:07.309378Z",
     "iopub.status.idle": "2021-11-17T20:16:07.327342Z",
     "shell.execute_reply": "2021-11-17T20:16:07.326313Z",
     "shell.execute_reply.started": "2021-11-17T20:16:07.309592Z"
    }
   },
   "outputs": [],
   "source": [
    "test_data.info()"
   ]
  },
  {
   "cell_type": "markdown",
   "metadata": {},
   "source": [
    "# Model 2: CatBoostRegressor"
   ]
  },
  {
   "cell_type": "code",
   "execution_count": 160,
   "metadata": {
    "execution": {
     "iopub.execute_input": "2021-11-17T20:16:07.330606Z",
     "iopub.status.busy": "2021-11-17T20:16:07.330322Z",
     "iopub.status.idle": "2021-11-17T20:16:07.342164Z",
     "shell.execute_reply": "2021-11-17T20:16:07.341369Z",
     "shell.execute_reply.started": "2021-11-17T20:16:07.330580Z"
    }
   },
   "outputs": [],
   "source": [
    "X_train, X_test, y_train, y_test = train_test_split(\n",
    "    X, y, test_size=0.15, shuffle=True, random_state=RANDOM_SEED)"
   ]
  },
  {
   "cell_type": "code",
   "execution_count": 161,
   "metadata": {
    "_kg_hide-output": true,
    "execution": {
     "iopub.execute_input": "2021-11-17T20:16:07.345327Z",
     "iopub.status.busy": "2021-11-17T20:16:07.345039Z",
     "iopub.status.idle": "2021-11-17T20:16:23.274707Z",
     "shell.execute_reply": "2021-11-17T20:16:23.273889Z",
     "shell.execute_reply.started": "2021-11-17T20:16:07.345303Z"
    }
   },
   "outputs": [],
   "source": [
    "model = CatBoostRegressor(iterations = 5000,\n",
    "#                           depth=10,\n",
    "#                           learning_rate = 0.5,\n",
    "                          random_seed = RANDOM_SEED,\n",
    "                          eval_metric='MAPE',\n",
    "                          custom_metric=['RMSE', 'MAE'],\n",
    "                          od_wait=500,\n",
    "                          #task_type='GPU',\n",
    "                         )\n",
    "model.fit(X_train, np.log(y_train),   #П применила логарифм\n",
    "         eval_set=(X_test, np.log(y_test)),\n",
    "         verbose_eval=100,\n",
    "         use_best_model=True,\n",
    "#          plot=True\n",
    "         )"
   ]
  },
  {
   "cell_type": "code",
   "execution_count": 162,
   "metadata": {
    "execution": {
     "iopub.execute_input": "2021-11-17T20:16:23.276449Z",
     "iopub.status.busy": "2021-11-17T20:16:23.276089Z",
     "iopub.status.idle": "2021-11-17T20:16:23.295800Z",
     "shell.execute_reply": "2021-11-17T20:16:23.295163Z",
     "shell.execute_reply.started": "2021-11-17T20:16:23.276411Z"
    }
   },
   "outputs": [],
   "source": [
    "test_predict_catboost = np.exp(model.predict(X_test))\n",
    "print(f\"TEST mape: {(mape(y_test, test_predict_catboost))*100:0.2f}%\")"
   ]
  },
  {
   "cell_type": "markdown",
   "metadata": {},
   "source": [
    "TEST mape: 12.56% (c предобработкой)\n",
    "\n",
    "TEST mape: 11.15% (+Xdrive признак)\n",
    "\n",
    "TEST mape: 11.33% (c предобработкой + log(target))"
   ]
  },
  {
   "cell_type": "markdown",
   "metadata": {},
   "source": [
    "### Submission"
   ]
  },
  {
   "cell_type": "code",
   "execution_count": 163,
   "metadata": {
    "execution": {
     "iopub.execute_input": "2021-11-17T20:16:23.298838Z",
     "iopub.status.busy": "2021-11-17T20:16:23.298599Z",
     "iopub.status.idle": "2021-11-17T20:16:23.334066Z",
     "shell.execute_reply": "2021-11-17T20:16:23.333416Z",
     "shell.execute_reply.started": "2021-11-17T20:16:23.298815Z"
    }
   },
   "outputs": [],
   "source": [
    "sub_predict_catboost = np.exp(model.predict(X_sub))\n",
    "sample_submission['price'] = sub_predict_catboost\n",
    "sample_submission.to_csv('catboost_submission.csv', index=False)"
   ]
  },
  {
   "cell_type": "markdown",
   "metadata": {},
   "source": [
    "# Model 3: Tabular NN"
   ]
  },
  {
   "cell_type": "markdown",
   "metadata": {},
   "source": [
    "Построим обычную сеть:"
   ]
  },
  {
   "cell_type": "code",
   "execution_count": 164,
   "metadata": {
    "execution": {
     "iopub.execute_input": "2021-11-17T20:16:23.337063Z",
     "iopub.status.busy": "2021-11-17T20:16:23.336818Z",
     "iopub.status.idle": "2021-11-17T20:16:23.431297Z",
     "shell.execute_reply": "2021-11-17T20:16:23.430495Z",
     "shell.execute_reply.started": "2021-11-17T20:16:23.337033Z"
    }
   },
   "outputs": [],
   "source": [
    "X_train.head(5)"
   ]
  },
  {
   "cell_type": "markdown",
   "metadata": {},
   "source": [
    "## Simple Dense NN"
   ]
  },
  {
   "cell_type": "code",
   "execution_count": 165,
   "metadata": {
    "execution": {
     "iopub.execute_input": "2021-11-17T20:16:23.432860Z",
     "iopub.status.busy": "2021-11-17T20:16:23.432413Z",
     "iopub.status.idle": "2021-11-17T20:16:23.489102Z",
     "shell.execute_reply": "2021-11-17T20:16:23.488468Z",
     "shell.execute_reply.started": "2021-11-17T20:16:23.432828Z"
    }
   },
   "outputs": [],
   "source": [
    "model = Sequential()\n",
    "model.add(L.Dense(512, input_dim=X_train.shape[1], activation=\"sigmoid\")) #поменяла relu -> sigmoid\n",
    "model.add(L.Dropout(0.5))\n",
    "model.add(L.Dense(256, activation=\"relu\"))\n",
    "model.add(L.Dense(256, activation=\"relu\"))\n",
    "model.add(L.Dropout(0.5))\n",
    "model.add(L.Dense(1, activation=\"linear\"))"
   ]
  },
  {
   "cell_type": "code",
   "execution_count": 166,
   "metadata": {
    "execution": {
     "iopub.execute_input": "2021-11-17T20:16:23.491471Z",
     "iopub.status.busy": "2021-11-17T20:16:23.490901Z",
     "iopub.status.idle": "2021-11-17T20:16:23.501056Z",
     "shell.execute_reply": "2021-11-17T20:16:23.500325Z",
     "shell.execute_reply.started": "2021-11-17T20:16:23.491434Z"
    }
   },
   "outputs": [],
   "source": [
    "model.summary()"
   ]
  },
  {
   "cell_type": "code",
   "execution_count": 167,
   "metadata": {
    "execution": {
     "iopub.execute_input": "2021-11-17T20:16:23.503161Z",
     "iopub.status.busy": "2021-11-17T20:16:23.502730Z",
     "iopub.status.idle": "2021-11-17T20:16:23.517567Z",
     "shell.execute_reply": "2021-11-17T20:16:23.516593Z",
     "shell.execute_reply.started": "2021-11-17T20:16:23.503114Z"
    }
   },
   "outputs": [],
   "source": [
    "# Compile model\n",
    "optimizer = tf.keras.optimizers.Adam(0.01)\n",
    "model.compile(loss='MAPE',optimizer=optimizer, metrics=['MAPE'])"
   ]
  },
  {
   "cell_type": "code",
   "execution_count": 168,
   "metadata": {
    "execution": {
     "iopub.execute_input": "2021-11-17T20:16:23.520622Z",
     "iopub.status.busy": "2021-11-17T20:16:23.520008Z",
     "iopub.status.idle": "2021-11-17T20:16:23.526436Z",
     "shell.execute_reply": "2021-11-17T20:16:23.525578Z",
     "shell.execute_reply.started": "2021-11-17T20:16:23.520581Z"
    }
   },
   "outputs": [],
   "source": [
    "checkpoint = ModelCheckpoint(\n",
    "    '../working/best_model.hdf5', monitor='val_MAPE',\n",
    "                    save_best_only=True, verbose=0, mode='min')\n",
    "earlystop = EarlyStopping(\n",
    "    monitor='val_MAPE', patience=50, restore_best_weights=True,) \n",
    "callbacks_list = [checkpoint, earlystop]"
   ]
  },
  {
   "cell_type": "markdown",
   "metadata": {},
   "source": [
    "### Fit"
   ]
  },
  {
   "cell_type": "code",
   "execution_count": 169,
   "metadata": {
    "execution": {
     "iopub.execute_input": "2021-11-17T20:16:23.528352Z",
     "iopub.status.busy": "2021-11-17T20:16:23.527874Z",
     "iopub.status.idle": "2021-11-17T20:16:32.519052Z",
     "shell.execute_reply": "2021-11-17T20:16:32.518234Z",
     "shell.execute_reply.started": "2021-11-17T20:16:23.528314Z"
    }
   },
   "outputs": [],
   "source": [
    "history = model.fit(X_train, y_train,\n",
    "                    batch_size=512,\n",
    "                    epochs=350, # фактически мы обучаем пока EarlyStopping не остановит обучение\n",
    "                    validation_data=(X_test, y_test),\n",
    "                    callbacks=callbacks_list,\n",
    "                    verbose=0,\n",
    "                   )"
   ]
  },
  {
   "cell_type": "code",
   "execution_count": 170,
   "metadata": {
    "execution": {
     "iopub.execute_input": "2021-11-17T20:16:32.520856Z",
     "iopub.status.busy": "2021-11-17T20:16:32.520524Z",
     "iopub.status.idle": "2021-11-17T20:16:32.744629Z",
     "shell.execute_reply": "2021-11-17T20:16:32.743762Z",
     "shell.execute_reply.started": "2021-11-17T20:16:32.520822Z"
    }
   },
   "outputs": [],
   "source": [
    "plt.title('Loss')\n",
    "plt.plot(history.history['MAPE'], label='train')\n",
    "plt.plot(history.history['val_MAPE'], label='test')\n",
    "plt.show();"
   ]
  },
  {
   "cell_type": "code",
   "execution_count": 171,
   "metadata": {
    "execution": {
     "iopub.execute_input": "2021-11-17T20:16:32.746405Z",
     "iopub.status.busy": "2021-11-17T20:16:32.745892Z",
     "iopub.status.idle": "2021-11-17T20:16:32.788960Z",
     "shell.execute_reply": "2021-11-17T20:16:32.788044Z",
     "shell.execute_reply.started": "2021-11-17T20:16:32.746365Z"
    }
   },
   "outputs": [],
   "source": [
    "model.load_weights('../working/best_model.hdf5')\n",
    "model.save('../working/nn_1.hdf5')"
   ]
  },
  {
   "cell_type": "code",
   "execution_count": 172,
   "metadata": {
    "execution": {
     "iopub.execute_input": "2021-11-17T20:16:32.790977Z",
     "iopub.status.busy": "2021-11-17T20:16:32.790405Z",
     "iopub.status.idle": "2021-11-17T20:16:32.928924Z",
     "shell.execute_reply": "2021-11-17T20:16:32.927615Z",
     "shell.execute_reply.started": "2021-11-17T20:16:32.790939Z"
    }
   },
   "outputs": [],
   "source": [
    "test_predict_nn1 = model.predict(X_test)\n",
    "print(f\"TEST mape: {(mape(y_test, test_predict_nn1[:,0]))*100:0.2f}%\")"
   ]
  },
  {
   "cell_type": "markdown",
   "metadata": {},
   "source": [
    "10.54 c sigmoid+model.add(L.Dense(256, activation=\"relu\"))"
   ]
  },
  {
   "cell_type": "markdown",
   "metadata": {},
   "source": [
    "10,70 с лог численными признаками\n",
    "10,60 без лог для числ признаков\n"
   ]
  },
  {
   "cell_type": "code",
   "execution_count": 173,
   "metadata": {
    "execution": {
     "iopub.execute_input": "2021-11-17T20:16:32.930671Z",
     "iopub.status.busy": "2021-11-17T20:16:32.930341Z",
     "iopub.status.idle": "2021-11-17T20:16:33.059570Z",
     "shell.execute_reply": "2021-11-17T20:16:33.058734Z",
     "shell.execute_reply.started": "2021-11-17T20:16:32.930633Z"
    }
   },
   "outputs": [],
   "source": [
    "sub_predict_nn1 = model.predict(X_sub)\n",
    "sample_submission['price'] = sub_predict_nn1[:,0]\n",
    "sample_submission.to_csv('nn1_submission.csv', index=False)"
   ]
  },
  {
   "cell_type": "markdown",
   "metadata": {},
   "source": [
    "Рекомендации для улучшения Model 3 (выполнены):    \n",
    "* В нейросеть желательно подавать данные с распределением, близким к нормальному, поэтому от некоторых числовых признаков имеет смысл взять логарифм перед нормализацией. Пример:\n",
    "`modelDateNorm = np.log(2020 - data['modelDate'])`\n",
    "Статья по теме: https://habr.com/ru/company/ods/blog/325422\n",
    "\n",
    "* Извлечение числовых значений из текста:\n",
    "Парсинг признаков 'engineDisplacement', 'enginePower', 'Владение' для извлечения числовых значений.\n",
    "\n",
    "* Cокращение размерности категориальных признаков\n",
    "Признак name 'name' содержит данные, которые уже есть в других столбцах ('enginePower', 'engineDisplacement', 'vehicleTransmission'), поэтому эти данные можно удалить. Затем следует еще сильнее сократить размерность, например, выделив наличие xDrive в качестве отдельного признака."
   ]
  },
  {
   "cell_type": "markdown",
   "metadata": {},
   "source": [
    "# Model 4: NLP + Multiple Inputs"
   ]
  },
  {
   "cell_type": "code",
   "execution_count": 174,
   "metadata": {
    "execution": {
     "iopub.execute_input": "2021-11-17T20:16:33.061078Z",
     "iopub.status.busy": "2021-11-17T20:16:33.060747Z",
     "iopub.status.idle": "2021-11-17T20:16:33.070281Z",
     "shell.execute_reply": "2021-11-17T20:16:33.069411Z",
     "shell.execute_reply.started": "2021-11-17T20:16:33.061042Z"
    }
   },
   "outputs": [],
   "source": [
    " data['description']"
   ]
  },
  {
   "cell_type": "code",
   "execution_count": 175,
   "metadata": {
    "execution": {
     "iopub.execute_input": "2021-11-17T20:16:33.072194Z",
     "iopub.status.busy": "2021-11-17T20:16:33.071633Z",
     "iopub.status.idle": "2021-11-17T20:16:33.275128Z",
     "shell.execute_reply": "2021-11-17T20:16:33.274381Z",
     "shell.execute_reply.started": "2021-11-17T20:16:33.072157Z"
    }
   },
   "outputs": [],
   "source": [
    "#P\n",
    "morph = pymorphy2.MorphAnalyzer()\n",
    "data_NLP = data.copy()"
   ]
  },
  {
   "cell_type": "code",
   "execution_count": 176,
   "metadata": {
    "execution": {
     "iopub.execute_input": "2021-11-17T20:16:33.277221Z",
     "iopub.status.busy": "2021-11-17T20:16:33.276870Z",
     "iopub.status.idle": "2021-11-17T20:16:33.284778Z",
     "shell.execute_reply": "2021-11-17T20:16:33.282716Z",
     "shell.execute_reply.started": "2021-11-17T20:16:33.277186Z"
    }
   },
   "outputs": [],
   "source": [
    "#P \n",
    "#создадим функцию. в которой будет и лемматизация и очистка текста\n",
    "patterns = \"[A-Za-z0-9!#$%&'()*+,./:;<=>?@[\\]^_`{|}~—\\\"\\-]+\"\n",
    "\n",
    "\n",
    "def lemmatize(doc):\n",
    "    doc = re.sub(patterns, ' ', doc)\n",
    "    tokens = []\n",
    "    for token in doc.split():\n",
    "        token = token.strip()\n",
    "        token = morph.normal_forms(token)[0]\n",
    "        tokens.append(token)\n",
    "    return ' '.join(tokens)"
   ]
  },
  {
   "cell_type": "code",
   "execution_count": 177,
   "metadata": {
    "execution": {
     "iopub.execute_input": "2021-11-17T20:16:33.286774Z",
     "iopub.status.busy": "2021-11-17T20:16:33.286294Z",
     "iopub.status.idle": "2021-11-17T20:16:33.298846Z",
     "shell.execute_reply": "2021-11-17T20:16:33.297808Z",
     "shell.execute_reply.started": "2021-11-17T20:16:33.286737Z"
    }
   },
   "outputs": [],
   "source": [
    "import nltk\n",
    "nltk.download(\"stopwords\")"
   ]
  },
  {
   "cell_type": "code",
   "execution_count": 178,
   "metadata": {
    "execution": {
     "iopub.execute_input": "2021-11-17T20:16:33.300655Z",
     "iopub.status.busy": "2021-11-17T20:16:33.300252Z",
     "iopub.status.idle": "2021-11-17T20:21:50.165473Z",
     "shell.execute_reply": "2021-11-17T20:21:50.164632Z",
     "shell.execute_reply.started": "2021-11-17T20:16:33.300619Z"
    }
   },
   "outputs": [],
   "source": [
    "#P\n",
    "data_NLP['description'] = data_NLP.apply(\n",
    "    lambda data_NLP: lemmatize(data_NLP.description), axis=1)"
   ]
  },
  {
   "cell_type": "code",
   "execution_count": 179,
   "metadata": {
    "execution": {
     "iopub.execute_input": "2021-11-17T20:21:50.167112Z",
     "iopub.status.busy": "2021-11-17T20:21:50.166776Z",
     "iopub.status.idle": "2021-11-17T20:21:50.172464Z",
     "shell.execute_reply": "2021-11-17T20:21:50.171583Z",
     "shell.execute_reply.started": "2021-11-17T20:21:50.167078Z"
    }
   },
   "outputs": [],
   "source": [
    "# TOKENIZER\n",
    "# The maximum number of words to be used. (most frequent)\n",
    "MAX_WORDS = 100000\n",
    "# Max number of words in each complaint.\n",
    "MAX_SEQUENCE_LENGTH = 256"
   ]
  },
  {
   "cell_type": "code",
   "execution_count": 180,
   "metadata": {
    "execution": {
     "iopub.execute_input": "2021-11-17T20:21:50.174281Z",
     "iopub.status.busy": "2021-11-17T20:21:50.173775Z",
     "iopub.status.idle": "2021-11-17T20:21:50.187713Z",
     "shell.execute_reply": "2021-11-17T20:21:50.186795Z",
     "shell.execute_reply.started": "2021-11-17T20:21:50.174244Z"
    }
   },
   "outputs": [],
   "source": [
    "# split данных\n",
    "text_train = data.description.iloc[X_train.index]\n",
    "text_test = data.description.iloc[X_test.index]\n",
    "text_sub = data.description.iloc[X_sub.index]"
   ]
  },
  {
   "cell_type": "markdown",
   "metadata": {},
   "source": [
    "### Tokenizer"
   ]
  },
  {
   "cell_type": "code",
   "execution_count": 181,
   "metadata": {
    "execution": {
     "iopub.execute_input": "2021-11-17T20:21:50.189696Z",
     "iopub.status.busy": "2021-11-17T20:21:50.189162Z",
     "iopub.status.idle": "2021-11-17T20:21:51.390693Z",
     "shell.execute_reply": "2021-11-17T20:21:51.389789Z",
     "shell.execute_reply.started": "2021-11-17T20:21:50.189656Z"
    }
   },
   "outputs": [],
   "source": [
    "%%time\n",
    "tokenize = Tokenizer(num_words=MAX_WORDS)\n",
    "tokenize.fit_on_texts(data_NLP['description'])"
   ]
  },
  {
   "cell_type": "code",
   "execution_count": 182,
   "metadata": {
    "_kg_hide-output": true,
    "execution": {
     "iopub.execute_input": "2021-11-17T20:21:51.392524Z",
     "iopub.status.busy": "2021-11-17T20:21:51.391986Z",
     "iopub.status.idle": "2021-11-17T20:21:51.429718Z",
     "shell.execute_reply": "2021-11-17T20:21:51.428873Z",
     "shell.execute_reply.started": "2021-11-17T20:21:51.392485Z"
    }
   },
   "outputs": [],
   "source": [
    "tokenize.word_index"
   ]
  },
  {
   "cell_type": "markdown",
   "metadata": {},
   "source": [
    "Благодаря получившемуся словарю мы сможем произвести дальнейшую векторизацию нашего текста. "
   ]
  },
  {
   "cell_type": "code",
   "execution_count": 183,
   "metadata": {
    "execution": {
     "iopub.execute_input": "2021-11-17T20:21:51.432426Z",
     "iopub.status.busy": "2021-11-17T20:21:51.431715Z",
     "iopub.status.idle": "2021-11-17T20:21:52.724687Z",
     "shell.execute_reply": "2021-11-17T20:21:52.723876Z",
     "shell.execute_reply.started": "2021-11-17T20:21:51.432330Z"
    }
   },
   "outputs": [],
   "source": [
    "# % % time\n",
    "text_train_sequences = sequence.pad_sequences(\n",
    "    tokenize.texts_to_sequences(text_train), maxlen=MAX_SEQUENCE_LENGTH)\n",
    "text_test_sequences = sequence.pad_sequences(\n",
    "    tokenize.texts_to_sequences(text_test), maxlen=MAX_SEQUENCE_LENGTH)\n",
    "text_sub_sequences = sequence.pad_sequences(\n",
    "    tokenize.texts_to_sequences(text_sub), maxlen=MAX_SEQUENCE_LENGTH)\n",
    "\n",
    "print(text_train_sequences.shape,\n",
    "      text_test_sequences.shape, text_sub_sequences.shape, )"
   ]
  },
  {
   "cell_type": "code",
   "execution_count": 184,
   "metadata": {
    "execution": {
     "iopub.execute_input": "2021-11-17T20:21:52.726218Z",
     "iopub.status.busy": "2021-11-17T20:21:52.725865Z",
     "iopub.status.idle": "2021-11-17T20:21:52.732818Z",
     "shell.execute_reply": "2021-11-17T20:21:52.731784Z",
     "shell.execute_reply.started": "2021-11-17T20:21:52.726187Z"
    }
   },
   "outputs": [],
   "source": [
    "# вот так теперь выглядит наш текст\n",
    "print(text_train.iloc[6])\n",
    "print(text_train_sequences[6])"
   ]
  },
  {
   "cell_type": "markdown",
   "metadata": {},
   "source": [
    "### RNN NLP"
   ]
  },
  {
   "cell_type": "markdown",
   "metadata": {},
   "source": [
    "Теперь строим сеть для обработки текста. Для простоты в примере используем LSTM:"
   ]
  },
  {
   "cell_type": "code",
   "execution_count": 199,
   "metadata": {
    "execution": {
     "iopub.execute_input": "2021-11-17T20:31:58.659642Z",
     "iopub.status.busy": "2021-11-17T20:31:58.659315Z",
     "iopub.status.idle": "2021-11-17T20:31:59.147603Z",
     "shell.execute_reply": "2021-11-17T20:31:59.146495Z",
     "shell.execute_reply.started": "2021-11-17T20:31:58.659612Z"
    }
   },
   "outputs": [],
   "source": [
    "model_nlp = Sequential()\n",
    "model_nlp.add(L.Input(shape=MAX_SEQUENCE_LENGTH, name=\"seq_description\"))\n",
    "model_nlp.add(L.Embedding(len(tokenize.word_index)+1, MAX_SEQUENCE_LENGTH,))\n",
    "\n",
    "# model_nlp.add(L.BatchNormalization(axis=1)) #добавим BatchNormalization\n",
    "\n",
    "model_nlp.add(L.LSTM(256, return_sequences=True))\n",
    "model_nlp.add(L.Dropout(0.5))\n",
    "model_nlp.add(L.Dense(64, activation=\"sigmoid\")) #добавим полносвязный слой\n",
    "model_nlp.add(L.LSTM(128,))\n",
    "model_nlp.add(L.Dropout(0.25))\n",
    "model_nlp.add(L.Dense(64, activation=\"relu\"))\n",
    "model_nlp.add(L.Dropout(0.25))"
   ]
  },
  {
   "cell_type": "markdown",
   "metadata": {},
   "source": [
    "### MLP"
   ]
  },
  {
   "cell_type": "markdown",
   "metadata": {},
   "source": [
    "Эта сеть построена «без головы». Добавим ещё одну сеть — созданную нами ранее для табличных данных:"
   ]
  },
  {
   "cell_type": "code",
   "execution_count": 200,
   "metadata": {
    "execution": {
     "iopub.execute_input": "2021-11-17T20:32:07.180067Z",
     "iopub.status.busy": "2021-11-17T20:32:07.179754Z",
     "iopub.status.idle": "2021-11-17T20:32:07.227798Z",
     "shell.execute_reply": "2021-11-17T20:32:07.227122Z",
     "shell.execute_reply.started": "2021-11-17T20:32:07.180039Z"
    }
   },
   "outputs": [],
   "source": [
    "model_mlp = Sequential()\n",
    "model_mlp.add(L.Dense(512, input_dim=X_train.shape[1], activation=\"sigmoid\"))\n",
    "# model_mlp.add(L.LayerNormalization())\n",
    "# model_mlp.add(L.BatchNormalization(axis=1)) #добавим BatchNormalization\n",
    "model_mlp.add(L.Dropout(0.5))\n",
    "model_mlp.add(L.Dense(256, activation=\"relu\"))\n",
    "model_mlp.add(L.Dense(256, activation=\"relu\")) #добавим еще один полносвязный слой\n",
    "model_mlp.add(L.Dropout(0.5))"
   ]
  },
  {
   "cell_type": "markdown",
   "metadata": {},
   "source": [
    "### Multiple Inputs NN"
   ]
  },
  {
   "cell_type": "markdown",
   "metadata": {},
   "source": [
    "Осталось объединить их в Multi-Input сеть, то есть сеть, которая позволяет брать на вход несколько сетей и объединять их результаты. За объединение отвечает слой L.concatenate:"
   ]
  },
  {
   "cell_type": "code",
   "execution_count": 201,
   "metadata": {
    "execution": {
     "iopub.execute_input": "2021-11-17T20:32:07.964456Z",
     "iopub.status.busy": "2021-11-17T20:32:07.964102Z",
     "iopub.status.idle": "2021-11-17T20:32:07.993782Z",
     "shell.execute_reply": "2021-11-17T20:32:07.993078Z",
     "shell.execute_reply.started": "2021-11-17T20:32:07.964426Z"
    }
   },
   "outputs": [],
   "source": [
    "combinedInput = L.concatenate([model_nlp.output, model_mlp.output])\n",
    "# being our regression head\n",
    "head = L.Dense(64, activation=\"relu\")(combinedInput)\n",
    "head = L.Dense(1, activation=\"linear\")(head)\n",
    "\n",
    "model = Model(inputs=[model_nlp.input, model_mlp.input], outputs=head)"
   ]
  },
  {
   "cell_type": "code",
   "execution_count": 202,
   "metadata": {
    "_kg_hide-output": true,
    "execution": {
     "iopub.execute_input": "2021-11-17T20:32:08.202720Z",
     "iopub.status.busy": "2021-11-17T20:32:08.202435Z",
     "iopub.status.idle": "2021-11-17T20:32:08.218640Z",
     "shell.execute_reply": "2021-11-17T20:32:08.217985Z",
     "shell.execute_reply.started": "2021-11-17T20:32:08.202692Z"
    }
   },
   "outputs": [],
   "source": [
    "model.summary()"
   ]
  },
  {
   "cell_type": "markdown",
   "metadata": {},
   "source": [
    "### Fit"
   ]
  },
  {
   "cell_type": "code",
   "execution_count": 203,
   "metadata": {
    "execution": {
     "iopub.execute_input": "2021-11-17T20:32:09.035888Z",
     "iopub.status.busy": "2021-11-17T20:32:09.035568Z",
     "iopub.status.idle": "2021-11-17T20:32:09.050584Z",
     "shell.execute_reply": "2021-11-17T20:32:09.049495Z",
     "shell.execute_reply.started": "2021-11-17T20:32:09.035859Z"
    }
   },
   "outputs": [],
   "source": [
    "optimizer = tf.keras.optimizers.Adam(0.01)\n",
    "model.compile(loss='MAPE',optimizer=optimizer, metrics=['MAPE'])"
   ]
  },
  {
   "cell_type": "code",
   "execution_count": 204,
   "metadata": {
    "execution": {
     "iopub.execute_input": "2021-11-17T20:32:09.560211Z",
     "iopub.status.busy": "2021-11-17T20:32:09.559876Z",
     "iopub.status.idle": "2021-11-17T20:32:09.566916Z",
     "shell.execute_reply": "2021-11-17T20:32:09.565278Z",
     "shell.execute_reply.started": "2021-11-17T20:32:09.560178Z"
    }
   },
   "outputs": [],
   "source": [
    "checkpoint = ModelCheckpoint('../working/best_model.hdf5', monitor='val_MAPE',\n",
    "                             save_best_only=True, verbose=0, mode='min')\n",
    "earlystop = EarlyStopping(monitor='val_MAPE', patience=10, restore_best_weights=True,)\n",
    "callbacks_list = [checkpoint, earlystop]"
   ]
  },
  {
   "cell_type": "code",
   "execution_count": 205,
   "metadata": {
    "_kg_hide-output": true,
    "execution": {
     "iopub.execute_input": "2021-11-17T20:32:10.019827Z",
     "iopub.status.busy": "2021-11-17T20:32:10.019523Z",
     "iopub.status.idle": "2021-11-17T20:35:42.897768Z",
     "shell.execute_reply": "2021-11-17T20:35:42.897022Z",
     "shell.execute_reply.started": "2021-11-17T20:32:10.019798Z"
    }
   },
   "outputs": [],
   "source": [
    "history = model.fit([text_train_sequences, X_train], y_train,\n",
    "                    batch_size=512,\n",
    "                    epochs=350, # фактически мы обучаем пока EarlyStopping не остановит обучение\n",
    "                    validation_data=([text_test_sequences, X_test], y_test),\n",
    "                    callbacks=callbacks_list\n",
    "                   )"
   ]
  },
  {
   "cell_type": "code",
   "execution_count": 206,
   "metadata": {
    "execution": {
     "iopub.execute_input": "2021-11-17T20:35:42.899714Z",
     "iopub.status.busy": "2021-11-17T20:35:42.899462Z",
     "iopub.status.idle": "2021-11-17T20:35:43.666789Z",
     "shell.execute_reply": "2021-11-17T20:35:43.666122Z",
     "shell.execute_reply.started": "2021-11-17T20:35:42.899689Z"
    }
   },
   "outputs": [],
   "source": [
    "plt.title('Loss')\n",
    "plt.plot(history.history['MAPE'], label='train')\n",
    "plt.plot(history.history['val_MAPE'], label='test')\n",
    "plt.show();"
   ]
  },
  {
   "cell_type": "code",
   "execution_count": 207,
   "metadata": {
    "execution": {
     "iopub.execute_input": "2021-11-17T20:35:43.668548Z",
     "iopub.status.busy": "2021-11-17T20:35:43.668225Z",
     "iopub.status.idle": "2021-11-17T20:35:43.883734Z",
     "shell.execute_reply": "2021-11-17T20:35:43.882569Z",
     "shell.execute_reply.started": "2021-11-17T20:35:43.668512Z"
    }
   },
   "outputs": [],
   "source": [
    "model.load_weights('../working/best_model.hdf5')\n",
    "model.save('../working/nn_mlp_nlp.hdf5')"
   ]
  },
  {
   "cell_type": "code",
   "execution_count": 208,
   "metadata": {
    "execution": {
     "iopub.execute_input": "2021-11-17T20:35:43.886404Z",
     "iopub.status.busy": "2021-11-17T20:35:43.885999Z",
     "iopub.status.idle": "2021-11-17T20:35:44.985845Z",
     "shell.execute_reply": "2021-11-17T20:35:44.984856Z",
     "shell.execute_reply.started": "2021-11-17T20:35:43.886365Z"
    }
   },
   "outputs": [],
   "source": [
    "test_predict_nn2 = model.predict([text_test_sequences, X_test])\n",
    "print(f\"TEST mape: {(mape(y_test, test_predict_nn2[:,0]))*100:0.2f}%\")"
   ]
  },
  {
   "cell_type": "markdown",
   "metadata": {},
   "source": [
    "TEST mape: 10.88% - без обработок\n",
    "\n",
    "TEST mape: 10.65% - с обработкой текста"
   ]
  },
  {
   "cell_type": "code",
   "execution_count": 210,
   "metadata": {
    "execution": {
     "iopub.execute_input": "2021-11-17T20:38:06.464567Z",
     "iopub.status.busy": "2021-11-17T20:38:06.464209Z",
     "iopub.status.idle": "2021-11-17T20:38:07.260340Z",
     "shell.execute_reply": "2021-11-17T20:38:07.259570Z",
     "shell.execute_reply.started": "2021-11-17T20:38:06.464536Z"
    }
   },
   "outputs": [],
   "source": [
    "sub_predict_nn2 = model.predict([text_sub_sequences, X_sub])\n",
    "sample_submission['price'] = sub_predict_nn2[:,0]\n",
    "sample_submission.to_csv('nn2_submission.csv', index=False)"
   ]
  },
  {
   "cell_type": "markdown",
   "metadata": {},
   "source": [
    "Вывод: мы изменили немного архитектуру сетей и добавили BatchNormalization и полносвязные слои,что привело к улучшению метрики на 0.05%(10.60%)"
   ]
  },
  {
   "cell_type": "markdown",
   "metadata": {},
   "source": [
    "# Model 5: Добавляем картинки"
   ]
  },
  {
   "cell_type": "markdown",
   "metadata": {},
   "source": [
    "### Data"
   ]
  },
  {
   "cell_type": "code",
   "execution_count": 211,
   "metadata": {
    "execution": {
     "iopub.execute_input": "2021-11-17T20:38:08.491196Z",
     "iopub.status.busy": "2021-11-17T20:38:08.490855Z",
     "iopub.status.idle": "2021-11-17T20:38:09.910892Z",
     "shell.execute_reply": "2021-11-17T20:38:09.910095Z",
     "shell.execute_reply.started": "2021-11-17T20:38:08.491161Z"
    }
   },
   "outputs": [],
   "source": [
    "# убедимся, что цены и фото подгрузились верно\n",
    "plt.figure(figsize = (12,8))\n",
    "\n",
    "random_image = train.sample(n = 9)\n",
    "random_image_paths = random_image['sell_id'].values\n",
    "random_image_cat = random_image['price'].values\n",
    "\n",
    "for index, path in enumerate(random_image_paths):\n",
    "    im = PIL.Image.open(DATA_DIR+'img/img/' + str(path) + '.jpg')\n",
    "    plt.subplot(3, 3, index + 1)\n",
    "    plt.imshow(im)\n",
    "    plt.title('price: ' + str(random_image_cat[index]))\n",
    "    plt.axis('off')\n",
    "plt.show()"
   ]
  },
  {
   "cell_type": "code",
   "execution_count": 212,
   "metadata": {
    "execution": {
     "iopub.execute_input": "2021-11-17T20:38:09.913308Z",
     "iopub.status.busy": "2021-11-17T20:38:09.912750Z",
     "iopub.status.idle": "2021-11-17T20:39:42.533337Z",
     "shell.execute_reply": "2021-11-17T20:39:42.532246Z",
     "shell.execute_reply.started": "2021-11-17T20:38:09.913269Z"
    }
   },
   "outputs": [],
   "source": [
    "size = (320, 240)\n",
    "\n",
    "def get_image_array(index):\n",
    "    images_train = []\n",
    "    for index, sell_id in enumerate(data['sell_id'].iloc[index].values):\n",
    "        image = cv2.imread(DATA_DIR + 'img/img/' + str(sell_id) + '.jpg')\n",
    "        assert(image is not None)\n",
    "        image = cv2.resize(image, size)\n",
    "        images_train.append(image)\n",
    "    images_train = np.array(images_train)\n",
    "    print('images shape', images_train.shape, 'dtype', images_train.dtype)\n",
    "    return(images_train)\n",
    "\n",
    "images_train = get_image_array(X_train.index)\n",
    "images_test = get_image_array(X_test.index)\n",
    "images_sub = get_image_array(X_sub.index)"
   ]
  },
  {
   "cell_type": "markdown",
   "metadata": {},
   "source": [
    "### albumentations"
   ]
  },
  {
   "cell_type": "markdown",
   "metadata": {},
   "source": [
    "Подготовим версию аугментации изображений, которая хорошо себя показала в предыдущеи проекте Ford_Ferrari, учтем нужный размер изображений"
   ]
  },
  {
   "cell_type": "code",
   "execution_count": 213,
   "metadata": {
    "execution": {
     "iopub.execute_input": "2021-11-17T20:39:42.535217Z",
     "iopub.status.busy": "2021-11-17T20:39:42.534702Z",
     "iopub.status.idle": "2021-11-17T20:39:42.541245Z",
     "shell.execute_reply": "2021-11-17T20:39:42.540475Z",
     "shell.execute_reply.started": "2021-11-17T20:39:42.535176Z"
    }
   },
   "outputs": [],
   "source": [
    "from albumentations import (\n",
    "    HorizontalFlip, IAAPerspective, ShiftScaleRotate, CLAHE, RandomRotate90,\n",
    "    Transpose, ShiftScaleRotate, Blur, OpticalDistortion, GridDistortion, HueSaturationValue,\n",
    "    IAAAdditiveGaussianNoise, GaussNoise, MotionBlur, MedianBlur, IAAPiecewiseAffine,\n",
    "    IAASharpen, IAAEmboss, RandomBrightnessContrast, Flip, OneOf, Compose\n",
    ")"
   ]
  },
  {
   "cell_type": "code",
   "execution_count": 214,
   "metadata": {
    "execution": {
     "iopub.execute_input": "2021-11-17T20:39:42.543086Z",
     "iopub.status.busy": "2021-11-17T20:39:42.542582Z",
     "iopub.status.idle": "2021-11-17T20:39:42.554501Z",
     "shell.execute_reply": "2021-11-17T20:39:42.553652Z",
     "shell.execute_reply.started": "2021-11-17T20:39:42.543049Z"
    }
   },
   "outputs": [],
   "source": [
    "AUGMENTATIONS = albumentations.Compose([\n",
    "    albumentations.HorizontalFlip(p=0.5),\n",
    "    albumentations.Rotate(limit=30, interpolation=1, border_mode=4,\n",
    "                          value=None, mask_value=None, always_apply=False, p=0.5),\n",
    "    albumentations.OneOf([\n",
    "        albumentations.CenterCrop(height=224, width=200),\n",
    "        albumentations.CenterCrop(height=200, width=224),\n",
    "    ], p=0.5),\n",
    "    albumentations.OneOf([\n",
    "        albumentations.RandomBrightnessContrast(\n",
    "            brightness_limit=0.3, contrast_limit=0.3),\n",
    "        albumentations.RandomBrightnessContrast(\n",
    "            brightness_limit=0.1, contrast_limit=0.1)\n",
    "    ], p=0.5),\n",
    "    albumentations.GaussianBlur(p=0.05),\n",
    "    albumentations.HueSaturationValue(p=0.5),\n",
    "    albumentations.RGBShift(p=0.5),\n",
    "    albumentations.FancyPCA(alpha=0.1, always_apply=False, p=0.5),\n",
    "    albumentations.Resize(240, 320)\n",
    "])"
   ]
  },
  {
   "cell_type": "code",
   "execution_count": 215,
   "metadata": {
    "execution": {
     "iopub.execute_input": "2021-11-17T20:39:42.558221Z",
     "iopub.status.busy": "2021-11-17T20:39:42.557839Z",
     "iopub.status.idle": "2021-11-17T20:39:44.135042Z",
     "shell.execute_reply": "2021-11-17T20:39:44.134102Z",
     "shell.execute_reply.started": "2021-11-17T20:39:42.558190Z"
    }
   },
   "outputs": [],
   "source": [
    "#пример\n",
    "plt.figure(figsize = (12,8))\n",
    "for i in range(9):\n",
    "    img = AUGMENTATIONS(image = images_train[0])['image']\n",
    "    plt.subplot(3, 3, i + 1)\n",
    "    plt.imshow(img)\n",
    "    plt.axis('off')\n",
    "plt.show()"
   ]
  },
  {
   "cell_type": "code",
   "execution_count": 216,
   "metadata": {
    "execution": {
     "iopub.execute_input": "2021-11-17T20:39:44.137392Z",
     "iopub.status.busy": "2021-11-17T20:39:44.136780Z",
     "iopub.status.idle": "2021-11-17T20:39:44.145921Z",
     "shell.execute_reply": "2021-11-17T20:39:44.145089Z",
     "shell.execute_reply.started": "2021-11-17T20:39:44.137351Z"
    }
   },
   "outputs": [],
   "source": [
    "def make_augmentations(images):\n",
    "  print('применение аугментаций', end = '')\n",
    "  augmented_images = np.empty(images.shape)\n",
    "  for i in range(images.shape[0]):\n",
    "    if i % 200 == 0:\n",
    "      print('.', end = '')\n",
    "    augment_dict = AUGMENTATIONS(image = images[i])\n",
    "    augmented_image = augment_dict['image']\n",
    "    augmented_images[i] = augmented_image\n",
    "  print('')\n",
    "  return augmented_images"
   ]
  },
  {
   "cell_type": "markdown",
   "metadata": {},
   "source": [
    "## tf.data.Dataset\n",
    "Если все изображения мы будем хранить в памяти, то может возникнуть проблема ее нехватки. Не храните все изображения в памяти целиком!\n",
    "\n",
    "Метод .fit() модели keras может принимать либо данные в виде массивов или тензоров, либо разного рода итераторы, из которых наиболее современным и гибким является [tf.data.Dataset](https://www.tensorflow.org/guide/data). Он представляет собой конвейер, то есть мы указываем, откуда берем данные и какую цепочку преобразований с ними выполняем. Далее мы будем работать с tf.data.Dataset.\n",
    "\n",
    "Dataset хранит информацию о конечном или бесконечном наборе кортежей (tuple) с данными и может возвращать эти наборы по очереди. Например, данными могут быть пары (input, target) для обучения нейросети. С данными можно осуществлять преобразования, которые осуществляются по мере необходимости ([lazy evaluation](https://ru.wikipedia.org/wiki/%D0%9B%D0%B5%D0%BD%D0%B8%D0%B2%D1%8B%D0%B5_%D0%B2%D1%8B%D1%87%D0%B8%D1%81%D0%BB%D0%B5%D0%BD%D0%B8%D1%8F)).\n",
    "\n",
    "`tf.data.Dataset.from_tensor_slices(data)` - создает датасет из данных, которые представляют собой либо массив, либо кортеж из массивов. Деление осуществляется по первому индексу каждого массива. Например, если `data = (np.zeros((128, 256, 256)), np.zeros(128))`, то датасет будет содержать 128 элементов, каждый из которых содержит один массив 256x256 и одно число.\n",
    "\n",
    "`dataset2 = dataset1.map(func)` - применение функции к датасету; функция должна принимать столько аргументов, каков размер кортежа в датасете 1 и возвращать столько, сколько нужно иметь в датасете 2. Пусть, например, датасет содержит изображения и метки, а нам нужно создать датасет только из изображений, тогда мы напишем так: `dataset2 = dataset.map(lambda img, label: img)`.\n",
    "\n",
    "`dataset2 = dataset1.batch(8)` - группировка по батчам; если датасет 2 должен вернуть один элемент, то он берет из датасета 1 восемь элементов, склеивает их (нулевой индекс результата - номер элемента) и возвращает.\n",
    "\n",
    "`dataset.__iter__()` - превращение датасета в итератор, из которого можно получать элементы методом `.__next__()`. Итератор, в отличие от самого датасета, хранит позицию текущего элемента. Можно также перебирать датасет циклом for.\n",
    "\n",
    "`dataset2 = dataset1.repeat(X)` - датасет 2 будет повторять датасет 1 X раз.\n",
    "\n",
    "Если нам нужно взять из датасета 1000 элементов и использовать их как тестовые, а остальные как обучающие, то мы напишем так:\n",
    "\n",
    "`test_dataset = dataset.take(1000)\n",
    "train_dataset = dataset.skip(1000)`\n",
    "\n",
    "Датасет по сути неизменен: такие операции, как map, batch, repeat, take, skip никак не затрагивают оригинальный датасет. Если датасет хранит элементы [1, 2, 3], то выполнив 3 раза подряд функцию dataset.take(1) мы получим 3 новых датасета, каждый из которых вернет число 1. Если же мы выполним функцию dataset.skip(1), мы получим датасет, возвращающий числа [2, 3], но исходный датасет все равно будет возвращать [1, 2, 3] каждый раз, когда мы его перебираем.\n",
    "\n",
    "tf.Dataset всегда выполняется в graph-режиме (в противоположность eager-режиму), поэтому либо преобразования (`.map()`) должны содержать только tensorflow-функции, либо мы должны использовать tf.py_function в качестве обертки для функций, вызываемых в `.map()`. Подробнее можно прочитать [здесь](https://www.tensorflow.org/guide/data#applying_arbitrary_python_logic)."
   ]
  },
  {
   "cell_type": "code",
   "execution_count": 217,
   "metadata": {
    "execution": {
     "iopub.execute_input": "2021-11-17T20:39:44.147823Z",
     "iopub.status.busy": "2021-11-17T20:39:44.147286Z",
     "iopub.status.idle": "2021-11-17T20:39:45.359653Z",
     "shell.execute_reply": "2021-11-17T20:39:45.358836Z",
     "shell.execute_reply.started": "2021-11-17T20:39:44.147786Z"
    }
   },
   "outputs": [],
   "source": [
    "# NLP part\n",
    "tokenize = Tokenizer(num_words=MAX_WORDS)\n",
    "tokenize.fit_on_texts(data_NLP['description'])"
   ]
  },
  {
   "cell_type": "code",
   "execution_count": 218,
   "metadata": {
    "execution": {
     "iopub.execute_input": "2021-11-17T20:39:45.361536Z",
     "iopub.status.busy": "2021-11-17T20:39:45.360982Z",
     "iopub.status.idle": "2021-11-17T20:39:48.471100Z",
     "shell.execute_reply": "2021-11-17T20:39:48.470160Z",
     "shell.execute_reply.started": "2021-11-17T20:39:45.361490Z"
    }
   },
   "outputs": [],
   "source": [
    "def process_image(image):\n",
    "    return AUGMENTATIONS(image=image.numpy())['image']\n",
    "\n",
    "\n",
    "def tokenize_(descriptions):\n",
    "    return sequence.pad_sequences(tokenize.texts_to_sequences(descriptions), maxlen=MAX_SEQUENCE_LENGTH)\n",
    "\n",
    "\n",
    "def tokenize_text(text):\n",
    "    return tokenize_([text.numpy().decode('utf-8')])[0]\n",
    "\n",
    "\n",
    "def tf_process_train_dataset_element(image, table_data, text, price):\n",
    "    im_shape = image.shape\n",
    "    [image, ] = tf.py_function(process_image, [image], [tf.uint8])\n",
    "    image.set_shape(im_shape)\n",
    "    [text, ] = tf.py_function(tokenize_text, [text], [tf.int32])\n",
    "    return (image, table_data, text), price\n",
    "\n",
    "\n",
    "def tf_process_val_dataset_element(image, table_data, text, price):\n",
    "    [text, ] = tf.py_function(tokenize_text, [text], [tf.int32])\n",
    "    return (image, table_data, text), price\n",
    "\n",
    "\n",
    "train_dataset = tf.data.Dataset.from_tensor_slices((\n",
    "    images_train, X_train, data.description.iloc[X_train.index], y_train\n",
    ")).map(tf_process_train_dataset_element)\n",
    "\n",
    "test_dataset = tf.data.Dataset.from_tensor_slices((\n",
    "    images_test, X_test, data.description.iloc[X_test.index], y_test\n",
    ")).map(tf_process_val_dataset_element)\n",
    "\n",
    "y_sub = np.zeros(len(X_sub))\n",
    "sub_dataset = tf.data.Dataset.from_tensor_slices((\n",
    "    images_sub, X_sub, data.description.iloc[X_sub.index], y_sub\n",
    ")).map(tf_process_val_dataset_element)\n",
    "\n",
    "# проверяем, что нет ошибок (не будет выброшено исключение):\n",
    "train_dataset.__iter__().__next__()\n",
    "test_dataset.__iter__().__next__()\n",
    "sub_dataset.__iter__().__next__()"
   ]
  },
  {
   "cell_type": "markdown",
   "metadata": {},
   "source": [
    "### Строим сверточную сеть для анализа изображений без \"головы\""
   ]
  },
  {
   "cell_type": "markdown",
   "metadata": {},
   "source": [
    "В данной части работы проверялось несколько разных моделей из семейства EfficientNet, но решено остановиться на В3, потому что она дает наиболее надежный результат."
   ]
  },
  {
   "cell_type": "code",
   "execution_count": 248,
   "metadata": {
    "execution": {
     "iopub.execute_input": "2021-11-17T21:37:34.547130Z",
     "iopub.status.busy": "2021-11-17T21:37:34.546795Z",
     "iopub.status.idle": "2021-11-17T21:37:40.549003Z",
     "shell.execute_reply": "2021-11-17T21:37:40.548004Z",
     "shell.execute_reply.started": "2021-11-17T21:37:34.547098Z"
    }
   },
   "outputs": [],
   "source": [
    "# нормализация включена в состав модели EfficientNetB3, поэтому на вход она принимает данные типа uint8\n",
    "efficientnet_model = tf.keras.applications.efficientnet.EfficientNetB6(weights='imagenet',\n",
    "                                                                       include_top=False, input_shape=(size[1], size[0], 3))"
   ]
  },
  {
   "cell_type": "code",
   "execution_count": 249,
   "metadata": {
    "execution": {
     "iopub.execute_input": "2021-11-17T21:37:40.551517Z",
     "iopub.status.busy": "2021-11-17T21:37:40.551121Z",
     "iopub.status.idle": "2021-11-17T21:37:40.577980Z",
     "shell.execute_reply": "2021-11-17T21:37:40.577197Z",
     "shell.execute_reply.started": "2021-11-17T21:37:40.551478Z"
    }
   },
   "outputs": [],
   "source": [
    "# Для начала, сеть, которую подгрузили,никак не обучаем. Будем обучать только верхние слои,которые мы рандомно инициализировали\n",
    "efficientnet_model.trainable = True"
   ]
  },
  {
   "cell_type": "code",
   "execution_count": 250,
   "metadata": {
    "execution": {
     "iopub.execute_input": "2021-11-17T21:37:40.580377Z",
     "iopub.status.busy": "2021-11-17T21:37:40.579951Z",
     "iopub.status.idle": "2021-11-17T21:37:40.598632Z",
     "shell.execute_reply": "2021-11-17T21:37:40.597904Z",
     "shell.execute_reply.started": "2021-11-17T21:37:40.580338Z"
    }
   },
   "outputs": [],
   "source": [
    "# Будем работать со слоями начиная с этого момента\n",
    "fine_tune_at = len(efficientnet_model.layers)//2\n",
    "\n",
    "# Keep all other layers frozen\n",
    "for layer in efficientnet_model.layers[:fine_tune_at]:\n",
    "    layer.trainable =  False"
   ]
  },
  {
   "cell_type": "code",
   "execution_count": 251,
   "metadata": {
    "collapsed": true,
    "execution": {
     "iopub.execute_input": "2021-11-17T21:37:40.600583Z",
     "iopub.status.busy": "2021-11-17T21:37:40.600079Z",
     "iopub.status.idle": "2021-11-17T21:37:40.704660Z",
     "shell.execute_reply": "2021-11-17T21:37:40.703973Z",
     "shell.execute_reply.started": "2021-11-17T21:37:40.600539Z"
    },
    "jupyter": {
     "outputs_hidden": true
    }
   },
   "outputs": [],
   "source": [
    "# проверим количество и статус слоев\n",
    "print(len(efficientnet_model.layers))\n",
    "\n",
    "for layer in efficientnet_model.layers:\n",
    "    print(layer, layer.trainable)"
   ]
  },
  {
   "cell_type": "code",
   "execution_count": 256,
   "metadata": {
    "execution": {
     "iopub.execute_input": "2021-11-17T21:39:28.637652Z",
     "iopub.status.busy": "2021-11-17T21:39:28.637248Z",
     "iopub.status.idle": "2021-11-17T21:39:28.645266Z",
     "shell.execute_reply": "2021-11-17T21:39:28.644131Z",
     "shell.execute_reply.started": "2021-11-17T21:39:28.637617Z"
    }
   },
   "outputs": [],
   "source": [
    "efficientnet_output = L.GlobalAveragePooling2D()(efficientnet_model.output)"
   ]
  },
  {
   "cell_type": "code",
   "execution_count": 247,
   "metadata": {
    "execution": {
     "iopub.execute_input": "2021-11-17T21:37:27.785675Z",
     "iopub.status.busy": "2021-11-17T21:37:27.785337Z",
     "iopub.status.idle": "2021-11-17T21:37:27.794367Z",
     "shell.execute_reply": "2021-11-17T21:37:27.793392Z",
     "shell.execute_reply.started": "2021-11-17T21:37:27.785646Z"
    }
   },
   "outputs": [],
   "source": [
    "# from keras import backend as K \n",
    "K.clear_session()"
   ]
  },
  {
   "cell_type": "code",
   "execution_count": 252,
   "metadata": {
    "execution": {
     "iopub.execute_input": "2021-11-17T21:37:41.467028Z",
     "iopub.status.busy": "2021-11-17T21:37:41.466732Z",
     "iopub.status.idle": "2021-11-17T21:37:41.533066Z",
     "shell.execute_reply": "2021-11-17T21:37:41.532337Z",
     "shell.execute_reply.started": "2021-11-17T21:37:41.467000Z"
    }
   },
   "outputs": [],
   "source": [
    "#строим нейросеть для анализа табличных данных\n",
    "tabular_model = Sequential([\n",
    "    L.Input(shape = X.shape[1]),\n",
    "    L.Dense(512, activation = 'sigmoid'),  # изменим функцию активации\n",
    "    L.LayerNormalization(),\n",
    "    L.Dropout(0.5),\n",
    "#     L.Dense(256, activation = 'relu'),\n",
    "    L.Dense(256, activation = 'relu'),\n",
    "    L.Dropout(0.5),\n",
    "    ])"
   ]
  },
  {
   "cell_type": "code",
   "execution_count": 253,
   "metadata": {
    "execution": {
     "iopub.execute_input": "2021-11-17T21:38:27.979992Z",
     "iopub.status.busy": "2021-11-17T21:38:27.979619Z",
     "iopub.status.idle": "2021-11-17T21:38:28.503258Z",
     "shell.execute_reply": "2021-11-17T21:38:28.502511Z",
     "shell.execute_reply.started": "2021-11-17T21:38:27.979958Z"
    }
   },
   "outputs": [],
   "source": [
    "# NLP\n",
    "nlp_model = Sequential([\n",
    "    L.Input(shape=MAX_SEQUENCE_LENGTH, name=\"seq_description\"),\n",
    "    L.Embedding(len(tokenize.word_index)+1, MAX_SEQUENCE_LENGTH,),\n",
    "    L.LayerNormalization(),\n",
    "    L.LSTM(256, return_sequences=True),\n",
    "    L.Dropout(0.5),\n",
    "    L.Dense(128, activation = 'sigmoid'),\n",
    "    L.Dropout(0.5),\n",
    "    L.LSTM(64),\n",
    "    L.Dropout(0.25),\n",
    "    L.Dense(64),\n",
    "    L.Dropout(0.5)\n",
    "    ])"
   ]
  },
  {
   "cell_type": "code",
   "execution_count": 257,
   "metadata": {
    "_kg_hide-output": true,
    "collapsed": true,
    "execution": {
     "iopub.execute_input": "2021-11-17T21:39:33.589715Z",
     "iopub.status.busy": "2021-11-17T21:39:33.589387Z",
     "iopub.status.idle": "2021-11-17T21:39:34.471900Z",
     "shell.execute_reply": "2021-11-17T21:39:34.470868Z",
     "shell.execute_reply.started": "2021-11-17T21:39:33.589684Z"
    },
    "jupyter": {
     "outputs_hidden": true
    }
   },
   "outputs": [],
   "source": [
    "# объединяем выходы трех нейросетей\n",
    "combinedInput = L.concatenate(\n",
    "    [efficientnet_output, tabular_model.output, nlp_model.output])\n",
    "\n",
    "# being our regression head\n",
    "head = L.Dense(256, activation=\"relu\")(combinedInput)\n",
    "head = L.Dense(1,)(head)\n",
    "\n",
    "model = Model(inputs=[efficientnet_model.input,\n",
    "                      tabular_model.input, nlp_model.input], outputs=head)\n",
    "model.summary()"
   ]
  },
  {
   "cell_type": "code",
   "execution_count": 258,
   "metadata": {
    "execution": {
     "iopub.execute_input": "2021-11-17T21:39:44.454433Z",
     "iopub.status.busy": "2021-11-17T21:39:44.454033Z",
     "iopub.status.idle": "2021-11-17T21:39:44.485252Z",
     "shell.execute_reply": "2021-11-17T21:39:44.484515Z",
     "shell.execute_reply.started": "2021-11-17T21:39:44.454401Z"
    }
   },
   "outputs": [],
   "source": [
    "optimizer = tf.keras.optimizers.Adam(0.005)\n",
    "model.compile(loss='MAPE',optimizer=optimizer, metrics=['MAPE'])"
   ]
  },
  {
   "cell_type": "markdown",
   "metadata": {},
   "source": [
    "попробуем использовать ExponentialDecay для управления learning rate"
   ]
  },
  {
   "cell_type": "code",
   "execution_count": 259,
   "metadata": {
    "execution": {
     "iopub.execute_input": "2021-11-17T21:39:49.895460Z",
     "iopub.status.busy": "2021-11-17T21:39:49.895100Z",
     "iopub.status.idle": "2021-11-17T21:39:49.900341Z",
     "shell.execute_reply": "2021-11-17T21:39:49.899346Z",
     "shell.execute_reply.started": "2021-11-17T21:39:49.895430Z"
    }
   },
   "outputs": [],
   "source": [
    "from keras.callbacks import LearningRateScheduler\n",
    "from tensorflow.keras.callbacks import *\n",
    "from tensorflow.keras.optimizers.schedules import *"
   ]
  },
  {
   "cell_type": "code",
   "execution_count": 260,
   "metadata": {
    "execution": {
     "iopub.execute_input": "2021-11-17T21:39:50.330204Z",
     "iopub.status.busy": "2021-11-17T21:39:50.329884Z",
     "iopub.status.idle": "2021-11-17T21:39:50.336186Z",
     "shell.execute_reply": "2021-11-17T21:39:50.335126Z",
     "shell.execute_reply.started": "2021-11-17T21:39:50.330175Z"
    }
   },
   "outputs": [],
   "source": [
    "initial_learning_rate = 0.1\n",
    "lr_schedule = tf.keras.optimizers.schedules.ExponentialDecay(\n",
    "    initial_learning_rate, decay_steps=100, decay_rate=0.9)"
   ]
  },
  {
   "cell_type": "code",
   "execution_count": 261,
   "metadata": {
    "execution": {
     "iopub.execute_input": "2021-11-17T21:39:52.092161Z",
     "iopub.status.busy": "2021-11-17T21:39:52.091819Z",
     "iopub.status.idle": "2021-11-17T21:39:52.098562Z",
     "shell.execute_reply": "2021-11-17T21:39:52.096634Z",
     "shell.execute_reply.started": "2021-11-17T21:39:52.092112Z"
    }
   },
   "outputs": [],
   "source": [
    "checkpoint = ModelCheckpoint(\n",
    "    '../working/best_model.hdf5', monitor='val_MAPE', save_best_only=True, verbose=0, mode='min')\n",
    "earlystop = EarlyStopping(\n",
    "    monitor='val_MAPE', patience=10, restore_best_weights=True,)\n",
    "callbacks_list = [checkpoint, earlystop]"
   ]
  },
  {
   "cell_type": "code",
   "execution_count": null,
   "metadata": {
    "_kg_hide-output": true,
    "execution": {
     "iopub.execute_input": "2021-11-17T21:39:52.552719Z",
     "iopub.status.busy": "2021-11-17T21:39:52.552437Z"
    }
   },
   "outputs": [],
   "source": [
    "history = model.fit(train_dataset.batch(30),\n",
    "                    epochs=100,\n",
    "                    validation_data = test_dataset.batch(30),\n",
    "                    callbacks=callbacks_list\n",
    "                   )"
   ]
  },
  {
   "cell_type": "code",
   "execution_count": null,
   "metadata": {},
   "outputs": [],
   "source": [
    "plt.title('Loss')\n",
    "plt.plot(history.history['MAPE'], label='train')\n",
    "plt.plot(history.history['val_MAPE'], label='test')\n",
    "plt.show();"
   ]
  },
  {
   "cell_type": "code",
   "execution_count": null,
   "metadata": {},
   "outputs": [],
   "source": [
    "model.load_weights('../working/best_model.hdf5')\n",
    "model.save('../working/nn_final.hdf5')"
   ]
  },
  {
   "cell_type": "code",
   "execution_count": null,
   "metadata": {},
   "outputs": [],
   "source": [
    "test_predict_nn3 = model.predict(test_dataset.batch(30))\n",
    "print(f\"TEST mape: {(mape(y_test, test_predict_nn3[:,0]))*100:0.2f}%\")"
   ]
  },
  {
   "cell_type": "markdown",
   "metadata": {},
   "source": [
    "MAPE B3: 10,82\n",
    "\n",
    "MAPE B7: 10,9"
   ]
  },
  {
   "cell_type": "code",
   "execution_count": 239,
   "metadata": {
    "execution": {
     "iopub.execute_input": "2021-11-17T21:34:09.408686Z",
     "iopub.status.busy": "2021-11-17T21:34:09.408323Z",
     "iopub.status.idle": "2021-11-17T21:34:15.918425Z",
     "shell.execute_reply": "2021-11-17T21:34:15.917584Z",
     "shell.execute_reply.started": "2021-11-17T21:34:09.408657Z"
    }
   },
   "outputs": [],
   "source": [
    "sub_predict_nn3 = model.predict(sub_dataset.batch(30))\n",
    "sample_submission['price'] = sub_predict_nn3[:,0]\n",
    "sample_submission.to_csv('nn3_submission.csv', index=False)"
   ]
  },
  {
   "cell_type": "markdown",
   "metadata": {},
   "source": [
    "# Blend"
   ]
  },
  {
   "cell_type": "code",
   "execution_count": 240,
   "metadata": {
    "execution": {
     "iopub.execute_input": "2021-11-17T21:34:31.238229Z",
     "iopub.status.busy": "2021-11-17T21:34:31.237870Z",
     "iopub.status.idle": "2021-11-17T21:34:31.244471Z",
     "shell.execute_reply": "2021-11-17T21:34:31.243518Z",
     "shell.execute_reply.started": "2021-11-17T21:34:31.238196Z"
    }
   },
   "outputs": [],
   "source": [
    "blend_predict = (test_predict_catboost +\n",
    "                 test_predict_nn1[:, 0] + test_predict_nn3[:, 0]) / 3\n",
    "print(f\"TEST mape: {(mape(y_test, blend_predict))*100:0.2f}%\")"
   ]
  },
  {
   "cell_type": "code",
   "execution_count": 241,
   "metadata": {
    "execution": {
     "iopub.execute_input": "2021-11-17T21:35:45.429491Z",
     "iopub.status.busy": "2021-11-17T21:35:45.429084Z",
     "iopub.status.idle": "2021-11-17T21:35:45.445332Z",
     "shell.execute_reply": "2021-11-17T21:35:45.444498Z",
     "shell.execute_reply.started": "2021-11-17T21:35:45.429461Z"
    }
   },
   "outputs": [],
   "source": [
    "blend_sub_predict = (sub_predict_catboost +\n",
    "                     sub_predict_nn1[:, 0] + sub_predict_nn3[:, 0]) / 3\n",
    "sample_submission['price'] = blend_sub_predict\n",
    "sample_submission.to_csv('blend_submission.csv', index=False)"
   ]
  },
  {
   "cell_type": "markdown",
   "metadata": {},
   "source": [
    "# Выводы:\n",
    "\n",
    "Проведена вся необходимая работа по подготовке данных, их анализ, обработка и подготовка для дальнейшей работы. Датасет очищен от дубликатов и выбросов, выполнена нормализация, использовались классические методы кодирования категориальных признаков. Подготовлены дополнительные признаки. По итогам анализа, часть признаков, в том числе на основе анализа корреляции, удалена.\n",
    "Использовались классические методы обработки языка. В модели применялась токенизация и лемматизация.\n",
    "При работе с изображениями использовался собственный код аугментации на основе библиотеки albumentation. Были проведены эксперименты с другими типовыми моделями EfficientNet, часть из которых приводила к переобучению.\n",
    "По итогам блендирования удалось достичь хороших результатов метрики 10,81. Что на данный момент соответствует 13 месту в лидерборде.\n"
   ]
  },
  {
   "cell_type": "markdown",
   "metadata": {},
   "source": [
    "# Model Bonus: проброс признака\n",
    "не использовалось"
   ]
  },
  {
   "cell_type": "markdown",
   "metadata": {
    "execution": {
     "iopub.execute_input": "2021-10-22T22:37:58.405936Z",
     "iopub.status.busy": "2021-10-22T22:37:58.405673Z",
     "iopub.status.idle": "2021-10-22T22:37:58.451215Z",
     "shell.execute_reply": "2021-10-22T22:37:58.450568Z",
     "shell.execute_reply.started": "2021-10-22T22:37:58.405912Z"
    }
   },
   "source": [
    "# MLP\n",
    "model_mlp = Sequential()\n",
    "model_mlp.add(L.Dense(512, input_dim=X_train.shape[1], activation=\"relu\"))\n",
    "model_mlp.add(L.Dropout(0.5))\n",
    "model_mlp.add(L.Dense(256, activation=\"relu\"))\n",
    "model_mlp.add(L.Dropout(0.5))"
   ]
  },
  {
   "cell_type": "markdown",
   "metadata": {
    "execution": {
     "iopub.status.busy": "2021-10-22T20:01:23.693263Z",
     "iopub.status.idle": "2021-10-22T20:01:23.694106Z"
    }
   },
   "source": [
    "# FEATURE Input\n",
    "# Iput\n",
    "productiondate = L.Input(shape=[1], name=\"productiondate\")\n",
    "# Embeddings layers\n",
    "emb_productiondate = L.Embedding(len(X.productionDate.unique().tolist())+1, 20)(productiondate)\n",
    "f_productiondate = L.Flatten()(emb_productiondate)"
   ]
  },
  {
   "cell_type": "markdown",
   "metadata": {
    "execution": {
     "iopub.status.busy": "2021-10-22T20:01:23.695324Z",
     "iopub.status.idle": "2021-10-22T20:01:23.696149Z"
    }
   },
   "source": [
    "combinedInput = L.concatenate([model_mlp.output, f_productiondate,])\n",
    "# being our regression head\n",
    "head = L.Dense(64, activation=\"relu\")(combinedInput)\n",
    "head = L.Dense(1, activation=\"linear\")(head)\n",
    "\n",
    "model = Model(inputs=[model_mlp.input, productiondate], outputs=head)"
   ]
  },
  {
   "cell_type": "markdown",
   "metadata": {
    "_kg_hide-output": true,
    "execution": {
     "iopub.status.busy": "2021-10-22T20:01:23.697364Z",
     "iopub.status.idle": "2021-10-22T20:01:23.698192Z"
    }
   },
   "source": [
    "model.summary()"
   ]
  },
  {
   "cell_type": "markdown",
   "metadata": {
    "execution": {
     "iopub.status.busy": "2021-10-22T20:01:23.699401Z",
     "iopub.status.idle": "2021-10-22T20:01:23.700222Z"
    }
   },
   "source": [
    "optimizer = tf.keras.optimizers.Adam(0.01)\n",
    "model.compile(loss='MAPE',optimizer=optimizer, metrics=['MAPE'])"
   ]
  },
  {
   "cell_type": "markdown",
   "metadata": {
    "execution": {
     "iopub.status.busy": "2021-10-22T20:01:23.701463Z",
     "iopub.status.idle": "2021-10-22T20:01:23.702282Z"
    }
   },
   "source": [
    "history = model.fit([X_train, X_train.productionDate.values], y_train,\n",
    "                    batch_size=512,\n",
    "                    epochs=500, # фактически мы обучаем пока EarlyStopping не остановит обучение\n",
    "                    validation_data=([X_test, X_test.productionDate.values], y_test),\n",
    "                    callbacks=callbacks_list\n",
    "                   )"
   ]
  },
  {
   "cell_type": "markdown",
   "metadata": {
    "execution": {
     "iopub.status.busy": "2021-10-22T20:01:23.703503Z",
     "iopub.status.idle": "2021-10-22T20:01:23.704336Z"
    }
   },
   "source": [
    "model.load_weights('../working/best_model.hdf5')\n",
    "test_predict_nn_bonus = model.predict([X_test, X_test.productionDate.values])\n",
    "print(f\"TEST mape: {(mape(y_test, test_predict_nn_bonus[:,0]))*100:0.2f}%\")"
   ]
  }
 ],
 "metadata": {
  "kernelspec": {
   "display_name": "Python 3",
   "language": "python",
   "name": "python3"
  },
  "language_info": {
   "codemirror_mode": {
    "name": "ipython",
    "version": 3
   },
   "file_extension": ".py",
   "mimetype": "text/x-python",
   "name": "python",
   "nbconvert_exporter": "python",
   "pygments_lexer": "ipython3",
   "version": "3.8.8"
  },
  "varInspector": {
   "cols": {
    "lenName": 16,
    "lenType": 16,
    "lenVar": 40
   },
   "kernels_config": {
    "python": {
     "delete_cmd_postfix": "",
     "delete_cmd_prefix": "del ",
     "library": "var_list.py",
     "varRefreshCmd": "print(var_dic_list())"
    },
    "r": {
     "delete_cmd_postfix": ") ",
     "delete_cmd_prefix": "rm(",
     "library": "var_list.r",
     "varRefreshCmd": "cat(var_dic_list()) "
    }
   },
   "types_to_exclude": [
    "module",
    "function",
    "builtin_function_or_method",
    "instance",
    "_Feature"
   ],
   "window_display": false
  }
 },
 "nbformat": 4,
 "nbformat_minor": 4
}
